{
 "cells": [
  {
   "cell_type": "markdown",
   "metadata": {},
   "source": [
    "### Let's Take a Look: Sorting"
   ]
  },
  {
   "cell_type": "code",
   "execution_count": 1,
   "metadata": {
    "collapsed": false
   },
   "outputs": [
    {
     "name": "stdout",
     "output_type": "stream",
     "text": [
      "[6, 90, 44, 55, 74, 35, 4, 21, 9, 73]\n",
      "[4, 6, 9, 21, 35, 44, 55, 73, 74, 90]\n"
     ]
    }
   ],
   "source": [
    "def selection_sort(myList):\n",
    "    #Create an empty list to hold sorted values\n",
    "    sortedList = []\n",
    "    #Iterate through unsorted list until it is empty\n",
    "    while myList:\n",
    "        #Find the minimum value in the unsorted list\n",
    "        minValue = find_min(myList)\n",
    "        #Add the minimum value to the sorted list\n",
    "        sortedList.append(minValue)\n",
    "        #Remove the minimum value from the unsorted list\n",
    "        myList.remove(minValue)\n",
    "    #Return the sorted list to the user\n",
    "    return sortedList\n",
    "\n",
    "def find_min(myList):\n",
    "    #Start by arbitrarily choosing a value to make comparisons\n",
    "    minimum = myList[0]\n",
    "    #Iterate through list\n",
    "    for number in myList:\n",
    "        #Re-initialize the minimum if number is less\n",
    "        if number < minimum:\n",
    "            minimum = number\n",
    "    #Return the minimum\n",
    "    return minimum\n",
    "    \n",
    "import random as rd\n",
    "unsorted = [rd.randint(1,100) for x in range(10)]\n",
    "print unsorted\n",
    "print selection_sort(unsorted)"
   ]
  },
  {
   "cell_type": "markdown",
   "metadata": {},
   "source": [
    "#### Problem 1: Find each number between 100 and 3200 that is divisible by 7 but not by 5"
   ]
  },
  {
   "cell_type": "code",
   "execution_count": 2,
   "metadata": {
    "collapsed": false
   },
   "outputs": [
    {
     "name": "stdout",
     "output_type": "stream",
     "text": [
      "[112, 119, 126, 133, 147, 154, 161, 168, 182, 189]\n",
      "[112, 119, 126, 133, 147, 154, 161, 168, 182, 189]\n"
     ]
    }
   ],
   "source": [
    "numbers = []\n",
    "for i in range(100,3200):\n",
    "    #Recall that i%7 should return 0 (or Boolean False)\n",
    "    #Also i%5 should be greater than 0, so it equates to Boolean True\n",
    "    if not i%7 and i%5:\n",
    "        numbers.append(i)\n",
    "print numbers[:10]\n",
    "        \n",
    "#As a list comprehension\n",
    "numbers2 = [i for i in range(100,3200) if not i%7 and i%5]\n",
    "print numbers2[:10]"
   ]
  },
  {
   "cell_type": "markdown",
   "metadata": {},
   "source": [
    "#### Problem 2: Find each number between 1000 and 3000 which is composed only of even digits (2,4,6,8)"
   ]
  },
  {
   "cell_type": "code",
   "execution_count": 3,
   "metadata": {
    "collapsed": false
   },
   "outputs": [
    {
     "name": "stdout",
     "output_type": "stream",
     "text": [
      "[2222, 2224, 2226, 2228, 2242, 2244, 2246, 2248, 2262, 2264, 2266, 2268, 2282, 2284, 2286, 2288, 2422, 2424, 2426, 2428]\n"
     ]
    }
   ],
   "source": [
    "evens = []\n",
    "for i in range(1000,3000):\n",
    "    numString = str(i)\n",
    "    for char in numString:\n",
    "        if int(char) not in [2,4,6,8]:\n",
    "            break\n",
    "    else:\n",
    "        evens.append(i)\n",
    "\n",
    "print evens[:20]"
   ]
  },
  {
   "cell_type": "markdown",
   "metadata": {},
   "source": [
    "#### Problem 3: Simulate a dice-roll with a six-sided die using the result of three coin-flips"
   ]
  },
  {
   "cell_type": "code",
   "execution_count": 4,
   "metadata": {
    "collapsed": false
   },
   "outputs": [
    {
     "name": "stdout",
     "output_type": "stream",
     "text": [
      "[1, 4, 5, 1, 6, 3, 2, 1, 1]\n"
     ]
    }
   ],
   "source": [
    "results = {'000':1,\n",
    "           '001':2,\n",
    "           '010':3,\n",
    "           '011':4,\n",
    "           '100':5,\n",
    "           '101':6}\n",
    "\n",
    "def simulate_dice_rolls(num):\n",
    "    dice_rolls = []\n",
    "    i = 0\n",
    "    while len(dice_rolls) < num:\n",
    "        coin_flips = \"\".join(flip_coins(3))\n",
    "        if coin_flips in results.keys():\n",
    "            dice_rolls.append(results[coin_flips])\n",
    "    return dice_rolls\n",
    "\n",
    "def flip_coins(num):\n",
    "    return [str(rd.randint(0,1)) for x in range(num)]\n",
    "\n",
    "print simulate_dice_rolls(9)"
   ]
  },
  {
   "cell_type": "markdown",
   "metadata": {},
   "source": [
    "### Let's Take a Look: Recursion"
   ]
  },
  {
   "cell_type": "code",
   "execution_count": 5,
   "metadata": {
    "collapsed": false
   },
   "outputs": [
    {
     "name": "stdout",
     "output_type": "stream",
     "text": [
      "[1, 2, 6, 24, 120, 720, 5040, 40320, 362880, 3628800]\n",
      "[1, 2, 6, 24, 120, 720, 5040, 40320, 362880, 3628800]\n"
     ]
    }
   ],
   "source": [
    "def factorial(n):\n",
    "    f = n\n",
    "    while n > 1:\n",
    "        n = n - 1\n",
    "        f = f * n\n",
    "    return f\n",
    "\n",
    "def rec_factorial(n):\n",
    "    if n == 0:\n",
    "        return 1\n",
    "    return n*rec_factorial(n-1)\n",
    "\n",
    "print [factorial(i+1) for i in range(10)]\n",
    "print [rec_factorial(i+1) for i in range(10)]"
   ]
  },
  {
   "cell_type": "code",
   "execution_count": 6,
   "metadata": {
    "collapsed": false
   },
   "outputs": [
    {
     "name": "stdout",
     "output_type": "stream",
     "text": [
      "gubenuj gubenuj\n"
     ]
    }
   ],
   "source": [
    "def reverse_string(word):\n",
    "    word = list(word)\n",
    "    for i in range(len(word)/2):\n",
    "        first_char = word[i]\n",
    "        second_char = word[-(i+1)]\n",
    "        word[i] = second_char\n",
    "        word[-(i+1)] = first_char\n",
    "    return \"\".join(word)\n",
    "\n",
    "def rec_reverse(word):\n",
    "    if not word:\n",
    "        return word\n",
    "    return rec_reverse(word[1:]) + word[0]\n",
    "\n",
    "print reverse_string(\"junebug\"), rec_reverse(\"junebug\")"
   ]
  },
  {
   "cell_type": "code",
   "execution_count": 7,
   "metadata": {
    "collapsed": false
   },
   "outputs": [
    {
     "name": "stdout",
     "output_type": "stream",
     "text": [
      "[1, 1, 1, 2, 3, 5, 8, 13, 21, 34]\n",
      "[1, 1, 1, 2, 3, 5, 8, 13, 21, 34]\n"
     ]
    }
   ],
   "source": [
    "def fibonacci(n):\n",
    "    fibList = [1,1]\n",
    "    while len(fibList) < n:\n",
    "        fibList.append(fibList[-1] + fibList[-2])\n",
    "    return fibList[-1]\n",
    "\n",
    "def rec_fibonacci(n):\n",
    "    if n <= 2:\n",
    "        return 1\n",
    "    return rec_fibonacci(n-1) + rec_fibonacci(n-2)\n",
    "\n",
    "print [fibonacci(x) for x in range(10)]\n",
    "print [rec_fibonacci(x) for x in range(10)]"
   ]
  },
  {
   "cell_type": "markdown",
   "metadata": {},
   "source": [
    "### Additional Bits and Pieces"
   ]
  },
  {
   "cell_type": "code",
   "execution_count": 8,
   "metadata": {
    "collapsed": false
   },
   "outputs": [
    {
     "name": "stdout",
     "output_type": "stream",
     "text": [
      "1000 loops, best of 3: 347 µs per loop\n"
     ]
    }
   ],
   "source": [
    "#Using the timeit library to time our processes\n",
    "%timeit selection_sort([rd.randint(1,100) for x in range(100)])"
   ]
  },
  {
   "cell_type": "code",
   "execution_count": 9,
   "metadata": {
    "collapsed": false
   },
   "outputs": [
    {
     "name": "stdout",
     "output_type": "stream",
     "text": [
      "0.032735824585\n"
     ]
    }
   ],
   "source": [
    "#Using timeit outside of ipython notebook\n",
    "import timeit as tt\n",
    "print tt.timeit(\"selection_sort([rd.randint(1,100) for x in range(10)])\",setup=\"from __main__ import selection_sort; import random as rd\",number=1000)"
   ]
  },
  {
   "cell_type": "code",
   "execution_count": 10,
   "metadata": {
    "collapsed": false
   },
   "outputs": [],
   "source": [
    "#Quicksort implementation\n",
    "def quick_sort(myList, start, end):\n",
    "    if start < end:\n",
    "        pivot = partition(myList, start, end)\n",
    "        quick_sort(myList, start, pivot-1)\n",
    "        quick_sort(myList, pivot+1, end)\n",
    "    return myList\n",
    "\n",
    "def partition(myList, start, end):\n",
    "    pivot = myList[start]\n",
    "    left = start+1\n",
    "    right = end\n",
    "    done = False\n",
    "    while not done:\n",
    "        while left <= right and myList[left] <= pivot:\n",
    "            left += 1\n",
    "        while myList[right] >= pivot and right >= left:\n",
    "            right -= 1\n",
    "        if right < left:\n",
    "            done = True\n",
    "        else:\n",
    "            temp = myList[left]\n",
    "            myList[left] = myList[right]\n",
    "            myList[right] = temp\n",
    "    temp = myList[start]\n",
    "    myList[start] = myList[right]\n",
    "    myList[right] = temp\n",
    "    return right"
   ]
  },
  {
   "cell_type": "code",
   "execution_count": 11,
   "metadata": {
    "collapsed": false
   },
   "outputs": [],
   "source": [
    "#Bubblesort implementation\n",
    "def bubble_sort(myList):\n",
    "    while not is_sorted(myList):\n",
    "        for i,_ in enumerate(myList):\n",
    "            first_bubble = myList[i]\n",
    "            try:\n",
    "                second_bubble = myList[i+1]\n",
    "            except IndexError:\n",
    "                continue\n",
    "            if first_bubble > second_bubble:\n",
    "                myList[i+1] = first_bubble\n",
    "                myList[i] = second_bubble\n",
    "    return myList\n",
    "\n",
    "def is_sorted(myList):\n",
    "    for i,_ in enumerate(myList):\n",
    "        a = myList[i]\n",
    "        try:\n",
    "            b = myList[i+1]\n",
    "        except IndexError:\n",
    "            return True\n",
    "        if a > b:\n",
    "            return False\n",
    "    return True"
   ]
  }
 ],
 "metadata": {
  "kernelspec": {
   "display_name": "Python 3",
   "language": "python",
   "name": "python3"
  },
  "language_info": {
   "codemirror_mode": {
    "name": "ipython",
    "version": 3
   },
   "file_extension": ".py",
   "mimetype": "text/x-python",
   "name": "python",
   "nbconvert_exporter": "python",
   "pygments_lexer": "ipython3",
   "version": "3.4.3"
  }
 },
 "nbformat": 4,
 "nbformat_minor": 0
}
