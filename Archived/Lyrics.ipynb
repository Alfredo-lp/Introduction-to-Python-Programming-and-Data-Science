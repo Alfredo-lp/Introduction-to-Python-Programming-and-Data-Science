{
 "cells": [
  {
   "cell_type": "markdown",
   "metadata": {},
   "source": [
    "# Lyrics analysis project\n",
    "\n",
    "We downloaded the lyrics to all songs of the new U2 album!\n",
    "\n",
    "They are located in `Bootcamp/ProjectData/` as individual html files.\n",
    "\n",
    "Your job is to create a function `get_song_lyrics` that opens a file with the lyrics from a song\n",
    "and then extracts the text from that file. You should be able to do this for all songs in that folder."
   ]
  },
  {
   "cell_type": "code",
   "execution_count": null,
   "metadata": {
    "collapsed": false
   },
   "outputs": [],
   "source": [
    "import glob\n",
    "\n",
    "import bs4"
   ]
  },
  {
   "cell_type": "code",
   "execution_count": null,
   "metadata": {
    "collapsed": false
   },
   "outputs": [],
   "source": [
    "def get_song_lyrics(lyrics_filename):\n",
    "    \"\"\"\n",
    "    Given a song's lyrics file, parses it using Beautiful Soup,\n",
    "    and returns the lyrics as a tuple:\n",
    "    (song title, song lyrics)\n",
    "    \"\"\"\n",
    "    # We can create the soup from a saved html file as well\n",
    "    with open(lyrics_filename, \"r\") as lyrics_file:\n",
    "        soup = bs4.BeautifulSoup(lyrics_file.read())\n",
    "\n",
    "    #\n",
    "    # What's next?\n",
    "    #"
   ]
  },
  {
   "cell_type": "code",
   "execution_count": null,
   "metadata": {
    "collapsed": false
   },
   "outputs": [],
   "source": [
    "# Now iterate through all html files in the folder\n",
    "# and call the function for each one of them\n",
    "\n",
    "# Hint: the import statements in the first cell should remind you how to\n",
    "# grab all files in a folder"
   ]
  }
 ],
 "metadata": {
  "kernelspec": {
   "display_name": "Python 3",
   "language": "python",
   "name": "python3"
  },
  "language_info": {
   "codemirror_mode": {
    "name": "ipython",
    "version": 3
   },
   "file_extension": ".py",
   "mimetype": "text/x-python",
   "name": "python",
   "nbconvert_exporter": "python",
   "pygments_lexer": "ipython3",
   "version": "3.4.3"
  }
 },
 "nbformat": 4,
 "nbformat_minor": 0
}
