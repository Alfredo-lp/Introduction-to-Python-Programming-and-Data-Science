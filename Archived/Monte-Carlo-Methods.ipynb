{
 "cells": [
  {
   "cell_type": "code",
   "execution_count": 27,
   "metadata": {
    "collapsed": false
   },
   "outputs": [
    {
     "name": "stdout",
     "output_type": "stream",
     "text": [
      "6 [1, 2, 3, 4, 5, 6]\n",
      "\n",
      "52 ['2 Clubs', '2 Diamonds', '2 Hearts', '2 Spades', '3 Clubs', '3 Diamonds', '3 Hearts', '3 Spades', '4 Clubs', '4 Diamonds', '4 Hearts', '4 Spades', '5 Clubs', '5 Diamonds', '5 Hearts', '5 Spades', '6 Clubs', '6 Diamonds', '6 Hearts', '6 Spades', '7 Clubs', '7 Diamonds', '7 Hearts', '7 Spades', '8 Clubs', '8 Diamonds', '8 Hearts', '8 Spades', '9 Clubs', '9 Diamonds', '9 Hearts', '9 Spades', '10 Clubs', '10 Diamonds', '10 Hearts', '10 Spades', 'Jack Clubs', 'Jack Diamonds', 'Jack Hearts', 'Jack Spades', 'Queen Clubs', 'Queen Diamonds', 'Queen Hearts', 'Queen Spades', 'King Clubs', 'King Diamonds', 'King Hearts', 'King Spades', 'Ace Clubs', 'Ace Diamonds', 'Ace Hearts', 'Ace Spades']\n"
     ]
    }
   ],
   "source": [
    "import math\n",
    "\n",
    "# Playing games of chance\n",
    "\n",
    "# Define outcomes of play\n",
    "one_die = range(1, 7)\n",
    "\n",
    "cards = []\n",
    "card_values = ['2', '3', '4', '5', '6', '7', '8', '9', '10', \n",
    "               'Jack', 'Queen', 'King', 'Ace']\n",
    "suites = ['Clubs', 'Diamonds', 'Hearts', 'Spades']\n",
    "for value in card_values:\n",
    "    for suit in suites:\n",
    "        cards.append(value + \" \" + suit)\n",
    "\n",
    "        \n",
    "no_one_die = len(one_die)\n",
    "no_cards = len(cards)\n",
    "\n",
    "print no_one_die, one_die\n",
    "print\n",
    "print no_cards, cards"
   ]
  },
  {
   "cell_type": "code",
   "execution_count": 32,
   "metadata": {
    "collapsed": false
   },
   "outputs": [
    {
     "name": "stdout",
     "output_type": "stream",
     "text": [
      "16\n",
      "4481381406320\n"
     ]
    }
   ],
   "source": [
    "#How many possibilities\n",
    "def number_states_dice(n, no_one_die = 6):\n",
    "    \"\"\" Returns number of possible sums for n dice\"\"\" \n",
    "    return 6*n - (n-1)\n",
    "\n",
    "def number_states_cards(n, no_cards = 52):\n",
    "    \"\"\" Returns number of possible hands of n cards from a single deck\"\"\" \n",
    "    number = 1\n",
    "    for i in range(no_cards, no_cards-n, -1):\n",
    "        number *= i\n",
    "    return number / math.factorial(n)\n",
    "\n",
    "\n",
    "print number_states_dice(3)\n",
    "print number_states_cards(15)"
   ]
  },
  {
   "cell_type": "code",
   "execution_count": 62,
   "metadata": {
    "collapsed": false
   },
   "outputs": [
    {
     "name": "stdout",
     "output_type": "stream",
     "text": [
      "0.1\n",
      "0.03\n",
      "0.058\n",
      "0.055917\n"
     ]
    }
   ],
   "source": [
    "import numpy as np\n",
    "\n",
    "def prob_of_outcome_tossing_n_dice(sum_dots, n, n_attempts = 1000):\n",
    "    \"\"\" Probability of the sum of the dots in n dice being sum_dots\"\"\"\n",
    "    count_successes = 0\n",
    "    for a in range(n_attempts):\n",
    "        # Toss dice\n",
    "        sum_temp = 0\n",
    "        for i in range(n):\n",
    "            sum_temp += np.random.randint(6) + 1\n",
    "        if sum_temp == sum_dots:\n",
    "            count_successes += 1\n",
    "    \n",
    "    return float(count_successes) / n_attempts\n",
    "\n",
    "print prob_of_outcome_tossing_n_dice(3, 2, 10)\n",
    "print prob_of_outcome_tossing_n_dice(3, 2, 100)\n",
    "print prob_of_outcome_tossing_n_dice(3, 2)\n",
    "print prob_of_outcome_tossing_n_dice(3, 2, 1000000)"
   ]
  },
  {
   "cell_type": "code",
   "execution_count": 83,
   "metadata": {
    "collapsed": false
   },
   "outputs": [
    {
     "name": "stdout",
     "output_type": "stream",
     "text": [
      "0.02248\n"
     ]
    },
    {
     "data": {
      "image/png": "[encoded data removed]",
      "text/plain": [
       "<matplotlib.figure.Figure at 0x1069b3bd0>"
      ]
     },
     "metadata": {},
     "output_type": "display_data"
    }
   ],
   "source": [
    "#0.055917 * 100\n",
    "Number_of_times_I_observed_3 = 11\n",
    "\n",
    "count_3s = []\n",
    "extreme = 0\n",
    "for i in range(50000):\n",
    "    outcome = 100 * prob_of_outcome_tossing_n_dice(3, 2, 100)\n",
    "    count_3s.append( outcome )\n",
    "    if outcome >= 11:\n",
    "        extreme += 1\n",
    "\n",
    "print extreme / float(50000)\n",
    "plt.hist(count_3s)\n",
    "plt.xlabel(\"Number of times with 3s\")\n",
    "plt.ylabel(\"Frequency\")\n",
    "\n",
    "plt.show()\n"
   ]
  },
  {
   "cell_type": "code",
   "execution_count": 65,
   "metadata": {
    "collapsed": false
   },
   "outputs": [
    {
     "name": "stdout",
     "output_type": "stream",
     "text": [
      "0.785398163397\n",
      "0.9\n"
     ]
    }
   ],
   "source": [
    "# Calculate pi by calculating area of quarter circle\n",
    "\n",
    "def estimate_pi(n_attempts = 10000):\n",
    "    \"\"\" Estimate pi from area of quarter circle \"\"\" \n",
    "    count_successes = 0\n",
    "    for i in range(n_attempts):\n",
    "        x_rand = np.random.random()\n",
    "        y_rand = np.random.random()\n",
    "        dist = math.sqrt( x_rand **2 + y_rand**2 )\n",
    "        if dist <= 1.:\n",
    "            count_successes += 1\n",
    "    return float(count_successes) / n_attempts\n",
    "\n",
    "\n",
    "print math.pi / 4.\n",
    "print estimate_pi(10)"
   ]
  },
  {
   "cell_type": "code",
   "execution_count": 70,
   "metadata": {
    "collapsed": false
   },
   "outputs": [
    {
     "data": {
      "image/png": "[encoded data removed]",
      "text/plain": [
       "<matplotlib.figure.Figure at 0x108d68fd0>"
      ]
     },
     "metadata": {},
     "output_type": "display_data"
    }
   ],
   "source": [
    "#%matplotlib inline\n",
    "import matplotlib.pyplot as plt\n",
    "\n",
    "# Calculate distribution of firing times of a model neuron\n",
    "\n",
    "def time_to_fire( threshold , lamb, scale_size):\n",
    "    \"\"\" Simulate distribution of times for neuron that sums\n",
    "    inputs and fires when sum exceeds threshold \"\"\"\n",
    "    state = 0.\n",
    "    time = 0.\n",
    "    while state < threshold: \n",
    "        # Update time\n",
    "        delay_between_inputs = np.random.poisson(lamb)\n",
    "        time += delay_between_inputs\n",
    "        \n",
    "        # Update state\n",
    "        size_of_input = scale_size * np.random.random()\n",
    "        state += size_of_input\n",
    "        \n",
    "    return time    \n",
    "\n",
    "# Initialize variables\n",
    "N_neurons = 10000\n",
    "threshold = 1.\n",
    "scale_size = 0.1\n",
    "lamb = 1.\n",
    "\n",
    "list_times = []\n",
    "for neuron in range(N_neurons):\n",
    "    list_times.append( time_to_fire( threshold , lamb, scale_size) )\n",
    "\n",
    "    \n",
    "#print list_times\n",
    "\n",
    "plt.hist(list_times, 30)\n",
    "plt.xlabel(\"Time to fire\")\n",
    "plt.ylabel(\"Frequency\")\n",
    "\n",
    "plt.show()\n"
   ]
  },
  {
   "cell_type": "code",
   "execution_count": null,
   "metadata": {
    "collapsed": false
   },
   "outputs": [],
   "source": []
  }
 ],
 "metadata": {
  "kernelspec": {
   "display_name": "Python 3",
   "language": "python",
   "name": "python3"
  },
  "language_info": {
   "codemirror_mode": {
    "name": "ipython",
    "version": 3
   },
   "file_extension": ".py",
   "mimetype": "text/x-python",
   "name": "python",
   "nbconvert_exporter": "python",
   "pygments_lexer": "ipython3",
   "version": "3.4.3"
  }
 },
 "nbformat": 4,
 "nbformat_minor": 0
}
