{
 "cells": [
  {
   "cell_type": "markdown",
   "metadata": {},
   "source": [
    "# Day 3 Homework\n",
    "\n",
    "Today we've covered functions.\n",
    "\n",
    "All of your answers need to have a function defined within the function we have provided. So for the first example, you will need to do something like this:\n",
    "\n",
    "    def fibonacci(n):\n",
    "        '''\n",
    "        input\n",
    "            n - int\n",
    "        output\n",
    "            fibonacci_seq - list\n",
    "        '''\n",
    "        \n",
    "        def my_fibonacci( you_figure_out_what_goes_here ):\n",
    "            '''\n",
    "            your_docstring\n",
    "            '''\n",
    "            your_code\n",
    "            return your_answer\n",
    "            \n",
    "       fibonacci_seq = my_fibonacci( )\n",
    "       return fibonacci_seq"
   ]
  },
  {
   "cell_type": "markdown",
   "metadata": {},
   "source": [
    "# Question 1. Functions - Fibonacci number\n",
    "\n",
    "Write a function that gives you a list of Fibonacci numbers. \n",
    "\n",
    "ex) fibonacci(6)\n",
    "\n",
    "[1, 1, 2, 3, 5, 8]"
   ]
  },
  {
   "cell_type": "code",
   "execution_count": null,
   "metadata": {
    "collapsed": true
   },
   "outputs": [],
   "source": [
    "def fibonacci(n):\n",
    "    \"\"\"\n",
    "    input \n",
    "        n - int, length of fibonacci numbers you want to produce, n>=2\n",
    "    output\n",
    "        fibonacci_seq - list, list of fibonacci numbers\n",
    "    \"\"\"\n",
    "    #Your code\n",
    "    \n",
    "    return fibonacci_seq"
   ]
  },
  {
   "cell_type": "code",
   "execution_count": null,
   "metadata": {
    "collapsed": true
   },
   "outputs": [],
   "source": [
    "#Use this cell to test your function\n",
    "\n"
   ]
  },
  {
   "cell_type": "markdown",
   "metadata": {},
   "source": [
    "# Question 2. Functions - Find digits\n",
    "Find the number of digits in an integer. \n",
    "\n",
    "ex) number_of_digits(346)\n",
    "\n",
    "3"
   ]
  },
  {
   "cell_type": "code",
   "execution_count": null,
   "metadata": {
    "collapsed": true
   },
   "outputs": [],
   "source": [
    "def number_of_digits(n):\n",
    "    \"\"\"\n",
    "    input\n",
    "        n - int, a number\n",
    "    output\n",
    "        digits - int, number of digits in the number\n",
    "    \"\"\"\n",
    "    #Your code\n",
    "    \n",
    "    return digits"
   ]
  },
  {
   "cell_type": "code",
   "execution_count": null,
   "metadata": {
    "collapsed": true
   },
   "outputs": [],
   "source": [
    "#Use this cell to test your function\n",
    "\n"
   ]
  },
  {
   "cell_type": "markdown",
   "metadata": {},
   "source": [
    "# Question 3. Functions - Area of a triangle\n",
    "Find the area of a triangle. \n",
    "\n",
    "Area of triangle: \n",
    "\n",
    "$\n",
    "Area = \\sqrt{(s \\times (s-a) \\times (s-b) \\times (s-c))} = (s \\times (s-a) \\times (s-b) \\times (s-c))^{0.5} \\\\\n",
    "s = \\frac{(a+b+c)}{2}\n",
    "$\n",
    "\n",
    "\n",
    "ex) area_of_triangle(4,5,3)\n",
    "\n",
    "6"
   ]
  },
  {
   "cell_type": "code",
   "execution_count": null,
   "metadata": {
    "collapsed": true
   },
   "outputs": [],
   "source": [
    "def area_of_triangle(a, b, c):\n",
    "    \"\"\"\n",
    "    input:\n",
    "        a, b, c - float, Three sides of the triangle\n",
    "    output: \n",
    "        area - float, The area of the triangle\n",
    "    note:\n",
    "        if a triangle cannot be formed (longest edge is longer than the sum of other edges),\n",
    "        raise ValueError\n",
    "    \"\"\"\n",
    "    #Your code\n",
    "    \n",
    "    return area"
   ]
  },
  {
   "cell_type": "code",
   "execution_count": null,
   "metadata": {
    "collapsed": true
   },
   "outputs": [],
   "source": [
    "#Use this cell to test your function\n",
    "\n"
   ]
  },
  {
   "cell_type": "markdown",
   "metadata": {},
   "source": [
    "# Question 4. Functions - Process all roster files\n",
    "\n",
    "Write a function that will process all of the roster files and find the tallest person.\n",
    "\n",
    "Remember to use some built-in standard library functions to make this easier."
   ]
  },
  {
   "cell_type": "code",
   "execution_count": null,
   "metadata": {
    "collapsed": true
   },
   "outputs": [],
   "source": [
    "def find_tallest_person_in_roster(path):\n",
    "    '''\n",
    "    input:\n",
    "        path - the directory that contains all of the roster files\n",
    "    output:\n",
    "        max_height - height of tallest person in the roster (in inches)\n",
    "    '''\n",
    "    \n",
    "    return max_height"
   ]
  },
  {
   "cell_type": "code",
   "execution_count": 1,
   "metadata": {
    "collapsed": true
   },
   "outputs": [],
   "source": [
    "# Use this cell to test your function\n",
    "\n",
    "\n"
   ]
  },
  {
   "cell_type": "code",
   "execution_count": null,
   "metadata": {
    "collapsed": true
   },
   "outputs": [],
   "source": []
  }
 ],
 "metadata": {
  "anaconda-cloud": {},
  "kernelspec": {
   "display_name": "Python [Root]",
   "language": "python",
   "name": "Python [Root]"
  },
  "language_info": {
   "codemirror_mode": {
    "name": "ipython",
    "version": 3
   },
   "file_extension": ".py",
   "mimetype": "text/x-python",
   "name": "python",
   "nbconvert_exporter": "python",
   "pygments_lexer": "ipython3",
   "version": "3.5.1"
  }
 },
 "nbformat": 4,
 "nbformat_minor": 0
}
