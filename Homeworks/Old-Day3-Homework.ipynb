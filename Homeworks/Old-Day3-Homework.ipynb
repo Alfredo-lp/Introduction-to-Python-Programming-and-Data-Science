{
 "cells": [
  {
   "cell_type": "markdown",
   "metadata": {},
   "source": [
    "# Day 3 Homework: The Standard Library and Plotting"
   ]
  },
  {
   "cell_type": "markdown",
   "metadata": {},
   "source": [
    "## Problems 1-3: The Standard Library\n",
    "\n",
    "### #1: How many seconds until the new year?\n",
    "\n",
    "Write a function with the name `seconds_until_new_year` that returns the number of seconds until the new year. Your function must continue to work next year (i.e. not return a negative value/time *since* the new year), so don't hard-code the time between now and Jan 1, 2016.\n",
    "\n",
    "Hints:\n",
    "\n",
    "* You can subtract `datetime` objects.\n",
    "* The `.total_seconds()` method is probably more useful than `.seconds`"
   ]
  },
  {
   "cell_type": "code",
   "execution_count": null,
   "metadata": {
    "collapsed": true
   },
   "outputs": [],
   "source": [
    "# imports"
   ]
  },
  {
   "cell_type": "code",
   "execution_count": null,
   "metadata": {
    "collapsed": false
   },
   "outputs": [],
   "source": [
    "def seconds_until_new_year():\n",
    "    # your code\n",
    "    ...\n"
   ]
  },
  {
   "cell_type": "markdown",
   "metadata": {},
   "source": [
    "### #2: Pick a random text file\n",
    "\n",
    "Write a function with the name `pick_random_txt` that will:\n",
    "\n",
    "1. Accept a file path as an argument. The file path might not include a trailing slash; make sure your function functions with or without it.\n",
    "2. Return the name of a random `txt` file within.\n",
    "\n",
    "There are a bunch of text files in `../Data/New-Roster` that you can test your function on."
   ]
  },
  {
   "cell_type": "code",
   "execution_count": null,
   "metadata": {
    "collapsed": true
   },
   "outputs": [],
   "source": [
    "# imports"
   ]
  },
  {
   "cell_type": "code",
   "execution_count": null,
   "metadata": {
    "collapsed": false
   },
   "outputs": [],
   "source": [
    "def pick_random_txt(path):\n",
    "    # your code\n",
    "    ...\n",
    "    \n",
    "    return filename"
   ]
  },
  {
   "cell_type": "markdown",
   "metadata": {},
   "source": [
    "### #3: Convert pickles to JSON\n",
    "\n",
    "[**Serialization**][wpserial] is the act of converting *structured* data in memory into a simple, (serial) sequence of bytes. The sequence can be given to arbitrary data handling software and hardware to store (i.e. to a file) or send (across the internet) that doesn't need to know anything about the logical structure.\n",
    "\n",
    "Python has two good standard libraries for serialization: `pickle` (Python-specific) and `json` (a cross-language format originally developed for JavaScript). Each has its advantages, but the major difference is that `pickle` is more complex, allowing it to easily serialize some objects that `json` can't, while because of its simplicity, `json` is safer, and widely supported by other programming languages. If the JSON format works for your application, try to use it. Out-of-the-box JSON will support dictionaries, lists, tuples (they're treated like lists), integers, floats, strings, booleans, and `None`.\n",
    "\n",
    "Nevertheless, in this scenario we have a bunch of pickle files (`*.pkl`) in a directory. We need to convert them into JSON files so we can send them to a collaborator that might be using C#, JavaScript, or MATLAB. **Write a function** that:\n",
    "\n",
    "* is named `convert_pickles_to_json` \n",
    "* takes a single argument: the path of the directory where the pickle files are (they end in `*.pkl`). \n",
    "* deserializes the pickle, then reserializes it as a JSON file with the `pkl` extension replaced by `json` (e.g. `gherkins_are_good.pkl` &rarr; `gherkins_are_good.json`)\n",
    "\n",
    "Example pickles are provided in `Data/Pickles`, along with a text file that you shouldn't touch.\n",
    "\n",
    "Hint: use the following functions (Google them to find documentation or examples using them):\n",
    "\n",
    "* `glob.iglob`\n",
    "* `json.dump`\n",
    "* `pickle.load`\n",
    "\n",
    "[wpserial]: https://en.wikipedia.org/wiki/Serialization"
   ]
  },
  {
   "cell_type": "code",
   "execution_count": null,
   "metadata": {
    "collapsed": true
   },
   "outputs": [],
   "source": [
    "# imports"
   ]
  },
  {
   "cell_type": "code",
   "execution_count": null,
   "metadata": {
    "collapsed": false
   },
   "outputs": [],
   "source": [
    "def convert_pickles_to_json(dirpath):\n",
    "    ..."
   ]
  },
  {
   "cell_type": "markdown",
   "metadata": {},
   "source": [
    "## Problems 4-6: Plotting with Matplotlib"
   ]
  },
  {
   "cell_type": "code",
   "execution_count": null,
   "metadata": {
    "collapsed": true
   },
   "outputs": [],
   "source": [
    "%matplotlib inline\n",
    "import matplotlib.pyplot as plt"
   ]
  },
  {
   "cell_type": "markdown",
   "metadata": {},
   "source": [
    "### #4: Plotting with some style\n",
    "\n",
    "Create a plot with the following features:\n",
    "\n",
    "1. Your figure and axes objects **must be named `f4` and `ax4`**, respectively (failing to do so will mean an instant 0 as the problem cannot be checked)\n",
    "1. Use the provided `x` and `y` lists as locations for the data points:\n",
    "    \n",
    "       x = [1, 2, 3, 4, 5, 6]\n",
    "       y = [1, 1, 1, 2, 2, 2]\n",
    "\n",
    "1. The markers are red diamonds with size 400\n",
    "1. The x-limits go from 0 to 8\n",
    "1. The y-limits go from 0 to 2.5"
   ]
  },
  {
   "cell_type": "code",
   "execution_count": null,
   "metadata": {
    "collapsed": false
   },
   "outputs": [],
   "source": [
    "x = [1, 2, 3, 4, 5, 6]\n",
    "y = [1, 1, 1, 2, 2, 2]\n",
    "\n",
    "f4, ax4 = plt.subplots()\n",
    "\n",
    "# your code\n",
    "...\n",
    "\n",
    "#plt.show()"
   ]
  },
  {
   "cell_type": "markdown",
   "metadata": {},
   "source": [
    "### #5: Label your axes!\n",
    "\n",
    "Create a plot with the following features:\n",
    "\n",
    "1. Figure and axes objects named **`f5` and `ax5`**, respectively (this is a must).\n",
    "1. Plot the following data:\n",
    "   * On the x-axis, the amount of lemons imported per year: `[240, 280, 355, 435, 530]`\n",
    "   * On the y-axis, the highway fatality rate: `[15.85, 15.68, 15.35, 15.29, 14.87]`\n",
    "1. Set the axes title to \"`Mexican Lemons to the Rescue!`\"\n",
    "1. Set the x-axis label to \"`Imported Mexican Lemons (tons/yr)`\"\n",
    "1. Set the y-axis label to \"`Highway Fatality Rate`\"\n",
    "1. Annotate each of the points on the graph with the year (`[1996, 1997, 1998, 1999, 2000]`, 5 years corresponding to the above data.)\n",
    "\n",
    "\n",
    "Hint: The `annotate()` method, e.g. `ax5.annotate()` takes many arguments, but only use the following keyword arguments:\n",
    "  * `s`, a string to put at the desired place\n",
    "  * `xy`, a keyword argument that accepts an X, Y value pair (tuple) \n",
    "  * So if you had a point at (4, 5) that you wanted to label \"Awesome\", you would call `annotate(s=\"Awesome\", xy=(4, 5))`\n",
    "  \n",
    "We could make the graph look even prettier, but automated grading of the plots is difficult, so do not add any further embellishments."
   ]
  },
  {
   "cell_type": "code",
   "execution_count": null,
   "metadata": {
    "collapsed": true
   },
   "outputs": [],
   "source": [
    "title = 'Mexican Lemons to the Rescue!'\n",
    "years = [1996, 1997, 1998, 1999, 2000]\n",
    "\n",
    "lemon_imports = [240, 280, 355, 435, 530] # tons/yr from Mexico\n",
    "lemon_label = 'Imported Mexican Lemons (tons/yr)'\n",
    "\n",
    "highway_fatality_rate = [15.85, 15.68, 15.35, 15.29, 14.87]\n",
    "highway_label = 'Highway Fatality Rate'"
   ]
  },
  {
   "cell_type": "code",
   "execution_count": null,
   "metadata": {
    "collapsed": false
   },
   "outputs": [],
   "source": [
    "f5, ax5 = plt.subplots()\n",
    "\n",
    "# your code\n",
    "...\n"
   ]
  }
 ],
 "metadata": {
  "kernelspec": {
   "display_name": "Python 3",
   "language": "python",
   "name": "python3"
  },
  "language_info": {
   "codemirror_mode": {
    "name": "ipython",
    "version": 3
   },
   "file_extension": ".py",
   "mimetype": "text/x-python",
   "name": "python",
   "nbconvert_exporter": "python",
   "pygments_lexer": "ipython3",
   "version": "3.4.3"
  }
 },
 "nbformat": 4,
 "nbformat_minor": 0
}
