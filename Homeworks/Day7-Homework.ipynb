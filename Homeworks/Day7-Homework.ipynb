{
 "metadata": {
  "name": "",
  "signature": "sha256:4d75394821d8d8a033ac590fb108f83dc3bf3035802171c972f56aa756e994e4"
 },
 "nbformat": 3,
 "nbformat_minor": 0,
 "worksheets": [
  {
   "cells": [
    {
     "cell_type": "markdown",
     "metadata": {},
     "source": [
      "Here is your first homework problem, accomplishing it demonstrates your brilliance."
     ]
    },
    {
     "cell_type": "code",
     "collapsed": false,
     "input": [
      "def count_unicorns(list_of_unicorns):\n",
      "    '''\n",
      "    input:\n",
      "        list_of_unicorns - list, A list of named unicorns to count\n",
      "    output:\n",
      "        number_of_unicorns - int, The number of unicorns in the input list\n",
      "    '''\n",
      "    number_of_unicorns = 0\n",
      "    for unicorn in list_of_unicorns:\n",
      "        number_of_unicorns += 1\n",
      "    return number_of_unicorns"
     ],
     "language": "python",
     "metadata": {},
     "outputs": [],
     "prompt_number": 1
    },
    {
     "cell_type": "code",
     "collapsed": false,
     "input": [],
     "language": "python",
     "metadata": {},
     "outputs": []
    }
   ],
   "metadata": {}
  }
 ]
}