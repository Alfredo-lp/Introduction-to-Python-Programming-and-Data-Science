{
 "cells": [
  {
   "cell_type": "markdown",
   "metadata": {},
   "source": [
    "Today we've covered the `Pandas`, `Statsmodels`, and `Datetime` packages and that amounts to a lot of new information!\n",
    "\n",
    "I'm going to go over the basic parts of these libraries, but first I just want to test what you remember from the datetime library.\n",
    "\n",
    "I want you to convert the date `2013-09-12` to a datetime `date` variable."
   ]
  },
  {
   "cell_type": "code",
   "execution_count": 3,
   "metadata": {
    "collapsed": false
   },
   "outputs": [],
   "source": [
    "date_string = '2013-09-12'\n",
    "\n",
    "def transform_string_to_date(date_string):\n",
    "    '''\n",
    "    Converts a date from a string type to a datetime.date type\n",
    "    input:\n",
    "        date_string - str, represents a date as 'YYYY-MM-DD'\n",
    "    output:\n",
    "        date - datetime.date \n",
    "    '''\n",
    "    #Your code here\n",
    "    \n",
    "    return date"
   ]
  },
  {
   "cell_type": "code",
   "execution_count": 2,
   "metadata": {
    "collapsed": true
   },
   "outputs": [],
   "source": [
    "#Use this cell to test your function\n",
    "transform_string_to_date(date_string)"
   ]
  },
  {
   "cell_type": "markdown",
   "metadata": {
    "collapsed": false
   },
   "source": [
    "Now I want you to write a function that will change the date_string from '2013-09-12' and return a `date` type variable that is August 8, 2013."
   ]
  },
  {
   "cell_type": "code",
   "execution_count": 2,
   "metadata": {
    "collapsed": true
   },
   "outputs": [],
   "source": [
    "def replace_month_and_year(date_string):\n",
    "    '''\n",
    "    Converts a date from a string type to a datetime.date type \n",
    "    and replaces the month with August (8) and the day with the\n",
    "    eigth (8)\n",
    "    input:\n",
    "        date_string - str, represents a date as 'YYYY-MM-DD'\n",
    "    output:\n",
    "        date - datetime.date\n",
    "    '''\n",
    "    #Your code here\n",
    "    \n",
    "    return date"
   ]
  },
  {
   "cell_type": "code",
   "execution_count": 1,
   "metadata": {
    "collapsed": false
   },
   "outputs": [],
   "source": [
    "#Use this cell to test your function\n",
    "replace_month_and_year(date_string)"
   ]
  },
  {
   "cell_type": "markdown",
   "metadata": {},
   "source": []
  }
 ],
 "metadata": {
  "kernelspec": {
   "display_name": "Python 3",
   "language": "python",
   "name": "python3"
  },
  "language_info": {
   "codemirror_mode": {
    "name": "ipython",
    "version": 3
   },
   "file_extension": ".py",
   "mimetype": "text/x-python",
   "name": "python",
   "nbconvert_exporter": "python",
   "pygments_lexer": "ipython3",
   "version": "3.4.3"
  }
 },
 "nbformat": 4,
 "nbformat_minor": 0
}
