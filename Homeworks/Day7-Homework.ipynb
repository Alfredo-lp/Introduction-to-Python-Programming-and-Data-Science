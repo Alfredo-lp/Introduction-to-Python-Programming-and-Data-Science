{
 "cells": [
  {
   "cell_type": "markdown",
   "metadata": {},
   "source": [
    "# Day 7 Homework: `Pandas`, `Statsmodels`, and `Datetime` \n",
    "\n",
    "Today we've covered the `Pandas`, `Statsmodels`, and `Datetime` packages and that amounts to a lot of new information!\n",
    "\n",
    "I'm going to go over the basic parts of these libraries, but first I just want to test what you remember from the datetime library.\n",
    "\n",
    "**Question 1:** I want you to convert the date `2013-09-12` to a datetime `datetime` variable."
   ]
  },
  {
   "cell_type": "code",
   "execution_count": 1,
   "metadata": {
    "collapsed": false
   },
   "outputs": [],
   "source": [
    "date_string = '2013-09-12'\n",
    "\n",
    "def transform_string_to_date(date_string):\n",
    "    '''\n",
    "    Converts a date from a string type to a datetime.date type\n",
    "    input:\n",
    "        date_string - str, represents a date as 'YYYY-MM-DD'\n",
    "    output:\n",
    "        date - datetime.datetime object \n",
    "    '''\n",
    "    #Your code here\n",
    "    \n",
    "    return date\n",
    "\n",
    "print(transform_string_to_date(date_string))"
   ]
  },
  {
   "cell_type": "markdown",
   "metadata": {
    "collapsed": false
   },
   "source": [
    "**Question 2:** Now I want you to write a function that will accept any date_string (such as '2013-09-12') and return a `date` type variable for August 8, 2013."
   ]
  },
  {
   "cell_type": "code",
   "execution_count": 3,
   "metadata": {
    "collapsed": true
   },
   "outputs": [],
   "source": [
    "def replace_month_and_day(date_string):\n",
    "    '''\n",
    "    Converts a date from a string type to a datetime.date type \n",
    "    and replaces the month with August (8) and the day with the\n",
    "    eighth (8)\n",
    "    input:\n",
    "        date_string - str, represents a date as 'YYYY-MM-DD'\n",
    "    output:\n",
    "        date - datetime.datetime object\n",
    "    '''\n",
    "    #Your code here\n",
    "    \n",
    "    return date\n",
    "\n",
    "print(replace_month_and_year(date_string))"
   ]
  },
  {
   "cell_type": "markdown",
   "metadata": {},
   "source": [
    "**Question 3:** Now let's move on and work with the AAPL stock data again (Located in the Data/ folder). How much would I have made if I purchased 10 shares of AAPL stock at the Opening price on September 1st, 2000 and sold it at the closing price on March 7, 2008?"
   ]
  },
  {
   "cell_type": "code",
   "execution_count": 10,
   "metadata": {
    "collapsed": true
   },
   "outputs": [],
   "source": [
    "import os\n",
    "\n",
    "def calculate_eight_year_gain(fname = os.path.join('..', 'Data', 'aapl_stock_price.csv')):\n",
    "    '''\n",
    "    Calculates the stock gain from 9-1-2000 Open price to 3-7-2008 close price for\n",
    "    10 shares of stock\n",
    "    input:\n",
    "        fname - str, aapl stock price filename\n",
    "    output:\n",
    "        gain - float, monetary gain during period\n",
    "    '''\n",
    "    #Your code here\n",
    "    \n",
    "    return gain\n",
    "\n",
    "print(calculate_eight_year_gain())"
   ]
  },
  {
   "cell_type": "markdown",
   "metadata": {},
   "source": [
    "**Question 4:** How many days was AAPL stock traded on between June 6, 1988 and December 7, 1999? This is inclusive, so count both June 6, 1988 and December 7, 1999 if those days had trading activity."
   ]
  },
  {
   "cell_type": "code",
   "execution_count": 13,
   "metadata": {
    "collapsed": true
   },
   "outputs": [],
   "source": [
    "def count_number_of_trading_days(start='1988-06-06', stop='1999-12-07'):\n",
    "    '''\n",
    "    Counts the number of trading days between 1988-06-06 and 1999-12-07 (inclusive)\n",
    "    input:\n",
    "        start - str, start date in string format\n",
    "        stop - str, stop date in string format\n",
    "    output:\n",
    "        trading_days - int, number of trading days during the time period\n",
    "    '''\n",
    "    fname = os.path.join('..', 'Data', 'aapl_stock_price.csv')\n",
    "    #Your code here\n",
    "    \n",
    "    return trading_days\n",
    "\n",
    "print(count_number_of_trading_days())"
   ]
  },
  {
   "cell_type": "markdown",
   "metadata": {},
   "source": [
    "**Question 5:** Last question using the AAPL stock, during the same period of June 6, 1988 to December 7, 1999 how many days did the stock close above its opening price? \n",
    "\n",
    "Hint:\n",
    "\n",
    "- think about making a calculation and storing it as an additional column. Then examine that column for the answer."
   ]
  },
  {
   "cell_type": "code",
   "execution_count": null,
   "metadata": {
    "collapsed": true
   },
   "outputs": [],
   "source": [
    "def number_of_days_positive_gain(start='1988-06-06', stop='1999-12-07'):\n",
    "    '''\n",
    "    Counts the number of trading days between the start and stop date (inclusive)\n",
    "    where the close price is greater than the open price.\n",
    "    input:\n",
    "        start - str, start date in string format\n",
    "        stop - str, stop date in string format\n",
    "    output:\n",
    "        positive_days - int, number of trading days during the time period\n",
    "                             where a positive gain was made\n",
    "    '''\n",
    "    fname = os.path.join('..', 'Data', 'aapl_stock_price.csv')\n",
    "    #Your code here\n",
    "    \n",
    "    return positive_days\n",
    "\n",
    "print(number_of_days_positive_gain())"
   ]
  },
  {
   "cell_type": "markdown",
   "metadata": {},
   "source": [
    "**Question 6:** Now let's work with the data on the college majors again. Except this time I want to examine **graduate** students. First, since this is a survey: which major (or majors if a tie) has the largest sample size? You can return just a Pandas series with the top major(s)."
   ]
  },
  {
   "cell_type": "code",
   "execution_count": 16,
   "metadata": {
    "collapsed": true
   },
   "outputs": [],
   "source": [
    "def largest_sample_size(fname = os.path.join('..', 'Data', 'College-Majors', 'grad-students.csv')):\n",
    "    '''\n",
    "    Identifies the major(s) with the largest sample size from the survey\n",
    "    input:\n",
    "        fname - str, the filename of the grad students csv file\n",
    "    output:\n",
    "        majors - series, the major(s) with the largest sample size\n",
    "    '''\n",
    "    #Your code goes here\n",
    "    \n",
    "    return major\n",
    "\n",
    "print(largest_sample_size())"
   ]
  },
  {
   "cell_type": "markdown",
   "metadata": {},
   "source": [
    "**Question 7:** In a future far, far away (2016) the markets have cratered, upending the United States economy. In this brave new future, manufacturing, business, and commerce are 95% unemployed. All of our attentation has turned to individuals in the Arts (`Major_category` of `Arts`), which are now in high demand and only 5% are unemployed.\n",
    "\n",
    "How many of the individuals in this dataset will be unemployed in 2016?"
   ]
  },
  {
   "cell_type": "code",
   "execution_count": 18,
   "metadata": {
    "collapsed": true
   },
   "outputs": [],
   "source": [
    "def brave_new_future_unemployment(fname = os.path.join('..', 'Data', 'College-Majors', 'grad-students.csv')):\n",
    "    '''\n",
    "    What is the number of unemployed individuals when majors in the `Arts` are at 5% unemployment and\n",
    "    all other majors are at 95% unemployment\n",
    "    input:\n",
    "        fname - str, filepath to the graduate students file\n",
    "    output:\n",
    "        unemployed - float, the number of unemployed individuals (In the future there are fractional individuals)\n",
    "    '''\n",
    "    #Your code goes here\n",
    "    \n",
    "    return unemployed\n",
    "\n",
    "print(brave_new_future_unemployment())"
   ]
  },
  {
   "cell_type": "markdown",
   "metadata": {},
   "source": [
    "**Question 8:** How many majors have more non graduates employed (`Nongrad_employed`) than graduates employed (`Grad_employed`)?\n",
    "\n",
    "Hint: \n",
    "\n",
    "- remember our trick from above for comparing columns."
   ]
  },
  {
   "cell_type": "code",
   "execution_count": 26,
   "metadata": {
    "collapsed": true
   },
   "outputs": [],
   "source": [
    "def more_nongrad_employed(fname = os.path.join('..', 'Data', 'College-Majors', 'grad-students.csv')):\n",
    "    '''\n",
    "    How many majors have more non grads employed than grads?\n",
    "    input:\n",
    "        fname - str, filename\n",
    "    output:\n",
    "        num_nongrad_majors - int, number of majors with more non-graduates employed than graduates.\n",
    "    '''\n",
    "    #Your code goes here\n",
    "    \n",
    "    return num_nongrad_majors\n",
    "\n",
    "print(more_nongrad_employed())"
   ]
  }
 ],
 "metadata": {
  "kernelspec": {
   "display_name": "Python 3",
   "language": "python",
   "name": "python3"
  },
  "language_info": {
   "codemirror_mode": {
    "name": "ipython",
    "version": 3
   },
   "file_extension": ".py",
   "mimetype": "text/x-python",
   "name": "python",
   "nbconvert_exporter": "python",
   "pygments_lexer": "ipython3",
   "version": "3.4.3"
  }
 },
 "nbformat": 4,
 "nbformat_minor": 0
}
