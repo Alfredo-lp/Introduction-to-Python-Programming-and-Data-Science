{
 "cells": [
  {
   "cell_type": "markdown",
   "metadata": {},
   "source": [
    "Today we've covered the `Pandas`, `Statsmodels`, and `Datetime` packages and that amounts to a lot of new information!\n",
    "\n",
    "I'm going to go over the basic parts of these libraries, but first I just want to test what you remember from the datetime library.\n",
    "\n",
    "I want you to convert the date `2013-09-12` to a datetime `datetime` variable."
   ]
  },
  {
   "cell_type": "code",
   "execution_count": 1,
   "metadata": {
    "collapsed": false
   },
   "outputs": [],
   "source": [
    "date_string = '2013-09-12'\n",
    "\n",
    "def transform_string_to_date(date_string):\n",
    "    '''\n",
    "    Converts a date from a string type to a datetime.date type\n",
    "    input:\n",
    "        date_string - str, represents a date as 'YYYY-MM-DD'\n",
    "    output:\n",
    "        date - datetime.datetime object \n",
    "    '''\n",
    "    #Your code here\n",
    "    \n",
    "    return date"
   ]
  },
  {
   "cell_type": "code",
   "execution_count": 2,
   "metadata": {
    "collapsed": true
   },
   "outputs": [],
   "source": [
    "#Use this cell to test your function\n",
    "transform_string_to_date(date_string)"
   ]
  },
  {
   "cell_type": "markdown",
   "metadata": {
    "collapsed": false
   },
   "source": [
    "Now I want you to write a function that will change the date_string from '2013-09-12' and return a `date` type variable that is August 8, 2013."
   ]
  },
  {
   "cell_type": "code",
   "execution_count": 3,
   "metadata": {
    "collapsed": true
   },
   "outputs": [],
   "source": [
    "def replace_month_and_year(date_string):\n",
    "    '''\n",
    "    Converts a date from a string type to a datetime.date type \n",
    "    and replaces the month with August (8) and the day with the\n",
    "    eighth (8)\n",
    "    input:\n",
    "        date_string - str, represents a date as 'YYYY-MM-DD'\n",
    "    output:\n",
    "        date - datetime.datetime object\n",
    "    '''\n",
    "    #Your code here\n",
    "    \n",
    "    return date"
   ]
  },
  {
   "cell_type": "code",
   "execution_count": 1,
   "metadata": {
    "collapsed": false
   },
   "outputs": [],
   "source": [
    "#Use this cell to test your function\n",
    "replace_month_and_year(date_string)"
   ]
  },
  {
   "cell_type": "markdown",
   "metadata": {},
   "source": [
    "Now let's move on and work with the AAPL stock data again (Located in the Data/ folder). How much would I have made if I purchased 10 shares of AAPL stock at the Opening price on September 1st, 2000 and sold it at the closing price on March 7, 2008?"
   ]
  },
  {
   "cell_type": "code",
   "execution_count": 10,
   "metadata": {
    "collapsed": true
   },
   "outputs": [],
   "source": [
    "import os\n",
    "\n",
    "def calculate_eight_year_gain(fname = os.path.join('..', 'Data', 'aapl_stock_price.csv')):\n",
    "    '''\n",
    "    Calculates the stock gain from 9-1-2000 Open price to 3-7-2008 close price for\n",
    "    10 shares of stock\n",
    "    input:\n",
    "        fname - str, aapl stock price filename\n",
    "    output:\n",
    "        gain - float, monetary gain during period\n",
    "    '''\n",
    "    #Your code here\n",
    "    \n",
    "    return gain"
   ]
  },
  {
   "cell_type": "code",
   "execution_count": 12,
   "metadata": {
    "collapsed": false
   },
   "outputs": [],
   "source": [
    "#Test your answer here\n",
    "calculate_eight_year_gain()"
   ]
  },
  {
   "cell_type": "markdown",
   "metadata": {},
   "source": [
    "How many days was AAPL stock traded on between June 6, 1988 and December 7, 1999. This is inclusive, so count both June 6, 1988 and December 7, 1999 if those days had trading activity."
   ]
  },
  {
   "cell_type": "code",
   "execution_count": 13,
   "metadata": {
    "collapsed": true
   },
   "outputs": [],
   "source": [
    "def count_number_of_trading_days(start='1988-06-06', stop='1999-12-07'):\n",
    "    '''\n",
    "    Counts the number of trading days between 1988-06-06 and 1999-12-07 (inclusive)\n",
    "    input:\n",
    "        start - str, start date in string format\n",
    "        stop - str, stop date in string format\n",
    "    output:\n",
    "        trading_days - int, number of trading days during the time period\n",
    "    '''\n",
    "    fname = os.path.join('..', 'Data', 'aapl_stock_price.csv')\n",
    "    #Your code here\n",
    "    \n",
    "    return trading_days"
   ]
  },
  {
   "cell_type": "code",
   "execution_count": null,
   "metadata": {
    "collapsed": true
   },
   "outputs": [],
   "source": [
    "#Test your answer here\n",
    "count_number_of_trading_days()"
   ]
  },
  {
   "cell_type": "markdown",
   "metadata": {},
   "source": [
    "Last question using the AAPL stock, during the same period of June 6, 1988 to December 7, 1999 how many days did the stock close above its opening price? (Hint: think about making a calculation and storing it as an additional column. Then examine that column for the answer)."
   ]
  },
  {
   "cell_type": "code",
   "execution_count": null,
   "metadata": {
    "collapsed": true
   },
   "outputs": [],
   "source": [
    "def number_of_days_positive_gain(start='1988-06-06', stop='1999-12-07'):\n",
    "    '''\n",
    "    Counts the number of trading days between the start and stop date (inclusive)\n",
    "    where the close price is greater than the open price.\n",
    "    input:\n",
    "        start - str, start date in string format\n",
    "        stop - str, stop date in string format\n",
    "    output:\n",
    "        positive_days - int, number of trading days during the time period\n",
    "                             where a positive gain was made\n",
    "    '''\n",
    "    fname = os.path.join('..', 'Data', 'aapl_stock_price.csv')\n",
    "    #Your code here\n",
    "    \n",
    "    return positive_days"
   ]
  },
  {
   "cell_type": "code",
   "execution_count": null,
   "metadata": {
    "collapsed": true
   },
   "outputs": [],
   "source": [
    "#Test your answer here\n",
    "number_of_days_positive_gain()"
   ]
  },
  {
   "cell_type": "code",
   "execution_count": null,
   "metadata": {
    "collapsed": true
   },
   "outputs": [],
   "source": []
  },
  {
   "cell_type": "code",
   "execution_count": null,
   "metadata": {
    "collapsed": true
   },
   "outputs": [],
   "source": []
  },
  {
   "cell_type": "code",
   "execution_count": null,
   "metadata": {
    "collapsed": true
   },
   "outputs": [],
   "source": []
  },
  {
   "cell_type": "code",
   "execution_count": null,
   "metadata": {
    "collapsed": true
   },
   "outputs": [],
   "source": []
  },
  {
   "cell_type": "code",
   "execution_count": null,
   "metadata": {
    "collapsed": true
   },
   "outputs": [],
   "source": []
  },
  {
   "cell_type": "code",
   "execution_count": 5,
   "metadata": {
    "collapsed": false
   },
   "outputs": [
    {
     "data": {
      "text/html": [
       "<div>\n",
       "<table border=\"1\" class=\"dataframe\">\n",
       "  <thead>\n",
       "    <tr style=\"text-align: right;\">\n",
       "      <th></th>\n",
       "      <th>Date</th>\n",
       "      <th>Open</th>\n",
       "      <th>High</th>\n",
       "      <th>Low</th>\n",
       "      <th>Close</th>\n",
       "      <th>Volume</th>\n",
       "      <th>Adjusted Close</th>\n",
       "    </tr>\n",
       "  </thead>\n",
       "  <tbody>\n",
       "    <tr>\n",
       "      <th>0</th>\n",
       "      <td>2015-08-24</td>\n",
       "      <td>94.870003</td>\n",
       "      <td>103.449997</td>\n",
       "      <td>92.000000</td>\n",
       "      <td>103.120003</td>\n",
       "      <td>161454200</td>\n",
       "      <td>103.120003</td>\n",
       "    </tr>\n",
       "    <tr>\n",
       "      <th>1</th>\n",
       "      <td>2015-08-21</td>\n",
       "      <td>110.430000</td>\n",
       "      <td>111.900002</td>\n",
       "      <td>105.650002</td>\n",
       "      <td>105.760002</td>\n",
       "      <td>126289200</td>\n",
       "      <td>105.760002</td>\n",
       "    </tr>\n",
       "    <tr>\n",
       "      <th>2</th>\n",
       "      <td>2015-08-20</td>\n",
       "      <td>114.080002</td>\n",
       "      <td>114.349998</td>\n",
       "      <td>111.629997</td>\n",
       "      <td>112.650002</td>\n",
       "      <td>67765500</td>\n",
       "      <td>112.650002</td>\n",
       "    </tr>\n",
       "    <tr>\n",
       "      <th>3</th>\n",
       "      <td>2015-08-19</td>\n",
       "      <td>116.099998</td>\n",
       "      <td>116.519997</td>\n",
       "      <td>114.680000</td>\n",
       "      <td>115.010002</td>\n",
       "      <td>47445700</td>\n",
       "      <td>115.010002</td>\n",
       "    </tr>\n",
       "    <tr>\n",
       "      <th>4</th>\n",
       "      <td>2015-08-18</td>\n",
       "      <td>116.430000</td>\n",
       "      <td>117.440002</td>\n",
       "      <td>116.010002</td>\n",
       "      <td>116.500000</td>\n",
       "      <td>34461400</td>\n",
       "      <td>116.500000</td>\n",
       "    </tr>\n",
       "  </tbody>\n",
       "</table>\n",
       "</div>"
      ],
      "text/plain": [
       "         Date        Open        High         Low       Close     Volume  \\\n",
       "0  2015-08-24   94.870003  103.449997   92.000000  103.120003  161454200   \n",
       "1  2015-08-21  110.430000  111.900002  105.650002  105.760002  126289200   \n",
       "2  2015-08-20  114.080002  114.349998  111.629997  112.650002   67765500   \n",
       "3  2015-08-19  116.099998  116.519997  114.680000  115.010002   47445700   \n",
       "4  2015-08-18  116.430000  117.440002  116.010002  116.500000   34461400   \n",
       "\n",
       "   Adjusted Close  \n",
       "0      103.120003  \n",
       "1      105.760002  \n",
       "2      112.650002  \n",
       "3      115.010002  \n",
       "4      116.500000  "
      ]
     },
     "execution_count": 5,
     "metadata": {},
     "output_type": "execute_result"
    }
   ],
   "source": [
    "import pandas as pd\n",
    "df = pd.read_csv('../Data/aapl_stock_price.csv')\n",
    "df.head()"
   ]
  },
  {
   "cell_type": "code",
   "execution_count": 9,
   "metadata": {
    "collapsed": false
   },
   "outputs": [
    {
     "data": {
      "text/html": [
       "<div>\n",
       "<table border=\"1\" class=\"dataframe\">\n",
       "  <thead>\n",
       "    <tr style=\"text-align: right;\">\n",
       "      <th></th>\n",
       "      <th>Date</th>\n",
       "      <th>Open</th>\n",
       "      <th>High</th>\n",
       "      <th>Low</th>\n",
       "      <th>Close</th>\n",
       "      <th>Volume</th>\n",
       "      <th>Adjusted Close</th>\n",
       "    </tr>\n",
       "  </thead>\n",
       "  <tbody>\n",
       "    <tr>\n",
       "      <th>1879</th>\n",
       "      <td>2008-03-07</td>\n",
       "      <td>120.410006</td>\n",
       "      <td>122.979984</td>\n",
       "      <td>119.049974</td>\n",
       "      <td>122.250034</td>\n",
       "      <td>307615700</td>\n",
       "      <td>16.330862</td>\n",
       "    </tr>\n",
       "  </tbody>\n",
       "</table>\n",
       "</div>"
      ],
      "text/plain": [
       "            Date        Open        High         Low       Close     Volume  \\\n",
       "1879  2008-03-07  120.410006  122.979984  119.049974  122.250034  307615700   \n",
       "\n",
       "      Adjusted Close  \n",
       "1879       16.330862  "
      ]
     },
     "execution_count": 9,
     "metadata": {},
     "output_type": "execute_result"
    }
   ],
   "source": [
    "df[df.Date=='2008-03-07']"
   ]
  },
  {
   "cell_type": "code",
   "execution_count": null,
   "metadata": {
    "collapsed": true
   },
   "outputs": [],
   "source": []
  }
 ],
 "metadata": {
  "kernelspec": {
   "display_name": "Python 3",
   "language": "python",
   "name": "python3"
  },
  "language_info": {
   "codemirror_mode": {
    "name": "ipython",
    "version": 3
   },
   "file_extension": ".py",
   "mimetype": "text/x-python",
   "name": "python",
   "nbconvert_exporter": "python",
   "pygments_lexer": "ipython3",
   "version": "3.4.3"
  }
 },
 "nbformat": 4,
 "nbformat_minor": 0
}
