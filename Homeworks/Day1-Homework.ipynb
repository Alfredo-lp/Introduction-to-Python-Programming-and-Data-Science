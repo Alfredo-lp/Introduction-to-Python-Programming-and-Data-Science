{
 "cells": [
  {
   "cell_type": "markdown",
   "metadata": {},
   "source": [
    "# Congrats on completing your first day of Python bootcamp!\n",
    "You are now well on your way to becoming a master at programing. \n",
    "Here are some problems that you can show off your new skills with."
   ]
  },
  {
   "cell_type": "markdown",
   "metadata": {},
   "source": [
    "## Question 1"
   ]
  },
  {
   "cell_type": "markdown",
   "metadata": {},
   "source": [
    "Calculating numbers is sometimes complicated... and so we need calculators. Here we will write a program that mimics a simple calculator. The program will take in three variables: num1, num2, and operation. It takes the two numbers and performs the indicated operation. (eg. 2, 3, 'multiplication' returns 6)"
   ]
  },
  {
   "cell_type": "code",
   "execution_count": 1,
   "metadata": {
    "collapsed": true
   },
   "outputs": [],
   "source": [
    "def calculator (num1, num2, operation):\n",
    "    '''\n",
    "    Parameters:\n",
    "    -----------\n",
    "    num1 : (float)\n",
    "    num2 : (float)\n",
    "    operation : (str)\n",
    "        Can take the following values:\n",
    "        muliplication, addition, subtraction, division\n",
    "        \n",
    "    Returns:\n",
    "    --------\n",
    "    answer : (float)\n",
    "        The result of the indication operation performed on the two numbers\n",
    "        \n",
    "    Notes:\n",
    "    ------\n",
    "    1. Subtraction and division are not distributive operations. This progam assumes that the user wants \n",
    "       the first number divided/subtracted by the second number\n",
    "    2. As you may know any number divided by zero will result in an error. When this occurs, the program \n",
    "       will output: \"Sorry! Can't divide by zero.\"\n",
    "    '''\n",
    "    \n",
    "    # start writing your code below\n",
    "    \n",
    "    \n",
    "    \n",
    "    \n",
    "    \n",
    "    \n",
    "    \n",
    "    \n",
    "    return answer"
   ]
  },
  {
   "cell_type": "markdown",
   "metadata": {},
   "source": [
    "## Question 2"
   ]
  },
  {
   "cell_type": "markdown",
   "metadata": {},
   "source": [
    "You are given a positive integer N. You have to print a list where is the first index is a list with a single element of the number 1 (eg. [1]), the second index is a list with two elements of the number 2 (eg. [2,2]), the third index is a list with three elements of the number 3 (eg. [3,3,3])......etc."
   ]
  },
  {
   "cell_type": "code",
   "execution_count": null,
   "metadata": {
    "collapsed": true
   },
   "outputs": [],
   "source": [
    "def triangle_list (N):\n",
    "    '''\n",
    "    Parameters:\n",
    "    -----------\n",
    "    N : (int)\n",
    "    \n",
    "    Returns:\n",
    "    --------\n",
    "    triangle : (list)   \n",
    "    '''\n",
    "    \n",
    "    # start writing your code below\n",
    "    \n",
    "    \n",
    "    \n",
    "    \n",
    "    \n",
    "    \n",
    "    \n",
    "    return triangle \n",
    "    "
   ]
  },
  {
   "cell_type": "markdown",
   "metadata": {},
   "source": [
    "## Question 3"
   ]
  },
  {
   "cell_type": "markdown",
   "metadata": {},
   "source": [
    "You are given two numbers. You have to print the sum of the two numbers"
   ]
  },
  {
   "cell_type": "code",
   "execution_count": 5,
   "metadata": {
    "collapsed": true
   },
   "outputs": [],
   "source": [
    "def add_two_number(number1, number2):\n",
    "    '''\n",
    "    Write code that will take two numbers and add them together.\n",
    "\n",
    "    Parameters: \n",
    "    -----------\n",
    "    number1 : (int, float, string)\n",
    "    number2 : (int, float, string)\n",
    "        Whole numbers from 1-9, but can take various forms.\n",
    "        If in string form they can either be in the form of '5' or 'five'.\n",
    "        If written in words, they can be in any combination of capitals and lower cases (eg. 'FIve' or 'fIve')\n",
    "        The variables number1 and number1 do not have to be the same type either!\n",
    "\n",
    "    Return: \n",
    "    -------\n",
    "    twonumsum : (int)\n",
    "        The sum of number1 and number2.\n",
    "        \n",
    "    Notes:\n",
    "    ------\n",
    "    1. If the variables number1 and number2 are not numbers that are in the range 1-9, the code will output:\n",
    "       'Sorry! This is too much for me to handle T.T'\n",
    "    '''\n",
    "    \n",
    "    # start writing your code below\n",
    "\n",
    "    \n",
    "    \n",
    "    \n",
    "    \n",
    "    \n",
    "    return twonumsum"
   ]
  },
  {
   "cell_type": "markdown",
   "metadata": {
    "collapsed": true
   },
   "source": [
    "## Question 4"
   ]
  },
  {
   "cell_type": "markdown",
   "metadata": {},
   "source": [
    "In the town of pylandia, there are currently three fruit stands right next to each other. Your are a fruit mougle decide you also want to consolidate the three stands into one large fruit stand. Write a progam that will consolidate the inventories of the three fruit stands into one."
   ]
  },
  {
   "cell_type": "code",
   "execution_count": null,
   "metadata": {
    "collapsed": true
   },
   "outputs": [],
   "source": [
    "def consolidate_inventory(store1, store2, store3):\n",
    "    '''\n",
    "    Parameters:\n",
    "    -----------\n",
    "    store1 : (dict)\n",
    "        Key : (str)\n",
    "            item in inventory\n",
    "        Value : (int)\n",
    "            number of the item in the store\n",
    "    store2 : (dict)\n",
    "        Key : (str)\n",
    "            item in inventory\n",
    "        Value : (int)\n",
    "            number of the item in the store\n",
    "    store3 : (dict)\n",
    "        Key : (str)\n",
    "            item in inventory\n",
    "        Value : (int)\n",
    "            number of the item in the store\n",
    "            \n",
    "    Return:\n",
    "    -------\n",
    "    masterinventory : (dict)\n",
    "        Key : (str)\n",
    "            item in inventory\n",
    "        Value : (int)\n",
    "            number of the item in all the stores\n",
    "    '''\n",
    "    \n",
    "    # start writing your code below\n",
    "\n",
    "    \n",
    "    \n",
    "    \n",
    "    \n",
    "    \n",
    "    return masterinventory"
   ]
  }
 ],
 "metadata": {
  "kernelspec": {
   "display_name": "Python 3",
   "language": "python",
   "name": "python3"
  },
  "language_info": {
   "codemirror_mode": {
    "name": "ipython",
    "version": 3
   },
   "file_extension": ".py",
   "mimetype": "text/x-python",
   "name": "python",
   "nbconvert_exporter": "python",
   "pygments_lexer": "ipython3",
   "version": "3.4.3"
  }
 },
 "nbformat": 4,
 "nbformat_minor": 0
}
