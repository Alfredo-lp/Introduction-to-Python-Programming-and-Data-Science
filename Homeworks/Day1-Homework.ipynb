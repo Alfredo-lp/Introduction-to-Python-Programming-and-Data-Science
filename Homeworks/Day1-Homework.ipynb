{
 "cells": [
  {
   "cell_type": "markdown",
   "metadata": {},
   "source": [
    "# Congrats on completing your first day of Python bootcamp!\n",
    "You are now well on your way to becoming a master at programing. \n",
    "Here are some problems that you can show off your new skills with."
   ]
  },
  {
   "cell_type": "markdown",
   "metadata": {},
   "source": [
    "## Question 1"
   ]
  },
  {
   "cell_type": "markdown",
   "metadata": {},
   "source": [
    "Calculating numbers is sometimes complicated... and so we need calculators. Here we will write a program that mimics a simple calculator. The program will take in three variables: num1, num2, and operation. It takes the two numbers and performs the indicated operation. (eg. 2, 3, 'multiplication' returns 6)"
   ]
  },
  {
   "cell_type": "code",
   "execution_count": 2,
   "metadata": {
    "collapsed": true
   },
   "outputs": [],
   "source": [
    "def calculator (num1, num2, operation):\n",
    "    '''\n",
    "    Parameters:\n",
    "    -----------\n",
    "    num1 : (float)\n",
    "    num2 : (float)\n",
    "    operation : (str)\n",
    "        Can take the following values:\n",
    "        multiplication, addition, subtraction, division\n",
    "        \n",
    "    Returns:\n",
    "    --------\n",
    "    answer : (float)\n",
    "        The result of the indication operation performed on the two numbers\n",
    "        \n",
    "    Notes:  \n",
    "    ------\n",
    "    1. Subtraction and division are not distributive operations. This progam assumes that the user wants \n",
    "       the first number divided/subtracted by the second number\n",
    "    2. As you may know any number divided by zero will result in an error. When this occurs, the program \n",
    "       raise a ValueError\"\n",
    "    '''\n",
    "    \n",
    "    # start writing your code below\n",
    "    \n",
    "    \n",
    "    return answer"
   ]
  },
  {
   "cell_type": "code",
   "execution_count": 4,
   "metadata": {
    "collapsed": false
   },
   "outputs": [],
   "source": [
    "#You will want to test your code too!\n",
    "calculator(2, 6, 'subtraction')"
   ]
  },
  {
   "cell_type": "code",
   "execution_count": null,
   "metadata": {
    "collapsed": true
   },
   "outputs": [],
   "source": [
    "calculator(2, 6, 'multiplication')"
   ]
  },
  {
   "cell_type": "code",
   "execution_count": null,
   "metadata": {
    "collapsed": true
   },
   "outputs": [],
   "source": [
    "calculator(2, 6, 'addition')"
   ]
  },
  {
   "cell_type": "code",
   "execution_count": null,
   "metadata": {
    "collapsed": true
   },
   "outputs": [],
   "source": [
    "calculator(2, 6, 'division')"
   ]
  },
  {
   "cell_type": "code",
   "execution_count": null,
   "metadata": {
    "collapsed": true
   },
   "outputs": [],
   "source": [
    "calculator(2, 0, 'division')"
   ]
  },
  {
   "cell_type": "markdown",
   "metadata": {},
   "source": [
    "## Question 2"
   ]
  },
  {
   "cell_type": "markdown",
   "metadata": {},
   "source": [
    "You are given a positive integer N. You have to print a list where the first index is a list with a single element of the number 1 (eg. [1]), the second index is a list with two elements of the number 2 (eg. [2,2]), the third index is a list with three elements of the number 3 (eg. [3,3,3])......etc. with the last index being a list with N elements of the number N (eg. [N,N,...,N])"
   ]
  },
  {
   "cell_type": "code",
   "execution_count": 2,
   "metadata": {
    "collapsed": false
   },
   "outputs": [],
   "source": [
    "def triangle_list (N):\n",
    "    '''\n",
    "    Parameters:\n",
    "    -----------\n",
    "    N : (int)\n",
    "    \n",
    "    Returns:\n",
    "    --------\n",
    "    triangle : (list of list)   \n",
    "    '''\n",
    "    \n",
    "    # start writing your code below\n",
    "    \n",
    "\n",
    "    return triangle \n",
    "    "
   ]
  },
  {
   "cell_type": "code",
   "execution_count": null,
   "metadata": {
    "collapsed": true
   },
   "outputs": [],
   "source": [
    "#Test your code here\n",
    "triangle_list(0)"
   ]
  },
  {
   "cell_type": "code",
   "execution_count": null,
   "metadata": {
    "collapsed": true
   },
   "outputs": [],
   "source": [
    "triangle_list(3)"
   ]
  },
  {
   "cell_type": "markdown",
   "metadata": {},
   "source": [
    "## Question 3"
   ]
  },
  {
   "cell_type": "markdown",
   "metadata": {},
   "source": [
    "You are given two numbers. You have to print the sum of the two numbers"
   ]
  },
  {
   "cell_type": "code",
   "execution_count": 3,
   "metadata": {
    "collapsed": false
   },
   "outputs": [],
   "source": [
    "def add_two_numbers(number1, number2):\n",
    "    '''\n",
    "    Write code that will take two numbers and add them together.\n",
    "\n",
    "    Parameters: \n",
    "    -----------\n",
    "    number1 : (int, float, string)\n",
    "    number2 : (int, float, string)\n",
    "        Whole numbers from 1-9, but can take various forms.\n",
    "        If in string form they can either be in the form of '5' or 'five'.\n",
    "        If written in words, they can be in any combination of capitals and lower cases (eg. 'FIve' or 'fIve')\n",
    "        The variables number1 and number2 do not have to be the same type either!\n",
    "\n",
    "    Return: \n",
    "    -------\n",
    "    twonumsum : (int)\n",
    "        The sum of number1 and number2.\n",
    "        \n",
    "    Notes:\n",
    "    ------\n",
    "    1. If the variables number1 and number2 are not whole numbers from 1 to 9, the code will raise a ValueError.\n",
    "    '''\n",
    "    \n",
    "    # start writing your code below\n",
    "    \n",
    "\n",
    "    return twonumsum\n"
   ]
  },
  {
   "cell_type": "code",
   "execution_count": null,
   "metadata": {
    "collapsed": true
   },
   "outputs": [],
   "source": [
    "add_two_numbers(2, 6)"
   ]
  },
  {
   "cell_type": "code",
   "execution_count": null,
   "metadata": {
    "collapsed": true
   },
   "outputs": [],
   "source": [
    "add_two_numbers('cat', 6)"
   ]
  },
  {
   "cell_type": "code",
   "execution_count": null,
   "metadata": {
    "collapsed": true
   },
   "outputs": [],
   "source": [
    "add_two_numbers(2, 'kitten')"
   ]
  },
  {
   "cell_type": "code",
   "execution_count": null,
   "metadata": {
    "collapsed": true
   },
   "outputs": [],
   "source": [
    "#Add more tests here\n"
   ]
  },
  {
   "cell_type": "markdown",
   "metadata": {
    "collapsed": true
   },
   "source": [
    "## Question 4"
   ]
  },
  {
   "cell_type": "markdown",
   "metadata": {},
   "source": [
    "In the town of Pylandia, there are currently three fruit stands right next to each other. You are a fruit mogul and decide you want to consolidate the three stands into one large fruit stand. Write a progam that will consolidate the inventories of the three fruit stands into one."
   ]
  },
  {
   "cell_type": "code",
   "execution_count": 4,
   "metadata": {
    "collapsed": false
   },
   "outputs": [],
   "source": [
    "def consolidate_inventory(store1, store2, store3):\n",
    "    '''\n",
    "    Parameters:\n",
    "    -----------\n",
    "    store1 : (dict)\n",
    "        Key : (str)\n",
    "            item in inventory\n",
    "        Value : (int)\n",
    "            number of the item in the store\n",
    "    store2 : (dict)\n",
    "        Key : (str)\n",
    "            item in inventory\n",
    "        Value : (int)\n",
    "            number of the item in the store\n",
    "    store3 : (dict)\n",
    "        Key : (str)\n",
    "            item in inventory\n",
    "        Value : (int)\n",
    "            number of the item in the store\n",
    "            \n",
    "    Return:\n",
    "    -------\n",
    "    masterinventory : (dict)\n",
    "        Key : (str)\n",
    "            item in inventory\n",
    "        Value : (int)\n",
    "            number of the item in all the stores\n",
    "            \n",
    "    Notes:\n",
    "    ------\n",
    "    1. If any of the three parameters are not dictionaries, than a ValueError is raised\n",
    "    '''\n",
    "    \n",
    "    # start writing your code below\n",
    "    \n",
    "\n",
    "                \n",
    "    return masterinventory"
   ]
  },
  {
   "cell_type": "code",
   "execution_count": null,
   "metadata": {
    "collapsed": true
   },
   "outputs": [],
   "source": [
    "stand1 = {'apple': 1}\n",
    "stand2 = {'banana': 1}\n",
    "stand3 = {'apple': 500}\n",
    "\n",
    "consolidate_inventory(stand1, stand2, stand3)"
   ]
  },
  {
   "cell_type": "code",
   "execution_count": null,
   "metadata": {
    "collapsed": true
   },
   "outputs": [],
   "source": [
    "consolidate_inventory(stand1, stand2, ['apples!!@!!11!1'])"
   ]
  },
  {
   "cell_type": "markdown",
   "metadata": {
    "collapsed": true
   },
   "source": [
    "##BONUS =)"
   ]
  },
  {
   "cell_type": "markdown",
   "metadata": {},
   "source": [
    "This question is a variation on Question 1... =) \n",
    "\n",
    "Now, instead of only being able to perform mathematical operations on two numbers, we would like to be able to calculate an entire equation string.\n",
    "\n",
    "For example:\n",
    "\n",
    "\\begin{equation}\n",
    "  1+3*5.9-6/7*1.3\n",
    "\\end{equation}"
   ]
  },
  {
   "cell_type": "code",
   "execution_count": 5,
   "metadata": {
    "collapsed": false
   },
   "outputs": [],
   "source": [
    "def master_calculator(equation):\n",
    "    '''\n",
    "    Parameters:\n",
    "    -----------\n",
    "    equation : (str)\n",
    "        the equation we would like to calculate\n",
    "    \n",
    "    Returns:\n",
    "    --------\n",
    "    answer : (float)\n",
    "        the solution to the equation\n",
    "        \n",
    "    Note:\n",
    "    -----\n",
    "    1. The only operation that will be used are: '/', '*', '+', '-'\n",
    "    2. Please round to second decimal place\n",
    "    3. To make this easier on everyone...... We will ignore the possibility of having a ZeroDivisionError\n",
    "    '''\n",
    "    \n",
    "    # start writing your code below\n",
    "    \n",
    "    return answer\n",
    "    "
   ]
  },
  {
   "cell_type": "markdown",
   "metadata": {
    "collapsed": true
   },
   "source": [
    "If you are stuck, scroll down for a hint ... ... =]\n",
    "\n",
    "...\n",
    "\n",
    "....\n",
    "\n",
    ".....\n",
    "\n",
    "......\n",
    "\n",
    ".....\n",
    "\n",
    "....\n",
    "\n",
    "...\n",
    "\n",
    "....\n",
    "\n",
    ".....\n",
    "\n",
    "......\n",
    "\n",
    ".....\n",
    "\n",
    "....\n",
    "\n",
    "...\n",
    "\n",
    "....\n",
    "\n",
    ".....\n",
    "\n",
    "......\n",
    "\n",
    ".....\n",
    "\n",
    "....\n",
    "\n",
    "...\n",
    "\n",
    "....\n",
    "\n",
    ".....\n",
    "\n",
    "......\n",
    "\n",
    ".....\n",
    "\n",
    "....\n",
    "\n",
    "...\n",
    "\n",
    "....\n",
    "\n",
    ".....\n",
    "\n",
    "......\n",
    "\n",
    ".....\n",
    "\n",
    "....\n",
    "\n",
    "...\n",
    "\n",
    "....\n",
    "\n",
    ".....\n",
    "\n",
    "......\n",
    "\n",
    ".....\n",
    "\n",
    "....\n",
    "\n",
    "...\n",
    "\n",
    "....\n",
    "\n",
    ".....\n",
    "\n",
    "......\n",
    "\n",
    ".....\n",
    "\n",
    "....\n",
    "\n",
    "...\n",
    "\n",
    "....\n",
    "\n",
    ".....\n",
    "\n",
    "......\n",
    "\n",
    ".....\n",
    "\n",
    "....\n",
    "\n",
    "...\n",
    "\n",
    "....\n",
    "\n",
    ".....\n",
    "\n",
    "......\n",
    "\n",
    ".....\n",
    "\n",
    "....\n",
    "\n",
    "...\n",
    "\n",
    "....\n",
    "\n",
    ".....\n",
    "\n",
    "......\n",
    "\n",
    ".....\n",
    "\n",
    "....\n",
    "\n",
    "...\n",
    "\n",
    "....\n",
    "\n",
    ".....\n",
    "\n",
    "......\n",
    "\n",
    ".....\n",
    "\n",
    "....\n",
    "\n",
    "...\n",
    "\n",
    "Try first seperating the equation string into two lists one with the operations and the other with just the numbers:\n",
    "\\begin{equation}\n",
    "  1+3*5.9-6/7*1.3\n",
    "\\end{equation}\n",
    "Then becomes: \n",
    "\\begin{equation}\n",
    "[1, 3, 5.9, 6, 7, 1.3 ]\n",
    "and\n",
    "[+, *, -, /, *]\n",
    "\\end{equation}\n",
    "\n",
    "For hints on how to do this... ...\n",
    "\n",
    "...\n",
    "\n",
    "....\n",
    "\n",
    ".....\n",
    "\n",
    "......\n",
    "\n",
    ".....\n",
    "\n",
    "....\n",
    "\n",
    "...\n",
    "\n",
    "....\n",
    "\n",
    ".....\n",
    "\n",
    "......\n",
    "\n",
    ".....\n",
    "\n",
    "....\n",
    "\n",
    "...\n",
    "\n",
    "....\n",
    "\n",
    ".....\n",
    "\n",
    "......\n",
    "\n",
    ".....\n",
    "\n",
    "....\n",
    "\n",
    "...\n",
    "\n",
    "....\n",
    "\n",
    ".....\n",
    "\n",
    "......\n",
    "\n",
    ".....\n",
    "\n",
    "....\n",
    "\n",
    "...\n",
    "\n",
    "....\n",
    "\n",
    ".....\n",
    "\n",
    "......\n",
    "\n",
    ".....\n",
    "\n",
    "....\n",
    "\n",
    "...\n",
    "\n",
    "....\n",
    "\n",
    ".....\n",
    "\n",
    "......\n",
    "\n",
    ".....\n",
    "\n",
    "....\n",
    "\n",
    "...\n",
    "\n",
    "....\n",
    "\n",
    ".....\n",
    "\n",
    "......\n",
    "\n",
    ".....\n",
    "\n",
    "....\n",
    "\n",
    "...\n",
    "\n",
    "....\n",
    "\n",
    ".....\n",
    "\n",
    "......\n",
    "\n",
    ".....\n",
    "\n",
    "....\n",
    "\n",
    "...\n",
    "\n",
    "....\n",
    "\n",
    ".....\n",
    "\n",
    "......\n",
    "\n",
    ".....\n",
    "\n",
    "....\n",
    "\n",
    "...\n",
    "\n",
    "....\n",
    "\n",
    ".....\n",
    "\n",
    "......\n",
    "\n",
    ".....\n",
    "\n",
    "....\n",
    "\n",
    "...\n",
    "\n",
    "....\n",
    "\n",
    ".....\n",
    "\n",
    "......\n",
    "\n",
    ".....\n",
    "\n",
    "....\n",
    "\n",
    "...\n",
    "\n",
    "1. iterate through the string and append mathematical operations to a seperate list\n",
    "2. use the split() function to separate out the numbers\n"
   ]
  },
  {
   "cell_type": "code",
   "execution_count": null,
   "metadata": {
    "collapsed": true
   },
   "outputs": [],
   "source": []
  }
 ],
 "metadata": {
  "kernelspec": {
   "display_name": "Python 3",
   "language": "python",
   "name": "python3"
  },
  "language_info": {
   "codemirror_mode": {
    "name": "ipython",
    "version": 3
   },
   "file_extension": ".py",
   "mimetype": "text/x-python",
   "name": "python",
   "nbconvert_exporter": "python",
   "pygments_lexer": "ipython3",
   "version": "3.4.3"
  }
 },
 "nbformat": 4,
 "nbformat_minor": 0
}
