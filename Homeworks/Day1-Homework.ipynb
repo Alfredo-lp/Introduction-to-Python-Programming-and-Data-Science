{
 "cells": [
  {
   "cell_type": "markdown",
   "metadata": {},
   "source": [
    "# Congrats on completing your first day of Python bootcamp!\n",
    "You are now well on your way to becoming a master at programing. \n",
    "Here are some problems that you can show off your new skills with."
   ]
  },
  {
   "cell_type": "markdown",
   "metadata": {},
   "source": [
    "# Question 1"
   ]
  },
  {
   "cell_type": "markdown",
   "metadata": {},
   "source": [
    "You should write code to print the sum of two numbers. However, you might not always be given two numbers! \n",
    "\n",
    "Write code that will take two inputs and add them together if they are both numbers."
   ]
  },
  {
   "cell_type": "code",
   "execution_count": 3,
   "metadata": {
    "collapsed": false
   },
   "outputs": [],
   "source": [
    "def add_two_numbers(number1, number2):\n",
    "    '''\n",
    "    Write code that will take two numbers and add them together.\n",
    "\n",
    "    Parameters: \n",
    "    -----------\n",
    "    number1 : (int, float, string)\n",
    "    number2 : (int, float, string)\n",
    "        Whole numbers from 1-9, but can take various forms.\n",
    "        If in string form they can either be in the form of '5' or 'five'.\n",
    "        The variables number1 and number2 do not have to be the same type either!\n",
    "\n",
    "    Return: \n",
    "    -------\n",
    "    twonumsum : (int)\n",
    "        The sum of number1 and number2.\n",
    "        \n",
    "    Notes:\n",
    "    ------\n",
    "    1. If the variables number1 and number2 are not whole numbers from 1 to 9, the code will raise a ValueError.\n",
    "    '''\n",
    "    \n",
    "    # start writing your code below\n",
    "    \n",
    "\n",
    "    return twonumsum\n"
   ]
  },
  {
   "cell_type": "code",
   "execution_count": null,
   "metadata": {
    "collapsed": true
   },
   "outputs": [],
   "source": [
    "add_two_numbers(2, 6)"
   ]
  },
  {
   "cell_type": "code",
   "execution_count": null,
   "metadata": {
    "collapsed": true
   },
   "outputs": [],
   "source": [
    "add_two_number(2.5, 6.5)"
   ]
  },
  {
   "cell_type": "code",
   "execution_count": null,
   "metadata": {
    "collapsed": true
   },
   "outputs": [],
   "source": [
    "add_two_numbers('cat', 6.5)"
   ]
  },
  {
   "cell_type": "code",
   "execution_count": null,
   "metadata": {
    "collapsed": true
   },
   "outputs": [],
   "source": [
    "add_two_numbers(2, 'kitten')"
   ]
  },
  {
   "cell_type": "code",
   "execution_count": null,
   "metadata": {
    "collapsed": true
   },
   "outputs": [],
   "source": [
    "#Add more tests here\n"
   ]
  },
  {
   "cell_type": "markdown",
   "metadata": {
    "collapsed": true
   },
   "source": [
    "# Question 2\n",
    "\n",
    "You should write code that will take every third letter from a word and capitalize it. So a word like:\n",
    "\n",
    "'potatoes'\n",
    " \n",
    " \n",
    " will become\n",
    " \n",
    " 'poTatOes'"
   ]
  },
  {
   "cell_type": "code",
   "execution_count": 1,
   "metadata": {
    "collapsed": true
   },
   "outputs": [],
   "source": [
    "def third_letter_capitalize(word, word_length):\n",
    "    '''\n",
    "    Write code that will capitalize the third letter in a given word\n",
    "    \n",
    "    Parameters: \n",
    "    -----------\n",
    "    word: string\n",
    "    word_length: integer\n",
    "    \n",
    "    Return:\n",
    "    --------\n",
    "    new_word : string\n",
    "    '''\n",
    "    \n",
    "    return new_word"
   ]
  },
  {
   "cell_type": "code",
   "execution_count": null,
   "metadata": {
    "collapsed": true
   },
   "outputs": [],
   "source": [
    "third_letter_capitalize('fragrant', 8)"
   ]
  },
  {
   "cell_type": "code",
   "execution_count": null,
   "metadata": {
    "collapsed": true
   },
   "outputs": [],
   "source": [
    "third_letter_capitalize('hateful eight', 13)"
   ]
  },
  {
   "cell_type": "code",
   "execution_count": null,
   "metadata": {
    "collapsed": true
   },
   "outputs": [],
   "source": [
    "third_letter_capitalize('ha2lm3', 6)"
   ]
  },
  {
   "cell_type": "markdown",
   "metadata": {},
   "source": [
    "# Question 3\n",
    "\n",
    "I want you to write code that will scan through a word and determine if it has the substring 'cat' inside of it.\n",
    "\n",
    "If it does, I want you to return `True`\n",
    "\n",
    "If it does not, I want you to return `False`"
   ]
  },
  {
   "cell_type": "code",
   "execution_count": 2,
   "metadata": {
    "collapsed": true
   },
   "outputs": [],
   "source": [
    "def find_cat_in_word(word, word_length):\n",
    "    '''\n",
    "    Write code that will scan through a word and determine if it has the substring 'cat' inside of it.\n",
    "    If it does, return True, else return False\n",
    "    \n",
    "    Parameters:\n",
    "    -----------\n",
    "    word: string\n",
    "    word_length: integer\n",
    "    \n",
    "    Return:\n",
    "    -------\n",
    "    found_cat: boolean\n",
    "    '''\n",
    "    \n",
    "    return found_cat"
   ]
  },
  {
   "cell_type": "code",
   "execution_count": 4,
   "metadata": {
    "collapsed": false
   },
   "outputs": [],
   "source": [
    "found_cat_in_word('concatenate', 11)"
   ]
  },
  {
   "cell_type": "code",
   "execution_count": null,
   "metadata": {
    "collapsed": true
   },
   "outputs": [],
   "source": [
    "found_cat_in_word('stapler', 7)"
   ]
  },
  {
   "cell_type": "code",
   "execution_count": null,
   "metadata": {
    "collapsed": true
   },
   "outputs": [],
   "source": [
    "found_cat_in_word('to', 2)"
   ]
  },
  {
   "cell_type": "markdown",
   "metadata": {},
   "source": [
    "# Question 4\n",
    "\n",
    "I want you to write code to create pig-latin words. The rules of pig-latin are as follows:\n",
    "\n",
    "For words that begin with consonant sounds, all letters before the initial vowel are placed at the end of the word sequence. Then, \"ay\" (some people just add \"a\") is added, as in the following examples:\n",
    "\n",
    "\"pig\" → \"igpay\"\n",
    "\"banana\" → \"ananabay\"\n",
    "\"trash\" → \"ashtray\"\n",
    "\"happy\" → \"appyhay\"\n",
    "\"duck\" → \"uckday\"\n",
    "\"glove\" → \"oveglay\"\n",
    "\n",
    "For words that begin with vowel sounds or a silent letter, one just adds \"yay\" to the end. Examples are:\n",
    "\n",
    "\"eat\" → \"eatyay\"\n",
    "\"omelet\" → \"omeletyay\"\n",
    "\"are\" → \"areyay\"\n",
    "\n",
    "If a word has a punctuation mark at the end it should be removed (pig latin doesn't know what to do with punctuation!"
   ]
  },
  {
   "cell_type": "code",
   "execution_count": 5,
   "metadata": {
    "collapsed": true
   },
   "outputs": [],
   "source": [
    "def pig_latin(word):\n",
    "    '''\n",
    "    Write code that will take a word and translate it to pig latin. \n",
    "    \n",
    "    Parameters:\n",
    "    -----------\n",
    "    word: string\n",
    "    \n",
    "    Return:\n",
    "    -------\n",
    "    translated: string\n",
    "    '''\n",
    "    \n",
    "    return translated"
   ]
  },
  {
   "cell_type": "code",
   "execution_count": null,
   "metadata": {
    "collapsed": true
   },
   "outputs": [],
   "source": [
    "pig_latin('party')"
   ]
  },
  {
   "cell_type": "code",
   "execution_count": null,
   "metadata": {
    "collapsed": true
   },
   "outputs": [],
   "source": [
    "pig_latin('speakers.')"
   ]
  },
  {
   "cell_type": "code",
   "execution_count": null,
   "metadata": {
    "collapsed": true
   },
   "outputs": [],
   "source": [
    "pig_latin('eat')"
   ]
  },
  {
   "cell_type": "code",
   "execution_count": null,
   "metadata": {
    "collapsed": true
   },
   "outputs": [],
   "source": []
  }
 ],
 "metadata": {
  "anaconda-cloud": {},
  "kernelspec": {
   "display_name": "Python [Root]",
   "language": "python",
   "name": "Python [Root]"
  },
  "language_info": {
   "codemirror_mode": {
    "name": "ipython",
    "version": 3
   },
   "file_extension": ".py",
   "mimetype": "text/x-python",
   "name": "python",
   "nbconvert_exporter": "python",
   "pygments_lexer": "ipython3",
   "version": "3.5.1"
  }
 },
 "nbformat": 4,
 "nbformat_minor": 0
}
