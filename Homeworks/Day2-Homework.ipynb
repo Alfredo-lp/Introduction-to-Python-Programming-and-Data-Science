{
 "cells": [
  {
   "cell_type": "markdown",
   "metadata": {},
   "source": [
    "# Day2 Homework\n",
    "\n",
    "Today we've covered file systems, file input/output, and how to make functions. \n",
    "\n",
    "We will practice some basic file input and outputs and how to write functions in this homework. \n",
    "\n",
    "\n",
    "※ Don't forget to close() the file after you are done with it"
   ]
  },
  {
   "cell_type": "code",
   "execution_count": null,
   "metadata": {
    "collapsed": true
   },
   "outputs": [],
   "source": [
    "#json and glob are Python standard libraries we are going to use in this homework,\n",
    "from glob import glob\n",
    "import tempfile\n",
    "import os"
   ]
  },
  {
   "cell_type": "markdown",
   "metadata": {},
   "source": [
    "# Question 1. File Input\n",
    "Let's practice what we have learned for reading files. \n",
    "\n",
    "This function should count the total number of lines in a file, including empty lines. \n",
    "\n",
    "It can be any file in text format (.txt)\n",
    "(You can use the demographic information files you used during the lectures.)\n",
    "\n",
    "Note: Remember to specifiy the folder location in file_name"
   ]
  },
  {
   "cell_type": "code",
   "execution_count": 1,
   "metadata": {
    "collapsed": true
   },
   "outputs": [],
   "source": [
    "def count_lines(file_name):\n",
    "    \"\"\"\n",
    "    input:\n",
    "        file_name - str, path to the file you want to read\n",
    "    output:\n",
    "        number_of_lines - int, number of lines in the file\n",
    "    \"\"\"\n",
    "    #Your code\n",
    "    \n",
    "    return number_of_lines"
   ]
  },
  {
   "cell_type": "code",
   "execution_count": null,
   "metadata": {
    "collapsed": true
   },
   "outputs": [],
   "source": [
    "#Use this cell to test your function\n",
    "#ex ) file1_lines = count_lines(file_name1)"
   ]
  },
  {
   "cell_type": "markdown",
   "metadata": {},
   "source": [
    "# Question 2. File Input\n",
    "Now that we know how to read files, let's extract the specific information you are interested in. \n",
    "\n",
    "You want to send an e-mail to a person in '../Data/Roster/' folder. \n",
    "\n",
    "But, to do so you need to know his/her e-mail. \n",
    "\n",
    "Read the file and get the persons e-mail address (ex) betty.coleman@northwestern.edu"
   ]
  },
  {
   "cell_type": "code",
   "execution_count": 3,
   "metadata": {
    "collapsed": true
   },
   "outputs": [],
   "source": [
    "def get_email(file_name):\n",
    "    \"\"\"\n",
    "    input:\n",
    "        file_name - str, path to the file you want to read\n",
    "    output:\n",
    "        email - str, email address of the person in the file\n",
    "    \"\"\"\n",
    "    #Your code\n",
    "    return email"
   ]
  },
  {
   "cell_type": "code",
   "execution_count": 4,
   "metadata": {
    "collapsed": true
   },
   "outputs": [],
   "source": [
    "#Use this cell to test your function\n"
   ]
  },
  {
   "cell_type": "markdown",
   "metadata": {},
   "source": [
    "# Question 3. File Input\n",
    "You want to compare birth years of two $\\textbf{different}$ people in '../Data/Roster/' folder and know whether they were born in the same year. \n",
    "\n",
    "\n",
    "Get birth years from two files and compare them."
   ]
  },
  {
   "cell_type": "code",
   "execution_count": null,
   "metadata": {
    "collapsed": true
   },
   "outputs": [],
   "source": [
    "def compare_birth_year(file_name1, file_name2):\n",
    "    \"\"\"\n",
    "    compare birth years of two people\n",
    "    input:\n",
    "        file_name1 - str, path to the file you want to read\n",
    "        file_name2 - str, path to the file you will compare to first file\n",
    "    output:\n",
    "        same_year - bool, True if two people are born in the same year, False if they are not\n",
    "    \"\"\"\n",
    "    #Your code\n",
    "    \n",
    "    return same_year"
   ]
  },
  {
   "cell_type": "code",
   "execution_count": null,
   "metadata": {
    "collapsed": true
   },
   "outputs": [],
   "source": [
    "#Use this cell to test your function\n"
   ]
  },
  {
   "cell_type": "markdown",
   "metadata": {},
   "source": [
    "# Question 4. File Output\n",
    "Enough with reading files. Let's see if you can write a file. \n",
    "Write your demographic information in any folder (but it has to be a folder you can find later)\n",
    "\n",
    "Write the given demographics in order that is given. \n",
    "You will get full scores only if it is in order. \n",
    "\n",
    "Save the file name '/location/to/the/folder/your_netid.txt"
   ]
  },
  {
   "cell_type": "code",
   "execution_count": 1,
   "metadata": {
    "collapsed": true
   },
   "outputs": [],
   "source": [
    "def write_demographics(netid, folder_path):\n",
    "    \"\"\"\n",
    "    input:\n",
    "        netid - str, your netid, going to be your file name\n",
    "    output:\n",
    "        write your demographic information into a file on your desktop. \n",
    "        file name: your_netid.txt (ex. abc123.txt)\n",
    "        file should be formatted like following\n",
    "        Name: \n",
    "        Date of Birth: MM/DD/YY \n",
    "        Email Address: \n",
    "        Department: \n",
    "        Height: \n",
    "        Weight: \n",
    "        Favorite Color: \n",
    "        Favorite Animal: \n",
    "        Zodiac Sign: \n",
    "        (put a space after each colon)\n",
    "    \"\"\"\n",
    "    #Write your own demoraphic information into a file on your 'Desktop' with your netid as title in .txt format\n",
    "    netid += '.txt'\n",
    "    file_name = os.path.join(folder_path, netid)\n",
    "    #Your code\n",
    "\n",
    "    return file_name\n",
    "    "
   ]
  },
  {
   "cell_type": "code",
   "execution_count": null,
   "metadata": {
    "collapsed": true
   },
   "outputs": [],
   "source": [
    "#Use this cell to test your function\n"
   ]
  },
  {
   "cell_type": "markdown",
   "metadata": {},
   "source": [
    "### Question 5. File Output\n",
    "Oops, you forgot to write your favorite movie in the file you just created. \n",
    "\n",
    "Add your favorite movie to the last line of your demographic information file. \n",
    "\n",
    "Hint: Use the file_name returned from question 4."
   ]
  },
  {
   "cell_type": "code",
   "execution_count": null,
   "metadata": {
    "collapsed": true
   },
   "outputs": [],
   "source": [
    "def add_favorite_movie(file_name, movie):\n",
    "    '''\n",
    "    Add Favorite movie to the last line of the existing file\n",
    "    input:\n",
    "        file_name - str, name of the path for the file to which you will add the line\n",
    "        movie - str, name of the movie\n",
    "    output:\n",
    "        add line that says \n",
    "        Favorite Movie: movie (your input)\n",
    "        to the file you chose\n",
    "    '''\n",
    "    #Your code"
   ]
  },
  {
   "cell_type": "code",
   "execution_count": 5,
   "metadata": {
    "collapsed": true
   },
   "outputs": [],
   "source": [
    "#Use this cell to test your function\n"
   ]
  },
  {
   "cell_type": "markdown",
   "metadata": {},
   "source": [
    "### Question 6. Many many files\n",
    "Python has a function called glob that grabs files for you. As long as you tell it exactly what kind of files you want it to get! It will give you list of file names as a string.\n",
    "\n",
    "(You will learn more about it tomorrow when you learn about Python standard library)\n",
    "\n",
    "Here, read all the files in Roster folder and count how many people are in each department. Return what you have found as dictionary."
   ]
  },
  {
   "cell_type": "code",
   "execution_count": null,
   "metadata": {
    "collapsed": true
   },
   "outputs": [],
   "source": [
    "def count_department(folder_name):\n",
    "    \"\"\"\n",
    "    input:\n",
    "        folder_name - str, name of the folder where all your files are saved. should end with /\n",
    "    output:\n",
    "        number_of_dept- dict (key: majors, values: number of people who have the major)\n",
    "                        ex：{'Engineering':10, 'Nursing':17 ... }\n",
    "    \n",
    "    \"\"\"\n",
    "    folder_name += '*' #* means every file in the folder. Can be changed to .txt, .csv (file extensions) or name of a fil\n",
    "    file_names = glob(folder_name) #list of file names in the folder\n",
    "    #Your code\n",
    "    \n",
    "    return number_of_dept\n",
    "    "
   ]
  },
  {
   "cell_type": "code",
   "execution_count": null,
   "metadata": {
    "collapsed": true
   },
   "outputs": [],
   "source": [
    "#Use this cell to test your function\n"
   ]
  }
 ],
 "metadata": {
  "anaconda-cloud": {},
  "kernelspec": {
   "display_name": "Python [Root]",
   "language": "python",
   "name": "Python [Root]"
  },
  "language_info": {
   "codemirror_mode": {
    "name": "ipython",
    "version": 3
   },
   "file_extension": ".py",
   "mimetype": "text/x-python",
   "name": "python",
   "nbconvert_exporter": "python",
   "pygments_lexer": "ipython3",
   "version": "3.5.1"
  }
 },
 "nbformat": 4,
 "nbformat_minor": 0
}
