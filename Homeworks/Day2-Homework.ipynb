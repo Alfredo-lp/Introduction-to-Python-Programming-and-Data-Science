{
 "cells": [
  {
   "cell_type": "markdown",
   "metadata": {},
   "source": [
    "#Day2 Homework\n",
    "\n",
    "Today we've covered the file system, file input/output, and how to make functions. \n",
    "We will practice some basic file input and outputs and how to write functions in this homework. \n",
    "\n",
    "\n",
    "※ Don't forget to close() the file after you are done with it"
   ]
  },
  {
   "cell_type": "code",
   "execution_count": null,
   "metadata": {
    "collapsed": true
   },
   "outputs": [],
   "source": [
    "#json and glob is Python standard library we are going to use in this homework,\n",
    "#You will learn more about standard library tomorrow.\n",
    "import json\n",
    "from glob import glob"
   ]
  },
  {
   "cell_type": "markdown",
   "metadata": {},
   "source": [
    "##1.Working with files"
   ]
  },
  {
   "cell_type": "markdown",
   "metadata": {},
   "source": [
    "### 1.1. File Input"
   ]
  },
  {
   "cell_type": "code",
   "execution_count": null,
   "metadata": {
    "collapsed": true
   },
   "outputs": [],
   "source": [
    "def count_lines(file_name):\n",
    "    \"\"\"\n",
    "    input:\n",
    "        file_name - str, name of the file you want to read\n",
    "    output:\n",
    "        number_of_lines - int, number of lines in the file\n",
    "    \"\"\"\n",
    "    #Your code\n",
    "    myFile = open(file_name, 'r')\n",
    "    lines = myFile.readlines()\n",
    "    number_of_lines = len(lines)\n",
    "    return number_of_lines"
   ]
  },
  {
   "cell_type": "code",
   "execution_count": null,
   "metadata": {
    "collapsed": true
   },
   "outputs": [],
   "source": [
    "#Use this cell to test your function\n",
    "#ex ) file1_lines = count_lines(file_name1)"
   ]
  },
  {
   "cell_type": "code",
   "execution_count": 1,
   "metadata": {
    "collapsed": true
   },
   "outputs": [],
   "source": [
    "def get_email(file_name):\n",
    "    \"\"\"\n",
    "    input:\n",
    "        file_name - str, name of the file you want to read\n",
    "    output:\n",
    "        email - str, email address of the person in the file\n",
    "    \"\"\"\n",
    "    #Your code\n",
    "    return email"
   ]
  },
  {
   "cell_type": "code",
   "execution_count": null,
   "metadata": {
    "collapsed": true
   },
   "outputs": [],
   "source": [
    "#Use this cell to test your function\n"
   ]
  },
  {
   "cell_type": "code",
   "execution_count": null,
   "metadata": {
    "collapsed": true
   },
   "outputs": [],
   "source": [
    "def compare_birth_year(file_name1, file_name2):\n",
    "    \"\"\"\n",
    "    compare birth years of two people\n",
    "    input:\n",
    "        file_name1 - str, name of the file you want to read\n",
    "        file_name2 - str, name of the file you will compare to first file\n",
    "    output:\n",
    "        same_year - bool, True if two people are born in the same year, False if they are not\n",
    "    \"\"\"\n",
    "    #Your code\n",
    "    \n",
    "    return same_year"
   ]
  },
  {
   "cell_type": "code",
   "execution_count": null,
   "metadata": {
    "collapsed": true
   },
   "outputs": [],
   "source": [
    "#Use this cell to test your function\n"
   ]
  },
  {
   "cell_type": "markdown",
   "metadata": {},
   "source": [
    "### 1.2 File Output"
   ]
  },
  {
   "cell_type": "code",
   "execution_count": null,
   "metadata": {
    "collapsed": true
   },
   "outputs": [],
   "source": [
    "def write_demographics(file_name):\n",
    "    \"\"\"\n",
    "    input:\n",
    "        file_name - str, name of the file you will write\n",
    "    output:\n",
    "        write your demographic information into a file on your desktop. \n",
    "        file name: your_netid.txt (ex. abc123.txt)\n",
    "        file should be formatted like following\n",
    "        Name: \n",
    "        Date of Birth: MM/DD/YY \n",
    "        Email Address: \n",
    "        Department: \n",
    "        Height: \n",
    "        Weight: \n",
    "        Favorite Color: \n",
    "        Favorite Animal: \n",
    "        Zodiac Sign: \n",
    "        (put a space after each colon)\n",
    "    \"\"\"\n",
    "    #Write your own demoraphic information into a file on your 'Desktop' with your netid as title in .txt format\n",
    "    #Your code\n",
    "    "
   ]
  },
  {
   "cell_type": "code",
   "execution_count": null,
   "metadata": {
    "collapsed": true
   },
   "outputs": [],
   "source": [
    "#Use this cell to test your function\n"
   ]
  },
  {
   "cell_type": "code",
   "execution_count": null,
   "metadata": {
    "collapsed": true
   },
   "outputs": [],
   "source": [
    "def add_favorite_movie(file_name, movie):\n",
    "    '''\n",
    "    Add Favorite movie to the last line of the existing file\n",
    "    input:\n",
    "        file_name - str, name of the file you will add the line\n",
    "        movie - str, name of the movie\n",
    "    output:\n",
    "        add line that says \n",
    "        Favorite Movie -- movie (your input)\n",
    "        to the file you chose\n",
    "    '''\n",
    "    #Your code"
   ]
  },
  {
   "cell_type": "code",
   "execution_count": null,
   "metadata": {
    "collapsed": true
   },
   "outputs": [],
   "source": [
    "#Use this cell to test your function\n"
   ]
  },
  {
   "cell_type": "code",
   "execution_count": null,
   "metadata": {
    "collapsed": true
   },
   "outputs": [],
   "source": [
    "def count_department(folder_name):\n",
    "    \"\"\"\n",
    "    input:\n",
    "        folder_name - str, name of the folder where all your files are saved. should end with /\n",
    "    output:\n",
    "        number_of_dept- dict (key: majors, values: number of people who have the major)\n",
    "                        ex){'Engineering':10, 'Nursing':17 ... }\n",
    "    \n",
    "    \"\"\"\n",
    "    folder_name += '*' #* means every file in the folder. Can be changed to .txt, .csv (file extensions) or name of a fil\n",
    "    file_names = glob(folder_name) #list of file names in the folder\n",
    "    #Your code\n",
    "    \n",
    "    return number_of_dept\n",
    "    "
   ]
  },
  {
   "cell_type": "code",
   "execution_count": null,
   "metadata": {
    "collapsed": true
   },
   "outputs": [],
   "source": [
    "#Use this cell to test your function\n"
   ]
  },
  {
   "cell_type": "code",
   "execution_count": null,
   "metadata": {
    "collapsed": true
   },
   "outputs": [],
   "source": [
    "def save_department(folder_name, dictionary):\n",
    "    \"\"\"\n",
    "    1. Make a directory on Desktop using bashcommand at the terminal before you start named Result\n",
    "    2. Save the the department dictionary you made previously using json.dump into Result folder\n",
    "    input:\n",
    "        folder_name - str, folder you are saving your dictionary\n",
    "        dictionary - dict, dictionary you are saving\n",
    "    output:\n",
    "        json file in the directed folder\n",
    "    \"\"\"\n",
    "    #Your code\n",
    "    \n",
    "    "
   ]
  },
  {
   "cell_type": "code",
   "execution_count": null,
   "metadata": {
    "collapsed": true
   },
   "outputs": [],
   "source": [
    "#Use this cell to test your function\n"
   ]
  },
  {
   "cell_type": "markdown",
   "metadata": {},
   "source": [
    "##2.Functions"
   ]
  },
  {
   "cell_type": "code",
   "execution_count": 5,
   "metadata": {
    "collapsed": true
   },
   "outputs": [],
   "source": [
    "def fibonacci(n):\n",
    "    \"\"\"\n",
    "    input \n",
    "        n - int, length of fibonacci numbers you want to produce\n",
    "    output\n",
    "        fibonacci - list, list of fibonacci numbers\n",
    "    \"\"\"\n",
    "    #Your code\n",
    "    \n",
    "    return fibonacci"
   ]
  },
  {
   "cell_type": "code",
   "execution_count": 6,
   "metadata": {
    "collapsed": false
   },
   "outputs": [],
   "source": [
    "#Use this cell to test your function\n"
   ]
  },
  {
   "cell_type": "code",
   "execution_count": 7,
   "metadata": {
    "collapsed": true
   },
   "outputs": [],
   "source": [
    "def number_of_digits(n):\n",
    "    \"\"\"\n",
    "    input\n",
    "        n - int, a number\n",
    "    output\n",
    "        digits - int, number of digits in the number\n",
    "    \"\"\"\n",
    "    #Your code\n",
    "    \n",
    "    return digits"
   ]
  },
  {
   "cell_type": "code",
   "execution_count": null,
   "metadata": {
    "collapsed": true
   },
   "outputs": [],
   "source": [
    "#Use this cell to test your function\n"
   ]
  },
  {
   "cell_type": "code",
   "execution_count": null,
   "metadata": {
    "collapsed": true
   },
   "outputs": [],
   "source": [
    "def area_of_triangle(a, b, c):\n",
    "    \"\"\"\n",
    "    input:\n",
    "        a, b, c - float, Three sides of the triangle\n",
    "    output: \n",
    "        S - float, The are of the triangle\n",
    "    \"\"\"\n",
    "    #Your code\n",
    "    \n",
    "    return S"
   ]
  },
  {
   "cell_type": "code",
   "execution_count": null,
   "metadata": {
    "collapsed": true
   },
   "outputs": [],
   "source": [
    "#Use this cell to test your function\n"
   ]
  },
  {
   "cell_type": "code",
   "execution_count": null,
   "metadata": {
    "collapsed": true
   },
   "outputs": [],
   "source": []
  },
  {
   "cell_type": "code",
   "execution_count": null,
   "metadata": {
    "collapsed": true
   },
   "outputs": [],
   "source": []
  },
  {
   "cell_type": "code",
   "execution_count": null,
   "metadata": {
    "collapsed": true
   },
   "outputs": [],
   "source": []
  }
 ],
 "metadata": {
  "kernelspec": {
   "display_name": "Python 3",
   "language": "python",
   "name": "python3"
  },
  "language_info": {
   "codemirror_mode": {
    "name": "ipython",
    "version": 3
   },
   "file_extension": ".py",
   "mimetype": "text/x-python",
   "name": "python",
   "nbconvert_exporter": "python",
   "pygments_lexer": "ipython3",
   "version": "3.4.3"
  }
 },
 "nbformat": 4,
 "nbformat_minor": 0
}
