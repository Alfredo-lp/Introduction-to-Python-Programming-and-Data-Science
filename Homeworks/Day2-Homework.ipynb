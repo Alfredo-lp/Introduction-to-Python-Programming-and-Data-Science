{
 "cells": [
  {
   "cell_type": "markdown",
   "metadata": {},
   "source": [
    "#Day2 Homework\n",
    "\n",
    "Today we've covered file systems, file input/output, and how to make functions. \n",
    "\n",
    "We will practice some basic file input and outputs and how to write functions in this homework. \n",
    "\n",
    "\n",
    "※ Don't forget to close() the file after you are done with it"
   ]
  },
  {
   "cell_type": "code",
   "execution_count": null,
   "metadata": {
    "collapsed": true
   },
   "outputs": [],
   "source": [
    "#json and glob are Python standard libraries we are going to use in this homework,\n",
    "#You will learn more about standard library tomorrow.\n",
    "import json\n",
    "from glob import glob\n",
    "import tempfile\n",
    "import os"
   ]
  },
  {
   "cell_type": "markdown",
   "metadata": {},
   "source": [
    "###Question 1. File Input\n",
    "Let's practice what we have learned for reading files. \n",
    "\n",
    "Count the total number of lines in a file. \n",
    "\n",
    "It can be any file in text format (.txt)\n",
    "(You can use demographic information files you used during the lectures. It is going to be in the folder: Data)\n",
    "\n",
    "Note: Remember to specifiy the folder location. "
   ]
  },
  {
   "cell_type": "code",
   "execution_count": 1,
   "metadata": {
    "collapsed": true
   },
   "outputs": [],
   "source": [
    "def count_lines(file_name):\n",
    "    \"\"\"\n",
    "    input:\n",
    "        file_name - str, name of the file you want to read\n",
    "    output:\n",
    "        number_of_lines - int, number of lines in the file\n",
    "    \"\"\"\n",
    "    #Your code\n",
    "    \n",
    "    return number_of_lines"
   ]
  },
  {
   "cell_type": "code",
   "execution_count": null,
   "metadata": {
    "collapsed": true
   },
   "outputs": [],
   "source": [
    "#Use this cell to test your function\n",
    "#ex ) file1_lines = count_lines(file_name1)"
   ]
  },
  {
   "cell_type": "markdown",
   "metadata": {},
   "source": [
    "###Question 2. File Input\n",
    "Now we know how to read files, let's extract specific information you are interested in. \n",
    "\n",
    "You want to send e-mail to a person in '../Data/Roster/' folder. \n",
    "\n",
    "To do so you want to know his/hers e-mail. \n",
    "\n",
    "Read the file and get the persons e-mail address (ex) betty.coleman@northwestern.edu"
   ]
  },
  {
   "cell_type": "code",
   "execution_count": 3,
   "metadata": {
    "collapsed": true
   },
   "outputs": [],
   "source": [
    "def get_email(file_name):\n",
    "    \"\"\"\n",
    "    input:\n",
    "        file_name - str, name of the file you want to read\n",
    "    output:\n",
    "        email - str, email address of the person in the file\n",
    "    \"\"\"\n",
    "    #Your code\n",
    "    return email"
   ]
  },
  {
   "cell_type": "code",
   "execution_count": 4,
   "metadata": {
    "collapsed": true
   },
   "outputs": [],
   "source": [
    "#Use this cell to test your function\n"
   ]
  },
  {
   "cell_type": "markdown",
   "metadata": {},
   "source": [
    "###Question 3. File Input\n",
    "You want to compare birth years of two $\\textbf{different}$ people in '../Data/Roster/' folder and know whether they were born in the same year. \n",
    "\n",
    "\n",
    "Get birth years from two files and compare them."
   ]
  },
  {
   "cell_type": "code",
   "execution_count": null,
   "metadata": {
    "collapsed": true
   },
   "outputs": [],
   "source": [
    "def compare_birth_year(file_name1, file_name2):\n",
    "    \"\"\"\n",
    "    compare birth years of two people\n",
    "    input:\n",
    "        file_name1 - str, name of the file you want to read\n",
    "        file_name2 - str, name of the file you will compare to first file\n",
    "    output:\n",
    "        same_year - bool, True if two people are born in the same year, False if they are not\n",
    "    \"\"\"\n",
    "    #Your code\n",
    "    \n",
    "    return same_year"
   ]
  },
  {
   "cell_type": "code",
   "execution_count": null,
   "metadata": {
    "collapsed": true
   },
   "outputs": [],
   "source": [
    "#Use this cell to test your function\n"
   ]
  },
  {
   "cell_type": "markdown",
   "metadata": {},
   "source": [
    "###Question 4. File Output\n",
    "Enough with reading files. Let's see if you can write a file. \n",
    "\n",
    "Write your demographic information on your desktop.\n",
    "\n",
    "Save the file name '/location/to/the/folder/your_netid.txt\n"
   ]
  },
  {
   "cell_type": "code",
   "execution_count": null,
   "metadata": {
    "collapsed": true
   },
   "outputs": [],
   "source": []
  },
  {
   "cell_type": "code",
   "execution_count": null,
   "metadata": {
    "collapsed": true
   },
   "outputs": [],
   "source": [
    "dirpath = tempfile.mkdtemp()\n",
    "def write_demographics(dir, netid):\n",
    "    \"\"\"\n",
    "    input:\n",
    "        netid - str, your netid, going to be your file name\n",
    "    output:\n",
    "        write your demographic information into a file on your desktop. \n",
    "        file name: your_netid.txt (ex. abc123.txt)\n",
    "        file should be formatted like following\n",
    "        Name: \n",
    "        Date of Birth: MM/DD/YY \n",
    "        Email Address: \n",
    "        Department: \n",
    "        Height: \n",
    "        Weight: \n",
    "        Favorite Color: \n",
    "        Favorite Animal: \n",
    "        Zodiac Sign: \n",
    "        (put a space after each colon)\n",
    "    \"\"\"\n",
    "    #Write your own demoraphic information into a file on your 'Desktop' with your netid as title in .txt format\n",
    "    dirpath = tempfile.mkdtemp()\n",
    "    netid += '.txt'\n",
    "    file_name = os.path.join(dirpath, netid)\n",
    "    #Your code\n",
    "    \n",
    "    return file_name\n",
    "    "
   ]
  },
  {
   "cell_type": "code",
   "execution_count": null,
   "metadata": {
    "collapsed": true
   },
   "outputs": [],
   "source": [
    "#Use this cell to test your function\n"
   ]
  },
  {
   "cell_type": "markdown",
   "metadata": {},
   "source": [
    "### Question 5. File Output\n",
    "Oops, you forgot to write your favorite movie in the file you just created. \n",
    "\n",
    "Add your favorite movie to the last line of your demographic information file. \n",
    "\n",
    "Hint: Use the file_name returned from question 4."
   ]
  },
  {
   "cell_type": "code",
   "execution_count": null,
   "metadata": {
    "collapsed": true
   },
   "outputs": [],
   "source": [
    "def add_favorite_movie(file_name, movie):\n",
    "    '''\n",
    "    Add Favorite movie to the last line of the existing file\n",
    "    input:\n",
    "        file_name - str, name of the file you will add the line\n",
    "        movie - str, name of the movie\n",
    "    output:\n",
    "        add line that says \n",
    "        Favorite Movie: movie (your input)\n",
    "        to the file you chose\n",
    "    '''\n",
    "    #Your code"
   ]
  },
  {
   "cell_type": "code",
   "execution_count": 5,
   "metadata": {
    "collapsed": true
   },
   "outputs": [],
   "source": [
    "#Use this cell to test your function\n"
   ]
  },
  {
   "cell_type": "markdown",
   "metadata": {},
   "source": [
    "### Question 6. Many many files\n",
    "Python has a function called glob that grabs files for you. As long as you tell it exactly what kind of files you want it to get! It will give you list of file names as string.\n",
    "\n",
    "(You will learn more about it tomorrow about Python standard library)\n",
    "\n",
    "Here, read all the files in Roster folder and count how many people are in each department. Return what you have found as dictionary."
   ]
  },
  {
   "cell_type": "code",
   "execution_count": null,
   "metadata": {
    "collapsed": true
   },
   "outputs": [],
   "source": [
    "def count_department(folder_name):\n",
    "    \"\"\"\n",
    "    input:\n",
    "        folder_name - str, name of the folder where all your files are saved. should end with /\n",
    "    output:\n",
    "        number_of_dept- dict (key: majors, values: number of people who have the major)\n",
    "                        ex：{'Engineering':10, 'Nursing':17 ... }\n",
    "    \n",
    "    \"\"\"\n",
    "    folder_name += '*' #* means every file in the folder. Can be changed to .txt, .csv (file extensions) or name of a fil\n",
    "    file_names = glob(folder_name) #list of file names in the folder\n",
    "    #Your code\n",
    "    \n",
    "    return number_of_dept\n",
    "    "
   ]
  },
  {
   "cell_type": "code",
   "execution_count": null,
   "metadata": {
    "collapsed": true
   },
   "outputs": [],
   "source": [
    "#Use this cell to test your function\n"
   ]
  },
  {
   "cell_type": "markdown",
   "metadata": {},
   "source": [
    "###Question 7. JSON\n",
    "Now let's save the dictionary into a json file. \n",
    "\n",
    "Use json.dump to save the dictionary you made in Question 6. on your Desktop."
   ]
  },
  {
   "cell_type": "code",
   "execution_count": null,
   "metadata": {
    "collapsed": true
   },
   "outputs": [],
   "source": [
    "def save_department(dictionary):\n",
    "    \"\"\"\n",
    "    input:\n",
    "        dictionary - dict, dictionary you are saving\n",
    "    output:\n",
    "        json file in the directed folder\n",
    "    \"\"\"\n",
    "    dirpath = tempfile.mkdtemp()\n",
    "    file_name = os.path.join(dirpath, 'department.json')\n",
    "    #Your code\n",
    "    \n",
    "    "
   ]
  },
  {
   "cell_type": "code",
   "execution_count": null,
   "metadata": {
    "collapsed": true
   },
   "outputs": [],
   "source": [
    "#Use this cell to test your function\n"
   ]
  },
  {
   "cell_type": "markdown",
   "metadata": {},
   "source": [
    "###Question 8. Functions - Fibonacci number\n",
    "Write a function that gives you a list of Fibonacci numbers. \n",
    "\n",
    "ex) fibonacci(6)\n",
    "\n",
    "[1, 1, 2, 3, 5, 8]"
   ]
  },
  {
   "cell_type": "code",
   "execution_count": 6,
   "metadata": {
    "collapsed": true
   },
   "outputs": [],
   "source": [
    "def fibonacci(n):\n",
    "    \"\"\"\n",
    "    input \n",
    "        n - int, length of fibonacci numbers you want to produce, n>=2\n",
    "    output\n",
    "        fibonacci - list, list of fibonacci numbers\n",
    "    \"\"\"\n",
    "    #Your code\n",
    "    \n",
    "    return fibonacci"
   ]
  },
  {
   "cell_type": "code",
   "execution_count": 7,
   "metadata": {
    "collapsed": false
   },
   "outputs": [],
   "source": [
    "#Use this cell to test your function\n"
   ]
  },
  {
   "cell_type": "markdown",
   "metadata": {},
   "source": [
    "### Question 9. Functions - Find digits\n",
    "Find the number of digits in an integer. \n",
    "\n",
    "ex) number_of_digits(346)\n",
    "\n",
    "3"
   ]
  },
  {
   "cell_type": "code",
   "execution_count": 7,
   "metadata": {
    "collapsed": true
   },
   "outputs": [],
   "source": [
    "def number_of_digits(n):\n",
    "    \"\"\"\n",
    "    input\n",
    "        n - int, a number\n",
    "    output\n",
    "        digits - int, number of digits in the number\n",
    "    \"\"\"\n",
    "    #Your code\n",
    "    \n",
    "    return digits"
   ]
  },
  {
   "cell_type": "code",
   "execution_count": null,
   "metadata": {
    "collapsed": true
   },
   "outputs": [],
   "source": [
    "#Use this cell to test your function\n"
   ]
  },
  {
   "cell_type": "markdown",
   "metadata": {},
   "source": [
    "###Question 10. Functions - Area of a triangle\n",
    "Find the area of a triangle. \n",
    "\n",
    "Area of triangle: \n",
    "\n",
    "$\n",
    "Area = \\sqrt{(s \\times (s-a) \\times (s-b) \\times (s-c))} = (s \\times (s-a) \\times (s-b) \\times (s-c))^{0.5} \\\\\n",
    "s = \\frac{(a+b+c)}{2}\n",
    "$\n",
    "\n",
    "\n",
    "ex) area_of_triangle(4,5,3)\n",
    "\n",
    "6"
   ]
  },
  {
   "cell_type": "code",
   "execution_count": null,
   "metadata": {
    "collapsed": true
   },
   "outputs": [],
   "source": [
    "def area_of_triangle(a, b, c):\n",
    "    \"\"\"\n",
    "    input:\n",
    "        a, b, c - float, Three sides of the triangle\n",
    "    output: \n",
    "        area - float, The area of the triangle\n",
    "    note:\n",
    "        if a triangle cannot be formed (longest edge is longer than the sum of other edges),\n",
    "        raise ValueError\n",
    "    \"\"\"\n",
    "    #Your code\n",
    "    \n",
    "    return area"
   ]
  },
  {
   "cell_type": "code",
   "execution_count": null,
   "metadata": {
    "collapsed": true
   },
   "outputs": [],
   "source": [
    "#Use this cell to test your function\n"
   ]
  },
  {
   "cell_type": "code",
   "execution_count": null,
   "metadata": {
    "collapsed": true
   },
   "outputs": [],
   "source": []
  },
  {
   "cell_type": "code",
   "execution_count": null,
   "metadata": {
    "collapsed": true
   },
   "outputs": [],
   "source": []
  }
 ],
 "metadata": {
  "kernelspec": {
   "display_name": "Python 3",
   "language": "python",
   "name": "python3"
  },
  "language_info": {
   "codemirror_mode": {
    "name": "ipython",
    "version": 3
   },
   "file_extension": ".py",
   "mimetype": "text/x-python",
   "name": "python",
   "nbconvert_exporter": "python",
   "pygments_lexer": "ipython3",
   "version": "3.4.3"
  }
 },
 "nbformat": 4,
 "nbformat_minor": 0
}
