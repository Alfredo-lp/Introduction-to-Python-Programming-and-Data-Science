{
 "cells": [
  {
   "cell_type": "markdown",
   "metadata": {},
   "source": [
    "# HOMEWORK 6: Email Processing\n",
    "\n",
    "\n",
    "Along with everyone else, you have a shot at winning the Republican primary. You anticipate an implosion of the Trump campaign, and have preemptively set your sights on Jeb Bush. Your smear tactics include a plan to convince Jeb's friends and colleagues to publicly denounce him. To this end, you plan to spam everyone Jeb knows in the hope that a handful of disgruntled individuals will come forward with details of Jeb's past indiscretions. As you only wish to turn Jeb's closest and longest-standing allies, you turn to an old dataset in order to identify his contacts: Jeb's published email history from 2001. In this assignment you will search through all of Jeb's emails in order to identify and spam as many of his friends as possible. \n",
    "\n",
    "The homework has two parts:\n",
    "\n",
    "*Part 1: Use regular expressions to determine what does or does not qualify as a valid email address.*\n",
    "\n",
    "*Part 2: Apply these expressions to Jeb's emails in order to identify all of his contacts.*"
   ]
  },
  {
   "cell_type": "markdown",
   "metadata": {},
   "source": [
    "# PROBLEM 1\n",
    "\n",
    "First, we want to find a way to distinguish email addresses from other strings. For example, 'jeb@jeb.org' is a valid email address, while 'jeb' is not. Email addresses may contain additional '.' or '-' characters, though generally start and end with alphanumeric characters.\n",
    "\n",
    "The function argument **'email_address' is a string** representing a prospective email address. Complete the  'email_validation' function such that it receives the 'email_address' and **returns 'validation_result', a single boolean True/False** value indicating whether the string is a valid email address.\n",
    "\n",
    "\n",
    "EXAMPLES:\n",
    "    \n",
    "    email_validation(['jeb@jeb.org'])   =================> should return: True\n",
    "    email_validation(['h.rod17@clinton-email.com']) =====> should return: True\n",
    "    email_validation(['hotmail.com'])   =================> should return: False\n",
    "    email_validation(['.jeb@.jeb.org']) =================> should return: False\n",
    "   "
   ]
  },
  {
   "cell_type": "code",
   "execution_count": 2,
   "metadata": {
    "collapsed": false
   },
   "outputs": [],
   "source": [
    "def email_validation(email_address):\n",
    "    \n",
    "    \n",
    "    # YOUR CODE GOES HERE\n",
    "    \n",
    "    \n",
    "    return validation_result\n",
    "    "
   ]
  },
  {
   "cell_type": "markdown",
   "metadata": {},
   "source": [
    "# PROBLEM 2\n",
    "\n",
    "Your next task is to identify all of Jeb's friends' email addresses. You'll do this by finding all of the **unique** email addresses that appear within Jeb's emails. As you're trying to pocket some Super PAC cash, you currently only want to know **how many emails** you will have to send so you don't waste money on unnecessary bandwidth.\n",
    "\n",
    "The emails are stored within several text files in '../Data/Emails/'. You must complete the 'find_unique_emails' function below such that it receives a path name (i.e. '../Data/Emails/' ) and **returns the number of unique email addresses** found as an integer variable 'number_unique_emails'. This should be the total number of unique email addresses found within all of the documents combined.\n",
    "\n",
    "\n",
    "EXAMPLE:\n",
    "    \n",
    "    If in '../Data/emails/' we have only one file (Jan01.txt) containing one message:\n",
    "         \n",
    "         From: jeb@jeb.org\n",
    "         To: hrod17@clintonemails.com\n",
    "         Subject: Re: jeb@jeb.org is way cooler than hrod17@clintonemails.com\n",
    "  \n",
    "    Then the function:  find_unique_emails('../Data/emails/')\n",
    "        should return:  2      \n",
    "        \n",
    "\n",
    "**HINT 1: We found ~22,650 unique emails. If you find anything within ~10% of that number, you're doing great!**\n",
    "\n",
    "**HINT 2: When you open each file, specify the encoding as utf-8.  For example, you would use \" open(file,encoding='utf-8') \"**\n",
    "\n",
    "\n",
    "* WARNING: ALL CODE SHOULD BE INDEPENDENT FROM THE PREVIOUS PROBLEM. YOU ARE WELCOME TO COPY/PASTE CODE FROM ABOVE, BUT DO NOT CALL FUNCTIONS/VARIABLES EXECUTED IN PREVIOUS CELLS. IF YOU DO, YOUR ASSIGNMENT MAY BE GRADED INCORRECTLY."
   ]
  },
  {
   "cell_type": "code",
   "execution_count": 1,
   "metadata": {
    "collapsed": false
   },
   "outputs": [],
   "source": [
    "def find_unique_emails(path):\n",
    "    \n",
    "    # YOUR CODE GOES HERE\n",
    "        \n",
    "    return number_unique_emails\n"
   ]
  }
 ],
 "metadata": {
  "kernelspec": {
   "display_name": "Python 3",
   "language": "python",
   "name": "python3"
  },
  "language_info": {
   "codemirror_mode": {
    "name": "ipython",
    "version": 3
   },
   "file_extension": ".py",
   "mimetype": "text/x-python",
   "name": "python",
   "nbconvert_exporter": "python",
   "pygments_lexer": "ipython3",
   "version": "3.4.3"
  }
 },
 "nbformat": 4,
 "nbformat_minor": 0
}
