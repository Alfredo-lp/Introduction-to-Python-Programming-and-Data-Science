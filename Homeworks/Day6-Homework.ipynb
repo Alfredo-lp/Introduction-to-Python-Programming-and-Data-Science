{
 "cells": [
  {
   "cell_type": "markdown",
   "metadata": {},
   "source": [
    "# HOMEWORK 6: Email Processing\n",
    "\n",
    "\n",
    "Along with everyone else, you have a shot at winning the Republican primary. You anticipate an implosion of the Trump campaign, and have preemptively set your sights on Jeb Bush. Your smear tactics include a plan to convince Jeb's friends and colleagues to publicly denounce him. To this end, you plan to spam everyone Jeb knows in the hope that a handful of disgruntled individuals will come forward with details of Jeb's past indiscretions. As you only wish to turn Jeb's closest and longest-standing allies, you turn to an old dataset in order to identify his contacts: Jeb's published email history from 2001. In this assignment you will search through all of Jeb's emails in order to identify and spam as many of his friends as possible. \n",
    "\n",
    "The homework has three parts:\n",
    "\n",
    "*Part 1: Use regular expressions to determine what does or does not qualify as a valid email address.*\n",
    "\n",
    "*Part 2: Apply these expressions to Jeb's emails in order to identify all of his contacts.*\n",
    "\n",
    "*Part 3: Identify the individual that has received the most emails from Jeb."
   ]
  },
  {
   "cell_type": "markdown",
   "metadata": {},
   "source": [
    "# PROBLEM 1\n",
    "\n",
    "First, we want to find a way to distinguish email addresses from other strings. For example, 'jeb@jeb.org' is a valid email address, while 'jeb' is not. Your task is to write a function that receives a string and returns True if the string is a valid email address or False if the string is not a valid address.\n",
    "\n",
    "The rules defining valid email addresses are extremely complicated, but they generally consist of a local part and a domain part connected by an '@' symbol. In Hillary Clinton's email address (hdr22@clintonemail.com), `hdr22` is the local part while `clintonemail.com` is the domain. Both the local and domain parts must begin and end with alphanumeric characters, but they may contain both '.' and '-' characters within them. The `.com` part is known as the top-level domain, and this must be present in some form, such as `.com`, `.edu`, `.co.uk`, `.gov`, etc.. See the examples below for further clarification:\n",
    "\n",
    "\n",
    "EXAMPLES:\n",
    "    \n",
    "    email_validation(['jeb@jeb.org'])   =================> should return: True\n",
    "    email_validation(['h.rod17@clinton-email.com']) =====> should return: True\n",
    "    email_validation(['h@d.co.uk'])     =================> should return: True\n",
    "    email_validation(['hotmail.com'])   =================> should return: False\n",
    "    email_validation(['.jeb@.jeb.org']) =================> should return: False\n",
    "   "
   ]
  },
  {
   "cell_type": "code",
   "execution_count": 2,
   "metadata": {
    "collapsed": false
   },
   "outputs": [],
   "source": [
    "def email_validation(email_address):   \n",
    "    '''\n",
    "    Determines whether the string 'email_address' is a valid email address.\n",
    "\n",
    "    Parameters:\n",
    "    -----------\n",
    "    email_address : (str)\n",
    "        Prospective email address.\n",
    "    \n",
    "    Returns:\n",
    "    --------\n",
    "    verdict : (bool)   \n",
    "        True if string is a valid email, False if not.\n",
    "    '''\n",
    "    \n",
    "    \n",
    "    # YOUR CODE GOES HERE\n",
    "    \n",
    "\n",
    "    return verdict"
   ]
  },
  {
   "cell_type": "markdown",
   "metadata": {},
   "source": [
    "# PROBLEM 2\n",
    "\n",
    "Your next task is to identify all of Jeb's friends' email addresses. You'll do this by finding all of the **unique** email addresses that appear within Jeb's emails. As you're trying to pocket some Super PAC cash, you currently only want to know **how many emails** you will have to send so you don't waste any money on unnecessary bandwidth.\n",
    "\n",
    "The emails are stored within several text files in '../Data/Emails/'. You must complete the 'find_unique_emails' function below such that it receives a path name (i.e. '../Data/Emails/' ) and **returns the number of unique email addresses** found as an integer variable 'number_unique_emails'. This should be the total number of unique email addresses found within all of the documents combined.\n",
    "\n",
    "\n",
    "EXAMPLE:\n",
    "    \n",
    "    If in '../Data/emails/' we have only one file (Jan01.txt) containing one message:\n",
    "         \n",
    "         From: jeb@jeb.org\n",
    "         To: hrod17@clintonemails.com\n",
    "         Subject: Re: jeb@jeb.org is way cooler than hrod17@clintonemails.com\n",
    "  \n",
    "    Then the function:  find_unique_emails('../Data/emails/')\n",
    "        should return:  2      \n",
    "        \n",
    "\n",
    "**HINT 1: We found ~22,650 unique emails. If you find anything within ~10% of that number, you're doing great!**\n",
    "\n",
    "**HINT 2: You will need to specify utf-8 encoding to read the emails correctly. We've included the relevant code for you.**\n",
    "\n",
    "\n",
    "* WARNING: ALL CODE SHOULD BE INDEPENDENT FROM THE PREVIOUS PROBLEM. YOU ARE WELCOME TO COPY/PASTE CODE FROM ABOVE, BUT DO NOT CALL FUNCTIONS/VARIABLES EXECUTED IN PREVIOUS CELLS. IF YOU DO, YOUR ASSIGNMENT MAY BE GRADED INCORRECTLY."
   ]
  },
  {
   "cell_type": "code",
   "execution_count": 4,
   "metadata": {
    "collapsed": false
   },
   "outputs": [],
   "source": [
    "def find_unique_emails(path):        \n",
    "    '''\n",
    "    Finds the total number of unique email addresses found within the text files present in 'path'.\n",
    "\n",
    "    Parameters:\n",
    "    -----------\n",
    "    path : (str)\n",
    "        Path to directory containing multiple '.txt' files.\n",
    "    \n",
    "    Returns:\n",
    "    --------\n",
    "    num_unique_emails : (int)   \n",
    "        Number of unique email addresses found within all documents combined.\n",
    "    '''\n",
    "    \n",
    "\n",
    "    # YOUR CODE GOES HERE\n",
    "    \n",
    "    # use this to open the files:\n",
    "    open(file,encoding='utf-8',errors='ignore')\n",
    "        \n",
    "        \n",
    "        \n",
    "    return num_unique_emails"
   ]
  },
  {
   "cell_type": "markdown",
   "metadata": {
    "collapsed": true
   },
   "source": [
    "# PROBLEM 3\n",
    "\n",
    "In addition to spamming all of Jeb's friends, you wish to focus on convincing Jeb's _best_ friends to support your campaign. You figure that Jeb writes most frequently to those closest to him, so you seek to identify those who have received the most emails from Jeb.\n",
    "\n",
    "Complete the function below such that it receives the path to a directory containing all of Jeb's emails and returns the name of the individual who has received the most emails from Jeb. \n",
    "\n",
    "**HINT: He really likes some dude named Brian.**"
   ]
  },
  {
   "cell_type": "code",
   "execution_count": 5,
   "metadata": {
    "collapsed": false
   },
   "outputs": [],
   "source": [
    "def find_the_mistress(path):\n",
    "    '''\n",
    "    Finds the name of the individual who has received the most emails from Jeb Bush. \n",
    "\n",
    "    Parameters:\n",
    "    -----------\n",
    "    path : (str)\n",
    "        Path to directory containing multiple '.txt' files.\n",
    "    \n",
    "    Returns:\n",
    "    --------\n",
    "    best_friend : (str)   \n",
    "        Name of individual. The individuals first and last name should appear within the string, but strict formatting will not be enforced.\n",
    "    '''\n",
    "    \n",
    "    \n",
    "    # YOUR CODE GOES HERE\n",
    "    \n",
    "    \n",
    "    # use this to open the files:\n",
    "    open(file,encoding='utf-8',errors='ignore')     \n",
    "        \n",
    "    return best_friend"
   ]
  }
 ],
 "metadata": {
  "kernelspec": {
   "display_name": "Python 3",
   "language": "python",
   "name": "python3"
  },
  "language_info": {
   "codemirror_mode": {
    "name": "ipython",
    "version": 3
   },
   "file_extension": ".py",
   "mimetype": "text/x-python",
   "name": "python",
   "nbconvert_exporter": "python",
   "pygments_lexer": "ipython3",
   "version": "3.4.3"
  }
 },
 "nbformat": 4,
 "nbformat_minor": 0
}
