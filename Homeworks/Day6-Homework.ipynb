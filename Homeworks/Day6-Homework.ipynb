{
 "cells": [
  {
   "cell_type": "markdown",
   "metadata": {},
   "source": [
    "# HOMEWORK 6: Email Processing\n",
    "\n",
    "It's easy to recognize an email address, but can you write code to do it for you? In this homework you'll use regular expressions to determine what does or does not qualify as a valid email address. You'll then sort through all of Jeb Bush's emails from 2001 to see what you can learn about his professional network.\n"
   ]
  },
  {
   "cell_type": "markdown",
   "metadata": {},
   "source": [
    "# PROBLEM 1\n",
    "\n",
    "First, we want to find a way to distinguish email addresses from other strings. For example, 'jeb@jeb.org' is a valid email address, while 'jeb' is not. Email addresses may contain additional '.' or '-' characters, though generally start and end with alphanumeric characters.\n",
    "\n",
    "The function argument 'email_list' is a list of strings, each of which is a prospective email address. Complete the  'email_validation' function such that it receives the email_list and returns 'validation_results', an ordered list of True/False values indicating whether each string is a valid email address.\n",
    "\n",
    "\n",
    "EXAMPLE:\n",
    "    \n",
    "    email_validation(['jeb@jeb.org','h.rod17@clintonemail.com','hotmail.com']) \n",
    "    \n",
    "    should return:      ['True','True','False']"
   ]
  },
  {
   "cell_type": "code",
   "execution_count": null,
   "metadata": {
    "collapsed": false
   },
   "outputs": [],
   "source": [
    "def email_validation(email_list):\n",
    "    \n",
    "    # YOUR CODE GOES HERE\n",
    "\n",
    "    \n",
    "    # ANSWER\n",
    "    import re   \n",
    "    validation_results = []\n",
    "    address_identifier = re.compile(r'\\w+(\\.(\\w)+)*@\\w+\\.\\w+(\\.\\w+)*\\Z',re.IGNORECASE)   \n",
    "    for email in email_list:\n",
    "        check = address_identifier.match(str(email))\n",
    "        if check != None:\n",
    "            validation_results.append('True')\n",
    "        else:\n",
    "            validation_results.append('False')\n",
    "    \n",
    "    return validation_results\n",
    "    "
   ]
  },
  {
   "cell_type": "markdown",
   "metadata": {},
   "source": [
    "# PROBLEM 2\n",
    "\n",
    "Your next task is to determine how many friends Jeb has. In particular, you want to find all of the unique email addresses that appear within Jeb's emails from 2001. \n",
    "\n",
    "The emails are stored within text files in '../Data/Emails/'. You must complete the 'find_unique_emails' function below such that it receives a path name (i.e. '../Data/Emails/' ) and returns the number of unique email addresses found as an integer variable 'number_unique_emails'. This should be the total number of unique email addresses found within all of the documents combined.\n",
    "\n",
    "\n",
    "EXAMPLE:\n",
    "    \n",
    "    If in '../Data/emails/file.txt' we have:\n",
    "         \n",
    "         From: jeb@jeb.org\n",
    "         To: hrod17@clintonemails.com\n",
    "         Subject: Re: jeb@jeb.org is way cooler than hrod17@clintonemails.com\n",
    "  \n",
    "  \n",
    "    Then the function:  find_unique_emails('../Data/emails/')\n",
    "              returns:  2      \n",
    "        \n"
   ]
  },
  {
   "cell_type": "code",
   "execution_count": null,
   "metadata": {
    "collapsed": false
   },
   "outputs": [],
   "source": [
    "def find_unique_emails(path):\n",
    "\n",
    "    \n",
    "    # YOUR CODE GOES HERE\n",
    "\n",
    "    \n",
    "    # ANSWER\n",
    "    import re\n",
    "    import glob\n",
    "    import codecs\n",
    "    emails = []\n",
    "    files = glob.glob(path+'*.txt')\n",
    "    address_identifier = re.compile(r'\\w+([\\.\\-\\w]\\w)*@\\w+[\\w\\-]*\\.[\\w\\-]+(\\.[\\w\\-]+)*\\w',re.IGNORECASE)   \n",
    "    for num,file in enumerate(files):    \n",
    "        current_file = codecs.open(file, 'r', encoding='utf-8',errors='ignore')   \n",
    "        text = current_file.readlines()\n",
    "        for line in text:\n",
    "            emails_found = address_identifier.finditer(line)\n",
    "            for email in emails_found:\n",
    "                emails.append(email.group())\n",
    "    number_unique_emails = len(set(emails))\n",
    "    \n",
    "    \n",
    "    return number_unique_emails\n"
   ]
  },
  {
   "cell_type": "markdown",
   "metadata": {},
   "source": [
    "# PROBLEM 3\n",
    "\n",
    "Finally we want to determine how diverse Jeb's professional and social network is. We'll do this by counting the total number of unique domain names appearing within Jeb's emails.\n",
    "\n",
    "As before, the function argument 'path' is the path name for a directory containing a bunch of text files, each of which contains one month of Jeb Bush's email history. We want to find the number of unique domain names amongst those in correspondence with Jeb. (i.e. \"aol.com\" is the domain name for \"roxysurfrchick@aol.com\") For simplicity, you can assume that every unique set of characters following the '@' symbol is a single domain, e.g. \"@u.northwestern.edu\" and '@northwestern.edu' are separate domains. Return an integer number of unique domain names as 'unique_domains'\n",
    "\n",
    "\n",
    "* NOTE: ALL CODE SHOULD BE INDEPENDENT FROM PREVIOUS PROBLEMS. YOU ARE WELCOME TO COPY/PASTE CODE FROM BEFORE, BUT DO NOT CALL FUNCTIONS EXECUTED IN PREVIOUS CELLS. IF YOU DO, YOUR ASSIGNMENT MAY BE GRADED INCORRECTLY.\n"
   ]
  },
  {
   "cell_type": "code",
   "execution_count": null,
   "metadata": {
    "collapsed": true
   },
   "outputs": [],
   "source": [
    "def find_unique_domains(path):\n",
    "\n",
    "    \n",
    "    # YOUR CODE GOES HERE\n",
    "    \n",
    "    \n",
    "    # ANSWER\n",
    "    import re\n",
    "    import glob\n",
    "    import codecs\n",
    "    domains = []    \n",
    "    files = glob.glob(path+'*.txt')\n",
    "    domain_identifier = re.compile(r'@\\w+[\\w\\-]*\\.[\\w\\-]+(\\.[\\w\\-]+)*\\w',re.IGNORECASE)   \n",
    "    for num,file in enumerate(files):    \n",
    "        current_file = codecs.open(file, 'r', encoding='utf-8',errors='ignore')   \n",
    "        text = current_file.readlines()\n",
    "        for line in text:\n",
    "            domains_found = domain_identifier.finditer(line)\n",
    "            for domain in domains_found:\n",
    "                domains.append(domain.group())\n",
    "    unique_domains = len(set(domains)) \n",
    "    \n",
    "    return unique_domains    "
   ]
  },
  {
   "cell_type": "code",
   "execution_count": null,
   "metadata": {
    "collapsed": true
   },
   "outputs": [],
   "source": []
  },
  {
   "cell_type": "code",
   "execution_count": null,
   "metadata": {
    "collapsed": false
   },
   "outputs": [],
   "source": [
    "# email validation test\n",
    "email_list = ['abc@def.com','abc.def@g.h.edu','abcdefg','a@b@c.com','a@b','a?@b.com']\n",
    "email_validation(email_list)"
   ]
  },
  {
   "cell_type": "code",
   "execution_count": null,
   "metadata": {
    "collapsed": false
   },
   "outputs": [],
   "source": [
    "# unique email count test\n",
    "path = 'Introduction-to-Python-Programming-and-Data-Science/Data/Emails/'\n",
    "find_unique_emails(path)"
   ]
  },
  {
   "cell_type": "code",
   "execution_count": null,
   "metadata": {
    "collapsed": false
   },
   "outputs": [],
   "source": [
    "# most common domain test\n",
    "path = '../Data/Emails/'\n",
    "find_unique_domains(path)"
   ]
  },
  {
   "cell_type": "code",
   "execution_count": null,
   "metadata": {
    "collapsed": true
   },
   "outputs": [],
   "source": []
  },
  {
   "cell_type": "code",
   "execution_count": null,
   "metadata": {
    "collapsed": true
   },
   "outputs": [],
   "source": [
    "def parse_emails(path):\n",
    "    '''\n",
    "    Function receives path and returns dictionary of all emails in which the email of the sender serves as the key. Each entry contains recipients, a timestamp, and a subject line.\n",
    "    ''' \n",
    "    \n",
    "    import glob\n",
    "    import codecs\n",
    "    import re\n",
    "    \n",
    "    address_identifier = re.compile(r'\\w+([\\.\\-\\w]\\w)*@\\w+[\\w\\-]*\\.[\\w\\-]+(\\.[\\w\\-]+)*\\w',re.IGNORECASE)   \n",
    "    files = glob.glob(path+'*.txt')\n",
    "    email_dictionary = {}\n",
    "    \n",
    "    for num,file in enumerate(files):    \n",
    "        current_file = codecs.open(file, 'r', encoding='utf-8',errors='ignore')\n",
    "        current_text = current_file.readlines()\n",
    "        to_field = False\n",
    "        \n",
    "        for line in current_text:\n",
    "            \n",
    "            # search from line for email, use it as dictionary key\n",
    "            if line[:5] == 'From:':\n",
    "                sender_match = address_identifier.search(line)\n",
    "                try:\n",
    "                    sender = sender_match.group()\n",
    "                except:\n",
    "                    sender = line[6:].strip()\n",
    "                    \n",
    "            if line[:5] == 'Sent:':\n",
    "                time = line[6:].strip()\n",
    "            \n",
    "            if line[:3] == 'To:':\n",
    "                recipients = []\n",
    "                recipient_matches = address_identifier.finditer(line)\n",
    "                for match in recipient_matches:\n",
    "                    recipients.append(match.group())\n",
    "                to_field = True\n",
    "            \n",
    "            if line[:8] == 'Subject:':\n",
    "                subject = line[8:].strip()\n",
    "                to_field = False\n",
    "                current_data = [set(recipients),time,subject]\n",
    "                try:\n",
    "                    email_dictionary[sender].append(current_data)\n",
    "                except:\n",
    "                    email_dictionary[sender] = [current_data]\n",
    "        \n",
    "            else:\n",
    "                if to_field == True:\n",
    "                    recipient_matches = address_identifier.finditer(line)\n",
    "                    for match in recipient_matches:\n",
    "                        recipients.append(match.group())\n",
    "    return email_dictionary"
   ]
  },
  {
   "cell_type": "code",
   "execution_count": null,
   "metadata": {
    "collapsed": false
   },
   "outputs": [],
   "source": [
    "# Counts total emails sent by each email address\n",
    "total_sent = {}\n",
    "for i,email in enumerate(emails):\n",
    "    total_sent[email] = len(emails[email]) "
   ]
  },
  {
   "cell_type": "code",
   "execution_count": null,
   "metadata": {
    "collapsed": false
   },
   "outputs": [],
   "source": []
  },
  {
   "cell_type": "code",
   "execution_count": null,
   "metadata": {
    "collapsed": false
   },
   "outputs": [],
   "source": []
  },
  {
   "cell_type": "code",
   "execution_count": null,
   "metadata": {
    "collapsed": false
   },
   "outputs": [],
   "source": []
  },
  {
   "cell_type": "code",
   "execution_count": null,
   "metadata": {
    "collapsed": false
   },
   "outputs": [],
   "source": []
  },
  {
   "cell_type": "code",
   "execution_count": null,
   "metadata": {
    "collapsed": false
   },
   "outputs": [],
   "source": []
  },
  {
   "cell_type": "code",
   "execution_count": null,
   "metadata": {
    "collapsed": true
   },
   "outputs": [],
   "source": []
  }
 ],
 "metadata": {
  "kernelspec": {
   "display_name": "Python 3",
   "language": "python",
   "name": "python3"
  },
  "language_info": {
   "codemirror_mode": {
    "name": "ipython",
    "version": 3
   },
   "file_extension": ".py",
   "mimetype": "text/x-python",
   "name": "python",
   "nbconvert_exporter": "python",
   "pygments_lexer": "ipython3",
   "version": "3.4.3"
  }
 },
 "nbformat": 4,
 "nbformat_minor": 0
}
