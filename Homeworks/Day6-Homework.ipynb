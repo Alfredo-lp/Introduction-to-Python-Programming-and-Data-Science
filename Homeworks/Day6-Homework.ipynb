{
 "cells": [
  {
   "cell_type": "markdown",
   "metadata": {},
   "source": [
    "# HOMEWORK 6: Email Processing\n",
    "\n",
    "\n",
    "Along with everyone else, you have a shot at winning the Republican primary. You anticipate an implosion of the Trump campaign, and have preemptively set your sights on Jeb Bush. Your smear tactics include a plan to convince Jeb's friends and colleagues to publicly denounce him. To this end, you plan to spam everyone Jeb knows in the hope that a handful of disgruntled individuals will come forward with details of Jeb's past indiscretions. As you only wish to turn Jeb's closest and longest-standing allies, you turn to an old dataset in order to identify his contacts: Jeb's published email history from 2001. In this assignment you will search through all of Jeb's emails in order to identify and spam as many of his friends as possible. \n",
    "\n",
    "The homework has two parts:\n",
    "\n",
    "*Part 1: Use regular expressions to determine what does or does not qualify as a valid email address.*\n",
    "\n",
    "*Part 2: Apply these expressions to Jeb's emails in order to identify all of his contacts.*"
   ]
  },
  {
   "cell_type": "markdown",
   "metadata": {},
   "source": [
    "# PROBLEM 1\n",
    "\n",
    "First, we want to find a way to distinguish email addresses from other strings. For example, 'jeb@jeb.org' is a valid email address, while 'jeb' is not. Email addresses may contain additional '.' or '-' characters, though generally start and end with alphanumeric characters.\n",
    "\n",
    "The function argument 'email_list' is a list of strings, each of which is a prospective email address. Complete the  'email_validation' function such that it receives the email_list and returns 'validation_results', an ordered list of True/False values indicating whether each string is a valid email address.\n",
    "\n",
    "\n",
    "EXAMPLE:\n",
    "    \n",
    "    email_validation(['jeb@jeb.org','h.rod17@clinton-email.com','hotmail.com','.jeb@.jeb.org']) \n",
    "    \n",
    "    should return:      [True,True,False,False]"
   ]
  },
  {
   "cell_type": "code",
   "execution_count": null,
   "metadata": {
    "collapsed": false
   },
   "outputs": [],
   "source": [
    "def email_validation(email_list):\n",
    "    \n",
    "    \n",
    "    # YOUR CODE GOES HERE\n",
    "    \n",
    "    \n",
    "    return validation_results\n",
    "    "
   ]
  },
  {
   "cell_type": "markdown",
   "metadata": {},
   "source": [
    "# PROBLEM 2\n",
    "\n",
    "Your next task is to identify all of Jeb's friends' email addresses. You'll do this by finding all of the **unique** email addresses that appear within Jeb's emails. As you're trying to pocket some Super PAC cash, you currently only want to know **how many emails** you will have to send so you don't waste money on unnecessary bandwidth.\n",
    "\n",
    "The emails are stored within several text files in '../Data/Emails/'. You must complete the 'find_unique_emails' function below such that it receives a path name (i.e. '../Data/Emails/' ) and **returns the number of unique email addresses** found as an integer variable 'number_unique_emails'. This should be the total number of unique email addresses found within all of the documents combined.\n",
    "\n",
    "\n",
    "EXAMPLE:\n",
    "    \n",
    "    If in '../Data/emails/' we have only one file (Jan01.txt) containing one message:\n",
    "         \n",
    "         From: jeb@jeb.org\n",
    "         To: hrod17@clintonemails.com\n",
    "         Subject: Re: jeb@jeb.org is way cooler than hrod17@clintonemails.com\n",
    "  \n",
    "    Then the function:  find_unique_emails('../Data/emails/')\n",
    "        should return:  2      \n",
    "        \n",
    "\n",
    "**HINT 1: We found ~22,650 unique emails. If you find anything within a couple thousand of that number, you're doing great!**\n",
    "\n",
    "**HINT 2: You may need to use the codecs package to read the emails correctly. We've included the relevant code for you.**\n",
    "\n",
    "\n",
    "* WARNING: ALL CODE SHOULD BE INDEPENDENT FROM THE PREVIOUS PROBLEM. YOU ARE WELCOME TO COPY/PASTE CODE FROM ABOVE, BUT DO NOT CALL FUNCTIONS/VARIABLES EXECUTED IN PREVIOUS CELLS. IF YOU DO, YOUR ASSIGNMENT MAY BE GRADED INCORRECTLY."
   ]
  },
  {
   "cell_type": "code",
   "execution_count": null,
   "metadata": {
    "collapsed": false
   },
   "outputs": [],
   "source": [
    "def find_unique_emails(path):\n",
    "    import codecs\n",
    "    \n",
    "    # YOUR CODE GOES HERE\n",
    "    \n",
    "    # use this to open each file:\n",
    "    current_file = codecs.open(file, 'r', encoding='utf-8',errors='ignore')   \n",
    "        \n",
    "    return number_unique_emails\n"
   ]
  },
  {
   "cell_type": "code",
   "execution_count": null,
   "metadata": {
    "collapsed": true
   },
   "outputs": [],
   "source": []
  },
  {
   "cell_type": "code",
   "execution_count": null,
   "metadata": {
    "collapsed": false
   },
   "outputs": [],
   "source": [
    "'''\n",
    "SCORING FUNCTION FOR PROBLEM 1:\n",
    "I've defined a list of potential email addresses such that half are valid and half are not. The list is fed to their function,\n",
    "and their responses are scored againse the 'email_validation_key' results. We could randomize the list order if we want.\n",
    "'''\n",
    "\n",
    "test_list = [\n",
    "    # TRUE\n",
    "    'abc@def.com',     # generic form\n",
    "    'abc.def@ghi.com', # adding period to first half\n",
    "    'abc-def@ghi.com', # adding dash to first half\n",
    "    'abc@def.co.uk',   # changing domain form\n",
    "    'abc@de-fg.co.uk', # adding dash to domain \n",
    "    'a@b.com',         # single character\n",
    "    \n",
    "    # FALSE\n",
    "    '',                # empty string\n",
    "    'abcdef',          # generic string\n",
    "    'abc@def',         # no domain ending\n",
    "    'abc@def.',        # no domain ending\n",
    "    'abc@def.com]',    # invalid character (bracket)\n",
    "    '@def.com']        # no local part  \n",
    "    \n",
    "    \n",
    "    \n",
    "def email_validation_key(email_list):\n",
    "    # Their expressions will vary wildly, this one is as thorough as I could make it. The idea is to catch all the special cases. The more they can get, the higher their score.\n",
    "    import re   \n",
    "    validation_results = []\n",
    "    address_identifier = re.compile(r'\\w+([\\.\\-\\w]\\w)*@\\w+([\\w\\-]*\\w)*(\\.[\\w\\-]*\\w)*\\.\\w\\w(\\w)*\\Z',re.IGNORECASE)   \n",
    "    for email in email_list:\n",
    "        check = address_identifier.match(str(email))\n",
    "        if check != None:\n",
    "            validation_results.append(True)\n",
    "        else:\n",
    "            validation_results.append(False)\n",
    "    return validation_results\n",
    "     \n",
    "# run student's code\n",
    "response = email_validation(test_list)\n",
    "\n",
    "# compare answer to key and generate score\n",
    "answer_key = email_validation_key(test_list)\n",
    "num_correct = sum([a==b for a,b in zip(answer_key,response)])\n",
    "score = round(num_correct / len(answer_key),2)*100\n",
    "\n",
    "print('Score is: ',score)"
   ]
  },
  {
   "cell_type": "code",
   "execution_count": null,
   "metadata": {
    "collapsed": false
   },
   "outputs": [],
   "source": [
    "'''\n",
    "SCORING FUNCTION FOR PROBLEM 2:\n",
    "I made two text files (need to find a place to keep them), each of which is a smaller subset of the JB emails. \n",
    "This way we can grade a bunch of homeworks much faster. \n",
    "'''\n",
    "\n",
    "def find_emails_key(path):\n",
    "    # key for problem 2. function finds all unique emails within text files and returns the count.\n",
    "    import codecs\n",
    "    import re\n",
    "    import glob\n",
    "    emails = []\n",
    "    files = glob.glob(path+'*.txt')\n",
    "    address_identifier = re.compile(r'\\w+([\\.\\-\\w]\\w)*@\\w+([\\w\\-]*\\w)*(\\.[\\w\\-]*\\w)*\\.\\w\\w(\\w)*',re.IGNORECASE)   \n",
    "    for num,file in enumerate(files):    \n",
    "        current_file = codecs.open(file, 'r', encoding='utf-8',errors='ignore')   \n",
    "        text = current_file.readlines()\n",
    "        for line in text:\n",
    "            emails_found = address_identifier.finditer(line)\n",
    "            for email in emails_found:\n",
    "                emails.append(email.group())        \n",
    "    return len(set(emails))\n",
    "\n",
    "\n",
    "# run test\n",
    "test_path = '../../test_data/'\n",
    "response = find_unique_emails(test_path)\n",
    "\n",
    "# assign score (out of 1)\n",
    "key = find_emails_key(test_path)\n",
    "score = round((key - abs(response - key)) / key,2)*100\n",
    "if score < 0:\n",
    "    score = 0\n",
    "\n",
    "print(score)"
   ]
  },
  {
   "cell_type": "code",
   "execution_count": null,
   "metadata": {
    "collapsed": false
   },
   "outputs": [],
   "source": []
  },
  {
   "cell_type": "code",
   "execution_count": null,
   "metadata": {
    "collapsed": true
   },
   "outputs": [],
   "source": []
  }
 ],
 "metadata": {
  "kernelspec": {
   "display_name": "Python 3",
   "language": "python",
   "name": "python3"
  },
  "language_info": {
   "codemirror_mode": {
    "name": "ipython",
    "version": 3
   },
   "file_extension": ".py",
   "mimetype": "text/x-python",
   "name": "python",
   "nbconvert_exporter": "python",
   "pygments_lexer": "ipython3",
   "version": "3.4.3"
  }
 },
 "nbformat": 4,
 "nbformat_minor": 0
}
