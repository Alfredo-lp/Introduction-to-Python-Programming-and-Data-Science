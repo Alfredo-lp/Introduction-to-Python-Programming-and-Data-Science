{
 "cells": [
  {
   "cell_type": "code",
   "execution_count": null,
   "metadata": {
    "collapsed": false,
    "scrolled": true
   },
   "outputs": [],
   "source": [
    "%matplotlib inline\n",
    "\n",
    "import os\n",
    "from pylab import imread\n",
    "import glob\n",
    "import numpy as np\n",
    "import matplotlib as mpl\n",
    "import matplotlib.pyplot as plt"
   ]
  },
  {
   "cell_type": "markdown",
   "metadata": {},
   "source": [
    "# Day 4 Homework: Review and Image Analysis"
   ]
  },
  {
   "cell_type": "markdown",
   "metadata": {},
   "source": [
    "## Problems 1-3: Review Questions\n",
    "\n",
    "### #1: Parse image path\n",
    "\n",
    "Write a function to parse image path (a string), and return the year (int), title (str), and number (int) that are contained in the name.\n"
   ]
  },
  {
   "cell_type": "code",
   "execution_count": null,
   "metadata": {
    "collapsed": false
   },
   "outputs": [],
   "source": [
    "def parse_image_path(image_path):\n",
    "    '''\n",
    "    Parameters:\n",
    "    -----------\n",
    "    image_path : (str)\n",
    "        path to image\n",
    "    \n",
    "    Returns:\n",
    "    --------\n",
    "    year : (int)\n",
    "        year of painting\n",
    "    title : (str)\n",
    "        title of painting\n",
    "    num : (tuple)\n",
    "        number from the name of painting\n",
    "    '''\n",
    "    \n",
    "    # your code\n",
    "    \n",
    "    return year, title, num\n",
    "\n",
    "image_path = os.path.join('..', 'Data', 'Picasso', '1905-Juggler_with_Still-Life.-9.jpg')\n",
    "print(image_path)\n",
    "print(parse_image_path(image_path))"
   ]
  },
  {
   "cell_type": "markdown",
   "metadata": {},
   "source": [
    "### #2: Create a dictionary containing each path by year\n",
    "\n",
    "Write a function that looks in a directory finds the names of all the jpg images inside it, parses the name of the images, and counts how many paintings were painted each year.\n",
    "\n",
    "Store the counts inside a dictionary.\n",
    "\n",
    "**Hints:**\n",
    "\n",
    "- glob would be good to organize the files\n",
    "- copy code from Q1 to pull out the year from the name\n",
    "- the dictionary should have the years as keys and the image-count as values."
   ]
  },
  {
   "cell_type": "code",
   "execution_count": null,
   "metadata": {
    "collapsed": false
   },
   "outputs": [],
   "source": [
    "def image_year(image_directory):\n",
    "    '''\n",
    "    Parameters:\n",
    "    -----------\n",
    "    image_directory : (str)\n",
    "        path to Picasso images directory\n",
    "    \n",
    "    Returns:\n",
    "    --------\n",
    "    year_dict : (dict)   \n",
    "        Dictionary where keys are years (ints) and\n",
    "        values are number of paintings in that year (int)\n",
    "    '''\n",
    "    \n",
    "    # your code\n",
    "    \n",
    "    return year_dict\n",
    "\n",
    "image_directory = os.path.join('..', 'Data', 'Picasso')\n",
    "print(image_year(image_directory))"
   ]
  },
  {
   "cell_type": "markdown",
   "metadata": {},
   "source": [
    "### #3: Count which words are used most frequently in Picasso titles\n",
    "\n",
    "Write a function that looks in a directory finds the names of all the jpg images inside it, parses the name of the images, and counts how the frequency of each word.\n",
    "\n",
    "Store the counts inside a dictionary.\n",
    "\n",
    "**Hints:**\n",
    "\n",
    "- in order to properly count words you are going to have to remove punctuation:\n",
    "\n",
    "`), (,   .,  and \"`\n",
    "- you will also have to either capitialize or lowercase everything to avoid case duplications."
   ]
  },
  {
   "cell_type": "code",
   "execution_count": null,
   "metadata": {
    "collapsed": false
   },
   "outputs": [],
   "source": [
    "def image_word_frequency(image_directory):\n",
    "    '''\n",
    "    Parameters:\n",
    "    -----------\n",
    "    image_directory : (str)\n",
    "        path to Picasso images directory\n",
    "    \n",
    "    Returns:\n",
    "    --------\n",
    "    word_dict : (dict)   \n",
    "        Dictionary where keys are words (str) and\n",
    "        values are number of times that word appears (int)\n",
    "    '''\n",
    "    \n",
    "    # your code\n",
    "    \n",
    "    return word_dict\n",
    "    \n",
    "image_directory = os.path.join('..', 'Data', 'Picasso')\n",
    "print(image_word_frequency(image_directory))"
   ]
  },
  {
   "cell_type": "markdown",
   "metadata": {},
   "source": [
    "## Problems 4-7: Image Analyis and Numpy Arrays\n",
    "\n",
    "### #4: Split colors\n",
    "Write a function that accepts a color image (as a 3d numpy array) and splits it into three 2D arrays for the red, green, and blue components"
   ]
  },
  {
   "cell_type": "code",
   "execution_count": null,
   "metadata": {
    "collapsed": false
   },
   "outputs": [],
   "source": [
    "def split_color_image(color_image_array):\n",
    "    '''\n",
    "    Parameters:\n",
    "    -----------\n",
    "    color_image_array : (numpy.ndarray)\n",
    "        Color image as a numpy 3D array\n",
    "    \n",
    "    Returns:\n",
    "    --------\n",
    "    red_slice : (numpy.ndarray)\n",
    "        2D array containing the red component of color_image_array\n",
    "    green_slice : (numpy.ndarray)\n",
    "        2D array containing the green component of color_image_array\n",
    "    blue_slice : (numpy.ndarray)\n",
    "        2D array containing the blue component of color_image_array\n",
    "   '''\n",
    "    \n",
    "    # your code\n",
    "    \n",
    "    return red_slice, green_slice, blue_slice\n",
    "    \n",
    "    \n",
    "image_path = os.path.join('..', 'Data', 'Picasso', '1920-Portrait_of_Igor_Stravinsky.-7.jpg')\n",
    "\n",
    "print(image_path)\n",
    "color_image_array = imread(image_path)\n",
    "red_slice, green_slice, blue_slice = split_color_image(color_image_array)\n",
    "\n",
    "print('origional shape', color_image_array.shape)\n",
    "print('red shape', red_slice.shape)\n",
    "print('green shape',green_slice.shape)\n",
    "print('blue shape',blue_slice.shape)\n",
    "\n",
    "plt.imshow(color_image_array)\n",
    "plt.show()\n",
    "plt.imshow(red_slice, cmap='gray')\n",
    "plt.show()"
   ]
  },
  {
   "cell_type": "markdown",
   "metadata": {},
   "source": [
    "### #5: Average Brightness\n",
    "Write a function that accepts a color image (3d numpy array) and creates a black and white image (2d numpy array) where each pixel the mean of the R, G, and B values at that X,Y position."
   ]
  },
  {
   "cell_type": "code",
   "execution_count": null,
   "metadata": {
    "collapsed": false
   },
   "outputs": [],
   "source": [
    "def average_brightness(color_image_array):\n",
    "    '''\n",
    "    Parameters:\n",
    "    -----------\n",
    "    color_image_array : (numpy.ndarray)\n",
    "        Color image as a numpy 3D array\n",
    "    \n",
    "    Returns:\n",
    "    --------\n",
    "    avg : (numpy.ndarray)\n",
    "        Black and white image (2D array) containing\n",
    "        the average of the colored component of color_image_array\n",
    "    '''\n",
    "    \n",
    "    # your code\n",
    "    \n",
    "    return avg\n",
    "\n",
    "image_path = os.path.join('..', 'Data', 'Picasso', '1901-The_Absinthe_Drinker.-26.jpg')\n",
    "\n",
    "color_image_array = imread(image_path)\n",
    "new_image = average_brightness(color_image_array)\n",
    "\n",
    "print('origional shape', color_image_array.shape)\n",
    "print('red shape', new_image.shape)\n",
    "\n",
    "plt.imshow(color_image_array)\n",
    "plt.show()\n",
    "plt.imshow(new_image, cmap='gray')\n",
    "plt.show()"
   ]
  },
  {
   "cell_type": "markdown",
   "metadata": {},
   "source": [
    "### #6: Color switch\n",
    "\n",
    "Write a function that accepts a color image and creates a new image that has all red and green values switched.\n",
    "\n",
    "**Hint:**\n",
    "- you can't just reverse the order like the class excercise"
   ]
  },
  {
   "cell_type": "code",
   "execution_count": null,
   "metadata": {
    "collapsed": false
   },
   "outputs": [],
   "source": [
    "def switch_red_and_blue(color_image_array):\n",
    "    '''\n",
    "    Parameters:\n",
    "    -----------\n",
    "    color_image_array : (numpy.ndarray)\n",
    "        Color image as a numpy 3D array\n",
    "    \n",
    "    Returns:\n",
    "    --------\n",
    "    recolored_image : (numpy.ndarray)\n",
    "        Color image resulting from switching red and\n",
    "        green values of color_image_array\n",
    "    '''\n",
    "    # your code\n",
    "    \n",
    "    return recolored_image\n",
    "\n",
    "image_path = os.path.join('..', 'Data', 'Picasso', '1908-La_Fermière_(full-length).-17.jpg')\n",
    "\n",
    "color_image_array = imread(image_path)\n",
    "new_image = switch_red_and_blue(color_image_array)\n",
    "\n",
    "\n",
    "print('origional shape', color_image_array.shape)\n",
    "print('red shape', new_image.shape)\n",
    "\n",
    "plt.imshow(color_image_array)\n",
    "plt.show()\n",
    "plt.imshow(new_image)\n",
    "plt.show()"
   ]
  },
  {
   "cell_type": "markdown",
   "metadata": {},
   "source": [
    "### #7: Fraction of Image\n",
    "\n",
    "Write a function that accepts a color image and returns the fraction of the image that contains blue values larger than a given threshold. \n",
    "\n",
    "**Hint:**\n",
    "- a boolean mask seems appropriate for this task"
   ]
  },
  {
   "cell_type": "code",
   "execution_count": null,
   "metadata": {
    "collapsed": false
   },
   "outputs": [],
   "source": [
    "def blue_fraction_of_image(color_image_array, threshold=100):\n",
    "    '''\n",
    "    Parameters:\n",
    "    -----------\n",
    "    color_image_array : (numpy.ndarray)\n",
    "        Color image as a numpy 3D array\n",
    "    \n",
    "    threshold : (int)\n",
    "        Threshold for the blue values. Default is 100.\n",
    "        \n",
    "    Returns:\n",
    "    --------\n",
    "    blue_fraction : (float)\n",
    "        Fraction of pixels of color_image_array that have\n",
    "        a blue value larger than threshold.\n",
    "    '''\n",
    "    \n",
    "    # your code\n",
    "        \n",
    "    return blue_fraction \n",
    "    \n",
    "    \n",
    "image_path = os.path.join('..', 'Data', 'Picasso', '1909-Compotier,_Fruit,_and_Glass.-24.jpg')\n",
    "\n",
    "color_image_array = imread(image_path)\n",
    "threshold = 50\n",
    "print(blue_fraction_of_image(color_image_array, threshold))\n",
    "\n",
    "plt.imshow(color_image_array)\n",
    "plt.show()"
   ]
  }
 ],
 "metadata": {
  "kernelspec": {
   "display_name": "Python 3",
   "language": "python",
   "name": "python3"
  },
  "language_info": {
   "codemirror_mode": {
    "name": "ipython",
    "version": 3
   },
   "file_extension": ".py",
   "mimetype": "text/x-python",
   "name": "python",
   "nbconvert_exporter": "python",
   "pygments_lexer": "ipython3",
   "version": "3.4.3"
  }
 },
 "nbformat": 4,
 "nbformat_minor": 0
}
