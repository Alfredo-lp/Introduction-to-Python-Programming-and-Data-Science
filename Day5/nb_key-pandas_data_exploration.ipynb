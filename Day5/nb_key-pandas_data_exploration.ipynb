{
 "metadata": {
  "name": "",
  "signature": "sha256:86b45c4de7d33a906ee2254b006aca188944bddc932c939cd5b9488358492d1c"
 },
 "nbformat": 3,
 "nbformat_minor": 0,
 "worksheets": [
  {
   "cells": [
    {
     "cell_type": "code",
     "collapsed": false,
     "input": [
      "#1 STUDENTS: How many individuals are younger than 13 or older than 80\n",
      "adf[(adf.Age<13) | (adf.Age>80)].Age.count()"
     ],
     "language": "python",
     "metadata": {},
     "outputs": []
    },
    {
     "cell_type": "code",
     "collapsed": false,
     "input": [],
     "language": "python",
     "metadata": {},
     "outputs": []
    },
    {
     "cell_type": "code",
     "collapsed": false,
     "input": [
      "#2 STUDENTS WRITE A FUNCTION TO RETURN THE AGEBIN\n",
      "def age_bin_finder(age_of_person, start_age = 10, end_age = 90, age_increment = 10):\n",
      "    '''\n",
      "    This function finds the age bin for a person within a given decade and returns\n",
      "    a string that sets the bounds\n",
      "    input:\n",
      "        age of the person\n",
      "        start age, set at 10\n",
      "        end age, set at 90, using the range function so this should be \n",
      "                 desired ending age + age increment\n",
      "        age_increment, what we should incrememnt the age by\n",
      "    output:\n",
      "        age bin (string)\n",
      "    '''\n",
      "    #First lets set up our lists of age bin edges\n",
      "    leading_edges = range(start_age, end_age - age_increment, age_increment)\n",
      "    lagging_edges = range(start_age + age_increment, end_age, age_increment)\n",
      "    \n",
      "    #Now let's go through our bin edges, we'll stop when we find the age of the person\n",
      "    for lead_edge, lag_edge in zip(leading_edges, lagging_edges):\n",
      "        #Check to see if our person is inside this bin\n",
      "        if age_of_person >= lead_edge and age_of_person < lag_edge:\n",
      "            #Construct the age bin and return it\n",
      "            age_bin = str(lead_edge) + '-' + str(lag_edge)\n",
      "            return age_bin\n"
     ],
     "language": "python",
     "metadata": {},
     "outputs": []
    },
    {
     "cell_type": "code",
     "collapsed": false,
     "input": [],
     "language": "python",
     "metadata": {},
     "outputs": []
    },
    {
     "cell_type": "code",
     "collapsed": false,
     "input": [
      "#3 STUDENTS: Let's plot the scatter of the data by age bins\n",
      "\n",
      "#First let's group the dataframe by the age bin\n",
      "agebinned = finaldf.groupby('Age_Bin')\n",
      "\n",
      "#Let's start the plot\n",
      "with mpl.style.context(('bmh')):\n",
      "    fig = plt.figure(figsize=(6,6))\n",
      "    ax = fig.add_subplot(111, axisbg='white')\n",
      "    \n",
      "    #Make a colormap that has enough colors for us to access\n",
      "    cmap = mpl.cm.Set2( np.linspace(0, 1, agebinned.ngroups) )\n",
      "    \n",
      "    #Now let's start going through the groups and plotting given color\n",
      "    for i, (agebin, row_indices) in enumerate(sorted(agebinned.groups.items())):\n",
      "        ax.scatter(finaldf.loc[row_indices].Initial_Weight,\n",
      "                   finaldf.loc[row_indices].Final_Weight,\n",
      "                   color=cmap[i],\n",
      "                   label = agebin)\n",
      "        \n",
      "    #Set the labels and the legend\n",
      "    ax.set_ylabel('Final Weight')\n",
      "    ax.set_xlabel('Initial Weight')\n",
      "    ax.legend(loc=2)"
     ],
     "language": "python",
     "metadata": {},
     "outputs": []
    },
    {
     "cell_type": "code",
     "collapsed": false,
     "input": [],
     "language": "python",
     "metadata": {},
     "outputs": []
    },
    {
     "cell_type": "code",
     "collapsed": false,
     "input": [
      "#4 STUDENTS: exercise to fit the linear model to each age group individually and print a table\n",
      "\n",
      "#Dictionary to hold the values for the binned fits\n",
      "binned_fits = {}\n",
      "\n",
      "#Iterate through each group\n",
      "for age_bin, row_indices in agebinned.groups.items():\n",
      "    #Pull the data from the full dataframe\n",
      "    xdata = finaldf.loc[row_indices].Initial_Weight\n",
      "    ydata = finaldf.loc[row_indices].Final_Weight\n",
      "    \n",
      "    #Fit the parameters \n",
      "    slope, intercept, r, p, stderr = stats.linregress(xdata, ydata)\n",
      "    binned_fits[age_bin] = {'slope': slope,\n",
      "                            'intercept': intercept,\n",
      "                            'r_squared': r**2,\n",
      "                            'p_value': p,\n",
      "                            'stderr': stderr,\n",
      "                            'N': finaldf.loc[row_indices].Final_Weight.count()}\n",
      "\n",
      "#Now, let's just look at this in a quick table\n",
      "for i, (agebin, age_params) in enumerate( sorted( binned_fits.items() ) ):\n",
      "    #Print a header\n",
      "    if i==0:\n",
      "        header = ['Age Bin']\n",
      "        age_param_names = ['slope', 'intercept', 'stderr', 'p_value', 'r_squared', 'N']\n",
      "        header += age_param_names\n",
      "        print( '\\t'.join(header) )\n",
      "        \n",
      "    #Now print the rest of the values\n",
      "    row_line = [agebin]\n",
      "    for param_name in age_param_names:\n",
      "        row_line.append( \"{0:.4f}\".format(age_params[param_name]) )\n",
      "    print( '\\t'.join(row_line) )"
     ],
     "language": "python",
     "metadata": {},
     "outputs": []
    },
    {
     "cell_type": "code",
     "collapsed": false,
     "input": [],
     "language": "python",
     "metadata": {},
     "outputs": []
    },
    {
     "cell_type": "code",
     "collapsed": false,
     "input": [
      "#5 STUDENTS: exercise to modify the facet code to plot the linear regressions\n",
      "\n",
      "#Start the figure\n",
      "with mpl.style.context(('bmh')):    \n",
      "    fig = plt.figure(figsize=(12,12))\n",
      "    \n",
      "    #Make a colormap that has enough colors for ust to access\n",
      "    cmap = mpl.cm.Set2( np.linspace(0, 1, agebinned.ngroups + 1) )\n",
      "    \n",
      "    #Now let's start going through this\n",
      "    for i, (agebin, row_indices) in enumerate(sorted(agebinned.groups.items())):\n",
      "        ax = fig.add_subplot('33'+ str(i + 1), axisbg='white')\n",
      "        \n",
      "        #Our background data\n",
      "        ax.scatter(finaldf.Initial_Weight,\n",
      "                   finaldf.Final_Weight,\n",
      "                   color = cmap[-1],\n",
      "                   label = 'All',\n",
      "                   alpha=0.5)\n",
      "        \n",
      "        #Our grouped data\n",
      "        ax.scatter(finaldf.loc[row_indices].Initial_Weight,\n",
      "                   finaldf.loc[row_indices].Final_Weight,\n",
      "                   color=cmap[i],\n",
      "                   label = agebin)\n",
      "        \n",
      "        #Now set up the line\n",
      "        binned_fits[agebin]['slope'] \n",
      "        x = np.linspace(0, 600, 600)\n",
      "        slope = binned_fits[agebin]['slope']\n",
      "        intercept = binned_fits[agebin]['intercept']\n",
      "        y = slope * x + intercept\n",
      "        ax.plot(x, y, label = 'y = %.3fx + %.2f' % (slope, intercept) , color = 'black', alpha=0.7)\n",
      "        \n",
      "        #Set the labels and the legend\n",
      "        ax.legend(loc=2, frameon = False)\n",
      "        ax.set_ylabel('Final Weight')\n",
      "        ax.set_xlabel('Initial Weight')\n",
      "        \n",
      "    #Set the tight layout\n",
      "    plt.tight_layout()"
     ],
     "language": "python",
     "metadata": {},
     "outputs": []
    },
    {
     "cell_type": "code",
     "collapsed": false,
     "input": [],
     "language": "python",
     "metadata": {},
     "outputs": []
    },
    {
     "cell_type": "code",
     "collapsed": false,
     "input": [
      "#6 STUDENTS: Write a function to calculate the BMI given that we'll be getting a row of data from pandas\n",
      "def calc_bmi(row):\n",
      "    bmi = ( 703 * row[0] )/ row[1]**2\n",
      "    return bmi"
     ],
     "language": "python",
     "metadata": {},
     "outputs": []
    },
    {
     "cell_type": "code",
     "collapsed": false,
     "input": [],
     "language": "python",
     "metadata": {},
     "outputs": []
    },
    {
     "cell_type": "code",
     "collapsed": false,
     "input": [
      "#7 STUDENTS: Create the new columns using the apply function\n",
      "finaldf['Initial_BMI'] = finaldf.ix[:, ['Initial_Weight', 'Height']].apply(calc_bmi, axis=1)\n",
      "finaldf['Final_BMI'] = finaldf.ix[:, ['Final_Weight', 'Height']].apply(calc_bmi, axis=1)\n",
      "finaldf['BMI_Diff'] = finaldf['Final_BMI'] - finaldf['Initial_BMI']\n",
      "finaldf.head()"
     ],
     "language": "python",
     "metadata": {},
     "outputs": []
    },
    {
     "cell_type": "code",
     "collapsed": false,
     "input": [],
     "language": "python",
     "metadata": {},
     "outputs": []
    },
    {
     "cell_type": "code",
     "collapsed": false,
     "input": [
      "#8 STUDENTS: Now let's plot a histogram of these BMI Differences to get a sense of the data\n",
      "with mpl.style.context(('bmh')):\n",
      "    ax = finaldf.BMI_Diff.hist(bins=100, log=True)\n",
      "    ax.set_ylabel('Count')\n",
      "    ax.set_xlabel('BMI Difference')"
     ],
     "language": "python",
     "metadata": {},
     "outputs": []
    },
    {
     "cell_type": "code",
     "collapsed": false,
     "input": [],
     "language": "python",
     "metadata": {},
     "outputs": []
    },
    {
     "cell_type": "code",
     "collapsed": false,
     "input": [
      "#9 STUDENTS: Plot the BMI Difference against the Height\n",
      "\n",
      "#Set the x and y so there's less typing\n",
      "x = finaldf.Height.values\n",
      "y = finaldf.BMI_Diff.values\n",
      "\n",
      "with mpl.style.context(('bmh')):\n",
      "    #Now we just plot it\n",
      "    fig = plt.figure()\n",
      "    ax = fig.add_subplot(111, axisbg='white')\n",
      "    c = ax.scatter(x, y, color='steelblue')\n",
      "    ax.set_xlabel('Height')\n",
      "    ax.set_ylabel('BMI Difference')"
     ],
     "language": "python",
     "metadata": {},
     "outputs": []
    },
    {
     "cell_type": "code",
     "collapsed": false,
     "input": [],
     "language": "python",
     "metadata": {},
     "outputs": []
    },
    {
     "cell_type": "code",
     "collapsed": false,
     "input": [
      "#10 STUDENTS: Create a new column in the dataframe labelling individuals as either above or below the median\n",
      "\n",
      "def height_categorizer(height, median):\n",
      "    if height <= median:\n",
      "        return 'Below'\n",
      "    else:\n",
      "        return 'Above'\n",
      "\n",
      "finaldf['Height_Cat'] = finaldf['Height'].apply(lambda x: height_categorizer(x, finaldf.Height.median()))\n",
      "\n",
      "finaldf.head()"
     ],
     "language": "python",
     "metadata": {},
     "outputs": []
    },
    {
     "cell_type": "code",
     "collapsed": false,
     "input": [],
     "language": "python",
     "metadata": {},
     "outputs": []
    },
    {
     "cell_type": "code",
     "collapsed": false,
     "input": [
      "#11 STUDENTS: Make a box and whisker plot using pandas\n",
      "\n",
      "with mpl.style.context(('bmh')):\n",
      "    ax = finaldf.boxplot(column='BMI_Diff', by='Height_Cat')\n",
      "    ax.set_ylim(-10, 10)"
     ],
     "language": "python",
     "metadata": {},
     "outputs": []
    },
    {
     "cell_type": "code",
     "collapsed": false,
     "input": [],
     "language": "python",
     "metadata": {},
     "outputs": []
    },
    {
     "cell_type": "code",
     "collapsed": false,
     "input": [
      "#12 STUDENTS: Histogram of the two populations\n",
      "\n",
      "with mpl.style.context(('bmh')):\n",
      "    fig = plt.figure()\n",
      "    ax = fig.add_subplot(111, axisbg = 'white')\n",
      "    #set the number of bins\n",
      "    bins=50\n",
      "    #Plot the below\n",
      "    ax.hist(finaldf[finaldf['Height_Cat']=='Below'].BMI_Diff.values, bins=bins, normed=True, cumulative=True,\\\n",
      "            color='steelblue', label='Below')\n",
      "    #Plot the above\n",
      "    ax.hist(finaldf[finaldf['Height_Cat']=='Above'].BMI_Diff.values, bins=bins, normed=True, cumulative=True, \\\n",
      "            color='red', label='Above')\n",
      "    #Zoom in\n",
      "    #ax.set_xlim(-10, 10)\n",
      "    #Graph labelling\n",
      "    ax.set_ylabel('pdf')\n",
      "    ax.set_xlabel('BMI Change')\n",
      "    ax.legend(loc='best')"
     ],
     "language": "python",
     "metadata": {},
     "outputs": []
    },
    {
     "cell_type": "code",
     "collapsed": false,
     "input": [],
     "language": "python",
     "metadata": {},
     "outputs": []
    },
    {
     "cell_type": "code",
     "collapsed": false,
     "input": [
      "#13 STUDENTS: perform the t-test\n",
      "t, p = stats.ttest_ind(finaldf[finaldf['Height_Cat']=='Below'].BMI_Diff.values, \\\n",
      "                       finaldf[finaldf['Height_Cat']=='Above'].BMI_Diff.values)\n",
      "\n",
      "print('The p-value for the comparison is: ' + str(p))\n",
      "print(finaldf[finaldf['Height_Cat']=='Below'].BMI_Diff.mean())\n",
      "print(finaldf[finaldf['Height_Cat']=='Above'].BMI_Diff.mean())"
     ],
     "language": "python",
     "metadata": {},
     "outputs": []
    },
    {
     "cell_type": "code",
     "collapsed": false,
     "input": [],
     "language": "python",
     "metadata": {},
     "outputs": []
    },
    {
     "cell_type": "code",
     "collapsed": false,
     "input": [
      "#14 STUDENTS Perform a MC test on the two height groups\n",
      "import random\n",
      "\n",
      "samp_size = int( finaldf[finaldf.Height_Cat=='Above'].BMI_Diff.count() * 0.25 ) \n",
      "mc_means = []\n",
      "\n",
      "for i in range(5000):\n",
      "    #Progress updater, because everyone loves that!\n",
      "    if i % 1000 == 0:\n",
      "        print(\"Currently at iteration \" + str(i))\n",
      "    #Sample and record the mean\n",
      "    samp = random.sample(list( finaldf[finaldf['Height_Cat']=='Above'].BMI_Diff.values ), samp_size)\n",
      "    mc_means.append( np.mean(samp) )\n",
      "\n",
      "#Calculate the mean and standard deviation \n",
      "mc_mean = np.mean(mc_means)\n",
      "mc_std = np.std(mc_means)\n",
      "\n",
      "#Calculate how far away the 'Below' group mean is from the MC mean\n",
      "std_diff = (finaldf[finaldf.Height_Cat=='Below'].BMI_Diff.mean() - mc_mean)/mc_std\n",
      "print(\"The Below category mean is \" + str(std_diff) + \" standard deviations away from the Above category simulated mean\")"
     ],
     "language": "python",
     "metadata": {},
     "outputs": []
    },
    {
     "cell_type": "code",
     "collapsed": false,
     "input": [],
     "language": "python",
     "metadata": {},
     "outputs": []
    },
    {
     "cell_type": "code",
     "collapsed": false,
     "input": [
      "#15 STUDENTS: Now let's make a plot of the MC Result\n",
      "with mpl.style.context(('bmh')):\n",
      "    fig = plt.figure()\n",
      "    ax = fig.add_subplot(111, axisbg='white')\n",
      "    #Plot the distribution\n",
      "    n, bins, patches = ax.hist(mc_means, normed=True, color='steelblue')\n",
      "    #Plot the average from the Below category\n",
      "    ax.vlines([finaldf[finaldf.Height_Cat=='Below'].BMI_Diff.mean()], [0], [max(n)], color='red')\n",
      "    #Labels\n",
      "    ax.set_ylabel('pdf')\n",
      "    ax.set_xlabel('Average BMI Change')"
     ],
     "language": "python",
     "metadata": {},
     "outputs": []
    }
   ],
   "metadata": {}
  }
 ]
}