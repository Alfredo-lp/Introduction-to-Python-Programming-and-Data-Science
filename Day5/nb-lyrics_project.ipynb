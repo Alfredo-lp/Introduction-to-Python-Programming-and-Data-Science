{
 "metadata": {
  "name": "",
  "signature": "sha256:5d3b71ffe2f0a4561a7b32771d06085d9dd22450aa2ae65da2316115416c4be1"
 },
 "nbformat": 3,
 "nbformat_minor": 0,
 "worksheets": [
  {
   "cells": [
    {
     "cell_type": "markdown",
     "metadata": {},
     "source": [
      "# Lyrics analysis project\n",
      "\n",
      "We downloaded the lyrics to all songs of the new U2 album!\n",
      "\n",
      "They are located in `Bootcamp/ProjectData/` as individual html files.\n",
      "\n",
      "Your job is to create a function `get_song_lyrics` that opens a file with the lyrics from a song\n",
      "and then extracts the text from that file. You should be able to do this for all songs in that folder."
     ]
    },
    {
     "cell_type": "code",
     "collapsed": false,
     "input": [
      "import glob\n",
      "\n",
      "import bs4"
     ],
     "language": "python",
     "metadata": {},
     "outputs": []
    },
    {
     "cell_type": "code",
     "collapsed": false,
     "input": [
      "def get_song_lyrics(lyrics_filename):\n",
      "    \"\"\"\n",
      "    Given a song's lyrics file, parses it using Beautiful Soup,\n",
      "    and returns the lyrics as a tuple:\n",
      "    (song title, song lyrics)\n",
      "    \"\"\"\n",
      "    # We can create the soup from a saved html file as well\n",
      "    with open(lyrics_filename, \"r\") as lyrics_file:\n",
      "        soup = bs4.BeautifulSoup(lyrics_file.read())\n",
      "\n",
      "    #\n",
      "    # What's next?\n",
      "    #"
     ],
     "language": "python",
     "metadata": {},
     "outputs": []
    },
    {
     "cell_type": "code",
     "collapsed": false,
     "input": [
      "# Now iterate through all html files in the folder\n",
      "# and call the function for each one of them\n",
      "\n",
      "# Hint: the import statements in the first cell should remind you how to\n",
      "# grab all files in a folder"
     ],
     "language": "python",
     "metadata": {},
     "outputs": []
    }
   ],
   "metadata": {}
  }
 ]
}