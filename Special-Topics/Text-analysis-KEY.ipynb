{
 "cells": [
  {
   "cell_type": "markdown",
   "metadata": {},
   "source": [
    "#Text analysis\n",
    "Whether it's extracting numerical data from text, or dealing with text directly, the ability to manipulate text in the form of strings is essential for any number of data science projects. \n",
    "\n",
    "Here, we're going to take a walk over to the humanities and see if we can learn anything new about our favorite author... William Shakespeare (if we all had to learn it, so should a computer, right?). We might ask...\n",
    "\n",
    "1. Should \"Othello\" really be called \"Iago\"?\n",
    "\n",
    "2. Can a computer learn the difference between a comedy and a tragedy?\n",
    "\n",
    "3. Who is the most verbose Shakespearean character?\n",
    "\n",
    "4. Who has the largest vocabulary? \n",
    "\n",
    "5. Did the complexity of Shakespeare's vocabulary change over time?\n",
    "\n",
    "6. Which is Shakespeare's most feminist play?\n",
    "\n",
    "We could think of any number of quantitative questions to pursue, each requiring slightly different skills and analytical depth. Let's start with something easy and build our way up. By the end you should have the skills to answer some of the above questions. \n",
    "\n",
    "#The Data\n",
    "Where are we going to get data? [Project Gutenberg]('http://www.gutenberg.org') has 1000's of different post-copyright books freely available in the form of easy-to-use `.txt` files. Luckily for us, this includes the complete works of William Shakespeare which we've pre-downloaded for you.\n",
    "\n",
    "First things first, **ALWAYS LOOK AT YOUR DATA**. Now is the time to open `'../Data/Shakespeare.txt'` and get a sense for the file formatting. (You can do this quickly by clicking: [Shapespeare.txt](../Data/Shakespeare.txt)).\n",
    "\n",
    "1. How are different plays separated from one another?\n",
    "2. How is dialogue formatted?\n",
    "3. What extraneous information might we want to ignore?\n",
    "4. How \"well behaved\" is our dataset? (i.e. is the formatting general or unique for different plays?)\n",
    "\n",
    "These are all important questions that we can only infer from qualitative visual exploration. \n",
    "\n",
    "#Text parsing review\n",
    "Before we dive into this large file, let's do a brief refresher on some text parsing basics which will give us an excuse to spoil Hamlet for you. "
   ]
  },
  {
   "cell_type": "code",
   "execution_count": 1,
   "metadata": {
    "collapsed": true
   },
   "outputs": [],
   "source": [
    "spoiler_alert = [\"O, I die, Horatio!\\n\",\n",
    "    \"The potent poison quite o'ercrows my spirit.\\n\",\n",
    "    \"I cannot live to hear the news from England,\\n\",\n",
    "    \"     But I do prophesy th' election lights\\n\",\n",
    "    \"On Fortinbras. He has my dying voice.\\n\",\n",
    "    \"So tell him, with th' occurrents, more and less,\\n\",\n",
    "    \"\\n\",             \n",
    "    \"Which have solicited- the rest is silence.             Dies.\\n\"]"
   ]
  },
  {
   "cell_type": "markdown",
   "metadata": {},
   "source": [
    "If we didn't know what was in `spoiler_alert`, we would have to iterate through the lines to see what the data looks like:"
   ]
  },
  {
   "cell_type": "code",
   "execution_count": 2,
   "metadata": {
    "collapsed": false
   },
   "outputs": [
    {
     "name": "stdout",
     "output_type": "stream",
     "text": [
      "O, I die, Horatio!\n",
      "\n",
      "The potent poison quite o'ercrows my spirit.\n",
      "\n",
      "I cannot live to hear the news from England,\n",
      "\n",
      "     But I do prophesy th' election lights\n",
      "\n",
      "On Fortinbras. He has my dying voice.\n",
      "\n",
      "So tell him, with th' occurrents, more and less,\n",
      "\n",
      "\n",
      "\n",
      "Which have solicited- the rest is silence.             Dies.\n",
      "\n"
     ]
    }
   ],
   "source": [
    "for line in spoiler_alert:\n",
    "    print(line)"
   ]
  },
  {
   "cell_type": "markdown",
   "metadata": {},
   "source": [
    "##Removing extraneous characters\n",
    "Remember, `\\n` is a new line character so it isn't actually displayed. It is still there, the `print` function just interprets it to say `new line` which is why we have double-spacing going on here (one line is added during the `for` loop, another is added by each `\\n`).\n",
    "\n",
    "We can get rid of the extra spaces easily enough, though:"
   ]
  },
  {
   "cell_type": "code",
   "execution_count": 3,
   "metadata": {
    "collapsed": false
   },
   "outputs": [
    {
     "name": "stdout",
     "output_type": "stream",
     "text": [
      "O, I die, Horatio!\n",
      "The potent poison quite o'ercrows my spirit.\n",
      "I cannot live to hear the news from England,\n",
      "     But I do prophesy th' election lights\n",
      "On Fortinbras. He has my dying voice.\n",
      "So tell him, with th' occurrents, more and less,\n",
      "\n",
      "Which have solicited- the rest is silence.             Dies.\n"
     ]
    }
   ],
   "source": [
    "for line in spoiler_alert:\n",
    "    print(line.strip('\\n'))"
   ]
  },
  {
   "cell_type": "markdown",
   "metadata": {},
   "source": [
    "Now the `\\n` really is gone, and our text isn't double spaced. Remember, we're not actually changing `spoiler_alert`. We're only temporarily removing the `\\n` as we print each line. Thus:"
   ]
  },
  {
   "cell_type": "code",
   "execution_count": 4,
   "metadata": {
    "collapsed": false
   },
   "outputs": [
    {
     "name": "stdout",
     "output_type": "stream",
     "text": [
      "O, I die, Horatio!\n",
      "\n",
      "The potent poison quite o'ercrows my spirit.\n",
      "\n",
      "I cannot live to hear the news from England,\n",
      "\n",
      "     But I do prophesy th' election lights\n",
      "\n",
      "On Fortinbras. He has my dying voice.\n",
      "\n",
      "So tell him, with th' occurrents, more and less,\n",
      "\n",
      "\n",
      "\n",
      "Which have solicited- the rest is silence.             Dies.\n",
      "\n"
     ]
    }
   ],
   "source": [
    "for line in spoiler_alert:\n",
    "    print(line)"
   ]
  },
  {
   "cell_type": "markdown",
   "metadata": {},
   "source": [
    "The `\\n` characters are still there! That's okay, I just wanted to remind you of this crucial aspect of `for` loops.\n",
    "\n",
    "So `str.strip('\\n')` removes the `\\n` characters, but it still leaves a weird spacing before \"But I do prophesy...\". \n",
    "\n",
    "Instead, we could just say `str.strip()` and by default it will remove _all_ white space, which includes `\\t` (tab) `\\n` (new line) and '' (spaces) from both the right _and_ left ends. Note that `str.lstrip()` and `str.rstrip()` only remove characters from one end at a time."
   ]
  },
  {
   "cell_type": "code",
   "execution_count": 6,
   "metadata": {
    "collapsed": false
   },
   "outputs": [
    {
     "name": "stdout",
     "output_type": "stream",
     "text": [
      "O, I die, Horatio!\n",
      "The potent poison quite o'ercrows my spirit.\n",
      "I cannot live to hear the news from England,\n",
      "But I do prophesy th' election lights\n",
      "On Fortinbras. He has my dying voice.\n",
      "So tell him, with th' occurrents, more and less,\n",
      "\n",
      "Which have solicited- the rest is silence.             Dies.\n"
     ]
    }
   ],
   "source": [
    "for line in spoiler_alert:\n",
    "    print(line.strip())"
   ]
  },
  {
   "cell_type": "markdown",
   "metadata": {},
   "source": [
    "Note that `strip()` doesn't remove anything from the middle of a line, so there is still a ton of space before 'Dies'. The `strip()` method will only remove characters from the ends of a string. This isn't a problem for us, but is important to remember.\n",
    "\n",
    "##Getting line (index) numbers\n",
    "Another handy function is `enumerate`. Suppose I wanted to know the line numbers: it's pretty trivial with this short list but we won't always work with short lists. For longer text, `enumerate` is a lifesaver. Let's see it in action:"
   ]
  },
  {
   "cell_type": "code",
   "execution_count": 7,
   "metadata": {
    "collapsed": false
   },
   "outputs": [
    {
     "name": "stdout",
     "output_type": "stream",
     "text": [
      "(0, 'O, I die, Horatio!\\n')\n",
      "(1, \"The potent poison quite o'ercrows my spirit.\\n\")\n",
      "(2, 'I cannot live to hear the news from England,\\n')\n",
      "(3, \"     But I do prophesy th' election lights\\n\")\n",
      "(4, 'On Fortinbras. He has my dying voice.\\n')\n",
      "(5, \"So tell him, with th' occurrents, more and less,\\n\")\n",
      "(6, '\\n')\n",
      "(7, 'Which have solicited- the rest is silence.             Dies.\\n')\n"
     ]
    }
   ],
   "source": [
    "for line in enumerate(spoiler_alert):\n",
    "    print(line)"
   ]
  },
  {
   "cell_type": "markdown",
   "metadata": {},
   "source": [
    "`enumerate` took our list of strings named `spoiler_alert` and created a list of tuples! The **first** item in each tuple is the index within the original list (`spoiler_alert`), and the **second** item is the actual string. This will come in handy later."
   ]
  },
  {
   "cell_type": "markdown",
   "metadata": {},
   "source": [
    "##Searching in text\n",
    "Let's do a little searching:"
   ]
  },
  {
   "cell_type": "code",
   "execution_count": 8,
   "metadata": {
    "collapsed": false
   },
   "outputs": [
    {
     "name": "stdout",
     "output_type": "stream",
     "text": [
      "The potent poison quite o'ercrows my spirit.\n",
      "\n"
     ]
    }
   ],
   "source": [
    "for line in spoiler_alert:\n",
    "    if 'The' in line:\n",
    "        print(line)"
   ]
  },
  {
   "cell_type": "markdown",
   "metadata": {},
   "source": [
    "Why aren't line 2 (\"I cannot live...\") or 7 (\"Which have solicited...\") printed?\n",
    "\n",
    "**Capitalization matters!**"
   ]
  },
  {
   "cell_type": "code",
   "execution_count": 9,
   "metadata": {
    "collapsed": false
   },
   "outputs": [
    {
     "name": "stdout",
     "output_type": "stream",
     "text": [
      "I cannot live to hear the news from England,\n",
      "\n",
      "Which have solicited- the rest is silence.             Dies.\n",
      "\n"
     ]
    }
   ],
   "source": [
    "for line in spoiler_alert:\n",
    "    if 'the' in line:\n",
    "        print(line)"
   ]
  },
  {
   "cell_type": "markdown",
   "metadata": {},
   "source": [
    "Now we got lines 2 and 7, but we missed line 1!\n",
    "\n",
    "Maybe we don't care about capitalization, and just want to know whether 'the' appears anywhere within the line. We'll have to standardize our search by converting each line to lowercase before searching it:"
   ]
  },
  {
   "cell_type": "code",
   "execution_count": 10,
   "metadata": {
    "collapsed": false
   },
   "outputs": [
    {
     "name": "stdout",
     "output_type": "stream",
     "text": [
      "The potent poison quite o'ercrows my spirit.\n",
      "\n",
      "I cannot live to hear the news from England,\n",
      "\n",
      "Which have solicited- the rest is silence.             Dies.\n",
      "\n"
     ]
    }
   ],
   "source": [
    "for line in spoiler_alert:\n",
    "    if 'the' in line.lower():\n",
    "        print(line)"
   ]
  },
  {
   "cell_type": "markdown",
   "metadata": {},
   "source": [
    "The same works for uppercase:"
   ]
  },
  {
   "cell_type": "code",
   "execution_count": 11,
   "metadata": {
    "collapsed": true
   },
   "outputs": [],
   "source": [
    "for line in spoiler_alert:\n",
    "    if 'the' in line.upper():\n",
    "        print(line)"
   ]
  },
  {
   "cell_type": "markdown",
   "metadata": {},
   "source": [
    "We didn't find anything here. Why not? \n",
    "\n",
    "We temporarily made the lines uppercase, so lowercase `the` never appears in any of them! We should have said:"
   ]
  },
  {
   "cell_type": "code",
   "execution_count": 12,
   "metadata": {
    "collapsed": false
   },
   "outputs": [
    {
     "name": "stdout",
     "output_type": "stream",
     "text": [
      "The potent poison quite o'ercrows my spirit.\n",
      "\n",
      "I cannot live to hear the news from England,\n",
      "\n",
      "Which have solicited- the rest is silence.             Dies.\n",
      "\n"
     ]
    }
   ],
   "source": [
    "for line in spoiler_alert:\n",
    "    if 'THE' in line.upper():\n",
    "        print(line)"
   ]
  },
  {
   "cell_type": "markdown",
   "metadata": {},
   "source": [
    "Is this the only way to find something in a line? Of course not! Programming wouldn't be fun if there weren't 1000 ways to do the same thing. "
   ]
  },
  {
   "cell_type": "code",
   "execution_count": 13,
   "metadata": {
    "collapsed": false
   },
   "outputs": [
    {
     "name": "stdout",
     "output_type": "stream",
     "text": [
      "I cannot live to hear the news from England, 22\n",
      "Which have solicited- the rest is silence.             Dies. 22\n"
     ]
    }
   ],
   "source": [
    "for line in spoiler_alert:\n",
    "    if line.find('the') != -1:\n",
    "        print(line.strip(), line.find('the'))"
   ]
  },
  {
   "cell_type": "markdown",
   "metadata": {},
   "source": [
    "`find` doesn't tells us whether the text appears in the line, but also tells us exactly where the text appears in the line (indexing from 0). If it doesn't find our search query it will return -1. These methods can also be combined in linear chains:"
   ]
  },
  {
   "cell_type": "code",
   "execution_count": 14,
   "metadata": {
    "collapsed": false
   },
   "outputs": [
    {
     "name": "stdout",
     "output_type": "stream",
     "text": [
      "The potent poison quite o'ercrows my spirit. 0\n",
      "I cannot live to hear the news from England, 22\n",
      "Which have solicited- the rest is silence.             Dies. 22\n"
     ]
    }
   ],
   "source": [
    "for line in spoiler_alert:\n",
    "    if line.lower().find('the') != -1: #Now we're lowercasing the line first before searching\n",
    "        print(line.strip(), line.lower().find('the'))"
   ]
  },
  {
   "cell_type": "markdown",
   "metadata": {},
   "source": [
    "`index` works similarly to `find`:"
   ]
  },
  {
   "cell_type": "code",
   "execution_count": 15,
   "metadata": {
    "collapsed": false
   },
   "outputs": [
    {
     "ename": "ValueError",
     "evalue": "substring not found",
     "output_type": "error",
     "traceback": [
      "\u001b[0;31m---------------------------------------------------------------------------\u001b[0m",
      "\u001b[0;31mValueError\u001b[0m                                Traceback (most recent call last)",
      "\u001b[0;32m<ipython-input-15-e8886990d643>\u001b[0m in \u001b[0;36m<module>\u001b[0;34m()\u001b[0m\n\u001b[1;32m      1\u001b[0m \u001b[0;32mfor\u001b[0m \u001b[0mline\u001b[0m \u001b[0;32min\u001b[0m \u001b[0mspoiler_alert\u001b[0m\u001b[0;34m:\u001b[0m\u001b[0;34m\u001b[0m\u001b[0m\n\u001b[0;32m----> 2\u001b[0;31m     \u001b[0;32mif\u001b[0m \u001b[0mline\u001b[0m\u001b[0;34m.\u001b[0m\u001b[0mindex\u001b[0m\u001b[0;34m(\u001b[0m\u001b[0;34m'the'\u001b[0m\u001b[0;34m)\u001b[0m \u001b[0;34m!=\u001b[0m \u001b[0;34m-\u001b[0m\u001b[0;36m1\u001b[0m\u001b[0;34m:\u001b[0m\u001b[0;34m\u001b[0m\u001b[0m\n\u001b[0m\u001b[1;32m      3\u001b[0m         \u001b[0mprint\u001b[0m\u001b[0;34m(\u001b[0m\u001b[0mline\u001b[0m\u001b[0;34m.\u001b[0m\u001b[0mstrip\u001b[0m\u001b[0;34m(\u001b[0m\u001b[0;34m)\u001b[0m\u001b[0;34m,\u001b[0m \u001b[0mline\u001b[0m\u001b[0;34m.\u001b[0m\u001b[0mfind\u001b[0m\u001b[0;34m(\u001b[0m\u001b[0;34m'the'\u001b[0m\u001b[0;34m)\u001b[0m\u001b[0;34m)\u001b[0m\u001b[0;34m\u001b[0m\u001b[0m\n",
      "\u001b[0;31mValueError\u001b[0m: substring not found"
     ]
    }
   ],
   "source": [
    "for line in spoiler_alert:\n",
    "    if line.index('the') != -1:\n",
    "        print(line.strip(), line.find('the'))"
   ]
  },
  {
   "cell_type": "markdown",
   "metadata": {},
   "source": [
    "Except `index` gave us a `ValueError`. Why?\n",
    "\n",
    "When using `index`, if the string isn't found it raises an error rather than returning `-1`. We need to try something slightly different. Remember our old friend try/except?"
   ]
  },
  {
   "cell_type": "code",
   "execution_count": 16,
   "metadata": {
    "collapsed": false
   },
   "outputs": [
    {
     "name": "stdout",
     "output_type": "stream",
     "text": [
      "The potent poison quite o'ercrows my spirit. 0\n",
      "I cannot live to hear the news from England, 22\n",
      "Which have solicited- the rest is silence.             Dies. 22\n"
     ]
    }
   ],
   "source": [
    "for line in spoiler_alert:\n",
    "    try:\n",
    "        print(line.strip(), line.lower().index('the'))\n",
    "    except ValueError:\n",
    "        pass"
   ]
  },
  {
   "cell_type": "markdown",
   "metadata": {},
   "source": [
    "We've now learned a few different ways to search for substrings inside of strings. Capitalization really matters for all of them, and there are minor differences between methods that you need to keep in mind. \n",
    "\n",
    "We also learned that `enumerate` makes it easy to find the line number in which substrings occurred:"
   ]
  },
  {
   "cell_type": "code",
   "execution_count": 17,
   "metadata": {
    "collapsed": false
   },
   "outputs": [
    {
     "name": "stdout",
     "output_type": "stream",
     "text": [
      "Line number:  1 **** Line:  The potent poison quite o'ercrows my spirit.\n",
      "\n",
      "Line number:  2 **** Line:  I cannot live to hear the news from England,\n",
      "\n",
      "Line number:  7 **** Line:  Which have solicited- the rest is silence.             Dies.\n",
      "\n"
     ]
    }
   ],
   "source": [
    "for line in enumerate(spoiler_alert):\n",
    "    if 'the' in line[1].lower(): #We have to look in the string, which is index one in the enumerate tuple\n",
    "        print('Line number: ', line[0], '**** Line: ', line[1])#And only print the line number line[1] is the full line"
   ]
  },
  {
   "cell_type": "markdown",
   "metadata": {},
   "source": [
    "We now know that 'the' appears on lines 1, 2, and 7. This might be useful at some point. For instance, what if we only want the lines between the first and last occurences of 'my'? \n",
    "\n",
    "**Exercise:** Use your favorite method to find lines containing the word 'my'. Next, append all lines _between_ (and including!) the lines containing the substring 'my' to their own list."
   ]
  },
  {
   "cell_type": "code",
   "execution_count": 18,
   "metadata": {
    "collapsed": false
   },
   "outputs": [
    {
     "name": "stdout",
     "output_type": "stream",
     "text": [
      "[\"The potent poison quite o'ercrows my spirit.\\n\", 'I cannot live to hear the news from England,\\n', \"     But I do prophesy th' election lights\\n\", 'On Fortinbras. He has my dying voice.\\n']\n"
     ]
    }
   ],
   "source": [
    "lines_of_interest = []\n",
    "\n",
    "###Place your code here\n",
    "\n",
    "\n",
    "\n",
    "###Answer\n",
    "lines_with_my = []\n",
    "for line in enumerate(spoiler_alert):\n",
    "    if \"my\" in line[1].lower():\n",
    "        lines_with_my.append(line[0])\n",
    "lines_of_interest = spoiler_alert[min(lines_with_my):max(lines_with_my)+1] \n",
    "print(lines_of_interest)"
   ]
  },
  {
   "cell_type": "markdown",
   "metadata": {},
   "source": [
    "\n",
    "#Splitting strings\n",
    "Let's do a refresher on splitting up strings. Maybe we just want a list of the words in each line rather than working with the entire line as a string:"
   ]
  },
  {
   "cell_type": "code",
   "execution_count": 19,
   "metadata": {
    "collapsed": false
   },
   "outputs": [
    {
     "name": "stdout",
     "output_type": "stream",
     "text": [
      "['O', ' I die', ' Horatio!\\n']\n",
      "[\"The potent poison quite o'ercrows my spirit.\\n\"]\n",
      "['I cannot live to hear the news from England', '\\n']\n",
      "[\"     But I do prophesy th' election lights\\n\"]\n",
      "['On Fortinbras. He has my dying voice.\\n']\n",
      "['So tell him', \" with th' occurrents\", ' more and less', '\\n']\n",
      "['\\n']\n",
      "['Which have solicited- the rest is silence.             Dies.\\n']\n"
     ]
    }
   ],
   "source": [
    "for line in spoiler_alert:\n",
    "        print(line.split(','))"
   ]
  },
  {
   "cell_type": "markdown",
   "metadata": {},
   "source": [
    "Here we turned each line into a list of clauses separated by commas. In lines without commas, the line became a list with a single element. In lines with commas, the string was split into separate strings based on the position of those commas (notice that the commas themselves are gone!).\n",
    "\n",
    "We could also split our lines based on spaces to isolate individual words (kind of):"
   ]
  },
  {
   "cell_type": "code",
   "execution_count": 20,
   "metadata": {
    "collapsed": false
   },
   "outputs": [
    {
     "name": "stdout",
     "output_type": "stream",
     "text": [
      "['O,', 'I', 'die,', 'Horatio!\\n']\n",
      "['The', 'potent', 'poison', 'quite', \"o'ercrows\", 'my', 'spirit.\\n']\n",
      "['I', 'cannot', 'live', 'to', 'hear', 'the', 'news', 'from', 'England,\\n']\n",
      "['', '', '', '', '', 'But', 'I', 'do', 'prophesy', \"th'\", 'election', 'lights\\n']\n",
      "['On', 'Fortinbras.', 'He', 'has', 'my', 'dying', 'voice.\\n']\n",
      "['So', 'tell', 'him,', 'with', \"th'\", 'occurrents,', 'more', 'and', 'less,\\n']\n",
      "['\\n']\n",
      "['Which', 'have', 'solicited-', 'the', 'rest', 'is', 'silence.', '', '', '', '', '', '', '', '', '', '', '', '', 'Dies.\\n']\n"
     ]
    }
   ],
   "source": [
    "for line in spoiler_alert:\n",
    "        print(line.split(' '))"
   ]
  },
  {
   "cell_type": "markdown",
   "metadata": {},
   "source": [
    "I said _kind of_ because while it looks like most of these are single words, it's not perfect. The last word in each line still has that pesky '`\\n`', so let's combine commands to get rid of it:"
   ]
  },
  {
   "cell_type": "code",
   "execution_count": 21,
   "metadata": {
    "collapsed": false
   },
   "outputs": [
    {
     "name": "stdout",
     "output_type": "stream",
     "text": [
      "['O,', 'I', 'die,', 'Horatio!']\n",
      "['The', 'potent', 'poison', 'quite', \"o'ercrows\", 'my', 'spirit.']\n",
      "['I', 'cannot', 'live', 'to', 'hear', 'the', 'news', 'from', 'England,']\n",
      "['But', 'I', 'do', 'prophesy', \"th'\", 'election', 'lights']\n",
      "['On', 'Fortinbras.', 'He', 'has', 'my', 'dying', 'voice.']\n",
      "['So', 'tell', 'him,', 'with', \"th'\", 'occurrents,', 'more', 'and', 'less,']\n",
      "['']\n",
      "['Which', 'have', 'solicited-', 'the', 'rest', 'is', 'silence.', '', '', '', '', '', '', '', '', '', '', '', '', 'Dies.']\n"
     ]
    }
   ],
   "source": [
    "for line in spoiler_alert:\n",
    "        print(line.strip().split(' '))"
   ]
  },
  {
   "cell_type": "markdown",
   "metadata": {},
   "source": [
    "The operations were performed in order. First we stripped white space off the left and right sides of the string. Then, we split the resultant string into a list based on spaces. Now we have a list of words for each line that looks slightly better than before (we still have errors, but we'll come back to that), but what if we wanted a list of words for the entire text rather than for each line?"
   ]
  },
  {
   "cell_type": "code",
   "execution_count": 22,
   "metadata": {
    "collapsed": false
   },
   "outputs": [
    {
     "name": "stdout",
     "output_type": "stream",
     "text": [
      "['O,', 'I', 'die,', 'Horatio!', 'The', 'potent', 'poison', 'quite', \"o'ercrows\", 'my', 'spirit.', 'I', 'cannot', 'live', 'to', 'hear', 'the', 'news', 'from', 'England,', 'But', 'I', 'do', 'prophesy', \"th'\", 'election', 'lights', 'On', 'Fortinbras.', 'He', 'has', 'my', 'dying', 'voice.', 'So', 'tell', 'him,', 'with', \"th'\", 'occurrents,', 'more', 'and', 'less,', '', 'Which', 'have', 'solicited-', 'the', 'rest', 'is', 'silence.', '', '', '', '', '', '', '', '', '', '', '', '', 'Dies.']\n"
     ]
    }
   ],
   "source": [
    "total_list = []\n",
    "for line in spoiler_alert:\n",
    "    line_as_list = line.strip().split(' ')\n",
    "    for word in line_as_list:\n",
    "        total_list.append(word)\n",
    "print(total_list)"
   ]
  },
  {
   "cell_type": "markdown",
   "metadata": {},
   "source": [
    "This isn't so bad, but there are still some weird things in here that we probably don't want, like all of those empty strings that precede 'Dies' or any of the punctuation.  "
   ]
  },
  {
   "cell_type": "code",
   "execution_count": 23,
   "metadata": {
    "collapsed": false
   },
   "outputs": [
    {
     "name": "stdout",
     "output_type": "stream",
     "text": [
      "['O,', 'I', 'die,', 'Horatio', 'The', 'potent', 'poison', 'quite', \"o'ercrows\", 'my', 'spirit.', 'I', 'cannot', 'live', 'to', 'hear', 'the', 'news', 'from', 'England,', 'But', 'I', 'do', 'prophesy', \"th'\", 'election', 'lights', 'On', 'Fortinbras.', 'He', 'has', 'my', 'dying', 'voice.', 'So', 'tell', 'him,', 'with', \"th'\", 'occurrents,', 'more', 'and', 'less,', '', 'Which', 'have', 'solicited-', 'the', 'rest', 'is', 'silence.', '', '', '', '', '', '', '', '', '', '', '', '', 'Dies.']\n"
     ]
    }
   ],
   "source": [
    "total_list = []\n",
    "for line in spoiler_alert:\n",
    "    line_as_list = line.strip().split(' ')\n",
    "    for word in line_as_list:\n",
    "        total_list.append(word.rstrip('!'))\n",
    "print(total_list)"
   ]
  },
  {
   "cell_type": "markdown",
   "metadata": {},
   "source": [
    "Here we're stripping (from the right side only) the exclamation marks. We may also want to strip the periods, colons, semi-colons, hyphens and question marks (or anything else). We can just lump all of these into `strip` and run `strip` for each word. If it doesn't find anything, it won't do anything. If it finds a question mark, it will remove it:"
   ]
  },
  {
   "cell_type": "code",
   "execution_count": 24,
   "metadata": {
    "collapsed": false
   },
   "outputs": [
    {
     "name": "stdout",
     "output_type": "stream",
     "text": [
      "['O,', 'I', 'die,', 'Horatio', 'The', 'potent', 'poison', 'quite', \"o'ercrows\", 'my', 'spirit', 'I', 'cannot', 'live', 'to', 'hear', 'the', 'news', 'from', 'England,', 'But', 'I', 'do', 'prophesy', \"th'\", 'election', 'lights', 'On', 'Fortinbras', 'He', 'has', 'my', 'dying', 'voice', 'So', 'tell', 'him,', 'with', \"th'\", 'occurrents,', 'more', 'and', 'less,', '', 'Which', 'have', 'solicited', 'the', 'rest', 'is', 'silence', '', '', '', '', '', '', '', '', '', '', '', '', 'Dies']\n"
     ]
    }
   ],
   "source": [
    "total_list = []\n",
    "for line in spoiler_alert:\n",
    "    line_as_list = line.strip().split(' ')\n",
    "    for word in line_as_list:\n",
    "        total_list.append(word.rstrip('!?.-;:'))\n",
    "print(total_list)"
   ]
  },
  {
   "cell_type": "markdown",
   "metadata": {},
   "source": [
    "We will still have apostrophes, but maybe we want to keep them. What about hyphenated words? Our current practice would keep strings like 'well-known' as one long word. Perhaps we are okay with that, or perhaps not. \n",
    "\n",
    "Let's wrap this up:"
   ]
  },
  {
   "cell_type": "code",
   "execution_count": 25,
   "metadata": {
    "collapsed": false
   },
   "outputs": [
    {
     "name": "stdout",
     "output_type": "stream",
     "text": [
      "['o', 'i', 'die', 'horatio', 'the', 'potent', 'poison', 'quite', \"o'ercrows\", 'my', 'spirit', 'i', 'cannot', 'live', 'to', 'hear', 'the', 'news', 'from', 'england', 'but', 'i', 'do', 'prophesy', \"th'\", 'election', 'lights', 'on', 'fortinbras', 'he', 'has', 'my', 'dying', 'voice', 'so', 'tell', 'him', 'with', \"th'\", 'occurrents', 'more', 'and', 'less', 'which', 'have', 'solicited', 'the', 'rest', 'is', 'silence', 'dies']\n"
     ]
    }
   ],
   "source": [
    "total_list = []\n",
    "for line in spoiler_alert:\n",
    "    line_as_list = line.strip().split(' ')\n",
    "    for word in line_as_list:\n",
    "        if len(word) > 0:#This will make sure the string has something in it\n",
    "            total_list.append(word.rstrip('!?.,-;:').lower())\n",
    "print(total_list)"
   ]
  },
  {
   "cell_type": "markdown",
   "metadata": {},
   "source": [
    "Everything is lowercase so  'The' and 'the' will be recognized as the same word, and we removed both punctuation and those pesky spaces/empty strings. Finally, we can get word counts, for which we'll rely on Counter:"
   ]
  },
  {
   "cell_type": "code",
   "execution_count": 27,
   "metadata": {
    "collapsed": false
   },
   "outputs": [
    {
     "data": {
      "text/plain": [
       "Counter({'i': 3, 'the': 3, 'my': 2, \"th'\": 2, 'him': 1, 'silence': 1, 'lights': 1, 'do': 1, 'hear': 1, 'o': 1, 'to': 1, 'on': 1, 'england': 1, 'fortinbras': 1, 'die': 1, 'poison': 1, 'live': 1, 'less': 1, 'so': 1, 'occurrents': 1, 'prophesy': 1, 'is': 1, 'tell': 1, 'but': 1, 'have': 1, 'potent': 1, 'from': 1, 'with': 1, 'cannot': 1, 'solicited': 1, 'rest': 1, \"o'ercrows\": 1, 'voice': 1, 'quite': 1, 'more': 1, 'news': 1, 'dies': 1, 'which': 1, 'and': 1, 'spirit': 1, 'election': 1, 'he': 1, 'horatio': 1, 'dying': 1, 'has': 1})"
      ]
     },
     "execution_count": 27,
     "metadata": {},
     "output_type": "execute_result"
    }
   ],
   "source": [
    "from collections import Counter\n",
    "Counter(total_list)"
   ]
  },
  {
   "cell_type": "markdown",
   "metadata": {},
   "source": [
    "#Back to Shakespeare.txt\n",
    "\n",
    "We've now created a dictionary of all the word counts in our sample text. Of course, we don't care about a tiny sample. Our real text is gigantic and contains a lot of stuff we don't need. Let's get serious and move on to some big(-ger) data. We need to start by reading in the file using python:"
   ]
  },
  {
   "cell_type": "code",
   "execution_count": 28,
   "metadata": {
    "collapsed": true
   },
   "outputs": [],
   "source": [
    "complete_works = open('../Data/Shakespeare.txt').readlines()"
   ]
  },
  {
   "cell_type": "markdown",
   "metadata": {},
   "source": [
    "For the next few tasks, I'm only interested  in 'Othello'. Look at where Othello begins in the text: how are we going to extract Othello and _only_ Othello from this large list of lines? How do _we_ know when Othello begins and ends?\n",
    "\n",
    "**Exercise:** Iterate through `complete_works` and add only the lines relevant to 'Othello' to the new list `othello_lines` (hint: there might be a string that differentiates Othello from other plays. And there might be another string that signifies the end of a play. How can you use search to find those lines and get the ones you want?)."
   ]
  },
  {
   "cell_type": "code",
   "execution_count": 29,
   "metadata": {
    "collapsed": false
   },
   "outputs": [],
   "source": [
    "othello_lines = []\n",
    "###Place your code here\n",
    "\n",
    "###Answer\n",
    "# beginning = 0\n",
    "# ends = []\n",
    "# for line in enumerate(complete_works):\n",
    "#     if 'THE TRAGEDY OF OTHELLO' in line[1]:\n",
    "#         beginning = line[0]\n",
    "#     if 'THE END' in line[1]:\n",
    "#         ends.append(line[0])\n",
    "# for end in ends:\n",
    "#     if end > beginning:\n",
    "#         break\n",
    "# print(beginning)\n",
    "# print(end)\n",
    "# print(ends)\n",
    "# othello_lines = complete_works[beginning:end+1]\n",
    "\n",
    "\n",
    "othello = False\n",
    "for line in complete_works:\n",
    "    if 'THE TRAGEDY OF OTHELLO' in line:\n",
    "        othello = True\n",
    "    if othello == True:\n",
    "        othello_lines.append(line)\n",
    "        if 'THE END' in line:\n",
    "            othello = False"
   ]
  },
  {
   "cell_type": "markdown",
   "metadata": {},
   "source": [
    "Before moving on, **always** make sure you really have what you _think_ you have. "
   ]
  },
  {
   "cell_type": "code",
   "execution_count": 30,
   "metadata": {
    "collapsed": false
   },
   "outputs": [
    {
     "name": "stdout",
     "output_type": "stream",
     "text": [
      "['THE TRAGEDY OF OTHELLO, MOOR OF VENICE\\n', '\\n', 'by William Shakespeare\\n', '\\n', '\\n', '\\n', 'Dramatis Personae\\n', '\\n', '  OTHELLO, the Moor, general of the Venetian forces\\n', '  DESDEMONA, his wife\\n', '  IAGO, ensign to Othello\\n', '  EMILIA, his wife, lady-in-waiting to Desdemona\\n', '  CASSIO, lieutenant to Othello\\n', '  THE DUKE OF VENICE\\n', '  BRABANTIO, Venetian Senator, father of Desdemona\\n', '  GRATIANO, nobleman of Venice, brother of Brabantio\\n', '  LODOVICO, nobleman of Venice, kinsman of Brabantio\\n', '  RODERIGO, rejected suitor of Desdemona\\n', '  BIANCA, mistress of Cassio\\n', '  MONTANO, a Cypriot official\\n']\n",
      "**************\n",
      "[\"  GRATIANO.                  All that's spoke is marr'd.\\n\", \"  OTHELLO. I kiss'd thee ere I kill'd thee. No way but this,\\n\", '    Killing myself, to die upon a kiss.\\n', '                                          Falls on the bed, and dies.\\n', '  CASSIO. This did I fear, but thought he had no weapon;\\n', '    For he was great of heart.\\n', '  LODOVICO.         [To Iago.] O Spartan dog,\\n', '    More fell than anguish, hunger, or the sea!\\n', '    Look on the tragic loading of this bed;\\n', '    This is thy work. The object poisons sight;\\n', '    Let it be hid. Gratiano, keep the house,\\n', '    And seize upon the fortunes of the Moor,\\n', '    For they succeed on you. To you, Lord Governor,\\n', '    Remains the censure of this hellish villain,\\n', '    The time, the place, the torture. O, enforce it!\\n', '    Myself will straight aboard, and to the state\\n', '    This heavy act with heavy heart relate.                   Exeunt.\\n', '\\n', '\\n', 'THE END\\n']\n"
     ]
    }
   ],
   "source": [
    "print(othello_lines[0:20])\n",
    "print('**************')\n",
    "print(othello_lines[-20:])"
   ]
  },
  {
   "cell_type": "markdown",
   "metadata": {},
   "source": [
    "#Dialogue\n",
    "We should all have a line-by-line reading of Othello. Now what? Your choice here is going to depend on what you want to analyze! I'm particularly interested in how many total and _unique_ words Othello speaks. With that information, I could apply similar analyses to see which character speaks the most and who has the biggest vocabulary. \n",
    "\n",
    "Since we only care about Othello, it may not be worth our time to extract the character list. We'll have to do that if we want to compare vocabulary between characters, but for now let's just worry about Othello. The fact that Othello is capitalized when he speaks makes things nice and easy for us (aside: his name _probably_ isn't capialized when he is referred to in dialogue from other characters. Can we be sure? No. As a rough approximation? Sure).\n",
    "\n",
    "```\n",
    "\"  CHARACTER. blahblahblah\n",
    "     blahblahblah\"\n",
    "```\n",
    "\n",
    "Two things jump out at me. How about you?\n",
    "\n",
    "1. Before a character speaks there are always (usually?) *2* spaces, followed by the character in all capital letters, followed by a period. \n",
    "2. It also looks like some speeches are longer than a single line, but those speeches have 4 spaces(!). We'll make note of that for later."
   ]
  },
  {
   "cell_type": "code",
   "execution_count": 31,
   "metadata": {
    "collapsed": false,
    "scrolled": true
   },
   "outputs": [
    {
     "name": "stdout",
     "output_type": "stream",
     "text": [
      "  LODOVICO. Where is this rash and most unfortunate man?\n",
      "  OTHELLO. That's he that was Othello. Here I am.\n",
      "  LODOVICO. Where is that viper? Bring the villain forth.\n",
      "  OTHELLO. I look down towards his feet; but that's a fable.\n",
      "    If that thou be'st a devil, I cannot kill thee.      Wounds Iago.\n",
      "  LODOVICO. Wrench his sword from him.\n",
      "  IAGO.                                I bleed, sir, but not kill'd.\n",
      "  OTHELLO. I am not sorry neither. I'ld have thee live,\n",
      "    For, in my sense, 'tis happiness to die.\n",
      "  LODOVICO. O thou Othello, that wert once so good,\n",
      "    Fall'n in the practice of a damned slave,\n",
      "    What shall be said to thee?\n",
      "  OTHELLO.                      Why, anything;\n",
      "    An honorable murtherer, if you will,\n",
      "    For nought did I in hate, but all in honor.\n",
      "  LODOVICO. This wretch hath part confess'd his villainy.\n",
      "    Did you and he consent in Cassio's death?\n"
     ]
    }
   ],
   "source": [
    "sample_text = othello_lines[3792:3809]\n",
    "for line in sample_text:\n",
    "    print(line.rstrip())"
   ]
  },
  {
   "cell_type": "markdown",
   "metadata": {},
   "source": [
    "**Exercise:** Given the sample_text above, make a list of all words spoken by Othello"
   ]
  },
  {
   "cell_type": "code",
   "execution_count": 32,
   "metadata": {
    "collapsed": false
   },
   "outputs": [],
   "source": [
    "othellos_dialogue = []\n",
    "\n",
    "###Place your code here\n",
    "\n",
    "\n",
    "###Answer\n",
    "othello_speaking = False\n",
    "for line in sample_text:\n",
    "    if 'OTHELLO.' in line:\n",
    "        othello_speaking = True\n",
    "        listy = line.strip().split(' ')\n",
    "        for word in listy:\n",
    "            if len(word) > 0:\n",
    "                othellos_dialogue.append(word)\n",
    "    elif othello_speaking == True:\n",
    "        if line[:4] == '    ': #Four spaces!\n",
    "            listy = line.strip().split(' ')\n",
    "            for word in listy:\n",
    "                if len(word) > 0:\n",
    "                    othellos_dialogue.append(word)\n",
    "        else:\n",
    "            othello_speaking = False\n",
    "    else:\n",
    "        pass"
   ]
  },
  {
   "cell_type": "code",
   "execution_count": null,
   "metadata": {
    "collapsed": false
   },
   "outputs": [],
   "source": [
    "print(othellos_dialogue)"
   ]
  },
  {
   "cell_type": "markdown",
   "metadata": {},
   "source": [
    "The code that we wrote above should (might?) be generalizable. Who knows. We'll have to check slowly."
   ]
  },
  {
   "cell_type": "code",
   "execution_count": 33,
   "metadata": {
    "collapsed": false,
    "scrolled": false
   },
   "outputs": [
    {
     "name": "stdout",
     "output_type": "stream",
     "text": [
      "  OTHELLO. 'Tis better as it is.\n",
      "\n",
      "  OTHELLO.               Let him do his spite.\n",
      "\n",
      "  OTHELLO.               Not I; I must be found.\n",
      "\n",
      "  OTHELLO. The servants of the Duke? And my lieutenant?\n",
      "\n",
      "  OTHELLO.               What is the matter, think you?\n",
      "\n",
      "  OTHELLO.             'Tis well I am found by you.\n",
      "\n",
      "  OTHELLO.                                     Have with you.\n",
      "\n",
      "  OTHELLO.                  Holla! Stand there!\n",
      "\n",
      "  OTHELLO. Keep up your bright swords, for the dew will rust them.\n",
      "\n",
      "  OTHELLO.                   Hold your hands,\n",
      "\n",
      "  OTHELLO.               What if I do obey?\n",
      "\n",
      "  OTHELLO. Most potent, grave, and reverend signiors,\n",
      "\n",
      "##########\n",
      "  OTHELLO. I look down towards his feet; but that's a fable.\n",
      "\n",
      "  OTHELLO. I am not sorry neither. I'ld have thee live,\n",
      "\n",
      "  OTHELLO.                      Why, anything;\n",
      "\n",
      "  OTHELLO. Ay.\n",
      "\n",
      "  OTHELLO. I do believe it, and I ask your pardon.\n",
      "\n",
      "  OTHELLO. Well, thou dost best.\n",
      "\n",
      "  OTHELLO. O villain!\n",
      "\n",
      "  OTHELLO.                     O the pernicious caitiff!\n",
      "\n",
      "  OTHELLO.                       O fool! fool! fool!\n",
      "\n",
      "  OTHELLO. Soft you; a word or two before you go.\n",
      "\n",
      "  OTHELLO. I kiss'd thee ere I kill'd thee. No way but this,\n",
      "\n"
     ]
    }
   ],
   "source": [
    "for line in othello_lines[:500]: #No reason to work with the full text while we're still learning\n",
    "    if 'OTHELLO.' in line:\n",
    "        print(line)\n",
    "        \n",
    "print('##########')\n",
    "\n",
    "for line in othello_lines[-100:]: #No reason to work with the full text while we're still learning\n",
    "    if 'OTHELLO.' in line:\n",
    "        print(line)"
   ]
  },
  {
   "cell_type": "markdown",
   "metadata": {},
   "source": [
    "Looks good to me. Of course, this is only finding the first line that Othello speaks, not any of his other lines. \n",
    "\n",
    "Let's go ahead and run our code on Othello to see how complex his vocabulary is!"
   ]
  },
  {
   "cell_type": "code",
   "execution_count": 34,
   "metadata": {
    "collapsed": false
   },
   "outputs": [
    {
     "name": "stdout",
     "output_type": "stream",
     "text": [
      "Counter({'othello': 279, 'and': 203, 'i': 193, 'the': 191, 'to': 135, 'of': 131, 'my': 125, 'that': 100, 'a': 94, 'it': 90, 'me': 84, 'her': 73, 'you': 72, 'not': 71, 'in': 65, 'is': 58, 'o': 55, 'thou': 55, 'this': 53, 'with': 52, 'she': 50, 'but': 48, 'for': 45, 'have': 44, 'be': 42, 'thy': 42, 'what': 41, 'iago': 38, 'he': 37, 'do': 37, 'as': 36, 'your': 36, 'thee': 30, 'so': 29, 'will': 29, 'if': 26, 'heaven': 26, 'all': 25, 'come': 25, 'now': 24, 'love': 24, 'by': 24, \"'tis\": 23, 'on': 23, 'his': 23, 'more': 23, 'shall': 22, 'let': 22, 'had': 22, 'did': 21, 'yet': 21, 'would': 20, 'was': 20, 'dost': 20, 'good': 20, 'no': 19, 'are': 18, 'or': 18, 'from': 18, 'well': 17, 'am': 17, 'desdemona': 17, 'him': 17, 'handkerchief': 17, 'cassio': 16, 'at': 16, 'say': 16, 'when': 16, 'how': 16, 'honest': 16, 'think': 15, 'here': 15, 'upon': 15, 'should': 15, 'speak': 15, 'make': 14, 'look': 14, 'there': 13, 'they': 13, 'wife': 13, 'some': 13, 'hath': 13, 'ay': 13, 'one': 13, 'than': 12, 'most': 12, 'such': 12, 'know': 12, 'soul': 12, \"i'll\": 12, 'go': 12, 'very': 11, 'which': 11, 'art': 11, 'were': 11, 'away': 11, 'why': 11, 'out': 11, 'give': 11, 'then': 11, 'too': 10, 'must': 10, 'like': 10, 'sweet': 10, 'heart': 10, 'sir': 10, 'where': 9, \"that's\": 9, 'these': 9, 'nor': 9, 'an': 9, 'farewell': 9, 'hand': 9, 'devil': 9, 'mine': 9, 'much': 8, 'dead': 8, 'even': 8, 'we': 8, 'again': 8, 'once': 8, 'exit': 8, \"'twas\": 8, 'up': 8, 'nothing': 8, 'whose': 8, 'life': 8, 'gave': 8, 'nay': 8, 'them': 8, 'see': 8, 'can': 7, 'best': 7, 'therefore': 7, 'world': 7, 'little': 7, 'night': 7, 'bed': 7, 'light': 7, 'thus': 7, 'found': 7, 'done': 7, 'their': 7, 'blood': 7, 'great': 7, 'fair': 7, 'put': 6, \"she's\": 6, 'been': 6, 'gone': 6, 'true': 6, 'comes': 6, 'woman': 6, 'cannot': 6, 'fear': 6, 'confess': 6, 'doubt': 6, 'loved': 6, 'made': 6, 'hell': 6, 'being': 6, 'down': 6, 'ha': 6, 'turn': 6, 'who': 6, 'husband': 6, 'never': 5, 'before': 5, 'honesty': 5, \"kill'd\": 5, 'after': 5, 'lie': 5, 'indeed': 5, 'way': 5, 'still': 5, 'whore': 5, 'strumpet': 5, 'prove': 5, 'hearts': 5, 'tears': 5, \"is't\": 5, 'could': 5, 'mean': 5, 'thoughts': 5, 'emilia': 5, 'first': 5, 'death': 5, 'matter': 5, 'else': 5, \"ne'er\": 5, 'tonight': 5, 'man': 5, 'men': 5, 'pray': 5, 'committed': 5, 'exeunt': 5, 'set': 5, 'thought': 5, 'against': 5, 'may': 5, 'die': 5, 'place': 4, 'grace': 4, 'heard': 4, 'live': 4, 'head': 4, 'soft': 4, 'earth': 4, 'thousand': 4, 'foul': 4, 'hear': 4, 'falls': 4, 'lady': 4, 'course': 4, 'word': 4, 'weep': 4, 'eyes': 4, 'hold': 4, 'fate': 4, 'sure': 4, 'till': 4, 'keep': 4, 'take': 4, 'revenge': 4, 'yes': 4, 'words': 4, 'just': 4, 'better': 4, 'myself': 4, 'sense': 4, 'content': 4, 'story': 4, 'leave': 4, 'free': 4, 'name': 4, 'kisses': 4, 'sword': 4, 'father': 4, 'kill': 4, 'said': 4, 'seen': 4, 'business': 4, 'patience': 4, 'grave': 4, 'state': 4, 'own': 4, 'deeds': 4, \"i'ld\": 4, 'cause': 4, 'draw': 4, 'bear': 4, 'passion': 4, 'though': 4, 'moon': 4, 'dear': 4, 'knows': 4, 'honor': 4, 'prithee': 4, 'hands': 4, 'mind': 4, 'false': 4, 'lips': 3, 'monstrous': 3, 'strange': 3, 'lost': 3, 'each': 3, 'face': 3, 'us': 3, \"man's\": 3, 'ask': 3, 'swear': 3, 'hadst': 3, 'send': 3, 'saw': 3, 'together': 3, 'those': 3, 'damn': 3, \"o'er\": 3, 'cyprus': 3, 'years': 3, 'drop': 3, 'dog': 3, 'masters': 3, 'stops': 3, 'walk': 3, 'wars': 3, 'doth': 3, 'house': 3, 'blow': 3, 'body': 3, 'peace': 3, \"know't\": 3, 'due': 3, 'amen': 3, \"cassio's\": 3, 'heed': 3, 'told': 3, 'into': 3, 'old': 3, 'pity': 3, 'black': 3, 'our': 3, 'proof': 3, 'war': 3, 'used': 3, 'thine': 3, 'about': 3, 'forgot': 3, 'fool': 3, 'base': 3, 'michael': 3, \"she'll\": 3, 'took': 3, 'deny': 3, 'spend': 3, 'nature': 3, 'thence': 3, 'montano': 3, 'fire': 3, 'lives': 3, 'get': 3, 'friend': 3, 'present': 3, 'villain': 3, 'another': 3, 'times': 3, 'young': 3, 'virtue': 3, 'obedient': 3, 'tell': 3, 'breath': 3, 'pitiful': 3, 'speech': 3, 'kiss': 3, 'time': 3, 'mistress': 3, 'hour': 3, 'answer': 3, 'obey': 3, 'bring': 3, 'certain': 3, 'fetch': 3, 'winds': 2, 'only': 2, 'friends': 2, 'bloody': 2, 'royal': 2, 'year': 2, 'without': 2, 'please': 2, 'hollow': 2, 'vain': 2, 'withal': 2, 'herself': 2, 'off': 2, \"confess'd\": 2, 'forth': 2, 'monster': 2, 'neither': 2, 'stop': 2, 'stabs': 2, 'believe': 2, 'yond': 2, 'shut': 2, 'isle': 2, 'mother': 2, 'hang': 2, 'door': 2, 'officer': 2, \"ta'en\": 2, 'town': 2, 'fresh': 2, 'noble': 2, 'hurts': 2, 'new': 2, 'begins': 2, 'does': 2, 'jealous': 2, 'oft': 2, 'makest': 2, 'hast': 2, 'approved': 2, 'gentle': 2, 'delicate': 2, 'straight': 2, 'almost': 2, 'cunning': 2, \"stol'n\": 2, 'guard': 2, 'youth': 2, \"o'\": 2, 'trumpet': 2, 'nine': 2, 'condition': 2, 'plague': 2, 'daughter': 2, 'means': 2, 'hanged': 2, 'pardon': 2, 'lest': 2, 'perdition': 2, 'keeps': 2, 'two': 2, 'faith': 2, 'liberal': 2, 'ancient': 2, \"there's\": 2, 'hate': 2, 'within': 2, 'hither': 2, 'balmy': 2, 'satisfied': 2, 'anything': 2, 'charms': 2, 'instant': 2, 'perfect': 2, 'noise': 2, 'spirit': 2, 'mad': 2, 'bid': 2, 'utmost': 2, 'avaunt': 2, \"think'st\": 2, 'wise': 2, 'slave': 2, 'dispatch': 2, 'bounteous': 2, 'didst': 2, 'meet': 2, 'command': 2, \"to't\": 2, 'wont': 2, 'lies': 2, 'back': 2, 'ottomites': 2, 'citadel': 2, 'strikes': 2, \"wish'd\": 2, 'rule': 2, 'triumph': 2, \"see't\": 2, 'ourselves': 2, 'cursed': 2, 'cry': 2, 'moving': 2, 'sorry': 2, 'sold': 2, 'spake': 2, 'married': 2, 'nose': 2, 'current': 2, 'wind': 2, 'born': 2, 'possible': 2, 'yours': 2, 'heavenly': 2, 'letters': 2, 'cold': 2, 'forever': 2, 'heat': 2, 'stirs': 2, 'cruel': 2, \"pass'd\": 2, 'beneath': 2, 'jealousy': 2, 'worst': 2, 'last': 2, 'fortune': 2, 'trust': 2, 'silence': 2, 'horrible': 2, 'roderigo': 2, 'news': 2, 'teach': 2, 'truly': 2, 'mystery': 2, 'custom': 2, 'naked': 2, 'bade': 2, 'alone': 2, 'precious': 2, 'rude': 2, 'desdemon': 2, 'hardness': 2, 'needs': 2, 'both': 2, 'laughs': 2, 'wherein': 2, 'venice': 2, 'shame': 2, 'hence': 2, 'ears': 2, 'through': 2, 'weak': 2, 'parts': 2, 'itself': 2, 'dies': 2, 'turks': 2, 'every': 2, 'abused': 2, 'began': 2, 'sun': 2, 'creature': 2, 'ebb': 2, 'proceed': 2, 'arm': 2, 'lieutenant': 2, \"othello's\": 2, 'home': 2, 'quicken': 2, 'call': 2, 'gift': 2, 'moist': 2, 'murther': 2, \"what's\": 2, 'known': 2, 'charge': 2, 'find': 2, 'stone': 2, 'justice': 2, 'hint': 2, 'other': 2, 'hills': 2, \"turn'd\": 2, 'sight': 2, 'lead': 2, 'whole': 2, 'hot': 2, 'honorable': 2, 'pain': 2, 'happy': 2, 'waked': 2, \"robb'd\": 2, 'excellent': 2, 'prayer': 2, 'office': 2, 'weapon': 2, 'chamber': 2, \"stopp'd\": 2, 'grim': 2, 'enough': 2, 'attendants': 2, 'went': 2, 'brawl': 2, 'joy': 2, 'disloyal': 2, 'uncle': 2, 'days': 2, 'damnation': 2, 'works': 2, 'act': 2, 'something': 2, 'next': 2, 'runs': 2, 'magic': 2, 'poison': 2, 'heads': 2, 'devils': 2, 'ear': 2, 'duke': 2, 'aught': 2, 'chuck': 2, 'jot': 2, 'side': 2, 'field': 2, 'worth': 2, 'beseech': 2, 'eye': 2, 'pomp': 1, 'signiors': 1, 'boding': 1, 'laboring': 1, 'toads': 1, 'greedy': 1, 'demerits': 1, 'veritable': 1, 'crown': 1, 'feeds': 1, 'tremble': 1, 'flaming': 1, 'title': 1, 'malice': 1, 'witness': 1, 'affairs': 1, 'unmoving': 1, 'unfolds': 1, \"hush'd\": 1, 'ere': 1, 'given': 1, 'beauty': 1, 'sail': 1, 'memory': 1, 'kinds': 1, 'letter': 1, 'commanded': 1, \"waken'd\": 1, 'justly': 1, \"journey's\": 1, 'dearest': 1, 'conjuration': 1, 'chrysolite': 1, 'levels': 1, 'blown': 1, 'whom': 1, 'circumstance': 1, 'reads': 1, 'lovely': 1, 'inclining': 1, 'towards': 1, 'akilling': 1, \"garner'd\": 1, 'day': 1, 'pliant': 1, 'themselves': 1, 'stand': 1, 'noted': 1, 'dote': 1, 'monumental': 1, \"sew'd\": 1, 'gulfs': 1, 'ever': 1, \"he's\": 1, 'horrors': 1, 'traduced': 1, 'prompt': 1, 'fine': 1, \"friend's\": 1, \"soldier's\": 1, \"murther's\": 1, 'lights': 1, 'savageness': 1, 'stroke': 1, 'couch': 1, 'curse': 1, 'swift': 1, 'lift': 1, 'easily': 1, 'lose': 1, 'snow': 1, 'walking': 1, \"drown'd\": 1, 'rose': 1, 'quality': 1, 'promulgate': 1, 'wasted': 1, 'perjury': 1, 'unshunnable': 1, 'understand': 1, 'parcels': 1, 'left': 1, 'signior': 1, 'battles': 1, 'direction': 1, 'bosom': 1, 'earnest': 1, 'often': 1, 'mortal': 1, \"dian's\": 1, \"perplex'd\": 1, 'sooner': 1, 'flood': 1, 'book': 1, 'gum': 1, 'ye': 1, 'troop': 1, 'order': 1, 'wrath': 1, 'former': 1, 'action': 1, 'advantage': 1, 'spirits': 1, 'show': 1, \"began't\": 1, 'fashion': 1, 'fated': 1, 'rout': 1, 'exhibition': 1, \"lust-stain'd\": 1, 'flinty': 1, 'demi-devil': 1, 'resolved': 1, 'reference': 1, 'contract': 1, 'least': 1, 'dangers': 1, 'besort': 1, 'burning': 1, 'outlive': 1, 'entirely': 1, 'frights': 1, 'charged': 1, \"pluck'd\": 1, 'corner': 1, 'purchase': 1, \"travels'\": 1, 'whipster': 1, 'break': 1, 'persuade': 1, 'aches': 1, \"desdemona's\": 1, 'fruits': 1, 'cough': 1, 'scar': 1, 'making': 1, 'dying': 1, 'rust': 1, 'services': 1, 'vow': 1, 'sing': 1, 'control': 1, 'ruminate': 1, 'hers': 1, 'relate': 1, 'grows': 1, 'gracious': 1, 'hellespont': 1, 'pilgrimage': 1, 'vile': 1, 'report': 1, 'disports': 1, 'seem': 1, 'anybody': 1, 'peter': 1, '\"hem,\"': 1, 'working': 1, 'circumscription': 1, 'fatal': 1, 'chaste': 1, 'skin': 1, \"jove's\": 1, \"sea's\": 1, 'appetite': 1, 'compt': 1, 'humble': 1, 'attend': 1, \"lust's\": 1, 'neighing': 1, 'forfend': 1, 'unlucky': 1, 'tale': 1, 'figure': 1, '[rises.]': 1, 'cheeks': 1, 'eclipse': 1, 'bawdy': 1, 'murtherer': 1, 'chose': 1, 'darling': 1, 'general': 1, 'gentlemen': 1, \"reach'd\": 1, 'thyself': 1, 'welcome': 1, 'rack': 1, 'captains': 1, 'mock': 1, 'rebuke': 1, 'shrewd': 1, \"turban'd\": 1, 'villainous': 1, 'breeding': 1, 'holds': 1, 'domestic': 1, '[reads.]': 1, '[a': 1, \"murther'd\": 1, 'breast': 1, 'arms': 1, 'alacrity': 1, 'fan': 1, 'stranger': 1, \"rose-lipp'd\": 1, 'dilations': 1, 'tempts': 1, 'taint': 1, 'complexion': 1, 'tree': 1, 'things': 1, 'beast': 1, 'christian': 1, 'concerning': 1, 'visage': 1, 'misgives': 1, 'weed': 1, 'impediments': 1, 'shown': 1, 'hum': 1, 'phrase': 1, \"woman's\": 1, 'confessions': 1, 'win': 1, 'palate': 1, 'pattern': 1, 'discourse': 1, 'seriously': 1, 'eternal': 1, \"soldiers'\": 1, 'prompter': 1, 'fury': 1, 'night-brawler': 1, 'goodness': 1, 'redemption': 1, 'violent': 1, 'read': 1, 'ariseth': 1, 'feet': 1, 'distressful': 1, \"others'\": 1, 'care': 1, 'moved': 1, \"for't\": 1, 'withdraw': 1, 'venetian': 1, 'castigation': 1, 'strive': 1, 'voice.]': 1, 'caitiff': 1, \"'tween\": 1, 'greater': 1, 'niece': 1, 'mummy': 1, 'comfort': 1, 'bright': 1, 'argues': 1, \"dismay'd\": 1, 'trance': 1, 'expostulate': 1, 'broil': 1, 'virtuously': 1, 'tempt': 1, 'either': 1, 'tune': 1, 'cue': 1, 'counsel': 1, 'devout': 1, 'any': 1, \"'twill\": 1, 'afraid': 1, 'temper': 1, 'fast': 1, 'high': 1, 'slow': 1, 'depth': 1, 'frank': 1, 'already': 1, 'uses': 1, 'vices': 1, 'recognizance': 1, 'indign': 1, 'capable': 1, 'feats': 1, 'outsport': 1, 'remove': 1, 'thrive': 1, 'voice': 1, \"discern'st\": 1, 'unblest': 1, 'tyrannous': 1, \"'scapes\": 1, 'fixed': 1, 'castle': 1, 'guides': 1, 'flies': 1, 'malignant': 1, 'public': 1, 'whisper': 1, 'noses': 1, 'steed': 1, 'compasses': 1, 'worldly': 1, 'methinks': 1, \"hallow'd\": 1, 'solicit': 1, 'incline': 1, 'observe': 1, 'whereof': 1, 'lust': 1, 'fasting': 1, 'between': 1, 'salt': 1, 'newly': 1, 'spite': 1, 'learned': 1, 'add': 1, 'unused': 1, 'observing': 1, 'conveyance': 1, 'anthropophagi': 1, \"i'\": 1, 'worthy': 1, 'agnize': 1, 'presently': 1, 'warrior': 1, 'speaking': 1, \"people's\": 1, 'appetites': 1, 'try': 1, 'repair': 1, 'grounds': 1, 'scarce': 1, 'blotted': 1, 'unprovide': 1, 'cannibals': 1, 'rich': 1, 'unhoused': 1, 'wonder': 1, 'wither': 1, 'coffers': 1, 'steep-down': 1, \"light-wing'd\": 1, 'drugs': 1, 'opposite': 1, 'faintly': 1, 'won': 1, 'ours': 1, 'retires': 1, \"be'st\": 1, 'invest': 1, 'compulsive': 1, 'loves': 1, 'sweating': 1, \"e'er\": 1, 'rot': 1, 'affliction': 1, \"kiss'd\": 1, 'devour': 1, 'snatch': 1, 'bawd': 1, 'gravity': 1, 'less': 1, 'might': 1, 'grant': 1, 'pioners': 1, 'inference': 1, 'reason': 1, 'quench': 1, 'fight': 1, 'knave': 1, \"they're\": 1, 'echoes': 1, 'finger': 1, 'behold': 1, 'hundred': 1, \"lady's\": 1, \"cunning'st\": 1, 'dream': 1, 'slavery': 1, 'tempest': 1, 'wherefore': 1, 'arise': 1, 'fruitfulness': 1, 'woe': 1, 'absolute': 1, \"thou'rt\": 1, 'dismiss': 1, 'chances': 1, 'cupid': 1, 'laugh': 1, 'government': 1, 'apart': 1, 'unauthorized': 1, 'cistern': 1, 'spirit-stirring': 1, 'dilate': 1, 'shadowing': 1, 'gets': 1, \"let's\": 1, \"'s\": 1, 'housewives': 1, \"give't\": 1, '[raises': 1, 'monkeys': 1, 'blame': 1, 'crave': 1, \"ill-starr'd\": 1, 'wisest': 1, 'hates': 1, 'intentively': 1, 'defunct': 1, 'birth': 1, '\"o': 1, 'distracted': 1, 'powers': 1, 'diest': 1, 'forehead': 1, 'medicinal': 1, 'harsh': 1, 'extenuate': 1, 'pieces': 1, 'growth': 1, 'tented': 1, 'foregone': 1, 'rebels': 1, 'front': 1, 'smell': 1, 'gate': 1, \"'zounds\": 1, 'boasting': 1, 'deathbed': 1, \"fetch't\": 1, 'admirable': 1, 'pale': 1, 'instruction': 1, 'filthy': 1, 'bay': 1, 'cords': 1, 'dances': 1, 'hours': 1, 'boast': 1, 'rest': 1, 'tranquil': 1, 'parted': 1, 'desired': 1, 'forges': 1, 'serious': 1, \"soul's\": 1, 'belie': 1, 'seas': 1, 'close': 1, 'remorse': 1, 'affrighted': 1, \"smell'st\": 1, \"feather'd\": 1, 'repent': 1, 'same': 1, 'amiable': 1, 'antres': 1, 'brimstone': 1, 'glad': 1, 'conclusion': 1, 'subdue': 1, 'deliver': 1, 'battle': 1, 'knives': 1, 'sacrifice': 1, 'bound': 1, 'smote': 1, 'goat': 1, 'fable': 1, 'earliest': 1, 'haggard': 1, 'discarded': 1, 'wide': 1, 'sweeter': 1, 'smock': 1, 'vouch': 1, 'gratify': 1, 'natural': 1, 'hearted': 1, 'propontic': 1, 'climb': 1, 'civil': 1, 'erring': 1, 'bell': 1, 'meets': 1, 'marriage': 1, 'motion': 1, 'lewd': 1, 'egyptian': 1, 'sweeting': 1, 'fit': 1, 'passing': 1, 'throne': 1, 'chaos': 1, 'impudent': 1, 'linger': 1, 'sticks': 1, 'globe': 1, 'amongst': 1, 'sink': 1, 'unknown': 1, 'abandon': 1, 'sieges': 1, 'prey': 1, 'needful': 1, 'paper': 1, 'pace': 1, 'conspire': 1, 'plenteous': 1, 'perceive': 1, 'creatures': 1, 'challenge': 1, \"hell's\": 1, 'heraldry': 1, 'roman': 1, 'wondrous': 1, 'heartstrings': 1, 'fortunes': 1, 'forty': 1, 'idle': 1, 'dullness': 1, 'demand': 1, 'ran': 1, 'mouths': 1, 'puny': 1, 'rather': 1, 'satisfaction': 1, 'vale': 1, \"question'd\": 1, 'matching': 1, 'unlocks': 1, 'collied': 1, \"sorrow's\": 1, 'sacred': 1, 'beat': 1, 'marble': 1, 'fife': 1, 'offense': 1, 'merits': 1, 'haply': 1, \"father's\": 1, 'wit': 1, 'smooth': 1, 'witchcraft': 1, \"horror's\": 1, 'stones': 1, 'duties': 1, 'vengeance': 1, 'choke': 1, 'vast': 1, 'kneel': 1, 'goats': 1, 'pleased': 1, 'rocks': 1, 'besides': 1, 'ensnared': 1, 'wounds': 1, 'smallest': 1, 'slept': 1, 'poor': 1, 'hypocrisy': 1, 'signiory': 1, 'iteration': 1, \"profit's\": 1, \"weep'st\": 1, 'corrupt': 1, 'messes': 1, 'messengers': 1, 'tells': 1, 'three': 1, \"lose't\": 1, 'potent': 1, 'opens': 1, 'amazed': 1, 'mask': 1, 'plucked': 1, 'calms': 1, 'winks': 1, 'quite': 1, 'sees': 1, 'tyrant': 1, \"fellow's\": 1, 'curtains': 1, 'pride': 1, 'possession': 1, 'hunt': 1, 'knew': 1, 'pertains': 1, 'tongues': 1, 'nought': 1, 'plumed': 1, \"years'\": 1, 'trees': 1, 'servants': 1, 'consent': 1, 'barbarous': 1, 'estimation': 1, 'pernicious': 1, 'extreme': 1, 'amorous': 1, 'suspicions': 1, 'moons': 1, 'comply': 1, 'clamors': 1, 'low': 1, 'mouth': 1, 'company': 1, 'deserts': 1, '\"whore\"': 1, 'catch': 1, 'stomach': 1, 'conserved': 1, 'discretion': 1, 'quarries': 1, \"saw't\": 1, 'taken': 1, 'offending': 1, 'insolent': 1, \"unvarnish'd\": 1, 'yourself': 1, 'tasks': 1, 'emilia.]': 1, 'safety': 1, 'seven': 1, 'disarms': 1, 'top': 1, \"twinn'd\": 1, 'commoner': 1, \"all's\": 1, 'accumulate': 1, 'napkin': 1, 'alabaster': 1, 'mercy': 1, 'sea': 1, 'while': 1, 'pith': 1, 'happiness': 1, 'hair-breadth': 1, 'swore': 1, 'extent': 1, 'sea-mark': 1, 'sulphur': 1, 'slander': 1, '[to': 1, 'stare': 1, 'loathed': 1, 'rheum': 1, 'discords': 1, 'souls': 1, 'doubtless': 1, 'girl': 1, 'history': 1, 'tasted': 1, 'threw': 1, 'gives': 1, 'fault': 1, 'canst': 1, 'engines': 1, 'charmer': 1, 'perish': 1, 'wooing': 1, 'eat': 1, \"here's\": 1, 'defend': 1, 'article': 1, 'spain': 1, 'changes': 1, 'ones': 1, 'ambition': 1, 'dreadful': 1, 'alive': 1, 'exchange': 1, 'scorn': 1, 'mood': 1, \"were't\": 1, 'swell': 1, 'saint': 1, 'olympus-high': 1, 'glorious': 1, 'comforts': 1, 'wild': 1, 'opinion': 1, 'since': 1, 'met': 1, \"she'ld\": 1, 'sent': 1, 'thrice-driven': 1, 'antique': 1, 'ear-piercing': 1, 'thinkings': 1, 'siege': 1, 'gladly': 1, 'seel': 1, 'within.]': 1, 'greatest': 1, 'attended': 1, 'late': 1, 'perjured': 1, 'beckons': 1, 'unbonneted': 1, 'alas': 1, 'suffocating': 1, 'relief': 1, 'assault': 1, 'hideous': 1, 'throats': 1, 'toys': 1, 'boyish': 1, 'manage': 1, 'carve': 1, \"maiden's\": 1, 'grieving': 1, 'lock': 1, 'fiends': 1, 'feels': 1, 'reputation': 1, 'write': 1, 'disposition': 1, \"said'st\": 1, 'breed': 1, 'sustain': 1, 'proceeding': 1, \"harm'd\": 1, 'shakes': 1, 'grow': 1, 'prerogatived': 1, \"thank'd\": 1, 'disembark': 1, 'safer': 1, 'albeit': 1, 'sins': 1, 'propriety': 1, 'alteration': 1, 'endure': 1, 'restore': 1, 'extremity': 1, 'bethink': 1, 'wisely': 1, 'drum': 1, 'web': 1, 'wash': 1, '\"indeed!\"': 1, 'breach': 1, 'aleppo': 1, 'horned': 1, 'shames': 1, 'steel': 1, 'came': 1, 'gender': 1, 'token': 1, 'merciful': 1, \"weigh'st\": 1, 'whence': 1, 'wrong': 1, 'rightly': 1, 'holla': 1, 'toad': 1, 'dew': 1, 'folly': 1, '[advancing.]': 1, \"rain'd\": 1, \"who's\": 1, 'immortal': 1, 'pilot': 1, 'melting': 1, 'intend': 1, 'shows': 1, 'whistle': 1, 'circumcised': 1, 'speculative': 1, \"'twere\": 1, \"wife's\": 1, 'kneels': 1, 'kept': 1, 'knot': 1, 'streams': 1, 'hairs': 1, 'seize': 1, 'simple': 1, 'ho': 1, 'closet': 1, 'tribe': 1, 'crocodile': 1, 'follow': 1, 'unprepared': 1, 'prattle': 1, 'fright': 1, 'private': 1, 'dyed': 1, 'fancies': 1, 'scored': 1, 'wive': 1, 'yawn': 1, 'pleases': 1, 'summer': 1, 'huge': 1, 'anon': 1, 'secrets': 1, 'subtle': 1, \"look'st\": 1, 'haste': 1, 'richer': 1, 'teachest': 1, '(dost': 1, 'promethean': 1, 'proper': 1, 'blest': 1, 'censure': 1, 'having': 1, 'icy': 1, 'instruments': 1, \"double-damn'd\": 1, 'quarrel': 1, 'manifest': 1, 'human': 1, 'exsufflicate': 1, 'poverty': 1, 'worms': 1, 'jesses': 1, 'damned': 1, 'indian': 1, 'mince': 1, 'brow': 1, 'commonly': 1, 'invention': 1, 'procreants': 1, 'freely': 1, 'touch': 1, 'sentence': 1, \"do't\": 1, 'fail': 1, 'modesty': 1, 'gavest': 1, 'prophetic': 1, 'forbid': 1, 'sin': 1, 'denoted': 1, 'minister': 1, 'bark': 1, 'function': 1, 'groan': 1, 'invited': 1, 'shrill': 1, 'forked': 1, 'imminent': 1, 'hies': 1, 'sores': 1, 'weapons': 1, 'dungeon': 1, 'pains': 1, 'slumbers': 1, 'shed': 1, 'engage': 1, 'strong': 1, 'heavy': 1, 'wretch': 1, 'deadly': 1, 'fortification': 1, 'stars': 1, 'importunes': 1, 'woo': 1, 'labor': 1, 'silk': 1, 'assign': 1, 'instrument': 1, 'spotted': 1, 'pledge': 1, 'sighs': 1, 'denies': 1, 'raven': 1, 'will-\"': 1, 'imports': 1, \"emperor's\": 1, 'loop': 1, 'furnish': 1, 'fulsome': 1, 'entreat': 1, 'subdued': 1, 'thigh': 1, 'sup': 1, 'blowing': 1, 'stifles': 1, 'disastrous': 1, 'swallow': 1, 'musician': 1, 'strife': 1, 'reverend': 1, 'greet': 1, 'hear?)': 1, 'brave': 1, 'revolt': 1, 'water': 1, 'skillet': 1, 'himself': 1, 'assays': 1, 'probation': 1, \"on't\": 1, 'thanks': 1, \"wrong'd\": 1, 'respect': 1, 'excelling': 1, 'torture': 1, 'arabian': 1, \"ice-brook's\": 1, 'burn': 1, 'scant': 1, 'banner': 1, 'minx': 1, 'roast': 1, 'surmises': 1, 'exceeding': 1, 'offends': 1, 'process': 1, 'fraught': 1, 'throat': 1, 'makes': 1, \"aspics'\": 1, 'acceptance': 1, 'destiny': 1, 'honey': 1, 'turned': 1, 'sibyl': 1, 'well-painted': 1, 'bare': 1, 'cuckold': 1, 'tricks': 1, 'big': 1, 'merry': 1, 'chop': 1, 'fountain': 1, 'voices': 1, 'criedst': 1, 'chamberers': 1, 'turk': 1, 'tear': 1, 'stay': 1, 'yield': 1, 'liar': 1, 'chastity': 1, 'pleasures': 1, 'marry': 1, 'dread': 1, 'begrimed': 1, 'surgeon': 1, 'unreconciled': 1, 'goodly': 1, 'sings': 1, 'strike': 1, \"pray'd\": 1, 'whiter': 1, 'acquaintance': 1, 'wish': 1, 'virtuous': 1, 'brief': 1, 'rush': 1, 'point': 1, 'moment': 1, 'sequester': 1, 'whip': 1, 'stir': 1, 'vapor': 1, 'conceit': 1, 'minion': 1, 'rough': 1, 'butt': 1, 'return': 1, 'worthiness': 1, 'match': 1, 'wench': 1, 'thunder': 1, 'relume': 1, 'wakes': 1, 'shouldst': 1, 'portance': 1, 'wrought': 1, 'accommodation': 1, 'trump': 1, 'hurl': 1, 'wanton': 1, 'lend': 1, 'lord': 1, 'affects': 1, 'skillful': 1, 'error': 1, 'liquid': 1, \"damn'd\": 1, 'counterfeit': 1, 'round': 1, 'captivity': 1, 'dries': 1, 'killing': 1, 'wanting': 1, 'conversation': 1, 'reverence': 1, 'teem': 1, 'vital': 1, 'fond': 1, 'out-tongue': 1, 'says': 1, 'exercise': 1, 'fall': 1, 'needle': 1, 'matters': 1, 'full': 1, 'proud': 1, 'twenty': 1, 'insupportable': 1, 'foe': 1, 'helm': 1, 'ocular': 1, 'rage': 1, 'conduct': 1, 'hinge': 1, 'cinders': 1, 'duck': 1, \"weapon'd\": 1, 'complaints': 1, 'camp': 1, 'beg': 1, 'qualities': 1, 'pearl': 1, 'forthwith': 1, 'serve': 1, 'brimful': 1, 'cassio!\"': 1, 'service': 1, 'entire': 1, 'oath': 1, 'pause': 1, 'shambles': 1, 'givest': 1, 'attendant': 1, 'conception': 1, \"suffer'd\": 1, 'protectress': 1, \"occupation's\": 1, 'thing': 1, 'undertake': 1, 'therewith': 1, 'accidents': 1, 'sagittary': 1, '[aside.]': 1, 'misery': 1, 'officed': 1, 'work': 1, 'retiring': 1, 'court': 1, 'crime': 1, 'plays': 1, 'senate': 1, 'confine': 1, 'purse': 1, 'crying': 1, 'tomorrow': 1, 'infected': 1, 'stillness': 1, 'nearer': 1, 'people': 1, 'declined': 1, 'key': 1, 'living': 1, 'unlace': 1, 'adversities': 1, 'cherubin': 1, 'loathe': 1, 'dissemble': 1, 'hopes': 1, 'pontic': 1, 'end': 1, 'judgement': 1, \"steep'd\": 1, \"like'st\": 1, 'pish': 1, 'mighty': 1, 'dealings': 1, \"'twould\": 1, 'humbly': 1, 'gesture': 1, 'swords': 1, 'dine': 1, 'mandate': 1, 'harm': 1, 'throw': 1, 'succeeds': 1, 'master': 1, 'senators': 1, 'drops': 1, 'liberty': 1, 'puts': 1, '\"this': 1, 'ensue': 1, 'promise': 1, 'whereon': 1, 'beguile': 1, 'gloves': 1, 'returned': 1, 'shoulders': 1, 'bending': 1, \"number'd\": 1, 'brain': 1, 'slime': 1, 'requires': 1, 'betray': 1, 'valiant': 1})\n"
     ]
    }
   ],
   "source": [
    "othellos_dialogue = []\n",
    "###Place your code here\n",
    "\n",
    "\n",
    "###Answer\n",
    "othello_speaking = False\n",
    "\n",
    "for line in othello_lines:\n",
    "    if 'OTHELLO.' in line:\n",
    "        othello_speaking = True\n",
    "        listy = line.strip().lower().split(' ')\n",
    "        for word in listy:\n",
    "            if len(word) > 0:\n",
    "                othellos_dialogue.append(word.strip('.!?;:-,'))\n",
    "    elif othello_speaking == True:\n",
    "        if line[:4] == '    ':\n",
    "            listy = line.strip().lower().split(' ')\n",
    "            for word in listy:\n",
    "                if len(word) > 0:\n",
    "                    othellos_dialogue.append(word.strip('.!?;:-,'))\n",
    "        else:\n",
    "            othello_speaking = False\n",
    "    else:\n",
    "        pass\n",
    "    \n",
    "print(Counter(othellos_dialogue))"
   ]
  },
  {
   "cell_type": "markdown",
   "metadata": {},
   "source": [
    "**Exercise:** How does Othello's word usage compare with Iago's? Who speaks more in this play? Who has a larger vocabulary?"
   ]
  },
  {
   "cell_type": "code",
   "execution_count": null,
   "metadata": {
    "collapsed": true
   },
   "outputs": [],
   "source": [
    "###Place your code here\n",
    "\n"
   ]
  },
  {
   "cell_type": "markdown",
   "metadata": {},
   "source": [
    "#Additional exercises for those who are interested\n",
    "\n",
    "**Exercise:** A common way to summarize the complexity of text is by calculating its [entropy]('WIKIPEDIA ENTROPY INFORMATION THEORY LINK'). Write a function to compare the entropy of Iago and Othello's speech. "
   ]
  },
  {
   "cell_type": "code",
   "execution_count": null,
   "metadata": {
    "collapsed": true
   },
   "outputs": [],
   "source": [
    "###Place your code here\n",
    "\n"
   ]
  },
  {
   "cell_type": "markdown",
   "metadata": {},
   "source": [
    "**Exercise:** This has all been very text-based without much graphical analysis. Can you plot a histogram of word frequencies? How about a cumulative distribution frequency plot? Does Othello's speech follow [Zipf's law](WIKIPEDIA ZIPF LAW)?"
   ]
  },
  {
   "cell_type": "code",
   "execution_count": null,
   "metadata": {
    "collapsed": true
   },
   "outputs": [],
   "source": [
    "###Place your code here\n",
    "\n"
   ]
  },
  {
   "cell_type": "markdown",
   "metadata": {},
   "source": [
    "**Exercise:** Our first step toward analyzing Othello was to extract out the Othello specific text from the complete works file, which we did in an arbitrary way to make our lives easier. How would you do it in an automated fashion? Specifically, read the following file and return a _list_ of _tuples_ containing the (year,name) of every play within the file. "
   ]
  },
  {
   "cell_type": "code",
   "execution_count": null,
   "metadata": {
    "collapsed": true
   },
   "outputs": [],
   "source": [
    "complete_works = open('../Data/Shakespeare.txt').readlines()\n",
    "play_list = []\n",
    "###Place your code here"
   ]
  },
  {
   "cell_type": "markdown",
   "metadata": {},
   "source": [
    "**Exercise:** How well does the code that we wrote above work on Hamlet? Romeo and Juliet? Who has the biggest vocabulary in all of Shakespeare?"
   ]
  },
  {
   "cell_type": "code",
   "execution_count": null,
   "metadata": {
    "collapsed": true
   },
   "outputs": [],
   "source": [
    "###Place your code here"
   ]
  },
  {
   "cell_type": "code",
   "execution_count": null,
   "metadata": {
    "collapsed": true
   },
   "outputs": [],
   "source": []
  }
 ],
 "metadata": {
  "kernelspec": {
   "display_name": "Python 3",
   "language": "python",
   "name": "python3"
  },
  "language_info": {
   "codemirror_mode": {
    "name": "ipython",
    "version": 3
   },
   "file_extension": ".py",
   "mimetype": "text/x-python",
   "name": "python",
   "nbconvert_exporter": "python",
   "pygments_lexer": "ipython3",
   "version": "3.4.3"
  }
 },
 "nbformat": 4,
 "nbformat_minor": 0
}
