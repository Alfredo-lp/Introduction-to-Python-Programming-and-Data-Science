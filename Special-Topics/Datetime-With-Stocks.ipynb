{
 "cells": [
  {
   "cell_type": "markdown",
   "metadata": {},
   "source": [
    "# Programming with time\n",
    "\n",
    "One topic that we haven't covered yet is how to handle information that has dates. There is a ton of information on the web and in our own research that relies on a point in time to contextualize it. \n",
    "\n",
    "One of the first thoughts is that we can write our own code to handle this pretty easily.\n",
    "\n",
    "That thought is, unfortunately, very wrong. Dates are a lot like the standard measurement system - an unholy mess. Some months have 30 days, others have 31, and February has 28 (except for leap years, then 29). Keeping track of all of this information just to see how much time lapsed is really annoying (and a waste of time to write all the code!).\n",
    "\n",
    "Fortunately, Python has a library called `datetime` that takes care of most of these problems for us. The only downside is that it's just a little bit confusing!"
   ]
  },
  {
   "cell_type": "code",
   "execution_count": 1,
   "metadata": {
    "collapsed": true
   },
   "outputs": [],
   "source": [
    "import datetime"
   ]
  },
  {
   "cell_type": "markdown",
   "metadata": {},
   "source": [
    "# Datetime is a library but also more.\n",
    "\n",
    "The `datetime` library has **five** top-level objects within it. \n",
    "\n",
    "The first one is called a `date` object and it handles dates. We can get today's date by calling `today()`."
   ]
  },
  {
   "cell_type": "code",
   "execution_count": 2,
   "metadata": {
    "collapsed": false
   },
   "outputs": [
    {
     "data": {
      "text/plain": [
       "datetime.date(2015, 8, 28)"
      ]
     },
     "execution_count": 2,
     "metadata": {},
     "output_type": "execute_result"
    }
   ],
   "source": [
    "datetime.date.today()"
   ]
  },
  {
   "cell_type": "code",
   "execution_count": 3,
   "metadata": {
    "collapsed": false
   },
   "outputs": [
    {
     "data": {
      "text/plain": [
       "datetime.date"
      ]
     },
     "execution_count": 3,
     "metadata": {},
     "output_type": "execute_result"
    }
   ],
   "source": [
    "today = datetime.date.today()\n",
    "type(today)"
   ]
  },
  {
   "cell_type": "markdown",
   "metadata": {},
   "source": [
    "The great thing about a datetime object is that we can access the attributes of the date like we would think about."
   ]
  },
  {
   "cell_type": "code",
   "execution_count": 4,
   "metadata": {
    "collapsed": false
   },
   "outputs": [
    {
     "name": "stdout",
     "output_type": "stream",
     "text": [
      "The year is: 2015\n",
      "The month is: 8\n",
      "The day is: 28\n"
     ]
    }
   ],
   "source": [
    "print('The year is: %d' % today.year)\n",
    "print('The month is: %d' % today.month)\n",
    "print('The day is: %d' % today.day)"
   ]
  },
  {
   "cell_type": "markdown",
   "metadata": {},
   "source": [
    "But you can tell that there is one part missing, it's the time!\n",
    "\n",
    "To access time we can't use the `date` class and instead use the `time` class."
   ]
  },
  {
   "cell_type": "code",
   "execution_count": 5,
   "metadata": {
    "collapsed": false
   },
   "outputs": [
    {
     "data": {
      "text/plain": [
       "datetime.time(20, 30, 50)"
      ]
     },
     "execution_count": 5,
     "metadata": {},
     "output_type": "execute_result"
    }
   ],
   "source": [
    "datetime.time(20, 30, 50)"
   ]
  },
  {
   "cell_type": "code",
   "execution_count": 6,
   "metadata": {
    "collapsed": false
   },
   "outputs": [
    {
     "name": "stdout",
     "output_type": "stream",
     "text": [
      "Hours are: 20\n",
      "Minutes are: 30\n",
      "Seconds are: 50\n"
     ]
    }
   ],
   "source": [
    "time = datetime.time(20, 30, 50)\n",
    "\n",
    "print('Hours are: %d' % time.hour)\n",
    "print('Minutes are: %d' % time.minute)\n",
    "print('Seconds are: %d' % time.second)"
   ]
  },
  {
   "cell_type": "markdown",
   "metadata": {},
   "source": [
    "So we can see that the way we start a time object starts at **hours** (since that is the first type of time we have smaller than a day) and proceeds on there. We can keep adding arguments into the `time()` function all the way to microseconds."
   ]
  },
  {
   "cell_type": "markdown",
   "metadata": {},
   "source": [
    "# But a real date has both a date and time!\n",
    "\n",
    "I admit it, you're right. That's why `datetime` has another object that stores both a date and time.\n",
    "\n",
    "It's called `datetime()`. \n",
    "\n",
    "Yup.\n",
    "\n",
    "That's right.\n",
    "\n",
    "The `datetime` package has a `datetime` object."
   ]
  },
  {
   "cell_type": "code",
   "execution_count": 7,
   "metadata": {
    "collapsed": false
   },
   "outputs": [
    {
     "data": {
      "text/plain": [
       "datetime.datetime(2015, 8, 28, 14, 14, 33, 688200)"
      ]
     },
     "execution_count": 7,
     "metadata": {},
     "output_type": "execute_result"
    }
   ],
   "source": [
    "datetime.datetime.today()"
   ]
  },
  {
   "cell_type": "markdown",
   "metadata": {},
   "source": [
    "And all of the same methods apply to get the parts of the date"
   ]
  },
  {
   "cell_type": "code",
   "execution_count": 8,
   "metadata": {
    "collapsed": false
   },
   "outputs": [
    {
     "name": "stdout",
     "output_type": "stream",
     "text": [
      "The year is: 2015\n",
      "The hour is: 14\n"
     ]
    }
   ],
   "source": [
    "dt_today = datetime.datetime.today() \n",
    "\n",
    "print('The year is: %d' % dt_today.year)\n",
    "print('The hour is: %d' % dt_today.hour)"
   ]
  },
  {
   "cell_type": "markdown",
   "metadata": {},
   "source": [
    "With a `datetime()` object we can also get just a `date()` or `time()` object too."
   ]
  },
  {
   "cell_type": "code",
   "execution_count": 9,
   "metadata": {
    "collapsed": false
   },
   "outputs": [
    {
     "data": {
      "text/plain": [
       "datetime.date(2015, 8, 28)"
      ]
     },
     "execution_count": 9,
     "metadata": {},
     "output_type": "execute_result"
    }
   ],
   "source": [
    "dt_today.date()"
   ]
  },
  {
   "cell_type": "code",
   "execution_count": 10,
   "metadata": {
    "collapsed": false
   },
   "outputs": [
    {
     "data": {
      "text/plain": [
       "datetime.time(14, 14, 33, 701653)"
      ]
     },
     "execution_count": 10,
     "metadata": {},
     "output_type": "execute_result"
    }
   ],
   "source": [
    "dt_today.time()"
   ]
  },
  {
   "cell_type": "markdown",
   "metadata": {},
   "source": [
    "The fourth object is not another container for raw time (crazy I know!), but it's actually what happens when we subtract two datetime objects - a `timedelta()`. Remember that $\\delta$ is the difference in math (thus the 'delta' part attached to the time.\n",
    "\n",
    "A `timedelta()` object holds the difference between two `datetime` or `date` objects"
   ]
  },
  {
   "cell_type": "code",
   "execution_count": 11,
   "metadata": {
    "collapsed": false
   },
   "outputs": [
    {
     "data": {
      "text/plain": [
       "datetime.timedelta(0, 0, 36525)"
      ]
     },
     "execution_count": 11,
     "metadata": {},
     "output_type": "execute_result"
    }
   ],
   "source": [
    "datetime.datetime.today() - dt_today"
   ]
  },
  {
   "cell_type": "code",
   "execution_count": 12,
   "metadata": {
    "collapsed": false
   },
   "outputs": [
    {
     "data": {
      "text/plain": [
       "datetime.timedelta(0)"
      ]
     },
     "execution_count": 12,
     "metadata": {},
     "output_type": "execute_result"
    }
   ],
   "source": [
    "datetime.date.today() - today"
   ]
  },
  {
   "cell_type": "markdown",
   "metadata": {},
   "source": [
    "Datetime objects also let us easily perform operations to determine order in time."
   ]
  },
  {
   "cell_type": "code",
   "execution_count": 13,
   "metadata": {
    "collapsed": false
   },
   "outputs": [
    {
     "data": {
      "text/plain": [
       "True"
      ]
     },
     "execution_count": 13,
     "metadata": {},
     "output_type": "execute_result"
    }
   ],
   "source": [
    "dt_today < datetime.datetime.today()"
   ]
  },
  {
   "cell_type": "code",
   "execution_count": 14,
   "metadata": {
    "collapsed": false
   },
   "outputs": [
    {
     "data": {
      "text/plain": [
       "[datetime.datetime(2015, 8, 28, 14, 14, 33, 701653),\n",
       " datetime.datetime(2015, 8, 28, 14, 14, 33, 701653),\n",
       " datetime.datetime(2015, 8, 28, 14, 14, 33, 771764)]"
      ]
     },
     "execution_count": 14,
     "metadata": {},
     "output_type": "execute_result"
    }
   ],
   "source": [
    "sorted([dt_today, datetime.datetime.today(), dt_today])"
   ]
  },
  {
   "cell_type": "markdown",
   "metadata": {},
   "source": [
    "#Manipulating datetime objects\n",
    "\n",
    "If you need to manipulate a date, datetime, or time object (like change the day from the 16th to the 1st in order to get a bit more summer) you can use the `replace()` function to change any of the attributes."
   ]
  },
  {
   "cell_type": "code",
   "execution_count": 15,
   "metadata": {
    "collapsed": false
   },
   "outputs": [
    {
     "data": {
      "text/plain": [
       "datetime.datetime(2015, 8, 1, 14, 14, 33, 701653)"
      ]
     },
     "execution_count": 15,
     "metadata": {},
     "output_type": "execute_result"
    }
   ],
   "source": [
    "dt_today.replace(day = 1)"
   ]
  },
  {
   "cell_type": "code",
   "execution_count": 16,
   "metadata": {
    "collapsed": false
   },
   "outputs": [
    {
     "data": {
      "text/plain": [
       "datetime.date(2015, 8, 1)"
      ]
     },
     "execution_count": 16,
     "metadata": {},
     "output_type": "execute_result"
    }
   ],
   "source": [
    "today.replace(day = 1)"
   ]
  },
  {
   "cell_type": "code",
   "execution_count": 17,
   "metadata": {
    "collapsed": false
   },
   "outputs": [
    {
     "data": {
      "text/plain": [
       "datetime.time(10, 30, 50)"
      ]
     },
     "execution_count": 17,
     "metadata": {},
     "output_type": "execute_result"
    }
   ],
   "source": [
    "time.replace(hour = 10)"
   ]
  },
  {
   "cell_type": "markdown",
   "metadata": {},
   "source": [
    "However, this isn't always the easiest way to manipulate a datetime object. How do we add a week if the date falls near the end of the month?\n",
    "\n",
    "We'd have to change both the month and the day, accounting for the length of the month! That's not easy at all. To do that we actually need to use a different library to do that."
   ]
  },
  {
   "cell_type": "code",
   "execution_count": 18,
   "metadata": {
    "collapsed": false
   },
   "outputs": [
    {
     "data": {
      "text/plain": [
       "datetime.datetime(2015, 9, 4, 14, 14, 33, 701653)"
      ]
     },
     "execution_count": 18,
     "metadata": {},
     "output_type": "execute_result"
    }
   ],
   "source": [
    "from dateutil import relativedelta\n",
    "\n",
    "dt_today + relativedelta.relativedelta(weeks=1)"
   ]
  },
  {
   "cell_type": "markdown",
   "metadata": {},
   "source": [
    "Yes, the relativedelta package follows the same insane naming structure that datetime uses. But it works!"
   ]
  },
  {
   "cell_type": "markdown",
   "metadata": {},
   "source": [
    "# But that's really only half the battle\n",
    "\n",
    "Now we've gone over the basics of the package, but that isn't our data! We're going to need to read in data and somehow manipulate it into real datetime objects so that we can work with it.\n",
    "\n",
    "As an example, let's play stockbrokers and examine the apple stock closing prices since 1980."
   ]
  },
  {
   "cell_type": "code",
   "execution_count": 19,
   "metadata": {
    "collapsed": false
   },
   "outputs": [
    {
     "name": "stdout",
     "output_type": "stream",
     "text": [
      "['Date', 'Open', 'High', 'Low', 'Close', 'Volume', 'Adjusted Close']\n",
      "['2015-08-24', '94.870003', '103.449997', '92.0', '103.120003', '161454200.0', '103.120003']\n"
     ]
    }
   ],
   "source": [
    "#I'm going to read in the Apple stock prices real quick\n",
    "aapl_stock = [l.strip().split(',') for l in open('../Data/aapl_stock_price.csv')]\n",
    "\n",
    "#Now let's take a look at what we're dealing with\n",
    "for line in aapl_stock[:2]:\n",
    "    print( line )"
   ]
  },
  {
   "cell_type": "markdown",
   "metadata": {},
   "source": [
    "But now how are we going to convert this date as a string into a real date?\n",
    "\n",
    "The `datetime()` object supports a method - called `strptime()` - that allows you to convert a string into a datetime object.\n",
    "\n",
    "The `strptime()` function takes two arguments, the string that we are trying to convert and a string saying explicitly what the format is. I'll give a quick example first."
   ]
  },
  {
   "cell_type": "code",
   "execution_count": 20,
   "metadata": {
    "collapsed": false
   },
   "outputs": [
    {
     "data": {
      "text/plain": [
       "datetime.datetime(2008, 12, 1, 0, 0)"
      ]
     },
     "execution_count": 20,
     "metadata": {},
     "output_type": "execute_result"
    }
   ],
   "source": [
    "datetime.datetime.strptime('2008-12-01', '%Y-%m-%d')"
   ]
  },
  {
   "cell_type": "markdown",
   "metadata": {},
   "source": [
    "There! We've converted a date that is a string into a datetime object! But what were those weird symbols I gave as the format string? There's actually a large number of them and you just have to match them (and the other punctuation) to your date string.\n",
    "\n",
    "<img src='../images/strftime_maps.png'></img>"
   ]
  },
  {
   "cell_type": "markdown",
   "metadata": {},
   "source": [
    "The `strptime()` is a bit hard to remember, but it's easier when you know about it's partner and opposite - `strftime()`.  The `strftime()` function lets you create a **string from time** object. Easier to remember huh ;)\n",
    "\n",
    "It works very similar, it'll need a datetime object and the format string that we want it to create."
   ]
  },
  {
   "cell_type": "code",
   "execution_count": 21,
   "metadata": {
    "collapsed": false
   },
   "outputs": [
    {
     "data": {
      "text/plain": [
       "'2015-28'"
      ]
     },
     "execution_count": 21,
     "metadata": {},
     "output_type": "execute_result"
    }
   ],
   "source": [
    "datetime.datetime.strftime(datetime.date.today(), '%Y-%d')"
   ]
  },
  {
   "cell_type": "markdown",
   "metadata": {},
   "source": [
    "# Now those are the basics of dates in Python\n",
    "\n",
    "When dealing with real data, dates are always present. This is how you can handle this information and use it.\n",
    "\n",
    "So let's go be stockbrokers!"
   ]
  },
  {
   "cell_type": "code",
   "execution_count": 22,
   "metadata": {
    "collapsed": false
   },
   "outputs": [
    {
     "data": {
      "text/html": [
       "<div>\n",
       "<table border=\"1\" class=\"dataframe\">\n",
       "  <thead>\n",
       "    <tr style=\"text-align: right;\">\n",
       "      <th></th>\n",
       "      <th>Date</th>\n",
       "      <th>Open</th>\n",
       "      <th>High</th>\n",
       "      <th>Low</th>\n",
       "      <th>Close</th>\n",
       "      <th>Volume</th>\n",
       "      <th>Adjusted Close</th>\n",
       "    </tr>\n",
       "  </thead>\n",
       "  <tbody>\n",
       "    <tr>\n",
       "      <th>0</th>\n",
       "      <td>2015-08-24</td>\n",
       "      <td>94.870003</td>\n",
       "      <td>103.449997</td>\n",
       "      <td>92.000000</td>\n",
       "      <td>103.120003</td>\n",
       "      <td>161454200</td>\n",
       "      <td>103.120003</td>\n",
       "    </tr>\n",
       "    <tr>\n",
       "      <th>1</th>\n",
       "      <td>2015-08-21</td>\n",
       "      <td>110.430000</td>\n",
       "      <td>111.900002</td>\n",
       "      <td>105.650002</td>\n",
       "      <td>105.760002</td>\n",
       "      <td>126289200</td>\n",
       "      <td>105.760002</td>\n",
       "    </tr>\n",
       "    <tr>\n",
       "      <th>2</th>\n",
       "      <td>2015-08-20</td>\n",
       "      <td>114.080002</td>\n",
       "      <td>114.349998</td>\n",
       "      <td>111.629997</td>\n",
       "      <td>112.650002</td>\n",
       "      <td>67765500</td>\n",
       "      <td>112.650002</td>\n",
       "    </tr>\n",
       "    <tr>\n",
       "      <th>3</th>\n",
       "      <td>2015-08-19</td>\n",
       "      <td>116.099998</td>\n",
       "      <td>116.519997</td>\n",
       "      <td>114.680000</td>\n",
       "      <td>115.010002</td>\n",
       "      <td>47445700</td>\n",
       "      <td>115.010002</td>\n",
       "    </tr>\n",
       "    <tr>\n",
       "      <th>4</th>\n",
       "      <td>2015-08-18</td>\n",
       "      <td>116.430000</td>\n",
       "      <td>117.440002</td>\n",
       "      <td>116.010002</td>\n",
       "      <td>116.500000</td>\n",
       "      <td>34461400</td>\n",
       "      <td>116.500000</td>\n",
       "    </tr>\n",
       "  </tbody>\n",
       "</table>\n",
       "</div>"
      ],
      "text/plain": [
       "         Date        Open        High         Low       Close     Volume  \\\n",
       "0  2015-08-24   94.870003  103.449997   92.000000  103.120003  161454200   \n",
       "1  2015-08-21  110.430000  111.900002  105.650002  105.760002  126289200   \n",
       "2  2015-08-20  114.080002  114.349998  111.629997  112.650002   67765500   \n",
       "3  2015-08-19  116.099998  116.519997  114.680000  115.010002   47445700   \n",
       "4  2015-08-18  116.430000  117.440002  116.010002  116.500000   34461400   \n",
       "\n",
       "   Adjusted Close  \n",
       "0      103.120003  \n",
       "1      105.760002  \n",
       "2      112.650002  \n",
       "3      115.010002  \n",
       "4      116.500000  "
      ]
     },
     "execution_count": 22,
     "metadata": {},
     "output_type": "execute_result"
    }
   ],
   "source": [
    "import pandas as pd\n",
    "\n",
    "df = pd.read_csv('../Data/aapl_stock_price.csv')\n",
    "\n",
    "df.head()"
   ]
  },
  {
   "cell_type": "code",
   "execution_count": 23,
   "metadata": {
    "collapsed": false
   },
   "outputs": [
    {
     "data": {
      "text/plain": [
       "0    2015-08-24\n",
       "1    2015-08-21\n",
       "2    2015-08-20\n",
       "3    2015-08-19\n",
       "4    2015-08-18\n",
       "Name: Date, dtype: object"
      ]
     },
     "execution_count": 23,
     "metadata": {},
     "output_type": "execute_result"
    }
   ],
   "source": [
    "df.Date.head()"
   ]
  },
  {
   "cell_type": "markdown",
   "metadata": {},
   "source": [
    "So now let's change the dates to a datetime variable"
   ]
  },
  {
   "cell_type": "code",
   "execution_count": 24,
   "metadata": {
    "collapsed": false
   },
   "outputs": [
    {
     "data": {
      "text/plain": [
       "0   2015-08-24\n",
       "1   2015-08-21\n",
       "2   2015-08-20\n",
       "3   2015-08-19\n",
       "4   2015-08-18\n",
       "Name: Date, dtype: datetime64[ns]"
      ]
     },
     "execution_count": 24,
     "metadata": {},
     "output_type": "execute_result"
    }
   ],
   "source": [
    "df.Date = pd.to_datetime(df.Date)\n",
    "\n",
    "df.Date.head()"
   ]
  },
  {
   "cell_type": "markdown",
   "metadata": {
    "collapsed": true
   },
   "source": [
    "There! We just converted the `Date` column to datetime. Pandas doesn't use the actual `datetime` package, it uses the Numpy datetime implementation instead but the two are fairly similar"
   ]
  },
  {
   "cell_type": "code",
   "execution_count": 25,
   "metadata": {
    "collapsed": false
   },
   "outputs": [
    {
     "data": {
      "text/plain": [
       "2015"
      ]
     },
     "execution_count": 25,
     "metadata": {},
     "output_type": "execute_result"
    }
   ],
   "source": [
    "df.Date[0].year"
   ]
  },
  {
   "cell_type": "code",
   "execution_count": 26,
   "metadata": {
    "collapsed": false
   },
   "outputs": [
    {
     "data": {
      "text/plain": [
       "8"
      ]
     },
     "execution_count": 26,
     "metadata": {},
     "output_type": "execute_result"
    }
   ],
   "source": [
    "df.Date[0].month"
   ]
  },
  {
   "cell_type": "code",
   "execution_count": 27,
   "metadata": {
    "collapsed": false
   },
   "outputs": [
    {
     "data": {
      "text/plain": [
       "24"
      ]
     },
     "execution_count": 27,
     "metadata": {},
     "output_type": "execute_result"
    }
   ],
   "source": [
    "df.Date[0].day"
   ]
  },
  {
   "cell_type": "markdown",
   "metadata": {
    "collapsed": true
   },
   "source": [
    "Now I'm going to do a little bit of housekeeping. We have multiple columns of data, the open price, the high and low of the day, the close price, the volume of stock and it's adjusted closing price. All of those variables are all related to the date, in fact they're not true on any other day!\n",
    "\n",
    "In a case like this it makes sense make the index of the dataframe the date column. This way whenever we select some columns we know when it occurred."
   ]
  },
  {
   "cell_type": "code",
   "execution_count": 28,
   "metadata": {
    "collapsed": false
   },
   "outputs": [
    {
     "data": {
      "text/html": [
       "<div>\n",
       "<table border=\"1\" class=\"dataframe\">\n",
       "  <thead>\n",
       "    <tr style=\"text-align: right;\">\n",
       "      <th></th>\n",
       "      <th>Open</th>\n",
       "      <th>High</th>\n",
       "      <th>Low</th>\n",
       "      <th>Close</th>\n",
       "      <th>Volume</th>\n",
       "      <th>Adjusted Close</th>\n",
       "    </tr>\n",
       "    <tr>\n",
       "      <th>Date</th>\n",
       "      <th></th>\n",
       "      <th></th>\n",
       "      <th></th>\n",
       "      <th></th>\n",
       "      <th></th>\n",
       "      <th></th>\n",
       "    </tr>\n",
       "  </thead>\n",
       "  <tbody>\n",
       "    <tr>\n",
       "      <th>2015-08-24</th>\n",
       "      <td>94.870003</td>\n",
       "      <td>103.449997</td>\n",
       "      <td>92.000000</td>\n",
       "      <td>103.120003</td>\n",
       "      <td>161454200</td>\n",
       "      <td>103.120003</td>\n",
       "    </tr>\n",
       "    <tr>\n",
       "      <th>2015-08-21</th>\n",
       "      <td>110.430000</td>\n",
       "      <td>111.900002</td>\n",
       "      <td>105.650002</td>\n",
       "      <td>105.760002</td>\n",
       "      <td>126289200</td>\n",
       "      <td>105.760002</td>\n",
       "    </tr>\n",
       "    <tr>\n",
       "      <th>2015-08-20</th>\n",
       "      <td>114.080002</td>\n",
       "      <td>114.349998</td>\n",
       "      <td>111.629997</td>\n",
       "      <td>112.650002</td>\n",
       "      <td>67765500</td>\n",
       "      <td>112.650002</td>\n",
       "    </tr>\n",
       "    <tr>\n",
       "      <th>2015-08-19</th>\n",
       "      <td>116.099998</td>\n",
       "      <td>116.519997</td>\n",
       "      <td>114.680000</td>\n",
       "      <td>115.010002</td>\n",
       "      <td>47445700</td>\n",
       "      <td>115.010002</td>\n",
       "    </tr>\n",
       "    <tr>\n",
       "      <th>2015-08-18</th>\n",
       "      <td>116.430000</td>\n",
       "      <td>117.440002</td>\n",
       "      <td>116.010002</td>\n",
       "      <td>116.500000</td>\n",
       "      <td>34461400</td>\n",
       "      <td>116.500000</td>\n",
       "    </tr>\n",
       "  </tbody>\n",
       "</table>\n",
       "</div>"
      ],
      "text/plain": [
       "                  Open        High         Low       Close     Volume  \\\n",
       "Date                                                                    \n",
       "2015-08-24   94.870003  103.449997   92.000000  103.120003  161454200   \n",
       "2015-08-21  110.430000  111.900002  105.650002  105.760002  126289200   \n",
       "2015-08-20  114.080002  114.349998  111.629997  112.650002   67765500   \n",
       "2015-08-19  116.099998  116.519997  114.680000  115.010002   47445700   \n",
       "2015-08-18  116.430000  117.440002  116.010002  116.500000   34461400   \n",
       "\n",
       "            Adjusted Close  \n",
       "Date                        \n",
       "2015-08-24      103.120003  \n",
       "2015-08-21      105.760002  \n",
       "2015-08-20      112.650002  \n",
       "2015-08-19      115.010002  \n",
       "2015-08-18      116.500000  "
      ]
     },
     "execution_count": 28,
     "metadata": {},
     "output_type": "execute_result"
    }
   ],
   "source": [
    "df.set_index(['Date'], inplace=True)\n",
    "\n",
    "df.head()"
   ]
  },
  {
   "cell_type": "markdown",
   "metadata": {
    "collapsed": true
   },
   "source": [
    "The great thing is that we can easily get a specific date range now."
   ]
  },
  {
   "cell_type": "code",
   "execution_count": 29,
   "metadata": {
    "collapsed": false
   },
   "outputs": [
    {
     "data": {
      "text/html": [
       "<div>\n",
       "<table border=\"1\" class=\"dataframe\">\n",
       "  <thead>\n",
       "    <tr style=\"text-align: right;\">\n",
       "      <th></th>\n",
       "      <th>Open</th>\n",
       "      <th>High</th>\n",
       "      <th>Low</th>\n",
       "      <th>Close</th>\n",
       "      <th>Volume</th>\n",
       "      <th>Adjusted Close</th>\n",
       "    </tr>\n",
       "    <tr>\n",
       "      <th>Date</th>\n",
       "      <th></th>\n",
       "      <th></th>\n",
       "      <th></th>\n",
       "      <th></th>\n",
       "      <th></th>\n",
       "      <th></th>\n",
       "    </tr>\n",
       "  </thead>\n",
       "  <tbody>\n",
       "    <tr>\n",
       "      <th>2013-12-31</th>\n",
       "      <td>554.169960</td>\n",
       "      <td>561.280029</td>\n",
       "      <td>554.000023</td>\n",
       "      <td>561.019997</td>\n",
       "      <td>55771100</td>\n",
       "      <td>77.509204</td>\n",
       "    </tr>\n",
       "    <tr>\n",
       "      <th>2013-12-30</th>\n",
       "      <td>557.459969</td>\n",
       "      <td>560.090042</td>\n",
       "      <td>552.320038</td>\n",
       "      <td>554.519981</td>\n",
       "      <td>63407400</td>\n",
       "      <td>76.611177</td>\n",
       "    </tr>\n",
       "    <tr>\n",
       "      <th>2013-12-27</th>\n",
       "      <td>563.819954</td>\n",
       "      <td>564.409981</td>\n",
       "      <td>559.500015</td>\n",
       "      <td>560.090042</td>\n",
       "      <td>56471100</td>\n",
       "      <td>77.380723</td>\n",
       "    </tr>\n",
       "    <tr>\n",
       "      <th>2013-12-26</th>\n",
       "      <td>568.099998</td>\n",
       "      <td>569.499977</td>\n",
       "      <td>563.379997</td>\n",
       "      <td>563.899956</td>\n",
       "      <td>51002000</td>\n",
       "      <td>77.907092</td>\n",
       "    </tr>\n",
       "    <tr>\n",
       "      <th>2013-12-24</th>\n",
       "      <td>569.889999</td>\n",
       "      <td>571.880005</td>\n",
       "      <td>566.029991</td>\n",
       "      <td>567.669975</td>\n",
       "      <td>41888700</td>\n",
       "      <td>78.427949</td>\n",
       "    </tr>\n",
       "  </tbody>\n",
       "</table>\n",
       "</div>"
      ],
      "text/plain": [
       "                  Open        High         Low       Close    Volume  \\\n",
       "Date                                                                   \n",
       "2013-12-31  554.169960  561.280029  554.000023  561.019997  55771100   \n",
       "2013-12-30  557.459969  560.090042  552.320038  554.519981  63407400   \n",
       "2013-12-27  563.819954  564.409981  559.500015  560.090042  56471100   \n",
       "2013-12-26  568.099998  569.499977  563.379997  563.899956  51002000   \n",
       "2013-12-24  569.889999  571.880005  566.029991  567.669975  41888700   \n",
       "\n",
       "            Adjusted Close  \n",
       "Date                        \n",
       "2013-12-31       77.509204  \n",
       "2013-12-30       76.611177  \n",
       "2013-12-27       77.380723  \n",
       "2013-12-26       77.907092  \n",
       "2013-12-24       78.427949  "
      ]
     },
     "execution_count": 29,
     "metadata": {},
     "output_type": "execute_result"
    }
   ],
   "source": [
    "df[(df.index > '2013') & (df.index < '2014')].head()"
   ]
  },
  {
   "cell_type": "markdown",
   "metadata": {
    "collapsed": true
   },
   "source": [
    "Super easy! We can just give the date that we are interested in as a string and Pandas will automatically convert it.  This is a lot easier for us than having to make a datetime object first.\n",
    "\n",
    "If you want to be more specific you just folow the string format of 'YEAR-MONTH-DAY'"
   ]
  },
  {
   "cell_type": "code",
   "execution_count": 30,
   "metadata": {
    "collapsed": false
   },
   "outputs": [
    {
     "data": {
      "text/html": [
       "<div>\n",
       "<table border=\"1\" class=\"dataframe\">\n",
       "  <thead>\n",
       "    <tr style=\"text-align: right;\">\n",
       "      <th></th>\n",
       "      <th>Open</th>\n",
       "      <th>High</th>\n",
       "      <th>Low</th>\n",
       "      <th>Close</th>\n",
       "      <th>Volume</th>\n",
       "      <th>Adjusted Close</th>\n",
       "    </tr>\n",
       "    <tr>\n",
       "      <th>Date</th>\n",
       "      <th></th>\n",
       "      <th></th>\n",
       "      <th></th>\n",
       "      <th></th>\n",
       "      <th></th>\n",
       "      <th></th>\n",
       "    </tr>\n",
       "  </thead>\n",
       "  <tbody>\n",
       "    <tr>\n",
       "      <th>2013-12-30</th>\n",
       "      <td>557.459969</td>\n",
       "      <td>560.090042</td>\n",
       "      <td>552.320038</td>\n",
       "      <td>554.519981</td>\n",
       "      <td>63407400</td>\n",
       "      <td>76.611177</td>\n",
       "    </tr>\n",
       "    <tr>\n",
       "      <th>2013-12-27</th>\n",
       "      <td>563.819954</td>\n",
       "      <td>564.409981</td>\n",
       "      <td>559.500015</td>\n",
       "      <td>560.090042</td>\n",
       "      <td>56471100</td>\n",
       "      <td>77.380723</td>\n",
       "    </tr>\n",
       "    <tr>\n",
       "      <th>2013-12-26</th>\n",
       "      <td>568.099998</td>\n",
       "      <td>569.499977</td>\n",
       "      <td>563.379997</td>\n",
       "      <td>563.899956</td>\n",
       "      <td>51002000</td>\n",
       "      <td>77.907092</td>\n",
       "    </tr>\n",
       "    <tr>\n",
       "      <th>2013-12-24</th>\n",
       "      <td>569.889999</td>\n",
       "      <td>571.880005</td>\n",
       "      <td>566.029991</td>\n",
       "      <td>567.669975</td>\n",
       "      <td>41888700</td>\n",
       "      <td>78.427949</td>\n",
       "    </tr>\n",
       "    <tr>\n",
       "      <th>2013-12-23</th>\n",
       "      <td>568.000023</td>\n",
       "      <td>570.720032</td>\n",
       "      <td>562.760010</td>\n",
       "      <td>570.090004</td>\n",
       "      <td>125326600</td>\n",
       "      <td>78.762294</td>\n",
       "    </tr>\n",
       "    <tr>\n",
       "      <th>2013-12-20</th>\n",
       "      <td>545.430000</td>\n",
       "      <td>551.610008</td>\n",
       "      <td>544.820000</td>\n",
       "      <td>549.019989</td>\n",
       "      <td>109103400</td>\n",
       "      <td>75.851311</td>\n",
       "    </tr>\n",
       "    <tr>\n",
       "      <th>2013-12-19</th>\n",
       "      <td>549.500000</td>\n",
       "      <td>549.999985</td>\n",
       "      <td>543.729988</td>\n",
       "      <td>544.459991</td>\n",
       "      <td>80077200</td>\n",
       "      <td>75.221312</td>\n",
       "    </tr>\n",
       "    <tr>\n",
       "      <th>2013-12-18</th>\n",
       "      <td>549.700005</td>\n",
       "      <td>551.450005</td>\n",
       "      <td>538.799995</td>\n",
       "      <td>550.769989</td>\n",
       "      <td>141465800</td>\n",
       "      <td>76.093087</td>\n",
       "    </tr>\n",
       "    <tr>\n",
       "      <th>2013-12-17</th>\n",
       "      <td>555.809998</td>\n",
       "      <td>559.439987</td>\n",
       "      <td>553.380035</td>\n",
       "      <td>554.990005</td>\n",
       "      <td>57475600</td>\n",
       "      <td>76.676114</td>\n",
       "    </tr>\n",
       "    <tr>\n",
       "      <th>2013-12-16</th>\n",
       "      <td>555.019966</td>\n",
       "      <td>562.639954</td>\n",
       "      <td>555.009979</td>\n",
       "      <td>557.500023</td>\n",
       "      <td>70648200</td>\n",
       "      <td>77.022892</td>\n",
       "    </tr>\n",
       "    <tr>\n",
       "      <th>2013-12-13</th>\n",
       "      <td>562.849998</td>\n",
       "      <td>562.880013</td>\n",
       "      <td>553.669975</td>\n",
       "      <td>554.430046</td>\n",
       "      <td>83205500</td>\n",
       "      <td>76.598752</td>\n",
       "    </tr>\n",
       "    <tr>\n",
       "      <th>2013-12-12</th>\n",
       "      <td>562.139969</td>\n",
       "      <td>565.340042</td>\n",
       "      <td>560.030014</td>\n",
       "      <td>560.539986</td>\n",
       "      <td>65572500</td>\n",
       "      <td>77.442886</td>\n",
       "    </tr>\n",
       "    <tr>\n",
       "      <th>2013-12-11</th>\n",
       "      <td>567.000000</td>\n",
       "      <td>570.969971</td>\n",
       "      <td>559.689980</td>\n",
       "      <td>561.360031</td>\n",
       "      <td>89929700</td>\n",
       "      <td>77.556182</td>\n",
       "    </tr>\n",
       "    <tr>\n",
       "      <th>2013-12-10</th>\n",
       "      <td>563.580002</td>\n",
       "      <td>567.879967</td>\n",
       "      <td>561.200027</td>\n",
       "      <td>565.550034</td>\n",
       "      <td>69567400</td>\n",
       "      <td>78.135063</td>\n",
       "    </tr>\n",
       "    <tr>\n",
       "      <th>2013-12-09</th>\n",
       "      <td>560.899994</td>\n",
       "      <td>569.579979</td>\n",
       "      <td>560.899994</td>\n",
       "      <td>566.430000</td>\n",
       "      <td>80123400</td>\n",
       "      <td>78.256637</td>\n",
       "    </tr>\n",
       "    <tr>\n",
       "      <th>2013-12-06</th>\n",
       "      <td>565.789986</td>\n",
       "      <td>566.750008</td>\n",
       "      <td>559.569977</td>\n",
       "      <td>560.020027</td>\n",
       "      <td>86088100</td>\n",
       "      <td>77.371050</td>\n",
       "    </tr>\n",
       "    <tr>\n",
       "      <th>2013-12-05</th>\n",
       "      <td>572.649956</td>\n",
       "      <td>575.139999</td>\n",
       "      <td>566.409973</td>\n",
       "      <td>567.899994</td>\n",
       "      <td>111895000</td>\n",
       "      <td>78.459728</td>\n",
       "    </tr>\n",
       "    <tr>\n",
       "      <th>2013-12-04</th>\n",
       "      <td>565.499992</td>\n",
       "      <td>569.190010</td>\n",
       "      <td>560.819992</td>\n",
       "      <td>565.000008</td>\n",
       "      <td>94452400</td>\n",
       "      <td>78.059073</td>\n",
       "    </tr>\n",
       "    <tr>\n",
       "      <th>2013-12-03</th>\n",
       "      <td>558.299988</td>\n",
       "      <td>566.380013</td>\n",
       "      <td>557.680000</td>\n",
       "      <td>566.320038</td>\n",
       "      <td>112742000</td>\n",
       "      <td>78.241445</td>\n",
       "    </tr>\n",
       "    <tr>\n",
       "      <th>2013-12-02</th>\n",
       "      <td>558.000008</td>\n",
       "      <td>564.329979</td>\n",
       "      <td>550.819977</td>\n",
       "      <td>551.229973</td>\n",
       "      <td>118136200</td>\n",
       "      <td>76.156637</td>\n",
       "    </tr>\n",
       "  </tbody>\n",
       "</table>\n",
       "</div>"
      ],
      "text/plain": [
       "                  Open        High         Low       Close     Volume  \\\n",
       "Date                                                                    \n",
       "2013-12-30  557.459969  560.090042  552.320038  554.519981   63407400   \n",
       "2013-12-27  563.819954  564.409981  559.500015  560.090042   56471100   \n",
       "2013-12-26  568.099998  569.499977  563.379997  563.899956   51002000   \n",
       "2013-12-24  569.889999  571.880005  566.029991  567.669975   41888700   \n",
       "2013-12-23  568.000023  570.720032  562.760010  570.090004  125326600   \n",
       "2013-12-20  545.430000  551.610008  544.820000  549.019989  109103400   \n",
       "2013-12-19  549.500000  549.999985  543.729988  544.459991   80077200   \n",
       "2013-12-18  549.700005  551.450005  538.799995  550.769989  141465800   \n",
       "2013-12-17  555.809998  559.439987  553.380035  554.990005   57475600   \n",
       "2013-12-16  555.019966  562.639954  555.009979  557.500023   70648200   \n",
       "2013-12-13  562.849998  562.880013  553.669975  554.430046   83205500   \n",
       "2013-12-12  562.139969  565.340042  560.030014  560.539986   65572500   \n",
       "2013-12-11  567.000000  570.969971  559.689980  561.360031   89929700   \n",
       "2013-12-10  563.580002  567.879967  561.200027  565.550034   69567400   \n",
       "2013-12-09  560.899994  569.579979  560.899994  566.430000   80123400   \n",
       "2013-12-06  565.789986  566.750008  559.569977  560.020027   86088100   \n",
       "2013-12-05  572.649956  575.139999  566.409973  567.899994  111895000   \n",
       "2013-12-04  565.499992  569.190010  560.819992  565.000008   94452400   \n",
       "2013-12-03  558.299988  566.380013  557.680000  566.320038  112742000   \n",
       "2013-12-02  558.000008  564.329979  550.819977  551.229973  118136200   \n",
       "\n",
       "            Adjusted Close  \n",
       "Date                        \n",
       "2013-12-30       76.611177  \n",
       "2013-12-27       77.380723  \n",
       "2013-12-26       77.907092  \n",
       "2013-12-24       78.427949  \n",
       "2013-12-23       78.762294  \n",
       "2013-12-20       75.851311  \n",
       "2013-12-19       75.221312  \n",
       "2013-12-18       76.093087  \n",
       "2013-12-17       76.676114  \n",
       "2013-12-16       77.022892  \n",
       "2013-12-13       76.598752  \n",
       "2013-12-12       77.442886  \n",
       "2013-12-11       77.556182  \n",
       "2013-12-10       78.135063  \n",
       "2013-12-09       78.256637  \n",
       "2013-12-06       77.371050  \n",
       "2013-12-05       78.459728  \n",
       "2013-12-04       78.059073  \n",
       "2013-12-03       78.241445  \n",
       "2013-12-02       76.156637  "
      ]
     },
     "execution_count": 30,
     "metadata": {},
     "output_type": "execute_result"
    }
   ],
   "source": [
    "df[(df.index > '2013-12-01') & (df.index < '2013-12-31')]"
   ]
  },
  {
   "cell_type": "markdown",
   "metadata": {
    "collapsed": true
   },
   "source": [
    "Now let's just quickly look at the closing price of AAPL stock over time."
   ]
  },
  {
   "cell_type": "code",
   "execution_count": 31,
   "metadata": {
    "collapsed": true
   },
   "outputs": [],
   "source": [
    "%matplotlib inline"
   ]
  },
  {
   "cell_type": "code",
   "execution_count": 32,
   "metadata": {
    "collapsed": false
   },
   "outputs": [
    {
     "data": {
      "text/plain": [
       "<matplotlib.text.Text at 0x10ae6bac8>"
      ]
     },
     "execution_count": 32,
     "metadata": {},
     "output_type": "execute_result"
    },
    {
     "data": {
      "image/png": "[encoded data removed]",
      "text/plain": [
       "<matplotlib.figure.Figure at 0x10ae3bbe0>"
      ]
     },
     "metadata": {},
     "output_type": "display_data"
    }
   ],
   "source": [
    "ax = df['Close'].plot(color='steelblue')\n",
    "ax.set_ylabel('Closing Price')"
   ]
  },
  {
   "cell_type": "markdown",
   "metadata": {
    "collapsed": true
   },
   "source": [
    "The great part about having the `Date` as the x-axis is that it is automatically included as the x-axis :)\n",
    "\n",
    "We could also look at the rolling average too using Pandas to smooth out the data. Using a rolling average with data can be useful when you have a noisy time series."
   ]
  },
  {
   "cell_type": "code",
   "execution_count": 33,
   "metadata": {
    "collapsed": false
   },
   "outputs": [
    {
     "data": {
      "text/plain": [
       "<matplotlib.legend.Legend at 0x10b106fd0>"
      ]
     },
     "execution_count": 33,
     "metadata": {},
     "output_type": "execute_result"
    },
    {
     "data": {
      "image/png": "[encoded data removed]",
      "text/plain": [
       "<matplotlib.figure.Figure at 0x10b075828>"
      ]
     },
     "metadata": {},
     "output_type": "display_data"
    }
   ],
   "source": [
    "#There are roughly 260 workdays in a year\n",
    "close_moving_avg = pd.rolling_mean(df.Close, 260)\n",
    "#Now we just plot it\n",
    "ax = df.Close.plot(color='steelblue')\n",
    "close_moving_avg.plot(label='Moving Average', color='green')\n",
    "ax.set_ylabel('Closing Price')\n",
    "ax.legend()"
   ]
  },
  {
   "cell_type": "markdown",
   "metadata": {},
   "source": [
    "# Getting rich quick.\n",
    "\n",
    "Okay, so I have a great scheme to get rich from trading. Every day I will purchase one share of stock and then sell it the next day. Great idea, right?\n",
    "\n",
    "We can do this easily by using the `diff()` function. All it does is take the difference between one value and the next (I'll look before 2014 too because of the stock split)."
   ]
  },
  {
   "cell_type": "code",
   "execution_count": 34,
   "metadata": {
    "collapsed": false
   },
   "outputs": [
    {
     "data": {
      "text/plain": [
       "<matplotlib.text.Text at 0x10afcf5c0>"
      ]
     },
     "execution_count": 34,
     "metadata": {},
     "output_type": "execute_result"
    },
    {
     "data": {
      "image/png": "[encoded data removed]",
      "text/plain": [
       "<matplotlib.figure.Figure at 0x10affd390>"
      ]
     },
     "metadata": {},
     "output_type": "display_data"
    }
   ],
   "source": [
    "df = df[(df.index < '2014')]\n",
    "ax = df['Close'].diff().plot(color = 'steelblue')\n",
    "ax.set_ylabel('Daily Return')"
   ]
  },
  {
   "cell_type": "code",
   "execution_count": 35,
   "metadata": {
    "collapsed": false
   },
   "outputs": [
    {
     "data": {
      "text/plain": [
       "-0.06385964691061798"
      ]
     },
     "execution_count": 35,
     "metadata": {},
     "output_type": "execute_result"
    }
   ],
   "source": [
    "df['Close'].diff().mean()"
   ]
  },
  {
   "cell_type": "markdown",
   "metadata": {
    "collapsed": true
   },
   "source": [
    "Great! So we can see now that there are variations in daily returns that are both positive and negative. On average, if we would have bought a single share of stock every day and sold it the next we would have lost 6 cents (well, excluding our transaction costs which would be approximately $116,704 not adjusted for inflation and assuming that current trading costs were the same as in the past).\n",
    "\n",
    "That's a great strategy to make money!"
   ]
  },
  {
   "cell_type": "markdown",
   "metadata": {},
   "source": [
    "# Exercises"
   ]
  },
  {
   "cell_type": "markdown",
   "metadata": {},
   "source": [
    "If I bought AAPL stock at the opening price on January 3, 1983 and sold it on December 2, 2002, how much money would I have made/lost?"
   ]
  },
  {
   "cell_type": "code",
   "execution_count": null,
   "metadata": {
    "collapsed": false
   },
   "outputs": [],
   "source": []
  },
  {
   "cell_type": "markdown",
   "metadata": {},
   "source": [
    "What was the average daily return of AAPL stock in 2013 (Use just the close price)?"
   ]
  },
  {
   "cell_type": "code",
   "execution_count": null,
   "metadata": {
    "collapsed": false
   },
   "outputs": [],
   "source": []
  },
  {
   "cell_type": "markdown",
   "metadata": {},
   "source": [
    "Convert the string date to a datetime object. Note that I have used the letter `a` to separate year, month, and day"
   ]
  },
  {
   "cell_type": "code",
   "execution_count": 36,
   "metadata": {
    "collapsed": true
   },
   "outputs": [],
   "source": [
    "stringdate = '2013a3a17'\n"
   ]
  },
  {
   "cell_type": "markdown",
   "metadata": {},
   "source": [
    "Convert the previous datetime object to a string that reads `Mar. 17, 2013`"
   ]
  },
  {
   "cell_type": "code",
   "execution_count": null,
   "metadata": {
    "collapsed": true
   },
   "outputs": [],
   "source": []
  },
  {
   "cell_type": "markdown",
   "metadata": {
    "collapsed": true
   },
   "source": [
    "That's it! You're a date master now!"
   ]
  },
  {
   "cell_type": "code",
   "execution_count": 37,
   "metadata": {
    "collapsed": false
   },
   "outputs": [
    {
     "data": {
      "text/html": [
       "<style>\n",
       "    @font-face {\n",
       "        font-family: \"Computer Modern\";\n",
       "        src: url('http://9dbb143991406a7c655e-aa5fcb0a5a4ec34cff238a2d56ca4144.r56.cf5.rackcdn.com/cmunss.otf');\n",
       "    }\n",
       "    @font-face {\n",
       "        font-family: \"Computer Modern\";\n",
       "        font-weight: bold;\n",
       "        src: url('http://9dbb143991406a7c655e-aa5fcb0a5a4ec34cff238a2d56ca4144.r56.cf5.rackcdn.com/cmunsx.otf');\n",
       "    }\n",
       "    @font-face {\n",
       "        font-family: \"Computer Modern\";\n",
       "        font-style: oblique;\n",
       "        src: url('http://9dbb143991406a7c655e-aa5fcb0a5a4ec34cff238a2d56ca4144.r56.cf5.rackcdn.com/cmunsi.otf');\n",
       "    }\n",
       "    @font-face {\n",
       "        font-family: \"Computer Modern\";\n",
       "        font-weight: bold;\n",
       "        font-style: oblique;\n",
       "        src: url('http://9dbb143991406a7c655e-aa5fcb0a5a4ec34cff238a2d56ca4144.r56.cf5.rackcdn.com/cmunso.otf');\n",
       "    }\n",
       "    div.cell{\n",
       "        width:800px;\n",
       "        /*margin-left:0% !important;*/\n",
       "        /*margin-left:auto;*/\n",
       "        /*margin-right:auto;*/\n",
       "    }\n",
       "    h1 {\n",
       "        font-family: Helvetica, serif;\n",
       "    }\n",
       "    h4{\n",
       "        margin-top:12px;\n",
       "        margin-bottom: 3px;\n",
       "       }\n",
       "    div.text_cell_render{\n",
       "        font-family: Computer Modern, \"Helvetica Neue\", Arial, Helvetica, Geneva, sans-serif;\n",
       "        line-height: 145%;\n",
       "        font-size: 130%;\n",
       "        width:800px;\n",
       "        margin-left:auto;\n",
       "        margin-right:auto;\n",
       "    }\n",
       "    .CodeMirror{\n",
       "            font-family: \"Source Code Pro\", source-code-pro,Consolas, monospace;\n",
       "    }\n",
       "    .text_cell_render h5 {\n",
       "        font-weight: 300;\n",
       "        font-size: 22pt;\n",
       "        color: #4057A1;\n",
       "        font-style: italic;\n",
       "        margin-bottom: .5em;\n",
       "        margin-top: 0.5em;\n",
       "        display: block;\n",
       "    }\n",
       "    \n",
       "    .warning{\n",
       "        color: rgb( 240, 20, 20 )\n",
       "        }  \n",
       "</style>\n",
       "<script>\n",
       "    MathJax.Hub.Config({\n",
       "                        TeX: {\n",
       "                           extensions: [\"AMSmath.js\"]\n",
       "                           },\n",
       "                tex2jax: {\n",
       "                    inlineMath: [ ['$','$'], [\"\\\\(\",\"\\\\)\"] ],\n",
       "                    displayMath: [ ['$$','$$'], [\"\\\\[\",\"\\\\]\"] ]\n",
       "                },\n",
       "                displayAlign: 'center', // Change this to 'center' to center equations.\n",
       "                \"HTML-CSS\": {\n",
       "                    styles: {'.MathJax_Display': {\"margin\": 4}}\n",
       "                }\n",
       "        });\n",
       "</script>\n"
      ],
      "text/plain": [
       "<IPython.core.display.HTML object>"
      ]
     },
     "execution_count": 37,
     "metadata": {},
     "output_type": "execute_result"
    }
   ],
   "source": [
    "from IPython.core.display import HTML\n",
    "from IPython.lib.display import YouTubeVideo\n",
    "\n",
    "\n",
    "def css_styling():\n",
    "    styles = open(\"../styles/custom.css\", \"r\").read()\n",
    "    return HTML(styles)\n",
    "css_styling()"
   ]
  }
 ],
 "metadata": {
  "kernelspec": {
   "display_name": "Python 3",
   "language": "python",
   "name": "python3"
  },
  "language_info": {
   "codemirror_mode": {
    "name": "ipython",
    "version": 3
   },
   "file_extension": ".py",
   "mimetype": "text/x-python",
   "name": "python",
   "nbconvert_exporter": "python",
   "pygments_lexer": "ipython3",
   "version": "3.4.3"
  }
 },
 "nbformat": 4,
 "nbformat_minor": 0
}
