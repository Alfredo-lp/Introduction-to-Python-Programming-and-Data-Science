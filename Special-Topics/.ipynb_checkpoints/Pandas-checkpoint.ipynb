{
 "cells": [
  {
   "cell_type": "markdown",
   "metadata": {},
   "source": [
    "# An Introduction to Pandas\n",
    "\n",
    "Pandas is a contraction for panel data, which is kind of an obtuse saying. A shorthand way of thinking about it is to think of it as dealing with a connected series of data, like a company's stock price over time or spreadsheet. \n",
    "\n",
    "Pandas can do a lot, so I find it easier to think of it as this for data:\n",
    "\n",
    "![party](http://cdn.protoolreviews.com/wp-content/uploads/ptr/4433.jpg)\n",
    "\n",
    "But first let's confront the ugly reality.\n",
    "\n",
    "## Pandas is not very pythonic\n",
    "\n",
    "Actually **using** Pandas and not just using it to read files can be conceptually difficult and is a bit of a mental switch. If you want to iterate over things, you can't use a `for` loop easily. Instead you'll need to use specific Pandas methods to do whatever functions you want. These little differences add up and can wear on you, which might make you want to stop using Pandas. That's a fine way to feel (you don't really *have* to use it), but there are some big benefits to using it.\n",
    "\n",
    "## Benefits of Pandas\n",
    "\n",
    "1. Pandas handles a lot of file IO drudgery for you. I'll show you this in a bit, but reading CSV files and accessing data in them is super simple\n",
    "2. Pandas has a lot of *magic* built into, automaticallly taking care of lots of type conversions after reading a file\n",
    "3. Using Pandas **is** like working with SQL. So learning Pandas means that you'll have a good idea of the underpinnings how SQL databases work (but the syntax is different).\n",
    "\n",
    "If you like using or want to continue using Pandas here is some recommended additional reading\n",
    "\n",
    "The Pandas tutorial pages http://pandas.pydata.org/pandas-docs/stable/tutorials.html\n",
    "\n",
    "10 minutes to Pandas http://pandas.pydata.org/pandas-docs/stable/10min.html"
   ]
  },
  {
   "cell_type": "code",
   "execution_count": 2,
   "metadata": {
    "collapsed": false
   },
   "outputs": [],
   "source": [
    "#We start with importing the packages\n",
    "import pandas as pd\n",
    "import numpy as np\n",
    "import matplotlib.pyplot as plt\n",
    "import matplotlib as mpl\n",
    "\n",
    "#We turn off the latex usage in matplotlib because LaTeX doesn't know\n",
    "#how to handle a '_' character without it being escaped with a backslash\n",
    "#Since we use '_' in column names typically this can be a bit of a problem\n",
    "#If we don't turn this off\n",
    "mpl.rc('text', usetex=False)"
   ]
  },
  {
   "cell_type": "code",
   "execution_count": 3,
   "metadata": {
    "collapsed": false
   },
   "outputs": [],
   "source": [
    "#This is an IPython \"magic\" to make sure that plots appear\n",
    "#directly in the notebook\n",
    "%matplotlib inline"
   ]
  },
  {
   "cell_type": "markdown",
   "metadata": {},
   "source": [
    "## Datastructures in Pandas\n",
    "\n",
    "First, let's show some of this automagic. Remember the CSV files that had the college major information? Remember how much work it was? I'll remind you, it looked like this:\n",
    "\n",
    "<img src=''></img>\n",
    "\n",
    "Let's load one of those files right now."
   ]
  },
  {
   "cell_type": "code",
   "execution_count": 4,
   "metadata": {
    "collapsed": false
   },
   "outputs": [
    {
     "data": {
      "text/html": [
       "<div>\n",
       "<table border=\"1\" class=\"dataframe\">\n",
       "  <thead>\n",
       "    <tr style=\"text-align: right;\">\n",
       "      <th></th>\n",
       "      <th>Rank</th>\n",
       "      <th>Major_code</th>\n",
       "      <th>Major</th>\n",
       "      <th>Major_category</th>\n",
       "      <th>Total</th>\n",
       "      <th>Sample_size</th>\n",
       "      <th>Men</th>\n",
       "      <th>Women</th>\n",
       "      <th>ShareWomen</th>\n",
       "      <th>Employed</th>\n",
       "      <th>...</th>\n",
       "      <th>Part_time</th>\n",
       "      <th>Full_time_year_round</th>\n",
       "      <th>Unemployed</th>\n",
       "      <th>Unemployment_rate</th>\n",
       "      <th>Median</th>\n",
       "      <th>P25th</th>\n",
       "      <th>P75th</th>\n",
       "      <th>College_jobs</th>\n",
       "      <th>Non_college_jobs</th>\n",
       "      <th>Low_wage_jobs</th>\n",
       "    </tr>\n",
       "  </thead>\n",
       "  <tbody>\n",
       "    <tr>\n",
       "      <th>0</th>\n",
       "      <td>33</td>\n",
       "      <td>6099</td>\n",
       "      <td>MISCELLANEOUS FINE ARTS</td>\n",
       "      <td>Arts</td>\n",
       "      <td>3340</td>\n",
       "      <td>30</td>\n",
       "      <td>1970</td>\n",
       "      <td>1370</td>\n",
       "      <td>0.410180</td>\n",
       "      <td>2914</td>\n",
       "      <td>...</td>\n",
       "      <td>1067</td>\n",
       "      <td>1200</td>\n",
       "      <td>286</td>\n",
       "      <td>0.089375</td>\n",
       "      <td>50000</td>\n",
       "      <td>25000</td>\n",
       "      <td>66000</td>\n",
       "      <td>693</td>\n",
       "      <td>1714</td>\n",
       "      <td>755</td>\n",
       "    </tr>\n",
       "    <tr>\n",
       "      <th>1</th>\n",
       "      <td>96</td>\n",
       "      <td>6004</td>\n",
       "      <td>COMMERCIAL ART AND GRAPHIC DESIGN</td>\n",
       "      <td>Arts</td>\n",
       "      <td>103480</td>\n",
       "      <td>1186</td>\n",
       "      <td>8617</td>\n",
       "      <td>5156</td>\n",
       "      <td>0.374356</td>\n",
       "      <td>83483</td>\n",
       "      <td>...</td>\n",
       "      <td>24387</td>\n",
       "      <td>52243</td>\n",
       "      <td>8947</td>\n",
       "      <td>0.096798</td>\n",
       "      <td>35000</td>\n",
       "      <td>25000</td>\n",
       "      <td>45000</td>\n",
       "      <td>37389</td>\n",
       "      <td>38119</td>\n",
       "      <td>14839</td>\n",
       "    </tr>\n",
       "    <tr>\n",
       "      <th>2</th>\n",
       "      <td>142</td>\n",
       "      <td>6005</td>\n",
       "      <td>FILM VIDEO AND PHOTOGRAPHIC ARTS</td>\n",
       "      <td>Arts</td>\n",
       "      <td>38761</td>\n",
       "      <td>331</td>\n",
       "      <td>22339</td>\n",
       "      <td>49030</td>\n",
       "      <td>0.686993</td>\n",
       "      <td>31433</td>\n",
       "      <td>...</td>\n",
       "      <td>12818</td>\n",
       "      <td>15740</td>\n",
       "      <td>3718</td>\n",
       "      <td>0.105772</td>\n",
       "      <td>32000</td>\n",
       "      <td>22000</td>\n",
       "      <td>42000</td>\n",
       "      <td>7368</td>\n",
       "      <td>20721</td>\n",
       "      <td>5862</td>\n",
       "    </tr>\n",
       "    <tr>\n",
       "      <th>3</th>\n",
       "      <td>147</td>\n",
       "      <td>6002</td>\n",
       "      <td>MUSIC</td>\n",
       "      <td>Arts</td>\n",
       "      <td>60633</td>\n",
       "      <td>419</td>\n",
       "      <td>15670</td>\n",
       "      <td>12543</td>\n",
       "      <td>0.444582</td>\n",
       "      <td>47662</td>\n",
       "      <td>...</td>\n",
       "      <td>24943</td>\n",
       "      <td>21425</td>\n",
       "      <td>3918</td>\n",
       "      <td>0.075960</td>\n",
       "      <td>31000</td>\n",
       "      <td>22300</td>\n",
       "      <td>42000</td>\n",
       "      <td>13752</td>\n",
       "      <td>28786</td>\n",
       "      <td>9286</td>\n",
       "    </tr>\n",
       "    <tr>\n",
       "      <th>4</th>\n",
       "      <td>150</td>\n",
       "      <td>6000</td>\n",
       "      <td>FINE ARTS</td>\n",
       "      <td>Arts</td>\n",
       "      <td>74440</td>\n",
       "      <td>623</td>\n",
       "      <td>24786</td>\n",
       "      <td>49654</td>\n",
       "      <td>0.667034</td>\n",
       "      <td>59679</td>\n",
       "      <td>...</td>\n",
       "      <td>23656</td>\n",
       "      <td>31877</td>\n",
       "      <td>5486</td>\n",
       "      <td>0.084186</td>\n",
       "      <td>30500</td>\n",
       "      <td>21000</td>\n",
       "      <td>41000</td>\n",
       "      <td>20792</td>\n",
       "      <td>32725</td>\n",
       "      <td>11880</td>\n",
       "    </tr>\n",
       "    <tr>\n",
       "      <th>5</th>\n",
       "      <td>154</td>\n",
       "      <td>6003</td>\n",
       "      <td>VISUAL AND PERFORMING ARTS</td>\n",
       "      <td>Arts</td>\n",
       "      <td>16250</td>\n",
       "      <td>132</td>\n",
       "      <td>2013</td>\n",
       "      <td>4639</td>\n",
       "      <td>0.697384</td>\n",
       "      <td>12870</td>\n",
       "      <td>...</td>\n",
       "      <td>6253</td>\n",
       "      <td>6322</td>\n",
       "      <td>1465</td>\n",
       "      <td>0.102197</td>\n",
       "      <td>30000</td>\n",
       "      <td>22000</td>\n",
       "      <td>40000</td>\n",
       "      <td>3849</td>\n",
       "      <td>7635</td>\n",
       "      <td>2840</td>\n",
       "    </tr>\n",
       "    <tr>\n",
       "      <th>6</th>\n",
       "      <td>160</td>\n",
       "      <td>6007</td>\n",
       "      <td>STUDIO ARTS</td>\n",
       "      <td>Arts</td>\n",
       "      <td>16977</td>\n",
       "      <td>182</td>\n",
       "      <td>4364</td>\n",
       "      <td>6146</td>\n",
       "      <td>0.584776</td>\n",
       "      <td>13908</td>\n",
       "      <td>...</td>\n",
       "      <td>5673</td>\n",
       "      <td>7413</td>\n",
       "      <td>1368</td>\n",
       "      <td>0.089552</td>\n",
       "      <td>29000</td>\n",
       "      <td>19200</td>\n",
       "      <td>38300</td>\n",
       "      <td>3948</td>\n",
       "      <td>8707</td>\n",
       "      <td>3586</td>\n",
       "    </tr>\n",
       "    <tr>\n",
       "      <th>7</th>\n",
       "      <td>167</td>\n",
       "      <td>6001</td>\n",
       "      <td>DRAMA AND THEATER ARTS</td>\n",
       "      <td>Arts</td>\n",
       "      <td>43249</td>\n",
       "      <td>357</td>\n",
       "      <td>7022</td>\n",
       "      <td>11931</td>\n",
       "      <td>0.629505</td>\n",
       "      <td>36165</td>\n",
       "      <td>...</td>\n",
       "      <td>15994</td>\n",
       "      <td>16891</td>\n",
       "      <td>3040</td>\n",
       "      <td>0.077541</td>\n",
       "      <td>27000</td>\n",
       "      <td>19200</td>\n",
       "      <td>35000</td>\n",
       "      <td>6994</td>\n",
       "      <td>25313</td>\n",
       "      <td>11068</td>\n",
       "    </tr>\n",
       "  </tbody>\n",
       "</table>\n",
       "<p>8 rows × 21 columns</p>\n",
       "</div>"
      ],
      "text/plain": [
       "   Rank  Major_code                              Major Major_category   Total  \\\n",
       "0    33        6099            MISCELLANEOUS FINE ARTS           Arts    3340   \n",
       "1    96        6004  COMMERCIAL ART AND GRAPHIC DESIGN           Arts  103480   \n",
       "2   142        6005   FILM VIDEO AND PHOTOGRAPHIC ARTS           Arts   38761   \n",
       "3   147        6002                              MUSIC           Arts   60633   \n",
       "4   150        6000                          FINE ARTS           Arts   74440   \n",
       "5   154        6003         VISUAL AND PERFORMING ARTS           Arts   16250   \n",
       "6   160        6007                        STUDIO ARTS           Arts   16977   \n",
       "7   167        6001             DRAMA AND THEATER ARTS           Arts   43249   \n",
       "\n",
       "   Sample_size    Men  Women  ShareWomen  Employed      ...        Part_time  \\\n",
       "0           30   1970   1370    0.410180      2914      ...             1067   \n",
       "1         1186   8617   5156    0.374356     83483      ...            24387   \n",
       "2          331  22339  49030    0.686993     31433      ...            12818   \n",
       "3          419  15670  12543    0.444582     47662      ...            24943   \n",
       "4          623  24786  49654    0.667034     59679      ...            23656   \n",
       "5          132   2013   4639    0.697384     12870      ...             6253   \n",
       "6          182   4364   6146    0.584776     13908      ...             5673   \n",
       "7          357   7022  11931    0.629505     36165      ...            15994   \n",
       "\n",
       "   Full_time_year_round  Unemployed  Unemployment_rate  Median  P25th  P75th  \\\n",
       "0                  1200         286           0.089375   50000  25000  66000   \n",
       "1                 52243        8947           0.096798   35000  25000  45000   \n",
       "2                 15740        3718           0.105772   32000  22000  42000   \n",
       "3                 21425        3918           0.075960   31000  22300  42000   \n",
       "4                 31877        5486           0.084186   30500  21000  41000   \n",
       "5                  6322        1465           0.102197   30000  22000  40000   \n",
       "6                  7413        1368           0.089552   29000  19200  38300   \n",
       "7                 16891        3040           0.077541   27000  19200  35000   \n",
       "\n",
       "   College_jobs  Non_college_jobs  Low_wage_jobs  \n",
       "0           693              1714            755  \n",
       "1         37389             38119          14839  \n",
       "2          7368             20721           5862  \n",
       "3         13752             28786           9286  \n",
       "4         20792             32725          11880  \n",
       "5          3849              7635           2840  \n",
       "6          3948              8707           3586  \n",
       "7          6994             25313          11068  \n",
       "\n",
       "[8 rows x 21 columns]"
      ]
     },
     "execution_count": 4,
     "metadata": {},
     "output_type": "execute_result"
    }
   ],
   "source": [
    "pd.read_csv('../Data/College-Majors/recent_Arts.csv')"
   ]
  },
  {
   "cell_type": "markdown",
   "metadata": {
    "collapsed": false
   },
   "source": [
    "When Pandas reads in a CSV it turns it into its own data structure called a Dataframe. This Dataframe is actually a Python class, you can think of it as just a type of *object*. Our data is inside this *object* and it controls how we can interact with it (so you can see the first difference between this and regular programming).\n",
    "\n",
    "\n",
    "(The nice formatting that makes it look like an Excel spreadsheet is provided by IPython Notebook!)\n",
    "\n",
    "Now, let's actually load this CSV into a variable so we can explore it."
   ]
  },
  {
   "cell_type": "code",
   "execution_count": 5,
   "metadata": {
    "collapsed": true
   },
   "outputs": [],
   "source": [
    "df = pd.read_csv('../Data/College-Majors/recent_Arts.csv')"
   ]
  },
  {
   "cell_type": "markdown",
   "metadata": {},
   "source": [
    "## The basics of a dataframe\n",
    "\n",
    "A dataframe has two basic ways to access values inside of it.\n",
    "\n",
    "The **columns** run across the **top**\n",
    "\n",
    "The **indices** run down the **left**\n",
    "\n",
    "We can get see the variables by calling them by name from the dataframe"
   ]
  },
  {
   "cell_type": "code",
   "execution_count": 6,
   "metadata": {
    "collapsed": false
   },
   "outputs": [
    {
     "name": "stdout",
     "output_type": "stream",
     "text": [
      "Index(['Rank', 'Major_code', 'Major', 'Major_category', 'Total', 'Sample_size',\n",
      "       'Men', 'Women', 'ShareWomen', 'Employed', 'Full_time', 'Part_time',\n",
      "       'Full_time_year_round', 'Unemployed', 'Unemployment_rate', 'Median',\n",
      "       'P25th', 'P75th', 'College_jobs', 'Non_college_jobs', 'Low_wage_jobs'],\n",
      "      dtype='object')\n",
      "\n",
      "Int64Index([0, 1, 2, 3, 4, 5, 6, 7], dtype='int64')\n"
     ]
    }
   ],
   "source": [
    "#The columns are the labels across the top\n",
    "print( df.columns ) \n",
    "print()\n",
    "\n",
    "#The indexes run down the side\n",
    "print( df.index )"
   ]
  },
  {
   "cell_type": "markdown",
   "metadata": {},
   "source": [
    "## Accessing Data in Pandas\n",
    "\n",
    "Pandas supports two methodologies to access data that is stored in a column. The first is  just by typing the name of the column after the variable name"
   ]
  },
  {
   "cell_type": "code",
   "execution_count": 7,
   "metadata": {
    "collapsed": false
   },
   "outputs": [
    {
     "data": {
      "text/plain": [
       "0    6099\n",
       "1    6004\n",
       "2    6005\n",
       "3    6002\n",
       "4    6000\n",
       "5    6003\n",
       "6    6007\n",
       "7    6001\n",
       "Name: Major_code, dtype: int64"
      ]
     },
     "execution_count": 7,
     "metadata": {},
     "output_type": "execute_result"
    }
   ],
   "source": [
    "#We can access a column with the . notation shown here\n",
    "df.Major_code"
   ]
  },
  {
   "cell_type": "markdown",
   "metadata": {},
   "source": [
    "The other way is similar to accessing the values of a key in a dictionary"
   ]
  },
  {
   "cell_type": "code",
   "execution_count": 8,
   "metadata": {
    "collapsed": false
   },
   "outputs": [
    {
     "data": {
      "text/plain": [
       "0    6099\n",
       "1    6004\n",
       "2    6005\n",
       "3    6002\n",
       "4    6000\n",
       "5    6003\n",
       "6    6007\n",
       "7    6001\n",
       "Name: Major_code, dtype: int64"
      ]
     },
     "execution_count": 8,
     "metadata": {},
     "output_type": "execute_result"
    }
   ],
   "source": [
    "#Or we can access a column of data like we access the value of a key in a dictionary\n",
    "df['Major_code']"
   ]
  },
  {
   "cell_type": "markdown",
   "metadata": {},
   "source": [
    "With the indices, we can slice just like it was a list and get rows."
   ]
  },
  {
   "cell_type": "code",
   "execution_count": 9,
   "metadata": {
    "collapsed": false
   },
   "outputs": [
    {
     "data": {
      "text/html": [
       "<div>\n",
       "<table border=\"1\" class=\"dataframe\">\n",
       "  <thead>\n",
       "    <tr style=\"text-align: right;\">\n",
       "      <th></th>\n",
       "      <th>Rank</th>\n",
       "      <th>Major_code</th>\n",
       "      <th>Major</th>\n",
       "      <th>Major_category</th>\n",
       "      <th>Total</th>\n",
       "      <th>Sample_size</th>\n",
       "      <th>Men</th>\n",
       "      <th>Women</th>\n",
       "      <th>ShareWomen</th>\n",
       "      <th>Employed</th>\n",
       "      <th>...</th>\n",
       "      <th>Part_time</th>\n",
       "      <th>Full_time_year_round</th>\n",
       "      <th>Unemployed</th>\n",
       "      <th>Unemployment_rate</th>\n",
       "      <th>Median</th>\n",
       "      <th>P25th</th>\n",
       "      <th>P75th</th>\n",
       "      <th>College_jobs</th>\n",
       "      <th>Non_college_jobs</th>\n",
       "      <th>Low_wage_jobs</th>\n",
       "    </tr>\n",
       "  </thead>\n",
       "  <tbody>\n",
       "    <tr>\n",
       "      <th>0</th>\n",
       "      <td>33</td>\n",
       "      <td>6099</td>\n",
       "      <td>MISCELLANEOUS FINE ARTS</td>\n",
       "      <td>Arts</td>\n",
       "      <td>3340</td>\n",
       "      <td>30</td>\n",
       "      <td>1970</td>\n",
       "      <td>1370</td>\n",
       "      <td>0.410180</td>\n",
       "      <td>2914</td>\n",
       "      <td>...</td>\n",
       "      <td>1067</td>\n",
       "      <td>1200</td>\n",
       "      <td>286</td>\n",
       "      <td>0.089375</td>\n",
       "      <td>50000</td>\n",
       "      <td>25000</td>\n",
       "      <td>66000</td>\n",
       "      <td>693</td>\n",
       "      <td>1714</td>\n",
       "      <td>755</td>\n",
       "    </tr>\n",
       "    <tr>\n",
       "      <th>1</th>\n",
       "      <td>96</td>\n",
       "      <td>6004</td>\n",
       "      <td>COMMERCIAL ART AND GRAPHIC DESIGN</td>\n",
       "      <td>Arts</td>\n",
       "      <td>103480</td>\n",
       "      <td>1186</td>\n",
       "      <td>8617</td>\n",
       "      <td>5156</td>\n",
       "      <td>0.374356</td>\n",
       "      <td>83483</td>\n",
       "      <td>...</td>\n",
       "      <td>24387</td>\n",
       "      <td>52243</td>\n",
       "      <td>8947</td>\n",
       "      <td>0.096798</td>\n",
       "      <td>35000</td>\n",
       "      <td>25000</td>\n",
       "      <td>45000</td>\n",
       "      <td>37389</td>\n",
       "      <td>38119</td>\n",
       "      <td>14839</td>\n",
       "    </tr>\n",
       "  </tbody>\n",
       "</table>\n",
       "<p>2 rows × 21 columns</p>\n",
       "</div>"
      ],
      "text/plain": [
       "   Rank  Major_code                              Major Major_category   Total  \\\n",
       "0    33        6099            MISCELLANEOUS FINE ARTS           Arts    3340   \n",
       "1    96        6004  COMMERCIAL ART AND GRAPHIC DESIGN           Arts  103480   \n",
       "\n",
       "   Sample_size   Men  Women  ShareWomen  Employed      ...        Part_time  \\\n",
       "0           30  1970   1370    0.410180      2914      ...             1067   \n",
       "1         1186  8617   5156    0.374356     83483      ...            24387   \n",
       "\n",
       "   Full_time_year_round  Unemployed  Unemployment_rate  Median  P25th  P75th  \\\n",
       "0                  1200         286           0.089375   50000  25000  66000   \n",
       "1                 52243        8947           0.096798   35000  25000  45000   \n",
       "\n",
       "   College_jobs  Non_college_jobs  Low_wage_jobs  \n",
       "0           693              1714            755  \n",
       "1         37389             38119          14839  \n",
       "\n",
       "[2 rows x 21 columns]"
      ]
     },
     "execution_count": 9,
     "metadata": {},
     "output_type": "execute_result"
    }
   ],
   "source": [
    "#We can slice like in a list, and we'll get those columns \n",
    "#Notice how the row indexes are numeric and that's what we slice on\n",
    "df[0:2]"
   ]
  },
  {
   "cell_type": "markdown",
   "metadata": {},
   "source": [
    "Notice how we have these ways of accessing:\n",
    "\n",
    "* Accessing like a dictionary is a column\n",
    "* Accessing like a list is the index\n",
    "\n",
    "and accessing a column name after a dot is something that we can do because the data is wrapped in the Dataframe class.\n",
    "\n",
    "However, these direct methods of accessing can be a bit limiting. For this reason Pandas has three additional methods built in to *slice* a dataframe and return specific rows."
   ]
  },
  {
   "cell_type": "markdown",
   "metadata": {},
   "source": [
    "## Slicing in Pandas\n",
    "\n",
    "Pandas has 3 methods besides to direct access to slice/index data\n",
    "\n",
    "* .iloc is integer based and works on the index\n",
    "* .loc is strictly label based\n",
    "\n",
    "To distinguish these concepts I'm going to sort the matrix so that the index labels are **not** in the same order as their position."
   ]
  },
  {
   "cell_type": "code",
   "execution_count": 10,
   "metadata": {
    "collapsed": false
   },
   "outputs": [
    {
     "data": {
      "text/html": [
       "<div>\n",
       "<table border=\"1\" class=\"dataframe\">\n",
       "  <thead>\n",
       "    <tr style=\"text-align: right;\">\n",
       "      <th></th>\n",
       "      <th>Rank</th>\n",
       "      <th>Major_code</th>\n",
       "      <th>Major</th>\n",
       "      <th>Major_category</th>\n",
       "      <th>Total</th>\n",
       "      <th>Sample_size</th>\n",
       "      <th>Men</th>\n",
       "      <th>Women</th>\n",
       "      <th>ShareWomen</th>\n",
       "      <th>Employed</th>\n",
       "      <th>...</th>\n",
       "      <th>Part_time</th>\n",
       "      <th>Full_time_year_round</th>\n",
       "      <th>Unemployed</th>\n",
       "      <th>Unemployment_rate</th>\n",
       "      <th>Median</th>\n",
       "      <th>P25th</th>\n",
       "      <th>P75th</th>\n",
       "      <th>College_jobs</th>\n",
       "      <th>Non_college_jobs</th>\n",
       "      <th>Low_wage_jobs</th>\n",
       "    </tr>\n",
       "  </thead>\n",
       "  <tbody>\n",
       "    <tr>\n",
       "      <th>0</th>\n",
       "      <td>33</td>\n",
       "      <td>6099</td>\n",
       "      <td>MISCELLANEOUS FINE ARTS</td>\n",
       "      <td>Arts</td>\n",
       "      <td>3340</td>\n",
       "      <td>30</td>\n",
       "      <td>1970</td>\n",
       "      <td>1370</td>\n",
       "      <td>0.410180</td>\n",
       "      <td>2914</td>\n",
       "      <td>...</td>\n",
       "      <td>1067</td>\n",
       "      <td>1200</td>\n",
       "      <td>286</td>\n",
       "      <td>0.089375</td>\n",
       "      <td>50000</td>\n",
       "      <td>25000</td>\n",
       "      <td>66000</td>\n",
       "      <td>693</td>\n",
       "      <td>1714</td>\n",
       "      <td>755</td>\n",
       "    </tr>\n",
       "    <tr>\n",
       "      <th>5</th>\n",
       "      <td>154</td>\n",
       "      <td>6003</td>\n",
       "      <td>VISUAL AND PERFORMING ARTS</td>\n",
       "      <td>Arts</td>\n",
       "      <td>16250</td>\n",
       "      <td>132</td>\n",
       "      <td>2013</td>\n",
       "      <td>4639</td>\n",
       "      <td>0.697384</td>\n",
       "      <td>12870</td>\n",
       "      <td>...</td>\n",
       "      <td>6253</td>\n",
       "      <td>6322</td>\n",
       "      <td>1465</td>\n",
       "      <td>0.102197</td>\n",
       "      <td>30000</td>\n",
       "      <td>22000</td>\n",
       "      <td>40000</td>\n",
       "      <td>3849</td>\n",
       "      <td>7635</td>\n",
       "      <td>2840</td>\n",
       "    </tr>\n",
       "    <tr>\n",
       "      <th>6</th>\n",
       "      <td>160</td>\n",
       "      <td>6007</td>\n",
       "      <td>STUDIO ARTS</td>\n",
       "      <td>Arts</td>\n",
       "      <td>16977</td>\n",
       "      <td>182</td>\n",
       "      <td>4364</td>\n",
       "      <td>6146</td>\n",
       "      <td>0.584776</td>\n",
       "      <td>13908</td>\n",
       "      <td>...</td>\n",
       "      <td>5673</td>\n",
       "      <td>7413</td>\n",
       "      <td>1368</td>\n",
       "      <td>0.089552</td>\n",
       "      <td>29000</td>\n",
       "      <td>19200</td>\n",
       "      <td>38300</td>\n",
       "      <td>3948</td>\n",
       "      <td>8707</td>\n",
       "      <td>3586</td>\n",
       "    </tr>\n",
       "    <tr>\n",
       "      <th>2</th>\n",
       "      <td>142</td>\n",
       "      <td>6005</td>\n",
       "      <td>FILM VIDEO AND PHOTOGRAPHIC ARTS</td>\n",
       "      <td>Arts</td>\n",
       "      <td>38761</td>\n",
       "      <td>331</td>\n",
       "      <td>22339</td>\n",
       "      <td>49030</td>\n",
       "      <td>0.686993</td>\n",
       "      <td>31433</td>\n",
       "      <td>...</td>\n",
       "      <td>12818</td>\n",
       "      <td>15740</td>\n",
       "      <td>3718</td>\n",
       "      <td>0.105772</td>\n",
       "      <td>32000</td>\n",
       "      <td>22000</td>\n",
       "      <td>42000</td>\n",
       "      <td>7368</td>\n",
       "      <td>20721</td>\n",
       "      <td>5862</td>\n",
       "    </tr>\n",
       "    <tr>\n",
       "      <th>7</th>\n",
       "      <td>167</td>\n",
       "      <td>6001</td>\n",
       "      <td>DRAMA AND THEATER ARTS</td>\n",
       "      <td>Arts</td>\n",
       "      <td>43249</td>\n",
       "      <td>357</td>\n",
       "      <td>7022</td>\n",
       "      <td>11931</td>\n",
       "      <td>0.629505</td>\n",
       "      <td>36165</td>\n",
       "      <td>...</td>\n",
       "      <td>15994</td>\n",
       "      <td>16891</td>\n",
       "      <td>3040</td>\n",
       "      <td>0.077541</td>\n",
       "      <td>27000</td>\n",
       "      <td>19200</td>\n",
       "      <td>35000</td>\n",
       "      <td>6994</td>\n",
       "      <td>25313</td>\n",
       "      <td>11068</td>\n",
       "    </tr>\n",
       "    <tr>\n",
       "      <th>3</th>\n",
       "      <td>147</td>\n",
       "      <td>6002</td>\n",
       "      <td>MUSIC</td>\n",
       "      <td>Arts</td>\n",
       "      <td>60633</td>\n",
       "      <td>419</td>\n",
       "      <td>15670</td>\n",
       "      <td>12543</td>\n",
       "      <td>0.444582</td>\n",
       "      <td>47662</td>\n",
       "      <td>...</td>\n",
       "      <td>24943</td>\n",
       "      <td>21425</td>\n",
       "      <td>3918</td>\n",
       "      <td>0.075960</td>\n",
       "      <td>31000</td>\n",
       "      <td>22300</td>\n",
       "      <td>42000</td>\n",
       "      <td>13752</td>\n",
       "      <td>28786</td>\n",
       "      <td>9286</td>\n",
       "    </tr>\n",
       "    <tr>\n",
       "      <th>4</th>\n",
       "      <td>150</td>\n",
       "      <td>6000</td>\n",
       "      <td>FINE ARTS</td>\n",
       "      <td>Arts</td>\n",
       "      <td>74440</td>\n",
       "      <td>623</td>\n",
       "      <td>24786</td>\n",
       "      <td>49654</td>\n",
       "      <td>0.667034</td>\n",
       "      <td>59679</td>\n",
       "      <td>...</td>\n",
       "      <td>23656</td>\n",
       "      <td>31877</td>\n",
       "      <td>5486</td>\n",
       "      <td>0.084186</td>\n",
       "      <td>30500</td>\n",
       "      <td>21000</td>\n",
       "      <td>41000</td>\n",
       "      <td>20792</td>\n",
       "      <td>32725</td>\n",
       "      <td>11880</td>\n",
       "    </tr>\n",
       "    <tr>\n",
       "      <th>1</th>\n",
       "      <td>96</td>\n",
       "      <td>6004</td>\n",
       "      <td>COMMERCIAL ART AND GRAPHIC DESIGN</td>\n",
       "      <td>Arts</td>\n",
       "      <td>103480</td>\n",
       "      <td>1186</td>\n",
       "      <td>8617</td>\n",
       "      <td>5156</td>\n",
       "      <td>0.374356</td>\n",
       "      <td>83483</td>\n",
       "      <td>...</td>\n",
       "      <td>24387</td>\n",
       "      <td>52243</td>\n",
       "      <td>8947</td>\n",
       "      <td>0.096798</td>\n",
       "      <td>35000</td>\n",
       "      <td>25000</td>\n",
       "      <td>45000</td>\n",
       "      <td>37389</td>\n",
       "      <td>38119</td>\n",
       "      <td>14839</td>\n",
       "    </tr>\n",
       "  </tbody>\n",
       "</table>\n",
       "<p>8 rows × 21 columns</p>\n",
       "</div>"
      ],
      "text/plain": [
       "   Rank  Major_code                              Major Major_category   Total  \\\n",
       "0    33        6099            MISCELLANEOUS FINE ARTS           Arts    3340   \n",
       "5   154        6003         VISUAL AND PERFORMING ARTS           Arts   16250   \n",
       "6   160        6007                        STUDIO ARTS           Arts   16977   \n",
       "2   142        6005   FILM VIDEO AND PHOTOGRAPHIC ARTS           Arts   38761   \n",
       "7   167        6001             DRAMA AND THEATER ARTS           Arts   43249   \n",
       "3   147        6002                              MUSIC           Arts   60633   \n",
       "4   150        6000                          FINE ARTS           Arts   74440   \n",
       "1    96        6004  COMMERCIAL ART AND GRAPHIC DESIGN           Arts  103480   \n",
       "\n",
       "   Sample_size    Men  Women  ShareWomen  Employed      ...        Part_time  \\\n",
       "0           30   1970   1370    0.410180      2914      ...             1067   \n",
       "5          132   2013   4639    0.697384     12870      ...             6253   \n",
       "6          182   4364   6146    0.584776     13908      ...             5673   \n",
       "2          331  22339  49030    0.686993     31433      ...            12818   \n",
       "7          357   7022  11931    0.629505     36165      ...            15994   \n",
       "3          419  15670  12543    0.444582     47662      ...            24943   \n",
       "4          623  24786  49654    0.667034     59679      ...            23656   \n",
       "1         1186   8617   5156    0.374356     83483      ...            24387   \n",
       "\n",
       "   Full_time_year_round  Unemployed  Unemployment_rate  Median  P25th  P75th  \\\n",
       "0                  1200         286           0.089375   50000  25000  66000   \n",
       "5                  6322        1465           0.102197   30000  22000  40000   \n",
       "6                  7413        1368           0.089552   29000  19200  38300   \n",
       "2                 15740        3718           0.105772   32000  22000  42000   \n",
       "7                 16891        3040           0.077541   27000  19200  35000   \n",
       "3                 21425        3918           0.075960   31000  22300  42000   \n",
       "4                 31877        5486           0.084186   30500  21000  41000   \n",
       "1                 52243        8947           0.096798   35000  25000  45000   \n",
       "\n",
       "   College_jobs  Non_college_jobs  Low_wage_jobs  \n",
       "0           693              1714            755  \n",
       "5          3849              7635           2840  \n",
       "6          3948              8707           3586  \n",
       "2          7368             20721           5862  \n",
       "7          6994             25313          11068  \n",
       "3         13752             28786           9286  \n",
       "4         20792             32725          11880  \n",
       "1         37389             38119          14839  \n",
       "\n",
       "[8 rows x 21 columns]"
      ]
     },
     "execution_count": 10,
     "metadata": {},
     "output_type": "execute_result"
    }
   ],
   "source": [
    "#We can sort by a single column\n",
    "sdf = df.sort('Total')\n",
    "sdf"
   ]
  },
  {
   "cell_type": "markdown",
   "metadata": {},
   "source": [
    "When we use the iloc method on sdf we get the first row in the dataframe\n",
    "Check it out in comparison to above"
   ]
  },
  {
   "cell_type": "code",
   "execution_count": 11,
   "metadata": {
    "collapsed": false
   },
   "outputs": [
    {
     "data": {
      "text/plain": [
       "Rank                                         33\n",
       "Major_code                                 6099\n",
       "Major                   MISCELLANEOUS FINE ARTS\n",
       "Major_category                             Arts\n",
       "Total                                      3340\n",
       "Sample_size                                  30\n",
       "Men                                        1970\n",
       "Women                                      1370\n",
       "ShareWomen                            0.4101796\n",
       "Employed                                   2914\n",
       "Full_time                                  2049\n",
       "Part_time                                  1067\n",
       "Full_time_year_round                       1200\n",
       "Unemployed                                  286\n",
       "Unemployment_rate                      0.089375\n",
       "Median                                    50000\n",
       "P25th                                     25000\n",
       "P75th                                     66000\n",
       "College_jobs                                693\n",
       "Non_college_jobs                           1714\n",
       "Low_wage_jobs                               755\n",
       "Name: 0, dtype: object"
      ]
     },
     "execution_count": 11,
     "metadata": {},
     "output_type": "execute_result"
    }
   ],
   "source": [
    "sdf.iloc[0]"
   ]
  },
  {
   "cell_type": "markdown",
   "metadata": {},
   "source": [
    "This works the same as if we were indexing the dataframe, but the difference is that when we index, we can't access just a single row. It requiress that we give a range."
   ]
  },
  {
   "cell_type": "code",
   "execution_count": 12,
   "metadata": {
    "collapsed": false
   },
   "outputs": [
    {
     "data": {
      "text/html": [
       "<div>\n",
       "<table border=\"1\" class=\"dataframe\">\n",
       "  <thead>\n",
       "    <tr style=\"text-align: right;\">\n",
       "      <th></th>\n",
       "      <th>Rank</th>\n",
       "      <th>Major_code</th>\n",
       "      <th>Major</th>\n",
       "      <th>Major_category</th>\n",
       "      <th>Total</th>\n",
       "      <th>Sample_size</th>\n",
       "      <th>Men</th>\n",
       "      <th>Women</th>\n",
       "      <th>ShareWomen</th>\n",
       "      <th>Employed</th>\n",
       "      <th>...</th>\n",
       "      <th>Part_time</th>\n",
       "      <th>Full_time_year_round</th>\n",
       "      <th>Unemployed</th>\n",
       "      <th>Unemployment_rate</th>\n",
       "      <th>Median</th>\n",
       "      <th>P25th</th>\n",
       "      <th>P75th</th>\n",
       "      <th>College_jobs</th>\n",
       "      <th>Non_college_jobs</th>\n",
       "      <th>Low_wage_jobs</th>\n",
       "    </tr>\n",
       "  </thead>\n",
       "  <tbody>\n",
       "    <tr>\n",
       "      <th>0</th>\n",
       "      <td>33</td>\n",
       "      <td>6099</td>\n",
       "      <td>MISCELLANEOUS FINE ARTS</td>\n",
       "      <td>Arts</td>\n",
       "      <td>3340</td>\n",
       "      <td>30</td>\n",
       "      <td>1970</td>\n",
       "      <td>1370</td>\n",
       "      <td>0.41018</td>\n",
       "      <td>2914</td>\n",
       "      <td>...</td>\n",
       "      <td>1067</td>\n",
       "      <td>1200</td>\n",
       "      <td>286</td>\n",
       "      <td>0.089375</td>\n",
       "      <td>50000</td>\n",
       "      <td>25000</td>\n",
       "      <td>66000</td>\n",
       "      <td>693</td>\n",
       "      <td>1714</td>\n",
       "      <td>755</td>\n",
       "    </tr>\n",
       "  </tbody>\n",
       "</table>\n",
       "<p>1 rows × 21 columns</p>\n",
       "</div>"
      ],
      "text/plain": [
       "   Rank  Major_code                    Major Major_category  Total  \\\n",
       "0    33        6099  MISCELLANEOUS FINE ARTS           Arts   3340   \n",
       "\n",
       "   Sample_size   Men  Women  ShareWomen  Employed      ...        Part_time  \\\n",
       "0           30  1970   1370     0.41018      2914      ...             1067   \n",
       "\n",
       "   Full_time_year_round  Unemployed  Unemployment_rate  Median  P25th  P75th  \\\n",
       "0                  1200         286           0.089375   50000  25000  66000   \n",
       "\n",
       "   College_jobs  Non_college_jobs  Low_wage_jobs  \n",
       "0           693              1714            755  \n",
       "\n",
       "[1 rows x 21 columns]"
      ]
     },
     "execution_count": 12,
     "metadata": {},
     "output_type": "execute_result"
    }
   ],
   "source": [
    "sdf[0:1]"
   ]
  },
  {
   "cell_type": "markdown",
   "metadata": {},
   "source": [
    "The iloc method can handle a slice and it will return the same number of rows, in the same positions just like when we slice."
   ]
  },
  {
   "cell_type": "code",
   "execution_count": 13,
   "metadata": {
    "collapsed": false
   },
   "outputs": [
    {
     "data": {
      "text/html": [
       "<div>\n",
       "<table border=\"1\" class=\"dataframe\">\n",
       "  <thead>\n",
       "    <tr style=\"text-align: right;\">\n",
       "      <th></th>\n",
       "      <th>Rank</th>\n",
       "      <th>Major_code</th>\n",
       "      <th>Major</th>\n",
       "      <th>Major_category</th>\n",
       "      <th>Total</th>\n",
       "      <th>Sample_size</th>\n",
       "      <th>Men</th>\n",
       "      <th>Women</th>\n",
       "      <th>ShareWomen</th>\n",
       "      <th>Employed</th>\n",
       "      <th>...</th>\n",
       "      <th>Part_time</th>\n",
       "      <th>Full_time_year_round</th>\n",
       "      <th>Unemployed</th>\n",
       "      <th>Unemployment_rate</th>\n",
       "      <th>Median</th>\n",
       "      <th>P25th</th>\n",
       "      <th>P75th</th>\n",
       "      <th>College_jobs</th>\n",
       "      <th>Non_college_jobs</th>\n",
       "      <th>Low_wage_jobs</th>\n",
       "    </tr>\n",
       "  </thead>\n",
       "  <tbody>\n",
       "    <tr>\n",
       "      <th>0</th>\n",
       "      <td>33</td>\n",
       "      <td>6099</td>\n",
       "      <td>MISCELLANEOUS FINE ARTS</td>\n",
       "      <td>Arts</td>\n",
       "      <td>3340</td>\n",
       "      <td>30</td>\n",
       "      <td>1970</td>\n",
       "      <td>1370</td>\n",
       "      <td>0.410180</td>\n",
       "      <td>2914</td>\n",
       "      <td>...</td>\n",
       "      <td>1067</td>\n",
       "      <td>1200</td>\n",
       "      <td>286</td>\n",
       "      <td>0.089375</td>\n",
       "      <td>50000</td>\n",
       "      <td>25000</td>\n",
       "      <td>66000</td>\n",
       "      <td>693</td>\n",
       "      <td>1714</td>\n",
       "      <td>755</td>\n",
       "    </tr>\n",
       "    <tr>\n",
       "      <th>5</th>\n",
       "      <td>154</td>\n",
       "      <td>6003</td>\n",
       "      <td>VISUAL AND PERFORMING ARTS</td>\n",
       "      <td>Arts</td>\n",
       "      <td>16250</td>\n",
       "      <td>132</td>\n",
       "      <td>2013</td>\n",
       "      <td>4639</td>\n",
       "      <td>0.697384</td>\n",
       "      <td>12870</td>\n",
       "      <td>...</td>\n",
       "      <td>6253</td>\n",
       "      <td>6322</td>\n",
       "      <td>1465</td>\n",
       "      <td>0.102197</td>\n",
       "      <td>30000</td>\n",
       "      <td>22000</td>\n",
       "      <td>40000</td>\n",
       "      <td>3849</td>\n",
       "      <td>7635</td>\n",
       "      <td>2840</td>\n",
       "    </tr>\n",
       "    <tr>\n",
       "      <th>6</th>\n",
       "      <td>160</td>\n",
       "      <td>6007</td>\n",
       "      <td>STUDIO ARTS</td>\n",
       "      <td>Arts</td>\n",
       "      <td>16977</td>\n",
       "      <td>182</td>\n",
       "      <td>4364</td>\n",
       "      <td>6146</td>\n",
       "      <td>0.584776</td>\n",
       "      <td>13908</td>\n",
       "      <td>...</td>\n",
       "      <td>5673</td>\n",
       "      <td>7413</td>\n",
       "      <td>1368</td>\n",
       "      <td>0.089552</td>\n",
       "      <td>29000</td>\n",
       "      <td>19200</td>\n",
       "      <td>38300</td>\n",
       "      <td>3948</td>\n",
       "      <td>8707</td>\n",
       "      <td>3586</td>\n",
       "    </tr>\n",
       "  </tbody>\n",
       "</table>\n",
       "<p>3 rows × 21 columns</p>\n",
       "</div>"
      ],
      "text/plain": [
       "   Rank  Major_code                       Major Major_category  Total  \\\n",
       "0    33        6099     MISCELLANEOUS FINE ARTS           Arts   3340   \n",
       "5   154        6003  VISUAL AND PERFORMING ARTS           Arts  16250   \n",
       "6   160        6007                 STUDIO ARTS           Arts  16977   \n",
       "\n",
       "   Sample_size   Men  Women  ShareWomen  Employed      ...        Part_time  \\\n",
       "0           30  1970   1370    0.410180      2914      ...             1067   \n",
       "5          132  2013   4639    0.697384     12870      ...             6253   \n",
       "6          182  4364   6146    0.584776     13908      ...             5673   \n",
       "\n",
       "   Full_time_year_round  Unemployed  Unemployment_rate  Median  P25th  P75th  \\\n",
       "0                  1200         286           0.089375   50000  25000  66000   \n",
       "5                  6322        1465           0.102197   30000  22000  40000   \n",
       "6                  7413        1368           0.089552   29000  19200  38300   \n",
       "\n",
       "   College_jobs  Non_college_jobs  Low_wage_jobs  \n",
       "0           693              1714            755  \n",
       "5          3849              7635           2840  \n",
       "6          3948              8707           3586  \n",
       "\n",
       "[3 rows x 21 columns]"
      ]
     },
     "execution_count": 13,
     "metadata": {},
     "output_type": "execute_result"
    }
   ],
   "source": [
    "sdf.iloc[0:3]"
   ]
  },
  {
   "cell_type": "markdown",
   "metadata": {},
   "source": [
    "Now the **big** difference between direct slicing on the dataframe and using the iloc method is that we can actually slice **both columns and rows**.\n",
    "\n",
    "When we access both columns and rows the syntax is:\n",
    "\n",
    "`dataframe.iloc[row_slice, column_slice]`"
   ]
  },
  {
   "cell_type": "code",
   "execution_count": 14,
   "metadata": {
    "collapsed": false
   },
   "outputs": [
    {
     "data": {
      "text/html": [
       "<div>\n",
       "<table border=\"1\" class=\"dataframe\">\n",
       "  <thead>\n",
       "    <tr style=\"text-align: right;\">\n",
       "      <th></th>\n",
       "      <th>Rank</th>\n",
       "      <th>Major_code</th>\n",
       "      <th>Major</th>\n",
       "    </tr>\n",
       "  </thead>\n",
       "  <tbody>\n",
       "    <tr>\n",
       "      <th>0</th>\n",
       "      <td>33</td>\n",
       "      <td>6099</td>\n",
       "      <td>MISCELLANEOUS FINE ARTS</td>\n",
       "    </tr>\n",
       "    <tr>\n",
       "      <th>5</th>\n",
       "      <td>154</td>\n",
       "      <td>6003</td>\n",
       "      <td>VISUAL AND PERFORMING ARTS</td>\n",
       "    </tr>\n",
       "    <tr>\n",
       "      <th>6</th>\n",
       "      <td>160</td>\n",
       "      <td>6007</td>\n",
       "      <td>STUDIO ARTS</td>\n",
       "    </tr>\n",
       "  </tbody>\n",
       "</table>\n",
       "</div>"
      ],
      "text/plain": [
       "   Rank  Major_code                       Major\n",
       "0    33        6099     MISCELLANEOUS FINE ARTS\n",
       "5   154        6003  VISUAL AND PERFORMING ARTS\n",
       "6   160        6007                 STUDIO ARTS"
      ]
     },
     "execution_count": 14,
     "metadata": {},
     "output_type": "execute_result"
    }
   ],
   "source": [
    "sdf.iloc[0:3, 0:3]"
   ]
  },
  {
   "cell_type": "markdown",
   "metadata": {},
   "source": [
    "If we want **all** of the rows but only some of the columns we can do that too. We just need to give it an empty slice in the row column."
   ]
  },
  {
   "cell_type": "code",
   "execution_count": 15,
   "metadata": {
    "collapsed": false
   },
   "outputs": [
    {
     "data": {
      "text/html": [
       "<div>\n",
       "<table border=\"1\" class=\"dataframe\">\n",
       "  <thead>\n",
       "    <tr style=\"text-align: right;\">\n",
       "      <th></th>\n",
       "      <th>Rank</th>\n",
       "      <th>Major_code</th>\n",
       "    </tr>\n",
       "  </thead>\n",
       "  <tbody>\n",
       "    <tr>\n",
       "      <th>0</th>\n",
       "      <td>33</td>\n",
       "      <td>6099</td>\n",
       "    </tr>\n",
       "    <tr>\n",
       "      <th>5</th>\n",
       "      <td>154</td>\n",
       "      <td>6003</td>\n",
       "    </tr>\n",
       "    <tr>\n",
       "      <th>6</th>\n",
       "      <td>160</td>\n",
       "      <td>6007</td>\n",
       "    </tr>\n",
       "    <tr>\n",
       "      <th>2</th>\n",
       "      <td>142</td>\n",
       "      <td>6005</td>\n",
       "    </tr>\n",
       "    <tr>\n",
       "      <th>7</th>\n",
       "      <td>167</td>\n",
       "      <td>6001</td>\n",
       "    </tr>\n",
       "    <tr>\n",
       "      <th>3</th>\n",
       "      <td>147</td>\n",
       "      <td>6002</td>\n",
       "    </tr>\n",
       "    <tr>\n",
       "      <th>4</th>\n",
       "      <td>150</td>\n",
       "      <td>6000</td>\n",
       "    </tr>\n",
       "    <tr>\n",
       "      <th>1</th>\n",
       "      <td>96</td>\n",
       "      <td>6004</td>\n",
       "    </tr>\n",
       "  </tbody>\n",
       "</table>\n",
       "</div>"
      ],
      "text/plain": [
       "   Rank  Major_code\n",
       "0    33        6099\n",
       "5   154        6003\n",
       "6   160        6007\n",
       "2   142        6005\n",
       "7   167        6001\n",
       "3   147        6002\n",
       "4   150        6000\n",
       "1    96        6004"
      ]
     },
     "execution_count": 15,
     "metadata": {},
     "output_type": "execute_result"
    }
   ],
   "source": [
    "sdf.iloc[:, 0:2]"
   ]
  },
  {
   "cell_type": "markdown",
   "metadata": {},
   "source": [
    "And that is the `iloc` method, it allows us to slice a dataframe using integer-based labels given the order of the dataframe.\n",
    "\n",
    "So now let's move on and see the differences that occur when we access rows by their index label using the `loc` function."
   ]
  },
  {
   "cell_type": "code",
   "execution_count": 16,
   "metadata": {
    "collapsed": false
   },
   "outputs": [
    {
     "data": {
      "text/plain": [
       "Rank                            160\n",
       "Major_code                     6007\n",
       "Major                   STUDIO ARTS\n",
       "Major_category                 Arts\n",
       "Total                         16977\n",
       "Sample_size                     182\n",
       "Men                            4364\n",
       "Women                          6146\n",
       "ShareWomen                0.5847764\n",
       "Employed                      13908\n",
       "Full_time                     10451\n",
       "Part_time                      5673\n",
       "Full_time_year_round           7413\n",
       "Unemployed                     1368\n",
       "Unemployment_rate        0.08955224\n",
       "Median                        29000\n",
       "P25th                         19200\n",
       "P75th                         38300\n",
       "College_jobs                   3948\n",
       "Non_college_jobs               8707\n",
       "Low_wage_jobs                  3586\n",
       "Name: 6, dtype: object"
      ]
     },
     "execution_count": 16,
     "metadata": {},
     "output_type": "execute_result"
    }
   ],
   "source": [
    "sdf.loc[6]"
   ]
  },
  {
   "cell_type": "markdown",
   "metadata": {},
   "source": [
    "When we use the loc method, it looks for the row labeled '6'. Notice how this was the third line in the dataframe (as printed above in order). So the `loc` method retrieves rows based on thier index label, which does not need to be their position in the Dataframe!\n",
    "\n",
    "This allows us to also access columns using just their names which is really convenient."
   ]
  },
  {
   "cell_type": "code",
   "execution_count": 17,
   "metadata": {
    "collapsed": false
   },
   "outputs": [
    {
     "data": {
      "text/plain": [
       "Major_code                                    6005\n",
       "Major             FILM VIDEO AND PHOTOGRAPHIC ARTS\n",
       "Major_category                                Arts\n",
       "Name: 2, dtype: object"
      ]
     },
     "execution_count": 17,
     "metadata": {},
     "output_type": "execute_result"
    }
   ],
   "source": [
    "#We can also use the loc method with an index label and column labels\n",
    "#Note how we can slice on columns also! But we can only slice across labels\n",
    "sdf.loc[2, 'Major_code':'Major_category']"
   ]
  },
  {
   "cell_type": "markdown",
   "metadata": {
    "collapsed": false
   },
   "source": [
    "We can access all the rows, but only some of the columns similarly as with `loc`, just give a `:` for the rows and then the columns"
   ]
  },
  {
   "cell_type": "code",
   "execution_count": 18,
   "metadata": {
    "collapsed": false
   },
   "outputs": [
    {
     "data": {
      "text/html": [
       "<div>\n",
       "<table border=\"1\" class=\"dataframe\">\n",
       "  <thead>\n",
       "    <tr style=\"text-align: right;\">\n",
       "      <th></th>\n",
       "      <th>Major_code</th>\n",
       "      <th>Major</th>\n",
       "      <th>Major_category</th>\n",
       "    </tr>\n",
       "  </thead>\n",
       "  <tbody>\n",
       "    <tr>\n",
       "      <th>0</th>\n",
       "      <td>6099</td>\n",
       "      <td>MISCELLANEOUS FINE ARTS</td>\n",
       "      <td>Arts</td>\n",
       "    </tr>\n",
       "    <tr>\n",
       "      <th>5</th>\n",
       "      <td>6003</td>\n",
       "      <td>VISUAL AND PERFORMING ARTS</td>\n",
       "      <td>Arts</td>\n",
       "    </tr>\n",
       "    <tr>\n",
       "      <th>6</th>\n",
       "      <td>6007</td>\n",
       "      <td>STUDIO ARTS</td>\n",
       "      <td>Arts</td>\n",
       "    </tr>\n",
       "    <tr>\n",
       "      <th>2</th>\n",
       "      <td>6005</td>\n",
       "      <td>FILM VIDEO AND PHOTOGRAPHIC ARTS</td>\n",
       "      <td>Arts</td>\n",
       "    </tr>\n",
       "    <tr>\n",
       "      <th>7</th>\n",
       "      <td>6001</td>\n",
       "      <td>DRAMA AND THEATER ARTS</td>\n",
       "      <td>Arts</td>\n",
       "    </tr>\n",
       "    <tr>\n",
       "      <th>3</th>\n",
       "      <td>6002</td>\n",
       "      <td>MUSIC</td>\n",
       "      <td>Arts</td>\n",
       "    </tr>\n",
       "    <tr>\n",
       "      <th>4</th>\n",
       "      <td>6000</td>\n",
       "      <td>FINE ARTS</td>\n",
       "      <td>Arts</td>\n",
       "    </tr>\n",
       "    <tr>\n",
       "      <th>1</th>\n",
       "      <td>6004</td>\n",
       "      <td>COMMERCIAL ART AND GRAPHIC DESIGN</td>\n",
       "      <td>Arts</td>\n",
       "    </tr>\n",
       "  </tbody>\n",
       "</table>\n",
       "</div>"
      ],
      "text/plain": [
       "   Major_code                              Major Major_category\n",
       "0        6099            MISCELLANEOUS FINE ARTS           Arts\n",
       "5        6003         VISUAL AND PERFORMING ARTS           Arts\n",
       "6        6007                        STUDIO ARTS           Arts\n",
       "2        6005   FILM VIDEO AND PHOTOGRAPHIC ARTS           Arts\n",
       "7        6001             DRAMA AND THEATER ARTS           Arts\n",
       "3        6002                              MUSIC           Arts\n",
       "4        6000                          FINE ARTS           Arts\n",
       "1        6004  COMMERCIAL ART AND GRAPHIC DESIGN           Arts"
      ]
     },
     "execution_count": 18,
     "metadata": {},
     "output_type": "execute_result"
    }
   ],
   "source": [
    "sdf.loc[:, 'Major_code':'Major_category']"
   ]
  },
  {
   "cell_type": "markdown",
   "metadata": {
    "collapsed": false
   },
   "source": [
    "#Series: Pandas other data type\n",
    "\n",
    "You may have noticed that when we selected only one row or column, it printed differently than when we print the dataframe. That's because a dataframe is for 2-dimensional data (meaning that it has multiple rows and columns). When we have 1-dimensional data that is a Pandas series.\n",
    "\n",
    "The same methods work on a series as a dataframe, the only difference is that it only has one column which will be without a label. I'll demonstrate by creating and indexing a series right now"
   ]
  },
  {
   "cell_type": "code",
   "execution_count": 19,
   "metadata": {
    "collapsed": false
   },
   "outputs": [
    {
     "data": {
      "text/plain": [
       "Rank                                         33\n",
       "Major_code                                 6099\n",
       "Major                   MISCELLANEOUS FINE ARTS\n",
       "Major_category                             Arts\n",
       "Total                                      3340\n",
       "Sample_size                                  30\n",
       "Men                                        1970\n",
       "Women                                      1370\n",
       "ShareWomen                            0.4101796\n",
       "Employed                                   2914\n",
       "Full_time                                  2049\n",
       "Part_time                                  1067\n",
       "Full_time_year_round                       1200\n",
       "Unemployed                                  286\n",
       "Unemployment_rate                      0.089375\n",
       "Median                                    50000\n",
       "P25th                                     25000\n",
       "P75th                                     66000\n",
       "College_jobs                                693\n",
       "Non_college_jobs                           1714\n",
       "Low_wage_jobs                               755\n",
       "Name: 0, dtype: object"
      ]
     },
     "execution_count": 19,
     "metadata": {},
     "output_type": "execute_result"
    }
   ],
   "source": [
    "tseries = sdf.loc[0]\n",
    "tseries"
   ]
  },
  {
   "cell_type": "code",
   "execution_count": 20,
   "metadata": {
    "collapsed": false
   },
   "outputs": [
    {
     "data": {
      "text/plain": [
       "Rank            33\n",
       "Major_code    6099\n",
       "Name: 0, dtype: object"
      ]
     },
     "execution_count": 20,
     "metadata": {},
     "output_type": "execute_result"
    }
   ],
   "source": [
    "#A series is indexed just like a list\n",
    "tseries[0:2]"
   ]
  },
  {
   "cell_type": "code",
   "execution_count": 21,
   "metadata": {
    "collapsed": false
   },
   "outputs": [
    {
     "data": {
      "text/plain": [
       "Major_code                           6099\n",
       "Major             MISCELLANEOUS FINE ARTS\n",
       "Major_category                       Arts\n",
       "Name: 0, dtype: object"
      ]
     },
     "execution_count": 21,
     "metadata": {},
     "output_type": "execute_result"
    }
   ],
   "source": [
    "#But it can also be indexed by its row labels\n",
    "tseries['Major_code':'Major_category']"
   ]
  },
  {
   "cell_type": "code",
   "execution_count": 22,
   "metadata": {
    "collapsed": false
   },
   "outputs": [
    {
     "data": {
      "text/plain": [
       "33"
      ]
     },
     "execution_count": 22,
     "metadata": {},
     "output_type": "execute_result"
    }
   ],
   "source": [
    "#We can use the iloc method, but now it returns a single value\n",
    "tseries.iloc[0]"
   ]
  },
  {
   "cell_type": "code",
   "execution_count": 23,
   "metadata": {
    "collapsed": false
   },
   "outputs": [
    {
     "data": {
      "text/plain": [
       "'Arts'"
      ]
     },
     "execution_count": 23,
     "metadata": {},
     "output_type": "execute_result"
    }
   ],
   "source": [
    "#Or the loc method, which also returns a single value\n",
    "tseries.loc['Major_category']"
   ]
  },
  {
   "cell_type": "markdown",
   "metadata": {},
   "source": [
    "## Now let's go over the benefits of using Pandas\n",
    "\n",
    "The first one is a lifesaver. Pandas can read excel files! Now you don't need to open a workbook in Excel and save it to a CSV everytime someone sends one to you!\n",
    "\n",
    "When we read an Excel spreadsheet we have to say what sheet we want to use in the file. You can use either the sheetname (if it has one) or just give it the index of the sheet."
   ]
  },
  {
   "cell_type": "code",
   "execution_count": 24,
   "metadata": {
    "collapsed": false
   },
   "outputs": [
    {
     "data": {
      "text/html": [
       "<div>\n",
       "<table border=\"1\" class=\"dataframe\">\n",
       "  <thead>\n",
       "    <tr style=\"text-align: right;\">\n",
       "      <th></th>\n",
       "      <th>Rank</th>\n",
       "      <th>Major_code</th>\n",
       "      <th>Major</th>\n",
       "      <th>Major_category</th>\n",
       "      <th>Total</th>\n",
       "      <th>Sample_size</th>\n",
       "      <th>Men</th>\n",
       "      <th>Women</th>\n",
       "      <th>ShareWomen</th>\n",
       "      <th>Employed</th>\n",
       "      <th>...</th>\n",
       "      <th>Part_time</th>\n",
       "      <th>Full_time_year_round</th>\n",
       "      <th>Unemployed</th>\n",
       "      <th>Unemployment_rate</th>\n",
       "      <th>Median</th>\n",
       "      <th>P25th</th>\n",
       "      <th>P75th</th>\n",
       "      <th>College_jobs</th>\n",
       "      <th>Non_college_jobs</th>\n",
       "      <th>Low_wage_jobs</th>\n",
       "    </tr>\n",
       "  </thead>\n",
       "  <tbody>\n",
       "    <tr>\n",
       "      <th>0</th>\n",
       "      <td>33</td>\n",
       "      <td>6099</td>\n",
       "      <td>MISCELLANEOUS FINE ARTS</td>\n",
       "      <td>Arts</td>\n",
       "      <td>3340</td>\n",
       "      <td>30</td>\n",
       "      <td>1970</td>\n",
       "      <td>1370</td>\n",
       "      <td>0.410180</td>\n",
       "      <td>2914</td>\n",
       "      <td>...</td>\n",
       "      <td>1067</td>\n",
       "      <td>1200</td>\n",
       "      <td>286</td>\n",
       "      <td>0.089375</td>\n",
       "      <td>50000</td>\n",
       "      <td>25000</td>\n",
       "      <td>66000</td>\n",
       "      <td>693</td>\n",
       "      <td>1714</td>\n",
       "      <td>755</td>\n",
       "    </tr>\n",
       "    <tr>\n",
       "      <th>1</th>\n",
       "      <td>96</td>\n",
       "      <td>6004</td>\n",
       "      <td>COMMERCIAL ART AND GRAPHIC DESIGN</td>\n",
       "      <td>Arts</td>\n",
       "      <td>103480</td>\n",
       "      <td>1186</td>\n",
       "      <td>8617</td>\n",
       "      <td>5156</td>\n",
       "      <td>0.374356</td>\n",
       "      <td>83483</td>\n",
       "      <td>...</td>\n",
       "      <td>24387</td>\n",
       "      <td>52243</td>\n",
       "      <td>8947</td>\n",
       "      <td>0.096798</td>\n",
       "      <td>35000</td>\n",
       "      <td>25000</td>\n",
       "      <td>45000</td>\n",
       "      <td>37389</td>\n",
       "      <td>38119</td>\n",
       "      <td>14839</td>\n",
       "    </tr>\n",
       "    <tr>\n",
       "      <th>2</th>\n",
       "      <td>142</td>\n",
       "      <td>6005</td>\n",
       "      <td>FILM VIDEO AND PHOTOGRAPHIC ARTS</td>\n",
       "      <td>Arts</td>\n",
       "      <td>38761</td>\n",
       "      <td>331</td>\n",
       "      <td>22339</td>\n",
       "      <td>49030</td>\n",
       "      <td>0.686993</td>\n",
       "      <td>31433</td>\n",
       "      <td>...</td>\n",
       "      <td>12818</td>\n",
       "      <td>15740</td>\n",
       "      <td>3718</td>\n",
       "      <td>0.105772</td>\n",
       "      <td>32000</td>\n",
       "      <td>22000</td>\n",
       "      <td>42000</td>\n",
       "      <td>7368</td>\n",
       "      <td>20721</td>\n",
       "      <td>5862</td>\n",
       "    </tr>\n",
       "    <tr>\n",
       "      <th>3</th>\n",
       "      <td>147</td>\n",
       "      <td>6002</td>\n",
       "      <td>MUSIC</td>\n",
       "      <td>Arts</td>\n",
       "      <td>60633</td>\n",
       "      <td>419</td>\n",
       "      <td>15670</td>\n",
       "      <td>12543</td>\n",
       "      <td>0.444582</td>\n",
       "      <td>47662</td>\n",
       "      <td>...</td>\n",
       "      <td>24943</td>\n",
       "      <td>21425</td>\n",
       "      <td>3918</td>\n",
       "      <td>0.075960</td>\n",
       "      <td>31000</td>\n",
       "      <td>22300</td>\n",
       "      <td>42000</td>\n",
       "      <td>13752</td>\n",
       "      <td>28786</td>\n",
       "      <td>9286</td>\n",
       "    </tr>\n",
       "    <tr>\n",
       "      <th>4</th>\n",
       "      <td>150</td>\n",
       "      <td>6000</td>\n",
       "      <td>FINE ARTS</td>\n",
       "      <td>Arts</td>\n",
       "      <td>74440</td>\n",
       "      <td>623</td>\n",
       "      <td>24786</td>\n",
       "      <td>49654</td>\n",
       "      <td>0.667034</td>\n",
       "      <td>59679</td>\n",
       "      <td>...</td>\n",
       "      <td>23656</td>\n",
       "      <td>31877</td>\n",
       "      <td>5486</td>\n",
       "      <td>0.084186</td>\n",
       "      <td>30500</td>\n",
       "      <td>21000</td>\n",
       "      <td>41000</td>\n",
       "      <td>20792</td>\n",
       "      <td>32725</td>\n",
       "      <td>11880</td>\n",
       "    </tr>\n",
       "    <tr>\n",
       "      <th>5</th>\n",
       "      <td>154</td>\n",
       "      <td>6003</td>\n",
       "      <td>VISUAL AND PERFORMING ARTS</td>\n",
       "      <td>Arts</td>\n",
       "      <td>16250</td>\n",
       "      <td>132</td>\n",
       "      <td>2013</td>\n",
       "      <td>4639</td>\n",
       "      <td>0.697384</td>\n",
       "      <td>12870</td>\n",
       "      <td>...</td>\n",
       "      <td>6253</td>\n",
       "      <td>6322</td>\n",
       "      <td>1465</td>\n",
       "      <td>0.102197</td>\n",
       "      <td>30000</td>\n",
       "      <td>22000</td>\n",
       "      <td>40000</td>\n",
       "      <td>3849</td>\n",
       "      <td>7635</td>\n",
       "      <td>2840</td>\n",
       "    </tr>\n",
       "    <tr>\n",
       "      <th>6</th>\n",
       "      <td>160</td>\n",
       "      <td>6007</td>\n",
       "      <td>STUDIO ARTS</td>\n",
       "      <td>Arts</td>\n",
       "      <td>16977</td>\n",
       "      <td>182</td>\n",
       "      <td>4364</td>\n",
       "      <td>6146</td>\n",
       "      <td>0.584776</td>\n",
       "      <td>13908</td>\n",
       "      <td>...</td>\n",
       "      <td>5673</td>\n",
       "      <td>7413</td>\n",
       "      <td>1368</td>\n",
       "      <td>0.089552</td>\n",
       "      <td>29000</td>\n",
       "      <td>19200</td>\n",
       "      <td>38300</td>\n",
       "      <td>3948</td>\n",
       "      <td>8707</td>\n",
       "      <td>3586</td>\n",
       "    </tr>\n",
       "    <tr>\n",
       "      <th>7</th>\n",
       "      <td>167</td>\n",
       "      <td>6001</td>\n",
       "      <td>DRAMA AND THEATER ARTS</td>\n",
       "      <td>Arts</td>\n",
       "      <td>43249</td>\n",
       "      <td>357</td>\n",
       "      <td>7022</td>\n",
       "      <td>11931</td>\n",
       "      <td>0.629505</td>\n",
       "      <td>36165</td>\n",
       "      <td>...</td>\n",
       "      <td>15994</td>\n",
       "      <td>16891</td>\n",
       "      <td>3040</td>\n",
       "      <td>0.077541</td>\n",
       "      <td>27000</td>\n",
       "      <td>19200</td>\n",
       "      <td>35000</td>\n",
       "      <td>6994</td>\n",
       "      <td>25313</td>\n",
       "      <td>11068</td>\n",
       "    </tr>\n",
       "  </tbody>\n",
       "</table>\n",
       "<p>8 rows × 21 columns</p>\n",
       "</div>"
      ],
      "text/plain": [
       "   Rank  Major_code                              Major Major_category   Total  \\\n",
       "0    33        6099            MISCELLANEOUS FINE ARTS           Arts    3340   \n",
       "1    96        6004  COMMERCIAL ART AND GRAPHIC DESIGN           Arts  103480   \n",
       "2   142        6005   FILM VIDEO AND PHOTOGRAPHIC ARTS           Arts   38761   \n",
       "3   147        6002                              MUSIC           Arts   60633   \n",
       "4   150        6000                          FINE ARTS           Arts   74440   \n",
       "5   154        6003         VISUAL AND PERFORMING ARTS           Arts   16250   \n",
       "6   160        6007                        STUDIO ARTS           Arts   16977   \n",
       "7   167        6001             DRAMA AND THEATER ARTS           Arts   43249   \n",
       "\n",
       "   Sample_size    Men  Women  ShareWomen  Employed      ...        Part_time  \\\n",
       "0           30   1970   1370    0.410180      2914      ...             1067   \n",
       "1         1186   8617   5156    0.374356     83483      ...            24387   \n",
       "2          331  22339  49030    0.686993     31433      ...            12818   \n",
       "3          419  15670  12543    0.444582     47662      ...            24943   \n",
       "4          623  24786  49654    0.667034     59679      ...            23656   \n",
       "5          132   2013   4639    0.697384     12870      ...             6253   \n",
       "6          182   4364   6146    0.584776     13908      ...             5673   \n",
       "7          357   7022  11931    0.629505     36165      ...            15994   \n",
       "\n",
       "   Full_time_year_round  Unemployed  Unemployment_rate  Median  P25th  P75th  \\\n",
       "0                  1200         286           0.089375   50000  25000  66000   \n",
       "1                 52243        8947           0.096798   35000  25000  45000   \n",
       "2                 15740        3718           0.105772   32000  22000  42000   \n",
       "3                 21425        3918           0.075960   31000  22300  42000   \n",
       "4                 31877        5486           0.084186   30500  21000  41000   \n",
       "5                  6322        1465           0.102197   30000  22000  40000   \n",
       "6                  7413        1368           0.089552   29000  19200  38300   \n",
       "7                 16891        3040           0.077541   27000  19200  35000   \n",
       "\n",
       "   College_jobs  Non_college_jobs  Low_wage_jobs  \n",
       "0           693              1714            755  \n",
       "1         37389             38119          14839  \n",
       "2          7368             20721           5862  \n",
       "3         13752             28786           9286  \n",
       "4         20792             32725          11880  \n",
       "5          3849              7635           2840  \n",
       "6          3948              8707           3586  \n",
       "7          6994             25313          11068  \n",
       "\n",
       "[8 rows x 21 columns]"
      ]
     },
     "execution_count": 24,
     "metadata": {},
     "output_type": "execute_result"
    }
   ],
   "source": [
    "excel_df = pd.read_excel('../Data/College-Majors/recent_Arts.xlsx', sheet=0)\n",
    "excel_df"
   ]
  },
  {
   "cell_type": "markdown",
   "metadata": {},
   "source": [
    "Pandas can actually read/write a large number of file formats. This is the full list:\n",
    "\n",
    "        read_csv\n",
    "        read_excel\n",
    "        read_hdf\n",
    "        read_sql\n",
    "        read_json\n",
    "        read_msgpack (experimental)\n",
    "        read_html\n",
    "        read_gbq (experimental)\n",
    "        read_stata\n",
    "        read_clipboard\n",
    "        read_pickle\n",
    "\n",
    "But really the only two you'll probably ever use are Excel and CSV."
   ]
  },
  {
   "cell_type": "markdown",
   "metadata": {},
   "source": [
    "### Visualization\n",
    "\n",
    "Pandas helps you quickly explore and manipulate data as you learn about your dataset basics. One quick benefit is the built-in plotting directly from the dataframe.\n",
    "\n",
    "Let's say that we wanted to make a plot that examined the difference between the majors in terms of the raw employment numbers."
   ]
  },
  {
   "cell_type": "code",
   "execution_count": 25,
   "metadata": {
    "collapsed": false
   },
   "outputs": [
    {
     "data": {
      "text/plain": [
       "<matplotlib.axes._subplots.AxesSubplot at 0x10a799c50>"
      ]
     },
     "execution_count": 25,
     "metadata": {},
     "output_type": "execute_result"
    },
    {
     "name": "stderr",
     "output_type": "stream",
     "text": [
      "/Users/adampah/.pyenv/versions/anaconda3-2.3.0/lib/python3.4/site-packages/matplotlib/font_manager.py:1282: UserWarning: findfont: Font family ['sans-serif'] not found. Falling back to Bitstream Vera Sans\n",
      "  (prop.get_family(), self.defaultFamily[fontext]))\n"
     ]
    },
    {
     "data": {
      "image/png": "[encoded data removed]",
      "text/plain": [
       "<matplotlib.figure.Figure at 0x10a799f98>"
      ]
     },
     "metadata": {},
     "output_type": "display_data"
    }
   ],
   "source": [
    "df['Employed'].plot()"
   ]
  },
  {
   "cell_type": "markdown",
   "metadata": {},
   "source": [
    "It's ugly! But that was quick!\n",
    "\n",
    "But let's actually think about this for a moment because something magical just happened and we all probably took it for granted.\n",
    "\n",
    "### We just plotted numeric data from the file that I read in with a single command.\n",
    "\n",
    "### When did I change the type of that data to be an integer so that we could plot it??\n",
    "\n",
    "That's right, when we load data with Pandas it automagically converted the 'Employed' column data to integers. In fact, Pandas does this with all of the columns and when it does this it picks the **least** expansive data type that **accommodates all the data in the column**.\n",
    "\n",
    "We can check this, so the `Unemployed` column should be integers also."
   ]
  },
  {
   "cell_type": "code",
   "execution_count": 26,
   "metadata": {
    "collapsed": false
   },
   "outputs": [
    {
     "data": {
      "text/plain": [
       "0     286\n",
       "1    8947\n",
       "2    3718\n",
       "3    3918\n",
       "4    5486\n",
       "5    1465\n",
       "6    1368\n",
       "7    3040\n",
       "Name: Unemployed, dtype: int64"
      ]
     },
     "execution_count": 26,
     "metadata": {},
     "output_type": "execute_result"
    }
   ],
   "source": [
    "df['Unemployed']"
   ]
  },
  {
   "cell_type": "markdown",
   "metadata": {},
   "source": [
    "And that means that the `ShareWomen` column should be floats."
   ]
  },
  {
   "cell_type": "code",
   "execution_count": 27,
   "metadata": {
    "collapsed": false
   },
   "outputs": [
    {
     "data": {
      "text/plain": [
       "0    0.410180\n",
       "1    0.374356\n",
       "2    0.686993\n",
       "3    0.444582\n",
       "4    0.667034\n",
       "5    0.697384\n",
       "6    0.584776\n",
       "7    0.629505\n",
       "Name: ShareWomen, dtype: float64"
      ]
     },
     "execution_count": 27,
     "metadata": {},
     "output_type": "execute_result"
    }
   ],
   "source": [
    "df['ShareWomen']"
   ]
  },
  {
   "cell_type": "markdown",
   "metadata": {},
   "source": [
    "Something to be aware of though, is that if we had a single string in that column of data **none of it would be converted**. All of the read values would be strings because any number can represented as a string, just as text data can."
   ]
  },
  {
   "cell_type": "markdown",
   "metadata": {},
   "source": [
    "Now, we should really change the plot type so that it displays the data as a bar."
   ]
  },
  {
   "cell_type": "code",
   "execution_count": 28,
   "metadata": {
    "collapsed": false
   },
   "outputs": [
    {
     "data": {
      "text/plain": [
       "<matplotlib.axes._subplots.AxesSubplot at 0x10a808438>"
      ]
     },
     "execution_count": 28,
     "metadata": {},
     "output_type": "execute_result"
    },
    {
     "data": {
      "image/png": "[encoded data removed]",
      "text/plain": [
       "<matplotlib.figure.Figure at 0x10a8161d0>"
      ]
     },
     "metadata": {},
     "output_type": "display_data"
    }
   ],
   "source": [
    "df['Employed'].plot(kind='bar')"
   ]
  },
  {
   "cell_type": "markdown",
   "metadata": {},
   "source": [
    "Ah! That's a little bit better!\n",
    "\n",
    "But we should never have a graph without a y-label! To change labels we'll need to operate on the matplotlib graph. Whenever we call a `plot()` off of a dataframe it always retuns a Matplotlib axis object that is our graph. We can modify that graph to add labels and other features."
   ]
  },
  {
   "cell_type": "code",
   "execution_count": 29,
   "metadata": {
    "collapsed": false
   },
   "outputs": [
    {
     "data": {
      "image/png": "[encoded data removed]",
      "text/plain": [
       "<matplotlib.figure.Figure at 0x10a9387b8>"
      ]
     },
     "metadata": {},
     "output_type": "display_data"
    }
   ],
   "source": [
    "#I'm changing the color of the bars here because the other blue looks awful!\n",
    "ax = df['Employed'].plot(kind = 'bar', color = 'steelblue')\n",
    "#Now I can set the y-axis label\n",
    "ax.set_ylabel('Students Employed')\n",
    "#I can also set the xticks to the major names\n",
    "major_labels = df['Major']\n",
    "#Here I set the xtick labels. The `;` suppresses matplotlib print statements\n",
    "ax.set_xticklabels(major_labels);"
   ]
  },
  {
   "cell_type": "markdown",
   "metadata": {},
   "source": [
    "When we have the matplotlib axis object, we can do anything with it that would normally with a matplotlib graph.\n",
    "\n",
    "## But wait, there's more!\n",
    "\n",
    "Pandas has mathematical functions built directly into the dataframe. So if we want to know the average of a column or the number of rows with entries (not every position has to have a value!) we can do that quickly and easily.\n",
    "\n",
    "Let's start by just counting the number of values in each column (it should be 8 in every column since every spot in our spreadsheet was filled out)."
   ]
  },
  {
   "cell_type": "code",
   "execution_count": 30,
   "metadata": {
    "collapsed": false
   },
   "outputs": [
    {
     "data": {
      "text/plain": [
       "Rank                    8\n",
       "Major_code              8\n",
       "Major                   8\n",
       "Major_category          8\n",
       "Total                   8\n",
       "Sample_size             8\n",
       "Men                     8\n",
       "Women                   8\n",
       "ShareWomen              8\n",
       "Employed                8\n",
       "Full_time               8\n",
       "Part_time               8\n",
       "Full_time_year_round    8\n",
       "Unemployed              8\n",
       "Unemployment_rate       8\n",
       "Median                  8\n",
       "P25th                   8\n",
       "P75th                   8\n",
       "College_jobs            8\n",
       "Non_college_jobs        8\n",
       "Low_wage_jobs           8\n",
       "dtype: int64"
      ]
     },
     "execution_count": 30,
     "metadata": {},
     "output_type": "execute_result"
    }
   ],
   "source": [
    "df.count()"
   ]
  },
  {
   "cell_type": "markdown",
   "metadata": {},
   "source": [
    "But I also want to show you what happens when we have a column with no values entered for it. When there is a missing value in the raw data Pandas replaces that value with a `Not a Number` or `NaN` value from numpy."
   ]
  },
  {
   "cell_type": "code",
   "execution_count": 31,
   "metadata": {
    "collapsed": false
   },
   "outputs": [
    {
     "data": {
      "text/html": [
       "<div>\n",
       "<table border=\"1\" class=\"dataframe\">\n",
       "  <thead>\n",
       "    <tr style=\"text-align: right;\">\n",
       "      <th></th>\n",
       "      <th>Rank</th>\n",
       "      <th>Major_code</th>\n",
       "      <th>Major</th>\n",
       "      <th>Major_category</th>\n",
       "      <th>Total</th>\n",
       "      <th>Sample_size</th>\n",
       "      <th>Men</th>\n",
       "      <th>Women</th>\n",
       "      <th>ShareWomen</th>\n",
       "      <th>Employed</th>\n",
       "      <th>...</th>\n",
       "      <th>Part_time</th>\n",
       "      <th>Full_time_year_round</th>\n",
       "      <th>Unemployed</th>\n",
       "      <th>Unemployment_rate</th>\n",
       "      <th>Median</th>\n",
       "      <th>P25th</th>\n",
       "      <th>P75th</th>\n",
       "      <th>College_jobs</th>\n",
       "      <th>Non_college_jobs</th>\n",
       "      <th>Low_wage_jobs</th>\n",
       "    </tr>\n",
       "  </thead>\n",
       "  <tbody>\n",
       "    <tr>\n",
       "      <th>0</th>\n",
       "      <td>33</td>\n",
       "      <td>6099</td>\n",
       "      <td>MISCELLANEOUS FINE ARTS</td>\n",
       "      <td>NaN</td>\n",
       "      <td>3340</td>\n",
       "      <td>30</td>\n",
       "      <td>1970</td>\n",
       "      <td>1370</td>\n",
       "      <td>0.410180</td>\n",
       "      <td>2914</td>\n",
       "      <td>...</td>\n",
       "      <td>1067</td>\n",
       "      <td>1200</td>\n",
       "      <td>286</td>\n",
       "      <td>0.089375</td>\n",
       "      <td>50000</td>\n",
       "      <td>25000</td>\n",
       "      <td>66000</td>\n",
       "      <td>693</td>\n",
       "      <td>1714</td>\n",
       "      <td>755</td>\n",
       "    </tr>\n",
       "    <tr>\n",
       "      <th>1</th>\n",
       "      <td>96</td>\n",
       "      <td>6004</td>\n",
       "      <td>COMMERCIAL ART AND GRAPHIC DESIGN</td>\n",
       "      <td>NaN</td>\n",
       "      <td>103480</td>\n",
       "      <td>1186</td>\n",
       "      <td>8617</td>\n",
       "      <td>5156</td>\n",
       "      <td>0.374356</td>\n",
       "      <td>83483</td>\n",
       "      <td>...</td>\n",
       "      <td>24387</td>\n",
       "      <td>52243</td>\n",
       "      <td>8947</td>\n",
       "      <td>0.096798</td>\n",
       "      <td>35000</td>\n",
       "      <td>25000</td>\n",
       "      <td>45000</td>\n",
       "      <td>37389</td>\n",
       "      <td>38119</td>\n",
       "      <td>14839</td>\n",
       "    </tr>\n",
       "    <tr>\n",
       "      <th>2</th>\n",
       "      <td>142</td>\n",
       "      <td>6005</td>\n",
       "      <td>FILM VIDEO AND PHOTOGRAPHIC ARTS</td>\n",
       "      <td>NaN</td>\n",
       "      <td>38761</td>\n",
       "      <td>331</td>\n",
       "      <td>22339</td>\n",
       "      <td>49030</td>\n",
       "      <td>0.686993</td>\n",
       "      <td>31433</td>\n",
       "      <td>...</td>\n",
       "      <td>12818</td>\n",
       "      <td>15740</td>\n",
       "      <td>3718</td>\n",
       "      <td>0.105772</td>\n",
       "      <td>32000</td>\n",
       "      <td>22000</td>\n",
       "      <td>42000</td>\n",
       "      <td>7368</td>\n",
       "      <td>20721</td>\n",
       "      <td>5862</td>\n",
       "    </tr>\n",
       "    <tr>\n",
       "      <th>3</th>\n",
       "      <td>147</td>\n",
       "      <td>6002</td>\n",
       "      <td>MUSIC</td>\n",
       "      <td>NaN</td>\n",
       "      <td>60633</td>\n",
       "      <td>419</td>\n",
       "      <td>15670</td>\n",
       "      <td>12543</td>\n",
       "      <td>0.444582</td>\n",
       "      <td>47662</td>\n",
       "      <td>...</td>\n",
       "      <td>24943</td>\n",
       "      <td>21425</td>\n",
       "      <td>3918</td>\n",
       "      <td>0.075960</td>\n",
       "      <td>31000</td>\n",
       "      <td>22300</td>\n",
       "      <td>42000</td>\n",
       "      <td>13752</td>\n",
       "      <td>28786</td>\n",
       "      <td>9286</td>\n",
       "    </tr>\n",
       "    <tr>\n",
       "      <th>4</th>\n",
       "      <td>150</td>\n",
       "      <td>6000</td>\n",
       "      <td>FINE ARTS</td>\n",
       "      <td>NaN</td>\n",
       "      <td>74440</td>\n",
       "      <td>623</td>\n",
       "      <td>24786</td>\n",
       "      <td>49654</td>\n",
       "      <td>0.667034</td>\n",
       "      <td>59679</td>\n",
       "      <td>...</td>\n",
       "      <td>23656</td>\n",
       "      <td>31877</td>\n",
       "      <td>5486</td>\n",
       "      <td>0.084186</td>\n",
       "      <td>30500</td>\n",
       "      <td>21000</td>\n",
       "      <td>41000</td>\n",
       "      <td>20792</td>\n",
       "      <td>32725</td>\n",
       "      <td>11880</td>\n",
       "    </tr>\n",
       "    <tr>\n",
       "      <th>5</th>\n",
       "      <td>154</td>\n",
       "      <td>6003</td>\n",
       "      <td>VISUAL AND PERFORMING ARTS</td>\n",
       "      <td>NaN</td>\n",
       "      <td>16250</td>\n",
       "      <td>132</td>\n",
       "      <td>2013</td>\n",
       "      <td>4639</td>\n",
       "      <td>0.697384</td>\n",
       "      <td>12870</td>\n",
       "      <td>...</td>\n",
       "      <td>6253</td>\n",
       "      <td>6322</td>\n",
       "      <td>1465</td>\n",
       "      <td>0.102197</td>\n",
       "      <td>30000</td>\n",
       "      <td>22000</td>\n",
       "      <td>40000</td>\n",
       "      <td>3849</td>\n",
       "      <td>7635</td>\n",
       "      <td>2840</td>\n",
       "    </tr>\n",
       "    <tr>\n",
       "      <th>6</th>\n",
       "      <td>160</td>\n",
       "      <td>6007</td>\n",
       "      <td>STUDIO ARTS</td>\n",
       "      <td>NaN</td>\n",
       "      <td>16977</td>\n",
       "      <td>182</td>\n",
       "      <td>4364</td>\n",
       "      <td>6146</td>\n",
       "      <td>0.584776</td>\n",
       "      <td>13908</td>\n",
       "      <td>...</td>\n",
       "      <td>5673</td>\n",
       "      <td>7413</td>\n",
       "      <td>1368</td>\n",
       "      <td>0.089552</td>\n",
       "      <td>29000</td>\n",
       "      <td>19200</td>\n",
       "      <td>38300</td>\n",
       "      <td>3948</td>\n",
       "      <td>8707</td>\n",
       "      <td>3586</td>\n",
       "    </tr>\n",
       "    <tr>\n",
       "      <th>7</th>\n",
       "      <td>167</td>\n",
       "      <td>6001</td>\n",
       "      <td>DRAMA AND THEATER ARTS</td>\n",
       "      <td>NaN</td>\n",
       "      <td>43249</td>\n",
       "      <td>357</td>\n",
       "      <td>7022</td>\n",
       "      <td>11931</td>\n",
       "      <td>0.629505</td>\n",
       "      <td>36165</td>\n",
       "      <td>...</td>\n",
       "      <td>15994</td>\n",
       "      <td>16891</td>\n",
       "      <td>3040</td>\n",
       "      <td>0.077541</td>\n",
       "      <td>27000</td>\n",
       "      <td>19200</td>\n",
       "      <td>35000</td>\n",
       "      <td>6994</td>\n",
       "      <td>25313</td>\n",
       "      <td>11068</td>\n",
       "    </tr>\n",
       "  </tbody>\n",
       "</table>\n",
       "<p>8 rows × 21 columns</p>\n",
       "</div>"
      ],
      "text/plain": [
       "   Rank  Major_code                              Major  Major_category  \\\n",
       "0    33        6099            MISCELLANEOUS FINE ARTS             NaN   \n",
       "1    96        6004  COMMERCIAL ART AND GRAPHIC DESIGN             NaN   \n",
       "2   142        6005   FILM VIDEO AND PHOTOGRAPHIC ARTS             NaN   \n",
       "3   147        6002                              MUSIC             NaN   \n",
       "4   150        6000                          FINE ARTS             NaN   \n",
       "5   154        6003         VISUAL AND PERFORMING ARTS             NaN   \n",
       "6   160        6007                        STUDIO ARTS             NaN   \n",
       "7   167        6001             DRAMA AND THEATER ARTS             NaN   \n",
       "\n",
       "    Total  Sample_size    Men  Women  ShareWomen  Employed      ...        \\\n",
       "0    3340           30   1970   1370    0.410180      2914      ...         \n",
       "1  103480         1186   8617   5156    0.374356     83483      ...         \n",
       "2   38761          331  22339  49030    0.686993     31433      ...         \n",
       "3   60633          419  15670  12543    0.444582     47662      ...         \n",
       "4   74440          623  24786  49654    0.667034     59679      ...         \n",
       "5   16250          132   2013   4639    0.697384     12870      ...         \n",
       "6   16977          182   4364   6146    0.584776     13908      ...         \n",
       "7   43249          357   7022  11931    0.629505     36165      ...         \n",
       "\n",
       "   Part_time  Full_time_year_round  Unemployed  Unemployment_rate  Median  \\\n",
       "0       1067                  1200         286           0.089375   50000   \n",
       "1      24387                 52243        8947           0.096798   35000   \n",
       "2      12818                 15740        3718           0.105772   32000   \n",
       "3      24943                 21425        3918           0.075960   31000   \n",
       "4      23656                 31877        5486           0.084186   30500   \n",
       "5       6253                  6322        1465           0.102197   30000   \n",
       "6       5673                  7413        1368           0.089552   29000   \n",
       "7      15994                 16891        3040           0.077541   27000   \n",
       "\n",
       "   P25th  P75th  College_jobs  Non_college_jobs  Low_wage_jobs  \n",
       "0  25000  66000           693              1714            755  \n",
       "1  25000  45000         37389             38119          14839  \n",
       "2  22000  42000          7368             20721           5862  \n",
       "3  22300  42000         13752             28786           9286  \n",
       "4  21000  41000         20792             32725          11880  \n",
       "5  22000  40000          3849              7635           2840  \n",
       "6  19200  38300          3948              8707           3586  \n",
       "7  19200  35000          6994             25313          11068  \n",
       "\n",
       "[8 rows x 21 columns]"
      ]
     },
     "execution_count": 31,
     "metadata": {},
     "output_type": "execute_result"
    }
   ],
   "source": [
    "import numpy as np\n",
    "df['Major_category'] = np.nan\n",
    "df"
   ]
  },
  {
   "cell_type": "markdown",
   "metadata": {},
   "source": [
    "Now when we count, it won't be the same as before."
   ]
  },
  {
   "cell_type": "code",
   "execution_count": 32,
   "metadata": {
    "collapsed": false
   },
   "outputs": [
    {
     "data": {
      "text/plain": [
       "Rank                    8\n",
       "Major_code              8\n",
       "Major                   8\n",
       "Major_category          0\n",
       "Total                   8\n",
       "Sample_size             8\n",
       "Men                     8\n",
       "Women                   8\n",
       "ShareWomen              8\n",
       "Employed                8\n",
       "Full_time               8\n",
       "Part_time               8\n",
       "Full_time_year_round    8\n",
       "Unemployed              8\n",
       "Unemployment_rate       8\n",
       "Median                  8\n",
       "P25th                   8\n",
       "P75th                   8\n",
       "College_jobs            8\n",
       "Non_college_jobs        8\n",
       "Low_wage_jobs           8\n",
       "dtype: int64"
      ]
     },
     "execution_count": 32,
     "metadata": {},
     "output_type": "execute_result"
    }
   ],
   "source": [
    "df.count()"
   ]
  },
  {
   "cell_type": "markdown",
   "metadata": {
    "collapsed": false
   },
   "source": [
    "We can also just count a few columns or single column by chaining the `count()` function after we index the Dataframe."
   ]
  },
  {
   "cell_type": "code",
   "execution_count": 33,
   "metadata": {
    "collapsed": false
   },
   "outputs": [
    {
     "data": {
      "text/plain": [
       "8"
      ]
     },
     "execution_count": 33,
     "metadata": {},
     "output_type": "execute_result"
    }
   ],
   "source": [
    "df['Employed'].count()"
   ]
  },
  {
   "cell_type": "code",
   "execution_count": 34,
   "metadata": {
    "collapsed": false
   },
   "outputs": [
    {
     "data": {
      "text/plain": [
       "Rank                    3\n",
       "Major_code              3\n",
       "Major                   3\n",
       "Major_category          0\n",
       "Total                   3\n",
       "Sample_size             3\n",
       "Men                     3\n",
       "Women                   3\n",
       "ShareWomen              3\n",
       "Employed                3\n",
       "Full_time               3\n",
       "Part_time               3\n",
       "Full_time_year_round    3\n",
       "Unemployed              3\n",
       "Unemployment_rate       3\n",
       "Median                  3\n",
       "P25th                   3\n",
       "P75th                   3\n",
       "College_jobs            3\n",
       "Non_college_jobs        3\n",
       "Low_wage_jobs           3\n",
       "dtype: int64"
      ]
     },
     "execution_count": 34,
     "metadata": {},
     "output_type": "execute_result"
    }
   ],
   "source": [
    "df.loc[0:2].count()"
   ]
  },
  {
   "cell_type": "markdown",
   "metadata": {},
   "source": [
    "There are other useful functions built in too. We can quickly take the mean or median of a column also."
   ]
  },
  {
   "cell_type": "code",
   "execution_count": 35,
   "metadata": {
    "collapsed": false
   },
   "outputs": [
    {
     "data": {
      "text/plain": [
       "36014.25"
      ]
     },
     "execution_count": 35,
     "metadata": {},
     "output_type": "execute_result"
    }
   ],
   "source": [
    "df.Employed.mean()"
   ]
  },
  {
   "cell_type": "code",
   "execution_count": 36,
   "metadata": {
    "collapsed": false
   },
   "outputs": [
    {
     "data": {
      "text/plain": [
       "33799.0"
      ]
     },
     "execution_count": 36,
     "metadata": {},
     "output_type": "execute_result"
    }
   ],
   "source": [
    "df.Employed.median()"
   ]
  },
  {
   "cell_type": "markdown",
   "metadata": {},
   "source": [
    "## We can also quickly do row/column operations in Pandas\n",
    "\n",
    "What we're typically interested in is the percentage of Employed people out of the Total number of people for a given major. We can do that easily with Pandas."
   ]
  },
  {
   "cell_type": "code",
   "execution_count": 37,
   "metadata": {
    "collapsed": false
   },
   "outputs": [
    {
     "data": {
      "text/plain": [
       "0    0.872455\n",
       "1    0.806755\n",
       "2    0.810944\n",
       "3    0.786074\n",
       "4    0.801706\n",
       "5    0.792000\n",
       "6    0.819226\n",
       "7    0.836204\n",
       "dtype: float64"
      ]
     },
     "execution_count": 37,
     "metadata": {},
     "output_type": "execute_result"
    }
   ],
   "source": [
    "#We can divide a column by a column\n",
    "df['Employed']/df['Total']"
   ]
  },
  {
   "cell_type": "markdown",
   "metadata": {},
   "source": [
    "What it does is divide each value in the `Employed` column by the value in the `Total` column that is in the same row. It does that for all of the rows simultaneously with just one line of code!\n",
    "\n",
    "If we want to save this column of data (which we will) we can just give a new name off of the dataframe and set it to the output of our operation."
   ]
  },
  {
   "cell_type": "code",
   "execution_count": 38,
   "metadata": {
    "collapsed": false
   },
   "outputs": [],
   "source": [
    "#And now use this to add a new column to the dataframe\n",
    "df['Percent_Employed'] = df['Employed']/df['Total']"
   ]
  },
  {
   "cell_type": "markdown",
   "metadata": {},
   "source": [
    "And we can check that it worked below. I'm going to use the `head()` function to print the dataframe. `head()` will only print the number of rows given as the argument. It helps save space."
   ]
  },
  {
   "cell_type": "code",
   "execution_count": 39,
   "metadata": {
    "collapsed": false
   },
   "outputs": [
    {
     "data": {
      "text/html": [
       "<div>\n",
       "<table border=\"1\" class=\"dataframe\">\n",
       "  <thead>\n",
       "    <tr style=\"text-align: right;\">\n",
       "      <th></th>\n",
       "      <th>Rank</th>\n",
       "      <th>Major_code</th>\n",
       "      <th>Major</th>\n",
       "      <th>Major_category</th>\n",
       "      <th>Total</th>\n",
       "      <th>Sample_size</th>\n",
       "      <th>Men</th>\n",
       "      <th>Women</th>\n",
       "      <th>ShareWomen</th>\n",
       "      <th>Employed</th>\n",
       "      <th>...</th>\n",
       "      <th>Full_time_year_round</th>\n",
       "      <th>Unemployed</th>\n",
       "      <th>Unemployment_rate</th>\n",
       "      <th>Median</th>\n",
       "      <th>P25th</th>\n",
       "      <th>P75th</th>\n",
       "      <th>College_jobs</th>\n",
       "      <th>Non_college_jobs</th>\n",
       "      <th>Low_wage_jobs</th>\n",
       "      <th>Percent_Employed</th>\n",
       "    </tr>\n",
       "  </thead>\n",
       "  <tbody>\n",
       "    <tr>\n",
       "      <th>0</th>\n",
       "      <td>33</td>\n",
       "      <td>6099</td>\n",
       "      <td>MISCELLANEOUS FINE ARTS</td>\n",
       "      <td>NaN</td>\n",
       "      <td>3340</td>\n",
       "      <td>30</td>\n",
       "      <td>1970</td>\n",
       "      <td>1370</td>\n",
       "      <td>0.410180</td>\n",
       "      <td>2914</td>\n",
       "      <td>...</td>\n",
       "      <td>1200</td>\n",
       "      <td>286</td>\n",
       "      <td>0.089375</td>\n",
       "      <td>50000</td>\n",
       "      <td>25000</td>\n",
       "      <td>66000</td>\n",
       "      <td>693</td>\n",
       "      <td>1714</td>\n",
       "      <td>755</td>\n",
       "      <td>0.872455</td>\n",
       "    </tr>\n",
       "    <tr>\n",
       "      <th>1</th>\n",
       "      <td>96</td>\n",
       "      <td>6004</td>\n",
       "      <td>COMMERCIAL ART AND GRAPHIC DESIGN</td>\n",
       "      <td>NaN</td>\n",
       "      <td>103480</td>\n",
       "      <td>1186</td>\n",
       "      <td>8617</td>\n",
       "      <td>5156</td>\n",
       "      <td>0.374356</td>\n",
       "      <td>83483</td>\n",
       "      <td>...</td>\n",
       "      <td>52243</td>\n",
       "      <td>8947</td>\n",
       "      <td>0.096798</td>\n",
       "      <td>35000</td>\n",
       "      <td>25000</td>\n",
       "      <td>45000</td>\n",
       "      <td>37389</td>\n",
       "      <td>38119</td>\n",
       "      <td>14839</td>\n",
       "      <td>0.806755</td>\n",
       "    </tr>\n",
       "  </tbody>\n",
       "</table>\n",
       "<p>2 rows × 22 columns</p>\n",
       "</div>"
      ],
      "text/plain": [
       "   Rank  Major_code                              Major  Major_category  \\\n",
       "0    33        6099            MISCELLANEOUS FINE ARTS             NaN   \n",
       "1    96        6004  COMMERCIAL ART AND GRAPHIC DESIGN             NaN   \n",
       "\n",
       "    Total  Sample_size   Men  Women  ShareWomen  Employed        ...         \\\n",
       "0    3340           30  1970   1370    0.410180      2914        ...          \n",
       "1  103480         1186  8617   5156    0.374356     83483        ...          \n",
       "\n",
       "   Full_time_year_round  Unemployed  Unemployment_rate  Median  P25th  P75th  \\\n",
       "0                  1200         286           0.089375   50000  25000  66000   \n",
       "1                 52243        8947           0.096798   35000  25000  45000   \n",
       "\n",
       "   College_jobs  Non_college_jobs  Low_wage_jobs  Percent_Employed  \n",
       "0           693              1714            755          0.872455  \n",
       "1         37389             38119          14839          0.806755  \n",
       "\n",
       "[2 rows x 22 columns]"
      ]
     },
     "execution_count": 39,
     "metadata": {},
     "output_type": "execute_result"
    }
   ],
   "source": [
    "df.head(2)"
   ]
  },
  {
   "cell_type": "markdown",
   "metadata": {
    "collapsed": true
   },
   "source": [
    "We can perform complicated functions to calculate new columns too."
   ]
  },
  {
   "cell_type": "code",
   "execution_count": 40,
   "metadata": {
    "collapsed": false
   },
   "outputs": [
    {
     "data": {
      "text/plain": [
       "0      1489.201429\n",
       "1       761.285714\n",
       "2    254718.012857\n",
       "3    322887.365714\n",
       "4    203423.555714\n",
       "5     20476.851429\n",
       "6     32354.401429\n",
       "7    479408.230000\n",
       "dtype: float64"
      ]
     },
     "execution_count": 40,
     "metadata": {},
     "output_type": "execute_result"
    }
   ],
   "source": [
    "#I'm only doing this for show (this calculation doesn't make sense)\n",
    "(df['College_jobs'] - df['Non_college_jobs']) ** 2 / 700"
   ]
  },
  {
   "cell_type": "markdown",
   "metadata": {},
   "source": [
    "We can do the same with rows, but it's very unlikely that we will have a situation like this that makes sense"
   ]
  },
  {
   "cell_type": "code",
   "execution_count": 41,
   "metadata": {
    "collapsed": false
   },
   "outputs": [
    {
     "data": {
      "text/plain": [
       "0.034905310063126624"
      ]
     },
     "execution_count": 41,
     "metadata": {},
     "output_type": "execute_result"
    }
   ],
   "source": [
    "#We can perform row level operations, making a new row\n",
    "#Notice how each column is represented?\n",
    "df.loc[0, 'Employed']/df.loc[1, 'Employed']"
   ]
  },
  {
   "cell_type": "markdown",
   "metadata": {},
   "source": [
    "## Querying - or the database mentality\n",
    "\n",
    "So far we've just directly accessed rows and columns in the dataframe, but there's actually another way to get data. We can do this by *querying* the data. We can make comparions with greater than, less than, or equal signs to get only the rows or columns of the dataframe that meet our criteria.\n",
    "\n",
    "So now let's only consider majors that have more than 20,000 students that graduated."
   ]
  },
  {
   "cell_type": "code",
   "execution_count": 42,
   "metadata": {
    "collapsed": false
   },
   "outputs": [
    {
     "data": {
      "text/html": [
       "<div>\n",
       "<table border=\"1\" class=\"dataframe\">\n",
       "  <thead>\n",
       "    <tr style=\"text-align: right;\">\n",
       "      <th></th>\n",
       "      <th>Rank</th>\n",
       "      <th>Major_code</th>\n",
       "      <th>Major</th>\n",
       "      <th>Major_category</th>\n",
       "      <th>Total</th>\n",
       "      <th>Sample_size</th>\n",
       "      <th>Men</th>\n",
       "      <th>Women</th>\n",
       "      <th>ShareWomen</th>\n",
       "      <th>Employed</th>\n",
       "      <th>...</th>\n",
       "      <th>Full_time_year_round</th>\n",
       "      <th>Unemployed</th>\n",
       "      <th>Unemployment_rate</th>\n",
       "      <th>Median</th>\n",
       "      <th>P25th</th>\n",
       "      <th>P75th</th>\n",
       "      <th>College_jobs</th>\n",
       "      <th>Non_college_jobs</th>\n",
       "      <th>Low_wage_jobs</th>\n",
       "      <th>Percent_Employed</th>\n",
       "    </tr>\n",
       "  </thead>\n",
       "  <tbody>\n",
       "    <tr>\n",
       "      <th>1</th>\n",
       "      <td>96</td>\n",
       "      <td>6004</td>\n",
       "      <td>COMMERCIAL ART AND GRAPHIC DESIGN</td>\n",
       "      <td>NaN</td>\n",
       "      <td>103480</td>\n",
       "      <td>1186</td>\n",
       "      <td>8617</td>\n",
       "      <td>5156</td>\n",
       "      <td>0.374356</td>\n",
       "      <td>83483</td>\n",
       "      <td>...</td>\n",
       "      <td>52243</td>\n",
       "      <td>8947</td>\n",
       "      <td>0.096798</td>\n",
       "      <td>35000</td>\n",
       "      <td>25000</td>\n",
       "      <td>45000</td>\n",
       "      <td>37389</td>\n",
       "      <td>38119</td>\n",
       "      <td>14839</td>\n",
       "      <td>0.806755</td>\n",
       "    </tr>\n",
       "    <tr>\n",
       "      <th>2</th>\n",
       "      <td>142</td>\n",
       "      <td>6005</td>\n",
       "      <td>FILM VIDEO AND PHOTOGRAPHIC ARTS</td>\n",
       "      <td>NaN</td>\n",
       "      <td>38761</td>\n",
       "      <td>331</td>\n",
       "      <td>22339</td>\n",
       "      <td>49030</td>\n",
       "      <td>0.686993</td>\n",
       "      <td>31433</td>\n",
       "      <td>...</td>\n",
       "      <td>15740</td>\n",
       "      <td>3718</td>\n",
       "      <td>0.105772</td>\n",
       "      <td>32000</td>\n",
       "      <td>22000</td>\n",
       "      <td>42000</td>\n",
       "      <td>7368</td>\n",
       "      <td>20721</td>\n",
       "      <td>5862</td>\n",
       "      <td>0.810944</td>\n",
       "    </tr>\n",
       "    <tr>\n",
       "      <th>3</th>\n",
       "      <td>147</td>\n",
       "      <td>6002</td>\n",
       "      <td>MUSIC</td>\n",
       "      <td>NaN</td>\n",
       "      <td>60633</td>\n",
       "      <td>419</td>\n",
       "      <td>15670</td>\n",
       "      <td>12543</td>\n",
       "      <td>0.444582</td>\n",
       "      <td>47662</td>\n",
       "      <td>...</td>\n",
       "      <td>21425</td>\n",
       "      <td>3918</td>\n",
       "      <td>0.075960</td>\n",
       "      <td>31000</td>\n",
       "      <td>22300</td>\n",
       "      <td>42000</td>\n",
       "      <td>13752</td>\n",
       "      <td>28786</td>\n",
       "      <td>9286</td>\n",
       "      <td>0.786074</td>\n",
       "    </tr>\n",
       "    <tr>\n",
       "      <th>4</th>\n",
       "      <td>150</td>\n",
       "      <td>6000</td>\n",
       "      <td>FINE ARTS</td>\n",
       "      <td>NaN</td>\n",
       "      <td>74440</td>\n",
       "      <td>623</td>\n",
       "      <td>24786</td>\n",
       "      <td>49654</td>\n",
       "      <td>0.667034</td>\n",
       "      <td>59679</td>\n",
       "      <td>...</td>\n",
       "      <td>31877</td>\n",
       "      <td>5486</td>\n",
       "      <td>0.084186</td>\n",
       "      <td>30500</td>\n",
       "      <td>21000</td>\n",
       "      <td>41000</td>\n",
       "      <td>20792</td>\n",
       "      <td>32725</td>\n",
       "      <td>11880</td>\n",
       "      <td>0.801706</td>\n",
       "    </tr>\n",
       "    <tr>\n",
       "      <th>7</th>\n",
       "      <td>167</td>\n",
       "      <td>6001</td>\n",
       "      <td>DRAMA AND THEATER ARTS</td>\n",
       "      <td>NaN</td>\n",
       "      <td>43249</td>\n",
       "      <td>357</td>\n",
       "      <td>7022</td>\n",
       "      <td>11931</td>\n",
       "      <td>0.629505</td>\n",
       "      <td>36165</td>\n",
       "      <td>...</td>\n",
       "      <td>16891</td>\n",
       "      <td>3040</td>\n",
       "      <td>0.077541</td>\n",
       "      <td>27000</td>\n",
       "      <td>19200</td>\n",
       "      <td>35000</td>\n",
       "      <td>6994</td>\n",
       "      <td>25313</td>\n",
       "      <td>11068</td>\n",
       "      <td>0.836204</td>\n",
       "    </tr>\n",
       "  </tbody>\n",
       "</table>\n",
       "<p>5 rows × 22 columns</p>\n",
       "</div>"
      ],
      "text/plain": [
       "   Rank  Major_code                              Major  Major_category  \\\n",
       "1    96        6004  COMMERCIAL ART AND GRAPHIC DESIGN             NaN   \n",
       "2   142        6005   FILM VIDEO AND PHOTOGRAPHIC ARTS             NaN   \n",
       "3   147        6002                              MUSIC             NaN   \n",
       "4   150        6000                          FINE ARTS             NaN   \n",
       "7   167        6001             DRAMA AND THEATER ARTS             NaN   \n",
       "\n",
       "    Total  Sample_size    Men  Women  ShareWomen  Employed        ...         \\\n",
       "1  103480         1186   8617   5156    0.374356     83483        ...          \n",
       "2   38761          331  22339  49030    0.686993     31433        ...          \n",
       "3   60633          419  15670  12543    0.444582     47662        ...          \n",
       "4   74440          623  24786  49654    0.667034     59679        ...          \n",
       "7   43249          357   7022  11931    0.629505     36165        ...          \n",
       "\n",
       "   Full_time_year_round  Unemployed  Unemployment_rate  Median  P25th  P75th  \\\n",
       "1                 52243        8947           0.096798   35000  25000  45000   \n",
       "2                 15740        3718           0.105772   32000  22000  42000   \n",
       "3                 21425        3918           0.075960   31000  22300  42000   \n",
       "4                 31877        5486           0.084186   30500  21000  41000   \n",
       "7                 16891        3040           0.077541   27000  19200  35000   \n",
       "\n",
       "   College_jobs  Non_college_jobs  Low_wage_jobs  Percent_Employed  \n",
       "1         37389             38119          14839          0.806755  \n",
       "2          7368             20721           5862          0.810944  \n",
       "3         13752             28786           9286          0.786074  \n",
       "4         20792             32725          11880          0.801706  \n",
       "7          6994             25313          11068          0.836204  \n",
       "\n",
       "[5 rows x 22 columns]"
      ]
     },
     "execution_count": 42,
     "metadata": {},
     "output_type": "execute_result"
    }
   ],
   "source": [
    "df[df.Total > 20000]"
   ]
  },
  {
   "cell_type": "markdown",
   "metadata": {},
   "source": [
    "We can see now that only the 5 rows that had more than 20,000 students were selected.\n",
    "\n",
    "But how does this really work?\n",
    "\n",
    "The greater than symbol doesn't need to be used just inside the `[]` and it isn't **actually** instructing the dataframe what to do directly. When we use an expression with the dataframe we are actually creating a **mask**"
   ]
  },
  {
   "cell_type": "code",
   "execution_count": 43,
   "metadata": {
    "collapsed": false
   },
   "outputs": [
    {
     "data": {
      "text/plain": [
       "0    False\n",
       "1     True\n",
       "2     True\n",
       "3     True\n",
       "4     True\n",
       "5    False\n",
       "6    False\n",
       "7     True\n",
       "Name: Total, dtype: bool"
      ]
     },
     "execution_count": 43,
     "metadata": {},
     "output_type": "execute_result"
    }
   ],
   "source": [
    "df.Total > 20000"
   ]
  },
  {
   "cell_type": "markdown",
   "metadata": {},
   "source": [
    "So what's going on is that on the column of interest it evaluates if the statement is `True` or `False` and then pipes that truth array into the dataframe. Then any rows that were `True` are kept."
   ]
  },
  {
   "cell_type": "code",
   "execution_count": 44,
   "metadata": {
    "collapsed": false
   },
   "outputs": [
    {
     "data": {
      "text/html": [
       "<div>\n",
       "<table border=\"1\" class=\"dataframe\">\n",
       "  <thead>\n",
       "    <tr style=\"text-align: right;\">\n",
       "      <th></th>\n",
       "      <th>Rank</th>\n",
       "      <th>Major_code</th>\n",
       "      <th>Major</th>\n",
       "      <th>Major_category</th>\n",
       "      <th>Total</th>\n",
       "      <th>Sample_size</th>\n",
       "      <th>Men</th>\n",
       "      <th>Women</th>\n",
       "      <th>ShareWomen</th>\n",
       "      <th>Employed</th>\n",
       "      <th>...</th>\n",
       "      <th>Full_time_year_round</th>\n",
       "      <th>Unemployed</th>\n",
       "      <th>Unemployment_rate</th>\n",
       "      <th>Median</th>\n",
       "      <th>P25th</th>\n",
       "      <th>P75th</th>\n",
       "      <th>College_jobs</th>\n",
       "      <th>Non_college_jobs</th>\n",
       "      <th>Low_wage_jobs</th>\n",
       "      <th>Percent_Employed</th>\n",
       "    </tr>\n",
       "  </thead>\n",
       "  <tbody>\n",
       "    <tr>\n",
       "      <th>1</th>\n",
       "      <td>96</td>\n",
       "      <td>6004</td>\n",
       "      <td>COMMERCIAL ART AND GRAPHIC DESIGN</td>\n",
       "      <td>NaN</td>\n",
       "      <td>103480</td>\n",
       "      <td>1186</td>\n",
       "      <td>8617</td>\n",
       "      <td>5156</td>\n",
       "      <td>0.374356</td>\n",
       "      <td>83483</td>\n",
       "      <td>...</td>\n",
       "      <td>52243</td>\n",
       "      <td>8947</td>\n",
       "      <td>0.096798</td>\n",
       "      <td>35000</td>\n",
       "      <td>25000</td>\n",
       "      <td>45000</td>\n",
       "      <td>37389</td>\n",
       "      <td>38119</td>\n",
       "      <td>14839</td>\n",
       "      <td>0.806755</td>\n",
       "    </tr>\n",
       "    <tr>\n",
       "      <th>2</th>\n",
       "      <td>142</td>\n",
       "      <td>6005</td>\n",
       "      <td>FILM VIDEO AND PHOTOGRAPHIC ARTS</td>\n",
       "      <td>NaN</td>\n",
       "      <td>38761</td>\n",
       "      <td>331</td>\n",
       "      <td>22339</td>\n",
       "      <td>49030</td>\n",
       "      <td>0.686993</td>\n",
       "      <td>31433</td>\n",
       "      <td>...</td>\n",
       "      <td>15740</td>\n",
       "      <td>3718</td>\n",
       "      <td>0.105772</td>\n",
       "      <td>32000</td>\n",
       "      <td>22000</td>\n",
       "      <td>42000</td>\n",
       "      <td>7368</td>\n",
       "      <td>20721</td>\n",
       "      <td>5862</td>\n",
       "      <td>0.810944</td>\n",
       "    </tr>\n",
       "    <tr>\n",
       "      <th>3</th>\n",
       "      <td>147</td>\n",
       "      <td>6002</td>\n",
       "      <td>MUSIC</td>\n",
       "      <td>NaN</td>\n",
       "      <td>60633</td>\n",
       "      <td>419</td>\n",
       "      <td>15670</td>\n",
       "      <td>12543</td>\n",
       "      <td>0.444582</td>\n",
       "      <td>47662</td>\n",
       "      <td>...</td>\n",
       "      <td>21425</td>\n",
       "      <td>3918</td>\n",
       "      <td>0.075960</td>\n",
       "      <td>31000</td>\n",
       "      <td>22300</td>\n",
       "      <td>42000</td>\n",
       "      <td>13752</td>\n",
       "      <td>28786</td>\n",
       "      <td>9286</td>\n",
       "      <td>0.786074</td>\n",
       "    </tr>\n",
       "    <tr>\n",
       "      <th>4</th>\n",
       "      <td>150</td>\n",
       "      <td>6000</td>\n",
       "      <td>FINE ARTS</td>\n",
       "      <td>NaN</td>\n",
       "      <td>74440</td>\n",
       "      <td>623</td>\n",
       "      <td>24786</td>\n",
       "      <td>49654</td>\n",
       "      <td>0.667034</td>\n",
       "      <td>59679</td>\n",
       "      <td>...</td>\n",
       "      <td>31877</td>\n",
       "      <td>5486</td>\n",
       "      <td>0.084186</td>\n",
       "      <td>30500</td>\n",
       "      <td>21000</td>\n",
       "      <td>41000</td>\n",
       "      <td>20792</td>\n",
       "      <td>32725</td>\n",
       "      <td>11880</td>\n",
       "      <td>0.801706</td>\n",
       "    </tr>\n",
       "    <tr>\n",
       "      <th>7</th>\n",
       "      <td>167</td>\n",
       "      <td>6001</td>\n",
       "      <td>DRAMA AND THEATER ARTS</td>\n",
       "      <td>NaN</td>\n",
       "      <td>43249</td>\n",
       "      <td>357</td>\n",
       "      <td>7022</td>\n",
       "      <td>11931</td>\n",
       "      <td>0.629505</td>\n",
       "      <td>36165</td>\n",
       "      <td>...</td>\n",
       "      <td>16891</td>\n",
       "      <td>3040</td>\n",
       "      <td>0.077541</td>\n",
       "      <td>27000</td>\n",
       "      <td>19200</td>\n",
       "      <td>35000</td>\n",
       "      <td>6994</td>\n",
       "      <td>25313</td>\n",
       "      <td>11068</td>\n",
       "      <td>0.836204</td>\n",
       "    </tr>\n",
       "  </tbody>\n",
       "</table>\n",
       "<p>5 rows × 22 columns</p>\n",
       "</div>"
      ],
      "text/plain": [
       "   Rank  Major_code                              Major  Major_category  \\\n",
       "1    96        6004  COMMERCIAL ART AND GRAPHIC DESIGN             NaN   \n",
       "2   142        6005   FILM VIDEO AND PHOTOGRAPHIC ARTS             NaN   \n",
       "3   147        6002                              MUSIC             NaN   \n",
       "4   150        6000                          FINE ARTS             NaN   \n",
       "7   167        6001             DRAMA AND THEATER ARTS             NaN   \n",
       "\n",
       "    Total  Sample_size    Men  Women  ShareWomen  Employed        ...         \\\n",
       "1  103480         1186   8617   5156    0.374356     83483        ...          \n",
       "2   38761          331  22339  49030    0.686993     31433        ...          \n",
       "3   60633          419  15670  12543    0.444582     47662        ...          \n",
       "4   74440          623  24786  49654    0.667034     59679        ...          \n",
       "7   43249          357   7022  11931    0.629505     36165        ...          \n",
       "\n",
       "   Full_time_year_round  Unemployed  Unemployment_rate  Median  P25th  P75th  \\\n",
       "1                 52243        8947           0.096798   35000  25000  45000   \n",
       "2                 15740        3718           0.105772   32000  22000  42000   \n",
       "3                 21425        3918           0.075960   31000  22300  42000   \n",
       "4                 31877        5486           0.084186   30500  21000  41000   \n",
       "7                 16891        3040           0.077541   27000  19200  35000   \n",
       "\n",
       "   College_jobs  Non_college_jobs  Low_wage_jobs  Percent_Employed  \n",
       "1         37389             38119          14839          0.806755  \n",
       "2          7368             20721           5862          0.810944  \n",
       "3         13752             28786           9286          0.786074  \n",
       "4         20792             32725          11880          0.801706  \n",
       "7          6994             25313          11068          0.836204  \n",
       "\n",
       "[5 rows x 22 columns]"
      ]
     },
     "execution_count": 44,
     "metadata": {},
     "output_type": "execute_result"
    }
   ],
   "source": [
    "df[df.Total > 20000]"
   ]
  },
  {
   "cell_type": "markdown",
   "metadata": {
    "collapsed": false
   },
   "source": [
    "Neat, huh?"
   ]
  },
  {
   "cell_type": "code",
   "execution_count": 45,
   "metadata": {
    "collapsed": false
   },
   "outputs": [
    {
     "data": {
      "text/html": [
       "<div>\n",
       "<table border=\"1\" class=\"dataframe\">\n",
       "  <thead>\n",
       "    <tr style=\"text-align: right;\">\n",
       "      <th></th>\n",
       "      <th>Rank</th>\n",
       "      <th>Major_code</th>\n",
       "      <th>Major</th>\n",
       "      <th>Major_category</th>\n",
       "      <th>Total</th>\n",
       "      <th>Sample_size</th>\n",
       "      <th>Men</th>\n",
       "      <th>Women</th>\n",
       "      <th>ShareWomen</th>\n",
       "      <th>Employed</th>\n",
       "      <th>...</th>\n",
       "      <th>Full_time_year_round</th>\n",
       "      <th>Unemployed</th>\n",
       "      <th>Unemployment_rate</th>\n",
       "      <th>Median</th>\n",
       "      <th>P25th</th>\n",
       "      <th>P75th</th>\n",
       "      <th>College_jobs</th>\n",
       "      <th>Non_college_jobs</th>\n",
       "      <th>Low_wage_jobs</th>\n",
       "      <th>Percent_Employed</th>\n",
       "    </tr>\n",
       "  </thead>\n",
       "  <tbody>\n",
       "    <tr>\n",
       "      <th>0</th>\n",
       "      <td>33</td>\n",
       "      <td>6099</td>\n",
       "      <td>MISCELLANEOUS FINE ARTS</td>\n",
       "      <td>NaN</td>\n",
       "      <td>3340</td>\n",
       "      <td>30</td>\n",
       "      <td>1970</td>\n",
       "      <td>1370</td>\n",
       "      <td>0.410180</td>\n",
       "      <td>2914</td>\n",
       "      <td>...</td>\n",
       "      <td>1200</td>\n",
       "      <td>286</td>\n",
       "      <td>0.089375</td>\n",
       "      <td>50000</td>\n",
       "      <td>25000</td>\n",
       "      <td>66000</td>\n",
       "      <td>693</td>\n",
       "      <td>1714</td>\n",
       "      <td>755</td>\n",
       "      <td>0.872455</td>\n",
       "    </tr>\n",
       "    <tr>\n",
       "      <th>1</th>\n",
       "      <td>96</td>\n",
       "      <td>6004</td>\n",
       "      <td>COMMERCIAL ART AND GRAPHIC DESIGN</td>\n",
       "      <td>NaN</td>\n",
       "      <td>103480</td>\n",
       "      <td>1186</td>\n",
       "      <td>8617</td>\n",
       "      <td>5156</td>\n",
       "      <td>0.374356</td>\n",
       "      <td>83483</td>\n",
       "      <td>...</td>\n",
       "      <td>52243</td>\n",
       "      <td>8947</td>\n",
       "      <td>0.096798</td>\n",
       "      <td>35000</td>\n",
       "      <td>25000</td>\n",
       "      <td>45000</td>\n",
       "      <td>37389</td>\n",
       "      <td>38119</td>\n",
       "      <td>14839</td>\n",
       "      <td>0.806755</td>\n",
       "    </tr>\n",
       "    <tr>\n",
       "      <th>2</th>\n",
       "      <td>142</td>\n",
       "      <td>6005</td>\n",
       "      <td>FILM VIDEO AND PHOTOGRAPHIC ARTS</td>\n",
       "      <td>NaN</td>\n",
       "      <td>38761</td>\n",
       "      <td>331</td>\n",
       "      <td>22339</td>\n",
       "      <td>49030</td>\n",
       "      <td>0.686993</td>\n",
       "      <td>31433</td>\n",
       "      <td>...</td>\n",
       "      <td>15740</td>\n",
       "      <td>3718</td>\n",
       "      <td>0.105772</td>\n",
       "      <td>32000</td>\n",
       "      <td>22000</td>\n",
       "      <td>42000</td>\n",
       "      <td>7368</td>\n",
       "      <td>20721</td>\n",
       "      <td>5862</td>\n",
       "      <td>0.810944</td>\n",
       "    </tr>\n",
       "    <tr>\n",
       "      <th>3</th>\n",
       "      <td>147</td>\n",
       "      <td>6002</td>\n",
       "      <td>MUSIC</td>\n",
       "      <td>NaN</td>\n",
       "      <td>60633</td>\n",
       "      <td>419</td>\n",
       "      <td>15670</td>\n",
       "      <td>12543</td>\n",
       "      <td>0.444582</td>\n",
       "      <td>47662</td>\n",
       "      <td>...</td>\n",
       "      <td>21425</td>\n",
       "      <td>3918</td>\n",
       "      <td>0.075960</td>\n",
       "      <td>31000</td>\n",
       "      <td>22300</td>\n",
       "      <td>42000</td>\n",
       "      <td>13752</td>\n",
       "      <td>28786</td>\n",
       "      <td>9286</td>\n",
       "      <td>0.786074</td>\n",
       "    </tr>\n",
       "    <tr>\n",
       "      <th>4</th>\n",
       "      <td>150</td>\n",
       "      <td>6000</td>\n",
       "      <td>FINE ARTS</td>\n",
       "      <td>NaN</td>\n",
       "      <td>74440</td>\n",
       "      <td>623</td>\n",
       "      <td>24786</td>\n",
       "      <td>49654</td>\n",
       "      <td>0.667034</td>\n",
       "      <td>59679</td>\n",
       "      <td>...</td>\n",
       "      <td>31877</td>\n",
       "      <td>5486</td>\n",
       "      <td>0.084186</td>\n",
       "      <td>30500</td>\n",
       "      <td>21000</td>\n",
       "      <td>41000</td>\n",
       "      <td>20792</td>\n",
       "      <td>32725</td>\n",
       "      <td>11880</td>\n",
       "      <td>0.801706</td>\n",
       "    </tr>\n",
       "    <tr>\n",
       "      <th>5</th>\n",
       "      <td>154</td>\n",
       "      <td>6003</td>\n",
       "      <td>VISUAL AND PERFORMING ARTS</td>\n",
       "      <td>NaN</td>\n",
       "      <td>16250</td>\n",
       "      <td>132</td>\n",
       "      <td>2013</td>\n",
       "      <td>4639</td>\n",
       "      <td>0.697384</td>\n",
       "      <td>12870</td>\n",
       "      <td>...</td>\n",
       "      <td>6322</td>\n",
       "      <td>1465</td>\n",
       "      <td>0.102197</td>\n",
       "      <td>30000</td>\n",
       "      <td>22000</td>\n",
       "      <td>40000</td>\n",
       "      <td>3849</td>\n",
       "      <td>7635</td>\n",
       "      <td>2840</td>\n",
       "      <td>0.792000</td>\n",
       "    </tr>\n",
       "    <tr>\n",
       "      <th>6</th>\n",
       "      <td>160</td>\n",
       "      <td>6007</td>\n",
       "      <td>STUDIO ARTS</td>\n",
       "      <td>NaN</td>\n",
       "      <td>16977</td>\n",
       "      <td>182</td>\n",
       "      <td>4364</td>\n",
       "      <td>6146</td>\n",
       "      <td>0.584776</td>\n",
       "      <td>13908</td>\n",
       "      <td>...</td>\n",
       "      <td>7413</td>\n",
       "      <td>1368</td>\n",
       "      <td>0.089552</td>\n",
       "      <td>29000</td>\n",
       "      <td>19200</td>\n",
       "      <td>38300</td>\n",
       "      <td>3948</td>\n",
       "      <td>8707</td>\n",
       "      <td>3586</td>\n",
       "      <td>0.819226</td>\n",
       "    </tr>\n",
       "    <tr>\n",
       "      <th>7</th>\n",
       "      <td>167</td>\n",
       "      <td>6001</td>\n",
       "      <td>DRAMA AND THEATER ARTS</td>\n",
       "      <td>NaN</td>\n",
       "      <td>43249</td>\n",
       "      <td>357</td>\n",
       "      <td>7022</td>\n",
       "      <td>11931</td>\n",
       "      <td>0.629505</td>\n",
       "      <td>36165</td>\n",
       "      <td>...</td>\n",
       "      <td>16891</td>\n",
       "      <td>3040</td>\n",
       "      <td>0.077541</td>\n",
       "      <td>27000</td>\n",
       "      <td>19200</td>\n",
       "      <td>35000</td>\n",
       "      <td>6994</td>\n",
       "      <td>25313</td>\n",
       "      <td>11068</td>\n",
       "      <td>0.836204</td>\n",
       "    </tr>\n",
       "  </tbody>\n",
       "</table>\n",
       "<p>8 rows × 22 columns</p>\n",
       "</div>"
      ],
      "text/plain": [
       "   Rank  Major_code                              Major  Major_category  \\\n",
       "0    33        6099            MISCELLANEOUS FINE ARTS             NaN   \n",
       "1    96        6004  COMMERCIAL ART AND GRAPHIC DESIGN             NaN   \n",
       "2   142        6005   FILM VIDEO AND PHOTOGRAPHIC ARTS             NaN   \n",
       "3   147        6002                              MUSIC             NaN   \n",
       "4   150        6000                          FINE ARTS             NaN   \n",
       "5   154        6003         VISUAL AND PERFORMING ARTS             NaN   \n",
       "6   160        6007                        STUDIO ARTS             NaN   \n",
       "7   167        6001             DRAMA AND THEATER ARTS             NaN   \n",
       "\n",
       "    Total  Sample_size    Men  Women  ShareWomen  Employed        ...         \\\n",
       "0    3340           30   1970   1370    0.410180      2914        ...          \n",
       "1  103480         1186   8617   5156    0.374356     83483        ...          \n",
       "2   38761          331  22339  49030    0.686993     31433        ...          \n",
       "3   60633          419  15670  12543    0.444582     47662        ...          \n",
       "4   74440          623  24786  49654    0.667034     59679        ...          \n",
       "5   16250          132   2013   4639    0.697384     12870        ...          \n",
       "6   16977          182   4364   6146    0.584776     13908        ...          \n",
       "7   43249          357   7022  11931    0.629505     36165        ...          \n",
       "\n",
       "   Full_time_year_round  Unemployed  Unemployment_rate  Median  P25th  P75th  \\\n",
       "0                  1200         286           0.089375   50000  25000  66000   \n",
       "1                 52243        8947           0.096798   35000  25000  45000   \n",
       "2                 15740        3718           0.105772   32000  22000  42000   \n",
       "3                 21425        3918           0.075960   31000  22300  42000   \n",
       "4                 31877        5486           0.084186   30500  21000  41000   \n",
       "5                  6322        1465           0.102197   30000  22000  40000   \n",
       "6                  7413        1368           0.089552   29000  19200  38300   \n",
       "7                 16891        3040           0.077541   27000  19200  35000   \n",
       "\n",
       "   College_jobs  Non_college_jobs  Low_wage_jobs  Percent_Employed  \n",
       "0           693              1714            755          0.872455  \n",
       "1         37389             38119          14839          0.806755  \n",
       "2          7368             20721           5862          0.810944  \n",
       "3         13752             28786           9286          0.786074  \n",
       "4         20792             32725          11880          0.801706  \n",
       "5          3849              7635           2840          0.792000  \n",
       "6          3948              8707           3586          0.819226  \n",
       "7          6994             25313          11068          0.836204  \n",
       "\n",
       "[8 rows x 22 columns]"
      ]
     },
     "execution_count": 45,
     "metadata": {},
     "output_type": "execute_result"
    }
   ],
   "source": [
    "df"
   ]
  },
  {
   "cell_type": "markdown",
   "metadata": {
    "collapsed": false
   },
   "source": [
    "We can chain selection operators off of the query also if we want to know a bit more about the resulting column"
   ]
  },
  {
   "cell_type": "code",
   "execution_count": 46,
   "metadata": {
    "collapsed": false
   },
   "outputs": [
    {
     "data": {
      "text/plain": [
       "0.0880513834"
      ]
     },
     "execution_count": 46,
     "metadata": {},
     "output_type": "execute_result"
    }
   ],
   "source": [
    "df[df.Employed > 20000].Unemployment_rate.mean()"
   ]
  },
  {
   "cell_type": "markdown",
   "metadata": {},
   "source": [
    "We can use more than one criterion to select rows in our dataframe. The syntax for this is very unpythonic, but it's a \n",
    "very useful way to get just the part of the data that you are interested in. To do that we have to use this syntax:\n",
    "\n",
    "`df[(first expression) & (second expression) | (third expression) ...]`\n",
    "\n",
    "Each expression has to be enclosed in parentheses.\n",
    "\n",
    "Expressions can be chained with an `and` statement, which must be represented as `&`.\n",
    "\n",
    "Alternatively you can chain expressions with an `or` statement, which must be represented as `|`.\n",
    "\n",
    "You can have as many statements as you want."
   ]
  },
  {
   "cell_type": "code",
   "execution_count": 47,
   "metadata": {
    "collapsed": false
   },
   "outputs": [
    {
     "data": {
      "text/html": [
       "<div>\n",
       "<table border=\"1\" class=\"dataframe\">\n",
       "  <thead>\n",
       "    <tr style=\"text-align: right;\">\n",
       "      <th></th>\n",
       "      <th>Rank</th>\n",
       "      <th>Major_code</th>\n",
       "      <th>Major</th>\n",
       "      <th>Major_category</th>\n",
       "      <th>Total</th>\n",
       "      <th>Sample_size</th>\n",
       "      <th>Men</th>\n",
       "      <th>Women</th>\n",
       "      <th>ShareWomen</th>\n",
       "      <th>Employed</th>\n",
       "      <th>...</th>\n",
       "      <th>Full_time_year_round</th>\n",
       "      <th>Unemployed</th>\n",
       "      <th>Unemployment_rate</th>\n",
       "      <th>Median</th>\n",
       "      <th>P25th</th>\n",
       "      <th>P75th</th>\n",
       "      <th>College_jobs</th>\n",
       "      <th>Non_college_jobs</th>\n",
       "      <th>Low_wage_jobs</th>\n",
       "      <th>Percent_Employed</th>\n",
       "    </tr>\n",
       "  </thead>\n",
       "  <tbody>\n",
       "    <tr>\n",
       "      <th>2</th>\n",
       "      <td>142</td>\n",
       "      <td>6005</td>\n",
       "      <td>FILM VIDEO AND PHOTOGRAPHIC ARTS</td>\n",
       "      <td>NaN</td>\n",
       "      <td>38761</td>\n",
       "      <td>331</td>\n",
       "      <td>22339</td>\n",
       "      <td>49030</td>\n",
       "      <td>0.686993</td>\n",
       "      <td>31433</td>\n",
       "      <td>...</td>\n",
       "      <td>15740</td>\n",
       "      <td>3718</td>\n",
       "      <td>0.105772</td>\n",
       "      <td>32000</td>\n",
       "      <td>22000</td>\n",
       "      <td>42000</td>\n",
       "      <td>7368</td>\n",
       "      <td>20721</td>\n",
       "      <td>5862</td>\n",
       "      <td>0.810944</td>\n",
       "    </tr>\n",
       "    <tr>\n",
       "      <th>4</th>\n",
       "      <td>150</td>\n",
       "      <td>6000</td>\n",
       "      <td>FINE ARTS</td>\n",
       "      <td>NaN</td>\n",
       "      <td>74440</td>\n",
       "      <td>623</td>\n",
       "      <td>24786</td>\n",
       "      <td>49654</td>\n",
       "      <td>0.667034</td>\n",
       "      <td>59679</td>\n",
       "      <td>...</td>\n",
       "      <td>31877</td>\n",
       "      <td>5486</td>\n",
       "      <td>0.084186</td>\n",
       "      <td>30500</td>\n",
       "      <td>21000</td>\n",
       "      <td>41000</td>\n",
       "      <td>20792</td>\n",
       "      <td>32725</td>\n",
       "      <td>11880</td>\n",
       "      <td>0.801706</td>\n",
       "    </tr>\n",
       "    <tr>\n",
       "      <th>7</th>\n",
       "      <td>167</td>\n",
       "      <td>6001</td>\n",
       "      <td>DRAMA AND THEATER ARTS</td>\n",
       "      <td>NaN</td>\n",
       "      <td>43249</td>\n",
       "      <td>357</td>\n",
       "      <td>7022</td>\n",
       "      <td>11931</td>\n",
       "      <td>0.629505</td>\n",
       "      <td>36165</td>\n",
       "      <td>...</td>\n",
       "      <td>16891</td>\n",
       "      <td>3040</td>\n",
       "      <td>0.077541</td>\n",
       "      <td>27000</td>\n",
       "      <td>19200</td>\n",
       "      <td>35000</td>\n",
       "      <td>6994</td>\n",
       "      <td>25313</td>\n",
       "      <td>11068</td>\n",
       "      <td>0.836204</td>\n",
       "    </tr>\n",
       "  </tbody>\n",
       "</table>\n",
       "<p>3 rows × 22 columns</p>\n",
       "</div>"
      ],
      "text/plain": [
       "   Rank  Major_code                             Major  Major_category  Total  \\\n",
       "2   142        6005  FILM VIDEO AND PHOTOGRAPHIC ARTS             NaN  38761   \n",
       "4   150        6000                         FINE ARTS             NaN  74440   \n",
       "7   167        6001            DRAMA AND THEATER ARTS             NaN  43249   \n",
       "\n",
       "   Sample_size    Men  Women  ShareWomen  Employed        ...         \\\n",
       "2          331  22339  49030    0.686993     31433        ...          \n",
       "4          623  24786  49654    0.667034     59679        ...          \n",
       "7          357   7022  11931    0.629505     36165        ...          \n",
       "\n",
       "   Full_time_year_round  Unemployed  Unemployment_rate  Median  P25th  P75th  \\\n",
       "2                 15740        3718           0.105772   32000  22000  42000   \n",
       "4                 31877        5486           0.084186   30500  21000  41000   \n",
       "7                 16891        3040           0.077541   27000  19200  35000   \n",
       "\n",
       "   College_jobs  Non_college_jobs  Low_wage_jobs  Percent_Employed  \n",
       "2          7368             20721           5862          0.810944  \n",
       "4         20792             32725          11880          0.801706  \n",
       "7          6994             25313          11068          0.836204  \n",
       "\n",
       "[3 rows x 22 columns]"
      ]
     },
     "execution_count": 47,
     "metadata": {},
     "output_type": "execute_result"
    }
   ],
   "source": [
    "df[(df.Total > 20000) & (df.ShareWomen > 0.50)]"
   ]
  },
  {
   "cell_type": "markdown",
   "metadata": {},
   "source": [
    "And just for fun I'll demonstrate the same statement with the `|` operator"
   ]
  },
  {
   "cell_type": "code",
   "execution_count": 48,
   "metadata": {
    "collapsed": false
   },
   "outputs": [
    {
     "data": {
      "text/html": [
       "<div>\n",
       "<table border=\"1\" class=\"dataframe\">\n",
       "  <thead>\n",
       "    <tr style=\"text-align: right;\">\n",
       "      <th></th>\n",
       "      <th>Rank</th>\n",
       "      <th>Major_code</th>\n",
       "      <th>Major</th>\n",
       "      <th>Major_category</th>\n",
       "      <th>Total</th>\n",
       "      <th>Sample_size</th>\n",
       "      <th>Men</th>\n",
       "      <th>Women</th>\n",
       "      <th>ShareWomen</th>\n",
       "      <th>Employed</th>\n",
       "      <th>...</th>\n",
       "      <th>Full_time_year_round</th>\n",
       "      <th>Unemployed</th>\n",
       "      <th>Unemployment_rate</th>\n",
       "      <th>Median</th>\n",
       "      <th>P25th</th>\n",
       "      <th>P75th</th>\n",
       "      <th>College_jobs</th>\n",
       "      <th>Non_college_jobs</th>\n",
       "      <th>Low_wage_jobs</th>\n",
       "      <th>Percent_Employed</th>\n",
       "    </tr>\n",
       "  </thead>\n",
       "  <tbody>\n",
       "    <tr>\n",
       "      <th>1</th>\n",
       "      <td>96</td>\n",
       "      <td>6004</td>\n",
       "      <td>COMMERCIAL ART AND GRAPHIC DESIGN</td>\n",
       "      <td>NaN</td>\n",
       "      <td>103480</td>\n",
       "      <td>1186</td>\n",
       "      <td>8617</td>\n",
       "      <td>5156</td>\n",
       "      <td>0.374356</td>\n",
       "      <td>83483</td>\n",
       "      <td>...</td>\n",
       "      <td>52243</td>\n",
       "      <td>8947</td>\n",
       "      <td>0.096798</td>\n",
       "      <td>35000</td>\n",
       "      <td>25000</td>\n",
       "      <td>45000</td>\n",
       "      <td>37389</td>\n",
       "      <td>38119</td>\n",
       "      <td>14839</td>\n",
       "      <td>0.806755</td>\n",
       "    </tr>\n",
       "    <tr>\n",
       "      <th>2</th>\n",
       "      <td>142</td>\n",
       "      <td>6005</td>\n",
       "      <td>FILM VIDEO AND PHOTOGRAPHIC ARTS</td>\n",
       "      <td>NaN</td>\n",
       "      <td>38761</td>\n",
       "      <td>331</td>\n",
       "      <td>22339</td>\n",
       "      <td>49030</td>\n",
       "      <td>0.686993</td>\n",
       "      <td>31433</td>\n",
       "      <td>...</td>\n",
       "      <td>15740</td>\n",
       "      <td>3718</td>\n",
       "      <td>0.105772</td>\n",
       "      <td>32000</td>\n",
       "      <td>22000</td>\n",
       "      <td>42000</td>\n",
       "      <td>7368</td>\n",
       "      <td>20721</td>\n",
       "      <td>5862</td>\n",
       "      <td>0.810944</td>\n",
       "    </tr>\n",
       "    <tr>\n",
       "      <th>3</th>\n",
       "      <td>147</td>\n",
       "      <td>6002</td>\n",
       "      <td>MUSIC</td>\n",
       "      <td>NaN</td>\n",
       "      <td>60633</td>\n",
       "      <td>419</td>\n",
       "      <td>15670</td>\n",
       "      <td>12543</td>\n",
       "      <td>0.444582</td>\n",
       "      <td>47662</td>\n",
       "      <td>...</td>\n",
       "      <td>21425</td>\n",
       "      <td>3918</td>\n",
       "      <td>0.075960</td>\n",
       "      <td>31000</td>\n",
       "      <td>22300</td>\n",
       "      <td>42000</td>\n",
       "      <td>13752</td>\n",
       "      <td>28786</td>\n",
       "      <td>9286</td>\n",
       "      <td>0.786074</td>\n",
       "    </tr>\n",
       "    <tr>\n",
       "      <th>4</th>\n",
       "      <td>150</td>\n",
       "      <td>6000</td>\n",
       "      <td>FINE ARTS</td>\n",
       "      <td>NaN</td>\n",
       "      <td>74440</td>\n",
       "      <td>623</td>\n",
       "      <td>24786</td>\n",
       "      <td>49654</td>\n",
       "      <td>0.667034</td>\n",
       "      <td>59679</td>\n",
       "      <td>...</td>\n",
       "      <td>31877</td>\n",
       "      <td>5486</td>\n",
       "      <td>0.084186</td>\n",
       "      <td>30500</td>\n",
       "      <td>21000</td>\n",
       "      <td>41000</td>\n",
       "      <td>20792</td>\n",
       "      <td>32725</td>\n",
       "      <td>11880</td>\n",
       "      <td>0.801706</td>\n",
       "    </tr>\n",
       "    <tr>\n",
       "      <th>5</th>\n",
       "      <td>154</td>\n",
       "      <td>6003</td>\n",
       "      <td>VISUAL AND PERFORMING ARTS</td>\n",
       "      <td>NaN</td>\n",
       "      <td>16250</td>\n",
       "      <td>132</td>\n",
       "      <td>2013</td>\n",
       "      <td>4639</td>\n",
       "      <td>0.697384</td>\n",
       "      <td>12870</td>\n",
       "      <td>...</td>\n",
       "      <td>6322</td>\n",
       "      <td>1465</td>\n",
       "      <td>0.102197</td>\n",
       "      <td>30000</td>\n",
       "      <td>22000</td>\n",
       "      <td>40000</td>\n",
       "      <td>3849</td>\n",
       "      <td>7635</td>\n",
       "      <td>2840</td>\n",
       "      <td>0.792000</td>\n",
       "    </tr>\n",
       "    <tr>\n",
       "      <th>6</th>\n",
       "      <td>160</td>\n",
       "      <td>6007</td>\n",
       "      <td>STUDIO ARTS</td>\n",
       "      <td>NaN</td>\n",
       "      <td>16977</td>\n",
       "      <td>182</td>\n",
       "      <td>4364</td>\n",
       "      <td>6146</td>\n",
       "      <td>0.584776</td>\n",
       "      <td>13908</td>\n",
       "      <td>...</td>\n",
       "      <td>7413</td>\n",
       "      <td>1368</td>\n",
       "      <td>0.089552</td>\n",
       "      <td>29000</td>\n",
       "      <td>19200</td>\n",
       "      <td>38300</td>\n",
       "      <td>3948</td>\n",
       "      <td>8707</td>\n",
       "      <td>3586</td>\n",
       "      <td>0.819226</td>\n",
       "    </tr>\n",
       "    <tr>\n",
       "      <th>7</th>\n",
       "      <td>167</td>\n",
       "      <td>6001</td>\n",
       "      <td>DRAMA AND THEATER ARTS</td>\n",
       "      <td>NaN</td>\n",
       "      <td>43249</td>\n",
       "      <td>357</td>\n",
       "      <td>7022</td>\n",
       "      <td>11931</td>\n",
       "      <td>0.629505</td>\n",
       "      <td>36165</td>\n",
       "      <td>...</td>\n",
       "      <td>16891</td>\n",
       "      <td>3040</td>\n",
       "      <td>0.077541</td>\n",
       "      <td>27000</td>\n",
       "      <td>19200</td>\n",
       "      <td>35000</td>\n",
       "      <td>6994</td>\n",
       "      <td>25313</td>\n",
       "      <td>11068</td>\n",
       "      <td>0.836204</td>\n",
       "    </tr>\n",
       "  </tbody>\n",
       "</table>\n",
       "<p>7 rows × 22 columns</p>\n",
       "</div>"
      ],
      "text/plain": [
       "   Rank  Major_code                              Major  Major_category  \\\n",
       "1    96        6004  COMMERCIAL ART AND GRAPHIC DESIGN             NaN   \n",
       "2   142        6005   FILM VIDEO AND PHOTOGRAPHIC ARTS             NaN   \n",
       "3   147        6002                              MUSIC             NaN   \n",
       "4   150        6000                          FINE ARTS             NaN   \n",
       "5   154        6003         VISUAL AND PERFORMING ARTS             NaN   \n",
       "6   160        6007                        STUDIO ARTS             NaN   \n",
       "7   167        6001             DRAMA AND THEATER ARTS             NaN   \n",
       "\n",
       "    Total  Sample_size    Men  Women  ShareWomen  Employed        ...         \\\n",
       "1  103480         1186   8617   5156    0.374356     83483        ...          \n",
       "2   38761          331  22339  49030    0.686993     31433        ...          \n",
       "3   60633          419  15670  12543    0.444582     47662        ...          \n",
       "4   74440          623  24786  49654    0.667034     59679        ...          \n",
       "5   16250          132   2013   4639    0.697384     12870        ...          \n",
       "6   16977          182   4364   6146    0.584776     13908        ...          \n",
       "7   43249          357   7022  11931    0.629505     36165        ...          \n",
       "\n",
       "   Full_time_year_round  Unemployed  Unemployment_rate  Median  P25th  P75th  \\\n",
       "1                 52243        8947           0.096798   35000  25000  45000   \n",
       "2                 15740        3718           0.105772   32000  22000  42000   \n",
       "3                 21425        3918           0.075960   31000  22300  42000   \n",
       "4                 31877        5486           0.084186   30500  21000  41000   \n",
       "5                  6322        1465           0.102197   30000  22000  40000   \n",
       "6                  7413        1368           0.089552   29000  19200  38300   \n",
       "7                 16891        3040           0.077541   27000  19200  35000   \n",
       "\n",
       "   College_jobs  Non_college_jobs  Low_wage_jobs  Percent_Employed  \n",
       "1         37389             38119          14839          0.806755  \n",
       "2          7368             20721           5862          0.810944  \n",
       "3         13752             28786           9286          0.786074  \n",
       "4         20792             32725          11880          0.801706  \n",
       "5          3849              7635           2840          0.792000  \n",
       "6          3948              8707           3586          0.819226  \n",
       "7          6994             25313          11068          0.836204  \n",
       "\n",
       "[7 rows x 22 columns]"
      ]
     },
     "execution_count": 48,
     "metadata": {},
     "output_type": "execute_result"
    }
   ],
   "source": [
    "df[(df.Total > 20000) | (df.ShareWomen > 0.50)]"
   ]
  },
  {
   "cell_type": "markdown",
   "metadata": {},
   "source": [
    "So you can see here that we now have 7 of the 8 majors printing. Only one major (Miscellaneous fine arts) does not have either more than 20,000 students that have graduated recently or a Share of Women in the major greater than 50%.\n",
    "\n",
    "And with that you've seen the biggest conceptual shift between working with Pandas and analyzing data with raw Python.\n",
    "\n",
    "When you directly program code to work with data, you tell it what to do, step by step. We would go through each value and see if it met our conditions like this:\n",
    "\n",
    "    for total_students in total:\n",
    "        if total_students > 20000:\n",
    "            #Continue with code\n",
    "            \n",
    "We're basically writing a procedure for how things should be done. It's very readable and, if we keep our statements separated, it's very easy to debug.\n",
    "\n",
    "Pandas doesn't work like that. You don't tell it **what to do** really, you tell it **what you want** and it figures out how to get it to you. \n",
    "\n",
    "For someone that's been doing data analysis without Pandas or heavily relying on SQL this is an unsettling shift. That unsettling feeling isn't unwarranted, it's a tough concept to get used to and 'hiding' the mechanics of what is going on can easily lead to errors (especially when you try to execute a complicated statement right away). \n",
    "\n",
    "The worst part is that in a lot of these cases, Pandas will dutifully execute the statement you asked for and not provide an error (since technically there wasn't an error, just a gap in translating what you wanted/how you wanted the data handled to the machine). \n",
    "\n",
    "My advice though is to start slowly. IPython Notebook changes everything when it comes to learning complicated packages, making it possible to both learn a package and, whenever you start a new project, your data.\n",
    "\n",
    "Even with these warts, which is more related to this style of analysis than the library, Pandas has some amazing features that make it really worth using."
   ]
  },
  {
   "cell_type": "markdown",
   "metadata": {
    "collapsed": true
   },
   "source": [
    "# Getting your data out of Pandas\n",
    "\n",
    "But sometimes you really do need to work with the data in a Pandas dataframe with regular Python code. At any time you can extract the data in a row, column or the entire dataframe and we do that by appending `.values`.\n",
    "\n",
    "When we ask for the `values` from a Pandas dataframe it returns a Numpy array."
   ]
  },
  {
   "cell_type": "code",
   "execution_count": 50,
   "metadata": {
    "collapsed": false
   },
   "outputs": [
    {
     "data": {
      "text/plain": [
       "array([  3340, 103480,  38761,  60633,  74440,  16250,  16977,  43249])"
      ]
     },
     "execution_count": 50,
     "metadata": {},
     "output_type": "execute_result"
    }
   ],
   "source": [
    "df.Total.values"
   ]
  },
  {
   "cell_type": "markdown",
   "metadata": {},
   "source": [
    "There, now we have an array of the actual raw values. We can iterate through these easily:"
   ]
  },
  {
   "cell_type": "code",
   "execution_count": 51,
   "metadata": {
    "collapsed": false
   },
   "outputs": [
    {
     "name": "stdout",
     "output_type": "stream",
     "text": [
      "3340\n",
      "103480\n",
      "38761\n",
      "60633\n",
      "74440\n",
      "16250\n",
      "16977\n",
      "43249\n"
     ]
    }
   ],
   "source": [
    "for value in df.Total.values:\n",
    "    print(value)"
   ]
  },
  {
   "cell_type": "markdown",
   "metadata": {},
   "source": [
    "If we need to have a list instead of a Numpy array (because they aren't the same thing!) we can do that easily too."
   ]
  },
  {
   "cell_type": "code",
   "execution_count": 52,
   "metadata": {
    "collapsed": false
   },
   "outputs": [
    {
     "data": {
      "text/plain": [
       "[3340, 103480, 38761, 60633, 74440, 16250, 16977, 43249]"
      ]
     },
     "execution_count": 52,
     "metadata": {},
     "output_type": "execute_result"
    }
   ],
   "source": [
    "df.Total.values.tolist()"
   ]
  },
  {
   "cell_type": "code",
   "execution_count": null,
   "metadata": {
    "collapsed": true
   },
   "outputs": [],
   "source": []
  },
  {
   "cell_type": "code",
   "execution_count": null,
   "metadata": {
    "collapsed": true
   },
   "outputs": [],
   "source": []
  },
  {
   "cell_type": "code",
   "execution_count": null,
   "metadata": {
    "collapsed": true
   },
   "outputs": [],
   "source": []
  },
  {
   "cell_type": "code",
   "execution_count": 49,
   "metadata": {
    "collapsed": false
   },
   "outputs": [
    {
     "data": {
      "text/html": [
       "<style>\n",
       "    @font-face {\n",
       "        font-family: \"Computer Modern\";\n",
       "        src: url('http://9dbb143991406a7c655e-aa5fcb0a5a4ec34cff238a2d56ca4144.r56.cf5.rackcdn.com/cmunss.otf');\n",
       "    }\n",
       "    @font-face {\n",
       "        font-family: \"Computer Modern\";\n",
       "        font-weight: bold;\n",
       "        src: url('http://9dbb143991406a7c655e-aa5fcb0a5a4ec34cff238a2d56ca4144.r56.cf5.rackcdn.com/cmunsx.otf');\n",
       "    }\n",
       "    @font-face {\n",
       "        font-family: \"Computer Modern\";\n",
       "        font-style: oblique;\n",
       "        src: url('http://9dbb143991406a7c655e-aa5fcb0a5a4ec34cff238a2d56ca4144.r56.cf5.rackcdn.com/cmunsi.otf');\n",
       "    }\n",
       "    @font-face {\n",
       "        font-family: \"Computer Modern\";\n",
       "        font-weight: bold;\n",
       "        font-style: oblique;\n",
       "        src: url('http://9dbb143991406a7c655e-aa5fcb0a5a4ec34cff238a2d56ca4144.r56.cf5.rackcdn.com/cmunso.otf');\n",
       "    }\n",
       "    div.cell{\n",
       "        width:800px;\n",
       "        margin-left:16% !important;\n",
       "        margin-right:auto;\n",
       "    }\n",
       "    h1 {\n",
       "        font-family: Helvetica, serif;\n",
       "    }\n",
       "    h4{\n",
       "        margin-top:12px;\n",
       "        margin-bottom: 3px;\n",
       "       }\n",
       "    div.text_cell_render{\n",
       "        font-family: Computer Modern, \"Helvetica Neue\", Arial, Helvetica, Geneva, sans-serif;\n",
       "        line-height: 145%;\n",
       "        font-size: 130%;\n",
       "        width:800px;\n",
       "        margin-left:auto;\n",
       "        margin-right:auto;\n",
       "    }\n",
       "    .CodeMirror{\n",
       "            font-family: \"Source Code Pro\", source-code-pro,Consolas, monospace;\n",
       "    }\n",
       "    .text_cell_render h5 {\n",
       "        font-weight: 300;\n",
       "        font-size: 22pt;\n",
       "        color: #4057A1;\n",
       "        font-style: italic;\n",
       "        margin-bottom: .5em;\n",
       "        margin-top: 0.5em;\n",
       "        display: block;\n",
       "    }\n",
       "    \n",
       "    .warning{\n",
       "        color: rgb( 240, 20, 20 )\n",
       "        }  \n",
       "</style>\n",
       "<script>\n",
       "    MathJax.Hub.Config({\n",
       "                        TeX: {\n",
       "                           extensions: [\"AMSmath.js\"]\n",
       "                           },\n",
       "                tex2jax: {\n",
       "                    inlineMath: [ ['$','$'], [\"\\\\(\",\"\\\\)\"] ],\n",
       "                    displayMath: [ ['$$','$$'], [\"\\\\[\",\"\\\\]\"] ]\n",
       "                },\n",
       "                displayAlign: 'center', // Change this to 'center' to center equations.\n",
       "                \"HTML-CSS\": {\n",
       "                    styles: {'.MathJax_Display': {\"margin\": 4}}\n",
       "                }\n",
       "        });\n",
       "</script>\n"
      ],
      "text/plain": [
       "<IPython.core.display.HTML object>"
      ]
     },
     "execution_count": 49,
     "metadata": {},
     "output_type": "execute_result"
    }
   ],
   "source": [
    "from IPython.core.display import HTML\n",
    "from IPython.lib.display import YouTubeVideo\n",
    "\n",
    "\n",
    "def css_styling():\n",
    "    styles = open(\"../styles/custom.css\", \"r\").read()\n",
    "    return HTML(styles)\n",
    "css_styling()"
   ]
  },
  {
   "cell_type": "code",
   "execution_count": null,
   "metadata": {
    "collapsed": true
   },
   "outputs": [],
   "source": []
  }
 ],
 "metadata": {
  "kernelspec": {
   "display_name": "Python 3",
   "language": "python",
   "name": "python3"
  },
  "language_info": {
   "codemirror_mode": {
    "name": "ipython",
    "version": 3
   },
   "file_extension": ".py",
   "mimetype": "text/x-python",
   "name": "python",
   "nbconvert_exporter": "python",
   "pygments_lexer": "ipython3",
   "version": "3.4.3"
  }
 },
 "nbformat": 4,
 "nbformat_minor": 0
}
