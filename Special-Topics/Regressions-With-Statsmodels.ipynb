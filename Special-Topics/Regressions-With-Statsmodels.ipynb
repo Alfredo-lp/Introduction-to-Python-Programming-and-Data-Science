{
 "cells": [
  {
   "cell_type": "code",
   "execution_count": 4,
   "metadata": {
    "collapsed": false
   },
   "outputs": [
    {
     "data": {
      "text/html": [
       "<style>\n",
       "    @font-face {\n",
       "        font-family: \"Computer Modern\";\n",
       "        src: url('http://9dbb143991406a7c655e-aa5fcb0a5a4ec34cff238a2d56ca4144.r56.cf5.rackcdn.com/cmunss.otf');\n",
       "    }\n",
       "    @font-face {\n",
       "        font-family: \"Computer Modern\";\n",
       "        font-weight: bold;\n",
       "        src: url('http://9dbb143991406a7c655e-aa5fcb0a5a4ec34cff238a2d56ca4144.r56.cf5.rackcdn.com/cmunsx.otf');\n",
       "    }\n",
       "    @font-face {\n",
       "        font-family: \"Computer Modern\";\n",
       "        font-style: oblique;\n",
       "        src: url('http://9dbb143991406a7c655e-aa5fcb0a5a4ec34cff238a2d56ca4144.r56.cf5.rackcdn.com/cmunsi.otf');\n",
       "    }\n",
       "    @font-face {\n",
       "        font-family: \"Computer Modern\";\n",
       "        font-weight: bold;\n",
       "        font-style: oblique;\n",
       "        src: url('http://9dbb143991406a7c655e-aa5fcb0a5a4ec34cff238a2d56ca4144.r56.cf5.rackcdn.com/cmunso.otf');\n",
       "    }\n",
       "    div.cell{\n",
       "        width:800px;\n",
       "        /*margin-left:0% !important;*/\n",
       "        /*margin-left:auto;*/\n",
       "        /*margin-right:auto;*/\n",
       "    }\n",
       "    h1 {\n",
       "        font-family: Helvetica, serif;\n",
       "    }\n",
       "    h4{\n",
       "        margin-top:12px;\n",
       "        margin-bottom: 3px;\n",
       "       }\n",
       "    div.text_cell_render{\n",
       "        font-family: Computer Modern, \"Helvetica Neue\", Arial, Helvetica, Geneva, sans-serif;\n",
       "        line-height: 145%;\n",
       "        font-size: 130%;\n",
       "        width:800px;\n",
       "        margin-left:auto;\n",
       "        margin-right:auto;\n",
       "    }\n",
       "    .CodeMirror{\n",
       "            font-family: \"Source Code Pro\", source-code-pro,Consolas, monospace;\n",
       "    }\n",
       "    .text_cell_render h5 {\n",
       "        font-weight: 300;\n",
       "        font-size: 22pt;\n",
       "        color: #4057A1;\n",
       "        font-style: italic;\n",
       "        margin-bottom: .5em;\n",
       "        margin-top: 0.5em;\n",
       "        display: block;\n",
       "    }\n",
       "    \n",
       "    .warning{\n",
       "        color: rgb( 240, 20, 20 )\n",
       "        }  \n",
       "</style>\n",
       "<script>\n",
       "    MathJax.Hub.Config({\n",
       "                        TeX: {\n",
       "                           extensions: [\"AMSmath.js\"]\n",
       "                           },\n",
       "                tex2jax: {\n",
       "                    inlineMath: [ ['$','$'], [\"\\\\(\",\"\\\\)\"] ],\n",
       "                    displayMath: [ ['$$','$$'], [\"\\\\[\",\"\\\\]\"] ]\n",
       "                },\n",
       "                displayAlign: 'center', // Change this to 'center' to center equations.\n",
       "                \"HTML-CSS\": {\n",
       "                    styles: {'.MathJax_Display': {\"margin\": 4}}\n",
       "                }\n",
       "        });\n",
       "</script>\n"
      ],
      "text/plain": [
       "<IPython.core.display.HTML object>"
      ]
     },
     "execution_count": 4,
     "metadata": {},
     "output_type": "execute_result"
    }
   ],
   "source": [
    "from IPython.core.display import HTML\n",
    "from IPython.lib.display import YouTubeVideo\n",
    "\n",
    "\n",
    "def css_styling():\n",
    "    styles = open(\"../styles/custom.css\", \"r\").read()\n",
    "    return HTML(styles)\n",
    "css_styling()"
   ]
  },
  {
   "cell_type": "code",
   "execution_count": 5,
   "metadata": {
    "collapsed": true
   },
   "outputs": [],
   "source": [
    "%matplotlib inline"
   ]
  },
  {
   "cell_type": "markdown",
   "metadata": {},
   "source": [
    "# Regressions!\n",
    "\n",
    "Many of you have created a linear regression before, although not all of you may know that you did it. The basic idea is pretty simple, we want to calculate the relationship between some variable $x$ to another variable $y$. \n",
    "\n",
    "Sounds familiar right? All I'm describing is the equation $y = mx + b$ which we learned back in high school. This linear model describes the relationship between some independent $x$ variable and it's dependent $y$.\n",
    "\n",
    "Fitting a regression model is common in many disciplines, so I'm going to show you how to do that in Python now. I want to explain enough of the basics of what a regression model is so everyone can follow along as I show how to do this, but this isn't meant as a proper explanation of when to use a regression model or the underlying statistics. If you're not familiar with this model or the underlying staistics and want to learn more I recommend this [statistics textbook](http://www.amazon.com/Statistics-4th-Edition-David-Freedman/dp/0393929728)."
   ]
  },
  {
   "cell_type": "markdown",
   "metadata": {},
   "source": [
    "#But...math!\n",
    "\n",
    "I know, so let's start with a simple, concrete example. Let's say that someone's High-School Senior GPA is almost exactly the same as their first year College GPA. This means that if we wanted to predict a students first year gpa we would just guess their High school GPA. More simply $y = x$.\n",
    "\n",
    "I'll create that data now with Numpy, but instead I'll just apply a little bit of noise to the values."
   ]
  },
  {
   "cell_type": "code",
   "execution_count": 89,
   "metadata": {
    "collapsed": false
   },
   "outputs": [],
   "source": [
    "import numpy as np\n",
    "import matplotlib.pyplot as plt\n",
    "import matplotlib as mpl\n",
    "#We turn off the latex usage in matplotlib because LaTeX doesn't know\n",
    "#how to handle a '_' character without it being escaped with a backslash\n",
    "#Since we use '_' in column names typically this can be a bit of a problem\n",
    "#If we don't turn this off\n",
    "mpl.rc('text', usetex=False)"
   ]
  },
  {
   "cell_type": "code",
   "execution_count": 28,
   "metadata": {
    "collapsed": true
   },
   "outputs": [],
   "source": [
    "#I will create 100 gpas, with a random probability\n",
    "high_school_gpas = np.random.uniform(0, 4, 100)\n",
    "#The college gpas are created by adding some noise\n",
    "college_gpas = high_school_gpas + np.random.normal(0, 0.2, 100)"
   ]
  },
  {
   "cell_type": "markdown",
   "metadata": {},
   "source": [
    "Now let's plot the relationship just so it's clear."
   ]
  },
  {
   "cell_type": "code",
   "execution_count": 29,
   "metadata": {
    "collapsed": false
   },
   "outputs": [
    {
     "data": {
      "text/plain": [
       "<matplotlib.text.Text at 0x10d0059e8>"
      ]
     },
     "execution_count": 29,
     "metadata": {},
     "output_type": "execute_result"
    },
    {
     "data": {
      "image/png": "[encoded data removed]",
      "text/plain": [
       "<matplotlib.figure.Figure at 0x10c5e88d0>"
      ]
     },
     "metadata": {},
     "output_type": "display_data"
    }
   ],
   "source": [
    "plt.scatter(high_school_gpas, college_gpas, color='steelblue')\n",
    "plt.ylabel('College GPA')\n",
    "plt.xlabel('High School GPA')"
   ]
  },
  {
   "cell_type": "markdown",
   "metadata": {},
   "source": [
    "Now let's say that we didn't create this data and we wanted to identify the relationship between the High School and College GPA. We can do that by fitting a linear model to this data.\n",
    "\n",
    "With Python we can fit a Linear Model using the `statsmodels` library. Fitting a linear model involves using [Ordinary Least Squares](https://en.wikipedia.org/wiki/Ordinary_least_squares) to identify the parameters. In this lecture I won't go over how this works, but you should look into it later if you plan on fitting linear models."
   ]
  },
  {
   "cell_type": "code",
   "execution_count": 30,
   "metadata": {
    "collapsed": false
   },
   "outputs": [],
   "source": [
    "import statsmodels.api as sm"
   ]
  },
  {
   "cell_type": "markdown",
   "metadata": {},
   "source": [
    "First what I do is add a constant to independent dataset. Without this we are just modelling $y=mx$, instead of $y=mx+b$. Our example doesn't need this constant, but I want to show you how to do it."
   ]
  },
  {
   "cell_type": "code",
   "execution_count": 31,
   "metadata": {
    "collapsed": true
   },
   "outputs": [],
   "source": [
    "X = sm.add_constant(high_school_gpas)"
   ]
  },
  {
   "cell_type": "markdown",
   "metadata": {},
   "source": [
    "Now we create the ordinary least squares regression, this is our `model`"
   ]
  },
  {
   "cell_type": "code",
   "execution_count": 33,
   "metadata": {
    "collapsed": false
   },
   "outputs": [],
   "source": [
    "simdata_model = sm.OLS(college_gpas, X)"
   ]
  },
  {
   "cell_type": "markdown",
   "metadata": {},
   "source": [
    "Once we fit the model, this becomes our result"
   ]
  },
  {
   "cell_type": "code",
   "execution_count": 34,
   "metadata": {
    "collapsed": true
   },
   "outputs": [],
   "source": [
    "simdata_result = simdata_model.fit()"
   ]
  },
  {
   "cell_type": "markdown",
   "metadata": {},
   "source": [
    "The fitted result has a number of features, but the one that we care about most is the `summary()`. This tells us about our fitted model."
   ]
  },
  {
   "cell_type": "code",
   "execution_count": 35,
   "metadata": {
    "collapsed": false
   },
   "outputs": [
    {
     "data": {
      "text/html": [
       "<table class=\"simpletable\">\n",
       "<caption>OLS Regression Results</caption>\n",
       "<tr>\n",
       "  <th>Dep. Variable:</th>            <td>y</td>        <th>  R-squared:         </th> <td>   0.967</td>\n",
       "</tr>\n",
       "<tr>\n",
       "  <th>Model:</th>                   <td>OLS</td>       <th>  Adj. R-squared:    </th> <td>   0.967</td>\n",
       "</tr>\n",
       "<tr>\n",
       "  <th>Method:</th>             <td>Least Squares</td>  <th>  F-statistic:       </th> <td>   2876.</td>\n",
       "</tr>\n",
       "<tr>\n",
       "  <th>Date:</th>             <td>Fri, 28 Aug 2015</td> <th>  Prob (F-statistic):</th> <td>1.95e-74</td>\n",
       "</tr>\n",
       "<tr>\n",
       "  <th>Time:</th>                 <td>09:39:05</td>     <th>  Log-Likelihood:    </th> <td>  20.060</td>\n",
       "</tr>\n",
       "<tr>\n",
       "  <th>No. Observations:</th>      <td>   100</td>      <th>  AIC:               </th> <td>  -36.12</td>\n",
       "</tr>\n",
       "<tr>\n",
       "  <th>Df Residuals:</th>          <td>    98</td>      <th>  BIC:               </th> <td>  -30.91</td>\n",
       "</tr>\n",
       "<tr>\n",
       "  <th>Df Model:</th>              <td>     1</td>      <th>                     </th>     <td> </td>   \n",
       "</tr>\n",
       "<tr>\n",
       "  <th>Covariance Type:</th>      <td>nonrobust</td>    <th>                     </th>     <td> </td>   \n",
       "</tr>\n",
       "</table>\n",
       "<table class=\"simpletable\">\n",
       "<tr>\n",
       "    <td></td>       <th>coef</th>     <th>std err</th>      <th>t</th>      <th>P>|t|</th> <th>[95.0% Conf. Int.]</th> \n",
       "</tr>\n",
       "<tr>\n",
       "  <th>const</th> <td>   -0.0226</td> <td>    0.041</td> <td>   -0.557</td> <td> 0.579</td> <td>   -0.103     0.058</td>\n",
       "</tr>\n",
       "<tr>\n",
       "  <th>x1</th>    <td>    0.9971</td> <td>    0.019</td> <td>   53.626</td> <td> 0.000</td> <td>    0.960     1.034</td>\n",
       "</tr>\n",
       "</table>\n",
       "<table class=\"simpletable\">\n",
       "<tr>\n",
       "  <th>Omnibus:</th>       <td> 0.485</td> <th>  Durbin-Watson:     </th> <td>   2.397</td>\n",
       "</tr>\n",
       "<tr>\n",
       "  <th>Prob(Omnibus):</th> <td> 0.785</td> <th>  Jarque-Bera (JB):  </th> <td>   0.628</td>\n",
       "</tr>\n",
       "<tr>\n",
       "  <th>Skew:</th>          <td>-0.056</td> <th>  Prob(JB):          </th> <td>   0.731</td>\n",
       "</tr>\n",
       "<tr>\n",
       "  <th>Kurtosis:</th>      <td> 2.628</td> <th>  Cond. No.          </th> <td>    5.16</td>\n",
       "</tr>\n",
       "</table>"
      ],
      "text/plain": [
       "<class 'statsmodels.iolib.summary.Summary'>\n",
       "\"\"\"\n",
       "                            OLS Regression Results                            \n",
       "==============================================================================\n",
       "Dep. Variable:                      y   R-squared:                       0.967\n",
       "Model:                            OLS   Adj. R-squared:                  0.967\n",
       "Method:                 Least Squares   F-statistic:                     2876.\n",
       "Date:                Fri, 28 Aug 2015   Prob (F-statistic):           1.95e-74\n",
       "Time:                        09:39:05   Log-Likelihood:                 20.060\n",
       "No. Observations:                 100   AIC:                            -36.12\n",
       "Df Residuals:                      98   BIC:                            -30.91\n",
       "Df Model:                           1                                         \n",
       "Covariance Type:            nonrobust                                         \n",
       "==============================================================================\n",
       "                 coef    std err          t      P>|t|      [95.0% Conf. Int.]\n",
       "------------------------------------------------------------------------------\n",
       "const         -0.0226      0.041     -0.557      0.579        -0.103     0.058\n",
       "x1             0.9971      0.019     53.626      0.000         0.960     1.034\n",
       "==============================================================================\n",
       "Omnibus:                        0.485   Durbin-Watson:                   2.397\n",
       "Prob(Omnibus):                  0.785   Jarque-Bera (JB):                0.628\n",
       "Skew:                          -0.056   Prob(JB):                        0.731\n",
       "Kurtosis:                       2.628   Cond. No.                         5.16\n",
       "==============================================================================\n",
       "\n",
       "Warnings:\n",
       "[1] Standard Errors assume that the covariance matrix of the errors is correctly specified.\n",
       "\"\"\""
      ]
     },
     "execution_count": 35,
     "metadata": {},
     "output_type": "execute_result"
    }
   ],
   "source": [
    "simdata_result.summary()"
   ]
  },
  {
   "cell_type": "markdown",
   "metadata": {},
   "source": [
    "Does anyone know what all of these features mean?\n",
    "\n",
    "**That's insane if you do right now!**"
   ]
  },
  {
   "cell_type": "markdown",
   "metadata": {},
   "source": [
    "Now we can plot the best-fit line along with the data."
   ]
  },
  {
   "cell_type": "code",
   "execution_count": 47,
   "metadata": {
    "collapsed": false
   },
   "outputs": [
    {
     "data": {
      "text/plain": [
       "<matplotlib.text.Text at 0x10f17d7f0>"
      ]
     },
     "execution_count": 47,
     "metadata": {},
     "output_type": "execute_result"
    },
    {
     "data": {
      "image/png": "[encoded data removed]",
      "text/plain": [
       "<matplotlib.figure.Figure at 0x10f22c2b0>"
      ]
     },
     "metadata": {},
     "output_type": "display_data"
    }
   ],
   "source": [
    "#Here is the data again\n",
    "plt.scatter(high_school_gpas, college_gpas, color='steelblue')\n",
    "#Now for our equation\n",
    "sim_x = np.linspace(0, 4, 100)\n",
    "sim_y = 0.9978 * sim_x - 0.0125\n",
    "plt.plot(sim_x, sim_y, color='black', linewidth=2)\n",
    "#Our labelled axes\n",
    "plt.ylabel('College GPA')\n",
    "plt.xlabel('High School GPA')"
   ]
  },
  {
   "cell_type": "markdown",
   "metadata": {},
   "source": [
    "Pretty darn good!\n",
    "\n",
    "But this isn't actually real data. I've downloaded some real data that was a part of an introductory statistics textbook. Let's load that csv with Pandas right now."
   ]
  },
  {
   "cell_type": "code",
   "execution_count": 39,
   "metadata": {
    "collapsed": false
   },
   "outputs": [
    {
     "data": {
      "text/html": [
       "<div>\n",
       "<table border=\"1\" class=\"dataframe\">\n",
       "  <thead>\n",
       "    <tr style=\"text-align: right;\">\n",
       "      <th></th>\n",
       "      <th>GPA</th>\n",
       "      <th>HSGPA</th>\n",
       "      <th>SATV</th>\n",
       "      <th>SATM</th>\n",
       "      <th>Male</th>\n",
       "      <th>HU</th>\n",
       "      <th>SS</th>\n",
       "      <th>FirstGen</th>\n",
       "      <th>White</th>\n",
       "      <th>CollegeBound</th>\n",
       "    </tr>\n",
       "  </thead>\n",
       "  <tbody>\n",
       "    <tr>\n",
       "      <th>0</th>\n",
       "      <td>3.06</td>\n",
       "      <td>3.83</td>\n",
       "      <td>680</td>\n",
       "      <td>770</td>\n",
       "      <td>1</td>\n",
       "      <td>3.0</td>\n",
       "      <td>9.0</td>\n",
       "      <td>1</td>\n",
       "      <td>1</td>\n",
       "      <td>1</td>\n",
       "    </tr>\n",
       "    <tr>\n",
       "      <th>1</th>\n",
       "      <td>4.15</td>\n",
       "      <td>4.00</td>\n",
       "      <td>740</td>\n",
       "      <td>720</td>\n",
       "      <td>0</td>\n",
       "      <td>9.0</td>\n",
       "      <td>3.0</td>\n",
       "      <td>0</td>\n",
       "      <td>1</td>\n",
       "      <td>1</td>\n",
       "    </tr>\n",
       "    <tr>\n",
       "      <th>2</th>\n",
       "      <td>3.41</td>\n",
       "      <td>3.70</td>\n",
       "      <td>640</td>\n",
       "      <td>570</td>\n",
       "      <td>0</td>\n",
       "      <td>16.0</td>\n",
       "      <td>13.0</td>\n",
       "      <td>0</td>\n",
       "      <td>0</td>\n",
       "      <td>1</td>\n",
       "    </tr>\n",
       "    <tr>\n",
       "      <th>3</th>\n",
       "      <td>3.21</td>\n",
       "      <td>3.51</td>\n",
       "      <td>740</td>\n",
       "      <td>700</td>\n",
       "      <td>0</td>\n",
       "      <td>22.0</td>\n",
       "      <td>0.0</td>\n",
       "      <td>0</td>\n",
       "      <td>1</td>\n",
       "      <td>1</td>\n",
       "    </tr>\n",
       "    <tr>\n",
       "      <th>4</th>\n",
       "      <td>3.48</td>\n",
       "      <td>3.83</td>\n",
       "      <td>610</td>\n",
       "      <td>610</td>\n",
       "      <td>0</td>\n",
       "      <td>30.5</td>\n",
       "      <td>1.5</td>\n",
       "      <td>0</td>\n",
       "      <td>1</td>\n",
       "      <td>1</td>\n",
       "    </tr>\n",
       "  </tbody>\n",
       "</table>\n",
       "</div>"
      ],
      "text/plain": [
       "    GPA  HSGPA  SATV  SATM  Male    HU    SS  FirstGen  White  CollegeBound\n",
       "0  3.06   3.83   680   770     1   3.0   9.0         1      1             1\n",
       "1  4.15   4.00   740   720     0   9.0   3.0         0      1             1\n",
       "2  3.41   3.70   640   570     0  16.0  13.0         0      0             1\n",
       "3  3.21   3.51   740   700     0  22.0   0.0         0      1             1\n",
       "4  3.48   3.83   610   610     0  30.5   1.5         0      1             1"
      ]
     },
     "execution_count": 39,
     "metadata": {},
     "output_type": "execute_result"
    }
   ],
   "source": [
    "import pandas as pd\n",
    "\n",
    "df = pd.read_csv('../Data/student_gpa_data.csv')\n",
    "\n",
    "df.head()"
   ]
  },
  {
   "cell_type": "markdown",
   "metadata": {
    "collapsed": true
   },
   "source": [
    "In this dataframe we have 10 columns:\n",
    "\n",
    "    GPA - 1st Year College GPA\n",
    "    HSGPA - High School GPA\n",
    "    SATV - SAT Verbal Score\n",
    "    SATM - SAT Math Score\n",
    "    Male - Male (1) or Female (0)\n",
    "    HU - Number of credit hours earned in humanities courses in high school.\n",
    "    SS - Number of credit hours earned in social science courses in high school.\n",
    "    FirstGen - First Generation College Student\n",
    "    White - White (1) or Other Ethnicity (0) \n",
    "    CollegeBound - 1 = attended a high school where >=50% students intended to go on to college, 0 = otherwise\n",
    "    \n",
    "But right now, let's just look at the relationship between High School GPA and College GPA like we did previously.\n",
    "\n",
    "Like always we should take a look at the raw data before we try to model it."
   ]
  },
  {
   "cell_type": "code",
   "execution_count": 16,
   "metadata": {
    "collapsed": false
   },
   "outputs": [
    {
     "data": {
      "text/plain": [
       "<matplotlib.axes._subplots.AxesSubplot at 0x10c42e5c0>"
      ]
     },
     "execution_count": 16,
     "metadata": {},
     "output_type": "execute_result"
    },
    {
     "data": {
      "image/png": "[encoded data removed]",
      "text/plain": [
       "<matplotlib.figure.Figure at 0x10c474048>"
      ]
     },
     "metadata": {},
     "output_type": "display_data"
    }
   ],
   "source": [
    "df.plot(kind='scatter', x = 'HSGPA', y = 'GPA', color='steelblue')"
   ]
  },
  {
   "cell_type": "markdown",
   "metadata": {},
   "source": [
    "Yikes! Looks like my initially generated data was a bit optimistic....\n",
    "\n",
    "Let's try fitting a linear model to this dataset and see what it looks like."
   ]
  },
  {
   "cell_type": "markdown",
   "metadata": {
    "collapsed": true
   },
   "source": [
    "Now here's a cool thing, there are actually two ways to run regressions with statsmodels. The first one is by importing the vanilla `statsmodels` from `statsmodels.api`. The other way is by calling `statsmodels` formulas, which are from `statmodels.formula.api`. Why is there this crazy naming scheme? ...I can't really tell you actually."
   ]
  },
  {
   "cell_type": "code",
   "execution_count": 17,
   "metadata": {
    "collapsed": true
   },
   "outputs": [],
   "source": [
    "import statsmodels.formula.api as smf"
   ]
  },
  {
   "cell_type": "markdown",
   "metadata": {
    "collapsed": true
   },
   "source": [
    "The great thing about the formula is that it works directly with a Dataframe! We just have to learn a little bit of syntax. I'll show you how it works first."
   ]
  },
  {
   "cell_type": "code",
   "execution_count": 40,
   "metadata": {
    "collapsed": true
   },
   "outputs": [],
   "source": [
    "realdata_model = smf.ols(formula = 'GPA ~ HSGPA', data = df)"
   ]
  },
  {
   "cell_type": "markdown",
   "metadata": {},
   "source": [
    "We actually can type out a formula and it will automatically add a constant. When we write a formula it is set up as:\n",
    "\n",
    "    dependent variable = independent variable\n",
    "    \n",
    "but the equals sign is replaced by a `~`. The cool thing is that all we need to do is tell it the name of the columns in the dataframe that we want it to use in the model.\n",
    "\n",
    "We also tell the model that the data is coming from the dataframe.\n",
    "\n",
    "Now we can fit the model like before"
   ]
  },
  {
   "cell_type": "code",
   "execution_count": 41,
   "metadata": {
    "collapsed": false
   },
   "outputs": [
    {
     "data": {
      "text/html": [
       "<table class=\"simpletable\">\n",
       "<caption>OLS Regression Results</caption>\n",
       "<tr>\n",
       "  <th>Dep. Variable:</th>           <td>GPA</td>       <th>  R-squared:         </th> <td>   0.200</td>\n",
       "</tr>\n",
       "<tr>\n",
       "  <th>Model:</th>                   <td>OLS</td>       <th>  Adj. R-squared:    </th> <td>   0.196</td>\n",
       "</tr>\n",
       "<tr>\n",
       "  <th>Method:</th>             <td>Least Squares</td>  <th>  F-statistic:       </th> <td>   54.15</td>\n",
       "</tr>\n",
       "<tr>\n",
       "  <th>Date:</th>             <td>Fri, 28 Aug 2015</td> <th>  Prob (F-statistic):</th> <td>3.78e-12</td>\n",
       "</tr>\n",
       "<tr>\n",
       "  <th>Time:</th>                 <td>09:41:09</td>     <th>  Log-Likelihood:    </th> <td> -118.38</td>\n",
       "</tr>\n",
       "<tr>\n",
       "  <th>No. Observations:</th>      <td>   219</td>      <th>  AIC:               </th> <td>   240.8</td>\n",
       "</tr>\n",
       "<tr>\n",
       "  <th>Df Residuals:</th>          <td>   217</td>      <th>  BIC:               </th> <td>   247.5</td>\n",
       "</tr>\n",
       "<tr>\n",
       "  <th>Df Model:</th>              <td>     1</td>      <th>                     </th>     <td> </td>   \n",
       "</tr>\n",
       "<tr>\n",
       "  <th>Covariance Type:</th>      <td>nonrobust</td>    <th>                     </th>     <td> </td>   \n",
       "</tr>\n",
       "</table>\n",
       "<table class=\"simpletable\">\n",
       "<tr>\n",
       "      <td></td>         <th>coef</th>     <th>std err</th>      <th>t</th>      <th>P>|t|</th> <th>[95.0% Conf. Int.]</th> \n",
       "</tr>\n",
       "<tr>\n",
       "  <th>Intercept</th> <td>    1.1799</td> <td>    0.262</td> <td>    4.504</td> <td> 0.000</td> <td>    0.664     1.696</td>\n",
       "</tr>\n",
       "<tr>\n",
       "  <th>HSGPA</th>     <td>    0.5550</td> <td>    0.075</td> <td>    7.359</td> <td> 0.000</td> <td>    0.406     0.704</td>\n",
       "</tr>\n",
       "</table>\n",
       "<table class=\"simpletable\">\n",
       "<tr>\n",
       "  <th>Omnibus:</th>       <td> 5.915</td> <th>  Durbin-Watson:     </th> <td>   2.175</td>\n",
       "</tr>\n",
       "<tr>\n",
       "  <th>Prob(Omnibus):</th> <td> 0.052</td> <th>  Jarque-Bera (JB):  </th> <td>   4.952</td>\n",
       "</tr>\n",
       "<tr>\n",
       "  <th>Skew:</th>          <td>-0.279</td> <th>  Prob(JB):          </th> <td>  0.0841</td>\n",
       "</tr>\n",
       "<tr>\n",
       "  <th>Kurtosis:</th>      <td> 2.518</td> <th>  Cond. No.          </th> <td>    34.9</td>\n",
       "</tr>\n",
       "</table>"
      ],
      "text/plain": [
       "<class 'statsmodels.iolib.summary.Summary'>\n",
       "\"\"\"\n",
       "                            OLS Regression Results                            \n",
       "==============================================================================\n",
       "Dep. Variable:                    GPA   R-squared:                       0.200\n",
       "Model:                            OLS   Adj. R-squared:                  0.196\n",
       "Method:                 Least Squares   F-statistic:                     54.15\n",
       "Date:                Fri, 28 Aug 2015   Prob (F-statistic):           3.78e-12\n",
       "Time:                        09:41:09   Log-Likelihood:                -118.38\n",
       "No. Observations:                 219   AIC:                             240.8\n",
       "Df Residuals:                     217   BIC:                             247.5\n",
       "Df Model:                           1                                         \n",
       "Covariance Type:            nonrobust                                         \n",
       "==============================================================================\n",
       "                 coef    std err          t      P>|t|      [95.0% Conf. Int.]\n",
       "------------------------------------------------------------------------------\n",
       "Intercept      1.1799      0.262      4.504      0.000         0.664     1.696\n",
       "HSGPA          0.5550      0.075      7.359      0.000         0.406     0.704\n",
       "==============================================================================\n",
       "Omnibus:                        5.915   Durbin-Watson:                   2.175\n",
       "Prob(Omnibus):                  0.052   Jarque-Bera (JB):                4.952\n",
       "Skew:                          -0.279   Prob(JB):                       0.0841\n",
       "Kurtosis:                       2.518   Cond. No.                         34.9\n",
       "==============================================================================\n",
       "\n",
       "Warnings:\n",
       "[1] Standard Errors assume that the covariance matrix of the errors is correctly specified.\n",
       "\"\"\""
      ]
     },
     "execution_count": 41,
     "metadata": {},
     "output_type": "execute_result"
    }
   ],
   "source": [
    "realdata_result = realdata_model.fit()\n",
    "realdata_result.summary()"
   ]
  },
  {
   "cell_type": "markdown",
   "metadata": {},
   "source": [
    "### So what does this all mean?"
   ]
  },
  {
   "cell_type": "markdown",
   "metadata": {
    "collapsed": true
   },
   "source": [
    "First we can notice the difference in the slope between the simulated data model line and the real data model line. We can show that here quickly."
   ]
  },
  {
   "cell_type": "code",
   "execution_count": 54,
   "metadata": {
    "collapsed": false
   },
   "outputs": [
    {
     "data": {
      "text/plain": [
       "<matplotlib.text.Text at 0x10fa881d0>"
      ]
     },
     "execution_count": 54,
     "metadata": {},
     "output_type": "execute_result"
    },
    {
     "data": {
      "image/png": "[encoded data removed]",
      "text/plain": [
       "<matplotlib.figure.Figure at 0x10fa5da58>"
      ]
     },
     "metadata": {},
     "output_type": "display_data"
    }
   ],
   "source": [
    "#Here I redefine our simulated y to use the same x-range as our real data\n",
    "sim_y = simdata_result.params[1] * real_x + simdata_result.params[0]\n",
    "#Now I plot the lines\n",
    "plt.plot(real_x, real_y, color='black', label='Real Data', linewidth=3)\n",
    "plt.plot(real_x, sim_y, color='steelblue', label='Fake Data', linewidth=3)\n",
    "plt.legend(loc='best')\n",
    "plt.ylabel('College GPA')\n",
    "plt.xlabel('High School GPA')"
   ]
  },
  {
   "cell_type": "markdown",
   "metadata": {},
   "source": [
    "Remember that the slope of a line is defined as the rise over the run (or $\\frac{\\Delta y}{\\Delta x}$)?\n",
    "\n",
    "What this shows here is that in the fake data I made it so that for every point increase in the High School GPA there was an **equal** point increase in the College GPA.\n",
    "\n",
    "In the real data, the slope of the line is not as steep - meaning that the College GPA *rises* less than the High School GPA *runs*. So if a student had a High School GPA of 4.0, we would predict a College GPA of 3.4. "
   ]
  },
  {
   "cell_type": "code",
   "execution_count": 63,
   "metadata": {
    "collapsed": false
   },
   "outputs": [
    {
     "data": {
      "text/html": [
       "<table class=\"simpletable\">\n",
       "<caption>OLS Regression Results</caption>\n",
       "<tr>\n",
       "  <th>Dep. Variable:</th>           <td>GPA</td>       <th>  R-squared:         </th> <td>   0.200</td>\n",
       "</tr>\n",
       "<tr>\n",
       "  <th>Model:</th>                   <td>OLS</td>       <th>  Adj. R-squared:    </th> <td>   0.196</td>\n",
       "</tr>\n",
       "<tr>\n",
       "  <th>Method:</th>             <td>Least Squares</td>  <th>  F-statistic:       </th> <td>   54.15</td>\n",
       "</tr>\n",
       "<tr>\n",
       "  <th>Date:</th>             <td>Fri, 28 Aug 2015</td> <th>  Prob (F-statistic):</th> <td>3.78e-12</td>\n",
       "</tr>\n",
       "<tr>\n",
       "  <th>Time:</th>                 <td>10:05:40</td>     <th>  Log-Likelihood:    </th> <td> -118.38</td>\n",
       "</tr>\n",
       "<tr>\n",
       "  <th>No. Observations:</th>      <td>   219</td>      <th>  AIC:               </th> <td>   240.8</td>\n",
       "</tr>\n",
       "<tr>\n",
       "  <th>Df Residuals:</th>          <td>   217</td>      <th>  BIC:               </th> <td>   247.5</td>\n",
       "</tr>\n",
       "<tr>\n",
       "  <th>Df Model:</th>              <td>     1</td>      <th>                     </th>     <td> </td>   \n",
       "</tr>\n",
       "<tr>\n",
       "  <th>Covariance Type:</th>      <td>nonrobust</td>    <th>                     </th>     <td> </td>   \n",
       "</tr>\n",
       "</table>\n",
       "<table class=\"simpletable\">\n",
       "<tr>\n",
       "      <td></td>         <th>coef</th>     <th>std err</th>      <th>t</th>      <th>P>|t|</th> <th>[95.0% Conf. Int.]</th> \n",
       "</tr>\n",
       "<tr>\n",
       "  <th>Intercept</th> <td>    1.1799</td> <td>    0.262</td> <td>    4.504</td> <td> 0.000</td> <td>    0.664     1.696</td>\n",
       "</tr>\n",
       "<tr>\n",
       "  <th>HSGPA</th>     <td>    0.5550</td> <td>    0.075</td> <td>    7.359</td> <td> 0.000</td> <td>    0.406     0.704</td>\n",
       "</tr>\n",
       "</table>\n",
       "<table class=\"simpletable\">\n",
       "<tr>\n",
       "  <th>Omnibus:</th>       <td> 5.915</td> <th>  Durbin-Watson:     </th> <td>   2.175</td>\n",
       "</tr>\n",
       "<tr>\n",
       "  <th>Prob(Omnibus):</th> <td> 0.052</td> <th>  Jarque-Bera (JB):  </th> <td>   4.952</td>\n",
       "</tr>\n",
       "<tr>\n",
       "  <th>Skew:</th>          <td>-0.279</td> <th>  Prob(JB):          </th> <td>  0.0841</td>\n",
       "</tr>\n",
       "<tr>\n",
       "  <th>Kurtosis:</th>      <td> 2.518</td> <th>  Cond. No.          </th> <td>    34.9</td>\n",
       "</tr>\n",
       "</table>"
      ],
      "text/plain": [
       "<class 'statsmodels.iolib.summary.Summary'>\n",
       "\"\"\"\n",
       "                            OLS Regression Results                            \n",
       "==============================================================================\n",
       "Dep. Variable:                    GPA   R-squared:                       0.200\n",
       "Model:                            OLS   Adj. R-squared:                  0.196\n",
       "Method:                 Least Squares   F-statistic:                     54.15\n",
       "Date:                Fri, 28 Aug 2015   Prob (F-statistic):           3.78e-12\n",
       "Time:                        10:05:40   Log-Likelihood:                -118.38\n",
       "No. Observations:                 219   AIC:                             240.8\n",
       "Df Residuals:                     217   BIC:                             247.5\n",
       "Df Model:                           1                                         \n",
       "Covariance Type:            nonrobust                                         \n",
       "==============================================================================\n",
       "                 coef    std err          t      P>|t|      [95.0% Conf. Int.]\n",
       "------------------------------------------------------------------------------\n",
       "Intercept      1.1799      0.262      4.504      0.000         0.664     1.696\n",
       "HSGPA          0.5550      0.075      7.359      0.000         0.406     0.704\n",
       "==============================================================================\n",
       "Omnibus:                        5.915   Durbin-Watson:                   2.175\n",
       "Prob(Omnibus):                  0.052   Jarque-Bera (JB):                4.952\n",
       "Skew:                          -0.279   Prob(JB):                       0.0841\n",
       "Kurtosis:                       2.518   Cond. No.                         34.9\n",
       "==============================================================================\n",
       "\n",
       "Warnings:\n",
       "[1] Standard Errors assume that the covariance matrix of the errors is correctly specified.\n",
       "\"\"\""
      ]
     },
     "execution_count": 63,
     "metadata": {},
     "output_type": "execute_result"
    }
   ],
   "source": [
    "realdata_result.summary()"
   ]
  },
  {
   "cell_type": "markdown",
   "metadata": {},
   "source": [
    "Next we should notice is that in the real data this model doesn't explain nearly as much of the real data as the synthetic data. We can tell this by the R-squared value. \n",
    "\n",
    "With real data, the high school GPA only predicts 20% of the variance in the real data.\n",
    "\n",
    "This is a bit more intuitive when we look at the regression line plotted against the data."
   ]
  },
  {
   "cell_type": "code",
   "execution_count": 57,
   "metadata": {
    "collapsed": false
   },
   "outputs": [
    {
     "data": {
      "text/plain": [
       "<matplotlib.text.Text at 0x10f851940>"
      ]
     },
     "execution_count": 57,
     "metadata": {},
     "output_type": "execute_result"
    },
    {
     "data": {
      "image/png": "[encoded data removed]",
      "text/plain": [
       "<matplotlib.figure.Figure at 0x10fbc52e8>"
      ]
     },
     "metadata": {},
     "output_type": "display_data"
    }
   ],
   "source": [
    "#Here is the data again\n",
    "ax = df.plot(kind='scatter', x = 'HSGPA', y = 'GPA', color='steelblue')\n",
    "#Now for our equation\n",
    "real_x = np.linspace(df.HSGPA.min(), 4, 100)\n",
    "real_y = realdata_result.params['HSGPA'] * x + realdata_result.params['Intercept']\n",
    "plt.plot(x, real_y, color='black', linewidth=2)\n",
    "#Our labelled axes\n",
    "plt.ylabel('College GPA')\n",
    "plt.xlabel('High School GPA')"
   ]
  },
  {
   "cell_type": "markdown",
   "metadata": {
    "collapsed": true
   },
   "source": [
    "We can tell by looking at the data, that there is much more 'spread' or *variability* in the vertical axis than the line accounts for. This makes sense because of the definition for the [$R^2$ coefficient](https://en.wikipedia.org/wiki/Coefficient_of_determination). This measure compares the distance from each point to the fitted line against the total variability in the dependent data. We would have $R^2=1.0$ if all of the datapoints sat directly on the predicted line."
   ]
  },
  {
   "cell_type": "markdown",
   "metadata": {},
   "source": [
    "This means that in the real world that the High School GPA is not solely predictive of a student's College GPA.\n",
    "\n",
    "I wonder why?\n",
    "\n",
    "Maybe it's because some students may be bored with regular instruction in High School and don't pay attention or turn in assignments. Maybe if we used both the High School GPA and the SAT scores we would be able to predict the College GPA better."
   ]
  },
  {
   "cell_type": "code",
   "execution_count": 77,
   "metadata": {
    "collapsed": false
   },
   "outputs": [
    {
     "data": {
      "text/html": [
       "<table class=\"simpletable\">\n",
       "<caption>OLS Regression Results</caption>\n",
       "<tr>\n",
       "  <th>Dep. Variable:</th>           <td>GPA</td>       <th>  R-squared:         </th> <td>   0.246</td>\n",
       "</tr>\n",
       "<tr>\n",
       "  <th>Model:</th>                   <td>OLS</td>       <th>  Adj. R-squared:    </th> <td>   0.236</td>\n",
       "</tr>\n",
       "<tr>\n",
       "  <th>Method:</th>             <td>Least Squares</td>  <th>  F-statistic:       </th> <td>   23.43</td>\n",
       "</tr>\n",
       "<tr>\n",
       "  <th>Date:</th>             <td>Fri, 28 Aug 2015</td> <th>  Prob (F-statistic):</th> <td>3.67e-13</td>\n",
       "</tr>\n",
       "<tr>\n",
       "  <th>Time:</th>                 <td>10:13:26</td>     <th>  Log-Likelihood:    </th> <td> -111.80</td>\n",
       "</tr>\n",
       "<tr>\n",
       "  <th>No. Observations:</th>      <td>   219</td>      <th>  AIC:               </th> <td>   231.6</td>\n",
       "</tr>\n",
       "<tr>\n",
       "  <th>Df Residuals:</th>          <td>   215</td>      <th>  BIC:               </th> <td>   245.2</td>\n",
       "</tr>\n",
       "<tr>\n",
       "  <th>Df Model:</th>              <td>     3</td>      <th>                     </th>     <td> </td>   \n",
       "</tr>\n",
       "<tr>\n",
       "  <th>Covariance Type:</th>      <td>nonrobust</td>    <th>                     </th>     <td> </td>   \n",
       "</tr>\n",
       "</table>\n",
       "<table class=\"simpletable\">\n",
       "<tr>\n",
       "      <td></td>         <th>coef</th>     <th>std err</th>      <th>t</th>      <th>P>|t|</th> <th>[95.0% Conf. Int.]</th> \n",
       "</tr>\n",
       "<tr>\n",
       "  <th>Intercept</th> <td>    0.5878</td> <td>    0.327</td> <td>    1.798</td> <td> 0.074</td> <td>   -0.057     1.232</td>\n",
       "</tr>\n",
       "<tr>\n",
       "  <th>HSGPA</th>     <td>    0.4962</td> <td>    0.075</td> <td>    6.589</td> <td> 0.000</td> <td>    0.348     0.645</td>\n",
       "</tr>\n",
       "<tr>\n",
       "  <th>SATV</th>      <td>    0.0012</td> <td>    0.000</td> <td>    2.946</td> <td> 0.004</td> <td>    0.000     0.002</td>\n",
       "</tr>\n",
       "<tr>\n",
       "  <th>SATM</th>      <td>    0.0001</td> <td>    0.000</td> <td>    0.341</td> <td> 0.733</td> <td>   -0.001     0.001</td>\n",
       "</tr>\n",
       "</table>\n",
       "<table class=\"simpletable\">\n",
       "<tr>\n",
       "  <th>Omnibus:</th>       <td> 4.495</td> <th>  Durbin-Watson:     </th> <td>   2.163</td>\n",
       "</tr>\n",
       "<tr>\n",
       "  <th>Prob(Omnibus):</th> <td> 0.106</td> <th>  Jarque-Bera (JB):  </th> <td>   3.477</td>\n",
       "</tr>\n",
       "<tr>\n",
       "  <th>Skew:</th>          <td>-0.188</td> <th>  Prob(JB):          </th> <td>   0.176</td>\n",
       "</tr>\n",
       "<tr>\n",
       "  <th>Kurtosis:</th>      <td> 2.511</td> <th>  Cond. No.          </th> <td>1.06e+04</td>\n",
       "</tr>\n",
       "</table>"
      ],
      "text/plain": [
       "<class 'statsmodels.iolib.summary.Summary'>\n",
       "\"\"\"\n",
       "                            OLS Regression Results                            \n",
       "==============================================================================\n",
       "Dep. Variable:                    GPA   R-squared:                       0.246\n",
       "Model:                            OLS   Adj. R-squared:                  0.236\n",
       "Method:                 Least Squares   F-statistic:                     23.43\n",
       "Date:                Fri, 28 Aug 2015   Prob (F-statistic):           3.67e-13\n",
       "Time:                        10:13:26   Log-Likelihood:                -111.80\n",
       "No. Observations:                 219   AIC:                             231.6\n",
       "Df Residuals:                     215   BIC:                             245.2\n",
       "Df Model:                           3                                         \n",
       "Covariance Type:            nonrobust                                         \n",
       "==============================================================================\n",
       "                 coef    std err          t      P>|t|      [95.0% Conf. Int.]\n",
       "------------------------------------------------------------------------------\n",
       "Intercept      0.5878      0.327      1.798      0.074        -0.057     1.232\n",
       "HSGPA          0.4962      0.075      6.589      0.000         0.348     0.645\n",
       "SATV           0.0012      0.000      2.946      0.004         0.000     0.002\n",
       "SATM           0.0001      0.000      0.341      0.733        -0.001     0.001\n",
       "==============================================================================\n",
       "Omnibus:                        4.495   Durbin-Watson:                   2.163\n",
       "Prob(Omnibus):                  0.106   Jarque-Bera (JB):                3.477\n",
       "Skew:                          -0.188   Prob(JB):                        0.176\n",
       "Kurtosis:                       2.511   Cond. No.                     1.06e+04\n",
       "==============================================================================\n",
       "\n",
       "Warnings:\n",
       "[1] Standard Errors assume that the covariance matrix of the errors is correctly specified.\n",
       "[2] The condition number is large, 1.06e+04. This might indicate that there are\n",
       "strong multicollinearity or other numerical problems.\n",
       "\"\"\""
      ]
     },
     "execution_count": 77,
     "metadata": {},
     "output_type": "execute_result"
    }
   ],
   "source": [
    "test_scores_model = smf.ols(formula='GPA ~ HSGPA + SATV + SATM', data=df)\n",
    "test_scores_result = test_scores_model.fit()\n",
    "test_scores_result.summary()"
   ]
  },
  {
   "cell_type": "markdown",
   "metadata": {},
   "source": [
    "Interesting! There was a minor increase in how well this new model fit the data judging by the $R^2$. However, the results weren't quite what we expected!\n",
    "\n",
    "There is a *small* but *significant* positive relationship between the SAT Verbal score and a student's First Year College GPA. However, there is *no significant* relationship with the SAT Math score.\n",
    "\n",
    "Guess being good at math only goes so far, huh?\n",
    "\n",
    "Well, if our SAT test scores only have a very minor effect on our College GPA I wonder what being a first generation college student will do. Possibly people who are the first ones to go to college in their family work much harder than those of us who had parents go."
   ]
  },
  {
   "cell_type": "code",
   "execution_count": 83,
   "metadata": {
    "collapsed": false
   },
   "outputs": [
    {
     "data": {
      "text/html": [
       "<table class=\"simpletable\">\n",
       "<caption>OLS Regression Results</caption>\n",
       "<tr>\n",
       "  <th>Dep. Variable:</th>           <td>GPA</td>       <th>  R-squared:         </th> <td>   0.263</td>\n",
       "</tr>\n",
       "<tr>\n",
       "  <th>Model:</th>                   <td>OLS</td>       <th>  Adj. R-squared:    </th> <td>   0.253</td>\n",
       "</tr>\n",
       "<tr>\n",
       "  <th>Method:</th>             <td>Least Squares</td>  <th>  F-statistic:       </th> <td>   25.60</td>\n",
       "</tr>\n",
       "<tr>\n",
       "  <th>Date:</th>             <td>Fri, 28 Aug 2015</td> <th>  Prob (F-statistic):</th> <td>3.35e-14</td>\n",
       "</tr>\n",
       "<tr>\n",
       "  <th>Time:</th>                 <td>10:26:28</td>     <th>  Log-Likelihood:    </th> <td> -109.33</td>\n",
       "</tr>\n",
       "<tr>\n",
       "  <th>No. Observations:</th>      <td>   219</td>      <th>  AIC:               </th> <td>   226.7</td>\n",
       "</tr>\n",
       "<tr>\n",
       "  <th>Df Residuals:</th>          <td>   215</td>      <th>  BIC:               </th> <td>   240.2</td>\n",
       "</tr>\n",
       "<tr>\n",
       "  <th>Df Model:</th>              <td>     3</td>      <th>                     </th>     <td> </td>   \n",
       "</tr>\n",
       "<tr>\n",
       "  <th>Covariance Type:</th>      <td>nonrobust</td>    <th>                     </th>     <td> </td>   \n",
       "</tr>\n",
       "</table>\n",
       "<table class=\"simpletable\">\n",
       "<tr>\n",
       "      <td></td>         <th>coef</th>     <th>std err</th>      <th>t</th>      <th>P>|t|</th> <th>[95.0% Conf. Int.]</th> \n",
       "</tr>\n",
       "<tr>\n",
       "  <th>Intercept</th> <td>    0.7160</td> <td>    0.295</td> <td>    2.427</td> <td> 0.016</td> <td>    0.135     1.297</td>\n",
       "</tr>\n",
       "<tr>\n",
       "  <th>HSGPA</th>     <td>    0.5185</td> <td>    0.075</td> <td>    6.918</td> <td> 0.000</td> <td>    0.371     0.666</td>\n",
       "</tr>\n",
       "<tr>\n",
       "  <th>SATV</th>      <td>    0.0010</td> <td>    0.000</td> <td>    2.911</td> <td> 0.004</td> <td>    0.000     0.002</td>\n",
       "</tr>\n",
       "<tr>\n",
       "  <th>FirstGen</th>  <td>   -0.1998</td> <td>    0.089</td> <td>   -2.241</td> <td> 0.026</td> <td>   -0.376    -0.024</td>\n",
       "</tr>\n",
       "</table>\n",
       "<table class=\"simpletable\">\n",
       "<tr>\n",
       "  <th>Omnibus:</th>       <td> 6.028</td> <th>  Durbin-Watson:     </th> <td>   2.168</td>\n",
       "</tr>\n",
       "<tr>\n",
       "  <th>Prob(Omnibus):</th> <td> 0.049</td> <th>  Jarque-Bera (JB):  </th> <td>   4.446</td>\n",
       "</tr>\n",
       "<tr>\n",
       "  <th>Skew:</th>          <td>-0.224</td> <th>  Prob(JB):          </th> <td>   0.108</td>\n",
       "</tr>\n",
       "<tr>\n",
       "  <th>Kurtosis:</th>      <td> 2.464</td> <th>  Cond. No.          </th> <td>6.74e+03</td>\n",
       "</tr>\n",
       "</table>"
      ],
      "text/plain": [
       "<class 'statsmodels.iolib.summary.Summary'>\n",
       "\"\"\"\n",
       "                            OLS Regression Results                            \n",
       "==============================================================================\n",
       "Dep. Variable:                    GPA   R-squared:                       0.263\n",
       "Model:                            OLS   Adj. R-squared:                  0.253\n",
       "Method:                 Least Squares   F-statistic:                     25.60\n",
       "Date:                Fri, 28 Aug 2015   Prob (F-statistic):           3.35e-14\n",
       "Time:                        10:26:28   Log-Likelihood:                -109.33\n",
       "No. Observations:                 219   AIC:                             226.7\n",
       "Df Residuals:                     215   BIC:                             240.2\n",
       "Df Model:                           3                                         \n",
       "Covariance Type:            nonrobust                                         \n",
       "==============================================================================\n",
       "                 coef    std err          t      P>|t|      [95.0% Conf. Int.]\n",
       "------------------------------------------------------------------------------\n",
       "Intercept      0.7160      0.295      2.427      0.016         0.135     1.297\n",
       "HSGPA          0.5185      0.075      6.918      0.000         0.371     0.666\n",
       "SATV           0.0010      0.000      2.911      0.004         0.000     0.002\n",
       "FirstGen      -0.1998      0.089     -2.241      0.026        -0.376    -0.024\n",
       "==============================================================================\n",
       "Omnibus:                        6.028   Durbin-Watson:                   2.168\n",
       "Prob(Omnibus):                  0.049   Jarque-Bera (JB):                4.446\n",
       "Skew:                          -0.224   Prob(JB):                        0.108\n",
       "Kurtosis:                       2.464   Cond. No.                     6.74e+03\n",
       "==============================================================================\n",
       "\n",
       "Warnings:\n",
       "[1] Standard Errors assume that the covariance matrix of the errors is correctly specified.\n",
       "[2] The condition number is large, 6.74e+03. This might indicate that there are\n",
       "strong multicollinearity or other numerical problems.\n",
       "\"\"\""
      ]
     },
     "execution_count": 83,
     "metadata": {},
     "output_type": "execute_result"
    }
   ],
   "source": [
    "firstgen_model = smf.ols(formula='GPA ~ HSGPA + SATV + FirstGen', data=df)\n",
    "firstgen_result = firstgen_model.fit()\n",
    "firstgen_result.summary()"
   ]
  },
  {
   "cell_type": "markdown",
   "metadata": {},
   "source": [
    "Guess I was wrong! Being a first generation college student has a *significant, negative* relationship with College GPA."
   ]
  },
  {
   "cell_type": "markdown",
   "metadata": {},
   "source": [
    "Now let's plot this model. \n",
    "\n",
    "But wait, how do we plot it now that the x-axis has three components and isn't just the High School GPA?\n",
    "\n",
    "What we do is calculate the x position for each data point we have and then plot that x-value against the College GPA.\n",
    "\n",
    "Let's write that function now."
   ]
  },
  {
   "cell_type": "code",
   "execution_count": 85,
   "metadata": {
    "collapsed": false
   },
   "outputs": [],
   "source": [
    "def calculate_firstgen_x_value(row, params = firstgen_result.params):\n",
    "    '''\n",
    "    input:\n",
    "        row - one row of student data from the pandas dataframe\n",
    "        params - the model parameters dictionary\n",
    "    output:\n",
    "        modelx - the calculated x point for the model\n",
    "    '''\n",
    "    columns = ['HSGPA', 'SATV', 'FirstGen']\n",
    "    modelx = params['Intercept']\n",
    "    for col in columns:\n",
    "        modelx += params[col] * row[col]\n",
    "    return modelx"
   ]
  },
  {
   "cell_type": "markdown",
   "metadata": {},
   "source": [
    "And now we will `apply` it to the dataframe. I haven't covered how to do this yet, but I will now!\n",
    "\n",
    "In Pandas we can `apply` our own functions to a dataframe. We can apply them to a single column (in which case the input value to the function is a single variable) or to the entire dataframe (in which case the input value to the function is a `Series` and is either a row or column in the dataframe).\n",
    "\n",
    "Here I need to access multiple columns of data for each student so I will `apply` the `calculate_firstgen_x_value()` function to the entire dataframe. I also want to calculate each student's value so I need to apply this to the rows. To pick `rows` instead of columns we need to change the `axis` argument to `0`.\n",
    "\n",
    "Since I want to keep this value I'll set the output equal to a new column name."
   ]
  },
  {
   "cell_type": "code",
   "execution_count": 86,
   "metadata": {
    "collapsed": false
   },
   "outputs": [
    {
     "data": {
      "text/html": [
       "<div>\n",
       "<table border=\"1\" class=\"dataframe\">\n",
       "  <thead>\n",
       "    <tr style=\"text-align: right;\">\n",
       "      <th></th>\n",
       "      <th>GPA</th>\n",
       "      <th>HSGPA</th>\n",
       "      <th>SATV</th>\n",
       "      <th>SATM</th>\n",
       "      <th>Male</th>\n",
       "      <th>HU</th>\n",
       "      <th>SS</th>\n",
       "      <th>FirstGen</th>\n",
       "      <th>White</th>\n",
       "      <th>CollegeBound</th>\n",
       "      <th>firstgen_model</th>\n",
       "    </tr>\n",
       "  </thead>\n",
       "  <tbody>\n",
       "    <tr>\n",
       "      <th>0</th>\n",
       "      <td>3.06</td>\n",
       "      <td>3.83</td>\n",
       "      <td>680</td>\n",
       "      <td>770</td>\n",
       "      <td>1</td>\n",
       "      <td>3.0</td>\n",
       "      <td>9.0</td>\n",
       "      <td>1</td>\n",
       "      <td>1</td>\n",
       "      <td>1</td>\n",
       "      <td>3.190629</td>\n",
       "    </tr>\n",
       "    <tr>\n",
       "      <th>1</th>\n",
       "      <td>4.15</td>\n",
       "      <td>4.00</td>\n",
       "      <td>740</td>\n",
       "      <td>720</td>\n",
       "      <td>0</td>\n",
       "      <td>9.0</td>\n",
       "      <td>3.0</td>\n",
       "      <td>0</td>\n",
       "      <td>1</td>\n",
       "      <td>1</td>\n",
       "      <td>3.539365</td>\n",
       "    </tr>\n",
       "    <tr>\n",
       "      <th>2</th>\n",
       "      <td>3.41</td>\n",
       "      <td>3.70</td>\n",
       "      <td>640</td>\n",
       "      <td>570</td>\n",
       "      <td>0</td>\n",
       "      <td>16.0</td>\n",
       "      <td>13.0</td>\n",
       "      <td>0</td>\n",
       "      <td>0</td>\n",
       "      <td>1</td>\n",
       "      <td>3.282558</td>\n",
       "    </tr>\n",
       "    <tr>\n",
       "      <th>3</th>\n",
       "      <td>3.21</td>\n",
       "      <td>3.51</td>\n",
       "      <td>740</td>\n",
       "      <td>700</td>\n",
       "      <td>0</td>\n",
       "      <td>22.0</td>\n",
       "      <td>0.0</td>\n",
       "      <td>0</td>\n",
       "      <td>1</td>\n",
       "      <td>1</td>\n",
       "      <td>3.285281</td>\n",
       "    </tr>\n",
       "    <tr>\n",
       "      <th>4</th>\n",
       "      <td>3.48</td>\n",
       "      <td>3.83</td>\n",
       "      <td>610</td>\n",
       "      <td>610</td>\n",
       "      <td>0</td>\n",
       "      <td>30.5</td>\n",
       "      <td>1.5</td>\n",
       "      <td>0</td>\n",
       "      <td>1</td>\n",
       "      <td>1</td>\n",
       "      <td>3.319594</td>\n",
       "    </tr>\n",
       "  </tbody>\n",
       "</table>\n",
       "</div>"
      ],
      "text/plain": [
       "    GPA  HSGPA  SATV  SATM  Male    HU    SS  FirstGen  White  CollegeBound  \\\n",
       "0  3.06   3.83   680   770     1   3.0   9.0         1      1             1   \n",
       "1  4.15   4.00   740   720     0   9.0   3.0         0      1             1   \n",
       "2  3.41   3.70   640   570     0  16.0  13.0         0      0             1   \n",
       "3  3.21   3.51   740   700     0  22.0   0.0         0      1             1   \n",
       "4  3.48   3.83   610   610     0  30.5   1.5         0      1             1   \n",
       "\n",
       "   firstgen_model  \n",
       "0        3.190629  \n",
       "1        3.539365  \n",
       "2        3.282558  \n",
       "3        3.285281  \n",
       "4        3.319594  "
      ]
     },
     "execution_count": 86,
     "metadata": {},
     "output_type": "execute_result"
    }
   ],
   "source": [
    "df['firstgen_model'] = df.apply(calculate_firstgen_x_value, axis = 1)\n",
    "\n",
    "df.head()"
   ]
  },
  {
   "cell_type": "code",
   "execution_count": 99,
   "metadata": {
    "collapsed": false
   },
   "outputs": [
    {
     "data": {
      "text/plain": [
       "<matplotlib.axes._subplots.AxesSubplot at 0x110810080>"
      ]
     },
     "execution_count": 99,
     "metadata": {},
     "output_type": "execute_result"
    },
    {
     "data": {
      "image/png": "[encoded data removed]",
      "text/plain": [
       "<matplotlib.figure.Figure at 0x1108180f0>"
      ]
     },
     "metadata": {},
     "output_type": "display_data"
    }
   ],
   "source": [
    "df.plot(kind='scatter', x='firstgen_model', y='GPA', color='steelblue')"
   ]
  },
  {
   "cell_type": "markdown",
   "metadata": {},
   "source": [
    "Here we can see that when we transform the x data values the spread in the y-axis is much smaller than when we first modelled the relationship between the College GPA and the High School GPA."
   ]
  },
  {
   "cell_type": "markdown",
   "metadata": {},
   "source": [
    "Of course, we could also use the built-in plotting from `statsmodels` too. It will only show a single independent variable at a time, but it's a really quick way to plot!\n",
    "\n",
    "The first plot we can use is with `plot_fit()`. The `plot_fit()` funciton shows the real data points and the predicted data point (with confidence intervals)."
   ]
  },
  {
   "cell_type": "code",
   "execution_count": 108,
   "metadata": {
    "collapsed": false
   },
   "outputs": [
    {
     "data": {
      "image/png": "[encoded data removed]",
      "text/plain": [
       "<matplotlib.figure.Figure at 0x1111a8a90>"
      ]
     },
     "metadata": {},
     "output_type": "display_data"
    }
   ],
   "source": [
    "sm.graphics.plot_fit(firstgen_result, 'HSGPA');"
   ]
  },
  {
   "cell_type": "markdown",
   "metadata": {},
   "source": [
    "The other plotting function is more of a diagnostic one for users to evaluate how good their model is. It's the `plot_regress_exog` function."
   ]
  },
  {
   "cell_type": "code",
   "execution_count": 113,
   "metadata": {
    "collapsed": false
   },
   "outputs": [
    {
     "data": {
      "image/png": "[encoded data removed]",
      "text/plain": [
       "<matplotlib.figure.Figure at 0x1120842b0>"
      ]
     },
     "metadata": {},
     "output_type": "display_data"
    }
   ],
   "source": [
    "fig = plt.figure(figsize = (8,8))\n",
    "sm.graphics.plot_regress_exog(firstgen_result, 'HSGPA', fig=fig);"
   ]
  },
  {
   "cell_type": "code",
   "execution_count": null,
   "metadata": {
    "collapsed": true
   },
   "outputs": [],
   "source": []
  }
 ],
 "metadata": {
  "kernelspec": {
   "display_name": "Python 3",
   "language": "python",
   "name": "python3"
  },
  "language_info": {
   "codemirror_mode": {
    "name": "ipython",
    "version": 3
   },
   "file_extension": ".py",
   "mimetype": "text/x-python",
   "name": "python",
   "nbconvert_exporter": "python",
   "pygments_lexer": "ipython3",
   "version": "3.4.3"
  }
 },
 "nbformat": 4,
 "nbformat_minor": 0
}
