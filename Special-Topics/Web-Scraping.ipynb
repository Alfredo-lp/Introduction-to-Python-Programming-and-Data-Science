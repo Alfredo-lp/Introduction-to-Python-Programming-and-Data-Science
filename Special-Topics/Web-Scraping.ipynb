{
 "cells": [
  {
   "cell_type": "markdown",
   "metadata": {},
   "source": [
    "# An Introduction to Web Scraping\n",
    "\n",
    "How you can use python to extract or scrape any type of content from web pages.\n",
    "\n",
    "In this lecture we will learn how to extract simple text elements, images, and tables from different web pages, all with the help of a couple python packages:\n",
    "\n",
    "* **requests**: http://docs.python-requests.org/en/latest/user/quickstart/\n",
    "  * The requests package can crawl (load) webpages and download (scrape) their contents\n",
    "* **Beautiful Soup**: http://www.crummy.com/software/BeautifulSoup/bs4/doc/\n",
    "  * The Beautiful Soup package can transform scraped web content into an object that can be parsed and analyzed"
   ]
  },
  {
   "cell_type": "markdown",
   "metadata": {},
   "source": [
    "Let's import them packages already, shall we?"
   ]
  },
  {
   "cell_type": "code",
   "execution_count": 48,
   "metadata": {
    "collapsed": false
   },
   "outputs": [],
   "source": [
    "import requests\n",
    "\n",
    "# Beautiful Soup version 4.x\n",
    "import bs4"
   ]
  },
  {
   "cell_type": "markdown",
   "metadata": {},
   "source": [
    "### Making a request\n",
    "\n",
    "In the context of the web, a `request` is the act of connecting to some web address and perform an action. There are many possible types of requests. The most common, and the one we will be using in this lecture, is the `GET` request which you are in fact quite familiar with already. A `GET` request is simple the act of downloading the content of the web address you are connection to: It's what you do everytime you browse the web!\n",
    "\n",
    "Let's see how we can use python to \"get\" a webpage"
   ]
  },
  {
   "cell_type": "code",
   "execution_count": 27,
   "metadata": {
    "collapsed": false
   },
   "outputs": [],
   "source": [
    "response = requests.get(\"http://httpbin.org/html\")"
   ]
  },
  {
   "cell_type": "markdown",
   "metadata": {},
   "source": [
    "Methods from the `requests` package return `Response` objects"
   ]
  },
  {
   "cell_type": "code",
   "execution_count": 28,
   "metadata": {
    "collapsed": false
   },
   "outputs": [
    {
     "name": "stdout",
     "output_type": "stream",
     "text": [
      "<Response [200]>\n"
     ]
    }
   ],
   "source": [
    "print(response)"
   ]
  },
  {
   "cell_type": "markdown",
   "metadata": {},
   "source": [
    "One of the most important properties of the response is it's status code, which is printed by default but which we can also get explicitly"
   ]
  },
  {
   "cell_type": "code",
   "execution_count": 29,
   "metadata": {
    "collapsed": false
   },
   "outputs": [
    {
     "name": "stdout",
     "output_type": "stream",
     "text": [
      "200\n"
     ]
    }
   ],
   "source": [
    "print(response.status_code)"
   ]
  },
  {
   "cell_type": "markdown",
   "metadata": {},
   "source": [
    "The status code, indicates what happened to our request.\n",
    "In this case we got a **200**, which means that all went well, and we successfully connected to the web address we wanted and downloaded its contents."
   ]
  },
  {
   "cell_type": "code",
   "execution_count": 30,
   "metadata": {
    "collapsed": false
   },
   "outputs": [
    {
     "name": "stdout",
     "output_type": "stream",
     "text": [
      "http://httpbin.org/html\n"
     ]
    }
   ],
   "source": [
    "print(response.url)"
   ]
  },
  {
   "cell_type": "markdown",
   "metadata": {},
   "source": [
    "To get the web page's actual content, we access the Response.text variable, which contains the raw HTML source code of the page (more on this later) as one giant string."
   ]
  },
  {
   "cell_type": "code",
   "execution_count": 34,
   "metadata": {
    "collapsed": false
   },
   "outputs": [
    {
     "name": "stdout",
     "output_type": "stream",
     "text": [
      "<!DOCTYPE html>\n",
      "<html>\n",
      "  <head>\n",
      "  </head>\n",
      "  <body>\n",
      "      <h1>Herman Melville - Moby-Dick</h1>\n",
      "\n",
      "      <div>\n",
      "        <p>\n",
      "          Availing himself of the mild, summer-cool weather that now reigned in these latitudes, and in preparation for the peculiarly active pursuits shortly to be anticipated, Perth, the begrimed, blistered old blacksmith, had not removed his portable forge to the hold again, after concluding his contributory work for Ahab's leg, but still retained it on deck, fast lashed to ringbolts by the foremast; being now almost incessantly invoked by the headsmen, and harpooneers, and bowsmen to do some little job for them; altering, or repairing, or new shaping their various weapons and boat furniture. Often he would be surrounded by an eager circle, all waiting to be served; holding boat-spades, pike-heads, harpoons, and lances, and jealously watching his every sooty movement, as he toiled. Nevertheless, this old man's was a patient hammer wielded by a patient arm. No murmur, no impatience, no petulance did come from him. Silent, slow, and solemn; bowing over still further his chronically broken back, he toiled away, as if toil were life itself, and the heavy beating of his hammer the heavy beating of his heart. And so it was.—Most miserable! A peculiar walk in this old man, a certain slight but painful appearing yawing in his gait, had at an early period of the voyage excited the curiosity of the mariners. And to the importunity of their persisted questionings he had finally given in; and so it came to pass that every one now knew the shameful story of his wretched fate. Belated, and not innocently, one bitter winter's midnight, on the road running between two country towns, the blacksmith half-stupidly felt the deadly numbness stealing over him, and sought refuge in a leaning, dilapidated barn. The issue was, the loss of the extremities of both feet. Out of this revelation, part by part, at last came out the four acts of the gladness, and the one long, and as yet uncatastrophied fifth act of the grief of his life's drama. He was an old man, who, at the age of nearly sixty, had postponedly encountered that thing in sorrow's technicals called ruin. He had been an artisan of famed excellence, and with plenty to do; owned a house and garden; embraced a youthful, daughter-like, loving wife, and three blithe, ruddy children; every Sunday went to a cheerful-looking church, planted in a grove. But one night, under cover of darkness, and further concealed in a most cunning disguisement, a desperate burglar slid into his happy home, and robbed them all of everything. And darker yet to tell, the blacksmith himself did ignorantly conduct this burglar into his family's heart. It was the Bottle Conjuror! Upon the opening of that fatal cork, forth flew the fiend, and shrivelled up his home. Now, for prudent, most wise, and economic reasons, the blacksmith's shop was in the basement of his dwelling, but with a separate entrance to it; so that always had the young and loving healthy wife listened with no unhappy nervousness, but with vigorous pleasure, to the stout ringing of her young-armed old husband's hammer; whose reverberations, muffled by passing through the floors and walls, came up to her, not unsweetly, in her nursery; and so, to stout Labor's iron lullaby, the blacksmith's infants were rocked to slumber. Oh, woe on woe! Oh, Death, why canst thou not sometimes be timely? Hadst thou taken this old blacksmith to thyself ere his full ruin came upon him, then had the young widow had a delicious grief, and her orphans a truly venerable, legendary sire to dream of in their after years; and all of them a care-killing competency.\n",
      "        </p>\n",
      "      </div>\n",
      "  </body>\n",
      "</html>\n"
     ]
    }
   ],
   "source": [
    "print(response.text)"
   ]
  },
  {
   "cell_type": "markdown",
   "metadata": {},
   "source": [
    "The folks at http.org have quite the sense of humour...\n",
    "\n",
    "Unfortunately thing don't always work out this nicely"
   ]
  },
  {
   "cell_type": "code",
   "execution_count": 38,
   "metadata": {
    "collapsed": false
   },
   "outputs": [
    {
     "data": {
      "text/plain": [
       "<Response [404]>"
      ]
     },
     "execution_count": 38,
     "metadata": {},
     "output_type": "execute_result"
    }
   ],
   "source": [
    "requests.get(\"http://httpbin.org/totaly-fake-webpage\")"
   ]
  },
  {
   "cell_type": "markdown",
   "metadata": {},
   "source": [
    "Uops.\n",
    "We got a **404** code which indicates that, **although the domain exists (the part before .org)**, the particular webpage you are trying to access does not.\n",
    "\n",
    "Here are some of the most common status codes you might encounter:\n",
    "* 200, **OK**. Request was successful\n",
    "* 303, **See Other**. Page redirected to another URL. Your web browser automatically fetches the new URL but web crawlers do not usually do this unless you specify it.\n",
    "* 401 **Unauthorized**. The URL requires authentication (e.g. password) which was not provided or was incorrect.\n",
    "* 404, **Not Found**. The URL does not exist\n",
    "* 500 **Internal Server Error**. The server is having _unexpected_ problems and the web page is down.\n",
    "* 503 **Service Unavailable**. The web page is down, likely for server maintenance.\n",
    "\n",
    "More codes: http://en.wikipedia.org/wiki/List_of_HTTP_status_codes"
   ]
  },
  {
   "cell_type": "markdown",
   "metadata": {},
   "source": [
    "Note that **if the domain itself does not exist** then the `GET` request will not even connect and we get a very different error: a `ConnectionError`. This error comes with a veeery long traceback so to keep the demonstration simple I will just wrap the request in  a `try...except` statement."
   ]
  },
  {
   "cell_type": "code",
   "execution_count": 42,
   "metadata": {
    "collapsed": false
   },
   "outputs": [
    {
     "name": "stdout",
     "output_type": "stream",
     "text": [
      "This is not the domain you are looking for\n"
     ]
    }
   ],
   "source": [
    "try:\n",
    "    response = requests.get(\"http://www.totaly-fake-domain-not-even-close.com/\")\n",
    "except requests.exceptions.ConnectionError:\n",
    "    print(\"This is not the domain you are looking for\")"
   ]
  },
  {
   "cell_type": "markdown",
   "metadata": {},
   "source": [
    "Now that we know how to scrape webpages we move on to the next step: Taking the page's HTML source code and analyze it\n",
    "\n",
    "...You do know what HTML is right?"
   ]
  },
  {
   "cell_type": "markdown",
   "metadata": {},
   "source": [
    "---\n",
    "## Detour: A (very brief) intro to HTML"
   ]
  },
  {
   "cell_type": "markdown",
   "metadata": {},
   "source": [
    "So, maybe you don't know what HTML is. Or maybe you've accidentaly viewed the source code of a webpage and wondered if you had just caught some computer virus. Well, you didn't. Let me explain.\n",
    "\n",
    "HTML is a markup language for describing web documents. It stands for **H**yper **T**ext **M**arkup **L**anguage. HTML, together with CSS (**C**ascading **S**tyle **S**heets for _styling_ web documents) and Javascript (for _animating_ web documents), is the language that is used to construct web pages.\n",
    "\n",
    "HTML documents are built using a series of HTML _tags_. Each tag describes a different type of content. Web pages are built by putting together different tags.\n",
    "\n",
    "This is the general HTML tag structure:\n",
    "\n",
    "```html\n",
    "<tagname tag_attribute1=\"attribute1value1 attribute1value2\" tag_attribute2=\"attribute2value1\">tag contents</tagname>\n",
    "```\n",
    "* Tags (usually) have both a start (or opening) tag, <tagname> and an end (or closing) tag, </tagname>\n",
    "* Tags can also have attributes which are declared _inside_ the opening tag.\n",
    "* The actual tag _content_ goes inbetween the opening and closing tags."
   ]
  },
  {
   "cell_type": "markdown",
   "metadata": {},
   "source": [
    "Tags can be contained (nested) inside other tags, which defines relationships between them:\n",
    "\n",
    "```html\n",
    "<parent>\n",
    "  <brother></brother>\n",
    "  <sister>\n",
    "    <grandson></grandson>\n",
    "  </sister>\n",
    "</parent>\n",
    "```\n",
    "\n",
    "* `<parent>` is the _parent_ tag of `<brother>` and `<sister>`\n",
    "* `<brother>` and `<sister>` are the _children_ or _direct descendant_ tags of `<parent>`\n",
    "* `<brother>`, `<sister>`, and `<grandson>` are the _descendant_ tags of `<parent>`\n",
    "* `<brother>` and `<sister>` are _sibling_ tags"
   ]
  },
  {
   "cell_type": "markdown",
   "metadata": {},
   "source": [
    "Here's a very simple web document:\n",
    "\n",
    "```html\n",
    "<!DOCTYPE html>\n",
    "<html>\n",
    "  <head>\n",
    "    <title>Page Title</title> \n",
    "  </head>\n",
    "\n",
    "  <body>\n",
    "    <h1>My First Heading</h1>\n",
    "    <p>My first paragraph.</p>\n",
    "  </body>\n",
    "</html> \n",
    "```\n",
    "\n",
    "When you access any URL, your browser (Chrome, Firefox, Safari, IE, etc.) is actually reading a document such this one and using the tags in the document to decide how to render the page for you.\n",
    "\n",
    "Jupyter is able to render a (python) string of HTML code as real HTML in the notebook itself!"
   ]
  },
  {
   "cell_type": "code",
   "execution_count": 52,
   "metadata": {
    "collapsed": false
   },
   "outputs": [
    {
     "data": {
      "text/html": [
       "\n",
       "<!DOCTYPE html>\n",
       "<html>\n",
       "  <head>\n",
       "    <title>Page Title</title>\n",
       "  </head>\n",
       "  \n",
       "  <body>\n",
       "    <h1>My First Heading</h1>\n",
       "    <p>My first paragraph.</p>\n",
       "  </body>\n",
       "\n",
       "</html> \n"
      ],
      "text/plain": [
       "<IPython.core.display.HTML object>"
      ]
     },
     "execution_count": 52,
     "metadata": {},
     "output_type": "execute_result"
    }
   ],
   "source": [
    "from IPython.display import HTML\n",
    "\n",
    "first_html = \"\"\"\n",
    "<!DOCTYPE html>\n",
    "<html>\n",
    "  <head>\n",
    "    <title>Page Title</title>\n",
    "  </head>\n",
    "  \n",
    "  <body>\n",
    "    <h1>My First Heading</h1>\n",
    "    <p>My first paragraph.</p>\n",
    "  </body>\n",
    "\n",
    "</html> \n",
    "\"\"\"\n",
    "\n",
    "HTML(first_html)"
   ]
  },
  {
   "cell_type": "markdown",
   "metadata": {},
   "source": [
    "#### Let's look at what the different tags mean:\n",
    "\n",
    "```html\n",
    "<!-- This is how you write a comment in HTML. Comments will not show up in the browser -->\n",
    "\n",
    "<!-- This line simply identifies the document type to be HTML-->\n",
    "<!DOCTYPE html>\n",
    "<!-- Content between <html> and </html> tags define everything about the document-->\n",
    "<html>\n",
    "  <!-- Tags inside the <head> are not rendered but provide general information about the document -->\n",
    "  <head>\n",
    "    <!-- Like the <title> tag which provides a title that appears in the browser's title and tab bars -->\n",
    "    <title>Page Title</title>\n",
    "  </head>\n",
    "  \n",
    "  <!-- Anything inside the <body> tags describes visible page content -->\n",
    "  <body>\n",
    "    <!-- The <h1> defines a header. The number defines the size of the header. -->\n",
    "    <!-- There are 6 levels of headers: <h1> to <h6> -->\n",
    "    <!-- The higher the number, the lower the font used to display it. -->\n",
    "    <h1>My First Heading</h1>\n",
    "    <!-- The <p> represents a paragraph.-->\n",
    "    <p>My first paragraph.</p>\n",
    "  </body>\n",
    "</html>\n",
    "```"
   ]
  },
  {
   "cell_type": "markdown",
   "metadata": {},
   "source": [
    "**Diferent levels of headers**\n",
    "\n",
    "```html\n",
    "<h1>This is heading 1</h1>\n",
    "<h2>This is heading 2</h2>\n",
    "<h3>This is heading 3</h3>\n",
    "<h4>This is heading 4</h4>\n",
    "<h5>This is heading 5</h5>\n",
    "<h6>This is heading 6</h6> \n",
    "```\n",
    "\n",
    "**Links**\n",
    "```html\n",
    "<a href=\"http://www.website.com\">Click to go to website.com</a>\n",
    "```\n",
    "\n",
    "**Images**\n",
    "```html\n",
    "<!-- Notice that the image tag has no closing tag and no content outside the opening tag -->\n",
    "<img src=\"smiley.gif\">\n",
    "```\n",
    "\n",
    "**Lists**\n",
    "```html\n",
    "<!-- Unordered (bulleted) list -->\n",
    "<ul>\n",
    "  <li>One Element</li>\n",
    "  <li>Another Element</li>\n",
    "</ul>\n",
    "\n",
    "<!-- Ordered (numbered) list -->\n",
    "<ol>\n",
    "  <li>First Ordered Element</li>\n",
    "  <li>Second Ordered Element</li>\n",
    "</ol>\n",
    "```\n",
    "\n",
    "**Tables**\n",
    "```html\n",
    "<table>\n",
    "  <!-- An HTML table is defined as a series of rows (<tr>) -->\n",
    "  <!-- The individual cell (<td>) contents are nested inside rows -->\n",
    "  \n",
    "  <!-- The <tr> tag is optional and is the parent of column headers (<th>) -->\n",
    "  <tr>\n",
    "    <th>First Header</th>\n",
    "    <th>Second Header</th>\n",
    "  </tr>\n",
    "  <tr>\n",
    "    <td>Row 2, Col 1</td>\n",
    "    <td>Row 2, Col 2</td>\n",
    "  </tr>\n",
    "  <tr>\n",
    "    <td>Row 3, Col 1</td>\n",
    "    <td>Row 3, Col 2</td>\n",
    "  </tr>\n",
    "</table>\n",
    "```"
   ]
  },
  {
   "cell_type": "code",
   "execution_count": 47,
   "metadata": {
    "collapsed": false
   },
   "outputs": [
    {
     "data": {
      "text/html": [
       "\n",
       "<html>\n",
       "<head>\n",
       "  <title>More HTML Tags</title>\n",
       "</head>\n",
       "<body>\n",
       "  <h1>This is heading 1</h1>\n",
       "  <h2>This is heading 2</h2>\n",
       "  <h3>This is heading 3</h3>\n",
       "  <h4>This is heading 4</h4>\n",
       "  <h5>This is heading 5</h5>\n",
       "  <h6>This is heading 6</h6>\n",
       "\n",
       "  <br>\n",
       "  \n",
       "  <a href=\"http://www.website.com\">Click to go to website.com</a>\n",
       "\n",
       "  <p><img src=\"../images/smiley.png\" alt=\"smiley face\"></p>\n",
       "\n",
       "  <ul>\n",
       "    <li>One Element</li>\n",
       "    <li>Another Element</li>\n",
       "  </ul>\n",
       "\n",
       "  <ol>\n",
       "    <li>First Ordered Element</li>\n",
       "    <li>Second Ordered Element</li>\n",
       "  </ol>\n",
       "\n",
       "  <table>\n",
       "    <!-- An HTML table is defined as a series of rows (<tr>) -->\n",
       "    <!-- The individual cell (<td>) contents are nested inside rows -->\n",
       "    <tr>\n",
       "      <!-- The <tr> tag defines a column headers -->\n",
       "      <th>First Header</th>\n",
       "      <th>Second Header</th>\n",
       "    </tr>\n",
       "    <tr>\n",
       "      <td>Row 2, Col 1</td>\n",
       "      <td>Row 2, Col 2</td>\n",
       "    </tr>\n",
       "    <tr>\n",
       "    <td>Row 3, Col 1</td>\n",
       "    <td>Row 3, Col 2</td>\n",
       "  </tr>\n",
       "  </table>\n",
       "</body>\n",
       "</html>\n"
      ],
      "text/plain": [
       "<IPython.core.display.HTML object>"
      ]
     },
     "execution_count": 47,
     "metadata": {},
     "output_type": "execute_result"
    }
   ],
   "source": [
    "more_tags = \"\"\"\n",
    "<html>\n",
    "<head>\n",
    "  <title>More HTML Tags</title>\n",
    "</head>\n",
    "<body>\n",
    "  <h1>This is heading 1</h1>\n",
    "  <h2>This is heading 2</h2>\n",
    "  <h3>This is heading 3</h3>\n",
    "  <h4>This is heading 4</h4>\n",
    "  <h5>This is heading 5</h5>\n",
    "  <h6>This is heading 6</h6>\n",
    "\n",
    "  <br>\n",
    "  \n",
    "  <a href=\"http://www.website.com\">Click to go to website.com</a>\n",
    "\n",
    "  <p><img src=\"../images/smiley.png\" alt=\"smiley face\"></p>\n",
    "\n",
    "  <ul>\n",
    "    <li>One Element</li>\n",
    "    <li>Another Element</li>\n",
    "  </ul>\n",
    "\n",
    "  <ol>\n",
    "    <li>First Ordered Element</li>\n",
    "    <li>Second Ordered Element</li>\n",
    "  </ol>\n",
    "\n",
    "  <table>\n",
    "    <!-- An HTML table is defined as a series of rows (<tr>) -->\n",
    "    <!-- The individual cell (<td>) contents are nested inside rows -->\n",
    "    <tr>\n",
    "      <!-- The <tr> tag defines a column headers -->\n",
    "      <th>First Header</th>\n",
    "      <th>Second Header</th>\n",
    "    </tr>\n",
    "    <tr>\n",
    "      <td>Row 2, Col 1</td>\n",
    "      <td>Row 2, Col 2</td>\n",
    "    </tr>\n",
    "    <tr>\n",
    "    <td>Row 3, Col 1</td>\n",
    "    <td>Row 3, Col 2</td>\n",
    "  </tr>\n",
    "  </table>\n",
    "</body>\n",
    "</html>\n",
    "\"\"\"\n",
    "\n",
    "HTML(more_tags)"
   ]
  },
  {
   "cell_type": "markdown",
   "metadata": {},
   "source": [
    "If you want to know more about HTML I recommend the excellent w3schools website: http://www.w3schools.com/html/html_intro.asp"
   ]
  },
  {
   "cell_type": "markdown",
   "metadata": {},
   "source": [
    "---\n",
    "### Ok, back to web scraping"
   ]
  },
  {
   "cell_type": "markdown",
   "metadata": {},
   "source": [
    "Now that we are all experts on HTML we're ready to start parsing and analyzing a scraped web page!\n",
    "In order to do so we are going to use BeautifulSoup, a powerful python package to parse scraped web pages.\n",
    "\n",
    "We will use the wikipedia page for a player from the *best* national football team as an example: https://en.wikipedia.org/wiki/Erik_Durm\n",
    "\n",
    "We've downloaded it already to avoid having +200 people scraping wikipedia all at once :)"
   ]
  },
  {
   "cell_type": "markdown",
   "metadata": {},
   "source": [
    "Let's open up the page and convert it to a \"soup\""
   ]
  },
  {
   "cell_type": "code",
   "execution_count": 54,
   "metadata": {
    "collapsed": false
   },
   "outputs": [
    {
     "name": "stdout",
     "output_type": "stream",
     "text": [
      "Erik Durm - Wikipedia, the free encyclopedia\n"
     ]
    }
   ],
   "source": [
    "soup = bs4.BeautifulSoup(open('../Data/ErikDurmWiki'))\n",
    "\n",
    "#we're going to use the find feature to find the title and print it\n",
    "title = soup.find('title')\n",
    "print(title.text)"
   ]
  },
  {
   "cell_type": "code",
   "execution_count": 40,
   "metadata": {
    "collapsed": false
   },
   "outputs": [
    {
     "name": "stdout",
     "output_type": "stream",
     "text": [
      "[<h2>Contents</h2>, <h2><span class=\"mw-headline\" id=\"Club_career\">Club career</span><span class=\"mw-editsection\"><span class=\"mw-editsection-bracket\">[</span><a href=\"/w/index.php?title=Erik_Durm&amp;action=edit&amp;section=1\" title=\"Edit section: Club career\">edit</a><span class=\"mw-editsection-bracket\">]</span></span></h2>, <h2><span class=\"mw-headline\" id=\"International_career\">International career</span><span class=\"mw-editsection\"><span class=\"mw-editsection-bracket\">[</span><a href=\"/w/index.php?title=Erik_Durm&amp;action=edit&amp;section=4\" title=\"Edit section: International career\">edit</a><span class=\"mw-editsection-bracket\">]</span></span></h2>, <h2><span class=\"mw-headline\" id=\"Career_statistics\">Career statistics</span><span class=\"mw-editsection\"><span class=\"mw-editsection-bracket\">[</span><a href=\"/w/index.php?title=Erik_Durm&amp;action=edit&amp;section=7\" title=\"Edit section: Career statistics\">edit</a><span class=\"mw-editsection-bracket\">]</span></span></h2>, <h2><span class=\"mw-headline\" id=\"Honours\">Honours</span><span class=\"mw-editsection\"><span class=\"mw-editsection-bracket\">[</span><a href=\"/w/index.php?title=Erik_Durm&amp;action=edit&amp;section=10\" title=\"Edit section: Honours\">edit</a><span class=\"mw-editsection-bracket\">]</span></span></h2>, <h2><span class=\"mw-headline\" id=\"References\">References</span><span class=\"mw-editsection\"><span class=\"mw-editsection-bracket\">[</span><a href=\"/w/index.php?title=Erik_Durm&amp;action=edit&amp;section=13\" title=\"Edit section: References\">edit</a><span class=\"mw-editsection-bracket\">]</span></span></h2>, <h2><span class=\"mw-headline\" id=\"External_links\">External links</span><span class=\"mw-editsection\"><span class=\"mw-editsection-bracket\">[</span><a href=\"/w/index.php?title=Erik_Durm&amp;action=edit&amp;section=14\" title=\"Edit section: External links\">edit</a><span class=\"mw-editsection-bracket\">]</span></span></h2>, <h2>Navigation menu</h2>]\n"
     ]
    }
   ],
   "source": [
    "#now, let's try to find some headers\n",
    "headers = soup.find_all('h2')\n",
    "print(headers)"
   ]
  },
  {
   "cell_type": "code",
   "execution_count": 41,
   "metadata": {
    "collapsed": false
   },
   "outputs": [
    {
     "name": "stdout",
     "output_type": "stream",
     "text": [
      "Contents\n",
      "Club career[edit]\n",
      "International career[edit]\n",
      "Career statistics[edit]\n",
      "Honours[edit]\n",
      "References[edit]\n",
      "External links[edit]\n",
      "Navigation menu\n"
     ]
    }
   ],
   "source": [
    "#that's a mess, let's try printing each header individually\n",
    "for header in headers:\n",
    "    print(header.text)"
   ]
  },
  {
   "cell_type": "code",
   "execution_count": 49,
   "metadata": {
    "collapsed": false
   },
   "outputs": [
    {
     "name": "stdout",
     "output_type": "stream",
     "text": [
      "None\n",
      "#mw-head\n",
      "#p-search\n",
      "/wiki/File:Erik_Durm_IMG_1748.jpg\n",
      "/wiki/Borussia_Dortmund\n",
      "#cite_note-1\n",
      "/wiki/Pirmasens\n",
      "/wiki/Defender_(association_football)#Full-back\n",
      "/wiki/Defender_(association_football)#Full-back\n",
      "/wiki/Borussia_Dortmund\n",
      "/wiki/1._FC_Saarbr%C3%BCcken\n",
      "/wiki/1._FSV_Mainz_05\n",
      "/wiki/1._FSV_Mainz_05_II\n",
      "/wiki/Borussia_Dortmund_II\n",
      "/wiki/Borussia_Dortmund\n",
      "/wiki/Germany_national_youth_football_team\n",
      "/wiki/Germany_national_youth_football_team\n",
      "/wiki/Germany_national_under-21_football_team\n",
      "/wiki/Germany_national_football_team\n",
      "/wiki/Borussia_Dortmund\n",
      "/wiki/DFL-Supercup\n",
      "/wiki/2013_DFL-Supercup\n",
      "/wiki/DFL-Supercup\n",
      "/wiki/2014_DFL-Supercup\n",
      "/wiki/FIFA_World_Cup\n",
      "/wiki/2014_FIFA_World_Cup\n",
      "/wiki/Association_football\n",
      "/wiki/Defender_(association_football)#Full-back\n",
      "/wiki/Borussia_Dortmund\n",
      "/wiki/Germany_national_football_team\n",
      "/wiki/2014_FIFA_World_Cup\n",
      "#Club_career\n",
      "#Early_career\n",
      "#Borussia_Dortmund\n",
      "#International_career\n",
      "#Youth\n",
      "#Senior\n",
      "#Career_statistics\n",
      "#Club\n",
      "#International\n",
      "#Honours\n",
      "#Club_2\n",
      "#International_2\n",
      "#References\n",
      "#External_links\n",
      "/w/index.php?title=Erik_Durm&action=edit&section=1\n",
      "/w/index.php?title=Erik_Durm&action=edit&section=2\n",
      "/wiki/1._FC_Saarbr%C3%BCcken\n",
      "#cite_note-pfaelzischer-merkur.de-2\n",
      "/wiki/1._FSV_Mainz_05\n",
      "/wiki/SV_Elversberg\n",
      "/wiki/Regionalliga\n",
      "#cite_note-3\n",
      "/wiki/1._FSV_Mainz_05_II\n",
      "/wiki/Eintracht_Frankfurt\n",
      "#cite_note-4\n",
      "#cite_note-5\n",
      "#cite_note-6\n",
      "/w/index.php?title=Erik_Durm&action=edit&section=3\n",
      "/wiki/Borussia_Dortmund\n",
      "/wiki/Borussia_Dortmund_II\n",
      "/wiki/3._Liga\n",
      "#cite_note-7\n",
      "#cite_note-8\n",
      "#cite_note-9\n",
      "/wiki/2012%E2%80%9313_3._Liga\n",
      "/wiki/VfL_Osnabr%C3%BCck\n",
      "#cite_note-10\n",
      "/wiki/VfB_Stuttgart\n",
      "/wiki/Robert_Lewandowski\n",
      "/wiki/FC_Augsburg\n",
      "#cite_note-11\n",
      "#cite_note-12\n",
      "/wiki/2014_DFL-Supercup\n",
      "#cite_note-2014_German_Super_Cup-13\n",
      "/wiki/Bundesliga\n",
      "/wiki/Hertha_Berlin\n",
      "#cite_note-14\n",
      "/w/index.php?title=Erik_Durm&action=edit&section=4\n",
      "/wiki/File:Erik_Durm20140714_0009_(cropped).jpg\n",
      "/wiki/File:Erik_Durm20140714_0009_(cropped).jpg\n",
      "/wiki/2014_FIFA_World_Cup_Final\n",
      "/w/index.php?title=Erik_Durm&action=edit&section=5\n",
      "/wiki/Germany_national_under-19_football_team\n",
      "/wiki/Germany_national_under-20_football_team\n",
      "/wiki/Hungary_national_football_team\n",
      "#cite_note-15\n",
      "/wiki/Poland_national_under-20_football_team\n",
      "#cite_note-16\n",
      "/wiki/Germany_national_under-21_football_team\n",
      "/wiki/France_national_under-21_football_team\n",
      "/w/index.php?title=Erik_Durm&action=edit&section=6\n",
      "/wiki/Germany_national_football_team\n",
      "/wiki/Cameroon_national_football_team\n",
      "/wiki/Stadion_im_Borussia-Park\n",
      "/wiki/M%C3%B6nchengladbach\n",
      "/wiki/Benedikt_H%C3%B6wedes\n",
      "#cite_note-17\n",
      "/wiki/2014_FIFA_World_Cup\n",
      "#cite_note-18\n",
      "/w/index.php?title=Erik_Durm&action=edit&section=7\n",
      "/w/index.php?title=Erik_Durm&action=edit&section=8\n",
      "/wiki/DFB-Pokal\n",
      "/wiki/UEFA\n",
      "#endnote_a\n",
      "/wiki/1._FSV_Mainz_05_II\n",
      "/wiki/Regionalliga_West\n",
      "/wiki/2010%E2%80%9311_Regionalliga\n",
      "#cite_note-19\n",
      "/wiki/2011%E2%80%9312_Regionalliga\n",
      "#cite_note-20\n",
      "/wiki/Borussia_Dortmund_II\n",
      "/wiki/3._Liga\n",
      "/wiki/2012%E2%80%9313_Borussia_Dortmund_II_season\n",
      "#cite_note-21\n",
      "/w/index.php?title=2013%E2%80%9314_Borussia_Dortmund_II_season&action=edit&redlink=1\n",
      "#cite_note-Spieler-Statistik_2013.2F14-22\n",
      "/wiki/Borussia_Dortmund\n",
      "/wiki/Bundesliga\n",
      "/wiki/2013%E2%80%9314_Borussia_Dortmund_season\n",
      "#cite_note-Spieler-Statistik_2013.2F14-22\n",
      "/wiki/2014%E2%80%9315_Borussia_Dortmund_season\n",
      "#cite_note-2014_German_Super_Cup-13\n",
      "#cite_note-2014.E2.80.9315_season-23\n",
      "/w/index.php?title=2014%E2%80%9315_Borussia_Dortmund_II_season&action=edit&redlink=1\n",
      "#cite_note-2014.E2.80.9315_season-23\n",
      "#ref_a\n",
      "/wiki/DFL-Supercup\n",
      "/w/index.php?title=Erik_Durm&action=edit&section=9\n",
      "#cite_note-eufoot-24\n",
      "/wiki/Germany_national_football_team\n",
      "/w/index.php?title=Erik_Durm&action=edit&section=10\n",
      "/w/index.php?title=Erik_Durm&action=edit&section=11\n",
      "/wiki/DFL-Supercup\n",
      "/wiki/2013_DFL-Supercup\n",
      "/wiki/2014_DFL-Supercup\n",
      "/w/index.php?title=Erik_Durm&action=edit&section=12\n",
      "/wiki/FIFA_World_Cup\n",
      "/wiki/2014_FIFA_World_Cup\n",
      "/w/index.php?title=Erik_Durm&action=edit&section=13\n",
      "#cite_ref-1\n",
      "http://www.fifadata.com/document/fwc/2014/pdf/fwc_2014_squadlists.pdf\n",
      "#cite_ref-pfaelzischer-merkur.de_2-0\n",
      "http://www.pfaelzischer-merkur.de/sport/art27519,3173713#.UAgfO5HluSp\n",
      "#cite_ref-3\n",
      "http://www.weltfussball.de/spielbericht/regionalliga-west-2010-2011-1-fsv-mainz-05-ii-sv-07-elversberg/\n",
      "#cite_ref-4\n",
      "http://www.kicker.de/news/fussball/regionalliga/startseite/558883/artikel_durm_torjaeger-begeistert-mainz.html\n",
      "#cite_ref-5\n",
      "http://www.allgemeine-zeitung.de/sport/top-clubs/mainz-05/11546703.htm\n",
      "#cite_ref-6\n",
      "http://www.allgemeine-zeitung.de/sport/top-clubs/mainz-05/11604757.htm\n",
      "#cite_ref-7\n",
      "http://www.bvb.de/?%EF%8C%ECZ%1B%E7%F4%9C%5Ej%E7%82%9A\n",
      "#cite_ref-8\n",
      "http://www.ruhrnachrichten.de/sport/bvb/amateure/art2108,1542360\n",
      "#cite_ref-9\n",
      "http://www.goal.com/de/news/968/transfermarkt/2012/02/01/2879875/borussia-dortmund-u20-nationalspieler-erik-durm-kommt-vom\n",
      "#cite_ref-10\n",
      "http://www.kicker.de/news/fussball/3liga/spieltag/3-liga/2012-13/1/1443746/spielbericht_vfl-osnabrueck-45_borussia-dortmund-ii-1291.html\n",
      "#cite_ref-11\n",
      "http://www.kicker.de/news/fussball/bundesliga/spieltag/1-bundesliga/2013-14/1/1894565/spielbericht_fc-augsburg-91_borussia-dortmund-17.html\n",
      "#cite_ref-12\n",
      "http://www.bundesliga.com/en/stats/matchday/?matchid=145159&season=2013&liga=51&round=1\n",
      "#cite_ref-2014_German_Super_Cup_13-0\n",
      "#cite_ref-2014_German_Super_Cup_13-1\n",
      "http://www.kicker.de/d-supercup-fb-1/2014/1/2396815/spielbericht_bayern-muenchen-14_borussia-dortmund-17.html\n",
      "#cite_ref-14\n",
      "http://www.goal.com/en/match/borussia-dortmund-vs-hertha-bsc/1713945/report\n",
      "#cite_ref-15\n",
      "http://www.dfb.de/index.php?id=504292&spielid=156&action=schema&teama=Deutschland&teamb=Ungarn\n",
      "#cite_ref-16\n",
      "http://www.dfb.de/index.php?id=504295&spielid=86&action=schema&teama=Polen&teamb=Deutschland\n",
      "#cite_ref-17\n",
      "http://www.goal.com/en/match/germany-vs-cameroon/1630380/report\n",
      "#cite_ref-18\n",
      "http://www.telegraph.co.uk/sport/football/teams/germany/10810439/Germany-World-Cup-2014-squad.html\n",
      "#cite_ref-19\n",
      "http://www.kicker.de/news/fussball/bundesliga/vereine/2010-11/67220/vereinsspieler_durm-erik.html\n",
      "#cite_ref-20\n",
      "http://www.kicker.de/news/fussball/bundesliga/vereine/2011-12/67220/vereinsspieler_durm-erik.html\n",
      "#cite_ref-21\n",
      "http://www.kicker.de/news/fussball/bundesliga/vereine/2012-13/67220/vereinsspieler_durm-erik.html\n",
      "#cite_ref-Spieler-Statistik_2013.2F14_22-0\n",
      "#cite_ref-Spieler-Statistik_2013.2F14_22-1\n",
      "http://www.kicker.de/news/fussball/bundesliga/vereine/2013-14/67220/vereinsspieler_durm-erik.html\n",
      "#cite_ref-2014.E2.80.9315_season_23-0\n",
      "#cite_ref-2014.E2.80.9315_season_23-1\n",
      "http://www.kicker.de/news/fussball/bundesliga/vereine/1-bundesliga/2014-15/borussia-dortmund-17/67220/spieler_durm-erik.html\n",
      "#cite_ref-eufoot_24-0\n",
      "http://eu-football.info/_player.php?id=28691\n",
      "/w/index.php?title=Erik_Durm&action=edit&section=14\n",
      "http://www.fussballdaten.de/spieler/durmerik/\n",
      "/wiki/Fussballdaten.de\n",
      "http://www.kicker.de/news/fussball/bundesliga/vereine/1-bundesliga/2014-15/borussia-dortmund-17/67220/spieler_durm-erik.html\n",
      "/wiki/Template:Borussia_Dortmund_squad\n",
      "/wiki/Template_talk:Borussia_Dortmund_squad\n",
      "//en.wikipedia.org/w/index.php?title=Template:Borussia_Dortmund_squad&action=edit\n",
      "/wiki/Borussia_Dortmund\n",
      "/wiki/Roman_Weidenfeller\n",
      "/wiki/Neven_Suboti%C4%87\n",
      "/wiki/Sven_Bender\n",
      "/wiki/Jonas_Hofmann\n",
      "/wiki/%C4%B0lkay_G%C3%BCndo%C4%9Fan\n",
      "/wiki/Henrikh_Mkhitaryan\n",
      "/wiki/Marco_Reus\n",
      "/wiki/Moritz_Leitner\n",
      "/wiki/Mats_Hummels\n",
      "/wiki/Captain_(association_football)\n",
      "/wiki/Jakub_B%C5%82aszczykowski\n",
      "/wiki/Pierre-Emerick_Aubameyang\n",
      "/wiki/Nuri_%C5%9Eahin\n",
      "/wiki/Kevin_Gro%C3%9Fkreutz\n",
      "/wiki/Adri%C3%A1n_Ramos\n",
      "/wiki/Oliver_Kirch\n",
      "/wiki/Shinji_Kagawa\n",
      "/wiki/Sokratis_Papastathopoulos\n",
      "/wiki/%C5%81ukasz_Piszczek\n",
      "/wiki/Gonzalo_Castro\n",
      "/wiki/Matthias_Ginter\n",
      "/wiki/Marcel_Schmelzer\n",
      "/wiki/Julian_Weigl\n",
      "/wiki/Roman_B%C3%BCrki\n",
      "/wiki/Hendrik_Bonmann\n",
      "/wiki/Jeremy_Dudziak\n",
      "/wiki/Kevin_Kampl\n",
      "/wiki/Thomas_Tuchel\n",
      "/wiki/Template:Germany_squad_2014_FIFA_World_Cup\n",
      "/wiki/Template_talk:Germany_squad_2014_FIFA_World_Cup\n",
      "//en.wikipedia.org/w/index.php?title=Template:Germany_squad_2014_FIFA_World_Cup&action=edit\n",
      "/wiki/Germany_national_football_team\n",
      "/wiki/2014_FIFA_World_Cup_Final\n",
      "/wiki/Manuel_Neuer\n",
      "/wiki/Kevin_Gro%C3%9Fkreutz\n",
      "/wiki/Matthias_Ginter\n",
      "/wiki/Benedikt_H%C3%B6wedes\n",
      "/wiki/Mats_Hummels\n",
      "/wiki/Sami_Khedira\n",
      "/wiki/Bastian_Schweinsteiger\n",
      "/wiki/Mesut_%C3%96zil\n",
      "/wiki/Andr%C3%A9_Sch%C3%BCrrle\n",
      "/wiki/Lukas_Podolski\n",
      "/wiki/Miroslav_Klose\n",
      "/wiki/Ron-Robert_Zieler\n",
      "/wiki/Thomas_M%C3%BCller\n",
      "/wiki/Julian_Draxler\n",
      "/wiki/Philipp_Lahm\n",
      "/wiki/Captain_(association_football)\n",
      "/wiki/Per_Mertesacker\n",
      "/wiki/Toni_Kroos\n",
      "/wiki/Mario_G%C3%B6tze\n",
      "/wiki/J%C3%A9r%C3%B4me_Boateng\n",
      "/wiki/Shkodran_Mustafi\n",
      "/wiki/Roman_Weidenfeller\n",
      "/wiki/Christoph_Kramer\n",
      "/wiki/Joachim_L%C3%B6w\n",
      "/wiki/Germany\n",
      "https://en.wikipedia.org/w/index.php?title=Erik_Durm&oldid=667540954\n",
      "/wiki/Help:Category\n",
      "/wiki/Category:1992_births\n",
      "/wiki/Category:Living_people\n",
      "/wiki/Category:People_from_Pirmasens\n",
      "/wiki/Category:German_footballers\n",
      "/wiki/Category:1._FSV_Mainz_05_II_players\n",
      "/wiki/Category:Borussia_Dortmund_II_players\n",
      "/wiki/Category:Borussia_Dortmund_players\n",
      "/wiki/Category:3._Liga_players\n",
      "/wiki/Category:Bundesliga_players\n",
      "/wiki/Category:Germany_under-21_international_footballers\n",
      "/wiki/Category:Germany_youth_international_footballers\n",
      "/wiki/Category:Germany_international_footballers\n",
      "/wiki/Category:2014_FIFA_World_Cup_players\n",
      "/wiki/Category:FIFA_World_Cup-winning_players\n",
      "/wiki/Category:CS1_German-language_sources_(de)\n",
      "/wiki/Category:Use_dmy_dates_from_August_2013\n",
      "/wiki/Category:Articles_using_Template:Medal_with_Winner\n",
      "/wiki/Category:Articles_with_German-language_external_links\n",
      "/w/index.php?title=Special:UserLogin&returnto=Erik+Durm&type=signup\n",
      "/w/index.php?title=Special:UserLogin&returnto=Erik+Durm\n",
      "/wiki/Erik_Durm\n",
      "/wiki/Talk:Erik_Durm\n",
      "#\n",
      "/wiki/Erik_Durm\n",
      "/w/index.php?title=Erik_Durm&action=edit\n",
      "/w/index.php?title=Erik_Durm&action=history\n",
      "#\n",
      "/wiki/Main_Page\n",
      "/wiki/Main_Page\n",
      "/wiki/Portal:Contents\n",
      "/wiki/Portal:Featured_content\n",
      "/wiki/Portal:Current_events\n",
      "/wiki/Special:Random\n",
      "https://donate.wikimedia.org/wiki/Special:FundraiserRedirector?utm_source=donate&utm_medium=sidebar&utm_campaign=C13_en.wikipedia.org&uselang=en\n",
      "//shop.wikimedia.org\n",
      "/wiki/Help:Contents\n",
      "/wiki/Wikipedia:About\n",
      "/wiki/Wikipedia:Community_portal\n",
      "/wiki/Special:RecentChanges\n",
      "//en.wikipedia.org/wiki/Wikipedia:Contact_us\n",
      "/wiki/Special:WhatLinksHere/Erik_Durm\n",
      "/wiki/Special:RecentChangesLinked/Erik_Durm\n",
      "/wiki/Wikipedia:File_Upload_Wizard\n",
      "/wiki/Special:SpecialPages\n",
      "/w/index.php?title=Erik_Durm&oldid=667540954\n",
      "/w/index.php?title=Erik_Durm&action=info\n",
      "//www.wikidata.org/wiki/Q823064\n",
      "/w/index.php?title=Special:CiteThisPage&page=Erik_Durm&id=667540954\n",
      "/w/index.php?title=Special:Book&bookcmd=book_creator&referer=Erik+Durm\n",
      "/w/index.php?title=Special:Book&bookcmd=render_article&arttitle=Erik+Durm&oldid=667540954&writer=rdf2latex\n",
      "/w/index.php?title=Erik_Durm&printable=yes\n",
      "//ar.wikipedia.org/wiki/%D8%A5%D9%8A%D8%B1%D9%8A%D9%83_%D8%AF%D9%88%D8%B1%D9%85\n",
      "//be.wikipedia.org/wiki/%D0%AD%D1%80%D1%8B%D0%BA_%D0%94%D1%83%D1%80%D0%BC\n",
      "//be-x-old.wikipedia.org/wiki/%D0%AD%D1%80%D1%8B%D0%BA_%D0%94%D1%83%D1%80%D0%BC\n",
      "//ca.wikipedia.org/wiki/Erik_Durm\n",
      "//cs.wikipedia.org/wiki/Erik_Durm\n",
      "//da.wikipedia.org/wiki/Erik_Durm\n",
      "//de.wikipedia.org/wiki/Erik_Durm\n",
      "//es.wikipedia.org/wiki/Erik_Durm\n",
      "//eo.wikipedia.org/wiki/Erik_Durm\n",
      "//fa.wikipedia.org/wiki/%D8%A7%D8%B1%DB%8C%DA%A9_%D8%AF%D9%88%D8%B1%D9%85\n",
      "//fr.wikipedia.org/wiki/Erik_Durm\n",
      "//ko.wikipedia.org/wiki/%EC%97%90%EB%A6%AC%ED%81%AC_%EB%91%90%EB%A6%84\n",
      "//hy.wikipedia.org/wiki/%D4%B7%D6%80%D5%AB%D5%AF_%D4%B4%D5%B8%D6%82%D6%80%D5%B4\n",
      "//id.wikipedia.org/wiki/Erik_Durm\n",
      "//it.wikipedia.org/wiki/Erik_Durm\n",
      "//he.wikipedia.org/wiki/%D7%90%D7%A8%D7%99%D7%A7_%D7%93%D7%95%D7%A8%D7%9D\n",
      "//kk.wikipedia.org/wiki/%D0%AD%D1%80%D0%B8%D0%BA_%D0%94%D1%83%D1%80%D0%BC\n",
      "//hu.wikipedia.org/wiki/Erik_Durm\n",
      "//ms.wikipedia.org/wiki/Erik_Durm\n",
      "//mn.wikipedia.org/wiki/%D0%AD%D1%80%D0%B8%D0%BA_%D0%94%D1%83%D1%80%D0%BC\n",
      "//nl.wikipedia.org/wiki/Erik_Durm\n",
      "//ja.wikipedia.org/wiki/%E3%82%A8%E3%83%AA%E3%83%83%E3%82%AF%E3%83%BB%E3%83%89%E3%82%A5%E3%83%AB%E3%83%A0\n",
      "//no.wikipedia.org/wiki/Erik_Durm\n",
      "//nn.wikipedia.org/wiki/Erik_Durm\n",
      "//pl.wikipedia.org/wiki/Erik_Durm\n",
      "//pt.wikipedia.org/wiki/Erik_Durm\n",
      "//ru.wikipedia.org/wiki/%D0%94%D1%83%D1%80%D0%BC,_%D0%AD%D1%80%D0%B8%D0%BA\n",
      "//simple.wikipedia.org/wiki/Erik_Durm\n",
      "//fi.wikipedia.org/wiki/Erik_Durm\n",
      "//sv.wikipedia.org/wiki/Erik_Durm\n",
      "//th.wikipedia.org/wiki/%E0%B9%80%E0%B8%AD%E0%B8%A3%E0%B8%B4%E0%B8%84_%E0%B8%94%E0%B8%B9%E0%B8%A3%E0%B9%8C%E0%B8%A1\n",
      "//tr.wikipedia.org/wiki/Erik_Durm\n",
      "//uk.wikipedia.org/wiki/%D0%95%D1%80%D1%96%D0%BA_%D0%94%D1%83%D1%80%D0%BC\n",
      "//zh.wikipedia.org/wiki/%E5%9F%83%E9%87%8C%E5%85%8B%C2%B7%E6%9D%9C%E5%B0%94%E5%A7%86\n",
      "#\n",
      "//www.wikidata.org/wiki/Q823064#sitelinks-wikipedia\n",
      "//en.wikipedia.org/wiki/Wikipedia:Text_of_Creative_Commons_Attribution-ShareAlike_3.0_Unported_License\n",
      "//creativecommons.org/licenses/by-sa/3.0/\n",
      "//wikimediafoundation.org/wiki/Terms_of_Use\n",
      "//wikimediafoundation.org/wiki/Privacy_policy\n",
      "//www.wikimediafoundation.org/\n",
      "//wikimediafoundation.org/wiki/Privacy_policy\n",
      "/wiki/Wikipedia:About\n",
      "/wiki/Wikipedia:General_disclaimer\n",
      "//en.wikipedia.org/wiki/Wikipedia:Contact_us\n",
      "https://www.mediawiki.org/wiki/Special:MyLanguage/How_to_contribute\n",
      "//en.m.wikipedia.org/w/index.php?title=Erik_Durm&mobileaction=toggle_view_mobile\n",
      "//wikimediafoundation.org/\n",
      "//www.mediawiki.org/\n"
     ]
    }
   ],
   "source": [
    "#much better! We can also find all the links this webpage links to\n",
    "links = soup.find_all('a')\n",
    "for link in links:\n",
    "    print(link.get('href'))"
   ]
  },
  {
   "cell_type": "code",
   "execution_count": 53,
   "metadata": {
    "collapsed": true
   },
   "outputs": [],
   "source": [
    "# ipython notebook-specific library to display images and other media inline\n",
    "from IPython.display import display, Image"
   ]
  },
  {
   "cell_type": "code",
   "execution_count": 50,
   "metadata": {
    "collapsed": false
   },
   "outputs": [
    {
     "name": "stdout",
     "output_type": "stream",
     "text": [
      "[<img src=\"../images/Erik_Durm_IMG_1748.jpg\"/>, <img src=\"../images/Erik_Durm20140714_0009.jpg\"/>, <img alt=\"Germany\" class=\"thumbborder\" data-file-height=\"600\" data-file-width=\"1000\" height=\"30\" src=\"//upload.wikimedia.org/wikipedia/en/thumb/b/ba/Flag_of_Germany.svg/50px-Flag_of_Germany.svg.png\" srcset=\"//upload.wikimedia.org/wikipedia/en/thumb/b/ba/Flag_of_Germany.svg/75px-Flag_of_Germany.svg.png 1.5x, //upload.wikimedia.org/wikipedia/en/thumb/b/ba/Flag_of_Germany.svg/100px-Flag_of_Germany.svg.png 2x\" width=\"50\"/>, <img alt=\"\" height=\"1\" src=\"//en.wikipedia.org/wiki/Special:CentralAutoLogin/start?type=1x1\" style=\"border: none; position: absolute;\" title=\"\" width=\"1\"/>, <img alt=\"Wikimedia Foundation\" height=\"31\" src=\"/static/images/wikimedia-button.png\" srcset=\"/static/images/wikimedia-button-1.5x.png 1.5x, /static/images/wikimedia-button-2x.png 2x\" width=\"88\"/>, <img alt=\"Powered by MediaWiki\" height=\"31\" src=\"https://en.wikipedia.org/static/1.26wmf19/resources/assets/poweredby_mediawiki_88x31.png\" srcset=\"https://en.wikipedia.org/static/1.26wmf19/resources/assets/poweredby_mediawiki_132x47.png 1.5x, https://en.wikipedia.org/static/1.26wmf19/resources/assets/poweredby_mediawiki_176x62.png 2x\" width=\"88\"/>]\n"
     ]
    }
   ],
   "source": [
    "#We can even go one step further and find images!\n",
    "images = soup.find_all('img')\n",
    "print(images)"
   ]
  },
  {
   "cell_type": "code",
   "execution_count": 51,
   "metadata": {
    "collapsed": false
   },
   "outputs": [
    {
     "name": "stdout",
     "output_type": "stream",
     "text": [
      "{'src': '../images/Erik_Durm_IMG_1748.jpg'}\n"
     ]
    },
    {
     "data": {
      "image/jpeg": "[encoded data removed]",
      "text/plain": [
       "<IPython.core.display.Image object>"
      ]
     },
     "metadata": {},
     "output_type": "display_data"
    },
    {
     "data": {
      "image/jpeg": "[encoded data removed]",
      "text/plain": [
       "<IPython.core.display.Image object>"
      ]
     },
     "metadata": {},
     "output_type": "display_data"
    }
   ],
   "source": [
    "#we can pinpoint a specific image and get their attributes\n",
    "img1 = images[0]\n",
    "print(img1.attrs)\n",
    "#then we can display the image with the source or 'SRC'\n",
    "display(Image(img1['src']))\n",
    "#better yet, we can do it in one go\n",
    "display(Image(images[1]['src']))"
   ]
  },
  {
   "cell_type": "code",
   "execution_count": 3,
   "metadata": {
    "collapsed": false
   },
   "outputs": [
    {
     "ename": "NameError",
     "evalue": "name 'bs4' is not defined",
     "output_type": "error",
     "traceback": [
      "\u001b[1;31m---------------------------------------------------------------------------\u001b[0m",
      "\u001b[1;31mNameError\u001b[0m                                 Traceback (most recent call last)",
      "\u001b[1;32m<ipython-input-3-7eb1d720aff5>\u001b[0m in \u001b[0;36m<module>\u001b[1;34m()\u001b[0m\n\u001b[1;32m----> 1\u001b[1;33m \u001b[0msoup\u001b[0m \u001b[1;33m=\u001b[0m \u001b[0mbs4\u001b[0m\u001b[1;33m.\u001b[0m\u001b[0mBeautifulSoup\u001b[0m\u001b[1;33m(\u001b[0m\u001b[0mopen\u001b[0m\u001b[1;33m(\u001b[0m\u001b[1;34m\"/home/staff/jmoreira/Desktop/The HEXACO Personality Inventory - Revised.html\"\u001b[0m\u001b[1;33m)\u001b[0m\u001b[1;33m)\u001b[0m\u001b[1;33m\u001b[0m\u001b[0m\n\u001b[0m",
      "\u001b[1;31mNameError\u001b[0m: name 'bs4' is not defined"
     ]
    }
   ],
   "source": [
    "soup = bs4.BeautifulSoup(open(\"/home/staff/jmoreira/Desktop/The HEXACO Personality Inventory - Revised.html\"))"
   ]
  },
  {
   "cell_type": "code",
   "execution_count": 4,
   "metadata": {
    "collapsed": true
   },
   "outputs": [],
   "source": [
    "table = soup.find(id=\"results_facet_table\")"
   ]
  },
  {
   "cell_type": "code",
   "execution_count": 78,
   "metadata": {
    "collapsed": false
   },
   "outputs": [
    {
     "name": "stdout",
     "output_type": "stream",
     "text": [
      "Honesty-Humility 3.5 3.22 2.41 3.97\n",
      "Sincerity 3.0 3.25 2.13 4.25\n",
      "Fairness 3.5 3.38 2.13 4.63\n",
      "Greed-Avoidance 3.75 2.63 1.38 4.0\n",
      "Modesty 3.75 3.63 2.5 4.5\n",
      "Emotionality 3.69 3.34 2.63 3.97\n",
      "Fearfulness 3.25 3.0 1.88 4.0\n",
      "Anxiety 4.5 3.75 2.63 4.63\n",
      "Dependence 3.5 3.25 2.0 4.25\n",
      "Sentimentality 3.5 3.5 2.38 4.38\n",
      "eXtraversion 2.31 3.5 2.72 4.22\n",
      "Social Self-Esteem 3.25 4.0 3.0 4.63\n",
      "Social Boldness 2.0 3.13 1.88 4.25\n",
      "Sociability 1.5 3.63 2.5 4.5\n",
      "Liveliness 2.5 3.63 2.5 4.5\n",
      "Agreeableness 3.63 3.0 2.22 3.72\n",
      "Forgivingness 3.5 2.75 1.75 3.88\n",
      "Gentleness 3.5 3.25 2.25 4.13\n",
      "Flexibility 3.5 2.75 1.75 3.75\n",
      "Patience 4.0 3.25 2.0 4.38\n",
      "Conscientiousness 3.75 3.47 2.72 4.16\n",
      "Organization 4.5 3.38 2.13 4.38\n",
      "Diligence 3.75 3.88 2.88 4.71\n",
      "Perfectionism 3.25 3.63 2.38 4.38\n",
      "Prudence 3.5 3.25 2.13 4.0\n",
      "Openness to Experience 2.81 3.31 2.5 4.13\n",
      "Aesthetic Appreciation 2.25 3.25 2.0 4.38\n",
      "Inquisitiveness 3.5 3.13 1.88 4.38\n",
      "Creativity 2.75 3.63 2.25 4.63\n",
      "Unconventionality 2.75 3.38 2.63 4.25\n",
      "Altruism 3.5 3.88 3.0 4.63\n"
     ]
    }
   ],
   "source": [
    "for tag in table.find_all(\"tr\"):\n",
    "    cells = tag.find_all(\"td\")\n",
    "    if len(cells) == 2:\n",
    "        # Getting the personality factor\n",
    "        if cells[0].b:\n",
    "            factor = cells[0].b.text\n",
    "        else:\n",
    "            factor = cells[0].contents[0].strip()\n",
    "        \n",
    "        # Getting the factor scores\n",
    "        # This find_all gets all the <div> tags that have the attribute `data-original-title`\n",
    "        # which is where the scores are actually stored\n",
    "        divs = cells[1].div.find_all(\"div\", attrs={\"data-original-title\": True})\n",
    "        \n",
    "        if divs:\n",
    "            # First element is the user score\n",
    "            own_score = float(divs[0][\"data-original-title\"].split(\":\")[1].strip())\n",
    "            \n",
    "            # Next element is the median score\n",
    "            med_score = float(divs[1][\"data-original-title\"].split(\":\")[1].strip())\n",
    "            \n",
    "            # The final element is the 10th and 90th percentiles\n",
    "            percents = divs[2][\"data-original-title\"].split(\"<br />\")\n",
    "            p10 = float(percents[0].split(\":\")[1].strip())\n",
    "            p90 = float(percents[1].split(\":\")[1].strip())\n",
    "            \n",
    "            print(factor, own_score, med_score, p10, p90)"
   ]
  },
  {
   "cell_type": "markdown",
   "metadata": {},
   "source": [
    "### Selecting the text from the Bootcamp's front page"
   ]
  },
  {
   "cell_type": "code",
   "execution_count": 7,
   "metadata": {
    "collapsed": false
   },
   "outputs": [
    {
     "name": "stdout",
     "output_type": "stream",
     "text": [
      "httpbin(1): HTTP Request & Response Service\n",
      "$ curl http://httpbin.org/ip\n",
      "$ curl http://httpbin.org/user-agent\n",
      "$ curl http://httpbin.org/get\n",
      "$ curl -I http://httpbin.org/status/418\n",
      "$ curl https://httpbin.org/get?show_env=1\n"
     ]
    }
   ],
   "source": [
    "response = requests.get(\"http://bootcamp-form.herokuapp.com/\")\n",
    "\n",
    "# First we turn the document into a \"soup\"\n",
    "soup = bs4.BeautifulSoup(response.text)\n",
    "\n",
    "# The text from the front page is declared as headers of different levels\n",
    "bootcamp_text = soup.find_all(\"h1\")        # finds all <h1> tags in the document\n",
    "\n",
    "# Remaining pieces of text\n",
    "bootcamp_text.extend( soup.find_all(\"h3\") )\n",
    "bootcamp_text.extend( soup.find_all(\"h4\") )\n",
    "\n",
    "for header in bootcamp_text:\n",
    "    print(header.text)"
   ]
  },
  {
   "cell_type": "code",
   "execution_count": 8,
   "metadata": {
    "collapsed": false
   },
   "outputs": [
    {
     "name": "stdout",
     "output_type": "stream",
     "text": [
      "<class 'bs4.element.Tag'>\n"
     ]
    }
   ],
   "source": [
    "# Beautiful Soup converts HTML tags into its own \"Tag\" objects\n",
    "print(type(bootcamp_text[0]))"
   ]
  },
  {
   "cell_type": "code",
   "execution_count": 9,
   "metadata": {
    "collapsed": false
   },
   "outputs": [
    {
     "name": "stdout",
     "output_type": "stream",
     "text": [
      "httpbin(1): HTTP Request & Response Service\n",
      "h1\n"
     ]
    }
   ],
   "source": [
    "# These objects have several useful attributes\n",
    "print(bootcamp_text[0].text)\n",
    "print(bootcamp_text[0].name)"
   ]
  },
  {
   "cell_type": "markdown",
   "metadata": {},
   "source": [
    "### Selecting the logos from the Bootcamp's front page"
   ]
  },
  {
   "cell_type": "code",
   "execution_count": 10,
   "metadata": {
    "collapsed": false
   },
   "outputs": [
    {
     "name": "stdout",
     "output_type": "stream",
     "text": [
      "[<img alt=\"Fork me on GitHub\" src=\"https://s3.amazonaws.com/github/ribbons/forkme_right_darkblue_121621.png\" style=\"position: absolute; top: 0; right: 0; border: 0;\"/>]\n"
     ]
    }
   ],
   "source": [
    "logos = soup.find_all(\"img\")\n",
    "print(logos)"
   ]
  },
  {
   "cell_type": "code",
   "execution_count": 11,
   "metadata": {
    "collapsed": false
   },
   "outputs": [
    {
     "name": "stdout",
     "output_type": "stream",
     "text": [
      "{'style': 'position: absolute; top: 0; right: 0; border: 0;', 'src': 'https://s3.amazonaws.com/github/ribbons/forkme_right_darkblue_121621.png', 'alt': 'Fork me on GitHub'}\n"
     ]
    },
    {
     "ename": "KeyError",
     "evalue": "'class'",
     "output_type": "error",
     "traceback": [
      "\u001b[1;31m---------------------------------------------------------------------------\u001b[0m",
      "\u001b[1;31mKeyError\u001b[0m                                  Traceback (most recent call last)",
      "\u001b[1;32m<ipython-input-11-d0da2a8ae1d2>\u001b[0m in \u001b[0;36m<module>\u001b[1;34m()\u001b[0m\n\u001b[0;32m      1\u001b[0m \u001b[1;31m# The html tag's attributes are also stored\u001b[0m\u001b[1;33m\u001b[0m\u001b[1;33m\u001b[0m\u001b[0m\n\u001b[0;32m      2\u001b[0m \u001b[0mprint\u001b[0m\u001b[1;33m(\u001b[0m\u001b[0mlogos\u001b[0m\u001b[1;33m[\u001b[0m\u001b[1;36m0\u001b[0m\u001b[1;33m]\u001b[0m\u001b[1;33m.\u001b[0m\u001b[0mattrs\u001b[0m\u001b[1;33m)\u001b[0m\u001b[1;33m\u001b[0m\u001b[0m\n\u001b[1;32m----> 3\u001b[1;33m \u001b[0mprint\u001b[0m\u001b[1;33m(\u001b[0m\u001b[0mlogos\u001b[0m\u001b[1;33m[\u001b[0m\u001b[1;36m0\u001b[0m\u001b[1;33m]\u001b[0m\u001b[1;33m[\u001b[0m\u001b[1;34m\"class\"\u001b[0m\u001b[1;33m]\u001b[0m\u001b[1;33m)\u001b[0m\u001b[1;33m\u001b[0m\u001b[0m\n\u001b[0m\u001b[0;32m      4\u001b[0m \u001b[0mprint\u001b[0m\u001b[1;33m(\u001b[0m\u001b[0mlogos\u001b[0m\u001b[1;33m[\u001b[0m\u001b[1;36m0\u001b[0m\u001b[1;33m]\u001b[0m\u001b[1;33m[\u001b[0m\u001b[1;34m\"src\"\u001b[0m\u001b[1;33m]\u001b[0m\u001b[1;33m)\u001b[0m\u001b[1;33m\u001b[0m\u001b[0m\n",
      "\u001b[1;32m/home/visitors/adijain1129/.pyenv/versions/anaconda3-2.3.0/lib/python3.4/site-packages/bs4/element.py\u001b[0m in \u001b[0;36m__getitem__\u001b[1;34m(self, key)\u001b[0m\n\u001b[0;32m    903\u001b[0m         \"\"\"tag[key] returns the value of the 'key' attribute for the tag,\n\u001b[0;32m    904\u001b[0m         and throws an exception if it's not there.\"\"\"\n\u001b[1;32m--> 905\u001b[1;33m         \u001b[1;32mreturn\u001b[0m \u001b[0mself\u001b[0m\u001b[1;33m.\u001b[0m\u001b[0mattrs\u001b[0m\u001b[1;33m[\u001b[0m\u001b[0mkey\u001b[0m\u001b[1;33m]\u001b[0m\u001b[1;33m\u001b[0m\u001b[0m\n\u001b[0m\u001b[0;32m    906\u001b[0m \u001b[1;33m\u001b[0m\u001b[0m\n\u001b[0;32m    907\u001b[0m     \u001b[1;32mdef\u001b[0m \u001b[0m__iter__\u001b[0m\u001b[1;33m(\u001b[0m\u001b[0mself\u001b[0m\u001b[1;33m)\u001b[0m\u001b[1;33m:\u001b[0m\u001b[1;33m\u001b[0m\u001b[0m\n",
      "\u001b[1;31mKeyError\u001b[0m: 'class'"
     ]
    }
   ],
   "source": [
    "# The html tag's attributes are also stored\n",
    "print(logos[0].attrs)\n",
    "print(logos[0][\"class\"])\n",
    "print(logos[0][\"src\"])"
   ]
  },
  {
   "cell_type": "code",
   "execution_count": 11,
   "metadata": {
    "collapsed": false
   },
   "outputs": [
    {
     "name": "stdout",
     "output_type": "stream",
     "text": [
      "<img alt=\"NICO\" class=\"nico_logo\" src=\"nico_logo.gif\"/>\n"
     ]
    },
    {
     "data": {
      "text/html": [
       "<img src=\"http://bootcamp-form.herokuapp.com//nico_logo.gif\"/>"
      ],
      "text/plain": [
       "<IPython.core.display.Image object>"
      ]
     },
     "metadata": {},
     "output_type": "display_data"
    }
   ],
   "source": [
    "# You can also use Beautiful Soup to find one specific element\n",
    "# You can also specify attributes to make the search more precise\n",
    "nico_logo = soup.find(\"img\", class_=\"nico_logo\")\n",
    "print(nico_logo)\n",
    "\n",
    "# Or equivalently\n",
    "# print(soup.find(\"img\", alt=\"NICO\"))\n",
    "# print(soup.find(\"img\", src=\"nico_logo.gif\"))\n",
    "\n",
    "# The \"src\" attribute represents a relative path of the image from the current URL\n",
    "# To get the actual image we must prepend the web page's URL\n",
    "display( Image(url=response.url + \"/\" + nico_logo[\"src\"]) )"
   ]
  },
  {
   "cell_type": "markdown",
   "metadata": {},
   "source": [
    "### Selecting elements by their position in a web document (or page)"
   ]
  },
  {
   "cell_type": "code",
   "execution_count": null,
   "metadata": {
    "collapsed": false
   },
   "outputs": [],
   "source": [
    "# let's look at the Bootcamp page again\n",
    "print(soup.prettify())     # prettify() adds indentation to the HTML"
   ]
  },
  {
   "cell_type": "code",
   "execution_count": null,
   "metadata": {
    "collapsed": false
   },
   "outputs": [],
   "source": []
  },
  {
   "cell_type": "markdown",
   "metadata": {},
   "source": [
    "Notice how the images are nested inside `<a>` tags which in turn are nested inside `<li>` tags, nested inside `<ul>`:\n",
    "\n",
    "```html\n",
    "<ul class=\"nav navbar-nav navbar-right\">\n",
    "  <li class=\"active\">\n",
    "    <a class=\"menu-button\" href=\"http://amaral-lab.org/\">\n",
    "      <img alt=\"Amaral Lab\" class=\"amaral_logo\" src=\"amaral-logo-white.png\" style=\"height:30px\"/>\n",
    "        Amaral Lab\n",
    "    </a>\n",
    "  </li>\n",
    "  <li class=\"active\">\n",
    "    <a class=\"menu-button\" href=\"http://www.nico.northwestern.edu/index.html\">\n",
    "      <img alt=\"NICO\" class=\"nico_logo\" src=\"nico_logo.gif\"/>\n",
    "    </a>\n",
    "  </li>\n",
    "</ul>\n",
    "```"
   ]
  },
  {
   "cell_type": "code",
   "execution_count": null,
   "metadata": {
    "collapsed": false
   },
   "outputs": [],
   "source": [
    "amaral_logo = soup.find(\"img\", class_=\"amaral_logo\")\n",
    "\n",
    "# You can navigate from one Tag to any of its relatives\n",
    "print(amaral_logo.parent.prettify())\n",
    "\n",
    "print()\n",
    "\n",
    "print(amaral_logo.parent.parent.parent.prettify())"
   ]
  },
  {
   "cell_type": "code",
   "execution_count": null,
   "metadata": {
    "collapsed": false
   },
   "outputs": [],
   "source": [
    "# You can even navigate using tag names\n",
    "amaral_logo.parent.parent.parent.li.next_sibling"
   ]
  },
  {
   "cell_type": "code",
   "execution_count": null,
   "metadata": {
    "collapsed": false
   },
   "outputs": [],
   "source": [
    "# You can even navigate using tag names\n",
    "nico_li = amaral_logo.parent.parent.parent.li.next_sibling.next_sibling\n",
    "\n",
    "print(nico_li.prettify())"
   ]
  },
  {
   "cell_type": "markdown",
   "metadata": {},
   "source": [
    "Now we can finally extract the other logo"
   ]
  },
  {
   "cell_type": "code",
   "execution_count": null,
   "metadata": {
    "collapsed": false
   },
   "outputs": [],
   "source": [
    "nico_logo = nico_li.a.img\n",
    "\n",
    "display(Image(url=response.url + \"/\" + nico_logo[\"src\"]))"
   ]
  },
  {
   "cell_type": "markdown",
   "metadata": {},
   "source": [
    "## Scraping Exercises"
   ]
  },
  {
   "cell_type": "markdown",
   "metadata": {},
   "source": [
    "## Soccer Premier League [scores](http://en.wikipedia.org/wiki/1992%E2%80%9393_FA_Premier_League#League_table)\n",
    "\n",
    "Write a function `get_league_table` that returns the html `<table>...</table>` element with the final league scores for a given year. Then use the provided `html_table_to_df` to convert the table to a pandas DataFrame."
   ]
  },
  {
   "cell_type": "code",
   "execution_count": null,
   "metadata": {
    "collapsed": false
   },
   "outputs": [],
   "source": [
    "def html_table_to_list(html_table):\n",
    "    \"\"\"\n",
    "    Takes an html <table>...</table> BeautifulSoup element\n",
    "    and converts it to an equivalent python list.\n",
    "    \"\"\"\n",
    "    table_rows = html_table.find_all(\"tr\")\n",
    "    \n",
    "    # If the html table has headers then we store this \n",
    "    # fact to properly add the DataFrame labels\n",
    "    has_headers = bool(table_rows[0].find_all(\"th\"))\n",
    "    \n",
    "    table_list = []\n",
    "    for row in table_rows:\n",
    "        table_list.append(\n",
    "            # Because table cells can have other tags inside them,\n",
    "            # it is easier to get all the text inside the row\n",
    "            # and manually remove any newline characters.\n",
    "            # Note that the newlines are from the html code itself.\n",
    "            \n",
    "            # \"\\xa0\" is a whitespace character in the Latin-1 encoding\n",
    "            # which Beautiful Soup encodes incorrectly using utf-8\n",
    "            row.text.replace(\"\\xa0\", \" \").strip(\"\\n\").split(\"\\n\")\n",
    "        )\n",
    "    \n",
    "    return table_list"
   ]
  },
  {
   "cell_type": "code",
   "execution_count": null,
   "metadata": {
    "collapsed": false
   },
   "outputs": [],
   "source": [
    "def get_league_table(url):\n",
    "    \"\"\"\n",
    "    Searchers `url` for the html table with the league results\n",
    "    and returns it as a Beautiful Soup Tag object\n",
    "    \"\"\"\n",
    "    # Get the text from the url\n",
    "\n",
    "    # Turn it into a \"soup\"\n",
    "\n",
    "    \n",
    "    # Hint: Check the source code from wikipedia.\n",
    "    # Does the league scores element have any\n",
    "    # attributes we can use to find it?\n",
    "    # What about the parent of the league scores element??\n",
    "    \n",
    "    \n",
    "    "
   ]
  },
  {
   "cell_type": "code",
   "execution_count": null,
   "metadata": {
    "collapsed": false
   },
   "outputs": [],
   "source": [
    "# Test your code here\n",
    "\n",
    "# 1992 Premier league scores\n",
    "root_url = \"http://en.wikipedia.org/wiki/1992%E2%80%9393_FA_Premier_League\"\n",
    "\n",
    "html_table = get_league_table(root_url)\n",
    "html_table_to_df(html_table)\n"
   ]
  },
  {
   "cell_type": "markdown",
   "metadata": {},
   "source": [
    "## Scraping song lyrics from [AZLyrics](http://www.azlyrics.com)\n",
    "\n",
    "Create a function `get_song_lyrics` that scrape the lyrics of a song from its page, given the song's url.\n",
    "You can use the provided `get_artist_songs` to get a list of song lyrics and to get inspiration for how to write your scraper."
   ]
  },
  {
   "cell_type": "code",
   "execution_count": null,
   "metadata": {
    "collapsed": false
   },
   "outputs": [],
   "source": [
    "root_url = \"http://www.azlyrics.com\"\n",
    "\n",
    "def get_artist_songs(artist_name):\n",
    "    \"\"\"\n",
    "    Given an artist's name, crawls AZLyrics.com for that artist's songs.\n",
    "    Returns a list of links to each song's lyrics' page.\n",
    "    \"\"\"\n",
    "    # This line removes any strange characters (e.g. @#$%^&*, etc)\n",
    "    # and white spaces from the artist's name and converts it to\n",
    "    # lower case\n",
    "    artist_name = re.sub(\"[\\s\\W]+\", \"\", artist_name).lower()\n",
    "    \n",
    "    # artist page url is of the form:\n",
    "    # http://www.azlyrics.com/[Artist Initial]/[Artist Name].html\n",
    "    artist_url = \"/\" + artist_name[0] + \"/\" + artist_name + \".html\"\n",
    "    \n",
    "    response = requests.get(root_url + artist_url)\n",
    "    soup = bs4.BeautifulSoup(response.text)\n",
    "    \n",
    "    songs = []\n",
    "    song_elements = soup.find(\"div\", id=\"listAlbum\")\n",
    "    for song_link in song_elements.find_all(\"a\", target=\"_blank\"):\n",
    "        songs.append(song_link.attrs.get(\"href\")[3:])\n",
    "    \n",
    "    return(songs)\n",
    "\n",
    "\n",
    "def get_song_lyrics(song_url):\n",
    "    \"\"\"\n",
    "    Given a song's url, crawl's AZLyrics for that song's lyric\n",
    "    and returns it as a tuple of strings:\n",
    "    (song title, song lyrics)\n",
    "    \"\"\"\n",
    "    pass"
   ]
  },
  {
   "cell_type": "code",
   "execution_count": null,
   "metadata": {
    "collapsed": false
   },
   "outputs": [],
   "source": [
    "# Test your code here\n",
    "\n",
    "# Pick an artist\n",
    "artist_name = \"\"\n",
    "artist_songs = get_artist_songs(artist_name)\n",
    "\n",
    "#lyrics = get_song_lyrics(artist_songs[])\n",
    "\n",
    "# print(artist_name + \"\\n\")\n",
    "# print(lyrics[0])\n",
    "# print(\"=\"*len(lyrics[0]))\n",
    "# print(lyrics[1])"
   ]
  }
 ],
 "metadata": {
  "kernelspec": {
   "display_name": "Python 3",
   "language": "python",
   "name": "python3"
  },
  "language_info": {
   "codemirror_mode": {
    "name": "ipython",
    "version": 3
   },
   "file_extension": ".py",
   "mimetype": "text/x-python",
   "name": "python",
   "nbconvert_exporter": "python",
   "pygments_lexer": "ipython3",
   "version": "3.4.3"
  }
 },
 "nbformat": 4,
 "nbformat_minor": 0
}
