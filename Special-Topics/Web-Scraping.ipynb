{
 "cells": [
  {
   "cell_type": "markdown",
   "metadata": {},
   "source": [
    "# An Introduction to Web Scraping\n",
    "\n",
    "How you can use python to extract or scrape any type of content from web pages.\n",
    "In this tutorial we will learn how to extract simple text elements, images, and tables from different web pages.\n",
    "\n",
    "New 3rd party packages we will use:\n",
    "\n",
    "* **requests**: http://docs.python-requests.org/en/latest/user/quickstart/\n",
    "  * The requests package can crawl (load) webpages and download (scrape) their contents\n",
    "* **Beautiful Soup**: http://www.crummy.com/software/BeautifulSoup/bs4/doc/\n",
    "  * The Beautiful Soup package can transform scraped web content into an object that can be parsed and analyzed"
   ]
  },
  {
   "cell_type": "code",
   "execution_count": 1,
   "metadata": {
    "collapsed": false
   },
   "outputs": [],
   "source": [
    "# regex's is short for Regular Expressions.\n",
    "# Regex's are strings that you can use to perform almost any kind of\n",
    "# pattern matching.\n",
    "# The re package contains the python functions used for regex pattern\n",
    "# matching.\n",
    "import re\n",
    "\n",
    "import requests\n",
    "\n",
    "# Beautiful Soup version 4.x\n",
    "import bs4\n",
    "\n",
    "# ipython notebook-specific library to display images and other media inline\n",
    "from IPython.display import display, Image\n",
    "\n",
    "# ipython notebook-specific library to render HTML code\n",
    "from IPython.display import HTML"
   ]
  },
  {
   "cell_type": "markdown",
   "metadata": {},
   "source": [
    "### Making a request"
   ]
  },
  {
   "cell_type": "code",
   "execution_count": 3,
   "metadata": {
    "collapsed": false
   },
   "outputs": [
    {
     "name": "stdout",
     "output_type": "stream",
     "text": [
      "<Response [200]>\n",
      "200\n",
      "http://httpbin.org/\n"
     ]
    }
   ],
   "source": [
    "response = requests.get(\"http://httpbin.org/\") # Returns a Reponse object\n",
    "\n",
    "print(response) # Response status code\n",
    "print(response.status_code)\n",
    "print(response.url)"
   ]
  },
  {
   "cell_type": "markdown",
   "metadata": {},
   "source": [
    "### Most common HTTP status codes:\n",
    "* 200, **OK**. Request was successful\n",
    "* 303, **See Other**. Page redirected to another URL. Your web browser automatically fetches the new URL but web crawlers do not usually do this unless you specify it.\n",
    "* 401 **Unauthorized**. The URL requires authentication (e.g. password) which was not provided or was incorrect.\n",
    "* 404, **Not Found**. The URL does not exist\n",
    "* 500 **Internal Server Error**. The server is having _unexpected_ problems and the web page is down.\n",
    "* 503 **Service Unavailable**. The web page is down, likely for server maintenance.\n",
    "\n",
    "More codes: http://en.wikipedia.org/wiki/List_of_HTTP_status_codes"
   ]
  },
  {
   "cell_type": "code",
   "execution_count": null,
   "metadata": {
    "collapsed": false
   },
   "outputs": [],
   "source": [
    "# The raw html content, i.e., the web page's source code\n",
    "# is accessible from the Response.text variable\n",
    "print(response.text)"
   ]
  },
  {
   "cell_type": "markdown",
   "metadata": {},
   "source": [
    "---\n",
    "## Detour: A (very brief) intro to HTML"
   ]
  },
  {
   "cell_type": "markdown",
   "metadata": {},
   "source": [
    "HTML is a markup language for describing web documents. It stands for **H**yper **T**ext **M**arkup **L**anguage. HTML, together with CSS (**C**ascading **S**tyle **S**heets for _styling_ web documents) and Javascript (for _animating_ web documents), is the language that is used to construct web pages.\n",
    "\n",
    "HTML documents are built using a series of HTML _tags_. Each tag describes a different type of content. Web pages are built by putting together different tags.\n",
    "\n",
    "General HTML tag structure:\n",
    "\n",
    "```html\n",
    "<tagname tag_attribute1=\"attribute1value1 attribute1value2\" tag_attribute2=\"attribute2value1\">tag contents</tagname>\n",
    "```\n",
    "* Tags (usually) have both a start (or opening) tag, <tagname> and an end (or closing) tag, </tagname>\n",
    "* Tags can also have attributes which are declared _inside_ the opening tag.\n",
    "* The actual tag _content_ goes inbetween the opening and closing tags."
   ]
  },
  {
   "cell_type": "markdown",
   "metadata": {},
   "source": [
    "Tags can be contained (nested) inside other tags, which defines relationships between them:\n",
    "\n",
    "```html\n",
    "<parent>\n",
    "  <brother></brother>\n",
    "  <sister>\n",
    "    <grandson></grandson>\n",
    "  </sister>\n",
    "</parent>\n",
    "```\n",
    "\n",
    "* `<parent>` is the _parent_ tag of `<brother>` and `<sister>`\n",
    "* `<brother>` and `<sister>` are the _children_ or _direct descendant_ tags of `<parent>`\n",
    "* `<brother>`, `<sister>`, and `<grandson>` are the _descendant_ tags of `<parent>`\n",
    "* `<brother>` and `<sister>` are _sibling_ tags"
   ]
  },
  {
   "cell_type": "markdown",
   "metadata": {},
   "source": [
    "Here's a very simple web document:\n",
    "\n",
    "```html\n",
    "<!DOCTYPE html>\n",
    "<html>\n",
    "  <head>\n",
    "    <title>Page Title</title> \n",
    "  </head>\n",
    "\n",
    "  <body>\n",
    "    <h1>My First Heading</h1>\n",
    "    <p>My first paragraph.</p>\n",
    "  </body>\n",
    "</html> \n",
    "```\n",
    "\n",
    "When you access any URL, your browser (Chrome, Firefox, Safari, IE, etc.) is actually reading a document such this one and using the tags in the document to decide how to render the page for you."
   ]
  },
  {
   "cell_type": "code",
   "execution_count": null,
   "metadata": {
    "collapsed": false
   },
   "outputs": [],
   "source": [
    "first_html = \"\"\"\n",
    "<!DOCTYPE html>\n",
    "<html>\n",
    "  <head>\n",
    "    <title>Page Title</title>\n",
    "  </head>\n",
    "  \n",
    "  <body>\n",
    "    <h1>My First Heading</h1>\n",
    "    <p>My first paragraph.</p>\n",
    "  </body>\n",
    "\n",
    "</html> \n",
    "\"\"\"\n",
    "HTML(first_html)"
   ]
  },
  {
   "cell_type": "markdown",
   "metadata": {},
   "source": [
    "### Let's look at what the different tags mean:\n",
    "\n",
    "```html\n",
    "<!-- This is how you write a comment in HTML. Comments will not appear in the browser -->\n",
    "\n",
    "<!-- This line simply identifies the document type to be HTML-->\n",
    "<!DOCTYPE html>\n",
    "<!-- Content between <html> and </html> tags define everything about the document-->\n",
    "<html>\n",
    "  <!-- Tags inside the <head> provide information about the document -->\n",
    "  <head>\n",
    "    <!-- Like the <title> tag which provides a title that appears in the browser's title and tab bars -->\n",
    "    <title>Page Title</title>\n",
    "  </head>\n",
    "  \n",
    "  <!-- Anything inside the <body> tags describes visible page content -->\n",
    "  <body>\n",
    "    <!-- The <h1> defines a header. The number defines the size of the header. -->\n",
    "    <!-- There are 6 levels of headers: <h1> to <h6> -->\n",
    "    <!-- The higher the number, the lower the font used to display it. -->\n",
    "    <h1>My First Heading</h1>\n",
    "    <!-- The <p> represents a paragraph.-->\n",
    "    <p>My first paragraph.</p>\n",
    "  </body>\n",
    "</html>\n",
    "```"
   ]
  },
  {
   "cell_type": "markdown",
   "metadata": {},
   "source": [
    "### Other important HTML tags"
   ]
  },
  {
   "cell_type": "markdown",
   "metadata": {},
   "source": [
    "**Diferent levels of headers**\n",
    "\n",
    "```html\n",
    "<h1>This is heading 1</h1>\n",
    "<h2>This is heading 2</h2>\n",
    "<h3>This is heading 3</h3>\n",
    "<h4>This is heading 4</h4>\n",
    "<h5>This is heading 5</h5>\n",
    "<h6>This is heading 6</h6> \n",
    "```\n",
    "\n",
    "**Links**\n",
    "```html\n",
    "<a href=\"http://www.website.com\">Click to go to website.com</a>\n",
    "```\n",
    "\n",
    "**Images**\n",
    "```html\n",
    "<!-- Notice that the image tag has no closing tag and no content outside the opening tag -->\n",
    "<img src=\"smiley.gif\">\n",
    "```\n",
    "\n",
    "**Lists**\n",
    "```html\n",
    "<ul>\n",
    "  <li>One Element</li>\n",
    "  <li>Another Element</li>\n",
    "</ul>\n",
    "\n",
    "<ol>\n",
    "  <li>First Ordered Element</li>\n",
    "  <li>Second Ordered Element</li>\n",
    "</ol>\n",
    "```\n",
    "\n",
    "**Tables**\n",
    "```html\n",
    "<table>\n",
    "  <!-- An HTML table is defined as a series of rows (<tr>) -->\n",
    "  <!-- The individual cell (<td>) contents are nested inside rows -->\n",
    "  <tr>\n",
    "    <!-- The <tr> tag defines column headers -->\n",
    "    <th>First Header</th>\n",
    "    <th>Second Header</th>\n",
    "  </tr>\n",
    "  <tr>\n",
    "    <td>Row 2, Col 1</td>\n",
    "    <td>Row 2, Col 2</td>\n",
    "  </tr>\n",
    "  <tr>\n",
    "    <td>Row 3, Col 1</td>\n",
    "    <td>Row 3, Col 2</td>\n",
    "  </tr>\n",
    "</table>\n",
    "```"
   ]
  },
  {
   "cell_type": "code",
   "execution_count": 4,
   "metadata": {
    "collapsed": false
   },
   "outputs": [
    {
     "data": {
      "text/html": [
       "\n",
       "<html>\n",
       "<head>\n",
       "  <title>More HTML Tags</title>\n",
       "</head>\n",
       "<body>\n",
       "  <h1>This is heading 1</h1>\n",
       "  <h2>This is heading 2</h2>\n",
       "  <h3>This is heading 3</h3>\n",
       "  <h4>This is heading 4</h4>\n",
       "  <h5>This is heading 5</h5>\n",
       "  <h6>This is heading 6</h6>\n",
       "\n",
       "  <br>\n",
       "  \n",
       "  <a href=\"http://www.website.com\">Click to go to website.com</a>\n",
       "\n",
       "  <p><img src=\"smiley.gif\"></p>\n",
       "\n",
       "  <ul>\n",
       "    <li>One Element</li>\n",
       "    <li>Another Element</li>\n",
       "  </ul>\n",
       "\n",
       "  <ol>\n",
       "    <li>First Ordered Element</li>\n",
       "    <li>Second Ordered Element</li>\n",
       "  </ol>\n",
       "\n",
       "  <table>\n",
       "    <!-- An HTML table is defined as a series of rows (<tr>) -->\n",
       "    <!-- The individual cell (<td>) contents are nested inside rows -->\n",
       "    <tr>\n",
       "      <!-- The <tr> tag defines a column headers -->\n",
       "      <th>First Header</th>\n",
       "      <th>Second Header</th>\n",
       "    </tr>\n",
       "    <tr>\n",
       "      <td>Row 2, Col 1</td>\n",
       "      <td>Row 2, Col 2</td>\n",
       "    </tr>\n",
       "    <tr>\n",
       "    <td>Row 3, Col 1</td>\n",
       "    <td>Row 3, Col 2</td>\n",
       "  </tr>\n",
       "  </table>\n",
       "</body>\n",
       "</html>\n"
      ],
      "text/plain": [
       "<IPython.core.display.HTML object>"
      ]
     },
     "execution_count": 4,
     "metadata": {},
     "output_type": "execute_result"
    }
   ],
   "source": [
    "more_tags = \"\"\"\n",
    "<html>\n",
    "<head>\n",
    "  <title>More HTML Tags</title>\n",
    "</head>\n",
    "<body>\n",
    "  <h1>This is heading 1</h1>\n",
    "  <h2>This is heading 2</h2>\n",
    "  <h3>This is heading 3</h3>\n",
    "  <h4>This is heading 4</h4>\n",
    "  <h5>This is heading 5</h5>\n",
    "  <h6>This is heading 6</h6>\n",
    "\n",
    "  <br>\n",
    "  \n",
    "  <a href=\"http://www.website.com\">Click to go to website.com</a>\n",
    "\n",
    "  <p><img src=\"smiley.gif\"></p>\n",
    "\n",
    "  <ul>\n",
    "    <li>One Element</li>\n",
    "    <li>Another Element</li>\n",
    "  </ul>\n",
    "\n",
    "  <ol>\n",
    "    <li>First Ordered Element</li>\n",
    "    <li>Second Ordered Element</li>\n",
    "  </ol>\n",
    "\n",
    "  <table>\n",
    "    <!-- An HTML table is defined as a series of rows (<tr>) -->\n",
    "    <!-- The individual cell (<td>) contents are nested inside rows -->\n",
    "    <tr>\n",
    "      <!-- The <tr> tag defines a column headers -->\n",
    "      <th>First Header</th>\n",
    "      <th>Second Header</th>\n",
    "    </tr>\n",
    "    <tr>\n",
    "      <td>Row 2, Col 1</td>\n",
    "      <td>Row 2, Col 2</td>\n",
    "    </tr>\n",
    "    <tr>\n",
    "    <td>Row 3, Col 1</td>\n",
    "    <td>Row 3, Col 2</td>\n",
    "  </tr>\n",
    "  </table>\n",
    "</body>\n",
    "</html>\n",
    "\"\"\"\n",
    "\n",
    "HTML(more_tags)"
   ]
  },
  {
   "cell_type": "markdown",
   "metadata": {},
   "source": [
    "For more about HTML: http://www.w3schools.com/html/html_intro.asp"
   ]
  },
  {
   "cell_type": "markdown",
   "metadata": {},
   "source": [
    "---\n",
    "### Back to web scrapping"
   ]
  },
  {
   "cell_type": "code",
   "execution_count": 3,
   "metadata": {
    "collapsed": false
   },
   "outputs": [],
   "source": [
    "soup = bs4.BeautifulSoup(open(\"/home/staff/jmoreira/Desktop/The HEXACO Personality Inventory - Revised.html\"))"
   ]
  },
  {
   "cell_type": "code",
   "execution_count": 4,
   "metadata": {
    "collapsed": true
   },
   "outputs": [],
   "source": [
    "table = soup.find(id=\"results_facet_table\")"
   ]
  },
  {
   "cell_type": "code",
   "execution_count": 78,
   "metadata": {
    "collapsed": false
   },
   "outputs": [
    {
     "name": "stdout",
     "output_type": "stream",
     "text": [
      "Honesty-Humility 3.5 3.22 2.41 3.97\n",
      "Sincerity 3.0 3.25 2.13 4.25\n",
      "Fairness 3.5 3.38 2.13 4.63\n",
      "Greed-Avoidance 3.75 2.63 1.38 4.0\n",
      "Modesty 3.75 3.63 2.5 4.5\n",
      "Emotionality 3.69 3.34 2.63 3.97\n",
      "Fearfulness 3.25 3.0 1.88 4.0\n",
      "Anxiety 4.5 3.75 2.63 4.63\n",
      "Dependence 3.5 3.25 2.0 4.25\n",
      "Sentimentality 3.5 3.5 2.38 4.38\n",
      "eXtraversion 2.31 3.5 2.72 4.22\n",
      "Social Self-Esteem 3.25 4.0 3.0 4.63\n",
      "Social Boldness 2.0 3.13 1.88 4.25\n",
      "Sociability 1.5 3.63 2.5 4.5\n",
      "Liveliness 2.5 3.63 2.5 4.5\n",
      "Agreeableness 3.63 3.0 2.22 3.72\n",
      "Forgivingness 3.5 2.75 1.75 3.88\n",
      "Gentleness 3.5 3.25 2.25 4.13\n",
      "Flexibility 3.5 2.75 1.75 3.75\n",
      "Patience 4.0 3.25 2.0 4.38\n",
      "Conscientiousness 3.75 3.47 2.72 4.16\n",
      "Organization 4.5 3.38 2.13 4.38\n",
      "Diligence 3.75 3.88 2.88 4.71\n",
      "Perfectionism 3.25 3.63 2.38 4.38\n",
      "Prudence 3.5 3.25 2.13 4.0\n",
      "Openness to Experience 2.81 3.31 2.5 4.13\n",
      "Aesthetic Appreciation 2.25 3.25 2.0 4.38\n",
      "Inquisitiveness 3.5 3.13 1.88 4.38\n",
      "Creativity 2.75 3.63 2.25 4.63\n",
      "Unconventionality 2.75 3.38 2.63 4.25\n",
      "Altruism 3.5 3.88 3.0 4.63\n"
     ]
    }
   ],
   "source": [
    "for tag in table.find_all(\"tr\"):\n",
    "    cells = tag.find_all(\"td\")\n",
    "    if len(cells) == 2:\n",
    "        # Getting the personality factor\n",
    "        if cells[0].b:\n",
    "            factor = cells[0].b.text\n",
    "        else:\n",
    "            factor = cells[0].contents[0].strip()\n",
    "        \n",
    "        # Getting the factor scores\n",
    "        # This find_all gets all the <div> tags that have the attribute `data-original-title`\n",
    "        # which is where the scores are actually stored\n",
    "        divs = cells[1].div.find_all(\"div\", attrs={\"data-original-title\": True})\n",
    "        \n",
    "        if divs:\n",
    "            # First element is the user score\n",
    "            own_score = float(divs[0][\"data-original-title\"].split(\":\")[1].strip())\n",
    "            \n",
    "            # Next element is the median score\n",
    "            med_score = float(divs[1][\"data-original-title\"].split(\":\")[1].strip())\n",
    "            \n",
    "            # The final element is the 10th and 90th percentiles\n",
    "            percents = divs[2][\"data-original-title\"].split(\"<br />\")\n",
    "            p10 = float(percents[0].split(\":\")[1].strip())\n",
    "            p90 = float(percents[1].split(\":\")[1].strip())\n",
    "            \n",
    "            print(factor, own_score, med_score, p10, p90)"
   ]
  },
  {
   "cell_type": "markdown",
   "metadata": {},
   "source": [
    "### Selecting the text from the Bootcamp's front page"
   ]
  },
  {
   "cell_type": "code",
   "execution_count": 6,
   "metadata": {
    "collapsed": false
   },
   "outputs": [
    {
     "name": "stdout",
     "output_type": "stream",
     "text": [
      "Big Data Initiative\n",
      "Welcome to the registration page for the NU's Spring 2015 Programming Bootcamp \n",
      "The bootcamp is organized by  Luis Amaral , Professor of Chemical & Biological Engineering and co-Director of the Northwestern Institute on Complex Systems\n",
      "The bootcamp is free of charge\n"
     ]
    }
   ],
   "source": [
    "# First we turn the document into a \"soup\"\n",
    "soup = bs4.BeautifulSoup(response.text)\n",
    "\n",
    "# The text from the front page is declared as headers of different levels\n",
    "bootcamp_text = soup.find_all(\"h1\")        # finds all <h1> tags in the document\n",
    "\n",
    "# Remaining pieces of text\n",
    "bootcamp_text.extend( soup.find_all(\"h3\") )\n",
    "bootcamp_text.extend( soup.find_all(\"h4\") )\n",
    "\n",
    "for header in bootcamp_text:\n",
    "    print(header.text)"
   ]
  },
  {
   "cell_type": "code",
   "execution_count": 7,
   "metadata": {
    "collapsed": false
   },
   "outputs": [
    {
     "name": "stdout",
     "output_type": "stream",
     "text": [
      "<class 'bs4.element.Tag'>\n"
     ]
    }
   ],
   "source": [
    "# Beautiful Soup converts HTML tags into its own \"Tag\" objects\n",
    "print(type(bootcamp_text[0]))"
   ]
  },
  {
   "cell_type": "code",
   "execution_count": 8,
   "metadata": {
    "collapsed": false
   },
   "outputs": [
    {
     "name": "stdout",
     "output_type": "stream",
     "text": [
      "Big Data Initiative\n",
      "h1\n"
     ]
    }
   ],
   "source": [
    "# These objects have several useful attributes\n",
    "print(bootcamp_text[0].text)\n",
    "print(bootcamp_text[0].name)"
   ]
  },
  {
   "cell_type": "markdown",
   "metadata": {},
   "source": [
    "### Selecting the logos from the Bootcamp's front page"
   ]
  },
  {
   "cell_type": "code",
   "execution_count": 9,
   "metadata": {
    "collapsed": false
   },
   "outputs": [
    {
     "name": "stdout",
     "output_type": "stream",
     "text": [
      "[<img alt=\"Amaral Lab\" class=\"amaral_logo\" src=\"amaral-logo-white.png\" style=\"height:30px\"/>, <img alt=\"NICO\" class=\"nico_logo\" src=\"nico_logo.gif\"/>]\n"
     ]
    }
   ],
   "source": [
    "logos = soup.find_all(\"img\")\n",
    "print(logos)"
   ]
  },
  {
   "cell_type": "code",
   "execution_count": 10,
   "metadata": {
    "collapsed": false
   },
   "outputs": [
    {
     "name": "stdout",
     "output_type": "stream",
     "text": [
      "{'src': 'amaral-logo-white.png', 'style': 'height:30px', 'alt': 'Amaral Lab', 'class': ['amaral_logo']}\n",
      "['amaral_logo']\n",
      "amaral-logo-white.png\n"
     ]
    }
   ],
   "source": [
    "# The html tag's attributes are also stored\n",
    "print(logos[0].attrs)\n",
    "print(logos[0][\"class\"])\n",
    "print(logos[0][\"src\"])"
   ]
  },
  {
   "cell_type": "code",
   "execution_count": 11,
   "metadata": {
    "collapsed": false
   },
   "outputs": [
    {
     "name": "stdout",
     "output_type": "stream",
     "text": [
      "<img alt=\"NICO\" class=\"nico_logo\" src=\"nico_logo.gif\"/>\n"
     ]
    },
    {
     "data": {
      "text/html": [
       "<img src=\"http://bootcamp-form.herokuapp.com//nico_logo.gif\"/>"
      ],
      "text/plain": [
       "<IPython.core.display.Image object>"
      ]
     },
     "metadata": {},
     "output_type": "display_data"
    }
   ],
   "source": [
    "# You can also use Beautiful Soup to find one specific element\n",
    "# You can also specify attributes to make the search more precise\n",
    "nico_logo = soup.find(\"img\", class_=\"nico_logo\")\n",
    "print(nico_logo)\n",
    "\n",
    "# Or equivalently\n",
    "# print(soup.find(\"img\", alt=\"NICO\"))\n",
    "# print(soup.find(\"img\", src=\"nico_logo.gif\"))\n",
    "\n",
    "# The \"src\" attribute represents a relative path of the image from the current URL\n",
    "# To get the actual image we must prepend the web page's URL\n",
    "display( Image(url=response.url + \"/\" + nico_logo[\"src\"]) )"
   ]
  },
  {
   "cell_type": "markdown",
   "metadata": {},
   "source": [
    "### Selecting elements by their position in a web document (or page)"
   ]
  },
  {
   "cell_type": "code",
   "execution_count": null,
   "metadata": {
    "collapsed": false
   },
   "outputs": [],
   "source": [
    "# let's look at the Bootcamp page again\n",
    "print(soup.prettify())     # prettify() adds indentation to the HTML"
   ]
  },
  {
   "cell_type": "code",
   "execution_count": null,
   "metadata": {
    "collapsed": false
   },
   "outputs": [],
   "source": []
  },
  {
   "cell_type": "markdown",
   "metadata": {},
   "source": [
    "Notice how the images are nested inside `<a>` tags which in turn are nested inside `<li>` tags, nested inside `<ul>`:\n",
    "\n",
    "```html\n",
    "<ul class=\"nav navbar-nav navbar-right\">\n",
    "  <li class=\"active\">\n",
    "    <a class=\"menu-button\" href=\"http://amaral-lab.org/\">\n",
    "      <img alt=\"Amaral Lab\" class=\"amaral_logo\" src=\"amaral-logo-white.png\" style=\"height:30px\"/>\n",
    "        Amaral Lab\n",
    "    </a>\n",
    "  </li>\n",
    "  <li class=\"active\">\n",
    "    <a class=\"menu-button\" href=\"http://www.nico.northwestern.edu/index.html\">\n",
    "      <img alt=\"NICO\" class=\"nico_logo\" src=\"nico_logo.gif\"/>\n",
    "    </a>\n",
    "  </li>\n",
    "</ul>\n",
    "```"
   ]
  },
  {
   "cell_type": "code",
   "execution_count": null,
   "metadata": {
    "collapsed": false
   },
   "outputs": [],
   "source": [
    "amaral_logo = soup.find(\"img\", class_=\"amaral_logo\")\n",
    "\n",
    "# You can navigate from one Tag to any of its relatives\n",
    "print(amaral_logo.parent.prettify())\n",
    "\n",
    "print()\n",
    "\n",
    "print(amaral_logo.parent.parent.parent.prettify())"
   ]
  },
  {
   "cell_type": "code",
   "execution_count": null,
   "metadata": {
    "collapsed": false
   },
   "outputs": [],
   "source": [
    "# You can even navigate using tag names\n",
    "amaral_logo.parent.parent.parent.li.next_sibling"
   ]
  },
  {
   "cell_type": "code",
   "execution_count": null,
   "metadata": {
    "collapsed": false
   },
   "outputs": [],
   "source": [
    "# You can even navigate using tag names\n",
    "nico_li = amaral_logo.parent.parent.parent.li.next_sibling.next_sibling\n",
    "\n",
    "print(nico_li.prettify())"
   ]
  },
  {
   "cell_type": "markdown",
   "metadata": {},
   "source": [
    "Now we can finally extract the other logo"
   ]
  },
  {
   "cell_type": "code",
   "execution_count": null,
   "metadata": {
    "collapsed": false
   },
   "outputs": [],
   "source": [
    "nico_logo = nico_li.a.img\n",
    "\n",
    "display(Image(url=response.url + \"/\" + nico_logo[\"src\"]))"
   ]
  },
  {
   "cell_type": "markdown",
   "metadata": {},
   "source": [
    "## Scraping Exercises"
   ]
  },
  {
   "cell_type": "markdown",
   "metadata": {},
   "source": [
    "## Soccer Premier League [scores](http://en.wikipedia.org/wiki/1992%E2%80%9393_FA_Premier_League#League_table)\n",
    "\n",
    "Write a function `get_league_table` that returns the html `<table>...</table>` element with the final league scores for a given year. Then use the provided `html_table_to_df` to convert the table to a pandas DataFrame."
   ]
  },
  {
   "cell_type": "code",
   "execution_count": null,
   "metadata": {
    "collapsed": false
   },
   "outputs": [],
   "source": [
    "def html_table_to_list(html_table):\n",
    "    \"\"\"\n",
    "    Takes an html <table>...</table> BeautifulSoup element\n",
    "    and converts it to an equivalent python list.\n",
    "    \"\"\"\n",
    "    table_rows = html_table.find_all(\"tr\")\n",
    "    \n",
    "    # If the html table has headers then we store this \n",
    "    # fact to properly add the DataFrame labels\n",
    "    has_headers = bool(table_rows[0].find_all(\"th\"))\n",
    "    \n",
    "    table_list = []\n",
    "    for row in table_rows:\n",
    "        table_list.append(\n",
    "            # Because table cells can have other tags inside them,\n",
    "            # it is easier to get all the text inside the row\n",
    "            # and manually remove any newline characters.\n",
    "            # Note that the newlines are from the html code itself.\n",
    "            \n",
    "            # \"\\xa0\" is a whitespace character in the Latin-1 encoding\n",
    "            # which Beautiful Soup encodes incorrectly using utf-8\n",
    "            row.text.replace(\"\\xa0\", \" \").strip(\"\\n\").split(\"\\n\")\n",
    "        )\n",
    "    \n",
    "    return table_list"
   ]
  },
  {
   "cell_type": "code",
   "execution_count": null,
   "metadata": {
    "collapsed": false
   },
   "outputs": [],
   "source": [
    "def get_league_table(url):\n",
    "    \"\"\"\n",
    "    Searchers `url` for the html table with the league results\n",
    "    and returns it as a Beautiful Soup Tag object\n",
    "    \"\"\"\n",
    "    # Get the text from the url\n",
    "\n",
    "    # Turn it into a \"soup\"\n",
    "\n",
    "    \n",
    "    # Hint: Check the source code from wikipedia.\n",
    "    # Does the league scores element have any\n",
    "    # attributes we can use to find it?\n",
    "    # What about the parent of the league scores element??\n",
    "    \n",
    "    \n",
    "    "
   ]
  },
  {
   "cell_type": "code",
   "execution_count": null,
   "metadata": {
    "collapsed": false
   },
   "outputs": [],
   "source": [
    "# Test your code here\n",
    "\n",
    "# 1992 Premier league scores\n",
    "root_url = \"http://en.wikipedia.org/wiki/1992%E2%80%9393_FA_Premier_League\"\n",
    "\n",
    "html_table = get_league_table(root_url)\n",
    "html_table_to_df(html_table)\n"
   ]
  },
  {
   "cell_type": "markdown",
   "metadata": {},
   "source": [
    "## Scraping song lyrics from [AZLyrics](http://www.azlyrics.com)\n",
    "\n",
    "Create a function `get_song_lyrics` that scrape the lyrics of a song from its page, given the song's url.\n",
    "You can use the provided `get_artist_songs` to get a list of song lyrics and to get inspiration for how to write your scraper."
   ]
  },
  {
   "cell_type": "code",
   "execution_count": null,
   "metadata": {
    "collapsed": false
   },
   "outputs": [],
   "source": [
    "root_url = \"http://www.azlyrics.com\"\n",
    "\n",
    "def get_artist_songs(artist_name):\n",
    "    \"\"\"\n",
    "    Given an artist's name, crawls AZLyrics.com for that artist's songs.\n",
    "    Returns a list of links to each song's lyrics' page.\n",
    "    \"\"\"\n",
    "    # This line removes any strange characters (e.g. @#$%^&*, etc)\n",
    "    # and white spaces from the artist's name and converts it to\n",
    "    # lower case\n",
    "    artist_name = re.sub(\"[\\s\\W]+\", \"\", artist_name).lower()\n",
    "    \n",
    "    # artist page url is of the form:\n",
    "    # http://www.azlyrics.com/[Artist Initial]/[Artist Name].html\n",
    "    artist_url = \"/\" + artist_name[0] + \"/\" + artist_name + \".html\"\n",
    "    \n",
    "    response = requests.get(root_url + artist_url)\n",
    "    soup = bs4.BeautifulSoup(response.text)\n",
    "    \n",
    "    songs = []\n",
    "    song_elements = soup.find(\"div\", id=\"listAlbum\")\n",
    "    for song_link in song_elements.find_all(\"a\", target=\"_blank\"):\n",
    "        songs.append(song_link.attrs.get(\"href\")[3:])\n",
    "    \n",
    "    return(songs)\n",
    "\n",
    "\n",
    "def get_song_lyrics(song_url):\n",
    "    \"\"\"\n",
    "    Given a song's url, crawl's AZLyrics for that song's lyric\n",
    "    and returns it as a tuple of strings:\n",
    "    (song title, song lyrics)\n",
    "    \"\"\"\n",
    "    pass"
   ]
  },
  {
   "cell_type": "code",
   "execution_count": null,
   "metadata": {
    "collapsed": false
   },
   "outputs": [],
   "source": [
    "# Test your code here\n",
    "\n",
    "# Pick an artist\n",
    "artist_name = \"\"\n",
    "artist_songs = get_artist_songs(artist_name)\n",
    "\n",
    "#lyrics = get_song_lyrics(artist_songs[])\n",
    "\n",
    "# print(artist_name + \"\\n\")\n",
    "# print(lyrics[0])\n",
    "# print(\"=\"*len(lyrics[0]))\n",
    "# print(lyrics[1])"
   ]
  }
 ],
 "metadata": {
  "kernelspec": {
   "display_name": "Python 3",
   "language": "python",
   "name": "python3"
  },
  "language_info": {
   "codemirror_mode": {
    "name": "ipython",
    "version": 3
   },
   "file_extension": ".py",
   "mimetype": "text/x-python",
   "name": "python",
   "nbconvert_exporter": "python",
   "pygments_lexer": "ipython3",
   "version": "3.4.3"
  }
 },
 "nbformat": 4,
 "nbformat_minor": 0
}
