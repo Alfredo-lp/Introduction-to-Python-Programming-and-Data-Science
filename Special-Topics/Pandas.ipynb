{
 "metadata": {
  "name": "",
  "signature": "sha256:b84cf64bf62fbebeb3ed2fb20da4ce189d770b4530068dffe356d84a9f3d5ef6"
 },
 "nbformat": 3,
 "nbformat_minor": 0,
 "worksheets": [
  {
   "cells": [
    {
     "cell_type": "markdown",
     "metadata": {},
     "source": [
      "#An Introduction to Pandas\u00b6\n",
      "\n",
      "Pandas is a contraction for panel data, which is kind of an obtuse saying. A shorthand way of thinking about it is to think of it as dealing with a connectected series of data, like a company's stock price over time or spreadsheet. \n",
      "\n",
      "Pandas can do a lot, so I find it easier to think of it as this for data:\n",
      "\n",
      "![party](http://cdn.protoolreviews.com/wp-content/uploads/ptr/4433.jpg)\n",
      "\n",
      "\n",
      "Here is some recommended reading (because it's easy to cut a finger off with that many tools):\n",
      "\n",
      "The Pandas tutorial pages http://pandas.pydata.org/pandas-docs/stable/tutorials.html\n",
      "\n",
      "10 minutes to Pandas http://pandas.pydata.org/pandas-docs/stable/10min.html"
     ]
    },
    {
     "cell_type": "code",
     "collapsed": false,
     "input": [
      "#We start with importing the packages\n",
      "import pandas as pd\n",
      "import numpy as np\n",
      "import matplotlib.pyplot as plt\n",
      "import matplotlib as mpl\n",
      "\n",
      "#We turn off the latex usage in matplotlib because LaTeX doesn't know\n",
      "#how to handle a '_' character without it being escaped with a backslash\n",
      "#Since we use '_' in column names typically this can be a bit of a problem\n",
      "#If we don't turn this off\n",
      "mpl.rc('text', usetex=False)"
     ],
     "language": "python",
     "metadata": {},
     "outputs": []
    },
    {
     "cell_type": "code",
     "collapsed": false,
     "input": [
      "#This is an IPython \"magic\" to make sure that plots appear\n",
      "#directly in the notebook\n",
      "%matplotlib inline"
     ],
     "language": "python",
     "metadata": {},
     "outputs": []
    },
    {
     "cell_type": "markdown",
     "metadata": {},
     "source": [
      "## Pandas Datastructures\n",
      "\n",
      "The are two data types in Pandas that we'll primarly use:\n",
      "\n",
      "* **Dataframe** - this is for 2D data, think an excel spreadsheet. It has both rows and columns.\n",
      "* **Series** - this is 1D data, think the stock price of a company over time. A single row or column of a Dataframe would be a series too\n",
      "\n",
      "Most of the time though, it'll be a dataframe so let's dive into that."
     ]
    },
    {
     "cell_type": "markdown",
     "metadata": {},
     "source": [
      "We can create a dataframe with data from the interactive prompt by giving a list of lists and the column names"
     ]
    },
    {
     "cell_type": "code",
     "collapsed": false,
     "input": [
      "df = pd.DataFrame(np.random.randn(6, 4), columns = ['A', 'B', 'C', 'D'])\n",
      "print(df)"
     ],
     "language": "python",
     "metadata": {},
     "outputs": []
    },
    {
     "cell_type": "code",
     "collapsed": false,
     "input": [
      "#But we actually get much better formatting if we just let IPython notebook handle it\n",
      "#Just write `df` below and execute this cell\n"
     ],
     "language": "python",
     "metadata": {},
     "outputs": []
    },
    {
     "cell_type": "markdown",
     "metadata": {},
     "source": [
      "The basics of a dataframe are the columns up top and the indices that label the rows"
     ]
    },
    {
     "cell_type": "code",
     "collapsed": false,
     "input": [
      "#The columns are the labels across the top\n",
      "print( df.columns ) \n",
      "print()\n",
      "\n",
      "#The indexes run down the side\n",
      "print( df.index )"
     ],
     "language": "python",
     "metadata": {},
     "outputs": []
    },
    {
     "cell_type": "markdown",
     "metadata": {},
     "source": [
      "For the rest of the tutorial, though we'll start off with the weight data from the individuals."
     ]
    },
    {
     "cell_type": "code",
     "collapsed": false,
     "input": [
      "#Pandas has lots of methods to read data from a number of formats\n",
      "#We can easily read in a csv just using the read_csv function\n",
      "df = pd.read_csv('../Data/pandas_test_data.csv')"
     ],
     "language": "python",
     "metadata": {},
     "outputs": []
    },
    {
     "cell_type": "code",
     "collapsed": false,
     "input": [
      "df"
     ],
     "language": "python",
     "metadata": {},
     "outputs": []
    },
    {
     "cell_type": "markdown",
     "metadata": {},
     "source": [
      "## Accessing Data in Pandas"
     ]
    },
    {
     "cell_type": "code",
     "collapsed": false,
     "input": [
      "#We can access a column with the . notation shown here\n",
      "df.Initial_Weight"
     ],
     "language": "python",
     "metadata": {},
     "outputs": []
    },
    {
     "cell_type": "code",
     "collapsed": false,
     "input": [
      "#Or we can access a column of data like we access the value of a key in a dictionary\n",
      "df['Initial_Weight']"
     ],
     "language": "python",
     "metadata": {},
     "outputs": []
    },
    {
     "cell_type": "code",
     "collapsed": false,
     "input": [
      "#We can slice like in a list, and we'll get those columns \n",
      "#Notice how the row indexes are numeric and that's what we slice on\n",
      "df[0:2]"
     ],
     "language": "python",
     "metadata": {},
     "outputs": []
    },
    {
     "cell_type": "code",
     "collapsed": false,
     "input": [
      "#Now access the Age Column\n"
     ],
     "language": "python",
     "metadata": {},
     "outputs": []
    },
    {
     "cell_type": "code",
     "collapsed": false,
     "input": [
      "#Now access the Height column\n"
     ],
     "language": "python",
     "metadata": {},
     "outputs": []
    },
    {
     "cell_type": "markdown",
     "metadata": {},
     "source": [
      "## Slicing in Pandas\n",
      "\n",
      "Pandas has 3 methods besides to direct access to slice/index data\n",
      "\n",
      "* .loc is strictly label based and works on the index\n",
      "* .iloc is integer based and works on the index\n",
      "* .ix supports both integers and labels and works on rows and columns\n",
      "\n",
      "First let's reorder the matrix to make some of these concepts more clear"
     ]
    },
    {
     "cell_type": "code",
     "collapsed": false,
     "input": [
      "#We can sort by a single column\n",
      "sdf = df.sort('Final_Weight')\n",
      "sdf"
     ],
     "language": "python",
     "metadata": {},
     "outputs": []
    },
    {
     "cell_type": "code",
     "collapsed": false,
     "input": [
      "#When we use the iloc method on sdf we get the first row in the dataframe\n",
      "#Check it out in comparison to above\n",
      "sdf.iloc[0]"
     ],
     "language": "python",
     "metadata": {},
     "outputs": []
    },
    {
     "cell_type": "code",
     "collapsed": false,
     "input": [
      "#Access the row that has the value `195`\n"
     ],
     "language": "python",
     "metadata": {},
     "outputs": []
    },
    {
     "cell_type": "code",
     "collapsed": false,
     "input": [
      "#The iloc method can handle a slice and it will return\n",
      "#The same number of rows, in the same positions as if we were slicing a list\n",
      "sdf.iloc[0:3]"
     ],
     "language": "python",
     "metadata": {},
     "outputs": []
    },
    {
     "cell_type": "code",
     "collapsed": false,
     "input": [
      "#Can we slice past the end of the list?\n",
      "sdf.iloc[3:8]"
     ],
     "language": "python",
     "metadata": {},
     "outputs": []
    },
    {
     "cell_type": "markdown",
     "metadata": {},
     "source": [
      "So now let's see the `loc` function in action"
     ]
    },
    {
     "cell_type": "code",
     "collapsed": false,
     "input": [
      "#When we use the loc method, it looks for the row labeled '0'\n",
      "#Notice how this was the third line in the dataframe (as printed above)\n",
      "sdf.loc[0]"
     ],
     "language": "python",
     "metadata": {},
     "outputs": []
    },
    {
     "cell_type": "markdown",
     "metadata": {},
     "source": [
      "Ah ha! It pulls the row labelled with `0`"
     ]
    },
    {
     "cell_type": "code",
     "collapsed": false,
     "input": [
      "#We can also use the loc method with an index label and column labels\n",
      "#Note how we can slice on columns also! But we can only slice across labels\n",
      "sdf.loc[2, 'Initial_Weight':'Height']"
     ],
     "language": "python",
     "metadata": {},
     "outputs": []
    },
    {
     "cell_type": "code",
     "collapsed": false,
     "input": [
      "#Now let's access the value weight value `142` in the dataframe \n",
      "\n"
     ],
     "language": "python",
     "metadata": {},
     "outputs": []
    },
    {
     "cell_type": "code",
     "collapsed": false,
     "input": [
      "#Let's just look at sdf again quickly\n",
      "sdf"
     ],
     "language": "python",
     "metadata": {},
     "outputs": []
    },
    {
     "cell_type": "code",
     "collapsed": false,
     "input": [
      "#So let's slice on the sorted dataframe in both row and column directions\n",
      "sdf.loc[2:3, 'Initial_Weight':'Final_Weight']"
     ],
     "language": "python",
     "metadata": {},
     "outputs": []
    },
    {
     "cell_type": "markdown",
     "metadata": {},
     "source": [
      "Now let's find out how `ix` works, it can be a bit more complicated so I want to use the unsorted dataframe first."
     ]
    },
    {
     "cell_type": "code",
     "collapsed": false,
     "input": [
      "#We can use the ix on a dataframe, it also supports row and column indexing\n",
      "df.ix[:, 'Initial_Weight']"
     ],
     "language": "python",
     "metadata": {},
     "outputs": []
    },
    {
     "cell_type": "code",
     "collapsed": false,
     "input": [
      "#Instead of the .loc method, we can access multiple column names without slicing\n",
      "#the ix method will return the data for the columns only specified\n",
      "#But note how we have to give a `list` of column names as the argument for the column portion\n",
      "df.ix[:, ['Initial_Weight', 'Height']]"
     ],
     "language": "python",
     "metadata": {},
     "outputs": []
    },
    {
     "cell_type": "code",
     "collapsed": false,
     "input": [
      "#But the ix method will also output the columns in whatever order we tell it to\n",
      "#And we can apply the same indexing method to the rows\n",
      "df.ix[[4, 3], ['Height', 'Final_Weight']]"
     ],
     "language": "python",
     "metadata": {},
     "outputs": []
    },
    {
     "cell_type": "code",
     "collapsed": false,
     "input": [
      "#We can slice on both columns, notice how this is given directly\n",
      "df.ix[0:2, 'Initial_Weight':'Height']"
     ],
     "language": "python",
     "metadata": {},
     "outputs": []
    },
    {
     "cell_type": "code",
     "collapsed": false,
     "input": [
      "#So let's see the catch, Perform the operations above on the sorted dataframe\n",
      "\n"
     ],
     "language": "python",
     "metadata": {},
     "outputs": []
    },
    {
     "cell_type": "markdown",
     "metadata": {},
     "source": [
      "## With Pandas we can also chain operations"
     ]
    },
    {
     "cell_type": "code",
     "collapsed": false,
     "input": [
      "#First we restrict the dataframe to the first two rows\n",
      "#Then we pull out all rows and the columns that we slice on\n",
      "sdf.iloc[0:2].ix[:,'Initial_Weight':'Height']"
     ],
     "language": "python",
     "metadata": {},
     "outputs": []
    },
    {
     "cell_type": "code",
     "collapsed": false,
     "input": [
      "df"
     ],
     "language": "python",
     "metadata": {},
     "outputs": []
    },
    {
     "cell_type": "code",
     "collapsed": false,
     "input": [
      "#Let's try to use the `loc` method, and then the ix method\n",
      "#to get only the Initial_Weight values 195 and 123\n",
      "df.loc[2:4].ix[:,'Initial_Weight']"
     ],
     "language": "python",
     "metadata": {},
     "outputs": []
    },
    {
     "cell_type": "code",
     "collapsed": false,
     "input": [],
     "language": "python",
     "metadata": {},
     "outputs": []
    },
    {
     "cell_type": "code",
     "collapsed": false,
     "input": [],
     "language": "python",
     "metadata": {},
     "outputs": []
    },
    {
     "cell_type": "code",
     "collapsed": false,
     "input": [],
     "language": "python",
     "metadata": {},
     "outputs": []
    },
    {
     "cell_type": "code",
     "collapsed": false,
     "input": [],
     "language": "python",
     "metadata": {},
     "outputs": []
    },
    {
     "cell_type": "markdown",
     "metadata": {},
     "source": [
      "## Indexing on series works similarly"
     ]
    },
    {
     "cell_type": "code",
     "collapsed": false,
     "input": [
      "#When we slice to the point that we have only 1D data\n",
      "#Then Pandas transforms it into a series\n",
      "\n",
      "#It could be one row or one columnd of data\n",
      "#Let's show it with a row of data since we already showed a column above\n",
      "tseries = sdf.ix[[5, 4, 2],'Initial_Weight':'Height'].iloc[1]\n",
      "tseries"
     ],
     "language": "python",
     "metadata": {},
     "outputs": []
    },
    {
     "cell_type": "code",
     "collapsed": false,
     "input": [
      "#A series is indexed just like a list\n",
      "tseries[0:2]"
     ],
     "language": "python",
     "metadata": {},
     "outputs": []
    },
    {
     "cell_type": "code",
     "collapsed": false,
     "input": [
      "#But it can also be indexed by its row labels\n",
      "tseries['Initial_Weight':'Final_Weight']"
     ],
     "language": "python",
     "metadata": {},
     "outputs": []
    },
    {
     "cell_type": "code",
     "collapsed": false,
     "input": [
      "#We can use the iloc method\n",
      "tseries.iloc[0]"
     ],
     "language": "python",
     "metadata": {},
     "outputs": []
    },
    {
     "cell_type": "code",
     "collapsed": false,
     "input": [
      "#Or the loc method \n",
      "tseries.loc['Initial_Weight']"
     ],
     "language": "python",
     "metadata": {},
     "outputs": []
    },
    {
     "cell_type": "markdown",
     "metadata": {},
     "source": [
      "## Pandas has basic plotting built in"
     ]
    },
    {
     "cell_type": "code",
     "collapsed": false,
     "input": [
      "ax = df.plot()\n",
      "ax.set_ylabel('Nonsensical')"
     ],
     "language": "python",
     "metadata": {},
     "outputs": []
    },
    {
     "cell_type": "markdown",
     "metadata": {},
     "source": [
      "Or select the columns to have it make sense"
     ]
    },
    {
     "cell_type": "code",
     "collapsed": false,
     "input": [
      "df.ix[:, ['Initial_Weight', 'Final_Weight']].plot(kind='bar')"
     ],
     "language": "python",
     "metadata": {},
     "outputs": []
    },
    {
     "cell_type": "code",
     "collapsed": false,
     "input": [
      "ax = df.plot(kind='bar', stacked=True)\n",
      "ax.set_ylabel('Random Numbers')"
     ],
     "language": "python",
     "metadata": {},
     "outputs": []
    },
    {
     "cell_type": "markdown",
     "metadata": {},
     "source": [
      "## Pandas has column level functions built-in"
     ]
    },
    {
     "cell_type": "code",
     "collapsed": false,
     "input": [
      "#If we run it on the entire dataframe, it tells us the count on every column_stack\n",
      "df.count()"
     ],
     "language": "python",
     "metadata": {},
     "outputs": []
    },
    {
     "cell_type": "code",
     "collapsed": false,
     "input": [
      "#Run the count() only one of the columns\n"
     ],
     "language": "python",
     "metadata": {},
     "outputs": []
    },
    {
     "cell_type": "code",
     "collapsed": false,
     "input": [
      "df.mean()"
     ],
     "language": "python",
     "metadata": {},
     "outputs": []
    },
    {
     "cell_type": "code",
     "collapsed": false,
     "input": [
      "#What's the mean initial weight?\n"
     ],
     "language": "python",
     "metadata": {},
     "outputs": []
    },
    {
     "cell_type": "code",
     "collapsed": false,
     "input": [
      "df.median()"
     ],
     "language": "python",
     "metadata": {},
     "outputs": []
    },
    {
     "cell_type": "code",
     "collapsed": false,
     "input": [
      "#What's the median final weight?\n",
      "\n"
     ],
     "language": "python",
     "metadata": {},
     "outputs": []
    },
    {
     "cell_type": "markdown",
     "metadata": {},
     "source": [
      "## We can also do column/row level operations"
     ]
    },
    {
     "cell_type": "code",
     "collapsed": false,
     "input": [
      "#We can divide a column by a column\n",
      "df['Final_Weight']/df['Initial_Weight']"
     ],
     "language": "python",
     "metadata": {},
     "outputs": []
    },
    {
     "cell_type": "code",
     "collapsed": false,
     "input": [
      "#And now use this to add a new column to the dataframe\n",
      "df['Percent_Remains'] = df['Final_Weight']/df['Initial_Weight']\n",
      "\n",
      "#If we want to just look at a few rows we can use the `head()` function\n",
      "#The number inside the parentheses is the number of lines to show\n",
      "df.head(2)"
     ],
     "language": "python",
     "metadata": {},
     "outputs": []
    },
    {
     "cell_type": "code",
     "collapsed": false,
     "input": [
      "#We can perform a more complicated function too to make a new column\n",
      "df['Initial-BMI'] = df['Initial_Weight'] / df['Height']**2 * 703\n",
      "df"
     ],
     "language": "python",
     "metadata": {},
     "outputs": []
    },
    {
     "cell_type": "code",
     "collapsed": false,
     "input": [
      "#Make a new column using whatever operation you want\n"
     ],
     "language": "python",
     "metadata": {},
     "outputs": []
    },
    {
     "cell_type": "code",
     "collapsed": false,
     "input": [
      "#We can perform row level operations, making a new row\n",
      "#Notice how each column is represented?\n",
      "df.iloc[0]/df.iloc[1]"
     ],
     "language": "python",
     "metadata": {},
     "outputs": []
    },
    {
     "cell_type": "code",
     "collapsed": false,
     "input": [
      "#We can add a new row to the dataframe by telling it to add and access the 7th row\n",
      "df.loc[7] = df.iloc[0] / df.iloc[1]\n",
      "df.tail(2)"
     ],
     "language": "python",
     "metadata": {},
     "outputs": []
    },
    {
     "cell_type": "code",
     "collapsed": false,
     "input": [
      "#Now try and add a row with the `iloc` method?\n"
     ],
     "language": "python",
     "metadata": {},
     "outputs": []
    },
    {
     "cell_type": "code",
     "collapsed": false,
     "input": [
      "#Why didn't that work? `iloc` requires that the integer index already exist\n",
      "#The `loc` method calls by name, so when there isn't a name already used it creates one\n",
      "#Let's try just changing a row\n",
      "\n"
     ],
     "language": "python",
     "metadata": {},
     "outputs": []
    },
    {
     "cell_type": "markdown",
     "metadata": {},
     "source": [
      "## Querying"
     ]
    },
    {
     "cell_type": "code",
     "collapsed": false,
     "input": [
      "#We can query with a mask\n",
      "#Note how we specify the query first in the print statement\n",
      "#When we print it, it's just a mask of True and False\n",
      "datafilter = df < 180\n",
      "print(datafilter)\n",
      "print()\n",
      "\n",
      "#When we give the dataframe this mask, it only returns the values that have a `True`\n",
      "df[datafilter]"
     ],
     "language": "python",
     "metadata": {},
     "outputs": []
    },
    {
     "cell_type": "code",
     "collapsed": false,
     "input": [
      "#With Pandas we can 'query' the dataframe directly with the condition\n",
      "df[df['Initial-BMI'] > 25]"
     ],
     "language": "python",
     "metadata": {},
     "outputs": []
    },
    {
     "cell_type": "code",
     "collapsed": false,
     "input": [
      "df"
     ],
     "language": "python",
     "metadata": {},
     "outputs": []
    },
    {
     "cell_type": "code",
     "collapsed": false,
     "input": [
      "#We can also chain commands if we need to both query and limit results\n",
      "df[df.Initial_Weight > 180].ix[2, ['Initial-BMI']]"
     ],
     "language": "python",
     "metadata": {},
     "outputs": []
    },
    {
     "cell_type": "code",
     "collapsed": false,
     "input": [
      "#We can also issue multiple query conditions\n",
      "#Note how we have to use the `&` symbol instead of `and`\n",
      "df[(df.Initial_Weight > 180) & (df.Height > 66)]"
     ],
     "language": "python",
     "metadata": {},
     "outputs": []
    },
    {
     "cell_type": "code",
     "collapsed": false,
     "input": [
      "#When we want an `or` condition we have to use the | symbol\n",
      "df[(df.Initial_Weight > 180) | (df.Initial_Weight < 160)]"
     ],
     "language": "python",
     "metadata": {},
     "outputs": []
    },
    {
     "cell_type": "markdown",
     "metadata": {},
     "source": [
      "# File I/O"
     ]
    },
    {
     "cell_type": "markdown",
     "metadata": {},
     "source": [
      "1. pandas build-in functions\n",
      "2. writing your own"
     ]
    },
    {
     "cell_type": "markdown",
     "metadata": {},
     "source": [
      "##### built-in pandas functions"
     ]
    },
    {
     "cell_type": "raw",
     "metadata": {},
     "source": [
      "Reading Functions:\n",
      "    \n",
      "        read_csv\n",
      "        read_excel\n",
      "        read_hdf\n",
      "        read_sql\n",
      "        read_json\n",
      "        read_msgpack (experimental)\n",
      "        read_html\n",
      "        read_gbq (experimental)\n",
      "        read_stata\n",
      "        read_clipboard\n",
      "        read_pickle"
     ]
    },
    {
     "cell_type": "raw",
     "metadata": {},
     "source": [
      "Writing Functions:\n",
      "\n",
      "        to_csv\n",
      "        to_excel\n",
      "        to_hdf\n",
      "        to_sql\n",
      "        to_json\n",
      "        to_msgpack (experimental)\n",
      "        to_html\n",
      "        to_gbq (experimental)\n",
      "        to_stata\n",
      "        to_clipboard\n",
      "        to_pickle"
     ]
    },
    {
     "cell_type": "markdown",
     "metadata": {},
     "source": [
      "# A short example on reading data in excel format and cleaning"
     ]
    },
    {
     "cell_type": "code",
     "collapsed": false,
     "input": [
      "#Note that when we read in an excel documnet, we have to tell the function what sheet\n",
      "#we want pandas to read\n",
      "excel_data = pd.read_excel('../Data/exceldata.xlsx', 'Sheet1')\n",
      "excel_data"
     ],
     "language": "python",
     "metadata": {},
     "outputs": []
    }
   ],
   "metadata": {}
  }
 ]
}