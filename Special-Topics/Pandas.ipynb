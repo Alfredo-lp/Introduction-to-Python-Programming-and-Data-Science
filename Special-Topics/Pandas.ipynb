{
 "cells": [
  {
   "cell_type": "code",
   "execution_count": 1,
   "metadata": {
    "collapsed": false
   },
   "outputs": [
    {
     "data": {
      "text/html": [
       "<style>\n",
       "    @font-face {\n",
       "        font-family: \"Computer Modern\";\n",
       "        src: url('http://9dbb143991406a7c655e-aa5fcb0a5a4ec34cff238a2d56ca4144.r56.cf5.rackcdn.com/cmunss.otf');\n",
       "    }\n",
       "    @font-face {\n",
       "        font-family: \"Computer Modern\";\n",
       "        font-weight: bold;\n",
       "        src: url('http://9dbb143991406a7c655e-aa5fcb0a5a4ec34cff238a2d56ca4144.r56.cf5.rackcdn.com/cmunsx.otf');\n",
       "    }\n",
       "    @font-face {\n",
       "        font-family: \"Computer Modern\";\n",
       "        font-style: oblique;\n",
       "        src: url('http://9dbb143991406a7c655e-aa5fcb0a5a4ec34cff238a2d56ca4144.r56.cf5.rackcdn.com/cmunsi.otf');\n",
       "    }\n",
       "    @font-face {\n",
       "        font-family: \"Computer Modern\";\n",
       "        font-weight: bold;\n",
       "        font-style: oblique;\n",
       "        src: url('http://9dbb143991406a7c655e-aa5fcb0a5a4ec34cff238a2d56ca4144.r56.cf5.rackcdn.com/cmunso.otf');\n",
       "    }\n",
       "    h1 {\n",
       "        font-family: Helvetica, serif;\n",
       "    }\n",
       "    h4{\n",
       "        margin-top:12px;\n",
       "        margin-bottom: 3px;\n",
       "       }\n",
       "    div.text_cell_render{\n",
       "        font-family: Computer Modern, \"Helvetica Neue\", Arial, Helvetica, Geneva, sans-serif;\n",
       "        line-height: 145%;\n",
       "        font-size: 130%;\n",
       "        margin-left:auto;\n",
       "        margin-right:auto;\n",
       "    }\n",
       "    .CodeMirror{\n",
       "            font-family: \"Source Code Pro\", source-code-pro,Consolas, monospace;\n",
       "    }\n",
       "    .text_cell_render h5 {\n",
       "        font-weight: 300;\n",
       "        font-size: 22pt;\n",
       "        color: #4057A1;\n",
       "        font-style: italic;\n",
       "        margin-bottom: .5em;\n",
       "        margin-top: 0.5em;\n",
       "        display: block;\n",
       "    }\n",
       "    \n",
       "    .warning{\n",
       "        color: rgb( 240, 20, 20 )\n",
       "        }  \n",
       "</style>\n",
       "<script>\n",
       "    MathJax.Hub.Config({\n",
       "                        TeX: {\n",
       "                           extensions: [\"AMSmath.js\"]\n",
       "                           },\n",
       "                tex2jax: {\n",
       "                    inlineMath: [ ['$','$'], [\"\\\\(\",\"\\\\)\"] ],\n",
       "                    displayMath: [ ['$$','$$'], [\"\\\\[\",\"\\\\]\"] ]\n",
       "                },\n",
       "                displayAlign: 'center', // Change this to 'center' to center equations.\n",
       "                \"HTML-CSS\": {\n",
       "                    styles: {'.MathJax_Display': {\"margin\": 4}}\n",
       "                }\n",
       "        });\n",
       "</script>\n"
      ],
      "text/plain": [
       "<IPython.core.display.HTML object>"
      ]
     },
     "execution_count": 1,
     "metadata": {},
     "output_type": "execute_result"
    }
   ],
   "source": [
    "from IPython.core.display import HTML\n",
    "def css_styling():\n",
    "    styles = open(\"../styles/custom.css\", \"r\").read()\n",
    "    return HTML(styles)\n",
    "css_styling()\n"
   ]
  },
  {
   "cell_type": "markdown",
   "metadata": {},
   "source": [
    "# An Introduction to Pandas\n",
    "\n",
    "Pandas is a contraction for \"panel data\", which is kind of an obtuse saying. A shorthand way of thinking about it is to think of it as dealing with a connected series of data, like a company's stock price over time. Particularly, most spreadsheets fall into this category so pandas is the most natural way of working with Excel-type data using Python. \n",
    "\n",
    "Pandas can do a lot, so I find it easier to think of it as this for data:\n",
    "\n",
    "![party](http://cdn.protoolreviews.com/wp-content/uploads/ptr/4433.jpg)\n",
    "\n",
    "But first let's confront the ugly reality.\n",
    "\n",
    "## Pandas is not very pythonic\n",
    "\n",
    "Actually **using** Pandas and not just using it to read files can be conceptually difficult and is a bit of a mental switch compared to most of what we have learned so far. If you want to iterate over things, you can't use a `for` loop easily. Instead you'll need to use specific Pandas methods to do whatever functions you want. These little differences add up and can wear on you, which might make you want to stop using Pandas. That's a fine way to feel (you don't really *have* to use it), but there are some big benefits to using it that for a lot of people are worth the costs.\n",
    "\n",
    "## Benefits of Pandas\n",
    "\n",
    "1. Pandas handles a lot of file I/O drudgery for you. I'll show you this in a bit, but reading CSV files and accessing data in them is super simple\n",
    "2. Pandas has a lot of *magic* built into, automaticallly taking care of lots of type conversions after reading a file\n",
    "3. Using Pandas **is** like working with [SQL](https://en.wikipedia.org/wiki/SQL) (don't know what SQL is? Don't worry, it's a bit advanced for this course but is surely something you'll encounter if you continue to program so it's worth reading up on). So learning Pandas means that you'll have a good idea of the underpinnings how SQL databases work which might help you later in your programming education (but the syntax is different).\n",
    "\n",
    "If you like using or want to continue using Pandas here is some recommended additional reading\n",
    "\n",
    "The Pandas tutorial pages http://pandas.pydata.org/pandas-docs/stable/tutorials.html\n",
    "\n",
    "10 minutes to Pandas http://pandas.pydata.org/pandas-docs/stable/10min.html"
   ]
  },
  {
   "cell_type": "code",
   "execution_count": null,
   "metadata": {
    "collapsed": false
   },
   "outputs": [],
   "source": [
    "#We start with importing the packages\n",
    "import pandas as pd #pandas is almost always imported as pd. Just because. \n",
    "import numpy as np\n",
    "import matplotlib.pyplot as plt\n",
    "import matplotlib as mpl\n",
    "\n",
    "#We turn off the latex usage in matplotlib because LaTeX doesn't know\n",
    "#how to handle a '_' character without it being escaped with a backslash\n",
    "#Since we use '_' in column names typically this can be a bit of a problem\n",
    "#If we don't turn this off\n",
    "mpl.rc('text', usetex=False)"
   ]
  },
  {
   "cell_type": "code",
   "execution_count": null,
   "metadata": {
    "collapsed": false
   },
   "outputs": [],
   "source": [
    "#This is an IPython \"magic\" to make sure that plots appear\n",
    "#directly in the notebook\n",
    "%matplotlib inline"
   ]
  },
  {
   "cell_type": "markdown",
   "metadata": {},
   "source": [
    "## Data structures in Pandas\n",
    "\n",
    "First, let's show some of this automagic. Remember the `CSV` files that had the college major information? Remember how much work it was? I'll remind you, it looked like this:\n",
    "\n",
    "<img src='../images/csv_reading.png'></img>\n",
    "\n",
    "Let's load one of those files right now."
   ]
  },
  {
   "cell_type": "code",
   "execution_count": null,
   "metadata": {
    "collapsed": false
   },
   "outputs": [],
   "source": [
    "pd.read_csv('../Data/College-Majors/recent_Arts.csv')"
   ]
  },
  {
   "cell_type": "markdown",
   "metadata": {
    "collapsed": false
   },
   "source": [
    "When Pandas reads in a `CSV` it turns it into its own data structure called a `Dataframe`. This `Dataframe` is actually a Python class, you can think of it as just a type of *object*. Our data is inside this *object* and it controls how we can interact with it (so you can see the first difference between this and regular programming).\n",
    "\n",
    "\n",
    "(The nice formatting that makes it look like an Excel spreadsheet is provided by IPython Notebook!)\n",
    "\n",
    "Now, let's actually load this `CSV` into a variable so we can explore it."
   ]
  },
  {
   "cell_type": "code",
   "execution_count": null,
   "metadata": {
    "collapsed": true
   },
   "outputs": [],
   "source": [
    "df = pd.read_csv('../Data/College-Majors/recent_Arts.csv')"
   ]
  },
  {
   "cell_type": "markdown",
   "metadata": {},
   "source": [
    "## The basics of a dataframe\n",
    "\n",
    "As usual, the choice of variable names is whatever you so choose. However, since the object we're working with is a `Dataframe` you'll very frequently see people assign this to a variable called df. \n",
    "\n",
    "A `Dataframe` has two basic ways to access values inside of it.\n",
    "\n",
    "The **columns** run across the **top**\n",
    "\n",
    "The **indices** run down the **left** (for now, you can think of these as rows)\n",
    "\n",
    "We can get see the variables by calling them by name from the `dataframe`"
   ]
  },
  {
   "cell_type": "code",
   "execution_count": null,
   "metadata": {
    "collapsed": false
   },
   "outputs": [],
   "source": [
    "#The columns are the labels across the top\n",
    "print( df.columns ) \n",
    "print()\n",
    "\n",
    "#The indexes run down the side\n",
    "print( df.index )"
   ]
  },
  {
   "cell_type": "markdown",
   "metadata": {},
   "source": [
    "## Accessing Data in Pandas\n",
    "\n",
    "Pandas supports two methodologies to access data that is stored in a column. The first is  just by typing the name of the column after the variable name"
   ]
  },
  {
   "cell_type": "code",
   "execution_count": null,
   "metadata": {
    "collapsed": false
   },
   "outputs": [],
   "source": [
    "#We can access a column with the . notation shown here\n",
    "df.Major_code"
   ]
  },
  {
   "cell_type": "markdown",
   "metadata": {},
   "source": [
    "The other way is similar to accessing the values of a key in a dictionary"
   ]
  },
  {
   "cell_type": "code",
   "execution_count": null,
   "metadata": {
    "collapsed": false
   },
   "outputs": [],
   "source": [
    "#Or we can access a column of data like we access the value of a key in a dictionary\n",
    "df['Major_code']"
   ]
  },
  {
   "cell_type": "markdown",
   "metadata": {},
   "source": [
    "With the indices, we can slice just like it was a list and get rows."
   ]
  },
  {
   "cell_type": "code",
   "execution_count": null,
   "metadata": {
    "collapsed": false
   },
   "outputs": [],
   "source": [
    "#We can slice like in a list, and we'll get those columns \n",
    "#Notice how the row indexes are numeric and that's what we slice on\n",
    "df[0:2]"
   ]
  },
  {
   "cell_type": "markdown",
   "metadata": {},
   "source": [
    "Notice how we have these ways of accessing:\n",
    "\n",
    "* Accessing like a dictionary is a column\n",
    "* Accessing like a list is the index (row)\n",
    "\n",
    "and accessing a column name after a dot is something that we can do because the data is wrapped in the `Dataframe` class but in practice is just a shorthand way of accessing the column as if it were a dictionary.\n",
    "\n",
    "However, these direct methods of accessing can be a bit limiting. For this reason Pandas has three additional methods that allow us to *slice* a dataframe and return specific rows."
   ]
  },
  {
   "cell_type": "markdown",
   "metadata": {},
   "source": [
    "## Slicing in Pandas\n",
    "\n",
    "Pandas has 2 methods besides to direct access to slice/index data\n",
    "\n",
    "* .iloc is integer based and works on the index\n",
    "* .loc is strictly label based\n",
    "\n",
    "To distinguish these concepts I'm going to sort the matrix so that the index labels are **not** in the same order as their position."
   ]
  },
  {
   "cell_type": "code",
   "execution_count": null,
   "metadata": {
    "collapsed": false
   },
   "outputs": [],
   "source": [
    "#We can sort by a single column\n",
    "sdf = df.sort('Total')\n",
    "sdf"
   ]
  },
  {
   "cell_type": "markdown",
   "metadata": {},
   "source": [
    "When we use the iloc method on sdf we get the first row in the new sorted `dataframe`\n",
    "Check it out in comparison to above:"
   ]
  },
  {
   "cell_type": "code",
   "execution_count": null,
   "metadata": {
    "collapsed": false
   },
   "outputs": [],
   "source": [
    "sdf.iloc[0]"
   ]
  },
  {
   "cell_type": "markdown",
   "metadata": {},
   "source": [
    "This works the same as if we were indexing the `dataframe`, but the difference is that when we index, we can't access just a single row. It requires that we give a range."
   ]
  },
  {
   "cell_type": "code",
   "execution_count": null,
   "metadata": {
    "collapsed": false
   },
   "outputs": [],
   "source": [
    "sdf[0:1]"
   ]
  },
  {
   "cell_type": "markdown",
   "metadata": {},
   "source": [
    "The iloc method can handle a slice and it will return the same number of rows, in the same positions just like when we slice."
   ]
  },
  {
   "cell_type": "code",
   "execution_count": null,
   "metadata": {
    "collapsed": false
   },
   "outputs": [],
   "source": [
    "sdf.iloc[0:3]"
   ]
  },
  {
   "cell_type": "markdown",
   "metadata": {},
   "source": [
    "Now the **big** difference between direct slicing on the dataframe and using the iloc method is that we can actually slice **both columns and rows**.\n",
    "\n",
    "When we access both columns and rows the syntax is:\n",
    "\n",
    "`dataframe.iloc[row_slice, column_slice]`"
   ]
  },
  {
   "cell_type": "code",
   "execution_count": null,
   "metadata": {
    "collapsed": false
   },
   "outputs": [],
   "source": [
    "sdf.iloc[0:3, 0:3]"
   ]
  },
  {
   "cell_type": "markdown",
   "metadata": {},
   "source": [
    "If we want **all** of the rows but only some of the columns we can do that too. We just need to give it an empty slice in the row column."
   ]
  },
  {
   "cell_type": "code",
   "execution_count": null,
   "metadata": {
    "collapsed": false
   },
   "outputs": [],
   "source": [
    "sdf.iloc[:, 0:2]"
   ]
  },
  {
   "cell_type": "markdown",
   "metadata": {},
   "source": [
    "And that is the `iloc` method, it allows us to slice a dataframe using integer-based labels given the order of the dataframe.\n",
    "\n",
    "So now let's move on and see the differences that occur when we access rows by their index label using the `loc` function."
   ]
  },
  {
   "cell_type": "code",
   "execution_count": null,
   "metadata": {
    "collapsed": false
   },
   "outputs": [],
   "source": [
    "sdf.loc[6]"
   ]
  },
  {
   "cell_type": "markdown",
   "metadata": {},
   "source": [
    "When we use the loc method, it looks for the row labeled '6'. Notice how this was the third line in the `dataframe` (as printed above in order). So the `loc` method retrieves rows based on thier index label, which does not need to be their position in the `dataframe`!\n",
    "\n",
    "This allows us to also access columns using just their names which is really convenient."
   ]
  },
  {
   "cell_type": "code",
   "execution_count": null,
   "metadata": {
    "collapsed": false
   },
   "outputs": [],
   "source": [
    "#We can also use the loc method with an index label and column labels\n",
    "#Note how we can slice on columns also! But we can only slice across labels\n",
    "sdf.loc[2, 'Major_code':'Major_category']"
   ]
  },
  {
   "cell_type": "markdown",
   "metadata": {
    "collapsed": false
   },
   "source": [
    "We can access all the rows, but only some of the columns similarly as with `loc`, just give a `:` for the rows and then the columns"
   ]
  },
  {
   "cell_type": "code",
   "execution_count": null,
   "metadata": {
    "collapsed": false
   },
   "outputs": [],
   "source": [
    "sdf.loc[:, 'Major_code':'Major_category']"
   ]
  },
  {
   "cell_type": "markdown",
   "metadata": {
    "collapsed": false
   },
   "source": [
    "#Series: Pandas other data type\n",
    "\n",
    "You may have noticed that when we selected only one row or column, it printed differently than when we print the `dataframe`. That's because a dataframe is for 2-dimensional data (meaning that it has multiple rows and columns). When we have 1-dimensional data that is a Pandas `series`.\n",
    "\n",
    "The same methods work on a `series` as a `dataframe`, the only difference is that it only has one column which will be without a label. I'll demonstrate by creating and indexing a `series` right now"
   ]
  },
  {
   "cell_type": "code",
   "execution_count": null,
   "metadata": {
    "collapsed": false
   },
   "outputs": [],
   "source": [
    "tseries = sdf.loc[0]\n",
    "tseries"
   ]
  },
  {
   "cell_type": "code",
   "execution_count": null,
   "metadata": {
    "collapsed": false
   },
   "outputs": [],
   "source": [
    "#A series is indexed just like a list\n",
    "tseries[0:2]"
   ]
  },
  {
   "cell_type": "code",
   "execution_count": null,
   "metadata": {
    "collapsed": false
   },
   "outputs": [],
   "source": [
    "#But it can also be indexed by its row labels\n",
    "tseries['Major_code':'Major_category']"
   ]
  },
  {
   "cell_type": "code",
   "execution_count": null,
   "metadata": {
    "collapsed": false
   },
   "outputs": [],
   "source": [
    "#We can use the iloc method, but now it returns a single value\n",
    "tseries.iloc[0]"
   ]
  },
  {
   "cell_type": "code",
   "execution_count": null,
   "metadata": {
    "collapsed": false
   },
   "outputs": [],
   "source": [
    "#Or the loc method, which also returns a single value\n",
    "tseries.loc['Major_category']"
   ]
  },
  {
   "cell_type": "markdown",
   "metadata": {},
   "source": [
    "## Now let's go over the benefits of using Pandas\n",
    "Okay, some of that might seem tedious, but it's really important that you get a grasp of the fundamental ways of working with and manipulating `dataframe` and `series` objects. A lack of understanding of your datatypes is a sure fire way to make mistakes, and if that happens the benefits of Pandas can disappear. And you'll really like some of these benefits...\n",
    "\n",
    "The first one is a lifesaver. Pandas can read (and write) .xls/.xlsx files! Now you don't need to open a workbook in Excel and save it to a CSV everytime someone sends one to you!\n",
    "\n",
    "When we read an Excel spreadsheet, all we have to say is what sheet we want to use in the file. You can use either the sheetname (if it has one) or just give it the index of the sheet."
   ]
  },
  {
   "cell_type": "code",
   "execution_count": null,
   "metadata": {
    "collapsed": false
   },
   "outputs": [],
   "source": [
    "excel_df = pd.read_excel('../Data/College-Majors/recent_Arts.xlsx', sheet=0)\n",
    "excel_df"
   ]
  },
  {
   "cell_type": "markdown",
   "metadata": {},
   "source": [
    "And it's not just excel. Pandas can actually read/write a large number of different and really useful file formats that can be essential when working with collaborators who might not be quite so python inclined. This is the full list:\n",
    "\n",
    "        read_csv\n",
    "        read_excel\n",
    "        read_hdf\n",
    "        read_sql\n",
    "        read_json\n",
    "        read_msgpack (experimental)\n",
    "        read_html\n",
    "        read_gbq (experimental)\n",
    "        read_stata\n",
    "        read_clipboard\n",
    "        read_pickle\n",
    "\n",
    "But really the only two you'll probably ever use are Excel and CSV."
   ]
  },
  {
   "cell_type": "markdown",
   "metadata": {},
   "source": [
    "### Visualization\n",
    "\n",
    "Pandas helps you quickly explore and manipulate data as you learn about your dataset basics. One quick benefit is the built-in plotting directly from the dataframe.\n",
    "\n",
    "Let's say that we wanted to make a plot that examined the difference between the majors in terms of the raw employment numbers."
   ]
  },
  {
   "cell_type": "code",
   "execution_count": null,
   "metadata": {
    "collapsed": false
   },
   "outputs": [],
   "source": [
    "df['Employed'].plot()"
   ]
  },
  {
   "cell_type": "markdown",
   "metadata": {},
   "source": [
    "Okay, so it's pretty ugly, but it was also super quick!\n",
    "\n",
    "Let's actually think about this for a moment because something magical just happened and we all probably took it for granted.\n",
    "\n",
    "### We just plotted numeric data from the file that I read in with a single command.\n",
    "\n",
    "### When did I change the type of that data to be an integer so that we could plot it??\n",
    "You might recall when we read files in the past using `open('super_cool_file.csv')`, everything was read in as a string by default, even numbers!\n",
    "\n",
    "When we load data with Pandas it automatically converted the 'Employed' column data to integers. In fact, Pandas does this with all of the columns and when it does this it picks the **least** expansive data type that **accommodates all the data in the column**.\n",
    "\n",
    "We can check this, so the `Unemployed` column should be integers also."
   ]
  },
  {
   "cell_type": "code",
   "execution_count": null,
   "metadata": {
    "collapsed": false
   },
   "outputs": [],
   "source": [
    "df['Unemployed']"
   ]
  },
  {
   "cell_type": "markdown",
   "metadata": {},
   "source": [
    "And that means that the `ShareWomen` column should be floats."
   ]
  },
  {
   "cell_type": "code",
   "execution_count": null,
   "metadata": {
    "collapsed": false
   },
   "outputs": [],
   "source": [
    "df['ShareWomen']"
   ]
  },
  {
   "cell_type": "markdown",
   "metadata": {},
   "source": [
    "Something to be aware of though, is that if we had a single string in that column of data **none of it would be converted**. All of the read values would be strings because any number can represented as a string, just as text data can."
   ]
  },
  {
   "cell_type": "markdown",
   "metadata": {},
   "source": [
    "Now, we should really change the plot type so that it displays the data as a bar."
   ]
  },
  {
   "cell_type": "code",
   "execution_count": null,
   "metadata": {
    "collapsed": false
   },
   "outputs": [],
   "source": [
    "df['Employed'].plot(kind='bar')"
   ]
  },
  {
   "cell_type": "markdown",
   "metadata": {},
   "source": [
    "Ah! That's a little bit better!\n",
    "\n",
    "But we should never have a graph without a y-label! To change labels we'll need to operate on the `matplotlib` graph. Whenever we call a `plot()` off of a dataframe it always retuns a Matplotlib axis object that is our graph. We can modify that graph to add labels and other features."
   ]
  },
  {
   "cell_type": "code",
   "execution_count": null,
   "metadata": {
    "collapsed": false
   },
   "outputs": [],
   "source": [
    "#I'm changing the color of the bars here because the other blue looks awful!\n",
    "ax = df['Employed'].plot(kind = 'bar', color = 'steelblue')\n",
    "#Now I can set the y-axis label\n",
    "ax.set_ylabel('Students Employed')\n",
    "#I can also set the xticks to the major names\n",
    "major_labels = df['Major']\n",
    "#Here I set the xtick labels. The `;` suppresses matplotlib print statements\n",
    "ax.set_xticklabels(major_labels);"
   ]
  },
  {
   "cell_type": "markdown",
   "metadata": {},
   "source": [
    "When we have the matplotlib axis object, we can do anything with it that would normally with a `matplotlib` graph.\n",
    "\n",
    "## But wait, there's more!\n",
    "\n",
    "Pandas has mathematical functions built directly into the `dataframe`. So if we want to know the average of a column or the number of rows with entries (not every position has to have a value!) we can do that quickly and easily.\n",
    "\n",
    "Let's start by just counting the number of values in each column (it should be 8 in every column since every spot in our spreadsheet was filled out)."
   ]
  },
  {
   "cell_type": "code",
   "execution_count": null,
   "metadata": {
    "collapsed": false
   },
   "outputs": [],
   "source": [
    "df.count()"
   ]
  },
  {
   "cell_type": "markdown",
   "metadata": {},
   "source": [
    "But I also want to show you what happens when we have a column with no values entered for it. When there is a missing value in the raw data Pandas replaces that value with a `Not a Number` or `NaN` value from numpy."
   ]
  },
  {
   "cell_type": "code",
   "execution_count": null,
   "metadata": {
    "collapsed": false
   },
   "outputs": [],
   "source": [
    "import numpy as np\n",
    "df['Major_category'] = np.nan\n",
    "df"
   ]
  },
  {
   "cell_type": "markdown",
   "metadata": {},
   "source": [
    "Now when we count, it won't be the same as before."
   ]
  },
  {
   "cell_type": "code",
   "execution_count": null,
   "metadata": {
    "collapsed": false
   },
   "outputs": [],
   "source": [
    "df.count()"
   ]
  },
  {
   "cell_type": "markdown",
   "metadata": {
    "collapsed": false
   },
   "source": [
    "We can also just count a few columns or single column by chaining the `count()` function after we index the Dataframe."
   ]
  },
  {
   "cell_type": "code",
   "execution_count": null,
   "metadata": {
    "collapsed": false
   },
   "outputs": [],
   "source": [
    "df['Employed'].count()"
   ]
  },
  {
   "cell_type": "code",
   "execution_count": null,
   "metadata": {
    "collapsed": false
   },
   "outputs": [],
   "source": [
    "df.loc[0:2].count()"
   ]
  },
  {
   "cell_type": "markdown",
   "metadata": {},
   "source": [
    "There are other useful functions built in too. We can quickly take the mean or median of a column also."
   ]
  },
  {
   "cell_type": "code",
   "execution_count": null,
   "metadata": {
    "collapsed": false
   },
   "outputs": [],
   "source": [
    "df.Employed.mean()"
   ]
  },
  {
   "cell_type": "code",
   "execution_count": null,
   "metadata": {
    "collapsed": false
   },
   "outputs": [],
   "source": [
    "df.Employed.median()"
   ]
  },
  {
   "cell_type": "markdown",
   "metadata": {},
   "source": [
    "Or we can even get the mean, medians, and a host of other summary statistics for all columns!"
   ]
  },
  {
   "cell_type": "code",
   "execution_count": null,
   "metadata": {
    "collapsed": false
   },
   "outputs": [],
   "source": [
    "df.describe()"
   ]
  },
  {
   "cell_type": "markdown",
   "metadata": {},
   "source": [
    "## We can also quickly do row/column operations in Pandas\n",
    "\n",
    "What we're typically interested in is the percentage of Employed people out of the Total number of people for a given major. We can do that easily with Pandas."
   ]
  },
  {
   "cell_type": "code",
   "execution_count": null,
   "metadata": {
    "collapsed": false
   },
   "outputs": [],
   "source": [
    "#We can divide an entire column by another column\n",
    "df['Employed']/df['Total']"
   ]
  },
  {
   "cell_type": "markdown",
   "metadata": {},
   "source": [
    "What it does is divide each value in the `Employed` column by the value in the `Total` column that is in the same row. It does that for all of the rows simultaneously with just one line of code!\n",
    "\n",
    "If we want to save this column of data (which we will) we can just make up a new name and assign the output to our `dataframe`."
   ]
  },
  {
   "cell_type": "code",
   "execution_count": null,
   "metadata": {
    "collapsed": false
   },
   "outputs": [],
   "source": [
    "#And now use this to add a new column to the dataframe\n",
    "df['Percent_Employed'] = df['Employed']/df['Total']"
   ]
  },
  {
   "cell_type": "markdown",
   "metadata": {},
   "source": [
    "And we can check that it worked below. I'm going to use the `head()` function to print the `dataframe`. `head()` will only print the number of rows given as the argument. It helps save space."
   ]
  },
  {
   "cell_type": "code",
   "execution_count": null,
   "metadata": {
    "collapsed": false
   },
   "outputs": [],
   "source": [
    "df.head(2)"
   ]
  },
  {
   "cell_type": "markdown",
   "metadata": {
    "collapsed": true
   },
   "source": [
    "We can perform complicated functions to calculate new columns too."
   ]
  },
  {
   "cell_type": "code",
   "execution_count": null,
   "metadata": {
    "collapsed": false
   },
   "outputs": [],
   "source": [
    "#I'm only doing this for show (this calculation doesn't make any sense)\n",
    "(df['College_jobs'] - df['Non_college_jobs']) ** 2 / 700"
   ]
  },
  {
   "cell_type": "markdown",
   "metadata": {},
   "source": [
    "We can do the same with rows, but it's very unlikely that we will have a situation like this that makes sense"
   ]
  },
  {
   "cell_type": "code",
   "execution_count": null,
   "metadata": {
    "collapsed": false
   },
   "outputs": [],
   "source": [
    "#We can perform row level operations, making a new row\n",
    "#Notice how each column is represented?\n",
    "df.loc[0, 'Employed']/df.loc[1, 'Employed']"
   ]
  },
  {
   "cell_type": "markdown",
   "metadata": {},
   "source": [
    "## Querying - or the database mentality\n",
    "\n",
    "So far we've just directly accessed rows and columns in the `dataframe`, but there's actually another way to get data. We can do this by *querying* the data. We can make comparions with greater than, less than, or equal signs to get only the rows or columns of the dataframe that meet our criteria.\n",
    "\n",
    "So now let's only consider majors that have more than 20,000 students that graduated."
   ]
  },
  {
   "cell_type": "code",
   "execution_count": null,
   "metadata": {
    "collapsed": false
   },
   "outputs": [],
   "source": [
    "df[df.Total > 20000]"
   ]
  },
  {
   "cell_type": "markdown",
   "metadata": {},
   "source": [
    "We can see now that only the 5 rows that had more than 20,000 students were selected.\n",
    "\n",
    "But how does this really work?\n",
    "\n",
    "The greater than symbol doesn't need to be used just inside the `[]` and it isn't **actually** instructing the dataframe what to do directly. When we use an expression with the dataframe we are actually creating a **mask**"
   ]
  },
  {
   "cell_type": "code",
   "execution_count": null,
   "metadata": {
    "collapsed": false
   },
   "outputs": [],
   "source": [
    "df.Total > 20000"
   ]
  },
  {
   "cell_type": "markdown",
   "metadata": {},
   "source": [
    "So what's going on is that on the column of interest it evaluates if the statement is `True` or `False` and then pipes that truth array into the dataframe. Then any rows that were `True` are kept."
   ]
  },
  {
   "cell_type": "code",
   "execution_count": null,
   "metadata": {
    "collapsed": false
   },
   "outputs": [],
   "source": [
    "df[df.Total > 20000]"
   ]
  },
  {
   "cell_type": "markdown",
   "metadata": {
    "collapsed": false
   },
   "source": [
    "Neat, huh?"
   ]
  },
  {
   "cell_type": "code",
   "execution_count": null,
   "metadata": {
    "collapsed": false
   },
   "outputs": [],
   "source": [
    "df"
   ]
  },
  {
   "cell_type": "markdown",
   "metadata": {
    "collapsed": false
   },
   "source": [
    "We can chain selection operators off of the query also if we want to know a bit more about the resulting column"
   ]
  },
  {
   "cell_type": "code",
   "execution_count": null,
   "metadata": {
    "collapsed": false
   },
   "outputs": [],
   "source": [
    "df[df.Employed > 20000].Unemployment_rate.mean()"
   ]
  },
  {
   "cell_type": "markdown",
   "metadata": {},
   "source": [
    "We can use more than one criterion to select rows in our `dataframe`. The syntax for this is very \"un-pythonic\", but it's a very useful way to get just the part of the data that you are interested in. To do that we have to use this syntax:\n",
    "\n",
    "`df[(first expression) & (second expression) | (third expression) ...]`\n",
    "\n",
    "Each expression has to be enclosed in parentheses.\n",
    "\n",
    "Expressions can be chained with an `and` statement, which must be represented as `&`.\n",
    "\n",
    "Alternatively you can chain expressions with an `or` statement, which must be represented as `|`.\n",
    "\n",
    "You can have as many statements as you want."
   ]
  },
  {
   "cell_type": "code",
   "execution_count": null,
   "metadata": {
    "collapsed": false
   },
   "outputs": [],
   "source": [
    "df[(df.Total > 20000) & (df.ShareWomen > 0.50)]"
   ]
  },
  {
   "cell_type": "markdown",
   "metadata": {},
   "source": [
    "And just for fun I'll demonstrate the same statement with the `|` operator"
   ]
  },
  {
   "cell_type": "code",
   "execution_count": null,
   "metadata": {
    "collapsed": false
   },
   "outputs": [],
   "source": [
    "df[(df.Total > 20000) | (df.ShareWomen > 0.50)]"
   ]
  },
  {
   "cell_type": "markdown",
   "metadata": {},
   "source": [
    "So you can see here that we now have 7 of the 8 majors printing. Only one major (Miscellaneous fine arts) does not have either more than 20,000 students that have graduated recently or a Share of Women in the major greater than 50%."
   ]
  },
  {
   "cell_type": "markdown",
   "metadata": {
    "collapsed": true
   },
   "source": [
    "# Getting your data out of Pandas\n",
    "\n",
    "Sometimes you might really want to work with the data in a Pandas `dataframe` using regular Python code. At any time you can extract the data in a row, column or the entire dataframe.  We can do that simpy by appending `.values`.\n",
    "\n",
    "When we ask for the `values` from a Pandas `dataframe` it returns our old friend, the Numpy array."
   ]
  },
  {
   "cell_type": "code",
   "execution_count": null,
   "metadata": {
    "collapsed": false
   },
   "outputs": [],
   "source": [
    "df.Total.values"
   ]
  },
  {
   "cell_type": "markdown",
   "metadata": {},
   "source": [
    "There, now we have an array of the actual raw values. We can iterate through these easily:"
   ]
  },
  {
   "cell_type": "code",
   "execution_count": null,
   "metadata": {
    "collapsed": false
   },
   "outputs": [],
   "source": [
    "for value in df.Total.values:\n",
    "    print(value)"
   ]
  },
  {
   "cell_type": "markdown",
   "metadata": {},
   "source": [
    "If we need to have a list instead of a Numpy array (because they aren't the same thing!) we can do that easily too."
   ]
  },
  {
   "cell_type": "code",
   "execution_count": null,
   "metadata": {
    "collapsed": false
   },
   "outputs": [],
   "source": [
    "df.Total.tolist()"
   ]
  },
  {
   "cell_type": "markdown",
   "metadata": {},
   "source": [
    "Had any of the manipulations we performed here actually been important, we'd of course want to save them. No more writing each item in the boring old python way, Pandas has a way to do this all in one line. All of the file formats that we could read, we can also write to. For a full list just type df.to follwed by TAB. For now, here is our excel example:"
   ]
  },
  {
   "cell_type": "code",
   "execution_count": null,
   "metadata": {
    "collapsed": true
   },
   "outputs": [],
   "source": [
    "df.to_excel('../Data/College-Majors/recent_Arts_edited.xlsx', sheet_name='Sheet1', index=False)"
   ]
  },
  {
   "cell_type": "markdown",
   "metadata": {},
   "source": [
    "#Summary\n",
    "And with that you've seen the biggest conceptual shift between working with Pandas and analyzing data with raw Python.\n",
    "\n",
    "When you directly program code to work with data, you tell it what to do, step by step. We would go through each value and see if it met our conditions like this:\n",
    "\n",
    "    for total_students in total:\n",
    "        if total_students > 20000:\n",
    "            #Continue with code\n",
    "            \n",
    "We're basically writing a procedure for how things should be done. It's very readable and, if we keep our statements separated, it's very easy to debug.\n",
    "\n",
    "Pandas doesn't work like that. You don't tell it **what to do** really, you tell it **what you want** and it figures out how to get it to you. \n",
    "\n",
    "For someone that's been doing data analysis without Pandas or heavily relying on SQL this is an unsettling shift. That unsettling feeling isn't unwarranted, it's a tough concept to get used to and 'hiding' the mechanics of what is going on can easily lead to errors (especially when you try to execute a complicated statement right away). \n",
    "\n",
    "The worst part is that in a lot of these cases, Pandas will dutifully execute the statement you asked for and not provide an error (since technically there wasn't an error, just a gap in translating what you wanted/how you wanted the data handled to the machine). \n",
    "\n",
    "My advice though is to start slowly. IPython Notebook changes everything when it comes to learning complicated packages, making it possible to both learn a package and, whenever you start a new project, your data.\n",
    "\n",
    "Even with these hiccups, which is more related to this style of analysis than the library, Pandas has some amazing features that make it really worth using."
   ]
  },
  {
   "cell_type": "markdown",
   "metadata": {
    "collapsed": true
   },
   "source": [
    "# Exercises\n",
    "\n",
    "Read in the data file for recent graduates in business"
   ]
  },
  {
   "cell_type": "code",
   "execution_count": null,
   "metadata": {
    "collapsed": false
   },
   "outputs": [],
   "source": [
    "bdf = pd.read_csv('../Data/College-Majors/recent_Business.csv')\n",
    "bdf"
   ]
  },
  {
   "cell_type": "markdown",
   "metadata": {},
   "source": [
    "Is the average unemployment rate greater for business or arts students?"
   ]
  },
  {
   "cell_type": "code",
   "execution_count": null,
   "metadata": {
    "collapsed": false
   },
   "outputs": [],
   "source": [
    "bus_unemployment_rate = bdf.Unemployment_rate.mean()\n",
    "art_unemployment_rate = df.Unemployment_rate.mean()"
   ]
  },
  {
   "cell_type": "markdown",
   "metadata": {},
   "source": [
    "What if we are only interested in the majors that have more than 20,000 students for each? Which category has the lowest unemployment rate then?"
   ]
  },
  {
   "cell_type": "code",
   "execution_count": null,
   "metadata": {
    "collapsed": true
   },
   "outputs": [],
   "source": []
  },
  {
   "cell_type": "markdown",
   "metadata": {},
   "source": [
    "Which major category has the greater share of women students when we consider majors with >20,000 students?"
   ]
  },
  {
   "cell_type": "code",
   "execution_count": null,
   "metadata": {
    "collapsed": true
   },
   "outputs": [],
   "source": []
  },
  {
   "cell_type": "markdown",
   "metadata": {},
   "source": [
    "Exercises completed!"
   ]
  },
  {
   "cell_type": "code",
   "execution_count": null,
   "metadata": {
    "collapsed": true
   },
   "outputs": [],
   "source": []
  }
 ],
 "metadata": {
  "kernelspec": {
   "display_name": "Python 3",
   "language": "python",
   "name": "python3"
  },
  "language_info": {
   "codemirror_mode": {
    "name": "ipython",
    "version": 3
   },
   "file_extension": ".py",
   "mimetype": "text/x-python",
   "name": "python",
   "nbconvert_exporter": "python",
   "pygments_lexer": "ipython3",
   "version": "3.4.3"
  }
 },
 "nbformat": 4,
 "nbformat_minor": 0
}
