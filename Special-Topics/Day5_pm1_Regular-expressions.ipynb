{
 "cells": [
  {
   "cell_type": "code",
   "execution_count": 186,
   "metadata": {
    "collapsed": true
   },
   "outputs": [],
   "source": [
    "from IPython.core.display import HTML\n",
    "\n",
    "def css_styling():\n",
    "    styles = open(\"../styles/custom.css\", \"r\").read()\n",
    "    return HTML(styles)\n",
    "css_styling();"
   ]
  },
  {
   "cell_type": "markdown",
   "metadata": {},
   "source": [
    "# `re` - Regular expressions\n",
    "[Package documentation](https://docs.python.org/3/library/re.html)\n",
    "\n",
    "Since we're working with lot of text today, we'd be remiss not to bring up the topic of [\"regular expressions\"](https://en.wikipedia.org/wiki/Regular_expression) (or regex for short).\n",
    "\n",
    "Regular expressions are essentially a language of their own and they aren't unique to Python. What they do is allow for complicated searches through text according to various criteria. If you're looking at a large document of text it's easy enough to search for the word \"Northwestern\". But what if I want to search for a pattern rather than a particualr word such as (xxx)xxx-xxxx where I want all the x's to be numbers? This would be a great way to find a phone number but I'd have to do a lotttt of Cmd+F (Ctrl+F) searches if I searched for all possibilities of 10 digit phone numbers. \n",
    "\n",
    "Enter regex. \n",
    "\n",
    "There are a few basic functions that we'll use:\n",
    "\n",
    "\n",
    "* `re.match()` : Determine if the RE matches at the beginning of the string.\n",
    "* `re.search()` : Scan through a string, looking for any location where this RE matches.\n",
    "* `re.findall()` : Find all substrings where the RE matches, and returns them as a list.\n",
    "* `re.finditer()` : Find all substrings where the RE matches, and returns them as an iterator object.\n",
    "\n",
    "\n",
    "\n",
    "Let's see an example:"
   ]
  },
  {
   "cell_type": "code",
   "execution_count": 13,
   "metadata": {
    "collapsed": true
   },
   "outputs": [],
   "source": [
    "import re"
   ]
  },
  {
   "cell_type": "code",
   "execution_count": 49,
   "metadata": {
    "collapsed": false
   },
   "outputs": [
    {
     "name": "stdout",
     "output_type": "stream",
     "text": [
      "None\n",
      "<_sre.SRE_Match object; span=(14, 18), match='Adam'>\n",
      "['Adam']\n",
      "<callable_iterator object at 0x104e36358>\n"
     ]
    }
   ],
   "source": [
    "text_sample  = \"Hi my name is Adam!\"\n",
    "print(re.match('Adam', text_sample))\n",
    "print(re.search('Adam', text_sample))\n",
    "print(re.findall('Adam', text_sample))\n",
    "print(re.finditer('Adam', text_sample))"
   ]
  },
  {
   "cell_type": "markdown",
   "metadata": {},
   "source": [
    "`re.search` and `re.finditer` did something weird so let's investigate that a little bit further:"
   ]
  },
  {
   "cell_type": "code",
   "execution_count": 51,
   "metadata": {
    "collapsed": true
   },
   "outputs": [],
   "source": [
    "search_results = re.search('Adam', text_sample)"
   ]
  },
  {
   "cell_type": "code",
   "execution_count": 52,
   "metadata": {
    "collapsed": false
   },
   "outputs": [
    {
     "name": "stdout",
     "output_type": "stream",
     "text": [
      "Help on SRE_Match object:\n",
      "\n",
      "class SRE_Match(builtins.object)\n",
      " |  The result of re.match() and re.search().\n",
      " |  Match objects always have a boolean value of True.\n",
      " |  \n",
      " |  Methods defined here:\n",
      " |  \n",
      " |  __copy__(...)\n",
      " |  \n",
      " |  __deepcopy__(...)\n",
      " |  \n",
      " |  __repr__(self, /)\n",
      " |      Return repr(self).\n",
      " |  \n",
      " |  end(...)\n",
      " |      end([group=0]) -> int.\n",
      " |      Return index of the end of the substring matched by group.\n",
      " |  \n",
      " |  expand(...)\n",
      " |      expand(template) -> str.\n",
      " |      Return the string obtained by doing backslash substitution\n",
      " |      on the string template, as done by the sub() method.\n",
      " |  \n",
      " |  group(...)\n",
      " |      group([group1, ...]) -> str or tuple.\n",
      " |      Return subgroup(s) of the match by indices or names.\n",
      " |      For 0 returns the entire match.\n",
      " |  \n",
      " |  groupdict(...)\n",
      " |      groupdict([default=None]) -> dict.\n",
      " |      Return a dictionary containing all the named subgroups of the match,\n",
      " |      keyed by the subgroup name. The default argument is used for groups\n",
      " |      that did not participate in the match\n",
      " |  \n",
      " |  groups(...)\n",
      " |      groups([default=None]) -> tuple.\n",
      " |      Return a tuple containing all the subgroups of the match, from 1.\n",
      " |      The default argument is used for groups\n",
      " |      that did not participate in the match\n",
      " |  \n",
      " |  span(...)\n",
      " |      span([group]) -> tuple.\n",
      " |      For MatchObject m, return the 2-tuple (m.start(group), m.end(group)).\n",
      " |  \n",
      " |  start(...)\n",
      " |      start([group=0]) -> int.\n",
      " |      Return index of the start of the substring matched by group.\n",
      " |  \n",
      " |  ----------------------------------------------------------------------\n",
      " |  Data descriptors defined here:\n",
      " |  \n",
      " |  endpos\n",
      " |  \n",
      " |  lastgroup\n",
      " |  \n",
      " |  lastindex\n",
      " |  \n",
      " |  pos\n",
      " |  \n",
      " |  re\n",
      " |  \n",
      " |  regs\n",
      " |  \n",
      " |  string\n",
      "\n"
     ]
    }
   ],
   "source": [
    "help(search_results)"
   ]
  },
  {
   "cell_type": "code",
   "execution_count": 53,
   "metadata": {
    "collapsed": false
   },
   "outputs": [
    {
     "name": "stdout",
     "output_type": "stream",
     "text": [
      "14\n",
      "18\n",
      "(14, 18)\n",
      "Adam\n"
     ]
    }
   ],
   "source": [
    "print(search_results.start())\n",
    "print(search_results.end())\n",
    "print(search_results.span())\n",
    "print(search_results.group())"
   ]
  },
  {
   "cell_type": "markdown",
   "metadata": {},
   "source": [
    "What if the pattern occurs twice?"
   ]
  },
  {
   "cell_type": "code",
   "execution_count": 173,
   "metadata": {
    "collapsed": false
   },
   "outputs": [
    {
     "name": "stdout",
     "output_type": "stream",
     "text": [
      "None\n",
      "<_sre.SRE_Match object; span=(14, 18), match='Adam'>\n",
      "['Adam', 'Adam']\n",
      "<callable_iterator object at 0x104ea6eb8>\n"
     ]
    }
   ],
   "source": [
    "text_sample  = \"Hi my name is Adam Hockenberry! Not to be confused with Adam Pah\"\n",
    "print(re.match('Adam', text_sample))\n",
    "print(re.search('Adam', text_sample))\n",
    "print(re.findall('Adam', text_sample))\n",
    "print(re.finditer('Adam', text_sample))"
   ]
  },
  {
   "cell_type": "markdown",
   "metadata": {},
   "source": [
    "`re.findall` looks like it found both occurrences, but `re.search` only found the first item. And `re.search` had all that cool stuff in it which might be useful like where our substring occured. Now we can finally look at `re.finditer`. We haven't been exposed to an `iterator` object, but don't get too confused. For now we'll treat it kind of like a list:"
   ]
  },
  {
   "cell_type": "code",
   "execution_count": 174,
   "metadata": {
    "collapsed": false
   },
   "outputs": [
    {
     "name": "stdout",
     "output_type": "stream",
     "text": [
      "<_sre.SRE_Match object; span=(14, 18), match='Adam'> (14, 18) Adam\n",
      "<_sre.SRE_Match object; span=(56, 60), match='Adam'> (56, 60) Adam\n"
     ]
    }
   ],
   "source": [
    "finditer_result = re.finditer('Adam', text_sample)\n",
    "for i in finditer_result:\n",
    "    print(i, i.span(), i.group())"
   ]
  },
  {
   "cell_type": "markdown",
   "metadata": {},
   "source": [
    "Okay but this is all pretty useless still. We've learned some of the functions in the `re` library but haven't actually used a regular expresion yet so we'll have to introduce something more complicated. "
   ]
  },
  {
   "cell_type": "code",
   "execution_count": 175,
   "metadata": {
    "collapsed": true
   },
   "outputs": [],
   "source": [
    "times = ['03:43', '01:00', '12:59']\n",
    "not_times = ['orange', '03:60', '26:14', '0155', '13:00']"
   ]
  },
  {
   "cell_type": "markdown",
   "metadata": {},
   "source": [
    "Okay we have some examples of times and some examples of non-times, how could we tell the difference?"
   ]
  },
  {
   "cell_type": "code",
   "execution_count": 176,
   "metadata": {
    "collapsed": false
   },
   "outputs": [
    {
     "name": "stdout",
     "output_type": "stream",
     "text": [
      "<_sre.SRE_Match object; span=(0, 5), match='03:43'>\n",
      "<_sre.SRE_Match object; span=(0, 5), match='01:00'>\n",
      "<_sre.SRE_Match object; span=(0, 5), match='12:59'>\n"
     ]
    }
   ],
   "source": [
    "time_expression = '(0[1-9]|1[0-2]):[0-5][0-9]'\n",
    "for i in times:\n",
    "    print(re.match(time_expression, i))"
   ]
  },
  {
   "cell_type": "markdown",
   "metadata": {},
   "source": [
    "Awesome! We found matchces to all three times. What about the things that we don't want to match?"
   ]
  },
  {
   "cell_type": "code",
   "execution_count": 177,
   "metadata": {
    "collapsed": false
   },
   "outputs": [
    {
     "name": "stdout",
     "output_type": "stream",
     "text": [
      "None\n",
      "None\n",
      "None\n",
      "None\n",
      "None\n"
     ]
    }
   ],
   "source": [
    "for i in not_times:\n",
    "    print(re.match(time_expression, i))"
   ]
  },
  {
   "cell_type": "markdown",
   "metadata": {},
   "source": [
    "Perfect. So what on earth is in `time_expression`. Let's look at it piece by piece:\n",
    "\n",
    "* First, we have an argument in parentheses (0[0-9]|1[0-2]). To the left of the '|' what we're saying is that we want a zero followed by the bracketed argument which is the regex way of saying any number between 1 and 9. The '|', signifieds OR. So we can _either_ have a 0 followed by 1-9 _or_ we can have a 1 follwed by a number between 0-2. \n",
    "* If that all works out, now we'll check for a ':'\n",
    "* And finally we want a number between 0 and 5, followed by another number between 0 and 9.\n",
    "\n",
    "If all goes according to plan, we would have matched all of our times perfectly! You'll see that at east some of the `not_times` test cases I came up with were really close to fitting these criteria. But they didn't match all three of the above things that we were looking for so `re.match` returned `None`. \n",
    "\n",
    "And that's it, you've now seen a regular expression!\n",
    "\n",
    "Let's check something though:"
   ]
  },
  {
   "cell_type": "code",
   "execution_count": 178,
   "metadata": {
    "collapsed": false
   },
   "outputs": [
    {
     "name": "stdout",
     "output_type": "stream",
     "text": [
      "None\n"
     ]
    }
   ],
   "source": [
    "print(re.match(time_expression, '3:07'))"
   ]
  },
  {
   "cell_type": "markdown",
   "metadata": {},
   "source": [
    "Our time expression worked perfect for our initial test cases, but this looks like a pretty valid time and it doesn't match, why not?\n",
    "\n",
    "Well, in all of our initial test cases we had a leading zero. And that's not how we always write time, if it's between 1-9 we usually would just write 9:32 or 4:54 rather than 09:32 or 04:54. We can change our expression to accept this pretty easily by adding another '|' case in the first parentheses. Now we can either have 1-9, 0 followed by 1-9, or 1 followed by 0-2. Do we feel pretty good about this?"
   ]
  },
  {
   "cell_type": "code",
   "execution_count": 179,
   "metadata": {
    "collapsed": false
   },
   "outputs": [
    {
     "name": "stdout",
     "output_type": "stream",
     "text": [
      "Valid times:\n",
      "<_sre.SRE_Match object; span=(0, 5), match='03:43'>\n",
      "<_sre.SRE_Match object; span=(0, 5), match='01:00'>\n",
      "<_sre.SRE_Match object; span=(0, 5), match='12:59'>\n",
      "<_sre.SRE_Match object; span=(0, 4), match='1:06'>\n",
      "<_sre.SRE_Match object; span=(0, 5), match='10:43'>\n",
      "Invalid times:\n",
      "None\n",
      "None\n",
      "None\n",
      "None\n",
      "None\n"
     ]
    }
   ],
   "source": [
    "times = ['03:43', '01:00', '12:59', '1:06', '10:43:16']\n",
    "not_times = ['orange', '03:60', '26:14', '0155', '13:00']\n",
    "time_expression = '([1-9]|0[1-9]|1[0-2]):[0-5][0-9]'\n",
    "print( \"Valid times:\")\n",
    "for i in times:\n",
    "    print(re.match(time_expression, i))\n",
    "print( \"Invalid times:\")\n",
    "for i in not_times:\n",
    "    print(re.match(time_expression, i))"
   ]
  },
  {
   "cell_type": "markdown",
   "metadata": {},
   "source": [
    "Now if we had a whole sentence and we thought there might be a time in it, _any_ time, we could check quite easily!"
   ]
  },
  {
   "cell_type": "code",
   "execution_count": 180,
   "metadata": {
    "collapsed": false
   },
   "outputs": [
    {
     "name": "stdout",
     "output_type": "stream",
     "text": [
      "<_sre.SRE_Match object; span=(14, 18), match='1:42'>\n"
     ]
    }
   ],
   "source": [
    "sentence = \"I was born at 1:42 PM all the way back in February 25, 1984\"\n",
    "print(re.search(time_expression, sentence))"
   ]
  },
  {
   "cell_type": "markdown",
   "metadata": {},
   "source": [
    "**Exercise:** Edit the `time_expression` above to (only) find millitary times!"
   ]
  },
  {
   "cell_type": "code",
   "execution_count": 181,
   "metadata": {
    "collapsed": false
   },
   "outputs": [
    {
     "name": "stdout",
     "output_type": "stream",
     "text": [
      "Valid times:\n",
      "<_sre.SRE_Match object; span=(0, 0), match=''>\n",
      "<_sre.SRE_Match object; span=(0, 0), match=''>\n",
      "<_sre.SRE_Match object; span=(0, 0), match=''>\n",
      "<_sre.SRE_Match object; span=(0, 0), match=''>\n",
      "<_sre.SRE_Match object; span=(0, 0), match=''>\n",
      "Invalid times:\n",
      "<_sre.SRE_Match object; span=(0, 0), match=''>\n",
      "<_sre.SRE_Match object; span=(0, 0), match=''>\n",
      "<_sre.SRE_Match object; span=(0, 0), match=''>\n",
      "<_sre.SRE_Match object; span=(0, 0), match=''>\n",
      "<_sre.SRE_Match object; span=(0, 0), match=''>\n"
     ]
    }
   ],
   "source": [
    "military_times = ['00:45', '1:43', '23:59', '10:00', '0:00']\n",
    "not_military_times = ['24:00', '0:-1', 'Northwestern', '06;17', '9:60']\n",
    "####Edit this expression\n",
    "military_expression = ''\n",
    "print( \"Valid times:\")\n",
    "for i in military_times:\n",
    "    print(re.match(military_expression, i))\n",
    "print( \"Invalid times:\")\n",
    "for i in not_military_times:\n",
    "    print(re.match(military_expression, i))"
   ]
  },
  {
   "cell_type": "markdown",
   "metadata": {},
   "source": [
    "Email addresses are another common format that you can think about. So what constitutes an email address? Well we have some letters or numbers, followed by an @ followed by more letters or numbers, a period, and yet more letters/numbers.  "
   ]
  },
  {
   "cell_type": "code",
   "execution_count": 182,
   "metadata": {
    "collapsed": false
   },
   "outputs": [
    {
     "name": "stdout",
     "output_type": "stream",
     "text": [
      "Valid emails:\n",
      "<_sre.SRE_Match object; span=(0, 5), match='a@b.c'>\n",
      "<_sre.SRE_Match object; span=(0, 27), match='something@somethingelse.org'>\n",
      "<_sre.SRE_Match object; span=(0, 10), match='89@42.info'>\n",
      "<_sre.SRE_Match object; span=(0, 28), match='something@something.else.com'>\n",
      "Invalid emails:\n",
      "None\n",
      "None\n",
      "None\n"
     ]
    }
   ],
   "source": [
    "email = ['a@b.c', 'something@somethingelse.org', '89@42.info', 'something@something.else.com']\n",
    "not_email = ['@b.c', 'a@b.', 'something@somethingelse.']\n",
    "\n",
    "email_expression = '^[a-zA-Z0-9.]+@[a-zA-Z0-9.]+.[a-zA-Z0-9]+$'\n",
    "\n",
    "print( \"Valid emails:\")\n",
    "for i in email:\n",
    "    print(re.match(email_expression, i))\n",
    "print( \"Invalid emails:\")\n",
    "for i in not_email:\n",
    "    print(re.match(email_expression, i))\n",
    "\n"
   ]
  },
  {
   "cell_type": "markdown",
   "metadata": {},
   "source": [
    "Okay so I don't actually know what characters are allowed in email. But this fits all of our test cases and none of our failues at least. What's going on?\n",
    "\n",
    "* First off, the '^' symbol at the beginning means the string must start with the first expression, and the '$' means the string has to end with last expression.\n",
    "\n",
    "* ['a-zA-Z0-9'] means any letter and any number. \n",
    "\n",
    "* The '+' symbol that follows means that there can be any number of things before the @ symbol. Literally, thousands (so maybe that's not too realistic). \n",
    "\n",
    "* Then we have the @ symbol which we need, followed by again any letter or number of any length. \n",
    "\n",
    "* Then a '.' and again any letter/number of any length.\n",
    "\n",
    "Seems reasonable to me? It looks confusing, and it should so don't worry. \n",
    "\n",
    "Maybe we wanted to say that there is a limit to how many characters can be before the '@' symbol. Let's say between 1-256. We'll just replace the '+' with {1,256}:\n",
    "    \n",
    "    ^[a-zA-Z0-9.]{1,256}@[a-zA-Z0-9.]+.[a-zA-Z0-9]+$\n",
    "    \n",
    "If we thought that we should allow %, _, + and -  before the @ symbol we'd just add them into the brackets:\n",
    "\n",
    "    ^[a-zA-Z0-9.%_+-]{1,256}@[a-zA-Z0-9.]+.[a-zA-Z0-9]+$\n",
    "\n",
    "We can keep going, matching more and more cases and making longer and more hideous expressions. But difficult though they may be to look at, there is no better way to identify patterns in text. There are so many more complicated things you can do with regex, and there is even a game called [regex golf](http://regex.alf.nu) that the nerdiest of all nerds play from time to time where the object is to come up with the shortest way to match certain patterns while [avoiding others](http://nbviewer.ipython.org/url/norvig.com/ipython/xkcd1313.ipynb):"
   ]
  },
  {
   "cell_type": "code",
   "execution_count": 183,
   "metadata": {
    "collapsed": false
   },
   "outputs": [
    {
     "name": "stdout",
     "output_type": "stream",
     "text": [
      "Star Wars titles:\n",
      "<_sre.SRE_Match object; span=(10, 12), match='m '>\n",
      "<_sre.SRE_Match object; span=(9, 11), match=' t'>\n",
      "<_sre.SRE_Match object; span=(10, 12), match=' t'>\n",
      "<_sre.SRE_Match object; span=(1, 3), match=' N'>\n",
      "<_sre.SRE_Match object; span=(19, 20), match='B'>\n",
      "<_sre.SRE_Match object; span=(9, 11), match=' t'>\n",
      "Star Trek titles:\n",
      "None\n",
      "None\n",
      "None\n",
      "None\n",
      "None\n",
      "None\n",
      "None\n",
      "None\n",
      "None\n"
     ]
    }
   ],
   "source": [
    "starwars = ['The Phantom Menace', 'Attack of the Clones', 'Revenge of the Sith',\\\n",
    "            'A New Hope', 'The Empire Strikes Back', 'Return of the Jedi']\n",
    "\n",
    "startrek = ['The Wrath of Khan', 'The Search for Spock', 'The Voyage Home',\\\n",
    "            'The Final Frontier', 'The Undiscovered Country', 'Generations',\\\n",
    "            'First Contact', 'Insurrection', 'Nemesis']\n",
    "\n",
    "print(\"Star Wars titles:\")\n",
    "for i in starwars:\n",
    "    print(re.search('M | [TN]|B', i, re.IGNORECASE))\n",
    "print(\"Star Trek titles:\")\n",
    "for i in startrek:\n",
    "    print(re.search('M | [TN]|B', i, re.IGNORECASE))"
   ]
  },
  {
   "cell_type": "markdown",
   "metadata": {},
   "source": [
    "There are lots of great resources, so if you find yourself in need of more understanding google will help you out but here are a few:\n",
    "* [More Python documentation](https://docs.python.org/3/howto/regex.html#regex-howto)\n",
    "* [A great little notebook](http://nbviewer.ipython.org/github/sampathweb/python_reference/blob/master/tutorials/useful_regex.ipynb)\n"
   ]
  },
  {
   "cell_type": "markdown",
   "metadata": {},
   "source": [
    "#Advanced Exercises"
   ]
  },
  {
   "cell_type": "markdown",
   "metadata": {},
   "source": [
    "Write a regular expression to find image files while ignoring non-image files"
   ]
  },
  {
   "cell_type": "code",
   "execution_count": 185,
   "metadata": {
    "collapsed": true
   },
   "outputs": [],
   "source": [
    "images = ['test.gif', \n",
    "            'image.jpeg', \n",
    "            'image.jpg',\n",
    "            'image.TIF'\n",
    "            ]\n",
    "\n",
    "non_images = ['test.pdf',\n",
    "             'test.gif.pdf'\n",
    "             ]\n",
    "\n",
    "###Place your code here\n",
    "image_expression = ''"
   ]
  },
  {
   "cell_type": "markdown",
   "metadata": {},
   "source": [
    "What are other interesting patterns that you can think of? Dates? Phone numbers? Websites? Give them a try!"
   ]
  },
  {
   "cell_type": "code",
   "execution_count": null,
   "metadata": {
    "collapsed": true
   },
   "outputs": [],
   "source": []
  }
 ],
 "metadata": {
  "kernelspec": {
   "display_name": "Python 3",
   "language": "python",
   "name": "python3"
  },
  "language_info": {
   "codemirror_mode": {
    "name": "ipython",
    "version": 3
   },
   "file_extension": ".py",
   "mimetype": "text/x-python",
   "name": "python",
   "nbconvert_exporter": "python",
   "pygments_lexer": "ipython3",
   "version": "3.4.3"
  }
 },
 "nbformat": 4,
 "nbformat_minor": 0
}
