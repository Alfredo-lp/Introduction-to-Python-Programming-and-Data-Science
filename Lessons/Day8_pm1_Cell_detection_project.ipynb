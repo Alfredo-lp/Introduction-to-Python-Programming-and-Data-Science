{
 "cells": [
  {
   "cell_type": "code",
   "execution_count": null,
   "metadata": {},
   "outputs": [],
   "source": [
    "from IPython.core.display import HTML\n",
    "\n",
    "def css_styling():\n",
    "    styles = open(\"../Data/www/styles/custom.css\", \"r\").read()\n",
    "    return HTML(styles)\n",
    "css_styling()"
   ]
  },
  {
   "cell_type": "code",
   "execution_count": null,
   "metadata": {},
   "outputs": [],
   "source": [
    "import glob\n",
    "import numpy as np\n",
    "import math\n",
    "import matplotlib as mpl\n",
    "import matplotlib.pyplot as plt\n",
    "import matplotlib.cm as cm\n",
    "from pylab import imread\n",
    "from random import randint\n",
    "from scipy.stats import norm"
   ]
  },
  {
   "cell_type": "code",
   "execution_count": null,
   "metadata": {},
   "outputs": [],
   "source": [
    "%matplotlib inline"
   ]
  },
  {
   "cell_type": "markdown",
   "metadata": {},
   "source": [
    "# Project\n",
    "\n",
    "For this project, we will download images of cells on plates from [Cell Image Library](http://www.cellimagelibrary.org/pages/project_20269) and write code to identify the contour of the cells, and then measure how well our code performs.\n"
   ]
  },
  {
   "cell_type": "code",
   "execution_count": null,
   "metadata": {},
   "outputs": [],
   "source": [
    "# Write your code here to load all images (and maybe visualize them...)\n",
    "\n",
    "paths = glob.glob('../Data/Day8-Image-Analysis/Cell_images/BBBC022_v1_images_20585w1/*')\n"
   ]
  },
  {
   "cell_type": "code",
   "execution_count": null,
   "metadata": {},
   "outputs": [],
   "source": [
    "# Write code to check some of the properties of the image(s) you loaded\n"
   ]
  },
  {
   "cell_type": "code",
   "execution_count": null,
   "metadata": {},
   "outputs": [],
   "source": [
    "# Write some code to focus on the important parts of the histogram of intensities\n"
   ]
  },
  {
   "cell_type": "markdown",
   "metadata": {},
   "source": [
    "We need to think about what is `background` and what is `foreground`. A possible solution is to define a threshold and set all values below (background) to zero and all above (foreground) equal to 1..."
   ]
  },
  {
   "cell_type": "code",
   "execution_count": null,
   "metadata": {},
   "outputs": [],
   "source": [
    "# Write code here to explore use of thresholds to differenciate background from foreground"
   ]
  },
  {
   "cell_type": "code",
   "execution_count": null,
   "metadata": {},
   "outputs": [],
   "source": [
    "fig, plots = plt.subplots(figsize=(8, 25), nrows=10, ncols=2)\n",
    "\n",
    "for i in range(10):\n",
    "    plots[i][0].imshow(images[i], cmap=cm.Greys)\n",
    "    plots[i][1].imshow(masks[i][:,:], cmap=cm.Greys)\n",
    "    \n",
    "plt.tight_layout()\n",
    "plt.show()"
   ]
  },
  {
   "cell_type": "markdown",
   "metadata": {},
   "source": [
    "Because of the close proximity of the cells in some regions, likely there is no threshold single threshold that neatly separates all the cells. But, maybe you already have a good enough threshold that appears to separate most of the cells.  Then what you need to do it actually identify/mark the individual cells.  \n",
    "\n",
    "## Creating a validation image\n",
    "\n",
    "The best way to test your code is to create a (set of) image(s) that countain \"cells\" created by you.  You would specify distributions in intensities for foreground, background, position of center of cells, and shape of cells. At first, it might be best to generate validation sets that are relatively easy!\n",
    "\n",
    "What is easy? backgroung is 0, foreground is 1000, cells are circles and there are only a handful of cells in the image."
   ]
  },
  {
   "cell_type": "code",
   "execution_count": null,
   "metadata": {},
   "outputs": [],
   "source": [
    "# write your code for generating validation images here\n",
    "\n",
    "def create_validation_image(number_cells = 1, cell_radius = 5, Lx = 100, Ly = 100, \n",
    "                            mean_backgd = 0, stdev_bacgdk = 0, mean_foregd = 1000, stdev_foregd = 0):\n",
    "    \"\"\"\n",
    "    \"\"\"\n",
    "    \n",
    "    return image, cell_centers"
   ]
  },
  {
   "cell_type": "markdown",
   "metadata": {},
   "source": [
    "Now you can use the easy images you created to develop your code for detecting cells"
   ]
  },
  {
   "cell_type": "code",
   "execution_count": null,
   "metadata": {},
   "outputs": [],
   "source": [
    "# write your code here\n",
    "# We are going to assign different labels to each cluster of foreground pixels.\n",
    "# But which pixels can potentially belong to the same cluster? I suggest using the eight \n",
    "# pixels around each center pixel.\n",
    "\n",
    "\n",
    "def get_neighbors(x, y, Lx, Ly):\n",
    "    \"\"\"\n",
    "    Takes coordinates x and y and returns list of tuples with coordinates of 8 neighbors of (x,y)\n",
    "    \n",
    "    input:\n",
    "        x - int\n",
    "        y - int\n",
    "        Lx - int\n",
    "        Ly - int\n",
    "        \n",
    "    output:\n",
    "        neighbors - list of tuples\n",
    "    \"\"\"\n",
    "\n",
    "    return neighbors\n",
    "\n",
    "\n",
    "cells = {}\n"
   ]
  },
  {
   "cell_type": "markdown",
   "metadata": {},
   "source": [
    "If you set things up the same way as I, cells is a dictionary with cell labels as key and values that are a list of tuples with the coordinates of the pixels belonging to the cells.\n",
    "\n",
    "To calculate the area of a cell, we just need to count the number of pixels in each list.\n",
    "\n",
    "Retrieving the center of mass coordinates is also straightforward. "
   ]
  },
  {
   "cell_type": "code",
   "execution_count": null,
   "metadata": {},
   "outputs": [],
   "source": [
    "print(cell_centers)\n",
    "print()\n",
    "print(cells.keys())\n",
    "for label in cells.keys():\n",
    "    print(label, len(cells[label]), get_center_of_mass(cells[label]))\n",
    "    "
   ]
  },
  {
   "cell_type": "code",
   "execution_count": null,
   "metadata": {},
   "outputs": [],
   "source": [
    "# Write your code here\n",
    "\n",
    "def get_center_of_mass(pixels):\n",
    "    \"\"\"\n",
    "    \"\"\"\n",
    "    \n",
    "    return xcm, ycm"
   ]
  },
  {
   "cell_type": "code",
   "execution_count": null,
   "metadata": {},
   "outputs": [],
   "source": []
  }
 ],
 "metadata": {
  "anaconda-cloud": {},
  "kernelspec": {
   "display_name": "Python 3",
   "language": "python",
   "name": "python3"
  },
  "language_info": {
   "codemirror_mode": {
    "name": "ipython",
    "version": 3
   },
   "file_extension": ".py",
   "mimetype": "text/x-python",
   "name": "python",
   "nbconvert_exporter": "python",
   "pygments_lexer": "ipython3",
   "version": "3.6.4"
  }
 },
 "nbformat": 4,
 "nbformat_minor": 1
}
