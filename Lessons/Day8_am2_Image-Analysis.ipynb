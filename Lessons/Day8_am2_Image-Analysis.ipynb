{
 "metadata": {
  "anaconda-cloud": {},
  "kernelspec": {
   "display_name": "Python [Root]",
   "language": "python",
   "name": "Python [Root]"
  },
  "language_info": {
   "codemirror_mode": {
    "name": "ipython",
    "version": 3
   },
   "file_extension": ".py",
   "mimetype": "text/x-python",
   "name": "python",
   "nbconvert_exporter": "python",
   "pygments_lexer": "ipython3",
   "version": "3.5.1"
  },
  "name": ""
 },
 "nbformat": 3,
 "nbformat_minor": 0,
 "worksheets": [
  {
   "cells": [
    {
     "cell_type": "code",
     "collapsed": false,
     "input": [
      "from IPython.core.display import HTML\n",
      "def css_styling():\n",
      "    styles = open(\"../Data/www/styles/custom.css\", \"r\").read()\n",
      "    return HTML(styles)\n",
      "css_styling()"
     ],
     "language": "python",
     "metadata": {},
     "outputs": []
    },
    {
     "cell_type": "markdown",
     "metadata": {},
     "source": [
      "# Synopsis\n",
      "\n",
      "So far we've covered the basics of what constitutes an image, color is encoded, and how we can manipulate it. However, when you conduct research the tasks you need to perform are typically more complex (although they always seem easy to do before you start coding!). Some examples of common tasks are:\n",
      "\n",
      "* Automatically identify regions\n",
      "* Identify the borders of areas\n",
      "* Find bright spots/blobs\n",
      "* Skeletonize shapes (i.e. find the backbone)\n",
      "\n",
      "We'll go over some basic methods to do some of these methods using `scikit-image`. The `scikit-image` package is a sister to the `scikit-learn` package, both of these packages are focused on implementing machine-learning methods in Python but `scikit-image`, as you probably guessed, is geared towards algorithms that can be applied to images. "
     ]
    },
    {
     "cell_type": "markdown",
     "metadata": {},
     "source": [
      "## Identifying image borders\n",
      "\n",
      "One common technique researchers will want to use is identifying the edge of certain regions. This is useful in a number of contexts, such as:\n",
      "\n",
      "* Identifying the borders of cells in a microscope image\n",
      "* Finding areas in geographic areas\n",
      "\n",
      "This procedure is typically called contour finding and we can use an algorithm that is implemented in `scikit-image`."
     ]
    },
    {
     "cell_type": "code",
     "collapsed": false,
     "input": [
      "%matplotlib inline\n",
      "import numpy as np\n",
      "import matplotlib.pyplot as plt\n",
      "from pylab import imshow, imread\n",
      "\n",
      "from skimage import measure"
     ],
     "language": "python",
     "metadata": {},
     "outputs": []
    },
    {
     "cell_type": "markdown",
     "metadata": {},
     "source": [
      "To start with we'll generate some test data using some random numbers and then applying `sine` and `cosine` functions to regularly transform it."
     ]
    },
    {
     "cell_type": "code",
     "collapsed": false,
     "input": [
      "x, y = np.ogrid[-np.pi:np.pi:100j, -np.pi:np.pi:100j]\n",
      "r = np.sin(np.exp((np.sin(x)**3 + np.cos(y)**2)))\n",
      "\n",
      "print( r.shape )\n",
      "\n",
      "imshow(r)"
     ],
     "language": "python",
     "metadata": {},
     "outputs": []
    },
    {
     "cell_type": "markdown",
     "metadata": {},
     "source": [
      "Next we can use a contour finding algorithm. In `scikit-image` there is the `find_contours` algorithm that is an implementation of the [marching squares algorithm](http://users.polytech.unice.fr/~lingrand/MarchingCubes/algo.html). This algorithm constructs the image as a grid and attempts to draw lines along the edges of the squares in the grid. "
     ]
    },
    {
     "cell_type": "code",
     "collapsed": false,
     "input": [
      "contours = measure.find_contours(r, 0.2)\n",
      "\n",
      "#Now plot the image and contours\n",
      "fig, ax = plt.subplots()\n",
      "ax.imshow(r, interpolation='nearest', cmap = plt.cm.gray)\n",
      "for n, contour in enumerate(contours):\n",
      "    ax.plot(contour[:, 1], contour[:, 0], linewidth=2)\n",
      "    \n",
      "ax.axis('image')\n",
      "ax.set_xticks([])\n",
      "ax.set_yticks([])"
     ],
     "language": "python",
     "metadata": {},
     "outputs": []
    },
    {
     "cell_type": "markdown",
     "metadata": {},
     "source": [
      "Excellent! That was pretty easy....but what really happened? \n",
      "\n",
      "So let's break this apart - the `find_countours` algorithm takes two arguments - the 2D image array (must be 2D since this is a special case of the algorithm) and the `level` value. This `level` controls the value around which the algorithm should attempt to find the contours - this is our free parameter.  \n",
      "\n",
      "Now transform the above code into a function and lets see how much changing the `level` affects our identification of surfaces with the algorithm."
     ]
    },
    {
     "cell_type": "code",
     "collapsed": true,
     "input": [
      "#Your code here\n"
     ],
     "language": "python",
     "metadata": {},
     "outputs": []
    },
    {
     "cell_type": "markdown",
     "metadata": {},
     "source": [
      "Wow! Not really so simple after all......We can see that the result drastically changes as we increase the level. \n",
      "\n",
      "Not so easy after all, huh?\n",
      "\n",
      "So this can work when we have a series of similar images when we are interested in, generally, extracting the same feature for further analysis but would fall flat if we were trying to apply it to a series of different images.\n",
      "\n",
      "We can show this with the Picasso images. "
     ]
    },
    {
     "cell_type": "code",
     "collapsed": false,
     "input": [
      "from PIL import Image\n",
      "\n",
      "picasso_img = Image.open('../Data/Day8-Image-Analysis/Picasso/1895-First_Communion.-11.jpg')\n",
      "bw_picasso_img = np.array( picasso_img.convert('L') )\n",
      "\n",
      "fig = plt.figure(figsize = (9, 6))\n",
      "ax1 = fig.add_subplot(121)\n",
      "imshow(picasso_img)\n",
      "ax2 = fig.add_subplot(122)\n",
      "imshow(bw_picasso_img, cmap = plt.cm.gray)"
     ],
     "language": "python",
     "metadata": {},
     "outputs": []
    },
    {
     "cell_type": "code",
     "collapsed": false,
     "input": [
      "print(bw_picasso_img)"
     ],
     "language": "python",
     "metadata": {},
     "outputs": []
    },
    {
     "cell_type": "markdown",
     "metadata": {},
     "source": [
      "Let's see how it works with our contour finding algorithm"
     ]
    },
    {
     "cell_type": "code",
     "collapsed": true,
     "input": [
      "#Your code here\n"
     ],
     "language": "python",
     "metadata": {},
     "outputs": []
    },
    {
     "cell_type": "markdown",
     "metadata": {},
     "source": [
      "Slower when it's a real image!So slow, because it found so many contours that aren't really useful at all!\n",
      "\n",
      "When using real images we frequently need to apply some additional filtering techniques to the image so that it is amenable to further analysis. One technique is thresholding the image and transforming it into a strict black and white image (instead of grayscale). "
     ]
    },
    {
     "cell_type": "code",
     "collapsed": false,
     "input": [
      "def binarize_image(inimg, threshold):\n",
      "    img = inimg[:]\n",
      "    img[img>threshold] = 255\n",
      "    img[img<=threshold] = 0\n",
      "    return img\n",
      "\n",
      "imshow( binarize_image(bw_picasso_img, 100) , cmap = plt.cm.gray)"
     ],
     "language": "python",
     "metadata": {},
     "outputs": []
    },
    {
     "cell_type": "markdown",
     "metadata": {},
     "source": [
      "Using the threshold we could actually define areas of the image rather simply - if it's a continous area of pixels that are all 0 - then it's a region. Otherwise, it's a different region (hopefully this is the same that the contour algorithm would do!).\n",
      "\n",
      "Let's try to find contours again but with the thresholded image. "
     ]
    },
    {
     "cell_type": "code",
     "collapsed": true,
     "input": [
      "#Your code here\n"
     ],
     "language": "python",
     "metadata": {},
     "outputs": []
    },
    {
     "cell_type": "markdown",
     "metadata": {},
     "source": [
      "A little bit better and quicker! There's still lots and lots of noisy contours though....to make any use of this we would still need to filter the regions based on size and only include contours that are of a certain area."
     ]
    },
    {
     "cell_type": "code",
     "collapsed": true,
     "input": [
      "contours = measure.find_contours(binarize_image(bw_picasso_img, 100), 200)"
     ],
     "language": "python",
     "metadata": {},
     "outputs": []
    },
    {
     "cell_type": "code",
     "collapsed": false,
     "input": [
      "contours[0]"
     ],
     "language": "python",
     "metadata": {},
     "outputs": []
    },
    {
     "cell_type": "markdown",
     "metadata": {},
     "source": [
      "Now write code to get the area of any contour set. You can refer to this [page](http://www.mathopenref.com/coordpolygonarea.html) for the formulation."
     ]
    },
    {
     "cell_type": "code",
     "collapsed": true,
     "input": [
      "#Your code here\n"
     ],
     "language": "python",
     "metadata": {},
     "outputs": []
    },
    {
     "cell_type": "markdown",
     "metadata": {},
     "source": [
      "We can see that most of the contours have no area. So now let's restrict the contours based on size and only plot contours with a non-zero area."
     ]
    },
    {
     "cell_type": "code",
     "collapsed": true,
     "input": [
      "#Your code here\n"
     ],
     "language": "python",
     "metadata": {},
     "outputs": []
    },
    {
     "cell_type": "markdown",
     "metadata": {},
     "source": [
      "AHHHHHH! Much better! We could even increase our threshold on the area size to improve it. Where should we set the threshold on area size? How should we look at that?"
     ]
    },
    {
     "cell_type": "code",
     "collapsed": true,
     "input": [
      "#Your code here\n"
     ],
     "language": "python",
     "metadata": {},
     "outputs": []
    },
    {
     "cell_type": "markdown",
     "metadata": {},
     "source": [
      "So where should we set the area threshold?"
     ]
    },
    {
     "cell_type": "code",
     "collapsed": true,
     "input": [
      "#Your code here\n"
     ],
     "language": "python",
     "metadata": {},
     "outputs": []
    },
    {
     "cell_type": "markdown",
     "metadata": {},
     "source": [
      "## More \"intelligent\" filtering and binning\n",
      "\n",
      "We applied a very simple threshold - how could we apply thresholds in a more complex manner to preserve some of the image complexity?\n",
      "\n",
      "We could always bin the values and quantize them in some method.  Let's look at the histogram of the original black and white image values."
     ]
    },
    {
     "cell_type": "code",
     "collapsed": true,
     "input": [
      "#Your code\n"
     ],
     "language": "python",
     "metadata": {},
     "outputs": []
    },
    {
     "cell_type": "markdown",
     "metadata": {},
     "source": [
      "A different approach to a simple threshold would be to quantize the image, i.e. bin the values in the image and assign every value in each bin the same value. \n",
      "\n",
      "There are many, many ways to partition this histogram into discrete bins.\n",
      "\n",
      "We could do this manually, but I'd like to employ a machine-learning algorithm called K-means. K-means returns the number of clusters that you give it - so it is rather imperfect, and we're not going to go deep into its validation, but it is an easy way to start working."
     ]
    },
    {
     "cell_type": "code",
     "collapsed": false,
     "input": [
      "from sklearn import cluster\n",
      "picasso_img = Image.open('../Data/Day8-Image-Analysis/Picasso/1895-First_Communion.-11.jpg')\n",
      "bw_picasso_img = np.array( picasso_img.convert('L') )\n",
      "X = bw_picasso_img.reshape((-1, 1))\n",
      "kmeans = cluster.KMeans(n_clusters = 5, n_init = 1)\n",
      "kmeans.fit(X)\n",
      "values = kmeans.cluster_centers_.squeeze()\n",
      "labels = kmeans.labels_\n",
      "compressed_img = np.choose(labels, values)\n",
      "compressed_img.shape = bw_picasso_img.shape\n",
      "#Plot it out\n",
      "fig = plt.figure(figsize = (9, 6))\n",
      "ax = fig.add_subplot(121)\n",
      "imshow(compressed_img, cmap = plt.cm.gray)\n",
      "#Raw image\n",
      "ax = fig.add_subplot(122)\n",
      "imshow(bw_picasso_img, cmap = plt.cm.gray)"
     ],
     "language": "python",
     "metadata": {},
     "outputs": []
    },
    {
     "cell_type": "markdown",
     "metadata": {},
     "source": [
      "Here we can see the results with the smoothing of the different areas of the image. \n",
      "\n",
      "Now we could always try to apply the contour finding to this image."
     ]
    },
    {
     "cell_type": "code",
     "collapsed": false,
     "input": [
      "fig = plt.figure(figsize = (9, 6))\n",
      "ax = fig.add_subplot(111)\n",
      "find_contour(ax, compressed_img, 200)"
     ],
     "language": "python",
     "metadata": {},
     "outputs": []
    },
    {
     "cell_type": "markdown",
     "metadata": {},
     "source": [
      "A little bit better it looks like!"
     ]
    },
    {
     "cell_type": "code",
     "collapsed": true,
     "input": [],
     "language": "python",
     "metadata": {},
     "outputs": []
    }
   ],
   "metadata": {}
  }
 ]
}