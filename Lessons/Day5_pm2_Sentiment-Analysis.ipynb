{
 "cells": [
  {
   "cell_type": "code",
   "execution_count": 1,
   "metadata": {},
   "outputs": [
    {
     "data": {
      "text/html": [
       "<style>\n",
       "    @font-face {\n",
       "        font-family: \"Computer Modern\";\n",
       "        src: url('http://9dbb143991406a7c655e-aa5fcb0a5a4ec34cff238a2d56ca4144.r56.cf5.rackcdn.com/cmunss.otf');\n",
       "    }\n",
       "    @font-face {\n",
       "        font-family: \"Computer Modern\";\n",
       "        font-weight: bold;\n",
       "        src: url('http://9dbb143991406a7c655e-aa5fcb0a5a4ec34cff238a2d56ca4144.r56.cf5.rackcdn.com/cmunsx.otf');\n",
       "    }\n",
       "    @font-face {\n",
       "        font-family: \"Computer Modern\";\n",
       "        font-style: oblique;\n",
       "        src: url('http://9dbb143991406a7c655e-aa5fcb0a5a4ec34cff238a2d56ca4144.r56.cf5.rackcdn.com/cmunsi.otf');\n",
       "    }\n",
       "    @font-face {\n",
       "        font-family: \"Computer Modern\";\n",
       "        font-weight: bold;\n",
       "        font-style: oblique;\n",
       "        src: url('http://9dbb143991406a7c655e-aa5fcb0a5a4ec34cff238a2d56ca4144.r56.cf5.rackcdn.com/cmunso.otf');\n",
       "    }\n",
       "    h1 {\n",
       "        font-family: Helvetica, serif;\n",
       "    }\n",
       "    h4{\n",
       "        margin-top:12px;\n",
       "        margin-bottom: 3px;\n",
       "       }\n",
       "    div.text_cell_render{\n",
       "        font-family: Computer Modern, \"Helvetica Neue\", Arial, Helvetica, Geneva, sans-serif;\n",
       "        line-height: 145%;\n",
       "        font-size: 130%;\n",
       "        margin-left:auto;\n",
       "        margin-right:auto;\n",
       "    }\n",
       "    .CodeMirror{\n",
       "            font-family: \"Source Code Pro\", source-code-pro,Consolas, monospace;\n",
       "    }\n",
       "    .text_cell_render h5 {\n",
       "        font-weight: 300;\n",
       "        font-size: 22pt;\n",
       "        color: #4057A1;\n",
       "        font-style: italic;\n",
       "        margin-bottom: .5em;\n",
       "        margin-top: 0.5em;\n",
       "        display: block;\n",
       "    }\n",
       "    \n",
       "    .warning{\n",
       "        color: rgb( 240, 20, 20 )\n",
       "        }  \n",
       "</style>\n",
       "<script>\n",
       "    MathJax.Hub.Config({\n",
       "                        TeX: {\n",
       "                           extensions: [\"AMSmath.js\"]\n",
       "                           },\n",
       "                tex2jax: {\n",
       "                    inlineMath: [ ['$','$'], [\"\\\\(\",\"\\\\)\"] ],\n",
       "                    displayMath: [ ['$$','$$'], [\"\\\\[\",\"\\\\]\"] ]\n",
       "                },\n",
       "                displayAlign: 'center', // Change this to 'center' to center equations.\n",
       "                \"HTML-CSS\": {\n",
       "                    styles: {'.MathJax_Display': {\"margin\": 4}}\n",
       "                }\n",
       "        });\n",
       "</script>\n"
      ],
      "text/plain": [
       "<IPython.core.display.HTML object>"
      ]
     },
     "execution_count": 1,
     "metadata": {},
     "output_type": "execute_result"
    }
   ],
   "source": [
    "from IPython.core.display import HTML\n",
    "def css_styling():\n",
    "    styles = open(\"../Data/www/styles/custom.css\", \"r\").read()\n",
    "    return HTML(styles)\n",
    "css_styling()"
   ]
  },
  {
   "cell_type": "markdown",
   "metadata": {
    "collapsed": true
   },
   "source": [
    "# Synopsis\n",
    "\n",
    "So far we have essentially only learned how to parse and enumerate the number of words in text (doesn't sound like much, huh? But that alone comprises a large amount of basic textual analysis). In this unit we will go a bit further and cover:\n",
    "\n",
    "1. Preparing text for further analysis\n",
    "2. Analyzing sentiment\n",
    "\n",
    "We will also talk about how difficult advanced analysis of unstructured text is despite its appearance as an 'easy' task."
   ]
  },
  {
   "cell_type": "markdown",
   "metadata": {},
   "source": [
    "## Text as Data\n",
    "\n",
    "As we discussed this morning, analyzing text is not nearly as simple as it would appear. In this module we're going to learn the basics of examining sentiment in text. \n",
    "\n",
    "We'll be working with an example text:\n",
    "\n",
    "\"Adam is totally cool. You should come to his class.\"\n",
    "\n",
    "To begin with, let's answer some basic questions. \n",
    "\n",
    "* Is this overall sentence positive or negative?\n",
    "* Which words make it positive or negative?\n",
    "* Do all words have a positive or negative affect?"
   ]
  },
  {
   "cell_type": "markdown",
   "metadata": {},
   "source": [
    "Now the question becomes, how can we automate the analysis of the sentiment in the text?\n",
    "\n",
    "There are actually many ways to rate the positive or negative sentiment of a word, more complicated approaches involve machine-learning, but we'll start simply with using a dictionary.\n",
    "\n",
    "There are many dictionaries that people have created to analyze sentiment, for our uses today we will use the AFINN dictionary that is provided in `Data/Day5-Text-Analysis/AFINN/`"
   ]
  },
  {
   "cell_type": "code",
   "execution_count": null,
   "metadata": {},
   "outputs": [],
   "source": [
    "afinn_list = [l.strip().split() for l in open('../Data/Day5-Text-Analysis/AFINN/AFINN-111.txt', encoding = 'utf-8').readlines()]\n",
    "print(afinn_list[:10])"
   ]
  },
  {
   "cell_type": "markdown",
   "metadata": {},
   "source": [
    "The AFINN dictionary is relatively simple. It gives a word and then it's numeric score of postivity or negativity (negative words are negative numbers).\n",
    "\n",
    "But we really need to convert it to a dictionary if it's going to be useful to us (list lookups are expensive!)"
   ]
  },
  {
   "cell_type": "code",
   "execution_count": null,
   "metadata": {},
   "outputs": [],
   "source": [
    "#Place your code here\n",
    "afinn = {}\n",
    "for item in afinn_list[:10]:\n",
    "    key = item[0]\n",
    "    score = int(item[1])\n",
    "    afinn[key] = score\n",
    "    \n",
    "print(afinn)"
   ]
  },
  {
   "cell_type": "markdown",
   "metadata": {},
   "source": [
    "\n",
    "To start with, let's look at the words with sentiment in the example text."
   ]
  },
  {
   "cell_type": "code",
   "execution_count": null,
   "metadata": {
    "collapsed": true
   },
   "outputs": [],
   "source": [
    "example_text = \"Adam is totally cool. You should come to his class\""
   ]
  },
  {
   "cell_type": "code",
   "execution_count": null,
   "metadata": {},
   "outputs": [],
   "source": [
    "###Place your code here\n",
    "words = example_text.split()\n",
    "print(words)"
   ]
  },
  {
   "cell_type": "code",
   "execution_count": null,
   "metadata": {},
   "outputs": [],
   "source": [
    "example_words = [word.strip('. ') for word in example_text.split(' ')]\n",
    "for word in example_words:\n",
    "    if word in afinn:\n",
    "        print('--- ', word, '\\t', afinn[word.lower()])\n",
    "    else:\n",
    "        print(word)"
   ]
  },
  {
   "cell_type": "markdown",
   "metadata": {},
   "source": [
    "As we can see, only word assigned a sentiment score is \"cool\".\n",
    "\n",
    "`Adam` is a proper noun, `You` is a pronoun, `his` is a possessive - so no sentiment there\n",
    "\n",
    "`is`, `should`, and `come` are the verbs - so no sentiment\n",
    "\n",
    "`to` is a preposition\n",
    "\n",
    "`class` is a noun\n",
    "\n",
    "`totally` is a different story though. It's an adverb and is modifying `cool`, which is positive. However, the sentiment of `totally` is entirely dependent on the word that it is modifying. So on its own, it it doesn't actually have a score.\n",
    "\n",
    "So we can judge that this overall text is mildly positive, there isn't that much to go on though since it's such a small piece! \n",
    "\n",
    "There could be more that we could write to understand `totally` and it's relationship to `cool`, but we'll save that for later. Right now we're going to stick to analyzing unigrams (single words) as just a bag (which actually works really well as a first approximation!"
   ]
  },
  {
   "cell_type": "markdown",
   "metadata": {},
   "source": [
    "But one thing you'll notice is that there are a lot of words that don't add meaning that we're checking to see if they do have meaning. \n",
    "\n",
    "One set of words that doesn't really help are called stopwords. Stop words are the most common words in a language and don't really have a lot of meaning when it comes to the analysis of setniment in text.\n",
    "\n",
    "For our lesson today we will need to download the `stopwords` corpora."
   ]
  },
  {
   "cell_type": "code",
   "execution_count": null,
   "metadata": {},
   "outputs": [],
   "source": [
    "# A new window will open. Select only the materials that appear in the book\n",
    "import nltk\n",
    "nltk.download()"
   ]
  },
  {
   "cell_type": "markdown",
   "metadata": {},
   "source": [
    "Excellent! Now we will need to import our corpora."
   ]
  },
  {
   "cell_type": "code",
   "execution_count": null,
   "metadata": {
    "collapsed": true
   },
   "outputs": [],
   "source": [
    "from nltk.corpus import stopwords"
   ]
  },
  {
   "cell_type": "markdown",
   "metadata": {},
   "source": [
    "And let's take a look at what is inside the stopwords list."
   ]
  },
  {
   "cell_type": "code",
   "execution_count": null,
   "metadata": {},
   "outputs": [],
   "source": [
    "stopwords.words()"
   ]
  },
  {
   "cell_type": "markdown",
   "metadata": {},
   "source": [
    "Great! You can see that the stop words list is actually very extensive. That's because it contains stopwords that are in most languages! So if you decide to analyze text in a non-English language, NLTK already has you covered.\n",
    "\n",
    "Now let's check to see what is left of our example text after we remove the stopwords."
   ]
  },
  {
   "cell_type": "code",
   "execution_count": null,
   "metadata": {},
   "outputs": [],
   "source": [
    "print([word for word in example_words if word not in stopwords.words()])"
   ]
  },
  {
   "cell_type": "markdown",
   "metadata": {},
   "source": [
    "You can see that it really cut down the entire list of words to basically just the nouns, adjectives, and modifiers. \n",
    "\n",
    "Removing stopwords is extremely important when we're trying to get to the real meat of a text. \n",
    "\n",
    "So let's move onto actual text and apply these principles. Load Othello and get Hamlet and Iago's speaking parts.\n",
    "\n",
    "Now let's work on the actual text. Extract Othello and Iago's dialogue using our code from the morning:"
   ]
  },
  {
   "cell_type": "code",
   "execution_count": null,
   "metadata": {},
   "outputs": [],
   "source": [
    "#Extract Othello\n"
   ]
  },
  {
   "cell_type": "markdown",
   "metadata": {
    "collapsed": true
   },
   "source": [
    "Excellent, now let's actually remove all of the stopwords and see what that does to the dialogue size of the two characters."
   ]
  },
  {
   "cell_type": "code",
   "execution_count": null,
   "metadata": {},
   "outputs": [],
   "source": [
    "cleaned_othello = [word for word in othellos_dialogue if word not in stopwords.words()]\n",
    "cleaned_iago = [word for word in iagos_dialogue if word not in stopwords.words()]\n",
    "\n",
    "print(\"Othello dialogue size\", len( othellos_dialogue))\n",
    "print(\"Othello dialogue size without stopwords\", len( cleaned_othello))\n",
    "print('----')\n",
    "print(\"Iago dialogue size\", len( iagos_dialogue))\n",
    "print(\"Iago dialogue size without stopwords\", len( cleaned_iago))"
   ]
  },
  {
   "cell_type": "markdown",
   "metadata": {
    "collapsed": true
   },
   "source": [
    "We see that there is a non-trivial reduction in the number of words spoken for each character (which should help in further processing!)\n",
    "\n",
    "Now what does the distribution of sentiment look like for each of the two characters? Plot the two distributions in separate subplots."
   ]
  },
  {
   "cell_type": "code",
   "execution_count": null,
   "metadata": {
    "collapsed": true
   },
   "outputs": [],
   "source": [
    "###Place your code here\n"
   ]
  },
  {
   "cell_type": "markdown",
   "metadata": {
    "collapsed": true
   },
   "source": [
    "And they look almost exactly the same! However, we can tell that there is a nearly 20% difference in the averages.\n",
    "\n",
    "The distribution of sentiment scores is interesting, but does not give us a picture of the arc of the story.  To extract that information, we need to keep track of when each word is spoken."
   ]
  },
  {
   "cell_type": "code",
   "execution_count": null,
   "metadata": {
    "collapsed": true
   },
   "outputs": [],
   "source": [
    "###Sentiment over time for Iago and Othello\n"
   ]
  },
  {
   "cell_type": "markdown",
   "metadata": {},
   "source": [
    "Let's focus on Othelo first. Interesting! We can see that the first 150 scored words uttered by Othello are quite positive. The next 150 are only slightly positive, and the last 250 words have a slight negative bias. \n",
    "\n",
    "It might be time to actually to refresh ourselves on the [story of Othello](https://en.wikipedia.org/wiki/Othello)....\n",
    "\n",
    "Iago's speech has a different arc. The positivity in his utterances comes in spikes. The rest of the time he keeps near neutrality of sentiment.  As if he was hiding his feelings...\n",
    "\n",
    "How does this compare to the whole text?"
   ]
  },
  {
   "cell_type": "code",
   "execution_count": null,
   "metadata": {
    "collapsed": true
   },
   "outputs": [],
   "source": [
    "### Place your code here\n",
    "\n"
   ]
  },
  {
   "cell_type": "markdown",
   "metadata": {},
   "source": [
    "Without a reference point (i.e., comparing one character to another), it's acutally a bit easier to see the arc of the story in the rolling mean. \n",
    "\n",
    "Here we can see that Othello lives up to its label as a tragedy. Near the end of the labeled words there is a steep decline in the sentiment of words used.\n",
    "\n",
    "Let's see if we can see more of a difference between Othello and Iago using the rolling mean:"
   ]
  },
  {
   "cell_type": "code",
   "execution_count": null,
   "metadata": {
    "collapsed": true
   },
   "outputs": [],
   "source": [
    "#Your code here\n"
   ]
  },
  {
   "cell_type": "markdown",
   "metadata": {},
   "source": [
    "Ah! That's actually a much easier way to intuit the dialogue of each individual character!\n",
    "\n",
    "Let's actually compare the dialogue of every character in Othello. "
   ]
  },
  {
   "cell_type": "code",
   "execution_count": null,
   "metadata": {
    "collapsed": true
   },
   "outputs": [],
   "source": [
    "#Your code here\n"
   ]
  },
  {
   "cell_type": "markdown",
   "metadata": {},
   "source": [
    "Well, I guess we can see that a few characters had quite a poor turn near the end there!"
   ]
  },
  {
   "cell_type": "markdown",
   "metadata": {},
   "source": [
    "How well does our technique work with a different Shakespeare play, say \"The Merchant of Venice\".\n",
    "\n",
    "Refactor the original code to extract Othelo and make it pull out the character dialogue of any play."
   ]
  },
  {
   "cell_type": "code",
   "execution_count": null,
   "metadata": {},
   "outputs": [],
   "source": [
    "#Place your code here\n"
   ]
  },
  {
   "cell_type": "code",
   "execution_count": null,
   "metadata": {
    "collapsed": true
   },
   "outputs": [],
   "source": []
  }
 ],
 "metadata": {
  "anaconda-cloud": {},
  "kernelspec": {
   "display_name": "Python 3",
   "language": "python",
   "name": "python3"
  },
  "language_info": {
   "codemirror_mode": {
    "name": "ipython",
    "version": 3
   },
   "file_extension": ".py",
   "mimetype": "text/x-python",
   "name": "python",
   "nbconvert_exporter": "python",
   "pygments_lexer": "ipython3",
   "version": "3.6.4"
  }
 },
 "nbformat": 4,
 "nbformat_minor": 1
}
