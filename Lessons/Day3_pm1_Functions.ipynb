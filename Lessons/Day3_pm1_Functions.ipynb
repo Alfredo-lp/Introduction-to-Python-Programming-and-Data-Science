{
 "metadata": {
  "anaconda-cloud": {},
  "kernelspec": {
   "display_name": "Python [Root]",
   "language": "python",
   "name": "Python [Root]"
  },
  "language_info": {
   "codemirror_mode": {
    "name": "ipython",
    "version": 3
   },
   "file_extension": ".py",
   "mimetype": "text/x-python",
   "name": "python",
   "nbconvert_exporter": "python",
   "pygments_lexer": "ipython3",
   "version": "3.5.1"
  },
  "name": ""
 },
 "nbformat": 3,
 "nbformat_minor": 0,
 "worksheets": [
  {
   "cells": [
    {
     "cell_type": "code",
     "collapsed": false,
     "input": [
      "from IPython.core.display import HTML\n",
      "def css_styling():\n",
      "    styles = open(\"../Data/www/styles/custom.css\", \"r\").read()\n",
      "    return HTML(styles)\n",
      "css_styling()"
     ],
     "language": "python",
     "metadata": {},
     "outputs": []
    },
    {
     "cell_type": "code",
     "collapsed": true,
     "input": [
      "# Write your imports here, so you can easily find and run them\n",
      "\n",
      "import glob\n",
      "import datetime"
     ],
     "language": "python",
     "metadata": {},
     "outputs": []
    },
    {
     "cell_type": "markdown",
     "metadata": {},
     "source": [
      "# Synopsis\n",
      "\n",
      "In this unit we will learn that:\n",
      "\n",
      "1. **Modular** code is more readable, easier to maintain, and less prone to the creeping in of bugs.\n",
      "\n",
      "2. **Re-factoring** of code, that is, the re-writing and re-organizing of code, is a critical part of developing modular code.\n",
      "\n",
      "3. Functions are the underpins of modular code. They enable a programmer to avoid repeating lines of code across a project.\n",
      "\n",
      "    1. Descriptive function names increase code readability.\n",
      "    \n",
      "    2. Appropriate documentation of a function makes it easier to avoid logical errors.\n",
      "    "
     ]
    },
    {
     "cell_type": "markdown",
     "metadata": {},
     "source": [
      "+++"
     ]
    },
    {
     "cell_type": "markdown",
     "metadata": {},
     "source": [
      "# Functions\n",
      "\n",
      "**Writing modular code is good!**\n",
      "\n",
      "**Functions** are the workhorses of modular programming in Python! So, what's a function?\n",
      "\n",
      "You were actually exposed to functions when you filled in your answers to the homework questions **inside** of a function structure. So whenever you see this syntax:\n",
      "\n",
      ">    def function_name():\n",
      ">\n",
      ">        statements\n",
      ">\n",
      ">        return something\n",
      "        \n",
      "that block of code is a function. \n",
      "\n",
      "Functions help us avoid repeating the same set of statements everytime we want to repeat a task. Functions increase code readibility. Functions make code revision and updating easier (you do not have to re-do revisions in all the places of your code where the task is needed. Functions make testing of your code easier and more reliable.\n",
      "\n",
      "In order to execute the code in a function, you use the syntax `function_name()`. If you do not \"call\" your function in your code, then it is never executed.  However, the Python interpreter will still check its code for synthax errors.\n"
     ]
    },
    {
     "cell_type": "code",
     "collapsed": true,
     "input": [
      "# Let's write a really simple function -- a function that \"says hello\".\n",
      "\n",
      "def says_hello():\n",
      "    '''\n",
      "    Prints the word \"Hello\"\n",
      "    \n",
      "    input:\n",
      "        - None\n",
      "    output:\n",
      "        - None\n",
      "    '''\n",
      "    \n",
      "    print('Hello!')"
     ],
     "language": "python",
     "metadata": {},
     "outputs": []
    },
    {
     "cell_type": "markdown",
     "metadata": {},
     "source": [
      "You just wrote a simple function! Notice that after writing it nothing was printed. That is because you didn't *call* the function, You only defined it so Python will know what on earth you're talking about should you so choose to write `says_hello` anywhere.\n",
      "\n",
      "You *call* a function just by writing its name along with the parentheses:"
     ]
    },
    {
     "cell_type": "code",
     "collapsed": false,
     "input": [
      "says_hello()"
     ],
     "language": "python",
     "metadata": {},
     "outputs": []
    },
    {
     "cell_type": "markdown",
     "metadata": {},
     "source": [
      "There you go!\n",
      "\n",
      "Now let's diagram the basic parts of the syntax to give you an idea of what we are dealing with.\n",
      "\n",
      "<img src = '../images/function_annotation.png'></img>\n",
      "\n",
      "Here I allude to function inputs. Functions take in *variables* inside the parentheses. Those variables and variable names are only defined within the function. This creates a **Namespace**.  This compartmentalization of variable names makes it much easier to avoid errors due to using the name of variables defined in other parts of the code about which we may not be aware.\n",
      "\n",
      "You've already been using functions and inputs, you just didn't know it yet. Does that syntax `say_hello()` look familiar to anything that you know?\n",
      "\n",
      "How about:"
     ]
    },
    {
     "cell_type": "code",
     "collapsed": false,
     "input": [
      "print('Hello')"
     ],
     "language": "python",
     "metadata": {},
     "outputs": []
    },
    {
     "cell_type": "markdown",
     "metadata": {},
     "source": [
      "`print` is a **built-in** function. Given whatever input you pass it, the `print()` function prints that input to the screen. What happens if you do not provide an input?"
     ]
    },
    {
     "cell_type": "code",
     "collapsed": false,
     "input": [
      "print()"
     ],
     "language": "python",
     "metadata": {},
     "outputs": []
    },
    {
     "cell_type": "markdown",
     "metadata": {},
     "source": [
      "It printed nothing, as expected.\n",
      "\n",
      "Let's create functions with more exciting transfers of data.  We will first write a `say_anything_twice()` function. It'll take as input a string and multiply it by 2 (have to say it twice!). It will then return that new string as an output. "
     ]
    },
    {
     "cell_type": "code",
     "collapsed": false,
     "input": [
      "def say_anything_twice(anything):\n",
      "    '''\n",
      "    Multiplies a string by 2\n",
      "    \n",
      "    input:\n",
      "        anything - str\n",
      "    output:\n",
      "        anything_twice - str\n",
      "    '''\n",
      "    \n",
      "    anything_twice = anything * 2\n",
      "    return anything_twice"
     ],
     "language": "python",
     "metadata": {},
     "outputs": []
    },
    {
     "cell_type": "code",
     "collapsed": false,
     "input": [
      "print( say_anything_twice('hello') )"
     ],
     "language": "python",
     "metadata": {},
     "outputs": []
    },
    {
     "cell_type": "markdown",
     "metadata": {},
     "source": [
      "**What's actually going on here?** \n",
      "\n",
      "The function took the string 'hello' as an input and assigned it **internally** to the variable `anything`. It then performed an operation on `anything` (in this case it multiplied it by 2) and assigned that value to a new variable called `anything_twice`. Finally, it **returned** `anything_twice`:\n",
      "    \n",
      ">    return anything_twice\n",
      "\n",
      "This statement returns the result of the functions operations to the place in the your code where the functions was called.\n",
      "\n",
      "The beauty of funtions, though not of this particular function which pretty much executes a single statement, is that we can call it on any string input without having to re-write a lot of code."
     ]
    },
    {
     "cell_type": "code",
     "collapsed": false,
     "input": [
      "print( say_anything_twice('hi') )\n",
      "print( say_anything_twice('hi ') )\n",
      "print(say_anything_twice('hello again!'))\n",
      "print(say_anything_twice('goodbye! '))"
     ],
     "language": "python",
     "metadata": {},
     "outputs": []
    },
    {
     "cell_type": "markdown",
     "metadata": {},
     "source": [
      "**Recall that the variables defined inside the function do not exist outside!** If we try to access `anything_twice` we get a `NameError` exception."
     ]
    },
    {
     "cell_type": "code",
     "collapsed": false,
     "input": [
      "anything_twice"
     ],
     "language": "python",
     "metadata": {},
     "outputs": []
    },
    {
     "cell_type": "markdown",
     "metadata": {},
     "source": [
      "This is and amazingly useful properties of Namespaces. We do not need to keep track of what variables are defined within the  functions we call in our code because as soon as the execution of those functions is concluded all variable defined internally to the function will be deleted.  Thus, we do not need to keep inventing new variable names.  \n",
      "\n",
      "### Sidebar: Namespaces\n",
      "\n",
      "Generally speaking, a Namespace (sometimes also called a context) is a naming system for making names unique to avoid ambiguity. A (not very good) namespacing system used in daily life is the naming of people with a firstname and a surname. A much better namespacing system is the  directory structure of file systems. The same file name can be used in different directories, the files can be uniquely accessed via the pathnames. \n",
      "\n",
      "Many programming languages use Namespaces or contexts for identifiers. An identifier defined in a Namespace is associated with that namespace. This way, the same identifier can be independently defined in multiple Namespaces. (Like the same file names in different directories) \n",
      "\n",
      "**Note that in Python we can define variables that are not limited to a given Namespace.  We can define `global` variables, and those variables will be accessible and known across all Namespaces created during the execution of your code.**\n",
      "\n",
      "\n"
     ]
    },
    {
     "cell_type": "code",
     "collapsed": false,
     "input": [
      "special_text = 'This is the best ever '\n",
      "\n",
      "def say_something_special(anything):\n",
      "    '''\n",
      "    Adds a special_text to string\n",
      "\n",
      "    input:\n",
      "        anything - str\n",
      "    output:\n",
      "        anything_twice - str\n",
      "    '''\n",
      "    \n",
      "    output = special_text + anything.upper()\n",
      "    return output"
     ],
     "language": "python",
     "metadata": {},
     "outputs": []
    },
    {
     "cell_type": "code",
     "collapsed": false,
     "input": [
      "say_something_special('hello')"
     ],
     "language": "python",
     "metadata": {},
     "outputs": []
    },
    {
     "cell_type": "markdown",
     "metadata": {},
     "source": [
      "In the above code, we defined a global variable `special_text`, which was accessible inside the function `say_something_special()`. \n",
      "\n",
      "Notice how this is dangerous.  What if somewhere else in the code we change the value of `special_text`? Then things could look very different.\n",
      "\n",
      "Because it may he difficult to keep track of the value of global variables, **it is not a good practice to make use of global veriables in functions**.\n"
     ]
    },
    {
     "cell_type": "code",
     "collapsed": false,
     "input": [
      "special_text = \"This is the WORSE EVER \"\n",
      "say_something_special('hello')"
     ],
     "language": "python",
     "metadata": {},
     "outputs": []
    },
    {
     "cell_type": "markdown",
     "metadata": {},
     "source": [
      "## So how do we use functions?\n",
      "\n",
      "A simple example is one thing, but it can be hard to figure out how we use functions in **real** code. \n",
      "\n",
      "The most powerful away in which functions can be used is as a device to sketch out what our program intends to do. To make this clear, let's go back to your administrative job and work with the `Roster` data.\n",
      "\n",
      "There are 800 student data files in the `Data/Roster` folder that need to be parsed. What we want to accomplish is something like this:\n",
      "\n",
      "    Find all files with student records\n",
      "    For each file repeat the following actions:\n",
      "            parse student record\n",
      "            calculate age of student\n",
      "            \n",
      "Each instruction in the \"code\" above is actually a function that we can write to perform the task described. Our pseudo-code also makes it clear how we could add additional calculations to our program or to take actions based on the values we calculate.\n",
      "\n",
      "Let's consider the first instruction in our pseudo-code: `Find all files with student records`.  If we are writing modular code, we are not writing all the necessary commands in our main program. Instead, we will define and write a function that will fund all student records. Since we want our code to be readable, we will call the function `find_student_records()`."
     ]
    },
    {
     "cell_type": "markdown",
     "metadata": {},
     "source": [
      "### Sketching out a function\n",
      "\n",
      "There are three basic questions that help you sketch a function:\n",
      "\n",
      "* What does this function do?\n",
      "* What inputs does this function need to do that?\n",
      "* What value(s) does the function return?\n",
      "\n",
      "The answers to these questions need to be answered before you start writing any code.  They are also the question that someone planning to use your code later will want answered.  For this reason, This is the information you **must** provide in the function's `docstring`. \n",
      "\n",
      "#### What task is the function accomplishing?\n",
      "\n",
      "The student files in our project are all in a single directory and all end with the `txt` extension.  Thus, we should write a  function that returns all of the filenames with the `txt` extension in a given directory.\n",
      "\n",
      "#### What inputs does the function require?\n",
      "\n",
      "The function needs to be given as input a directory and, if we want to be more general, an extension type.\n",
      "\n",
      "#### How should the information returned be formatted?\n",
      "\n",
      "Our function is collecting the file names of the student records. Our pseudo-code also tells us that we will be iterating through the elements in our collection.  Putting these facts together, it seems pretty clear that a good option for the output of our function is a list of file names in string form .\n",
      "\n",
      "Let's implement these decisions!\n"
     ]
    },
    {
     "cell_type": "code",
     "collapsed": false,
     "input": [
      "def find_student_records(directory):\n",
      "    \"\"\"\n",
      "    Return all roster filenames in directory\n",
      "    \n",
      "    input:\n",
      "        directory - str, Directory that contains the roster files\n",
      "    output:\n",
      "        filenames - list, List of roster filenames in directory\n",
      "    \"\"\"\n",
      "    # Statements here!\n",
      "    \n",
      "    return \n",
      "\n",
      "#assert()"
     ],
     "language": "python",
     "metadata": {},
     "outputs": []
    },
    {
     "cell_type": "markdown",
     "metadata": {},
     "source": [
      "Good! If  we look at our pseudo-code for guidance, we see that we need to write two other functions: `parse_student_record()` and `calculate_age()`.  It is your turn to sketch these functions! "
     ]
    },
    {
     "cell_type": "code",
     "collapsed": false,
     "input": [
      "def parse_student_record( ):\n",
      "    \"\"\"\n",
      "    \n",
      "    \"\"\"\n",
      "    # Statements here!\n",
      "    \n",
      "    return"
     ],
     "language": "python",
     "metadata": {},
     "outputs": []
    },
    {
     "cell_type": "code",
     "collapsed": false,
     "input": [
      "def calculate_age( ):\n",
      "    \"\"\"\n",
      "    \n",
      "    \"\"\"\n",
      "    # Statements here!\n",
      "    \n",
      "    return"
     ],
     "language": "python",
     "metadata": {},
     "outputs": []
    },
    {
     "cell_type": "markdown",
     "metadata": {},
     "source": [
      "A very cool thing is that these sketched functions enable us to write our pseudo-code for real and to run it! Of course the code returns nothing useful but it enables us to test it as we go along. "
     ]
    },
    {
     "cell_type": "code",
     "collapsed": false,
     "input": [
      "filenames = find_student_records('./')\n",
      "\n",
      "for name in filenames:\n",
      "    data = parse_student_record(name)\n",
      "    age = calculate_age(data)\n",
      "    \n"
     ],
     "language": "python",
     "metadata": {},
     "outputs": []
    },
    {
     "cell_type": "markdown",
     "metadata": {},
     "source": [
      "### Adding details to the sketched out function\n",
      "\n",
      "With separate functions, it can be easy to develop and test each one without having to process the entire data set every time. Lets start by finding all the records.\n",
      "\n",
      "A powerful capability of the notebook is that it enables us to write and test a piece of code in a single cell until we are confident that it does what we want. We can then copy that code into the cell where we want to define the function.\n",
      "\n",
      "As before, let's do first things first.  Our first task is to find all student records. As any good programmer, we do not want to re-invent the wheel.  We know that `glob` is great for getting a list of filenames from a directory, so we will use it. "
     ]
    },
    {
     "cell_type": "code",
     "collapsed": false,
     "input": [
      "glob.glob('../Data/Day2-Collections-and-Files/Roster/*.txt')"
     ],
     "language": "python",
     "metadata": {},
     "outputs": []
    },
    {
     "cell_type": "markdown",
     "metadata": {},
     "source": [
      "The command above works fine. However, it is **not general**, and it does not store its output. We want to make inputs and outputs very clear. The **input** is the directory and the **output** must be stored in a list."
     ]
    },
    {
     "cell_type": "code",
     "collapsed": false,
     "input": [
      "directory = '../Data/Day2-Collections-and-Files/Roster'\n",
      "\n",
      "filenames = glob.glob(directory + '/*.txt')\n",
      "\n",
      "filenames[:5]"
     ],
     "language": "python",
     "metadata": {},
     "outputs": []
    },
    {
     "cell_type": "markdown",
     "metadata": {},
     "source": [
      "Now just wrap the code that we've written into a function"
     ]
    },
    {
     "cell_type": "code",
     "collapsed": false,
     "input": [
      "def find_student_records(directory):\n",
      "    \"\"\"\n",
      "    Return all roster filenames in a directory\n",
      "    input:\n",
      "        directory - str, Directory that contains the roster files\n",
      "    output:\n",
      "        filenames - list, List of roster filenames in directory\n",
      "    \"\"\"\n",
      "    # Statements here!\n",
      "    \n",
      "    return filenames"
     ],
     "language": "python",
     "metadata": {},
     "outputs": []
    },
    {
     "cell_type": "markdown",
     "metadata": {},
     "source": [
      "Let's make sure that we get the answer we expect when we run the function using the directory string `../Data/Roster/` as the input."
     ]
    },
    {
     "cell_type": "code",
     "collapsed": false,
     "input": [
      "find_student_records('../Data/Day2-Collections-and-Files/Roster/')[:5]"
     ],
     "language": "python",
     "metadata": {},
     "outputs": []
    },
    {
     "cell_type": "markdown",
     "metadata": {},
     "source": [
      "### Doing it for the other functions now!\n",
      "\n",
      "In order to get the information we need for each student, we need to parse the content of each file.  In order to do this, it is important to recall what the content of the files looks like:\n",
      "\n",
      "\n",
      "    #This is a file that holds important personal information that should not be shared. \n",
      "    #You are being watched.\n",
      "\n",
      "\n",
      "\n",
      "    Name:\tBuzz M. Baker\n",
      "    Date of Birth:\t4/20/87\n",
      "    Email Address:\tbuzz.baker@northwestern.edu\n",
      "    Department:\tEngineering\n",
      "    Height:\t5ft,3in\n",
      "    Weight:\t194lbs\n",
      "    Favorite Color:\tPink\n",
      "    Favorite Animal:\tSnake\n",
      "    Zodiac Sign:\tApril\n"
     ]
    },
    {
     "cell_type": "markdown",
     "metadata": {},
     "source": [
      "As before, we first sketch out the function `parse_student_record()`. We get the `path` for the file from the list `filenames`. We must open the file and read its lines."
     ]
    },
    {
     "cell_type": "code",
     "collapsed": false,
     "input": [
      "path = '../Data/Day2-Collections-and-Files/Roster/Agatha_Bailey_798.txt'\n",
      "\n",
      "# open the file and read the lines\n",
      "# for each line in the file:\n",
      "    # check if the line should be ignored\n",
      "    # else:\n",
      "        # split line\n",
      "        # get field name\n",
      "        # get field value\n",
      "        # store field name and value in 'data holder'\n",
      "\n",
      "        \n",
      "# Check that it does what we want it to do!"
     ],
     "language": "python",
     "metadata": {},
     "outputs": []
    },
    {
     "cell_type": "markdown",
     "metadata": {},
     "source": [
      "Once our code is working and doing what we want it to do, we can incorporate it within the function `parse_student_record()`."
     ]
    },
    {
     "cell_type": "code",
     "collapsed": true,
     "input": [
      "def parse_student_record(filename):\n",
      "    '''\n",
      "    Parses a student record file into a dictionary\n",
      "    input:\n",
      "        filename - str, path to the file\n",
      "    output:\n",
      "        data - dict, student attribute data\n",
      "    '''\n",
      "    # Statements here!\n",
      "    \n",
      "    return data\n"
     ],
     "language": "python",
     "metadata": {},
     "outputs": []
    },
    {
     "cell_type": "code",
     "collapsed": false,
     "input": [
      "parse_student_record('../Data/Day2-Collections-and-Files/Roster/Agatha_Lee_11.txt')"
     ],
     "language": "python",
     "metadata": {},
     "outputs": []
    },
    {
     "cell_type": "code",
     "collapsed": false,
     "input": [
      "parse_student_record('../Data/Day2-Collections-and-Files/Roster/Buzz_Baker_618.txt')"
     ],
     "language": "python",
     "metadata": {},
     "outputs": []
    },
    {
     "cell_type": "markdown",
     "metadata": {},
     "source": [
      "We are getting close. We have two of the three functions that we thought would be needed. We can already put the first two functions together to check things out."
     ]
    },
    {
     "cell_type": "code",
     "collapsed": false,
     "input": [
      "filenames = find_student_records('../Data/Day2-Collections-and-Files/Roster/')\n",
      "a_filename = filenames[0]\n",
      "print( a_filename )\n",
      "parse_student_record(a_filename)"
     ],
     "language": "python",
     "metadata": {},
     "outputs": []
    },
    {
     "cell_type": "markdown",
     "metadata": {},
     "source": [
      "In order to calculate a student's age, we need to take her/his `Date of Birth` from the student's record. A difficulty is that the `Date of Birth` is stored as a `string`.  It would be much better to have a `Date of Birth` organized as a **tuple** with three elements (one's `Date of Birth` does not change, after all). \n",
      "\n",
      "We could write our function `calculate_age()` to take as an input a string, but that would be **bad practice**, since it would not be clear what the right format for the `string` would be be.  It is much better to do the conversion from `string` to `tuple` using a separate function. "
     ]
    },
    {
     "cell_type": "code",
     "collapsed": true,
     "input": [
      "def string2tuple_dob(dob_string):\n",
      "    '''\n",
      "    Takes a date string of \"M/D/YY\" and converts it to a tuple with month, day, and year as integers\n",
      "\n",
      "    input:\n",
      "        * dob_string - str, birthday string of form \"M/D/YY\"\n",
      "    output:\n",
      "        * dob - tuple, (\"month\", \"day\", \"year\")\n",
      "    '''\n",
      "    #Statements\n",
      "    \n",
      "    return dob"
     ],
     "language": "python",
     "metadata": {},
     "outputs": []
    },
    {
     "cell_type": "code",
     "collapsed": false,
     "input": [
      "clean_dob('8/7/1985')"
     ],
     "language": "python",
     "metadata": {},
     "outputs": []
    },
    {
     "cell_type": "markdown",
     "metadata": {},
     "source": [
      "The question now is where should we use that function.  Let's consider our pseudo-code again:\n",
      "\n",
      "    Find all files with student records\n",
      "    For each file repeat the following actions:\n",
      "            parse student record\n",
      "            calculate age of student\n",
      "\n",
      "The logical place to do the conversion from `string` to `tuple` is inside the `parse student record` command.  If we are going to parse the data we should do it right the first time around.  So,let's add the conversion function to the `parse_student_record()` function.\n"
     ]
    },
    {
     "cell_type": "code",
     "collapsed": false,
     "input": [
      "def parse_student_record(filename):\n",
      "    '''\n",
      "    Parses a student record file into a list of tuples\n",
      "    \n",
      "    input:\n",
      "        filename - str, path to the file\n",
      "    output:\n",
      "        data - list of tuples, student attribute data\n",
      "    '''\n",
      "    #Copy our code from above\n",
      "    \n",
      "    if field == 'Date of Birth':\n",
      "        data.append( string2tuple_dob( value ) ) \n",
      "    \n",
      "    return data"
     ],
     "language": "python",
     "metadata": {},
     "outputs": []
    },
    {
     "cell_type": "markdown",
     "metadata": {},
     "source": [
      "We can now take the code you originally wrote to calculate someone's age from the `File IO` notebook and turn it into a function."
     ]
    },
    {
     "cell_type": "code",
     "collapsed": true,
     "input": [
      "def calculate_age( ):\n",
      "    \"\"\"\n",
      "    \n",
      "    \"\"\"\n",
      "    \n",
      "    # Statements\n",
      "    \n",
      "    return"
     ],
     "language": "python",
     "metadata": {},
     "outputs": []
    },
    {
     "cell_type": "code",
     "collapsed": false,
     "input": [
      "#Input is Month, Day, Year\n",
      "calculate_age(3, 7, 1986)"
     ],
     "language": "python",
     "metadata": {},
     "outputs": []
    },
    {
     "cell_type": "code",
     "collapsed": false,
     "input": [
      "buzz_baker = parse_student_record('../Data/Day2-Collections-and-Files/Roster/Buzz_Baker_618.txt')\n",
      "\n",
      "for field, value in buzz_baker:\n",
      "    if field == 'Date of Birth':\n",
      "        #Check to make sure that the month is correct\n",
      "        if value[0] == 4:\n",
      "            print(\"Success! You are a rock star!\")"
     ],
     "language": "python",
     "metadata": {},
     "outputs": []
    },
    {
     "cell_type": "markdown",
     "metadata": {},
     "source": [
      "+++"
     ]
    },
    {
     "cell_type": "markdown",
     "metadata": {},
     "source": [
      "# Exercises\n",
      "\n",
      "Find the number of students born in 1975:"
     ]
    },
    {
     "cell_type": "code",
     "collapsed": false,
     "input": [
      "#This is your list of people born in 1975\n",
      "born_in_1975 = []\n",
      "\n",
      "#This is your file location\n",
      "data_dir = '../Data/Day2-Collections-and-Files/Roster'\n",
      "\n",
      "#First you need to get all of the student files\n",
      "data_files = find_student_records(data_dir)\n",
      "\n",
      "#Now go through each file\n",
      "for filename in data_files:\n",
      "    #First we parse the student record into the dictionary\n",
      "    data = parse_student_record(filename)\n",
      "    \n",
      "    #Now what field will let us check if a person is born in 1975?\n",
      "    if ________ == 1975:\n",
      "        #If you want to keep track of a person in 1975\n",
      "        #You should keep track of it outside of this for loop\n",
      "        #Remember that we lose anything inside the for loop once the loop finishes\n",
      "        #So where could you possibly store someone's data that is born in 1975...\n",
      "        #hmmm....................\n",
      "        \n",
      "#Now I want to know the number of people born in 1975\n",
      "#What was that number\n",
      "        "
     ],
     "language": "python",
     "metadata": {},
     "outputs": []
    },
    {
     "cell_type": "markdown",
     "metadata": {},
     "source": [
      "Excellent! But how many of those people born in 1975 were also born in March?"
     ]
    },
    {
     "cell_type": "code",
     "collapsed": false,
     "input": [
      "born_in_march = []\n",
      "#I'll help you out here, you should iterate through the list of people born in 1975\n",
      "for person in born_in_1975:\n",
      "    #I'll let you figure out this part here\n",
      "    \n",
      "#Don't forget to tell me your answer!!!!\n",
      "len(born_in_march)"
     ],
     "language": "python",
     "metadata": {},
     "outputs": []
    }
   ],
   "metadata": {}
  }
 ]
}