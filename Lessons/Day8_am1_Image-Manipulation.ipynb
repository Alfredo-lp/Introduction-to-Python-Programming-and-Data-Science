{
 "cells": [
  {
   "cell_type": "code",
   "execution_count": 3,
   "metadata": {
    "collapsed": false
   },
   "outputs": [
    {
     "data": {
      "text/html": [
       "<style>\n",
       "    @font-face {\n",
       "        font-family: \"Computer Modern\";\n",
       "        src: url('http://9dbb143991406a7c655e-aa5fcb0a5a4ec34cff238a2d56ca4144.r56.cf5.rackcdn.com/cmunss.otf');\n",
       "    }\n",
       "    @font-face {\n",
       "        font-family: \"Computer Modern\";\n",
       "        font-weight: bold;\n",
       "        src: url('http://9dbb143991406a7c655e-aa5fcb0a5a4ec34cff238a2d56ca4144.r56.cf5.rackcdn.com/cmunsx.otf');\n",
       "    }\n",
       "    @font-face {\n",
       "        font-family: \"Computer Modern\";\n",
       "        font-style: oblique;\n",
       "        src: url('http://9dbb143991406a7c655e-aa5fcb0a5a4ec34cff238a2d56ca4144.r56.cf5.rackcdn.com/cmunsi.otf');\n",
       "    }\n",
       "    @font-face {\n",
       "        font-family: \"Computer Modern\";\n",
       "        font-weight: bold;\n",
       "        font-style: oblique;\n",
       "        src: url('http://9dbb143991406a7c655e-aa5fcb0a5a4ec34cff238a2d56ca4144.r56.cf5.rackcdn.com/cmunso.otf');\n",
       "    }\n",
       "    h1 {\n",
       "        font-family: Helvetica, serif;\n",
       "    }\n",
       "    h4{\n",
       "        margin-top:12px;\n",
       "        margin-bottom: 3px;\n",
       "       }\n",
       "    div.text_cell_render{\n",
       "        font-family: Computer Modern, \"Helvetica Neue\", Arial, Helvetica, Geneva, sans-serif;\n",
       "        line-height: 145%;\n",
       "        font-size: 130%;\n",
       "        margin-left:auto;\n",
       "        margin-right:auto;\n",
       "    }\n",
       "    .CodeMirror{\n",
       "            font-family: \"Source Code Pro\", source-code-pro,Consolas, monospace;\n",
       "    }\n",
       "    .text_cell_render h5 {\n",
       "        font-weight: 300;\n",
       "        font-size: 22pt;\n",
       "        color: #4057A1;\n",
       "        font-style: italic;\n",
       "        margin-bottom: .5em;\n",
       "        margin-top: 0.5em;\n",
       "        display: block;\n",
       "    }\n",
       "    \n",
       "    .warning{\n",
       "        color: rgb( 240, 20, 20 )\n",
       "        }  \n",
       "</style>\n",
       "<script>\n",
       "    MathJax.Hub.Config({\n",
       "                        TeX: {\n",
       "                           extensions: [\"AMSmath.js\"]\n",
       "                           },\n",
       "                tex2jax: {\n",
       "                    inlineMath: [ ['$','$'], [\"\\\\(\",\"\\\\)\"] ],\n",
       "                    displayMath: [ ['$$','$$'], [\"\\\\[\",\"\\\\]\"] ]\n",
       "                },\n",
       "                displayAlign: 'center', // Change this to 'center' to center equations.\n",
       "                \"HTML-CSS\": {\n",
       "                    styles: {'.MathJax_Display': {\"margin\": 4}}\n",
       "                }\n",
       "        });\n",
       "</script>\n"
      ],
      "text/plain": [
       "<IPython.core.display.HTML object>"
      ]
     },
     "execution_count": 3,
     "metadata": {},
     "output_type": "execute_result"
    }
   ],
   "source": [
    "from IPython.core.display import HTML\n",
    "\n",
    "def css_styling():\n",
    "    styles = open(\"../Data/www/styles/custom.css\", \"r\").read()\n",
    "    return HTML(styles)\n",
    "css_styling()"
   ]
  },
  {
   "cell_type": "markdown",
   "metadata": {},
   "source": [
    "# Image manipulation\n",
    "\n",
    "There is an extensive amount of data that is stored in images and is available for analysis. On the web, images are everywhere and being able to algorithmically filter them (say for a search engine or to identify infringement) is an essential task. Scientifically, many studies rely on visual images to ascertain the presence or absence of some behavior (remember, a video is really just a series of images in time!).\n",
    "\n",
    "To start we're going to work on the basics of what an image is, how to read it into code, and how to manipulate it in Python.\n",
    "\n",
    "# What is an image?\n",
    "\n",
    "Seems like a silly question, right? When you open an image on your computer, you simply see an image. But if I inspect the file with the terminal, I actually get something like this:\n",
    "    \n",
    "    head -n10 ../Data/Picasso/1907-Self-Portrait.-13.jpg\n",
    "    \n",
    "    ����\u0010JFIF\u0001\u0001\u0001\u0001��;CREATOR: gd-jpeg v1.0 (using IJG JPEG v62), quality = 80\n",
    "    ��C\u0006\u0004\u0005\u0006\u0005\u0004\u0006\u0006\u0005\u0006\u0007\u0007\u0006\b\n",
    "    \u0010\n",
    "    �B�ݲj\"\u0015ݽKj��.\\�k�9�\u0014�9!#�\u0013�I\u0011�#���D��pBG'���\u0018Չ�I\u0019>!\f",
    "�!\u0007�DKc�p�v��I\u0007�2\\&�i��%���H2\f",
    "dۑi�\u0012��'�ی���\to0=Ndc]\u0014�ӑ�\u001b��E��\u0004���n6��%�3���oL��&��?.���x\f",
    "\u001c",
    "u\u0006Dd���\u0006��0�\u001c",
    "c\u001e",
    "�,}Z�ݛ\u00018�7�2H2\u001c",
    "�i�*d\u0019\tldC,c$c'Ӎ_{��Be�.\tpr\u0010���Ɔ�!�\t�p�r�/�D\u0005,�5\t\n",
    "What we see here is that the image file is still stored as textual data - just like everythign else. At the start of the file it says what the image file type is, how it was compressed, and the general quality of it. These are the pieces of information that another program needs to know in order to render the image from this string data. After that it's the actual image information that's stored with some symbols that we can see with ASCII and others that we would need unicode enabled to see. \n",
    "\n",
    "Fortunately, we don't have to learn how image information is stored since there is a simple function within `pylab` that will read an image for us. "
   ]
  },
  {
   "cell_type": "code",
   "execution_count": 1,
   "metadata": {
    "collapsed": true
   },
   "outputs": [],
   "source": [
    "%matplotlib inline\n",
    "import pandas as pd\n",
    "import numpy as np\n",
    "import matplotlib as mpl\n",
    "import matplotlib.pyplot as plt\n",
    "import matplotlib.cm as cm\n",
    "import glob\n",
    "import math\n",
    "from pylab import imread"
   ]
  },
  {
   "cell_type": "code",
   "execution_count": 2,
   "metadata": {
    "collapsed": false
   },
   "outputs": [
    {
     "data": {
      "text/plain": [
       "array([[[151,  74,   6],\n",
       "        [169,  92,  24],\n",
       "        [183, 106,  38],\n",
       "        ..., \n",
       "        [161, 119,   0],\n",
       "        [162, 127,   1],\n",
       "        [255, 229,  96]],\n",
       "\n",
       "       [[176,  99,  31],\n",
       "        [177, 100,  32],\n",
       "        [177, 100,  32],\n",
       "        ..., \n",
       "        [164, 120,   0],\n",
       "        [163, 125,   0],\n",
       "        [255, 228,  95]],\n",
       "\n",
       "       [[187, 110,  42],\n",
       "        [174,  97,  29],\n",
       "        [167,  90,  22],\n",
       "        ..., \n",
       "        [168, 119,   0],\n",
       "        [164, 123,   0],\n",
       "        [255, 225,  94]],\n",
       "\n",
       "       ..., \n",
       "       [[176, 169, 140],\n",
       "        [174, 167, 138],\n",
       "        [176, 169, 140],\n",
       "        ..., \n",
       "        [158, 158, 150],\n",
       "        [159, 159, 151],\n",
       "        [248, 248, 240]],\n",
       "\n",
       "       [[166, 161, 132],\n",
       "        [165, 160, 131],\n",
       "        [167, 162, 133],\n",
       "        ..., \n",
       "        [198, 198, 190],\n",
       "        [178, 178, 170],\n",
       "        [255, 255, 247]],\n",
       "\n",
       "       [[163, 159, 132],\n",
       "        [161, 157, 130],\n",
       "        [163, 159, 132],\n",
       "        ..., \n",
       "        [194, 194, 184],\n",
       "        [166, 166, 156],\n",
       "        [239, 239, 229]]], dtype=uint8)"
      ]
     },
     "execution_count": 2,
     "metadata": {},
     "output_type": "execute_result"
    }
   ],
   "source": [
    "picasso_img = imread('../Data/Picasso/1907-Self-Portrait.-13.jpg')\n",
    "picasso_img"
   ]
  },
  {
   "cell_type": "markdown",
   "metadata": {},
   "source": [
    "## Images are actually arrays (to the computer)!\n",
    "\n",
    "An image is actually just an array once it's been decompressed. The digital image is essentially a 2-dimensional grid of values, where each element in this matrix corresponds to a pixel (so the larger the number of megapixels for your camera, the bigger the grid!). \n",
    "\n",
    "Digital images consist of a values that are interpreted by the computer to color a grid of pixels.\n",
    "This is one of the ways we can load images into python."
   ]
  },
  {
   "cell_type": "code",
   "execution_count": null,
   "metadata": {
    "collapsed": false
   },
   "outputs": [],
   "source": [
    "#imread loads the image\n",
    "\n",
    "picasso_img = imread('../Data/Picasso/1907-Self-Portrait.-13.jpg')\n",
    "\n",
    "# imshow is a matplotlib command used to draw images.\n",
    "plt.imshow(picasso_img)\n",
    "plt.show()"
   ]
  },
  {
   "cell_type": "markdown",
   "metadata": {},
   "source": [
    "Lets examine the image object, not as matplotlib displays it, but how the python code looks at it."
   ]
  },
  {
   "cell_type": "code",
   "execution_count": null,
   "metadata": {
    "collapsed": false
   },
   "outputs": [],
   "source": [
    "print('type is:', type(picasso_img))\n",
    "print()\n",
    "print(picasso_img)"
   ]
  },
  {
   "cell_type": "markdown",
   "metadata": {},
   "source": [
    "Numpy is a python package that is ubiquitous in python's scientific, machine learning, and numerical code because it provides a way to store and manipulate large amounts of numerical data very quickly."
   ]
  },
  {
   "cell_type": "markdown",
   "metadata": {},
   "source": [
    "## Numpy Arrays are useful for calculations"
   ]
  },
  {
   "cell_type": "markdown",
   "metadata": {},
   "source": [
    "You can make your own numpy arrays by putting a list (or list of lists) into the numpy.array function."
   ]
  },
  {
   "cell_type": "code",
   "execution_count": null,
   "metadata": {
    "collapsed": true
   },
   "outputs": [],
   "source": [
    "odds = [1, 3, 5, 7, 9, 11, 13, 15]\n",
    "odds = np.array(odds)\n",
    "# evens = ?"
   ]
  },
  {
   "cell_type": "markdown",
   "metadata": {},
   "source": [
    "when math is done on an array it happens to the entire array at once rather than to each element"
   ]
  },
  {
   "cell_type": "code",
   "execution_count": null,
   "metadata": {
    "collapsed": false
   },
   "outputs": [],
   "source": [
    "# Numpy\n",
    "evens = odds + 1\n",
    "other_evens = 2 * odds\n",
    "\n",
    "print(evens)\n",
    "print(other_evens)"
   ]
  },
  {
   "cell_type": "markdown",
   "metadata": {},
   "source": [
    "We have a whole extra notebook on [Numpy](../Additional-Modules/Numpy.ipynb). In this notebook you can even learn how to program [Conway's Game of Life](https://en.wikipedia.org/wiki/Conway%27s_Game_of_Life)!"
   ]
  },
  {
   "cell_type": "markdown",
   "metadata": {},
   "source": [
    "## Lets examine the image array a bit more\n",
    "\n",
    "Numpy arrays have a large collection of built in methods\n",
    "and two main attributes: shape and dtype."
   ]
  },
  {
   "cell_type": "code",
   "execution_count": null,
   "metadata": {
    "collapsed": false
   },
   "outputs": [],
   "source": [
    "picasso_img.min()\n",
    "#picasso_img.max()"
   ]
  },
  {
   "cell_type": "code",
   "execution_count": null,
   "metadata": {
    "collapsed": true
   },
   "outputs": [],
   "source": [
    "# Numpy array has built in attributes"
   ]
  },
  {
   "cell_type": "code",
   "execution_count": null,
   "metadata": {
    "collapsed": false
   },
   "outputs": [],
   "source": [
    "#picasso_img.dtype\n",
    "picasso_img.shape"
   ]
  },
  {
   "cell_type": "markdown",
   "metadata": {},
   "source": [
    "## RGB Color Explanation\n",
    "\n",
    "[RGB](https://en.wikipedia.org/wiki/RGB_color_model)\n",
    "color wheel. tricks for storing colors in a computer."
   ]
  },
  {
   "cell_type": "code",
   "execution_count": null,
   "metadata": {
    "collapsed": false,
    "scrolled": false
   },
   "outputs": [],
   "source": [
    "musicians = imread('../Data/Picasso/1921-Three_Musicians.-25.jpg')\n",
    "\n",
    "print('split representation:')\n",
    "\n",
    "fig, ax = plt.subplots(nrows=1, ncols=3)\n",
    "cmaps = [cm.Reds, cm.Greens, cm.Blues]\n",
    "labels = ['red', 'green', 'blue']\n",
    "\n",
    "for i in range(3):\n",
    "    ax[i].imshow(musicians[:,:,i], cmap=cmaps[i])\n",
    "    ax[i].set_title(labels[i])\n",
    "    \n",
    "plt.tight_layout()\n",
    "plt.show()\n",
    "\n",
    "print('combined representation:')\n",
    "plt.imshow(musicians)\n",
    "plt.show()"
   ]
  },
  {
   "cell_type": "code",
   "execution_count": null,
   "metadata": {
    "collapsed": false
   },
   "outputs": [],
   "source": [
    "# this code creates a patch of color with the specified r, g, b values\n",
    "r = 50\n",
    "g = 0\n",
    "b = 0\n",
    "\n",
    "color_patch = np.ones(shape=(300, 300, 3)) # make a 3D numpy array filled with ones\n",
    "color_patch[:,:,0] *= r   # red\n",
    "color_patch[:,:,1] *= g   # green\n",
    "color_patch[:,:,2] *= b   # blue\n",
    "\n",
    "plt.imshow(color_patch) # show color\n",
    "plt.show()"
   ]
  },
  {
   "cell_type": "markdown",
   "metadata": {},
   "source": [
    "### Exercise"
   ]
  },
  {
   "cell_type": "code",
   "execution_count": null,
   "metadata": {
    "collapsed": false
   },
   "outputs": [],
   "source": [
    "#By modifying this code\n",
    "\n",
    "r = 500\n",
    "g = 0\n",
    "b = 0\n",
    "\n",
    "color_patch = np.ones(shape=(300, 300, 3)) # make a 3D numpy array filled with ones\n",
    "color_patch[:,:,0] *= r   # red\n",
    "color_patch[:,:,1] *= g   # green\n",
    "color_patch[:,:,2] *= b   # blue\n",
    "\n",
    "plt.imshow(color_patch) # show color\n",
    "plt.show()\n",
    "\n",
    "#1. find r,g,b values that will give you yellow\n",
    "\n",
    "#2. find r,g,b values that will give you black\n",
    "\n",
    "#3. find r,g,b values that will give you purple"
   ]
  },
  {
   "cell_type": "markdown",
   "metadata": {},
   "source": [
    "## Array Dimensions\n",
    "\n",
    "\n",
    "A numpy array has anywhere between 1 and N dimensions.\n",
    "\n",
    "Black and white images have 2 dimensions. Colored images have 3: X, Y, Color(red, green, blue).\n",
    "\n",
    "You can tell how many dimensions your data has by looking at the array's shape attribute"
   ]
  },
  {
   "cell_type": "code",
   "execution_count": null,
   "metadata": {
    "collapsed": false
   },
   "outputs": [],
   "source": [
    "picasso_img.shape"
   ]
  },
  {
   "cell_type": "markdown",
   "metadata": {},
   "source": [
    "You can pull out the address of any value by putting in three coordinates."
   ]
  },
  {
   "cell_type": "code",
   "execution_count": null,
   "metadata": {
    "collapsed": false
   },
   "outputs": [],
   "source": [
    "picasso_img[0, 10, 1]"
   ]
  },
  {
   "cell_type": "markdown",
   "metadata": {},
   "source": [
    "### Exercise:\n",
    "\n",
    "Using the picasso_img array, what are the largest/smallest values you can enter as an 'address' without getting an error? \n",
    "\n",
    "(change around the numbers and see what happens)"
   ]
  },
  {
   "cell_type": "code",
   "execution_count": null,
   "metadata": {
    "collapsed": false
   },
   "outputs": [],
   "source": [
    "picasso_img[0, 27, 2]"
   ]
  },
  {
   "cell_type": "markdown",
   "metadata": {},
   "source": [
    "## Slicing an Array"
   ]
  },
  {
   "cell_type": "raw",
   "metadata": {},
   "source": [
    "1-Dimensional Data:\n",
    "\n",
    "a[i] # the value stored at i\n",
    "\n",
    "a[start:end] # items start through end-1\n",
    "a[start:]    # items start through the rest of the array\n",
    "a[:end]      # items from the beginning through end-1\n",
    "a[:]         # a copy of the whole array\n",
    "\n",
    "a[::step]\n",
    "a[::1]       # the default. show every element one at a time\n",
    "a[::-1]      # reverse. show every element one at a time in reverse order.\n",
    "a[::2]       # a copy of every other element in the array"
   ]
  },
  {
   "cell_type": "code",
   "execution_count": null,
   "metadata": {
    "collapsed": false
   },
   "outputs": [],
   "source": [
    "a = np.arange(21, 29)\n",
    "\n",
    "print('full array:')\n",
    "print(a)\n",
    "\n",
    "print()\n",
    "\n",
    "print('array slice:')\n",
    "print(a[::2])"
   ]
  },
  {
   "cell_type": "markdown",
   "metadata": {},
   "source": [
    "### Exercises"
   ]
  },
  {
   "cell_type": "code",
   "execution_count": null,
   "metadata": {
    "collapsed": false
   },
   "outputs": [],
   "source": [
    "a = np.array(['hey', 'you', 'guys', '!'])\n",
    "\n",
    "# 1. grab just the word 'you'\n",
    "\n",
    "\n",
    "# write code here"
   ]
  },
  {
   "cell_type": "code",
   "execution_count": null,
   "metadata": {
    "collapsed": true
   },
   "outputs": [],
   "source": [
    "# 2. make an array with just ['you', 'guys', '!']\n",
    "\n",
    "# write code here"
   ]
  },
  {
   "cell_type": "code",
   "execution_count": null,
   "metadata": {
    "collapsed": true
   },
   "outputs": [],
   "source": [
    "# 3. create an array with the reverse order\n",
    "\n",
    "# write code here"
   ]
  },
  {
   "cell_type": "markdown",
   "metadata": {},
   "source": [
    "### Slicing N-Dimensional Data:"
   ]
  },
  {
   "cell_type": "raw",
   "metadata": {},
   "source": [
    "a[row, column, ... ] # the value/array stored at row, column\n",
    "\n",
    "a[row_start: row_end, column_start: column_end, ...] # all values between row_start and row_end\n",
    "                                                     # and column_start and column_end\n",
    "    \n",
    "a[::, ::2, ...] # the full array with every other column\n",
    "\n",
    "\n",
    "use ':' or '::' as placeholders when you are not modifying a dimension\n",
    "a[:, 0] or a[::, 0] leave the first dimension intact and take the first element of the second dimension."
   ]
  },
  {
   "cell_type": "code",
   "execution_count": null,
   "metadata": {
    "collapsed": false
   },
   "outputs": [],
   "source": [
    "array_slice = picasso_img[50:200]\n",
    "\n",
    "print('original shape:', picasso_img.shape)\n",
    "print('slice shape:', array_slice.shape)\n",
    "plt.imshow(array_slice)\n",
    "plt.show()\n",
    "\n",
    "# array_slice = picasso_img[:, 300:500]\n",
    "# print('origional shape:', picasso_img.shape)\n",
    "# print('slice shape:', array_slice.shape)\n",
    "# plt.imshow(array_slice)\n",
    "# plt.show()"
   ]
  },
  {
   "cell_type": "markdown",
   "metadata": {},
   "source": [
    "We can also slice off a lower dimensional portion of the array."
   ]
  },
  {
   "cell_type": "code",
   "execution_count": null,
   "metadata": {
    "collapsed": false
   },
   "outputs": [],
   "source": [
    "array_slice = picasso_img[0]\n",
    "#array_slice = picasso_img[:, 0]\n",
    "#array_slice = picasso_img[:,:, 0]\n",
    "\n",
    "print(array_slice)\n",
    "print('shape:', array_slice.shape)\n",
    "plt.imshow(array_slice, cmap='Greys')\n",
    "plt.show()"
   ]
  },
  {
   "cell_type": "markdown",
   "metadata": {},
   "source": [
    "We can use slicing in order to change some portion of the data"
   ]
  },
  {
   "cell_type": "code",
   "execution_count": null,
   "metadata": {
    "collapsed": false
   },
   "outputs": [],
   "source": [
    "print('no red')\n",
    "no_red = imread('../Data/Picasso/1921-Three_Musicians.-25.jpg')\n",
    "no_red[:,:,0] = 0           # set the entire red part of the array to 0\n",
    "plt.imshow(no_red)\n",
    "plt.show()\n",
    "\n",
    "print('no green')\n",
    "no_green = imread('../Data/Picasso/1921-Three_Musicians.-25.jpg')\n",
    "no_green[:,:,1] = 0          # set the entire green part of the array to 0\n",
    "plt.imshow(no_green)\n",
    "plt.show()\n",
    "\n",
    "print('no blue')\n",
    "no_blue = imread('../Data/Picasso/1921-Three_Musicians.-25.jpg')\n",
    "no_blue[:,:,2] = 0       # set the entire blue part of the array to 0\n",
    "plt.imshow(no_blue)\n",
    "plt.show()"
   ]
  },
  {
   "cell_type": "markdown",
   "metadata": {},
   "source": [
    "### Exercises"
   ]
  },
  {
   "cell_type": "code",
   "execution_count": null,
   "metadata": {
    "collapsed": false
   },
   "outputs": [],
   "source": [
    "#Q1. reverse the x axis on the image\n",
    "\n",
    "flipped_image = imread('../Data/Picasso/1905-Harlequin_Sitting_on_a_Red__Couch.-12.jpg')\n",
    "\n",
    "\n",
    "# add code here\n",
    "# flipped_image = flipped_image\n",
    "# \n",
    "\n",
    "plt.imshow(flipped_image)\n",
    "plt.show()"
   ]
  },
  {
   "cell_type": "code",
   "execution_count": null,
   "metadata": {
    "collapsed": false
   },
   "outputs": [],
   "source": [
    "#Q2. make an image with only the rightmost muscician\n",
    "# (ie. slice the x and y axis so other musicians are cropped out)\n",
    "\n",
    "just_bearded_guy = imread('../Data/Picasso/1921-Three_Musicians.-25.jpg')\n",
    "\n",
    "# add code here\n",
    "# just_bearded_guy = just_bearded_guy\n",
    "\n",
    "plt.imshow(just_bearded_guy)\n",
    "plt.show()"
   ]
  },
  {
   "cell_type": "code",
   "execution_count": null,
   "metadata": {
    "collapsed": false
   },
   "outputs": [],
   "source": [
    "#Q3. reverse the order of colors so they go: 'Blue', 'Green', 'red'\n",
    "\n",
    "recolored_painting = imread( '../Data/Picasso/1900-A_Spanish_Couple_in_front_of_an_Inn.-34.jpg')\n",
    "\n",
    "# add code here\n",
    "# recolored_painting = recolored_painting\n",
    "\n",
    "plt.imshow(recolored_painting)\n",
    "plt.show()"
   ]
  },
  {
   "cell_type": "code",
   "execution_count": null,
   "metadata": {
    "collapsed": false
   },
   "outputs": [],
   "source": [
    "#Q4. shrink the size of the image so it is 1/2 of origional size\n",
    "\n",
    "shrunken_image = imread('../Data/Picasso/1903-The_Old_Guitarist.-7.jpg')\n",
    "\n",
    "# add code here\n",
    "# shrunken_image = shrunken_image\n",
    "\n",
    "plt.imshow(shrunken_image)\n",
    "plt.show()"
   ]
  },
  {
   "cell_type": "markdown",
   "metadata": {},
   "source": [
    "# Array Methods"
   ]
  },
  {
   "cell_type": "markdown",
   "metadata": {},
   "source": [
    "## Column and Row operations\n",
    "\n",
    "Many NumPy functions (especially summary statistics) allow you to specify if the operation should be performed on the rows or columns with the `axis` keyword.\n",
    "\n",
    "Some functions like [`np.concatenate()`](http://docs.scipy.org/doc/numpy/reference/generated/numpy.concatenate.html) allow you to make new arrays by sticking existing arrays together"
   ]
  },
  {
   "cell_type": "raw",
   "metadata": {},
   "source": [
    "axis=0 --- columns\n",
    "axis=1 --- rows\n",
    "axis=2 --- depth\n",
    "...\n",
    "however many dimensions your array has"
   ]
  },
  {
   "cell_type": "code",
   "execution_count": null,
   "metadata": {
    "collapsed": false
   },
   "outputs": [],
   "source": [
    "a = np.array([[19.72, 20.34], \n",
    "              [21.30, 17.26]])\n",
    "\n",
    "\n",
    "\n",
    "print(a)\n",
    "print('\\nmean, no axis specified')\n",
    "print(a.mean())\n",
    "\n",
    "print('\\nmean, axis 0')\n",
    "print(a.mean(axis=0))\n",
    "\n",
    "print('\\nmean, axis 1')\n",
    "print(a.mean(axis=1))"
   ]
  },
  {
   "cell_type": "markdown",
   "metadata": {},
   "source": [
    "we can use this to pull out color profiles x,y for different images."
   ]
  },
  {
   "cell_type": "markdown",
   "metadata": {},
   "source": [
    "### Using Column and Row operations on our images"
   ]
  },
  {
   "cell_type": "code",
   "execution_count": null,
   "metadata": {
    "collapsed": false
   },
   "outputs": [],
   "source": [
    "music = imread('../Data/Picasso/1903-The_Old_Guitarist.-7.jpg')\n",
    "plt.imshow(music)\n",
    "plt.show()\n",
    "# http://localhost:8888/notebooks/Projects/Image-Analysis.ipynb#\n",
    "colors = ['r', 'g', 'b']\n",
    "fig, ax = plt.subplots(figsize=(5,3))\n",
    "for i in range(3):\n",
    "    ax.plot(music.mean(axis=0)[:, i], color=colors[i])\n",
    "    ax.set_xlim([0, 500])\n",
    "plt.show()\n",
    "\n",
    "\n",
    "fig, ax = plt.subplots(figsize=(3, 5))\n",
    "for i in range(3):\n",
    "    ax.plot( music.mean(axis=1)[:, i],np.arange(len(music))[::-1], color=colors[i])\n",
    "    ax.set_xlim([0, 180])\n",
    "\n",
    "plt.show()"
   ]
  },
  {
   "cell_type": "markdown",
   "metadata": {},
   "source": [
    "# The Full Dataset\n",
    "\n",
    "The Picasso directory in `../Data` contains a number of Picasso images"
   ]
  },
  {
   "cell_type": "code",
   "execution_count": null,
   "metadata": {
    "collapsed": false
   },
   "outputs": [],
   "source": [
    "ls ../Data/"
   ]
  },
  {
   "cell_type": "markdown",
   "metadata": {},
   "source": [
    "We can `glob` all the images and store them in a list"
   ]
  },
  {
   "cell_type": "code",
   "execution_count": null,
   "metadata": {
    "collapsed": false
   },
   "outputs": [],
   "source": [
    "images = list(glob.glob('../Data/Picasso/*.jpg'))\n",
    "images[:20]"
   ]
  },
  {
   "cell_type": "markdown",
   "metadata": {},
   "source": [
    "Names are formatted like this:\n",
    "[year]-[painting name]-[random number].jpg"
   ]
  },
  {
   "cell_type": "markdown",
   "metadata": {},
   "source": [
    "## plotting Picasso's color usage over time"
   ]
  },
  {
   "cell_type": "markdown",
   "metadata": {},
   "source": [
    "Lets pull out the year from the image name and the average amount of Red, Green, and Blue.\n",
    "These numbers we can store in lists."
   ]
  },
  {
   "cell_type": "code",
   "execution_count": null,
   "metadata": {
    "collapsed": false
   },
   "outputs": [],
   "source": [
    "reds = []\n",
    "greens = []\n",
    "blues = []\n",
    "years = []\n",
    "\n",
    "import re\n",
    "\n",
    "def get_year(path):\n",
    "    match = re.search(r\"\"\"  # lets search in the string for something that...\n",
    "            (/|\\\\)          # starts with a slash or backslash\n",
    "            (?P<year>       # now lets call this group (stuff in parenthesis) \"year\"\n",
    "                1               # starts with a \"1\"\n",
    "                [0-9]{3}        # followed by a 0-9, 3 times\n",
    "            )               # (end group)\n",
    "            -               # ...after which is a dash\n",
    "            \"\"\", path, flags=re.VERBOSE)\n",
    "    \n",
    "    year = match.groupdict()['year']\n",
    "    return int(year)\n",
    "\n",
    "for img_path in images:\n",
    "    y = get_year(img_path)\n",
    "    \n",
    "    if not y:\n",
    "        print(y)\n",
    "        continue\n",
    "        \n",
    "    img = imread(img_path)\n",
    "    r = img[:,:,0].mean()\n",
    "    g = img[:,:,1].mean()\n",
    "    b = img[:,:,2].mean()\n",
    "    \n",
    "    reds.append(r)\n",
    "    blues.append(b)\n",
    "    greens.append(g)\n",
    "    years.append(int(y))\n",
    "#     means.append(img.mean)"
   ]
  },
  {
   "cell_type": "markdown",
   "metadata": {},
   "source": [
    "Now we'll make three plots showing how the average color changes over time."
   ]
  },
  {
   "cell_type": "code",
   "execution_count": null,
   "metadata": {
    "collapsed": false
   },
   "outputs": [],
   "source": [
    "fig, ax = plt.subplots(figsize=(12, 3))\n",
    "ax.plot(years, np.array(reds), '.', color='r')\n",
    "ax.set_ylabel('average Red usage')\n",
    "ax.set_xlabel('Year')\n",
    "plt.show()\n",
    "\n",
    "\n",
    "fig, ax = plt.subplots(figsize=(12, 3))\n",
    "ax.plot(years, np.array(greens), '.', color='g')\n",
    "ax.set_ylabel('average Green usage')\n",
    "ax.set_xlabel('Year')\n",
    "plt.show()\n",
    "\n",
    "fig, ax = plt.subplots(figsize=(12, 3))\n",
    "ax.plot(years, blues, '.', color='b')\n",
    "ax.set_ylabel('average Blue usage')\n",
    "ax.set_xlabel('Year')\n",
    "plt.show()"
   ]
  },
  {
   "cell_type": "markdown",
   "metadata": {},
   "source": [
    "## picking out Picasso's Blue Period (1901-1904)\n",
    "\n",
    "Although Picasso has a number of images that are refered to as his 'Blue Period', it's not immediatly obvious\n",
    "from the graphs we just created when that period is.\n",
    "\n",
    "What if we compared the relative amounts of blue compared to red or green.\n",
    "\n",
    "to do this, lets convert each of the lists into an arrays."
   ]
  },
  {
   "cell_type": "code",
   "execution_count": null,
   "metadata": {
    "collapsed": true
   },
   "outputs": [],
   "source": [
    "blue_array = np.array(blues)\n",
    "red_array =  np.array(reds)\n",
    "green_array = np.array(greens)"
   ]
  },
  {
   "cell_type": "markdown",
   "metadata": {},
   "source": [
    "now we can divide every number in one array by every number in another"
   ]
  },
  {
   "cell_type": "code",
   "execution_count": null,
   "metadata": {
    "collapsed": true
   },
   "outputs": [],
   "source": [
    "blue_red_ratio = blue_array / red_array\n",
    "blue_green_ratio = blue_array / green_array"
   ]
  },
  {
   "cell_type": "markdown",
   "metadata": {},
   "source": [
    "And plot the arrays by sticking them into matplotlib"
   ]
  },
  {
   "cell_type": "code",
   "execution_count": null,
   "metadata": {
    "collapsed": false
   },
   "outputs": [],
   "source": [
    "fig, ax = plt.subplots(figsize=(12, 3))\n",
    "ax.set_title('blue / red')\n",
    "ax.plot(years, blue_red_ratio , '.', color='purple')\n",
    "#ax.set_xlim(1900, 1904)\n",
    "plt.show()\n",
    "\n",
    "\n",
    "fig, ax = plt.subplots(figsize=(12, 3))\n",
    "ax.set_title('blue / green')\n",
    "ax.plot(years,blue_green_ratio , '.', color='teal')\n",
    "#ax.set_xlim(1901, 1904)\n",
    "plt.show()"
   ]
  },
  {
   "cell_type": "markdown",
   "metadata": {},
   "source": [
    "Now, we can see a distint spike in the blue / red ratios from (one image in) 1901 to 1903.  \n",
    "\n",
    "Just to make sure, lets look at all the images between 1901 and 1904"
   ]
  },
  {
   "cell_type": "code",
   "execution_count": null,
   "metadata": {
    "collapsed": false,
    "scrolled": false
   },
   "outputs": [],
   "source": [
    "for img_path in images:\n",
    "    year = get_year(img_path)\n",
    "    if 1901 <= year <= 1904:\n",
    "        print(year)\n",
    "        img = imread(img_path)\n",
    "        plt.imshow(img)\n",
    "        plt.show()"
   ]
  },
  {
   "cell_type": "markdown",
   "metadata": {},
   "source": [
    "# Masks and boolean Arrays\n",
    "\n",
    "It's possible to exclude or include values in an array (in this case, image) based on boolean logic (such as greater than, less than, equal too, etc.).\n",
    "\n",
    "This can be helpful for cutting out certain parts of the image you are most interested in. This is also very useful for other types of data.\n",
    "\n",
    "First, lets load an image and slice just the first layer to create a black and white image."
   ]
  },
  {
   "cell_type": "code",
   "execution_count": null,
   "metadata": {
    "collapsed": false
   },
   "outputs": [],
   "source": [
    "woman = imread('../Data/Picasso/1904-Woman_with_a_Crow.-4.jpg')\n",
    "\n",
    "plt.imshow(woman)\n",
    "plt.show()\n",
    "\n",
    "woman_reds = woman[:,:, 0]\n",
    "plt.imshow(woman_reds, cmap='Greys')\n",
    "plt.show()"
   ]
  },
  {
   "cell_type": "markdown",
   "metadata": {},
   "source": [
    "Slicing off the first layer has changed the shape of the image."
   ]
  },
  {
   "cell_type": "code",
   "execution_count": null,
   "metadata": {
    "collapsed": false
   },
   "outputs": [],
   "source": [
    "print('original shape', woman.shape)\n",
    "print('new shape', woman_reds.shape)"
   ]
  },
  {
   "cell_type": "markdown",
   "metadata": {},
   "source": [
    "This new two dimensional image consists of many numbers between 0 and 255"
   ]
  },
  {
   "cell_type": "code",
   "execution_count": null,
   "metadata": {
    "collapsed": false
   },
   "outputs": [],
   "source": [
    "woman_reds"
   ]
  },
  {
   "cell_type": "markdown",
   "metadata": {},
   "source": [
    "In order to create a boolean array, we just use boolean logic on the previous array."
   ]
  },
  {
   "cell_type": "code",
   "execution_count": null,
   "metadata": {
    "collapsed": false
   },
   "outputs": [],
   "source": [
    "image_mask = woman_reds > 100\n",
    "image_mask"
   ]
  },
  {
   "cell_type": "code",
   "execution_count": null,
   "metadata": {
    "collapsed": false
   },
   "outputs": [],
   "source": [
    "print('type:', type(image_mask))\n",
    "print('dtype', image_mask.dtype)\n",
    "print('shape', image_mask.shape)\n",
    "\n",
    "plt.imshow(image_mask, cmap='Greys', interpolation='nearest')\n",
    "plt.show()"
   ]
  },
  {
   "cell_type": "markdown",
   "metadata": {},
   "source": [
    "by multiplying the masked array with the image, we can exclude any points that are 'False' in the boolean array.\n",
    "This is essentially like multiplying those values by zero."
   ]
  },
  {
   "cell_type": "code",
   "execution_count": null,
   "metadata": {
    "collapsed": false
   },
   "outputs": [],
   "source": [
    "masked_image = woman_reds * image_mask\n",
    "plt.imshow(masked_image, cmap='Greys')\n",
    "plt.show()"
   ]
  },
  {
   "cell_type": "markdown",
   "metadata": {},
   "source": [
    "We can string together multiple boolean operations by using the `&` symbol.\n",
    "\n",
    "Three dimensional masks work as well, they just must be the same dimensions as the image you want to apply them too."
   ]
  },
  {
   "cell_type": "code",
   "execution_count": null,
   "metadata": {
    "collapsed": false
   },
   "outputs": [],
   "source": [
    "image_mask3 = (woman > 50) & (woman < 200)\n",
    "\n",
    "masked_image3 = woman * image_mask3\n",
    "plt.imshow(masked_image3, cmap='Greys')\n",
    "plt.show()"
   ]
  },
  {
   "cell_type": "markdown",
   "metadata": {},
   "source": [
    "# Image Processing Additional Reading"
   ]
  },
  {
   "cell_type": "markdown",
   "metadata": {},
   "source": [
    "## Image procesing library\n",
    "Pillow -(a package that replaces the old Python Imaging Library) \n",
    "\n",
    "## image processing tools\n",
    "http://scikit-image.org/\n",
    "\n",
    "## Create Animations / Video editing with Python\n",
    "http://zulko.github.io/moviepy/index.html"
   ]
  },
  {
   "cell_type": "code",
   "execution_count": null,
   "metadata": {
    "collapsed": true
   },
   "outputs": [],
   "source": []
  }
 ],
 "metadata": {
  "anaconda-cloud": {},
  "kernelspec": {
   "display_name": "Python [Root]",
   "language": "python",
   "name": "Python [Root]"
  },
  "language_info": {
   "codemirror_mode": {
    "name": "ipython",
    "version": 3
   },
   "file_extension": ".py",
   "mimetype": "text/x-python",
   "name": "python",
   "nbconvert_exporter": "python",
   "pygments_lexer": "ipython3",
   "version": "3.5.1"
  }
 },
 "nbformat": 4,
 "nbformat_minor": 0
}
