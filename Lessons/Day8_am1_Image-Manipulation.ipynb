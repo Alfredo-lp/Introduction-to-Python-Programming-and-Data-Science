{
 "cells": [
  {
   "cell_type": "code",
   "execution_count": null,
   "metadata": {},
   "outputs": [],
   "source": [
    "from IPython.core.display import HTML\n",
    "def css_styling():\n",
    "    styles = open(\"../Data/www/styles/custom.css\", \"r\").read()\n",
    "    return HTML(styles)\n",
    "css_styling()"
   ]
  },
  {
   "cell_type": "markdown",
   "metadata": {},
   "source": [
    "# Synopsis\n",
    "\n",
    "There is an extensive amount of data that is stored in images and is available for analysis. On the web, images are everywhere and being able to algorithmically filter them (say for a search engine or to identify infringement) is an essential task. Scientifically, many studies rely on visual images to ascertain the presence or absence of some behavior (remember, a video is really just a series of images in time!).\n",
    "\n",
    "To start we're going to work on:\n",
    "* The basics of what an image is\n",
    "* How to read an image into code\n",
    "* How to manipulate an image in Python\n",
    "\n",
    "# What is an image?\n",
    "\n",
    "Seems like a silly question, right? When you open an image on your computer, you simply see an image. But if I inspect the file with the terminal, I actually get something like this:\n",
    "    \n",
    "    head -n10 ../Data/Picasso/1907-Self-Portrait.-13.jpg\n",
    "    \n",
    "    ����\u0010JFIF\u0001\u0001\u0001\u0001��;CREATOR: gd-jpeg v1.0 (using IJG JPEG v62), quality = 80\n",
    "    ��C\u0006\u0004\u0005\u0006\u0005\u0004\u0006\u0006\u0005\u0006\u0007\u0007\u0006\b\n",
    "    \u0010\n",
    "    �B�ݲj\"\u0015ݽKj��.\\�k�9�\u0014�9!#�\u0013�I\u0011�#���D��pBG'���\u0018Չ�I\u0019>!\f",
    "�!\u0007�DKc�p�v��I\u0007�2\\&�i��%���H2\f",
    "dۑi�\u0012��'�ی���\to0=Ndc]\u0014�ӑ�\u001b��E��\u0004���n6��%�3���oL��&��?.���x\f",
    "\u001c",
    "u\u0006Dd���\u0006��0�\u001c",
    "c\u001e",
    "�,}Z�ݛ\u00018�7�2H2\u001c",
    "�i�*d\u0019\tldC,c$c'Ӎ_{��Be�.\tpr\u0010���Ɔ�!�\t�p�r�/�D\u0005,�5\t\n",
    "What we see here is that the image file is still stored as textual data - just like everythign else. At the start of the file it says what the image file type is, how it was compressed, and the general quality of it. These are the pieces of information that another program needs to know in order to render the image from this string data. After that it's the actual image information that's stored with some symbols that we can see with ASCII and others that we would need unicode enabled to see. \n",
    "\n",
    "Fortunately, we don't have to learn how image information is stored since there is a simple function within `pylab` that will read an image for us. "
   ]
  },
  {
   "cell_type": "code",
   "execution_count": null,
   "metadata": {},
   "outputs": [],
   "source": [
    "%matplotlib inline\n",
    "import pandas as pd\n",
    "import numpy as np\n",
    "import matplotlib as mpl\n",
    "import matplotlib.pyplot as plt\n",
    "import matplotlib.cm as cm\n",
    "import glob\n",
    "import math\n",
    "from pylab import imread"
   ]
  },
  {
   "cell_type": "code",
   "execution_count": null,
   "metadata": {},
   "outputs": [],
   "source": [
    "picasso_img = imread('../Data/Day8-Image-Analysis/Picasso/1907-Self-Portrait.-13.jpg')\n",
    "picasso_img"
   ]
  },
  {
   "cell_type": "markdown",
   "metadata": {},
   "source": [
    "## Images are actually arrays (to the computer)!\n",
    "\n",
    "An image is actually just an array once it's been decompressed. The digital image is essentially a 2-dimensional grid of values, where each element in this matrix corresponds to a pixel (so the larger the number of megapixels for your camera, the bigger the grid!). Each element is then a list of three values - the Red value, the Green value, and the Blue value. The values for and mixture of these three colors then specify the final color that should appear in the pixel (if there are more than three then the image is using a colorscheme that is not RGB). \n",
    "\n",
    "We can double check that everything is right by plotting the image array with matplotlib. "
   ]
  },
  {
   "cell_type": "code",
   "execution_count": null,
   "metadata": {},
   "outputs": [],
   "source": [
    "plt.imshow(picasso_img)\n",
    "plt.show()"
   ]
  },
  {
   "cell_type": "markdown",
   "metadata": {},
   "source": [
    "Excellent! We can see the image (and it's even easy to tell the number of pixels in it)!. We can see that this grid of RGB values can fully specify the image. \n",
    "\n",
    "But now let's look a little bit further at the `picasso_img` variable itself. That nomenclature of `array(` is a bit different than what we've experienced so far."
   ]
  },
  {
   "cell_type": "code",
   "execution_count": null,
   "metadata": {},
   "outputs": [],
   "source": [
    "print('type is:', type(picasso_img))\n",
    "print()\n",
    "print(picasso_img)"
   ]
  },
  {
   "cell_type": "markdown",
   "metadata": {},
   "source": [
    "Ah-ha! So it's not actually a list but a Numpy array!\n",
    "\n",
    "Numpy is a library that handles numerical calculations. It is extremely fast and efficient at what it does, which is why it's used heavily in scientific computing and any area where speed is at a premium. \n",
    "\n",
    "Numpy arrays are conceptually similar to lists, but the implementation and features are different. Two new built-in methods that are exclusive to Numpy arrays that you will use over and over again are `shape` and `dtype`. "
   ]
  },
  {
   "cell_type": "code",
   "execution_count": null,
   "metadata": {},
   "outputs": [],
   "source": [
    "picasso_img.shape"
   ]
  },
  {
   "cell_type": "markdown",
   "metadata": {},
   "source": [
    "`shape` Tells you the dimensions of the grid immediately (try doing that as quickly with nested lists!). So here we know that the first dimension of the matrix is 766 (how tall it is), the second dimension is 597 (how wide it is), and the third dimension is 3 (the depth, or saying that every element has an array with 3 elements).\n",
    "\n",
    "`dtype` is similarly useful."
   ]
  },
  {
   "cell_type": "code",
   "execution_count": null,
   "metadata": {},
   "outputs": [],
   "source": [
    "picasso_img.dtype"
   ]
  },
  {
   "cell_type": "markdown",
   "metadata": {},
   "source": [
    "`dtype` tells us the data type, which in this case is unsigned integer 8-bit. This is important to check, because if you have mixed data types (i.e. a string accidentally ends up in your list of numbers), Numpy reverts to the broadest data type. Which means that you will some functionality."
   ]
  },
  {
   "cell_type": "code",
   "execution_count": null,
   "metadata": {},
   "outputs": [],
   "source": [
    "example = np.array([0, 1, 3, 4, 'cat'])\n",
    "example.dtype"
   ]
  },
  {
   "cell_type": "code",
   "execution_count": null,
   "metadata": {},
   "outputs": [],
   "source": [
    "example * 2"
   ]
  },
  {
   "cell_type": "markdown",
   "metadata": {
    "collapsed": true
   },
   "source": [
    "vs."
   ]
  },
  {
   "cell_type": "code",
   "execution_count": null,
   "metadata": {},
   "outputs": [],
   "source": [
    "example_two = np.array([0, 1, 3, 4])\n",
    "example_two.dtype"
   ]
  },
  {
   "cell_type": "code",
   "execution_count": null,
   "metadata": {},
   "outputs": [],
   "source": [
    "example_two * 2"
   ]
  },
  {
   "cell_type": "markdown",
   "metadata": {},
   "source": [
    "## So what is RGB\n",
    "\n",
    "If we go to [Wikipedia](https://en.wikipedia.org/wiki/RGB_color_model), we find:\n",
    "\n",
    "    The RGB color model is an additive color model in which red, green and blue light are added together in various ways to reproduce a broad array of colors. The name of the model comes from the initials of the three additive primary colors, red, green and blue.\n",
    "    \n",
    "So the question is, what scale is used for each color value? With numpy we can find that out easily"
   ]
  },
  {
   "cell_type": "code",
   "execution_count": null,
   "metadata": {},
   "outputs": [],
   "source": [
    "picasso_img.max()"
   ]
  },
  {
   "cell_type": "code",
   "execution_count": null,
   "metadata": {},
   "outputs": [],
   "source": [
    "picasso_img.min()"
   ]
  },
  {
   "cell_type": "markdown",
   "metadata": {},
   "source": [
    "So each of the color elements has a value from `0` to `255`, and the mixture of the R, G, and B values produces the final color.\n",
    "\n",
    "The color values are actually stored in that order in the matrix and we can easily check that by plotting."
   ]
  },
  {
   "cell_type": "code",
   "execution_count": null,
   "metadata": {
    "scrolled": false
   },
   "outputs": [],
   "source": [
    "musicians = imread('../Data/Day8-Image-Analysis/Picasso/1921-Three_Musicians.-25.jpg')\n",
    "\n",
    "print('split representation:')\n",
    "\n",
    "fig, ax = plt.subplots(nrows=1, ncols=3, figsize = (12, 6))\n",
    "cmaps = [cm.Reds, cm.Greens, cm.Blues]\n",
    "labels = ['red', 'green', 'blue']\n",
    "\n",
    "for i in range(3):\n",
    "    ax[i].imshow(musicians[:,:,i], cmap=cmaps[i])\n",
    "    ax[i].set_title(labels[i])\n",
    "    \n",
    "plt.tight_layout()\n",
    "plt.show()\n",
    "\n",
    "print('combined representation:')\n",
    "plt.imshow(musicians)\n",
    "plt.show()"
   ]
  },
  {
   "cell_type": "markdown",
   "metadata": {},
   "source": [
    "and this means that knowing the structure of an image we could easily create one. "
   ]
  },
  {
   "cell_type": "code",
   "execution_count": null,
   "metadata": {},
   "outputs": [],
   "source": [
    "# this code creates a patch of color with the specified r, g, b values\n",
    "r = 50\n",
    "g = 0\n",
    "b = 0\n",
    "\n",
    "color_patch = np.ones(shape=(300, 300, 3)) # make a 3D numpy array filled with zeros\n",
    "color_patch[:,:,0] *= r   # red\n",
    "color_patch[:,:,1] *= g   # green\n",
    "color_patch[:,:,2] *= b   # blue\n",
    "\n",
    "plt.imshow(color_patch) # show color\n",
    "plt.show()"
   ]
  },
  {
   "cell_type": "markdown",
   "metadata": {},
   "source": [
    "The best way to understand how these colors mix is to play a bit with it. \n",
    "\n",
    "You could use a [tool](http://www.colortools.net/color_mixer.html) online to get a basic sense or just play with the code above. For example - try to make a yellow grid."
   ]
  },
  {
   "cell_type": "code",
   "execution_count": null,
   "metadata": {},
   "outputs": [],
   "source": [
    "#By modifying this code\n",
    "\n",
    "r = 0\n",
    "g = 0\n",
    "b = 0\n",
    "\n",
    "color_patch = np.ones(shape=(300, 300, 3)) # make a 3D numpy array filled with ones\n",
    "color_patch[:,:,0] *= r   # red\n",
    "color_patch[:,:,1] *= g   # green\n",
    "color_patch[:,:,2] *= b   # blue\n",
    "\n",
    "plt.imshow(color_patch) # show color\n",
    "plt.show()\n",
    "\n"
   ]
  },
  {
   "cell_type": "markdown",
   "metadata": {},
   "source": [
    "So by now you've noticed that how we access parts of a numpy array differs from a list (and is rather similar to Pandas, there's a reason for that!). \n",
    "\n",
    "Essentially we can slice an array on any dimension that we want. For example, if we wanted a column of data we could do that with one slice like so:"
   ]
  },
  {
   "cell_type": "code",
   "execution_count": null,
   "metadata": {},
   "outputs": [],
   "source": [
    "picasso_img[:, 0, :].shape"
   ]
  },
  {
   "cell_type": "markdown",
   "metadata": {},
   "source": [
    "This type of slicing isn't possible if the data was actually stored as a list (and not a numpy array). \n",
    "\n",
    "And we can keep doing this on every column"
   ]
  },
  {
   "cell_type": "code",
   "execution_count": null,
   "metadata": {},
   "outputs": [],
   "source": [
    "picasso_img[:, 0, 0].shape"
   ]
  },
  {
   "cell_type": "markdown",
   "metadata": {},
   "source": [
    "So we could easily plot only a portion of the image using the built-in slicing"
   ]
  },
  {
   "cell_type": "code",
   "execution_count": null,
   "metadata": {},
   "outputs": [],
   "source": [
    "plt.imshow(picasso_img[500:, 300:, 2])"
   ]
  },
  {
   "cell_type": "markdown",
   "metadata": {},
   "source": [
    "And change the entire channel easily, like removing red from an image"
   ]
  },
  {
   "cell_type": "code",
   "execution_count": null,
   "metadata": {},
   "outputs": [],
   "source": [
    "no_red = np.copy(picasso_img)\n",
    "no_red[:, :, 0] = 0\n",
    "\n",
    "plt.imshow(no_red)"
   ]
  },
  {
   "cell_type": "markdown",
   "metadata": {},
   "source": [
    "### Exercises"
   ]
  },
  {
   "cell_type": "code",
   "execution_count": null,
   "metadata": {},
   "outputs": [],
   "source": [
    "#Q1. reverse the x axis on the image\n",
    "\n",
    "flipped_image = imread('../Data/Day8-Image-Analysis/Picasso/1905-Harlequin_Sitting_on_a_Red__Couch.-12.jpg')\n",
    "\n",
    "\n",
    "# add code here\n",
    "# flipped_image = flipped_image\n",
    "# \n",
    "\n",
    "plt.imshow(flipped_image)\n",
    "plt.show()"
   ]
  },
  {
   "cell_type": "code",
   "execution_count": null,
   "metadata": {},
   "outputs": [],
   "source": [
    "#Q2. make an image with only the rightmost muscician\n",
    "# (ie. slice the x and y axis so other musicians are cropped out)\n",
    "\n",
    "just_bearded_guy = imread('../Data/Day8-Image-Analysis/Picasso/1921-Three_Musicians.-25.jpg')\n",
    "\n",
    "# add code here\n",
    "# just_bearded_guy = just_bearded_guy\n",
    "\n",
    "plt.imshow(just_bearded_guy)\n",
    "plt.show()"
   ]
  },
  {
   "cell_type": "code",
   "execution_count": null,
   "metadata": {},
   "outputs": [],
   "source": [
    "#Q3. reverse the order of colors so they go: 'Blue', 'Green', 'red'\n",
    "\n",
    "recolored_painting = imread( '../Data/Day8-Image-Analysis/Picasso/1900-A_Spanish_Couple_in_front_of_an_Inn.-34.jpg')\n",
    "\n",
    "# add code here\n",
    "# recolored_painting = recolored_painting\n",
    "\n",
    "plt.imshow(recolored_painting)\n",
    "plt.show()"
   ]
  },
  {
   "cell_type": "code",
   "execution_count": null,
   "metadata": {},
   "outputs": [],
   "source": [
    "#Q4. shrink the size of the image so it is 1/2 of origional size\n",
    "\n",
    "shrunken_image = imread('../Data/Day8-Image-Analysis/Picasso/1903-The_Old_Guitarist.-7.jpg')\n",
    "\n",
    "# add code here\n",
    "# shrunken_image = shrunken_image\n",
    "\n",
    "plt.imshow(shrunken_image)\n",
    "plt.show()"
   ]
  },
  {
   "cell_type": "markdown",
   "metadata": {},
   "source": [
    "# Array Methods"
   ]
  },
  {
   "cell_type": "markdown",
   "metadata": {},
   "source": [
    "## Column and Row operations\n",
    "\n",
    "Many NumPy functions (especially summary statistics) allow you to specify if the operation should be performed on the rows or columns with the `axis` keyword.\n",
    "\n",
    "Some functions like [`np.concatenate()`](http://docs.scipy.org/doc/numpy/reference/generated/numpy.concatenate.html) allow you to make new arrays by sticking existing arrays together"
   ]
  },
  {
   "cell_type": "raw",
   "metadata": {},
   "source": [
    "axis=0 --- columns\n",
    "axis=1 --- rows\n",
    "axis=2 --- depth\n",
    "...\n",
    "however many dimensions your array has"
   ]
  },
  {
   "cell_type": "code",
   "execution_count": null,
   "metadata": {},
   "outputs": [],
   "source": [
    "a = np.array([[19.72, 20.34], \n",
    "              [21.30, 17.26]])\n",
    "\n",
    "\n",
    "\n",
    "print(a)\n",
    "print('\\nmean, no axis specified')\n",
    "print(a.mean())\n",
    "\n",
    "print('\\nmean, axis 0')\n",
    "print(a.mean(axis=0))\n",
    "\n",
    "print('\\nmean, axis 1')\n",
    "print(a.mean(axis=1))"
   ]
  },
  {
   "cell_type": "markdown",
   "metadata": {},
   "source": [
    "Using these functions we can profile the usage of color throughout an image. \n",
    "\n",
    "One example would be, how does the color usage change as we scan through the rows of an image? This can be useful for numerically identifying different portions of an image that may be of interest. \n",
    "\n",
    "To make this simple, let's use a painting from Picasso's blue period."
   ]
  },
  {
   "cell_type": "code",
   "execution_count": null,
   "metadata": {},
   "outputs": [],
   "source": [
    "music = imread('../Data/Day8-Image-Analysis/Picasso/1903-The_Old_Guitarist.-7.jpg')\n",
    "plt.imshow(music)"
   ]
  },
  {
   "cell_type": "markdown",
   "metadata": {},
   "source": [
    "And now let's plot the row average (or said another way, what is color usage as a function of the row)"
   ]
  },
  {
   "cell_type": "code",
   "execution_count": null,
   "metadata": {},
   "outputs": [],
   "source": [
    "colors = ['r', 'g', 'b']\n",
    "fig, ax = plt.subplots(figsize=(5,3))\n",
    "for i in range(3):\n",
    "    ax.plot(music.mean(axis=1)[:, i], color=colors[i], linewidth=1.5)\n",
    "ax.set_xlabel('Row index')\n",
    "ax.set_ylabel('Color intensity')\n",
    "ax.legend(loc='best')"
   ]
  },
  {
   "cell_type": "markdown",
   "metadata": {},
   "source": [
    "So we can see that at the top of the image there is a majority of blue - which corresponds with what we see (the blue background dominates the image).\n",
    "\n",
    "What about if we plot color intensity as a function of the column?"
   ]
  },
  {
   "cell_type": "code",
   "execution_count": null,
   "metadata": {},
   "outputs": [],
   "source": [
    "#Plot color intensity as a function of the column\n",
    "\n"
   ]
  },
  {
   "cell_type": "markdown",
   "metadata": {},
   "source": [
    "And here we can see that there doesn't appear to be a single column where blue is the largest color channel.\n",
    "\n",
    "Now let's move onto something more challenging since you have a command of the basics.\n",
    "\n",
    "# The full dataset\n",
    "\n",
    "There is an entire directory of Picasso paintings in `../Data/Picasso/`. Our goal will be to pick out, based on his color usage, Picasso's blue period. \n",
    "\n",
    "Write code to plot the average color channel level across time "
   ]
  },
  {
   "cell_type": "code",
   "execution_count": null,
   "metadata": {},
   "outputs": [],
   "source": [
    "#Your code goes here\n"
   ]
  },
  {
   "cell_type": "code",
   "execution_count": null,
   "metadata": {},
   "outputs": [],
   "source": []
  },
  {
   "cell_type": "markdown",
   "metadata": {},
   "source": [
    "So it's actually a bit hard to discern with the scatterplot what is going on because all of the average usages move so much from painting to painting and year to year. \n",
    "\n",
    "In this case, it would be easier to visualize this in some aggregate manner (either grouped bars per year, box plots, or points with errors). Does this actually help?"
   ]
  },
  {
   "cell_type": "code",
   "execution_count": null,
   "metadata": {},
   "outputs": [],
   "source": []
  },
  {
   "cell_type": "markdown",
   "metadata": {},
   "source": [
    "## Picking out Picasso's Blue Period (1901-1904)\n",
    "\n",
    "Although Picasso has a number of images that are refered to as his 'Blue Period', it's not immediatly obvious\n",
    "from the graphs we just created when that period is.\n",
    "\n",
    "One reason that we can't quite see it is that we're ignoring how much blue should/would be in a painting generally!\n",
    "\n",
    "When a situation like this arises it's important to take into account 'what is normal' in order to identify what isn't!\n",
    "\n",
    "How do you think that we should account for this?"
   ]
  },
  {
   "cell_type": "code",
   "execution_count": null,
   "metadata": {},
   "outputs": [],
   "source": [
    "#How?\n"
   ]
  },
  {
   "cell_type": "markdown",
   "metadata": {},
   "source": [
    "Which paintings do you think should be his 'blue' paintings? How would you justify this?\n",
    "\n",
    "I want you to think about how you approach real problems (such as classifying painting themes) from a quantitative instead of qualitative approach."
   ]
  },
  {
   "cell_type": "markdown",
   "metadata": {},
   "source": [
    "# Filtering\n",
    "\n",
    "What if we are only interest in certain parts of an image that meet a certain criteria? Like having a blue channel value >50?\n",
    "\n",
    "It's possible to do that using masks with a numpy array."
   ]
  },
  {
   "cell_type": "code",
   "execution_count": null,
   "metadata": {},
   "outputs": [],
   "source": [
    "woman = imread('../Data/Day8-Image-Analysis/Picasso/1904-Woman_with_a_Crow.-4.jpg')\n",
    "\n",
    "plt.imshow(woman)\n",
    "plt.show()\n",
    "\n",
    "woman_reds = woman[:,:, 0]\n",
    "plt.imshow(woman_reds, cmap='Greys')\n",
    "plt.show()"
   ]
  },
  {
   "cell_type": "markdown",
   "metadata": {},
   "source": [
    "Slicing off the first layer has changed the shape of the image."
   ]
  },
  {
   "cell_type": "code",
   "execution_count": null,
   "metadata": {},
   "outputs": [],
   "source": [
    "print('original shape', woman.shape)\n",
    "print('new shape', woman_reds.shape)"
   ]
  },
  {
   "cell_type": "markdown",
   "metadata": {},
   "source": [
    "This new two dimensional image consists of many numbers between 0 and 255"
   ]
  },
  {
   "cell_type": "code",
   "execution_count": null,
   "metadata": {},
   "outputs": [],
   "source": [
    "woman_reds"
   ]
  },
  {
   "cell_type": "markdown",
   "metadata": {},
   "source": [
    "In order to create a boolean array, we just use boolean logic on the previous array."
   ]
  },
  {
   "cell_type": "code",
   "execution_count": null,
   "metadata": {},
   "outputs": [],
   "source": [
    "image_mask = woman_reds > 100\n",
    "image_mask"
   ]
  },
  {
   "cell_type": "code",
   "execution_count": null,
   "metadata": {},
   "outputs": [],
   "source": [
    "print('type:', type(image_mask))\n",
    "print('dtype', image_mask.dtype)\n",
    "print('shape', image_mask.shape)\n",
    "\n",
    "plt.imshow(image_mask, cmap='Greys', interpolation='nearest')\n",
    "plt.show()"
   ]
  },
  {
   "cell_type": "markdown",
   "metadata": {},
   "source": [
    "by multiplying the masked array with the image, we can exclude any points that are 'False' in the boolean array.\n",
    "This is essentially like multiplying those values by zero."
   ]
  },
  {
   "cell_type": "code",
   "execution_count": null,
   "metadata": {},
   "outputs": [],
   "source": [
    "masked_image = woman_reds * image_mask\n",
    "plt.imshow(masked_image, cmap='Greys')\n",
    "plt.show()"
   ]
  },
  {
   "cell_type": "markdown",
   "metadata": {},
   "source": [
    "We can string together multiple boolean operations by using the `&` symbol.\n",
    "\n",
    "Three dimensional masks work as well, they just must be the same dimensions as the image you want to apply them too."
   ]
  },
  {
   "cell_type": "code",
   "execution_count": null,
   "metadata": {},
   "outputs": [],
   "source": [
    "image_mask3 = (woman > 50) & (woman < 200)\n",
    "\n",
    "masked_image3 = woman * image_mask3\n",
    "plt.imshow(masked_image3, cmap='Greys')\n",
    "plt.show()"
   ]
  },
  {
   "cell_type": "code",
   "execution_count": null,
   "metadata": {},
   "outputs": [],
   "source": []
  }
 ],
 "metadata": {
  "anaconda-cloud": {},
  "kernelspec": {
   "display_name": "Python 3",
   "language": "python",
   "name": "python3"
  },
  "language_info": {
   "codemirror_mode": {
    "name": "ipython",
    "version": 3
   },
   "file_extension": ".py",
   "mimetype": "text/x-python",
   "name": "python",
   "nbconvert_exporter": "python",
   "pygments_lexer": "ipython3",
   "version": "3.6.4"
  }
 },
 "nbformat": 4,
 "nbformat_minor": 1
}
