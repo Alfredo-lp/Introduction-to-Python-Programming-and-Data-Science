{
 "cells": [
  {
   "cell_type": "code",
   "execution_count": null,
   "metadata": {},
   "outputs": [],
   "source": [
    "from IPython.core.display import HTML\n",
    "def css_styling():\n",
    "    styles = open(\"../Data/www/styles/custom.css\", \"r\").read()\n",
    "    return HTML(styles)\n",
    "css_styling()"
   ]
  },
  {
   "cell_type": "markdown",
   "metadata": {},
   "source": [
    "# Synopsis\n",
    "\n",
    "In this unit we will discuss how to randomly generate possible data sets from a set of sample data (known as bootstrapping). To do that we will cover:\n",
    "\n",
    "* Why/when you would need to bootstrap data\n",
    "* How to bootstrap data\n",
    "* How to statistically evaluate bootstrapped data"
   ]
  },
  {
   "cell_type": "code",
   "execution_count": null,
   "metadata": {},
   "outputs": [],
   "source": [
    "import json\n",
    "import scipy.stats as stat\n",
    "import numpy as np\n",
    "import matplotlib.pyplot as plt\n",
    "import math\n",
    "from scipy.optimize import curve_fit\n",
    "from scipy.special import erf"
   ]
  },
  {
   "cell_type": "code",
   "execution_count": null,
   "metadata": {},
   "outputs": [],
   "source": [
    "%matplotlib inline"
   ]
  },
  {
   "cell_type": "code",
   "execution_count": null,
   "metadata": {},
   "outputs": [],
   "source": [
    "def half_frame(sub, xaxis_label, yaxis_label, font_size = 15, padding = -0.02):\n",
    "    \"\"\"Formats frame, axes, and ticks for matplotlib made graphic with half frame.\"\"\"\n",
    "\n",
    "    # Format graph frame and tick marks\n",
    "    sub.yaxis.set_ticks_position('left')\n",
    "    sub.xaxis.set_ticks_position('bottom')\n",
    "    sub.tick_params(axis = 'both', which = 'major', length = 7, width = 2, direction = 'out', pad = 10,\n",
    "                    labelsize = font_size)\n",
    "    sub.tick_params(axis = 'both', which = 'minor', length = 5, width = 2, direction = 'out', labelsize = 10)\n",
    "    for axis in ['bottom','left']:\n",
    "        sub.spines[axis].set_linewidth(2)\n",
    "        sub.spines[axis].set_position((\"axes\", padding))\n",
    "    for axis in ['top','right']:\n",
    "        sub.spines[axis].set_visible(False)\n",
    "\n",
    "    # Format axes\n",
    "    sub.set_xlabel(xaxis_label, fontsize = 1.6 * font_size)\n",
    "    sub.set_ylabel(yaxis_label, fontsize = 1.6 * font_size)\n",
    "    \n",
    "    return"
   ]
  },
  {
   "cell_type": "markdown",
   "metadata": {},
   "source": [
    "# Bootstrap methods\n",
    "\n",
    "When doing science, ideally, one would have many replicates of an experiment.  The replicates would enable us to calculate both an expected outcome and the variability in outcomes.  Those quantities would then enable us, under certain assumptions, to estimate the chance that some observed difference from a null model could be explained by chance or not.\n",
    "\n",
    "But what can we do when we only have one replicate?  This is frequently the case with observational studies, but it can occur in other contexts too.\n",
    "\n",
    "In order to learn more about these situations, let us consider the data we obtained when analyzing the sentiment score of the lines of Othello and Iago.\n"
   ]
  },
  {
   "cell_type": "code",
   "execution_count": null,
   "metadata": {},
   "outputs": [],
   "source": [
    "with open('../Data/Day7-Structured-Data-Analysis/iago.json', 'r') as file1:\n",
    "    iago_sentiment = json.load(file1)\n",
    "    \n",
    "\n",
    "with open('../Data/Day7-Structured-Data-Analysis/othello.json', 'r') as file1:\n",
    "    othello_sentiment = json.load(file1)\n",
    "    \n",
    "print(len(iago_sentiment), len(othello_sentiment))\n",
    "\n",
    "print(iago_sentiment[:10])"
   ]
  },
  {
   "cell_type": "code",
   "execution_count": null,
   "metadata": {},
   "outputs": [],
   "source": [
    "fig = plt.figure( figsize = (8, 4.5) )\n",
    "sub1 = fig.add_subplot(1,1,1)\n",
    "my_font_size = 15\n",
    "\n",
    "half_frame(sub1, \"Sentiment score\", \"Probability density\", font_size = my_font_size)\n",
    "\n",
    "# Calculate and plot histogram\n",
    "#\n",
    "sub1.hist([othello_sentiment, iago_sentiment], 6, normed = 1, color = ['r', 'darkblue'], rwidth = 0.75, alpha = 0.5, \n",
    "          histtype = \"bar\", label = ['Othello', 'Iago'], cumulative = False)\n",
    "\n",
    "# Format legend\n",
    "sub1.legend(loc = \"best\", frameon = False, markerscale = 1.8, fontsize = my_font_size)\n",
    "\n",
    "plt.show()"
   ]
  },
  {
   "cell_type": "markdown",
   "metadata": {},
   "source": [
    "So, are these distributions different? Let's look at some statistical metrics that might tell us something about this..."
   ]
  },
  {
   "cell_type": "code",
   "execution_count": null,
   "metadata": {},
   "outputs": [],
   "source": [
    "results_othello = stat.describe(othello_sentiment)\n",
    "print(results_othello)\n",
    "print()\n",
    "results_iago = stat.describe(iago_sentiment)\n",
    "print(results_iago)"
   ]
  },
  {
   "cell_type": "code",
   "execution_count": null,
   "metadata": {},
   "outputs": [],
   "source": [
    "# Using t-test\n",
    "\n",
    "t, p = stat.ttest_ind(othello_sentiment, iago_sentiment, equal_var = False)\n",
    "print('ttest_ind: \\t t =  {0:6.4f}  \\t p = {1:6.4f}'.format(t, p) )"
   ]
  },
  {
   "cell_type": "code",
   "execution_count": null,
   "metadata": {},
   "outputs": [],
   "source": [
    "# Using Kolmogorov-Smirnov test\n",
    "\n",
    "D, p = stat.ks_2samp(othello_sentiment, iago_sentiment)\n",
    "print('KS 2 samp: \\t  D =  {0:6.4f}  \\t p = {1:6.4f}'.format(D, p) )"
   ]
  },
  {
   "cell_type": "code",
   "execution_count": null,
   "metadata": {},
   "outputs": [],
   "source": [
    "# Using chi_square test\n",
    "\n",
    "hist_othello, edges = np.histogram(othello_sentiment, bins = 6, density = True)\n",
    "hist_iago, edges = np.histogram(iago_sentiment, bins = 6, density = True)\n",
    "\n",
    "hist_othello = 100 * np.array(hist_othello)\n",
    "hist_iago = 100 * np.array(hist_iago)\n",
    "print(hist_othello)\n",
    "print(hist_iago)\n",
    "\n",
    "b = (hist_othello - hist_iago)**2 / hist_iago\n",
    "print(b)\n",
    "print(np.cumsum( b ))\n",
    "\n",
    "chi2 , p = stat.chisquare(hist_othello, hist_othello, ddof = 5)\n",
    "print(chi2, p)\n",
    "\n"
   ]
  },
  {
   "cell_type": "code",
   "execution_count": null,
   "metadata": {},
   "outputs": [],
   "source": [
    "import math\n",
    "\n",
    "# Playing games of chance\n",
    "\n",
    "# Define outcomes of play\n",
    "one_die = range(1, 7)\n",
    "\n",
    "cards = []\n",
    "card_values = ['2', '3', '4', '5', '6', '7', '8', '9', '10', \n",
    "               'Jack', 'Queen', 'King', 'Ace']\n",
    "suites = ['Clubs', 'Diamonds', 'Hearts', 'Spades']\n",
    "for value in card_values:\n",
    "    for suit in suites:\n",
    "        cards.append(value + \" \" + suit)\n",
    "\n",
    "        \n",
    "no_one_die = len(one_die)\n",
    "no_cards = len(cards)\n",
    "\n",
    "print( no_one_die, one_die )\n",
    "print()\n",
    "print( no_cards, cards )"
   ]
  },
  {
   "cell_type": "code",
   "execution_count": null,
   "metadata": {},
   "outputs": [],
   "source": [
    "#How many possibilities\n",
    "def number_states_dice(n, no_one_die = 6):\n",
    "    \"\"\" Returns number of possible sums for n dice\"\"\" \n",
    "    return 6*n - (n-1)\n",
    "\n",
    "def number_states_cards(n, no_cards = 52):\n",
    "    \"\"\" Returns number of possible hands of n cards from a single deck\"\"\" \n",
    "    number = 1\n",
    "    for i in range(no_cards, no_cards-n, -1):\n",
    "        number *= i\n",
    "    return number / math.factorial(n)\n",
    "\n",
    "\n",
    "print( number_states_dice(3) )\n",
    "print( number_states_cards(15) )"
   ]
  },
  {
   "cell_type": "code",
   "execution_count": null,
   "metadata": {},
   "outputs": [],
   "source": [
    "import numpy as np\n",
    "\n",
    "def prob_of_outcome_tossing_n_dice(sum_dots, n, n_attempts = 1000):\n",
    "    \"\"\" Probability of the sum of the dots in n dice being sum_dots\"\"\"\n",
    "    count_successes = 0\n",
    "    for a in range(n_attempts):\n",
    "        # Toss dice\n",
    "        sum_temp = 0\n",
    "        for i in range(n):\n",
    "            sum_temp += np.random.randint(6) + 1\n",
    "        if sum_temp == sum_dots:\n",
    "            count_successes += 1\n",
    "    \n",
    "    return float(count_successes) / n_attempts\n",
    "\n",
    "print( prob_of_outcome_tossing_n_dice(3, 2, 10) )\n",
    "print( prob_of_outcome_tossing_n_dice(3, 2, 100) )\n",
    "print( prob_of_outcome_tossing_n_dice(3, 2) )\n",
    "print( prob_of_outcome_tossing_n_dice(3, 2, 1000000) )"
   ]
  },
  {
   "cell_type": "code",
   "execution_count": null,
   "metadata": {},
   "outputs": [],
   "source": [
    "#0.055917 * 100\n",
    "Number_of_times_I_observed_3 = 11\n",
    "\n",
    "count_3s = []\n",
    "extreme = 0\n",
    "for i in range(50000):\n",
    "    outcome = 100 * prob_of_outcome_tossing_n_dice(3, 2, 100)\n",
    "    count_3s.append( outcome )\n",
    "    if outcome >= 11:\n",
    "        extreme += 1\n",
    "\n",
    "print( extreme / float(50000) )\n",
    "plt.hist(count_3s)\n",
    "plt.xlabel(\"Number of times with 3s\")\n",
    "plt.ylabel(\"Frequency\")\n",
    "\n",
    "plt.show()\n"
   ]
  },
  {
   "cell_type": "code",
   "execution_count": null,
   "metadata": {},
   "outputs": [],
   "source": [
    "# Calculate pi by calculating area of quarter circle\n",
    "\n",
    "def estimate_pi(n_attempts = 10000):\n",
    "    \"\"\" Estimate pi from area of quarter circle \"\"\" \n",
    "    count_successes = 0\n",
    "    for i in range(n_attempts):\n",
    "        x_rand = np.random.random()\n",
    "        y_rand = np.random.random()\n",
    "        dist = math.sqrt( x_rand **2 + y_rand**2 )\n",
    "        if dist <= 1.:\n",
    "            count_successes += 1\n",
    "    return float(count_successes) / n_attempts\n",
    "\n",
    "\n",
    "print( math.pi / 4. )\n",
    "print( estimate_pi(10) )"
   ]
  },
  {
   "cell_type": "code",
   "execution_count": null,
   "metadata": {},
   "outputs": [],
   "source": [
    "# Calculate distribution of firing times of a model neuron\n",
    "\n",
    "def time_to_fire( threshold , lamb, scale_size):\n",
    "    \"\"\" Simulate distribution of times for neuron that sums\n",
    "    inputs and fires when sum exceeds threshold \"\"\"\n",
    "    state = 0.\n",
    "    time = 0.\n",
    "    while state < threshold: \n",
    "        # Update time\n",
    "        delay_between_inputs = np.random.poisson(lamb)\n",
    "        time += delay_between_inputs\n",
    "        \n",
    "        # Update state\n",
    "        size_of_input = scale_size * np.random.random()\n",
    "        state += size_of_input\n",
    "        \n",
    "    return time    \n",
    "\n",
    "# Initialize variables\n",
    "N_neurons = 10000\n",
    "threshold = 1.\n",
    "scale_size = 0.1\n",
    "lamb = 1.\n",
    "\n",
    "list_times = []\n",
    "for neuron in range(N_neurons):\n",
    "    list_times.append( time_to_fire( threshold , lamb, scale_size) )\n",
    "\n",
    "    \n",
    "#print list_times\n",
    "\n",
    "plt.hist(list_times, 30)\n",
    "plt.xlabel(\"Time to fire\")\n",
    "plt.ylabel(\"Frequency\")\n",
    "\n",
    "plt.show()\n"
   ]
  },
  {
   "cell_type": "code",
   "execution_count": null,
   "metadata": {},
   "outputs": [],
   "source": []
  },
  {
   "cell_type": "code",
   "execution_count": null,
   "metadata": {},
   "outputs": [],
   "source": []
  }
 ],
 "metadata": {
  "anaconda-cloud": {},
  "kernelspec": {
   "display_name": "Python 3",
   "language": "python",
   "name": "python3"
  },
  "language_info": {
   "codemirror_mode": {
    "name": "ipython",
    "version": 3
   },
   "file_extension": ".py",
   "mimetype": "text/x-python",
   "name": "python",
   "nbconvert_exporter": "python",
   "pygments_lexer": "ipython3",
   "version": "3.6.4"
  }
 },
 "nbformat": 4,
 "nbformat_minor": 1
}
