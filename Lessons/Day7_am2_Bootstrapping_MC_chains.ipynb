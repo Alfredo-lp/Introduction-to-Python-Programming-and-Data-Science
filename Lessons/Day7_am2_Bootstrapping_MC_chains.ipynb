{
 "cells": [
  {
   "cell_type": "code",
   "execution_count": 1,
   "metadata": {
    "collapsed": false
   },
   "outputs": [
    {
     "data": {
      "text/html": [
       "<style>\n",
       "    @font-face {\n",
       "        font-family: \"Computer Modern\";\n",
       "        src: url('http://9dbb143991406a7c655e-aa5fcb0a5a4ec34cff238a2d56ca4144.r56.cf5.rackcdn.com/cmunss.otf');\n",
       "    }\n",
       "    @font-face {\n",
       "        font-family: \"Computer Modern\";\n",
       "        font-weight: bold;\n",
       "        src: url('http://9dbb143991406a7c655e-aa5fcb0a5a4ec34cff238a2d56ca4144.r56.cf5.rackcdn.com/cmunsx.otf');\n",
       "    }\n",
       "    @font-face {\n",
       "        font-family: \"Computer Modern\";\n",
       "        font-style: oblique;\n",
       "        src: url('http://9dbb143991406a7c655e-aa5fcb0a5a4ec34cff238a2d56ca4144.r56.cf5.rackcdn.com/cmunsi.otf');\n",
       "    }\n",
       "    @font-face {\n",
       "        font-family: \"Computer Modern\";\n",
       "        font-weight: bold;\n",
       "        font-style: oblique;\n",
       "        src: url('http://9dbb143991406a7c655e-aa5fcb0a5a4ec34cff238a2d56ca4144.r56.cf5.rackcdn.com/cmunso.otf');\n",
       "    }\n",
       "    h1 {\n",
       "        font-family: Helvetica, serif;\n",
       "    }\n",
       "    h4{\n",
       "        margin-top:12px;\n",
       "        margin-bottom: 3px;\n",
       "       }\n",
       "    div.text_cell_render{\n",
       "        font-family: Computer Modern, \"Helvetica Neue\", Arial, Helvetica, Geneva, sans-serif;\n",
       "        line-height: 145%;\n",
       "        font-size: 130%;\n",
       "        margin-left:auto;\n",
       "        margin-right:auto;\n",
       "    }\n",
       "    .CodeMirror{\n",
       "            font-family: \"Source Code Pro\", source-code-pro,Consolas, monospace;\n",
       "    }\n",
       "    .text_cell_render h5 {\n",
       "        font-weight: 300;\n",
       "        font-size: 22pt;\n",
       "        color: #4057A1;\n",
       "        font-style: italic;\n",
       "        margin-bottom: .5em;\n",
       "        margin-top: 0.5em;\n",
       "        display: block;\n",
       "    }\n",
       "    \n",
       "    .warning{\n",
       "        color: rgb( 240, 20, 20 )\n",
       "        }  \n",
       "</style>\n",
       "<script>\n",
       "    MathJax.Hub.Config({\n",
       "                        TeX: {\n",
       "                           extensions: [\"AMSmath.js\"]\n",
       "                           },\n",
       "                tex2jax: {\n",
       "                    inlineMath: [ ['$','$'], [\"\\\\(\",\"\\\\)\"] ],\n",
       "                    displayMath: [ ['$$','$$'], [\"\\\\[\",\"\\\\]\"] ]\n",
       "                },\n",
       "                displayAlign: 'center', // Change this to 'center' to center equations.\n",
       "                \"HTML-CSS\": {\n",
       "                    styles: {'.MathJax_Display': {\"margin\": 4}}\n",
       "                }\n",
       "        });\n",
       "</script>\n"
      ],
      "text/plain": [
       "<IPython.core.display.HTML object>"
      ]
     },
     "execution_count": 1,
     "metadata": {},
     "output_type": "execute_result"
    }
   ],
   "source": [
    "from IPython.core.display import HTML\n",
    "def css_styling():\n",
    "    styles = open(\"../Data/www/styles/custom.css\", \"r\").read()\n",
    "    return HTML(styles)\n",
    "css_styling()"
   ]
  },
  {
   "cell_type": "markdown",
   "metadata": {},
   "source": [
    "# Synopsis\n",
    "\n",
    "In this unit we will discuss how to randomly generate possible data sets from a set of sample data (known as bootstrapping). To do that we will cover:\n",
    "\n",
    "* Why/when you would need to bootstrap data\n",
    "* How to bootstrap data\n",
    "* How to statistically evaluate bootstrapped data"
   ]
  },
  {
   "cell_type": "code",
   "execution_count": 3,
   "metadata": {
    "collapsed": true
   },
   "outputs": [],
   "source": [
    "import json\n",
    "import scipy.stats as stat\n",
    "import numpy as np\n",
    "import matplotlib.pyplot as plt\n",
    "import math\n",
    "from scipy.optimize import curve_fit\n",
    "from scipy.special import erf"
   ]
  },
  {
   "cell_type": "code",
   "execution_count": 4,
   "metadata": {
    "collapsed": true
   },
   "outputs": [],
   "source": [
    "%matplotlib inline"
   ]
  },
  {
   "cell_type": "code",
   "execution_count": 5,
   "metadata": {
    "collapsed": true
   },
   "outputs": [],
   "source": [
    "def half_frame(sub, xaxis_label, yaxis_label, font_size = 15, padding = -0.02):\n",
    "    \"\"\"Formats frame, axes, and ticks for matplotlib made graphic with half frame.\"\"\"\n",
    "\n",
    "    # Format graph frame and tick marks\n",
    "    sub.yaxis.set_ticks_position('left')\n",
    "    sub.xaxis.set_ticks_position('bottom')\n",
    "    sub.tick_params(axis = 'both', which = 'major', length = 7, width = 2, direction = 'out', pad = 10,\n",
    "                    labelsize = font_size)\n",
    "    sub.tick_params(axis = 'both', which = 'minor', length = 5, width = 2, direction = 'out', labelsize = 10)\n",
    "    for axis in ['bottom','left']:\n",
    "        sub.spines[axis].set_linewidth(2)\n",
    "        sub.spines[axis].set_position((\"axes\", padding))\n",
    "    for axis in ['top','right']:\n",
    "        sub.spines[axis].set_visible(False)\n",
    "\n",
    "    # Format axes\n",
    "    sub.set_xlabel(xaxis_label, fontsize = 1.6 * font_size)\n",
    "    sub.set_ylabel(yaxis_label, fontsize = 1.6 * font_size)\n",
    "    \n",
    "    return"
   ]
  },
  {
   "cell_type": "markdown",
   "metadata": {},
   "source": [
    "# Bootstrap methods\n",
    "\n",
    "When doing science, ideally, one would have many replicates of an experiment.  The replicates would enable us to calculate both an expected outcome and the variability in outcomes.  Those quantities would then enable us, under certain assumptions, to estimate the chance that some observed difference from a null model could be explained by chance or not.\n",
    "\n",
    "But what can we do when we only have one replicate?  This is frequently the case with observational studies, but it can occur in other contexts too.\n",
    "\n",
    "In order to learn more about these situations, let us consider the data we obtained when analyzing the sentiment score of the lines of Othello and Iago.\n"
   ]
  },
  {
   "cell_type": "code",
   "execution_count": 6,
   "metadata": {
    "collapsed": false
   },
   "outputs": [
    {
     "name": "stdout",
     "output_type": "stream",
     "text": [
      "537 470\n",
      "[1, 1, -3, 3, 1, 2, -3, 2, 3, 2]\n"
     ]
    }
   ],
   "source": [
    "with open('../Data/Day7-Structured-Data-Analysis/iago.json', 'r') as file1:\n",
    "    iago_sentiment = json.load(file1)\n",
    "    \n",
    "\n",
    "with open('../Data/Day7-Structured-Data-Analysis/othello.json', 'r') as file1:\n",
    "    othello_sentiment = json.load(file1)\n",
    "    \n",
    "print(len(iago_sentiment), len(othello_sentiment))\n",
    "\n",
    "print(iago_sentiment[:10])"
   ]
  },
  {
   "cell_type": "code",
   "execution_count": 7,
   "metadata": {
    "collapsed": false
   },
   "outputs": [
    {
     "data": {
      "image/png": "[encoded data removed]",
      "text/plain": [
       "<matplotlib.figure.Figure at 0x10dfb0f60>"
      ]
     },
     "metadata": {},
     "output_type": "display_data"
    }
   ],
   "source": [
    "fig = plt.figure( figsize = (8, 4.5) )\n",
    "sub1 = fig.add_subplot(1,1,1)\n",
    "my_font_size = 15\n",
    "\n",
    "half_frame(sub1, \"Sentiment score\", \"Probability density\", font_size = my_font_size)\n",
    "\n",
    "# Calculate and plot histogram\n",
    "#\n",
    "sub1.hist([othello_sentiment, iago_sentiment], 6, normed = 1, color = ['r', 'darkblue'], rwidth = 0.75, alpha = 0.5, \n",
    "          histtype = \"bar\", label = ['Othello', 'Iago'], cumulative = False)\n",
    "\n",
    "# Format legend\n",
    "sub1.legend(loc = \"best\", frameon = False, markerscale = 1.8, fontsize = my_font_size)\n",
    "\n",
    "plt.show()"
   ]
  },
  {
   "cell_type": "markdown",
   "metadata": {},
   "source": [
    "So, are these distributions different? Let's look at some statistical metrics that might tell us something about this..."
   ]
  },
  {
   "cell_type": "code",
   "execution_count": 8,
   "metadata": {
    "collapsed": false
   },
   "outputs": [
    {
     "name": "stdout",
     "output_type": "stream",
     "text": [
      "DescribeResult(nobs=470, minmax=(-4, 4), mean=0.40851063829787232, variance=5.120609717370594, skewness=-0.41543139442792626, kurtosis=-1.3060163694576852)\n",
      "\n",
      "DescribeResult(nobs=537, minmax=(-4, 4), mean=0.32774674115456237, variance=4.9073070402179058, skewness=-0.29978164467913276, kurtosis=-1.4307035152922654)\n"
     ]
    }
   ],
   "source": [
    "results_othello = stat.describe(othello_sentiment)\n",
    "print(results_othello)\n",
    "print()\n",
    "results_iago = stat.describe(iago_sentiment)\n",
    "print(results_iago)"
   ]
  },
  {
   "cell_type": "code",
   "execution_count": 9,
   "metadata": {
    "collapsed": false
   },
   "outputs": [
    {
     "name": "stdout",
     "output_type": "stream",
     "text": [
      "ttest_ind: \t t =  0.5706  \t p = 0.5684\n"
     ]
    }
   ],
   "source": [
    "# Using t-test\n",
    "\n",
    "t, p = stat.ttest_ind(othello_sentiment, iago_sentiment, equal_var = False)\n",
    "print('ttest_ind: \\t t =  {0:6.4f}  \\t p = {1:6.4f}'.format(t, p) )"
   ]
  },
  {
   "cell_type": "code",
   "execution_count": 10,
   "metadata": {
    "collapsed": false
   },
   "outputs": [
    {
     "name": "stdout",
     "output_type": "stream",
     "text": [
      "KS 2 samp: \t  D =  0.0272  \t p = 0.9916\n"
     ]
    }
   ],
   "source": [
    "# Using Kolmogorov-Smirnov test\n",
    "\n",
    "D, p = stat.ks_2samp(othello_sentiment, iago_sentiment)\n",
    "print('KS 2 samp: \\t  D =  {0:6.4f}  \\t p = {1:6.4f}'.format(D, p) )"
   ]
  },
  {
   "cell_type": "code",
   "execution_count": 12,
   "metadata": {
    "collapsed": false
   },
   "outputs": [
    {
     "name": "stdout",
     "output_type": "stream",
     "text": [
      "[  9.57446809  14.04255319   5.90425532   9.73404255  21.70212766\n",
      "  14.04255319]\n",
      "[  8.51955307  16.34078212   6.70391061   9.3575419   20.81005587\n",
      "  13.26815642]\n",
      "[ 0.13062254  0.32323154  0.09538441  0.0151485   0.03824075  0.04519771]\n",
      "[ 0.13062254  0.45385409  0.5492385   0.564387    0.60262775  0.64782546]\n",
      "0.0 nan\n"
     ]
    }
   ],
   "source": [
    "# Using chi_square test\n",
    "\n",
    "hist_othello, edges = np.histogram(othello_sentiment, bins = 6, density = True)\n",
    "hist_iago, edges = np.histogram(iago_sentiment, bins = 6, density = True)\n",
    "\n",
    "hist_othello = 100 * np.array(hist_othello)\n",
    "hist_iago = 100 * np.array(hist_iago)\n",
    "print(hist_othello)\n",
    "print(hist_iago)\n",
    "\n",
    "b = (hist_othello - hist_iago)**2 / hist_iago\n",
    "print(b)\n",
    "print(np.cumsum( b ))\n",
    "\n",
    "chi2 , p = stat.chisquare(hist_othello, hist_othello, ddof = 5)\n",
    "print(chi2, p)\n",
    "\n"
   ]
  },
  {
   "cell_type": "code",
   "execution_count": 14,
   "metadata": {
    "collapsed": false
   },
   "outputs": [
    {
     "name": "stdout",
     "output_type": "stream",
     "text": [
      "6 range(1, 7)\n",
      "\n",
      "52 ['2 Clubs', '2 Diamonds', '2 Hearts', '2 Spades', '3 Clubs', '3 Diamonds', '3 Hearts', '3 Spades', '4 Clubs', '4 Diamonds', '4 Hearts', '4 Spades', '5 Clubs', '5 Diamonds', '5 Hearts', '5 Spades', '6 Clubs', '6 Diamonds', '6 Hearts', '6 Spades', '7 Clubs', '7 Diamonds', '7 Hearts', '7 Spades', '8 Clubs', '8 Diamonds', '8 Hearts', '8 Spades', '9 Clubs', '9 Diamonds', '9 Hearts', '9 Spades', '10 Clubs', '10 Diamonds', '10 Hearts', '10 Spades', 'Jack Clubs', 'Jack Diamonds', 'Jack Hearts', 'Jack Spades', 'Queen Clubs', 'Queen Diamonds', 'Queen Hearts', 'Queen Spades', 'King Clubs', 'King Diamonds', 'King Hearts', 'King Spades', 'Ace Clubs', 'Ace Diamonds', 'Ace Hearts', 'Ace Spades']\n"
     ]
    }
   ],
   "source": [
    "import math\n",
    "\n",
    "# Playing games of chance\n",
    "\n",
    "# Define outcomes of play\n",
    "one_die = range(1, 7)\n",
    "\n",
    "cards = []\n",
    "card_values = ['2', '3', '4', '5', '6', '7', '8', '9', '10', \n",
    "               'Jack', 'Queen', 'King', 'Ace']\n",
    "suites = ['Clubs', 'Diamonds', 'Hearts', 'Spades']\n",
    "for value in card_values:\n",
    "    for suit in suites:\n",
    "        cards.append(value + \" \" + suit)\n",
    "\n",
    "        \n",
    "no_one_die = len(one_die)\n",
    "no_cards = len(cards)\n",
    "\n",
    "print( no_one_die, one_die )\n",
    "print()\n",
    "print( no_cards, cards )"
   ]
  },
  {
   "cell_type": "code",
   "execution_count": 16,
   "metadata": {
    "collapsed": false
   },
   "outputs": [
    {
     "name": "stdout",
     "output_type": "stream",
     "text": [
      "16\n",
      "4481381406320.0\n"
     ]
    }
   ],
   "source": [
    "#How many possibilities\n",
    "def number_states_dice(n, no_one_die = 6):\n",
    "    \"\"\" Returns number of possible sums for n dice\"\"\" \n",
    "    return 6*n - (n-1)\n",
    "\n",
    "def number_states_cards(n, no_cards = 52):\n",
    "    \"\"\" Returns number of possible hands of n cards from a single deck\"\"\" \n",
    "    number = 1\n",
    "    for i in range(no_cards, no_cards-n, -1):\n",
    "        number *= i\n",
    "    return number / math.factorial(n)\n",
    "\n",
    "\n",
    "print( number_states_dice(3) )\n",
    "print( number_states_cards(15) )"
   ]
  },
  {
   "cell_type": "code",
   "execution_count": 17,
   "metadata": {
    "collapsed": false
   },
   "outputs": [
    {
     "name": "stdout",
     "output_type": "stream",
     "text": [
      "0.0\n",
      "0.13\n",
      "0.056\n",
      "0.055795\n"
     ]
    }
   ],
   "source": [
    "import numpy as np\n",
    "\n",
    "def prob_of_outcome_tossing_n_dice(sum_dots, n, n_attempts = 1000):\n",
    "    \"\"\" Probability of the sum of the dots in n dice being sum_dots\"\"\"\n",
    "    count_successes = 0\n",
    "    for a in range(n_attempts):\n",
    "        # Toss dice\n",
    "        sum_temp = 0\n",
    "        for i in range(n):\n",
    "            sum_temp += np.random.randint(6) + 1\n",
    "        if sum_temp == sum_dots:\n",
    "            count_successes += 1\n",
    "    \n",
    "    return float(count_successes) / n_attempts\n",
    "\n",
    "print( prob_of_outcome_tossing_n_dice(3, 2, 10) )\n",
    "print( prob_of_outcome_tossing_n_dice(3, 2, 100) )\n",
    "print( prob_of_outcome_tossing_n_dice(3, 2) )\n",
    "print( prob_of_outcome_tossing_n_dice(3, 2, 1000000) )"
   ]
  },
  {
   "cell_type": "code",
   "execution_count": 19,
   "metadata": {
    "collapsed": false
   },
   "outputs": [
    {
     "name": "stdout",
     "output_type": "stream",
     "text": [
      "0.0238\n"
     ]
    },
    {
     "data": {
      "image/png": "[encoded data removed]",
      "text/plain": [
       "<matplotlib.figure.Figure at 0x110aa0c88>"
      ]
     },
     "metadata": {},
     "output_type": "display_data"
    }
   ],
   "source": [
    "#0.055917 * 100\n",
    "Number_of_times_I_observed_3 = 11\n",
    "\n",
    "count_3s = []\n",
    "extreme = 0\n",
    "for i in range(50000):\n",
    "    outcome = 100 * prob_of_outcome_tossing_n_dice(3, 2, 100)\n",
    "    count_3s.append( outcome )\n",
    "    if outcome >= 11:\n",
    "        extreme += 1\n",
    "\n",
    "print( extreme / float(50000) )\n",
    "plt.hist(count_3s)\n",
    "plt.xlabel(\"Number of times with 3s\")\n",
    "plt.ylabel(\"Frequency\")\n",
    "\n",
    "plt.show()\n"
   ]
  },
  {
   "cell_type": "code",
   "execution_count": 20,
   "metadata": {
    "collapsed": false
   },
   "outputs": [
    {
     "name": "stdout",
     "output_type": "stream",
     "text": [
      "0.7853981633974483\n",
      "0.9\n"
     ]
    }
   ],
   "source": [
    "# Calculate pi by calculating area of quarter circle\n",
    "\n",
    "def estimate_pi(n_attempts = 10000):\n",
    "    \"\"\" Estimate pi from area of quarter circle \"\"\" \n",
    "    count_successes = 0\n",
    "    for i in range(n_attempts):\n",
    "        x_rand = np.random.random()\n",
    "        y_rand = np.random.random()\n",
    "        dist = math.sqrt( x_rand **2 + y_rand**2 )\n",
    "        if dist <= 1.:\n",
    "            count_successes += 1\n",
    "    return float(count_successes) / n_attempts\n",
    "\n",
    "\n",
    "print( math.pi / 4. )\n",
    "print( estimate_pi(10) )"
   ]
  },
  {
   "cell_type": "code",
   "execution_count": 22,
   "metadata": {
    "collapsed": false
   },
   "outputs": [
    {
     "data": {
      "image/png": "[encoded data removed]",
      "text/plain": [
       "<matplotlib.figure.Figure at 0x1105fc6a0>"
      ]
     },
     "metadata": {},
     "output_type": "display_data"
    }
   ],
   "source": [
    "# Calculate distribution of firing times of a model neuron\n",
    "\n",
    "def time_to_fire( threshold , lamb, scale_size):\n",
    "    \"\"\" Simulate distribution of times for neuron that sums\n",
    "    inputs and fires when sum exceeds threshold \"\"\"\n",
    "    state = 0.\n",
    "    time = 0.\n",
    "    while state < threshold: \n",
    "        # Update time\n",
    "        delay_between_inputs = np.random.poisson(lamb)\n",
    "        time += delay_between_inputs\n",
    "        \n",
    "        # Update state\n",
    "        size_of_input = scale_size * np.random.random()\n",
    "        state += size_of_input\n",
    "        \n",
    "    return time    \n",
    "\n",
    "# Initialize variables\n",
    "N_neurons = 10000\n",
    "threshold = 1.\n",
    "scale_size = 0.1\n",
    "lamb = 1.\n",
    "\n",
    "list_times = []\n",
    "for neuron in range(N_neurons):\n",
    "    list_times.append( time_to_fire( threshold , lamb, scale_size) )\n",
    "\n",
    "    \n",
    "#print list_times\n",
    "\n",
    "plt.hist(list_times, 30)\n",
    "plt.xlabel(\"Time to fire\")\n",
    "plt.ylabel(\"Frequency\")\n",
    "\n",
    "plt.show()\n"
   ]
  },
  {
   "cell_type": "code",
   "execution_count": null,
   "metadata": {
    "collapsed": false
   },
   "outputs": [],
   "source": []
  }
 ],
 "metadata": {
  "anaconda-cloud": {},
  "kernelspec": {
   "display_name": "Python [Root]",
   "language": "python",
   "name": "Python [Root]"
  },
  "language_info": {
   "codemirror_mode": {
    "name": "ipython",
    "version": 3
   },
   "file_extension": ".py",
   "mimetype": "text/x-python",
   "name": "python",
   "nbconvert_exporter": "python",
   "pygments_lexer": "ipython3",
   "version": "3.5.1"
  }
 },
 "nbformat": 4,
 "nbformat_minor": 0
}
