{
 "metadata": {
  "kernelspec": {
   "display_name": "Python 3",
   "language": "python",
   "name": "python3"
  },
  "language_info": {
   "codemirror_mode": {
    "name": "ipython",
    "version": 3
   },
   "file_extension": ".py",
   "mimetype": "text/x-python",
   "name": "python",
   "nbconvert_exporter": "python",
   "pygments_lexer": "ipython3",
   "version": "3.4.1"
  },
  "name": "",
  "signature": "sha256:7bcfae34702efc2122e5543738ded3b8a08fe8acc9eb785a81bcca4ec8265c53"
 },
 "nbformat": 3,
 "nbformat_minor": 0,
 "worksheets": [
  {
   "cells": [
    {
     "cell_type": "code",
     "collapsed": false,
     "input": [
      "import numpy as np"
     ],
     "language": "python",
     "metadata": {},
     "outputs": []
    },
    {
     "cell_type": "markdown",
     "metadata": {},
     "source": [
      "# NumPy - *Num*eric *Py*thon\n",
      "\n",
      "When dealing with large amounts of numbers, we can use specialized packages like NumPy to make writing and executing code much faster. Typically, if we have a bunch of numbers we will want to perform the same operation or mathematical function on large swaths of data. While we can do this in standard Python, of course, NumPy is able to ***vectorize*** the operations, running them hundreds or thousands of times faster.\n",
      "\n",
      "Much of Numpy is implemented to match MATLAB: if you know how use MATLAB, check out [NumPy for MATLAB users](http://wiki.scipy.org/NumPy_for_Matlab_Users) on how to translate your knowledge. `ones`, `size` and `linspace` are all here.\n",
      "\n",
      "## Easier to Write\n",
      "In mathematics, equations are commonly written where it's implicit that they will be applied to all your data: there aren't `for` loops.\n",
      "\n",
      "Matrix operations (which operate on 'tables' of data and can perform unique calculations at every coordinate) are also commonly written as though they're just multiplication and addition. If I want to double the value of everything in a matrix $\\mathbf{A}$, I simply write $2 \\times \\mathbf{A}$ and that would do (as an example):\n",
      "\n",
      "$$2 \\times \\begin{bmatrix}1 & 2\\\\3 & 4\\end{bmatrix} = \\begin{bmatrix}2 & 4\\\\6 & 8\\end{bmatrix}$$\n",
      "\n",
      "## Faster to Run\n",
      "\n",
      "When you watch an HD YouTube video, the 1-10 megabit per second stream your computer downloads is decompressed into a 1-10 **gigabit** per second raw video stream using some fairly complicated math. \n",
      "\n",
      "However, ever since the Intel Pentium with [MMX](https://en.wikipedia.org/wiki/MMX_%28instruction_set%29), debuting in 1997, processors have had special instructions (methods of operating) that efficiently process multiple chunks of data with a single command. These [single-instruction, multiple-data (SIMD)](https://en.wikipedia.org/wiki/SIMD) instructions have been continually expanded ever since to accomodate the types of math (video processing and encryption) we expect our devices to do.\n",
      "\n",
      "![](https://upload.wikimedia.org/wikipedia/en/d/d5/PentiumMMX-presslogo.jpg)"
     ]
    },
    {
     "cell_type": "code",
     "collapsed": false,
     "input": [
      "odds = [1, 3, 5, 7, 9, 11, 13, 15]\n",
      "odds = np.array(odds)\n",
      "# evens = ?"
     ],
     "language": "python",
     "metadata": {},
     "outputs": []
    },
    {
     "cell_type": "code",
     "collapsed": false,
     "input": [
      "# Standard Python\n",
      "evens = []\n",
      "for x in odds:\n",
      "    evens.append(x + 1)\n",
      "\n",
      "other_evens = [2 * x for x in odds]\n",
      "    \n",
      "print(evens)\n",
      "print(other_evens)"
     ],
     "language": "python",
     "metadata": {},
     "outputs": []
    },
    {
     "cell_type": "code",
     "collapsed": false,
     "input": [
      "# Numpy\n",
      "evens = odds + 1\n",
      "other_evens = 2 * odds\n",
      "\n",
      "print(evens)\n",
      "print(other_evens)"
     ],
     "language": "python",
     "metadata": {},
     "outputs": []
    },
    {
     "cell_type": "markdown",
     "metadata": {},
     "source": [
      "# NumPy arrays - `np.array()`"
     ]
    },
    {
     "cell_type": "code",
     "collapsed": false,
     "input": [
      "%matplotlib inline"
     ],
     "language": "python",
     "metadata": {},
     "outputs": []
    },
    {
     "cell_type": "code",
     "collapsed": false,
     "input": [
      "import math\n",
      "import numpy as np\n",
      "import matplotlib.pyplot as plt\n",
      "import matplotlib.cm as cm\n",
      "from pylab import imread"
     ],
     "language": "python",
     "metadata": {},
     "outputs": []
    },
    {
     "cell_type": "markdown",
     "metadata": {},
     "source": [
      "## Your data has a dimension"
     ]
    },
    {
     "cell_type": "markdown",
     "metadata": {},
     "source": [
      "### 1-D data structures\n",
      "\n",
      "Examples:\n",
      "\n",
      " * (univariate) time-series\n",
      " * lists"
     ]
    },
    {
     "cell_type": "code",
     "collapsed": false,
     "input": [
      "t = np.linspace(0, 10, 10000)\n",
      "timeseries = np.sin(t) + np.sin(t*2.5) + np.random.normal(0, 0.1, size=10000)\n",
      "print('time-series data:')\n",
      "print(timeseries)\n",
      "\n",
      "print()\n",
      "\n",
      "print('time-series representation:')\n",
      "fig, ax = plt.subplots(figsize=(10, 2))\n",
      "ax.plot(timeseries)\n",
      "plt.show()"
     ],
     "language": "python",
     "metadata": {},
     "outputs": []
    },
    {
     "cell_type": "code",
     "collapsed": false,
     "input": [
      "timeseries[0]"
     ],
     "language": "python",
     "metadata": {},
     "outputs": []
    },
    {
     "cell_type": "markdown",
     "metadata": {},
     "source": [
      "### 2-D data structures\n",
      "\n",
      "Examples:\n",
      "\n",
      "* multivariate time-series\n",
      "* spreadsheets\n",
      "* (monochrome) images"
     ]
    },
    {
     "cell_type": "code",
     "collapsed": false,
     "input": [
      "bird = imread(\"bird.png\")\n",
      "print('image data:')\n",
      "print(bird)\n",
      "\n",
      "print()\n",
      "\n",
      "print('image representation:')\n",
      "plt.imshow(bird, cmap=cm.gray)\n",
      "plt.show()"
     ],
     "language": "python",
     "metadata": {},
     "outputs": []
    },
    {
     "cell_type": "code",
     "collapsed": false,
     "input": [
      "bird[20, 50]"
     ],
     "language": "python",
     "metadata": {},
     "outputs": []
    },
    {
     "cell_type": "markdown",
     "metadata": {},
     "source": [
      "### 3-D data structures\n",
      "\n",
      "Examples:\n",
      "\n",
      "* color images\n",
      "* (monochrome) videos\n",
      "* panel data"
     ]
    },
    {
     "cell_type": "code",
     "collapsed": false,
     "input": [
      "bird2 = imread('color_bird.png')\n",
      "\n",
      "print('split representation:')\n",
      "\n",
      "fig, ax = plt.subplots(nrows=1, ncols=3)\n",
      "cmaps = [cm.Reds, cm.Greens, cm.Blues]\n",
      "labels = ['red', 'green', 'blue']\n",
      "\n",
      "for i in range(3):\n",
      "    ax[i].imshow(bird2[:,:,i], cmap=cmaps[i])\n",
      "    ax[i].set_title(labels[i])\n",
      "    \n",
      "plt.tight_layout()\n",
      "plt.show()\n",
      "\n",
      "print('combined representation:')\n",
      "plt.imshow(bird2)\n",
      "plt.show()"
     ],
     "language": "python",
     "metadata": {},
     "outputs": []
    },
    {
     "cell_type": "code",
     "collapsed": false,
     "input": [
      "bird2[400, 10, 0]"
     ],
     "language": "python",
     "metadata": {},
     "outputs": []
    },
    {
     "cell_type": "code",
     "collapsed": false,
     "input": [
      "print('time series:', type(timeseries))\n",
      "print('bird 1:', type(bird))\n",
      "print('bird 2:', type(bird2))"
     ],
     "language": "python",
     "metadata": {},
     "outputs": []
    },
    {
     "cell_type": "heading",
     "level": 1,
     "metadata": {},
     "source": [
      "Why use NumPy?"
     ]
    },
    {
     "cell_type": "markdown",
     "metadata": {},
     "source": [
      "**Exercise 1**: Add together all values in *list_of_lists*"
     ]
    },
    {
     "cell_type": "code",
     "collapsed": false,
     "input": [
      "list_of_lists = [[10, 12, 32], [19, 25, 15]]\n",
      "print(list_of_lists)\n",
      "\n",
      "# Hint: use a for loop inside another for loop"
     ],
     "language": "python",
     "metadata": {},
     "outputs": []
    },
    {
     "cell_type": "markdown",
     "metadata": {},
     "source": [
      "**Exercise 2**: Plot a sine wave using $x$ values between 0 and 20"
     ]
    },
    {
     "cell_type": "code",
     "collapsed": false,
     "input": [
      "x = list(range(20))\n",
      "print('x:')\n",
      "print(x)\n",
      "\n",
      "# Hint 1: use math.sin() to make y values then plot.\n",
      "y = []\n",
      "\n",
      "#plt.plot(x, y)"
     ],
     "language": "python",
     "metadata": {},
     "outputs": []
    },
    {
     "cell_type": "markdown",
     "metadata": {},
     "source": [
      "### How to store data using NumPy"
     ]
    },
    {
     "cell_type": "raw",
     "metadata": {},
     "source": [
      "1D,  Prices of fuits\n",
      "    3 fruits [apple, banana, lemon]\n",
      "    ___\n",
      "    1 dimension\n",
      "    3 values (the price of each fruit)"
     ]
    },
    {
     "cell_type": "code",
     "collapsed": false,
     "input": [
      "fuits_1d = np.array([1.5, 3.2, 0.99])\n",
      "\n",
      "print('array:')\n",
      "print(fuits_1d)\n",
      "print('dtype:', fuits_1d.dtype)\n",
      "print('shape:', fuits_1d.shape)\n",
      "print()\n",
      "print('min:', np.min(fuits_1d))\n",
      "print('mean:', np.mean(fuits_1d))\n",
      "print('max:', np.max(fuits_1d))"
     ],
     "language": "python",
     "metadata": {},
     "outputs": []
    },
    {
     "cell_type": "code",
     "collapsed": false,
     "input": [
      "fuits_1d[0]"
     ],
     "language": "python",
     "metadata": {},
     "outputs": []
    },
    {
     "cell_type": "raw",
     "metadata": {},
     "source": [
      "2D,  Prices of fuits\n",
      "    2 stores [Jewel Osco, Whole Foods]\n",
      "    3 fruits [apple, banana, lemon]\n",
      "    ___\n",
      "    2 dimensions\n",
      "    6 values (the price of each fruit at each store)"
     ]
    },
    {
     "cell_type": "code",
     "collapsed": false,
     "input": [
      "# rows = stores\n",
      "# columns = fruits\n",
      "# values = prices\n",
      "\n",
      "fruits_2d = np.array([[1.5, 3.2, 0.99],\n",
      "                      [1.7, 3.3, 0.75]])\n",
      "\n",
      "print('array:')\n",
      "print(fruits_2d)\n",
      "print('dtype:', fruits_2d.dtype)\n",
      "print('shape:', fruits_2d.shape)\n",
      "print()\n",
      "print('min:', np.min(fruits_2d))\n",
      "print('mean:', np.mean(fruits_2d))\n",
      "print('max:', np.max(fruits_2d))"
     ],
     "language": "python",
     "metadata": {},
     "outputs": []
    },
    {
     "cell_type": "code",
     "collapsed": false,
     "input": [
      "fruits_2d[0]"
     ],
     "language": "python",
     "metadata": {},
     "outputs": []
    },
    {
     "cell_type": "raw",
     "metadata": {},
     "source": [
      "3D,  Prices of fuits\n",
      "   2 cities [Chicago, Evanston]\n",
      "   2 stores [Jewel Osco, Whole Foods]\n",
      "   3 fruits [apple, banana, lemon]\n",
      "\n",
      "The array keeps track of the price of each fruit at each store in each city."
     ]
    },
    {
     "cell_type": "code",
     "collapsed": false,
     "input": [
      "fruits_3d = np.array([[[1.5, 3.2, 0.99],\n",
      "                      [1.7, 3.3, 0.75],],\n",
      "                      \n",
      "                      [[1.5, 3.0, 0.97],\n",
      "                      [1.8, 3.1, 0.81]]])"
     ],
     "language": "python",
     "metadata": {},
     "outputs": []
    },
    {
     "cell_type": "markdown",
     "metadata": {},
     "source": [
      "**Socrative Questions 1 - 5**"
     ]
    },
    {
     "cell_type": "markdown",
     "metadata": {},
     "source": [
      "### NumPy arrays use different data types\n",
      "...and the type is immutable\n",
      "\n",
      "Reference: http://docs.scipy.org/doc/numpy/reference/arrays.dtypes.html\n",
      "\n",
      "**Golden Rule of Numpy Types:** If the types are different, don't put them in the same array"
     ]
    },
    {
     "cell_type": "markdown",
     "metadata": {},
     "source": [
      "Important Types:\n",
      "\n",
      "* `bool`\n",
      "* `int`\n",
      "* `float`\n",
      "\n",
      "All NumPy Types:\n",
      "\n",
      "* Booleans: `bool_`\n",
      "* Integers: `int8`, `int16`, `int32`, `int64`\n",
      "* Unsigned Integers: `uint8`, `uint16`, `uint32`, `uint64`\n",
      "* Floating Points: `float16`, `float32`, `float64`, `float128`\n",
      "* Complex Numbers: `complex64`, `complex128`, `complex256`\n",
      "* Other: `str_`, `datetime64`, `timedelta64`, `object_`, `bytes_`, `void`"
     ]
    },
    {
     "cell_type": "code",
     "collapsed": false,
     "input": [
      "array_a = np.array([True, True, False])\n",
      "\n",
      "print('array:', array_a)\n",
      "print('array dtype:', array_a.dtype)\n",
      "print('element type:', type(array_a[1]))"
     ],
     "language": "python",
     "metadata": {},
     "outputs": []
    },
    {
     "cell_type": "code",
     "collapsed": false,
     "input": [
      "array_b = np.array([1, 2, 6])\n",
      "\n",
      "print('array:', array_b)\n",
      "print('array dtype:', array_b.dtype)\n",
      "print('element type:', type(array_b[1]))"
     ],
     "language": "python",
     "metadata": {},
     "outputs": []
    },
    {
     "cell_type": "code",
     "collapsed": false,
     "input": [
      "array_c = np.array([1.0, 2.7, 6.3])\n",
      "print('array:', array_c)\n",
      "print('array dtype:', array_c.dtype)\n",
      "print('element type:', type(array_c[0]))"
     ],
     "language": "python",
     "metadata": {},
     "outputs": []
    },
    {
     "cell_type": "code",
     "collapsed": false,
     "input": [
      "array_d = np.array(['A', 'B', 'C'])\n",
      "print('array:', array_d)\n",
      "print('array dtype:', array_d.dtype)\n",
      "print('element type:', type(array_d[0]))"
     ],
     "language": "python",
     "metadata": {},
     "outputs": []
    },
    {
     "cell_type": "markdown",
     "metadata": {},
     "source": [
      "***Socrative Questions 6, 7***"
     ]
    },
    {
     "cell_type": "markdown",
     "metadata": {},
     "source": [
      "## Reshaping Numpy Arrays\n",
      "`shape` is immutable, but new arrays can be created with a new shape"
     ]
    },
    {
     "cell_type": "markdown",
     "metadata": {},
     "source": [
      "Useful shape related functions:\n",
      "\n",
      "* [`array.reshape()`](http://docs.scipy.org/doc/numpy/reference/generated/numpy.reshape.html): change the shape of an array\n",
      "* [`array.ravel()`](http://docs.scipy.org/doc/numpy/reference/generated/numpy.ravel.html): turn array into 1-D array"
     ]
    },
    {
     "cell_type": "code",
     "collapsed": false,
     "input": [
      "arr = np.array([0, 1, 2, 3, 4, 5, 6, 7, 8, 9, 10 ,11])\n",
      "\n",
      "print('array:')\n",
      "print(arr)\n",
      "print('dtype:', arr.dtype)\n",
      "print('shape:', arr.shape)"
     ],
     "language": "python",
     "metadata": {},
     "outputs": []
    },
    {
     "cell_type": "code",
     "collapsed": false,
     "input": [
      "arr2 = arr.reshape(2, 6)\n",
      "\n",
      "print('array:')\n",
      "print(arr2)\n",
      "print()\n",
      "print('dtype:', arr2.dtype)\n",
      "print('shape:', arr2.shape)"
     ],
     "language": "python",
     "metadata": {},
     "outputs": []
    },
    {
     "cell_type": "markdown",
     "metadata": {},
     "source": [
      "***Socrative Questions 8, 9, 10***"
     ]
    },
    {
     "cell_type": "markdown",
     "metadata": {},
     "source": [
      "## Arrays vs. Lists\n",
      "\n",
      "1-D arrays are very similar to lists, with a couple key differences"
     ]
    },
    {
     "cell_type": "code",
     "collapsed": false,
     "input": [
      "a_list = [1, 2, 3, 4, 5, 6, 7, 8, 9, 10]\n",
      "\n",
      "an_array = np.array(a_list)\n",
      "\n",
      "print(a_list, type(a_list))\n",
      "print(an_array, type(an_array))"
     ],
     "language": "python",
     "metadata": {},
     "outputs": []
    },
    {
     "cell_type": "code",
     "collapsed": false,
     "input": [
      "print(a_list[1:5])\n",
      "print(an_array[1:5])"
     ],
     "language": "python",
     "metadata": {},
     "outputs": []
    },
    {
     "cell_type": "code",
     "collapsed": false,
     "input": [
      "for i in a_list[5:8]:\n",
      "    print(i)\n",
      "    \n",
      "print()\n",
      "\n",
      "for i in an_array[5:8]:\n",
      "    print(i)"
     ],
     "language": "python",
     "metadata": {},
     "outputs": []
    },
    {
     "cell_type": "code",
     "collapsed": false,
     "input": [
      "print('list contents:')\n",
      "for i in a_list[:2]:\n",
      "    print(i, type(i))\n",
      "\n",
      "print('\\narray contents:')\n",
      "for i in an_array[:2]:\n",
      "    print(i, type(i))"
     ],
     "language": "python",
     "metadata": {},
     "outputs": []
    },
    {
     "cell_type": "markdown",
     "metadata": {},
     "source": [
      "***Socrative Questions 11, 12***"
     ]
    },
    {
     "cell_type": "markdown",
     "metadata": {},
     "source": [
      "## Making Common Arrays\n",
      "\n",
      "There are many functions provided to make common arrays"
     ]
    },
    {
     "cell_type": "markdown",
     "metadata": {},
     "source": [
      "Common 1-D arrays:\n",
      "* [`np.arange()`](http://docs.scipy.org/doc/numpy/reference/generated/numpy.arange.html) - Sequential numbers\n",
      "* [`np.linspace()`](http://docs.scipy.org/doc/numpy/reference/generated/numpy.linspace.html) - Linearly-spaced values\n",
      "* [`np.logspace()`](http://docs.scipy.org/doc/numpy/reference/generated/numpy.logspace.html) - Logarithmically-spaced values\n",
      "\n",
      "Common square arrays:\n",
      "* [`np.identity()`](http://docs.scipy.org/doc/numpy/reference/generated/numpy.identity.html) - Identity matrix\n",
      "\n",
      "Common arbitrarily-shaped arrays:\n",
      "* [`np.ones()`](http://docs.scipy.org/doc/numpy/reference/generated/numpy.ones.html) - All 1's\n",
      "* [`np.zeros()`](http://docs.scipy.org/doc/numpy/reference/generated/numpy.zeros.html) - All 0's\n",
      "* [`np.random.random()`](http://docs.scipy.org/doc/numpy/reference/generated/numpy.random.random.html) - Random numbers from 0 to 1"
     ]
    },
    {
     "cell_type": "code",
     "collapsed": false,
     "input": [
      "d = np.linspace(0,10.5, 6)\n",
      "print('array:', d)\n",
      "print('shape:', d.shape)\n",
      "print('dtype:',d.dtype)"
     ],
     "language": "python",
     "metadata": {},
     "outputs": []
    },
    {
     "cell_type": "code",
     "collapsed": false,
     "input": [
      "a = np.ones((5,4))\n",
      "\n",
      "print('array:')\n",
      "print(a)\n",
      "print('shape:', a.shape)\n",
      "print('dtype:', a.dtype)"
     ],
     "language": "python",
     "metadata": {},
     "outputs": []
    },
    {
     "cell_type": "code",
     "collapsed": false,
     "input": [
      "rand_array = np.random.random(size=(2,5))\n",
      "\n",
      "print('array:')\n",
      "print(rand_array)\n",
      "print('shape:', rand_array.shape)\n",
      "print('sum:', rand_array.sum())\n",
      "print('mean:', rand_array.mean())\n",
      "print('std:', rand_array.std())\n",
      "\n",
      "plt.pcolormesh(rand_array)\n",
      "plt.show()"
     ],
     "language": "python",
     "metadata": {},
     "outputs": []
    },
    {
     "cell_type": "markdown",
     "metadata": {},
     "source": [
      "***Socrative Questions 14, 15***"
     ]
    },
    {
     "cell_type": "markdown",
     "metadata": {},
     "source": [
      "### Mathematical Functions in NumPy\n",
      "\n",
      "NumPy has a lot of functions that operate on a single array\n",
      "\n",
      "* `np.abs()`, `np.sign()`\n",
      "* `np.sqrt()`: Square root\n",
      "* `np.log()`: Natural logarithm\n",
      "* `np.log10()`: Log base-10\n",
      "* `np.exp()`: $e^x$\n",
      "\n",
      "Trigonometry:\n",
      "\n",
      "* `np.sin()`, `np.cos()`, `np.tan()`\n",
      "* `np.arcsin()`, `np.arccos()`, `arctan()`\n",
      "* `np.sinh()`, `np.cosh()`, `np.tanh()`\n",
      "* `np.arcsinh()`, `np.arccosh()`, `np.arctanh()`\n",
      "\n",
      "NumPy also has many functions that operate on two or more arrays:\n",
      "\n",
      "* [`np.dot()`][dot]: Dot product\n",
      "* [`np.cross()`][cross]: Cross product\n",
      "* [`np.correlate()`][corr]: Cross-correlation of two 1-dimensional sequences\n",
      "\n",
      "... many more\n",
      "\n",
      "[dot]:  http://docs.scipy.org/doc/numpy/reference/generated/numpy.dot.html\n",
      "[cross]:http://docs.scipy.org/doc/numpy/reference/generated/numpy.cross.html\n",
      "[corr]: http://docs.scipy.org/doc/numpy/reference/generated/numpy.correlate.html"
     ]
    },
    {
     "cell_type": "code",
     "collapsed": false,
     "input": [
      "x = np.linspace(start=0, stop=20, num=10000)\n",
      "print('x shape:', x.shape)\n",
      "\n",
      "y_cos = np.cos(x)\n",
      "y_sin = np.sin(x)\n",
      "\n",
      "print('shape:', y_cos.shape)\n",
      "print('shape:', y_sin.shape)\n",
      "\n",
      "plt.plot(x, y_cos)\n",
      "plt.plot(x, y_sin)\n",
      "plt.show()"
     ],
     "language": "python",
     "metadata": {},
     "outputs": []
    },
    {
     "cell_type": "code",
     "collapsed": false,
     "input": [
      "t = np.linspace(0, 100, 1000)\n",
      "\n",
      "x = np.cos(t)\n",
      "y = np.sin(x) * x * t\n",
      "plt.plot(x, y, alpha=0.4)"
     ],
     "language": "python",
     "metadata": {},
     "outputs": []
    },
    {
     "cell_type": "heading",
     "level": 2,
     "metadata": {},
     "source": [
      "Array Operations"
     ]
    },
    {
     "cell_type": "markdown",
     "metadata": {},
     "source": [
      "way, way faster than iterating through an array"
     ]
    },
    {
     "cell_type": "raw",
     "metadata": {},
     "source": [
      "Mathematical Operations:\n",
      "    +, -, /, //, %"
     ]
    },
    {
     "cell_type": "raw",
     "metadata": {},
     "source": [
      "Time to bike from home to work (minutes)\n",
      "    3 columns [mon, wed, fri]\n",
      "    2 rows [to work, from work]"
     ]
    },
    {
     "cell_type": "code",
     "collapsed": false,
     "input": [
      "alice_biking = np.array([19.72, 20.34, 21.30, 17.26, 32.89, 23.44]).reshape(2, 3)\n",
      "alice_biking"
     ],
     "language": "python",
     "metadata": {},
     "outputs": []
    },
    {
     "cell_type": "code",
     "collapsed": false,
     "input": [
      "bob_biking = np.array([ 19.38,   28.50,  21.72, 28.55,  29.71,  18.00]).reshape(2, 3)\n",
      "bob_biking"
     ],
     "language": "python",
     "metadata": {},
     "outputs": []
    },
    {
     "cell_type": "code",
     "collapsed": false,
     "input": [
      "alice_biking - bob_biking"
     ],
     "language": "python",
     "metadata": {},
     "outputs": []
    },
    {
     "cell_type": "heading",
     "level": 5,
     "metadata": {},
     "source": [
      "convert numeric arrays to boolean arrays"
     ]
    },
    {
     "cell_type": "code",
     "collapsed": false,
     "input": [
      "alice_biking > bob_biking"
     ],
     "language": "python",
     "metadata": {},
     "outputs": []
    },
    {
     "cell_type": "code",
     "collapsed": false,
     "input": [
      "alice_biking > np.mean(alice_biking)"
     ],
     "language": "python",
     "metadata": {},
     "outputs": []
    },
    {
     "cell_type": "heading",
     "level": 6,
     "metadata": {},
     "source": [
      "boolean arrays suport boolean operations"
     ]
    },
    {
     "cell_type": "markdown",
     "metadata": {},
     "source": [
      "Boolean Operations:\n",
      "\n",
      "* `np.logical_not()` = **`~`** (tilde)\n",
      "* `np.logical_xor()` = **`^`** (carat)  (xor: one but not the other)\n",
      "* `np.logical_or()` = **`|`** (pipe)  \n",
      "* `np.logical_and()` = **`&`** (ampersand)     "
     ]
    },
    {
     "cell_type": "code",
     "collapsed": false,
     "input": [
      "alice_good_days = alice_biking < np.mean(alice_biking)\n",
      "alice_good_days"
     ],
     "language": "python",
     "metadata": {},
     "outputs": []
    },
    {
     "cell_type": "code",
     "collapsed": false,
     "input": [
      "bob_good_days = bob_biking < np.mean(bob_biking)\n",
      "bob_good_days"
     ],
     "language": "python",
     "metadata": {},
     "outputs": []
    },
    {
     "cell_type": "code",
     "collapsed": false,
     "input": [
      "np.logical_xor(alice_good_days, bob_good_days)"
     ],
     "language": "python",
     "metadata": {},
     "outputs": []
    },
    {
     "cell_type": "markdown",
     "metadata": {},
     "source": [
      "***Socrative Questions 16-22***"
     ]
    },
    {
     "cell_type": "heading",
     "level": 3,
     "metadata": {},
     "source": [
      "slicing in multiple dimensions"
     ]
    },
    {
     "cell_type": "raw",
     "metadata": {},
     "source": [
      "1D Data:\n",
      "\n",
      "a[i] # the value stored at i\n",
      "\n",
      "a[start:end] # items start through end-1\n",
      "a[start:]    # items start through the rest of the array\n",
      "a[:end]      # items from the beginning through end-1\n",
      "a[:]         # a copy of the whole array\n",
      "\n",
      "a[::2]       # a copy of the whole array"
     ]
    },
    {
     "cell_type": "code",
     "collapsed": false,
     "input": [
      "a = np.arange(12)\n",
      "\n",
      "print('full array:')\n",
      "print(a)\n",
      "\n",
      "print()\n",
      "\n",
      "print('array slice:')\n",
      "print(a[3:])"
     ],
     "language": "python",
     "metadata": {},
     "outputs": []
    },
    {
     "cell_type": "raw",
     "metadata": {},
     "source": [
      "2D Data:\n",
      "\n",
      "a[row, column] # the value stored at row, column\n",
      "\n",
      "a[row_start: row_end, column_start: column_end] # all values between row_start and row_end\n",
      "                                                # and column_start and column_end\n",
      "    \n",
      "a[::, ::2] # the full array with every other column"
     ]
    },
    {
     "cell_type": "code",
     "collapsed": false,
     "input": [
      "alice_biking = np.array([19.72, 20.34, 21.30, 17.26, 32.89, 23.44]).reshape(2, 3)\n",
      "\n",
      "print('array:')\n",
      "print(alice_biking)\n",
      "\n",
      "print('shape:', alice_biking.shape)"
     ],
     "language": "python",
     "metadata": {},
     "outputs": []
    },
    {
     "cell_type": "code",
     "collapsed": false,
     "input": [
      "b = alice_biking[:,1:]   # a[rows, columns]\n",
      "\n",
      "print(b)\n",
      "print(b.shape)"
     ],
     "language": "python",
     "metadata": {},
     "outputs": []
    },
    {
     "cell_type": "raw",
     "metadata": {},
     "source": [
      "Fancy indexing uses lists:\n",
      "a[[0, 1, 2]]  # the first three rows\n",
      "a[[0, 2]]     # the first and third rows in a\n",
      "a[[3, 1, 0]]  # the first three rows in reverse order\n",
      "\n",
      "In two dimensions:\n",
      "a[row_list, column_list]"
     ]
    },
    {
     "cell_type": "code",
     "collapsed": false,
     "input": [
      "print('origional array:')\n",
      "print(bob_biking)\n",
      "\n",
      "print()\n",
      "\n",
      "print('columns reordered:')\n",
      "print(bob_biking[:,[0,2,1]])"
     ],
     "language": "python",
     "metadata": {},
     "outputs": []
    },
    {
     "cell_type": "markdown",
     "metadata": {},
     "source": [
      "***Socrative Questions 23-26***"
     ]
    },
    {
     "cell_type": "markdown",
     "metadata": {},
     "source": [
      "### Class Exercise:\n",
      "\n",
      "** slice the bird array to only include the bird's head **"
     ]
    },
    {
     "cell_type": "code",
     "collapsed": false,
     "input": [
      "bird = imread('bird.png')\n",
      "print('dtype :', bird.dtype)\n",
      "print('shape :', bird.shape)\n",
      "\n",
      "bird_slice = bird[::,::]\n",
      "\n",
      "plt.imshow(bird_slice, cmap=cm.gray)\n",
      "plt.show()"
     ],
     "language": "python",
     "metadata": {},
     "outputs": []
    },
    {
     "cell_type": "heading",
     "level": 2,
     "metadata": {},
     "source": [
      "Broadcasting"
     ]
    },
    {
     "cell_type": "markdown",
     "metadata": {},
     "source": [
      "the term 'broadcasting' is used to describe what happens when you add an array to something that is a different shape "
     ]
    },
    {
     "cell_type": "markdown",
     "metadata": {},
     "source": [
      "### General rule of Broadcasting:\n",
      "\n",
      "An array can be broadcast with a number, a row-shaped array, a column-shaped array"
     ]
    },
    {
     "cell_type": "heading",
     "level": 6,
     "metadata": {},
     "source": [
      "broadcast: array and a float (or int)"
     ]
    },
    {
     "cell_type": "code",
     "collapsed": false,
     "input": [
      "a = np.array([1, 2,1, 4]).reshape(2, 2)\n",
      "b = 5"
     ],
     "language": "python",
     "metadata": {},
     "outputs": []
    },
    {
     "cell_type": "heading",
     "level": 5,
     "metadata": {},
     "source": [
      "broadcast: 2-D array and 1-D array"
     ]
    },
    {
     "cell_type": "code",
     "collapsed": false,
     "input": [
      "a = np.array([1, 2, 1, 4]).reshape(2, 2)\n",
      "b = np.array([1, 5]).reshape(1,2)\n",
      "\n",
      "print(a)\n",
      "print('+')\n",
      "print(b)\n",
      "print('=')\n",
      "print(a + b)\n",
      "\n",
      "print()\n",
      "\n",
      "print('shapes:', a.shape, '+', b.shape, '=', (a + b).shape)"
     ],
     "language": "python",
     "metadata": {},
     "outputs": []
    },
    {
     "cell_type": "code",
     "collapsed": false,
     "input": [
      "a = np.array([1, 2, 1, 4, 2, 3]).reshape(2, 3)\n",
      "b = np.array([1, 5]).reshape(2,1)\n",
      "\n",
      "print(a)\n",
      "print('+')\n",
      "print(b)\n",
      "print('=')\n",
      "print(a + b)\n",
      "\n",
      "print()\n",
      "\n",
      "print('shapes:', a.shape, '+', b.shape, '=', (a + b).shape)"
     ],
     "language": "python",
     "metadata": {},
     "outputs": []
    },
    {
     "cell_type": "code",
     "collapsed": false,
     "input": [
      "a = np.array([[1, 2, 6], [1, 4, 8]])\n",
      "b = np.array([[1, 2], [5, 6]])\n",
      "print('shapes:', a.shape, '+', b.shape, '= error')\n",
      "print()\n",
      "\n",
      "print(a)\n",
      "print('+')\n",
      "print(b)\n",
      "print('=')\n",
      "print(a + b)\n",
      "print()\n",
      "\n",
      "print('shapes:', a.shape, '+', b.shape, '=', (a + b).shape)"
     ],
     "language": "python",
     "metadata": {},
     "outputs": []
    },
    {
     "cell_type": "markdown",
     "metadata": {},
     "source": [
      "***Socrative Questions 27-31***"
     ]
    },
    {
     "cell_type": "markdown",
     "metadata": {},
     "source": [
      "# Itterating Through Arrays\n",
      "\n",
      "possible, but awkward"
     ]
    },
    {
     "cell_type": "code",
     "collapsed": false,
     "input": [
      "array_2d = np.array([[1,2,3], [2,3,4]])\n",
      "\n",
      "print('array:')\n",
      "print(array_2d)\n",
      "print()\n",
      "\n",
      "print('dtype:', array_2d.dtype)\n",
      "print('shape:', array_2d.shape)"
     ],
     "language": "python",
     "metadata": {},
     "outputs": []
    },
    {
     "cell_type": "code",
     "collapsed": false,
     "input": [
      "for row in array_2d:\n",
      "    print(row)"
     ],
     "language": "python",
     "metadata": {},
     "outputs": []
    },
    {
     "cell_type": "code",
     "collapsed": false,
     "input": [
      "array_3d = np.array([1, 2, 3, 8, 17, 19]).reshape(2, 3, 1)\n",
      "print('3d array:')\n",
      "print(array_3d)\n",
      "print('dtype:', array_3d.dtype)\n",
      "print('shape:', array_3d.shape)\n",
      "\n",
      "for row in array_3d:\n",
      "    print('\\nrow:')\n",
      "    print(row)\n",
      "    print('row shape:', row.shape)"
     ],
     "language": "python",
     "metadata": {},
     "outputs": []
    },
    {
     "cell_type": "markdown",
     "metadata": {},
     "source": [
      "## Column and Row operations\n",
      "\n",
      "Many NumPy functions (especially summary statistics) allow you to specify if the operation should be performed on the rows or columns with the `axis` keyword.\n",
      "\n",
      "Some functions like [`np.concatenate()`](http://docs.scipy.org/doc/numpy/reference/generated/numpy.concatenate.html) allow you to make new arrays by sticking existing arrays together"
     ]
    },
    {
     "cell_type": "raw",
     "metadata": {},
     "source": [
      "axis=0 --- columns\n",
      "axis=1 --- rows"
     ]
    },
    {
     "cell_type": "markdown",
     "metadata": {},
     "source": [
      "lets refresh our biking data"
     ]
    },
    {
     "cell_type": "code",
     "collapsed": false,
     "input": [
      "alice_biking = np.array([19.72, 20.34, 21.30, 17.26, 32.89, 23.44]).reshape(2, 3)\n",
      "bob_biking = np.array([ 19.38,   28.50,  21.72, 28.55,  29.71,  18.00]).reshape(2, 3)"
     ],
     "language": "python",
     "metadata": {},
     "outputs": []
    },
    {
     "cell_type": "code",
     "collapsed": false,
     "input": [
      "alice_biking - np.mean(alice_biking, axis=1).reshape(2,1)"
     ],
     "language": "python",
     "metadata": {},
     "outputs": []
    },
    {
     "cell_type": "code",
     "collapsed": false,
     "input": [
      "np.concatenate([alice_biking, bob_biking], axis=0)"
     ],
     "language": "python",
     "metadata": {},
     "outputs": []
    },
    {
     "cell_type": "markdown",
     "metadata": {},
     "source": [
      "# SciPy Tutorial\n",
      "\n",
      "for all your science needs: http://docs.scipy.org/doc/scipy/reference/tutorial/index.html"
     ]
    },
    {
     "cell_type": "markdown",
     "metadata": {},
     "source": [
      "Some Modules in SciPy:\n",
      "\n",
      "* Statistics ([`scipy.stats`][stats])\n",
      "<br><br>\n",
      "* Integration ([`scipy.integrate`][int])\n",
      "* Optimization ([`scipy.optimize`][opt])\n",
      "* Interpolation ([`scipy.interpolate`][intp])\n",
      "<br><br>\n",
      "* Fourier Transforms ([`scipy.fftpack`][fft])\n",
      "* Signal Processing ([`scipy.signal`][sig])\n",
      "* Linear Algebra ([`scipy.linalg`][lin])\n",
      "* Spatial data structures and algorithms ([`scipy.spatial`][spc])\n",
      "* Multidimensional image processing ([`scipy.ndimage`][img])\n",
      "\n",
      "[stats]:https://docs.scipy.org/doc/scipy-0.15.1/reference/stats.html\n",
      "[int]:  https://docs.scipy.org/doc/scipy-0.15.1/reference/integrate.html\n",
      "[opt]:  https://docs.scipy.org/doc/scipy-0.15.1/reference/optimize.html\n",
      "[intp]: https://docs.scipy.org/doc/scipy-0.15.1/reference/interpolate.html\n",
      "[fft]:  https://docs.scipy.org/doc/scipy-0.15.1/reference/fftpack.html\n",
      "[sig]:  https://docs.scipy.org/doc/scipy-0.15.1/reference/signal.html\n",
      "[lin]:  https://docs.scipy.org/doc/scipy-0.15.1/reference/linalg.html\n",
      "[spc]:  https://docs.scipy.org/doc/scipy-0.15.1/reference/spatial.html\n",
      "[img]:  https://docs.scipy.org/doc/scipy-0.15.1/reference/ndimage.html"
     ]
    },
    {
     "cell_type": "markdown",
     "metadata": {},
     "source": [
      "## Class Exercise:\n",
      "\n",
      "**1. Find the point in `random_points` that is closest to `my_point`.**\n",
      "\n",
      "Do not use iteration; use row/column operations."
     ]
    },
    {
     "cell_type": "code",
     "collapsed": false,
     "input": [
      "# create points\n",
      "# the two columns are x and y\n",
      "# each row is a point\n",
      "\n",
      "my_point = np.array([0.8, 0.6])\n",
      "random_points = np.random.random(size=(10, 2))"
     ],
     "language": "python",
     "metadata": {},
     "outputs": []
    },
    {
     "cell_type": "code",
     "collapsed": true,
     "input": [
      "# visualize my_point and random points\n",
      "\n",
      "fig, ax = plt.subplots(figsize=(4,4))\n",
      "ax.plot([my_point[0]], [my_point[1]], 'o', color='darkred', label='my point')\n",
      "ax.plot(random_points[:, 0], random_points[:, 1], '.', color='seagreen', label='random points')\n",
      "ax.legend(loc=(1.1, 0.5))\n",
      "ax.set_xlim([0, 1])\n",
      "ax.set_ylim([0, 1])\n",
      "plt.show()"
     ],
     "language": "python",
     "metadata": {},
     "outputs": []
    },
    {
     "cell_type": "markdown",
     "metadata": {},
     "source": [
      "**2. Reorder the points in random_points using their distance from my_point.**\n",
      "\n",
      "Do not use iteration. Try using [`np.argsort()`](http://docs.scipy.org/doc/numpy/reference/generated/numpy.argsort.html) and fancy indexing."
     ]
    },
    {
     "cell_type": "markdown",
     "metadata": {},
     "source": [
      "### More NumPy/Array Reading\n",
      "\n",
      "How arrays are used in image kernels: http://setosa.io/ev/image-kernels/\n",
      "\n",
      "How to use NumPy and array operations to make Conway's Game of Life: http://www.loria.fr/~rougier/teaching/numpy/numpy.html"
     ]
    },
    {
     "cell_type": "code",
     "collapsed": false,
     "input": [],
     "language": "python",
     "metadata": {},
     "outputs": []
    }
   ],
   "metadata": {}
  }
 ]
}