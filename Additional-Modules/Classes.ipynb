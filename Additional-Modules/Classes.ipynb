{
 "cells": [
  {
   "cell_type": "markdown",
   "metadata": {},
   "source": [
    "# Objects and Classes in Python\n",
    "\n",
    "[Think Python Classes Tutorial](http://www.greenteapress.com/thinkpython/html/thinkpython019.html)\n",
    "\n",
    "[Python Homepage Classes Tutorial](https://docs.python.org/3/tutorial/classes.html#class-objects)"
   ]
  },
  {
   "cell_type": "markdown",
   "metadata": {},
   "source": [
    "## Representing a playing card\n",
    "\n",
    "To make comparisons easier, we will use integers to represent the different suits and ranks.\n",
    "\n",
    "Suits:\n",
    " * Clubs: 0\n",
    " * Diamonds: 1\n",
    " * Hearts: 2\n",
    " * Spades: 3\n",
    " \n",
    "Ranks:\n",
    " * None: 0\n",
    " * Ace: 1\n",
    " * 2: 2\n",
    " * ...\n",
    " * Jack: 11\n",
    " * Queen: 12\n",
    " * King: 13"
   ]
  },
  {
   "cell_type": "code",
   "execution_count": null,
   "metadata": {
    "collapsed": false
   },
   "outputs": [],
   "source": [
    "# card as integers\n",
    "card_suit = 1; card_rank = 12\n",
    "\n",
    "# card as a tuple\n",
    "card_tuple = (1, 12)\n",
    "\n",
    "# card as a dict\n",
    "card_dict = {\"suit\": 1, \"rank\": 12}"
   ]
  },
  {
   "cell_type": "markdown",
   "metadata": {},
   "source": [
    "With python's built-in types you can change suits and ranks, compare different suits, and little more than that.\n",
    "\n",
    "But, in python you can also create your own variable types!"
   ]
  },
  {
   "cell_type": "markdown",
   "metadata": {},
   "source": [
    "#### A user-defined type is called a *class*"
   ]
  },
  {
   "cell_type": "code",
   "execution_count": null,
   "metadata": {
    "collapsed": false
   },
   "outputs": [],
   "source": [
    "class Card(object):\n",
    "    \"\"\"Represents a standard playing card.\"\"\""
   ]
  },
  {
   "cell_type": "code",
   "execution_count": null,
   "metadata": {
    "collapsed": false
   },
   "outputs": [],
   "source": [
    "print(Card)\n",
    "print(type(Card))"
   ]
  },
  {
   "cell_type": "markdown",
   "metadata": {},
   "source": [
    "#### A class is a factory for creating objects called *instances*.\n",
    "To create a class *instance* you call the class *object* as if it were a function:"
   ]
  },
  {
   "cell_type": "code",
   "execution_count": null,
   "metadata": {
    "collapsed": false
   },
   "outputs": [],
   "source": [
    "blank_card = Card()   # class instantiation\n",
    "print(blank_card)"
   ]
  },
  {
   "cell_type": "markdown",
   "metadata": {},
   "source": [
    "When you print an instance, Python tells you what class it belongs to and where it is stored in memory "
   ]
  },
  {
   "cell_type": "markdown",
   "metadata": {},
   "source": [
    "#### So what's the type of built-in types?"
   ]
  },
  {
   "cell_type": "code",
   "execution_count": null,
   "metadata": {
    "collapsed": false
   },
   "outputs": [],
   "source": [
    "print(type(int))\n",
    "print(type(tuple))\n",
    "print(type(dict))"
   ]
  },
  {
   "cell_type": "markdown",
   "metadata": {},
   "source": [
    "### Socrative Classes Question 1:\n",
    "In `x = int(5)` what's the class?\n",
    "\n",
    "### Socrative Classes Question 2:\n",
    "In `x = int(5)` what's the instance?"
   ]
  },
  {
   "cell_type": "markdown",
   "metadata": {},
   "source": [
    "#### Instances can have attributes"
   ]
  },
  {
   "cell_type": "markdown",
   "metadata": {},
   "source": [
    "You use dot notation to set and get attributes of an instance object"
   ]
  },
  {
   "cell_type": "code",
   "execution_count": null,
   "metadata": {
    "collapsed": false
   },
   "outputs": [],
   "source": [
    "# Go to the object `blank_card` refers to and get the value of `suit`\n",
    "blank_card.suit = 3\n",
    "\n",
    "# Go to the object `blank_card` refers to and get the value of `rank`\n",
    "blank_card.rank = 3\n",
    "\n",
    "print(blank_card.suit)"
   ]
  },
  {
   "cell_type": "markdown",
   "metadata": {},
   "source": [
    "Instances are mutable"
   ]
  },
  {
   "cell_type": "code",
   "execution_count": null,
   "metadata": {
    "collapsed": false
   },
   "outputs": [],
   "source": [
    "# Go to the object `blank_card` refers to and get the value of `suit` to 0\n",
    "blank_card.suit = 0\n",
    "\n",
    "print(blank_card.suit)"
   ]
  },
  {
   "cell_type": "markdown",
   "metadata": {},
   "source": [
    "### Socrative Classes Question 3:\n",
    "If you create a different Card instance, `other = Card()`, what happens when you do `other.suit`?"
   ]
  },
  {
   "cell_type": "markdown",
   "metadata": {},
   "source": [
    "#### Classes can have attributes too"
   ]
  },
  {
   "cell_type": "code",
   "execution_count": null,
   "metadata": {
    "collapsed": false
   },
   "outputs": [],
   "source": [
    "class Card(object):\n",
    "    \"\"\"Represents a standard playing card.\"\"\"  \n",
    "    suit = 0   # default suit\n",
    "    rank = 2   # default rank"
   ]
  },
  {
   "cell_type": "code",
   "execution_count": null,
   "metadata": {
    "collapsed": false
   },
   "outputs": [],
   "source": [
    "print(Card.suit)"
   ]
  },
  {
   "cell_type": "code",
   "execution_count": null,
   "metadata": {
    "collapsed": false
   },
   "outputs": [],
   "source": [
    "default = Card()\n",
    "print(default.suit)"
   ]
  },
  {
   "cell_type": "code",
   "execution_count": null,
   "metadata": {
    "collapsed": false
   },
   "outputs": [],
   "source": [
    "# class attributes are shared by all class instances\n",
    "Card.rank = 10\n",
    "print(default.rank)"
   ]
  },
  {
   "cell_type": "code",
   "execution_count": null,
   "metadata": {
    "collapsed": false
   },
   "outputs": [],
   "source": [
    "def print_card(card):\n",
    "    \"\"\"Prints the rank and suit of a card.\"\"\"\n",
    "    # All suit names\n",
    "    suit_names = ['Clubs', 'Diamonds', 'Hearts', 'Spades']\n",
    "    \n",
    "    # All rank names\n",
    "    rank_names = [\n",
    "        None, 'Ace', '2', '3', '4', '5', '6', '7', \n",
    "        '8', '9', '10', 'Jack', 'Queen', 'King'\n",
    "    ]\n",
    "    \n",
    "    return '{0} of {1}'.format(\n",
    "        rank_names[card.rank],\n",
    "        suit_names[card.suit]\n",
    "    )\n",
    "\n",
    "\n",
    "print_card(default)"
   ]
  },
  {
   "cell_type": "markdown",
   "metadata": {},
   "source": [
    "#### Classes can have their own functions, called *methods*"
   ]
  },
  {
   "cell_type": "code",
   "execution_count": null,
   "metadata": {
    "collapsed": false
   },
   "outputs": [],
   "source": [
    "class Card(object):\n",
    "    \"\"\"Represents a standard playing card.\"\"\"  \n",
    "    # All suit names\n",
    "    suit_names = ['Clubs', 'Diamonds', 'Hearts', 'Spades']\n",
    "    \n",
    "    # All rank names\n",
    "    rank_names = [\n",
    "        None, 'Ace', '2', '3', '4', '5', '6', '7', \n",
    "        '8', '9', '10', 'Jack', 'Queen', 'King'\n",
    "    ]    \n",
    "\n",
    "    suit = 0   # default suit\n",
    "    rank = 2   # default rank\n",
    "    \n",
    "    def print_card(self):\n",
    "        return '{0} of {1}'.format(\n",
    "            Card.rank_names[self.rank],\n",
    "            Card.suit_names[self.suit]\n",
    "        )"
   ]
  },
  {
   "cell_type": "code",
   "execution_count": null,
   "metadata": {
    "collapsed": false
   },
   "outputs": [],
   "source": [
    "king_of_hearts = Card()\n",
    "\n",
    "king_of_hearts.suit = 2\n",
    "king_of_hearts.rank = 13\n",
    "\n",
    "king_of_hearts.print_card()"
   ]
  },
  {
   "cell_type": "code",
   "execution_count": null,
   "metadata": {
    "collapsed": false
   },
   "outputs": [],
   "source": []
  },
  {
   "cell_type": "markdown",
   "metadata": {},
   "source": [
    "When using dot notation, the object the method is acting on (`king_of_hearts`) is assigned to the first parameter of the method.\n",
    "By convention we use `self` to represent that first parameter."
   ]
  },
  {
   "cell_type": "markdown",
   "metadata": {},
   "source": [
    "### Socrative Classes Question 4:\n",
    "What happens if you do `Card.print_card(king_of_hearts)`:"
   ]
  },
  {
   "cell_type": "markdown",
   "metadata": {},
   "source": [
    "#### Special class methods"
   ]
  },
  {
   "cell_type": "code",
   "execution_count": null,
   "metadata": {
    "collapsed": false
   },
   "outputs": [],
   "source": [
    "class Card(object):\n",
    "    \"\"\"\n",
    "    Represents a standard playing card.\n",
    "    \n",
    "    Attributes:\n",
    "        suit: integer 0-3\n",
    "        rank: integer 1-13\n",
    "    \"\"\"\n",
    "\n",
    "    suit_names = ['Clubs', 'Diamonds', 'Hearts', 'Spades']\n",
    "    rank_names = [\n",
    "        None, 'Ace', '2', '3', '4', '5', '6', '7', \n",
    "        '8', '9', '10', 'Jack', 'Queen', 'King'\n",
    "    ]\n",
    "    \n",
    "    def __init__(self, suit=0, rank=2):\n",
    "        self.suit = suit\n",
    "        self.rank = rank\n",
    "        \n",
    "    def __str__(self):\n",
    "        \"\"\"Returns a human-readable string representation.\"\"\"\n",
    "        return '{0} of {1}'.format(\n",
    "            Card.rank_names[self.rank],\n",
    "            Card.suit_names[self.suit]\n",
    "        )"
   ]
  },
  {
   "cell_type": "markdown",
   "metadata": {},
   "source": [
    "The `__init__` method (short for \"initialization\") is a special method that gets invoked when an object is instantiated. "
   ]
  },
  {
   "cell_type": "code",
   "execution_count": null,
   "metadata": {
    "collapsed": false
   },
   "outputs": [],
   "source": [
    "queen_of_diamonds = Card(1, 12)\n",
    "\n",
    "print(queen_of_diamonds.suit)\n",
    "print(queen_of_diamonds.rank)"
   ]
  },
  {
   "cell_type": "markdown",
   "metadata": {},
   "source": [
    "### Socrative Classes Question 5:\n",
    "What's the suit and rank of `blank = Card()`:"
   ]
  },
  {
   "cell_type": "code",
   "execution_count": null,
   "metadata": {
    "collapsed": false
   },
   "outputs": [],
   "source": [
    "default_card = Card()\n",
    "\n",
    "print(default_card.suit)\n",
    "print(default_card.rank)"
   ]
  },
  {
   "cell_type": "markdown",
   "metadata": {},
   "source": [
    "`__str__` is another special method that is supposed to return a string representation of an object."
   ]
  },
  {
   "cell_type": "code",
   "execution_count": null,
   "metadata": {
    "collapsed": false
   },
   "outputs": [],
   "source": [
    "print(str(queen_of_diamonds))\n",
    "print(str(default_card))"
   ]
  },
  {
   "cell_type": "markdown",
   "metadata": {},
   "source": [
    "#### Comparing cards\n",
    "For built-in types, there are relational operators (<, >, ==, etc.) that compare values and determine relationships vetween them.\n",
    "\n",
    "For user-defined types we need to *override* some of these relational operators if we want to compare values.\n",
    "For our playing cards it is sufficient to define a `__lt__` (short for *less than*) method (since there is only one of each card."
   ]
  },
  {
   "cell_type": "code",
   "execution_count": null,
   "metadata": {
    "collapsed": false
   },
   "outputs": [],
   "source": [
    "class Card(object):\n",
    "    \"\"\"\n",
    "    Represents a standard playing card.\n",
    "    \n",
    "    Attributes:\n",
    "        suit: integer 0-3\n",
    "        rank: integer 1-13\n",
    "    \"\"\"\n",
    "\n",
    "    suit_names = ['Clubs', 'Diamonds', 'Hearts', 'Spades']\n",
    "    rank_names = [\n",
    "        None, 'Ace', '2', '3', '4', '5', '6', '7', \n",
    "        '8', '9', '10', 'Jack', 'Queen', 'King'\n",
    "    ]\n",
    "    \n",
    "    def __init__(self, suit=0, rank=2):\n",
    "        self.suit = suit\n",
    "        self.rank = rank\n",
    "        \n",
    "    def __str__(self):\n",
    "        \"\"\"Returns a human-readable string representation.\"\"\"\n",
    "        return '{0} of {1}'.format(\n",
    "            Card.rank_names[self.rank],\n",
    "            Card.suit_names[self.suit]\n",
    "        )\n",
    "\n",
    "    def __lt__(self, other):\n",
    "        \"\"\"\n",
    "        Compares this card (self) to other, first by suit, then rank.\n",
    "        \n",
    "        Returns True if self < other; False if self > other.\n",
    "        \"\"\"\n",
    "        # check the suits\n",
    "        if self.suit < other.suit:\n",
    "            return True\n",
    "        if self.suit > other.suit:\n",
    "            return False\n",
    "        \n",
    "        # suits are the same... check ranks\n",
    "        if self.rank < other.rank:\n",
    "            return True\n",
    "        if self.rank > other.rank:\n",
    "            return False\n",
    "\n",
    "        # ranks are the same... it's a tie!\n",
    "        return False"
   ]
  },
  {
   "cell_type": "code",
   "execution_count": null,
   "metadata": {
    "collapsed": false
   },
   "outputs": [],
   "source": [
    "queen_of_diamonds = Card(1, 12)\n",
    "king_of_hearts = Card(2, 13)\n",
    "\n",
    "queen_of_diamonds < king_of_hearts"
   ]
  },
  {
   "cell_type": "markdown",
   "metadata": {},
   "source": [
    "### Socrative Classes Question 6:\n",
    "`queen_of_diamonds > king_of_hearts`?"
   ]
  },
  {
   "cell_type": "markdown",
   "metadata": {},
   "source": [
    "### Socrative Classes Question 7:\n",
    "`queen_of_diamonds == king_of_hearts`?"
   ]
  },
  {
   "cell_type": "markdown",
   "metadata": {},
   "source": [
    "### Socrative Classes Question 8:\n",
    "`queen_of_diamonds >= king_of_hearts`?"
   ]
  },
  {
   "cell_type": "markdown",
   "metadata": {},
   "source": [
    "## Decks of Cards\n",
    "Now that we have Cards, the next step is to define Decks.\n",
    "\n",
    "Since a deck is made up of cards, it is natural for each Deck to contain a list of cards as an attribute. "
   ]
  },
  {
   "cell_type": "code",
   "execution_count": null,
   "metadata": {
    "collapsed": false
   },
   "outputs": [],
   "source": [
    "class Deck(object):\n",
    "    \"\"\"\n",
    "    Represents a deck of Cards.\n",
    "    \n",
    "    Attributes:\n",
    "        cards: list of 52 Card objects\n",
    "    \"\"\"\n",
    "    def __init__(self):\n",
    "        self.cards = []\n",
    "        for suit in range(4):\n",
    "            for rank in range(1, 14):\n",
    "                card = Card(suit, rank)\n",
    "                self.cards.append(card)"
   ]
  },
  {
   "cell_type": "code",
   "execution_count": null,
   "metadata": {
    "collapsed": false
   },
   "outputs": [],
   "source": [
    "# Let's define our deck of cards\n",
    "deck = Deck()\n",
    "\n",
    "# Let's look at some cards\n",
    "print(deck.cards[0])\n",
    "print(deck.cards[51])"
   ]
  },
  {
   "cell_type": "markdown",
   "metadata": {},
   "source": [
    "Can we look at all the cards in the deck?"
   ]
  },
  {
   "cell_type": "code",
   "execution_count": null,
   "metadata": {
    "collapsed": false
   },
   "outputs": [],
   "source": [
    "print(deck.cards)"
   ]
  },
  {
   "cell_type": "markdown",
   "metadata": {},
   "source": [
    "Let's define a `__str__` method for the Deck as well, which calls `__str__` on all the `Cards` in the Deck."
   ]
  },
  {
   "cell_type": "code",
   "execution_count": null,
   "metadata": {
    "collapsed": false
   },
   "outputs": [],
   "source": [
    "class Deck(object):\n",
    "    \"\"\"\n",
    "    Represents a deck of Cards.\n",
    "    \n",
    "    Attributes:\n",
    "        cards: list of 52 Card objects\n",
    "    \"\"\"\n",
    "    def __init__(self):\n",
    "        self.cards = []\n",
    "        for suit in range(4):\n",
    "            for rank in range(1, 14):\n",
    "                card = Card(suit, rank)\n",
    "                self.cards.append(card)\n",
    "    \n",
    "    def __str__(self):\n",
    "        res = []\n",
    "        for card in self.cards:\n",
    "            res.append(str(card))\n",
    "        return '\\n'.join(res)"
   ]
  },
  {
   "cell_type": "markdown",
   "metadata": {},
   "source": [
    "How about now?"
   ]
  },
  {
   "cell_type": "code",
   "execution_count": null,
   "metadata": {
    "collapsed": false
   },
   "outputs": [],
   "source": [
    "deck = Deck()\n",
    "\n",
    "print(deck)"
   ]
  },
  {
   "cell_type": "markdown",
   "metadata": {},
   "source": [
    "### Add and remove cards\n",
    "To deal cards, we would like a method that removes a card from the deck and returns it.\n",
    "The `list` method `pop` provides a convenient way to do that.\n",
    "\n",
    "To add a card, we can use the `list` method `append`."
   ]
  },
  {
   "cell_type": "code",
   "execution_count": null,
   "metadata": {
    "collapsed": false
   },
   "outputs": [],
   "source": [
    "class Deck(object):\n",
    "    \"\"\"\n",
    "    Represents a deck of Cards.\n",
    "    \n",
    "    Attributes:\n",
    "        cards: list of 52 Card objects\n",
    "    \"\"\"\n",
    "    def __init__(self):\n",
    "        self.cards = []\n",
    "        for suit in range(4):\n",
    "            for rank in range(1, 14):\n",
    "                card = Card(suit, rank)\n",
    "                self.cards.append(card)\n",
    "    \n",
    "    def __str__(self):\n",
    "        res = []\n",
    "        for card in self.cards:\n",
    "            res.append(str(card))\n",
    "        return '\\n'.join(res)\n",
    "\n",
    "    def pop_card(self):\n",
    "        \"\"\"Remove a card from the bottom of the deck\"\"\"\n",
    "        return self.cards.pop()\n",
    "\n",
    "    def add_card(self, card):\n",
    "        \"\"\"Add a card to the deck\"\"\"\n",
    "        self.cards.append(card)"
   ]
  },
  {
   "cell_type": "code",
   "execution_count": null,
   "metadata": {
    "collapsed": false
   },
   "outputs": [],
   "source": [
    "deck = Deck()\n",
    "\n",
    "print(deck.pop_card())"
   ]
  },
  {
   "cell_type": "code",
   "execution_count": null,
   "metadata": {
    "collapsed": false
   },
   "outputs": [],
   "source": [
    "ace_of_spades = Card(3, 1)\n",
    "\n",
    "deck.add_card(ace_of_spades)"
   ]
  },
  {
   "cell_type": "markdown",
   "metadata": {},
   "source": [
    "Does this look right to you?"
   ]
  },
  {
   "cell_type": "code",
   "execution_count": null,
   "metadata": {
    "collapsed": false
   },
   "outputs": [],
   "source": [
    "for card in deck.cards[39:]:\n",
    "    print(card)"
   ]
  },
  {
   "cell_type": "markdown",
   "metadata": {},
   "source": [
    "### Shuffle cards"
   ]
  },
  {
   "cell_type": "code",
   "execution_count": null,
   "metadata": {
    "collapsed": false
   },
   "outputs": [],
   "source": [
    "import random\n",
    "\n",
    "class Deck(object):\n",
    "    \"\"\"\n",
    "    Represents a deck of Cards.\n",
    "    \n",
    "    Attributes:\n",
    "        cards: list of 52 Card objects\n",
    "    \"\"\"\n",
    "    def __init__(self):\n",
    "        self.cards = []\n",
    "        for suit in range(4):\n",
    "            for rank in range(1, 14):\n",
    "                card = Card(suit, rank)\n",
    "                self.cards.append(card)\n",
    "    \n",
    "    def __str__(self):\n",
    "        res = []\n",
    "        for card in self.cards:\n",
    "            res.append(str(card))\n",
    "        return '\\n'.join(res)\n",
    "\n",
    "    def pop_card(self):\n",
    "        \"\"\"Remove a card from the bottom of the deck\"\"\"\n",
    "        return self.cards.pop()\n",
    "\n",
    "    def add_card(self, card):\n",
    "        \"\"\"Add a card to the deck\"\"\"\n",
    "        self.cards.append(card)\n",
    "\n",
    "    def shuffle(self):\n",
    "        \"\"\"Shuffle the cards in the deck\"\"\"\n",
    "        random.shuffle(self.cards)"
   ]
  },
  {
   "cell_type": "code",
   "execution_count": null,
   "metadata": {
    "collapsed": false
   },
   "outputs": [],
   "source": [
    "deck = Deck()\n",
    "\n",
    "deck.shuffle()\n",
    "print(deck)"
   ]
  },
  {
   "cell_type": "markdown",
   "metadata": {},
   "source": [
    "### Class Inheritance"
   ]
  },
  {
   "cell_type": "markdown",
   "metadata": {},
   "source": [
    "While working with Object-Oriented programming you will often hear the word **inheritance**. Inheritance is the ability to define a new (child) class that is a modified version of an existing (parent) class.\n",
    "\n",
    "Continuing with our playing cards example, let's say we might want to represent a *hand* of cards as representing a set of cards that are held by a player.\n",
    "\n",
    "A hand is similar to a deck; both are made from a set of cards, and both require adding and removing cards.\n",
    "\n",
    "A hand is different from a deck; there are operations in a hand that don't make sense in a deck. For example, in poker we might compare two hands to see which one wins. In bridge, we might compute a score for a hand in order to make a bid."
   ]
  },
  {
   "cell_type": "markdown",
   "metadata": {},
   "source": [
    "#### `Hand` class that *inherits* from a `Deck` class."
   ]
  },
  {
   "cell_type": "code",
   "execution_count": null,
   "metadata": {
    "collapsed": false
   },
   "outputs": [],
   "source": [
    "class Hand(Deck):\n",
    "    \"\"\"Represents a hand of playing cards.\"\"\""
   ]
  },
  {
   "cell_type": "markdown",
   "metadata": {},
   "source": [
    "With this definition, `Hand` inherits all the methods and attributes as `Deck`."
   ]
  },
  {
   "cell_type": "code",
   "execution_count": null,
   "metadata": {
    "collapsed": false
   },
   "outputs": [],
   "source": [
    "hand = Hand()\n",
    "\n",
    "hand.shuffle()\n",
    "print(hand.pop_card())"
   ]
  },
  {
   "cell_type": "markdown",
   "metadata": {},
   "source": [
    "However, `Hand` also inherits `Deck`s `__init__` method, which creates all 52 `Cards`.\n",
    "\n",
    "A hand of cards should have only a small subset of the deck. Let's change that!"
   ]
  },
  {
   "cell_type": "code",
   "execution_count": null,
   "metadata": {
    "collapsed": false
   },
   "outputs": [],
   "source": [
    "class Hand(Deck):\n",
    "    \"\"\"Represents a hand of playing cards.\"\"\"\n",
    "\n",
    "    def __init__(self, label=''):\n",
    "        self.cards = []\n",
    "        self.label = label"
   ]
  },
  {
   "cell_type": "markdown",
   "metadata": {},
   "source": [
    "Now, when you create a new hand, `Hand.__init__` will be called, instead of `Deck.__init__`"
   ]
  },
  {
   "cell_type": "code",
   "execution_count": null,
   "metadata": {
    "collapsed": false
   },
   "outputs": [],
   "source": [
    "hand = Hand(\"new hand\")\n",
    "\n",
    "print(hand.cards)\n",
    "print(hand.label)"
   ]
  },
  {
   "cell_type": "markdown",
   "metadata": {},
   "source": [
    "#### Dealing a card to a hand"
   ]
  },
  {
   "cell_type": "code",
   "execution_count": null,
   "metadata": {
    "collapsed": false
   },
   "outputs": [],
   "source": [
    "# The dealer pulls out a new deck\n",
    "deck = Deck()\n",
    "\n",
    "# Shuffles it\n",
    "deck.shuffle()\n",
    "# Takes out a card from the bottom\n",
    "card = deck.pop_card()\n",
    "\n",
    "# And gives it to the player\n",
    "hand.add_card(card)\n",
    "print(hand)"
   ]
  },
  {
   "cell_type": "markdown",
   "metadata": {},
   "source": [
    "Notice how all the methods to add cards to a hand are defined in the `Deck` class.\n",
    "\n",
    "We can use this fact to make it easier to add a card to a hand."
   ]
  },
  {
   "cell_type": "code",
   "execution_count": null,
   "metadata": {
    "collapsed": false
   },
   "outputs": [],
   "source": [
    "import random\n",
    "\n",
    "class Deck(object):\n",
    "    \"\"\"\n",
    "    Represents a deck of Cards.\n",
    "    \n",
    "    Attributes:\n",
    "        cards: list of 52 Card objects\n",
    "    \"\"\"\n",
    "    def __init__(self):\n",
    "        self.cards = []\n",
    "        for suit in range(4):\n",
    "            for rank in range(1, 14):\n",
    "                card = Card(suit, rank)\n",
    "                self.cards.append(card)\n",
    "    \n",
    "    def __str__(self):\n",
    "        res = []\n",
    "        for card in self.cards:\n",
    "            res.append(str(card))\n",
    "        return '\\n'.join(res)\n",
    "\n",
    "    def pop_card(self):\n",
    "        \"\"\"Remove a card from the bottom of the deck\"\"\"\n",
    "        return self.cards.pop()\n",
    "\n",
    "    def add_card(self, card):\n",
    "        \"\"\"Add a card to the deck\"\"\"\n",
    "        self.cards.append(card)\n",
    "\n",
    "    def shuffle(self):\n",
    "        \"\"\"Shuffle the cards in the deck\"\"\"\n",
    "        random.shuffle(self.cards)\n",
    "        \n",
    "    def move_cards(self, hand, num):\n",
    "        \"\"\"\n",
    "        Move `num` random cards from the deck to `hand`.\n",
    "        \"\"\"\n",
    "        self.shuffle()\n",
    "        for i in range(num):\n",
    "            hand.add_card(self.pop_card())\n",
    "            \n",
    "class Hand(Deck):\n",
    "    \"\"\"Represents a hand of playing cards.\"\"\"\n",
    "\n",
    "    def __init__(self, label=''):\n",
    "        self.cards = []\n",
    "        self.label = label"
   ]
  },
  {
   "cell_type": "code",
   "execution_count": null,
   "metadata": {
    "collapsed": false
   },
   "outputs": [],
   "source": [
    "deck = Deck()\n",
    "hand = Hand()"
   ]
  },
  {
   "cell_type": "markdown",
   "metadata": {},
   "source": [
    "#### Dealer, I want 10 cards please!"
   ]
  },
  {
   "cell_type": "code",
   "execution_count": null,
   "metadata": {
    "collapsed": false
   },
   "outputs": [],
   "source": [
    "deck.move_cards(hand, 10)\n",
    "\n",
    "print(hand)"
   ]
  },
  {
   "cell_type": "markdown",
   "metadata": {},
   "source": [
    "## Classes Exercise\n",
    "Write a class called `PokerHand` that inherits from `Hand`.\n",
    "\n",
    "Add 2 methods to the `PokerHand` class:\n",
    " 1. `has_pair`: Checks if there's a pair in the Hand. Two cards form a pair if they have the same rank.\n",
    " 2. `show_hand_if_pair`: Show all cards in your hand if there's a pair."
   ]
  },
  {
   "cell_type": "code",
   "execution_count": null,
   "metadata": {
    "collapsed": false
   },
   "outputs": [],
   "source": [
    "class PokerHand(Hand):\n",
    "\n",
    "    def has_pair(self):\n",
    "        \"\"\"\n",
    "        Returns True if this hand has a pair, False otherwise.\n",
    "        \"\"\"\n",
    "        ranks = set()\n",
    "        for card in self.cards:\n",
    "            if card.rank in ranks:\n",
    "                return True\n",
    "            else:\n",
    "                ranks.add(card.rank)\n",
    "        return False\n",
    "    \n",
    "    def play_poker_if_pair(self):\n",
    "        \"\"\"\n",
    "        Shows the hand, if it has a pair\n",
    "        \"\"\"\n",
    "        if self.has_pair():\n",
    "            print(self.__str__())"
   ]
  },
  {
   "cell_type": "code",
   "execution_count": null,
   "metadata": {
    "collapsed": false
   },
   "outputs": [],
   "source": [
    "deck = Deck()\n",
    "poker_hand = PokerHand()\n",
    "\n",
    "deck.move_cards(poker_hand, 7)\n",
    "\n",
    "# Test your code here\n",
    "\n",
    "\n",
    "\n"
   ]
  }
 ],
 "metadata": {
  "kernelspec": {
   "display_name": "Python 3",
   "language": "python",
   "name": "python3"
  },
  "language_info": {
   "codemirror_mode": {
    "name": "ipython",
    "version": 3
   },
   "file_extension": ".py",
   "mimetype": "text/x-python",
   "name": "python",
   "nbconvert_exporter": "python",
   "pygments_lexer": "ipython3",
   "version": "3.4.3"
  }
 },
 "nbformat": 4,
 "nbformat_minor": 0
}
