{
 "cells": [
  {
   "cell_type": "markdown",
   "metadata": {},
   "source": [
    "# Statistics I"
   ]
  },
  {
   "cell_type": "markdown",
   "metadata": {},
   "source": [
    "### Statistics is the science concerned with the study of the collection, analysis, interpretation, presentation, and organization of data. "
   ]
  },
  {
   "cell_type": "markdown",
   "metadata": {},
   "source": [
    "For concreteness let us consider two examples that hopefully you can relate to.\n",
    "\n",
    "The US Census Bureau collects data on people residing in the US. The data includes measures such as the number of household occupants, their gender, their age, their familial relationships, their incomes, their education levels, and so on. The process for the data collection is called a **census** because the process aims to measure all individuals.\n",
    "\n",
    "Colleges collect applications for their programs. The data collected includes standardized test scores, GPAs, essays, recommendation letters, and so on. No college is able to collect a census, so each must make decisions based on the **sample** of applicants. Each college is able to analyze a sample comprising a very small fraction of all students applying to college each year.  \n",
    "\n",
    "During the next couple of days we will analyze several data sets. One of those data sets is actually similar in nature to this last example.  We will start by studying the undergraduate GPA of the applicants to the Chemical Engineering Graduate Program in 2014."
   ]
  },
  {
   "cell_type": "markdown",
   "metadata": {},
   "source": [
    "### Import the data"
   ]
  },
  {
   "cell_type": "code",
   "execution_count": null,
   "metadata": {
    "collapsed": false
   },
   "outputs": [],
   "source": [
    "# As you saw previously, these data have lots of mistakes.  \n",
    "# For simplicity, we are only going to consider here data \n",
    "# that has no issues and for which the maximum GPA is 4.0.\n",
    "\n",
    "with open(\"/Users/amaral/Desktop/gpa_data.csv\", \"r\") as data_file:\n",
    "    all_lines = data_file.readlines()\n",
    "\n",
    "gpa_list = []\n",
    "for line in all_lines[1:]:\n",
    "    gpa_list.append( line.strip().split(\",\") )\n",
    "    \n",
    "gpa = []\n",
    "for x in gpa_list[1:]:\n",
    "    try:\n",
    "        if (float(x[1]) == 4.):\n",
    "            try:\n",
    "                gpa.append(float(x[0]))\n",
    "            except:\n",
    "                pass\n",
    "    except:\n",
    "        pass"
   ]
  },
  {
   "cell_type": "markdown",
   "metadata": {},
   "source": [
    "## Descriptive statistics"
   ]
  },
  {
   "cell_type": "markdown",
   "metadata": {},
   "source": [
    "The first step in the analysis of data is to to obtain a description that summarizes its statistical properties. There are a number of statistics (that is, measures that can be calculated for that data) that are particularly useful.\n",
    "\n",
    "**Number of observations** is the number of data in the data set. In this case, the number of applicants for which we have GPA values.\n",
    "\n",
    "**Minimum** is the samallest value in the data set.\n",
    "\n",
    "**Maximum** is the largest value in the data set. For the GPA data, this is presumably 4.0.\n",
    "\n",
    "**Support** (also called range) is the interval over which the values of the data set spread. Since GAPs are positive and must be no larger that 4, we know that the range must be a subset of the interval [0, 4]. Presumably, students will GPAs lower than 2 will not apply to a graduate program, so the support of our GPA data will likely be a subset of the interval [2, 4].\n",
    "\n",
    "**Mode** is the most common value in the data set.  \n",
    "\n",
    "**Median** is the value that is larger than half of all values and smaller than half of all values in the data set. The median is an example of a *percentile*.  Two other common percentiles are the *first quartile* and the *third quartile*.\n",
    "\n",
    "**Sample Mean** (also called sample average) is the sum of all values divided by the number of observations.  The sample mean has the smallest distance to the set of all values in the sample.\n",
    "\n",
    "**Standard deviation** is a measure of the spread around the sample mean for the values in the data set.\n",
    "\n",
    "**Skewness** is a measure of the asymmetry of the values in the data set. If you divide the support of the data at the sample mean, and if one of the interval is longer than the other, than the data is skewed."
   ]
  },
  {
   "cell_type": "code",
   "execution_count": null,
   "metadata": {
    "collapsed": false
   },
   "outputs": [],
   "source": [
    "import scipy.stats as stat\n",
    "import numpy as np\n",
    "\n",
    "mode = float(stat.mode(gpa)[0])\n",
    "print(\"The mode of the sample is {0}\".format(mode))\n",
    "\n",
    "first_quartile = stat.scoreatpercentile(gpa, 25)\n",
    "print(\"The first quartile of the sample is {0}\".format(first_quartile))\n",
    "\n",
    "median = stat.scoreatpercentile(gpa, 50)\n",
    "print(\"The median of the sample is {0}\".format(median))\n",
    "\n",
    "third_quartile = stat.scoreatpercentile(gpa, 75)\n",
    "print(\"The third quartile of the sample is {0}\".format(third_quartile))"
   ]
  },
  {
   "cell_type": "code",
   "execution_count": null,
   "metadata": {
    "collapsed": false
   },
   "outputs": [],
   "source": [
    "results = stat.describe(gpa)\n",
    "\n",
    "print(results)\n",
    "\n",
    "print()\n",
    "print(str(results).split('('))\n",
    "\n",
    "# Let's prettify these results so that they are easier to read by humans"
   ]
  },
  {
   "cell_type": "markdown",
   "metadata": {},
   "source": [
    "### Plot the distribution"
   ]
  },
  {
   "cell_type": "markdown",
   "metadata": {},
   "source": [
    "While descriptive statistics are very useful, their calculation involves the loss of a lot of information on the data.  Obtaining an histogram of the data values gives a much more accurate picture of the statistical properties of the data *as long as the histogram is calculated properly*. "
   ]
  },
  {
   "cell_type": "code",
   "execution_count": null,
   "metadata": {
    "collapsed": false
   },
   "outputs": [],
   "source": [
    "import matplotlib.pyplot as plt\n",
    "\n",
    "def half_frame(sub, xaxis_label, yaxis_label, font_size = 15, padding = -0.02):\n",
    "    \"\"\"Formats frame, axes, and ticks for matplotlib made graphic with half frame.\"\"\"\n",
    "\n",
    "    # Format graph frame and tick marks\n",
    "    sub.yaxis.set_ticks_position('left')\n",
    "    sub.xaxis.set_ticks_position('bottom')\n",
    "    sub.tick_params(axis = 'both', which = 'major', length = 7, width = 2, direction = 'out', pad = 10,\n",
    "                    labelsize = font_size)\n",
    "    sub.tick_params(axis = 'both', which = 'minor', length = 5, width = 2, direction = 'out', labelsize = 10)\n",
    "    for axis in ['bottom','left']:\n",
    "        sub.spines[axis].set_linewidth(2)\n",
    "        sub.spines[axis].set_position((\"axes\", padding))\n",
    "    for axis in ['top','right']:\n",
    "        sub.spines[axis].set_visible(False)\n",
    "\n",
    "    # Format axes\n",
    "    sub.set_xlabel(xaxis_label, fontsize = 1.6 * font_size)\n",
    "    sub.set_ylabel(yaxis_label, fontsize = 1.6 * font_size)\n",
    "\n",
    "    \n",
    "###############\n",
    "fig = plt.figure( figsize = (6, 4.5) )\n",
    "sub1 = fig.add_subplot(1,1,1)\n",
    "my_font_size = 15\n",
    "half_frame(sub1, \"GPA\", \"Probability density\", font_size = my_font_size)\n",
    "\n",
    "# Calculate and plot histogram\n",
    "sub1.hist(gpa, 25, normed = 1, rwidth = 0.75, color = \"g\", alpha = 0.5, histtype = \"bar\", \n",
    "          label = \"data\", cumulative = False)\n",
    "\n",
    "sub1.vlines([first_quartile, median, third_quartile], ymin = 0, ymax = 1.8, lw = 3, color = \"red\", \n",
    "            label = \"quartiles\")\n",
    "\n",
    "# Format legend\n",
    "sub1.legend(loc = \"best\", frameon = False, markerscale = 1.8, fontsize = my_font_size)\n",
    "\n",
    "\n",
    "plt.show()"
   ]
  },
  {
   "cell_type": "markdown",
   "metadata": {},
   "source": [
    "  "
   ]
  },
  {
   "cell_type": "markdown",
   "metadata": {},
   "source": [
    "## Important distributions"
   ]
  },
  {
   "cell_type": "markdown",
   "metadata": {},
   "source": [
    "### Discrete distributions"
   ]
  },
  {
   "cell_type": "markdown",
   "metadata": {},
   "source": [
    "**Binomial distributions** occurs as the result of the repetition of independent trials. Flipping a coin several times.  Throwing one or more dice.\n",
    "\n",
    "A fair coin has 50% chance of landing on heads and a 50% chance of landing on tails. The binomial distribution with p = 0.5 and n = 20 specifies the probability of tossing k heads. "
   ]
  },
  {
   "cell_type": "code",
   "execution_count": null,
   "metadata": {
    "collapsed": false
   },
   "outputs": [],
   "source": [
    "p = 0.05\n",
    "n = 100\n",
    "x = np.arange(stat.binom.ppf(0.0001, n, p), stat.binom.ppf(0.9999, n, p))\n",
    "rv = stat.binom(n, p)\n",
    "\n",
    "fig = plt.figure( figsize = (6, 4.5) )\n",
    "sub1 = fig.add_subplot(1,1,1)\n",
    "my_font_size = 15\n",
    "half_frame(sub1, \"k\", \"Probability mass\", font_size = my_font_size)\n",
    "\n",
    "# Calculate and plot histogram\n",
    "sub1.vlines(x, 0, rv.pmf(x), color = \"g\", linewidth = 2, alpha = 0.5, label = \"Binomial\")\n",
    "\n",
    "# Format legend\n",
    "sub1.legend(loc = \"best\", frameon = False, markerscale = 1.8, fontsize = my_font_size)\n",
    "\n",
    "plt.show()"
   ]
  },
  {
   "cell_type": "markdown",
   "metadata": {},
   "source": [
    "  "
   ]
  },
  {
   "cell_type": "markdown",
   "metadata": {},
   "source": [
    "**Poisson distributions** occur as the result of counting events that have an exponential distribution of inter-event times. Examples are the decay of radiactive nuclei or the failure of light bulbs."
   ]
  },
  {
   "cell_type": "code",
   "execution_count": null,
   "metadata": {
    "collapsed": false
   },
   "outputs": [],
   "source": [
    "mu = 5\n",
    "x = np.arange(stat.poisson.ppf(0.0001, mu), stat.poisson.ppf(0.9999, mu))\n",
    "rv = stat.poisson(mu)\n",
    "\n",
    "fig = plt.figure( figsize = (6, 4.5) )\n",
    "sub1 = fig.add_subplot(1,1,1)\n",
    "my_font_size = 15\n",
    "half_frame(sub1, \"k\", \"Probability mass\", font_size = my_font_size)\n",
    "\n",
    "# Calculate and plot histogram\n",
    "sub1.vlines(x, 0, rv.pmf(x), color = \"g\", linewidth = 2, alpha = 0.5, label = \"Poisson\")\n",
    "\n",
    "# Format legend\n",
    "sub1.legend(loc = \"best\", frameon = False, markerscale = 1.8, fontsize = my_font_size)\n",
    "\n",
    "plt.show()"
   ]
  },
  {
   "cell_type": "markdown",
   "metadata": {},
   "source": [
    "  "
   ]
  },
  {
   "cell_type": "markdown",
   "metadata": {},
   "source": [
    "Let us put these two plots together for better comparison:"
   ]
  },
  {
   "cell_type": "code",
   "execution_count": null,
   "metadata": {
    "collapsed": false
   },
   "outputs": [],
   "source": [
    "# \n",
    "\n",
    "p = 0.25\n",
    "n = 300\n",
    "x = np.arange(stat.binom.ppf(0.0001, n, p), stat.binom.ppf(0.9999, n, p))\n",
    "rv1 = stat.binom(n, p)\n",
    "\n",
    "mu = n * p\n",
    "rv2 = stat.poisson(mu)\n",
    "\n",
    "\n",
    "fig = plt.figure( figsize = (6, 9.0) )\n",
    "sub1 = fig.add_subplot(2,1,1)\n",
    "sub2 = fig.add_subplot(2,1,2)\n",
    "my_font_size = 15\n",
    "half_frame(sub1, \"k\", \"Probability mass\", font_size = my_font_size)\n",
    "half_frame(sub2, \"k\", \"Probability mass\", font_size = my_font_size)\n",
    "\n",
    "# Calculate and plot histogram\n",
    "sub1.vlines(x, 0, rv1.pmf(x), color = \"g\", linewidth = 2, alpha = 0.5, label = \"Binomial\")\n",
    "sub2.vlines(x, 0, rv2.pmf(x), color = \"r\", linewidth = 2, alpha = 0.5, label = \"Poisson\")\n",
    "\n",
    "# Format legend\n",
    "sub1.legend(loc = \"best\", frameon = False, markerscale = 1.8, fontsize = my_font_size)\n",
    "sub2.legend(loc = \"best\", frameon = False, markerscale = 1.8, fontsize = my_font_size)\n",
    "\n",
    "plt.show()"
   ]
  },
  {
   "cell_type": "markdown",
   "metadata": {},
   "source": [
    "### Continuous distributions"
   ]
  },
  {
   "cell_type": "markdown",
   "metadata": {},
   "source": [
    "The **Gaussian** distribution (also called normal distribution and bell-shaped distribution) is the very common distribution.  Moreover, it is the limiting case for the Poisson distribution when mu is very large."
   ]
  },
  {
   "cell_type": "code",
   "execution_count": null,
   "metadata": {
    "collapsed": false
   },
   "outputs": [],
   "source": [
    "import math\n",
    "\n",
    "p = 0.025\n",
    "n = 100\n",
    "x = np.arange(stat.binom.ppf(0.0001, n, p), stat.binom.ppf(0.9999, n, p))\n",
    "rv1 = stat.binom(n, p)\n",
    "\n",
    "mu = n * p\n",
    "rv2 = stat.poisson(mu)\n",
    "\n",
    "mu = n * p \n",
    "sigma = math.sqrt(mu)\n",
    "x3 = np.arange(stat.norm.ppf(0.0001, loc = mu, scale = sigma), stat.norm.ppf(0.9999, loc = mu, scale = sigma))\n",
    "rv3 = stat.norm(loc = mu, scale = sigma)\n",
    "\n",
    "fig = plt.figure( figsize = (6, 13.5) )\n",
    "sub1 = fig.add_subplot(2,1,1)\n",
    "sub2 = fig.add_subplot(2,1,2)\n",
    "my_font_size = 15\n",
    "half_frame(sub1, \"k\", \"Probability mass\", font_size = my_font_size)\n",
    "half_frame(sub2, \"k\", \"Probability mass\", font_size = my_font_size)\n",
    "\n",
    "# Calculate and plot histogram\n",
    "sub1.vlines(x, 0, rv1.pmf(x), color = \"g\", linewidth = 2, alpha = 0.5, label = \"Binomial\")\n",
    "sub1.plot(x3, rv3.pdf(x3), color = \"b\", label= \"Gaussian\")\n",
    "\n",
    "sub2.vlines(x, 0, rv2.pmf(x), color = \"r\", linewidth = 2, alpha = 0.5, label = \"Poisson\")\n",
    "sub2.plot(x3, rv3.pdf(x3), color = \"b\", label= \"Gaussian\")\n",
    "\n",
    "# Format legend\n",
    "sub1.legend(loc = \"best\", frameon = False, markerscale = 1.8, fontsize = my_font_size)\n",
    "sub2.legend(loc = \"best\", frameon = False, markerscale = 1.8, fontsize = my_font_size)\n",
    "\n",
    "plt.show()"
   ]
  },
  {
   "cell_type": "markdown",
   "metadata": {},
   "source": [
    "  "
   ]
  },
  {
   "cell_type": "markdown",
   "metadata": {},
   "source": [
    "More importantly, the sum of random variables with finite variance are Gaussian distributed."
   ]
  },
  {
   "cell_type": "code",
   "execution_count": null,
   "metadata": {
    "collapsed": false
   },
   "outputs": [],
   "source": [
    "N = 1000000\n",
    "rv_unif = stat.uniform.rvs(size = N)\n",
    "\n",
    "# sum random variable\n",
    "step = 2\n",
    "rv_sum = []\n",
    "for i in range(0, N, step):\n",
    "    a = 0\n",
    "    for j in range(step):\n",
    "        a += rv_unif[i+j]\n",
    "        \n",
    "    rv_sum.append(a)\n",
    "    \n",
    "print(len(rv_sum))\n",
    "\n",
    "# Gaussian model\n",
    "mu = np.mean(rv_sum)\n",
    "sigma = np.std(rv_sum)\n",
    "x3 = np.arange(stat.norm.ppf(0.0001, loc = mu, scale = sigma), stat.norm.ppf(0.9999, loc = mu, scale = sigma))\n",
    "rv3 = stat.norm(loc = mu, scale = sigma)\n",
    "\n",
    "# Plot\n",
    "fig = plt.figure( figsize = (6, 4.5) )\n",
    "sub1 = fig.add_subplot(1,1,1)\n",
    "my_font_size = 15\n",
    "half_frame(sub1, \"rv\", \"Probability density\", font_size = my_font_size)\n",
    "\n",
    "# Calculate and plot histogram\n",
    "#sub1.hist(rv_unif, 25, normed = 1, rwidth = 0.75, color = \"g\", alpha = 0.5, histtype = \"bar\", \n",
    "#          label = \"data\", cumulative = False)\n",
    "sub1.hist(rv_sum, 20, normed = 1, rwidth = 0.75, color = \"g\", alpha = 0.5, histtype = \"bar\", \n",
    "          label = \"data\", cumulative = False)\n",
    "sub1.plot(x3, rv3.pdf(x3), color = \"b\", label= \"Gaussian\")\n",
    "\n",
    "# Format legend\n",
    "sub1.legend(loc = \"best\", frameon = False, markerscale = 1.8, fontsize = my_font_size)\n",
    "\n",
    "plt.show()"
   ]
  },
  {
   "cell_type": "markdown",
   "metadata": {},
   "source": [
    "  "
   ]
  },
  {
   "cell_type": "markdown",
   "metadata": {},
   "source": [
    "Another very important continuous distribution is the **exponential**."
   ]
  },
  {
   "cell_type": "code",
   "execution_count": null,
   "metadata": {
    "collapsed": false
   },
   "outputs": [],
   "source": [
    "# Gaussian model\n",
    "mu = 0\n",
    "sigma = 1\n",
    "x3 = np.linspace(stat.norm.ppf(0.0001, loc = mu, scale = sigma), \n",
    "                 stat.norm.ppf(0.9999, loc = mu, scale = sigma),\n",
    "                 50)\n",
    "rv3 = stat.norm(loc = mu, scale = sigma)\n",
    "\n",
    "# Exponential model\n",
    "rv4 = stat.expon()\n",
    "\n",
    "# Plot\n",
    "fig = plt.figure( figsize = (12, 4.5) )\n",
    "sub2 = fig.add_subplot(1,2,1)\n",
    "sub1 = fig.add_subplot(1,2,2)\n",
    "\n",
    "my_font_size = 15\n",
    "half_frame(sub1, \"rv\", \"Probability density\", font_size = my_font_size)\n",
    "half_frame(sub2, \"rv\", \"Probability density\", font_size = my_font_size)\n",
    "\n",
    "# Calculate and plot histogram\n",
    "#sub1.hist(rv_unif, 25, normed = 1, rwidth = 0.75, color = \"g\", alpha = 0.5, histtype = \"bar\", \n",
    "#          label = \"data\", cumulative = False)\n",
    "sub1.plot(x3, rv3.pdf(x3), color = \"b\", label= \"Gaussian\")\n",
    "sub1.plot(x3, rv4.pdf(x3), color = \"r\", label= \"Exponential\")\n",
    "\n",
    "sub1.set_yscale(\"log\")\n",
    "\n",
    "sub2.plot(x3, rv3.pdf(x3), color = \"b\", label= \"Gaussian\")\n",
    "sub2.plot(x3, rv4.pdf(x3), color = \"r\", label= \"Exponential\")\n",
    "\n",
    "# Format legend\n",
    "sub2.legend(loc = \"best\", frameon = False, markerscale = 1.8, fontsize = my_font_size)\n",
    "\n",
    "plt.show()"
   ]
  },
  {
   "cell_type": "markdown",
   "metadata": {},
   "source": [
    "Note how exponentially distributed random variable have **much slower decaying tails** than Gaussian distributed variables with the same scale factor ( *1/lambda = sigma* )."
   ]
  },
  {
   "cell_type": "markdown",
   "metadata": {},
   "source": [
    "What about random variables whose distribution decay even slower?  In the first half of the 20th Century many statisticians identified a number of random variables whose tail decayed as a power law.  Examples are the distributions of city populations, the distribution of incomes, the distribution of wealth, and the distribution of word frequencies in written language.\n"
   ]
  },
  {
   "cell_type": "code",
   "execution_count": null,
   "metadata": {
    "collapsed": false
   },
   "outputs": [],
   "source": [
    "# Show data on income, wealth, and so on..."
   ]
  },
  {
   "cell_type": "markdown",
   "metadata": {},
   "source": [
    "The **gamma distribution** is an example of a distribution that has, for some range, a power law decaying tail."
   ]
  },
  {
   "cell_type": "code",
   "execution_count": null,
   "metadata": {
    "collapsed": false
   },
   "outputs": [],
   "source": [
    "# Gaussian model\n",
    "mu = 0\n",
    "sigma = 1\n",
    "x3 = np.linspace(stat.norm.ppf(0.000001, loc = mu, scale = sigma), \n",
    "                 stat.norm.ppf(0.999999, loc = mu, scale = sigma),\n",
    "                 50)\n",
    "rv3 = stat.norm(loc = mu, scale = sigma)\n",
    "\n",
    "# Exponential model\n",
    "rv4 = stat.expon()\n",
    "\n",
    "# Gamma model\n",
    "rv5 = stat.gamma(0.1, loc = 0., scale = 100.)\n",
    "\n",
    "\n",
    "# Plot\n",
    "fig = plt.figure( figsize = (12, 4.5) )\n",
    "sub2 = fig.add_subplot(1,2,1)\n",
    "sub1 = fig.add_subplot(1,2,2)\n",
    "\n",
    "my_font_size = 15\n",
    "half_frame(sub1, \"rv\", \"Probability density\", font_size = my_font_size)\n",
    "half_frame(sub2, \"rv\", \"Probability density\", font_size = my_font_size)\n",
    "\n",
    "# Calculate and plot histogram\n",
    "#sub1.hist(rv_unif, 25, normed = 1, rwidth = 0.75, color = \"g\", alpha = 0.5, histtype = \"bar\", \n",
    "#          label = \"data\", cumulative = False)\n",
    "sub1.plot(x3, rv3.pdf(x3), color = \"b\", label= \"Gaussian\")\n",
    "sub1.plot(x3, rv4.pdf(x3), color = \"r\", label= \"Exponential\")\n",
    "sub1.plot(x3, rv5.pdf(x3), color = \"g\", label= \"Gamma\")\n",
    "\n",
    "sub1.set_yscale(\"log\")\n",
    "\n",
    "sub2.plot(x3, rv3.pdf(x3), color = \"b\", label= \"Gaussian\")\n",
    "sub2.plot(x3, rv4.pdf(x3), color = \"r\", label= \"Exponential\")\n",
    "sub2.plot(x3, rv5.pdf(x3), color = \"g\", label= \"Gamma\")\n",
    "\n",
    "# Format legend\n",
    "sub2.legend(loc = \"best\", frameon = False, markerscale = 1.8, fontsize = my_font_size)\n",
    "\n",
    "plt.show()"
   ]
  },
  {
   "cell_type": "markdown",
   "metadata": {},
   "source": [
    "Linear scale does not really show what trully is different.  We need to use logarithmic scale."
   ]
  },
  {
   "cell_type": "code",
   "execution_count": null,
   "metadata": {
    "collapsed": false
   },
   "outputs": [],
   "source": [
    "# Exponential model\n",
    "x3 = np.logspace(np.log10(0.1), \n",
    "                 np.log10(1000))\n",
    "rv5 = stat.gamma(0.1, loc = 0., scale = 100.)\n",
    "\n",
    "# Gaussian model\n",
    "mu = 0\n",
    "sigma = 1\n",
    "rv3 = stat.norm(loc = mu, scale = sigma)\n",
    "\n",
    "# Exponential model\n",
    "rv4 = stat.expon()\n",
    "\n",
    "# Plot\n",
    "fig = plt.figure( figsize = (6, 4.5) )\n",
    "sub1 = fig.add_subplot(1,1,1)\n",
    "\n",
    "my_font_size = 15\n",
    "half_frame(sub1, \"rv\", \"Probability density\", font_size = my_font_size)\n",
    "half_frame(sub2, \"rv\", \"Probability density\", font_size = my_font_size)\n",
    "\n",
    "# Calculate and plot histogram\n",
    "#sub1.hist(rv_unif, 25, normed = 1, rwidth = 0.75, color = \"g\", alpha = 0.5, histtype = \"bar\", \n",
    "#          label = \"data\", cumulative = False)\n",
    "sub1.plot(x3, rv3.sf(x3), color = \"b\", label= \"Gaussian\")\n",
    "sub1.plot(x3, rv4.sf(x3), color = \"r\", label= \"Exponential\")\n",
    "sub1.plot(x3, rv5.sf(x3), color = \"g\", label= \"Gamma\")\n",
    "\n",
    "sub1.set_yscale(\"log\")\n",
    "sub1.set_xscale(\"log\")\n",
    "sub1.set_ylim(0.01, 1.)\n",
    "\n",
    "# Format legend\n",
    "sub1.legend(loc = \"best\", frameon = False, markerscale = 1.8, fontsize = my_font_size)\n",
    "\n",
    "plt.show()"
   ]
  },
  {
   "cell_type": "code",
   "execution_count": null,
   "metadata": {
    "collapsed": false
   },
   "outputs": [],
   "source": []
  },
  {
   "cell_type": "code",
   "execution_count": null,
   "metadata": {
    "collapsed": false
   },
   "outputs": [],
   "source": []
  }
 ],
 "metadata": {
  "kernelspec": {
   "display_name": "Python 3",
   "language": "python",
   "name": "python3"
  },
  "language_info": {
   "codemirror_mode": {
    "name": "ipython",
    "version": 3
   },
   "file_extension": ".py",
   "mimetype": "text/x-python",
   "name": "python",
   "nbconvert_exporter": "python",
   "pygments_lexer": "ipython3",
   "version": "3.4.3"
  }
 },
 "nbformat": 4,
 "nbformat_minor": 0
}
