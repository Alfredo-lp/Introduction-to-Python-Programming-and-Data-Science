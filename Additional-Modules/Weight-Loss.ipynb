{
 "cells": [
  {
   "cell_type": "markdown",
   "metadata": {},
   "source": [
    "# Exploratory Data Analysis with Pandas\n",
    "\n",
    "Today we'll work on doing some exploratory data analysis and modelling with Pandas.\n",
    "\n",
    "The bulk of this session will consist of working with the height and weight data that we used yesterday when we first started using Pandas.\n",
    "\n",
    "At the start we'll be working together and then you will work on some projects on your own."
   ]
  },
  {
   "cell_type": "code",
   "execution_count": 1,
   "metadata": {
    "collapsed": false
   },
   "outputs": [],
   "source": [
    "%matplotlib inline"
   ]
  },
  {
   "cell_type": "code",
   "execution_count": 2,
   "metadata": {
    "collapsed": false
   },
   "outputs": [],
   "source": [
    "import pandas as pd\n",
    "import numpy as np\n",
    "import matplotlib.pyplot as plt\n",
    "import matplotlib as mpl\n",
    "\n",
    "mpl.rc('text', usetex=False)"
   ]
  },
  {
   "cell_type": "markdown",
   "metadata": {},
   "source": [
    "First let's load the full dataset instead of just using the small portion that we learned Pandas with yesterday"
   ]
  },
  {
   "cell_type": "code",
   "execution_count": 3,
   "metadata": {
    "collapsed": false
   },
   "outputs": [
    {
     "name": "stdout",
     "output_type": "stream",
     "text": [
      "\u001b[1m\u001b[36mRoster\u001b[m\u001b[m/                             gauss_too.dat\r\n",
      "credit_delinquency.csv              gpa_data.csv\r\n",
      "die_series.dat                      individual_physical_attributes.csv\r\n",
      "exceldata.xlsx                      pandas_test_data.csv\r\n",
      "gauss.dat\r\n"
     ]
    }
   ],
   "source": [
    "ls ../Data/"
   ]
  },
  {
   "cell_type": "code",
   "execution_count": 4,
   "metadata": {
    "collapsed": false
   },
   "outputs": [],
   "source": [
    "adf = pd.read_csv('../Data/individual_physical_attributes.csv')"
   ]
  },
  {
   "cell_type": "markdown",
   "metadata": {},
   "source": [
    "First, a little context. This data comes from a weight-loss website where users join and then record their weight on a daily or weekly basis to track their progress. We'll pretend that we are the data scientists at this company and try to understand some of our user behavior.\n",
    "\n",
    "I've only pulled the basic data about the personal attributes and the beginning and final weight.\n",
    "\n",
    "To get a quick sense of a dataset, Pandas has a great function like scipy to get a sense of the data."
   ]
  },
  {
   "cell_type": "code",
   "execution_count": 5,
   "metadata": {
    "collapsed": false
   },
   "outputs": [
    {
     "data": {
      "text/html": [
       "<div style=\"max-height:1000px;max-width:1500px;overflow:auto;\">\n",
       "<table border=\"1\" class=\"dataframe\">\n",
       "  <thead>\n",
       "    <tr style=\"text-align: right;\">\n",
       "      <th></th>\n",
       "      <th>Initial_Weight</th>\n",
       "      <th>Final_Weight</th>\n",
       "      <th>Height</th>\n",
       "      <th>Age</th>\n",
       "    </tr>\n",
       "  </thead>\n",
       "  <tbody>\n",
       "    <tr>\n",
       "      <th>count</th>\n",
       "      <td> 47094.000000</td>\n",
       "      <td> 47094.000000</td>\n",
       "      <td> 47094.000000</td>\n",
       "      <td> 47094.000000</td>\n",
       "    </tr>\n",
       "    <tr>\n",
       "      <th>mean</th>\n",
       "      <td>   194.559445</td>\n",
       "      <td>   191.340388</td>\n",
       "      <td>    65.854419</td>\n",
       "      <td>    42.455345</td>\n",
       "    </tr>\n",
       "    <tr>\n",
       "      <th>std</th>\n",
       "      <td>    54.186088</td>\n",
       "      <td>    54.155476</td>\n",
       "      <td>     3.537568</td>\n",
       "      <td>    31.106287</td>\n",
       "    </tr>\n",
       "    <tr>\n",
       "      <th>min</th>\n",
       "      <td>     8.000000</td>\n",
       "      <td>    10.000000</td>\n",
       "      <td>    40.000000</td>\n",
       "      <td> -4664.000000</td>\n",
       "    </tr>\n",
       "    <tr>\n",
       "      <th>25%</th>\n",
       "      <td>   157.000000</td>\n",
       "      <td>   154.000000</td>\n",
       "      <td>    64.000000</td>\n",
       "      <td>    33.000000</td>\n",
       "    </tr>\n",
       "    <tr>\n",
       "      <th>50%</th>\n",
       "      <td>   185.000000</td>\n",
       "      <td>   182.500000</td>\n",
       "      <td>    65.000000</td>\n",
       "      <td>    42.000000</td>\n",
       "    </tr>\n",
       "    <tr>\n",
       "      <th>75%</th>\n",
       "      <td>   222.000000</td>\n",
       "      <td>   218.600000</td>\n",
       "      <td>    68.000000</td>\n",
       "      <td>    52.000000</td>\n",
       "    </tr>\n",
       "    <tr>\n",
       "      <th>max</th>\n",
       "      <td>  2737.000000</td>\n",
       "      <td>  2737.000000</td>\n",
       "      <td>   195.000000</td>\n",
       "      <td>   945.000000</td>\n",
       "    </tr>\n",
       "  </tbody>\n",
       "</table>\n",
       "</div>"
      ],
      "text/plain": [
       "       Initial_Weight  Final_Weight        Height           Age\n",
       "count    47094.000000  47094.000000  47094.000000  47094.000000\n",
       "mean       194.559445    191.340388     65.854419     42.455345\n",
       "std         54.186088     54.155476      3.537568     31.106287\n",
       "min          8.000000     10.000000     40.000000  -4664.000000\n",
       "25%        157.000000    154.000000     64.000000     33.000000\n",
       "50%        185.000000    182.500000     65.000000     42.000000\n",
       "75%        222.000000    218.600000     68.000000     52.000000\n",
       "max       2737.000000   2737.000000    195.000000    945.000000"
      ]
     },
     "execution_count": 5,
     "metadata": {},
     "output_type": "execute_result"
    }
   ],
   "source": [
    "adf.describe()"
   ]
  },
  {
   "cell_type": "markdown",
   "metadata": {},
   "source": [
    "Right away form looking at the maximums in every attribute we can tell that we have some data quality issues. This could be for a number of reasons, people could have entered their age, weight, or height incorrectly or the website designers could have created these *fake* accounts to test that the website was working properly.\n",
    "\n",
    "In any case, we'll want to exclude individuals who have obviously wrong information.\n",
    "\n",
    "Let's start with age. Since this site presumably has an agreement stating that you must be at least 13, let's set our bounds to be 13 and 80. \n",
    "\n",
    "But how many individuals are we excluding if we do that?"
   ]
  },
  {
   "cell_type": "code",
   "execution_count": null,
   "metadata": {
    "collapsed": false
   },
   "outputs": [],
   "source": []
  },
  {
   "cell_type": "markdown",
   "metadata": {},
   "source": [
    "Now let's make a new dataframe and limit it to the people that are older than 13 and younger than 80."
   ]
  },
  {
   "cell_type": "code",
   "execution_count": 6,
   "metadata": {
    "collapsed": false
   },
   "outputs": [],
   "source": [
    "agedf = adf[(adf.Age>=13) & (adf.Age < 80)]"
   ]
  },
  {
   "cell_type": "markdown",
   "metadata": {},
   "source": [
    "Did that happen to take care of all of our problems?"
   ]
  },
  {
   "cell_type": "code",
   "execution_count": 7,
   "metadata": {
    "collapsed": false
   },
   "outputs": [
    {
     "data": {
      "text/html": [
       "<div style=\"max-height:1000px;max-width:1500px;overflow:auto;\">\n",
       "<table border=\"1\" class=\"dataframe\">\n",
       "  <thead>\n",
       "    <tr style=\"text-align: right;\">\n",
       "      <th></th>\n",
       "      <th>Initial_Weight</th>\n",
       "      <th>Final_Weight</th>\n",
       "      <th>Height</th>\n",
       "      <th>Age</th>\n",
       "    </tr>\n",
       "  </thead>\n",
       "  <tbody>\n",
       "    <tr>\n",
       "      <th>count</th>\n",
       "      <td> 46926.000000</td>\n",
       "      <td> 46926.000000</td>\n",
       "      <td> 46926.000000</td>\n",
       "      <td> 46926.000000</td>\n",
       "    </tr>\n",
       "    <tr>\n",
       "      <th>mean</th>\n",
       "      <td>   194.695110</td>\n",
       "      <td>   191.472590</td>\n",
       "      <td>    65.874185</td>\n",
       "      <td>    42.566402</td>\n",
       "    </tr>\n",
       "    <tr>\n",
       "      <th>std</th>\n",
       "      <td>    53.984743</td>\n",
       "      <td>    53.969482</td>\n",
       "      <td>     3.494192</td>\n",
       "      <td>    12.436145</td>\n",
       "    </tr>\n",
       "    <tr>\n",
       "      <th>min</th>\n",
       "      <td>     8.000000</td>\n",
       "      <td>    10.000000</td>\n",
       "      <td>    49.000000</td>\n",
       "      <td>    13.000000</td>\n",
       "    </tr>\n",
       "    <tr>\n",
       "      <th>25%</th>\n",
       "      <td>   157.000000</td>\n",
       "      <td>   154.400000</td>\n",
       "      <td>    64.000000</td>\n",
       "      <td>    33.000000</td>\n",
       "    </tr>\n",
       "    <tr>\n",
       "      <th>50%</th>\n",
       "      <td>   185.000000</td>\n",
       "      <td>   182.600000</td>\n",
       "      <td>    65.000000</td>\n",
       "      <td>    42.000000</td>\n",
       "    </tr>\n",
       "    <tr>\n",
       "      <th>75%</th>\n",
       "      <td>   222.000000</td>\n",
       "      <td>   218.875000</td>\n",
       "      <td>    68.000000</td>\n",
       "      <td>    52.000000</td>\n",
       "    </tr>\n",
       "    <tr>\n",
       "      <th>max</th>\n",
       "      <td>  2737.000000</td>\n",
       "      <td>  2737.000000</td>\n",
       "      <td>   195.000000</td>\n",
       "      <td>    79.000000</td>\n",
       "    </tr>\n",
       "  </tbody>\n",
       "</table>\n",
       "</div>"
      ],
      "text/plain": [
       "       Initial_Weight  Final_Weight        Height           Age\n",
       "count    46926.000000  46926.000000  46926.000000  46926.000000\n",
       "mean       194.695110    191.472590     65.874185     42.566402\n",
       "std         53.984743     53.969482      3.494192     12.436145\n",
       "min          8.000000     10.000000     49.000000     13.000000\n",
       "25%        157.000000    154.400000     64.000000     33.000000\n",
       "50%        185.000000    182.600000     65.000000     42.000000\n",
       "75%        222.000000    218.875000     68.000000     52.000000\n",
       "max       2737.000000   2737.000000    195.000000     79.000000"
      ]
     },
     "execution_count": 7,
     "metadata": {},
     "output_type": "execute_result"
    }
   ],
   "source": [
    "agedf.describe()"
   ]
  },
  {
   "cell_type": "markdown",
   "metadata": {},
   "source": [
    "Still problems, but let's look at this in a graph to see if we can understand what's going on a little bit better"
   ]
  },
  {
   "cell_type": "code",
   "execution_count": 8,
   "metadata": {
    "collapsed": false
   },
   "outputs": [
    {
     "name": "stderr",
     "output_type": "stream",
     "text": [
      "/Users/adampah/.pyenv/versions/anaconda3-2.0.1/lib/python3.4/site-packages/matplotlib/font_manager.py:1279: UserWarning: findfont: Font family ['sans-serif'] not found. Falling back to Bitstream Vera Sans\n",
      "  (prop.get_family(), self.defaultFamily[fontext]))\n"
     ]
    },
    {
     "data": {
      "image/png": "[encoded data removed]",
      "text/plain": [
       "<matplotlib.figure.Figure at 0x107eed4e0>"
      ]
     },
     "metadata": {},
     "output_type": "display_data"
    }
   ],
   "source": [
    "#Let's make a scatter plot\n",
    "fig = plt.figure(figsize=(8,4))\n",
    "ax = fig.add_subplot(121) \n",
    "ax.scatter(agedf.Initial_Weight, agedf.Final_Weight, color='steelblue')\n",
    "#Set some lines quickly with the v and h spans\n",
    "ax.axvspan(-0.5, 0.5)\n",
    "ax.axhspan(-0.5, 0.5)\n",
    "#Set the labels\n",
    "ax.set_ylabel('Final Weight')\n",
    "ax.set_xlabel('Initial Weight')\n",
    "\n",
    "# ax = fig.add_subplot(122) \n",
    "# ax.scatter(agedf.Initial_Weight, agedf.Final_Weight, color='steelblue')\n",
    "# #Zoom it in\n",
    "# ax.set_xlim(0,100)\n",
    "# ax.set_ylim(0,100)\n",
    "# #Set the labels\n",
    "# ax.set_ylabel('Final Weight')\n",
    "# ax.set_xlabel('Initial Weight')\n",
    "\n",
    "plt.tight_layout()"
   ]
  },
  {
   "cell_type": "markdown",
   "metadata": {},
   "source": [
    "We can also be more rigorous and look at the distribution of weight values, and determine what weights are 3 standard deviations away from the mean.\n",
    "\n",
    "Since we'll want to do this for both the Initial and Final Weight we'll make a function"
   ]
  },
  {
   "cell_type": "code",
   "execution_count": 9,
   "metadata": {
    "collapsed": false
   },
   "outputs": [],
   "source": [
    "def find_stdev(df, column_name, num_std=3):\n",
    "    '''\n",
    "    Returns the value of -3 and +3 standard deviations from the mean\n",
    "    input:\n",
    "        dataframe\n",
    "        column_name to calculate for\n",
    "    output:\n",
    "        minus_three\n",
    "        plus_three\n",
    "    '''\n",
    "    mean = df[column_name].mean()\n",
    "    stdev = df[column_name].std()\n",
    "    minus_three = mean - num_std * stdev\n",
    "    plus_three = mean + num_std * stdev\n",
    "    return minus_three, plus_three\n",
    "\n",
    "def plot_weight_features(df, column_name, num_std=3):\n",
    "    '''\n",
    "    Plots the histogram of the weight, as well as the point that is three standard deviations away from the mean\n",
    "    '''\n",
    "    minus_three, plus_three = find_stdev(df, column_name, num_std=num_std)\n",
    "    #Start the plot\n",
    "    with mpl.style.context(('bmh')):\n",
    "        fig = plt.figure()\n",
    "        ax = fig.add_subplot(111, axisbg = 'white')\n",
    "        #Plot the histogram\n",
    "        numbins = (df[column_name].max() - df[column_name].min() )/ 2\n",
    "        n, bins, patches = ax.hist(df[column_name].values, bins=numbins)\n",
    "        #Now let's plot the minus and plus three standard deviation points\n",
    "        ax.vlines([minus_three, plus_three], [0, 0], [max(n), max(n)], color='black')\n",
    "        #Graph labelling\n",
    "        ax.set_ylabel('Count')\n",
    "        ax.set_xlabel(column_name)"
   ]
  },
  {
   "cell_type": "code",
   "execution_count": 10,
   "metadata": {
    "collapsed": false
   },
   "outputs": [
    {
     "data": {
      "image/png": "[encoded data removed]",
      "text/plain": [
       "<matplotlib.figure.Figure at 0x107eedcc0>"
      ]
     },
     "metadata": {},
     "output_type": "display_data"
    }
   ],
   "source": [
    "plot_weight_features(agedf, 'Initial_Weight', num_std = 2)"
   ]
  },
  {
   "cell_type": "code",
   "execution_count": 11,
   "metadata": {
    "collapsed": false
   },
   "outputs": [
    {
     "data": {
      "image/png": "[encoded data removed]",
      "text/plain": [
       "<matplotlib.figure.Figure at 0x1088568d0>"
      ]
     },
     "metadata": {},
     "output_type": "display_data"
    }
   ],
   "source": [
    "plot_weight_features(agedf, 'Final_Weight', num_std = 2)"
   ]
  },
  {
   "cell_type": "code",
   "execution_count": 11,
   "metadata": {
    "collapsed": false
   },
   "outputs": [],
   "source": []
  },
  {
   "cell_type": "code",
   "execution_count": 11,
   "metadata": {
    "collapsed": false
   },
   "outputs": [],
   "source": []
  },
  {
   "cell_type": "markdown",
   "metadata": {},
   "source": [
    "So let's set our data anlysis to use anyone that is within three standarad deviations of the mean"
   ]
  },
  {
   "cell_type": "code",
   "execution_count": 12,
   "metadata": {
    "collapsed": false
   },
   "outputs": [
    {
     "data": {
      "text/html": [
       "<div style=\"max-height:1000px;max-width:1500px;overflow:auto;\">\n",
       "<table border=\"1\" class=\"dataframe\">\n",
       "  <thead>\n",
       "    <tr style=\"text-align: right;\">\n",
       "      <th></th>\n",
       "      <th>Initial_Weight</th>\n",
       "      <th>Final_Weight</th>\n",
       "      <th>Height</th>\n",
       "      <th>Age</th>\n",
       "    </tr>\n",
       "  </thead>\n",
       "  <tbody>\n",
       "    <tr>\n",
       "      <th>count</th>\n",
       "      <td> 46797.000000</td>\n",
       "      <td> 46797.000000</td>\n",
       "      <td> 46797.000000</td>\n",
       "      <td> 46797.000000</td>\n",
       "    </tr>\n",
       "    <tr>\n",
       "      <th>mean</th>\n",
       "      <td>   193.895631</td>\n",
       "      <td>   190.731212</td>\n",
       "      <td>    65.862000</td>\n",
       "      <td>    42.563989</td>\n",
       "    </tr>\n",
       "    <tr>\n",
       "      <th>std</th>\n",
       "      <td>    49.935134</td>\n",
       "      <td>    50.124458</td>\n",
       "      <td>     3.485689</td>\n",
       "      <td>    12.439722</td>\n",
       "    </tr>\n",
       "    <tr>\n",
       "      <th>min</th>\n",
       "      <td>     8.000000</td>\n",
       "      <td>    10.000000</td>\n",
       "      <td>    49.000000</td>\n",
       "      <td>    13.000000</td>\n",
       "    </tr>\n",
       "    <tr>\n",
       "      <th>25%</th>\n",
       "      <td>   157.000000</td>\n",
       "      <td>   154.100000</td>\n",
       "      <td>    64.000000</td>\n",
       "      <td>    33.000000</td>\n",
       "    </tr>\n",
       "    <tr>\n",
       "      <th>50%</th>\n",
       "      <td>   185.000000</td>\n",
       "      <td>   182.300000</td>\n",
       "      <td>    65.000000</td>\n",
       "      <td>    42.000000</td>\n",
       "    </tr>\n",
       "    <tr>\n",
       "      <th>75%</th>\n",
       "      <td>   221.000000</td>\n",
       "      <td>   218.000000</td>\n",
       "      <td>    68.000000</td>\n",
       "      <td>    52.000000</td>\n",
       "    </tr>\n",
       "    <tr>\n",
       "      <th>max</th>\n",
       "      <td>   410.000000</td>\n",
       "      <td>  2481.000000</td>\n",
       "      <td>   195.000000</td>\n",
       "      <td>    79.000000</td>\n",
       "    </tr>\n",
       "  </tbody>\n",
       "</table>\n",
       "</div>"
      ],
      "text/plain": [
       "       Initial_Weight  Final_Weight        Height           Age\n",
       "count    46797.000000  46797.000000  46797.000000  46797.000000\n",
       "mean       193.895631    190.731212     65.862000     42.563989\n",
       "std         49.935134     50.124458      3.485689     12.439722\n",
       "min          8.000000     10.000000     49.000000     13.000000\n",
       "25%        157.000000    154.100000     64.000000     33.000000\n",
       "50%        185.000000    182.300000     65.000000     42.000000\n",
       "75%        221.000000    218.000000     68.000000     52.000000\n",
       "max        410.000000   2481.000000    195.000000     79.000000"
      ]
     },
     "execution_count": 12,
     "metadata": {},
     "output_type": "execute_result"
    }
   ],
   "source": [
    "initial_weight_stdevs = find_stdev(agedf, 'Initial_Weight', num_std=4)\n",
    "\n",
    "weighdf = agedf[(agedf.Initial_Weight > initial_weight_stdevs[0]) & (agedf.Initial_Weight < initial_weight_stdevs[1])]\n",
    "\n",
    "weighdf.describe()"
   ]
  },
  {
   "cell_type": "markdown",
   "metadata": {},
   "source": [
    "**Whoa!** We still have someone who's weight is off the charts"
   ]
  },
  {
   "cell_type": "code",
   "execution_count": 13,
   "metadata": {
    "collapsed": false
   },
   "outputs": [
    {
     "data": {
      "text/html": [
       "<div style=\"max-height:1000px;max-width:1500px;overflow:auto;\">\n",
       "<table border=\"1\" class=\"dataframe\">\n",
       "  <thead>\n",
       "    <tr style=\"text-align: right;\">\n",
       "      <th></th>\n",
       "      <th>Initial_Weight</th>\n",
       "      <th>Final_Weight</th>\n",
       "      <th>Height</th>\n",
       "      <th>Age</th>\n",
       "    </tr>\n",
       "  </thead>\n",
       "  <tbody>\n",
       "    <tr>\n",
       "      <th>count</th>\n",
       "      <td> 46788.000000</td>\n",
       "      <td> 46788.000000</td>\n",
       "      <td> 46788.000000</td>\n",
       "      <td> 46788.000000</td>\n",
       "    </tr>\n",
       "    <tr>\n",
       "      <th>mean</th>\n",
       "      <td>   193.869037</td>\n",
       "      <td>   190.643159</td>\n",
       "      <td>    65.861182</td>\n",
       "      <td>    42.563307</td>\n",
       "    </tr>\n",
       "    <tr>\n",
       "      <th>std</th>\n",
       "      <td>    49.887875</td>\n",
       "      <td>    48.906684</td>\n",
       "      <td>     3.484763</td>\n",
       "      <td>    12.439762</td>\n",
       "    </tr>\n",
       "    <tr>\n",
       "      <th>min</th>\n",
       "      <td>     8.000000</td>\n",
       "      <td>    10.000000</td>\n",
       "      <td>    49.000000</td>\n",
       "      <td>    13.000000</td>\n",
       "    </tr>\n",
       "    <tr>\n",
       "      <th>25%</th>\n",
       "      <td>   157.000000</td>\n",
       "      <td>   154.000000</td>\n",
       "      <td>    64.000000</td>\n",
       "      <td>    33.000000</td>\n",
       "    </tr>\n",
       "    <tr>\n",
       "      <th>50%</th>\n",
       "      <td>   185.000000</td>\n",
       "      <td>   182.200000</td>\n",
       "      <td>    65.000000</td>\n",
       "      <td>    42.000000</td>\n",
       "    </tr>\n",
       "    <tr>\n",
       "      <th>75%</th>\n",
       "      <td>   221.000000</td>\n",
       "      <td>   218.000000</td>\n",
       "      <td>    68.000000</td>\n",
       "      <td>    52.000000</td>\n",
       "    </tr>\n",
       "    <tr>\n",
       "      <th>max</th>\n",
       "      <td>   410.000000</td>\n",
       "      <td>   405.000000</td>\n",
       "      <td>   195.000000</td>\n",
       "      <td>    79.000000</td>\n",
       "    </tr>\n",
       "  </tbody>\n",
       "</table>\n",
       "</div>"
      ],
      "text/plain": [
       "       Initial_Weight  Final_Weight        Height           Age\n",
       "count    46788.000000  46788.000000  46788.000000  46788.000000\n",
       "mean       193.869037    190.643159     65.861182     42.563307\n",
       "std         49.887875     48.906684      3.484763     12.439762\n",
       "min          8.000000     10.000000     49.000000     13.000000\n",
       "25%        157.000000    154.000000     64.000000     33.000000\n",
       "50%        185.000000    182.200000     65.000000     42.000000\n",
       "75%        221.000000    218.000000     68.000000     52.000000\n",
       "max        410.000000    405.000000    195.000000     79.000000"
      ]
     },
     "execution_count": 13,
     "metadata": {},
     "output_type": "execute_result"
    }
   ],
   "source": [
    "final_weight_stdevs = find_stdev(agedf, 'Final_Weight', num_std=4)\n",
    "\n",
    "weighdf = agedf[(agedf.Initial_Weight > initial_weight_stdevs[0]) & (agedf.Initial_Weight < initial_weight_stdevs[1]) & \n",
    "                (agedf.Final_Weight > final_weight_stdevs[0]) & (agedf.Final_Weight < final_weight_stdevs[1])]\n",
    "\n",
    "weighdf.describe()"
   ]
  },
  {
   "cell_type": "code",
   "execution_count": 14,
   "metadata": {
    "collapsed": false
   },
   "outputs": [
    {
     "data": {
      "image/png": "[encoded data removed]",
      "text/plain": [
       "<matplotlib.figure.Figure at 0x10ac76c18>"
      ]
     },
     "metadata": {},
     "output_type": "display_data"
    }
   ],
   "source": [
    "with mpl.style.context(('bmh')):\n",
    "    #Let's make a scatter plt\n",
    "    fig = plt.figure(figsize=(6,6))\n",
    "    ax = fig.add_subplot(111, axisbg='white') \n",
    "    ax.scatter(weighdf.Initial_Weight, weighdf.Final_Weight, color='steelblue')\n",
    "    #Set some lines quickly with the v and h spans\n",
    "    ax.axvspan(-0.5, 0.5)\n",
    "    ax.axhspan(-0.5, 0.5)\n",
    "    #Make our line of unity\n",
    "    ax.plot(ax.get_xlim(), ax.get_xlim(), color='black', alpha = 0.5)\n",
    "    #Set the limits\n",
    "    ax.set_xlim(0, weighdf.Initial_Weight.max())\n",
    "    ax.set_ylim(0, weighdf.Final_Weight.max())\n",
    "    #Set the labels\n",
    "    ax.set_ylabel('Final Weight')\n",
    "    ax.set_xlabel('Initial Weight')"
   ]
  },
  {
   "cell_type": "markdown",
   "metadata": {},
   "source": [
    "Now let's  turn our attention to the height"
   ]
  },
  {
   "cell_type": "code",
   "execution_count": 15,
   "metadata": {
    "collapsed": false
   },
   "outputs": [
    {
     "data": {
      "image/png": "[encoded data removed]",
      "text/plain": [
       "<matplotlib.figure.Figure at 0x109eaa0b8>"
      ]
     },
     "metadata": {},
     "output_type": "display_data"
    }
   ],
   "source": [
    "with mpl.style.context(('bmh')):\n",
    "    bins = weighdf.Height.max() - weighdf.Height.min()\n",
    "    weighdf.Height.hist(normed=True, bins = bins, log=True)\n",
    "    #Set the labels\n",
    "    ax.set_axis_bgcolor('white')\n",
    "    ax.set_xlabel('Height')\n",
    "    ax.set_ylabel('pmf')"
   ]
  },
  {
   "cell_type": "markdown",
   "metadata": {},
   "source": [
    "So let's restrict the heights now"
   ]
  },
  {
   "cell_type": "code",
   "execution_count": 16,
   "metadata": {
    "collapsed": false
   },
   "outputs": [
    {
     "data": {
      "text/html": [
       "<div style=\"max-height:1000px;max-width:1500px;overflow:auto;\">\n",
       "<table border=\"1\" class=\"dataframe\">\n",
       "  <thead>\n",
       "    <tr style=\"text-align: right;\">\n",
       "      <th></th>\n",
       "      <th>Initial_Weight</th>\n",
       "      <th>Final_Weight</th>\n",
       "      <th>Height</th>\n",
       "      <th>Age</th>\n",
       "    </tr>\n",
       "  </thead>\n",
       "  <tbody>\n",
       "    <tr>\n",
       "      <th>count</th>\n",
       "      <td> 46785.000000</td>\n",
       "      <td> 46785.000000</td>\n",
       "      <td> 46785.000000</td>\n",
       "      <td> 46785.000000</td>\n",
       "    </tr>\n",
       "    <tr>\n",
       "      <th>mean</th>\n",
       "      <td>   193.867767</td>\n",
       "      <td>   190.641682</td>\n",
       "      <td>    65.856728</td>\n",
       "      <td>    42.563899</td>\n",
       "    </tr>\n",
       "    <tr>\n",
       "      <th>std</th>\n",
       "      <td>    49.882288</td>\n",
       "      <td>    48.900831</td>\n",
       "      <td>     3.423512</td>\n",
       "      <td>    12.439911</td>\n",
       "    </tr>\n",
       "    <tr>\n",
       "      <th>min</th>\n",
       "      <td>     8.000000</td>\n",
       "      <td>    10.000000</td>\n",
       "      <td>    49.000000</td>\n",
       "      <td>    13.000000</td>\n",
       "    </tr>\n",
       "    <tr>\n",
       "      <th>25%</th>\n",
       "      <td>   157.000000</td>\n",
       "      <td>   154.000000</td>\n",
       "      <td>    64.000000</td>\n",
       "      <td>    33.000000</td>\n",
       "    </tr>\n",
       "    <tr>\n",
       "      <th>50%</th>\n",
       "      <td>   185.000000</td>\n",
       "      <td>   182.200000</td>\n",
       "      <td>    65.000000</td>\n",
       "      <td>    42.000000</td>\n",
       "    </tr>\n",
       "    <tr>\n",
       "      <th>75%</th>\n",
       "      <td>   221.000000</td>\n",
       "      <td>   218.000000</td>\n",
       "      <td>    68.000000</td>\n",
       "      <td>    52.000000</td>\n",
       "    </tr>\n",
       "    <tr>\n",
       "      <th>max</th>\n",
       "      <td>   410.000000</td>\n",
       "      <td>   405.000000</td>\n",
       "      <td>    87.000000</td>\n",
       "      <td>    79.000000</td>\n",
       "    </tr>\n",
       "  </tbody>\n",
       "</table>\n",
       "</div>"
      ],
      "text/plain": [
       "       Initial_Weight  Final_Weight        Height           Age\n",
       "count    46785.000000  46785.000000  46785.000000  46785.000000\n",
       "mean       193.867767    190.641682     65.856728     42.563899\n",
       "std         49.882288     48.900831      3.423512     12.439911\n",
       "min          8.000000     10.000000     49.000000     13.000000\n",
       "25%        157.000000    154.000000     64.000000     33.000000\n",
       "50%        185.000000    182.200000     65.000000     42.000000\n",
       "75%        221.000000    218.000000     68.000000     52.000000\n",
       "max        410.000000    405.000000     87.000000     79.000000"
      ]
     },
     "execution_count": 16,
     "metadata": {},
     "output_type": "execute_result"
    }
   ],
   "source": [
    "finaldf = weighdf[weighdf.Height < 100]\n",
    "finaldf.describe()"
   ]
  },
  {
   "cell_type": "markdown",
   "metadata": {},
   "source": [
    "So let's just look at something simple, how correlated is someone's initial weight of their final weight?\n",
    "\n",
    "To do this we'll just fit a simple linear model to the data.\n",
    "\n",
    "\n",
    "If we're curious about initial weight predicting final weight then:\n",
    "\n",
    "initial weight is the __ ? __\n",
    "\n",
    "and \n",
    "\n",
    "final weight is the __ ? __"
   ]
  },
  {
   "cell_type": "code",
   "execution_count": 17,
   "metadata": {
    "collapsed": false
   },
   "outputs": [
    {
     "name": "stdout",
     "output_type": "stream",
     "text": [
      "The slope is 0.957028118094\n",
      "The intercept is 5.10477773809\n",
      "The standard error is 0.000982211197008\n",
      "P-value for the fit: 0.0\n",
      "R^2 of the fit: 0.953036756429\n"
     ]
    }
   ],
   "source": [
    "import scipy.stats as stats\n",
    "\n",
    "slope, intercept, r, p, stderr = stats.linregress(finaldf.Initial_Weight, finaldf.Final_Weight)\n",
    "\n",
    "print( \"The slope is \" + str(slope) )\n",
    "print( \"The intercept is \" + str(intercept) )\n",
    "print( \"The standard error is \" + str(stderr) )\n",
    "print( \"P-value for the fit: \" + str(p) )\n",
    "print( \"R^2 of the fit: \" + str(r ** 2 ) )"
   ]
  },
  {
   "cell_type": "markdown",
   "metadata": {},
   "source": [
    "Some of these numbers should be familiar to everyone. \n",
    "\n",
    "A line is described by the formula \n",
    "\n",
    "$y = mx + b$\n",
    "\n",
    "and we know what the $y$ and $x$ are. The slope is still $m$ and the intercept is $b$.\n",
    "\n",
    "The standard error is the error associated with the estimate of the values.\n",
    "\n",
    "The p-value is from the two-sided hypothesis test with a null hypothesis that the slope of the line is zero. A slope of zero means that there is no relationship between the two variables (meaning the input changes while the output does not).\n",
    "\n",
    "The $r^2$ is the coefficient of determination (the r-value is the correlation coefficient). The $r^2$ describes how well the data fit the model, or said another way how much of the variance in the data is explained by the model in comparsion to the total variance in the data."
   ]
  },
  {
   "cell_type": "code",
   "execution_count": 18,
   "metadata": {
    "collapsed": false
   },
   "outputs": [
    {
     "data": {
      "image/png": "[encoded data removed]",
      "text/plain": [
       "<matplotlib.figure.Figure at 0x10a36c400>"
      ]
     },
     "metadata": {},
     "output_type": "display_data"
    }
   ],
   "source": [
    "with mpl.style.context(('bmh')):\n",
    "    #Let's make a scatter plt\n",
    "    fig = plt.figure(figsize=(6,6))\n",
    "    ax = fig.add_subplot(111, axisbg='white') \n",
    "    ax.scatter(finaldf.Initial_Weight, finaldf.Final_Weight, color='steelblue')\n",
    "    #Add the best fit line\n",
    "    x = np.linspace(0, 600, 600)\n",
    "    y = slope * x + intercept\n",
    "    plt.plot(x, y, label = 'y = %.2fx + %.2f' % (slope, intercept) , color = 'black')\n",
    "    #Set the limits\n",
    "    ax.set_xlim(0, weighdf.Initial_Weight.max())\n",
    "    ax.set_ylim(0, weighdf.Final_Weight.max())\n",
    "    #Set the labels\n",
    "    ax.legend(loc=2)\n",
    "    ax.set_ylabel('Final Weight')\n",
    "    ax.set_xlabel('Initial Weight')"
   ]
  },
  {
   "cell_type": "markdown",
   "metadata": {},
   "source": [
    "# Is this relationship between Initial Weight and Final Weight affected by age?\n",
    "\n",
    "Let's break this data down by specific ages using the `groupby` function in Pandas"
   ]
  },
  {
   "cell_type": "code",
   "execution_count": 19,
   "metadata": {
    "collapsed": false
   },
   "outputs": [
    {
     "name": "stdout",
     "output_type": "stream",
     "text": [
      "<class 'pandas.core.groupby.DataFrameGroupBy'>\n"
     ]
    }
   ],
   "source": [
    "gdf = finaldf.groupby('Age')\n",
    "\n",
    "print( type(gdf) )"
   ]
  },
  {
   "cell_type": "markdown",
   "metadata": {},
   "source": [
    "Now there are some different functions that we use with a grouped dataframe"
   ]
  },
  {
   "cell_type": "code",
   "execution_count": 20,
   "metadata": {
    "collapsed": false
   },
   "outputs": [
    {
     "data": {
      "text/plain": [
       "67"
      ]
     },
     "execution_count": 20,
     "metadata": {},
     "output_type": "execute_result"
    }
   ],
   "source": [
    "gdf.ngroups"
   ]
  },
  {
   "cell_type": "code",
   "execution_count": 21,
   "metadata": {
    "collapsed": false
   },
   "outputs": [
    {
     "data": {
      "text/html": [
       "<div style=\"max-height:1000px;max-width:1500px;overflow:auto;\">\n",
       "<table border=\"1\" class=\"dataframe\">\n",
       "  <thead>\n",
       "    <tr style=\"text-align: right;\">\n",
       "      <th></th>\n",
       "      <th></th>\n",
       "      <th>Final_Weight</th>\n",
       "      <th>Height</th>\n",
       "      <th>Initial_Weight</th>\n",
       "    </tr>\n",
       "    <tr>\n",
       "      <th>Age</th>\n",
       "      <th></th>\n",
       "      <th></th>\n",
       "      <th></th>\n",
       "      <th></th>\n",
       "    </tr>\n",
       "  </thead>\n",
       "  <tbody>\n",
       "    <tr>\n",
       "      <th rowspan=\"8\" valign=\"top\">13</th>\n",
       "      <th>count</th>\n",
       "      <td>  38.000000</td>\n",
       "      <td> 38.000000</td>\n",
       "      <td>  38.000000</td>\n",
       "    </tr>\n",
       "    <tr>\n",
       "      <th>mean</th>\n",
       "      <td> 150.133684</td>\n",
       "      <td> 63.447368</td>\n",
       "      <td> 149.770526</td>\n",
       "    </tr>\n",
       "    <tr>\n",
       "      <th>std</th>\n",
       "      <td>  40.301827</td>\n",
       "      <td>  2.390266</td>\n",
       "      <td>  39.243721</td>\n",
       "    </tr>\n",
       "    <tr>\n",
       "      <th>min</th>\n",
       "      <td>  66.800000</td>\n",
       "      <td> 57.000000</td>\n",
       "      <td>  63.000000</td>\n",
       "    </tr>\n",
       "    <tr>\n",
       "      <th>25%</th>\n",
       "      <td> 123.500000</td>\n",
       "      <td> 62.000000</td>\n",
       "      <td> 123.500000</td>\n",
       "    </tr>\n",
       "    <tr>\n",
       "      <th>50%</th>\n",
       "      <td> 152.300000</td>\n",
       "      <td> 63.500000</td>\n",
       "      <td> 156.500000</td>\n",
       "    </tr>\n",
       "    <tr>\n",
       "      <th>75%</th>\n",
       "      <td> 172.750000</td>\n",
       "      <td> 65.000000</td>\n",
       "      <td> 172.750000</td>\n",
       "    </tr>\n",
       "    <tr>\n",
       "      <th>max</th>\n",
       "      <td> 247.400000</td>\n",
       "      <td> 68.000000</td>\n",
       "      <td> 240.000000</td>\n",
       "    </tr>\n",
       "    <tr>\n",
       "      <th rowspan=\"8\" valign=\"top\">14</th>\n",
       "      <th>count</th>\n",
       "      <td>  40.000000</td>\n",
       "      <td> 40.000000</td>\n",
       "      <td>  40.000000</td>\n",
       "    </tr>\n",
       "    <tr>\n",
       "      <th>mean</th>\n",
       "      <td> 159.515000</td>\n",
       "      <td> 64.525000</td>\n",
       "      <td> 168.090000</td>\n",
       "    </tr>\n",
       "    <tr>\n",
       "      <th>std</th>\n",
       "      <td>  44.750754</td>\n",
       "      <td>  3.234331</td>\n",
       "      <td>  50.555721</td>\n",
       "    </tr>\n",
       "    <tr>\n",
       "      <th>min</th>\n",
       "      <td>  98.000000</td>\n",
       "      <td> 58.000000</td>\n",
       "      <td>  98.000000</td>\n",
       "    </tr>\n",
       "    <tr>\n",
       "      <th>25%</th>\n",
       "      <td> 128.000000</td>\n",
       "      <td> 62.000000</td>\n",
       "      <td> 131.500000</td>\n",
       "    </tr>\n",
       "    <tr>\n",
       "      <th>50%</th>\n",
       "      <td> 146.650000</td>\n",
       "      <td> 64.500000</td>\n",
       "      <td> 160.900000</td>\n",
       "    </tr>\n",
       "    <tr>\n",
       "      <th>75%</th>\n",
       "      <td> 190.000000</td>\n",
       "      <td> 66.000000</td>\n",
       "      <td> 192.250000</td>\n",
       "    </tr>\n",
       "    <tr>\n",
       "      <th>max</th>\n",
       "      <td> 312.000000</td>\n",
       "      <td> 73.000000</td>\n",
       "      <td> 312.000000</td>\n",
       "    </tr>\n",
       "    <tr>\n",
       "      <th rowspan=\"8\" valign=\"top\">15</th>\n",
       "      <th>count</th>\n",
       "      <td>  55.000000</td>\n",
       "      <td> 55.000000</td>\n",
       "      <td>  55.000000</td>\n",
       "    </tr>\n",
       "    <tr>\n",
       "      <th>mean</th>\n",
       "      <td> 166.512909</td>\n",
       "      <td> 65.090909</td>\n",
       "      <td> 167.512727</td>\n",
       "    </tr>\n",
       "    <tr>\n",
       "      <th>std</th>\n",
       "      <td>  43.315813</td>\n",
       "      <td>  3.044562</td>\n",
       "      <td>  43.354794</td>\n",
       "    </tr>\n",
       "    <tr>\n",
       "      <th>min</th>\n",
       "      <td>  76.000000</td>\n",
       "      <td> 60.000000</td>\n",
       "      <td>  76.000000</td>\n",
       "    </tr>\n",
       "    <tr>\n",
       "      <th>25%</th>\n",
       "      <td> 137.000000</td>\n",
       "      <td> 63.000000</td>\n",
       "      <td> 137.000000</td>\n",
       "    </tr>\n",
       "    <tr>\n",
       "      <th>50%</th>\n",
       "      <td> 157.000000</td>\n",
       "      <td> 65.000000</td>\n",
       "      <td> 160.000000</td>\n",
       "    </tr>\n",
       "    <tr>\n",
       "      <th>75%</th>\n",
       "      <td> 193.500000</td>\n",
       "      <td> 67.000000</td>\n",
       "      <td> 198.500000</td>\n",
       "    </tr>\n",
       "    <tr>\n",
       "      <th>max</th>\n",
       "      <td> 270.000000</td>\n",
       "      <td> 73.000000</td>\n",
       "      <td> 270.000000</td>\n",
       "    </tr>\n",
       "    <tr>\n",
       "      <th rowspan=\"6\" valign=\"top\">16</th>\n",
       "      <th>count</th>\n",
       "      <td>  60.000000</td>\n",
       "      <td> 60.000000</td>\n",
       "      <td>  60.000000</td>\n",
       "    </tr>\n",
       "    <tr>\n",
       "      <th>mean</th>\n",
       "      <td> 163.488333</td>\n",
       "      <td> 65.000000</td>\n",
       "      <td> 164.760000</td>\n",
       "    </tr>\n",
       "    <tr>\n",
       "      <th>std</th>\n",
       "      <td>  38.720783</td>\n",
       "      <td>  3.668464</td>\n",
       "      <td>  38.681994</td>\n",
       "    </tr>\n",
       "    <tr>\n",
       "      <th>min</th>\n",
       "      <td> 104.000000</td>\n",
       "      <td> 54.000000</td>\n",
       "      <td> 104.000000</td>\n",
       "    </tr>\n",
       "    <tr>\n",
       "      <th>25%</th>\n",
       "      <td> 136.750000</td>\n",
       "      <td> 63.000000</td>\n",
       "      <td> 140.000000</td>\n",
       "    </tr>\n",
       "    <tr>\n",
       "      <th>50%</th>\n",
       "      <td> 150.300000</td>\n",
       "      <td> 64.000000</td>\n",
       "      <td> 154.500000</td>\n",
       "    </tr>\n",
       "    <tr>\n",
       "      <th>...</th>\n",
       "      <th>...</th>\n",
       "      <td>...</td>\n",
       "      <td>...</td>\n",
       "      <td>...</td>\n",
       "    </tr>\n",
       "    <tr>\n",
       "      <th rowspan=\"6\" valign=\"top\">76</th>\n",
       "      <th>std</th>\n",
       "      <td>  30.344085</td>\n",
       "      <td>  3.731213</td>\n",
       "      <td>  27.593936</td>\n",
       "    </tr>\n",
       "    <tr>\n",
       "      <th>min</th>\n",
       "      <td> 120.000000</td>\n",
       "      <td> 60.000000</td>\n",
       "      <td> 137.000000</td>\n",
       "    </tr>\n",
       "    <tr>\n",
       "      <th>25%</th>\n",
       "      <td> 178.500000</td>\n",
       "      <td> 64.000000</td>\n",
       "      <td> 181.000000</td>\n",
       "    </tr>\n",
       "    <tr>\n",
       "      <th>50%</th>\n",
       "      <td> 198.000000</td>\n",
       "      <td> 66.000000</td>\n",
       "      <td> 204.000000</td>\n",
       "    </tr>\n",
       "    <tr>\n",
       "      <th>75%</th>\n",
       "      <td> 217.000000</td>\n",
       "      <td> 69.000000</td>\n",
       "      <td> 221.000000</td>\n",
       "    </tr>\n",
       "    <tr>\n",
       "      <th>max</th>\n",
       "      <td> 256.000000</td>\n",
       "      <td> 75.000000</td>\n",
       "      <td> 260.000000</td>\n",
       "    </tr>\n",
       "    <tr>\n",
       "      <th rowspan=\"8\" valign=\"top\">77</th>\n",
       "      <th>count</th>\n",
       "      <td>  34.000000</td>\n",
       "      <td> 34.000000</td>\n",
       "      <td>  34.000000</td>\n",
       "    </tr>\n",
       "    <tr>\n",
       "      <th>mean</th>\n",
       "      <td> 201.585294</td>\n",
       "      <td> 66.882353</td>\n",
       "      <td> 202.529412</td>\n",
       "    </tr>\n",
       "    <tr>\n",
       "      <th>std</th>\n",
       "      <td>  47.214341</td>\n",
       "      <td>  4.463758</td>\n",
       "      <td>  47.422815</td>\n",
       "    </tr>\n",
       "    <tr>\n",
       "      <th>min</th>\n",
       "      <td> 132.000000</td>\n",
       "      <td> 59.000000</td>\n",
       "      <td> 132.000000</td>\n",
       "    </tr>\n",
       "    <tr>\n",
       "      <th>25%</th>\n",
       "      <td> 170.000000</td>\n",
       "      <td> 64.000000</td>\n",
       "      <td> 171.250000</td>\n",
       "    </tr>\n",
       "    <tr>\n",
       "      <th>50%</th>\n",
       "      <td> 188.300000</td>\n",
       "      <td> 66.000000</td>\n",
       "      <td> 189.500000</td>\n",
       "    </tr>\n",
       "    <tr>\n",
       "      <th>75%</th>\n",
       "      <td> 232.000000</td>\n",
       "      <td> 71.000000</td>\n",
       "      <td> 229.000000</td>\n",
       "    </tr>\n",
       "    <tr>\n",
       "      <th>max</th>\n",
       "      <td> 310.000000</td>\n",
       "      <td> 77.000000</td>\n",
       "      <td> 310.000000</td>\n",
       "    </tr>\n",
       "    <tr>\n",
       "      <th rowspan=\"8\" valign=\"top\">78</th>\n",
       "      <th>count</th>\n",
       "      <td>  21.000000</td>\n",
       "      <td> 21.000000</td>\n",
       "      <td>  21.000000</td>\n",
       "    </tr>\n",
       "    <tr>\n",
       "      <th>mean</th>\n",
       "      <td> 201.019048</td>\n",
       "      <td> 67.047619</td>\n",
       "      <td> 202.904762</td>\n",
       "    </tr>\n",
       "    <tr>\n",
       "      <th>std</th>\n",
       "      <td>  30.818251</td>\n",
       "      <td>  4.398593</td>\n",
       "      <td>  32.104368</td>\n",
       "    </tr>\n",
       "    <tr>\n",
       "      <th>min</th>\n",
       "      <td> 123.000000</td>\n",
       "      <td> 57.000000</td>\n",
       "      <td> 123.000000</td>\n",
       "    </tr>\n",
       "    <tr>\n",
       "      <th>25%</th>\n",
       "      <td> 182.200000</td>\n",
       "      <td> 65.000000</td>\n",
       "      <td> 182.000000</td>\n",
       "    </tr>\n",
       "    <tr>\n",
       "      <th>50%</th>\n",
       "      <td> 209.000000</td>\n",
       "      <td> 66.000000</td>\n",
       "      <td> 214.000000</td>\n",
       "    </tr>\n",
       "    <tr>\n",
       "      <th>75%</th>\n",
       "      <td> 222.000000</td>\n",
       "      <td> 71.000000</td>\n",
       "      <td> 223.000000</td>\n",
       "    </tr>\n",
       "    <tr>\n",
       "      <th>max</th>\n",
       "      <td> 245.000000</td>\n",
       "      <td> 73.000000</td>\n",
       "      <td> 245.000000</td>\n",
       "    </tr>\n",
       "    <tr>\n",
       "      <th rowspan=\"8\" valign=\"top\">79</th>\n",
       "      <th>count</th>\n",
       "      <td>  16.000000</td>\n",
       "      <td> 16.000000</td>\n",
       "      <td>  16.000000</td>\n",
       "    </tr>\n",
       "    <tr>\n",
       "      <th>mean</th>\n",
       "      <td> 199.537500</td>\n",
       "      <td> 65.125000</td>\n",
       "      <td> 202.875000</td>\n",
       "    </tr>\n",
       "    <tr>\n",
       "      <th>std</th>\n",
       "      <td>  40.326449</td>\n",
       "      <td>  2.895399</td>\n",
       "      <td>  40.956684</td>\n",
       "    </tr>\n",
       "    <tr>\n",
       "      <th>min</th>\n",
       "      <td> 142.000000</td>\n",
       "      <td> 61.000000</td>\n",
       "      <td> 145.000000</td>\n",
       "    </tr>\n",
       "    <tr>\n",
       "      <th>25%</th>\n",
       "      <td> 169.000000</td>\n",
       "      <td> 63.750000</td>\n",
       "      <td> 172.500000</td>\n",
       "    </tr>\n",
       "    <tr>\n",
       "      <th>50%</th>\n",
       "      <td> 200.500000</td>\n",
       "      <td> 65.000000</td>\n",
       "      <td> 202.000000</td>\n",
       "    </tr>\n",
       "    <tr>\n",
       "      <th>75%</th>\n",
       "      <td> 221.000000</td>\n",
       "      <td> 65.250000</td>\n",
       "      <td> 230.750000</td>\n",
       "    </tr>\n",
       "    <tr>\n",
       "      <th>max</th>\n",
       "      <td> 295.000000</td>\n",
       "      <td> 72.000000</td>\n",
       "      <td> 300.000000</td>\n",
       "    </tr>\n",
       "  </tbody>\n",
       "</table>\n",
       "<p>536 rows × 3 columns</p>\n",
       "</div>"
      ],
      "text/plain": [
       "           Final_Weight     Height  Initial_Weight\n",
       "Age                                               \n",
       "13  count     38.000000  38.000000       38.000000\n",
       "    mean     150.133684  63.447368      149.770526\n",
       "    std       40.301827   2.390266       39.243721\n",
       "    min       66.800000  57.000000       63.000000\n",
       "    25%      123.500000  62.000000      123.500000\n",
       "    50%      152.300000  63.500000      156.500000\n",
       "    75%      172.750000  65.000000      172.750000\n",
       "    max      247.400000  68.000000      240.000000\n",
       "14  count     40.000000  40.000000       40.000000\n",
       "    mean     159.515000  64.525000      168.090000\n",
       "    std       44.750754   3.234331       50.555721\n",
       "    min       98.000000  58.000000       98.000000\n",
       "    25%      128.000000  62.000000      131.500000\n",
       "    50%      146.650000  64.500000      160.900000\n",
       "    75%      190.000000  66.000000      192.250000\n",
       "    max      312.000000  73.000000      312.000000\n",
       "15  count     55.000000  55.000000       55.000000\n",
       "    mean     166.512909  65.090909      167.512727\n",
       "    std       43.315813   3.044562       43.354794\n",
       "    min       76.000000  60.000000       76.000000\n",
       "    25%      137.000000  63.000000      137.000000\n",
       "    50%      157.000000  65.000000      160.000000\n",
       "    75%      193.500000  67.000000      198.500000\n",
       "    max      270.000000  73.000000      270.000000\n",
       "16  count     60.000000  60.000000       60.000000\n",
       "    mean     163.488333  65.000000      164.760000\n",
       "    std       38.720783   3.668464       38.681994\n",
       "    min      104.000000  54.000000      104.000000\n",
       "    25%      136.750000  63.000000      140.000000\n",
       "    50%      150.300000  64.000000      154.500000\n",
       "...                 ...        ...             ...\n",
       "76  std       30.344085   3.731213       27.593936\n",
       "    min      120.000000  60.000000      137.000000\n",
       "    25%      178.500000  64.000000      181.000000\n",
       "    50%      198.000000  66.000000      204.000000\n",
       "    75%      217.000000  69.000000      221.000000\n",
       "    max      256.000000  75.000000      260.000000\n",
       "77  count     34.000000  34.000000       34.000000\n",
       "    mean     201.585294  66.882353      202.529412\n",
       "    std       47.214341   4.463758       47.422815\n",
       "    min      132.000000  59.000000      132.000000\n",
       "    25%      170.000000  64.000000      171.250000\n",
       "    50%      188.300000  66.000000      189.500000\n",
       "    75%      232.000000  71.000000      229.000000\n",
       "    max      310.000000  77.000000      310.000000\n",
       "78  count     21.000000  21.000000       21.000000\n",
       "    mean     201.019048  67.047619      202.904762\n",
       "    std       30.818251   4.398593       32.104368\n",
       "    min      123.000000  57.000000      123.000000\n",
       "    25%      182.200000  65.000000      182.000000\n",
       "    50%      209.000000  66.000000      214.000000\n",
       "    75%      222.000000  71.000000      223.000000\n",
       "    max      245.000000  73.000000      245.000000\n",
       "79  count     16.000000  16.000000       16.000000\n",
       "    mean     199.537500  65.125000      202.875000\n",
       "    std       40.326449   2.895399       40.956684\n",
       "    min      142.000000  61.000000      145.000000\n",
       "    25%      169.000000  63.750000      172.500000\n",
       "    50%      200.500000  65.000000      202.000000\n",
       "    75%      221.000000  65.250000      230.750000\n",
       "    max      295.000000  72.000000      300.000000\n",
       "\n",
       "[536 rows x 3 columns]"
      ]
     },
     "execution_count": 21,
     "metadata": {},
     "output_type": "execute_result"
    }
   ],
   "source": [
    "gdf.describe()"
   ]
  },
  {
   "cell_type": "code",
   "execution_count": null,
   "metadata": {
    "collapsed": false
   },
   "outputs": [],
   "source": [
    "type( gdf.groups )"
   ]
  },
  {
   "cell_type": "code",
   "execution_count": null,
   "metadata": {
    "collapsed": false
   },
   "outputs": [],
   "source": [
    "tkey = list(gdf.groups.keys())[0]\n",
    "gdf.groups[tkey]"
   ]
  },
  {
   "cell_type": "code",
   "execution_count": null,
   "metadata": {
    "collapsed": false
   },
   "outputs": [],
   "source": [
    "tindex = gdf.groups[tkey]\n",
    "finaldf.loc[tindex]"
   ]
  },
  {
   "cell_type": "code",
   "execution_count": null,
   "metadata": {
    "collapsed": false
   },
   "outputs": [],
   "source": [
    "with mpl.style.context(('bmh')):\n",
    "    #Make a colormap that has enough colors for ust to access\n",
    "    cmap = mpl.cm.BuPu( np.linspace(0, 1, gdf.ngroups) )\n",
    "    #Start the figure\n",
    "    fig = plt.figure(figsize=(6,6))\n",
    "    ax = fig.add_subplot(111, axisbg='white')\n",
    "    #Now let's start going through this\n",
    "    for i, (row_key, row_indices) in enumerate( sorted( gdf.groups.items() ) ):\n",
    "        ax.scatter(finaldf.loc[row_indices].Initial_Weight,\n",
    "                   finaldf.loc[row_indices].Final_Weight,\n",
    "                   color=cmap[i])\n",
    "    ax.set_ylabel('Final Weight')\n",
    "    ax.set_xlabel('Initial Weight')"
   ]
  },
  {
   "cell_type": "markdown",
   "metadata": {},
   "source": [
    "Too many age groups! It would be so much better if we just binned it....\n",
    "\n",
    "Let's work on a small class project where we bin the users into decades of age."
   ]
  },
  {
   "cell_type": "code",
   "execution_count": null,
   "metadata": {
    "collapsed": false
   },
   "outputs": [],
   "source": [
    "#CLASSWORK, WRITE A FUNCTION TO RETURN THE AGEBIN\n",
    "def age_bin_finder(age_of_person, start_age = 10, end_age = 90, age_increment = 10):\n",
    "    #First lets set up our lists\n",
    "    leading_edges = range(start_age, end_age - age_increment, age_increment)\n",
    "    lagging_edges = range(start_age + age_increment, end_age, age_increment)\n",
    "    #Now let's go through our bin edges, we'll stop when we find the age of the person\n",
    "    for lead_edge, lag_edge in zip(leading_edges, lagging_edges):\n",
    "        #Check to see if our person is inside this bin\n",
    "        if age_of_person >= lead_edge and age_of_person < lag_edge:\n",
    "            age_bin = str(lead_edge) + '-' + str(lag_edge)\n",
    "            return age_bin"
   ]
  },
  {
   "cell_type": "markdown",
   "metadata": {},
   "source": [
    "But now how do we `apply` a function to the dataframe?"
   ]
  },
  {
   "cell_type": "code",
   "execution_count": null,
   "metadata": {
    "collapsed": false
   },
   "outputs": [],
   "source": [
    "finaldf['Age_Bin'] = finaldf.Age.apply(age_bin_finder)"
   ]
  },
  {
   "cell_type": "code",
   "execution_count": null,
   "metadata": {
    "collapsed": false
   },
   "outputs": [],
   "source": [
    "finaldf.head()"
   ]
  },
  {
   "cell_type": "markdown",
   "metadata": {},
   "source": [
    "Now let's plot this and look at how it breaks apart by age"
   ]
  },
  {
   "cell_type": "code",
   "execution_count": null,
   "metadata": {
    "collapsed": false
   },
   "outputs": [],
   "source": [
    "agebinned = finaldf.groupby('Age_Bin')\n",
    "\n",
    "with mpl.style.context(('bmh')):\n",
    "    #Make a colormap that has enough colors for ust to access\n",
    "    cmap = mpl.cm.Set2( np.linspace(0, 1, agebinned.ngroups) )\n",
    "    #Start the figure\n",
    "    fig = plt.figure(figsize=(6,6))\n",
    "    ax = fig.add_subplot(111, axisbg='white')\n",
    "    #Now let's start going through this\n",
    "    for i, (agebin, row_indices) in enumerate(sorted(agebinned.groups.items())):\n",
    "        ax.scatter(finaldf.loc[row_indices].Initial_Weight,\n",
    "                   finaldf.loc[row_indices].Final_Weight,\n",
    "                   color=cmap[i],\n",
    "                   label = agebin)\n",
    "    #Set the labels and the legend\n",
    "    ax.set_ylabel('Final Weight')\n",
    "    ax.set_xlabel('Initial Weight')\n",
    "    ax.legend(loc=2)"
   ]
  },
  {
   "cell_type": "markdown",
   "metadata": {},
   "source": [
    "Tough to tell what is going on in this plot with all of the age bins laid on top of each other.\n",
    "\n",
    "Let's make a facet plot"
   ]
  },
  {
   "cell_type": "code",
   "execution_count": null,
   "metadata": {
    "collapsed": false
   },
   "outputs": [],
   "source": [
    "with mpl.style.context(('bmh')):\n",
    "    #Make a colormap that has enough colors for ust to access\n",
    "    cmap = mpl.cm.Set2( np.linspace(0, 1, agebinned.ngroups + 1) )\n",
    "    #Start the figure\n",
    "    fig = plt.figure(figsize=(12,12))\n",
    "    #Now let's start going through this\n",
    "    for i, (agebin, row_indices) in enumerate(sorted(agebinned.groups.items())):\n",
    "        ax = fig.add_subplot('33'+ str(i + 1), axisbg='white')\n",
    "        #Our background data\n",
    "        ax.scatter(finaldf.Initial_Weight,\n",
    "                   finaldf.Final_Weight,\n",
    "                   color = cmap[-1],\n",
    "                   label = 'All',\n",
    "                   alpha=0.5)\n",
    "        #Our grouped data\n",
    "        ax.scatter(finaldf.loc[row_indices].Initial_Weight,\n",
    "                   finaldf.loc[row_indices].Final_Weight,\n",
    "                   color=cmap[i],\n",
    "                   label = agebin)\n",
    "        #Set the labels and the legend\n",
    "        ax.legend(loc=2)\n",
    "        ax.set_ylabel('Final Weight')\n",
    "        ax.set_xlabel('Initial Weight')\n",
    "    plt.tight_layout()"
   ]
  },
  {
   "cell_type": "markdown",
   "metadata": {},
   "source": [
    "Let's just take a look at these $r^2$ values and fitted values for the different age groups"
   ]
  },
  {
   "cell_type": "code",
   "execution_count": null,
   "metadata": {
    "collapsed": false
   },
   "outputs": [],
   "source": [
    "#Student exercise to fit the linear model to each age group individually and print a table\n",
    "\n",
    "\n"
   ]
  },
  {
   "cell_type": "code",
   "execution_count": null,
   "metadata": {
    "collapsed": false
   },
   "outputs": [],
   "source": [
    "#Student exercise to modify the facet code to plot the linear regressions\n",
    "\n",
    "\n"
   ]
  },
  {
   "cell_type": "code",
   "execution_count": null,
   "metadata": {
    "collapsed": false
   },
   "outputs": [],
   "source": [
    "#Dictionary to hold the values for the binned fits\n",
    "binned_fits = {}\n",
    "#Iterate through each group\n",
    "for age_bin, row_indices in agebinned.groups.items():\n",
    "    #Pull the data from the composite dataframe\n",
    "    xdata = finaldf.loc[row_indices].Initial_Weight\n",
    "    ydata = finaldf.loc[row_indices].Final_Weight\n",
    "    #Fit the parameters \n",
    "    slope, intercept, r, p, stderr = stats.linregress(xdata, ydata)\n",
    "    binned_fits[age_bin] = {'slope': slope,\n",
    "                            'intercept': intercept,\n",
    "                            'r_squared': r**2,\n",
    "                            'p_value': p,\n",
    "                            'stderr': stderr,\n",
    "                            'N': finaldf.loc[row_indices].Final_Weight.count()}\n",
    "\n",
    "#Now, let's just look at this in a quick table\n",
    "for i, (agebin, age_params) in enumerate( sorted( binned_fits.items() ) ):\n",
    "    #Print a header\n",
    "    if i==0:\n",
    "        header = ['Age Bin']\n",
    "        age_param_names = ['slope', 'intercept', 'stderr', 'p_value', 'r_squared', 'N']\n",
    "        header += age_param_names\n",
    "        print( '\\t'.join(header) )\n",
    "    #Now print the rest of the values\n",
    "    row_line = [agebin]\n",
    "    for param_name in age_param_names:\n",
    "        row_line.append( \"{0:.4f}\".format(age_params[param_name]) )\n",
    "    print( '\\t'.join(row_line) )"
   ]
  },
  {
   "cell_type": "code",
   "execution_count": null,
   "metadata": {
    "collapsed": false
   },
   "outputs": [],
   "source": [
    "with mpl.style.context(('bmh')):\n",
    "    #Make a colormap that has enough colors for ust to access\n",
    "    cmap = mpl.cm.Set2( np.linspace(0, 1, agebinned.ngroups + 1) )\n",
    "    #Start the figure\n",
    "    fig = plt.figure(figsize=(12,12))\n",
    "    #Now let's start going through this\n",
    "    for i, (agebin, row_indices) in enumerate(sorted(agebinned.groups.items())):\n",
    "        ax = fig.add_subplot('33'+ str(i + 1), axisbg='white')\n",
    "        #Our background data\n",
    "        ax.scatter(finaldf.Initial_Weight,\n",
    "                   finaldf.Final_Weight,\n",
    "                   color = cmap[-1],\n",
    "                   label = 'All',\n",
    "                   alpha=0.5)\n",
    "        #Our grouped data\n",
    "        ax.scatter(finaldf.loc[row_indices].Initial_Weight,\n",
    "                   finaldf.loc[row_indices].Final_Weight,\n",
    "                   color=cmap[i],\n",
    "                   label = agebin)\n",
    "        #Now set up the line\n",
    "        binned_fits[agebin]['slope'] \n",
    "        x = np.linspace(0, 600, 600)\n",
    "        slope = binned_fits[agebin]['slope']\n",
    "        intercept = binned_fits[agebin]['intercept']\n",
    "        y = slope * x + intercept\n",
    "        ax.plot(x, y, label = 'y = %.3fx + %.2f' % (slope, intercept) , color = 'black', alpha=0.7)\n",
    "        #Set the labels and the legend\n",
    "        ax.legend(loc=2, frameon = False)\n",
    "        ax.set_ylabel('Final Weight')\n",
    "        ax.set_xlabel('Initial Weight')\n",
    "    plt.tight_layout()"
   ]
  },
  {
   "cell_type": "markdown",
   "metadata": {},
   "source": [
    "Hmmmm.... there are some differences between the groups but are they significantly different from the overall average?\n",
    "\n",
    "We're interested in the weight lost, so let's compute that"
   ]
  },
  {
   "cell_type": "code",
   "execution_count": null,
   "metadata": {
    "collapsed": false
   },
   "outputs": [],
   "source": [
    "finaldf['Weight_Diff'] = finaldf['Final_Weight'] - finaldf['Initial_Weight']\n",
    "\n",
    "finaldf.head(10)"
   ]
  },
  {
   "cell_type": "markdown",
   "metadata": {},
   "source": [
    "And since this is a new data column for us, let's look at it by plotting"
   ]
  },
  {
   "cell_type": "code",
   "execution_count": null,
   "metadata": {
    "collapsed": false
   },
   "outputs": [],
   "source": [
    "with mpl.style.context(('bmh')):\n",
    "    #Create the figure\n",
    "    fig = plt.figure(figsize = (10,10))\n",
    "    #Add the data\n",
    "    for i, (agebin, row_indices) in enumerate( sorted( agebinned.groups.items() ) ):\n",
    "        #Create the subplot\n",
    "        ax = fig.add_subplot('33' + str(i+1), axisbg='white')\n",
    "        #Pull out the data for this round and identify the number of bins\n",
    "        tempdata = finaldf.loc[row_indices].Weight_Diff\n",
    "        numbins = (tempdata.max() - tempdata.min()) / 10\n",
    "        #Important difference, we're plotting directly with matplotlib\n",
    "        #So we need to tell it to use tempdata.values, not just tempdata\n",
    "        #Using .values makes turns the Pandas Series into a Numpy Array\n",
    "        ax.hist(tempdata.values, bins=numbins, normed=True, log=True, color=cmap[i], label=agebin)\n",
    "        #Set the maximum and minimum\n",
    "        ax.set_xlim(-300, 300)\n",
    "        #Add the graph elements\n",
    "        ax.legend(loc='best', frameon=False)\n",
    "        ax.set_ylabel('pdf')\n",
    "        ax.set_xlabel('Weight Difference (Final-Initial)')\n",
    "    plt.tight_layout()"
   ]
  },
  {
   "cell_type": "markdown",
   "metadata": {},
   "source": [
    "Now, we could test if each age group is different from the others using an ANOVA, which is the analysis of variance.\n",
    "\n",
    "It tests to see if the means of different groups are significantly different. If there are only two groups then this test is the same as applying a t-test to the two group means. The ANOVA is different than the t-test because it allows for multiple group comparison.\n",
    "\n",
    "In Scipy this function is called the `f_oneway()`"
   ]
  },
  {
   "cell_type": "code",
   "execution_count": null,
   "metadata": {
    "collapsed": false
   },
   "outputs": [],
   "source": [
    "datalabels, datasets = [], []\n",
    "\n",
    "for agebin, row_indices in sorted( agebinned.groups.items() ):\n",
    "    datalabels.append( agebin )\n",
    "    datasets.append( finaldf.loc[row_indices].Weight_Diff )\n",
    "    \n",
    "f_value, p_value = stats.f_oneway( *datasets )\n",
    "\n",
    "print( 'The F-value is: ' + str(f_value) )\n",
    "print( 'The p-value is: ' + str(p_value) )"
   ]
  },
  {
   "cell_type": "markdown",
   "metadata": {},
   "source": [
    "Let's look at the ordering of the means."
   ]
  },
  {
   "cell_type": "code",
   "execution_count": null,
   "metadata": {
    "collapsed": false
   },
   "outputs": [],
   "source": [
    "daverages = []\n",
    "for dlabel, dset in zip(datalabels, datasets):\n",
    "    daverages.append( [dset.mean(), dlabel] )\n",
    "    \n",
    "print('Age Bin\\tAverage Weight Difference')\n",
    "for daverage, dlabel in sorted( daverages ):\n",
    "    print(dlabel + '\\t' + str(daverage) )"
   ]
  },
  {
   "cell_type": "markdown",
   "metadata": {},
   "source": [
    "Now there are many more questions to finish answering with this, such as are there just more people in the 40-70 bin with more weight to lose? To test this we could pair people from different age bins based on their starting weights and bootstrap the answer.\n",
    "\n",
    "However, let's move away from this and analyze a different question from the dataset and let you direct the analysis."
   ]
  },
  {
   "cell_type": "markdown",
   "metadata": {},
   "source": [
    "#How does height relate to weight loss\n",
    "\n",
    "Let's examine the relationship of **Height and weight loss**.\n",
    "\n",
    "So what does the relationship between height and weight even look like?"
   ]
  },
  {
   "cell_type": "code",
   "execution_count": null,
   "metadata": {
    "collapsed": false
   },
   "outputs": [],
   "source": [
    "with mpl.style.context(('bmh')):\n",
    "    fig = plt.figure()\n",
    "    ax = fig.add_subplot(111, axisbg = 'white')\n",
    "    ax.scatter(finaldf.Height, finaldf.Initial_Weight, color='steelblue')\n",
    "    \n",
    "    ax.set_xlabel('Height')\n",
    "    ax.set_ylabel('Initial Weight')"
   ]
  },
  {
   "cell_type": "markdown",
   "metadata": {},
   "source": [
    "Tough to see, but it looks like there's a positive trend. Let's add the point density into this scatter plot to help see where our datapoints lie"
   ]
  },
  {
   "cell_type": "code",
   "execution_count": null,
   "metadata": {
    "collapsed": false
   },
   "outputs": [],
   "source": [
    "#Set the x and y so there's less typing\n",
    "x = finaldf.Height.values\n",
    "y = finaldf.Initial_Weight.values\n",
    "#Now we need to make a density to use as a third axis for the color\n",
    "#First we'll stack x and y together so that they are paired points\n",
    "xy = np.vstack([x,y])\n",
    "#Now we'll use a kernel density function to make the bins and calculate the density of points in each bin\n",
    "density = stats.gaussian_kde(xy)(xy)"
   ]
  },
  {
   "cell_type": "code",
   "execution_count": null,
   "metadata": {
    "collapsed": false
   },
   "outputs": [],
   "source": [
    "with mpl.style.context(('bmh')):\n",
    "    #Now we just plot it\n",
    "    fig = plt.figure()\n",
    "    ax = fig.add_subplot(111, axisbg='white')\n",
    "    c = ax.scatter(x, y, c = density, cmap = mpl.cm.get_cmap('cool')) \n",
    "    ax.set_xlabel('Height')\n",
    "    ax.set_ylabel('Initial Weight')\n",
    "    #And turn on the colorbar\n",
    "    cbar = ax.figure.colorbar(c, ax = ax)\n",
    "    cbar.set_label('Density')"
   ]
  },
  {
   "cell_type": "markdown",
   "metadata": {},
   "source": [
    "There definitely appears to be a relationship between height and weight. When we compare the difference between heights we should use some metric that normalizes for this. Fortunately we have something, the BMI. The formula for BMI is\n",
    "\n",
    "$BMI = 703 * \\frac{weight(lb)}{height^2(in^2)}$\n",
    "\n",
    "Let's make a function to calculate this now."
   ]
  },
  {
   "cell_type": "code",
   "execution_count": null,
   "metadata": {
    "collapsed": false
   },
   "outputs": [],
   "source": [
    "#Write a function to calculate the BMI given that we'll be getting a row of data from pandas\n",
    "\n"
   ]
  },
  {
   "cell_type": "code",
   "execution_count": null,
   "metadata": {
    "collapsed": false
   },
   "outputs": [],
   "source": [
    "def calc_bmi(row):\n",
    "    bmi = ( 703 * row[0] )/ row[1]**2\n",
    "    return bmi"
   ]
  },
  {
   "cell_type": "markdown",
   "metadata": {},
   "source": [
    "Now we need to calculate the Initial BMI, Final BMI, and the difference in BMI"
   ]
  },
  {
   "cell_type": "code",
   "execution_count": null,
   "metadata": {
    "collapsed": false
   },
   "outputs": [],
   "source": [
    "#Create the new columns using the apply function\n",
    "\n"
   ]
  },
  {
   "cell_type": "code",
   "execution_count": null,
   "metadata": {
    "collapsed": false
   },
   "outputs": [],
   "source": [
    "finaldf['Initial_BMI'] = finaldf.ix[:, ['Initial_Weight', 'Height']].apply(calc_bmi, axis=1)\n",
    "finaldf['Final_BMI'] = finaldf.ix[:, ['Final_Weight', 'Height']].apply(calc_bmi, axis=1)\n",
    "finaldf['BMI_Diff'] = finaldf['Final_BMI'] - finaldf['Initial_BMI']\n",
    "finaldf.head()"
   ]
  },
  {
   "cell_type": "code",
   "execution_count": null,
   "metadata": {
    "collapsed": false
   },
   "outputs": [],
   "source": [
    "#Now let's plot a histogram of these BMI Differences to get a sense of the data\n",
    "\n",
    "\n"
   ]
  },
  {
   "cell_type": "code",
   "execution_count": null,
   "metadata": {
    "collapsed": false
   },
   "outputs": [],
   "source": [
    "with mpl.style.context(('bmh')):\n",
    "    ax = finaldf.BMI_Diff.hist(bins=100, log=True)\n",
    "    ax.set_ylabel('Count')\n",
    "    ax.set_xlabel('BMI Difference')"
   ]
  },
  {
   "cell_type": "markdown",
   "metadata": {},
   "source": [
    "Great! Let's take a quick look at the relationship between the change in BMI against Height"
   ]
  },
  {
   "cell_type": "code",
   "execution_count": null,
   "metadata": {
    "collapsed": false
   },
   "outputs": [],
   "source": [
    "#Plot the BMI Difference against the Height\n",
    "\n",
    "\n"
   ]
  },
  {
   "cell_type": "code",
   "execution_count": null,
   "metadata": {
    "collapsed": false
   },
   "outputs": [],
   "source": [
    "#Set the x and y so there's less typing\n",
    "x = finaldf.Height.values\n",
    "y = finaldf.BMI_Diff.values\n",
    "\n",
    "with mpl.style.context(('bmh')):\n",
    "    #Now we just plot it\n",
    "    fig = plt.figure()\n",
    "    ax = fig.add_subplot(111, axisbg='white')\n",
    "    c = ax.scatter(x, y, color='steelblue')\n",
    "    ax.set_xlabel('Height')\n",
    "    ax.set_ylabel('BMI Difference')"
   ]
  },
  {
   "cell_type": "markdown",
   "metadata": {},
   "source": [
    "Let's just divide people into four groups, based on whether they are above or below the median"
   ]
  },
  {
   "cell_type": "code",
   "execution_count": null,
   "metadata": {
    "collapsed": false
   },
   "outputs": [],
   "source": [
    "#Create a new column in the dataframe labelling individuals as either above or below the median\n",
    "\n"
   ]
  },
  {
   "cell_type": "code",
   "execution_count": null,
   "metadata": {
    "collapsed": false
   },
   "outputs": [],
   "source": [
    "def height_categorizer(height, median):\n",
    "    if height <= median:\n",
    "        return 'Below'\n",
    "    else:\n",
    "        return 'Above'\n",
    "\n",
    "finaldf['Height_Cat'] = finaldf['Height'].apply(lambda x: height_categorizer(x, finaldf.Height.median()))\n",
    "\n",
    "finaldf.head()"
   ]
  },
  {
   "cell_type": "markdown",
   "metadata": {},
   "source": [
    "Great, maybe we can make a box-and-whisker plot to look at the differences between the two groups."
   ]
  },
  {
   "cell_type": "code",
   "execution_count": null,
   "metadata": {
    "collapsed": false
   },
   "outputs": [],
   "source": [
    "#Make a box and whisker plot using pandas\n",
    "\n",
    "\n"
   ]
  },
  {
   "cell_type": "code",
   "execution_count": null,
   "metadata": {
    "collapsed": false
   },
   "outputs": [],
   "source": [
    "with mpl.style.context(('bmh')):\n",
    "    ax = finaldf.boxplot(column='BMI_Diff', by='Height_Cat')\n",
    "    ax.set_ylim(-10, 10)"
   ]
  },
  {
   "cell_type": "markdown",
   "metadata": {},
   "source": [
    "Maybe we should use a histogram of the two populations against each other"
   ]
  },
  {
   "cell_type": "code",
   "execution_count": null,
   "metadata": {
    "collapsed": false
   },
   "outputs": [],
   "source": [
    "#Histogram of the two populations\n",
    "\n"
   ]
  },
  {
   "cell_type": "code",
   "execution_count": null,
   "metadata": {
    "collapsed": false
   },
   "outputs": [],
   "source": [
    "with mpl.style.context(('bmh')):\n",
    "    fig = plt.figure()\n",
    "    ax = fig.add_subplot(111, axisbg = 'white')\n",
    "    #set the number of bins\n",
    "    bins=50\n",
    "    #Plot the below\n",
    "    ax.hist(finaldf[finaldf['Height_Cat']=='Below'].BMI_Diff.values, bins=bins, normed=True, cumulative=True,\\\n",
    "            color='steelblue', label='Below')\n",
    "    #Plot the above\n",
    "    ax.hist(finaldf[finaldf['Height_Cat']=='Above'].BMI_Diff.values, bins=bins, normed=True, cumulative=True, \\\n",
    "            color='red', label='Above')\n",
    "    #Zoom in\n",
    "    #ax.set_xlim(-10, 10)\n",
    "    #Graph labelling\n",
    "    ax.set_ylabel('pdf')\n",
    "    ax.set_xlabel('BMI Change')\n",
    "    ax.legend(loc='best')"
   ]
  },
  {
   "cell_type": "markdown",
   "metadata": {},
   "source": [
    "We can test to see if the means of the two populations are the same or not using a t-test (since we only have two groups).\n",
    "\n",
    "You should be able to find the t-test function for two independent samples in the scipy documentation. Are the means for the two groups the same?"
   ]
  },
  {
   "cell_type": "code",
   "execution_count": null,
   "metadata": {
    "collapsed": false
   },
   "outputs": [],
   "source": [
    "#Perform the test\n",
    "\n"
   ]
  },
  {
   "cell_type": "code",
   "execution_count": null,
   "metadata": {
    "collapsed": false
   },
   "outputs": [],
   "source": [
    "t, p = stats.ttest_ind(finaldf[finaldf['Height_Cat']=='Below'].BMI_Diff.values, \\\n",
    "                       finaldf[finaldf['Height_Cat']=='Above'].BMI_Diff.values)\n",
    "\n",
    "print('The p-value for the comparison is: ' + str(p))"
   ]
  },
  {
   "cell_type": "code",
   "execution_count": null,
   "metadata": {
    "collapsed": false
   },
   "outputs": [],
   "source": [
    "print(finaldf[finaldf['Height_Cat']=='Below'].BMI_Diff.mean())\n",
    "print(finaldf[finaldf['Height_Cat']=='Above'].BMI_Diff.mean())"
   ]
  },
  {
   "cell_type": "markdown",
   "metadata": {},
   "source": [
    "Without knowing about the t-test we can perform a Monte Carlo test to see if the mean from one population is likely to come from another.\n",
    "\n",
    "Perform a MC test on the two groups."
   ]
  },
  {
   "cell_type": "code",
   "execution_count": null,
   "metadata": {
    "collapsed": false
   },
   "outputs": [],
   "source": [
    "#Perform a MC test on the two height groups\n"
   ]
  },
  {
   "cell_type": "code",
   "execution_count": null,
   "metadata": {
    "collapsed": false
   },
   "outputs": [],
   "source": [
    "finaldf[finaldf.Height_Cat == 'Above'].BMI_Diff.count()"
   ]
  },
  {
   "cell_type": "code",
   "execution_count": null,
   "metadata": {
    "collapsed": false
   },
   "outputs": [],
   "source": [
    "import random\n",
    "\n",
    "samp_size = int( finaldf[finaldf.Height_Cat=='Above'].BMI_Diff.count() * 0.25 ) \n",
    "mc_means = []\n",
    "\n",
    "for i in range(5000):\n",
    "    #Progress updater, because everyone loves that!\n",
    "    if i % 1000 == 0:\n",
    "        print(\"Currently at iteration \" + str(i))\n",
    "    #Sample and record the mean\n",
    "    samp = random.sample(list( finaldf[finaldf['Height_Cat']=='Above'].BMI_Diff.values ), samp_size)\n",
    "    mc_means.append( np.mean(samp) )\n",
    "\n",
    "#Calculate the mean and standard deviation \n",
    "mc_mean = np.mean(mc_means)\n",
    "mc_std = np.std(mc_means)\n",
    "#Calculate how far away the 'Below' group mean is from the MC mean\n",
    "std_diff = (finaldf[finaldf.Height_Cat=='Below'].BMI_Diff.mean() - mc_mean)/mc_std\n",
    "print(\"The Below category mean is \" + str(std_diff) + \" standard deviations away from the Above category simulated mean\")\n",
    "\n"
   ]
  },
  {
   "cell_type": "code",
   "execution_count": null,
   "metadata": {
    "collapsed": false
   },
   "outputs": [],
   "source": [
    "#Now let's make a plot\n",
    "with mpl.style.context(('bmh')):\n",
    "    fig = plt.figure()\n",
    "    ax = fig.add_subplot(111, axisbg='white')\n",
    "    #Plot the distribution\n",
    "    n, bins, patches = ax.hist(mc_means, normed=True, color='steelblue')\n",
    "    #Plot the average from the Below category\n",
    "    ax.vlines([finaldf[finaldf.Height_Cat=='Below'].BMI_Diff.mean()], [0], [max(n)], color='red')\n",
    "    #Labels\n",
    "    ax.set_ylabel('pdf')\n",
    "    ax.set_xlabel('Average BMI Change')"
   ]
  },
  {
   "cell_type": "code",
   "execution_count": null,
   "metadata": {
    "collapsed": false
   },
   "outputs": [],
   "source": []
  },
  {
   "cell_type": "code",
   "execution_count": null,
   "metadata": {
    "collapsed": false
   },
   "outputs": [],
   "source": []
  }
 ],
 "metadata": {
  "kernelspec": {
   "display_name": "Python 3",
   "language": "python",
   "name": "python3"
  },
  "language_info": {
   "codemirror_mode": {
    "name": "ipython",
    "version": 3
   },
   "file_extension": ".py",
   "mimetype": "text/x-python",
   "name": "python",
   "nbconvert_exporter": "python",
   "pygments_lexer": "ipython3",
   "version": "3.4.3"
  }
 },
 "nbformat": 4,
 "nbformat_minor": 0
}
