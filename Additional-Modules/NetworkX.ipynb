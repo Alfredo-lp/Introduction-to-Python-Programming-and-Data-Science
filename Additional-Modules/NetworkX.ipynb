{
 "cells": [
  {
   "cell_type": "code",
   "execution_count": 15,
   "metadata": {
    "collapsed": false
   },
   "outputs": [],
   "source": [
    "#Just to make sure that everyone's graphs will show up in the notebook\n",
    "%matplotlib inline"
   ]
  },
  {
   "cell_type": "markdown",
   "metadata": {},
   "source": [
    "# Network analysis in python\n",
    "\n",
    "## The basics\n",
    "To start with we need to import networkx. Typically we import `networkx` as `nx` since it's shorter to type and we will reference it frequently."
   ]
  },
  {
   "cell_type": "code",
   "execution_count": 16,
   "metadata": {
    "collapsed": false
   },
   "outputs": [],
   "source": [
    "import networkx as nx"
   ]
  },
  {
   "cell_type": "markdown",
   "metadata": {},
   "source": [
    "The most important part of `networkx` is the `Graph` class. This is the basic class that we will use to represent a network. This class has a number of methods and attributes that help us work with networks."
   ]
  },
  {
   "cell_type": "code",
   "execution_count": 17,
   "metadata": {
    "collapsed": false
   },
   "outputs": [
    {
     "name": "stdout",
     "output_type": "stream",
     "text": [
      "<class 'networkx.classes.graph.Graph'>\n",
      "\n",
      "['__class__', '__contains__', '__delattr__', '__dict__', '__doc__', '__format__', '__getattribute__', '__getitem__', '__hash__', '__init__', '__iter__', '__len__', '__module__', '__new__', '__reduce__', '__reduce_ex__', '__repr__', '__setattr__', '__sizeof__', '__str__', '__subclasshook__', '__weakref__', 'add_cycle', 'add_edge', 'add_edges_from', 'add_node', 'add_nodes_from', 'add_path', 'add_star', 'add_weighted_edges_from', 'adj', 'adjacency_iter', 'adjacency_list', 'clear', 'copy', 'degree', 'degree_iter', 'edge', 'edges', 'edges_iter', 'get_edge_data', 'graph', 'has_edge', 'has_node', 'is_directed', 'is_multigraph', 'name', 'nbunch_iter', 'neighbors', 'neighbors_iter', 'node', 'nodes', 'nodes_iter', 'nodes_with_selfloops', 'number_of_edges', 'number_of_nodes', 'number_of_selfloops', 'order', 'remove_edge', 'remove_edges_from', 'remove_node', 'remove_nodes_from', 'selfloop_edges', 'size', 'subgraph', 'to_directed', 'to_undirected']\n"
     ]
    }
   ],
   "source": [
    "G = nx.Graph()\n",
    "print type(G)\n",
    "print\n",
    "print dir(G)"
   ]
  },
  {
   "cell_type": "markdown",
   "metadata": {},
   "source": [
    "We'll start with a very simple network among a few friends: Alice, Bob, Carol, and David\n",
    "\n",
    "That means that these individuals will be our nodes"
   ]
  },
  {
   "cell_type": "code",
   "execution_count": 18,
   "metadata": {
    "collapsed": false
   },
   "outputs": [
    {
     "name": "stdout",
     "output_type": "stream",
     "text": [
      "Adding all of the nodes from a list\n",
      "['Bob', 'David', 'Alice', 'Carol']\n",
      "\n",
      "Deleting a node\n",
      "['David', 'Alice', 'Carol']\n",
      "\n",
      "Adding Bob back alone\n",
      "['Bob', 'David', 'Alice', 'Carol']\n"
     ]
    }
   ],
   "source": [
    "individuals = ['Alice', 'Bob', 'Carol', 'David']\n",
    "#Add the individuals\n",
    "G.add_nodes_from(individuals)\n",
    "#Let's check and make sure that we added them\n",
    "print \"Adding all of the nodes from a list\"\n",
    "print G.nodes()\n",
    "print\n",
    "\n",
    "#We can also delete a node\n",
    "G.remove_node('Bob')\n",
    "print \"Deleting a node\"\n",
    "print G.nodes()\n",
    "print\n",
    "\n",
    "#and then add it individually\n",
    "G.add_node('Bob')\n",
    "print \"Adding Bob back alone\"\n",
    "print G.nodes()"
   ]
  },
  {
   "cell_type": "markdown",
   "metadata": {},
   "source": [
    "Now let's go and add in the friendships between these people. Now not everyone is friends, for these purposes let's say that the friends are:\n",
    "* Bob and Alice\n",
    "* Bob and Carol\n",
    "* Alice and Carol\n",
    "* David and Alice"
   ]
  },
  {
   "cell_type": "code",
   "execution_count": 19,
   "metadata": {
    "collapsed": false
   },
   "outputs": [
    {
     "name": "stdout",
     "output_type": "stream",
     "text": [
      "All of the edges added from a list\n",
      "[('Bob', 'Carol'), ('Bob', 'Alice'), ('David', 'Alice'), ('Alice', 'Carol')]\n",
      "\n",
      "Removing Bob and Carol's friendship\n",
      "[('Bob', 'Alice'), ('David', 'Alice'), ('Alice', 'Carol')]\n",
      "\n",
      "Adding the individual edge\n",
      "[('Bob', 'Carol'), ('Bob', 'Alice'), ('David', 'Alice'), ('Alice', 'Carol')]\n"
     ]
    }
   ],
   "source": [
    "friendships = [('Bob', 'Alice'), ('Bob', 'Carol'), ('Alice', 'Carol'), ('David', 'Alice')]\n",
    "#Now add the edges\n",
    "G.add_edges_from(friendships)\n",
    "#Show that we added the friendships properly\n",
    "print \"All of the edges added from a list\"\n",
    "print G.edges()\n",
    "print\n",
    "\n",
    "#Deleting an edge works similarly\n",
    "G.remove_edge('Bob', 'Carol')\n",
    "print \"Removing Bob and Carol's friendship\"\n",
    "print G.edges()\n",
    "print\n",
    "\n",
    "#And then we can add the edge back. Note that when we add an edge individually it is *not* as a tuple\n",
    "G.add_edge('Bob', 'Carol')\n",
    "print \"Adding the individual edge\"\n",
    "print G.edges()"
   ]
  },
  {
   "cell_type": "markdown",
   "metadata": {},
   "source": [
    "We can quickly check that everything was added properly by checking the number of nodes and edges and then graphing the network"
   ]
  },
  {
   "cell_type": "code",
   "execution_count": 20,
   "metadata": {
    "collapsed": false
   },
   "outputs": [
    {
     "name": "stdout",
     "output_type": "stream",
     "text": [
      "The number of nodes is: 4\n",
      "The number of edges is: 4\n"
     ]
    },
    {
     "data": {
      "image/png": "[encoded data removed]",
      "text/plain": [
       "<matplotlib.figure.Figure at 0x106ebc150>"
      ]
     },
     "metadata": {},
     "output_type": "display_data"
    }
   ],
   "source": [
    "print \"The number of nodes is: %d\" % G.number_of_nodes()\n",
    "print \"The number of edges is: %d\" % G.number_of_edges()\n",
    "\n",
    "import matplotlib.pyplot as plt\n",
    "nx.draw_spring(G)"
   ]
  },
  {
   "cell_type": "markdown",
   "metadata": {},
   "source": [
    "## Setting and accessing Graph Attributes\n",
    "\n",
    "We can add attributes to each of the nodes if there are features that we want to keep track of. For example, we might want to keep track of the gender."
   ]
  },
  {
   "cell_type": "code",
   "execution_count": 21,
   "metadata": {
    "collapsed": false
   },
   "outputs": [
    {
     "name": "stdout",
     "output_type": "stream",
     "text": [
      "Adding a gender attribute to Bob\n",
      "[('Bob', {'gender': 'Male'}), ('David', {}), ('Alice', {}), ('Carol', {})]\n",
      "\n",
      "Adding genders to all of the nodes\n",
      "[('Bob', {'gender': 'Male'}), ('David', {'gender': 'Male'}), ('Alice', {'gender': 'Female'}), ('Carol', {'gender': 'Female'})]\n",
      "\n",
      "Looking at the attributes for a single node, here we access Alice's attributes\n",
      "{'gender': 'Female'}\n"
     ]
    }
   ],
   "source": [
    "G.node['Bob']['gender'] = 'Male'\n",
    "#If we give the option data=True when we print nodes we can see the additional attributes\n",
    "print \"Adding a gender attribute to Bob\"\n",
    "print G.nodes(data=True)\n",
    "print \n",
    "#We see that the attributes are stored as a dictionary for each node\n",
    "\n",
    "#Now let's add all of the other attributes\n",
    "genders = [['Alice', 'Female'], ['Carol', 'Female'], ['David', 'Male']]\n",
    "for name, gender in genders:\n",
    "    G.node[name]['gender'] = gender\n",
    "print \"Adding genders to all of the nodes\"\n",
    "print G.nodes(data=True)\n",
    "print\n",
    "\n",
    "#Accessing nodes individually\n",
    "print \"Looking at the attributes for a single node, here we access Alice's attributes\"\n",
    "print G.node['Alice']"
   ]
  },
  {
   "cell_type": "markdown",
   "metadata": {},
   "source": [
    "We can also add attributes to an edge, such as what type of edge it is. \n",
    " "
   ]
  },
  {
   "cell_type": "code",
   "execution_count": 22,
   "metadata": {
    "collapsed": false
   },
   "outputs": [
    {
     "name": "stdout",
     "output_type": "stream",
     "text": [
      "Explicitly saying that the edge represents friendship\n",
      "[('Bob', 'Carol', {}), ('Bob', 'Alice', {'edge_type': 'friendship'}), ('David', 'Alice', {}), ('Alice', 'Carol', {})]\n",
      "\n",
      "Setting the edge type for all of the edges in the network\n",
      "[('Bob', 'Carol', {'edge_type': 'friendship'}), ('Bob', 'Alice', {'edge_type': 'friendship'}), ('David', 'Alice', {'edge_type': 'friendship'}), ('Alice', 'Carol', {'edge_type': 'friendship'})]\n",
      "\n",
      "Looking at an individual edge's attributes is effectively the same as setting an attribute\n",
      "{'edge_type': 'friendship'}\n"
     ]
    }
   ],
   "source": [
    "#We set edge attributes by directly referencing the nodes\n",
    "G['Bob']['Alice']['edge_type'] = 'friendship'\n",
    "print \"Explicitly saying that the edge represents friendship\"\n",
    "print G.edges(data=True)\n",
    "print\n",
    "\n",
    "#We can now set all of these attributes\n",
    "edge_type_attributes = [['Bob', 'Carol'], ['David', 'Alice'], ['Alice', 'Carol']]\n",
    "for node_i, node_j in edge_type_attributes:\n",
    "    G[node_i][node_j]['edge_type'] = 'friendship'\n",
    "print \"Setting the edge type for all of the edges in the network\"\n",
    "print G.edges(data=True)\n",
    "print\n",
    "\n",
    "#Looking at an individual edge\n",
    "print \"Looking at an individual edge's attributes is effectively the same as setting an attribute\"\n",
    "print G['Bob']['Alice']"
   ]
  },
  {
   "cell_type": "markdown",
   "metadata": {},
   "source": [
    "## Different types of networks\n",
    "\n",
    "So far what we have constructed is an **undirected unweighted** network. Let's go over what each of these two terms mean individually.\n",
    "\n",
    "### Undirected vs. Directed\n",
    "\n",
    "An **undirected** network means that an edge has no direction, in our network an edge means that an edge goes for both of the nodes.\n",
    "\n",
    "If we wanted to examine a network where we looked at who initiated a conversation with whom during a day, we would want a **directed** network.\n",
    "\n",
    "<img src=\"http://www.mathaware.org/mam/04/images/5_directed_network.gif\" width=\"200px\"></img>\n",
    "\n",
    "In a directed network an edge is displayed with an arrow and it shows the direction of the edge and it is not symmetric, **unlike** an undirected network. This means that if:\n",
    "* Bob starts a conversation with Alice, then we would draw an edge from Bob to Alice with the arrow pointed to Alice\n",
    "* Later that day Alice started a conversation with Bob, we would draw another edge from Alice to Bob, with the arrow pointed at Bob\n",
    "\n",
    "### Unweighted vs. Weighted\n",
    "\n",
    "An **unweighted** network has edges that are effectively binary, either there exists an edge between two nodes or there does not exist an edge. All edges that exist are counted the same.  This type of network makes sense for friendship, since two people are either friends or they are not. \n",
    "\n",
    "If we think about our conversation network though, we would want to know the **number** of times that two individuals interact --- especially because it is likely that all of the individuals would talk to each other during the course of a day. This means that the presence or absence of an edge doesn't matter because it is a **fully connected** network. We would add the **number** of conversations, more typically known as the **weight** of an edge, to represent the strength of the connection between two nodes. In a graph we typically show weights by making the width of an edge larger.\n",
    "<img src=\"https://humannaturegroup.files.wordpress.com/2009/12/map.png\" width=\"400px\"></img>\n",
    "\n",
    "\n",
    "## Making a weighted network\n",
    "\n",
    "We can easily make a conversation network between our individuals"
   ]
  },
  {
   "cell_type": "code",
   "execution_count": 23,
   "metadata": {
    "collapsed": false
   },
   "outputs": [
    {
     "name": "stdout",
     "output_type": "stream",
     "text": [
      "[('Bob', 'Carol', {'weight': 17}), ('Bob', 'Alice', {'weight': 19}), ('Bob', 'David', {'weight': 2}), ('David', 'Alice', {'weight': 8}), ('David', 'Carol', {'weight': 14}), ('Alice', 'Carol', {'weight': 4})]\n"
     ]
    }
   ],
   "source": [
    "import itertools, random\n",
    "\n",
    "#We will add all combinations of nodes using itertools.combinations\n",
    "#To add an attribute when we add an edge, we put it in as a dictionary\n",
    "H = nx.Graph()\n",
    "for name_i, name_j in itertools.combinations(individuals, 2):\n",
    "    H.add_edge(name_i, name_j, {'weight': random.randint(1,20)})\n",
    "    \n",
    "print H.edges(data=True)"
   ]
  },
  {
   "cell_type": "markdown",
   "metadata": {},
   "source": [
    "# Looking at network attributes\n",
    "\n",
    "Frequently we will be interested in the **degree** of a node, the degree is the number of neighbors that a node has."
   ]
  },
  {
   "cell_type": "code",
   "execution_count": 24,
   "metadata": {
    "collapsed": false
   },
   "outputs": [
    {
     "name": "stdout",
     "output_type": "stream",
     "text": [
      "The number of neighbors for Bob\n",
      "3\n",
      "\n",
      "Degree for Bob in the friendship network: 2\n",
      "Degree for Bob in the conversation network: 3\n"
     ]
    }
   ],
   "source": [
    "#We can look at the degree of a node easily\n",
    "print \"The number of neighbors for Bob\"\n",
    "print H.degree('Bob')\n",
    "print\n",
    "\n",
    "#Can demonstrate the difference between friends and conversations too\n",
    "print \"Degree for Bob in the friendship network: %d\" % G.degree('Bob')\n",
    "print \"Degree for Bob in the conversation network: %d\" % H.degree('Bob')"
   ]
  },
  {
   "cell_type": "markdown",
   "metadata": {},
   "source": [
    "# Now let's download a bigger network \n",
    "\n",
    "We will use the data for trips between Divvy stations"
   ]
  },
  {
   "cell_type": "code",
   "execution_count": 25,
   "metadata": {
    "collapsed": false
   },
   "outputs": [
    {
     "name": "stdout",
     "output_type": "stream",
     "text": [
      "--2014-09-10 10:03:01--  http://tinyurl.com/bootcamp-divvy-attributes\n",
      "Resolving tinyurl.com... 23.61.56.155\n",
      "Connecting to tinyurl.com|23.61.56.155|:80... connected.\n",
      "HTTP request sent, awaiting response... 301 Moved Permanently\n",
      "Location: https://gist.github.com/adamrpah/93718d7e0ba307e82ead/raw [following]\n",
      "--2014-09-10 10:03:01--  https://gist.github.com/adamrpah/93718d7e0ba307e82ead/raw\n",
      "Resolving gist.github.com... 192.30.252.142\n",
      "Connecting to gist.github.com|192.30.252.142|:443... connected.\n",
      "HTTP request sent, awaiting response... 301 Moved Permanently\n",
      "Location: https://gist.githubusercontent.com/adamrpah/93718d7e0ba307e82ead/raw [following]\n",
      "--2014-09-10 10:03:02--  https://gist.githubusercontent.com/adamrpah/93718d7e0ba307e82ead/raw\n",
      "Resolving gist.githubusercontent.com... 192.30.252.159\n",
      "Connecting to gist.githubusercontent.com|192.30.252.159|:443... connected.\n",
      "HTTP request sent, awaiting response... 200 OK\n",
      "Length: unspecified [text/plain]\n",
      "Saving to: 'bootcamp-divvy-attributes'\n",
      "\n",
      "    [  <=>                                  ] 1,197,598   3.27MB/s   in 0.3s   \n",
      "\n",
      "2014-09-10 10:03:03 (3.27 MB/s) - 'bootcamp-divvy-attributes' saved [1197598]\n",
      "\n",
      "\u001b[1m\u001b[36mDay2Data\u001b[m\u001b[m                  credit-delinq-test.csv    credit-delinq-train.csv   credit-delinquency-kaggle divvy_network.json        got_network.json\n"
     ]
    }
   ],
   "source": [
    "!wget http://tinyurl.com/bootcamp-divvy-attributes && mv bootcamp-divvy-attributes ../../Data/divvy_network.json\n",
    "!ls ../../Data/\n",
    "\n",
    "#If the wget command does not work just navigate your web browser to the link and download the content (either through\n",
    "#copying and pasting or some other method) and place that file in the Data Directory, naming it:\n",
    "# divvy_network.json"
   ]
  },
  {
   "cell_type": "markdown",
   "metadata": {},
   "source": [
    "## Loading network files\n",
    "There are many different ways to store a network in a file. Traditionally an edgelist is used, this is a simple file where the edges are listed on individual lines and the node labels are typically integers, like so:\n",
    "\n",
    "`\n",
    "0 1\n",
    "0 2\n",
    "2 1\n",
    "`\n",
    "\n",
    "This is fine, but it can get hairy to add lots of attributes to this format (typically only weight would be included and it is just added as a third column). For these types of files we typically use a JSON formant.\n",
    "\n",
    "A JSON is just a type of file that is very popular on the web, the contents of a JSON are just a dictionary. Since it is just a dictionary, it is easy to store node and edge attributes\n",
    "\n",
    "We can load it with a special function in `networkx`."
   ]
  },
  {
   "cell_type": "code",
   "execution_count": 26,
   "metadata": {
    "collapsed": false
   },
   "outputs": [
    {
     "name": "stdout",
     "output_type": "stream",
     "text": [
      "299\n",
      "{'latitude': 41.88389277, 'capacity': 43, 'name': u'Michigan Ave & Washington St', 'longitude': -87.62464914}\n"
     ]
    }
   ],
   "source": [
    "from networkx.readwrite import json_graph\n",
    "\n",
    "json_string = open('../../Data/divvy_network.json').read()\n",
    "G = json_graph.loads(json_string)\n",
    "\n",
    "print G.number_of_nodes()\n",
    "print G.node[G.nodes()[0]]"
   ]
  },
  {
   "cell_type": "code",
   "execution_count": 27,
   "metadata": {
    "collapsed": false
   },
   "outputs": [
    {
     "data": {
      "image/png": "[encoded data removed]",
      "text/plain": [
       "<matplotlib.figure.Figure at 0x106e9c710>"
      ]
     },
     "metadata": {},
     "output_type": "display_data"
    }
   ],
   "source": [
    "#We can try to understand this network now\n",
    "nx.draw_circular(G)"
   ]
  },
  {
   "cell_type": "markdown",
   "metadata": {},
   "source": [
    "Pretty!\n",
    "\n",
    "Understanding non-trivial networks is difficult by plotting the network because of the large number of nodes and edges that would overlap. For this reason we typically look at distributions of network statistics, such as the distribution of degrees."
   ]
  },
  {
   "cell_type": "code",
   "execution_count": 28,
   "metadata": {
    "collapsed": false
   },
   "outputs": [
    {
     "name": "stdout",
     "output_type": "stream",
     "text": [
      "25 263\n"
     ]
    },
    {
     "data": {
      "image/png": "[encoded data removed]",
      "text/plain": [
       "<matplotlib.figure.Figure at 0x106e9c790>"
      ]
     },
     "metadata": {},
     "output_type": "display_data"
    }
   ],
   "source": [
    "#Plotting the distribution of degrees\n",
    "degrees = [G.degree(n) for n in G.nodes()]\n",
    "degrees.sort()\n",
    "print min(degrees), max(degrees)\n",
    "\n",
    "fig = plt.figure(figsize=(6,3))\n",
    "\n",
    "ax = plt.subplot(121)\n",
    "ax.hist(degrees, bins=20, normed=True)\n",
    "ax.set_xlabel('Degree')\n",
    "ax.set_ylabel('pdf')\n",
    "\n",
    "ax = plt.subplot(122)\n",
    "ax.hist(degrees, bins=20, normed=True, cumulative=True, histtype='step')\n",
    "ax.set_xlabel('Degree')\n",
    "ax.set_ylabel('cdf')\n",
    "\n",
    "plt.tight_layout()"
   ]
  },
  {
   "cell_type": "markdown",
   "metadata": {},
   "source": [
    "So what we can see is that there is a slight peak near the larger side of the distribution, this means that there are a number of Divvy stations that see a large number of trips. \n",
    "\n",
    "First let's make a function to plot the pdf and cdf simultaneously"
   ]
  },
  {
   "cell_type": "code",
   "execution_count": 29,
   "metadata": {
    "collapsed": false
   },
   "outputs": [],
   "source": [
    "def plot_distributions(dataset, xlabel):\n",
    "    '''\n",
    "    Plots the PDF and CDF for a dataset\n",
    "    input:\n",
    "        * dataset -- data to be graphed as a list []\n",
    "        * xlabel -- string to label the x-axis with\n",
    "    output:\n",
    "        * None\n",
    "    '''\n",
    "    fig = plt.figure(figsize=(8,4))\n",
    "\n",
    "    ax = plt.subplot(121)\n",
    "    ax.hist(dataset, bins=20, normed=True)\n",
    "    ax.autoscale()\n",
    "    ax.set_xlabel(xlabel)\n",
    "    ax.set_ylabel('pdf')\n",
    "\n",
    "    ax = plt.subplot(122)\n",
    "    ax.hist(dataset, bins=20, normed=True, cumulative=True, histtype='step')\n",
    "    ax.autoscale()\n",
    "    ax.set_xlabel(xlabel)\n",
    "    ax.set_ylabel('cdf')\n",
    "\n",
    "    plt.tight_layout()"
   ]
  },
  {
   "cell_type": "markdown",
   "metadata": {},
   "source": [
    "Since the Divvy Trip network is a transportation network (it shows movement from one station to another) we can look at betweenness centrality. Betweenness centrality for a node `i` is the sum of the fraction of shortest paths that pass through `i`."
   ]
  },
  {
   "cell_type": "code",
   "execution_count": 30,
   "metadata": {
    "collapsed": false
   },
   "outputs": [
    {
     "data": {
      "image/png": "[encoded data removed]",
      "text/plain": [
       "<matplotlib.figure.Figure at 0x10547b310>"
      ]
     },
     "metadata": {},
     "output_type": "display_data"
    }
   ],
   "source": [
    "betweenness_dict = nx.betweenness_centrality(G)\n",
    "plot_distributions(betweenness_dict.values(), 'Betweenness')"
   ]
  },
  {
   "cell_type": "markdown",
   "metadata": {},
   "source": [
    "Now we should look and see if this network is assortative. That means, what is my degree versus my neighbor's degree? Am I typically connected to neighbors that have the same degree as me or not?"
   ]
  },
  {
   "cell_type": "code",
   "execution_count": 31,
   "metadata": {
    "collapsed": false
   },
   "outputs": [],
   "source": [
    "avg_neigh_degrees = nx.average_neighbor_degree(G)"
   ]
  },
  {
   "cell_type": "code",
   "execution_count": 32,
   "metadata": {
    "collapsed": false
   },
   "outputs": [
    {
     "data": {
      "text/plain": [
       "<matplotlib.text.Text at 0x106ece090>"
      ]
     },
     "execution_count": 32,
     "metadata": {},
     "output_type": "execute_result"
    },
    {
     "data": {
      "image/png": "[encoded data removed]",
      "text/plain": [
       "<matplotlib.figure.Figure at 0x1070c2950>"
      ]
     },
     "metadata": {},
     "output_type": "display_data"
    }
   ],
   "source": [
    "xdata, ydata = [], []\n",
    "for n, avg_neigh_degree in avg_neigh_degrees.items():\n",
    "    xdata.append(G.degree(n))\n",
    "    ydata.append(avg_neigh_degree)\n",
    "\n",
    "plt.plot(xdata, ydata, 'bo')\n",
    "plt.xlabel('Degree')\n",
    "plt.ylabel('Average Neighbor Degree')"
   ]
  },
  {
   "cell_type": "markdown",
   "metadata": {},
   "source": [
    "Here we see that the network is assortative, nodes with a high-degree have neighbors that also have a high degree. This makes sense since this network exists in a real geography (Divvy Bike Stations exist at certain locations, users aren't likely to skip lots of stations where they could potentially dock them (and then not be charged for additional time)."
   ]
  },
  {
   "cell_type": "markdown",
   "metadata": {},
   "source": [
    "We can and should check this though."
   ]
  },
  {
   "cell_type": "code",
   "execution_count": 33,
   "metadata": {
    "collapsed": false
   },
   "outputs": [],
   "source": [
    "import math\n",
    "\n",
    "def calculate_distance(pt1, pt2):\n",
    "    '''\n",
    "    Calculates the Haversine distance formula\n",
    "    input:\n",
    "        pt1: tuple of lat,long for point 1\n",
    "        pt2: tuple of lat,long for point 2\n",
    "    output:\n",
    "        dist: Distance in km between the two points\n",
    "    '''\n",
    "    radius_earth = 6373\n",
    "    degrees_to_radians = math.pi/180.0\n",
    "    phi1 = (90.0 - pt1[0])*degrees_to_radians\n",
    "    phi2 = (90.0 - pt2[0])*degrees_to_radians\n",
    "    theta1 = pt1[1]*degrees_to_radians\n",
    "    theta2 = pt1[1]*degrees_to_radians\n",
    "    #The meat of the formula\n",
    "    cos_num = (math.sin(phi1)*math.sin(phi2)*math.cos(theta1 - theta2) + \\\n",
    "               math.cos(phi1)*math.cos(phi2))\n",
    "    arc = math.acos( cos_num )\n",
    "    dist = radius_earth * arc\n",
    "    return dist"
   ]
  },
  {
   "cell_type": "code",
   "execution_count": 34,
   "metadata": {
    "collapsed": false
   },
   "outputs": [
    {
     "data": {
      "text/plain": [
       "<matplotlib.text.Text at 0x106e7e750>"
      ]
     },
     "execution_count": 34,
     "metadata": {},
     "output_type": "execute_result"
    },
    {
     "data": {
      "image/png": "[encoded data removed]",
      "text/plain": [
       "<matplotlib.figure.Figure at 0x106bc8650>"
      ]
     },
     "metadata": {},
     "output_type": "display_data"
    }
   ],
   "source": [
    "#Now let's calculate the neighbor distances\n",
    "import numpy as np\n",
    "\n",
    "avg_neighbor_distances = []\n",
    "for inode in G.nodes_iter():\n",
    "    inode_distances = []\n",
    "    for jnode in G.neighbors(inode):\n",
    "        pt1 = (G.node[inode]['latitude'], G.node[inode]['longitude'])\n",
    "        pt2 = (G.node[jnode]['latitude'], G.node[jnode]['longitude'])\n",
    "        if pt1 != pt2:\n",
    "            inode_distances.append(calculate_distance(pt1, pt2))\n",
    "        else:\n",
    "            inode_distances.append(0)\n",
    "    avg_neighbor_distances.append(np.mean(inode_distances))\n",
    "    \n",
    "plt.hist(avg_neighbor_distances, normed=True)\n",
    "plt.xlabel('Distance (km)')"
   ]
  },
  {
   "cell_type": "markdown",
   "metadata": {},
   "source": [
    "Interesting, this appears to be a pretty small distance. But to make sure we should calculate and plot the differences between distance between neighbors and distance between non-neighbors"
   ]
  },
  {
   "cell_type": "code",
   "execution_count": 35,
   "metadata": {
    "collapsed": false
   },
   "outputs": [
    {
     "data": {
      "text/plain": [
       "<matplotlib.text.Text at 0x106e97a10>"
      ]
     },
     "execution_count": 35,
     "metadata": {},
     "output_type": "execute_result"
    },
    {
     "data": {
      "image/png": "[encoded data removed]",
      "text/plain": [
       "<matplotlib.figure.Figure at 0x106bb7050>"
      ]
     },
     "metadata": {},
     "output_type": "display_data"
    }
   ],
   "source": [
    "import numpy as np\n",
    "\n",
    "avg_non_neighbor_distances = []\n",
    "for inode in G.nodes_iter():\n",
    "    inode_distances = []\n",
    "    jnodes = [n for n in G.nodes() if n not in G.neighbors(inode)]\n",
    "    for jnode in jnodes:\n",
    "        pt1 = (G.node[inode]['latitude'], G.node[inode]['longitude'])\n",
    "        pt2 = (G.node[jnode]['latitude'], G.node[jnode]['longitude'])\n",
    "        if pt1 != pt2:\n",
    "            inode_distances.append(calculate_distance(pt1, pt2))\n",
    "        else:\n",
    "            inode_distances.append(0)\n",
    "    avg_non_neighbor_distances.append(np.mean(inode_distances))\n",
    "    \n",
    "plt.hist(avg_non_neighbor_distances, normed=True)\n",
    "plt.xlabel('Distance (km)')"
   ]
  },
  {
   "cell_type": "code",
   "execution_count": 53,
   "metadata": {
    "collapsed": false
   },
   "outputs": [
    {
     "data": {
      "image/png": "[encoded data removed]",
      "text/plain": [
       "<matplotlib.figure.Figure at 0x1076b9950>"
      ]
     },
     "metadata": {},
     "output_type": "display_data"
    }
   ],
   "source": [
    "ax = plt.subplot(111)\n",
    "ax.boxplot([avg_neighbor_distances, avg_non_neighbor_distances])\n",
    "plt.setp(ax, xticklabels=['Neighbor', 'Non-Neighbor'])\n",
    "ax.set_xlim(0.5,2.5)\n",
    "plt.tight_layout()"
   ]
  },
  {
   "cell_type": "markdown",
   "metadata": {},
   "source": [
    "Now let's test whether these two distributions from the same distribution or not, using the Kolmogorov-Smirnov test.\n",
    "\n",
    "**Are these two distributions the same or not?**"
   ]
  },
  {
   "cell_type": "code",
   "execution_count": 54,
   "metadata": {
    "collapsed": false
   },
   "outputs": [
    {
     "name": "stdout",
     "output_type": "stream",
     "text": [
      "2.03803289175e-113\n"
     ]
    }
   ],
   "source": [
    "from scipy.stats import ks_2samp\n",
    "\n",
    "D, p = ks_2samp(avg_neighbor_distances, avg_non_neighbor_distances)\n",
    "print p"
   ]
  },
  {
   "cell_type": "markdown",
   "metadata": {},
   "source": [
    "#Statistical tests and edge randomizations\n",
    "\n",
    "This was a pretty simple problem, but we're not always interested that in a quantity that can be tested by non-neighbor nodes. In those situations we will typically create an ensemble of randomized networks and in each randomized network calculating our quantity of interest. We then see if our known quantity is the a part of the same distribution from the randomized set. Let's test that way now.\n",
    "\n",
    "Since there is a small number of edges in the network, let's do randomize 5 times the number of edges in the network and make 100 versions of these networks."
   ]
  },
  {
   "cell_type": "code",
   "execution_count": 60,
   "metadata": {
    "collapsed": false
   },
   "outputs": [
    {
     "name": "stdout",
     "output_type": "stream",
     "text": [
      "0\n",
      "10\n",
      "20\n",
      "30\n",
      "40\n",
      "50\n",
      "60\n",
      "70\n",
      "80\n",
      "90\n"
     ]
    }
   ],
   "source": [
    "def calc_neigh_distances(G): \n",
    "    avg_neighbor_distances = []\n",
    "    for inode in G.nodes_iter():\n",
    "        inode_distances = []\n",
    "        for jnode in G.neighbors(inode):\n",
    "            pt1 = (G.node[inode]['latitude'], G.node[inode]['longitude'])\n",
    "            pt2 = (G.node[jnode]['latitude'], G.node[jnode]['longitude'])\n",
    "            if pt1 != pt2:\n",
    "                inode_distances.append(calculate_distance(pt1, pt2))\n",
    "            else:\n",
    "                inode_distances.append(0)\n",
    "        avg_neighbor_distances.append(np.mean(inode_distances))\n",
    "    return avg_neighbor_distances\n",
    "\n",
    "randomized_avg_neigh_distances = []\n",
    "\n",
    "for i in range(100):\n",
    "    if i % 10 ==0:\n",
    "        print i\n",
    "    #We'll just do a copy\n",
    "    H = G.copy()\n",
    "    nx.double_edge_swap(H, nswap = int(0.5 * H.number_of_edges()), max_tries= 100 * H.number_of_edges())\n",
    "    #now we need to calculate the avg_neighbor distance....gosh...sure wish we made a function....\n",
    "    randomized_avg_neigh_distances.append(np.average(calc_neigh_distances(H)))"
   ]
  },
  {
   "cell_type": "code",
   "execution_count": 70,
   "metadata": {
    "collapsed": false
   },
   "outputs": [
    {
     "name": "stdout",
     "output_type": "stream",
     "text": [
      "The z-score for this randomization is: $f\n",
      "So...yes...pretty significant\n"
     ]
    },
    {
     "data": {
      "image/png": "[encoded data removed]",
      "text/plain": [
       "<matplotlib.figure.Figure at 0x109f8c510>"
      ]
     },
     "metadata": {},
     "output_type": "display_data"
    }
   ],
   "source": [
    "plt.hist(randomized_avg_neigh_distances, normed=True)\n",
    "plt.hist([np.average(avg_neighbor_distances)], normed=True, color='red')\n",
    "\n",
    "#Calculate the significance:\n",
    "z_score = (np.average(avg_neighbor_distances) - np.average(randomized_avg_neigh_distances))/np.std(randomized_avg_neigh_distances)\n",
    "print \"The z-score for this randomization is: $f\" % z_score\n",
    "print \"So...yes...pretty significant\""
   ]
  },
  {
   "cell_type": "markdown",
   "metadata": {},
   "source": [
    "# Network Path Traversal\n",
    "\n",
    "Another important part is traversing a network. What are two easy ways that this could be done?\n",
    "\n",
    "**answer is....**\n",
    "\n",
    "Breadth-first or depth-first\n",
    "\n",
    "Perfect!\n",
    "\n",
    "Now let's implement breadth first of these algorithms\n",
    "\n",
    "so if we have a tree like:\n",
    "\n",
    "`\n",
    " -> My tree starting from Z\n",
    "     Z\n",
    "  |     |\n",
    "  B     C\n",
    "|  |  |  |\n",
    "D  E  F  G\n",
    "`\n",
    "\n",
    "The answer should be:\n",
    "[B, C, D, E, F, G]"
   ]
  },
  {
   "cell_type": "code",
   "execution_count": 71,
   "metadata": {
    "collapsed": false
   },
   "outputs": [
    {
     "name": "stdout",
     "output_type": "stream",
     "text": [
      "[2, 3, 4, 5, 6, 7, 8, 9, 10, 11, 12, 13, 14, 16, 17, 19, 20, 21, 22, 23, 25, 27, 28, 29, 30, 31, 32, 33, 34, 36, 37, 38, 39, 40, 42, 43, 44, 45, 46, 48, 49, 50, 51, 52, 53, 54, 56, 57, 58, 59, 60, 61, 62, 63, 64, 65, 66, 67, 68, 69, 70, 71, 72, 73, 75, 76, 77, 78, 80, 82, 83, 84, 85, 87, 90, 93, 96, 98, 102, 106, 108, 112, 117, 123, 124, 126, 128, 130, 131, 132, 133, 134, 135, 136, 137, 138, 139, 141, 142, 143, 146, 147, 148, 149, 150, 154, 155, 156, 157, 158, 159, 160, 161, 162, 163, 164, 165, 166, 168, 169, 170, 171, 172, 173, 174, 179, 181, 182, 184, 185, 186, 189, 190, 191, 192, 193, 194, 196, 197, 200, 206, 209, 211, 212, 213, 214, 215, 217, 220, 221, 223, 224, 226, 228, 229, 232, 233, 234, 235, 237, 241, 243, 244, 245, 246, 247, 248, 249, 255, 257, 262, 263, 264, 265, 266, 269, 272, 273, 275, 276, 277, 282, 284, 289, 290, 294, 295, 296, 298, 300, 301, 302, 303, 308, 309, 310, 316, 323, 324, 326, 327, 328, 329, 331, 332, 337, 338, 339, 340, 341, 344, 346, 347, 349, 350, 353, 361, 365, 385, 388, 396, 397, 398, 408, 409, 410, 413, 414, 420, 422, 427, 430, 431, 432, 434, 88, 89, 97, 99, 109, 127, 144, 145, 176, 180, 188, 208, 210, 216, 219, 230, 239, 242, 252, 256, 259, 268, 271, 278, 285, 288, 304, 307, 325, 345, 362, 379, 392, 399, 440, 74, 91, 119, 292, 374, 417, 104, 140, 354, 258, 286, 306, 321, 92, 253, 86, 404, 101, 389, 251, 317, 319, 250, 297, 26, 315, 384, 393]\n"
     ]
    }
   ],
   "source": [
    "#Implement a search algorithm\n",
    "def bfs(G, source, queue = [], breadth_nodes = [], visited_nodes = []):\n",
    "    visited_nodes.append(source)\n",
    "    #Set a breadth_queue\n",
    "    level_queue = [n for n in G.neighbors(source) if n not in visited_nodes]\n",
    "    breadth_nodes += level_queue\n",
    "    while level_queue:\n",
    "        new_source = level_queue[0]\n",
    "        #Get that into visited nodes\n",
    "        visited_nodes.append(new_source)\n",
    "        new_level_queue = [n for n in G.neighbors(new_source) if n not in visited_nodes and n not in breadth_nodes]\n",
    "        breadth_nodes += new_level_queue\n",
    "        level_queue += new_level_queue\n",
    "        del level_queue[0]\n",
    "    return breadth_nodes\n",
    "\n",
    "print bfs(G, G.nodes()[0])\n"
   ]
  },
  {
   "cell_type": "markdown",
   "metadata": {},
   "source": [
    "But there's a simpler way to do this, since it's a built in method of networkx"
   ]
  },
  {
   "cell_type": "code",
   "execution_count": 80,
   "metadata": {
    "collapsed": false
   },
   "outputs": [
    {
     "name": "stdout",
     "output_type": "stream",
     "text": [
      "<generator object dfs_edges at 0x109f75f50>\n",
      "['__class__', '__delattr__', '__doc__', '__format__', '__getattribute__', '__hash__', '__init__', '__iter__', '__name__', '__new__', '__reduce__', '__reduce_ex__', '__repr__', '__setattr__', '__sizeof__', '__str__', '__subclasshook__', 'close', 'gi_code', 'gi_frame', 'gi_running', 'next', 'send', 'throw']\n"
     ]
    }
   ],
   "source": [
    "dfs_edges = nx.traversal.dfs_edges(G, G.nodes()[0])\n",
    "print dfs_edges\n",
    "print dir(dfs_edges)"
   ]
  },
  {
   "cell_type": "code",
   "execution_count": 83,
   "metadata": {
    "collapsed": false
   },
   "outputs": [
    {
     "name": "stdout",
     "output_type": "stream",
     "text": [
      "(3, 4)\n",
      "(4, 5)\n",
      "(5, 6)\n",
      "(6, 7)\n",
      "(7, 8)\n",
      "(8, 9)\n",
      "(9, 10)\n",
      "(10, 11)\n",
      "(11, 12)\n",
      "(12, 13)\n",
      "(13, 14)\n",
      "(14, 16)\n",
      "(16, 17)\n",
      "(17, 19)\n",
      "(19, 20)\n",
      "(20, 21)\n",
      "(21, 22)\n",
      "(22, 23)\n",
      "(23, 25)\n",
      "(25, 27)\n",
      "(27, 28)\n",
      "(28, 29)\n",
      "(29, 30)\n",
      "(30, 31)\n",
      "(31, 32)\n",
      "(32, 33)\n",
      "(33, 26)\n",
      "(26, 384)\n",
      "(384, 128)\n",
      "(128, 34)\n",
      "(34, 36)\n",
      "(36, 37)\n",
      "(37, 38)\n",
      "(38, 39)\n",
      "(39, 40)\n",
      "(40, 42)\n",
      "(42, 43)\n",
      "(43, 44)\n",
      "(44, 45)\n",
      "(45, 46)\n",
      "(46, 48)\n",
      "(48, 49)\n",
      "(49, 50)\n",
      "(50, 51)\n",
      "(51, 52)\n",
      "(52, 53)\n",
      "(53, 54)\n",
      "(54, 56)\n",
      "(56, 57)\n",
      "(57, 58)\n",
      "(58, 59)\n",
      "(59, 60)\n",
      "(60, 61)\n",
      "(61, 62)\n",
      "(62, 63)\n",
      "(63, 64)\n",
      "(64, 65)\n",
      "(65, 66)\n",
      "(66, 67)\n",
      "(67, 68)\n",
      "(68, 69)\n",
      "(69, 70)\n",
      "(70, 71)\n",
      "(71, 72)\n",
      "(72, 73)\n",
      "(73, 76)\n",
      "(76, 75)\n",
      "(75, 77)\n",
      "(77, 74)\n",
      "(74, 78)\n",
      "(78, 80)\n",
      "(80, 84)\n",
      "(84, 85)\n",
      "(85, 88)\n",
      "(88, 82)\n",
      "(82, 83)\n",
      "(83, 396)\n",
      "(396, 86)\n",
      "(86, 137)\n",
      "(137, 87)\n",
      "(87, 92)\n",
      "(92, 93)\n",
      "(93, 104)\n",
      "(104, 108)\n",
      "(108, 89)\n",
      "(89, 91)\n",
      "(91, 96)\n",
      "(96, 106)\n",
      "(106, 90)\n",
      "(90, 214)\n",
      "(214, 388)\n",
      "(388, 98)\n",
      "(98, 97)\n",
      "(97, 149)\n",
      "(149, 150)\n",
      "(150, 99)\n",
      "(99, 102)\n",
      "(102, 117)\n",
      "(117, 138)\n",
      "(138, 119)\n",
      "(119, 262)\n",
      "(262, 123)\n",
      "(123, 109)\n",
      "(109, 112)\n",
      "(112, 124)\n",
      "(124, 126)\n",
      "(126, 127)\n",
      "(127, 130)\n",
      "(130, 131)\n",
      "(131, 140)\n",
      "(140, 132)\n",
      "(132, 133)\n",
      "(133, 134)\n",
      "(134, 135)\n",
      "(135, 139)\n",
      "(139, 136)\n",
      "(136, 141)\n",
      "(141, 142)\n",
      "(142, 143)\n",
      "(143, 144)\n",
      "(144, 145)\n",
      "(145, 146)\n",
      "(146, 147)\n",
      "(147, 148)\n",
      "(148, 101)\n",
      "(101, 269)\n",
      "(269, 154)\n",
      "(154, 155)\n",
      "(155, 156)\n",
      "(156, 157)\n",
      "(157, 158)\n",
      "(158, 159)\n",
      "(159, 160)\n",
      "(160, 161)\n",
      "(161, 162)\n",
      "(162, 163)\n",
      "(163, 164)\n",
      "(164, 165)\n",
      "(165, 166)\n",
      "(166, 168)\n",
      "(168, 169)\n",
      "(169, 170)\n",
      "(170, 173)\n",
      "(173, 171)\n",
      "(171, 172)\n",
      "(172, 174)\n",
      "(174, 176)\n",
      "(176, 179)\n",
      "(179, 181)\n",
      "(181, 182)\n",
      "(182, 184)\n",
      "(184, 180)\n",
      "(180, 399)\n",
      "(399, 194)\n",
      "(194, 185)\n",
      "(185, 186)\n",
      "(186, 188)\n",
      "(188, 189)\n",
      "(189, 190)\n",
      "(190, 191)\n",
      "(191, 192)\n",
      "(192, 193)\n",
      "(193, 196)\n",
      "(196, 197)\n",
      "(197, 206)\n",
      "(206, 210)\n",
      "(210, 200)\n",
      "(200, 208)\n",
      "(208, 209)\n",
      "(209, 211)\n",
      "(211, 221)\n",
      "(221, 217)\n",
      "(217, 212)\n",
      "(212, 213)\n",
      "(213, 398)\n",
      "(398, 216)\n",
      "(216, 215)\n",
      "(215, 397)\n",
      "(397, 220)\n",
      "(220, 219)\n",
      "(219, 263)\n",
      "(263, 226)\n",
      "(226, 223)\n",
      "(223, 224)\n",
      "(224, 228)\n",
      "(228, 229)\n",
      "(229, 230)\n",
      "(230, 232)\n",
      "(232, 233)\n",
      "(233, 234)\n",
      "(234, 235)\n",
      "(235, 237)\n",
      "(237, 239)\n",
      "(239, 242)\n",
      "(242, 241)\n",
      "(241, 243)\n",
      "(243, 244)\n",
      "(244, 245)\n",
      "(245, 246)\n",
      "(246, 247)\n",
      "(247, 248)\n",
      "(248, 249)\n",
      "(249, 250)\n",
      "(250, 251)\n",
      "(251, 252)\n",
      "(252, 253)\n",
      "(253, 259)\n",
      "(259, 255)\n",
      "(255, 256)\n",
      "(256, 257)\n",
      "(257, 258)\n",
      "(258, 264)\n",
      "(264, 265)\n",
      "(265, 266)\n",
      "(266, 268)\n",
      "(268, 271)\n",
      "(271, 272)\n",
      "(272, 273)\n",
      "(273, 275)\n",
      "(275, 276)\n",
      "(276, 277)\n",
      "(277, 278)\n",
      "(278, 282)\n",
      "(282, 286)\n",
      "(286, 288)\n",
      "(288, 285)\n",
      "(285, 284)\n",
      "(284, 295)\n",
      "(295, 289)\n",
      "(289, 290)\n",
      "(290, 292)\n",
      "(292, 303)\n",
      "(303, 298)\n",
      "(298, 294)\n",
      "(294, 296)\n",
      "(296, 297)\n",
      "(297, 385)\n",
      "(385, 300)\n",
      "(300, 301)\n",
      "(301, 302)\n",
      "(302, 309)\n",
      "(309, 304)\n",
      "(304, 308)\n",
      "(308, 344)\n",
      "(344, 310)\n",
      "(310, 324)\n",
      "(324, 315)\n",
      "(315, 316)\n",
      "(316, 317)\n",
      "(317, 319)\n",
      "(319, 321)\n",
      "(321, 323)\n",
      "(323, 325)\n",
      "(325, 328)\n",
      "(328, 337)\n",
      "(337, 326)\n",
      "(326, 327)\n",
      "(327, 306)\n",
      "(306, 307)\n",
      "(307, 393)\n",
      "(393, 422)\n",
      "(422, 331)\n",
      "(331, 329)\n",
      "(329, 339)\n",
      "(339, 332)\n",
      "(332, 340)\n",
      "(340, 338)\n",
      "(338, 341)\n",
      "(341, 346)\n",
      "(346, 345)\n",
      "(345, 413)\n",
      "(413, 349)\n",
      "(349, 347)\n",
      "(347, 350)\n",
      "(350, 365)\n",
      "(365, 361)\n",
      "(361, 417)\n",
      "(417, 408)\n",
      "(408, 404)\n",
      "(404, 414)\n",
      "(408, 420)\n",
      "(420, 362)\n",
      "(362, 427)\n",
      "(427, 374)\n",
      "(374, 379)\n",
      "(379, 389)\n",
      "(389, 392)\n",
      "(389, 430)\n",
      "(430, 353)\n",
      "(353, 409)\n",
      "(409, 432)\n",
      "(432, 434)\n",
      "(434, 354)\n",
      "(409, 440)\n",
      "(430, 410)\n",
      "(430, 431)\n"
     ]
    }
   ],
   "source": [
    "party = True\n",
    "while party:\n",
    "    try:\n",
    "        print dfs_edges.next()\n",
    "    except:\n",
    "        party=False"
   ]
  },
  {
   "cell_type": "code",
   "execution_count": null,
   "metadata": {
    "collapsed": false
   },
   "outputs": [],
   "source": []
  },
  {
   "cell_type": "code",
   "execution_count": null,
   "metadata": {
    "collapsed": false
   },
   "outputs": [],
   "source": []
  }
 ],
 "metadata": {
  "kernelspec": {
   "display_name": "Python 3",
   "language": "python",
   "name": "python3"
  },
  "language_info": {
   "codemirror_mode": {
    "name": "ipython",
    "version": 3
   },
   "file_extension": ".py",
   "mimetype": "text/x-python",
   "name": "python",
   "nbconvert_exporter": "python",
   "pygments_lexer": "ipython3",
   "version": "3.4.3"
  }
 },
 "nbformat": 4,
 "nbformat_minor": 0
}
