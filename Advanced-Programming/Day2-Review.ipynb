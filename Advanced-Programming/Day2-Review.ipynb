{
 "cells": [
  {
   "cell_type": "markdown",
   "metadata": {},
   "source": [
    "Yesterday covered data types, flow control, and error handling as the basic elements. Today we've added travelling the filesystem, opening and writing files, and functions.\n",
    "\n",
    "We're going to put those skills to the test now with a similar example as we've been working on for all of today. You're still the new department administrator, but you've just gotten a whole new set of student roster files. These new files are in the `Data/New-Roster` folder.\n",
    "\n",
    "Now what's the **first rule** of <strike>fight club</strike> data analysis?\n",
    "\n",
    "Look at the data!"
   ]
  },
  {
   "cell_type": "code",
   "execution_count": null,
   "metadata": {
    "collapsed": false
   },
   "outputs": [],
   "source": [
    "import os\n",
    "\n",
    "open( os.path.join('..', 'Data', 'New-Roster', 'Agatha_Bailey_798.txt') ).readlines()"
   ]
  },
  {
   "cell_type": "markdown",
   "metadata": {},
   "source": [
    "Hmmmmmm... that's not the same! They changed the file format on us!!!\n",
    "\n",
    "We'll need to transform the file into a dictionary, similar to our work in other notebooks. We're just going to have to be very careful since our new assistant doesn't seem to be as diligent as our last one in extracting student records."
   ]
  },
  {
   "cell_type": "code",
   "execution_count": null,
   "metadata": {
    "collapsed": false
   },
   "outputs": [],
   "source": [
    "#Write code to read in one file from the directory New-Roster\n"
   ]
  },
  {
   "cell_type": "code",
   "execution_count": null,
   "metadata": {
    "collapsed": false
   },
   "outputs": [],
   "source": [
    "#Now clean the file data and turn it into a dictionary\n"
   ]
  },
  {
   "cell_type": "code",
   "execution_count": null,
   "metadata": {
    "collapsed": false
   },
   "outputs": [],
   "source": []
  },
  {
   "cell_type": "markdown",
   "metadata": {},
   "source": [
    "Great! Now let's turn this previous cell of code into a function"
   ]
  },
  {
   "cell_type": "code",
   "execution_count": null,
   "metadata": {
    "collapsed": false
   },
   "outputs": [],
   "source": [
    "#Remember that a function accepts an argument and gives an output\n",
    "#We want our function to accept a ________________ and return a ___________________\n",
    "#I'm going to help out by starting the function syntax\n",
    "\n",
    "def read_roster_file( _______  ): #This is my attempt to make a fill in the blank\n",
    "    \n",
    "    \n",
    "    return _________ #This is my attempt to make a fill in the blank\n",
    "\n",
    "\n",
    "\n",
    "#To make sure that our function works I'm going to execute it at the bottom of our cell\n",
    "read_roster_file( os.path.join('..', 'Data', 'New-Roster', 'Agatha_Bailey_798.txt') )"
   ]
  },
  {
   "cell_type": "code",
   "execution_count": null,
   "metadata": {
    "collapsed": false
   },
   "outputs": [],
   "source": []
  },
  {
   "cell_type": "markdown",
   "metadata": {},
   "source": [
    "Now we're talking, let's put this together to make all of these 100 files into a list of 100 dictionaries"
   ]
  },
  {
   "cell_type": "code",
   "execution_count": null,
   "metadata": {
    "collapsed": false
   },
   "outputs": [],
   "source": [
    "#Remember, to iterate through a directory of files we typically use the glob function that's in glob ( glob.glob )\n",
    "#We'll need to import the package in order to use it\n",
    "import glob\n",
    "\n",
    "#Now let's write the rest of our code\n",
    "\n",
    "\n"
   ]
  },
  {
   "cell_type": "code",
   "execution_count": null,
   "metadata": {
    "collapsed": false
   },
   "outputs": [],
   "source": []
  },
  {
   "cell_type": "markdown",
   "metadata": {},
   "source": [
    "Great! Let's convert feet and inches into inches only (hint: there are 12 inches in a foot)"
   ]
  },
  {
   "cell_type": "code",
   "execution_count": null,
   "metadata": {
    "collapsed": false
   },
   "outputs": [],
   "source": [
    "def convert_feet_to_inches( _____ ):\n",
    "    \n",
    "    return ____________________"
   ]
  },
  {
   "cell_type": "code",
   "execution_count": null,
   "metadata": {
    "collapsed": false
   },
   "outputs": [],
   "source": []
  }
 ],
 "metadata": {
  "kernelspec": {
   "display_name": "Python 3",
   "language": "python",
   "name": "python3"
  },
  "language_info": {
   "codemirror_mode": {
    "name": "ipython",
    "version": 3
   },
   "file_extension": ".py",
   "mimetype": "text/x-python",
   "name": "python",
   "nbconvert_exporter": "python",
   "pygments_lexer": "ipython3",
   "version": "3.4.3"
  }
 },
 "nbformat": 4,
 "nbformat_minor": 0
}
