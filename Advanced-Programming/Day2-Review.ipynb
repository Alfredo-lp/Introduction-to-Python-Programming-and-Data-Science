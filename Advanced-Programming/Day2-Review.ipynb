{
 "metadata": {
  "name": "",
  "signature": "sha256:8e1a534d4d717bfea74810e622085f0514c1217da8a11c1faa4a7788f2b25637"
 },
 "nbformat": 3,
 "nbformat_minor": 0,
 "worksheets": [
  {
   "cells": [
    {
     "cell_type": "markdown",
     "metadata": {},
     "source": [
      "We have a new folder in the Day4 folder named New-Roster. This folder has student rosters like we examined before, except for the fact that the last assistant resigned and we now have a new assistant. Let's make sure these files are the same"
     ]
    },
    {
     "cell_type": "code",
     "collapsed": false,
     "input": [
      "cat New-Roster/Agatha_Bailey_798.txt"
     ],
     "language": "python",
     "metadata": {},
     "outputs": []
    },
    {
     "cell_type": "markdown",
     "metadata": {},
     "source": [
      "Hmmmmmm.........That's not the same."
     ]
    },
    {
     "cell_type": "markdown",
     "metadata": {},
     "source": [
      "Whoa! things changed but they seem very similar. \n",
      "\n",
      "Let's transform one file into a dictionary, similar to our work in other notebooks.\n",
      "\n",
      "We'll have to be very careful when we read in the contents of these files since our new assistant doesn't seem to be as good as our last one!"
     ]
    },
    {
     "cell_type": "code",
     "collapsed": false,
     "input": [
      "#Write code to read in one file from the directory New-Roster\n"
     ],
     "language": "python",
     "metadata": {},
     "outputs": []
    },
    {
     "cell_type": "code",
     "collapsed": false,
     "input": [
      "#Now clean the file data and turn it into a dictionary\n"
     ],
     "language": "python",
     "metadata": {},
     "outputs": []
    },
    {
     "cell_type": "code",
     "collapsed": false,
     "input": [],
     "language": "python",
     "metadata": {},
     "outputs": []
    },
    {
     "cell_type": "code",
     "collapsed": false,
     "input": [],
     "language": "python",
     "metadata": {},
     "outputs": []
    },
    {
     "cell_type": "code",
     "collapsed": false,
     "input": [],
     "language": "python",
     "metadata": {},
     "outputs": []
    },
    {
     "cell_type": "markdown",
     "metadata": {},
     "source": [
      "Great! Now let's turn this previous cell of code into a function"
     ]
    },
    {
     "cell_type": "code",
     "collapsed": false,
     "input": [
      "#Remember that a function accepts an argument and gives an output\n",
      "#We want our function to accept a ________________ and return a ___________________\n",
      "#I'm going to help out by starting the function syntax\n",
      "\n",
      "def read_roster_file( _______  ): #This is my attempt to make a fill in the blank\n",
      "    \n",
      "    \n",
      "    return _________ #This is my attempt to make a fill in the blank\n",
      "\n",
      "\n",
      "\n",
      "#To make sure that our function works I'm going to execute it at the bottom of our cell\n",
      "read_roster_file('New-Roster/Agatha_Bailey_798.txt')"
     ],
     "language": "python",
     "metadata": {},
     "outputs": []
    },
    {
     "cell_type": "code",
     "collapsed": false,
     "input": [
      "\n",
      "\n"
     ],
     "language": "python",
     "metadata": {},
     "outputs": []
    },
    {
     "cell_type": "code",
     "collapsed": false,
     "input": [],
     "language": "python",
     "metadata": {},
     "outputs": []
    },
    {
     "cell_type": "code",
     "collapsed": false,
     "input": [],
     "language": "python",
     "metadata": {},
     "outputs": []
    },
    {
     "cell_type": "markdown",
     "metadata": {},
     "source": [
      "Now we're talking, let's put this together to make all of these 100 files into a list of 100 dictionaries"
     ]
    },
    {
     "cell_type": "code",
     "collapsed": false,
     "input": [
      "#Remember, to iterate through a directory of files we typically use the glob function that's in glob ( glob.glob )\n",
      "#We'll need to import the package in order to use it\n",
      "\n",
      "\n",
      "#Now let's write the rest of our code\n",
      "\n",
      "\n"
     ],
     "language": "python",
     "metadata": {},
     "outputs": []
    },
    {
     "cell_type": "code",
     "collapsed": false,
     "input": [],
     "language": "python",
     "metadata": {},
     "outputs": []
    },
    {
     "cell_type": "code",
     "collapsed": false,
     "input": [],
     "language": "python",
     "metadata": {},
     "outputs": []
    },
    {
     "cell_type": "code",
     "collapsed": false,
     "input": [],
     "language": "python",
     "metadata": {},
     "outputs": []
    },
    {
     "cell_type": "markdown",
     "metadata": {},
     "source": [
      "Great! Let's convert feet and inches into inches only (hint: there are 12 inches in a foot)\n",
      "\n",
      "I'll let you decide if you want to write a function to do this or not"
     ]
    },
    {
     "cell_type": "code",
     "collapsed": false,
     "input": [],
     "language": "python",
     "metadata": {},
     "outputs": []
    },
    {
     "cell_type": "code",
     "collapsed": false,
     "input": [],
     "language": "python",
     "metadata": {},
     "outputs": []
    },
    {
     "cell_type": "markdown",
     "metadata": {},
     "source": [
      "Now let's plot a histogram of all of the heights in the files in `New-Roster`"
     ]
    },
    {
     "cell_type": "code",
     "collapsed": false,
     "input": [
      "#First, we'll need to import matplotlib since we use that for plotting.\n",
      "#I'll take care of it here\n",
      "import matplotlib.pyplot as plt\n",
      "\n",
      "#Now I'll let you make the histogram!\n",
      "\n"
     ],
     "language": "python",
     "metadata": {},
     "outputs": []
    },
    {
     "cell_type": "code",
     "collapsed": false,
     "input": [],
     "language": "python",
     "metadata": {},
     "outputs": []
    }
   ],
   "metadata": {}
  }
 ]
}