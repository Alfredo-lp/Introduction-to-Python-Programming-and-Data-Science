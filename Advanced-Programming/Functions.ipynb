{
 "cells": [
  {
   "cell_type": "code",
   "execution_count": 1,
   "metadata": {
    "collapsed": false
   },
   "outputs": [
    {
     "data": {
      "text/html": [
       "<style>\n",
       "    @font-face {\n",
       "        font-family: \"Computer Modern\";\n",
       "        src: url('http://9dbb143991406a7c655e-aa5fcb0a5a4ec34cff238a2d56ca4144.r56.cf5.rackcdn.com/cmunss.otf');\n",
       "    }\n",
       "    @font-face {\n",
       "        font-family: \"Computer Modern\";\n",
       "        font-weight: bold;\n",
       "        src: url('http://9dbb143991406a7c655e-aa5fcb0a5a4ec34cff238a2d56ca4144.r56.cf5.rackcdn.com/cmunsx.otf');\n",
       "    }\n",
       "    @font-face {\n",
       "        font-family: \"Computer Modern\";\n",
       "        font-style: oblique;\n",
       "        src: url('http://9dbb143991406a7c655e-aa5fcb0a5a4ec34cff238a2d56ca4144.r56.cf5.rackcdn.com/cmunsi.otf');\n",
       "    }\n",
       "    @font-face {\n",
       "        font-family: \"Computer Modern\";\n",
       "        font-weight: bold;\n",
       "        font-style: oblique;\n",
       "        src: url('http://9dbb143991406a7c655e-aa5fcb0a5a4ec34cff238a2d56ca4144.r56.cf5.rackcdn.com/cmunso.otf');\n",
       "    }\n",
       "    h1 {\n",
       "        font-family: Helvetica, serif;\n",
       "    }\n",
       "    h4{\n",
       "        margin-top:12px;\n",
       "        margin-bottom: 3px;\n",
       "       }\n",
       "    div.text_cell_render{\n",
       "        font-family: Computer Modern, \"Helvetica Neue\", Arial, Helvetica, Geneva, sans-serif;\n",
       "        line-height: 145%;\n",
       "        font-size: 130%;\n",
       "        margin-left:auto;\n",
       "        margin-right:auto;\n",
       "    }\n",
       "    .CodeMirror{\n",
       "            font-family: \"Source Code Pro\", source-code-pro,Consolas, monospace;\n",
       "    }\n",
       "    .text_cell_render h5 {\n",
       "        font-weight: 300;\n",
       "        font-size: 22pt;\n",
       "        color: #4057A1;\n",
       "        font-style: italic;\n",
       "        margin-bottom: .5em;\n",
       "        margin-top: 0.5em;\n",
       "        display: block;\n",
       "    }\n",
       "    \n",
       "    .warning{\n",
       "        color: rgb( 240, 20, 20 )\n",
       "        }  \n",
       "</style>\n",
       "<script>\n",
       "    MathJax.Hub.Config({\n",
       "                        TeX: {\n",
       "                           extensions: [\"AMSmath.js\"]\n",
       "                           },\n",
       "                tex2jax: {\n",
       "                    inlineMath: [ ['$','$'], [\"\\\\(\",\"\\\\)\"] ],\n",
       "                    displayMath: [ ['$$','$$'], [\"\\\\[\",\"\\\\]\"] ]\n",
       "                },\n",
       "                displayAlign: 'center', // Change this to 'center' to center equations.\n",
       "                \"HTML-CSS\": {\n",
       "                    styles: {'.MathJax_Display': {\"margin\": 4}}\n",
       "                }\n",
       "        });\n",
       "</script>\n"
      ],
      "text/plain": [
       "<IPython.core.display.HTML object>"
      ]
     },
     "execution_count": 1,
     "metadata": {},
     "output_type": "execute_result"
    }
   ],
   "source": [
    "from IPython.core.display import HTML\n",
    "def css_styling():\n",
    "    styles = open(\"../styles/custom.css\", \"r\").read()\n",
    "    return HTML(styles)\n",
    "css_styling()"
   ]
  },
  {
   "cell_type": "code",
   "execution_count": 23,
   "metadata": {
    "collapsed": true
   },
   "outputs": [],
   "source": [
    "import glob\n",
    "import datetime"
   ]
  },
  {
   "cell_type": "markdown",
   "metadata": {},
   "source": [
    "# What's a function?\n",
    "\n",
    "You've actually already been exposed to functions because we had you fill in your answers in the homework **inside** a function. So whenever you see this syntax:\n",
    "\n",
    "    def function_name():\n",
    "        function_code\n",
    "        return function_answer\n",
    "        \n",
    "that block of code is a function. \n",
    "\n",
    "The basic definition of a function is simple, it's a block of code packaged as a single unit that performs a specific task. It is executed by calling `function_name`. If we never actually call `function_name` anywhere in our code then it is never executed (although it is checked for errors by Python).\n",
    "\n",
    "Let's start with the simplest function possible, you'll make a simple function that just says `hello`."
   ]
  },
  {
   "cell_type": "code",
   "execution_count": 5,
   "metadata": {
    "collapsed": true
   },
   "outputs": [],
   "source": [
    "def say_hello():\n",
    "    '''\n",
    "    Prints \"Hello\"\n",
    "    input:\n",
    "        - None\n",
    "    output:\n",
    "        - None\n",
    "    '''\n",
    "    print('Hello!')"
   ]
  },
  {
   "cell_type": "markdown",
   "metadata": {},
   "source": [
    "You just wrote a simple function! Notice that after writing it nothing was printed. That is because you didn't *call* the function. \n",
    "\n",
    "You *call* a function just by writing its name along with the parentheses."
   ]
  },
  {
   "cell_type": "code",
   "execution_count": 4,
   "metadata": {
    "collapsed": false
   },
   "outputs": [
    {
     "name": "stdout",
     "output_type": "stream",
     "text": [
      "Hello!\n"
     ]
    }
   ],
   "source": [
    "say_hello()"
   ]
  },
  {
   "cell_type": "markdown",
   "metadata": {},
   "source": [
    "There you go!\n",
    "\n",
    "Now let's diagram the basic parts of the syntax to give you an idea of what we are dealing with.\n",
    "\n",
    "<img src = '../images/function_annotation.png'></img>\n",
    "\n",
    "Here I allude to function inputs. Functions take in *variables* inside the parentheses. Those variables and variable names are then only used inside the function. This creates a little world inside the function.\n",
    "\n",
    "You can show that here, you'll start by making a `say_anything_twice()` function. It'll take any text and multiply it by 2 (have to say it twice!). It will then return that new string as an output."
   ]
  },
  {
   "cell_type": "code",
   "execution_count": 9,
   "metadata": {
    "collapsed": false
   },
   "outputs": [
    {
     "data": {
      "text/plain": [
       "'hellohello'"
      ]
     },
     "execution_count": 9,
     "metadata": {},
     "output_type": "execute_result"
    }
   ],
   "source": [
    "def say_anything_twice(anything):\n",
    "    '''\n",
    "    Multiplies a string by 2\n",
    "    input:\n",
    "        anything - str\n",
    "    output:\n",
    "        anything_twice - str\n",
    "    '''\n",
    "    anything_twice = anything * 2\n",
    "    return anything_twice\n",
    "\n",
    "say_anything_twice('hello')"
   ]
  },
  {
   "cell_type": "markdown",
   "metadata": {},
   "source": [
    "Now notice that we can't actually use the anything_twice variable outside of the function"
   ]
  },
  {
   "cell_type": "code",
   "execution_count": 10,
   "metadata": {
    "collapsed": false
   },
   "outputs": [
    {
     "ename": "NameError",
     "evalue": "name 'anything_twice' is not defined",
     "output_type": "error",
     "traceback": [
      "\u001b[0;31m---------------------------------------------------------------------------\u001b[0m",
      "\u001b[0;31mNameError\u001b[0m                                 Traceback (most recent call last)",
      "\u001b[0;32m<ipython-input-10-a540008029e8>\u001b[0m in \u001b[0;36m<module>\u001b[0;34m()\u001b[0m\n\u001b[0;32m----> 1\u001b[0;31m \u001b[0manything_twice\u001b[0m\u001b[0;34m\u001b[0m\u001b[0m\n\u001b[0m",
      "\u001b[0;31mNameError\u001b[0m: name 'anything_twice' is not defined"
     ]
    }
   ],
   "source": [
    "anything_twice"
   ]
  },
  {
   "cell_type": "markdown",
   "metadata": {},
   "source": [
    "If you try to use a function variable outside of a function you will get a `NameError`. That is because that variable only exists *inside* the function and is created when we call the function.\n",
    "\n",
    "However, functions can use variables that are created outside of any function (this is called a `global` variable)"
   ]
  },
  {
   "cell_type": "code",
   "execution_count": 13,
   "metadata": {
    "collapsed": false
   },
   "outputs": [
    {
     "data": {
      "text/plain": [
       "'This is special textThis is special text'"
      ]
     },
     "execution_count": 13,
     "metadata": {},
     "output_type": "execute_result"
    }
   ],
   "source": [
    "special_text = 'This is special text'\n",
    "\n",
    "def special_text_twice(anything):\n",
    "    '''\n",
    "    Multiplies a string by 2\n",
    "    input:\n",
    "        anything - str\n",
    "    output:\n",
    "        anything_twice - str\n",
    "    '''\n",
    "    anything_twice = special_text * 2\n",
    "    return anything_twice\n",
    "\n",
    "special_text_twice('hello')"
   ]
  },
  {
   "cell_type": "markdown",
   "metadata": {},
   "source": [
    "I tell you about this so you know, but **relying on `global` variables in functions is not a good practice.**\n",
    "\n",
    "So try not to do it!\n",
    "\n",
    "If you were curious, we call variables *inside* the function `local` variables."
   ]
  },
  {
   "cell_type": "markdown",
   "metadata": {},
   "source": [
    "# So how do we use functions?\n",
    "\n",
    "A simple example is one thing, but it can be hard to figure out how we use functions in **real** code. To make this clear, let's go back to your administrative job and work with the `Roster` data.\n",
    "\n",
    "There are 800 student data files in the `Data/Roster` folder that need to be parsed. Previously we put all of this code into a `for` loop, which easily wne through every single file in turn. However, if you want to do anything else when you parse the file, like calculate the height, many modifications would need to be made to the `for` loop.\n",
    "\n",
    "Continually adding these small changes will make the amount of code in the `for` loop grow quite a bit, making it more and more unreadable. When something is unreadable it's hard to quickly understand how a specific value is calculated or what values are used. This means that when you need to make a change it takes you **a lot** more time to re-acquaint yourself with the code and implement even simple additions.\n",
    "\n",
    "Also, when you add more code, you add more variables. These variables are flying around all over our code, making tracking the flow difficult. What's even **worse** is that you become far more likely to modify a variable in a way that makes another line of code **fail** (everyone shakes their head no, but everyone does it!).\n",
    "\n",
    "**Functions** are what help us solve this problem. "
   ]
  },
  {
   "cell_type": "markdown",
   "metadata": {},
   "source": [
    "# Writing a function\n",
    "\n",
    "When we write a function, we extract just a small, *specific* part of our overall program and write it as its own little piece of code. With a clear name it becomes easy to identify what the function does, increasing readability. \n",
    "\n",
    "Furthermore, if we need to change how something is calculated (say that new roster files have the height in centimeters instead of inches), we'll know **right away** where the code we need to modify is located. We'll also know that we **don't need to change it** anywhere else. That's another point of functions, if we write a function to calculate the height we should then use it everywhere we need to calculate height in the code.\n",
    "\n",
    "So right away we can reimagine our initial code to read the `Roster` files as \n",
    "    \n",
    "    #Here we write a function to grab all of the roster filenames\n",
    "    data_files = find_student_records(directory)\n",
    "    #Now we iterate through each filename\n",
    "    for each file in data_files:\n",
    "        #Next we parse the file\n",
    "        data = parse_student_record(file)\n",
    "        #We simply calculate the code outside of the for loop\n",
    "        age = calculate_age(data)\n",
    "            \n",
    "Make sense now?\n",
    "\n",
    "Now before you start programming it's best to actually sketch out the function."
   ]
  },
  {
   "cell_type": "markdown",
   "metadata": {},
   "source": [
    "## Sketching out a function\n",
    "\n",
    "There are three basic questions that help you sketch a function:\n",
    "\n",
    "* What does this function do?\n",
    "* What inputs does this function need to do that?\n",
    "* What value(s) does the function return?\n",
    "\n",
    "After you answer these three questions, you will then know the bounds on what code you can write inside that function.\n",
    "\n",
    "These questions may seem like a simple exercise, but this information is actually the **same** information that you should be writing in your docstring. That way you can easily identify at any time what a function **does**, what value it **needs to run**, and what value it **returns**.\n",
    "\n",
    "Let's start by doing this with our `find_student_records` function.\n",
    "\n",
    "### What does the function do?\n",
    "\n",
    "This function should return all of the roster filenames in a directory.\n",
    "\n",
    "### What does the function need to perform this task?\n",
    "\n",
    "It needs to know what directory to look inside for the filenames.\n",
    "\n",
    "### What does the function return?\n",
    "\n",
    "The function should return a list of all the filenames.\n",
    "\n",
    "Now it's far more clear what you need!"
   ]
  },
  {
   "cell_type": "code",
   "execution_count": null,
   "metadata": {
    "collapsed": false
   },
   "outputs": [],
   "source": [
    "def find_student_records(directory):\n",
    "    \"\"\"\n",
    "    Return all roster filenames in a directory\n",
    "    input:\n",
    "        directory - str, Directory that contains the roster files\n",
    "    output:\n",
    "        filenames - list, List of roster filenames in directory\n",
    "    \"\"\"\n",
    "    return filenames"
   ]
  },
  {
   "cell_type": "markdown",
   "metadata": {},
   "source": [
    "Now you should sketch the function to `parse_student_record()`"
   ]
  },
  {
   "cell_type": "code",
   "execution_count": null,
   "metadata": {
    "collapsed": false
   },
   "outputs": [],
   "source": [
    "def parse_student_record( ):\n",
    "    \"\"\"\n",
    "    \n",
    "    \"\"\"\n",
    "    return"
   ]
  },
  {
   "cell_type": "markdown",
   "metadata": {},
   "source": [
    "And our last function to sketch is the `calculate_age()` function. "
   ]
  },
  {
   "cell_type": "code",
   "execution_count": 14,
   "metadata": {
    "collapsed": false
   },
   "outputs": [],
   "source": [
    "def calculate_age( ):\n",
    "    \"\"\"\n",
    "    \n",
    "    \"\"\"\n",
    "    return"
   ]
  },
  {
   "cell_type": "markdown",
   "metadata": {},
   "source": [
    "# Now let's build up to a function\n",
    "\n",
    "With separate functions, it can be easy to develop and test each one without having to process the entire data set every time. Lets start by finding all the records.\n",
    "\n",
    "The easiest way to do this is to just write the code outside of a function first and then wrap a function around it. You will use `glob` to get all of the filenames, so I've already added it to the top of the notebook.\n",
    "\n",
    "Just write the simple `glob` statement like in the next notebook"
   ]
  },
  {
   "cell_type": "code",
   "execution_count": null,
   "metadata": {
    "collapsed": false,
    "scrolled": true
   },
   "outputs": [],
   "source": [
    "glob.glob('../Data/Roster/*.txt')"
   ]
  },
  {
   "cell_type": "markdown",
   "metadata": {},
   "source": [
    "Now separate the inputs and outputs. Your **input** should be the directory and your **output** should be filenames."
   ]
  },
  {
   "cell_type": "code",
   "execution_count": 17,
   "metadata": {
    "collapsed": false
   },
   "outputs": [],
   "source": [
    "directory = '../Data/Roster'\n",
    "\n",
    "filenames = # ...\n",
    "\n",
    "filenames[:5]"
   ]
  },
  {
   "cell_type": "markdown",
   "metadata": {},
   "source": [
    "Now just wrap the code that we've written into a function"
   ]
  },
  {
   "cell_type": "code",
   "execution_count": null,
   "metadata": {
    "collapsed": false
   },
   "outputs": [],
   "source": [
    "def find_student_records(directory):\n",
    "    \"\"\"\n",
    "    Return all roster filenames in a directory\n",
    "    input:\n",
    "        directory - str, Directory that contains the roster files\n",
    "    output:\n",
    "        filenames - list, List of roster filenames in directory\n",
    "    \"\"\"\n",
    "    return filenames"
   ]
  },
  {
   "cell_type": "markdown",
   "metadata": {},
   "source": [
    "When you execute the function with the directory string you should get back the same five filenames."
   ]
  },
  {
   "cell_type": "code",
   "execution_count": 19,
   "metadata": {
    "collapsed": false
   },
   "outputs": [],
   "source": [
    "find_student_records('../Data/Roster/')[:5]"
   ]
  },
  {
   "cell_type": "markdown",
   "metadata": {},
   "source": [
    "Now that we have a way to find all the records: the `find_student_records` function, the next piece of the puzzle we laid out in our pseudocode is a function to read an individual record. Recall that the records looked like the following:\n",
    "\n",
    "    #This is a file that holds important personal information that should not be shared. \n",
    "    #You are being watched.\n",
    "\n",
    "\n",
    "\n",
    "    Name:\tBuzz M. Baker\n",
    "    Date of Birth:\t4/20/87\n",
    "    Email Address:\tbuzz.baker@northwestern.edu\n",
    "    Department:\tEngineering\n",
    "    Height:\t5ft,3in\n",
    "    Weight:\t194lbs\n",
    "    Favorite Color:\tPink\n",
    "    Favorite Animal:\tSnake\n",
    "    Zodiac Sign:\tApril\n"
   ]
  },
  {
   "cell_type": "markdown",
   "metadata": {},
   "source": [
    "### Processing the data file\n",
    "\n",
    "**Question**: What is the best data type to represent the student's data?\n",
    "\n",
    "1. string\n",
    "2. list\n",
    "3. dictionary\n",
    "4. set\n",
    "5. tuple"
   ]
  },
  {
   "cell_type": "markdown",
   "metadata": {},
   "source": [
    "### Roughing it out"
   ]
  },
  {
   "cell_type": "code",
   "execution_count": null,
   "metadata": {
    "collapsed": false
   },
   "outputs": [],
   "source": [
    "path = '../Data/Roster/Agatha_Bailey_798.txt'\n",
    "\n",
    "# create something to hold the data\n",
    "# open the file\n",
    "    # for each line in the file\n",
    "        # ignore comment lines (those that start with \"#\")\n",
    "\n",
    "        # Exercise parts\n",
    "        # --------------\n",
    "        # split the line\n",
    "        # make sure the line has the correct number of parts\n",
    "        # clean up the parts (strip whitespace)\n",
    "        # store data in the 'data holder'"
   ]
  },
  {
   "cell_type": "markdown",
   "metadata": {},
   "source": [
    "### Turn it into a function"
   ]
  },
  {
   "cell_type": "code",
   "execution_count": null,
   "metadata": {
    "collapsed": true
   },
   "outputs": [],
   "source": [
    "def parse_student_record(filename):\n",
    "    '''\n",
    "    Parses a student record file into a dictionary\n",
    "    input:\n",
    "        filename - str, path to the file\n",
    "    output:\n",
    "        data - dict, student attribute data\n",
    "    '''\n",
    "\n",
    "    return data\n"
   ]
  },
  {
   "cell_type": "code",
   "execution_count": null,
   "metadata": {
    "collapsed": true
   },
   "outputs": [],
   "source": [
    "parse_student_record('../Data/Roster/Agatha_Lee_11.txt')"
   ]
  },
  {
   "cell_type": "code",
   "execution_count": null,
   "metadata": {
    "collapsed": true
   },
   "outputs": [],
   "source": [
    "parse_student_record('../Data/Roster/Buzz_Baker_618.txt')"
   ]
  },
  {
   "cell_type": "markdown",
   "metadata": {},
   "source": [
    "Now we can parse all of the files!"
   ]
  },
  {
   "cell_type": "code",
   "execution_count": null,
   "metadata": {
    "collapsed": false
   },
   "outputs": [],
   "source": [
    "filenames = find_student_records('../Data/Roster/')\n",
    "a_filename = filenames[0]\n",
    "a_filename"
   ]
  },
  {
   "cell_type": "code",
   "execution_count": 21,
   "metadata": {
    "collapsed": false
   },
   "outputs": [],
   "source": [
    "parse_student_record(a_filename)"
   ]
  },
  {
   "cell_type": "markdown",
   "metadata": {},
   "source": []
  },
  {
   "cell_type": "code",
   "execution_count": null,
   "metadata": {
    "collapsed": true
   },
   "outputs": [],
   "source": [
    "def calculate_age( ):\n",
    "    \"\"\"\n",
    "    \n",
    "    \"\"\"\n",
    "    return"
   ]
  },
  {
   "cell_type": "code",
   "execution_count": null,
   "metadata": {
    "collapsed": true
   },
   "outputs": [],
   "source": []
  },
  {
   "cell_type": "code",
   "execution_count": null,
   "metadata": {
    "collapsed": true
   },
   "outputs": [],
   "source": [
    "def clean_dob(dob: \"string of form M/D/YY\") -> \"datetime object\":\n",
    "    # your code from above\n",
    "    \n",
    "    return dob\n",
    "\n",
    "assert type(clean_dob('1/1/11')) == datetime.datetime\n",
    "assert clean_dob('1/1/03').year == 2003\n",
    "assert clean_dob('1/1/83').year == 1983\n",
    "assert clean_dob('2/4/00').month == 2\n",
    "assert clean_dob('3/5/84').day == 5"
   ]
  },
  {
   "cell_type": "markdown",
   "metadata": {},
   "source": [
    "### Where to call it?\n",
    "\n",
    "We could either call the `clean_dob` function on the value returned from the `parse_student_record` function or do it inside. Why make the caller clean up later?"
   ]
  },
  {
   "cell_type": "code",
   "execution_count": null,
   "metadata": {
    "collapsed": true
   },
   "outputs": [],
   "source": [
    "# adding clean functions\n",
    "def parse_student_record(path: \"pathlib object\") -> \"dict\":\n",
    "    # COPY CODE FROM ABOVE\n",
    "    \n",
    "    data['Date of Birth'] = clean_dob(data['Date of Birth'])\n",
    "    \n",
    "    return data\n",
    "\n",
    "assert parse_student_record('../Data/Roster/Buzz_Baker_618.txt')['Date of Birth'].month == 4"
   ]
  },
  {
   "cell_type": "markdown",
   "metadata": {},
   "source": [
    "# Sidebar: Partial Assembly\n",
    "\n",
    "We have a couple functions squared away, lets start assembling them and see if they work well together. Fixing little errors or incompatibilities early is easier as we remember how we made everything. Let's try to grab everyone who was born in 1975."
   ]
  },
  {
   "cell_type": "code",
   "execution_count": null,
   "metadata": {
    "collapsed": false
   },
   "outputs": [],
   "source": [
    "data_dir = '../Data/Roster'\n",
    "\n",
    "# data_files = find_student_records(data_dir)\n",
    "\n",
    "# for each file in data_files:\n",
    "    # data = parse_student_record(file)\n",
    "    \n",
    "    # age = calculate_age(date of birth)\n",
    "    \n",
    "    # if born in 1975:\n",
    "        # remember the person\n",
    "        "
   ]
  },
  {
   "cell_type": "markdown",
   "metadata": {},
   "source": [
    "**Question**: How many people were born in March?\n",
    "1. 24\n",
    "2. 49\n",
    "3. 53\n",
    "4. 69\n",
    "5. 75"
   ]
  },
  {
   "cell_type": "code",
   "execution_count": null,
   "metadata": {
    "collapsed": false
   },
   "outputs": [],
   "source": [
    "# ...code...\n",
    "\n",
    "len(born_in_march)"
   ]
  },
  {
   "cell_type": "markdown",
   "metadata": {},
   "source": [
    "# 5. `calculate_age` - Turning the age algorithm developed earlier into a function\n",
    "\n",
    "Your function may have looked something like this:\n",
    "\n",
    "    currentDay = 3\n",
    "    currentMonth = 3\n",
    "    currentYear = 2014\n",
    "\n",
    "    bornDay = 3\n",
    "    bornMonth = 3\n",
    "    bornYear = 1984\n",
    "\n",
    "    correction = 0\n",
    "    if currentMonth < bornMonth:\n",
    "        correction = 1\n",
    "    elif currentMonth == bornMonth and currentDay < bornDay:\n",
    "        correction = 1\n",
    "    \n",
    "    age = currentYear - bornYear - correction\n",
    "\n",
    "Lets adapt that into a function."
   ]
  },
  {
   "cell_type": "code",
   "execution_count": null,
   "metadata": {
    "collapsed": false
   },
   "outputs": [],
   "source": [
    "def calculate_age(dob: \"datetime object\", today: \"datetime object\"=None):\n",
    "    \"\"\"Calculate the age of someone born on 'dob' on date 'today' (today if not specified)\"\"\"\n",
    "    if today is None:\n",
    "        today = datetime.datetime.today()\n",
    "    \n",
    "    ## your algorithm, adapted for datetime objects\n",
    "    \n",
    "    return age\n",
    "\n",
    "calculate_age(datetime.datetime(1985, 4, 4))"
   ]
  },
  {
   "cell_type": "code",
   "execution_count": null,
   "metadata": {
    "collapsed": false
   },
   "outputs": [],
   "source": [
    "# test suite\n",
    "assert calculate_age(datetime.datetime(2000, 1, 1), datetime.datetime(2001, 1, 1)) == 1\n",
    "assert calculate_age(datetime.datetime(1000, 1, 1), datetime.datetime(2000, 1, 1)) == 1000\n",
    "assert calculate_age(datetime.datetime(2000, 1, 1), datetime.datetime(2010, 1, 1)) == 10\n",
    "assert calculate_age(datetime.datetime(2000, 1, 31), datetime.datetime(2011, 1, 1)) == 10\n",
    "assert calculate_age(datetime.datetime(2000, 6, 1), datetime.datetime(2011, 1, 1)) == 10"
   ]
  },
  {
   "cell_type": "markdown",
   "metadata": {},
   "source": [
    "# 6. Completing the Project\n",
    "\n",
    "Now that we have a function to calculate age, we can implement the final part of our pseudocode and check the age"
   ]
  },
  {
   "cell_type": "code",
   "execution_count": null,
   "metadata": {
    "collapsed": false,
    "scrolled": false
   },
   "outputs": [],
   "source": [
    "datafiles = find_student_records('../Data/Roster/')\n",
    "\n",
    "youths = []\n",
    "for file in datafiles:\n",
    "    data = parse_student_record(file)\n",
    "    \n",
    "    age = calculate_age(data['Date of Birth'])\n",
    "    if age < 25:\n",
    "        youths.append(data)\n",
    "        \n",
    "print(len(youths))\n",
    "youths[:2]"
   ]
  },
  {
   "cell_type": "markdown",
   "metadata": {},
   "source": [
    "# 7. More cleaning, more analysis\n",
    "\n",
    "## Who's the tallest?"
   ]
  },
  {
   "cell_type": "code",
   "execution_count": null,
   "metadata": {
    "collapsed": true
   },
   "outputs": [],
   "source": [
    "def clean_height(height):\n",
    "    \"\"\"Convert a foot/inches string (e.g. Xft,Yin) into a number\"\"\"\n",
    "    \n",
    "    return height_in_inches"
   ]
  },
  {
   "cell_type": "code",
   "execution_count": null,
   "metadata": {
    "collapsed": false
   },
   "outputs": [],
   "source": []
  },
  {
   "cell_type": "code",
   "execution_count": null,
   "metadata": {
    "collapsed": false
   },
   "outputs": [],
   "source": []
  },
  {
   "cell_type": "code",
   "execution_count": null,
   "metadata": {
    "collapsed": false
   },
   "outputs": [],
   "source": []
  },
  {
   "cell_type": "markdown",
   "metadata": {},
   "source": [
    "# 8. Back of the Book\n",
    "\n",
    "Not just the odd problems."
   ]
  },
  {
   "cell_type": "markdown",
   "metadata": {},
   "source": [
    "    import glob\n",
    "    import datetime\n",
    "    import re\n",
    "\n",
    "    def find_student_records(directory, extension=\"txt\"):\n",
    "        \"\"\"\n",
    "        Find all the student records in the specified directory. Specifying extension\n",
    "        is optional; defaults to \"txt\"\n",
    "\n",
    "        Returns an iterator.\n",
    "        \"\"\"\n",
    "        paths = glob.iglob(directory + '/*.' + extension)\n",
    "        return paths\n",
    "\n",
    "    def calculate_age(dob: \"datetime object\", today: \"datetime object\"=None) -> int:\n",
    "        \"\"\"Calculate the age of someone born on 'dob' on date 'today' (today if not specified)\"\"\"\n",
    "        if today is None:\n",
    "            today = datetime.datetime.today()\n",
    "\n",
    "        correction = 0\n",
    "        if today.month < dob.month:\n",
    "            correction = 1\n",
    "        elif today.month == dob.month and today.day < dob.day:\n",
    "            correction = 1\n",
    "\n",
    "        age = today.year - dob.year - correction\n",
    "\n",
    "        return age\n",
    "\n",
    "    def clean_dob(dob: \"string of form M/D/YY\") -> datetime.datetime:\n",
    "        month, day, year = dob.split('/')\n",
    "\n",
    "        month = int(month)\n",
    "        day = int(day)\n",
    "        year = int(year)\n",
    "\n",
    "        year += 1900\n",
    "        if year < 1920:\n",
    "            year += 100\n",
    "\n",
    "        dob = datetime.datetime(year=year, month=month, day=day)\n",
    "\n",
    "        return dob\n",
    "\n",
    "    def clean_height(height: \"string with format Xft,Y.ZZin\") -> float:\n",
    "        feet, inches = (float(x) for x in re.findall('[0-9.]+', height))\n",
    "        return 12 * feet + inches\n",
    "\n",
    "    def clean_weight(weight: \"string with format 123lbs\") -> float:\n",
    "        return float(re.findall('[0-9.]+', weight)[0])\n",
    "\n",
    "    def parse_student_record(path: \"pathlib object\") -> dict:\n",
    "        \"\"\"Load a data file\"\"\"\n",
    "        data = {}\n",
    "\n",
    "        with open(path) as file:\n",
    "            for line in file:\n",
    "                # ignore comment lines (those that start with \"#\")\n",
    "                if line.startswith('#'):\n",
    "                    continue\n",
    "\n",
    "                # split the line\n",
    "                parts = line.split(':')\n",
    "\n",
    "                # make sure the line has the correct number of parts\n",
    "                if len(parts) != 2:\n",
    "                    continue\n",
    "\n",
    "                # clean up the parts (strip whitespace) and store them\n",
    "                key, value = parts\n",
    "                key = key.strip()\n",
    "                value = value.strip()\n",
    "\n",
    "                data[key] = value\n",
    "\n",
    "        data['Date of Birth'] = clean_dob(data['Date of Birth'])\n",
    "        data['Weight'] = clean_weight(data['Weight'])\n",
    "        data['Height'] = clean_height(data['Height'])\n",
    "\n",
    "        return data\n",
    "\n",
    "    THRESHOLD = 25\n",
    "\n",
    "    data_dir = \"../Data/Roster\"\n",
    "\n",
    "    # list comprehensions and generators can be used for some efficiency and brevity.\n",
    "    records = [parse_student_record(f) for f in find_student_records(data_dir)]\n",
    "    n_march = sum(1 for r in records if r['Date of Birth'].month == 3)\n",
    "    n_youths = sum(1 for r in records if calculate_age(r['Date of Birth']) < THRESHOLD)\n",
    "    tallest = max(records, key=lambda r: r['Height'])\n",
    "\n",
    "    # longer method\n",
    "    n_march = 0\n",
    "    n_youths = 0\n",
    "    tallest = {'Height': 0}\n",
    "    for f in find_student_records(data_dir):\n",
    "        data = parse_student_record(f)\n",
    "        if data['Date of Birth'].month == 3:\n",
    "            n_march += 1\n",
    "        if calculate_age(data['Date of Birth']) < THRESHOLD:\n",
    "            n_youths += 1\n",
    "        if data['Height'] > tallest['Height']:\n",
    "            tallest = data\n",
    "\n",
    "    print('{} people born in March.'.format(n_march))\n",
    "    print('{} people younger than {}.'.format(n_youths, THRESHOLD))\n",
    "    print('{} is the tallest ({:.1f} inches or {:.0f} cm).'.format(\n",
    "        tallest['Name'], tallest['Height'], tallest['Height'] * 2.54))"
   ]
  },
  {
   "cell_type": "code",
   "execution_count": null,
   "metadata": {
    "collapsed": true
   },
   "outputs": [],
   "source": []
  }
 ],
 "metadata": {
  "kernelspec": {
   "display_name": "Python 3",
   "language": "python",
   "name": "python3"
  },
  "language_info": {
   "codemirror_mode": {
    "name": "ipython",
    "version": 3
   },
   "file_extension": ".py",
   "mimetype": "text/x-python",
   "name": "python",
   "nbconvert_exporter": "python",
   "pygments_lexer": "ipython3",
   "version": "3.4.3"
  }
 },
 "nbformat": 4,
 "nbformat_minor": 0
}
