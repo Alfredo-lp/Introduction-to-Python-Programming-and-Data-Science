{
 "cells": [
  {
   "cell_type": "markdown",
   "metadata": {
    "collapsed": true
   },
   "source": [
    "###Let's pull all the strings together!\n",
    "\n",
    "We can make plots, import libraries, write functions, read files, and, generally, just program like a unicorn.\n",
    "\n",
    "Let's work on a fun data problem together that most of us will relate to. I've gone and pulled data from [fivethirtyeight](fivethirtyeight.com) about the employability of recent college graduates. The files are in the `../Data/College-Majors/` folder and each major is separated into a separate file like `recent_MAJOR.csv`.\n",
    "\n",
    "When we look at a single file it is like this:                     \n",
    "\n",
    "`\n",
    "Major_code,Major,Major_category,Total,Sample_size,Men,Women,ShareWomen,Employed,Full_time,Part_time,Full_time_year_round,Unemployed,Unemployment_rate,Median,P25th,P75th,College_jobs,Non_college_jobs,Low_wage_jobs\n",
    "20,3201,COURT REPORTING,Law & Public Policy,1148,14,877,271,0.236062718,930,808,223,808,11,0.011689692,54000,50000,54000,402,528,144\n",
    "30,5402,PUBLIC POLICY,Law & Public Policy,5978,55,2695,905,0.251388889,4547,4163,1306,2776,670,0.128426299,50000,35000,70000,1550,1871,340`\n",
    "\n",
    "So the first row is a header and then the other rows are the variables.\n",
    "\n",
    "First, let's write a function to read one file, we'll use the `recent_Arts.csv` file.\n",
    "\n",
    "The function should produce each row of real values (so not the header) as a dictionary (so pair it with the header). So like this:\n",
    "\n",
    "    {'Major_code' : 20,\n",
    "     'Major' : 3201,\n",
    "     'Major_category': 'COURT REPORTING',\n",
    "     ...\n",
    "    }\n",
    "    \n",
    "And then return all of the \"line dictionaries\" as a list for the file\n",
    "\n",
    "    [ {'Major_code': 20, ... }, {'Major_code': 30, ..}]"
   ]
  },
  {
   "cell_type": "code",
   "execution_count": 1,
   "metadata": {
    "collapsed": true
   },
   "outputs": [],
   "source": [
    "import os\n",
    "#Make this function work\n",
    "\n",
    "def read_major_file(filename):\n",
    "    '''\n",
    "    input:\n",
    "        filename - name of file containing csv of recent grad performance for a major\n",
    "    output:\n",
    "        majors_list - list of dictionaries, where every dictionary is a single major\n",
    "    '''\n",
    "    majors_list = []\n",
    "    \n",
    "    return majors_list\n",
    "\n",
    "\n",
    "read_major_file( os.path.join('..', 'Data', 'College-Majors', 'recent_Arts.csv') )"
   ]
  },
  {
   "cell_type": "markdown",
   "metadata": {},
   "source": [
    "##Great!\n",
    "\n",
    "Now what we should do is read all of the files for the recent majors. Remember our friend `glob`? Also, there are other files in that directory so we'll need to use a pattern, maybe something like `recent*csv`."
   ]
  },
  {
   "cell_type": "code",
   "execution_count": null,
   "metadata": {
    "collapsed": true
   },
   "outputs": [],
   "source": [
    "#Write a function to read in all majors\n",
    "def read_all_majors(glob_path):\n",
    "    '''\n",
    "    input:\n",
    "        glob_path - the path to search for the major files\n",
    "    output:\n",
    "        majors_list - list of dictionaries, a single dictionary for each major \n",
    "    '''\n",
    "    majors_list = []\n",
    "    \n",
    "    return majors_list\n",
    "\n",
    "read_all_majors( os.path.join() )"
   ]
  },
  {
   "cell_type": "markdown",
   "metadata": {},
   "source": []
  }
 ],
 "metadata": {
  "kernelspec": {
   "display_name": "Python 3",
   "language": "python",
   "name": "python3"
  },
  "language_info": {
   "codemirror_mode": {
    "name": "ipython",
    "version": 3
   },
   "file_extension": ".py",
   "mimetype": "text/x-python",
   "name": "python",
   "nbconvert_exporter": "python",
   "pygments_lexer": "ipython3",
   "version": "3.4.3"
  }
 },
 "nbformat": 4,
 "nbformat_minor": 0
}
