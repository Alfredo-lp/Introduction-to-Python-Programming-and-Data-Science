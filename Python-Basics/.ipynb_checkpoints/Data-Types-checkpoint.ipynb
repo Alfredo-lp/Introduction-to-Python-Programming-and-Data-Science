{
 "metadata": {
  "name": "",
  "signature": "sha256:77c0dd1be75e4095a36c2291a36957a2ebffa79a982e7198cb033c1accb7d93b"
 },
 "nbformat": 3,
 "nbformat_minor": 0,
 "worksheets": [
  {
   "cells": [
    {
     "cell_type": "markdown",
     "metadata": {},
     "source": [
      "#What's a variable?\n",
      "\n",
      "Let's start with going over one of the most basic concepts in programming, using a *variable*. You've heard this term used before in math class (remember $y = mx + b$?) and our usage here is more or less the same.\n",
      "\n",
      "A **variable** is a **symbolic name** that is associated with some **value**.\n",
      "\n",
      "This is the most basic part of programming, because we want to have some name that we can call and will return a value. We can do this simply, just like:"
     ]
    },
    {
     "cell_type": "code",
     "collapsed": false,
     "input": [
      "number = 2"
     ],
     "language": "python",
     "metadata": {},
     "outputs": [],
     "prompt_number": 2
    },
    {
     "cell_type": "markdown",
     "metadata": {},
     "source": [
      "Now we have create `number` as the **variable** and assigned `2` as its **value**. As a hint, the construction of\n",
      "\n",
      "*variable* = *value*\n",
      "\n",
      "will hold in most other programming languages too. Now at any time we can use our variable `number` again, or just look at its value. We can look at it's value by using the `print()` function in Python."
     ]
    },
    {
     "cell_type": "code",
     "collapsed": false,
     "input": [
      "print( number )"
     ],
     "language": "python",
     "metadata": {},
     "outputs": [
      {
       "output_type": "stream",
       "stream": "stdout",
       "text": [
        "2\n"
       ]
      }
     ],
     "prompt_number": 3
    },
    {
     "cell_type": "markdown",
     "metadata": {},
     "source": [
      "We can also use the variable in a mathematical expression too."
     ]
    },
    {
     "cell_type": "code",
     "collapsed": false,
     "input": [
      "number * 2"
     ],
     "language": "python",
     "metadata": {},
     "outputs": [
      {
       "metadata": {},
       "output_type": "pyout",
       "prompt_number": 5,
       "text": [
        "4"
       ]
      }
     ],
     "prompt_number": 5
    },
    {
     "cell_type": "markdown",
     "metadata": {},
     "source": [
      "An important thing to note though is that a variable can have its associated value **change**. So if we reassign `number` using our variable creation syntax above, we'll see that it's value changes."
     ]
    },
    {
     "cell_type": "code",
     "collapsed": false,
     "input": [
      "number = 5\n",
      "print(number)"
     ],
     "language": "python",
     "metadata": {},
     "outputs": [
      {
       "output_type": "stream",
       "stream": "stdout",
       "text": [
        "5\n"
       ]
      }
     ],
     "prompt_number": 6
    },
    {
     "cell_type": "markdown",
     "metadata": {},
     "source": [
      "An important part to remember about variables is that it's up to you to name them well. There are a number of different data types in Python, but there's no distinction on how you have to name them. So this means that it is up to you to give good, descriptive names to your variables.\n",
      "\n",
      "Why is that important?\n",
      "\n",
      "Well, the whole point of descriptive variable names is to improve readability and understanding of code by yourself and others. We typically think that we will remember everything that we do, but after a month or two of doing something else it's hard to remember any one piece of code. Good naming practices can make all the difference here. \n",
      "\n",
      "We can even go through a quick example."
     ]
    },
    {
     "cell_type": "code",
     "collapsed": false,
     "input": [
      "number = 'Helen'"
     ],
     "language": "python",
     "metadata": {},
     "outputs": [],
     "prompt_number": 7
    },
    {
     "cell_type": "markdown",
     "metadata": {},
     "source": [
      "Here I've gone and changed the variable `number` to stand for someone's name. Now that isn't great because when most people see the word `number` they expect that the variable would contain some kind of numeric value. This means that they might want to perform some math with the variable and they would then quickly experience this."
     ]
    },
    {
     "cell_type": "code",
     "collapsed": false,
     "input": [
      "number + 2"
     ],
     "language": "python",
     "metadata": {},
     "outputs": [
      {
       "ename": "TypeError",
       "evalue": "Can't convert 'int' object to str implicitly",
       "output_type": "pyerr",
       "traceback": [
        "\u001b[0;31m---------------------------------------------------------------------------\u001b[0m\n\u001b[0;31mTypeError\u001b[0m                                 Traceback (most recent call last)",
        "\u001b[0;32m<ipython-input-8-e96a55dd7add>\u001b[0m in \u001b[0;36m<module>\u001b[0;34m()\u001b[0m\n\u001b[0;32m----> 1\u001b[0;31m \u001b[0mnumber\u001b[0m \u001b[0;34m+\u001b[0m \u001b[0;36m2\u001b[0m\u001b[0;34m\u001b[0m\u001b[0m\n\u001b[0m",
        "\u001b[0;31mTypeError\u001b[0m: Can't convert 'int' object to str implicitly"
       ]
      }
     ],
     "prompt_number": 8
    },
    {
     "cell_type": "markdown",
     "metadata": {},
     "source": [
      "An error! \n",
      "\n",
      "I know that this is a pretty simplistic example, but just try to keep this point in my mind as we work through these tutorials. Now, onto the meat!"
     ]
    },
    {
     "cell_type": "markdown",
     "metadata": {},
     "source": [
      "#The basic data types\n",
      "\n",
      "Python has eight basic data types for you to use with variables. The first four that we will cover here all allow for a variable to be a single value. These four types are:\n",
      "\n",
      "* Integers\n",
      "* Floats\n",
      "* Strings\n",
      "* Booleans\n",
      "\n",
      "The other four we will cover in the next lesson. Those types allow a variable to hold multiple elements as a single value. These are great for keeping multiple related values together. These collection types are:\n",
      "\n",
      "* Tuples\n",
      "* Lists\n",
      "* Sets\n",
      "* Dictionaries\n",
      "\n",
      "Now, let's start with one of the most basic data types, the integer."
     ]
    },
    {
     "cell_type": "markdown",
     "metadata": {},
     "source": [
      "#Integers\n",
      "\n"
     ]
    },
    {
     "cell_type": "code",
     "collapsed": false,
     "input": [],
     "language": "python",
     "metadata": {},
     "outputs": []
    },
    {
     "cell_type": "code",
     "collapsed": false,
     "input": [],
     "language": "python",
     "metadata": {},
     "outputs": []
    },
    {
     "cell_type": "markdown",
     "metadata": {},
     "source": [
      "# Boolean Operations\n",
      "\n",
      "We typically think of boolean as being `True` or `False`. \n",
      "\n",
      "With just these two variables we can implement basic logic and check for truth in a programming language. "
     ]
    },
    {
     "cell_type": "code",
     "collapsed": false,
     "input": [
      "puppy = True"
     ],
     "language": "python",
     "metadata": {},
     "outputs": []
    },
    {
     "cell_type": "code",
     "collapsed": false,
     "input": [
      "print(puppy)"
     ],
     "language": "python",
     "metadata": {},
     "outputs": []
    },
    {
     "cell_type": "code",
     "collapsed": false,
     "input": [
      "type(puppy)"
     ],
     "language": "python",
     "metadata": {},
     "outputs": []
    },
    {
     "cell_type": "code",
     "collapsed": false,
     "input": [
      "puppies = False"
     ],
     "language": "python",
     "metadata": {},
     "outputs": []
    },
    {
     "cell_type": "markdown",
     "metadata": {},
     "source": [
      "We can also assign more than one variable at the same time"
     ]
    },
    {
     "cell_type": "code",
     "collapsed": false,
     "input": [
      "kitten, cat, cats = True, False, True\n",
      "\n",
      "cats"
     ],
     "language": "python",
     "metadata": {},
     "outputs": []
    },
    {
     "cell_type": "markdown",
     "metadata": {},
     "source": [
      "And let's talk about variable naming for a quick second"
     ]
    },
    {
     "cell_type": "code",
     "collapsed": false,
     "input": [
      "4puppies = True"
     ],
     "language": "python",
     "metadata": {},
     "outputs": []
    },
    {
     "cell_type": "code",
     "collapsed": false,
     "input": [
      "Puppies = True"
     ],
     "language": "python",
     "metadata": {},
     "outputs": []
    },
    {
     "cell_type": "code",
     "collapsed": false,
     "input": [
      "print(Puppies)\n",
      "\n",
      "print()\n",
      "\n",
      "print(puppies)"
     ],
     "language": "python",
     "metadata": {},
     "outputs": []
    },
    {
     "cell_type": "markdown",
     "metadata": {},
     "source": [
      "There are three basic boolean operations we use to check on these values: `and`, `not`, and `or`"
     ]
    },
    {
     "cell_type": "code",
     "collapsed": false,
     "input": [
      "True and not False"
     ],
     "language": "python",
     "metadata": {},
     "outputs": []
    },
    {
     "cell_type": "code",
     "collapsed": false,
     "input": [
      "puppies or puppy"
     ],
     "language": "python",
     "metadata": {},
     "outputs": []
    },
    {
     "cell_type": "markdown",
     "metadata": {},
     "source": [
      "### Numerical operations\n",
      "\n",
      "First, let's start with integers. Integers are the discrete counting numbers that we've been using since you started counting on your fingers. "
     ]
    },
    {
     "cell_type": "code",
     "collapsed": false,
     "input": [
      "2 + 2"
     ],
     "language": "python",
     "metadata": {},
     "outputs": []
    },
    {
     "cell_type": "code",
     "collapsed": false,
     "input": [
      "4 - 2"
     ],
     "language": "python",
     "metadata": {},
     "outputs": []
    },
    {
     "cell_type": "code",
     "collapsed": false,
     "input": [
      "2 * 2"
     ],
     "language": "python",
     "metadata": {},
     "outputs": []
    },
    {
     "cell_type": "code",
     "collapsed": false,
     "input": [
      "first_result = 8 / 3"
     ],
     "language": "python",
     "metadata": {},
     "outputs": []
    },
    {
     "cell_type": "markdown",
     "metadata": {},
     "source": [
      "### Socrative Data Types Question 2"
     ]
    },
    {
     "cell_type": "code",
     "collapsed": false,
     "input": [
      "second_result = 8 // 3"
     ],
     "language": "python",
     "metadata": {},
     "outputs": []
    },
    {
     "cell_type": "markdown",
     "metadata": {},
     "source": [
      "### Socrative Data Types Question 3"
     ]
    },
    {
     "cell_type": "code",
     "collapsed": false,
     "input": [
      "4.2 // 2"
     ],
     "language": "python",
     "metadata": {},
     "outputs": []
    },
    {
     "cell_type": "markdown",
     "metadata": {},
     "source": [
      " What if we wanted to get the remainder from truncating division?"
     ]
    },
    {
     "cell_type": "code",
     "collapsed": false,
     "input": [
      "5 % 2"
     ],
     "language": "python",
     "metadata": {},
     "outputs": []
    },
    {
     "cell_type": "code",
     "collapsed": false,
     "input": [
      "4.2 % 2"
     ],
     "language": "python",
     "metadata": {},
     "outputs": []
    },
    {
     "cell_type": "markdown",
     "metadata": {},
     "source": [
      "So now let's try a float (Hint: we already saw it)"
     ]
    },
    {
     "cell_type": "code",
     "collapsed": false,
     "input": [
      "new_number = 4.0\n",
      "print(new_number)"
     ],
     "language": "python",
     "metadata": {},
     "outputs": []
    },
    {
     "cell_type": "markdown",
     "metadata": {},
     "source": [
      "Wait, so what if I want to change an integer to a float or vice versa???"
     ]
    },
    {
     "cell_type": "code",
     "collapsed": false,
     "input": [
      "int(4.8)"
     ],
     "language": "python",
     "metadata": {},
     "outputs": []
    },
    {
     "cell_type": "code",
     "collapsed": false,
     "input": [
      "float(2)"
     ],
     "language": "python",
     "metadata": {},
     "outputs": []
    },
    {
     "cell_type": "markdown",
     "metadata": {},
     "source": [
      "So let's try some equivalencies, there are a few that we can use"
     ]
    },
    {
     "cell_type": "raw",
     "metadata": {},
     "source": [
      "==\n",
      "!=\n",
      "<=\n",
      ">=\n",
      "<\n",
      ">"
     ]
    },
    {
     "cell_type": "code",
     "collapsed": false,
     "input": [
      "4 == 4"
     ],
     "language": "python",
     "metadata": {},
     "outputs": []
    },
    {
     "cell_type": "code",
     "collapsed": false,
     "input": [
      "4 != 2"
     ],
     "language": "python",
     "metadata": {},
     "outputs": []
    },
    {
     "cell_type": "code",
     "collapsed": false,
     "input": [
      "4 > 2"
     ],
     "language": "python",
     "metadata": {},
     "outputs": []
    },
    {
     "cell_type": "code",
     "collapsed": false,
     "input": [
      "4 > 4"
     ],
     "language": "python",
     "metadata": {},
     "outputs": []
    },
    {
     "cell_type": "code",
     "collapsed": false,
     "input": [
      "4 >= 4"
     ],
     "language": "python",
     "metadata": {},
     "outputs": []
    },
    {
     "cell_type": "markdown",
     "metadata": {},
     "source": [
      "### Socrative Data Types Question 4"
     ]
    },
    {
     "cell_type": "markdown",
     "metadata": {},
     "source": [
      " Let's work with some boolean logic, but with numbers now"
     ]
    },
    {
     "cell_type": "code",
     "collapsed": false,
     "input": [
      "4 and not 3"
     ],
     "language": "python",
     "metadata": {},
     "outputs": []
    },
    {
     "cell_type": "markdown",
     "metadata": {},
     "source": [
      "### Socrative Data Types Question 5"
     ]
    },
    {
     "cell_type": "markdown",
     "metadata": {},
     "source": [
      "Moving forward with arithmetic, there are more available operations "
     ]
    },
    {
     "cell_type": "code",
     "collapsed": false,
     "input": [
      "eqn1 = 2 * 3 - 2\n",
      "print(eqn1)"
     ],
     "language": "python",
     "metadata": {},
     "outputs": []
    },
    {
     "cell_type": "code",
     "collapsed": false,
     "input": [
      "eqn2 = -2 + 2 * 3\n",
      "print(eqn2)"
     ],
     "language": "python",
     "metadata": {},
     "outputs": []
    },
    {
     "cell_type": "code",
     "collapsed": false,
     "input": [
      "eqn3 = -2 +  2%3\n",
      "print(eqn3)"
     ],
     "language": "python",
     "metadata": {},
     "outputs": []
    },
    {
     "cell_type": "code",
     "collapsed": false,
     "input": [
      "eqn4 = (.3 + 5) // 2\n",
      "print(eqn4)"
     ],
     "language": "python",
     "metadata": {},
     "outputs": []
    },
    {
     "cell_type": "code",
     "collapsed": false,
     "input": [
      "2 ** 3"
     ],
     "language": "python",
     "metadata": {},
     "outputs": []
    },
    {
     "cell_type": "code",
     "collapsed": false,
     "input": [
      "from math import *\n",
      "print(sqrt(2.))"
     ],
     "language": "python",
     "metadata": {},
     "outputs": []
    },
    {
     "cell_type": "code",
     "collapsed": false,
     "input": [
      "print(exp(2.))"
     ],
     "language": "python",
     "metadata": {},
     "outputs": []
    },
    {
     "cell_type": "markdown",
     "metadata": {},
     "source": [
      "# Strings!\n",
      "\n",
      "Strings let us make words!"
     ]
    },
    {
     "cell_type": "code",
     "collapsed": false,
     "input": [
      "hello = 'hello'\n",
      "print(hello)"
     ],
     "language": "python",
     "metadata": {},
     "outputs": []
    },
    {
     "cell_type": "code",
     "collapsed": false,
     "input": [
      "falafel = 'gyro'\n",
      "print(falafel)"
     ],
     "language": "python",
     "metadata": {},
     "outputs": []
    },
    {
     "cell_type": "code",
     "collapsed": false,
     "input": [
      "print(\"gyros\" + \" and \" + \"falafel\")"
     ],
     "language": "python",
     "metadata": {},
     "outputs": []
    },
    {
     "cell_type": "code",
     "collapsed": false,
     "input": [
      "\"gyros\"/\"falafel\""
     ],
     "language": "python",
     "metadata": {},
     "outputs": []
    },
    {
     "cell_type": "code",
     "collapsed": false,
     "input": [
      "#Can you say gyros seven times fast?\n",
      "\"gyros\" * 7"
     ],
     "language": "python",
     "metadata": {},
     "outputs": []
    },
    {
     "cell_type": "code",
     "collapsed": false,
     "input": [
      "order = hello + ', I would like a ' + falafel\n",
      "print(order)"
     ],
     "language": "python",
     "metadata": {},
     "outputs": []
    },
    {
     "cell_type": "markdown",
     "metadata": {},
     "source": [
      "We can also access just a single letter of the string by putting `[]` after the variable name and giving it an integer.\n",
      "\n",
      "That integer tells python the element index that we want to access.\n",
      "\n",
      "In python all objects are zero-indexed. This means that the first position in any object that supports indexing has an index of 0"
     ]
    },
    {
     "cell_type": "code",
     "collapsed": false,
     "input": [
      "print(falafel[0])"
     ],
     "language": "python",
     "metadata": {},
     "outputs": []
    },
    {
     "cell_type": "markdown",
     "metadata": {},
     "source": [
      "### Socrative Data Types Question 6"
     ]
    },
    {
     "cell_type": "markdown",
     "metadata": {},
     "source": [
      "What about numbers that are in strings?"
     ]
    },
    {
     "cell_type": "code",
     "collapsed": false,
     "input": [
      "numbah = \"4\""
     ],
     "language": "python",
     "metadata": {},
     "outputs": []
    },
    {
     "cell_type": "code",
     "collapsed": false,
     "input": [
      "int(numbah)"
     ],
     "language": "python",
     "metadata": {},
     "outputs": []
    },
    {
     "cell_type": "code",
     "collapsed": false,
     "input": [
      "float(numbah)"
     ],
     "language": "python",
     "metadata": {},
     "outputs": []
    },
    {
     "cell_type": "code",
     "collapsed": false,
     "input": [
      "str(8.7777)"
     ],
     "language": "python",
     "metadata": {},
     "outputs": []
    },
    {
     "cell_type": "code",
     "collapsed": false,
     "input": [
      "int('three')"
     ],
     "language": "python",
     "metadata": {},
     "outputs": []
    },
    {
     "cell_type": "markdown",
     "metadata": {},
     "source": [
      "Strings also have some built-in methods to make some string actions easier."
     ]
    },
    {
     "cell_type": "raw",
     "metadata": {},
     "source": [
      "str.split()\n",
      "str.strip()\n",
      "str.lstrip()\n",
      "\n",
      "str.lower()\n",
      "str.upper()\n",
      "str.title()\n",
      "str.capitalizer()\n",
      "\n",
      "str.isdigit()\n",
      "str.isalpha()"
     ]
    },
    {
     "cell_type": "code",
     "collapsed": false,
     "input": [
      "bigH = hello.capitalize()\n",
      "bigH"
     ],
     "language": "python",
     "metadata": {},
     "outputs": []
    },
    {
     "cell_type": "code",
     "collapsed": false,
     "input": [
      "bigH.lower()"
     ],
     "language": "python",
     "metadata": {},
     "outputs": []
    },
    {
     "cell_type": "code",
     "collapsed": false,
     "input": [
      "sentence = bigH.upper() + \" I'M EXCITED TO MEET YOU\"\n",
      "sentence"
     ],
     "language": "python",
     "metadata": {},
     "outputs": []
    },
    {
     "cell_type": "code",
     "collapsed": false,
     "input": [
      "sentence.capitalize()"
     ],
     "language": "python",
     "metadata": {},
     "outputs": []
    },
    {
     "cell_type": "code",
     "collapsed": false,
     "input": [
      "sentence.title()"
     ],
     "language": "python",
     "metadata": {},
     "outputs": []
    },
    {
     "cell_type": "markdown",
     "metadata": {},
     "source": [
      "There are also built-in methods to help process strings"
     ]
    },
    {
     "cell_type": "code",
     "collapsed": false,
     "input": [
      "sentence.lstrip('H')"
     ],
     "language": "python",
     "metadata": {},
     "outputs": []
    },
    {
     "cell_type": "code",
     "collapsed": false,
     "input": [
      "sentence.strip('U')"
     ],
     "language": "python",
     "metadata": {},
     "outputs": []
    },
    {
     "cell_type": "code",
     "collapsed": false,
     "input": [
      "bigH.isalpha()"
     ],
     "language": "python",
     "metadata": {},
     "outputs": []
    },
    {
     "cell_type": "code",
     "collapsed": false,
     "input": [
      "sentence.isalpha()"
     ],
     "language": "python",
     "metadata": {},
     "outputs": []
    },
    {
     "cell_type": "code",
     "collapsed": false,
     "input": [
      "sentence.split(' ')"
     ],
     "language": "python",
     "metadata": {},
     "outputs": []
    },
    {
     "cell_type": "markdown",
     "metadata": {},
     "source": [
      "And some boolean operations with strings"
     ]
    },
    {
     "cell_type": "code",
     "collapsed": false,
     "input": [
      "'party' and not 'fun'"
     ],
     "language": "python",
     "metadata": {},
     "outputs": []
    },
    {
     "cell_type": "code",
     "collapsed": false,
     "input": [
      "'party' and not ''"
     ],
     "language": "python",
     "metadata": {},
     "outputs": []
    },
    {
     "cell_type": "code",
     "collapsed": false,
     "input": [],
     "language": "python",
     "metadata": {},
     "outputs": []
    },
    {
     "cell_type": "code",
     "collapsed": false,
     "input": [
      "from IPython.core.display import HTML\n",
      "from IPython.lib.display import YouTubeVideo\n",
      "\n",
      "\n",
      "def css_styling():\n",
      "    styles = open(\"../styles/custom.css\", \"r\").read()\n",
      "    return HTML(styles)\n",
      "css_styling()"
     ],
     "language": "python",
     "metadata": {},
     "outputs": [
      {
       "html": [
        "<style>\n",
        "    @font-face {\n",
        "        font-family: \"Computer Modern\";\n",
        "        src: url('http://9dbb143991406a7c655e-aa5fcb0a5a4ec34cff238a2d56ca4144.r56.cf5.rackcdn.com/cmunss.otf');\n",
        "    }\n",
        "    @font-face {\n",
        "        font-family: \"Computer Modern\";\n",
        "        font-weight: bold;\n",
        "        src: url('http://9dbb143991406a7c655e-aa5fcb0a5a4ec34cff238a2d56ca4144.r56.cf5.rackcdn.com/cmunsx.otf');\n",
        "    }\n",
        "    @font-face {\n",
        "        font-family: \"Computer Modern\";\n",
        "        font-style: oblique;\n",
        "        src: url('http://9dbb143991406a7c655e-aa5fcb0a5a4ec34cff238a2d56ca4144.r56.cf5.rackcdn.com/cmunsi.otf');\n",
        "    }\n",
        "    @font-face {\n",
        "        font-family: \"Computer Modern\";\n",
        "        font-weight: bold;\n",
        "        font-style: oblique;\n",
        "        src: url('http://9dbb143991406a7c655e-aa5fcb0a5a4ec34cff238a2d56ca4144.r56.cf5.rackcdn.com/cmunso.otf');\n",
        "    }\n",
        "    div.cell{\n",
        "        width:800px;\n",
        "        margin-left:16% !important;\n",
        "        margin-right:auto;\n",
        "    }\n",
        "    h1 {\n",
        "        font-family: Helvetica, serif;\n",
        "    }\n",
        "    h4{\n",
        "        margin-top:12px;\n",
        "        margin-bottom: 3px;\n",
        "       }\n",
        "    div.text_cell_render{\n",
        "        font-family: Computer Modern, \"Helvetica Neue\", Arial, Helvetica, Geneva, sans-serif;\n",
        "        line-height: 145%;\n",
        "        font-size: 130%;\n",
        "        width:800px;\n",
        "        margin-left:auto;\n",
        "        margin-right:auto;\n",
        "    }\n",
        "    .CodeMirror{\n",
        "            font-family: \"Source Code Pro\", source-code-pro,Consolas, monospace;\n",
        "    }\n",
        "    .prompt{\n",
        "        display: None;\n",
        "    }\n",
        "    .text_cell_render h5 {\n",
        "        font-weight: 300;\n",
        "        font-size: 22pt;\n",
        "        color: #4057A1;\n",
        "        font-style: italic;\n",
        "        margin-bottom: .5em;\n",
        "        margin-top: 0.5em;\n",
        "        display: block;\n",
        "    }\n",
        "    \n",
        "    .warning{\n",
        "        color: rgb( 240, 20, 20 )\n",
        "        }  \n",
        "</style>\n",
        "<script>\n",
        "    MathJax.Hub.Config({\n",
        "                        TeX: {\n",
        "                           extensions: [\"AMSmath.js\"]\n",
        "                           },\n",
        "                tex2jax: {\n",
        "                    inlineMath: [ ['$','$'], [\"\\\\(\",\"\\\\)\"] ],\n",
        "                    displayMath: [ ['$$','$$'], [\"\\\\[\",\"\\\\]\"] ]\n",
        "                },\n",
        "                displayAlign: 'center', // Change this to 'center' to center equations.\n",
        "                \"HTML-CSS\": {\n",
        "                    styles: {'.MathJax_Display': {\"margin\": 4}}\n",
        "                }\n",
        "        });\n",
        "</script>\n"
       ],
       "metadata": {},
       "output_type": "pyout",
       "prompt_number": 1,
       "text": [
        "<IPython.core.display.HTML at 0x1037f56d8>"
       ]
      }
     ],
     "prompt_number": 1
    }
   ],
   "metadata": {}
  }
 ]
}