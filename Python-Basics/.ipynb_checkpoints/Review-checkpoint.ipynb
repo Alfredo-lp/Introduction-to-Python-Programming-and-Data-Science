{
 "metadata": {
  "name": "",
  "signature": "sha256:6f4706f9b164e6d4409974dedd44eb8227c0912b7cbbcb2aa6930a871c1342c0"
 },
 "nbformat": 3,
 "nbformat_minor": 0,
 "worksheets": [
  {
   "cells": [
    {
     "cell_type": "heading",
     "level": 1,
     "metadata": {},
     "source": [
      "Review"
     ]
    },
    {
     "cell_type": "markdown",
     "metadata": {},
     "source": [
      "  "
     ]
    },
    {
     "cell_type": "markdown",
     "metadata": {},
     "source": [
      "We have introduced several foundational skills related to variables and flow control. Let's review them now."
     ]
    },
    {
     "cell_type": "code",
     "collapsed": false,
     "input": [
      "sentence_pt = \"Eu falo Portugu\u00eas muito bem.\"\n",
      "sentence_en = \"I speak Portuguese very well.\"\n",
      "sentence_fr = \"Je parle Portugais tr\u00e8s bien.\"\n",
      "sentence_de = \"Ich spreche Portugiesisch sehr gut.\"\n",
      "sentence_es = \"Hablo portugu\u00e9s muy bien\""
     ],
     "language": "python",
     "metadata": {},
     "outputs": [],
     "prompt_number": 1
    },
    {
     "cell_type": "markdown",
     "metadata": {},
     "source": [
      "Create a dictionary named *sentences* where a key is the name of a language, and the value is a list. Initialize each list with a sentence in the corresponding language."
     ]
    },
    {
     "cell_type": "code",
     "collapsed": false,
     "input": [],
     "language": "python",
     "metadata": {},
     "outputs": []
    },
    {
     "cell_type": "markdown",
     "metadata": {},
     "source": [
      "Create a dictionary named *words* where the key is the name of a language, and the value is a list. Use a loop and information from the dictionary *sentences*."
     ]
    },
    {
     "cell_type": "code",
     "collapsed": false,
     "input": [],
     "language": "python",
     "metadata": {},
     "outputs": []
    },
    {
     "cell_type": "markdown",
     "metadata": {},
     "source": [
      "Break each sentence into words and add them into the lists in the dictionary *words*. Use loops and string operations. "
     ]
    },
    {
     "cell_type": "code",
     "collapsed": false,
     "input": [],
     "language": "python",
     "metadata": {},
     "outputs": []
    },
    {
     "cell_type": "markdown",
     "metadata": {},
     "source": [
      "Find the shortest word in the contents of the dictionary *words*."
     ]
    },
    {
     "cell_type": "code",
     "collapsed": false,
     "input": [],
     "language": "python",
     "metadata": {},
     "outputs": []
    },
    {
     "cell_type": "markdown",
     "metadata": {},
     "source": [
      "Find the longest word in the contents of the dictionary *words*."
     ]
    },
    {
     "cell_type": "code",
     "collapsed": false,
     "input": [],
     "language": "python",
     "metadata": {},
     "outputs": []
    }
   ],
   "metadata": {}
  }
 ]
}