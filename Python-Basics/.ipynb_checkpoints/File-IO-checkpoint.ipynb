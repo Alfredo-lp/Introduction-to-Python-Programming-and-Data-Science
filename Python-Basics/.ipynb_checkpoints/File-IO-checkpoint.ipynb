{
 "cells": [
  {
   "cell_type": "markdown",
   "metadata": {},
   "source": [
    "# Reading and writing files\n",
    "\n",
    "Typing strings and numbers into an IPython Notebook are great ways to learn basics,\n",
    "but sooner or later you will have to learn how to read data from a file, perform some analysis on that data and ideally save the analysis. \n",
    "\n",
    "But first we need to go over the basics of the filesystem so you know where and how things are located"
   ]
  },
  {
   "cell_type": "markdown",
   "metadata": {},
   "source": [
    "#Filesystems\n",
    "\n",
    "A filesystem is presented to you in a folder structure like this\n",
    "\n",
    "<img src='../images/osx_finder.png'></img>\n",
    "\n",
    "Where each folder is inside another folder and this keeps going all the way up. In fact this continues until we reach the root of the hard drive.\n",
    "\n",
    "One way to visualize this differently is to think of the file system as a tree. In Linux/OS X the tree generically looks like this:\n",
    "\n",
    "<img src='../images/linux_fs_tree.png' width='600px'></img>\n",
    "\n",
    "On Windows it's very similar, it's just the root is `C:` instead of `/`\n",
    "\n",
    "<img src='../images/windows_fs_tree.png' width='400px'></img>"
   ]
  },
  {
   "cell_type": "markdown",
   "metadata": {},
   "source": [
    "When we want to see what is inside a folder we can use the `ls` command (it stands for `list`). `ls` is **not** a Python command (it comes from the terminal) but IPython notebook allows us to use this command natively in any code cell **as long as there is no Python code in the cell**.\n",
    "\n",
    "If we wanted to see all of the files in this directory we can just use the following command:"
   ]
  },
  {
   "cell_type": "code",
   "execution_count": 5,
   "metadata": {
    "collapsed": false
   },
   "outputs": [
    {
     "name": "stdout",
     "output_type": "stream",
     "text": [
      "Collection-Types.ipynb               Data-Visualization.ipynb             Review.ipynb\r\n",
      "Data-Types.ipynb                     File-IO.ipynb                        Standard-Library.ipynb\r\n",
      "Data-Types.pdf                       Flow-Control.ipynb                   Visualizations.ipynb\r\n",
      "Data-Types.tex                       IPython-Notebook-Introduction.ipynb  visualization.ppt\r\n"
     ]
    }
   ],
   "source": [
    "ls *"
   ]
  },
  {
   "cell_type": "markdown",
   "metadata": {},
   "source": [
    "`ls` means `list` and the `*` is what we call a `wildcard`. The `*` wildcard means match to everything. \n",
    "\n",
    "We can use it with some text to restrict what we display though. If we only want to see IPython notebooks we can do"
   ]
  },
  {
   "cell_type": "code",
   "execution_count": 7,
   "metadata": {
    "collapsed": false
   },
   "outputs": [
    {
     "name": "stdout",
     "output_type": "stream",
     "text": [
      "Collection-Types.ipynb               File-IO.ipynb                        Review.ipynb\r\n",
      "Data-Types.ipynb                     Flow-Control.ipynb                   Standard-Library.ipynb\r\n",
      "Data-Visualization.ipynb             IPython-Notebook-Introduction.ipynb  Visualizations.ipynb\r\n"
     ]
    }
   ],
   "source": [
    "ls *ipynb"
   ]
  },
  {
   "cell_type": "markdown",
   "metadata": {},
   "source": [
    "##But now how do we move out of our current folder?\n",
    "\n",
    "There are two ways to access a path: (i) absolute and (ii) relative.\n",
    "\n",
    "**Absolute paths** start from the *root* of the tree that we showed. On OS X or Windows that means the path will start with `/` or `C:\\`. We just string together the folder names with the path separator to get to our current path.\n",
    "\n",
    "**Note: I have this written for OS X, if you are using Windows change the `/` to `\\`\n",
    "\n",
    "We don't always have to use the root though, the `~` symbol stands for our user directory and we can start paths from there."
   ]
  },
  {
   "cell_type": "code",
   "execution_count": 8,
   "metadata": {
    "collapsed": false
   },
   "outputs": [
    {
     "name": "stdout",
     "output_type": "stream",
     "text": [
      "\u001b[1m\u001b[36mApplications\u001b[m\u001b[m/              \u001b[1m\u001b[36mUsers\u001b[m\u001b[m/                     \u001b[1m\u001b[36mdev\u001b[m\u001b[m/                       \u001b[1m\u001b[36mnet\u001b[m\u001b[m/                       \u001b[1m\u001b[35mtmp\u001b[m\u001b[m@\r\n",
      "\u001b[1m\u001b[36mLibrary\u001b[m\u001b[m/                   \u001b[1m\u001b[46mVolumes\u001b[m\u001b[m/                   \u001b[1m\u001b[35metc\u001b[m\u001b[m@                       \u001b[1m\u001b[36mopt\u001b[m\u001b[m/                       \u001b[1m\u001b[36musr\u001b[m\u001b[m/\r\n",
      "\u001b[1m\u001b[36mNetwork\u001b[m\u001b[m/                   \u001b[1m\u001b[36mbin\u001b[m\u001b[m/                       \u001b[1m\u001b[36mhome\u001b[m\u001b[m/                      \u001b[1m\u001b[36mprivate\u001b[m\u001b[m/                   \u001b[1m\u001b[35mvar\u001b[m\u001b[m@\r\n",
      "\u001b[1m\u001b[36mSystem\u001b[m\u001b[m/                    \u001b[1m\u001b[36mcores\u001b[m\u001b[m/                     installer.failurerequests  \u001b[1m\u001b[36msbin\u001b[m\u001b[m/\r\n"
     ]
    }
   ],
   "source": [
    "ls /"
   ]
  },
  {
   "cell_type": "code",
   "execution_count": 9,
   "metadata": {
    "collapsed": false
   },
   "outputs": [
    {
     "name": "stdout",
     "output_type": "stream",
     "text": [
      "\u001b[1m\u001b[36mAmaral\u001b[m\u001b[m/               \u001b[1m\u001b[36mCreative Cloud Files\u001b[m\u001b[m/ \u001b[1m\u001b[36mDropbox\u001b[m\u001b[m/              \u001b[1m\u001b[36mMovies\u001b[m\u001b[m/               \u001b[1m\u001b[36mPublic\u001b[m\u001b[m/\r\n",
      "\u001b[1m\u001b[36mApplications\u001b[m\u001b[m/         \u001b[1m\u001b[36mDesktop\u001b[m\u001b[m/              \u001b[1m\u001b[36mGoogle Drive\u001b[m\u001b[m/         \u001b[1m\u001b[36mMusic\u001b[m\u001b[m/                \u001b[1m\u001b[36mSites\u001b[m\u001b[m/\r\n",
      "\u001b[1m\u001b[36mBox Sync\u001b[m\u001b[m/             \u001b[1m\u001b[36mDocuments\u001b[m\u001b[m/            \u001b[1m\u001b[36mKellogg\u001b[m\u001b[m/              \u001b[1m\u001b[36mPictures\u001b[m\u001b[m/             \u001b[1m\u001b[36mscikit_learn_data\u001b[m\u001b[m/\r\n",
      "\u001b[1m\u001b[36mCoding\u001b[m\u001b[m/               \u001b[1m\u001b[36mDownloads\u001b[m\u001b[m/            \u001b[1m\u001b[36mLibrary\u001b[m\u001b[m/              \u001b[1m\u001b[36mProjects\u001b[m\u001b[m/\r\n"
     ]
    }
   ],
   "source": [
    "ls ~/"
   ]
  },
  {
   "cell_type": "code",
   "execution_count": 10,
   "metadata": {
    "collapsed": false
   },
   "outputs": [
    {
     "name": "stdout",
     "output_type": "stream",
     "text": [
      "\u001b[1m\u001b[36m$RECYCLE.BIN\u001b[m\u001b[m/    Thumbs.db        \u001b[1m\u001b[35m[C] Windows 8.1\u001b[m\u001b[m@\r\n"
     ]
    }
   ],
   "source": [
    "ls ~/Desktop"
   ]
  },
  {
   "cell_type": "markdown",
   "metadata": {},
   "source": [
    "**Relative paths** start from where you **currently** are. \n",
    "\n",
    "The symbol for your **current** directory is `.`\n",
    "\n",
    "The symbol for the **parent** directory (the folder above you) is `..`"
   ]
  },
  {
   "cell_type": "code",
   "execution_count": 11,
   "metadata": {
    "collapsed": false
   },
   "outputs": [
    {
     "name": "stdout",
     "output_type": "stream",
     "text": [
      "Collection-Types.ipynb               Data-Visualization.ipynb             Review.ipynb\r\n",
      "Data-Types.ipynb                     File-IO.ipynb                        Standard-Library.ipynb\r\n",
      "Data-Types.pdf                       Flow-Control.ipynb                   Visualizations.ipynb\r\n",
      "Data-Types.tex                       IPython-Notebook-Introduction.ipynb  visualization.ppt\r\n"
     ]
    }
   ],
   "source": [
    "ls ."
   ]
  },
  {
   "cell_type": "code",
   "execution_count": 12,
   "metadata": {
    "collapsed": false
   },
   "outputs": [
    {
     "name": "stdout",
     "output_type": "stream",
     "text": [
      "\u001b[1m\u001b[36mAdvanced-Programming\u001b[m\u001b[m/    \u001b[1m\u001b[36mHandouts\u001b[m\u001b[m/                \u001b[1m\u001b[36mProjects\u001b[m\u001b[m/                README.md                \u001b[1m\u001b[36mimages\u001b[m\u001b[m/\r\n",
      "\u001b[1m\u001b[36mBasic-Basics\u001b[m\u001b[m/            \u001b[1m\u001b[36mHomeworks\u001b[m\u001b[m/               \u001b[1m\u001b[36mPrologue\u001b[m\u001b[m/                \u001b[1m\u001b[36mSpecial-Topics\u001b[m\u001b[m/          \u001b[1m\u001b[36mstyles\u001b[m\u001b[m/\r\n",
      "\u001b[1m\u001b[36mData\u001b[m\u001b[m/                    LICENSE.md               \u001b[1m\u001b[36mPython-Basics\u001b[m\u001b[m/           \u001b[1m\u001b[36mStatistical-Programming\u001b[m\u001b[m/\r\n"
     ]
    }
   ],
   "source": [
    "ls ../"
   ]
  },
  {
   "cell_type": "markdown",
   "metadata": {},
   "source": [
    "Here is the structure of the `Bootcamp/` folder that we just downloaded.\n",
    "\n",
    "<img src='../images/bootcamp_structure.svg'></img>\n",
    "\n",
    "For this session we're going to use files that are in the `Data/` folder and right now we are using the `File-IO.ipynb` notebook. \n",
    "\n",
    "Show me what is in the `Data/` folder"
   ]
  },
  {
   "cell_type": "code",
   "execution_count": 14,
   "metadata": {
    "collapsed": false
   },
   "outputs": [],
   "source": []
  },
  {
   "cell_type": "markdown",
   "metadata": {},
   "source": [
    "#Now for reading files\n",
    "\n",
    "Inside the `Data/` folder we have another folder labelled `Roster/`. The `Roster` file is full of lots of small `.txt` files (just raw text). Each file looks something like this:\n",
    "\n",
    "    #This is a file that holds important personal information that should not be shared. You are being watched.\n",
    "\n",
    "    Name:\tAgatha A. Bailey\n",
    "    Date of Birth:\t1/10/75\n",
    "    Email Address:\tagatha.bailey@northwestern.edu\n",
    "    Department:\tEngineering\n",
    "    Height:\t6ft,0in\n",
    "    Weight:\t220lbs\n",
    "    Favorite Color:\tLime\n",
    "    Favorite Animal:\tTurtle\n",
    "    Zodiac Sign:\tJanuary\n",
    "    \n",
    "You have all of these files because you just got a new job as an administrator in a department at Northwestern University. Congratulations!\n",
    "\n",
    "Since you're the new administrator you want to calculate some basic properties of the student body population.\n",
    "\n",
    "When we work with **any** new data the first step is to **look** at it. Print parts of it. Make sure that you're familiar with all the data types before thinking about doing any real calculations with it.\n",
    "\n",
    "Now-how are we going to process this information? Especially because everything will be coming in as a string???"
   ]
  },
  {
   "cell_type": "markdown",
   "metadata": {},
   "source": [
    "# Thinking algorithmically\n",
    "\n",
    "Human brains are great at reducing the complexity of problems so that the answers seem obvious. \n",
    "If I tell you my birthday and ask you to tell me how old I am most of you can give me an answer in\n",
    "almost no time, but making your thought process explicit can be difficult. \n",
    "\n",
    "To do any programming \n",
    "or data analysis, perhaps the most important thing that you need to learn is how to break down a problem (that might seem really simple for you to do in your head) into tiny little steps such that \n",
    "you can teach a computer how to do it.\n",
    "\n",
    "Let's start with an exercise, how old am I?"
   ]
  },
  {
   "cell_type": "code",
   "execution_count": 2,
   "metadata": {
    "collapsed": false
   },
   "outputs": [],
   "source": [
    "### Here is my information\n",
    "birth_month = 2\n",
    "birth_day = 25\n",
    "birth_year = 1984\n",
    "\n",
    "current_month = 3\n",
    "current_day = 24\n",
    "current_year = 2015"
   ]
  },
  {
   "cell_type": "code",
   "execution_count": 4,
   "metadata": {
    "collapsed": false
   },
   "outputs": [],
   "source": [
    "##Place your code here to calculate the birthday\n",
    "\n",
    "##How old am I?\n",
    "# print(age)"
   ]
  },
  {
   "cell_type": "markdown",
   "metadata": {},
   "source": [
    "So now we see how have to break down all of these problems.\n",
    "\n",
    "Let's move onto actually reading a file."
   ]
  },
  {
   "cell_type": "code",
   "execution_count": 4,
   "metadata": {
    "collapsed": false
   },
   "outputs": [
    {
     "data": {
      "text/plain": [
       "<_io.TextIOWrapper name='../Data/Roster/Agatha_Bailey_798.txt' mode='r' encoding='UTF-8'>"
      ]
     },
     "execution_count": 4,
     "metadata": {},
     "output_type": "execute_result"
    }
   ],
   "source": [
    "myFile = open('../Data/Roster/Agatha_Bailey_798.txt', 'r')\n",
    "myFile"
   ]
  },
  {
   "cell_type": "code",
   "execution_count": 8,
   "metadata": {
    "collapsed": false
   },
   "outputs": [
    {
     "data": {
      "text/plain": [
       "'#This is a file that holds important personal information that should not be shared. You are being watched.\\n\\n\\n\\nName:\\tAgatha A. Bailey\\nDate of Birth:\\t1/10/75\\nEmail Address:\\tagatha.bailey@northwestern.edu\\nDepartment:\\tEngineering\\nHeight:\\t6ft,0in\\nWeight:\\t220lbs\\nFavorite Color:\\tLime\\nFavorite Animal:\\tTurtle\\nZodiac Sign:\\tJanuary\\n'"
      ]
     },
     "execution_count": 8,
     "metadata": {},
     "output_type": "execute_result"
    }
   ],
   "source": [
    "myFile = open('../Data/Roster/Agatha_Bailey_798.txt', 'r')\n",
    "Agatha = myFile.read()\n",
    "Agatha"
   ]
  },
  {
   "cell_type": "code",
   "execution_count": 9,
   "metadata": {
    "collapsed": false
   },
   "outputs": [
    {
     "name": "stdout",
     "output_type": "stream",
     "text": [
      "['#This is a file that holds important personal information that should not be shared. You are being watched.\\n', '\\n', '\\n', '\\n', 'Name:\\tAgatha A. Bailey\\n', 'Date of Birth:\\t1/10/75\\n', 'Email Address:\\tagatha.bailey@northwestern.edu\\n', 'Department:\\tEngineering\\n', 'Height:\\t6ft,0in\\n', 'Weight:\\t220lbs\\n', 'Favorite Color:\\tLime\\n', 'Favorite Animal:\\tTurtle\\n', 'Zodiac Sign:\\tJanuary\\n']\n"
     ]
    }
   ],
   "source": [
    "myFile = open('../Data/Roster/Agatha_Bailey_798.txt', 'r')\n",
    "Agatha = myFile.readlines()\n",
    "print(Agatha)"
   ]
  },
  {
   "cell_type": "code",
   "execution_count": 11,
   "metadata": {
    "collapsed": false
   },
   "outputs": [
    {
     "name": "stdout",
     "output_type": "stream",
     "text": [
      "<class 'list'>\n",
      "13\n",
      "<class 'str'>\n",
      "108\n",
      "#This is a file that holds important personal information that should not be shared. You are being watched.\n",
      "\n"
     ]
    }
   ],
   "source": [
    "print( type(Agatha) )\n",
    "print( len(Agatha) )\n",
    "print( type(Agatha[0]) )\n",
    "print( len(Agatha[0]) )\n",
    "print( Agatha[0] )"
   ]
  },
  {
   "cell_type": "markdown",
   "metadata": {},
   "source": [
    "# That's it! \n",
    "\n",
    "#You read a file and it is now a data type we understand!\n",
    "\n",
    "But let's see if you can tell me how old Agatha is, first we'll need to go from a line in that file to the variables that we used above to calculate someone's age"
   ]
  },
  {
   "cell_type": "code",
   "execution_count": 14,
   "metadata": {
    "collapsed": false
   },
   "outputs": [
    {
     "name": "stdout",
     "output_type": "stream",
     "text": [
      "Name:\tAgatha A. Bailey\n",
      "\n"
     ]
    }
   ],
   "source": [
    "for line in Agatha:\n",
    "    if 'Name' in line:\n",
    "        print(line)\n",
    "#         birthday_line = line\n",
    "# print(birthday_line)"
   ]
  },
  {
   "cell_type": "markdown",
   "metadata": {},
   "source": [
    "# A refresher on manipulating strings"
   ]
  },
  {
   "cell_type": "code",
   "execution_count": null,
   "metadata": {
    "collapsed": false
   },
   "outputs": [],
   "source": [
    "temporary_line = 'Adam,Hockenberry,02-25-1984\\n'"
   ]
  },
  {
   "cell_type": "code",
   "execution_count": null,
   "metadata": {
    "collapsed": false
   },
   "outputs": [],
   "source": [
    "print(temporary_line)"
   ]
  },
  {
   "cell_type": "code",
   "execution_count": null,
   "metadata": {
    "collapsed": true
   },
   "outputs": [],
   "source": [
    "print(temporary_line.strip('\\n'))"
   ]
  },
  {
   "cell_type": "code",
   "execution_count": null,
   "metadata": {
    "collapsed": true
   },
   "outputs": [],
   "source": [
    "print(temporary_line.split(','))"
   ]
  },
  {
   "cell_type": "code",
   "execution_count": null,
   "metadata": {
    "collapsed": true
   },
   "outputs": [],
   "source": [
    "print(temporary_line.strip('\\n').split(','))"
   ]
  },
  {
   "cell_type": "code",
   "execution_count": null,
   "metadata": {
    "collapsed": true
   },
   "outputs": [],
   "source": [
    "line_as_list = temporary_line.strip('\\n').split(',')\n",
    "print(line_as_list)"
   ]
  },
  {
   "cell_type": "code",
   "execution_count": null,
   "metadata": {
    "collapsed": false
   },
   "outputs": [],
   "source": [
    "DOB = line_as_list[2]\n",
    "print(DOB)"
   ]
  },
  {
   "cell_type": "code",
   "execution_count": null,
   "metadata": {
    "collapsed": false
   },
   "outputs": [],
   "source": [
    "birth_day = DOB.split('-')[0]\n",
    "birth_month = DOB.split('-')[1]\n",
    "birth_year = DOB.split('-')[2]\n",
    "print(birth_day, birth_month, birth_year)"
   ]
  },
  {
   "cell_type": "markdown",
   "metadata": {},
   "source": [
    "# Back to Agatha..."
   ]
  },
  {
   "cell_type": "code",
   "execution_count": null,
   "metadata": {
    "collapsed": false
   },
   "outputs": [],
   "source": [
    "for line in Agatha:\n",
    "    if 'Date of Birth' in line:\n",
    "        print(line)\n",
    "        birthday_line = line"
   ]
  },
  {
   "cell_type": "markdown",
   "metadata": {},
   "source": [
    "**Exercise:** apply the string manipulations that you just learned to get Agatha's birthday as variables that we can use"
   ]
  },
  {
   "cell_type": "code",
   "execution_count": null,
   "metadata": {
    "collapsed": false
   },
   "outputs": [],
   "source": [
    "# birth_day = \n",
    "# birth_month = \n",
    "# birth_year = "
   ]
  },
  {
   "cell_type": "markdown",
   "metadata": {},
   "source": [
    "# We have all the parts but they're pretty scattered right now, let's put it all in one place:"
   ]
  },
  {
   "cell_type": "code",
   "execution_count": null,
   "metadata": {
    "collapsed": false
   },
   "outputs": [],
   "source": [
    "current_month = 3\n",
    "current_day = 24\n",
    "current_year = 2015\n",
    "\n",
    "myFile = open('../Data/Roster/Agatha_Bailey_798.txt', 'rU')\n",
    "Agatha = myFile.readlines()\n",
    "for line in Agatha:\n",
    "    if 'Date of Birth' in line:\n",
    "        birthday_line = line\n",
    "###########################################################################\n",
    "###Paste your code to get birth_month, birth_day, and birth_year here!\n",
    "\n",
    "\n",
    "print(birth_month, birth_day, birth_year)\n",
    "\n",
    "###########################################################################\n",
    "#### Copy and paste the algorithm that you developed to calculate someones age here!\n",
    "\n",
    "        \n",
    "# print(age)"
   ]
  },
  {
   "cell_type": "markdown",
   "metadata": {},
   "source": [
    "# Writing files\n",
    "\n",
    "If you perform some calculation, there are a number of reasons why you should store these values somewhere. "
   ]
  },
  {
   "cell_type": "code",
   "execution_count": null,
   "metadata": {
    "collapsed": false
   },
   "outputs": [],
   "source": [
    "### Here is a dictionary of TA's names/ages\n",
    "names = ['Adam H', 'Peter W', 'Joao M', 'Hyojun L']\n",
    "ages = [21, 31, 24, 19]\n",
    "# for x in zip(names, ages):\n",
    "#     print(x)\n",
    "age_dictionary = dict(zip(names, ages))"
   ]
  },
  {
   "cell_type": "code",
   "execution_count": null,
   "metadata": {
    "collapsed": false
   },
   "outputs": [],
   "source": [
    "delimiter = ','\n",
    "\n",
    "# output_file = open('../Data/TA_ages.csv', 'w')\n",
    "\n",
    "# for name, age in age_dictionary.items():\n",
    "#     output_file.write(name + delimiter + age + '\\n')\n",
    "# #     print(name + delimiter + str(age) + '\\n', file=output_file)\n",
    "# #     output_file.write('{}{}{}\\n'.format(name, delimiter, age))\n",
    "# output_file.close()\n",
    "\n",
    "\n",
    "####Here is another way that should do the exact same thing\n",
    "# for name in age_dictionary.keys():\n",
    "#     output_file.write(name + delimiter + str(age_dictionary[name]) + '\\n')\n",
    "# output_file.close()\n",
    "\n",
    "####Here is yet another way that should also do the exact same thing\n",
    "# with open('../Data/TA_ages.csv', 'w') as output_file:\n",
    "#     for name, age in age_dictionary.items():\n",
    "#         output_file.write(name + delimiter + str(age) + '\\n')\n",
    "# output_file.close()\n",
    "    "
   ]
  },
  {
   "cell_type": "markdown",
   "metadata": {},
   "source": [
    "# What if we forgot someone?\n",
    "\n",
    "Take a deep breath. All is not yet lost.\n",
    "\n",
    "When opening files, we have used 'r' and 'w' for read and write but there is one more that I haven't told you about: 'a' for append."
   ]
  },
  {
   "cell_type": "code",
   "execution_count": null,
   "metadata": {
    "collapsed": false
   },
   "outputs": [],
   "source": [
    "new_age_dictionary = {'Adam P': 38, 'Nick T': 28}\n",
    "delimiter = ','\n",
    "\n",
    "output_file = open('../Data/TA_ages.csv', 'a')\n",
    "for name, age in new_age_dictionary.items():\n",
    "    output_file.write(name + delimiter + str(age) + '\\n')    \n",
    "output_file.close()"
   ]
  },
  {
   "cell_type": "markdown",
   "metadata": {},
   "source": [
    "# Final exercise\n",
    "Let's read that same file again but instead of calculating Agatha's age, I'd like to know her height in centimeters (it's for a collaboration with europeans). When you're finished, please write her name and her height into a new file that looks like this (it will be pretty boring for now, with only two lines):\n",
    "\n",
    "    Name, Height (cm)\n",
    "    Agathas_full_name, Agathas_height\n",
    "    \n",
    "\n",
    "\n",
    "***If you get stuck, remember to break the problem down into small steps:***\n",
    "    \n",
    "    1) Read the file and find the lines that we care about:\n",
    "        a) name_line\n",
    "        b) height_line\n",
    "    2) Strip those lines apart so that we have three variables:\n",
    "        a) name\n",
    "        b) height_component_feet\n",
    "        c) height_component_inches\n",
    "    3) Get her height in inches:\n",
    "        a) total_height_inches\n",
    "    4) Then convert it into centimeters\n",
    "    5) Write everything into a new file"
   ]
  },
  {
   "cell_type": "code",
   "execution_count": null,
   "metadata": {
    "collapsed": false
   },
   "outputs": [],
   "source": [
    "####Load this file\n",
    "input_file_name = '../Data/Roster/Agatha_Bailey_798.txt'\n",
    "\n",
    "########################\n",
    "###Place your code here:\n",
    "\n",
    "\n",
    "###Write data into this file\n",
    "output_file_name = '../Data/roster_heights.csv'"
   ]
  },
  {
   "cell_type": "code",
   "execution_count": null,
   "metadata": {
    "collapsed": false
   },
   "outputs": [],
   "source": []
  },
  {
   "cell_type": "code",
   "execution_count": 1,
   "metadata": {
    "collapsed": false
   },
   "outputs": [
    {
     "data": {
      "text/html": [
       "<style>\n",
       "    @font-face {\n",
       "        font-family: \"Computer Modern\";\n",
       "        color: #a0a0a0;\n",
       "        src: url('http://9dbb143991406a7c655e-aa5fcb0a5a4ec34cff238a2d56ca4144.r56.cf5.rackcdn.com/cmunss.otf');\n",
       "    }\n",
       "    @font-face {\n",
       "        font-family: \"Computer Modern\";\n",
       "        font-weight: bold;\n",
       "        color: #a0a0a0;\n",
       "        src: url('http://9dbb143991406a7c655e-aa5fcb0a5a4ec34cff238a2d56ca4144.r56.cf5.rackcdn.com/cmunsx.otf');\n",
       "    }\n",
       "    @font-face {\n",
       "        font-family: \"Computer Modern\";\n",
       "        font-style: oblique;\n",
       "        color: #a0a0a0;\n",
       "        src: url('http://9dbb143991406a7c655e-aa5fcb0a5a4ec34cff238a2d56ca4144.r56.cf5.rackcdn.com/cmunsi.otf');\n",
       "    }\n",
       "    @font-face {\n",
       "        font-family: \"Computer Modern\";\n",
       "        font-weight: bold;\n",
       "        font-style: oblique;\n",
       "        color: #a0a0a0;\n",
       "        src: url('http://9dbb143991406a7c655e-aa5fcb0a5a4ec34cff238a2d56ca4144.r56.cf5.rackcdn.com/cmunso.otf');\n",
       "    }\n",
       "    div.cell{\n",
       "        width:800px;\n",
       "        margin-left:16% !important;\n",
       "        margin-right:auto;\n",
       "    }\n",
       "    h1 {\n",
       "        font-family: Helvetica, serif;\n",
       "        color: #000;\n",
       "    }\n",
       "    h2 {\n",
       "        font-family: Helvetica, serif;\n",
       "        color: #000;\n",
       "    }\n",
       "    h3 {\n",
       "        font-family: Helvetica, serif;\n",
       "        color: #000;\n",
       "    }\n",
       "    h4{\n",
       "        margin-top:12px;\n",
       "        margin-bottom: 3px;\n",
       "        color: #000;\n",
       "       }\n",
       "    div.text_cell_render{\n",
       "        font-family: Computer Modern, \"Helvetica Neue\", Arial, Helvetica, Geneva, sans-serif;\n",
       "        line-height: 145%;\n",
       "        font-size: 130%;\n",
       "        width:800px;\n",
       "        margin-left:auto;\n",
       "        color: #a0a0a0;\n",
       "        margin-right:auto;\n",
       "    }\n",
       "    .CodeMirror{\n",
       "            font-family: \"Source Code Pro\", source-code-pro,Consolas, monospace;\n",
       "    }\n",
       "    .prompt{\n",
       "        display: None;\n",
       "    }\n",
       "    .text_cell_render h5 {\n",
       "        font-weight: 300;\n",
       "        font-size: 22pt;\n",
       "        color: #000;\n",
       "        font-style: italic;\n",
       "        margin-bottom: .5em;\n",
       "        margin-top: 0.5em;\n",
       "        display: block;\n",
       "    }\n",
       "    \n",
       "    .warning{\n",
       "        color: rgb( 240, 20, 20 )\n",
       "        }  \n",
       "    .rendered_html pre,\n",
       "    .rendered_html code {\n",
       "        color: #a0a0a0\n",
       "    }\n",
       "</style>\n",
       "<script>\n",
       "    MathJax.Hub.Config({\n",
       "                        TeX: {\n",
       "                           extensions: [\"AMSmath.js\"]\n",
       "                           },\n",
       "                tex2jax: {\n",
       "                    inlineMath: [ ['$','$'], [\"\\\\(\",\"\\\\)\"] ],\n",
       "                    displayMath: [ ['$$','$$'], [\"\\\\[\",\"\\\\]\"] ]\n",
       "                },\n",
       "                displayAlign: 'center', // Change this to 'center' to center equations.\n",
       "                \"HTML-CSS\": {\n",
       "                    styles: {'.MathJax_Display': {\"margin\": 4}}\n",
       "                }\n",
       "        });\n",
       "</script>\n"
      ],
      "text/plain": [
       "<IPython.core.display.HTML object>"
      ]
     },
     "execution_count": 1,
     "metadata": {},
     "output_type": "execute_result"
    }
   ],
   "source": [
    "from IPython.core.display import HTML\n",
    "\n",
    "def css_styling():\n",
    "    styles = open(\"../styles/presentation.css\", \"r\").read()\n",
    "    return HTML(styles)\n",
    "css_styling()"
   ]
  },
  {
   "cell_type": "code",
   "execution_count": null,
   "metadata": {
    "collapsed": false
   },
   "outputs": [],
   "source": []
  }
 ],
 "metadata": {
  "kernelspec": {
   "display_name": "Python 3",
   "language": "python",
   "name": "python3"
  },
  "language_info": {
   "codemirror_mode": {
    "name": "ipython",
    "version": 3
   },
   "file_extension": ".py",
   "mimetype": "text/x-python",
   "name": "python",
   "nbconvert_exporter": "python",
   "pygments_lexer": "ipython3",
   "version": "3.4.3"
  }
 },
 "nbformat": 4,
 "nbformat_minor": 0
}
