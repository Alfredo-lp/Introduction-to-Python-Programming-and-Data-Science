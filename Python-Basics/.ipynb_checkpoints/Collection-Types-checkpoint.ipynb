{
 "metadata": {
  "name": "",
  "signature": "sha256:158269990c47bcc0cd80dee5b275f47ecb18514d79cbfabe3bcfeec1b6aa4a0b"
 },
 "nbformat": 3,
 "nbformat_minor": 0,
 "worksheets": [
  {
   "cells": [
    {
     "cell_type": "markdown",
     "metadata": {},
     "source": [
      "#Collection Data Types\n",
      "\n",
      "We're moving on to the next four data types, these types aren't necessarily more complicated they just have a bit more to them since they can hold multiple elements unlike the integers, floats, booleans, and strings that we went over in the first lesson. This ability to hold multiple elements is why I've grouped them into one lesson and informally labelled them as `Collection` data types. Python doesn't actually make this distinction, but some other programming languages do.\n",
      "\n",
      "So the four data types we'll cover now are:\n",
      "\n",
      "* Lists\n",
      "* Tuples\n",
      "* Sets\n",
      "* Dictionaries\n",
      "\n",
      "But first, let's ease into this by working with our good old friend the `string` data type."
     ]
    },
    {
     "cell_type": "code",
     "collapsed": false,
     "input": [
      "introduction = \"Well, I thought that, maybe, you know, like, possibly?\""
     ],
     "language": "python",
     "metadata": {},
     "outputs": [],
     "prompt_number": 5
    },
    {
     "cell_type": "markdown",
     "metadata": {},
     "source": [
      "Now this introduction has a little lyrical flourish if you will, it has a large number of pauses as demonstrated by the commas. What if we wanted to get rid of them?\n",
      "\n",
      "In the last lesson we went over the `strip()` function to remove characters from the beginning or end of a string. Unfortunately, the commas are in the middle of the introduction so we can't use those. There is, however, another function that we can use to split apart a `string`. It is aptly labelled the `split()` function."
     ]
    },
    {
     "cell_type": "code",
     "collapsed": false,
     "input": [
      "introduction.split(',')"
     ],
     "language": "python",
     "metadata": {},
     "outputs": [
      {
       "metadata": {},
       "output_type": "pyout",
       "prompt_number": 6,
       "text": [
        "['Well', ' I thought that', ' maybe', ' you know', ' like', ' possibly?']"
       ]
      }
     ],
     "prompt_number": 6
    },
    {
     "cell_type": "markdown",
     "metadata": {},
     "source": [
      "**Whoa!** That isn't a string. \n",
      "\n",
      "Unlike the `strip()` function, the `split()` function returns a list. It is all of the individual elements in a string split apart based on the character we gave as input.\n",
      "\n",
      "We can tell that it's a list because it has multiple elements and it starts and ends with the brackets. The bracket symbol (`[]`) is what denotes a list."
     ]
    },
    {
     "cell_type": "markdown",
     "metadata": {},
     "source": [
      "#Lists\n",
      "\n",
      "A list is an ordered sequence of elements, with that order being specified by the order that the elements are in when the list is created or as elements are added to the list. We create a list by using the `[]` syntax.\n",
      "\n",
      "Let's go back to our imaginary pet store and list the types of pets that we carry."
     ]
    },
    {
     "cell_type": "code",
     "collapsed": false,
     "input": [
      "pets = ['dogs', 'cats', 'fish']\n",
      "pets"
     ],
     "language": "python",
     "metadata": {},
     "outputs": [
      {
       "metadata": {},
       "output_type": "pyout",
       "prompt_number": 9,
       "text": [
        "['dogs', 'cats', 'fish']"
       ]
      }
     ],
     "prompt_number": 9
    },
    {
     "cell_type": "markdown",
     "metadata": {},
     "source": [
      "Notice that the list printed the elements in the same order that they were in when we created the list.\n",
      "\n",
      "If we want to add an element to the list we can simply `append()` the element to the list."
     ]
    },
    {
     "cell_type": "code",
     "collapsed": false,
     "input": [
      "pets.append('hedgehog')\n",
      "\n",
      "pets"
     ],
     "language": "python",
     "metadata": {},
     "outputs": [
      {
       "metadata": {},
       "output_type": "pyout",
       "prompt_number": 10,
       "text": [
        "['dogs', 'cats', 'fish', 'hedgehog']"
       ]
      }
     ],
     "prompt_number": 10
    },
    {
     "cell_type": "markdown",
     "metadata": {},
     "source": [
      "Notice how when we used the `append()` function it changes the variable value. \n",
      "\n",
      "If we had multiple additional values that we wanted to add, we could append them individually. Or we could just `extend()` our list `pets` with the list of additional pets that our pet shop carries."
     ]
    },
    {
     "cell_type": "code",
     "collapsed": false,
     "input": [
      "pets.extend(['parrot', 'iguana'])\n",
      "\n",
      "pets"
     ],
     "language": "python",
     "metadata": {},
     "outputs": [
      {
       "metadata": {},
       "output_type": "pyout",
       "prompt_number": 11,
       "text": [
        "['dogs', 'cats', 'fish', 'hedgehog', 'parrot', 'iguana']"
       ]
      }
     ],
     "prompt_number": 11
    },
    {
     "cell_type": "markdown",
     "metadata": {},
     "source": [
      "We can also add two lists together."
     ]
    },
    {
     "cell_type": "code",
     "collapsed": false,
     "input": [
      "pets + ['chameleon', 'hamster']"
     ],
     "language": "python",
     "metadata": {},
     "outputs": [
      {
       "metadata": {},
       "output_type": "pyout",
       "prompt_number": 12,
       "text": [
        "['dogs',\n",
        " 'cats',\n",
        " 'fish',\n",
        " 'hedgehog',\n",
        " 'parrot',\n",
        " 'iguana',\n",
        " 'chameleon',\n",
        " 'hamster']"
       ]
      }
     ],
     "prompt_number": 12
    },
    {
     "cell_type": "markdown",
     "metadata": {},
     "source": [
      "But notice that the addition symbol doesn't change the value of `pets`"
     ]
    },
    {
     "cell_type": "code",
     "collapsed": false,
     "input": [
      "pets"
     ],
     "language": "python",
     "metadata": {},
     "outputs": [
      {
       "metadata": {},
       "output_type": "pyout",
       "prompt_number": 13,
       "text": [
        "['dogs', 'cats', 'fish', 'hedgehog', 'parrot', 'iguana']"
       ]
      }
     ],
     "prompt_number": 13
    },
    {
     "cell_type": "markdown",
     "metadata": {},
     "source": [
      "If we want to add to the list variable, we just set it equal to itself and the new list."
     ]
    },
    {
     "cell_type": "code",
     "collapsed": false,
     "input": [
      "pets = pets + ['chameleon', 'hamster']\n",
      "pets"
     ],
     "language": "python",
     "metadata": {},
     "outputs": [
      {
       "metadata": {},
       "output_type": "pyout",
       "prompt_number": 14,
       "text": [
        "['dogs',\n",
        " 'cats',\n",
        " 'fish',\n",
        " 'hedgehog',\n",
        " 'parrot',\n",
        " 'iguana',\n",
        " 'chameleon',\n",
        " 'hamster']"
       ]
      }
     ],
     "prompt_number": 14
    },
    {
     "cell_type": "markdown",
     "metadata": {},
     "source": [
      "And just like strings, we can use both of the additive math operators. I'll use a small number here to not flood the screen, but we can multiply the list too."
     ]
    },
    {
     "cell_type": "code",
     "collapsed": false,
     "input": [
      "print( pets * 2 )"
     ],
     "language": "python",
     "metadata": {},
     "outputs": [
      {
       "output_type": "stream",
       "stream": "stdout",
       "text": [
        "['dogs', 'cats', 'fish', 'hedgehog', 'parrot', 'iguana', 'chameleon', 'hamster', 'dogs', 'cats', 'fish', 'hedgehog', 'parrot', 'iguana', 'chameleon', 'hamster']\n"
       ]
      }
     ],
     "prompt_number": 18
    },
    {
     "cell_type": "markdown",
     "metadata": {},
     "source": [
      "But just like before subtraction and division don't work since it's not clear what should happen"
     ]
    },
    {
     "cell_type": "code",
     "collapsed": false,
     "input": [
      "pets - ['hamster']"
     ],
     "language": "python",
     "metadata": {},
     "outputs": [
      {
       "ename": "TypeError",
       "evalue": "unsupported operand type(s) for -: 'list' and 'list'",
       "output_type": "pyerr",
       "traceback": [
        "\u001b[0;31m---------------------------------------------------------------------------\u001b[0m\n\u001b[0;31mTypeError\u001b[0m                                 Traceback (most recent call last)",
        "\u001b[0;32m<ipython-input-19-9e725047e561>\u001b[0m in \u001b[0;36m<module>\u001b[0;34m()\u001b[0m\n\u001b[0;32m----> 1\u001b[0;31m \u001b[0mpets\u001b[0m \u001b[0;34m-\u001b[0m \u001b[0;34m[\u001b[0m\u001b[0;34m'hamster'\u001b[0m\u001b[0;34m]\u001b[0m\u001b[0;34m\u001b[0m\u001b[0m\n\u001b[0m",
        "\u001b[0;31mTypeError\u001b[0m: unsupported operand type(s) for -: 'list' and 'list'"
       ]
      }
     ],
     "prompt_number": 19
    },
    {
     "cell_type": "markdown",
     "metadata": {},
     "source": [
      "##Indexing and Slicing\n",
      "\n",
      "Since a list is made up of multiple elements, it makes sense that we will be able to get a single element by its index or a slice of elements. Remember to access an element by its index we do `variable[index]`."
     ]
    },
    {
     "cell_type": "code",
     "collapsed": false,
     "input": [
      "pets[1]"
     ],
     "language": "python",
     "metadata": {},
     "outputs": [
      {
       "metadata": {},
       "output_type": "pyout",
       "prompt_number": 20,
       "text": [
        "'cats'"
       ]
      }
     ],
     "prompt_number": 20
    },
    {
     "cell_type": "markdown",
     "metadata": {},
     "source": [
      "And then slicing is just `variable[start_index : stop_index : step]`"
     ]
    },
    {
     "cell_type": "code",
     "collapsed": false,
     "input": [
      "pets[1 : 3]"
     ],
     "language": "python",
     "metadata": {},
     "outputs": [
      {
       "metadata": {},
       "output_type": "pyout",
       "prompt_number": 21,
       "text": [
        "['cats', 'fish']"
       ]
      }
     ],
     "prompt_number": 21
    },
    {
     "cell_type": "markdown",
     "metadata": {},
     "source": [
      "Both of these operations work exactly like they did when we used strings.\n",
      "\n",
      "Now let's get to a big difference, `list` variables are **mutable**. That means that we can change one element of the list and this is the first type we've encountered that will let us do that. Let's say that we stopped selling cats because everyone just looks at them on the internet and now we carry sea monkeys. We could delete `cats` and append `sea monkeys` or we could just set the position that `cats` is in with `sea monkeys`."
     ]
    },
    {
     "cell_type": "code",
     "collapsed": false,
     "input": [
      "pets[1] = 'sea monkeys'\n",
      "pets"
     ],
     "language": "python",
     "metadata": {},
     "outputs": [
      {
       "metadata": {},
       "output_type": "pyout",
       "prompt_number": 22,
       "text": [
        "['dogs',\n",
        " 'sea monkeys',\n",
        " 'fish',\n",
        " 'hedgehog',\n",
        " 'parrot',\n",
        " 'iguana',\n",
        " 'chameleon',\n",
        " 'hamster']"
       ]
      }
     ],
     "prompt_number": 22
    },
    {
     "cell_type": "markdown",
     "metadata": {},
     "source": [
      "Here are two more ways we can change the contents of a list:\n",
      "\n",
      "* `insert()` - inserts a new element at the specified index\n",
      "* `pop()` - removes and returns the element at the specified index"
     ]
    },
    {
     "cell_type": "code",
     "collapsed": false,
     "input": [
      "pets.insert(5, 'burger')\n",
      "pets"
     ],
     "language": "python",
     "metadata": {},
     "outputs": [
      {
       "metadata": {},
       "output_type": "pyout",
       "prompt_number": 23,
       "text": [
        "['dogs',\n",
        " 'sea monkeys',\n",
        " 'fish',\n",
        " 'hedgehog',\n",
        " 'parrot',\n",
        " 'burger',\n",
        " 'iguana',\n",
        " 'chameleon',\n",
        " 'hamster']"
       ]
      }
     ],
     "prompt_number": 23
    },
    {
     "cell_type": "markdown",
     "metadata": {},
     "source": [
      "Wait, that's not a type of pet!"
     ]
    },
    {
     "cell_type": "code",
     "collapsed": false,
     "input": [
      "pets.pop(5)"
     ],
     "language": "python",
     "metadata": {},
     "outputs": [
      {
       "metadata": {},
       "output_type": "pyout",
       "prompt_number": 24,
       "text": [
        "'burger'"
       ]
      }
     ],
     "prompt_number": 24
    },
    {
     "cell_type": "code",
     "collapsed": false,
     "input": [
      "pets"
     ],
     "language": "python",
     "metadata": {},
     "outputs": [
      {
       "metadata": {},
       "output_type": "pyout",
       "prompt_number": 25,
       "text": [
        "['dogs',\n",
        " 'sea monkeys',\n",
        " 'fish',\n",
        " 'hedgehog',\n",
        " 'parrot',\n",
        " 'iguana',\n",
        " 'chameleon',\n",
        " 'hamster']"
       ]
      }
     ],
     "prompt_number": 25
    },
    {
     "cell_type": "markdown",
     "metadata": {},
     "source": [
      "So there we go, we can add elements to a list with:\n",
      "\n",
      "* `append`\n",
      "* `extend`\n",
      "* `insert`\n",
      "* `+`\n",
      "\n",
      "We can remove elements from a list with:\n",
      "\n",
      "* `pop()`\n",
      "* `del` (remember the example when we rescued the functionality of `int` in Basic Data Types?)\n",
      "\n",
      "If not I'll just remind you now, let's stop selling hamsters."
     ]
    },
    {
     "cell_type": "code",
     "collapsed": false,
     "input": [
      "del pets[-1]\n",
      "pets"
     ],
     "language": "python",
     "metadata": {},
     "outputs": [
      {
       "metadata": {},
       "output_type": "pyout",
       "prompt_number": 26,
       "text": [
        "['dogs', 'sea monkeys', 'fish', 'hedgehog', 'parrot', 'iguana', 'chameleon']"
       ]
      }
     ],
     "prompt_number": 26
    },
    {
     "cell_type": "markdown",
     "metadata": {},
     "source": [
      "Lists have other built-in methods too besides the maintenance functions of adding and deleting elements. For example, we can reverse a list"
     ]
    },
    {
     "cell_type": "code",
     "collapsed": false,
     "input": [
      "print('Initial pets', pets)\n",
      "pets.reverse()\n",
      "print('Reversed pets', pets)"
     ],
     "language": "python",
     "metadata": {},
     "outputs": [
      {
       "output_type": "stream",
       "stream": "stdout",
       "text": [
        "['dogs', 'sea monkeys', 'fish', 'hedgehog', 'parrot', 'iguana', 'chameleon']\n",
        "['chameleon', 'iguana', 'parrot', 'hedgehog', 'fish', 'sea monkeys', 'dogs']\n"
       ]
      }
     ],
     "prompt_number": 30
    },
    {
     "cell_type": "markdown",
     "metadata": {},
     "source": [
      "And we can also sort the list"
     ]
    },
    {
     "cell_type": "code",
     "collapsed": false,
     "input": [
      "print('Initial pets', pets)\n",
      "pets.sort()\n",
      "print('Sorted pets', pets)"
     ],
     "language": "python",
     "metadata": {},
     "outputs": [
      {
       "output_type": "stream",
       "stream": "stdout",
       "text": [
        "Initial pets ['chameleon', 'iguana', 'parrot', 'hedgehog', 'fish', 'sea monkeys', 'dogs']\n",
        "Sorted pets ['chameleon', 'dogs', 'fish', 'hedgehog', 'iguana', 'parrot', 'sea monkeys']\n"
       ]
      }
     ],
     "prompt_number": 31
    },
    {
     "cell_type": "markdown",
     "metadata": {},
     "source": [
      "Note that both of those operations worked directly on the variable itself and changed it. If we want to perform one of these functions without changing the variable's value we can use the `sorted()` and `reversed()` functions on the variable instead of the built-in `sort()` and `reverse()`. (Note that in order to make these statements print I have to cast it as a list. This is new in Python 3 and it isn't that important why this distinction is necessary right now)."
     ]
    },
    {
     "cell_type": "code",
     "collapsed": false,
     "input": [
      "print( \"Reversing the list\", list( reversed(pets) ) )\n",
      "\n",
      "print( \"The original list\", pets )"
     ],
     "language": "python",
     "metadata": {},
     "outputs": [
      {
       "output_type": "stream",
       "stream": "stdout",
       "text": [
        "Reversing the list ['sea monkeys', 'parrot', 'iguana', 'hedgehog', 'fish', 'dogs', 'chameleon']\n",
        "The original list ['chameleon', 'dogs', 'fish', 'hedgehog', 'iguana', 'parrot', 'sea monkeys']\n"
       ]
      }
     ],
     "prompt_number": 36
    },
    {
     "cell_type": "markdown",
     "metadata": {},
     "source": [
      "## Nesting"
     ]
    },
    {
     "cell_type": "code",
     "collapsed": false,
     "input": [],
     "language": "python",
     "metadata": {},
     "outputs": []
    },
    {
     "cell_type": "code",
     "collapsed": false,
     "input": [],
     "language": "python",
     "metadata": {},
     "outputs": []
    },
    {
     "cell_type": "code",
     "collapsed": false,
     "input": [],
     "language": "python",
     "metadata": {},
     "outputs": []
    },
    {
     "cell_type": "code",
     "collapsed": false,
     "input": [],
     "language": "python",
     "metadata": {},
     "outputs": []
    },
    {
     "cell_type": "markdown",
     "metadata": {},
     "source": [
      "# Tuples\n",
      "\n",
      "Tuples are a sequence of items that are immutable, we'll work on what that last word means after we show what one is"
     ]
    },
    {
     "cell_type": "code",
     "collapsed": false,
     "input": [
      "a_tuple = (1, \"two\", True)\n",
      "b_tuple = (\"one\", 2, False)\n",
      "\n",
      "print(a_tuple[2])\n",
      "\n",
      "print(b_tuple)"
     ],
     "language": "python",
     "metadata": {},
     "outputs": []
    },
    {
     "cell_type": "markdown",
     "metadata": {},
     "source": [
      "So what is this \"immutability\" thing?"
     ]
    },
    {
     "cell_type": "code",
     "collapsed": false,
     "input": [
      "a_tuple[2] = 'black'"
     ],
     "language": "python",
     "metadata": {},
     "outputs": []
    },
    {
     "cell_type": "code",
     "collapsed": false,
     "input": [
      "print(a_tuple + b_tuple)"
     ],
     "language": "python",
     "metadata": {},
     "outputs": []
    },
    {
     "cell_type": "markdown",
     "metadata": {},
     "source": [
      "### Socrative Question 7"
     ]
    },
    {
     "cell_type": "code",
     "collapsed": false,
     "input": [
      "c_tuple = a_tuple + ('red', )\n",
      "c_tuple"
     ],
     "language": "python",
     "metadata": {},
     "outputs": []
    },
    {
     "cell_type": "code",
     "collapsed": false,
     "input": [
      "a_list[0]"
     ],
     "language": "python",
     "metadata": {},
     "outputs": []
    },
    {
     "cell_type": "code",
     "collapsed": false,
     "input": [
      "a_list[1]"
     ],
     "language": "python",
     "metadata": {},
     "outputs": []
    },
    {
     "cell_type": "code",
     "collapsed": false,
     "input": [
      "a_list[2]"
     ],
     "language": "python",
     "metadata": {},
     "outputs": []
    },
    {
     "cell_type": "markdown",
     "metadata": {},
     "source": [
      "All of these objects also support accessing the sequence from the end instead of the beginning.\n",
      "\n",
      "To do that we use a negative number. "
     ]
    },
    {
     "cell_type": "raw",
     "metadata": {},
     "source": [
      "list.sort()\n",
      "list.insert()\n",
      "list.extend()\n",
      "list.append()\n",
      "list.pop()"
     ]
    },
    {
     "cell_type": "code",
     "collapsed": false,
     "input": [
      "a_list.count('Never')"
     ],
     "language": "python",
     "metadata": {},
     "outputs": []
    },
    {
     "cell_type": "code",
     "collapsed": false,
     "input": [
      "a_list.count('Trombone')"
     ],
     "language": "python",
     "metadata": {},
     "outputs": []
    },
    {
     "cell_type": "code",
     "collapsed": false,
     "input": [],
     "language": "python",
     "metadata": {},
     "outputs": []
    },
    {
     "cell_type": "code",
     "collapsed": false,
     "input": [
      "a_list.reverse()"
     ],
     "language": "python",
     "metadata": {},
     "outputs": []
    },
    {
     "cell_type": "code",
     "collapsed": false,
     "input": [
      "print(a_list)"
     ],
     "language": "python",
     "metadata": {},
     "outputs": []
    },
    {
     "cell_type": "code",
     "collapsed": false,
     "input": [
      "number_list = [5, 7, 2, 9]\n",
      "\n",
      "number_list.sort()"
     ],
     "language": "python",
     "metadata": {},
     "outputs": []
    },
    {
     "cell_type": "code",
     "collapsed": false,
     "input": [
      "print(number_list)"
     ],
     "language": "python",
     "metadata": {},
     "outputs": []
    },
    {
     "cell_type": "code",
     "collapsed": false,
     "input": [
      "sorted_numbers = sorted([5, 7, 2, 9])\n",
      "\n",
      "print(sorted_numbers)"
     ],
     "language": "python",
     "metadata": {},
     "outputs": []
    },
    {
     "cell_type": "markdown",
     "metadata": {},
     "source": [
      "And just a moment to touch on boolean operations lists"
     ]
    },
    {
     "cell_type": "code",
     "collapsed": false,
     "input": [
      "'party' and not []"
     ],
     "language": "python",
     "metadata": {},
     "outputs": []
    },
    {
     "cell_type": "code",
     "collapsed": false,
     "input": [
      "'party' and not ['cake', 'ice cream']"
     ],
     "language": "python",
     "metadata": {},
     "outputs": []
    },
    {
     "cell_type": "markdown",
     "metadata": {},
     "source": [
      "# Set operations\n",
      "\n",
      "A set variable is a unique list of elements"
     ]
    },
    {
     "cell_type": "code",
     "collapsed": false,
     "input": [
      "a_set = { \"1\", \"two\", \"1\", True }\n",
      "\n",
      "print(a_set)"
     ],
     "language": "python",
     "metadata": {},
     "outputs": []
    },
    {
     "cell_type": "code",
     "collapsed": false,
     "input": [
      "b_set = { \"one\", 2, False }\n",
      "\n",
      "a_set.update(b_set)\n",
      "print(a_set)"
     ],
     "language": "python",
     "metadata": {},
     "outputs": []
    },
    {
     "cell_type": "markdown",
     "metadata": {},
     "source": [
      "###Socrative Question 10"
     ]
    },
    {
     "cell_type": "code",
     "collapsed": false,
     "input": [
      "c_set = set([\"1\", 1])\n",
      "\n",
      "print( a_set.intersection(c_set))"
     ],
     "language": "python",
     "metadata": {},
     "outputs": []
    },
    {
     "cell_type": "code",
     "collapsed": false,
     "input": [
      "print(a_set.difference(c_set))"
     ],
     "language": "python",
     "metadata": {},
     "outputs": []
    },
    {
     "cell_type": "code",
     "collapsed": false,
     "input": [
      "a_set.union(c_set)"
     ],
     "language": "python",
     "metadata": {},
     "outputs": []
    },
    {
     "cell_type": "markdown",
     "metadata": {},
     "source": [
      "# Transformations"
     ]
    },
    {
     "cell_type": "code",
     "collapsed": false,
     "input": [
      "set_from_list = list(a_set)\n",
      "\n",
      "print(set_from_list)\n",
      "print( type(set_from_list) )"
     ],
     "language": "python",
     "metadata": {},
     "outputs": []
    },
    {
     "cell_type": "code",
     "collapsed": false,
     "input": [
      "set_from_list.append('fools!')\n",
      "set_from_list += ['fools!']\n",
      "set_from_list"
     ],
     "language": "python",
     "metadata": {},
     "outputs": []
    },
    {
     "cell_type": "code",
     "collapsed": false,
     "input": [
      "tuple_from_list = tuple( set_from_list )\n",
      "\n",
      "print(tuple_from_list)\n",
      "print( type(tuple_from_list) )"
     ],
     "language": "python",
     "metadata": {},
     "outputs": []
    },
    {
     "cell_type": "code",
     "collapsed": false,
     "input": [
      "tuple_from_list.append('We can dance all night!')"
     ],
     "language": "python",
     "metadata": {},
     "outputs": []
    },
    {
     "cell_type": "code",
     "collapsed": false,
     "input": [
      "set_from_tuple = set(tuple_from_list)\n",
      "\n",
      "print( type(set_from_tuple) )\n",
      "print( set_from_tuple )"
     ],
     "language": "python",
     "metadata": {},
     "outputs": []
    },
    {
     "cell_type": "markdown",
     "metadata": {},
     "source": [
      "# Dictionaries\n",
      "\n",
      "Dictionaries are wonderful objects! They are a data type that holds key-value pairs. Now what does that mean"
     ]
    },
    {
     "cell_type": "code",
     "collapsed": false,
     "input": [
      "a_dict = { \"a\": 1, \"z\": \"two\", \"c\": True }\n",
      "print( a_dict )"
     ],
     "language": "python",
     "metadata": {},
     "outputs": []
    },
    {
     "cell_type": "markdown",
     "metadata": {},
     "source": [
      "A-ha! So the structure of the variable is `{key : value}`"
     ]
    },
    {
     "cell_type": "code",
     "collapsed": false,
     "input": [
      "a_dict['q'] = 'few'\n",
      "print(a_dict)"
     ],
     "language": "python",
     "metadata": {},
     "outputs": []
    },
    {
     "cell_type": "markdown",
     "metadata": {},
     "source": [
      "### Socrative Question 11"
     ]
    },
    {
     "cell_type": "markdown",
     "metadata": {},
     "source": [
      "### Socrative Question 12"
     ]
    },
    {
     "cell_type": "code",
     "collapsed": false,
     "input": [
      "b_dict = { 1: \"one\", 2: 2, 3: False }\n",
      "\n",
      "a_dict.update(b_dict)\n",
      "print(a_dict)"
     ],
     "language": "python",
     "metadata": {},
     "outputs": []
    },
    {
     "cell_type": "markdown",
     "metadata": {},
     "source": [
      "Dictionaries are very powerful, as we're seeing. But a few more things"
     ]
    },
    {
     "cell_type": "code",
     "collapsed": false,
     "input": [
      "b_dict['really?'] = ['cats', 'humins', 'puppies!']\n",
      "b_dict"
     ],
     "language": "python",
     "metadata": {},
     "outputs": []
    },
    {
     "cell_type": "code",
     "collapsed": false,
     "input": [
      "b_dict['really really?'] = {'really?': ['frenchies', 'terriers', 'pugs']}\n",
      "b_dict"
     ],
     "language": "python",
     "metadata": {},
     "outputs": []
    },
    {
     "cell_type": "markdown",
     "metadata": {},
     "source": [
      "We can access elements at any depth just by stacking the correct indexes together"
     ]
    },
    {
     "cell_type": "code",
     "collapsed": false,
     "input": [
      "b_dict['really really?']['really?'][0]"
     ],
     "language": "python",
     "metadata": {},
     "outputs": []
    },
    {
     "cell_type": "code",
     "collapsed": false,
     "input": [
      "b_dict['really really?']['really?'][0:2]"
     ],
     "language": "python",
     "metadata": {},
     "outputs": []
    },
    {
     "cell_type": "code",
     "collapsed": false,
     "input": [
      "b_dict['really really?']['for real'] = 'unicorns'\n",
      "b_dict"
     ],
     "language": "python",
     "metadata": {},
     "outputs": []
    },
    {
     "cell_type": "markdown",
     "metadata": {},
     "source": [
      "Now let's look at specific dictionary methods"
     ]
    },
    {
     "cell_type": "raw",
     "metadata": {},
     "source": [
      "dict.keys()\n",
      "dict.values()\n",
      "dict.items()"
     ]
    },
    {
     "cell_type": "code",
     "collapsed": false,
     "input": [
      "b_dict.keys()"
     ],
     "language": "python",
     "metadata": {},
     "outputs": []
    },
    {
     "cell_type": "code",
     "collapsed": false,
     "input": [
      "type(b_dict.keys())"
     ],
     "language": "python",
     "metadata": {},
     "outputs": []
    },
    {
     "cell_type": "code",
     "collapsed": false,
     "input": [
      "b_dict.values()"
     ],
     "language": "python",
     "metadata": {},
     "outputs": []
    },
    {
     "cell_type": "code",
     "collapsed": false,
     "input": [
      "b_dict.items()"
     ],
     "language": "python",
     "metadata": {},
     "outputs": []
    },
    {
     "cell_type": "markdown",
     "metadata": {},
     "source": [
      "# Now let's talk about copying\n",
      "\n",
      "Let's say that I'm running a party supplies company that makes pre-made packages of supplies"
     ]
    },
    {
     "cell_type": "code",
     "collapsed": false,
     "input": [
      "party_supplies = ['hats', 'cups', 'games', 'soda']"
     ],
     "language": "python",
     "metadata": {},
     "outputs": []
    },
    {
     "cell_type": "code",
     "collapsed": false,
     "input": [
      "kids_party = party_supplies\n",
      "#Now let's add come cake and ice cream for the little kids\n",
      "kids_party += ['cake', 'ice cream']\n",
      "kids_party"
     ],
     "language": "python",
     "metadata": {},
     "outputs": []
    },
    {
     "cell_type": "markdown",
     "metadata": {},
     "source": [
      "**Great!** Now let's make a package for adults "
     ]
    },
    {
     "cell_type": "code",
     "collapsed": false,
     "input": [
      "adults_party = party_supplies"
     ],
     "language": "python",
     "metadata": {},
     "outputs": []
    },
    {
     "cell_type": "markdown",
     "metadata": {},
     "source": [
      "Adults probably want to drink beer instead of soda. Let's change that."
     ]
    },
    {
     "cell_type": "code",
     "collapsed": false,
     "input": [],
     "language": "python",
     "metadata": {},
     "outputs": []
    },
    {
     "cell_type": "markdown",
     "metadata": {},
     "source": [
      "????? Oh no!"
     ]
    },
    {
     "cell_type": "code",
     "collapsed": false,
     "input": [
      "kids_party"
     ],
     "language": "python",
     "metadata": {},
     "outputs": []
    },
    {
     "cell_type": "markdown",
     "metadata": {},
     "source": [
      "**CRAP**"
     ]
    },
    {
     "cell_type": "markdown",
     "metadata": {},
     "source": [
      "So when we just set one variable equal to another, we're really just passing a reference to that value not copying it.\n",
      "\n",
      "This applies to dictionaries too."
     ]
    },
    {
     "cell_type": "code",
     "collapsed": false,
     "input": [
      "first = {'parties': 2, 'colors': ['yellow', 'blue']}\n",
      "second = first\n",
      "\n",
      "second['colors'] = None"
     ],
     "language": "python",
     "metadata": {},
     "outputs": []
    },
    {
     "cell_type": "code",
     "collapsed": false,
     "input": [
      "second"
     ],
     "language": "python",
     "metadata": {},
     "outputs": []
    },
    {
     "cell_type": "code",
     "collapsed": false,
     "input": [
      "first"
     ],
     "language": "python",
     "metadata": {},
     "outputs": []
    },
    {
     "cell_type": "markdown",
     "metadata": {},
     "source": [
      "When we want to copy instead of pass a reference we must use copy"
     ]
    },
    {
     "cell_type": "code",
     "collapsed": false,
     "input": [
      "from copy import copy\n",
      "\n",
      "party_supplies = ['hats', 'cups', 'games', 'soda']\n",
      "\n",
      "kids_party = copy(party_supplies)\n",
      "\n",
      "kids_party += ['cake', 'ice cream']"
     ],
     "language": "python",
     "metadata": {},
     "outputs": []
    },
    {
     "cell_type": "code",
     "collapsed": false,
     "input": [
      "party_supplies"
     ],
     "language": "python",
     "metadata": {},
     "outputs": []
    },
    {
     "cell_type": "code",
     "collapsed": false,
     "input": [
      "kids_party"
     ],
     "language": "python",
     "metadata": {},
     "outputs": []
    },
    {
     "cell_type": "markdown",
     "metadata": {},
     "source": [
      "#Exercises"
     ]
    },
    {
     "cell_type": "code",
     "collapsed": false,
     "input": [],
     "language": "python",
     "metadata": {},
     "outputs": [],
     "prompt_number": 1
    },
    {
     "cell_type": "markdown",
     "metadata": {},
     "source": [
      "Exercises completed!"
     ]
    },
    {
     "cell_type": "code",
     "collapsed": false,
     "input": [
      "from IPython.core.display import HTML\n",
      "\n",
      "\n",
      "def css_styling():\n",
      "    styles = open(\"../styles/custom.css\", \"r\").read()\n",
      "    return HTML(styles)\n",
      "css_styling()"
     ],
     "language": "python",
     "metadata": {},
     "outputs": [
      {
       "html": [
        "<style>\n",
        "    @font-face {\n",
        "        font-family: \"Computer Modern\";\n",
        "        src: url('http://9dbb143991406a7c655e-aa5fcb0a5a4ec34cff238a2d56ca4144.r56.cf5.rackcdn.com/cmunss.otf');\n",
        "    }\n",
        "    @font-face {\n",
        "        font-family: \"Computer Modern\";\n",
        "        font-weight: bold;\n",
        "        src: url('http://9dbb143991406a7c655e-aa5fcb0a5a4ec34cff238a2d56ca4144.r56.cf5.rackcdn.com/cmunsx.otf');\n",
        "    }\n",
        "    @font-face {\n",
        "        font-family: \"Computer Modern\";\n",
        "        font-style: oblique;\n",
        "        src: url('http://9dbb143991406a7c655e-aa5fcb0a5a4ec34cff238a2d56ca4144.r56.cf5.rackcdn.com/cmunsi.otf');\n",
        "    }\n",
        "    @font-face {\n",
        "        font-family: \"Computer Modern\";\n",
        "        font-weight: bold;\n",
        "        font-style: oblique;\n",
        "        src: url('http://9dbb143991406a7c655e-aa5fcb0a5a4ec34cff238a2d56ca4144.r56.cf5.rackcdn.com/cmunso.otf');\n",
        "    }\n",
        "    div.cell{\n",
        "        width:800px;\n",
        "        margin-left:16% !important;\n",
        "        margin-right:auto;\n",
        "    }\n",
        "    h1 {\n",
        "        font-family: Helvetica, serif;\n",
        "    }\n",
        "    h4{\n",
        "        margin-top:12px;\n",
        "        margin-bottom: 3px;\n",
        "       }\n",
        "    div.text_cell_render{\n",
        "        font-family: Computer Modern, \"Helvetica Neue\", Arial, Helvetica, Geneva, sans-serif;\n",
        "        line-height: 145%;\n",
        "        font-size: 130%;\n",
        "        width:800px;\n",
        "        margin-left:auto;\n",
        "        margin-right:auto;\n",
        "    }\n",
        "    .CodeMirror{\n",
        "            font-family: \"Source Code Pro\", source-code-pro,Consolas, monospace;\n",
        "    }\n",
        "    .prompt{\n",
        "        display: None;\n",
        "    }\n",
        "    .text_cell_render h5 {\n",
        "        font-weight: 300;\n",
        "        font-size: 22pt;\n",
        "        color: #4057A1;\n",
        "        font-style: italic;\n",
        "        margin-bottom: .5em;\n",
        "        margin-top: 0.5em;\n",
        "        display: block;\n",
        "    }\n",
        "    \n",
        "    .warning{\n",
        "        color: rgb( 240, 20, 20 )\n",
        "        }  \n",
        "</style>\n",
        "<script>\n",
        "    MathJax.Hub.Config({\n",
        "                        TeX: {\n",
        "                           extensions: [\"AMSmath.js\"]\n",
        "                           },\n",
        "                tex2jax: {\n",
        "                    inlineMath: [ ['$','$'], [\"\\\\(\",\"\\\\)\"] ],\n",
        "                    displayMath: [ ['$$','$$'], [\"\\\\[\",\"\\\\]\"] ]\n",
        "                },\n",
        "                displayAlign: 'center', // Change this to 'center' to center equations.\n",
        "                \"HTML-CSS\": {\n",
        "                    styles: {'.MathJax_Display': {\"margin\": 4}}\n",
        "                }\n",
        "        });\n",
        "</script>\n"
       ],
       "metadata": {},
       "output_type": "pyout",
       "prompt_number": 3,
       "text": [
        "<IPython.core.display.HTML at 0x1062e8ac8>"
       ]
      }
     ],
     "prompt_number": 3
    }
   ],
   "metadata": {}
  }
 ]
}