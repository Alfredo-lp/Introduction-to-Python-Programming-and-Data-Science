{
 "cells": [
  {
   "cell_type": "code",
   "execution_count": 3,
   "metadata": {
    "collapsed": false
   },
   "outputs": [
    {
     "data": {
      "text/html": [
       "<style>\n",
       "    @font-face {\n",
       "        font-family: \"Computer Modern\";\n",
       "        src: url('http://9dbb143991406a7c655e-aa5fcb0a5a4ec34cff238a2d56ca4144.r56.cf5.rackcdn.com/cmunss.otf');\n",
       "    }\n",
       "    @font-face {\n",
       "        font-family: \"Computer Modern\";\n",
       "        font-weight: bold;\n",
       "        src: url('http://9dbb143991406a7c655e-aa5fcb0a5a4ec34cff238a2d56ca4144.r56.cf5.rackcdn.com/cmunsx.otf');\n",
       "    }\n",
       "    @font-face {\n",
       "        font-family: \"Computer Modern\";\n",
       "        font-style: oblique;\n",
       "        src: url('http://9dbb143991406a7c655e-aa5fcb0a5a4ec34cff238a2d56ca4144.r56.cf5.rackcdn.com/cmunsi.otf');\n",
       "    }\n",
       "    @font-face {\n",
       "        font-family: \"Computer Modern\";\n",
       "        font-weight: bold;\n",
       "        font-style: oblique;\n",
       "        src: url('http://9dbb143991406a7c655e-aa5fcb0a5a4ec34cff238a2d56ca4144.r56.cf5.rackcdn.com/cmunso.otf');\n",
       "    }\n",
       "    h1 {\n",
       "        font-family: Helvetica, serif;\n",
       "    }\n",
       "    h4{\n",
       "        margin-top:12px;\n",
       "        margin-bottom: 3px;\n",
       "       }\n",
       "    div.text_cell_render{\n",
       "        font-family: Computer Modern, \"Helvetica Neue\", Arial, Helvetica, Geneva, sans-serif;\n",
       "        line-height: 145%;\n",
       "        font-size: 130%;\n",
       "        margin-left:auto;\n",
       "        margin-right:auto;\n",
       "    }\n",
       "    .CodeMirror{\n",
       "            font-family: \"Source Code Pro\", source-code-pro,Consolas, monospace;\n",
       "    }\n",
       "    .text_cell_render h5 {\n",
       "        font-weight: 300;\n",
       "        font-size: 22pt;\n",
       "        color: #4057A1;\n",
       "        font-style: italic;\n",
       "        margin-bottom: .5em;\n",
       "        margin-top: 0.5em;\n",
       "        display: block;\n",
       "    }\n",
       "    \n",
       "    .warning{\n",
       "        color: rgb( 240, 20, 20 )\n",
       "        }  \n",
       "</style>\n",
       "<script>\n",
       "    MathJax.Hub.Config({\n",
       "                        TeX: {\n",
       "                           extensions: [\"AMSmath.js\"]\n",
       "                           },\n",
       "                tex2jax: {\n",
       "                    inlineMath: [ ['$','$'], [\"\\\\(\",\"\\\\)\"] ],\n",
       "                    displayMath: [ ['$$','$$'], [\"\\\\[\",\"\\\\]\"] ]\n",
       "                },\n",
       "                displayAlign: 'center', // Change this to 'center' to center equations.\n",
       "                \"HTML-CSS\": {\n",
       "                    styles: {'.MathJax_Display': {\"margin\": 4}}\n",
       "                }\n",
       "        });\n",
       "</script>\n"
      ],
      "text/plain": [
       "<IPython.core.display.HTML object>"
      ]
     },
     "execution_count": 3,
     "metadata": {},
     "output_type": "execute_result"
    }
   ],
   "source": [
    "from IPython.core.display import HTML\n",
    "from IPython.lib.display import YouTubeVideo\n",
    "\n",
    "def css_styling():\n",
    "    styles = open(\"../styles/custom.css\", \"r\").read()\n",
    "    return HTML(styles)\n",
    "css_styling()"
   ]
  },
  {
   "cell_type": "code",
   "execution_count": 9,
   "metadata": {
    "collapsed": true
   },
   "outputs": [],
   "source": [
    "import glob\n",
    "import datetime\n",
    "import string"
   ]
  },
  {
   "cell_type": "markdown",
   "metadata": {},
   "source": [
    "# Synopsis\n",
    "\n",
    "In this unit we will learn that:\n",
    "\n",
    "1. **Dictionaries** are **mutable unordered** collections whose elements are accessed using **keys**.\n",
    "\n",
    "    1. Dictionaries are created using the `{}` syntax.\n",
    "    \n",
    "    2. Dictionaries are composed of `key, value` pairs.\n",
    "\n",
    "    3. Each `key, value` pair is called an *item*.\n",
    "    \n",
    "    4. `Items` can be added to a dictionary using the built-in method `update()`.\n",
    "    \n",
    "    5. `Items` can be changed using instanciation.\n",
    "    \n",
    "    6. `Items` can be removed usind the functions `del` and the method `pop()`.\n",
    "    \n",
    "2. Dictionaries allow nesting with all data types.\n",
    "\n",
    "3. We can access all `items`, `keys`, and `values` in a dictionary."
   ]
  },
  {
   "cell_type": "markdown",
   "metadata": {},
   "source": [
    "+++"
   ]
  },
  {
   "cell_type": "markdown",
   "metadata": {
    "collapsed": true
   },
   "source": [
    "## Dictionaries\n",
    "\n",
    "A Python dictionary is an extraordinarily useful data type that expands on the possibilities offered by lists.  In a list one keeps track of the elements by an index that must be an integer.  **Dictionaries keep track of elements by `key`!**\n",
    "\n",
    "Each element in a dictionary is an **item**, and every `item` has both a **key** and a **value**. You use the `key` to \"look up\" the `value`. This concept is just like if we wanted to look up the meaning of a word in a real dictionary. Also, just like in a real dictionary, it means that all of the `keys` **must** be unique. If we had a `key` multiple times, then we wouldn't know where to go look up its `value`. Remember `sets`?  **The `keys` in a dictionary form a set!**\n",
    "\n",
    "The syntax to create a dictionary also uses the syntax`{}`. If we are initializing a dictionary, we enter `key-value` pairs separated by commas; for each `item`, the key is separated from the value by a colon.\n",
    "\n",
    "`a_dict = {key : value, another_key : another_value}`\n"
   ]
  },
  {
   "cell_type": "markdown",
   "metadata": {},
   "source": [
    "## What are dictionaries good for?\n",
    "\n",
    "Great that you would ask! Recall the project involving all the student records?  Dictionaries are **the** data type to deal with records.  What are `Date of Birth` and `Age` if not keys? \n",
    "\n",
    "Let's retrieve our code so that we can start seeing how great dictionaries are."
   ]
  },
  {
   "cell_type": "code",
   "execution_count": 5,
   "metadata": {
    "collapsed": true
   },
   "outputs": [],
   "source": [
    "def find_student_records(directory):\n",
    "    \"\"\"\n",
    "    Return all roster filenames in a directory\n",
    "    \n",
    "    input:\n",
    "        directory - str, Directory that contains the roster files\n",
    "    output:\n",
    "        filenames - list, List of roster filenames in directory\n",
    "    \"\"\"\n",
    "    filenames = glob.glob( directory + '/*.txt' )\n",
    "    \n",
    "    return filenames"
   ]
  },
  {
   "cell_type": "code",
   "execution_count": 22,
   "metadata": {
    "collapsed": true
   },
   "outputs": [],
   "source": [
    "def string2tuple_dob(dob_string):\n",
    "    '''\n",
    "    Takes a date string of \"M/D/YY\" and converts it to a tuple with month, day, and year as integers\n",
    "\n",
    "    input:\n",
    "        * dob_string - str, birthday string of form \"M/D/YY\"\n",
    "    output:\n",
    "        * dob - tuple, (\"month\", \"day\", \"year\")\n",
    "    '''\n",
    "    month, day, year = dob_string.split('/')\n",
    "    month = int(month)\n",
    "    day = int(day)\n",
    "    year = int(year) + 1900\n",
    "    dob = (month, day, year)\n",
    "    \n",
    "    return dob\n",
    "\n",
    "\n",
    "def parse_student_record(filename):\n",
    "    '''\n",
    "    Parses a student record file into a list of tuples\n",
    "    \n",
    "    input:\n",
    "        filename - str, path to the file\n",
    "    output:\n",
    "        data - list of tuples, student attribute data\n",
    "    '''\n",
    "    data = []\n",
    "    file_in = open(filename, u\"r\")\n",
    "    \n",
    "    for line in file_in.readlines():\n",
    "        if line[0] == '#' or line in string.whitespace:\n",
    "            continue\n",
    "        else:\n",
    "            field, value = line.split(':')\n",
    "            field = field.strip()\n",
    "            value = value.strip()\n",
    "            if field == 'Date of Birth':\n",
    "                value = string2tuple_dob( value )\n",
    "            data.append( (field, value) )\n",
    "            \n",
    "    return data\n"
   ]
  },
  {
   "cell_type": "code",
   "execution_count": 24,
   "metadata": {
    "collapsed": false
   },
   "outputs": [
    {
     "name": "stdout",
     "output_type": "stream",
     "text": [
      "['../Data/Roster/Agatha_Bailey_798.txt', '../Data/Roster/Agatha_Brooks_78.txt']\n"
     ]
    }
   ],
   "source": [
    "filenames = find_student_records('../Data/Roster/')\n",
    "print(filenames[:2])\n",
    "data = parse_student_record(filenames[0])"
   ]
  },
  {
   "cell_type": "markdown",
   "metadata": {},
   "source": [
    "The list of tuples that we create for each student contains all information we have available. However, it is not particular easy to access any particular field.  Imagine we want to find the `Department` where `Agatha Brooks` studies. We need to find the index of the tuple for which the first element equals `Department` and then print the second element of that tuple."
   ]
  },
  {
   "cell_type": "code",
   "execution_count": 26,
   "metadata": {
    "collapsed": false
   },
   "outputs": [
    {
     "name": "stdout",
     "output_type": "stream",
     "text": [
      "Engineering\n"
     ]
    }
   ],
   "source": [
    "for i in range( len(data) ):\n",
    "    if data[i][0] == 'Department':\n",
    "        print( data[i][1])\n",
    "        break"
   ]
  },
  {
   "cell_type": "markdown",
   "metadata": {},
   "source": [
    "Let's transform our list of tuple into a dictionary and check how much easier it is to retrieve the same information."
   ]
  },
  {
   "cell_type": "code",
   "execution_count": 29,
   "metadata": {
    "collapsed": false
   },
   "outputs": [
    {
     "name": "stdout",
     "output_type": "stream",
     "text": [
      "{'Weight': '220lbs', 'Email Address': 'agatha.bailey@northwestern.edu', 'Date of Birth': (1, 10, 1975), 'Department': 'Engineering', 'Zodiac Sign': 'January', 'Favorite Color': 'Lime', 'Name': 'Agatha A. Bailey', 'Favorite Animal': 'Turtle', 'Height': '6ft,0in'}\n"
     ]
    }
   ],
   "source": [
    "data_dict = {}\n",
    "for i in range( len(data) ):\n",
    "    data_dict[data[i][0]] = data[i][1]\n",
    "\n",
    "print(data_dict)"
   ]
  },
  {
   "cell_type": "code",
   "execution_count": 28,
   "metadata": {
    "collapsed": false
   },
   "outputs": [
    {
     "data": {
      "text/plain": [
       "'Engineering'"
      ]
     },
     "execution_count": 28,
     "metadata": {},
     "output_type": "execute_result"
    }
   ],
   "source": [
    "data_dict['Department']"
   ]
  },
  {
   "cell_type": "code",
   "execution_count": 30,
   "metadata": {
    "collapsed": false
   },
   "outputs": [
    {
     "data": {
      "text/plain": [
       "'Lime'"
      ]
     },
     "execution_count": 30,
     "metadata": {},
     "output_type": "execute_result"
    }
   ],
   "source": [
    "data_dict['Favorite Color']"
   ]
  },
  {
   "cell_type": "markdown",
   "metadata": {},
   "source": [
    "Let's look into the properties of dictionaries.  Dictionaries are **mutable**. You can change the value of an element by re-assigning its value.\n",
    "\n",
    "Dictionaries are **unordered**. If you print the same dictionary twice, the order in which `items` will be printed does not need to be the same. \n",
    "\n",
    "If we want to add a new `key-value` pair to the dictionary, we access a new `key` and assign it a value. If we want to add multiple `items` to a dictionary, we must use the built-in method `update()`."
   ]
  },
  {
   "cell_type": "code",
   "execution_count": 36,
   "metadata": {
    "collapsed": false
   },
   "outputs": [
    {
     "name": "stdout",
     "output_type": "stream",
     "text": [
      "{'Email Address': 'agatha.bailey@northwestern.edu', 'Date of Birth': (1, 10, 1975), 'Favorite Sport': 'Soccer', 'Favorite Color': 'Lime', 'Weight': '220lbs', 'Department': 'Engineering', 'Zodiac Sign': 'January', 'Name': 'Agatha A. Bailey', 'Favorite Animal': 'Turtle', 'Height': '6ft,0in'}\n",
      "{'Favorite Sports Team Mascot': 'Eagle', 'Email Address': 'agatha.bailey@northwestern.edu', 'Date of Birth': (1, 10, 1975), 'Favorite Sport': 'Soccer', 'Favorite Color': 'Lime', 'Weight': '220lbs', 'Favorite Sports Team': 'S. L. Benfica', 'Department': 'Engineering', 'Zodiac Sign': 'January', 'Name': 'Agatha A. Bailey', 'Favorite Animal': 'Turtle', 'Height': '6ft,0in'}\n"
     ]
    }
   ],
   "source": [
    "data_dict['Favorite Sport'] = 'Soccer'\n",
    "print(data_dict)\n",
    "data_dict.update({'Favorite Sports Team': 'S. L. Benfica', 'Favorite Sports Team Mascot': 'Eagle'})\n",
    "print(data_dict)"
   ]
  },
  {
   "cell_type": "markdown",
   "metadata": {},
   "source": [
    "To remove a `key-value` pair from a `dict` variable, we can use `del` and provide the `key`. Guess what happens if you provide a `key` that does not exist? \n",
    "\n",
    "Alternatively, you can use the built-in method `pop()` and provide a `key`. This method deletes the `item` with `key` and returns the `value`.\n"
   ]
  },
  {
   "cell_type": "code",
   "execution_count": 37,
   "metadata": {
    "collapsed": false
   },
   "outputs": [
    {
     "name": "stdout",
     "output_type": "stream",
     "text": [
      "S. L. Benfica\n",
      "Soccer\n"
     ]
    }
   ],
   "source": [
    "del data_dict['Favorite Sports Team Mascot']\n",
    "print( data_dict.pop('Favorite Sports Team') )\n",
    "print( data_dict.pop('Favorite Sport') )"
   ]
  },
  {
   "cell_type": "code",
   "execution_count": 38,
   "metadata": {
    "collapsed": false
   },
   "outputs": [
    {
     "data": {
      "text/plain": [
       "{'Date of Birth': (1, 10, 1975),\n",
       " 'Department': 'Engineering',\n",
       " 'Email Address': 'agatha.bailey@northwestern.edu',\n",
       " 'Favorite Animal': 'Turtle',\n",
       " 'Favorite Color': 'Lime',\n",
       " 'Height': '6ft,0in',\n",
       " 'Name': 'Agatha A. Bailey',\n",
       " 'Weight': '220lbs',\n",
       " 'Zodiac Sign': 'January'}"
      ]
     },
     "execution_count": 38,
     "metadata": {},
     "output_type": "execute_result"
    }
   ],
   "source": [
    "data_dict"
   ]
  },
  {
   "cell_type": "markdown",
   "metadata": {},
   "source": [
    "We could access all elements of a list using contructions such as `for element in a_list` or `for i in range(len(a_list))`. \n",
    "\n",
    "Dictionaries have more types of information. We can access all `items`, or all `keys`, or all `values`."
   ]
  },
  {
   "cell_type": "code",
   "execution_count": 41,
   "metadata": {
    "collapsed": false
   },
   "outputs": [
    {
     "name": "stdout",
     "output_type": "stream",
     "text": [
      "dict_keys(['Email Address', 'Date of Birth', 'Favorite Color', 'Weight', 'Department', 'Zodiac Sign', 'Name', 'Favorite Animal', 'Height'])\n",
      "\n",
      "dict_items([('Email Address', 'agatha.bailey@northwestern.edu'), ('Date of Birth', (1, 10, 1975)), ('Favorite Color', 'Lime'), ('Weight', '220lbs'), ('Department', 'Engineering'), ('Zodiac Sign', 'January'), ('Name', 'Agatha A. Bailey'), ('Favorite Animal', 'Turtle'), ('Height', '6ft,0in')])\n",
      "\n",
      "dict_values(['agatha.bailey@northwestern.edu', (1, 10, 1975), 'Lime', '220lbs', 'Engineering', 'January', 'Agatha A. Bailey', 'Turtle', '6ft,0in'])\n"
     ]
    }
   ],
   "source": [
    "print(data_dict.keys())   # It looks like as list of strings\n",
    "print()\n",
    "print(data_dict.items())  # It looks like a list of tuples\n",
    "print()\n",
    "print(data_dict.values()) # It looks like a list"
   ]
  },
  {
   "cell_type": "markdown",
   "metadata": {},
   "source": [
    "Even though all these objects look like lists they are not list. They are **iterators**.  This means that you can go in order and access each one in turn, but they are not accessible by index."
   ]
  },
  {
   "cell_type": "code",
   "execution_count": 47,
   "metadata": {
    "collapsed": false
   },
   "outputs": [
    {
     "name": "stdout",
     "output_type": "stream",
     "text": [
      "agatha.bailey@northwestern.edu\n",
      "(1, 10, 1975)\n",
      "Lime\n",
      "220lbs\n",
      "Engineering\n",
      "January\n",
      "Agatha A. Bailey\n",
      "Turtle\n",
      "6ft,0in\n",
      "\n",
      "<class 'dict_values'>\n",
      "\n",
      "(1, 10, 1975)\n"
     ]
    },
    {
     "ename": "TypeError",
     "evalue": "'dict_values' object does not support indexing",
     "output_type": "error",
     "traceback": [
      "\u001b[0;31m---------------------------------------------------------------------------\u001b[0m",
      "\u001b[0;31mTypeError\u001b[0m                                 Traceback (most recent call last)",
      "\u001b[0;32m<ipython-input-47-5a10a5ab528b>\u001b[0m in \u001b[0;36m<module>\u001b[0;34m()\u001b[0m\n\u001b[1;32m      6\u001b[0m \u001b[0mprint\u001b[0m\u001b[0;34m(\u001b[0m\u001b[0;34m)\u001b[0m\u001b[0;34m\u001b[0m\u001b[0m\n\u001b[1;32m      7\u001b[0m \u001b[0mprint\u001b[0m\u001b[0;34m(\u001b[0m \u001b[0mlist\u001b[0m\u001b[0;34m(\u001b[0m\u001b[0mdata_dict\u001b[0m\u001b[0;34m.\u001b[0m\u001b[0mvalues\u001b[0m\u001b[0;34m(\u001b[0m\u001b[0;34m)\u001b[0m\u001b[0;34m)\u001b[0m\u001b[0;34m[\u001b[0m\u001b[0;36m1\u001b[0m\u001b[0;34m]\u001b[0m \u001b[0;34m)\u001b[0m\u001b[0;34m\u001b[0m\u001b[0m\n\u001b[0;32m----> 8\u001b[0;31m \u001b[0mprint\u001b[0m\u001b[0;34m(\u001b[0m \u001b[0mdata_dict\u001b[0m\u001b[0;34m.\u001b[0m\u001b[0mvalues\u001b[0m\u001b[0;34m(\u001b[0m\u001b[0;34m)\u001b[0m\u001b[0;34m[\u001b[0m\u001b[0;36m1\u001b[0m\u001b[0;34m]\u001b[0m \u001b[0;34m)\u001b[0m\u001b[0;34m\u001b[0m\u001b[0m\n\u001b[0m",
      "\u001b[0;31mTypeError\u001b[0m: 'dict_values' object does not support indexing"
     ]
    }
   ],
   "source": [
    "for value in data_dict.values():\n",
    "    print(value)\n",
    "\n",
    "print()\n",
    "print( type( data_dict.values() ) )\n",
    "print()\n",
    "print( list(data_dict.values())[1] )\n",
    "print( data_dict.values()[1] )"
   ]
  },
  {
   "cell_type": "markdown",
   "metadata": {},
   "source": [
    "Working with dictionaries can be challenging when you are starting.  Accessing information by `key` is less natural for many of us.  Moreover, things can quickly become rather complex when nesting is involved. Keeping track of the elements in a list of dictionaries that contains lists of list is not easy task.  \n",
    "\n",
    "As in many other situations, being organized and working out specific cases with paper and pen can make all the difference.\n",
    "\n",
    "In order to gain experience with these challenges, let's create a list of dictionaries using the code for processing the roster files.  First, we have to change the function `parse_student_record()` to create a dictionary instead of a list of tuples."
   ]
  },
  {
   "cell_type": "code",
   "execution_count": null,
   "metadata": {
    "collapsed": true
   },
   "outputs": [],
   "source": [
    "def string2tuple_dob(dob_string):\n",
    "    '''\n",
    "    Takes a date string of \"M/D/YY\" and converts it to a tuple with month, day, and year as integers\n",
    "\n",
    "    input:\n",
    "        * dob_string - str, birthday string of form \"M/D/YY\"\n",
    "    output:\n",
    "        * dob - tuple, (\"month\", \"day\", \"year\")\n",
    "    '''\n",
    "    month, day, year = dob_string.split('/')\n",
    "    month = int(month)\n",
    "    day = int(day)\n",
    "    year = int(year) + 1900\n",
    "    dob = (month, day, year)\n",
    "    \n",
    "    return dob\n",
    "\n",
    "\n",
    "def parse_student_record(filename):\n",
    "    '''\n",
    "    Parses a student record file into a list of tuples <-- CHANGE THIS\n",
    "    \n",
    "    input:\n",
    "        filename - str, path to the file\n",
    "    output:\n",
    "        data - list of tuples, student attribute data <-- CHANGE THIS\n",
    "    '''\n",
    "    data = []   # CHANGE THIS\n",
    "    file_in = open(filename, u\"r\")\n",
    "    \n",
    "    for line in file_in.readlines():\n",
    "        if line[0] == '#' or line in string.whitespace:\n",
    "            continue\n",
    "        else:\n",
    "            field, value = line.split(':')\n",
    "            field = field.strip()\n",
    "            value = value.strip()\n",
    "            if field == 'Date of Birth':\n",
    "                value = string2tuple_dob( value )\n",
    "            data.append( (field, value) ) # CHANGE THIS\n",
    "            \n",
    "    return data\n"
   ]
  },
  {
   "cell_type": "code",
   "execution_count": 48,
   "metadata": {
    "collapsed": true
   },
   "outputs": [],
   "source": [
    "def string2tuple_dob(dob_string):\n",
    "    '''\n",
    "    Takes a date string of \"M/D/YY\" and converts it to a tuple with month, day, and year as integers\n",
    "\n",
    "    input:\n",
    "        * dob_string - str, birthday string of form \"M/D/YY\"\n",
    "    output:\n",
    "        * dob - tuple, (\"month\", \"day\", \"year\")\n",
    "    '''\n",
    "    month, day, year = dob_string.split('/')\n",
    "    month = int(month)\n",
    "    day = int(day)\n",
    "    year = int(year) + 1900\n",
    "    dob = (month, day, year)\n",
    "    \n",
    "    return dob\n",
    "\n",
    "\n",
    "def parse_student_record(filename):\n",
    "    '''\n",
    "    Parses a student record file into a dictionary\n",
    "    \n",
    "    input:\n",
    "        filename - str, path to the file\n",
    "    output:\n",
    "        data - dictionary\n",
    "    '''\n",
    "    data = {}\n",
    "    file_in = open(filename, u\"r\")\n",
    "    \n",
    "    for line in file_in.readlines():\n",
    "        if line[0] == '#' or line in string.whitespace:\n",
    "            continue\n",
    "        else:\n",
    "            field, value = line.split(':')\n",
    "            field = field.strip()\n",
    "            value = value.strip()\n",
    "            if field == 'Date of Birth':\n",
    "                value = string2tuple_dob( value )\n",
    "            data[field] = value\n",
    "            \n",
    "    return data\n"
   ]
  },
  {
   "cell_type": "code",
   "execution_count": 52,
   "metadata": {
    "collapsed": false
   },
   "outputs": [
    {
     "name": "stdout",
     "output_type": "stream",
     "text": [
      "[{'Weight': '220lbs', 'Email Address': 'agatha.bailey@northwestern.edu', 'Date of Birth': (1, 10, 1975), 'Department': 'Engineering', 'Zodiac Sign': 'January', 'Favorite Color': 'Lime', 'Name': 'Agatha A. Bailey', 'Favorite Animal': 'Turtle', 'Height': '6ft,0in'}, {'Weight': '194lbs', 'Email Address': 'agatha.brooks@northwestern.edu', 'Date of Birth': (3, 31, 1986), 'Department': 'Music', 'Zodiac Sign': 'March', 'Favorite Color': 'Blue', 'Name': 'Agatha A. Brooks', 'Favorite Animal': 'Cat', 'Height': '5ft,5in'}]\n"
     ]
    }
   ],
   "source": [
    "filenames = find_student_records('../Data/Roster/')\n",
    "\n",
    "all_records = []\n",
    "for file in filenames[:20]:\n",
    "    data = parse_student_record(file)\n",
    "    all_records.append(data)\n",
    "    \n",
    "print(all_records[:2])"
   ]
  },
  {
   "cell_type": "markdown",
   "metadata": {},
   "source": [
    "In order to see what we are up against, it is useful to know how to read the output above.  The information is enclosed inside `[]`.  We expect this, since `all_records` is a list.\n",
    "\n",
    "We also know that since `all_records` is a list of dictionaries. Thus, each element in the list is going to be enclosed inside `{}` and separated by commas. Look for `}, {`. Those mark where a dictionary ends and the next begins.\n",
    "\n",
    "Inside each dictionary, we have `key: value` pairs separated by commas. \n",
    "\n",
    "If you can read them, you can write a command that accesses them!"
   ]
  },
  {
   "cell_type": "code",
   "execution_count": 53,
   "metadata": {
    "collapsed": false
   },
   "outputs": [
    {
     "data": {
      "text/plain": [
       "'English'"
      ]
     },
     "execution_count": 53,
     "metadata": {},
     "output_type": "execute_result"
    }
   ],
   "source": [
    "# Print the Department of the 5th student record\n",
    "all_records[4]['Department']"
   ]
  },
  {
   "cell_type": "code",
   "execution_count": 54,
   "metadata": {
    "collapsed": false
   },
   "outputs": [
    {
     "data": {
      "text/plain": [
       "'5ft,5in'"
      ]
     },
     "execution_count": 54,
     "metadata": {},
     "output_type": "execute_result"
    }
   ],
   "source": [
    "# Print the Height of the 15th student record\n",
    "all_records[14]['Height']"
   ]
  },
  {
   "cell_type": "code",
   "execution_count": 55,
   "metadata": {
    "collapsed": false
   },
   "outputs": [
    {
     "name": "stdout",
     "output_type": "stream",
     "text": [
      "My name is Agatha Y. Long and I was born in 7 of 1993.\n"
     ]
    }
   ],
   "source": [
    "# Print the string \"My name is ______ and I was born in _month___ of ___year.\" for the 15th student record\n",
    "print( \"My name is {0} and I was born in {1} of {2}.\".format(all_records[14]['Name'], \n",
    "                                                             all_records[14]['Date of Birth'][0], \n",
    "                                                             all_records[14]['Date of Birth'][2]) )"
   ]
  },
  {
   "cell_type": "markdown",
   "metadata": {},
   "source": [
    "Well. That does not look good, does it?  It would be nice to have the actual month name instead of the number...  Why don't we find a way to do that conversion?"
   ]
  },
  {
   "cell_type": "code",
   "execution_count": 58,
   "metadata": {
    "collapsed": true
   },
   "outputs": [],
   "source": [
    "def convert_number2month( number ):\n",
    "    \"\"\"\n",
    "    This function takes a number between 1 and 12 and returns the name of the corresponding month.\n",
    "    \n",
    "    input:\n",
    "        number - int\n",
    "    output:\n",
    "        month - string\n",
    "    \"\"\"\n",
    "    months = ('January', 'February', 'March', 'April', 'May', 'June', 'July', 'August', 'September', 'October', 'November', 'December')\n",
    "    month = months[ number - 1 ]\n",
    "\n",
    "    return month"
   ]
  },
  {
   "cell_type": "code",
   "execution_count": 59,
   "metadata": {
    "collapsed": false
   },
   "outputs": [
    {
     "name": "stdout",
     "output_type": "stream",
     "text": [
      "My name is Agatha Y. Long and I was born in July of 1993.\n"
     ]
    }
   ],
   "source": [
    "# Print the string \"My name is ______ and I was born in _month___ of ___year.\" for the 15th student record\n",
    "print( \"My name is {0} and I was born in {1} of {2}.\".format(all_records[14]['Name'], \n",
    "                                                             convert_number2month(all_records[14]['Date of Birth'][0]), \n",
    "                                                             all_records[14]['Date of Birth'][2]) )"
   ]
  },
  {
   "cell_type": "code",
   "execution_count": null,
   "metadata": {
    "collapsed": true
   },
   "outputs": [],
   "source": [
    "# Print the string \"My name is ______ and I love _color_.\" for the 25th student record\n"
   ]
  },
  {
   "cell_type": "code",
   "execution_count": null,
   "metadata": {
    "collapsed": true
   },
   "outputs": [],
   "source": [
    "# # Print the string \"My name is ______ and I love _color_.\" for the first 10 student records \n"
   ]
  },
  {
   "cell_type": "markdown",
   "metadata": {
    "collapsed": true
   },
   "source": [
    "Ok, since you seem to get this, let's make it more interesting.\n",
    "\n",
    "Please find for each student all other students that are within 5 years of their age.  Then add to the record of each student a list with the indices in the `all_records` of those other students."
   ]
  },
  {
   "cell_type": "code",
   "execution_count": null,
   "metadata": {
    "collapsed": true
   },
   "outputs": [],
   "source": [
    "\n"
   ]
  }
 ],
 "metadata": {
  "kernelspec": {
   "display_name": "Python 3",
   "language": "python",
   "name": "python3"
  },
  "language_info": {
   "codemirror_mode": {
    "name": "ipython",
    "version": 3
   },
   "file_extension": ".py",
   "mimetype": "text/x-python",
   "name": "python",
   "nbconvert_exporter": "python",
   "pygments_lexer": "ipython3",
   "version": "3.4.3"
  }
 },
 "nbformat": 4,
 "nbformat_minor": 0
}
