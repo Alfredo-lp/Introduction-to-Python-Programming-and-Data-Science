{
 "metadata": {
  "kernelspec": {
   "display_name": "Python 3",
   "language": "python",
   "name": "python3"
  },
  "language_info": {
   "codemirror_mode": {
    "name": "ipython",
    "version": 3
   },
   "file_extension": ".py",
   "mimetype": "text/x-python",
   "name": "python",
   "nbconvert_exporter": "python",
   "pygments_lexer": "ipython3",
   "version": "3.4.2"
  },
  "name": "",
  "signature": "sha256:3c38ca251abf2427d40b5958b4d5aedfe7e36002efdd8c01343f5f8c06615e76"
 },
 "nbformat": 3,
 "nbformat_minor": 0,
 "worksheets": [
  {
   "cells": [
    {
     "cell_type": "markdown",
     "metadata": {},
     "source": [
      "# Reading and writing files\n",
      "\n",
      "Typing strings and numbers into an IPython Notebook are great ways to learn basics,\n",
      "but sooner or later you will have to learn how to read data from a file, perform some analysis\n",
      "on that data and ideally save the analysis. But first..."
     ]
    },
    {
     "cell_type": "markdown",
     "metadata": {},
     "source": [
      "# Thinking algorithmically\n",
      "\n",
      "Human brains are great at reducing the complexity of problems so that the answers seem obvious. \n",
      "If I tell you my birthday and ask you to tell me how old I am most of you can give me an answer in\n",
      "almost no time, but making your thought process explicit can be difficult. To do any programming \n",
      "or data analysis, perhaps the most important thing that you need to learn is how to break down a problem (that might seem really simple for you to do in your head) into tiny little steps such that \n",
      "you can teach a computer how to do it."
     ]
    },
    {
     "cell_type": "markdown",
     "metadata": {},
     "source": [
      "**Exercise:** How old am I?"
     ]
    },
    {
     "cell_type": "code",
     "collapsed": false,
     "input": [
      "### Here is where you should start\n",
      "birth_month = 2\n",
      "birth_day = 25\n",
      "birth_year = 1984\n",
      "\n",
      "current_month = 3\n",
      "current_day = 24\n",
      "current_year = 2015\n",
      "\n",
      "########################\n",
      "###Place your code here\n",
      "\n",
      "###How old am I?\n",
      "# print(age)"
     ],
     "language": "python",
     "metadata": {},
     "outputs": []
    },
    {
     "cell_type": "markdown",
     "metadata": {},
     "source": [
      "# On to reading files...\n",
      "\n",
      "Inside of the \"Data\" folder, everyone should have another folder called \"Roster\" that is full of\n",
      "lots of little .txt files. The basics of which look like this:\n",
      "\n",
      "\n",
      "    #This is a file that holds important personal information that should not be shared. You are being watched.\n",
      "\n",
      "    Name:\tAgatha A. Bailey\n",
      "    Date of Birth:\t1/10/75\n",
      "    Email Address:\tagatha.bailey@northwestern.edu\n",
      "    Department:\tEngineering\n",
      "    Height:\t6ft,0in\n",
      "    Weight:\t220lbs\n",
      "    Favorite Color:\tLime\n",
      "    Favorite Animal:\tTurtle\n",
      "    Zodiac Sign:\tJanuary"
     ]
    },
    {
     "cell_type": "markdown",
     "metadata": {},
     "source": [
      "The first step when working with ***any*** new data is to ***look*** at it. Print parts of it, and make sure you're familiar with the all of the data types before thinking about doing any real calculations with it"
     ]
    },
    {
     "cell_type": "code",
     "collapsed": false,
     "input": [
      "myFile = open('../Data/Roster/Agatha_Bailey_798.txt', 'r')\n",
      "myFile\n",
      "\n",
      "# Agatha = myFile.read()\n",
      "# Agatha\n",
      "\n",
      "# Agatha = myFile.readlines()\n",
      "# print(Agatha)\n",
      "\n",
      "# print(type(Agatha))\n",
      "# print(len(Agatha))\n",
      "# print(type(Agatha[0]))\n",
      "# print(len(Agatha[0]))\n",
      "# print(Agatha[0])"
     ],
     "language": "python",
     "metadata": {},
     "outputs": []
    },
    {
     "cell_type": "markdown",
     "metadata": {},
     "source": [
      "# That's it! You read a file and it is now in a format that you know and love... a list!\n",
      "\n",
      "But let's see if you can tell me how old Agatha is, first we'll need to go from a line in that file to the variables that we used above to calculate someones age"
     ]
    },
    {
     "cell_type": "code",
     "collapsed": false,
     "input": [
      "for line in Agatha:\n",
      "    if 'Name' in line:\n",
      "        print(line)\n",
      "#         birthday_line = line\n",
      "# print(birthday_line)"
     ],
     "language": "python",
     "metadata": {},
     "outputs": []
    },
    {
     "cell_type": "heading",
     "level": 1,
     "metadata": {},
     "source": [
      "A refresher on manipulating strings"
     ]
    },
    {
     "cell_type": "code",
     "collapsed": false,
     "input": [
      "temporary_line = 'Adam,Hockenberry,02-25-1984\\n'"
     ],
     "language": "python",
     "metadata": {},
     "outputs": []
    },
    {
     "cell_type": "code",
     "collapsed": false,
     "input": [
      "print(temporary_line)\n",
      "# print(temporary_line.strip('\\n'))\n",
      "# print(temporary_line.split(','))\n",
      "# print(temporary_line.strip('\\n').split(','))\n",
      "\n",
      "# line_as_list = temporary_line.strip('\\n').split(',')\n",
      "# print(line_as_list)"
     ],
     "language": "python",
     "metadata": {},
     "outputs": []
    },
    {
     "cell_type": "code",
     "collapsed": false,
     "input": [
      "DOB = line_as_list[2]\n",
      "print(DOB)"
     ],
     "language": "python",
     "metadata": {},
     "outputs": []
    },
    {
     "cell_type": "code",
     "collapsed": false,
     "input": [
      "birth_day = DOB.split('-')[0]\n",
      "birth_month = DOB.split('-')[1]\n",
      "birth_year = DOB.split('-')[2]\n",
      "print(birth_day, birth_month, birth_year)"
     ],
     "language": "python",
     "metadata": {},
     "outputs": []
    },
    {
     "cell_type": "heading",
     "level": 1,
     "metadata": {},
     "source": [
      "Back to Agatha..."
     ]
    },
    {
     "cell_type": "code",
     "collapsed": false,
     "input": [
      "for line in Agatha:\n",
      "    if 'Date of Birth' in line:\n",
      "        print(line)\n",
      "        birthday_line = line"
     ],
     "language": "python",
     "metadata": {},
     "outputs": []
    },
    {
     "cell_type": "markdown",
     "metadata": {},
     "source": [
      "**Exercise:** apply the string manipulations that you just learned to get Agatha's birthday as variables that we can use"
     ]
    },
    {
     "cell_type": "code",
     "collapsed": false,
     "input": [
      "# birth_day = \n",
      "# birth_month = \n",
      "# birth_year = "
     ],
     "language": "python",
     "metadata": {},
     "outputs": []
    },
    {
     "cell_type": "heading",
     "level": 1,
     "metadata": {},
     "source": [
      "We have all the parts but they're pretty scattered right now, let's put it all in one place:"
     ]
    },
    {
     "cell_type": "code",
     "collapsed": false,
     "input": [
      "current_month = 3\n",
      "current_day = 24\n",
      "current_year = 2015\n",
      "\n",
      "myFile = open('../Data/Roster/Agatha_Bailey_798.txt', 'rU')\n",
      "Agatha = myFile.readlines()\n",
      "for line in Agatha:\n",
      "    if 'Date of Birth' in line:\n",
      "        birthday_line = line\n",
      "###########################################################################\n",
      "###Paste your code to get birth_month, birth_day, and birth_year here!\n",
      "\n",
      "\n",
      "print(birth_month, birth_day, birth_year)\n",
      "\n",
      "###########################################################################\n",
      "#### Copy and paste the algorithm that you developed to calculate someones age here!\n",
      "\n",
      "        \n",
      "# print(age)"
     ],
     "language": "python",
     "metadata": {},
     "outputs": []
    },
    {
     "cell_type": "markdown",
     "metadata": {},
     "source": [
      "# Writing files\n",
      "\n",
      "If you perform some calculation, there are a number of reasons why you should store these values somewhere. "
     ]
    },
    {
     "cell_type": "code",
     "collapsed": false,
     "input": [
      "### Here is a dictionary of TA's names/ages\n",
      "names = ['Adam H', 'Peter W', 'Joao M', 'Hyojun L']\n",
      "ages = [21, 31, 24, 19]\n",
      "# for x in zip(names, ages):\n",
      "#     print(x)\n",
      "age_dictionary = dict(zip(names, ages))"
     ],
     "language": "python",
     "metadata": {},
     "outputs": []
    },
    {
     "cell_type": "code",
     "collapsed": false,
     "input": [
      "delimiter = ','\n",
      "\n",
      "# output_file = open('../Data/TA_ages.csv', 'w')\n",
      "\n",
      "# for name, age in age_dictionary.items():\n",
      "#     output_file.write(name + delimiter + age + '\\n')\n",
      "# #     print(name + delimiter + str(age) + '\\n', file=output_file)\n",
      "# #     output_file.write('{}{}{}\\n'.format(name, delimiter, age))\n",
      "# output_file.close()\n",
      "\n",
      "\n",
      "####Here is another way that should do the exact same thing\n",
      "# for name in age_dictionary.keys():\n",
      "#     output_file.write(name + delimiter + str(age_dictionary[name]) + '\\n')\n",
      "# output_file.close()\n",
      "\n",
      "####Here is yet another way that should also do the exact same thing\n",
      "# with open('../Data/TA_ages.csv', 'w') as output_file:\n",
      "#     for name, age in age_dictionary.items():\n",
      "#         output_file.write(name + delimiter + str(age) + '\\n')\n",
      "# output_file.close()\n",
      "    "
     ],
     "language": "python",
     "metadata": {},
     "outputs": []
    },
    {
     "cell_type": "markdown",
     "metadata": {},
     "source": [
      "# What if we forgot someone?\n",
      "\n",
      "Take a deep breath. All is not yet lost.\n",
      "\n",
      "When opening files, we have used 'r' and 'w' for read and write but there is one more that I haven't told you about: 'a' for append."
     ]
    },
    {
     "cell_type": "code",
     "collapsed": false,
     "input": [
      "new_age_dictionary = {'Adam P': 38, 'Nick T': 28}\n",
      "delimiter = ','\n",
      "\n",
      "output_file = open('../Data/TA_ages.csv', 'a')\n",
      "for name, age in new_age_dictionary.items():\n",
      "    output_file.write(name + delimiter + str(age) + '\\n')    \n",
      "output_file.close()"
     ],
     "language": "python",
     "metadata": {},
     "outputs": []
    },
    {
     "cell_type": "markdown",
     "metadata": {},
     "source": [
      "# Final exercise\n",
      "Let's read that same file again but instead of calculating Agatha's age, I'd like to know her height in centimeters (it's for a collaboration with europeans). When you're finished, please write her name and her height into a new file that looks like this (it will be pretty boring for now, with only two lines):\n",
      "\n",
      "    Name, Height (cm)\n",
      "    Agathas_full_name, Agathas_height\n",
      "    \n",
      "\n",
      "\n",
      "***If you get stuck, remember to break the problem down into small steps:***\n",
      "    \n",
      "    1) Read the file and find the lines that we care about:\n",
      "        a) name_line\n",
      "        b) height_line\n",
      "    2) Strip those lines apart so that we have three variables:\n",
      "        a) name\n",
      "        b) height_component_feet\n",
      "        c) height_component_inches\n",
      "    3) Get her height in inches:\n",
      "        a) total_height_inches\n",
      "    4) Then convert it into centimeters\n",
      "    5) Write everything into a new file"
     ]
    },
    {
     "cell_type": "code",
     "collapsed": false,
     "input": [
      "####Load this file\n",
      "input_file_name = '../Data/Roster/Agatha_Bailey_798.txt'\n",
      "\n",
      "########################\n",
      "###Place your code here:\n",
      "\n",
      "\n",
      "###Write data into this file\n",
      "output_file_name = '../Data/roster_heights.csv'"
     ],
     "language": "python",
     "metadata": {},
     "outputs": []
    }
   ],
   "metadata": {}
  }
 ]
}