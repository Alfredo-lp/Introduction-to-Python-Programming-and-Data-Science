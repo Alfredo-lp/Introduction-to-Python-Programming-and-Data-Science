{
 "cells": [
  {
   "cell_type": "markdown",
   "metadata": {},
   "source": [
    "# Welcome to the IPython Notebook\n",
    "\n",
    "What we have just opened (and where we came from) is an IPython notebook. \n",
    "\n",
    "To help contextualize this notebook we want to provide a basic understanding of where Python and its Notebook came from."
   ]
  },
  {
   "cell_type": "markdown",
   "metadata": {},
   "source": [
    "## Programming Languages\n",
    "\n",
    "There are lots of programming languages, some more popular than others. In 2015 this is the breakdown of language popularity:\n",
    "\n",
    "<img src='../images/programming_languages.png'></img>\n",
    "\n",
    "Python is a great first language for four reasons:\n",
    "\n",
    "1. Python is dynamic, when you need a new value you can just create it\n",
    "2. Python is readable, code is more often read than written!\n",
    "3. Python has strong typing, this means that it won't add the number 2 and the word two together\n",
    "4. Python is an interpreted language, it doesn't need to be compiled\n",
    "\n",
    "These small things make a huge difference when you're just starting out!\n",
    "\n",
    "The first three make it easier and quicker for you to learn how the language works and the last one lets you experiment quickly!\n",
    "\n",
    "But what does not needing a compiler mean?"
   ]
  },
  {
   "cell_type": "markdown",
   "metadata": {},
   "source": [
    "## Python and its interpreter\n",
    "\n",
    "When you have a compiled lanaguage, typically what you have to do is write all of the code first. Then you have to run some commands to turn that code into a program that can be executed by the machine. At that point, you can then run your own program.\n",
    "\n",
    "What you can probably guess is that if you want to test something simple, like what happens when a multiply a word by a number in a language, you have to write a whole bunch of extra code to just test one thing.\n",
    "\n",
    "Having an interpreter changes that."
   ]
  },
  {
   "cell_type": "code",
   "execution_count": 3,
   "metadata": {
    "collapsed": false
   },
   "outputs": [
    {
     "data": {
      "text/html": [
       "\n",
       "        <iframe\n",
       "            width=\"400\"\n",
       "            height=\"300\"\n",
       "            src=\"https://www.youtube.com/embed/UfjzqZK8Db4\"\n",
       "            frameborder=\"0\"\n",
       "            allowfullscreen\n",
       "        ></iframe>\n",
       "        "
      ],
      "text/plain": [
       "<IPython.lib.display.YouTubeVideo at 0x7f42e82abe10>"
      ]
     },
     "execution_count": 3,
     "metadata": {},
     "output_type": "execute_result"
    }
   ],
   "source": [
    "YouTubeVideo('UfjzqZK8Db4')"
   ]
  },
  {
   "cell_type": "markdown",
   "metadata": {},
   "source": [
    "# But now, notebook!\n",
    "\n",
    "IPython notebook can run the interpreter. In fact whenever you move to a new cell it is by default a Python interpreter!\n",
    "\n",
    "Let me show you"
   ]
  },
  {
   "cell_type": "code",
   "execution_count": 4,
   "metadata": {
    "collapsed": false
   },
   "outputs": [
    {
     "data": {
      "text/plain": [
       "'wordwordwordwordwordwordword'"
      ]
     },
     "execution_count": 4,
     "metadata": {},
     "output_type": "execute_result"
    }
   ],
   "source": [
    "'word' * 7"
   ]
  },
  {
   "cell_type": "markdown",
   "metadata": {
    "collapsed": true
   },
   "source": [
    "There are a lot of nice features that come along with having the interpreter in a web page.\n",
    "\n",
    "* It's really easy to copy/write/edit long Python code\n",
    "* It's very simple to plot/perfect images\n",
    "* It's easy to separate out parts of code and work on them independently\n",
    "\n",
    "Now the Notebook isn't perfect for everything and there are some drawbacks/points to be aware of. But for learning, initial development, and preliminary data analysis it is the best tool by far."
   ]
  },
  {
   "cell_type": "markdown",
   "metadata": {
    "collapsed": true
   },
   "source": [
    "First, **each gray box** is called a **cell** (basic terminology).\n",
    "\n",
    "Each **cell** can have its type changed. By default its type is `Code`, which means Python code. When I write these text paragraphs, I use `Markdown` which is just a syntax for text.\n",
    "\n",
    "**When a cell does not have a prompt to the side that means it is not a `Code` cell**\n",
    "\n",
    "\n",
    "##Running cells\n",
    "\n",
    "We can type code in a cell, but until we push the `play` button at the top or press `Shift+Enter` it has not been run.\n",
    "\n",
    "We can check this because there will not be a number in the prompt to the side\n",
    "\n",
    "When a cell has a number to the side that means that the cell has been **executed**\n",
    "\n",
    "That number also tells you the order that the cell was executed in.\n",
    "\n",
    "**Cells can and are executed out of the visual, linear order that you see them in**"
   ]
  },
  {
   "cell_type": "code",
   "execution_count": 6,
   "metadata": {
    "collapsed": false
   },
   "outputs": [
    {
     "data": {
      "text/plain": [
       "10"
      ]
     },
     "execution_count": 6,
     "metadata": {},
     "output_type": "execute_result"
    }
   ],
   "source": [
    "#Execute me second\n",
    "\n",
    "a_number * 2"
   ]
  },
  {
   "cell_type": "code",
   "execution_count": 5,
   "metadata": {
    "collapsed": true
   },
   "outputs": [],
   "source": [
    "#Execute me first \n",
    "\n",
    "a_number = 5"
   ]
  },
  {
   "cell_type": "markdown",
   "metadata": {
    "collapsed": true
   },
   "source": [
    "Frequently when learning this can cause errors for a number of reasons, like so:"
   ]
  },
  {
   "cell_type": "code",
   "execution_count": 7,
   "metadata": {
    "collapsed": false
   },
   "outputs": [
    {
     "ename": "NameError",
     "evalue": "name 'another_number' is not defined",
     "output_type": "error",
     "traceback": [
      "\u001b[1;31m---------------------------------------------------------------------------\u001b[0m",
      "\u001b[1;31mNameError\u001b[0m                                 Traceback (most recent call last)",
      "\u001b[1;32m<ipython-input-7-5f1061a10d03>\u001b[0m in \u001b[0;36m<module>\u001b[1;34m()\u001b[0m\n\u001b[0;32m      1\u001b[0m \u001b[1;31m#Execute me first\u001b[0m\u001b[1;33m\u001b[0m\u001b[1;33m\u001b[0m\u001b[0m\n\u001b[0;32m      2\u001b[0m \u001b[1;33m\u001b[0m\u001b[0m\n\u001b[1;32m----> 3\u001b[1;33m \u001b[0manother_number\u001b[0m \u001b[1;33m*\u001b[0m \u001b[1;36m2\u001b[0m\u001b[1;33m\u001b[0m\u001b[0m\n\u001b[0m",
      "\u001b[1;31mNameError\u001b[0m: name 'another_number' is not defined"
     ]
    }
   ],
   "source": [
    "#Execute me first\n",
    "\n",
    "another_number * 2"
   ]
  },
  {
   "cell_type": "code",
   "execution_count": 8,
   "metadata": {
    "collapsed": true
   },
   "outputs": [],
   "source": [
    "#Execute me second\n",
    "\n",
    "another_number = 6"
   ]
  },
  {
   "cell_type": "markdown",
   "metadata": {},
   "source": [
    "The other thing to be aware of is that once you use a variable, \n",
    "**it persists across all cells and going forward in time**"
   ]
  },
  {
   "cell_type": "code",
   "execution_count": 9,
   "metadata": {
    "collapsed": false
   },
   "outputs": [
    {
     "data": {
      "text/plain": [
       "25"
      ]
     },
     "execution_count": 9,
     "metadata": {},
     "output_type": "execute_result"
    }
   ],
   "source": [
    "a_number * 5"
   ]
  },
  {
   "cell_type": "markdown",
   "metadata": {
    "collapsed": true
   },
   "source": [
    "## Features to make up for this complication\n",
    "\n",
    "### Tab Completion\n",
    "\n",
    "The first feature that you should be aware of is called tab-complete. It does what it says actually which is when you press `tab` it completes what you're typing if it knows what it is."
   ]
  },
  {
   "cell_type": "code",
   "execution_count": 10,
   "metadata": {
    "collapsed": false
   },
   "outputs": [
    {
     "data": {
      "text/plain": [
       "6"
      ]
     },
     "execution_count": 10,
     "metadata": {},
     "output_type": "execute_result"
    }
   ],
   "source": [
    "#Place your curser at the `_` and press tab\n",
    "\n",
    "another_number"
   ]
  },
  {
   "cell_type": "markdown",
   "metadata": {},
   "source": [
    "### Help Pager\n",
    "\n",
    "You can also get help at any time easily. Whenever you have a function that you don't know how it works, you can have the Notebook look it up for you by pressing `Shift+Tab` inside the parentheses"
   ]
  },
  {
   "cell_type": "code",
   "execution_count": null,
   "metadata": {
    "collapsed": true
   },
   "outputs": [],
   "source": [
    "#Place your cursor after the `(` and press Shift+Tab\n",
    "\n",
    "range()"
   ]
  },
  {
   "cell_type": "markdown",
   "metadata": {},
   "source": [
    "### Commenting multiple lines\n",
    "\n",
    "You can also easily comment multiple lines. Commenting makes it so that a line doesn't run but you still have it.\n",
    "\n",
    "Just select multiple lines with your cursor and then press `Cmd+/` (`Ctrl+/` for windows)\n",
    "\n",
    "(You can uncomment multiple lines with the same key command)"
   ]
  },
  {
   "cell_type": "code",
   "execution_count": null,
   "metadata": {
    "collapsed": true
   },
   "outputs": [],
   "source": [
    "#Highlight the lines and then press Cmd+/\n",
    "\n",
    "one_variable = 1\n",
    "two_variable = 2"
   ]
  },
  {
   "cell_type": "markdown",
   "metadata": {},
   "source": [
    "### Indenting multiple lines\n",
    "\n",
    "Python uses indentation to signal that one block of code happens \"inside\" the other one. Sometimes we change how we want a program structured and have to indent multiple lines of code.\n",
    "\n",
    "In Notebook we can easily indent by selecting multiple lines and pressing `Tab`\n",
    "\n",
    "We de-indent by selecting multiple lines and pressing `Shift+Tab`"
   ]
  },
  {
   "cell_type": "code",
   "execution_count": 15,
   "metadata": {
    "collapsed": true
   },
   "outputs": [],
   "source": [
    "#Highlight the lines and then press Tab\n",
    "\n",
    "one_variable = 1\n",
    "one_variable = 2"
   ]
  },
  {
   "cell_type": "markdown",
   "metadata": {},
   "source": [
    "There are more key commands if you're interested in using them.\n",
    "\n",
    "To see the list of keyboard commands just press `Esc` and then `h`, that will bring up the entire list of keyboard commands.\n",
    "\n",
    "But for now, that's more than enough to get going. Let's learn Python!"
   ]
  },
  {
   "cell_type": "code",
   "execution_count": null,
   "metadata": {
    "collapsed": true
   },
   "outputs": [],
   "source": []
  },
  {
   "cell_type": "code",
   "execution_count": 2,
   "metadata": {
    "collapsed": false
   },
   "outputs": [
    {
     "data": {
      "text/html": [
       "<style>\n",
       "    @font-face {\n",
       "        font-family: \"Computer Modern\";\n",
       "        src: url('http://9dbb143991406a7c655e-aa5fcb0a5a4ec34cff238a2d56ca4144.r56.cf5.rackcdn.com/cmunss.otf');\n",
       "    }\n",
       "    @font-face {\n",
       "        font-family: \"Computer Modern\";\n",
       "        font-weight: bold;\n",
       "        src: url('http://9dbb143991406a7c655e-aa5fcb0a5a4ec34cff238a2d56ca4144.r56.cf5.rackcdn.com/cmunsx.otf');\n",
       "    }\n",
       "    @font-face {\n",
       "        font-family: \"Computer Modern\";\n",
       "        font-style: oblique;\n",
       "        src: url('http://9dbb143991406a7c655e-aa5fcb0a5a4ec34cff238a2d56ca4144.r56.cf5.rackcdn.com/cmunsi.otf');\n",
       "    }\n",
       "    @font-face {\n",
       "        font-family: \"Computer Modern\";\n",
       "        font-weight: bold;\n",
       "        font-style: oblique;\n",
       "        src: url('http://9dbb143991406a7c655e-aa5fcb0a5a4ec34cff238a2d56ca4144.r56.cf5.rackcdn.com/cmunso.otf');\n",
       "    }\n",
       "    div.cell{\n",
       "        width:800px;\n",
       "        margin-left:16% !important;\n",
       "        margin-right:auto;\n",
       "    }\n",
       "    h1 {\n",
       "        font-family: Helvetica, serif;\n",
       "    }\n",
       "    h4{\n",
       "        margin-top:12px;\n",
       "        margin-bottom: 3px;\n",
       "       }\n",
       "    div.text_cell_render{\n",
       "        font-family: Computer Modern, \"Helvetica Neue\", Arial, Helvetica, Geneva, sans-serif;\n",
       "        line-height: 145%;\n",
       "        font-size: 130%;\n",
       "        width:800px;\n",
       "        margin-left:auto;\n",
       "        margin-right:auto;\n",
       "    }\n",
       "    .CodeMirror{\n",
       "            font-family: \"Source Code Pro\", source-code-pro,Consolas, monospace;\n",
       "    }\n",
       "    .text_cell_render h5 {\n",
       "        font-weight: 300;\n",
       "        font-size: 22pt;\n",
       "        color: #4057A1;\n",
       "        font-style: italic;\n",
       "        margin-bottom: .5em;\n",
       "        margin-top: 0.5em;\n",
       "        display: block;\n",
       "    }\n",
       "    \n",
       "    .warning{\n",
       "        color: rgb( 240, 20, 20 )\n",
       "        }  \n",
       "</style>\n",
       "<script>\n",
       "    MathJax.Hub.Config({\n",
       "                        TeX: {\n",
       "                           extensions: [\"AMSmath.js\"]\n",
       "                           },\n",
       "                tex2jax: {\n",
       "                    inlineMath: [ ['$','$'], [\"\\\\(\",\"\\\\)\"] ],\n",
       "                    displayMath: [ ['$$','$$'], [\"\\\\[\",\"\\\\]\"] ]\n",
       "                },\n",
       "                displayAlign: 'center', // Change this to 'center' to center equations.\n",
       "                \"HTML-CSS\": {\n",
       "                    styles: {'.MathJax_Display': {\"margin\": 4}}\n",
       "                }\n",
       "        });\n",
       "</script>\n"
      ],
      "text/plain": [
       "<IPython.core.display.HTML object>"
      ]
     },
     "execution_count": 2,
     "metadata": {},
     "output_type": "execute_result"
    }
   ],
   "source": [
    "from IPython.core.display import HTML\n",
    "from IPython.lib.display import YouTubeVideo\n",
    "\n",
    "\n",
    "def css_styling():\n",
    "    styles = open(\"../styles/custom.css\", \"r\").read()\n",
    "    return HTML(styles)\n",
    "css_styling()"
   ]
  },
  {
   "cell_type": "code",
   "execution_count": null,
   "metadata": {
    "collapsed": true
   },
   "outputs": [],
   "source": []
  }
 ],
 "metadata": {
  "kernelspec": {
   "display_name": "Python 3",
   "language": "python",
   "name": "python3"
  },
  "language_info": {
   "codemirror_mode": {
    "name": "ipython",
    "version": 3
   },
   "file_extension": ".py",
   "mimetype": "text/x-python",
   "name": "python",
   "nbconvert_exporter": "python",
   "pygments_lexer": "ipython3",
   "version": "3.4.3"
  }
 },
 "nbformat": 4,
 "nbformat_minor": 0
}
