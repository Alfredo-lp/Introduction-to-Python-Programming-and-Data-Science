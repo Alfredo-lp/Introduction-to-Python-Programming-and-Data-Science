{
 "cells": [
  {
   "cell_type": "markdown",
   "metadata": {},
   "source": [
    "# Review of variables and flow control\n",
    "\n",
    "So far today we have introduced several foundational skills related to the python data types and flow control. Let's step through some examples right now.\n",
    "\n",
    "Different languages are very interesting and some people can speak many of them very well. Below we have five sentences that all say \"I speak Portuguese very well.\""
   ]
  },
  {
   "cell_type": "code",
   "execution_count": 1,
   "metadata": {
    "collapsed": false
   },
   "outputs": [],
   "source": [
    "sentence_pt = \"Eu falo Português muito bem.\"\n",
    "sentence_en = \"I speak Portuguese very well.\"\n",
    "sentence_fr = \"Je parle Portugais très bien.\"\n",
    "sentence_de = \"Ich spreche Portugiesisch sehr gut.\"\n",
    "sentence_es = \"Hablo portugués muy bien\""
   ]
  },
  {
   "cell_type": "markdown",
   "metadata": {},
   "source": [
    "Create a dictionary named `sentences` where the `key` is the name of a language, and the `value` is a `list`. \n",
    "\n",
    "Initialize each `list` with a sentence in the corresponding language (use the variable name and remember about tab-completion!)"
   ]
  },
  {
   "cell_type": "code",
   "execution_count": 2,
   "metadata": {
    "collapsed": false
   },
   "outputs": [
    {
     "data": {
      "text/plain": [
       "{'english': ['I speak Portuguese very well.'],\n",
       " 'french': ['Je parle Portugais très bien.'],\n",
       " 'german': ['Ich spreche Portugiesisch sehr gut.'],\n",
       " 'portuguese': ['Eu falo Português muito bem.'],\n",
       " 'spanish': ['Hablo portugués muy bien']}"
      ]
     },
     "execution_count": 2,
     "metadata": {},
     "output_type": "execute_result"
    }
   ],
   "source": [
    "sentences = { 'portuguese': [sentence_pt], 'english': [sentence_en], 'french': [sentence_fr],\n",
    "            'german': [sentence_de], 'spanish': [sentence_es]}\n",
    "sentences"
   ]
  },
  {
   "cell_type": "markdown",
   "metadata": {},
   "source": [
    "Create a dictionary named `words` where the `key` is the name of a language, and the `value` is a `list`. \n",
    "\n",
    "Use a loop and information from the dictionary `sentences`."
   ]
  },
  {
   "cell_type": "code",
   "execution_count": 18,
   "metadata": {
    "collapsed": false
   },
   "outputs": [
    {
     "name": "stdout",
     "output_type": "stream",
     "text": [
      "english \t ['speak', 'Portuguese', 'very', 'well', 'I']\n",
      "french \t ['parle', 'très', 'bien', 'Je', 'Portugais']\n",
      "german \t ['gut', 'spreche', 'Portugiesisch', 'sehr', 'Ich']\n",
      "portuguese \t ['Eu', 'muito', 'falo', 'bem', 'Português']\n",
      "spanish \t ['portugués', 'muy', 'Hablo', 'bien']\n"
     ]
    }
   ],
   "source": [
    "words = {}\n",
    "\n",
    "punctuation_marks = ',.!?'\n",
    "\n",
    "for language in sentences.keys():\n",
    "    words[language] = []\n",
    "    \n",
    "    for line in sentences[language]:\n",
    "        cleaned_line = line.strip(punctuation_marks)\n",
    "        list_of_words = cleaned_line.split()\n",
    "        words[language].extend( list_of_words )\n",
    "        \n",
    "        # What about repeated words?????\n",
    "        words[language] = list( set(words[language]) )\n",
    "    \n",
    "    print(language, \"\\t\", words[language])\n",
    "        \n",
    "        "
   ]
  },
  {
   "cell_type": "markdown",
   "metadata": {},
   "source": [
    "Break each sentence into words and add them into the lists in the dictionary *words*.\n",
    "\n",
    "Use loops and string operations. "
   ]
  },
  {
   "cell_type": "code",
   "execution_count": null,
   "metadata": {
    "collapsed": false
   },
   "outputs": [],
   "source": []
  },
  {
   "cell_type": "markdown",
   "metadata": {},
   "source": [
    "Find the shortest word in the contents of the dictionary *words*."
   ]
  },
  {
   "cell_type": "code",
   "execution_count": 23,
   "metadata": {
    "collapsed": false
   },
   "outputs": [
    {
     "name": "stdout",
     "output_type": "stream",
     "text": [
      "1 I\n"
     ]
    }
   ],
   "source": [
    "#Find the shortest word in the contents of the dictionary words.\n",
    "\n",
    "current_min = 100\n",
    "shortest_word = 'Not yet!'\n",
    "\n",
    "for language in words.keys():\n",
    "    for single_word in words[language]:\n",
    "        \n",
    "        if len(single_word) < current_min:\n",
    "            current_min = len(single_word)\n",
    "            shortest_word = single_word\n",
    "            \n",
    "print(current_min, shortest_word)\n",
    "    \n"
   ]
  },
  {
   "cell_type": "markdown",
   "metadata": {},
   "source": [
    "Find the longest word in the contents of the dictionary *words*."
   ]
  },
  {
   "cell_type": "code",
   "execution_count": 24,
   "metadata": {
    "collapsed": false
   },
   "outputs": [
    {
     "name": "stdout",
     "output_type": "stream",
     "text": [
      "13 Portugiesisch\n"
     ]
    }
   ],
   "source": [
    "#Find the longest word in the contents of the dictionary words.\n",
    "\n",
    "current_max = 0\n",
    "longest_word = 'Not yet!'\n",
    "\n",
    "for language in words.keys():\n",
    "    for single_word in words[language]:\n",
    "        \n",
    "        if len(single_word) > current_max:\n",
    "            current_max = len(single_word)\n",
    "            longest_word = single_word\n",
    "            \n",
    "print(current_max, longest_word)\n",
    "    "
   ]
  },
  {
   "cell_type": "markdown",
   "metadata": {},
   "source": [
    "Now find the longest word that isn't German."
   ]
  },
  {
   "cell_type": "code",
   "execution_count": 26,
   "metadata": {
    "collapsed": false
   },
   "outputs": [
    {
     "name": "stdout",
     "output_type": "stream",
     "text": [
      "13 Portugiesisch\n"
     ]
    }
   ],
   "source": [
    "excluded_languages = [] #['german']\n",
    "current_max = 0\n",
    "longest_word = 'Not yet!'\n",
    "\n",
    "for language in words.keys():\n",
    "    if language not in excluded_languages:\n",
    "        for single_word in words[language]:\n",
    "\n",
    "            if len(single_word) > current_max:\n",
    "                current_max = len(single_word)\n",
    "                longest_word = single_word\n",
    "\n",
    "print(current_max, longest_word)"
   ]
  },
  {
   "cell_type": "markdown",
   "metadata": {},
   "source": [
    "Now find the shortest word that is not English or Portuguese."
   ]
  },
  {
   "cell_type": "code",
   "execution_count": null,
   "metadata": {
    "collapsed": false
   },
   "outputs": [],
   "source": []
  }
 ],
 "metadata": {
  "kernelspec": {
   "display_name": "Python 3",
   "language": "python",
   "name": "python3"
  },
  "language_info": {
   "codemirror_mode": {
    "name": "ipython",
    "version": 3
   },
   "file_extension": ".py",
   "mimetype": "text/x-python",
   "name": "python",
   "nbconvert_exporter": "python",
   "pygments_lexer": "ipython3",
   "version": "3.4.3"
  }
 },
 "nbformat": 4,
 "nbformat_minor": 0
}
