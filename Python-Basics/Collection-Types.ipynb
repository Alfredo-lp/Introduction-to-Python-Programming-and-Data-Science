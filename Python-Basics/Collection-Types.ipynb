{
 "metadata": {
  "name": "",
  "signature": "sha256:72b342e76f65830b30c150bec195e2c4a257fdbb6d9bde33335cba44582abf85"
 },
 "nbformat": 3,
 "nbformat_minor": 0,
 "worksheets": [
  {
   "cells": [
    {
     "cell_type": "markdown",
     "metadata": {},
     "source": [
      "#Collection Data Types\n",
      "\n",
      "We're moving on to the next four data types, these types aren't necessarily more complicated they just have a bit more to them since they can hold multiple elements unlike the integers, floats, booleans, and strings that we went over in the first lesson. This ability to hold multiple elements is why I've grouped them into one lesson and informally labelled them as `Collection` data types. Python doesn't actually make this distinction, but some other programming languages do.\n",
      "\n",
      "So the four data types we'll cover now are:\n",
      "\n",
      "* Lists\n",
      "* Tuples\n",
      "* Sets\n",
      "* Dictionaries\n",
      "\n",
      "But first, let's ease into this by working with our good old friend the `string` data type."
     ]
    },
    {
     "cell_type": "code",
     "collapsed": false,
     "input": [
      "introduction = \"Well, I thought that, maybe, you know, like, possibly?\""
     ],
     "language": "python",
     "metadata": {},
     "outputs": [],
     "prompt_number": 5
    },
    {
     "cell_type": "markdown",
     "metadata": {},
     "source": [
      "Now this introduction has a little lyrical flourish if you will, it has a large number of pauses as demonstrated by the commas. What if we wanted to get rid of them?\n",
      "\n",
      "In the last lesson we went over the `strip()` function to remove characters from the beginning or end of a string. Unfortunately, the commas are in the middle of the introduction so we can't use those. There is, however, another function that we can use to split apart a `string`. It is aptly labelled the `split()` function."
     ]
    },
    {
     "cell_type": "code",
     "collapsed": false,
     "input": [
      "introduction.split(',')"
     ],
     "language": "python",
     "metadata": {},
     "outputs": [
      {
       "metadata": {},
       "output_type": "pyout",
       "prompt_number": 6,
       "text": [
        "['Well', ' I thought that', ' maybe', ' you know', ' like', ' possibly?']"
       ]
      }
     ],
     "prompt_number": 6
    },
    {
     "cell_type": "markdown",
     "metadata": {},
     "source": [
      "**Whoa!** That isn't a string. \n",
      "\n",
      "Unlike the `strip()` function, the `split()` function returns a list. It is all of the individual elements in a string split apart based on the character we gave as input.\n",
      "\n",
      "We can tell that it's a list because it has multiple elements and it starts and ends with the brackets. The bracket symbol (`[]`) is what denotes a list."
     ]
    },
    {
     "cell_type": "markdown",
     "metadata": {},
     "source": [
      "#Lists\n",
      "\n",
      "A list is an ordered sequence of elements, with that order being specified by the order that the elements are in when the list is created or as elements are added to the list. We create a list by using the `[]` syntax.\n",
      "\n",
      "Let's go back to our imaginary pet store and list the types of pets that we carry."
     ]
    },
    {
     "cell_type": "code",
     "collapsed": false,
     "input": [
      "pets = ['dogs', 'cats', 'fish']\n",
      "pets"
     ],
     "language": "python",
     "metadata": {},
     "outputs": [
      {
       "metadata": {},
       "output_type": "pyout",
       "prompt_number": 7,
       "text": [
        "['dogs', 'cats', 'fish']"
       ]
      }
     ],
     "prompt_number": 7
    },
    {
     "cell_type": "markdown",
     "metadata": {},
     "source": [
      "Notice that the list printed the elements in the same order that they were in when we created the list.\n",
      "\n",
      "If we want to add an element to the list we can simply `append()` the element to the list."
     ]
    },
    {
     "cell_type": "code",
     "collapsed": false,
     "input": [
      "pets.append('hedgehog')\n",
      "\n",
      "pets"
     ],
     "language": "python",
     "metadata": {},
     "outputs": [
      {
       "metadata": {},
       "output_type": "pyout",
       "prompt_number": 8,
       "text": [
        "['dogs', 'cats', 'fish', 'hedgehog']"
       ]
      }
     ],
     "prompt_number": 8
    },
    {
     "cell_type": "markdown",
     "metadata": {},
     "source": [
      "Notice how when we used the `append()` function it changes the variable value. \n",
      "\n",
      "If we had multiple additional values that we wanted to add, we could append them individually. Or we could just `extend()` our list `pets` with the list of additional pets that our pet shop carries."
     ]
    },
    {
     "cell_type": "code",
     "collapsed": false,
     "input": [
      "pets.extend(['parrot', 'iguana'])\n",
      "\n",
      "pets"
     ],
     "language": "python",
     "metadata": {},
     "outputs": [
      {
       "metadata": {},
       "output_type": "pyout",
       "prompt_number": 9,
       "text": [
        "['dogs', 'cats', 'fish', 'hedgehog', 'parrot', 'iguana']"
       ]
      }
     ],
     "prompt_number": 9
    },
    {
     "cell_type": "markdown",
     "metadata": {},
     "source": [
      "We can also add two lists together."
     ]
    },
    {
     "cell_type": "code",
     "collapsed": false,
     "input": [
      "pets + ['chameleon', 'hamster']"
     ],
     "language": "python",
     "metadata": {},
     "outputs": [
      {
       "metadata": {},
       "output_type": "pyout",
       "prompt_number": 10,
       "text": [
        "['dogs',\n",
        " 'cats',\n",
        " 'fish',\n",
        " 'hedgehog',\n",
        " 'parrot',\n",
        " 'iguana',\n",
        " 'chameleon',\n",
        " 'hamster']"
       ]
      }
     ],
     "prompt_number": 10
    },
    {
     "cell_type": "markdown",
     "metadata": {},
     "source": [
      "But notice that the addition symbol doesn't change the value of `pets`"
     ]
    },
    {
     "cell_type": "code",
     "collapsed": false,
     "input": [
      "pets"
     ],
     "language": "python",
     "metadata": {},
     "outputs": [
      {
       "metadata": {},
       "output_type": "pyout",
       "prompt_number": 11,
       "text": [
        "['dogs', 'cats', 'fish', 'hedgehog', 'parrot', 'iguana']"
       ]
      }
     ],
     "prompt_number": 11
    },
    {
     "cell_type": "markdown",
     "metadata": {},
     "source": [
      "If we want to add to the list variable, we just set it equal to itself and the new list."
     ]
    },
    {
     "cell_type": "code",
     "collapsed": false,
     "input": [
      "pets = pets + ['chameleon', 'hamster']\n",
      "pets"
     ],
     "language": "python",
     "metadata": {},
     "outputs": [
      {
       "metadata": {},
       "output_type": "pyout",
       "prompt_number": 12,
       "text": [
        "['dogs',\n",
        " 'cats',\n",
        " 'fish',\n",
        " 'hedgehog',\n",
        " 'parrot',\n",
        " 'iguana',\n",
        " 'chameleon',\n",
        " 'hamster']"
       ]
      }
     ],
     "prompt_number": 12
    },
    {
     "cell_type": "markdown",
     "metadata": {},
     "source": [
      "And just like strings, we can use both of the additive math operators. I'll use a small number here to not flood the screen, but we can multiply the list too."
     ]
    },
    {
     "cell_type": "code",
     "collapsed": false,
     "input": [
      "print( pets * 2 )"
     ],
     "language": "python",
     "metadata": {},
     "outputs": [
      {
       "output_type": "stream",
       "stream": "stdout",
       "text": [
        "['dogs', 'cats', 'fish', 'hedgehog', 'parrot', 'iguana', 'chameleon', 'hamster', 'dogs', 'cats', 'fish', 'hedgehog', 'parrot', 'iguana', 'chameleon', 'hamster']\n"
       ]
      }
     ],
     "prompt_number": 13
    },
    {
     "cell_type": "markdown",
     "metadata": {},
     "source": [
      "But just like before subtraction and division don't work since it's not clear what should happen"
     ]
    },
    {
     "cell_type": "code",
     "collapsed": false,
     "input": [
      "pets - ['hamster']"
     ],
     "language": "python",
     "metadata": {},
     "outputs": [
      {
       "ename": "TypeError",
       "evalue": "unsupported operand type(s) for -: 'list' and 'list'",
       "output_type": "pyerr",
       "traceback": [
        "\u001b[0;31m---------------------------------------------------------------------------\u001b[0m\n\u001b[0;31mTypeError\u001b[0m                                 Traceback (most recent call last)",
        "\u001b[0;32m<ipython-input-14-9e725047e561>\u001b[0m in \u001b[0;36m<module>\u001b[0;34m()\u001b[0m\n\u001b[0;32m----> 1\u001b[0;31m \u001b[0mpets\u001b[0m \u001b[0;34m-\u001b[0m \u001b[0;34m[\u001b[0m\u001b[0;34m'hamster'\u001b[0m\u001b[0;34m]\u001b[0m\u001b[0;34m\u001b[0m\u001b[0m\n\u001b[0m",
        "\u001b[0;31mTypeError\u001b[0m: unsupported operand type(s) for -: 'list' and 'list'"
       ]
      }
     ],
     "prompt_number": 14
    },
    {
     "cell_type": "markdown",
     "metadata": {},
     "source": [
      "##Indexing and Slicing\n",
      "\n",
      "Since a list is made up of multiple elements, it makes sense that we will be able to get a single element by its index or a slice of elements. Remember to access an element by its index we do `variable[index]`."
     ]
    },
    {
     "cell_type": "code",
     "collapsed": false,
     "input": [
      "pets[1]"
     ],
     "language": "python",
     "metadata": {},
     "outputs": [
      {
       "metadata": {},
       "output_type": "pyout",
       "prompt_number": 75,
       "text": [
        "'dogs'"
       ]
      }
     ],
     "prompt_number": 75
    },
    {
     "cell_type": "markdown",
     "metadata": {},
     "source": [
      "And then slicing is just `variable[start_index : stop_index : step]`"
     ]
    },
    {
     "cell_type": "code",
     "collapsed": false,
     "input": [
      "pets[1 : 3]"
     ],
     "language": "python",
     "metadata": {},
     "outputs": [
      {
       "metadata": {},
       "output_type": "pyout",
       "prompt_number": 76,
       "text": [
        "['dogs', 'fish']"
       ]
      }
     ],
     "prompt_number": 76
    },
    {
     "cell_type": "markdown",
     "metadata": {},
     "source": [
      "Both of these operations work exactly like they did when we used strings.\n",
      "\n",
      "Now let's get to a big difference, `list` variables are **mutable**. That means that we can change one element of the list and this is the first type we've encountered that will let us do that. Let's say that we stopped selling cats because everyone just looks at them on the internet and now we carry sea monkeys. We could delete `cats` and append `sea monkeys` or we could just set the position that `cats` is in with `sea monkeys`."
     ]
    },
    {
     "cell_type": "code",
     "collapsed": false,
     "input": [
      "pets[1] = 'sea monkeys'\n",
      "pets"
     ],
     "language": "python",
     "metadata": {},
     "outputs": [
      {
       "metadata": {},
       "output_type": "pyout",
       "prompt_number": 77,
       "text": [
        "['chameleon',\n",
        " 'sea monkeys',\n",
        " 'fish',\n",
        " 'hedgehog',\n",
        " 'iguana',\n",
        " 'parrot',\n",
        " 'sea monkeys']"
       ]
      }
     ],
     "prompt_number": 77
    },
    {
     "cell_type": "markdown",
     "metadata": {},
     "source": [
      "If we want to find out the index of a value to use it, we can use the built-in function `index()`. We use indices to access specific parts of a list a lot so this is helpful"
     ]
    },
    {
     "cell_type": "code",
     "collapsed": false,
     "input": [
      "pets"
     ],
     "language": "python",
     "metadata": {},
     "outputs": [
      {
       "metadata": {},
       "output_type": "pyout",
       "prompt_number": 176,
       "text": [
        "['chameleon',\n",
        " 'fish',\n",
        " 'hedgehog',\n",
        " 'iguana',\n",
        " 'parrot',\n",
        " 'sea monkeys',\n",
        " ['golden retriever', 'terrier', 'greyhound', 'pug']]"
       ]
      }
     ],
     "prompt_number": 176
    },
    {
     "cell_type": "code",
     "collapsed": false,
     "input": [
      "pets.index('fish')"
     ],
     "language": "python",
     "metadata": {},
     "outputs": [
      {
       "metadata": {},
       "output_type": "pyout",
       "prompt_number": 175,
       "text": [
        "1"
       ]
      }
     ],
     "prompt_number": 175
    },
    {
     "cell_type": "markdown",
     "metadata": {},
     "source": [
      "Here are two more ways we can change the contents of a list:\n",
      "\n",
      "* `insert()` - inserts a new element at the specified index\n",
      "* `pop()` - removes and returns the element at the specified index"
     ]
    },
    {
     "cell_type": "code",
     "collapsed": false,
     "input": [
      "pets.insert(5, 'burger')\n",
      "pets"
     ],
     "language": "python",
     "metadata": {},
     "outputs": [
      {
       "metadata": {},
       "output_type": "pyout",
       "prompt_number": 78,
       "text": [
        "['chameleon',\n",
        " 'sea monkeys',\n",
        " 'fish',\n",
        " 'hedgehog',\n",
        " 'iguana',\n",
        " 'burger',\n",
        " 'parrot',\n",
        " 'sea monkeys']"
       ]
      }
     ],
     "prompt_number": 78
    },
    {
     "cell_type": "markdown",
     "metadata": {},
     "source": [
      "Wait, that's not a type of pet!"
     ]
    },
    {
     "cell_type": "code",
     "collapsed": false,
     "input": [
      "pets.pop(5)"
     ],
     "language": "python",
     "metadata": {},
     "outputs": [
      {
       "metadata": {},
       "output_type": "pyout",
       "prompt_number": 79,
       "text": [
        "'burger'"
       ]
      }
     ],
     "prompt_number": 79
    },
    {
     "cell_type": "code",
     "collapsed": false,
     "input": [
      "pets"
     ],
     "language": "python",
     "metadata": {},
     "outputs": [
      {
       "metadata": {},
       "output_type": "pyout",
       "prompt_number": 80,
       "text": [
        "['chameleon',\n",
        " 'sea monkeys',\n",
        " 'fish',\n",
        " 'hedgehog',\n",
        " 'iguana',\n",
        " 'parrot',\n",
        " 'sea monkeys']"
       ]
      }
     ],
     "prompt_number": 80
    },
    {
     "cell_type": "markdown",
     "metadata": {},
     "source": [
      "There is also the `remove()` function, with this we actually get to give the value that we want to be removed."
     ]
    },
    {
     "cell_type": "code",
     "collapsed": false,
     "input": [
      "pets.append('hamster')\n",
      "pets"
     ],
     "language": "python",
     "metadata": {},
     "outputs": [
      {
       "metadata": {},
       "output_type": "pyout",
       "prompt_number": 87,
       "text": [
        "['chameleon', 'fish', 'hedgehog', 'iguana', 'parrot', 'sea monkeys', 'hamster']"
       ]
      }
     ],
     "prompt_number": 87
    },
    {
     "cell_type": "code",
     "collapsed": false,
     "input": [
      "pets.remove('hamster')\n",
      "pets"
     ],
     "language": "python",
     "metadata": {},
     "outputs": [
      {
       "metadata": {},
       "output_type": "pyout",
       "prompt_number": 88,
       "text": [
        "['chameleon', 'fish', 'hedgehog', 'iguana', 'parrot', 'sea monkeys']"
       ]
      }
     ],
     "prompt_number": 88
    },
    {
     "cell_type": "markdown",
     "metadata": {},
     "source": [
      "However, you should be careful because if you try to remove a value and it doesn't exist then Python will give an error."
     ]
    },
    {
     "cell_type": "code",
     "collapsed": false,
     "input": [
      "pets.remove('hamster')"
     ],
     "language": "python",
     "metadata": {},
     "outputs": [
      {
       "ename": "ValueError",
       "evalue": "list.remove(x): x not in list",
       "output_type": "pyerr",
       "traceback": [
        "\u001b[0;31m---------------------------------------------------------------------------\u001b[0m\n\u001b[0;31mValueError\u001b[0m                                Traceback (most recent call last)",
        "\u001b[0;32m<ipython-input-89-bb19161ed3d0>\u001b[0m in \u001b[0;36m<module>\u001b[0;34m()\u001b[0m\n\u001b[0;32m----> 1\u001b[0;31m \u001b[0mpets\u001b[0m\u001b[0;34m.\u001b[0m\u001b[0mremove\u001b[0m\u001b[0;34m(\u001b[0m\u001b[0;34m'hamster'\u001b[0m\u001b[0;34m)\u001b[0m\u001b[0;34m\u001b[0m\u001b[0m\n\u001b[0m",
        "\u001b[0;31mValueError\u001b[0m: list.remove(x): x not in list"
       ]
      }
     ],
     "prompt_number": 89
    },
    {
     "cell_type": "markdown",
     "metadata": {},
     "source": [
      "Also, the `remove()` function will only remove the **first** instance of the variable in a list. If there is more than one entry then you would need to use remove again."
     ]
    },
    {
     "cell_type": "code",
     "collapsed": false,
     "input": [
      "pets.insert(2, 'hamster')\n",
      "pets.append('hamster')\n",
      "pets"
     ],
     "language": "python",
     "metadata": {},
     "outputs": [
      {
       "metadata": {},
       "output_type": "pyout",
       "prompt_number": 90,
       "text": [
        "['chameleon',\n",
        " 'fish',\n",
        " 'hamster',\n",
        " 'hedgehog',\n",
        " 'iguana',\n",
        " 'parrot',\n",
        " 'sea monkeys',\n",
        " 'hamster']"
       ]
      }
     ],
     "prompt_number": 90
    },
    {
     "cell_type": "code",
     "collapsed": false,
     "input": [
      "pets.remove('hamster')\n",
      "pets"
     ],
     "language": "python",
     "metadata": {},
     "outputs": [
      {
       "metadata": {},
       "output_type": "pyout",
       "prompt_number": 91,
       "text": [
        "['chameleon', 'fish', 'hedgehog', 'iguana', 'parrot', 'sea monkeys', 'hamster']"
       ]
      }
     ],
     "prompt_number": 91
    },
    {
     "cell_type": "markdown",
     "metadata": {},
     "source": [
      "We can also use `del` to remove an item from a `list`. If we don't specify an index though it will delete the **entire** variable from memory though! So be careful when you use `del`."
     ]
    },
    {
     "cell_type": "code",
     "collapsed": false,
     "input": [
      "del pets[-1]\n",
      "pets"
     ],
     "language": "python",
     "metadata": {},
     "outputs": [
      {
       "metadata": {},
       "output_type": "pyout",
       "prompt_number": 92,
       "text": [
        "['chameleon', 'fish', 'hedgehog', 'iguana', 'parrot', 'sea monkeys']"
       ]
      }
     ],
     "prompt_number": 92
    },
    {
     "cell_type": "markdown",
     "metadata": {},
     "source": [
      "So there we go, we can add elements to a list with:\n",
      "\n",
      "* `append()`\n",
      "* `extend()`\n",
      "* `insert()`\n",
      "* `+`\n",
      "\n",
      "We can remove elements from a list with:\n",
      "\n",
      "* `pop()`\n",
      "* `remove()`\n",
      "* `del`"
     ]
    },
    {
     "cell_type": "markdown",
     "metadata": {},
     "source": [
      "Lists have other built-in methods too besides the maintenance functions of adding and deleting elements. For example, we can reverse a list"
     ]
    },
    {
     "cell_type": "code",
     "collapsed": false,
     "input": [
      "print('Initial pets', pets)\n",
      "pets.reverse()\n",
      "print('Reversed pets', pets)"
     ],
     "language": "python",
     "metadata": {},
     "outputs": [
      {
       "output_type": "stream",
       "stream": "stdout",
       "text": [
        "Initial pets ['chameleon', 'sea monkeys', 'fish', 'hedgehog', 'iguana', 'parrot']\n",
        "Reversed pets ['parrot', 'iguana', 'hedgehog', 'fish', 'sea monkeys', 'chameleon']\n"
       ]
      }
     ],
     "prompt_number": 82
    },
    {
     "cell_type": "markdown",
     "metadata": {},
     "source": [
      "And we can also sort the list"
     ]
    },
    {
     "cell_type": "code",
     "collapsed": false,
     "input": [
      "print('Initial pets', pets)\n",
      "pets.sort()\n",
      "print('Sorted pets', pets)"
     ],
     "language": "python",
     "metadata": {},
     "outputs": [
      {
       "output_type": "stream",
       "stream": "stdout",
       "text": [
        "Initial pets ['parrot', 'iguana', 'hedgehog', 'fish', 'sea monkeys', 'chameleon']\n",
        "Sorted pets ['chameleon', 'fish', 'hedgehog', 'iguana', 'parrot', 'sea monkeys']\n"
       ]
      }
     ],
     "prompt_number": 83
    },
    {
     "cell_type": "markdown",
     "metadata": {},
     "source": [
      "Note that both of those operations worked directly on the variable itself and changed it. If we want to perform one of these functions without changing the variable's value we can use the `sorted()` and `reversed()` functions on the variable instead of the built-in `sort()` and `reverse()`. (Note that in order to make these statements print I have to cast it as a list. This is new in Python 3 and it isn't that important why this distinction is necessary right now)."
     ]
    },
    {
     "cell_type": "code",
     "collapsed": false,
     "input": [
      "print( \"Reversing the list\", list( reversed(pets) ) )\n",
      "\n",
      "print( \"The original list\", pets )"
     ],
     "language": "python",
     "metadata": {},
     "outputs": [
      {
       "output_type": "stream",
       "stream": "stdout",
       "text": [
        "Reversing the list ['sea monkeys', 'parrot', 'iguana', 'hedgehog', 'fish', 'chameleon']\n",
        "The original list ['chameleon', 'fish', 'hedgehog', 'iguana', 'parrot', 'sea monkeys']\n"
       ]
      }
     ],
     "prompt_number": 84
    },
    {
     "cell_type": "markdown",
     "metadata": {},
     "source": [
      "Another very useful function that works on the `list` type like `sorted()` and `reversed()` is `len()`.\n",
      "\n",
      "`len()` tells us the **len**gth of the list (or, said another way, the number of items in it)."
     ]
    },
    {
     "cell_type": "code",
     "collapsed": false,
     "input": [
      "len(pets)"
     ],
     "language": "python",
     "metadata": {},
     "outputs": [
      {
       "metadata": {},
       "output_type": "pyout",
       "prompt_number": 174,
       "text": [
        "7"
       ]
      }
     ],
     "prompt_number": 174
    },
    {
     "cell_type": "markdown",
     "metadata": {},
     "source": [
      "## Nesting"
     ]
    },
    {
     "cell_type": "markdown",
     "metadata": {},
     "source": [
      "So far the elements that I've shown in a `list` have been `string`, `float`, or `integer` data types. Does that mean that a `list` can only hold the basic data types?\n",
      "\n",
      "Nope! Lists can contain other `list` variables, just like this:\n",
      "<img width='400' style=\"float:center\" src='../images/nesting_dolls.jpg')></img>\n",
      "\n",
      "Now just to prove it, I'll change our `pets` list to have the different breeds of dogs as an element."
     ]
    },
    {
     "cell_type": "code",
     "collapsed": false,
     "input": [
      "dog_breeds = ['bulldog', 'terrier', 'greyhound']\n",
      "pets.append(dog_breeds)\n",
      "pets"
     ],
     "language": "python",
     "metadata": {},
     "outputs": [
      {
       "metadata": {},
       "output_type": "pyout",
       "prompt_number": 94,
       "text": [
        "['chameleon',\n",
        " 'fish',\n",
        " 'hedgehog',\n",
        " 'iguana',\n",
        " 'parrot',\n",
        " 'sea monkeys',\n",
        " ['bulldog', 'terrier', 'greyhound']]"
       ]
      }
     ],
     "prompt_number": 94
    },
    {
     "cell_type": "markdown",
     "metadata": {},
     "source": [
      "But wait, what if we want to access just one of the dog breeds and print it to the screen? How do we do that?\n",
      "\n",
      "Well I appended the `dog_breeds` variable to `pets`, so why don't we just try to access the last element of `pets` and see what happens."
     ]
    },
    {
     "cell_type": "code",
     "collapsed": false,
     "input": [
      "pets[-1]"
     ],
     "language": "python",
     "metadata": {},
     "outputs": [
      {
       "metadata": {},
       "output_type": "pyout",
       "prompt_number": 95,
       "text": [
        "['bulldog', 'terrier', 'greyhound']"
       ]
      }
     ],
     "prompt_number": 95
    },
    {
     "cell_type": "markdown",
     "metadata": {},
     "source": [
      "A-ha! So the last element of `pets` is the entire `dog_breeds` `list`. \n",
      "\n",
      "I bet we can access a single element by its index in that list too. Let's give a `0` index so that we print `bulldog`. Since these `list` variables are nested though, we need to give nested directions to the value. We do that just by putting one set of `[]` next to another `[]`. When Python navigates through your list variable it will always read the indices from left to right, with the leftmost `[]` being the topmost `list`."
     ]
    },
    {
     "cell_type": "code",
     "collapsed": false,
     "input": [
      "pets[-1][0]"
     ],
     "language": "python",
     "metadata": {},
     "outputs": [
      {
       "metadata": {},
       "output_type": "pyout",
       "prompt_number": 97,
       "text": [
        "'bulldog'"
       ]
      }
     ],
     "prompt_number": 97
    },
    {
     "cell_type": "markdown",
     "metadata": {},
     "source": [
      "Visually I like to think of nested lists like this:\n",
      "\n",
      "<img src='../images/nesting.svg'></img>\n",
      "\n",
      "Also, we can change the values inside our nested lists just like at our topmost `list` and use all of our normal `list` functions that we used before."
     ]
    },
    {
     "cell_type": "code",
     "collapsed": false,
     "input": [
      "pets[-1][0] = 'golden retriever'\n",
      "pets"
     ],
     "language": "python",
     "metadata": {},
     "outputs": [
      {
       "metadata": {},
       "output_type": "pyout",
       "prompt_number": 99,
       "text": [
        "['chameleon',\n",
        " 'fish',\n",
        " 'hedgehog',\n",
        " 'iguana',\n",
        " 'parrot',\n",
        " 'sea monkeys',\n",
        " ['golden retriever', 'terrier', 'greyhound']]"
       ]
      }
     ],
     "prompt_number": 99
    },
    {
     "cell_type": "code",
     "collapsed": false,
     "input": [
      "pets[-1].append('pug')\n",
      "pets"
     ],
     "language": "python",
     "metadata": {},
     "outputs": [
      {
       "metadata": {},
       "output_type": "pyout",
       "prompt_number": 100,
       "text": [
        "['chameleon',\n",
        " 'fish',\n",
        " 'hedgehog',\n",
        " 'iguana',\n",
        " 'parrot',\n",
        " 'sea monkeys',\n",
        " ['golden retriever', 'terrier', 'greyhound', 'pug']]"
       ]
      }
     ],
     "prompt_number": 100
    },
    {
     "cell_type": "markdown",
     "metadata": {},
     "source": [
      "# Tuples\n",
      "\n",
      "Tuples arey similar to `list` variables at the outset.\n",
      "\n",
      "* Both Tuples and Lists contain a sequence of individual elements\n",
      "* Both Tuples and Lists are stored in the same order as they are created\n",
      "* Both Tuples and Lists can store mixed data types\n",
      "* We access individual elements with the syntax `variable[index]`\n",
      "\n",
      "So what are the differences? Well the first one is that the syntax for a `list` is `[]` while the syntax for a `tuple` is `()`. Let's create a tuple that stores the attributes for our golden retriever who is named `penny`."
     ]
    },
    {
     "cell_type": "code",
     "collapsed": false,
     "input": [
      "penny = (60, 75, 'yellow') #Length (in), Weight (lbs), Color \n",
      "print( type(penny) )\n",
      "penny"
     ],
     "language": "python",
     "metadata": {},
     "outputs": [
      {
       "output_type": "stream",
       "stream": "stdout",
       "text": [
        "<class 'tuple'>\n"
       ]
      },
      {
       "metadata": {},
       "output_type": "pyout",
       "prompt_number": 102,
       "text": [
        "(60, 75, 'yellow')"
       ]
      }
     ],
     "prompt_number": 102
    },
    {
     "cell_type": "markdown",
     "metadata": {},
     "source": [
      "Now we have a `tuple` that has all of the attributes for our dog `penny`. Notice that since it wasn't necessarily clear what each of the individual elements stood for in the variable that I made a comment next to it stating what each field was. We can make a comment anytime we want in Python by using the `#` symbol. Whatever we type after the `#` on the same line will be ignored by Python.\n",
      "\n",
      "The second difference is that tuples are **immutable**. This means that we can **not** change one of the elements or delete elements from it. Tuples also do not have any built-in functions to add elements to themselves."
     ]
    },
    {
     "cell_type": "code",
     "collapsed": false,
     "input": [
      "penny[-1] = 'amber'"
     ],
     "language": "python",
     "metadata": {},
     "outputs": [
      {
       "ename": "TypeError",
       "evalue": "'tuple' object does not support item assignment",
       "output_type": "pyerr",
       "traceback": [
        "\u001b[0;31m---------------------------------------------------------------------------\u001b[0m\n\u001b[0;31mTypeError\u001b[0m                                 Traceback (most recent call last)",
        "\u001b[0;32m<ipython-input-103-bcbc7e51ef9a>\u001b[0m in \u001b[0;36m<module>\u001b[0;34m()\u001b[0m\n\u001b[0;32m----> 1\u001b[0;31m \u001b[0mpenny\u001b[0m\u001b[0;34m[\u001b[0m\u001b[0;34m-\u001b[0m\u001b[0;36m1\u001b[0m\u001b[0;34m]\u001b[0m \u001b[0;34m=\u001b[0m \u001b[0;34m'amber'\u001b[0m\u001b[0;34m\u001b[0m\u001b[0m\n\u001b[0m",
        "\u001b[0;31mTypeError\u001b[0m: 'tuple' object does not support item assignment"
       ]
      }
     ],
     "prompt_number": 103
    },
    {
     "cell_type": "code",
     "collapsed": false,
     "input": [
      "del penny[1]"
     ],
     "language": "python",
     "metadata": {},
     "outputs": [
      {
       "ename": "TypeError",
       "evalue": "'tuple' object doesn't support item deletion",
       "output_type": "pyerr",
       "traceback": [
        "\u001b[0;31m---------------------------------------------------------------------------\u001b[0m\n\u001b[0;31mTypeError\u001b[0m                                 Traceback (most recent call last)",
        "\u001b[0;32m<ipython-input-104-a222675ce980>\u001b[0m in \u001b[0;36m<module>\u001b[0;34m()\u001b[0m\n\u001b[0;32m----> 1\u001b[0;31m \u001b[0;32mdel\u001b[0m \u001b[0mpenny\u001b[0m\u001b[0;34m[\u001b[0m\u001b[0;36m1\u001b[0m\u001b[0;34m]\u001b[0m\u001b[0;34m\u001b[0m\u001b[0m\n\u001b[0m",
        "\u001b[0;31mTypeError\u001b[0m: 'tuple' object doesn't support item deletion"
       ]
      }
     ],
     "prompt_number": 104
    },
    {
     "cell_type": "markdown",
     "metadata": {},
     "source": [
      "We can still perform the additive operators with tuples though"
     ]
    },
    {
     "cell_type": "code",
     "collapsed": false,
     "input": [
      "penny + ('amber', 'stinky') #Eye color, breath smell"
     ],
     "language": "python",
     "metadata": {},
     "outputs": [
      {
       "metadata": {},
       "output_type": "pyout",
       "prompt_number": 106,
       "text": [
        "(60, 75, 'yellow', 'amber', 'stinky')"
       ]
      }
     ],
     "prompt_number": 106
    },
    {
     "cell_type": "markdown",
     "metadata": {},
     "source": [
      "We just need to be careful if there is only one element in the tuple that we want to add though. To specify a tuple with only one element we have to use the syntax `(value, )` because without the comma, Python will think that we are trying to use the parentheses as a mathematical operation."
     ]
    },
    {
     "cell_type": "code",
     "collapsed": false,
     "input": [
      "penny + ('amber', )"
     ],
     "language": "python",
     "metadata": {},
     "outputs": [
      {
       "metadata": {},
       "output_type": "pyout",
       "prompt_number": 107,
       "text": [
        "(60, 75, 'yellow', 'amber')"
       ]
      }
     ],
     "prompt_number": 107
    },
    {
     "cell_type": "markdown",
     "metadata": {},
     "source": [
      "Otherwise, we can put any data type inside a `tuple`, nest `lists` and `tuples` inside a `tuple`, and index nested `lists` and `tuples` exactly like we do with a `list`.\n",
      "\n",
      "#### So wait, why are there both lists and tuples? This doesn't make any sense!! I demand for things to make sense!!\n",
      "\n",
      "I know, right now it's pretty hard to see why you would use one data type over the other. To be honest, it isn't even always that clear after programming for a little bit and typically most beginners just prefer to use `lists` for their ability to be manipulated.\n",
      "\n",
      "But this is why we have both types of variables in theory.\n",
      "\n",
      "A `list` will typically hold homogenous elements. This means that, in theory, every element within a `list` to be of the same category. That's because when we have a `list` we may want to perform an action to every element within it.\n",
      "\n",
      "A `tuple` will typically hold heterogeneous elements. This means that, in theory, every element will not be the same. \n",
      "\n",
      "To make this concrete, with our `pets` list every single element was a pet species. They were different values, but they were all within the same category.\n",
      "\n",
      "With our `penny` tuple, each element was different. We stored her length, weight, and color. If we changed the color value, the new variable likely wouldn't be `Penny` the dog at all unless some mischievious kids broke into the store and dyed her fur! \n",
      "\n",
      "It's this line of thinking that cause some people to refer to a `tuple` as a `record`. The `penny` variable is a record for a specific animal and if we were to change one of its values then it would no longer be the record for `penny`.\n",
      "\n",
      "In practice though, Python doesn't enforce your usage of these data types and you can choose to use either one. It's important to be aware of the distinction though, because many functions and programs written by others that we will use later will return a `tuple` back. Just remember to not try and change the contents of a `tuple`!"
     ]
    },
    {
     "cell_type": "markdown",
     "metadata": {},
     "source": [
      "# Sets\n",
      "\n",
      "The concept of a `set` comes quite directly from math. It appears to be similar to a `list` and a `tuple` but it is quite different (thank goodness after all those similarities between `lists` and `tuples` right?).\n",
      "\n",
      "A `set` is an unordered collection of unique elements. We use the `{}` notation to create a `set` variable. Let's make a short `set` of the unique pet types that we carry."
     ]
    },
    {
     "cell_type": "code",
     "collapsed": false,
     "input": [
      "unique_pets = {'bulldog', 'hamster', 'parrot'}\n",
      "\n",
      "unique_pets"
     ],
     "language": "python",
     "metadata": {},
     "outputs": [
      {
       "metadata": {},
       "output_type": "pyout",
       "prompt_number": 112,
       "text": [
        "{'bulldog', 'hamster', 'parrot'}"
       ]
      }
     ],
     "prompt_number": 112
    },
    {
     "cell_type": "markdown",
     "metadata": {},
     "source": [
      "If we try to make a set with more than one element that it is the same, the second occurence will be discarded."
     ]
    },
    {
     "cell_type": "code",
     "collapsed": false,
     "input": [
      "not_so_unique_pets = {'bulldog', 'hamster', 'parrot', 'hamster'}\n",
      "not_so_unique_pets"
     ],
     "language": "python",
     "metadata": {},
     "outputs": [
      {
       "metadata": {},
       "output_type": "pyout",
       "prompt_number": 110,
       "text": [
        "{'bulldog', 'hamster', 'parrot'}"
       ]
      }
     ],
     "prompt_number": 110
    },
    {
     "cell_type": "markdown",
     "metadata": {},
     "source": [
      "We can cast a `list` or `tuple` into a `set` and when we do it will discard all duplicate elements also."
     ]
    },
    {
     "cell_type": "code",
     "collapsed": false,
     "input": [
      "not_so_unique_pets_list = ['bulldog', 'hamster', 'parrot', 'hamster']\n",
      "print(not_so_unique_pets_list)\n",
      "set(not_so_unique_pets_list)"
     ],
     "language": "python",
     "metadata": {},
     "outputs": [
      {
       "output_type": "stream",
       "stream": "stdout",
       "text": [
        "['bulldog', 'hamster', 'parrot', 'hamster']\n"
       ]
      },
      {
       "metadata": {},
       "output_type": "pyout",
       "prompt_number": 111,
       "text": [
        "{'bulldog', 'hamster', 'parrot'}"
       ]
      }
     ],
     "prompt_number": 111
    },
    {
     "cell_type": "markdown",
     "metadata": {},
     "source": [
      "Sets are mutable like a `list`, but they don't use the same built-in functions. Instead of `append()` to add an item we just have the function `add()`"
     ]
    },
    {
     "cell_type": "code",
     "collapsed": false,
     "input": [
      "unique_pets.add('gerbil')\n",
      "unique_pets"
     ],
     "language": "python",
     "metadata": {},
     "outputs": [
      {
       "metadata": {},
       "output_type": "pyout",
       "prompt_number": 115,
       "text": [
        "{'bulldog', 'gerbil', 'hamster', 'parrot'}"
       ]
      }
     ],
     "prompt_number": 115
    },
    {
     "cell_type": "markdown",
     "metadata": {},
     "source": [
      "To remove an element from a `set` we use the `discard()` function instead of the `remove()` function like in a list."
     ]
    },
    {
     "cell_type": "code",
     "collapsed": false,
     "input": [
      "unique_pets.discard('parrot')\n",
      "unique_pets"
     ],
     "language": "python",
     "metadata": {},
     "outputs": [
      {
       "metadata": {},
       "output_type": "pyout",
       "prompt_number": 118,
       "text": [
        "{'bulldog', 'gerbil', 'hamster'}"
       ]
      }
     ],
     "prompt_number": 118
    },
    {
     "cell_type": "markdown",
     "metadata": {},
     "source": [
      "However, we cannot add two sets together or multiply them"
     ]
    },
    {
     "cell_type": "code",
     "collapsed": false,
     "input": [
      "{'parrot', 'bulldog'} + {'gerbil'}"
     ],
     "language": "python",
     "metadata": {},
     "outputs": [
      {
       "ename": "TypeError",
       "evalue": "unsupported operand type(s) for +: 'set' and 'set'",
       "output_type": "pyerr",
       "traceback": [
        "\u001b[0;31m---------------------------------------------------------------------------\u001b[0m\n\u001b[0;31mTypeError\u001b[0m                                 Traceback (most recent call last)",
        "\u001b[0;32m<ipython-input-122-65d003777998>\u001b[0m in \u001b[0;36m<module>\u001b[0;34m()\u001b[0m\n\u001b[0;32m----> 1\u001b[0;31m \u001b[0;34m{\u001b[0m\u001b[0;34m'parrot'\u001b[0m\u001b[0;34m,\u001b[0m \u001b[0;34m'bulldog'\u001b[0m\u001b[0;34m}\u001b[0m \u001b[0;34m+\u001b[0m \u001b[0;34m{\u001b[0m\u001b[0;34m'gerbil'\u001b[0m\u001b[0;34m}\u001b[0m\u001b[0;34m\u001b[0m\u001b[0m\n\u001b[0m",
        "\u001b[0;31mTypeError\u001b[0m: unsupported operand type(s) for +: 'set' and 'set'"
       ]
      }
     ],
     "prompt_number": 122
    },
    {
     "cell_type": "code",
     "collapsed": false,
     "input": [
      "{'parrot', 'bulldog'} * 2"
     ],
     "language": "python",
     "metadata": {},
     "outputs": [
      {
       "ename": "TypeError",
       "evalue": "unsupported operand type(s) for *: 'set' and 'int'",
       "output_type": "pyerr",
       "traceback": [
        "\u001b[0;31m---------------------------------------------------------------------------\u001b[0m\n\u001b[0;31mTypeError\u001b[0m                                 Traceback (most recent call last)",
        "\u001b[0;32m<ipython-input-123-006deaa158c8>\u001b[0m in \u001b[0;36m<module>\u001b[0;34m()\u001b[0m\n\u001b[0;32m----> 1\u001b[0;31m \u001b[0;34m{\u001b[0m\u001b[0;34m'parrot'\u001b[0m\u001b[0;34m,\u001b[0m \u001b[0;34m'bulldog'\u001b[0m\u001b[0;34m}\u001b[0m \u001b[0;34m*\u001b[0m \u001b[0;36m2\u001b[0m\u001b[0;34m\u001b[0m\u001b[0m\n\u001b[0m",
        "\u001b[0;31mTypeError\u001b[0m: unsupported operand type(s) for *: 'set' and 'int'"
       ]
      }
     ],
     "prompt_number": 123
    },
    {
     "cell_type": "markdown",
     "metadata": {},
     "source": [
      "Instead we use specific mathematical operations with `set` variables. These are the `intersection`, `union`, or `difference` functions. This can be extremely useful in some cases.\n",
      "\n",
      "For example, let's say that we have two pet stores and we don't have all of the same pets at each store."
     ]
    },
    {
     "cell_type": "code",
     "collapsed": false,
     "input": [
      "store_one = {'bulldog', 'parrot', 'hamster', 'fish'}\n",
      "store_two = {'fish', 'parrot', 'terrier', 'cat'}"
     ],
     "language": "python",
     "metadata": {},
     "outputs": [],
     "prompt_number": 119
    },
    {
     "cell_type": "markdown",
     "metadata": {},
     "source": [
      "If we wanted to find out what pets we carried at both stores we could just see what the `intersection` is between the store variables."
     ]
    },
    {
     "cell_type": "code",
     "collapsed": false,
     "input": [
      "store_one.intersection(store_two)"
     ],
     "language": "python",
     "metadata": {},
     "outputs": [
      {
       "metadata": {},
       "output_type": "pyout",
       "prompt_number": 120,
       "text": [
        "{'fish', 'parrot'}"
       ]
      }
     ],
     "prompt_number": 120
    },
    {
     "cell_type": "markdown",
     "metadata": {},
     "source": [
      "If we wanted to know all the unique pets that we carried across both stores we would use the `union` function"
     ]
    },
    {
     "cell_type": "code",
     "collapsed": false,
     "input": [
      "store_one.union(store_two)"
     ],
     "language": "python",
     "metadata": {},
     "outputs": [
      {
       "metadata": {},
       "output_type": "pyout",
       "prompt_number": 124,
       "text": [
        "{'bulldog', 'cat', 'fish', 'hamster', 'parrot', 'terrier'}"
       ]
      }
     ],
     "prompt_number": 124
    },
    {
     "cell_type": "markdown",
     "metadata": {},
     "source": [
      "And if we wanted to know what pets that we carried at store one and not at store two we would use the `difference`"
     ]
    },
    {
     "cell_type": "code",
     "collapsed": false,
     "input": [
      "store_one.difference(store_two)"
     ],
     "language": "python",
     "metadata": {},
     "outputs": [
      {
       "metadata": {},
       "output_type": "pyout",
       "prompt_number": 125,
       "text": [
        "{'bulldog', 'hamster'}"
       ]
      }
     ],
     "prompt_number": 125
    },
    {
     "cell_type": "markdown",
     "metadata": {},
     "source": [
      "The same is done if we wanted the unique pets from store two that weren't at store one, we just need to ask for the difference starting from `store_two`"
     ]
    },
    {
     "cell_type": "code",
     "collapsed": false,
     "input": [
      "store_two.difference(store_one)"
     ],
     "language": "python",
     "metadata": {},
     "outputs": [
      {
       "metadata": {},
       "output_type": "pyout",
       "prompt_number": 126,
       "text": [
        "{'cat', 'terrier'}"
       ]
      }
     ],
     "prompt_number": 126
    },
    {
     "cell_type": "markdown",
     "metadata": {},
     "source": [
      "# Transformations\n",
      "\n",
      "Since a `set`, `list`, and `tuple` are all a collection of elements, we can easily convert a variable from one type to the other as needed. We just need to cast the variable."
     ]
    },
    {
     "cell_type": "code",
     "collapsed": false,
     "input": [
      "list_unique_pets = list( unique_pets )\n",
      "print(list_unique_pets)\n",
      "type(list_unique_pets)"
     ],
     "language": "python",
     "metadata": {},
     "outputs": [
      {
       "output_type": "stream",
       "stream": "stdout",
       "text": [
        "['hamster', 'gerbil', 'bulldog']\n"
       ]
      },
      {
       "metadata": {},
       "output_type": "pyout",
       "prompt_number": 127,
       "text": [
        "list"
       ]
      }
     ],
     "prompt_number": 127
    },
    {
     "cell_type": "code",
     "collapsed": false,
     "input": [
      "tuple_unique_pets = tuple( list(unique_pets) )\n",
      "print(tuple_unique_pets)\n",
      "type(tuple_unique_pets)"
     ],
     "language": "python",
     "metadata": {},
     "outputs": [
      {
       "output_type": "stream",
       "stream": "stdout",
       "text": [
        "('hamster', 'gerbil', 'bulldog')\n"
       ]
      },
      {
       "metadata": {},
       "output_type": "pyout",
       "prompt_number": 128,
       "text": [
        "tuple"
       ]
      }
     ],
     "prompt_number": 128
    },
    {
     "cell_type": "code",
     "collapsed": false,
     "input": [
      "reset_unique_pets = set(tuple_unique_pets)\n",
      "print(reset_unique_pets)\n",
      "type(reset_unique_pets)"
     ],
     "language": "python",
     "metadata": {},
     "outputs": [
      {
       "output_type": "stream",
       "stream": "stdout",
       "text": [
        "{'hamster', 'gerbil', 'bulldog'}\n"
       ]
      },
      {
       "metadata": {},
       "output_type": "pyout",
       "prompt_number": 129,
       "text": [
        "set"
       ]
      }
     ],
     "prompt_number": 129
    },
    {
     "cell_type": "markdown",
     "metadata": {},
     "source": [
      "# Dictionaries\n",
      "\n",
      "A dictionary (which I'll also refer to as `dict`) is a bit of a twist in terms of the variable types that we've seen so far. A dictionary is a collection of elements, but it isn't as flat as a `list`, `tuple` or `set`.\n",
      "\n",
      "Each element in a dictionary is an `item`, and every `item` has both a `key` and a `value`. We use the `key` to \"look up\" the `value`. This concept is just like if we wanted to look up the meaning of a word in a real dictionary. Also, just like in a real dictionary, it means that all of the `keys` **must** be unique. If we had a `key` multiple times, then we wouldn't know where to go look up its `value`.\n",
      "\n",
      "To create a dictionary we use the `{}` syntax like a `set` (which makes sense, since all of the keys must be unique like in a `set`). However, since a dictionary is `key-value` pairs each individual `key-value` pair we list is separated by a `:`. This looks like this:\n",
      "\n",
      "`dict = {key : value, key : value}`\n",
      "\n",
      "Notice that each item is separated by a `,` (just like in the other collection variables) and the `:` is the new additional syntax to separate the `key` and `value`.\n",
      "\n",
      "Let's make a dictionary that lists the weights of the pets we keep."
     ]
    },
    {
     "cell_type": "code",
     "collapsed": false,
     "input": [
      "weights = {'penny': 75, 'jenny': 0.5, 'benny': 10}\n",
      "weights"
     ],
     "language": "python",
     "metadata": {},
     "outputs": [
      {
       "metadata": {},
       "output_type": "pyout",
       "prompt_number": 139,
       "text": [
        "{'jenny': 0.5, 'penny': 75, 'benny': 10}"
       ]
      }
     ],
     "prompt_number": 139
    },
    {
     "cell_type": "markdown",
     "metadata": {},
     "source": [
      "Now something important is that the `keys` in a dictionary are **unordered**, just like in a `set`. That means that while we think they should be sorted or ordered in some way, the variable just isn't stored that way. It also means that if you work on this lesson next to a friend, your variable may not print out in the same order as theirs.\n",
      "\n",
      "So how can we access the value of an element if it doesn't have an index then?\n",
      "\n",
      "Well, we actually use the same syntax as before: `dict[ ]`, but instead of putting in the index of an element we give the `key` and get its corresponding value."
     ]
    },
    {
     "cell_type": "code",
     "collapsed": false,
     "input": [
      "weights['jenny']"
     ],
     "language": "python",
     "metadata": {},
     "outputs": [
      {
       "metadata": {},
       "output_type": "pyout",
       "prompt_number": 140,
       "text": [
        "0.5"
       ]
      }
     ],
     "prompt_number": 140
    },
    {
     "cell_type": "markdown",
     "metadata": {},
     "source": [
      "If we want to change the value of a `key`, we just set its value again. Let's say that Jenny the fish ate all the food in the fish tank and has now doubled in size."
     ]
    },
    {
     "cell_type": "code",
     "collapsed": false,
     "input": [
      "weights['jenny'] = 1.0\n",
      "\n",
      "weights"
     ],
     "language": "python",
     "metadata": {},
     "outputs": [
      {
       "metadata": {},
       "output_type": "pyout",
       "prompt_number": 141,
       "text": [
        "{'jenny': 1.0, 'penny': 75, 'benny': 10}"
       ]
      }
     ],
     "prompt_number": 141
    },
    {
     "cell_type": "markdown",
     "metadata": {},
     "source": [
      "If we want to add a `key-value` pair to the dictionary we just access a new `key` and assign a value."
     ]
    },
    {
     "cell_type": "code",
     "collapsed": false,
     "input": [
      "weights['wendy'] = 5\n",
      "weights"
     ],
     "language": "python",
     "metadata": {},
     "outputs": [
      {
       "metadata": {},
       "output_type": "pyout",
       "prompt_number": 142,
       "text": [
        "{'jenny': 1.0, 'wendy': 5, 'penny': 75, 'benny': 10}"
       ]
      }
     ],
     "prompt_number": 142
    },
    {
     "cell_type": "markdown",
     "metadata": {},
     "source": [
      "Just like a `set` we cannot add two dictionaries together or multiply a dictionary"
     ]
    },
    {
     "cell_type": "code",
     "collapsed": false,
     "input": [
      "weights + {'jeff': 10, 'bobby': 8}"
     ],
     "language": "python",
     "metadata": {},
     "outputs": [
      {
       "ename": "TypeError",
       "evalue": "unsupported operand type(s) for +: 'dict' and 'dict'",
       "output_type": "pyerr",
       "traceback": [
        "\u001b[0;31m---------------------------------------------------------------------------\u001b[0m\n\u001b[0;31mTypeError\u001b[0m                                 Traceback (most recent call last)",
        "\u001b[0;32m<ipython-input-143-cd037602fef8>\u001b[0m in \u001b[0;36m<module>\u001b[0;34m()\u001b[0m\n\u001b[0;32m----> 1\u001b[0;31m \u001b[0mweights\u001b[0m \u001b[0;34m+\u001b[0m \u001b[0;34m{\u001b[0m\u001b[0;34m'jeff'\u001b[0m\u001b[0;34m:\u001b[0m \u001b[0;36m10\u001b[0m\u001b[0;34m,\u001b[0m \u001b[0;34m'bobby'\u001b[0m\u001b[0;34m:\u001b[0m \u001b[0;36m8\u001b[0m\u001b[0;34m}\u001b[0m\u001b[0;34m\u001b[0m\u001b[0m\n\u001b[0m",
        "\u001b[0;31mTypeError\u001b[0m: unsupported operand type(s) for +: 'dict' and 'dict'"
       ]
      }
     ],
     "prompt_number": 143
    },
    {
     "cell_type": "markdown",
     "metadata": {},
     "source": [
      "However, if we want to add multiple `key-value` pairs we can use the `update()` function on a dictionary variable."
     ]
    },
    {
     "cell_type": "code",
     "collapsed": false,
     "input": [
      "weights.update({'jeff': 10, 'bobby': 8})\n",
      "weights"
     ],
     "language": "python",
     "metadata": {},
     "outputs": [
      {
       "metadata": {},
       "output_type": "pyout",
       "prompt_number": 144,
       "text": [
        "{'jeff': 10, 'jenny': 1.0, 'penny': 75, 'benny': 10, 'bobby': 8, 'wendy': 5}"
       ]
      }
     ],
     "prompt_number": 144
    },
    {
     "cell_type": "markdown",
     "metadata": {},
     "source": [
      "If we want to remove a `key-value` pair from a `dict` variable we can use `del` and give the `key` (make sure that the `key` exists or else it will be an error!)"
     ]
    },
    {
     "cell_type": "code",
     "collapsed": false,
     "input": [
      "del weights['jenny']\n",
      "weights"
     ],
     "language": "python",
     "metadata": {},
     "outputs": [
      {
       "metadata": {},
       "output_type": "pyout",
       "prompt_number": 145,
       "text": [
        "{'jeff': 10, 'penny': 75, 'benny': 10, 'bobby': 8, 'wendy': 5}"
       ]
      }
     ],
     "prompt_number": 145
    },
    {
     "cell_type": "markdown",
     "metadata": {},
     "source": [
      "Dictionaries also have the `pop()` function built-in that will work on a `key`, using this will delete the `key-value` pair and return the `value`"
     ]
    },
    {
     "cell_type": "code",
     "collapsed": false,
     "input": [
      "weights.pop('benny')"
     ],
     "language": "python",
     "metadata": {},
     "outputs": [
      {
       "metadata": {},
       "output_type": "pyout",
       "prompt_number": 147,
       "text": [
        "10"
       ]
      }
     ],
     "prompt_number": 147
    },
    {
     "cell_type": "code",
     "collapsed": false,
     "input": [
      "weights"
     ],
     "language": "python",
     "metadata": {},
     "outputs": [
      {
       "metadata": {},
       "output_type": "pyout",
       "prompt_number": 148,
       "text": [
        "{'jeff': 10, 'penny': 75, 'bobby': 8, 'wendy': 5}"
       ]
      }
     ],
     "prompt_number": 148
    },
    {
     "cell_type": "markdown",
     "metadata": {},
     "source": [
      "Since a `dict` contains two distinct types of elements (`keys` and `values`), it has built-in functions to return a list of one or the other (note that in Python 3 this isn't a real list, in examples you'll see with Python 2 it used to be a real `list` data type. Now if we want to manipulate it as a `list` we must cast it as one)."
     ]
    },
    {
     "cell_type": "code",
     "collapsed": false,
     "input": [
      "weights.keys()"
     ],
     "language": "python",
     "metadata": {},
     "outputs": [
      {
       "metadata": {},
       "output_type": "pyout",
       "prompt_number": 150,
       "text": [
        "dict_keys(['jeff', 'penny', 'bobby', 'wendy'])"
       ]
      }
     ],
     "prompt_number": 150
    },
    {
     "cell_type": "code",
     "collapsed": false,
     "input": [
      "weights.values()"
     ],
     "language": "python",
     "metadata": {},
     "outputs": [
      {
       "metadata": {},
       "output_type": "pyout",
       "prompt_number": 152,
       "text": [
        "dict_values([10, 75, 8, 5])"
       ]
      }
     ],
     "prompt_number": 152
    },
    {
     "cell_type": "markdown",
     "metadata": {},
     "source": [
      "We can also just get all of the `key-value` pairs listed together using the `items()` function"
     ]
    },
    {
     "cell_type": "code",
     "collapsed": false,
     "input": [
      "weights.items()"
     ],
     "language": "python",
     "metadata": {},
     "outputs": [
      {
       "metadata": {},
       "output_type": "pyout",
       "prompt_number": 153,
       "text": [
        "dict_items([('jeff', 10), ('penny', 75), ('bobby', 8), ('wendy', 5)])"
       ]
      }
     ],
     "prompt_number": 153
    },
    {
     "cell_type": "markdown",
     "metadata": {},
     "source": [
      "As you can see here it returns a list (well, a dict_items data type truly) of our `key-value` pairs, with each item having the `tuple` data type.\n",
      "\n",
      "As just stand alone functions it's hard to see the utility, but when we start making our own programs they will be extremely useful."
     ]
    },
    {
     "cell_type": "markdown",
     "metadata": {},
     "source": [
      "##Nesting\n",
      "\n",
      "Just like a `list` or `tuple`, we can nest the collection data types inside a `dict` variable. In many cases this can be extremely useful.\n",
      "\n",
      "Let's go back to our example where we wanted to store the attributes of our pets. Before we needed to give a comment stating what \"fact\" each element in the `tuple` was. In a dictionary, we can just name them explicitly."
     ]
    },
    {
     "cell_type": "code",
     "collapsed": false,
     "input": [
      "attributes = {\n",
      "    'penny' : {'weight' : 75,\n",
      "               'length' : 60,\n",
      "               'color' : 'yellow'\n",
      "              },\n",
      "    'bobby' : {'weight' : 10,\n",
      "               'length' : 30,\n",
      "               'color' : 'brown',\n",
      "              }\n",
      "}"
     ],
     "language": "python",
     "metadata": {},
     "outputs": [],
     "prompt_number": 169
    },
    {
     "cell_type": "markdown",
     "metadata": {},
     "source": [
      "So then if we were curious about `penny` we give her as the `key` to `attributes`"
     ]
    },
    {
     "cell_type": "code",
     "collapsed": false,
     "input": [
      "attributes['penny']"
     ],
     "language": "python",
     "metadata": {},
     "outputs": [
      {
       "metadata": {},
       "output_type": "pyout",
       "prompt_number": 170,
       "text": [
        "{'color': 'yellow', 'length': 60, 'weight': 75}"
       ]
      }
     ],
     "prompt_number": 170
    },
    {
     "cell_type": "markdown",
     "metadata": {},
     "source": [
      "If we just wanted to know her `weight` we would do"
     ]
    },
    {
     "cell_type": "code",
     "collapsed": false,
     "input": [
      "attributes['penny']['weight']"
     ],
     "language": "python",
     "metadata": {},
     "outputs": [
      {
       "metadata": {},
       "output_type": "pyout",
       "prompt_number": 171,
       "text": [
        "75"
       ]
      }
     ],
     "prompt_number": 171
    },
    {
     "cell_type": "markdown",
     "metadata": {},
     "source": [
      "And we can do the same for `bobby`"
     ]
    },
    {
     "cell_type": "code",
     "collapsed": false,
     "input": [
      "attributes['bobby']['length']"
     ],
     "language": "python",
     "metadata": {},
     "outputs": [
      {
       "metadata": {},
       "output_type": "pyout",
       "prompt_number": 172,
       "text": [
        "30"
       ]
      }
     ],
     "prompt_number": 172
    },
    {
     "cell_type": "markdown",
     "metadata": {},
     "source": [
      "# A quick discussion on variables being variables\n",
      "\n",
      "This last section doesn't actually cover a new data type, it actually just covers the concept of copying a variable. \n",
      "\n",
      "Let's go back to our multiple pet stores example. We're the shop owner and we start off with one shop."
     ]
    },
    {
     "cell_type": "code",
     "collapsed": false,
     "input": [
      "store_one = ['beagle', 'terrier', 'bulldog', 'fish']\n",
      "store_one"
     ],
     "language": "python",
     "metadata": {},
     "outputs": [
      {
       "metadata": {},
       "output_type": "pyout",
       "prompt_number": 162,
       "text": [
        "['beagle', 'terrier', 'bulldog', 'fish']"
       ]
      }
     ],
     "prompt_number": 162
    },
    {
     "cell_type": "markdown",
     "metadata": {},
     "source": [
      "We go and open up our second store. We start that store by taking one of each type of pet that we had at the first store. The easiest way to do that would be to say that the inventory of `store_two` is equal to `store_one`"
     ]
    },
    {
     "cell_type": "code",
     "collapsed": false,
     "input": [
      "store_two = store_one"
     ],
     "language": "python",
     "metadata": {},
     "outputs": [],
     "prompt_number": 163
    },
    {
     "cell_type": "markdown",
     "metadata": {},
     "source": [
      "Now that we've been operating `store_two` for a bit we sold our only `beagle`, and with that money we bought a `parrot` and a `gerbil` to sell"
     ]
    },
    {
     "cell_type": "code",
     "collapsed": false,
     "input": [
      "store_two.remove('beagle')\n",
      "store_two.extend(['parrot', 'gerbil'])\n",
      "store_two"
     ],
     "language": "python",
     "metadata": {},
     "outputs": [
      {
       "metadata": {},
       "output_type": "pyout",
       "prompt_number": 164,
       "text": [
        "['terrier', 'bulldog', 'fish', 'parrot', 'gerbil']"
       ]
      }
     ],
     "prompt_number": 164
    },
    {
     "cell_type": "markdown",
     "metadata": {},
     "source": [
      "Perfect! Now let's go back and check on the stock at `store_one`"
     ]
    },
    {
     "cell_type": "code",
     "collapsed": false,
     "input": [
      "store_one"
     ],
     "language": "python",
     "metadata": {},
     "outputs": [
      {
       "metadata": {},
       "output_type": "pyout",
       "prompt_number": 165,
       "text": [
        "['terrier', 'bulldog', 'fish', 'parrot', 'gerbil']"
       ]
      }
     ],
     "prompt_number": 165
    },
    {
     "cell_type": "markdown",
     "metadata": {},
     "source": [
      "*????* That's not the inventory for `store_one`! That's the inventory for `store_two`!\n",
      "\n",
      "Here is what happened in a rough explanation.\n",
      "\n",
      "When we create a variable in a language it has some `value` associated with it. That `value` goes into the memory of our computer and the language stores the information that when I use my `variable`, that the `variable` is linked to a certain `value` in the memory.\n",
      "\n",
      "So when I set `second_variable` equal to `variable` the computer thinks:\n",
      "\n",
      "`A-ha! I am a smart computer, this second_variable just needs to be linked to the same value at the same place in memory. That is very easy, I'll just remember that second_variable goes to value`\n",
      "\n",
      "So now when we change `second_variable` we also change the value for `variable`, since they are sharing the same `value` in the computer's memory. This might seem silly, but way back when memory was an extremely precious resource in computers so languages would try to minimize using it and relied on you, the programmer, to be both careful and explicit.\n",
      "\n",
      "So if we want to copy a variable's contents from one variable to another, placing an identical but separate `value` in memory we have to use the `copy()` function. Every distribution of Python comes with `copy()`, but we have to import it from the library to use it."
     ]
    },
    {
     "cell_type": "code",
     "collapsed": false,
     "input": [
      "from copy import copy\n",
      "\n",
      "store_one = ['beagle', 'terrier', 'bulldog', 'fish']\n",
      "store_two = copy(store_one)\n",
      "store_two.remove('beagle')\n",
      "store_two.extend(['parrot', 'gerbil'])\n",
      "\n",
      "print('Store One', store_one)\n",
      "print('Store Two', store_two)"
     ],
     "language": "python",
     "metadata": {},
     "outputs": [
      {
       "output_type": "stream",
       "stream": "stdout",
       "text": [
        "Store One ['beagle', 'terrier', 'bulldog', 'fish']\n",
        "Store Two ['terrier', 'bulldog', 'fish', 'parrot', 'gerbil']\n"
       ]
      }
     ],
     "prompt_number": 167
    },
    {
     "cell_type": "markdown",
     "metadata": {},
     "source": [
      "Right now it's not important to understand libraries or anything like that, I just wanted to show you that **it is important** to understand how copying variables works. Accidentally setting one variable name equal to another and not remembering it is an easy way for errors to creep into your programs. Make sure to be careful!"
     ]
    },
    {
     "cell_type": "markdown",
     "metadata": {},
     "source": [
      "#Exercises"
     ]
    },
    {
     "cell_type": "markdown",
     "metadata": {},
     "source": [
      "You are now the manager of the pet store! I'm going to need you to manage the inventory of pets that we have at the store."
     ]
    },
    {
     "cell_type": "code",
     "collapsed": false,
     "input": [
      "pet_store = ['beagle', 'parrot', 'iguana', 'gerbil', 'chameleon', 'fish']"
     ],
     "language": "python",
     "metadata": {},
     "outputs": [],
     "prompt_number": 173
    },
    {
     "cell_type": "markdown",
     "metadata": {},
     "source": [
      "We've sold out of `chameleon` and `iguana`, you need to remove them from the inventory. Use both `remove()` and `del` to do so."
     ]
    },
    {
     "cell_type": "code",
     "collapsed": false,
     "input": [],
     "language": "python",
     "metadata": {},
     "outputs": [],
     "prompt_number": 173
    },
    {
     "cell_type": "markdown",
     "metadata": {},
     "source": [
      "We just got in a `terrier`, `chameleon`, `bulldog`, and `terrier`. Please add all of those animals to the `pet_store`."
     ]
    },
    {
     "cell_type": "code",
     "collapsed": false,
     "input": [],
     "language": "python",
     "metadata": {},
     "outputs": []
    },
    {
     "cell_type": "markdown",
     "metadata": {},
     "source": [
      "Now, how many **unique** animal types do we currently have in the store?"
     ]
    },
    {
     "cell_type": "code",
     "collapsed": false,
     "input": [],
     "language": "python",
     "metadata": {},
     "outputs": []
    },
    {
     "cell_type": "markdown",
     "metadata": {},
     "source": [
      "How many `terrier` dogs do we have in the store? (Hint: the `list` data type has a built-in function called `count()`)"
     ]
    },
    {
     "cell_type": "code",
     "collapsed": false,
     "input": [],
     "language": "python",
     "metadata": {},
     "outputs": []
    },
    {
     "cell_type": "markdown",
     "metadata": {},
     "source": [
      "As an owner, I actually have a very bad obsessive-compulsive disorder. Could you please reverse-alphabetically sort the pet types at the store? Thanks so much! Also going to need you to work this entire weekend. For free."
     ]
    },
    {
     "cell_type": "code",
     "collapsed": false,
     "input": [],
     "language": "python",
     "metadata": {},
     "outputs": []
    },
    {
     "cell_type": "markdown",
     "metadata": {},
     "source": [
      "Could you print from `beagle` to `fish` but display it in alphabetical order?"
     ]
    },
    {
     "cell_type": "code",
     "collapsed": false,
     "input": [],
     "language": "python",
     "metadata": {},
     "outputs": []
    },
    {
     "cell_type": "code",
     "collapsed": false,
     "input": [],
     "language": "python",
     "metadata": {},
     "outputs": []
    },
    {
     "cell_type": "markdown",
     "metadata": {},
     "source": [
      "What is the index of `parrot`?"
     ]
    },
    {
     "cell_type": "code",
     "collapsed": false,
     "input": [],
     "language": "python",
     "metadata": {},
     "outputs": []
    },
    {
     "cell_type": "markdown",
     "metadata": {},
     "source": [
      "Now let's go back to our pet attribute dictionary"
     ]
    },
    {
     "cell_type": "code",
     "collapsed": false,
     "input": [
      "attributes = {\n",
      "    'penny' : {'weight' : 75,\n",
      "               'length' : 60,\n",
      "               'color' : 'yellow',\n",
      "               'animal' : 'golden retriever',\n",
      "              },\n",
      "    'bobby' : {'weight' : 10,\n",
      "               'length' : 20,\n",
      "               'color' : 'brown',\n",
      "               'animal' : 'cat',\n",
      "              }\n",
      "}"
     ],
     "language": "python",
     "metadata": {},
     "outputs": []
    },
    {
     "cell_type": "markdown",
     "metadata": {},
     "source": [
      "Please add `peter` the `parrot` to attributes dictionary"
     ]
    },
    {
     "cell_type": "code",
     "collapsed": false,
     "input": [],
     "language": "python",
     "metadata": {},
     "outputs": []
    },
    {
     "cell_type": "markdown",
     "metadata": {},
     "source": [
      "What are all the names of the animals that we currently have in `attributes`?"
     ]
    },
    {
     "cell_type": "code",
     "collapsed": false,
     "input": [],
     "language": "python",
     "metadata": {},
     "outputs": []
    },
    {
     "cell_type": "markdown",
     "metadata": {},
     "source": [
      "Does `bobby` weigh more than `peter`? (Remember equivalencies from the basic data types?)"
     ]
    },
    {
     "cell_type": "code",
     "collapsed": false,
     "input": [],
     "language": "python",
     "metadata": {},
     "outputs": []
    },
    {
     "cell_type": "markdown",
     "metadata": {},
     "source": [
      "`bobby` actually got into the catnip while you were on break, and then ripped open a box of treats and ate all of them. lol, he's just so cute!\n",
      "\n",
      "Please update his weight to be twice as much as before."
     ]
    },
    {
     "cell_type": "code",
     "collapsed": false,
     "input": [],
     "language": "python",
     "metadata": {},
     "outputs": []
    },
    {
     "cell_type": "markdown",
     "metadata": {},
     "source": [
      "Actually `bobby` is so cute I'm just going to take him home with me. Please take him out of the `attributes` dictionary so no one else will take him!"
     ]
    },
    {
     "cell_type": "code",
     "collapsed": false,
     "input": [],
     "language": "python",
     "metadata": {},
     "outputs": []
    },
    {
     "cell_type": "markdown",
     "metadata": {},
     "source": [
      "Great job today! Keep this up and I just might promote you!\n",
      "\n",
      "Exercises completed!"
     ]
    },
    {
     "cell_type": "code",
     "collapsed": false,
     "input": [
      "from IPython.core.display import HTML\n",
      "\n",
      "\n",
      "def css_styling():\n",
      "    styles = open(\"../styles/custom.css\", \"r\").read()\n",
      "    return HTML(styles)\n",
      "css_styling()"
     ],
     "language": "python",
     "metadata": {},
     "outputs": [
      {
       "html": [
        "<style>\n",
        "    @font-face {\n",
        "        font-family: \"Computer Modern\";\n",
        "        src: url('http://9dbb143991406a7c655e-aa5fcb0a5a4ec34cff238a2d56ca4144.r56.cf5.rackcdn.com/cmunss.otf');\n",
        "    }\n",
        "    @font-face {\n",
        "        font-family: \"Computer Modern\";\n",
        "        font-weight: bold;\n",
        "        src: url('http://9dbb143991406a7c655e-aa5fcb0a5a4ec34cff238a2d56ca4144.r56.cf5.rackcdn.com/cmunsx.otf');\n",
        "    }\n",
        "    @font-face {\n",
        "        font-family: \"Computer Modern\";\n",
        "        font-style: oblique;\n",
        "        src: url('http://9dbb143991406a7c655e-aa5fcb0a5a4ec34cff238a2d56ca4144.r56.cf5.rackcdn.com/cmunsi.otf');\n",
        "    }\n",
        "    @font-face {\n",
        "        font-family: \"Computer Modern\";\n",
        "        font-weight: bold;\n",
        "        font-style: oblique;\n",
        "        src: url('http://9dbb143991406a7c655e-aa5fcb0a5a4ec34cff238a2d56ca4144.r56.cf5.rackcdn.com/cmunso.otf');\n",
        "    }\n",
        "    div.cell{\n",
        "        width:800px;\n",
        "        margin-left:16% !important;\n",
        "        margin-right:auto;\n",
        "    }\n",
        "    h1 {\n",
        "        font-family: Helvetica, serif;\n",
        "    }\n",
        "    h4{\n",
        "        margin-top:12px;\n",
        "        margin-bottom: 3px;\n",
        "       }\n",
        "    div.text_cell_render{\n",
        "        font-family: Computer Modern, \"Helvetica Neue\", Arial, Helvetica, Geneva, sans-serif;\n",
        "        line-height: 145%;\n",
        "        font-size: 130%;\n",
        "        width:800px;\n",
        "        margin-left:auto;\n",
        "        margin-right:auto;\n",
        "    }\n",
        "    .CodeMirror{\n",
        "            font-family: \"Source Code Pro\", source-code-pro,Consolas, monospace;\n",
        "    }\n",
        "    .prompt{\n",
        "        display: None;\n",
        "    }\n",
        "    .text_cell_render h5 {\n",
        "        font-weight: 300;\n",
        "        font-size: 22pt;\n",
        "        color: #4057A1;\n",
        "        font-style: italic;\n",
        "        margin-bottom: .5em;\n",
        "        margin-top: 0.5em;\n",
        "        display: block;\n",
        "    }\n",
        "    \n",
        "    .warning{\n",
        "        color: rgb( 240, 20, 20 )\n",
        "        }  \n",
        "</style>\n",
        "<script>\n",
        "    MathJax.Hub.Config({\n",
        "                        TeX: {\n",
        "                           extensions: [\"AMSmath.js\"]\n",
        "                           },\n",
        "                tex2jax: {\n",
        "                    inlineMath: [ ['$','$'], [\"\\\\(\",\"\\\\)\"] ],\n",
        "                    displayMath: [ ['$$','$$'], [\"\\\\[\",\"\\\\]\"] ]\n",
        "                },\n",
        "                displayAlign: 'center', // Change this to 'center' to center equations.\n",
        "                \"HTML-CSS\": {\n",
        "                    styles: {'.MathJax_Display': {\"margin\": 4}}\n",
        "                }\n",
        "        });\n",
        "</script>\n"
       ],
       "metadata": {},
       "output_type": "pyout",
       "prompt_number": 74,
       "text": [
        "<IPython.core.display.HTML at 0x106868a90>"
       ]
      }
     ],
     "prompt_number": 74
    }
   ],
   "metadata": {}
  }
 ]
}