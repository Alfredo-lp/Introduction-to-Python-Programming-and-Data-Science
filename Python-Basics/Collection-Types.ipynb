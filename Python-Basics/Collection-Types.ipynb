{
 "metadata": {
  "name": "",
  "signature": "sha256:d001f4baedd2ebea48dd4c5db1689c4caeb58559a0dc68fa0d0a2ad9bb5d1f35"
 },
 "nbformat": 3,
 "nbformat_minor": 0,
 "worksheets": [
  {
   "cells": [
    {
     "cell_type": "markdown",
     "metadata": {},
     "source": [
      "# Tuples\n",
      "\n",
      "Tuples are a sequence of items that are immutable, we'll work on what that last word means after we show what one is"
     ]
    },
    {
     "cell_type": "code",
     "collapsed": false,
     "input": [
      "a_tuple = (1, \"two\", True)\n",
      "b_tuple = (\"one\", 2, False)\n",
      "\n",
      "print(a_tuple[2])\n",
      "\n",
      "print(b_tuple)"
     ],
     "language": "python",
     "metadata": {},
     "outputs": []
    },
    {
     "cell_type": "markdown",
     "metadata": {},
     "source": [
      "So what is this \"immutability\" thing?"
     ]
    },
    {
     "cell_type": "code",
     "collapsed": false,
     "input": [
      "a_tuple[2] = 'black'"
     ],
     "language": "python",
     "metadata": {},
     "outputs": []
    },
    {
     "cell_type": "code",
     "collapsed": false,
     "input": [
      "print(a_tuple + b_tuple)"
     ],
     "language": "python",
     "metadata": {},
     "outputs": []
    },
    {
     "cell_type": "markdown",
     "metadata": {},
     "source": [
      "### Socrative Question 7"
     ]
    },
    {
     "cell_type": "code",
     "collapsed": false,
     "input": [
      "c_tuple = a_tuple + ('red', )\n",
      "c_tuple"
     ],
     "language": "python",
     "metadata": {},
     "outputs": []
    },
    {
     "cell_type": "markdown",
     "metadata": {},
     "source": [
      "# Lists\n",
      "\n",
      "lists are like tuples, but they are \"mutable\""
     ]
    },
    {
     "cell_type": "code",
     "collapsed": false,
     "input": [
      "a_list = [1, \"two\", True]\n",
      "b_list = [\"one\", 2, False]\n",
      "\n",
      "a_list[1]"
     ],
     "language": "python",
     "metadata": {},
     "outputs": []
    },
    {
     "cell_type": "code",
     "collapsed": false,
     "input": [
      "b_list"
     ],
     "language": "python",
     "metadata": {},
     "outputs": []
    },
    {
     "cell_type": "code",
     "collapsed": false,
     "input": [
      "print(a_list + b_list)"
     ],
     "language": "python",
     "metadata": {},
     "outputs": []
    },
    {
     "cell_type": "markdown",
     "metadata": {},
     "source": [
      "### Socrative Question 8"
     ]
    },
    {
     "cell_type": "markdown",
     "metadata": {},
     "source": [
      "So now that we're at lists let's really talk about indexing."
     ]
    },
    {
     "cell_type": "code",
     "collapsed": false,
     "input": [
      "a_list[0]"
     ],
     "language": "python",
     "metadata": {},
     "outputs": []
    },
    {
     "cell_type": "code",
     "collapsed": false,
     "input": [
      "a_list[1]"
     ],
     "language": "python",
     "metadata": {},
     "outputs": []
    },
    {
     "cell_type": "code",
     "collapsed": false,
     "input": [
      "a_list[2]"
     ],
     "language": "python",
     "metadata": {},
     "outputs": []
    },
    {
     "cell_type": "markdown",
     "metadata": {},
     "source": [
      "All of these objects also support accessing the sequence from the end instead of the beginning.\n",
      "\n",
      "To do that we use a negative number. "
     ]
    },
    {
     "cell_type": "code",
     "collapsed": false,
     "input": [
      "a_list[-1]"
     ],
     "language": "python",
     "metadata": {},
     "outputs": []
    },
    {
     "cell_type": "code",
     "collapsed": false,
     "input": [
      "a_list[-2]"
     ],
     "language": "python",
     "metadata": {},
     "outputs": []
    },
    {
     "cell_type": "code",
     "collapsed": false,
     "input": [
      "a_list[-3]"
     ],
     "language": "python",
     "metadata": {},
     "outputs": []
    },
    {
     "cell_type": "markdown",
     "metadata": {},
     "source": [
      "We can also access elements and use Boolean operations with them"
     ]
    },
    {
     "cell_type": "code",
     "collapsed": false,
     "input": [
      "print( a_list )\n",
      "print( b_list )\n",
      "\n",
      "a_list[0] and b_list[2]"
     ],
     "language": "python",
     "metadata": {},
     "outputs": []
    },
    {
     "cell_type": "code",
     "collapsed": false,
     "input": [
      "print( a_list[-1] and not b_list[-1] )"
     ],
     "language": "python",
     "metadata": {},
     "outputs": []
    },
    {
     "cell_type": "markdown",
     "metadata": {},
     "source": [
      "### Socrative Question 9"
     ]
    },
    {
     "cell_type": "markdown",
     "metadata": {},
     "source": [
      "Lists, tuples, and strings also support accessing more than one element, but less than the entire list with a single operation. This is called 'slicing'"
     ]
    },
    {
     "cell_type": "code",
     "collapsed": false,
     "input": [
      "a_list[0:2]"
     ],
     "language": "python",
     "metadata": {},
     "outputs": []
    },
    {
     "cell_type": "code",
     "collapsed": false,
     "input": [
      "a_list[1:3]"
     ],
     "language": "python",
     "metadata": {},
     "outputs": []
    },
    {
     "cell_type": "code",
     "collapsed": false,
     "input": [
      "a_list[-3:-1]"
     ],
     "language": "python",
     "metadata": {},
     "outputs": []
    },
    {
     "cell_type": "code",
     "collapsed": false,
     "input": [
      "a_list[-2:]"
     ],
     "language": "python",
     "metadata": {},
     "outputs": []
    },
    {
     "cell_type": "code",
     "collapsed": false,
     "input": [
      "a_list[:2]"
     ],
     "language": "python",
     "metadata": {},
     "outputs": []
    },
    {
     "cell_type": "markdown",
     "metadata": {},
     "source": [
      "The slicing operation can actually take three values:\n",
      "\n",
      "`list_variable[start_index : end_index : step_size]`"
     ]
    },
    {
     "cell_type": "code",
     "collapsed": false,
     "input": [
      "c_list = a_list + b_list\n",
      "c_list[::2]"
     ],
     "language": "python",
     "metadata": {},
     "outputs": []
    },
    {
     "cell_type": "code",
     "collapsed": false,
     "input": [
      "c_list[::-1]"
     ],
     "language": "python",
     "metadata": {},
     "outputs": []
    },
    {
     "cell_type": "markdown",
     "metadata": {},
     "source": [
      "Now there are also some powerful methods that we can use with lists"
     ]
    },
    {
     "cell_type": "raw",
     "metadata": {},
     "source": [
      "list.sort()\n",
      "list.insert()\n",
      "list.extend()\n",
      "list.append()\n",
      "list.pop()"
     ]
    },
    {
     "cell_type": "code",
     "collapsed": false,
     "input": [
      "print(a_list)"
     ],
     "language": "python",
     "metadata": {},
     "outputs": []
    },
    {
     "cell_type": "code",
     "collapsed": false,
     "input": [
      "a_list += ['False']\n",
      "print(a_list)"
     ],
     "language": "python",
     "metadata": {},
     "outputs": []
    },
    {
     "cell_type": "code",
     "collapsed": false,
     "input": [
      "a_list.append('Never')\n",
      "print(a_list)"
     ],
     "language": "python",
     "metadata": {},
     "outputs": []
    },
    {
     "cell_type": "code",
     "collapsed": false,
     "input": [
      "a_list.insert(2, 'party!')\n",
      "\n",
      "print(a_list)"
     ],
     "language": "python",
     "metadata": {},
     "outputs": []
    },
    {
     "cell_type": "code",
     "collapsed": false,
     "input": [
      "a_list.extend([5, 7])\n",
      "\n",
      "a_list"
     ],
     "language": "python",
     "metadata": {},
     "outputs": []
    },
    {
     "cell_type": "code",
     "collapsed": false,
     "input": [
      "a_list.count('Never')"
     ],
     "language": "python",
     "metadata": {},
     "outputs": []
    },
    {
     "cell_type": "code",
     "collapsed": false,
     "input": [
      "a_list.count('Trombone')"
     ],
     "language": "python",
     "metadata": {},
     "outputs": []
    },
    {
     "cell_type": "code",
     "collapsed": false,
     "input": [],
     "language": "python",
     "metadata": {},
     "outputs": []
    },
    {
     "cell_type": "code",
     "collapsed": false,
     "input": [
      "a_list.reverse()"
     ],
     "language": "python",
     "metadata": {},
     "outputs": []
    },
    {
     "cell_type": "code",
     "collapsed": false,
     "input": [
      "print(a_list)"
     ],
     "language": "python",
     "metadata": {},
     "outputs": []
    },
    {
     "cell_type": "code",
     "collapsed": false,
     "input": [
      "number_list = [5, 7, 2, 9]\n",
      "\n",
      "number_list.sort()"
     ],
     "language": "python",
     "metadata": {},
     "outputs": []
    },
    {
     "cell_type": "code",
     "collapsed": false,
     "input": [
      "print(number_list)"
     ],
     "language": "python",
     "metadata": {},
     "outputs": []
    },
    {
     "cell_type": "code",
     "collapsed": false,
     "input": [
      "sorted_numbers = sorted([5, 7, 2, 9])\n",
      "\n",
      "print(sorted_numbers)"
     ],
     "language": "python",
     "metadata": {},
     "outputs": []
    },
    {
     "cell_type": "markdown",
     "metadata": {},
     "source": [
      "And just a moment to touch on boolean operations lists"
     ]
    },
    {
     "cell_type": "code",
     "collapsed": false,
     "input": [
      "'party' and not []"
     ],
     "language": "python",
     "metadata": {},
     "outputs": []
    },
    {
     "cell_type": "code",
     "collapsed": false,
     "input": [
      "'party' and not ['cake', 'ice cream']"
     ],
     "language": "python",
     "metadata": {},
     "outputs": []
    },
    {
     "cell_type": "markdown",
     "metadata": {},
     "source": [
      "# Set operations\n",
      "\n",
      "A set variable is a unique list of elements"
     ]
    },
    {
     "cell_type": "code",
     "collapsed": false,
     "input": [
      "a_set = { \"1\", \"two\", \"1\", True }\n",
      "\n",
      "print(a_set)"
     ],
     "language": "python",
     "metadata": {},
     "outputs": []
    },
    {
     "cell_type": "code",
     "collapsed": false,
     "input": [
      "b_set = { \"one\", 2, False }\n",
      "\n",
      "a_set.update(b_set)\n",
      "print(a_set)"
     ],
     "language": "python",
     "metadata": {},
     "outputs": []
    },
    {
     "cell_type": "markdown",
     "metadata": {},
     "source": [
      "###Socrative Question 10"
     ]
    },
    {
     "cell_type": "code",
     "collapsed": false,
     "input": [
      "c_set = set([\"1\", 1])\n",
      "\n",
      "print( a_set.intersection(c_set))"
     ],
     "language": "python",
     "metadata": {},
     "outputs": []
    },
    {
     "cell_type": "code",
     "collapsed": false,
     "input": [
      "print(a_set.difference(c_set))"
     ],
     "language": "python",
     "metadata": {},
     "outputs": []
    },
    {
     "cell_type": "code",
     "collapsed": false,
     "input": [
      "a_set.union(c_set)"
     ],
     "language": "python",
     "metadata": {},
     "outputs": []
    },
    {
     "cell_type": "markdown",
     "metadata": {},
     "source": [
      "# Transformations"
     ]
    },
    {
     "cell_type": "code",
     "collapsed": false,
     "input": [
      "set_from_list = list(a_set)\n",
      "\n",
      "print(set_from_list)\n",
      "print( type(set_from_list) )"
     ],
     "language": "python",
     "metadata": {},
     "outputs": []
    },
    {
     "cell_type": "code",
     "collapsed": false,
     "input": [
      "set_from_list.append('fools!')\n",
      "set_from_list += ['fools!']\n",
      "set_from_list"
     ],
     "language": "python",
     "metadata": {},
     "outputs": []
    },
    {
     "cell_type": "code",
     "collapsed": false,
     "input": [
      "tuple_from_list = tuple( set_from_list )\n",
      "\n",
      "print(tuple_from_list)\n",
      "print( type(tuple_from_list) )"
     ],
     "language": "python",
     "metadata": {},
     "outputs": []
    },
    {
     "cell_type": "code",
     "collapsed": false,
     "input": [
      "tuple_from_list.append('We can dance all night!')"
     ],
     "language": "python",
     "metadata": {},
     "outputs": []
    },
    {
     "cell_type": "code",
     "collapsed": false,
     "input": [
      "set_from_tuple = set(tuple_from_list)\n",
      "\n",
      "print( type(set_from_tuple) )\n",
      "print( set_from_tuple )"
     ],
     "language": "python",
     "metadata": {},
     "outputs": []
    },
    {
     "cell_type": "markdown",
     "metadata": {},
     "source": [
      "# Dictionaries\n",
      "\n",
      "Dictionaries are wonderful objects! They are a data type that holds key-value pairs. Now what does that mean"
     ]
    },
    {
     "cell_type": "code",
     "collapsed": false,
     "input": [
      "a_dict = { \"a\": 1, \"z\": \"two\", \"c\": True }\n",
      "print( a_dict )"
     ],
     "language": "python",
     "metadata": {},
     "outputs": []
    },
    {
     "cell_type": "markdown",
     "metadata": {},
     "source": [
      "A-ha! So the structure of the variable is `{key : value}`"
     ]
    },
    {
     "cell_type": "code",
     "collapsed": false,
     "input": [
      "a_dict['q'] = 'few'\n",
      "print(a_dict)"
     ],
     "language": "python",
     "metadata": {},
     "outputs": []
    },
    {
     "cell_type": "markdown",
     "metadata": {},
     "source": [
      "### Socrative Question 11"
     ]
    },
    {
     "cell_type": "markdown",
     "metadata": {},
     "source": [
      "### Socrative Question 12"
     ]
    },
    {
     "cell_type": "code",
     "collapsed": false,
     "input": [
      "b_dict = { 1: \"one\", 2: 2, 3: False }\n",
      "\n",
      "a_dict.update(b_dict)\n",
      "print(a_dict)"
     ],
     "language": "python",
     "metadata": {},
     "outputs": []
    },
    {
     "cell_type": "markdown",
     "metadata": {},
     "source": [
      "Dictionaries are very powerful, as we're seeing. But a few more things"
     ]
    },
    {
     "cell_type": "code",
     "collapsed": false,
     "input": [
      "b_dict['really?'] = ['cats', 'humins', 'puppies!']\n",
      "b_dict"
     ],
     "language": "python",
     "metadata": {},
     "outputs": []
    },
    {
     "cell_type": "code",
     "collapsed": false,
     "input": [
      "b_dict['really really?'] = {'really?': ['frenchies', 'terriers', 'pugs']}\n",
      "b_dict"
     ],
     "language": "python",
     "metadata": {},
     "outputs": []
    },
    {
     "cell_type": "markdown",
     "metadata": {},
     "source": [
      "We can access elements at any depth just by stacking the correct indexes together"
     ]
    },
    {
     "cell_type": "code",
     "collapsed": false,
     "input": [
      "b_dict['really really?']['really?'][0]"
     ],
     "language": "python",
     "metadata": {},
     "outputs": []
    },
    {
     "cell_type": "code",
     "collapsed": false,
     "input": [
      "b_dict['really really?']['really?'][0:2]"
     ],
     "language": "python",
     "metadata": {},
     "outputs": []
    },
    {
     "cell_type": "code",
     "collapsed": false,
     "input": [
      "b_dict['really really?']['for real'] = 'unicorns'\n",
      "b_dict"
     ],
     "language": "python",
     "metadata": {},
     "outputs": []
    },
    {
     "cell_type": "markdown",
     "metadata": {},
     "source": [
      "Now let's look at specific dictionary methods"
     ]
    },
    {
     "cell_type": "raw",
     "metadata": {},
     "source": [
      "dict.keys()\n",
      "dict.values()\n",
      "dict.items()"
     ]
    },
    {
     "cell_type": "code",
     "collapsed": false,
     "input": [
      "b_dict.keys()"
     ],
     "language": "python",
     "metadata": {},
     "outputs": []
    },
    {
     "cell_type": "code",
     "collapsed": false,
     "input": [
      "type(b_dict.keys())"
     ],
     "language": "python",
     "metadata": {},
     "outputs": []
    },
    {
     "cell_type": "code",
     "collapsed": false,
     "input": [
      "b_dict.values()"
     ],
     "language": "python",
     "metadata": {},
     "outputs": []
    },
    {
     "cell_type": "code",
     "collapsed": false,
     "input": [
      "b_dict.items()"
     ],
     "language": "python",
     "metadata": {},
     "outputs": []
    },
    {
     "cell_type": "markdown",
     "metadata": {},
     "source": [
      "# Now let's talk about copying\n",
      "\n",
      "Let's say that I'm running a party supplies company that makes pre-made packages of supplies"
     ]
    },
    {
     "cell_type": "code",
     "collapsed": false,
     "input": [
      "party_supplies = ['hats', 'cups', 'games', 'soda']"
     ],
     "language": "python",
     "metadata": {},
     "outputs": []
    },
    {
     "cell_type": "code",
     "collapsed": false,
     "input": [
      "kids_party = party_supplies\n",
      "#Now let's add come cake and ice cream for the little kids\n",
      "kids_party += ['cake', 'ice cream']\n",
      "kids_party"
     ],
     "language": "python",
     "metadata": {},
     "outputs": []
    },
    {
     "cell_type": "markdown",
     "metadata": {},
     "source": [
      "**Great!** Now let's make a package for adults "
     ]
    },
    {
     "cell_type": "code",
     "collapsed": false,
     "input": [
      "adults_party = party_supplies"
     ],
     "language": "python",
     "metadata": {},
     "outputs": []
    },
    {
     "cell_type": "markdown",
     "metadata": {},
     "source": [
      "Adults probably want to drink beer instead of soda. Let's change that."
     ]
    },
    {
     "cell_type": "code",
     "collapsed": false,
     "input": [],
     "language": "python",
     "metadata": {},
     "outputs": []
    },
    {
     "cell_type": "markdown",
     "metadata": {},
     "source": [
      "????? Oh no!"
     ]
    },
    {
     "cell_type": "code",
     "collapsed": false,
     "input": [
      "kids_party"
     ],
     "language": "python",
     "metadata": {},
     "outputs": []
    },
    {
     "cell_type": "markdown",
     "metadata": {},
     "source": [
      "**CRAP**"
     ]
    },
    {
     "cell_type": "markdown",
     "metadata": {},
     "source": [
      "So when we just set one variable equal to another, we're really just passing a reference to that value not copying it.\n",
      "\n",
      "This applies to dictionaries too."
     ]
    },
    {
     "cell_type": "code",
     "collapsed": false,
     "input": [
      "first = {'parties': 2, 'colors': ['yellow', 'blue']}\n",
      "second = first\n",
      "\n",
      "second['colors'] = None"
     ],
     "language": "python",
     "metadata": {},
     "outputs": []
    },
    {
     "cell_type": "code",
     "collapsed": false,
     "input": [
      "second"
     ],
     "language": "python",
     "metadata": {},
     "outputs": []
    },
    {
     "cell_type": "code",
     "collapsed": false,
     "input": [
      "first"
     ],
     "language": "python",
     "metadata": {},
     "outputs": []
    },
    {
     "cell_type": "markdown",
     "metadata": {},
     "source": [
      "When we want to copy instead of pass a reference we must use copy"
     ]
    },
    {
     "cell_type": "code",
     "collapsed": false,
     "input": [
      "from copy import copy\n",
      "\n",
      "party_supplies = ['hats', 'cups', 'games', 'soda']\n",
      "\n",
      "kids_party = copy(party_supplies)\n",
      "\n",
      "kids_party += ['cake', 'ice cream']"
     ],
     "language": "python",
     "metadata": {},
     "outputs": []
    },
    {
     "cell_type": "code",
     "collapsed": false,
     "input": [
      "party_supplies"
     ],
     "language": "python",
     "metadata": {},
     "outputs": []
    },
    {
     "cell_type": "code",
     "collapsed": false,
     "input": [
      "kids_party"
     ],
     "language": "python",
     "metadata": {},
     "outputs": []
    },
    {
     "cell_type": "code",
     "collapsed": false,
     "input": [],
     "language": "python",
     "metadata": {},
     "outputs": []
    }
   ],
   "metadata": {}
  }
 ]
}