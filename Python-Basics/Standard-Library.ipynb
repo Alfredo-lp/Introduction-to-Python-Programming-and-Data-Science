{
 "cells": [
  {
   "cell_type": "markdown",
   "metadata": {},
   "source": [
    "# The Python Standard Library: \"Batteries Included\"\n",
    "\n",
    "Of all the reasons to use Python, number one  (by a landslide) is that the community of Python programmers provide a ton of support. Most problems that you will encounter have been solved by someone, it's just a matter of knowing how to find and interpret the solutions.\n",
    "\n",
    "Prepare to become intricately familiar with [stackoverflow](https://stackoverflow.org) which is a messageboard where people post a dizzying array of problems and solutions that are ranked by the community in terms of their helpfulness. And if you're not already proficient at articulating the precise nature of your problem with google, prepare to learn. Google can either be your [best friend](https://www.google.com/#q=python+divide+string+into+list+of+characters), or a [mortal foe](https://www.google.com/#q=how+do+i+get+numbers+and+letters+as+a+list+in+python).\n",
    "\n",
    "Some problems, however, are so general that they just keep ocurring again and again and again. The community of Python programmers have taken some of these problems, figured out fast and efficient solutions to them, and provided the code directly to you in the form of a \"library\". Not all libraries come with the \"default\" Python because there are just too many of them. You can and likely will write your own libraries for specific problems you encounter. But some libraries are _really_ useful. The reason you all downloaded the punily named \"Anaconda\" is because it's Python, only _bigger_. Instead of just giving you Python, Anaconda has collected a range of other common \"libraries\" that nearly every Python programmer uses and has installed these for you.\n",
    "\n",
    "\"Default\" Python, however still has a lot of useful libraries known as the \"Standard Library\". A key principle here is _trust_, the things you find in the Python Standard Library will work. And they will work well. __When you find an answer to a question on stackoverflow, your confidence in that answer should be tempered and the results tested.__ If it's in the Python Standard Library, thousands of people have already tested it and it works. The same goes for some other very common packages, such as those included in Anaconda.\n",
    "\n",
    "Before we move on, we should note that this notebook has drawn heavily from the following references which are each great in their own right at helping to explain details of the Standard Library and Python programming in general. If you're looking for more after this lecture or after this course this is a good starting point: \n",
    "\n",
    "* [Brief Tour of the Standard Library](https://docs.python.org/3/tutorial/stdlib.html)\n",
    "* [The Python Standard Library - Index](https://docs.python.org/3/library/index.html)\n",
    "* [Think Python](http://www.greenteapress.com/thinkpython/)"
   ]
  },
  {
   "cell_type": "markdown",
   "metadata": {},
   "source": [
    "# Libraries \n",
    "###(...or how I learned to stop writing so much code and use the Python Standard Library)\n",
    "\n",
    "I've said the words \"library\" and \"libraries\" quite a few times now, but what are they? Think of a library as a collection of useful functions all relating to a generally similar topic. You might have seen code like this:\n",
    "\n",
    "```\n",
    "import math\n",
    "from math import log\n",
    "import math as awesome_mathematical functions\n",
    "from math import *\n",
    "```\n",
    "We'll look at each of these in turn to see what is going on here. \n",
    "\n",
    "Suppose that I was interested in knowing the logarithm of the number 348. I might type:"
   ]
  },
  {
   "cell_type": "code",
   "execution_count": null,
   "metadata": {
    "collapsed": false
   },
   "outputs": [],
   "source": [
    "log(348)"
   ]
  },
  {
   "cell_type": "markdown",
   "metadata": {},
   "source": [
    "And you should see a `NameError`, because 'normal' python doesn't know what 'log' means. We never defined it or told it that when I type `log(number)` what I really mean is that I want the exponent to which another fixed value, the base, must be raised to produce that number (phew). We could labor and think about _how_ to write that code but logarithms are pretty common right? Surely someone else has figured this out already. Enter `math`:"
   ]
  },
  {
   "cell_type": "code",
   "execution_count": null,
   "metadata": {
    "collapsed": true
   },
   "outputs": [],
   "source": [
    "import math"
   ]
  },
  {
   "cell_type": "code",
   "execution_count": null,
   "metadata": {
    "collapsed": false
   },
   "outputs": [],
   "source": [
    "log(348)"
   ]
  },
  {
   "cell_type": "markdown",
   "metadata": {},
   "source": [
    "But still we have a `NameError`, What's going on here? Well to access all the cool functions in `math` we need to first tell python what we really mean when we say `log` is a specific function written in the math library:"
   ]
  },
  {
   "cell_type": "code",
   "execution_count": null,
   "metadata": {
    "collapsed": false
   },
   "outputs": [],
   "source": [
    "math.log(348)"
   ]
  },
  {
   "cell_type": "markdown",
   "metadata": {},
   "source": [
    "Voila! 5.8522024... you get the point. Suppose we thought that was a little tedious to type over and over again. And all we really need the `math` library for is `log`, we don't care about all the other cool stuff that it has. Well, we could just type:"
   ]
  },
  {
   "cell_type": "code",
   "execution_count": null,
   "metadata": {
    "collapsed": true
   },
   "outputs": [],
   "source": [
    "from math import log"
   ]
  },
  {
   "cell_type": "markdown",
   "metadata": {},
   "source": [
    "And now `log()` should work out just fine:"
   ]
  },
  {
   "cell_type": "code",
   "execution_count": null,
   "metadata": {
    "collapsed": false
   },
   "outputs": [],
   "source": [
    "log(348)"
   ]
  },
  {
   "cell_type": "markdown",
   "metadata": {},
   "source": [
    "To assure ourselves that these two things are entirely equivalent:"
   ]
  },
  {
   "cell_type": "code",
   "execution_count": null,
   "metadata": {
    "collapsed": false
   },
   "outputs": [],
   "source": [
    "math.log(348) == log(348)"
   ]
  },
  {
   "cell_type": "markdown",
   "metadata": {},
   "source": [
    "How you choose to import functions from a library might depend a lot on your project. You'll also frequently see something like this:"
   ]
  },
  {
   "cell_type": "code",
   "execution_count": null,
   "metadata": {
    "collapsed": true
   },
   "outputs": [],
   "source": [
    "import math as awesome_mathematical_functions"
   ]
  },
  {
   "cell_type": "markdown",
   "metadata": {},
   "source": [
    "All we did was kind of rename `math`. This is silly, because we're actually typing more in this example than math. But as you'll see later there are some packages that are so commonly used that even though their name is only 5 letters long people _always_ import them as an alias with two letters. Our function should work exactly the same as before though: "
   ]
  },
  {
   "cell_type": "code",
   "execution_count": null,
   "metadata": {
    "collapsed": false
   },
   "outputs": [],
   "source": [
    "awesome_mathematical_functions.log(348)"
   ]
  },
  {
   "cell_type": "code",
   "execution_count": null,
   "metadata": {
    "collapsed": false
   },
   "outputs": [],
   "source": [
    "awesome_mathematical_functions.log(348) == math.log(348)"
   ]
  },
  {
   "cell_type": "markdown",
   "metadata": {},
   "source": [
    "There is a final way of importing libraries that you might see, but we're not going to actually run the code because it's the worst.\n",
    "```\n",
    "from math import *\n",
    "```\n",
    "You might be able to guess what this is doing and some of you might see why it's a terrible idea. Instead of having to type `math.log()`, importing in this manner will let us access every function in math directly by name `log()`, `exp()`, etc. This might seem nice and easy, but do you know everything that is in the `math` library? It might be huge. And what if my code is analyzing the revenues of a timber company and I happen to have a variable called `log` that refers to the price of a fallen tree. Depending on the order of when I run my code and my imports, `log` might either refer to a function or my variable. If I always use \n",
    "```\n",
    "from math import log\n",
    "```\n",
    "I have the same problem in that I've defined `log` but I'm explicitly reminded of the name of the function that I'm importing. And if I was a timber company I might see the err in my ways. But by using the first syntax:\n",
    "```\n",
    "from math import *\n",
    "```\n",
    "I'm importing perhaps hundreds or thousands of functions whose name I don't even know.\n",
    "\n",
    "tldr; you'll see `from math import *` in your googling. Don't do it. "
   ]
  },
  {
   "cell_type": "markdown",
   "metadata": {},
   "source": [
    "###Documentation\n",
    "So we found the logarithm of 348 a number of ways. But the astute among you may ask, logarithm of base what? Well, Jupyter (Ipython Notebook) can be really helpful here. Try typing:"
   ]
  },
  {
   "cell_type": "code",
   "execution_count": null,
   "metadata": {
    "collapsed": true
   },
   "outputs": [],
   "source": [
    "math.log?"
   ]
  },
  {
   "cell_type": "markdown",
   "metadata": {},
   "source": [
    "A helpful little box should have popped up explainign a bit about math.log (which you can close by clicking the x in the upper right corner).\n",
    "We could also type `math.log` then Shift+Tab. Try that below:"
   ]
  },
  {
   "cell_type": "code",
   "execution_count": null,
   "metadata": {
    "collapsed": false
   },
   "outputs": [],
   "source": [
    "math.log"
   ]
  },
  {
   "cell_type": "markdown",
   "metadata": {},
   "source": [
    "or"
   ]
  },
  {
   "cell_type": "code",
   "execution_count": null,
   "metadata": {
    "collapsed": false
   },
   "outputs": [],
   "source": [
    "help(math.log)"
   ]
  },
  {
   "cell_type": "markdown",
   "metadata": {},
   "source": [
    "From either of these options we learned that `math.log` needs a number `x`. We could also give it a second number separated by a comma to specify the base. If we don't give that second argument, then it will default to `e`, the natural logarithm."
   ]
  },
  {
   "cell_type": "code",
   "execution_count": null,
   "metadata": {
    "collapsed": false
   },
   "outputs": [],
   "source": [
    "print(math.log(348))\n",
    "print(math.log(348, 2))\n",
    "print(math.log(348, 10))"
   ]
  },
  {
   "cell_type": "markdown",
   "metadata": {},
   "source": [
    "But is it really the natural logarithm? Let's double check:"
   ]
  },
  {
   "cell_type": "code",
   "execution_count": null,
   "metadata": {
    "collapsed": false
   },
   "outputs": [],
   "source": [
    "print(math.log(348, e))"
   ]
  },
  {
   "cell_type": "markdown",
   "metadata": {},
   "source": [
    "Ack! Python doesn't know what e is! How do I know whether `math.log` is really using the base `e`?\n",
    "\n",
    "Well `e` is pretty mathy, maybe the math library can help us but how do I know?"
   ]
  },
  {
   "cell_type": "code",
   "execution_count": null,
   "metadata": {
    "collapsed": false
   },
   "outputs": [],
   "source": [
    "help(math)"
   ]
  },
  {
   "cell_type": "markdown",
   "metadata": {},
   "source": [
    "Remember we could also just have typed `math` and then held down Shift+Tab to get a drop down of some available options. But it looks like `exp` is in there somewhere which is just what we want."
   ]
  },
  {
   "cell_type": "code",
   "execution_count": null,
   "metadata": {
    "collapsed": false
   },
   "outputs": [],
   "source": [
    "help(math.exp)"
   ]
  },
  {
   "cell_type": "markdown",
   "metadata": {},
   "source": [
    "So e raised to the first should just be e! Right?"
   ]
  },
  {
   "cell_type": "code",
   "execution_count": null,
   "metadata": {
    "collapsed": false
   },
   "outputs": [],
   "source": [
    "math.exp(1)"
   ]
  },
  {
   "cell_type": "markdown",
   "metadata": {},
   "source": [
    "Success! Now is math.log really defaulting to base e?"
   ]
  },
  {
   "cell_type": "code",
   "execution_count": null,
   "metadata": {
    "collapsed": false
   },
   "outputs": [],
   "source": [
    "math.log(348) == math.log(348, math.exp(1))"
   ]
  },
  {
   "cell_type": "markdown",
   "metadata": {},
   "source": [
    "You win `math` library, you win. \n",
    "\n",
    "This is a fun little exercise. But really, I trusted that `math` library all along because I know it's part of the Python Standard Library. Trust is key when using built in libraries and functions otherwise you might never anything done. Just don't spread that trust to broadly. You really _really_ need to get in the habit of looking at documentation when you use a library or a function that you've never used before. Thankfully Jupyter gives you a lot of options on how to do so, so you have no excuse. \n",
    "\n",
    "#Time for the tour:"
   ]
  },
  {
   "cell_type": "markdown",
   "metadata": {},
   "source": [
    "# `math` - Mathematical functions\n",
    "[Package documentation](https://docs.python.org/3/library/math.html)\n",
    "\n",
    "Our old friend `math` is as good of a starting point as any. We'll learn a lot more about complex mathematics and statistics libraries later. But for now, you'll need some basic math aside from +-*/ (which should all work as expected!).\n",
    "\n",
    "But to see why `math` is so great let's take a break and try a little exercise:"
   ]
  },
  {
   "cell_type": "markdown",
   "metadata": {},
   "source": [
    "**Exercise:** what is the value of 21! (21 factorial)?"
   ]
  },
  {
   "cell_type": "code",
   "execution_count": null,
   "metadata": {
    "collapsed": false
   },
   "outputs": [],
   "source": [
    "def calculate_factorial(number_of_interest):\n",
    "    #Place your code here\n",
    "\n",
    "  \n",
    "    return factorial_of_number"
   ]
  },
  {
   "cell_type": "code",
   "execution_count": null,
   "metadata": {
    "collapsed": false
   },
   "outputs": [],
   "source": [
    "number_of_interest = 21\n",
    "calculate_factorial(number_of_interest)"
   ]
  },
  {
   "cell_type": "markdown",
   "metadata": {},
   "source": [
    "When you're learning how to code these exercises are great practice. Once you're comfortable you'll know that it's far easier to say:"
   ]
  },
  {
   "cell_type": "code",
   "execution_count": null,
   "metadata": {
    "collapsed": false
   },
   "outputs": [],
   "source": [
    "math.factorial(21)"
   ]
  },
  {
   "cell_type": "markdown",
   "metadata": {},
   "source": [
    "Did your answers match up? They better!"
   ]
  },
  {
   "cell_type": "code",
   "execution_count": null,
   "metadata": {
    "collapsed": true
   },
   "outputs": [],
   "source": [
    "math.factorial(number_of_interest) == calculate_factorial(number_of_interest)"
   ]
  },
  {
   "cell_type": "markdown",
   "metadata": {},
   "source": [
    "# `random` - Generate pseudo-random numbers\n",
    "\n",
    "[Package documentation](https://docs.python.org/3/library/random.html)\n",
    "\n",
    "Greatest Hits:\n",
    "* `random.random()`: returns a number in the range [0.0, 1.0)\n",
    "* `random.randint(a, b)`: returns an integer in the range [a, b]\n",
    "* `random.choice(x)`: randomly returns a value from the sequence x\n",
    "* `random.sample(x, y)`: randomly returns a sample of length y from the sequence x without replacement"
   ]
  },
  {
   "cell_type": "code",
   "execution_count": null,
   "metadata": {
    "collapsed": false
   },
   "outputs": [],
   "source": [
    "import random"
   ]
  },
  {
   "cell_type": "markdown",
   "metadata": {},
   "source": [
    "What if I just want a random number between 0 and 1, because who knows, it might be useful (it will be at some point):"
   ]
  },
  {
   "cell_type": "code",
   "execution_count": null,
   "metadata": {
    "collapsed": false
   },
   "outputs": [],
   "source": [
    "random.random()"
   ]
  },
  {
   "cell_type": "markdown",
   "metadata": {},
   "source": [
    "Make sure that you run that cell a few times, you should get a different answer every time.\n",
    "\n",
    "Sometimes integers are just easier to deal with. "
   ]
  },
  {
   "cell_type": "code",
   "execution_count": null,
   "metadata": {
    "collapsed": false
   },
   "outputs": [],
   "source": [
    "random.randint(7, 261)"
   ]
  },
  {
   "cell_type": "markdown",
   "metadata": {},
   "source": [
    "__Exercise:__ Are the numbers 7 and 261 included or excluded from this random number generator:"
   ]
  },
  {
   "cell_type": "code",
   "execution_count": null,
   "metadata": {
    "collapsed": true
   },
   "outputs": [],
   "source": [
    "#Place your code here\n",
    "\n"
   ]
  },
  {
   "cell_type": "markdown",
   "metadata": {},
   "source": [
    "For a lot of statistical tests you'll want to be able to randomly select items from a list so here are two easy ways to do it. As always, if this is random it better give you different results when you run it multiple times!"
   ]
  },
  {
   "cell_type": "code",
   "execution_count": null,
   "metadata": {
    "collapsed": true
   },
   "outputs": [],
   "source": [
    "dwarfs = ['Doc', 'Grumpy', 'Happy', 'Sleepy', 'Bashful', 'Sneezy', 'Dopey']"
   ]
  },
  {
   "cell_type": "code",
   "execution_count": null,
   "metadata": {
    "collapsed": false
   },
   "outputs": [],
   "source": [
    "random.sample(dwarfs, 3)"
   ]
  },
  {
   "cell_type": "code",
   "execution_count": null,
   "metadata": {
    "collapsed": false
   },
   "outputs": [],
   "source": [
    "random.choice(dwarfs)"
   ]
  },
  {
   "cell_type": "markdown",
   "metadata": {},
   "source": [
    "#`os` - Miscellaneous operating system interfaces\n",
    "\n",
    "[Package documentation](https://docs.python.org/3/library/os.html)\n",
    "\n",
    "These should be pretty self explanatory. But when you're navigating through file systems to read and write files you'll quickly learn how important they are."
   ]
  },
  {
   "cell_type": "code",
   "execution_count": null,
   "metadata": {
    "collapsed": false
   },
   "outputs": [],
   "source": [
    "import os"
   ]
  },
  {
   "cell_type": "code",
   "execution_count": null,
   "metadata": {
    "collapsed": false
   },
   "outputs": [],
   "source": [
    "current_directory = os.getcwd()\n",
    "print(current_directory)"
   ]
  },
  {
   "cell_type": "code",
   "execution_count": null,
   "metadata": {
    "collapsed": false
   },
   "outputs": [],
   "source": [
    "contents = os.listdir(current_directory)\n",
    "print(contents)"
   ]
  },
  {
   "cell_type": "markdown",
   "metadata": {},
   "source": [
    "# `glob` - Unix style pathname pattern expansion\n",
    "\n",
    "[Package documentation](https://docs.python.org/3/library/glob.html)\n",
    "\n",
    "`glob` doesn't have a lot. In fact, it's just two functions which are quite similar but powerful nevertheless. "
   ]
  },
  {
   "cell_type": "code",
   "execution_count": null,
   "metadata": {
    "collapsed": false
   },
   "outputs": [],
   "source": [
    "import glob"
   ]
  },
  {
   "cell_type": "code",
   "execution_count": null,
   "metadata": {
    "collapsed": false,
    "scrolled": true
   },
   "outputs": [],
   "source": [
    "help(glob)"
   ]
  },
  {
   "cell_type": "code",
   "execution_count": null,
   "metadata": {
    "collapsed": false
   },
   "outputs": [],
   "source": [
    "for infile in glob.glob(current_directory + '/*'):\n",
    "    print(infile)"
   ]
  },
  {
   "cell_type": "markdown",
   "metadata": {},
   "source": [
    "**Exercise:** how many files are in your current directory? How many of those are '.ipynb' files?"
   ]
  },
  {
   "cell_type": "code",
   "execution_count": null,
   "metadata": {
    "collapsed": false
   },
   "outputs": [],
   "source": [
    "###Place code here\n"
   ]
  },
  {
   "cell_type": "markdown",
   "metadata": {},
   "source": [
    "# `time` - Time access and conversions\n",
    "\n",
    "[Package documentation](https://docs.python.org/3/library/time.html)\n",
    "\n",
    "Greatest Hits:\n",
    "* `time.sleep(x)`: pauses for x seconds\n",
    "* `time.time()`: gets current time in seconds"
   ]
  },
  {
   "cell_type": "code",
   "execution_count": null,
   "metadata": {
    "collapsed": false
   },
   "outputs": [],
   "source": [
    "import time\n"
   ]
  },
  {
   "cell_type": "code",
   "execution_count": null,
   "metadata": {
    "collapsed": false
   },
   "outputs": [],
   "source": [
    "time.time()"
   ]
  },
  {
   "cell_type": "code",
   "execution_count": null,
   "metadata": {
    "collapsed": false
   },
   "outputs": [],
   "source": [
    "time.time()"
   ]
  },
  {
   "cell_type": "markdown",
   "metadata": {},
   "source": [
    "This can be a useful if somewhat tedious way to see how long your code takes to run!"
   ]
  },
  {
   "cell_type": "code",
   "execution_count": null,
   "metadata": {
    "collapsed": false
   },
   "outputs": [],
   "source": [
    "start_time = time.time()\n",
    "for i in range(10000):\n",
    "    trash = i**2\n",
    "end_time = time.time()\n",
    "print(end_time - start_time)"
   ]
  },
  {
   "cell_type": "markdown",
   "metadata": {},
   "source": [
    "__Exercise__: Remember when we made a function to rival `math.factorial`? Which one runs faster?"
   ]
  },
  {
   "cell_type": "code",
   "execution_count": null,
   "metadata": {
    "collapsed": true
   },
   "outputs": [],
   "source": [
    "###Place your code here\n",
    "\n",
    "\n",
    "\n",
    "\n",
    "\n"
   ]
  },
  {
   "cell_type": "markdown",
   "metadata": {},
   "source": [
    "On rare occasions, you might actually want your code to run _slower_ (perhaps when scraping a website). You might want to take a little break between each time you run a line of code:"
   ]
  },
  {
   "cell_type": "code",
   "execution_count": null,
   "metadata": {
    "collapsed": false
   },
   "outputs": [],
   "source": [
    "for i in range(10):\n",
    "    print(i)\n",
    "    time.sleep(3)"
   ]
  },
  {
   "cell_type": "markdown",
   "metadata": {},
   "source": [
    "Compare that to:"
   ]
  },
  {
   "cell_type": "code",
   "execution_count": null,
   "metadata": {
    "collapsed": false
   },
   "outputs": [],
   "source": [
    "for i in range(10):\n",
    "    print(i)"
   ]
  },
  {
   "cell_type": "markdown",
   "metadata": {},
   "source": [
    "# `datetime` - Basic date and time types\n",
    "\n",
    "[Package documentation](https://docs.python.org/3/library/datetime.html)\n",
    "\n",
    "We'll talk about this package a bit more later, but for now let's just give you some basics:"
   ]
  },
  {
   "cell_type": "code",
   "execution_count": null,
   "metadata": {
    "collapsed": false
   },
   "outputs": [],
   "source": [
    "import datetime"
   ]
  },
  {
   "cell_type": "code",
   "execution_count": null,
   "metadata": {
    "collapsed": false
   },
   "outputs": [],
   "source": [
    "today = datetime.date.today()\n",
    "print(today)\n",
    "print(today.day)\n",
    "print(today.year)\n"
   ]
  },
  {
   "cell_type": "code",
   "execution_count": null,
   "metadata": {
    "collapsed": false
   },
   "outputs": [],
   "source": [
    "birthday = datetime.date(1984, 2, 25)\n",
    "print(birthday.day)\n",
    "print(birthday.month)\n",
    "print(birthday.year)"
   ]
  },
  {
   "cell_type": "markdown",
   "metadata": {},
   "source": [
    "In _one_ variable called `birthday` we now have lots of information. This is much easier to work with than having separate variables for each of these:\n",
    "```\n",
    "birth_day = 25\n",
    "birth_month = 2\n",
    "birth_year = 1984\n",
    "```\n",
    "or one variable that we have to split apart everytime we only care about a particular piece of it:\n",
    "\n",
    "```\n",
    "birthday = '02-25-1984'\n",
    "```"
   ]
  },
  {
   "cell_type": "markdown",
   "metadata": {},
   "source": [
    "# `copy` - Shallow and deep copy operations\n",
    "\n",
    "[Package documentation](https://docs.python.org/3/library/copy.html)\n",
    "\n",
    "Greatest Hits:\n",
    "* `copy.copy(x)`\n",
    "* `copy.deepcopy(x)`\n",
    "\n",
    "This is a really subtle but important point that you need to be aware of."
   ]
  },
  {
   "cell_type": "code",
   "execution_count": null,
   "metadata": {
    "collapsed": false
   },
   "outputs": [],
   "source": [
    "import copy"
   ]
  },
  {
   "cell_type": "markdown",
   "metadata": {},
   "source": [
    "Suppose I defined variable `x` and for the time being I want to have `y` equal the same thing:"
   ]
  },
  {
   "cell_type": "code",
   "execution_count": null,
   "metadata": {
    "collapsed": false
   },
   "outputs": [],
   "source": [
    "x = [5, 6]\n",
    "y = x"
   ]
  },
  {
   "cell_type": "markdown",
   "metadata": {},
   "source": [
    "But now something came up, I need to change `y`:"
   ]
  },
  {
   "cell_type": "code",
   "execution_count": null,
   "metadata": {
    "collapsed": true
   },
   "outputs": [],
   "source": [
    "y[0]= 2"
   ]
  },
  {
   "cell_type": "markdown",
   "metadata": {},
   "source": [
    "So now what are the values of x and y?"
   ]
  },
  {
   "cell_type": "code",
   "execution_count": null,
   "metadata": {
    "collapsed": false
   },
   "outputs": [],
   "source": [
    "print(x)\n",
    "print(y)"
   ]
  },
  {
   "cell_type": "markdown",
   "metadata": {},
   "source": [
    "Ack! That's not what we wanted at all. So how would we get what we wanted? Enter `copy`"
   ]
  },
  {
   "cell_type": "code",
   "execution_count": null,
   "metadata": {
    "collapsed": false
   },
   "outputs": [],
   "source": [
    "x = [5, 6]\n",
    "y = copy.copy(x)\n",
    "y[0]= 2\n",
    "print(x)\n",
    "print(y)"
   ]
  },
  {
   "cell_type": "markdown",
   "metadata": {},
   "source": [
    "Much better. However `copy.copy()` is _shallow_. If I have a dictionary of lists for instance it would only 'copy' the dictionary and not the underlying lists. It's a subtle point but for almost all applications what you really want is copy.deepcopy(). I.e. it will create an exact replica all the way down of the variable you give it. And it functions the exact same way as copy:"
   ]
  },
  {
   "cell_type": "code",
   "execution_count": null,
   "metadata": {
    "collapsed": false
   },
   "outputs": [],
   "source": [
    "x = [5, 6]\n",
    "y = copy.deepcopy(x)\n",
    "y[0]= 2\n",
    "print(x)\n",
    "print(y)"
   ]
  },
  {
   "cell_type": "markdown",
   "metadata": {},
   "source": [
    "# `operator` - Standard operators as functions\n",
    "\n",
    "[Package documentation](https://docs.python.org/3/library/operator.html)\n",
    "\n",
    "This will be easiest to describe with an example:"
   ]
  },
  {
   "cell_type": "code",
   "execution_count": null,
   "metadata": {
    "collapsed": false
   },
   "outputs": [],
   "source": [
    "import operator"
   ]
  },
  {
   "cell_type": "code",
   "execution_count": null,
   "metadata": {
    "collapsed": false
   },
   "outputs": [],
   "source": [
    "x = [[5,4,3], [2, 4, 5], [9,2,1]]\n",
    "x.sort()\n",
    "print(x)"
   ]
  },
  {
   "cell_type": "markdown",
   "metadata": {},
   "source": [
    "What actually happened here? I sorted a list of lists based off of the first value of the lists. But suppose I wantd to sort based off the second? or the last?"
   ]
  },
  {
   "cell_type": "code",
   "execution_count": null,
   "metadata": {
    "collapsed": false
   },
   "outputs": [],
   "source": [
    "x.sort(key=operator.itemgetter(3))\n",
    "print(x)"
   ]
  },
  {
   "cell_type": "markdown",
   "metadata": {},
   "source": [
    "Woops! Remember, the lists inside only have three elements in them. And we start indexing at 0 so I just told it to sort based off a non-existent entry. "
   ]
  },
  {
   "cell_type": "code",
   "execution_count": null,
   "metadata": {
    "collapsed": false
   },
   "outputs": [],
   "source": [
    "x.sort(key=operator.itemgetter(2))\n",
    "print(x)"
   ]
  },
  {
   "cell_type": "markdown",
   "metadata": {},
   "source": [
    "Much better :)"
   ]
  },
  {
   "cell_type": "markdown",
   "metadata": {},
   "source": [
    "# `collections` - Container datatypes\n",
    "\n",
    "[Package documentation](https://docs.python.org/3/library/collections.html)\n",
    "\n",
    "Greatest Hits:\n",
    "* `collections.defaultdict`: automatically creates values for missing keys\n",
    "* `collections.Counter`: counts repeated instances from an iterable"
   ]
  },
  {
   "cell_type": "code",
   "execution_count": null,
   "metadata": {
    "collapsed": false
   },
   "outputs": [],
   "source": [
    "import collections\n",
    "TAs = ['adam', 'peter', 'nick', 'adam', 'hyojun', 'joao']\n",
    "TA_names_dict = dict(collections.Counter(TAs))\n",
    "print(TA_names_dict)\n",
    "\n",
    "# new_TAs = ['joao', 'chuyue']\n",
    "# for name in new_TAs:\n",
    "#     TA_names_dict[name] += 1\n",
    "# print(TA_names_dict)\n",
    "\n",
    "# for name in new_TAs:\n",
    "#     if name in TA_names_dict.keys():\n",
    "#         TA_names_dict[name] += 1\n",
    "#     else:\n",
    "#         TA_names_dict[name] = 1\n",
    "# print(TA_names_dict)\n",
    "\n",
    "# TA_names_default_dict = collections.defaultdict(int, TA_names_dict.items())\n",
    "# new_TAs = ['joao', 'chuyue']\n",
    "# for name in new_TAs:\n",
    "#     TA_names_default_dict[name] += 1\n",
    "# print(TA_names_default_dict)\n"
   ]
  },
  {
   "cell_type": "markdown",
   "metadata": {},
   "source": [
    "# `csv` - CSV file reading and writing\n",
    "\n",
    "[Package documentation](https://docs.python.org/3/library/csv.html)"
   ]
  },
  {
   "cell_type": "code",
   "execution_count": null,
   "metadata": {
    "collapsed": false
   },
   "outputs": [],
   "source": [
    "import csv\n",
    "\n",
    "gpa_file = open('../Data/gpa_data.csv', 'r')\n",
    "spreadsheet = csv.reader(gpa_file, delimiter=',')\n",
    "print(spreadsheet)\n",
    "# for row in spreadsheet:\n",
    "#     print(row)"
   ]
  },
  {
   "cell_type": "markdown",
   "metadata": {},
   "source": [
    "# `json` - JSON encoder and decoder\n",
    "\n",
    "[Package documentation](https://docs.python.org/3/library/json.html)\n",
    "\n",
    "Greatest Hits:\n",
    "* `json.dump()` (dumps to file) and `json.dumps()` (dumps to string)\n",
    "* `json.load()` (loads from a file) and `json.loads()` (loads a string)"
   ]
  },
  {
   "cell_type": "code",
   "execution_count": null,
   "metadata": {
    "collapsed": false
   },
   "outputs": [],
   "source": [
    "import json\n",
    "names = ['Adam H', 'Peter W', 'Joao M', 'Hyojun L']\n",
    "ages = [21, 31, 24, 19]\n",
    "age_dictionary = dict(zip(names, ages))\n",
    "\n",
    "with open('../Data/TA_ages.json', 'w') as output_file:\n",
    "    json.dump(age_dictionary, output_file)\n",
    "    \n",
    "#####This should be equivalent to:\n",
    "# output_file = open('../Data/TA_ages.json', 'w')\n",
    "# json.dump(age_dictionary, output_file)"
   ]
  },
  {
   "cell_type": "code",
   "execution_count": null,
   "metadata": {
    "collapsed": false
   },
   "outputs": [],
   "source": [
    "with open('../Data/TA_ages.json', 'r') as input_file:\n",
    "    TA_ages = json.load(input_file)\n",
    "#####Which is equivalent to:\n",
    "# input_file = open('../Data/TA_ages.json', 'r')\n",
    "# TA_ages = json.load(input_file)"
   ]
  },
  {
   "cell_type": "code",
   "execution_count": null,
   "metadata": {
    "collapsed": false
   },
   "outputs": [],
   "source": [
    "print(TA_ages)\n",
    "print(age_dictionary)\n",
    "# TA_ages == age_dictionary"
   ]
  },
  {
   "cell_type": "markdown",
   "metadata": {},
   "source": [
    "**Exercise:** Write your own code (that does not use the json library) that writes a dictionary to a file and then reads that file back into a new dictionary.\n",
    "\n",
    "**Bonus:** how long does the whole process take? And how long does it take to do the same thing using the json library?"
   ]
  },
  {
   "cell_type": "code",
   "execution_count": null,
   "metadata": {
    "collapsed": false
   },
   "outputs": [],
   "source": [
    "my_dictionary = {'Ernest Hemmingway': ['The Sun Also Rises', 'A Farewell to Arms', 'For Whom the Bell Tolls'],\n",
    "                 'Charles Dickens': ['Great Expectations', 'A Tale of Two Cities'],\n",
    "                 'Leo Tolstoy': ['Anna Karenina', 'War and Peace'],\n",
    "                 'Harper Lee': ['To Kill a Mockingbird']\n",
    "                 }\n",
    "                 \n",
    "###Place your code here\n"
   ]
  },
  {
   "cell_type": "code",
   "execution_count": null,
   "metadata": {
    "collapsed": false
   },
   "outputs": [],
   "source": [
    "from IPython.core.display import HTML\n",
    "from IPython.lib.display import YouTubeVideo\n",
    "\n",
    "\n",
    "def css_styling():\n",
    "    styles = open(\"../styles/custom.css\", \"r\").read()\n",
    "    return HTML(styles)\n",
    "css_styling()"
   ]
  },
  {
   "cell_type": "code",
   "execution_count": null,
   "metadata": {
    "collapsed": true
   },
   "outputs": [],
   "source": []
  }
 ],
 "metadata": {
  "kernelspec": {
   "display_name": "Python 3",
   "language": "python",
   "name": "python3"
  },
  "language_info": {
   "codemirror_mode": {
    "name": "ipython",
    "version": 3
   },
   "file_extension": ".py",
   "mimetype": "text/x-python",
   "name": "python",
   "nbconvert_exporter": "python",
   "pygments_lexer": "ipython3",
   "version": "3.4.3"
  }
 },
 "nbformat": 4,
 "nbformat_minor": 0
}
