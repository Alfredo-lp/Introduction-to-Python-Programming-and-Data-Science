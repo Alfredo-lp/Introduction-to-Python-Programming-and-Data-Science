{
 "metadata": {
  "kernelspec": {
   "display_name": "Python 3",
   "language": "python",
   "name": "python3"
  },
  "language_info": {
   "codemirror_mode": {
    "name": "ipython",
    "version": 3
   },
   "file_extension": ".py",
   "mimetype": "text/x-python",
   "name": "python",
   "nbconvert_exporter": "python",
   "pygments_lexer": "ipython3",
   "version": "3.4.2"
  },
  "name": "",
  "signature": "sha256:f5a7ca179d207b9025fbff9102d012a3f0516f62cd223f1d0ab014c36c25980d"
 },
 "nbformat": 3,
 "nbformat_minor": 0,
 "worksheets": [
  {
   "cells": [
    {
     "cell_type": "markdown",
     "metadata": {},
     "source": [
      "# The Python Standard Library: \"Batteries Included\"\n",
      "\n",
      "Of all the reasons to use Python, the number one reason (by a landslide) is that the community of Python programmers provide a ton of support. Most problems that you will encounter have been solved by someone, it's just a matter of knowing how to find and interpret the solutions.\n",
      "\n",
      "References\n",
      "\n",
      "* [Brief Tour of the Standard Library](https://docs.python.org/3/tutorial/stdlib.html)\n",
      "* [The Python Standard Library - Index](https://docs.python.org/3/library/index.html)\n",
      "* [Think Python](http://www.greenteapress.com/thinkpython/)"
     ]
    },
    {
     "cell_type": "markdown",
     "metadata": {},
     "source": [
      "#Before we get started\n",
      "**Exercise:** what is the square root of 4225? (assume that the answer is a whole number)"
     ]
    },
    {
     "cell_type": "code",
     "collapsed": false,
     "input": [
      "#Reminder: x squared is written x**2 in python\n",
      "number_of_interest = 4225\n",
      "###Place your code here\n"
     ],
     "language": "python",
     "metadata": {},
     "outputs": []
    },
    {
     "cell_type": "markdown",
     "metadata": {},
     "source": [
      "# `math` - Mathematical functions\n",
      "\n",
      "[Package documentation](https://docs.python.org/3/library/math.html)"
     ]
    },
    {
     "cell_type": "code",
     "collapsed": false,
     "input": [
      "import math"
     ],
     "language": "python",
     "metadata": {},
     "outputs": []
    },
    {
     "cell_type": "code",
     "collapsed": false,
     "input": [
      "math"
     ],
     "language": "python",
     "metadata": {},
     "outputs": []
    },
    {
     "cell_type": "code",
     "collapsed": false,
     "input": [
      "help(math)"
     ],
     "language": "python",
     "metadata": {},
     "outputs": []
    },
    {
     "cell_type": "code",
     "collapsed": false,
     "input": [
      "dir(math)"
     ],
     "language": "python",
     "metadata": {},
     "outputs": []
    },
    {
     "cell_type": "code",
     "collapsed": false,
     "input": [
      "math.\n",
      "# math.exp?\n",
      "# help(math.exp)\n",
      "# math.exp(5)"
     ],
     "language": "python",
     "metadata": {},
     "outputs": []
    },
    {
     "cell_type": "markdown",
     "metadata": {},
     "source": [
      "**Exercise:** what is the value of 21! (21 factorial)?"
     ]
    },
    {
     "cell_type": "code",
     "collapsed": false,
     "input": [
      "#Place your code here\n",
      "number_of_interest = 21"
     ],
     "language": "python",
     "metadata": {},
     "outputs": []
    },
    {
     "cell_type": "markdown",
     "metadata": {},
     "source": [
      "# `random` - Generate pseudo-random numbers\n",
      "\n",
      "[Package documentation](https://docs.python.org/3/library/random.html)\n",
      "\n",
      "Greatest Hits:\n",
      "* `random.random()`: returns a number in the range [0.0, 1.0)\n",
      "* `random.randint(a, b)`: returns an integer in the range [a, b]\n",
      "* `random.choice(x)`: randomly returns a value from the sequence x\n",
      "* `random.sample(x, y)`: randomly returns a sample of length y from the sequence x without replacement"
     ]
    },
    {
     "cell_type": "code",
     "collapsed": false,
     "input": [
      "import random\n",
      "# random.random()\n",
      "# random.randint(0, 5)\n",
      "# TAs = ['adam', 'peter', 'nick', 'adam', 'hyojun']\n",
      "# random.sample(TAs, 2)\n",
      "# random.choice(TAs)"
     ],
     "language": "python",
     "metadata": {},
     "outputs": []
    },
    {
     "cell_type": "markdown",
     "metadata": {},
     "source": [
      "#`os` - Miscellaneous operating system interfaces\n",
      "\n",
      "[Package documentation](https://docs.python.org/3/library/os.html)"
     ]
    },
    {
     "cell_type": "code",
     "collapsed": false,
     "input": [
      "import os\n",
      "# current_directory = os.getcwd()\n",
      "# contents = os.listdir(current_directory)\n",
      "# print(current_directory)\n",
      "# print(contents)"
     ],
     "language": "python",
     "metadata": {},
     "outputs": []
    },
    {
     "cell_type": "markdown",
     "metadata": {},
     "source": [
      "# `glob` - Unix style pathname pattern expansion\n",
      "\n",
      "[Package documentation](https://docs.python.org/3/library/glob.html)"
     ]
    },
    {
     "cell_type": "code",
     "collapsed": false,
     "input": [
      "import glob\n",
      "for infile in glob.glob('../Data/Roster/*.txt'):\n",
      "    print(infile)"
     ],
     "language": "python",
     "metadata": {},
     "outputs": []
    },
    {
     "cell_type": "markdown",
     "metadata": {},
     "source": [
      "**Exercise:** how many .txt files are in the \"Roster\" directory?"
     ]
    },
    {
     "cell_type": "code",
     "collapsed": false,
     "input": [
      "###Place code here\n"
     ],
     "language": "python",
     "metadata": {},
     "outputs": []
    },
    {
     "cell_type": "markdown",
     "metadata": {},
     "source": [
      "# `time` - Time access and conversions\n",
      "\n",
      "[Package documentation](https://docs.python.org/3/library/time.html)\n",
      "\n",
      "Greatest Hits:\n",
      "* `time.sleep(x)`: pauses for x seconds\n",
      "* `time.time()`: gets current time in seconds"
     ]
    },
    {
     "cell_type": "code",
     "collapsed": false,
     "input": [
      "import time\n",
      "# start_time = time.time()\n",
      "# for i in range(10000):\n",
      "#     trash = i**2\n",
      "# end_time = time.time()\n",
      "# print(end_time - start_time)\n",
      "\n",
      "# for i in range(10):\n",
      "#     print(i)\n",
      "#     time.sleep(1)"
     ],
     "language": "python",
     "metadata": {},
     "outputs": []
    },
    {
     "cell_type": "markdown",
     "metadata": {},
     "source": [
      "# `datetime` - Basic date and time types\n",
      "\n",
      "[Package documentation](https://docs.python.org/3/library/datetime.html)"
     ]
    },
    {
     "cell_type": "code",
     "collapsed": false,
     "input": [
      "import datetime\n",
      "# today = datetime.date.today()\n",
      "# print(today.day)\n",
      "\n",
      "# birthday = datetime.date(1984, 2, 25)\n",
      "# birthday.day\n",
      "# birthday.month\n",
      "# birthday.year"
     ],
     "language": "python",
     "metadata": {},
     "outputs": []
    },
    {
     "cell_type": "markdown",
     "metadata": {},
     "source": [
      "**Exercise:** how can our birthday calculations be made simpler using datetime?"
     ]
    },
    {
     "cell_type": "code",
     "collapsed": false,
     "input": [
      "###Old code:\n",
      "# birth_month = 2\n",
      "# birth_day = 25\n",
      "# birth_year = 1984\n",
      "\n",
      "# current_month = 3\n",
      "# current_day = 24\n",
      "# current_year = 2015\n",
      "\n",
      "# ########################\n",
      "# ###Place your code here\n",
      "\n",
      "# #We have a few different cases to evaluate\n",
      "# if birth_month < current_month:\n",
      "#     #In this case, you already had your birthday this year so days don't matter\n",
      "#     age = current_year - birth_year\n",
      "# elif birth_month > current_month:\n",
      "#     #In this case, your birthday hasn't happened yet and isn't happening this month\n",
      "#     age = current_year - birth_year - 1\n",
      "# elif birth_month == current_month:\n",
      "#     #This case is slightly more complicated because it's your birth month so now we need to\n",
      "#     #care about what day of the month it is\n",
      "#     if birth_day <= current_day:\n",
      "#         #If your birthday passed this month OR if today is your birthday...\n",
      "#         age = current_year - birth_year\n",
      "#     elif birth_day > current_day:\n",
      "#         #If your birthday hasn't yet happened this month\n",
      "#         age = current_year - birth_year - 1\n",
      "\n",
      "\n"
     ],
     "language": "python",
     "metadata": {},
     "outputs": []
    },
    {
     "cell_type": "markdown",
     "metadata": {},
     "source": [
      "# `urllib` - URL handling modules\n",
      "\n",
      "[Package documentation](https://docs.python.org/3/library/urllib.html)"
     ]
    },
    {
     "cell_type": "code",
     "collapsed": false,
     "input": [
      "import urllib\n",
      "webpage = urllib.request.urlopen('http://amaral-lab.org/')\n",
      "# print(webpage.info())\n",
      "# print(webpage.read())\n",
      "webpage.close()"
     ],
     "language": "python",
     "metadata": {},
     "outputs": []
    },
    {
     "cell_type": "markdown",
     "metadata": {},
     "source": [
      "# `copy` - Shallow and deep copy operations\n",
      "\n",
      "[Package documentation](https://docs.python.org/3/library/copy.html)\n",
      "\n",
      "Greatest Hits:\n",
      "* `copy.copy(x)`\n",
      "* `copy.deepcopy(x)`"
     ]
    },
    {
     "cell_type": "code",
     "collapsed": false,
     "input": [
      "import copy\n",
      "# x = [5, 6]\n",
      "# y = x\n",
      "# y[0]= 2\n",
      "# print(x)\n",
      "# print(y)"
     ],
     "language": "python",
     "metadata": {},
     "outputs": []
    },
    {
     "cell_type": "markdown",
     "metadata": {},
     "source": [
      "# `operator` - Standard operators as functions\n",
      "\n",
      "[Package documentation](https://docs.python.org/3/library/operator.html)"
     ]
    },
    {
     "cell_type": "code",
     "collapsed": false,
     "input": [
      "import operator\n",
      "\n",
      "x = [[5,4,3], [2, 4, 5], [9,2,1]]\n",
      "x.sort()\n",
      "print(x)\n",
      "\n",
      "# x.sort(key=operator.itemgetter(2))\n",
      "# print(x)"
     ],
     "language": "python",
     "metadata": {},
     "outputs": []
    },
    {
     "cell_type": "markdown",
     "metadata": {},
     "source": [
      "# `collections` - Container datatypes\n",
      "\n",
      "[Package documentation](https://docs.python.org/3/library/collections.html)\n",
      "\n",
      "Greatest Hits:\n",
      "* `collections.defaultdict`: automatically creates values for missing keys\n",
      "* `collections.Counter`: counts repeated instances from an iterable"
     ]
    },
    {
     "cell_type": "code",
     "collapsed": false,
     "input": [
      "import collections\n",
      "TAs = ['adam', 'peter', 'nick', 'adam', 'hyojun', 'joao']\n",
      "TA_names_dict = dict(collections.Counter(TAs))\n",
      "print(TA_names_dict)\n",
      "\n",
      "# new_TAs = ['joao', 'chuyue']\n",
      "# for name in new_TAs:\n",
      "#     TA_names_dict[name] += 1\n",
      "# print(TA_names_dict)\n",
      "\n",
      "# for name in new_TAs:\n",
      "#     if name in TA_names_dict.keys():\n",
      "#         TA_names_dict[name] += 1\n",
      "#     else:\n",
      "#         TA_names_dict[name] = 1\n",
      "# print(TA_names_dict)\n",
      "\n",
      "# TA_names_default_dict = collections.defaultdict(int, TA_names_dict.items())\n",
      "# new_TAs = ['joao', 'chuyue']\n",
      "# for name in new_TAs:\n",
      "#     TA_names_default_dict[name] += 1\n",
      "# print(TA_names_default_dict)\n"
     ],
     "language": "python",
     "metadata": {},
     "outputs": []
    },
    {
     "cell_type": "markdown",
     "metadata": {},
     "source": [
      "# `re` - Regular expression operations\n",
      "\n",
      "[Package documentation](https://docs.python.org/3/library/re.html)"
     ]
    },
    {
     "cell_type": "code",
     "collapsed": true,
     "input": [
      "import re"
     ],
     "language": "python",
     "metadata": {},
     "outputs": []
    },
    {
     "cell_type": "code",
     "collapsed": true,
     "input": [
      "facts = 'Peregrine Falcons can reach a speed of 242 MPH in a dive. Cheetahs only manage about 70 MPH.'"
     ],
     "language": "python",
     "metadata": {},
     "outputs": []
    },
    {
     "cell_type": "code",
     "collapsed": false,
     "input": [
      "# re.findall('[0-9]+', facts)\n",
      "# first = re.search('[0-9]+', facts)\n",
      "# print(first.group())\n",
      "\n",
      "# re.findall('[A-Z]{3}', facts)\n",
      "# re.findall('[ ][a-z]{2}[ ]', facts)"
     ],
     "language": "python",
     "metadata": {},
     "outputs": []
    },
    {
     "cell_type": "markdown",
     "metadata": {},
     "source": [
      "# `csv` - CSV file reading and writing\n",
      "\n",
      "[Package documentation](https://docs.python.org/3/library/csv.html)"
     ]
    },
    {
     "cell_type": "code",
     "collapsed": false,
     "input": [
      "import csv\n",
      "\n",
      "gpa_file = open('../Data/gpa_data.csv', 'r')\n",
      "spreadsheet = csv.reader(gpa_file, delimiter=',')\n",
      "print(spreadsheet)\n",
      "# for row in spreadsheet:\n",
      "#     print(row)"
     ],
     "language": "python",
     "metadata": {},
     "outputs": []
    },
    {
     "cell_type": "markdown",
     "metadata": {},
     "source": [
      "# `json` - JSON encoder and decoder\n",
      "\n",
      "[Package documentation](https://docs.python.org/3/library/json.html)\n",
      "\n",
      "Greatest Hits:\n",
      "* `json.dump()` (dumps to file) and `json.dumps()` (dumps to string)\n",
      "* `json.load()` (loads from a file) and `json.loads()` (loads a string)"
     ]
    },
    {
     "cell_type": "code",
     "collapsed": false,
     "input": [
      "import json\n",
      "names = ['Adam H', 'Peter W', 'Joao M', 'Hyojun L']\n",
      "ages = [21, 31, 24, 19]\n",
      "age_dictionary = dict(zip(names, ages))\n",
      "\n",
      "with open('../Data/TA_ages.json', 'w') as output_file:\n",
      "    json.dump(age_dictionary, output_file)\n",
      "    \n",
      "#####This should be equivalent to:\n",
      "# output_file = open('../Data/TA_ages.json', 'w')\n",
      "# json.dump(age_dictionary, output_file)"
     ],
     "language": "python",
     "metadata": {},
     "outputs": []
    },
    {
     "cell_type": "code",
     "collapsed": false,
     "input": [
      "with open('../Data/TA_ages.json', 'r') as input_file:\n",
      "    TA_ages = json.load(input_file)\n",
      "#####Which is equivalent to:\n",
      "# input_file = open('../Data/TA_ages.json', 'r')\n",
      "# TA_ages = json.load(input_file)"
     ],
     "language": "python",
     "metadata": {},
     "outputs": []
    },
    {
     "cell_type": "code",
     "collapsed": false,
     "input": [
      "print(TA_ages)\n",
      "print(age_dictionary)\n",
      "# TA_ages == age_dictionary"
     ],
     "language": "python",
     "metadata": {},
     "outputs": []
    },
    {
     "cell_type": "markdown",
     "metadata": {},
     "source": [
      "**Exercise:** Write your own code (that does not use the json library) that writes a dictionary to a file and then reads that file back into a new dictionary.\n",
      "\n",
      "**Bonus:** how long does the whole process take? And how long does it take to do the same thing using the json library?"
     ]
    },
    {
     "cell_type": "code",
     "collapsed": false,
     "input": [
      "my_dictionary = {'Ernest Hemmingway': ['The Sun Also Rises', 'A Farewell to Arms', 'For Whom the Bell Tolls'],\n",
      "                 'Charles Dickens': ['Great Expectations', 'A Tale of Two Cities'],\n",
      "                 'Leo Tolstoy': ['Anna Karenina', 'War and Peace'],\n",
      "                 'Harper Lee': ['To Kill a Mockingbird']\n",
      "                 }\n",
      "                 \n",
      "###Place your code here\n"
     ],
     "language": "python",
     "metadata": {},
     "outputs": []
    }
   ],
   "metadata": {}
  }
 ]
}