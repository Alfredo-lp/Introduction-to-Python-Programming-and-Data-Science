{
 "cells": [
  {
   "cell_type": "markdown",
   "metadata": {},
   "source": [
    "# Review of variables and flow control\n",
    "\n",
    "So far today we have introduced several foundational skills related to the python data types and flow control. Let's step through some examples right now.\n",
    "\n",
    "Different languages are very interesting and some people can speak many of them very well. Below we have five sentences that all say \"I speak Portuguese very well.\""
   ]
  },
  {
   "cell_type": "code",
   "execution_count": 22,
   "metadata": {
    "collapsed": false
   },
   "outputs": [],
   "source": [
    "sentence_pt = \"Eu falo Português muito bem.\"\n",
    "sentence_en = \"I speak Portuguese very well.\"\n",
    "sentence_fr = \"Je parle Portugais très bien.\"\n",
    "sentence_de = \"Ich spreche Portugiesisch sehr gut.\"\n",
    "sentence_es = \"Hablo portugués muy bien\""
   ]
  },
  {
   "cell_type": "markdown",
   "metadata": {},
   "source": [
    "Create a list named `sentences`, where each value is another list with both the name of the language and then the written sentence in that language. As an example:\n",
    "\n",
    "    sentences = [['Portuguese', sentence_pt], ...]\n",
    "\n",
    "Initialize each `list` with the sentence in the corresponding language (use the variable name and remember about tab-completion!)"
   ]
  },
  {
   "cell_type": "code",
   "execution_count": null,
   "metadata": {
    "collapsed": false
   },
   "outputs": [],
   "source": []
  },
  {
   "cell_type": "markdown",
   "metadata": {},
   "source": [
    "Create a list named `words` where each value is another list with both the name of the language and then all the words in the sentence. Just like:\n",
    "\n",
    "    words = [['Portuguese', ['Eu', 'falo', 'Portugues', 'muito', 'bem']], ... ]\n",
    "\n",
    "Use a loop and information from `sentences`."
   ]
  },
  {
   "cell_type": "code",
   "execution_count": null,
   "metadata": {
    "collapsed": false
   },
   "outputs": [],
   "source": []
  },
  {
   "cell_type": "markdown",
   "metadata": {},
   "source": [
    "Find the shortest word in the contents of the list *words*."
   ]
  },
  {
   "cell_type": "code",
   "execution_count": null,
   "metadata": {
    "collapsed": false
   },
   "outputs": [],
   "source": []
  },
  {
   "cell_type": "markdown",
   "metadata": {},
   "source": [
    "Find the longest word in the contents of the list *words*."
   ]
  },
  {
   "cell_type": "code",
   "execution_count": null,
   "metadata": {
    "collapsed": false
   },
   "outputs": [],
   "source": []
  },
  {
   "cell_type": "markdown",
   "metadata": {},
   "source": [
    "Now find the longest word that isn't German."
   ]
  },
  {
   "cell_type": "code",
   "execution_count": null,
   "metadata": {
    "collapsed": false
   },
   "outputs": [],
   "source": []
  },
  {
   "cell_type": "markdown",
   "metadata": {},
   "source": [
    "Now find the shortest word that is not English or Portuguese."
   ]
  },
  {
   "cell_type": "code",
   "execution_count": null,
   "metadata": {
    "collapsed": false
   },
   "outputs": [],
   "source": []
  },
  {
   "cell_type": "markdown",
   "metadata": {},
   "source": [
    "# Additional exercises\n",
    "\n",
    "Write code that prints all of the _last_ names in the following dictionary"
   ]
  },
  {
   "cell_type": "code",
   "execution_count": null,
   "metadata": {
    "collapsed": true
   },
   "outputs": [],
   "source": [
    "names = [[\"Joe\", \"Smith\"],\n",
    "          [\"Mary\", \"Smith\"],\n",
    "          [\"Pete\", \"Smith\"], \n",
    "          [\"Lily\", \"Smith\"],\n",
    "          [\"Heinz\", \"Maus\"], \n",
    "          [\"Brigita\", \"Maus\"],\n",
    "          [\"Juergen\", \"last_name\": \"Maus\"], \n",
    "          [\"Jean\", \"St. Croix\"],\n",
    "          [\"sophie\", \"St. Croix\"]]\n",
    "\n",
    "#Write code here\n",
    "\n"
   ]
  },
  {
   "cell_type": "markdown",
   "metadata": {},
   "source": [
    "Great! But now I want a list where each value is another list and the first entry is the `last_name` and the second entry is a list of all the first names that have that last name. Just like:\n",
    "\n",
    "last_name_list = [['St. Croix', ['sophie', 'Jean']], ... ]"
   ]
  },
  {
   "cell_type": "code",
   "execution_count": null,
   "metadata": {
    "collapsed": true
   },
   "outputs": [],
   "source": [
    "#Create a new dictionary with Last Name as the key and the value being a list of first names\n",
    "last_name_list = []\n",
    "###Place your code here\n",
    "\n"
   ]
  },
  {
   "cell_type": "markdown",
   "metadata": {},
   "source": [
    "Finally, I want you to iterate through the last naem list and print the number of people with a given last name and then all of the first names."
   ]
  },
  {
   "cell_type": "code",
   "execution_count": 1,
   "metadata": {
    "collapsed": true
   },
   "outputs": [],
   "source": [
    "#Print the last name, the number of people with that last name, and the first names\n",
    "\n",
    "\n",
    "\n"
   ]
  },
  {
   "cell_type": "markdown",
   "metadata": {},
   "source": [
    "# Advanced Exercises\n",
    "\n",
    "Now let's work with a numerical example. I want to print the next 20 numbers in the Fibonacci sequence. The formula to calculate a new Fibonacci number is\n",
    "\n",
    "$F_{n} = F_{n-1} + F_{n-2}$\n",
    "\n",
    "Hint: We'll probably want to use the `range()` function"
   ]
  },
  {
   "cell_type": "code",
   "execution_count": null,
   "metadata": {
    "collapsed": true
   },
   "outputs": [],
   "source": [
    "# Print the next 20 numbers in Fibonacci series\n",
    "fib_sequence = [1, 1, 2, 3, 5, 8]\n",
    "\n"
   ]
  },
  {
   "cell_type": "markdown",
   "metadata": {},
   "source": [
    "Now let's go one step further and calculate the next 10 rows in Pascal's Triangle.\n",
    "\n",
    "[Pascal's triangle](https://en.wikipedia.org/wiki/Pascal%27s_triangle) is a 2-dimensional representation of the Fibonnacci sequence (sort of). A good explanation is this GIF from Wikipedia:\n",
    "\n",
    "<img src = '../images/PascalTriangleAnimated2.gif'></img>\n",
    "\n",
    "[wp_pasc]: https://en.wikipedia.org/wiki/Pascal%27s_triangle\n",
    "[wp_pasc_gif]: https://en.wikipedia.org/wiki/File:PascalTriangleAnimated2.gif\n",
    "[gif]: ../images/PascalTriangleAnimated2.gif"
   ]
  },
  {
   "cell_type": "code",
   "execution_count": null,
   "metadata": {
    "collapsed": true
   },
   "outputs": [],
   "source": [
    "# Print the next 10 rows of Pascal's triangle\n",
    "rows = [ [1],\n",
    "         [1, 1],\n",
    "         [1, 2, 1],\n",
    "         [1, 3, 3, 1] ]\n",
    "\n",
    "\n"
   ]
  }
 ],
 "metadata": {
  "anaconda-cloud": {},
  "kernelspec": {
   "display_name": "Python [Root]",
   "language": "python",
   "name": "Python [Root]"
  },
  "language_info": {
   "codemirror_mode": {
    "name": "ipython",
    "version": 3
   },
   "file_extension": ".py",
   "mimetype": "text/x-python",
   "name": "python",
   "nbconvert_exporter": "python",
   "pygments_lexer": "ipython3",
   "version": "3.5.1"
  }
 },
 "nbformat": 4,
 "nbformat_minor": 0
}
