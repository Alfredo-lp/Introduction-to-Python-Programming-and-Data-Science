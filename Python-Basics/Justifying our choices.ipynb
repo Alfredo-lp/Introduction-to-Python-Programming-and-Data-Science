{
 "cells": [
  {
   "cell_type": "markdown",
   "metadata": {},
   "source": [
    "# So what is \"Big Data\" and data science anyways?\n",
    "\n",
    "There's been a lot written about Big Data and it can be hard to decipher. Some have tried to visualize its most common terms to give a sense of what is involved, like so:\n",
    "\n",
    "<img src='http://d13zeczpqm2715.cloudfront.net/wp-content/uploads/2015/05/big-data2.jpg'></img>\n",
    "\n",
    "Others have tried to break it down into its key components, many times this means re-iterating the V's of big data\n",
    "\n",
    "<img src='http://sci2s.ugr.es/sites/default/files/files/TematicWebSites/BigData/v3.png'></img>\n",
    "\n",
    "These V's are a constantly moving target though and it's hard to understand what they mean in application\n",
    "\n",
    "<img src='../images/vs_big_data.png'></img>\n",
    "\n",
    "Big data is really a state, one that we have all currently entered into whether we realize it or not.\n",
    "\n",
    "<img src='../images/data_volume.png'></img>\n",
    "\n",
    "That's why we need to equip ourselves with the programmatic skills to handle this influx of data.\n",
    "\n",
    "The threshold for when some dataset becomes **big** is not absolute. \n",
    "\n",
    "### Data is big whenever it outstrips your current capability handle it\n",
    "\n",
    "If you're a sociologist, big data happens when you want to analyze 1,000,000 survey responses instead of 1000. If you are a biologist, it happens when Excel crashes analyzing time course data from microfluidics. If you are an historian, it happens when you want to analyze 100 sources instead of 10.\n",
    "\n",
    "Our goal is to teach you how to handle a desired increased influx of data using programming."
   ]
  },
  {
   "cell_type": "markdown",
   "metadata": {},
   "source": [
    "### Data science goes hand in hand with big data\n",
    "\n",
    "Data science is really just a mixture of computer science, math and statistics, and domain knowledge. Some like to view it as a Venn diagram\n",
    "\n",
    "<img src='http://b-i.forbesimg.com/gilpress/files/2013/05/Data_Science_VD.png'></img>\n",
    "\n",
    "But that's a silly distinction just like our Big Data V's.\n",
    "\n",
    "### If big data is a state, then data science is just what we do in it\n",
    "\n",
    "The real change in big data isn't just the quantity of data, but the integration of data sources that have never been brought together before.\n",
    "\n",
    "Data science covers a range of specialized areas, but most importantly it relies on creativity, asking the right questions, and statistical analysis to show that your hypothesis is right.\n",
    "\n",
    "# So how will this bootcamp help me?\n",
    "\n",
    "Lately there's been some talk about how the type of researcher we need to be is changing.\n",
    "\n",
    "<img src='https://jakevdp.github.io/images/pi_shaped.png'></img>\n",
    "\n",
    "The classical research is called a *T-shaped* researcher. They have a broad, but shallow exposure to science and humanities from their undergraduate degree and then a deep specialization in their own domain.\n",
    "\n",
    "Now people are talking about the need for *Pi-shaped*, modern researchers. One who not only have a deep domain specialization, but also understand how to use statistics and computing in their research as the size of their question, and the data it needs, grows.\n",
    "\n",
    "\n",
    "The point of this bootcamp is to teach you basic skills in programming and data analysis. \n",
    "\n",
    "<img src='../images/pi_nub.png'></img>\n",
    "\n",
    "We're trying to grow a little nub off your *T* of expertise. The skills that you learn this week will form the **foundation** (not entirety) of your growing arm of computational and statistical expertise."
   ]
  },
  {
   "cell_type": "markdown",
   "metadata": {},
   "source": [
    "## Why Python, though?\n",
    "\n",
    "There are lots of programming languages, some more popular than others. In 2015, this is the breakdown of language popularity:\n",
    "\n",
    "<img src='../images/programming_languages.png'></img>\n",
    "\n",
    "Python is a great first language for four reasons:\n",
    "\n",
    "1. Python is dynamic, when you need a new value you can just create it\n",
    "2. Python is readable, code is more often read than written!\n",
    "3. Python has strong typing, this means that it won't add the number 2 and the word two together\n",
    "4. Python is an interpreted language, it doesn't need to be compiled\n",
    "\n",
    "These small things make a huge difference when you're just starting out!\n",
    "\n",
    "The first three make it easier and quicker for you to learn how the language works and the last one lets you experiment quickly!"
   ]
  }
 ],
 "metadata": {
  "kernelspec": {
   "display_name": "Python 3",
   "language": "python",
   "name": "python3"
  },
  "language_info": {
   "codemirror_mode": {
    "name": "ipython",
    "version": 3
   },
   "file_extension": ".py",
   "mimetype": "text/x-python",
   "name": "python",
   "nbconvert_exporter": "python",
   "pygments_lexer": "ipython3",
   "version": "3.4.3"
  }
 },
 "nbformat": 4,
 "nbformat_minor": 0
}
