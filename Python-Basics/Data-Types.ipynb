{
 "metadata": {
  "name": "",
  "signature": "sha256:ab6b0218308a3cc4fd5e471d62d54a0260b7a3009a4ea6fa9a39f28503ee4936"
 },
 "nbformat": 3,
 "nbformat_minor": 0,
 "worksheets": [
  {
   "cells": [
    {
     "cell_type": "markdown",
     "metadata": {},
     "source": [
      "#What's a variable?\n",
      "\n",
      "Let's start with going over one of the most basic concepts in programming, using a *variable*. You've heard this term used before in math class (remember $y = mx + b$?) and our usage here is more or less the same.\n",
      "\n",
      "A **variable** is a **symbolic name** that is associated with some **value**.\n",
      "\n",
      "This is the most basic part of programming, because we want to have some name that we can call and will return a value. We can do this simply, just like:"
     ]
    },
    {
     "cell_type": "code",
     "collapsed": false,
     "input": [
      "number = 2"
     ],
     "language": "python",
     "metadata": {},
     "outputs": [],
     "prompt_number": 2
    },
    {
     "cell_type": "markdown",
     "metadata": {},
     "source": [
      "Now we have create `number` as the **variable** and assigned `2` as its **value**. As a hint, the construction of\n",
      "\n",
      "*variable* = *value*\n",
      "\n",
      "will hold in most other programming languages too. Now at any time we can use our variable `number` again, or just look at its value. We can look at it's value by using the `print()` function in Python."
     ]
    },
    {
     "cell_type": "code",
     "collapsed": false,
     "input": [
      "print( number )"
     ],
     "language": "python",
     "metadata": {},
     "outputs": [
      {
       "output_type": "stream",
       "stream": "stdout",
       "text": [
        "2\n"
       ]
      }
     ],
     "prompt_number": 3
    },
    {
     "cell_type": "markdown",
     "metadata": {},
     "source": [
      "We can also use the variable in a mathematical expression too."
     ]
    },
    {
     "cell_type": "code",
     "collapsed": false,
     "input": [
      "number * 2"
     ],
     "language": "python",
     "metadata": {},
     "outputs": [
      {
       "metadata": {},
       "output_type": "pyout",
       "prompt_number": 5,
       "text": [
        "4"
       ]
      }
     ],
     "prompt_number": 5
    },
    {
     "cell_type": "markdown",
     "metadata": {},
     "source": [
      "An important thing to note though is that a variable can have its associated value **change**. So if we reassign `number` using our variable creation syntax above, we'll see that it's value changes."
     ]
    },
    {
     "cell_type": "code",
     "collapsed": false,
     "input": [
      "number = 5\n",
      "print(number)"
     ],
     "language": "python",
     "metadata": {},
     "outputs": [
      {
       "output_type": "stream",
       "stream": "stdout",
       "text": [
        "5\n"
       ]
      }
     ],
     "prompt_number": 6
    },
    {
     "cell_type": "markdown",
     "metadata": {},
     "source": [
      "An important part to remember about variables is that it's up to you to name them well. There are a number of different data types in Python, but there's no distinction on how you have to name them. So this means that it is up to you to give good, descriptive names to your variables.\n",
      "\n",
      "Why is that important?\n",
      "\n",
      "Well, the whole point of descriptive variable names is to improve readability and understanding of code by yourself and others. We typically think that we will remember everything that we do, but after a month or two of doing something else it's hard to remember any one piece of code. Good naming practices can make all the difference here. \n",
      "\n",
      "We can even go through a quick example."
     ]
    },
    {
     "cell_type": "code",
     "collapsed": false,
     "input": [
      "number = 'Helen'"
     ],
     "language": "python",
     "metadata": {},
     "outputs": [],
     "prompt_number": 7
    },
    {
     "cell_type": "markdown",
     "metadata": {},
     "source": [
      "Here I've gone and changed the variable `number` to stand for someone's name. Now that isn't great because when most people see the word `number` they expect that the variable would contain some kind of numeric value. This means that they might want to perform some math with the variable and they would then quickly experience this."
     ]
    },
    {
     "cell_type": "code",
     "collapsed": false,
     "input": [
      "number + 2"
     ],
     "language": "python",
     "metadata": {},
     "outputs": [
      {
       "ename": "TypeError",
       "evalue": "Can't convert 'int' object to str implicitly",
       "output_type": "pyerr",
       "traceback": [
        "\u001b[0;31m---------------------------------------------------------------------------\u001b[0m\n\u001b[0;31mTypeError\u001b[0m                                 Traceback (most recent call last)",
        "\u001b[0;32m<ipython-input-8-e96a55dd7add>\u001b[0m in \u001b[0;36m<module>\u001b[0;34m()\u001b[0m\n\u001b[0;32m----> 1\u001b[0;31m \u001b[0mnumber\u001b[0m \u001b[0;34m+\u001b[0m \u001b[0;36m2\u001b[0m\u001b[0;34m\u001b[0m\u001b[0m\n\u001b[0m",
        "\u001b[0;31mTypeError\u001b[0m: Can't convert 'int' object to str implicitly"
       ]
      }
     ],
     "prompt_number": 8
    },
    {
     "cell_type": "markdown",
     "metadata": {},
     "source": [
      "An error! \n",
      "\n",
      "I know that this is a pretty simplistic example, but just try to keep this point in my mind as we work through these tutorials. Now, onto the meat!"
     ]
    },
    {
     "cell_type": "markdown",
     "metadata": {},
     "source": [
      "#The basic data types\n",
      "\n",
      "Python has eight basic data types for you to use with variables. The first four that we will cover here all allow for a variable to be a single value. These four types are:\n",
      "\n",
      "* Integers\n",
      "* Floats\n",
      "* Strings\n",
      "* Booleans\n",
      "\n",
      "The other four we will cover in the next lesson. Those types allow a variable to hold multiple elements as a single value. These are great for keeping multiple related values together. These collection types are:\n",
      "\n",
      "* Tuples\n",
      "* Lists\n",
      "* Sets\n",
      "* Dictionaries\n",
      "\n",
      "Now, let's start with one of the most basic data types, the integer."
     ]
    },
    {
     "cell_type": "markdown",
     "metadata": {},
     "source": [
      "#Integers\n",
      "\n"
     ]
    },
    {
     "cell_type": "markdown",
     "metadata": {},
     "source": [
      "#Integers\n",
      "\n",
      "Integers are the discrete counting numbers that we've been using since you started counting on your fingers. Even without creating any variables we can still do basic arithmetic.\n",
      "\n",
      "All of the basic arithmetic operations are the same as if we were to write them out on paper."
     ]
    },
    {
     "cell_type": "code",
     "collapsed": false,
     "input": [
      "2 + 2"
     ],
     "language": "python",
     "metadata": {},
     "outputs": [
      {
       "metadata": {},
       "output_type": "pyout",
       "prompt_number": 6,
       "text": [
        "4"
       ]
      }
     ],
     "prompt_number": 6
    },
    {
     "cell_type": "code",
     "collapsed": false,
     "input": [
      "4 - 2"
     ],
     "language": "python",
     "metadata": {},
     "outputs": [
      {
       "metadata": {},
       "output_type": "pyout",
       "prompt_number": 7,
       "text": [
        "2"
       ]
      }
     ],
     "prompt_number": 7
    },
    {
     "cell_type": "code",
     "collapsed": false,
     "input": [
      "2 * 2"
     ],
     "language": "python",
     "metadata": {},
     "outputs": [
      {
       "metadata": {},
       "output_type": "pyout",
       "prompt_number": 8,
       "text": [
        "4"
       ]
      }
     ],
     "prompt_number": 8
    },
    {
     "cell_type": "markdown",
     "metadata": {},
     "source": [
      "We can also store the result of an operation into a variable. The variable will store the evaluated answer, not the arithmetic expression."
     ]
    },
    {
     "cell_type": "code",
     "collapsed": false,
     "input": [
      "first_result = 8 / 3\n",
      "first_result"
     ],
     "language": "python",
     "metadata": {},
     "outputs": [
      {
       "metadata": {},
       "output_type": "pyout",
       "prompt_number": 131,
       "text": [
        "2.6666666666666665"
       ]
      }
     ],
     "prompt_number": 131
    },
    {
     "cell_type": "markdown",
     "metadata": {},
     "source": [
      "We see that the division operator stores the answer that we are used to, which is $2.6\\bar{6}$. This behavior for the division operator is actually new in Python 3! Before in Python 2 when we would do the operation \n",
      "\n",
      "`first_result = 8 / 3`\n",
      "\n",
      "We would get the result:\n",
      "\n",
      "`print( first_result ) ==> 2`\n",
      "\n",
      "This was because it was thought that if we divide one integer by another integer, that the operation should return an integer in order to keep all the variable types the same. \n",
      "\n",
      "To access this form of truncating division (it's called truncating division, because it just truncates all the numbers after the decimal) we actually use `//` like this:"
     ]
    },
    {
     "cell_type": "code",
     "collapsed": false,
     "input": [
      "second_result = 8 // 3\n",
      "second_result"
     ],
     "language": "python",
     "metadata": {},
     "outputs": [
      {
       "metadata": {},
       "output_type": "pyout",
       "prompt_number": 134,
       "text": [
        "2"
       ]
      }
     ],
     "prompt_number": 134
    },
    {
     "cell_type": "markdown",
     "metadata": {},
     "source": [
      "What if we wanted to get the remainder, what symbol is that?"
     ]
    },
    {
     "cell_type": "code",
     "collapsed": false,
     "input": [
      "5 % 2"
     ],
     "language": "python",
     "metadata": {},
     "outputs": [
      {
       "metadata": {},
       "output_type": "pyout",
       "prompt_number": 135,
       "text": [
        "1"
       ]
      }
     ],
     "prompt_number": 135
    },
    {
     "cell_type": "markdown",
     "metadata": {},
     "source": [
      "and we see here that it even works with a decimal remainder."
     ]
    },
    {
     "cell_type": "code",
     "collapsed": false,
     "input": [
      "4.2 % 2"
     ],
     "language": "python",
     "metadata": {},
     "outputs": [
      {
       "metadata": {},
       "output_type": "pyout",
       "prompt_number": 137,
       "text": [
        "0.20000000000000018"
       ]
      }
     ],
     "prompt_number": 137
    },
    {
     "cell_type": "markdown",
     "metadata": {},
     "source": [
      "#Floats\n",
      "\n",
      "And that was a perfect introduction to a float, since all a float is a number with a decimal."
     ]
    },
    {
     "cell_type": "code",
     "collapsed": false,
     "input": [
      "new_float = 4.0\n",
      "print(new_float)"
     ],
     "language": "python",
     "metadata": {},
     "outputs": [
      {
       "output_type": "stream",
       "stream": "stdout",
       "text": [
        "4.0\n"
       ]
      }
     ],
     "prompt_number": 138
    },
    {
     "cell_type": "markdown",
     "metadata": {},
     "source": [
      "Wait, so what if I want to change an integer to a float or vice versa???\n",
      "\n",
      "All we have to do is cast the number using the data type name that we want to transform it to. We can see that below."
     ]
    },
    {
     "cell_type": "code",
     "collapsed": false,
     "input": [
      "int(4.8)"
     ],
     "language": "python",
     "metadata": {},
     "outputs": [
      {
       "metadata": {},
       "output_type": "pyout",
       "prompt_number": 139,
       "text": [
        "4"
       ]
      }
     ],
     "prompt_number": 139
    },
    {
     "cell_type": "code",
     "collapsed": false,
     "input": [
      "float(2)"
     ],
     "language": "python",
     "metadata": {},
     "outputs": [
      {
       "metadata": {},
       "output_type": "pyout",
       "prompt_number": 140,
       "text": [
        "2.0"
       ]
      }
     ],
     "prompt_number": 140
    },
    {
     "cell_type": "markdown",
     "metadata": {},
     "source": [
      "If you're ever confused or interested about what the type of a variable is you can always just check it with `type`"
     ]
    },
    {
     "cell_type": "code",
     "collapsed": false,
     "input": [
      "type(new_float)"
     ],
     "language": "python",
     "metadata": {},
     "outputs": [
      {
       "metadata": {},
       "output_type": "pyout",
       "prompt_number": 164,
       "text": [
        "float"
       ]
      }
     ],
     "prompt_number": 164
    },
    {
     "cell_type": "code",
     "collapsed": false,
     "input": [
      "type(2)"
     ],
     "language": "python",
     "metadata": {},
     "outputs": [
      {
       "metadata": {},
       "output_type": "pyout",
       "prompt_number": 165,
       "text": [
        "int"
       ]
      }
     ],
     "prompt_number": 165
    },
    {
     "cell_type": "markdown",
     "metadata": {},
     "source": [
      "Now something that you should notice here is that `float` and `int` are colored green (as is `print` and `type`). That's because these are words in Python that are defined already by the language. However, Python will let you overwrite them but it really is best not to ever do that! But you can see that if you ever accidentally do it, like so"
     ]
    },
    {
     "cell_type": "code",
     "collapsed": false,
     "input": [
      "int = 4\n",
      "print(\"What have we don to int \", int)\n",
      "int(5.0)"
     ],
     "language": "python",
     "metadata": {},
     "outputs": [
      {
       "output_type": "stream",
       "stream": "stdout",
       "text": [
        "What have we don to int  4\n"
       ]
      },
      {
       "ename": "TypeError",
       "evalue": "'int' object is not callable",
       "output_type": "pyerr",
       "traceback": [
        "\u001b[0;31m---------------------------------------------------------------------------\u001b[0m\n\u001b[0;31mTypeError\u001b[0m                                 Traceback (most recent call last)",
        "\u001b[0;32m<ipython-input-142-3be9f679579b>\u001b[0m in \u001b[0;36m<module>\u001b[0;34m()\u001b[0m\n\u001b[1;32m      1\u001b[0m \u001b[0mint\u001b[0m \u001b[0;34m=\u001b[0m \u001b[0;36m4\u001b[0m\u001b[0;34m\u001b[0m\u001b[0m\n\u001b[1;32m      2\u001b[0m \u001b[0mprint\u001b[0m\u001b[0;34m(\u001b[0m\u001b[0;34m\"What have we don to int \"\u001b[0m\u001b[0;34m,\u001b[0m \u001b[0mint\u001b[0m\u001b[0;34m)\u001b[0m\u001b[0;34m\u001b[0m\u001b[0m\n\u001b[0;32m----> 3\u001b[0;31m \u001b[0mint\u001b[0m\u001b[0;34m(\u001b[0m\u001b[0;36m5.0\u001b[0m\u001b[0;34m)\u001b[0m\u001b[0;34m\u001b[0m\u001b[0m\n\u001b[0m",
        "\u001b[0;31mTypeError\u001b[0m: 'int' object is not callable"
       ]
      }
     ],
     "prompt_number": 142
    },
    {
     "cell_type": "markdown",
     "metadata": {},
     "source": [
      "We'll lose the behavior of the function. However, we can get it back if we just delete the assignment that we made."
     ]
    },
    {
     "cell_type": "code",
     "collapsed": false,
     "input": [
      "del int\n",
      "int(5.0)"
     ],
     "language": "python",
     "metadata": {},
     "outputs": [
      {
       "metadata": {},
       "output_type": "pyout",
       "prompt_number": 143,
       "text": [
        "5"
       ]
      }
     ],
     "prompt_number": 143
    },
    {
     "cell_type": "markdown",
     "metadata": {},
     "source": [
      "Moving forward with arithmetic, we can make entire mathematical expressions. Just like when we first learned algebra, Python respects the order of operations when it evaluates expressions (PEMDAS - Parentheses, Exponents, Multiplication, Division, Addition, Subtraction).\n",
      "\n",
      "If we want to use an exponent we just use the `**` symbol"
     ]
    },
    {
     "cell_type": "code",
     "collapsed": false,
     "input": [
      "2 ** 3"
     ],
     "language": "python",
     "metadata": {},
     "outputs": [
      {
       "metadata": {},
       "output_type": "pyout",
       "prompt_number": 159,
       "text": [
        "8"
       ]
      }
     ],
     "prompt_number": 159
    },
    {
     "cell_type": "code",
     "collapsed": false,
     "input": [
      "eqn1 = 2 * 3 - 2\n",
      "print( eqn1 )"
     ],
     "language": "python",
     "metadata": {},
     "outputs": [
      {
       "output_type": "stream",
       "stream": "stdout",
       "text": [
        "4\n"
       ]
      }
     ],
     "prompt_number": 160
    },
    {
     "cell_type": "code",
     "collapsed": false,
     "input": [
      "eqn2 = -2 + 2 * 3\n",
      "print( eqn2 )"
     ],
     "language": "python",
     "metadata": {},
     "outputs": [
      {
       "output_type": "stream",
       "stream": "stdout",
       "text": [
        "4\n"
       ]
      }
     ],
     "prompt_number": 161
    },
    {
     "cell_type": "code",
     "collapsed": false,
     "input": [
      "eqn3 = -2 + (2 % 3)\n",
      "print( eqn3 )"
     ],
     "language": "python",
     "metadata": {},
     "outputs": [
      {
       "output_type": "stream",
       "stream": "stdout",
       "text": [
        "0\n"
       ]
      }
     ],
     "prompt_number": 162
    },
    {
     "cell_type": "code",
     "collapsed": false,
     "input": [
      "eqn4 = (.3 + 5) // 2\n",
      "print(eqn4)"
     ],
     "language": "python",
     "metadata": {},
     "outputs": [
      {
       "output_type": "stream",
       "stream": "stdout",
       "text": [
        "2.0\n"
       ]
      }
     ],
     "prompt_number": 163
    },
    {
     "cell_type": "markdown",
     "metadata": {},
     "source": [
      "Let's try some equivalencies. These are the ones that we can use"
     ]
    },
    {
     "cell_type": "raw",
     "metadata": {},
     "source": [
      "==\n",
      "!=\n",
      "<=\n",
      ">=\n",
      "<\n",
      ">"
     ]
    },
    {
     "cell_type": "markdown",
     "metadata": {},
     "source": [
      "The $==$ let's us check if one side of the operator is equal to the other side."
     ]
    },
    {
     "cell_type": "code",
     "collapsed": false,
     "input": [
      "4 == 4"
     ],
     "language": "python",
     "metadata": {},
     "outputs": [
      {
       "metadata": {},
       "output_type": "pyout",
       "prompt_number": 144,
       "text": [
        "True"
       ]
      }
     ],
     "prompt_number": 144
    },
    {
     "cell_type": "code",
     "collapsed": false,
     "input": [
      "4 == 5"
     ],
     "language": "python",
     "metadata": {},
     "outputs": [
      {
       "metadata": {},
       "output_type": "pyout",
       "prompt_number": 146,
       "text": [
        "False"
       ]
      }
     ],
     "prompt_number": 146
    },
    {
     "cell_type": "markdown",
     "metadata": {},
     "source": [
      "We see here that Python evaluates the expression and if it is correct it tells us that it is `True` or if it is incorrect it tells us that it is `False`.\n",
      "\n",
      "The $!=$ operator let's us see if one side does not equal the other side"
     ]
    },
    {
     "cell_type": "code",
     "collapsed": false,
     "input": [
      "4 != 2"
     ],
     "language": "python",
     "metadata": {},
     "outputs": [
      {
       "metadata": {},
       "output_type": "pyout",
       "prompt_number": 145,
       "text": [
        "True"
       ]
      }
     ],
     "prompt_number": 145
    },
    {
     "cell_type": "code",
     "collapsed": false,
     "input": [
      "4 != 4"
     ],
     "language": "python",
     "metadata": {},
     "outputs": [
      {
       "metadata": {},
       "output_type": "pyout",
       "prompt_number": 147,
       "text": [
        "False"
       ]
      }
     ],
     "prompt_number": 147
    },
    {
     "cell_type": "markdown",
     "metadata": {},
     "source": [
      "And then the greater than, less than, greater than or equal to, or less than or equal to operators all work as we would expect."
     ]
    },
    {
     "cell_type": "code",
     "collapsed": false,
     "input": [
      "4 > 2"
     ],
     "language": "python",
     "metadata": {},
     "outputs": [
      {
       "metadata": {},
       "output_type": "pyout",
       "prompt_number": 148,
       "text": [
        "True"
       ]
      }
     ],
     "prompt_number": 148
    },
    {
     "cell_type": "code",
     "collapsed": false,
     "input": [
      "4 > 4"
     ],
     "language": "python",
     "metadata": {},
     "outputs": [
      {
       "metadata": {},
       "output_type": "pyout",
       "prompt_number": 149,
       "text": [
        "False"
       ]
      }
     ],
     "prompt_number": 149
    },
    {
     "cell_type": "code",
     "collapsed": false,
     "input": [
      "4 >= 4"
     ],
     "language": "python",
     "metadata": {},
     "outputs": [
      {
       "metadata": {},
       "output_type": "pyout",
       "prompt_number": 150,
       "text": [
        "True"
       ]
      }
     ],
     "prompt_number": 150
    },
    {
     "cell_type": "markdown",
     "metadata": {},
     "source": [
      "# Booleans\n",
      "\n",
      "Testing equivalencies is a perfect introduction to our next variable type, the Boolean. In its most basic form, a Boolean is just `True` or `False`.\n",
      "\n",
      "With just these two variables we can implement basic logic and check for truth in a programming language. Let's say that I have just one puppy at home and his name is Frankenstein. So I will say that the variable puppy is True."
     ]
    },
    {
     "cell_type": "code",
     "collapsed": false,
     "input": [
      "puppy = True"
     ],
     "language": "python",
     "metadata": {},
     "outputs": [],
     "prompt_number": 1
    },
    {
     "cell_type": "code",
     "collapsed": false,
     "input": [
      "print(puppy)"
     ],
     "language": "python",
     "metadata": {},
     "outputs": [
      {
       "output_type": "stream",
       "stream": "stdout",
       "text": [
        "True\n"
       ]
      }
     ],
     "prompt_number": 2
    },
    {
     "cell_type": "code",
     "collapsed": false,
     "input": [
      "type(puppy)"
     ],
     "language": "python",
     "metadata": {},
     "outputs": [
      {
       "metadata": {},
       "output_type": "pyout",
       "prompt_number": 3,
       "text": [
        "bool"
       ]
      }
     ],
     "prompt_number": 3
    },
    {
     "cell_type": "markdown",
     "metadata": {},
     "source": [
      "Here we can see that when we print `puppy` it says `True` and that the type is `bool`. \n",
      "\n",
      "Since I only have one puppy, I'm going to say that `puppies` is `False`."
     ]
    },
    {
     "cell_type": "code",
     "collapsed": false,
     "input": [
      "puppies = False"
     ],
     "language": "python",
     "metadata": {},
     "outputs": [],
     "prompt_number": 6
    },
    {
     "cell_type": "markdown",
     "metadata": {},
     "source": [
      "In Python we could have just created both of those variables at the same time. I'll show that below, but the important thing is that the number of variables on the left-hand side should be equal to the number of variables on the right-hand side."
     ]
    },
    {
     "cell_type": "code",
     "collapsed": false,
     "input": [
      "puppy, puppies = True, False"
     ],
     "language": "python",
     "metadata": {},
     "outputs": []
    },
    {
     "cell_type": "markdown",
     "metadata": {},
     "source": [
      "and we'll see here that each of those variables has its own value."
     ]
    },
    {
     "cell_type": "code",
     "collapsed": false,
     "input": [
      "print(\"Do I have a puppy?\", puppy)\n",
      "print(\"Do I have puppies?\", puppies)"
     ],
     "language": "python",
     "metadata": {},
     "outputs": [
      {
       "output_type": "stream",
       "stream": "stdout",
       "text": [
        "Do I have a puppy? True\n",
        "Do I have puppies? False\n"
       ]
      }
     ],
     "prompt_number": 7
    },
    {
     "cell_type": "markdown",
     "metadata": {},
     "source": [
      "To implement logic we have three basic operations: `and`, `not`, and `or`.\n",
      "\n",
      "These can be used to create the most basic statements and here are how they work.\n",
      "\n",
      "If I use the `and` operator, then Python both sides of the `and` expression need to be True for the expression to be true."
     ]
    },
    {
     "cell_type": "code",
     "collapsed": false,
     "input": [
      "True and True"
     ],
     "language": "python",
     "metadata": {},
     "outputs": [
      {
       "metadata": {},
       "output_type": "pyout",
       "prompt_number": 8,
       "text": [
        "True"
       ]
      }
     ],
     "prompt_number": 8
    },
    {
     "cell_type": "markdown",
     "metadata": {},
     "source": [
      "If one side of the expression is `False`, then the whole expression will be `False`"
     ]
    },
    {
     "cell_type": "code",
     "collapsed": false,
     "input": [
      "True and False"
     ],
     "language": "python",
     "metadata": {},
     "outputs": [
      {
       "metadata": {},
       "output_type": "pyout",
       "prompt_number": 9,
       "text": [
        "False"
       ]
      }
     ],
     "prompt_number": 9
    },
    {
     "cell_type": "markdown",
     "metadata": {},
     "source": [
      "and as you would expect we can perform these expressions with variables (remember that I only have one puppy)."
     ]
    },
    {
     "cell_type": "code",
     "collapsed": false,
     "input": [
      "puppy and puppies"
     ],
     "language": "python",
     "metadata": {},
     "outputs": [
      {
       "metadata": {},
       "output_type": "pyout",
       "prompt_number": 11,
       "text": [
        "False"
       ]
      }
     ],
     "prompt_number": 11
    },
    {
     "cell_type": "markdown",
     "metadata": {},
     "source": [
      "The `not` operator expects that the following value should be `False` for the expression to be true. If the following value is `True` or exists then it will say that the expression is `False`"
     ]
    },
    {
     "cell_type": "code",
     "collapsed": false,
     "input": [
      "not puppies"
     ],
     "language": "python",
     "metadata": {},
     "outputs": [
      {
       "metadata": {},
       "output_type": "pyout",
       "prompt_number": 12,
       "text": [
        "True"
       ]
      }
     ],
     "prompt_number": 12
    },
    {
     "cell_type": "code",
     "collapsed": false,
     "input": [
      "not puppy"
     ],
     "language": "python",
     "metadata": {},
     "outputs": [
      {
       "metadata": {},
       "output_type": "pyout",
       "prompt_number": 13,
       "text": [
        "False"
       ]
      }
     ],
     "prompt_number": 13
    },
    {
     "cell_type": "markdown",
     "metadata": {},
     "source": [
      "and we can combine that with the `and` operator to make our entire previous statement about my pets `True`"
     ]
    },
    {
     "cell_type": "code",
     "collapsed": false,
     "input": [
      "puppy and not puppies"
     ],
     "language": "python",
     "metadata": {},
     "outputs": [
      {
       "metadata": {},
       "output_type": "pyout",
       "prompt_number": 14,
       "text": [
        "True"
       ]
      }
     ],
     "prompt_number": 14
    },
    {
     "cell_type": "markdown",
     "metadata": {},
     "source": [
      "Finally, the `or` operator just requires that **at least one** side of the expression is `True` for the expression to be `True`"
     ]
    },
    {
     "cell_type": "code",
     "collapsed": false,
     "input": [
      "puppy or puppies"
     ],
     "language": "python",
     "metadata": {},
     "outputs": [
      {
       "metadata": {},
       "output_type": "pyout",
       "prompt_number": 15,
       "text": [
        "True"
       ]
      }
     ],
     "prompt_number": 15
    },
    {
     "cell_type": "markdown",
     "metadata": {},
     "source": [
      "But we still need at least one side to be `True`"
     ]
    },
    {
     "cell_type": "code",
     "collapsed": false,
     "input": [
      "False or False"
     ],
     "language": "python",
     "metadata": {},
     "outputs": [
      {
       "metadata": {},
       "output_type": "pyout",
       "prompt_number": 16,
       "text": [
        "False"
       ]
      }
     ],
     "prompt_number": 16
    },
    {
     "cell_type": "markdown",
     "metadata": {},
     "source": [
      "# Strings\n",
      "\n",
      "Finally, we have our last basic data type: Strings. Text is something that is intuitive to us as humans but dealing with it programmatically can become complicated (especially when there is a lot of it and we don't know it's structure to begin with!).\n",
      "\n",
      "To start off easily let's just make some variables."
     ]
    },
    {
     "cell_type": "code",
     "collapsed": false,
     "input": [
      "hello = 'hello'\n",
      "\n",
      "print( hello )"
     ],
     "language": "python",
     "metadata": {},
     "outputs": [
      {
       "output_type": "stream",
       "stream": "stdout",
       "text": [
        "hello\n"
       ]
      }
     ],
     "prompt_number": 18
    },
    {
     "cell_type": "markdown",
     "metadata": {},
     "source": [
      "Now, it's important to remember that the variable name does not need to be the same as its value."
     ]
    },
    {
     "cell_type": "code",
     "collapsed": false,
     "input": [
      "falafel = 'gyro'\n",
      "\n",
      "print( falafel )"
     ],
     "language": "python",
     "metadata": {},
     "outputs": [
      {
       "output_type": "stream",
       "stream": "stdout",
       "text": [
        "gyro\n"
       ]
      }
     ],
     "prompt_number": 19
    },
    {
     "cell_type": "markdown",
     "metadata": {},
     "source": [
      "We can even use basic math operators to add strings together and make a longer string"
     ]
    },
    {
     "cell_type": "code",
     "collapsed": false,
     "input": [
      "print(\"gyros\" + \" and \" + \"falafel\")"
     ],
     "language": "python",
     "metadata": {},
     "outputs": [
      {
       "output_type": "stream",
       "stream": "stdout",
       "text": [
        "gyros and falafel\n"
       ]
      }
     ],
     "prompt_number": 20
    },
    {
     "cell_type": "markdown",
     "metadata": {},
     "source": [
      "We can even just multiply a string to make it longer. Can you say `gyros` seven times fast?"
     ]
    },
    {
     "cell_type": "code",
     "collapsed": false,
     "input": [
      "\"gyros\" * 7"
     ],
     "language": "python",
     "metadata": {},
     "outputs": [
      {
       "metadata": {},
       "output_type": "pyout",
       "prompt_number": 21,
       "text": [
        "'gyrosgyrosgyrosgyrosgyrosgyrosgyros'"
       ]
      }
     ],
     "prompt_number": 21
    },
    {
     "cell_type": "markdown",
     "metadata": {},
     "source": [
      "Because Python can!\n",
      "\n",
      "However, we can only use mathematical operations that make sense and are clear what should occur (that means additive operators). We can't divide or subtract though."
     ]
    },
    {
     "cell_type": "code",
     "collapsed": false,
     "input": [
      "\"gyros\"/\"falafel\""
     ],
     "language": "python",
     "metadata": {},
     "outputs": [
      {
       "ename": "TypeError",
       "evalue": "unsupported operand type(s) for /: 'str' and 'str'",
       "output_type": "pyerr",
       "traceback": [
        "\u001b[0;31m---------------------------------------------------------------------------\u001b[0m\n\u001b[0;31mTypeError\u001b[0m                                 Traceback (most recent call last)",
        "\u001b[0;32m<ipython-input-22-ec2273e01fb3>\u001b[0m in \u001b[0;36m<module>\u001b[0;34m()\u001b[0m\n\u001b[0;32m----> 1\u001b[0;31m \u001b[0;34m\"gyros\"\u001b[0m\u001b[0;34m/\u001b[0m\u001b[0;34m\"falafel\"\u001b[0m\u001b[0;34m\u001b[0m\u001b[0m\n\u001b[0m",
        "\u001b[0;31mTypeError\u001b[0m: unsupported operand type(s) for /: 'str' and 'str'"
       ]
      }
     ],
     "prompt_number": 22
    },
    {
     "cell_type": "code",
     "collapsed": false,
     "input": [
      "\"gyros\" - \"falafel\""
     ],
     "language": "python",
     "metadata": {},
     "outputs": [
      {
       "ename": "TypeError",
       "evalue": "unsupported operand type(s) for -: 'str' and 'str'",
       "output_type": "pyerr",
       "traceback": [
        "\u001b[0;31m---------------------------------------------------------------------------\u001b[0m\n\u001b[0;31mTypeError\u001b[0m                                 Traceback (most recent call last)",
        "\u001b[0;32m<ipython-input-23-df4656ac4e0f>\u001b[0m in \u001b[0;36m<module>\u001b[0;34m()\u001b[0m\n\u001b[0;32m----> 1\u001b[0;31m \u001b[0;34m\"gyros\"\u001b[0m \u001b[0;34m-\u001b[0m \u001b[0;34m\"falafel\"\u001b[0m\u001b[0;34m\u001b[0m\u001b[0m\n\u001b[0m",
        "\u001b[0;31mTypeError\u001b[0m: unsupported operand type(s) for -: 'str' and 'str'"
       ]
      }
     ],
     "prompt_number": 23
    },
    {
     "cell_type": "markdown",
     "metadata": {},
     "source": [
      "Now we can see more easily that we can add strings and variables that have string values together to create a longer string and set that longer string to a variable."
     ]
    },
    {
     "cell_type": "code",
     "collapsed": false,
     "input": [
      "order = hello + ', I would like a ' + falafel\n",
      "\n",
      "print(order)"
     ],
     "language": "python",
     "metadata": {},
     "outputs": [
      {
       "output_type": "stream",
       "stream": "stdout",
       "text": [
        "hello, I would like a gyro\n"
       ]
      }
     ],
     "prompt_number": 24
    },
    {
     "cell_type": "markdown",
     "metadata": {},
     "source": [
      "Hmmm, well it is correct as a sentence but we forgot to capitalize `hello`! This gets to back to the part of it is a lot easier for us to see and recognize strings after a lifetime of seeing them than it is to tell the computer sometimes. Fortunately, string variables have some built-in methods that we use on the variables to help with these situations."
     ]
    },
    {
     "cell_type": "code",
     "collapsed": false,
     "input": [
      "order.capitalize()"
     ],
     "language": "python",
     "metadata": {},
     "outputs": [
      {
       "metadata": {},
       "output_type": "pyout",
       "prompt_number": 25,
       "text": [
        "'Hello, i would like a gyro'"
       ]
      }
     ],
     "prompt_number": 25
    },
    {
     "cell_type": "markdown",
     "metadata": {},
     "source": [
      "BAM! We can just use the capitalize() method on the order variable and we will get the capitalized `hello`. An important thing to note is that while it is printing the string with `Hello`, it didn't actually change the order variable."
     ]
    },
    {
     "cell_type": "code",
     "collapsed": false,
     "input": [
      "order"
     ],
     "language": "python",
     "metadata": {},
     "outputs": [
      {
       "metadata": {},
       "output_type": "pyout",
       "prompt_number": 26,
       "text": [
        "'hello, I would like a gyro'"
       ]
      }
     ],
     "prompt_number": 26
    },
    {
     "cell_type": "markdown",
     "metadata": {},
     "source": [
      "If we wanted to change the original `order` variable to the capitalized version, we would need to set `order` equal to order when we use the `capitalize()` function."
     ]
    },
    {
     "cell_type": "code",
     "collapsed": false,
     "input": [
      "order = order.capitalize()\n",
      "\n",
      "order"
     ],
     "language": "python",
     "metadata": {},
     "outputs": [
      {
       "metadata": {},
       "output_type": "pyout",
       "prompt_number": 27,
       "text": [
        "'Hello, i would like a gyro'"
       ]
      }
     ],
     "prompt_number": 27
    },
    {
     "cell_type": "markdown",
     "metadata": {},
     "source": [
      "There are three other functions that perform actions like `capitalize()`, and those are:\n",
      "\n",
      "* `lower()`, makes the entire string lowercase\n",
      "* `upper()`, makes the entire string uppercase\n",
      "* `title()`, capitalizes every word in a string"
     ]
    },
    {
     "cell_type": "code",
     "collapsed": false,
     "input": [
      "order.title()"
     ],
     "language": "python",
     "metadata": {},
     "outputs": [
      {
       "metadata": {},
       "output_type": "pyout",
       "prompt_number": 28,
       "text": [
        "'Hello, I Would Like A Gyro'"
       ]
      }
     ],
     "prompt_number": 28
    },
    {
     "cell_type": "markdown",
     "metadata": {},
     "source": [
      "But you'll notice that I screwed up a little bit by setting `order` to its capitalized version of itself (the grammar nazis reading along have probably been going crazy all this time!). When we capitalized the string, we lost the capitalized `i` which is necessary since it's the pronoun! Python is pretty smart, but it also does exactly what we told it to do and the `capitalize()` function only capitalizes the first letter in a string.\n",
      "\n",
      "The simplest thing to do would be to go back and recreate the order variable."
     ]
    },
    {
     "cell_type": "code",
     "collapsed": false,
     "input": [
      "order = hello.capitalize() + ', I would like a ' + falafel\n",
      "\n",
      "order"
     ],
     "language": "python",
     "metadata": {},
     "outputs": [
      {
       "metadata": {},
       "output_type": "pyout",
       "prompt_number": 30,
       "text": [
        "'Hello, I would like a gyro'"
       ]
      }
     ],
     "prompt_number": 30
    },
    {
     "cell_type": "markdown",
     "metadata": {},
     "source": [
      "We could do this programmatically though by using some the other built-in functions.\n",
      "\n",
      "One way would be to `strip` away the `Hello,` at the start. Python has `strip` which strips away characters from the right side and `lstrip` which strips away characters starting from the left."
     ]
    },
    {
     "cell_type": "code",
     "collapsed": false,
     "input": [
      "order.lstrip('Helo,')"
     ],
     "language": "python",
     "metadata": {},
     "outputs": [
      {
       "metadata": {},
       "output_type": "pyout",
       "prompt_number": 31,
       "text": [
        "' I would like a gyro'"
       ]
      }
     ],
     "prompt_number": 31
    },
    {
     "cell_type": "markdown",
     "metadata": {},
     "source": [
      "Notice that I didn't need to put in `l` twice, that's because I just put in all of the individual characters I want stripped and Python goes and removes **any and all** instances of those characters until it encounters a character that I did not tell it to strip. We can test that by adding an `I` the next character that we see, but not a space which comes before it."
     ]
    },
    {
     "cell_type": "code",
     "collapsed": true,
     "input": [
      "order.lstrip('Helo,I')"
     ],
     "language": "python",
     "metadata": {},
     "outputs": [
      {
       "metadata": {},
       "output_type": "pyout",
       "prompt_number": 32,
       "text": [
        "' I would like a gyro'"
       ]
      }
     ],
     "prompt_number": 32
    },
    {
     "cell_type": "markdown",
     "metadata": {},
     "source": [
      "Same result! This is a handy way of thinking, we just want to strip away the parts we don't want until we get to what we do want.\n",
      "\n",
      "We can also check the contents of a string using built-in methods. For example, we can make sure that all of the characters are alphabetical."
     ]
    },
    {
     "cell_type": "code",
     "collapsed": false,
     "input": [
      "hello.isalpha()"
     ],
     "language": "python",
     "metadata": {},
     "outputs": [
      {
       "metadata": {},
       "output_type": "pyout",
       "prompt_number": 34,
       "text": [
        "True"
       ]
      }
     ],
     "prompt_number": 34
    },
    {
     "cell_type": "markdown",
     "metadata": {},
     "source": [
      "This is handy because we can have numbers that are a string"
     ]
    },
    {
     "cell_type": "code",
     "collapsed": false,
     "input": [
      "'4'.isnumeric()"
     ],
     "language": "python",
     "metadata": {},
     "outputs": [
      {
       "metadata": {},
       "output_type": "pyout",
       "prompt_number": 36,
       "text": [
        "True"
       ]
      }
     ],
     "prompt_number": 36
    },
    {
     "cell_type": "markdown",
     "metadata": {},
     "source": [
      "This is a way to test the contents of the string without knowing what's inside it. This is important because sometimes we will read in text that has numbers, but we'll want those numbers to become an integer or float so we can mathematically manipulate them.\n",
      "\n",
      "We can convert a string of numbers into an integer just by casting it with the `int()` function."
     ]
    },
    {
     "cell_type": "code",
     "collapsed": false,
     "input": [
      "real_number = int('4')\n",
      "\n",
      "print( real_number )\n",
      "print( type(real_number) )"
     ],
     "language": "python",
     "metadata": {},
     "outputs": [
      {
       "output_type": "stream",
       "stream": "stdout",
       "text": [
        "4\n",
        "<class 'int'>\n"
       ]
      }
     ],
     "prompt_number": 37
    },
    {
     "cell_type": "markdown",
     "metadata": {},
     "source": [
      "We can do the same thing for floats also."
     ]
    },
    {
     "cell_type": "code",
     "collapsed": false,
     "input": [
      "float('4.2') * 2"
     ],
     "language": "python",
     "metadata": {},
     "outputs": [
      {
       "metadata": {},
       "output_type": "pyout",
       "prompt_number": 38,
       "text": [
        "8.4"
       ]
      }
     ],
     "prompt_number": 38
    },
    {
     "cell_type": "markdown",
     "metadata": {},
     "source": [
      "However, we cannot do that with anything that has alphabetical characters."
     ]
    },
    {
     "cell_type": "code",
     "collapsed": false,
     "input": [
      "float('I would like 4.5 gyros')"
     ],
     "language": "python",
     "metadata": {},
     "outputs": [
      {
       "ename": "ValueError",
       "evalue": "could not convert string to float: 'I would like 4.5 gyros'",
       "output_type": "pyerr",
       "traceback": [
        "\u001b[0;31m---------------------------------------------------------------------------\u001b[0m\n\u001b[0;31mValueError\u001b[0m                                Traceback (most recent call last)",
        "\u001b[0;32m<ipython-input-39-b7a074fdfbca>\u001b[0m in \u001b[0;36m<module>\u001b[0;34m()\u001b[0m\n\u001b[0;32m----> 1\u001b[0;31m \u001b[0mfloat\u001b[0m\u001b[0;34m(\u001b[0m\u001b[0;34m'I would like 4.5 gyros'\u001b[0m\u001b[0;34m)\u001b[0m\u001b[0;34m\u001b[0m\u001b[0m\n\u001b[0m",
        "\u001b[0;31mValueError\u001b[0m: could not convert string to float: 'I would like 4.5 gyros'"
       ]
      }
     ],
     "prompt_number": 39
    },
    {
     "cell_type": "markdown",
     "metadata": {},
     "source": [
      "#The more complicated parts of Strings\n",
      "\n",
      "We already saw that we can strip out a part of a string and that we can add them together. There is a bit of an additional part to strings though, which is that we can access any individual character of a larger string. This is the part of strings that breaks the whole single element notion, strings can be cut up and individual parts can be accessed.\n",
      "\n",
      "This is something that is unique to strings, because if we have a number we can't access a single part of it and have it be the same value. We know intuitively that `40` is not the same as just `4` so we always need the entire value.\n",
      "\n",
      "When we access just a single element of the string, that is called **indexing**. To index a single element we just add `[ ]` after the variable name and tell it the numeric index of the element we want to access."
     ]
    },
    {
     "cell_type": "code",
     "collapsed": false,
     "input": [
      "falafel"
     ],
     "language": "python",
     "metadata": {},
     "outputs": [
      {
       "metadata": {},
       "output_type": "pyout",
       "prompt_number": 42,
       "text": [
        "'gyro'"
       ]
      }
     ],
     "prompt_number": 42
    },
    {
     "cell_type": "code",
     "collapsed": false,
     "input": [
      "falafel[1]"
     ],
     "language": "python",
     "metadata": {},
     "outputs": [
      {
       "metadata": {},
       "output_type": "pyout",
       "prompt_number": 41,
       "text": [
        "'y'"
       ]
      }
     ],
     "prompt_number": 41
    },
    {
     "cell_type": "markdown",
     "metadata": {},
     "source": [
      "Huh? I said that I wanted the first element but Python returned `y` which is the second character in the `falafel` variable. \n",
      "\n",
      "Why is that???\n",
      "\n",
      "In Python, like in most other programming languages, all sequences are actually **zero-indexed**. That means that the numerical index for the first element is actually `0`"
     ]
    },
    {
     "cell_type": "code",
     "collapsed": false,
     "input": [
      "falafel[0]"
     ],
     "language": "python",
     "metadata": {},
     "outputs": [
      {
       "metadata": {},
       "output_type": "pyout",
       "prompt_number": 44,
       "text": [
        "'g'"
       ]
      }
     ],
     "prompt_number": 44
    },
    {
     "cell_type": "markdown",
     "metadata": {},
     "source": [
      "However, the counting after that position is normal. So if want the letter `r` that is the **third** letter in the word `gyro`, then the index will be **`2`**"
     ]
    },
    {
     "cell_type": "code",
     "collapsed": false,
     "input": [
      "falafel[2]"
     ],
     "language": "python",
     "metadata": {},
     "outputs": [
      {
       "metadata": {},
       "output_type": "pyout",
       "prompt_number": 45,
       "text": [
        "'r'"
       ]
      }
     ],
     "prompt_number": 45
    },
    {
     "cell_type": "markdown",
     "metadata": {},
     "source": [
      "We can also access elements starting from the end of the string too, we just need to use a negative number. To get the very last letter we use the index **`-1`**. The end starts from `-1` because `0` always means the first entry and there is no such thing as `-0`"
     ]
    },
    {
     "cell_type": "code",
     "collapsed": false,
     "input": [
      "falafel[-1]"
     ],
     "language": "python",
     "metadata": {},
     "outputs": [
      {
       "metadata": {},
       "output_type": "pyout",
       "prompt_number": 46,
       "text": [
        "'o'"
       ]
      }
     ],
     "prompt_number": 46
    },
    {
     "cell_type": "markdown",
     "metadata": {},
     "source": [
      "From the end, the counting works just the same as from the start"
     ]
    },
    {
     "cell_type": "code",
     "collapsed": false,
     "input": [
      "falafel[-2]"
     ],
     "language": "python",
     "metadata": {},
     "outputs": [
      {
       "metadata": {},
       "output_type": "pyout",
       "prompt_number": 48,
       "text": [
        "'r'"
       ]
      }
     ],
     "prompt_number": 48
    },
    {
     "cell_type": "markdown",
     "metadata": {},
     "source": [
      "As you can see here, there is always more than one way to skin a cat with programming. No one way to solve the problem is more *correct* than any other way, it just comes down to what makes sense for your problem, your code, and the way that you think about it.\n",
      "\n",
      "Something to be aware of though, is that if you try to access an element **it must exist**. That means that since `gyro` is four letters long, I cannot give it an index that is greater than `3`"
     ]
    },
    {
     "cell_type": "code",
     "collapsed": false,
     "input": [
      "falafel[5]"
     ],
     "language": "python",
     "metadata": {},
     "outputs": [
      {
       "ename": "IndexError",
       "evalue": "string index out of range",
       "output_type": "pyerr",
       "traceback": [
        "\u001b[0;31m---------------------------------------------------------------------------\u001b[0m\n\u001b[0;31mIndexError\u001b[0m                                Traceback (most recent call last)",
        "\u001b[0;32m<ipython-input-57-9c7825952384>\u001b[0m in \u001b[0;36m<module>\u001b[0;34m()\u001b[0m\n\u001b[0;32m----> 1\u001b[0;31m \u001b[0mfalafel\u001b[0m\u001b[0;34m[\u001b[0m\u001b[0;36m5\u001b[0m\u001b[0;34m]\u001b[0m\u001b[0;34m\u001b[0m\u001b[0m\n\u001b[0m",
        "\u001b[0;31mIndexError\u001b[0m: string index out of range"
       ]
      }
     ],
     "prompt_number": 57
    },
    {
     "cell_type": "markdown",
     "metadata": {},
     "source": [
      "That gives us an error! So always make sure that when you access an element that the index is within the range of how long the string is."
     ]
    },
    {
     "cell_type": "markdown",
     "metadata": {},
     "source": [
      "#Slicing a string\n",
      "\n",
      "What if we wanted to get out more than one element from a string? We can do that too, it's called slicing!\n",
      "\n",
      "The syntax for slicing is deceptively simple, the full syntax is:\n",
      "\n",
      "`variable[start_index : stop_index : step]`\n",
      "\n",
      "You'll see that all of the inputs go within the `[]` and the `:` separates each input. \n",
      "\n",
      "The `start_index` tells python what index we want to start getting elements from.\n",
      "\n",
      "The `stop_index` tells python what index that we want elements **up to but not including**\n",
      "\n",
      "The `step` tells python how many steps to take between elements within the range. This means that we don't need to take every element. We could instead take **every other** element if we specified a `step` of `2`.\n",
      "\n",
      "So if we wanted to get the `gy` from `gyros` we would do"
     ]
    },
    {
     "cell_type": "code",
     "collapsed": false,
     "input": [
      "falafel"
     ],
     "language": "python",
     "metadata": {},
     "outputs": [
      {
       "metadata": {},
       "output_type": "pyout",
       "prompt_number": 60,
       "text": [
        "'gyro'"
       ]
      }
     ],
     "prompt_number": 60
    },
    {
     "cell_type": "code",
     "collapsed": false,
     "input": [
      "falafel[0 : 2 : 1]"
     ],
     "language": "python",
     "metadata": {},
     "outputs": [
      {
       "metadata": {},
       "output_type": "pyout",
       "prompt_number": 49,
       "text": [
        "'gy'"
       ]
      }
     ],
     "prompt_number": 49
    },
    {
     "cell_type": "markdown",
     "metadata": {},
     "source": [
      "Remember that the index of `2` means the third element, so we specified that we wanted every letter from the first index **up until** the third index, and we want every letter.\n",
      "\n",
      "We could get every other letter from the first four letters like so:"
     ]
    },
    {
     "cell_type": "code",
     "collapsed": false,
     "input": [
      "falafel[0 : 4 : 2]"
     ],
     "language": "python",
     "metadata": {},
     "outputs": [
      {
       "metadata": {},
       "output_type": "pyout",
       "prompt_number": 50,
       "text": [
        "'gr'"
       ]
      }
     ],
     "prompt_number": 50
    },
    {
     "cell_type": "markdown",
     "metadata": {},
     "source": [
      "However, you'll rarely see someone specify all of those inputs when they slice. If you don't give all of the inputs Python just assumes the defaults. Those are:\n",
      "\n",
      "* `start_index` is the first index `0`\n",
      "* `stop_index` is the last index `-1` (notice that this will always be the last character no matter how long the string is)\n",
      "* `step` of `1`"
     ]
    },
    {
     "cell_type": "code",
     "collapsed": false,
     "input": [
      "falafel[0 : 2]"
     ],
     "language": "python",
     "metadata": {},
     "outputs": [
      {
       "metadata": {},
       "output_type": "pyout",
       "prompt_number": 51,
       "text": [
        "'gy'"
       ]
      }
     ],
     "prompt_number": 51
    },
    {
     "cell_type": "code",
     "collapsed": false,
     "input": [
      "falafel[: 2]"
     ],
     "language": "python",
     "metadata": {},
     "outputs": [
      {
       "metadata": {},
       "output_type": "pyout",
       "prompt_number": 52,
       "text": [
        "'gy'"
       ]
      }
     ],
     "prompt_number": 52
    },
    {
     "cell_type": "code",
     "collapsed": false,
     "input": [
      "falafel[: 4 : 2]"
     ],
     "language": "python",
     "metadata": {},
     "outputs": [
      {
       "metadata": {},
       "output_type": "pyout",
       "prompt_number": 53,
       "text": [
        "'gr'"
       ]
      }
     ],
     "prompt_number": 53
    },
    {
     "cell_type": "markdown",
     "metadata": {},
     "source": [
      "And like you noticed from the default listings, we can mix and match positive and negative indices like so"
     ]
    },
    {
     "cell_type": "code",
     "collapsed": false,
     "input": [
      "falafel[ : -1 : 2]"
     ],
     "language": "python",
     "metadata": {},
     "outputs": [
      {
       "metadata": {},
       "output_type": "pyout",
       "prompt_number": 55,
       "text": [
        "'gr'"
       ]
      }
     ],
     "prompt_number": 55
    },
    {
     "cell_type": "markdown",
     "metadata": {},
     "source": [
      "One difference from accessing a single element though, is that we can give a `stop_index` that is bigger than the length of the string. Python will just give us all of the possible characters that exist happily."
     ]
    },
    {
     "cell_type": "code",
     "collapsed": false,
     "input": [
      "falafel[: 10]"
     ],
     "language": "python",
     "metadata": {},
     "outputs": [
      {
       "metadata": {},
       "output_type": "pyout",
       "prompt_number": 58,
       "text": [
        "'gyro'"
       ]
      }
     ],
     "prompt_number": 58
    },
    {
     "cell_type": "markdown",
     "metadata": {},
     "source": [
      "However, in most situations that is poor practice and you should just not give a `stop_index` so that it returns all of the characters."
     ]
    },
    {
     "cell_type": "code",
     "collapsed": false,
     "input": [
      "falafel[:]"
     ],
     "language": "python",
     "metadata": {},
     "outputs": [
      {
       "metadata": {},
       "output_type": "pyout",
       "prompt_number": 61,
       "text": [
        "'gyro'"
       ]
      }
     ],
     "prompt_number": 61
    },
    {
     "cell_type": "markdown",
     "metadata": {},
     "source": [
      "An important note though is that the `start_index` always has to come before the `stop_index`, otherwise we will get an empty string"
     ]
    },
    {
     "cell_type": "code",
     "collapsed": false,
     "input": [
      "falafel[3 : 1]"
     ],
     "language": "python",
     "metadata": {},
     "outputs": [
      {
       "metadata": {},
       "output_type": "pyout",
       "prompt_number": 88,
       "text": [
        "''"
       ]
      }
     ],
     "prompt_number": 88
    },
    {
     "cell_type": "markdown",
     "metadata": {},
     "source": [
      "That's because there is no valid sequence moving from left to right while reading the string that exists with those limits.\n",
      "\n",
      "If we want it to return the slice but reversed, we actually control that with the `step` input and tell it that we want the reverse slice"
     ]
    },
    {
     "cell_type": "code",
     "collapsed": false,
     "input": [
      "falafel[3 : 1 : -1]"
     ],
     "language": "python",
     "metadata": {},
     "outputs": [
      {
       "metadata": {},
       "output_type": "pyout",
       "prompt_number": 87,
       "text": [
        "'or'"
       ]
      }
     ],
     "prompt_number": 87
    },
    {
     "cell_type": "markdown",
     "metadata": {},
     "source": [
      "#Exercises"
     ]
    },
    {
     "cell_type": "markdown",
     "metadata": {},
     "source": [
      "Use five mathematical operators (`+ - * / **`) to produce the number `4`"
     ]
    },
    {
     "cell_type": "code",
     "collapsed": false,
     "input": [],
     "language": "python",
     "metadata": {},
     "outputs": []
    },
    {
     "cell_type": "markdown",
     "metadata": {},
     "source": [
      "Convert the output of one of those expressions to a `float`"
     ]
    },
    {
     "cell_type": "code",
     "collapsed": false,
     "input": [],
     "language": "python",
     "metadata": {},
     "outputs": []
    },
    {
     "cell_type": "markdown",
     "metadata": {},
     "source": [
      "I have a string called pet_shop that has all of the different pet varieties in a store."
     ]
    },
    {
     "cell_type": "code",
     "collapsed": false,
     "input": [
      "pet_shop = 'dog cat hedgehog fish bird'"
     ],
     "language": "python",
     "metadata": {},
     "outputs": [],
     "prompt_number": 90
    },
    {
     "cell_type": "markdown",
     "metadata": {},
     "source": [
      "Capitalize all of the different pet types in a single line"
     ]
    },
    {
     "cell_type": "code",
     "collapsed": false,
     "input": [],
     "language": "python",
     "metadata": {},
     "outputs": []
    },
    {
     "cell_type": "markdown",
     "metadata": {},
     "source": [
      "Print out a single `g` from `pet_shop`"
     ]
    },
    {
     "cell_type": "code",
     "collapsed": false,
     "input": [],
     "language": "python",
     "metadata": {},
     "outputs": [],
     "prompt_number": 92
    },
    {
     "cell_type": "markdown",
     "metadata": {},
     "source": [
      "Print out just `hedgehog`"
     ]
    },
    {
     "cell_type": "code",
     "collapsed": false,
     "input": [],
     "language": "python",
     "metadata": {},
     "outputs": []
    },
    {
     "cell_type": "markdown",
     "metadata": {},
     "source": [
      "Print out `gohegdeh`"
     ]
    },
    {
     "cell_type": "code",
     "collapsed": false,
     "input": [],
     "language": "python",
     "metadata": {},
     "outputs": []
    },
    {
     "cell_type": "markdown",
     "metadata": {},
     "source": [
      "I have two variables"
     ]
    },
    {
     "cell_type": "code",
     "collapsed": false,
     "input": [
      "dogs, cats = '8', '4'"
     ],
     "language": "python",
     "metadata": {},
     "outputs": [],
     "prompt_number": 94
    },
    {
     "cell_type": "markdown",
     "metadata": {},
     "source": [
      "that tell me how many `dogs` and `cat` I have at the store. Using those two variables, calculate how many more dogs I have than cats"
     ]
    },
    {
     "cell_type": "code",
     "collapsed": false,
     "input": [],
     "language": "python",
     "metadata": {},
     "outputs": []
    },
    {
     "cell_type": "markdown",
     "metadata": {},
     "source": [
      "Exercises completed!"
     ]
    },
    {
     "cell_type": "code",
     "collapsed": false,
     "input": [
      "from IPython.core.display import HTML\n",
      "\n",
      "\n",
      "def css_styling():\n",
      "    styles = open(\"../styles/custom.css\", \"r\").read()\n",
      "    return HTML(styles)\n",
      "css_styling()"
     ],
     "language": "python",
     "metadata": {},
     "outputs": [
      {
       "html": [
        "<style>\n",
        "    @font-face {\n",
        "        font-family: \"Computer Modern\";\n",
        "        src: url('http://9dbb143991406a7c655e-aa5fcb0a5a4ec34cff238a2d56ca4144.r56.cf5.rackcdn.com/cmunss.otf');\n",
        "    }\n",
        "    @font-face {\n",
        "        font-family: \"Computer Modern\";\n",
        "        font-weight: bold;\n",
        "        src: url('http://9dbb143991406a7c655e-aa5fcb0a5a4ec34cff238a2d56ca4144.r56.cf5.rackcdn.com/cmunsx.otf');\n",
        "    }\n",
        "    @font-face {\n",
        "        font-family: \"Computer Modern\";\n",
        "        font-style: oblique;\n",
        "        src: url('http://9dbb143991406a7c655e-aa5fcb0a5a4ec34cff238a2d56ca4144.r56.cf5.rackcdn.com/cmunsi.otf');\n",
        "    }\n",
        "    @font-face {\n",
        "        font-family: \"Computer Modern\";\n",
        "        font-weight: bold;\n",
        "        font-style: oblique;\n",
        "        src: url('http://9dbb143991406a7c655e-aa5fcb0a5a4ec34cff238a2d56ca4144.r56.cf5.rackcdn.com/cmunso.otf');\n",
        "    }\n",
        "    div.cell{\n",
        "        width:800px;\n",
        "        margin-left:16% !important;\n",
        "        margin-right:auto;\n",
        "    }\n",
        "    h1 {\n",
        "        font-family: Helvetica, serif;\n",
        "    }\n",
        "    h4{\n",
        "        margin-top:12px;\n",
        "        margin-bottom: 3px;\n",
        "       }\n",
        "    div.text_cell_render{\n",
        "        font-family: Computer Modern, \"Helvetica Neue\", Arial, Helvetica, Geneva, sans-serif;\n",
        "        line-height: 145%;\n",
        "        font-size: 130%;\n",
        "        width:800px;\n",
        "        margin-left:auto;\n",
        "        margin-right:auto;\n",
        "    }\n",
        "    .CodeMirror{\n",
        "            font-family: \"Source Code Pro\", source-code-pro,Consolas, monospace;\n",
        "    }\n",
        "    .prompt{\n",
        "        display: None;\n",
        "    }\n",
        "    .text_cell_render h5 {\n",
        "        font-weight: 300;\n",
        "        font-size: 22pt;\n",
        "        color: #4057A1;\n",
        "        font-style: italic;\n",
        "        margin-bottom: .5em;\n",
        "        margin-top: 0.5em;\n",
        "        display: block;\n",
        "    }\n",
        "    \n",
        "    .warning{\n",
        "        color: rgb( 240, 20, 20 )\n",
        "        }  \n",
        "</style>\n",
        "<script>\n",
        "    MathJax.Hub.Config({\n",
        "                        TeX: {\n",
        "                           extensions: [\"AMSmath.js\"]\n",
        "                           },\n",
        "                tex2jax: {\n",
        "                    inlineMath: [ ['$','$'], [\"\\\\(\",\"\\\\)\"] ],\n",
        "                    displayMath: [ ['$$','$$'], [\"\\\\[\",\"\\\\]\"] ]\n",
        "                },\n",
        "                displayAlign: 'center', // Change this to 'center' to center equations.\n",
        "                \"HTML-CSS\": {\n",
        "                    styles: {'.MathJax_Display': {\"margin\": 4}}\n",
        "                }\n",
        "        });\n",
        "</script>\n"
       ],
       "metadata": {},
       "output_type": "pyout",
       "prompt_number": 5,
       "text": [
        "<IPython.core.display.HTML at 0x103933c50>"
       ]
      }
     ],
     "prompt_number": 5
    }
   ],
   "metadata": {}
  }
 ]
}