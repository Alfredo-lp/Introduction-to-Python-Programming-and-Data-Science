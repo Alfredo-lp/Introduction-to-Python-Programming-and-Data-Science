{
 "cells": [
  {
   "cell_type": "code",
   "execution_count": 2,
   "metadata": {
    "collapsed": false
   },
   "outputs": [
    {
     "data": {
      "text/html": [
       "<style>\n",
       "    @font-face {\n",
       "        font-family: \"Computer Modern\";\n",
       "        src: url('http://9dbb143991406a7c655e-aa5fcb0a5a4ec34cff238a2d56ca4144.r56.cf5.rackcdn.com/cmunss.otf');\n",
       "    }\n",
       "    @font-face {\n",
       "        font-family: \"Computer Modern\";\n",
       "        font-weight: bold;\n",
       "        src: url('http://9dbb143991406a7c655e-aa5fcb0a5a4ec34cff238a2d56ca4144.r56.cf5.rackcdn.com/cmunsx.otf');\n",
       "    }\n",
       "    @font-face {\n",
       "        font-family: \"Computer Modern\";\n",
       "        font-style: oblique;\n",
       "        src: url('http://9dbb143991406a7c655e-aa5fcb0a5a4ec34cff238a2d56ca4144.r56.cf5.rackcdn.com/cmunsi.otf');\n",
       "    }\n",
       "    @font-face {\n",
       "        font-family: \"Computer Modern\";\n",
       "        font-weight: bold;\n",
       "        font-style: oblique;\n",
       "        src: url('http://9dbb143991406a7c655e-aa5fcb0a5a4ec34cff238a2d56ca4144.r56.cf5.rackcdn.com/cmunso.otf');\n",
       "    }\n",
       "    h1 {\n",
       "        font-family: Helvetica, serif;\n",
       "    }\n",
       "    h4{\n",
       "        margin-top:12px;\n",
       "        margin-bottom: 3px;\n",
       "       }\n",
       "    div.text_cell_render{\n",
       "        font-family: Computer Modern, \"Helvetica Neue\", Arial, Helvetica, Geneva, sans-serif;\n",
       "        line-height: 145%;\n",
       "        font-size: 130%;\n",
       "        margin-left:auto;\n",
       "        margin-right:auto;\n",
       "    }\n",
       "    .CodeMirror{\n",
       "            font-family: \"Source Code Pro\", source-code-pro,Consolas, monospace;\n",
       "    }\n",
       "    .text_cell_render h5 {\n",
       "        font-weight: 300;\n",
       "        font-size: 22pt;\n",
       "        color: #4057A1;\n",
       "        font-style: italic;\n",
       "        margin-bottom: .5em;\n",
       "        margin-top: 0.5em;\n",
       "        display: block;\n",
       "    }\n",
       "    \n",
       "    .warning{\n",
       "        color: rgb( 240, 20, 20 )\n",
       "        }  \n",
       "</style>\n",
       "<script>\n",
       "    MathJax.Hub.Config({\n",
       "                        TeX: {\n",
       "                           extensions: [\"AMSmath.js\"]\n",
       "                           },\n",
       "                tex2jax: {\n",
       "                    inlineMath: [ ['$','$'], [\"\\\\(\",\"\\\\)\"] ],\n",
       "                    displayMath: [ ['$$','$$'], [\"\\\\[\",\"\\\\]\"] ]\n",
       "                },\n",
       "                displayAlign: 'center', // Change this to 'center' to center equations.\n",
       "                \"HTML-CSS\": {\n",
       "                    styles: {'.MathJax_Display': {\"margin\": 4}}\n",
       "                }\n",
       "        });\n",
       "</script>\n"
      ],
      "text/plain": [
       "<IPython.core.display.HTML object>"
      ]
     },
     "execution_count": 2,
     "metadata": {},
     "output_type": "execute_result"
    }
   ],
   "source": [
    "from IPython.core.display import HTML\n",
    "from IPython.lib.display import YouTubeVideo\n",
    "def css_styling():\n",
    "    styles = open(\"../styles/custom.css\", \"r\").read()\n",
    "    return HTML(styles)\n",
    "css_styling()"
   ]
  },
  {
   "cell_type": "markdown",
   "metadata": {},
   "source": [
    "# Data visualization\n",
    "\n",
    "Visualizing your data is a **key** component of data analysis, no matter how big or small your data is.  Our minds are hardwired to process visual information, in fact **one-third** of our brain is dedicated to image processing and **40% of all** nerve fibers connected to the brain come from the retina. Visualization is essentially a high-speed link to your cognitive systems.\n",
    "\n",
    "Let me show you a quick example."
   ]
  },
  {
   "cell_type": "markdown",
   "metadata": {},
   "source": [
    "## Traffic accidents\n",
    "\n",
    "Let's look at this image together, it plots the number of accidents per month against the time of day. Then tell me when accidents are likely to occur?\n",
    "\n",
    "<img src='../images/visualization_raw_chart.png'></img>"
   ]
  },
  {
   "cell_type": "markdown",
   "metadata": {},
   "source": [
    "Now let's try something different. This is the same chart, but now I've added a color scale. The individual numbers have a deeper shade of blue the more accidents that occur during that time period.\n",
    "\n",
    "Now tell me, when are accidents most likely to occur? How long did it take you to figure it out?\n",
    "\n",
    "<img src = '../images/visualization_heatmap.png'></img>"
   ]
  },
  {
   "cell_type": "markdown",
   "metadata": {},
   "source": [
    "# Effective visualizations make a difference\n",
    "\n",
    "Effective visualizations allow us to make accurate decisions quicker. More importantly they help us make **correct** decisions. When you make a visualization, you're actually trying to make a point. The entire point is to persuade your audience of some fact that you know to be true. \n",
    "\n",
    "Whether you accept this statement or not, it is what happens. If you don't construct your visualization in a way that informs your audience and allows them to make a correct decision they can easily reach a different conclusion. "
   ]
  },
  {
   "cell_type": "markdown",
   "metadata": {},
   "source": [
    "# Creating a poor visualization can be disastrous\n",
    "\n",
    "Literally, disastrous. \n",
    "\n",
    "Does everyone remember the 1986 Challenger shuttle launch? The Challenger was a NASA Space Shuttle that exploded upon take-off because the O-rings in the rockets cracked and allowed jet fuel to leak into the combustion chamber."
   ]
  },
  {
   "cell_type": "code",
   "execution_count": 5,
   "metadata": {
    "collapsed": false
   },
   "outputs": [
    {
     "data": {
      "text/html": [
       "\n",
       "        <iframe\n",
       "            width=\"400\"\n",
       "            height=\"300\"\n",
       "            src=\"https://www.youtube.com/embed/lQMuRbCaZ7E?t=7m10s\"\n",
       "            frameborder=\"0\"\n",
       "            allowfullscreen\n",
       "        ></iframe>\n",
       "        "
      ],
      "text/plain": [
       "<IPython.lib.display.YouTubeVideo at 0x1049b1358>"
      ]
     },
     "execution_count": 5,
     "metadata": {},
     "output_type": "execute_result"
    }
   ],
   "source": [
    "#Fast-forward to 7:10\n",
    "YouTubeVideo('lQMuRbCaZ7E?t=7m10s')"
   ]
  },
  {
   "cell_type": "markdown",
   "metadata": {},
   "source": [
    "## Why did the O-rings crack?\n",
    "\n",
    "There were rumblings at NASA prior to the Challenger launch that defects in the O-rings occurred at cold temperatures. This data was looked at by a large number of people, but this is how it was presented to senior management (the people actually tasked with making the decision of **whether it was safe or not** to launch the rocket).\n",
    "\n",
    "### When Challenger was launched the predicted temperature was 27 F.\n",
    "### Would you have not launched the shuttle based on this graph?\n",
    "\n",
    "<img src = '../images/challenger_original.png'></img>"
   ]
  },
  {
   "cell_type": "markdown",
   "metadata": {},
   "source": [
    "Here is that graph remade.\n",
    "\n",
    "### Now would you have not launched the shuttle?\n",
    "\n",
    "<img src='../images/challenger_remade.png'></img>"
   ]
  },
  {
   "cell_type": "markdown",
   "metadata": {},
   "source": [
    "# In NO way does this mean that you should lie with a graph\n",
    "\n",
    "Yes, your purpose is persuade. But that doesn't mean that you should be like Fox News\n",
    "\n",
    "<img src = '../images/fox_news.png'></img>\n",
    "\n",
    "Or any other major cable news network for that matter (they are all awful). The real start of a final graph is identifying the key point that you want to communicate and then figuring out what is the best way to communicate that.\n",
    "\n",
    "**Making a good graph is just like writing a good essay in that regard** (and here you thought that we would never invoke English composition in a programming class). \n",
    "\n",
    "From here on we will focus on the actual nuts and bolts of crafting a graph in Python, but you should keep these principles in mind. If you are interested more on the concepts and best practices of visualization you should read the books by [Edward Tufte](http://www.amazon.com/s/ref=nb_sb_noss_2?url=search-alias%3Daps&field-keywords=edward+tufte&rh=i%3Aaps%2Ck%3Aedward+tufte), he is considered to be one of the leading experts in this field. If you are looking for practical ways to create interactive visualizations on the web, it is my personal belief that you should look at the works of [Mike Bostock](http://bost.ocks.org/mike/) and [Scott Murray](http://alignedleft.com) that use [D3](http://d3js.org)."
   ]
  },
  {
   "cell_type": "markdown",
   "metadata": {},
   "source": [
    "# Plotting in Python\n",
    "\n",
    "A number of plotting packages have emerged for Python in the last 3 years. However, the largest, most complete package is `matplotlib`. `Matplotlib` was created in 2003 and is the oldest Python plotting library that has survived.\n",
    "\n",
    "However, that doesn't mean that it's always the best. If you are a biologist there is the `seaborn` library and if you don't care about your data being public there is a new service called `plot.ly` with a Python library.\n",
    "\n",
    "In any case, `matplotlib` covers the majority of situations to create graphs that users in the class will need. There are also the most stackoverflow answers for the library (which are honestly the actual documentation for it. Don't ever bother going to the actual matplotlib web page for a question), which help new users utilize its features. For these reasons we will cover it in the class."
   ]
  },
  {
   "cell_type": "markdown",
   "metadata": {},
   "source": [
    "## Matplotlib has every option you need\n",
    "### And in most cases too many options\n",
    "\n",
    "If you go poking around on-line you'll read about how `matplotlib` has both a `matlab` style plotting interface to convert engineers and an `object-oriented` interface. **Ignore all of that noise**. What it really means is that we can plot a graph very quickly with `matplotlib`. Let me show you."
   ]
  },
  {
   "cell_type": "code",
   "execution_count": 16,
   "metadata": {
    "collapsed": true
   },
   "outputs": [],
   "source": [
    "%matplotlib inline"
   ]
  },
  {
   "cell_type": "code",
   "execution_count": 9,
   "metadata": {
    "collapsed": true
   },
   "outputs": [],
   "source": [
    "import matplotlib.pyplot as plt"
   ]
  },
  {
   "cell_type": "code",
   "execution_count": 10,
   "metadata": {
    "collapsed": false
   },
   "outputs": [
    {
     "data": {
      "text/plain": [
       "[<matplotlib.lines.Line2D at 0x106904470>]"
      ]
     },
     "execution_count": 10,
     "metadata": {},
     "output_type": "execute_result"
    },
    {
     "data": {
      "image/png": "[encoded data removed]",
      "text/plain": [
       "<matplotlib.figure.Figure at 0x1067794a8>"
      ]
     },
     "metadata": {},
     "output_type": "display_data"
    }
   ],
   "source": [
    "plt.plot([1, 2, 3, 4], [1, 2, 3, 4])"
   ]
  },
  {
   "cell_type": "markdown",
   "metadata": {},
   "source": [
    "**There! That's a plot.**\n",
    "\n",
    "This is that simple, instructive interface that they talk about online when they mention a `matlab` like interface.\n",
    "\n",
    "However, creating a plot like this limits our ability to modify it. In our examples we will use the more `object-oriented` interface. It may seem like it has a lot of cruft, but it greatly expands our power in tweaking the visualization.\n",
    "\n",
    "To create a graph this way we first create a `figure`"
   ]
  },
  {
   "cell_type": "code",
   "execution_count": 11,
   "metadata": {
    "collapsed": false
   },
   "outputs": [
    {
     "data": {
      "text/plain": [
       "<matplotlib.figure.Figure at 0x1049b1b00>"
      ]
     },
     "metadata": {},
     "output_type": "display_data"
    }
   ],
   "source": [
    "fig = plt.figure()"
   ]
  },
  {
   "cell_type": "markdown",
   "metadata": {},
   "source": [
    "We can actually pass arguments to the figure, like changing its size."
   ]
  },
  {
   "cell_type": "code",
   "execution_count": 17,
   "metadata": {
    "collapsed": false
   },
   "outputs": [
    {
     "data": {
      "text/plain": [
       "<matplotlib.figure.Figure at 0x10697a9b0>"
      ]
     },
     "metadata": {},
     "output_type": "display_data"
    }
   ],
   "source": [
    "fig = plt.figure(figsize = (10, 7))"
   ]
  },
  {
   "cell_type": "markdown",
   "metadata": {},
   "source": [
    "Those dimensions are actually in inches, the first one is the width and the other is the height.\n",
    "\n",
    "Now we have to create something to plot, that something is a set of `axes` inside a `subplot`. `subplot`s let us have multiple graphs inside a single plot. I'll show you it first though."
   ]
  },
  {
   "cell_type": "code",
   "execution_count": 18,
   "metadata": {
    "collapsed": true
   },
   "outputs": [],
   "source": [
    "ax = fig.add_subplot(1, 1, 1)"
   ]
  },
  {
   "cell_type": "markdown",
   "metadata": {},
   "source": [
    "And then plot it (I'm putting all of the commands together here)"
   ]
  },
  {
   "cell_type": "code",
   "execution_count": 23,
   "metadata": {
    "collapsed": false
   },
   "outputs": [
    {
     "data": {
      "text/plain": [
       "[<matplotlib.lines.Line2D at 0x106be1940>]"
      ]
     },
     "execution_count": 23,
     "metadata": {},
     "output_type": "execute_result"
    },
    {
     "data": {
      "image/png": "[encoded data removed]",
      "text/plain": [
       "<matplotlib.figure.Figure at 0x106be1128>"
      ]
     },
     "metadata": {},
     "output_type": "display_data"
    }
   ],
   "source": [
    "fig = plt.figure(figsize = (10, 7))\n",
    "ax = fig.add_subplot(1, 1, 1)\n",
    "ax.plot([1, 2, 3, 4], [1, 2, 3, 4])"
   ]
  },
  {
   "cell_type": "markdown",
   "metadata": {},
   "source": [
    "When we specify subplots the first number is the number of rows of plots. The second number is the number of columns of plots. The third number is the specific plot that you wish to populate. This number goes from 1 to the maximum plot number (num_columns * num_rows). Hopefully this image will make it more clear\n",
    "\n",
    "<img src='../images/matplotlib_subplots.png'></img>"
   ]
  },
  {
   "cell_type": "markdown",
   "metadata": {},
   "source": [
    "And now let me demonstrate it"
   ]
  },
  {
   "cell_type": "code",
   "execution_count": 29,
   "metadata": {
    "collapsed": false
   },
   "outputs": [
    {
     "data": {
      "text/plain": [
       "[<matplotlib.lines.Line2D at 0x10763d6a0>]"
      ]
     },
     "execution_count": 29,
     "metadata": {},
     "output_type": "execute_result"
    },
    {
     "data": {
      "image/png": "[encoded data removed]",
      "text/plain": [
       "<matplotlib.figure.Figure at 0x10740ecf8>"
      ]
     },
     "metadata": {},
     "output_type": "display_data"
    }
   ],
   "source": [
    "data = [1, 2, 3, 4]\n",
    "#STart the figure\n",
    "fig = plt.figure(figsize = (4, 8))\n",
    "#Create the first axis\n",
    "ax1 = fig.add_subplot(2, 1, 1)\n",
    "ax1.plot(data, data)\n",
    "#Create the second axis\n",
    "ax2 = fig.add_subplot(2, 1, 2)\n",
    "ax2.plot(data[:2], data[:2])"
   ]
  },
  {
   "cell_type": "markdown",
   "metadata": {},
   "source": [
    "Now let's just import a host of libraries that we will use throughout this exercise."
   ]
  },
  {
   "cell_type": "code",
   "execution_count": 30,
   "metadata": {
    "collapsed": false
   },
   "outputs": [],
   "source": [
    "import sys\n",
    "import numpy as np\n",
    "import random as rand \n",
    "import matplotlib as mpl\n",
    "import matplotlib.cm as cm"
   ]
  },
  {
   "cell_type": "markdown",
   "metadata": {},
   "source": [
    "And here I will create some fake data that I will use throughout to show some basic plots"
   ]
  },
  {
   "cell_type": "code",
   "execution_count": 31,
   "metadata": {
    "collapsed": false
   },
   "outputs": [],
   "source": [
    "x = range(5,100,5)\n",
    "y = [i**2 for i in x]\n",
    "z = [100*i for i in x]\n",
    "rv1 = [rand.random() for i in range(1000)]\n",
    "rv2 = [rand.random() for i in range(10000)]"
   ]
  },
  {
   "cell_type": "markdown",
   "metadata": {},
   "source": [
    "Now plot the `x` and `y` data as a simple graph like I've already shown you."
   ]
  },
  {
   "cell_type": "code",
   "execution_count": 33,
   "metadata": {
    "collapsed": false
   },
   "outputs": [
    {
     "data": {
      "text/plain": [
       "<matplotlib.figure.Figure at 0x106bdeba8>"
      ]
     },
     "metadata": {},
     "output_type": "display_data"
    }
   ],
   "source": [
    "#Here, let me create the figure for you\n",
    "fig = plt.figure( figsize = (6, 4) )\n",
    "\n"
   ]
  },
  {
   "cell_type": "markdown",
   "metadata": {},
   "source": [
    "An import part of graphing is labelling axes and providing legends?  IT's actually pretty simple. \n",
    "\n",
    "Let's add a little bit to our simple graph."
   ]
  },
  {
   "cell_type": "code",
   "execution_count": 34,
   "metadata": {
    "collapsed": false
   },
   "outputs": [
    {
     "data": {
      "text/plain": [
       "<matplotlib.legend.Legend at 0x1077b3b00>"
      ]
     },
     "execution_count": 34,
     "metadata": {},
     "output_type": "execute_result"
    },
    {
     "data": {
      "image/png": "[encoded data removed]",
      "text/plain": [
       "<matplotlib.figure.Figure at 0x10773d550>"
      ]
     },
     "metadata": {},
     "output_type": "display_data"
    }
   ],
   "source": [
    "fig = plt.figure( figsize = (6, 4) )\n",
    "ax = fig.add_subplot(1,1,1)\n",
    "# We should add a label to our dataset that will go into a legend\n",
    "ax.plot(x, y, label = \"Quadratic\")\n",
    "# Now we can label the axes. Always label your axes! Who knows what is in the graph otherwise\n",
    "ax.set_xlabel(\"x\")\n",
    "ax.set_ylabel(\"f(x)\")\n",
    "# Display legend\n",
    "ax.legend()"
   ]
  },
  {
   "cell_type": "markdown",
   "metadata": {},
   "source": [
    "#### Ok, that's the basics. But how do we make it visually appealing?\n",
    "\n",
    "For that we'll need to start playing with the options. Let's start by changing the font size for the labels and the color of the plot."
   ]
  },
  {
   "cell_type": "code",
   "execution_count": 49,
   "metadata": {
    "collapsed": false
   },
   "outputs": [
    {
     "data": {
      "text/plain": [
       "<matplotlib.legend.Legend at 0x10860d9b0>"
      ]
     },
     "execution_count": 49,
     "metadata": {},
     "output_type": "execute_result"
    },
    {
     "data": {
      "image/png": "[encoded data removed]",
      "text/plain": [
       "<matplotlib.figure.Figure at 0x1085c66d8>"
      ]
     },
     "metadata": {},
     "output_type": "display_data"
    }
   ],
   "source": [
    "# Change the baseline font\n",
    "mpl.rcParams['font.family'] = 'sans-serif'\n",
    "mpl.rcParams['font.sans-serif'] = ['Arial']\n",
    "#Create the figure\n",
    "fig = plt.figure( figsize = (6, 4) )\n",
    "ax = fig.add_subplot(1,1,1)\n",
    "# We should add a label to our dataset that will go into a legend\n",
    "ax.plot(x, y, label = \"Quadratic\", color = 'steelblue')\n",
    "# Now we can label the axes. Always label your axes! Who knows what is in the graph otherwise\n",
    "font_size = 15\n",
    "ax.set_xlabel(\"x\", fontsize = 2*font_size, **helvetica_font)\n",
    "ax.set_ylabel(\"f(x)\", fontsize = 1.6*font_size, **helvetica_font)\n",
    "# Display legend\n",
    "ax.legend()"
   ]
  },
  {
   "cell_type": "markdown",
   "metadata": {},
   "source": [
    "Or rather simply use LaTeX (if you know what it is) to write text."
   ]
  },
  {
   "cell_type": "code",
   "execution_count": 52,
   "metadata": {
    "collapsed": false
   },
   "outputs": [
    {
     "data": {
      "text/plain": [
       "<matplotlib.legend.Legend at 0x109242b70>"
      ]
     },
     "execution_count": 52,
     "metadata": {},
     "output_type": "execute_result"
    },
    {
     "data": {
      "image/png": "[encoded data removed]",
      "text/plain": [
       "<matplotlib.figure.Figure at 0x109188f28>"
      ]
     },
     "metadata": {},
     "output_type": "display_data"
    }
   ],
   "source": [
    "# Change the baseline font\n",
    "mpl.rcParams['font.family'] = 'sans-serif'\n",
    "mpl.rcParams['font.sans-serif'] = ['Arial']\n",
    "#Create the figure\n",
    "fig = plt.figure( figsize = (6, 4) )\n",
    "ax = fig.add_subplot(1,1,1)\n",
    "# We should add a label to our dataset that will go into a legend\n",
    "ax.plot(x, y, label = \"Quadratic\", color = 'steelblue')\n",
    "# Now we can label the axes. Always label your axes! Who knows what is in the graph otherwise\n",
    "font_size = 15\n",
    "ax.set_xlabel(\"$x$\", fontsize = 2*font_size, **helvetica_font)\n",
    "ax.set_ylabel(\"$f(x)$\", fontsize = 1.6*font_size, **helvetica_font)\n",
    "# Display legend\n",
    "ax.legend()"
   ]
  },
  {
   "cell_type": "markdown",
   "metadata": {},
   "source": [
    "And we should really move the legend box, it's blocking the line! And get rid of that silly legend box.\n",
    "\n",
    "Let's make the line **wider** too."
   ]
  },
  {
   "cell_type": "code",
   "execution_count": 61,
   "metadata": {
    "collapsed": false
   },
   "outputs": [
    {
     "data": {
      "text/plain": [
       "<matplotlib.legend.Legend at 0x109bb07b8>"
      ]
     },
     "execution_count": 61,
     "metadata": {},
     "output_type": "execute_result"
    },
    {
     "data": {
      "image/png": "[encoded data removed]",
      "text/plain": [
       "<matplotlib.figure.Figure at 0x109a3e470>"
      ]
     },
     "metadata": {},
     "output_type": "display_data"
    }
   ],
   "source": [
    "# Change the baseline font\n",
    "mpl.rcParams['font.family'] = 'sans-serif'\n",
    "mpl.rcParams['font.sans-serif'] = ['Arial']\n",
    "#Create the figure\n",
    "fig = plt.figure( figsize = (6, 4) )\n",
    "ax = fig.add_subplot(1,1,1)\n",
    "# We should add a label to our dataset that will go into a legend\n",
    "ax.plot(x, y, label = \"Quadratic\", color = 'steelblue', linewidth = 3)\n",
    "# Now we can label the axes. Always label your axes! Who knows what is in the graph otherwise\n",
    "font_size = 15\n",
    "ax.set_xlabel(\"$x$\", fontsize = 2*font_size, **helvetica_font)\n",
    "ax.set_ylabel(\"$f(x)$\", fontsize = 1.6*font_size, **helvetica_font)\n",
    "# Display legend\n",
    "ax.legend(loc='best', frameon=False, fontsize = font_size)"
   ]
  },
  {
   "cell_type": "markdown",
   "metadata": {},
   "source": [
    "If this was real data, we would maybe want to show the individual datapoints too. To put points on the line we need to add a marker. \n",
    "\n",
    "Matplotlib has a number of different marker styles, but I'll just use a circle since that is the most common.\n",
    "\n",
    "We should also add some text, let says that this is `Figure (A)` of a multi-part figure. We'll add `(A)` to teh plot."
   ]
  },
  {
   "cell_type": "code",
   "execution_count": 86,
   "metadata": {
    "collapsed": false
   },
   "outputs": [
    {
     "data": {
      "text/plain": [
       "<matplotlib.text.Text at 0x10b3751d0>"
      ]
     },
     "execution_count": 86,
     "metadata": {},
     "output_type": "execute_result"
    },
    {
     "data": {
      "image/png": "[encoded data removed]",
      "text/plain": [
       "<matplotlib.figure.Figure at 0x10b2bb748>"
      ]
     },
     "metadata": {},
     "output_type": "display_data"
    }
   ],
   "source": [
    "# Change the baseline font\n",
    "mpl.rcParams['font.family'] = 'sans-serif'\n",
    "mpl.rcParams['font.sans-serif'] = ['Arial']\n",
    "#Create the figure\n",
    "fig = plt.figure( figsize = (6, 4) )\n",
    "ax = fig.add_subplot(1,1,1)\n",
    "# We should add a label to our dataset that will go into a legend\n",
    "ax.plot(x, y, label = \"Quadratic\", color = 'steelblue', linewidth = 3, marker = 'o', markersize = 10)\n",
    "# Now we can label the axes. Always label your axes! Who knows what is in the graph otherwise\n",
    "font_size = 15\n",
    "ax.set_xlabel(\"$x$\", fontsize = 2*font_size, **helvetica_font)\n",
    "ax.set_ylabel(\"$f(x)$\", fontsize = 1.6*font_size, **helvetica_font)\n",
    "# Display legend\n",
    "ax.legend(loc='best', frameon=False, fontsize = font_size, markerscale = 1.2)\n",
    "#Adding a label\n",
    "ax.text(90, 500, \"(A)\", fontsize = 1.2 * font_size)"
   ]
  },
  {
   "cell_type": "markdown",
   "metadata": {},
   "source": [
    "For a plot like this, we might also not want to have the full frame around the plot. We can remove that by changing the spines"
   ]
  },
  {
   "cell_type": "code",
   "execution_count": 89,
   "metadata": {
    "collapsed": false
   },
   "outputs": [
    {
     "data": {
      "image/png": "[encoded data removed]",
      "text/plain": [
       "<matplotlib.figure.Figure at 0x10b695470>"
      ]
     },
     "metadata": {},
     "output_type": "display_data"
    }
   ],
   "source": [
    "# Change the baseline font\n",
    "mpl.rcParams['font.family'] = 'sans-serif'\n",
    "mpl.rcParams['font.sans-serif'] = ['Arial']\n",
    "#Create the figure\n",
    "fig = plt.figure( figsize = (6, 4) )\n",
    "ax = fig.add_subplot(1,1,1)\n",
    "# We should add a label to our dataset that will go into a legend\n",
    "ax.plot(x, y, label = \"Quadratic\", color = 'steelblue', linewidth = 3, marker = 'o', markersize = 10)\n",
    "# Now we can label the axes. Always label your axes! Who knows what is in the graph otherwise\n",
    "font_size = 15\n",
    "ax.set_xlabel(\"$x$\", fontsize = 2*font_size, **helvetica_font)\n",
    "ax.set_ylabel(\"$f(x)$\", fontsize = 1.6*font_size, **helvetica_font)\n",
    "# Display legend\n",
    "ax.legend(loc='best', frameon=False, fontsize = font_size, markerscale = 1.2)\n",
    "#Adding a label\n",
    "ax.text(90, 500, \"(A)\", fontsize = 1.2 * font_size)\n",
    "#Turn off the spines\n",
    "for axis in ['bottom','left']:\n",
    "    ax.spines[axis].set_linewidth(2)\n",
    "    ax.spines[axis].set_position((\"axes\", -0.02))\n",
    "for axis in ['top','right']:\n",
    "    ax.spines[axis].set_visible(False)\n",
    "#We'll also need to turn off the ticks on the axes that we turned off\n",
    "ax.yaxis.set_ticks_position('left')\n",
    "ax.xaxis.set_ticks_position('bottom')"
   ]
  },
  {
   "cell_type": "markdown",
   "metadata": {},
   "source": [
    "But you know what's really bugging me now? The y-axis covers a great range, so much that it should be a log instead of linear scale"
   ]
  },
  {
   "cell_type": "code",
   "execution_count": 95,
   "metadata": {
    "collapsed": false
   },
   "outputs": [
    {
     "data": {
      "image/png": "[encoded data removed]",
      "text/plain": [
       "<matplotlib.figure.Figure at 0x10b39eba8>"
      ]
     },
     "metadata": {},
     "output_type": "display_data"
    }
   ],
   "source": [
    "# Change the baseline font\n",
    "mpl.rcParams['font.family'] = 'sans-serif'\n",
    "mpl.rcParams['font.sans-serif'] = ['Arial']\n",
    "#Create the figure\n",
    "fig = plt.figure( figsize = (6, 4) )\n",
    "ax = fig.add_subplot(1,1,1)\n",
    "# We should add a label to our dataset that will go into a legend\n",
    "ax.plot(x, y, label = \"Quadratic\", color = 'steelblue', linewidth = 3, marker = 'o', markersize = 10)\n",
    "# Now we can label the axes. Always label your axes! Who knows what is in the graph otherwise\n",
    "font_size = 15\n",
    "ax.set_xlabel(\"$x$\", fontsize = 2*font_size, **helvetica_font)\n",
    "ax.set_ylabel(\"$f(x)$\", fontsize = 1.6*font_size, **helvetica_font)\n",
    "# Display legend\n",
    "ax.legend(loc='best', frameon=False, fontsize = font_size, markerscale = 1.2)\n",
    "#Adding a label\n",
    "ax.text(90, 15, \"(A)\", fontsize = 1.2 * font_size)\n",
    "#Turn off the spines\n",
    "for axis in ['bottom','left']:\n",
    "    ax.spines[axis].set_linewidth(2)\n",
    "    ax.spines[axis].set_position((\"axes\", -0.02))\n",
    "for axis in ['top','right']:\n",
    "    ax.spines[axis].set_visible(False)\n",
    "#We'll also need to turn off the ticks on the axes that we turned off\n",
    "ax.yaxis.set_ticks_position('left')\n",
    "ax.xaxis.set_ticks_position('bottom')\n",
    "#Change the y-scale to log\n",
    "ax.set_yscale('log')"
   ]
  },
  {
   "cell_type": "markdown",
   "metadata": {},
   "source": [
    "And of course we can save the figure. To do that we use the `plt` command and just say `savefig()`. The file extension that we give in the filename determines the type of image file. You can choose to save the image as a `jpg`, `png`, `eps`, or `pdf`."
   ]
  },
  {
   "cell_type": "code",
   "execution_count": 96,
   "metadata": {
    "collapsed": false
   },
   "outputs": [
    {
     "data": {
      "image/png": "[encoded data removed]",
      "text/plain": [
       "<matplotlib.figure.Figure at 0x10b599d68>"
      ]
     },
     "metadata": {},
     "output_type": "display_data"
    }
   ],
   "source": [
    "# Change the baseline font\n",
    "mpl.rcParams['font.family'] = 'sans-serif'\n",
    "mpl.rcParams['font.sans-serif'] = ['Arial']\n",
    "#Create the figure\n",
    "fig = plt.figure( figsize = (6, 4) )\n",
    "ax = fig.add_subplot(1,1,1)\n",
    "# We should add a label to our dataset that will go into a legend\n",
    "ax.plot(x, y, label = \"Quadratic\", color = 'steelblue', linewidth = 3, marker = 'o', markersize = 10)\n",
    "# Now we can label the axes. Always label your axes! Who knows what is in the graph otherwise\n",
    "font_size = 15\n",
    "ax.set_xlabel(\"$x$\", fontsize = 2*font_size, **helvetica_font)\n",
    "ax.set_ylabel(\"$f(x)$\", fontsize = 1.6*font_size, **helvetica_font)\n",
    "# Display legend\n",
    "ax.legend(loc='best', frameon=False, fontsize = font_size, markerscale = 1.2)\n",
    "#Adding a label\n",
    "ax.text(90, 15, \"(A)\", fontsize = 1.2 * font_size)\n",
    "#Turn off the spines\n",
    "for axis in ['bottom','left']:\n",
    "    ax.spines[axis].set_linewidth(2)\n",
    "    ax.spines[axis].set_position((\"axes\", -0.02))\n",
    "for axis in ['top','right']:\n",
    "    ax.spines[axis].set_visible(False)\n",
    "#We'll also need to turn off the ticks on the axes that we turned off\n",
    "ax.yaxis.set_ticks_position('left')\n",
    "ax.xaxis.set_ticks_position('bottom')\n",
    "#Change the y-scale to log\n",
    "ax.set_yscale('log')\n",
    "#Save the figure\n",
    "plt.savefig('quadratic_logscale_half_frame.png')"
   ]
  },
  {
   "cell_type": "markdown",
   "metadata": {},
   "source": [
    "# Now for all of these other plot types\n",
    "\n",
    "There is far more than just a line plot in matplotlib. We can make a `scatter`, `bar`, `histogram`, `box plots`, and `violin plots`. \n",
    "\n",
    "You can see some simple examples of all of these types at the Matplotlib lib [page](http://matplotlib.org/gallery.html).\n",
    "\n",
    "Here we'll just show you how to plot a histogram."
   ]
  },
  {
   "cell_type": "code",
   "execution_count": 98,
   "metadata": {
    "collapsed": false
   },
   "outputs": [
    {
     "data": {
      "text/plain": [
       "<matplotlib.legend.Legend at 0x10bf7f2b0>"
      ]
     },
     "execution_count": 98,
     "metadata": {},
     "output_type": "execute_result"
    },
    {
     "data": {
      "image/png": "[encoded data removed]",
      "text/plain": [
       "<matplotlib.figure.Figure at 0x10bf33588>"
      ]
     },
     "metadata": {},
     "output_type": "display_data"
    }
   ],
   "source": [
    "fig = plt.figure( figsize = (6, 4.5) )\n",
    "sub1 = fig.add_subplot(1,1,1)\n",
    "\n",
    "# Set baseline font size\n",
    "font_size = 15\n",
    "\n",
    "# Format graph frame and tick marks\n",
    "sub1.yaxis.set_ticks_position('left')\n",
    "sub1.xaxis.set_ticks_position('bottom')\n",
    "sub1.tick_params(axis = 'both', which = 'major', length = 7, width = 2, direction = 'out', \n",
    "                 pad = 10, labelsize = font_size)\n",
    "sub1.tick_params(axis = 'both', which = 'minor', length = 5, width = 2, direction = 'out', \n",
    "                 labelsize = 0.6 * font_size)\n",
    "for axis in ['bottom','left']:\n",
    "    sub1.spines[axis].set_linewidth(2)\n",
    "    sub1.spines[axis].set_position((\"axes\", -0.02))\n",
    "for axis in ['top','right']:\n",
    "    sub1.spines[axis].set_visible(False)\n",
    "\n",
    "# Calculate and plot histogram\n",
    "n, bins, patches = sub1.hist(rv1, 20, normed = 1, rwidth = 0.75, color = \"g\", alpha = 0.5, histtype = \"bar\",\n",
    "                             label = \"Uniform\", cumulative = False)\n",
    "\n",
    "# Format axes \n",
    "sub1.set_xlabel(\"x\", fontsize = 1.6 * font_size)\n",
    "sub1.set_ylabel(\"Probability density\", fontsize = 1.6 * font_size)\n",
    "\n",
    "# Format legend\n",
    "sub1.legend(loc = \"best\", frameon = False, markerscale = 1.8, fontsize = font_size)"
   ]
  },
  {
   "cell_type": "markdown",
   "metadata": {},
   "source": [
    "And now two histograms!"
   ]
  },
  {
   "cell_type": "code",
   "execution_count": 100,
   "metadata": {
    "collapsed": false
   },
   "outputs": [
    {
     "data": {
      "text/plain": [
       "<matplotlib.legend.Legend at 0x10c3022b0>"
      ]
     },
     "execution_count": 100,
     "metadata": {},
     "output_type": "execute_result"
    },
    {
     "data": {
      "image/png": "[encoded data removed]",
      "text/plain": [
       "<matplotlib.figure.Figure at 0x10c316da0>"
      ]
     },
     "metadata": {},
     "output_type": "display_data"
    }
   ],
   "source": [
    "fig = plt.figure( figsize = (6, 4.5) )\n",
    "sub1 = fig.add_subplot(1,1,1)\n",
    "\n",
    "# Set baseline font size\n",
    "font_size = 15\n",
    "\n",
    "# Format graph frame and tick marks\n",
    "sub1.yaxis.set_ticks_position('left')\n",
    "sub1.xaxis.set_ticks_position('bottom')\n",
    "sub1.tick_params(axis = 'both', which = 'major', length = 7, width = 2, direction = 'out', \n",
    "                 pad = 10, labelsize = font_size)\n",
    "sub1.tick_params(axis = 'both', which = 'minor', length = 5, width = 2, direction = 'out', \n",
    "                 labelsize = 0.6 * font_size)\n",
    "for axis in ['bottom','left']:\n",
    "    sub1.spines[axis].set_linewidth(2)\n",
    "    sub1.spines[axis].set_position((\"axes\", -0.02))\n",
    "for axis in ['top','right']:\n",
    "    sub1.spines[axis].set_visible(False)\n",
    "\n",
    "# Calculate and plot histogram\n",
    "n1, bins1, patches1 = sub1.hist([rv1, rv2], 20, normed = 1, rwidth = 0.75, color = [\"g\", \"r\"], alpha = 0.5, \n",
    "                                label = [\"Uniform (N=1000)\", \"Uniform (N = 10000)\"], cumulative = False)\n",
    "\n",
    "# Format axes \n",
    "sub1.set_xlabel(\"x\", fontsize = 1.6 * font_size)\n",
    "sub1.set_ylabel(\"Probability density\", fontsize = 1.6 * font_size)\n",
    "\n",
    "# Format legend\n",
    "sub1.legend(loc = \"best\", frameon = False, markerscale = 1.8, fontsize = font_size)"
   ]
  },
  {
   "cell_type": "code",
   "execution_count": null,
   "metadata": {
    "collapsed": true
   },
   "outputs": [],
   "source": []
  }
 ],
 "metadata": {
  "kernelspec": {
   "display_name": "Python 3",
   "language": "python",
   "name": "python3"
  },
  "language_info": {
   "codemirror_mode": {
    "name": "ipython",
    "version": 3
   },
   "file_extension": ".py",
   "mimetype": "text/x-python",
   "name": "python",
   "nbconvert_exporter": "python",
   "pygments_lexer": "ipython3",
   "version": "3.4.3"
  }
 },
 "nbformat": 4,
 "nbformat_minor": 0
}
