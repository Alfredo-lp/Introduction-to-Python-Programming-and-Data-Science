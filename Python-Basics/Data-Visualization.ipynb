{
 "cells": [
  {
   "cell_type": "markdown",
   "metadata": {},
   "source": [
    "# Plotting data with matplotlib"
   ]
  },
  {
   "cell_type": "markdown",
   "metadata": {},
   "source": [
    "### Import packages that will be needed later"
   ]
  },
  {
   "cell_type": "code",
   "execution_count": null,
   "metadata": {
    "collapsed": false
   },
   "outputs": [],
   "source": [
    "import sys\n",
    "import numpy as np\n",
    "import random as rand \n",
    "import matplotlib as mpl\n",
    "import matplotlib.pyplot as plt\n",
    "import matplotlib.cm as cm"
   ]
  },
  {
   "cell_type": "code",
   "execution_count": null,
   "metadata": {
    "collapsed": false
   },
   "outputs": [],
   "source": [
    "%matplotlib inline"
   ]
  },
  {
   "cell_type": "markdown",
   "metadata": {},
   "source": [
    "### Create data sets"
   ]
  },
  {
   "cell_type": "code",
   "execution_count": null,
   "metadata": {
    "collapsed": false
   },
   "outputs": [],
   "source": [
    "x = range(5,100,5)\n",
    "y = [i**2 for i in x]\n",
    "z = [100*i for i in x]\n",
    "rv1 = [rand.random() for i in range(1000)]\n",
    "rv2 = [rand.random() for i in range(10000)]"
   ]
  },
  {
   "cell_type": "markdown",
   "metadata": {},
   "source": [
    "## A basic plot"
   ]
  },
  {
   "cell_type": "code",
   "execution_count": null,
   "metadata": {
    "collapsed": false
   },
   "outputs": [],
   "source": [
    "fig = plt.figure( figsize = (6, 4) )\n",
    "sub1 = fig.add_subplot(1,1,1)\n",
    "\n",
    "# Add data set\n",
    "sub1.plot(x, y)\n",
    "\n",
    "plt.show()"
   ]
  },
  {
   "cell_type": "markdown",
   "metadata": {},
   "source": [
    "### Adding axes labels and legend for good record keeping"
   ]
  },
  {
   "cell_type": "code",
   "execution_count": null,
   "metadata": {
    "collapsed": false
   },
   "outputs": [],
   "source": [
    "fig = plt.figure( figsize = (6, 4) )\n",
    "sub1 = fig.add_subplot(1,1,1)\n",
    "\n",
    "# Add data set and label\n",
    "sub1.plot(x, y, label = \"Quadratic\")\n",
    "\n",
    "# Format and label axes\n",
    "sub1.set_xlabel(\"x\")\n",
    "sub1.set_ylabel(\"f(x)\")\n",
    "\n",
    "# Display legend\n",
    "sub1.legend()\n",
    "\n",
    "plt.show()"
   ]
  },
  {
   "cell_type": "markdown",
   "metadata": {},
   "source": [
    "### Ok, we covered all the basics, but the figure looks like crap.  How do we make it visually appealing?"
   ]
  },
  {
   "cell_type": "markdown",
   "metadata": {},
   "source": [
    "## Full frame, log-log plot"
   ]
  },
  {
   "cell_type": "code",
   "execution_count": null,
   "metadata": {
    "collapsed": false
   },
   "outputs": [],
   "source": [
    "fig = plt.figure( figsize = (6, 4.5) )\n",
    "sub1 = fig.add_subplot(1,1,1)\n",
    "\n",
    "# Set baseline font size\n",
    "font_size = 15\n",
    "\n",
    "# Format graph frame and tick marks\n",
    "sub1.tick_params(axis = 'both', which = 'major', length = 7, width = 2, labelsize = font_size, \n",
    "                 direction = 'in', pad = 10)\n",
    "sub1.tick_params(axis = 'both', which = 'minor', length = 5, width = 2, labelsize = 10, direction = 'in')\n",
    "\n",
    "for axis in ['bottom', 'left', 'top', 'right']:\n",
    "    sub1.spines[axis].set_linewidth(2)\n",
    "\n",
    "# Add and format data sets\n",
    "sub1.plot(x, y, \"ro-\", label = \"Quadratic\")\n",
    "sub1.plot(x, z, \"bo-\", label = \"Linear\")\n",
    "\n",
    "# Format axes \n",
    "axis_label = 25\n",
    "sub1.set_xlabel(\"$x$\", fontsize = 1.6 * font_size)\n",
    "sub1.set_ylabel(\"$f(x)$\", fontsize = 1.6 * font_size)\n",
    "sub1.set_yscale(\"log\")\n",
    "sub1.set_xscale(\"log\")\n",
    "\n",
    "# Add and format legend and add necessary text\n",
    "sub1.legend(loc = \"best\", frameon = False, markerscale = 1.8, fontsize = font_size)\n",
    "sub1.text(50, 20, \"(A)\", fontsize = 1.3 * font_size )\n",
    "\n",
    "plt.show()"
   ]
  },
  {
   "cell_type": "markdown",
   "metadata": {},
   "source": [
    "## Partial frame with axis padding"
   ]
  },
  {
   "cell_type": "code",
   "execution_count": null,
   "metadata": {
    "collapsed": false
   },
   "outputs": [],
   "source": [
    "fig = plt.figure( figsize = (6, 4.5) )\n",
    "sub1 = fig.add_subplot(1,1,1)\n",
    "\n",
    "# Set baseline font size\n",
    "font_size = 15\n",
    "\n",
    "# Format graph frame and tick marks\n",
    "sub1.yaxis.set_ticks_position('left')\n",
    "sub1.xaxis.set_ticks_position('bottom')\n",
    "sub1.tick_params(axis = 'both', which = 'major', length = 7, width = 2, direction = 'out', \n",
    "                 pad = 10, labelsize = font_size)\n",
    "sub1.tick_params(axis = 'both', which = 'minor', length = 5, width = 2, direction = 'out', \n",
    "                labelsize = 0.6 * font_size)\n",
    "for axis in ['bottom','left']:\n",
    "    sub1.spines[axis].set_linewidth(2)\n",
    "    sub1.spines[axis].set_position((\"axes\", -0.02))\n",
    "for axis in ['top','right']:\n",
    "    sub1.spines[axis].set_visible(False)\n",
    "\n",
    "\n",
    "# Add and format data sets\n",
    "sub1.plot(x, y, \"ro-\", label = \"Quadratic\")\n",
    "sub1.plot(x, z, \"bo-\", label = \"Linear\")\n",
    "\n",
    "# Format axes \n",
    "sub1.set_xlabel(\"$x$\", fontsize = 1.6 * font_size)\n",
    "sub1.set_ylabel(\"$f(x)$\", fontsize = 1.6 * font_size)\n",
    "\n",
    "# Format legend\n",
    "sub1.legend(loc = \"best\", frameon = False, markerscale = 1.8, fontsize = font_size)\n",
    "sub1.text(88, 450, \"(A)\", fontsize = 1.3 * font_size)\n",
    "\n",
    "plt.show()"
   ]
  },
  {
   "cell_type": "markdown",
   "metadata": {},
   "source": [
    "## Basic histogram"
   ]
  },
  {
   "cell_type": "code",
   "execution_count": null,
   "metadata": {
    "collapsed": false
   },
   "outputs": [],
   "source": [
    "fig = plt.figure( figsize = (6, 4.5) )\n",
    "sub1 = fig.add_subplot(1,1,1)\n",
    "\n",
    "# Set baseline font size\n",
    "font_size = 15\n",
    "\n",
    "# Format graph frame and tick marks\n",
    "sub1.yaxis.set_ticks_position('left')\n",
    "sub1.xaxis.set_ticks_position('bottom')\n",
    "sub1.tick_params(axis = 'both', which = 'major', length = 7, width = 2, direction = 'out', \n",
    "                 pad = 10, labelsize = font_size)\n",
    "sub1.tick_params(axis = 'both', which = 'minor', length = 5, width = 2, direction = 'out', \n",
    "                 labelsize = 0.6 * font_size)\n",
    "for axis in ['bottom','left']:\n",
    "    sub1.spines[axis].set_linewidth(2)\n",
    "    sub1.spines[axis].set_position((\"axes\", -0.02))\n",
    "for axis in ['top','right']:\n",
    "    sub1.spines[axis].set_visible(False)\n",
    "\n",
    "# Calculate and plot histogram\n",
    "n, bins, patches = sub1.hist(rv1, 20, normed = 1, rwidth = 0.75, color = \"g\", alpha = 0.5, histtype = \"bar\",\n",
    "                             label = \"Uniform\", cumulative = False)\n",
    "\n",
    "# Format axes \n",
    "sub1.set_xlabel(\"x\", fontsize = 1.6 * font_size)\n",
    "sub1.set_ylabel(\"Probability density\", fontsize = 1.6 * font_size)\n",
    "\n",
    "# Format legend\n",
    "sub1.legend(loc = \"best\", frameon = False, markerscale = 1.8, fontsize = font_size)\n",
    "\n",
    "\n",
    "plt.show()\n",
    "\n",
    "# Check for more details: http://matplotlib.org/1.3.1/examples/pylab_examples/histogram_demo_extended.html"
   ]
  },
  {
   "cell_type": "markdown",
   "metadata": {},
   "source": [
    "## Histograms of two data sets"
   ]
  },
  {
   "cell_type": "code",
   "execution_count": null,
   "metadata": {
    "collapsed": false
   },
   "outputs": [],
   "source": [
    "fig = plt.figure( figsize = (6, 4.5) )\n",
    "sub1 = fig.add_subplot(1,1,1)\n",
    "\n",
    "# Set baseline font size\n",
    "font_size = 15\n",
    "\n",
    "# Format graph frame and tick marks\n",
    "sub1.yaxis.set_ticks_position('left')\n",
    "sub1.xaxis.set_ticks_position('bottom')\n",
    "sub1.tick_params(axis = 'both', which = 'major', length = 7, width = 2, direction = 'out', \n",
    "                 pad = 10, labelsize = font_size)\n",
    "sub1.tick_params(axis = 'both', which = 'minor', length = 5, width = 2, direction = 'out', \n",
    "                 labelsize = 0.6 * font_size)\n",
    "for axis in ['bottom','left']:\n",
    "    sub1.spines[axis].set_linewidth(2)\n",
    "    sub1.spines[axis].set_position((\"axes\", -0.02))\n",
    "for axis in ['top','right']:\n",
    "    sub1.spines[axis].set_visible(False)\n",
    "\n",
    "# Calculate and plot histogram\n",
    "n1, bins1, patches1 = sub1.hist([rv1, rv2], 20, normed = 1, rwidth = 0.75, color = [\"g\", \"r\"], alpha = 0.5, \n",
    "                                label = [\"Uniform (N=1000)\", \"Uniform (N = 10000)\"], cumulative = False)\n",
    "\n",
    "# Format axes \n",
    "sub1.set_xlabel(\"x\", fontsize = 1.6 * font_size)\n",
    "sub1.set_ylabel(\"Probability density\", fontsize = 1.6 * font_size)\n",
    "\n",
    "# Format legend\n",
    "sub1.legend(loc = \"best\", frameon = False, markerscale = 1.8, fontsize = font_size)\n",
    "\n",
    "\n",
    "plt.show()\n"
   ]
  },
  {
   "cell_type": "markdown",
   "metadata": {},
   "source": [
    "## 2D density plots"
   ]
  },
  {
   "cell_type": "code",
   "execution_count": null,
   "metadata": {
    "collapsed": false
   },
   "outputs": [],
   "source": [
    "# Make some fake data\n",
    "row_labels = ['Do Laundry', 'Excercise', 'Clean Room', 'Cook Dinner']\n",
    "column_labels = ['Sat.', 'Mon.', 'Tues.', 'Wed', 'Thurs.', 'Fri.', 'Sun.']\n",
    "# make a 4x7 np.array\n",
    "data = np.array([np.sin(range(7)) + 1, \n",
    "                 np.cos(range(7)) + 1,\n",
    "                 np.cos(range(0, 14, 2)) + 1,\n",
    "                 np.ones(7) + 0.5]) / 2.0\n",
    "\n",
    "# ---- Start Makeing Figure ----\n",
    "\n",
    "fig = plt.figure(figsize=(8, 5))\n",
    "ax = plt.subplot(111)\n",
    "\n",
    "heatmap = ax.pcolormesh(data,\n",
    "                  \n",
    "              ## --- Colors! --- \n",
    "              ## specify color-map (ie. a color scheme)\n",
    "              cmap=cm.Blues, # standard colormap\n",
    "              \n",
    "              ## To use log-scale for coloring patches, uncomment next line:\n",
    "              #norm=mpl.colors.LogNorm(vmin=data.min(), vmax=data.max()),\n",
    "              ## find other scaling options from: \n",
    "              ## http://matplotlib.org/api/colors_api.html\n",
    "              \n",
    "              \n",
    "              ## specify the min and max values for coloring.\n",
    "              vmin=0.0, \n",
    "              vmax=1.0,\n",
    "                                      \n",
    "              ## --- cell borders  --- \n",
    "              #edgecolors='black', # color of lines between cells.\n",
    "              #linewidths=0.05,     # width of lines between cells.\n",
    "             )\n",
    "\n",
    "### Labels ! ###\n",
    "\n",
    "# adds row and column labels\n",
    "ax.set_xticklabels(column_labels, minor=False)\n",
    "ax.set_yticklabels(row_labels, minor=False)\n",
    "\n",
    "# put the labels (called major ticks) at the middle of each cell\n",
    "ax.set_xticks(np.arange(data.shape[1])+0.5, minor=False)\n",
    "ax.set_yticks(np.arange(data.shape[0])+0.5, minor=False)\n",
    "\n",
    "# pick which sides for which you want labels\n",
    "ax.tick_params(labelbottom='off', labeltop='on', \n",
    "               labelleft='on', labelright='off',\n",
    "               labelsize=15 # size of \n",
    "              )\n",
    "\n",
    "# If the xtick labels are long, rotate them\n",
    "plt.xticks(rotation=90) # set rotation using degrees.\n",
    "\n",
    "\n",
    "### Other Asthectics ###\n",
    "\n",
    "# flips the order of elements on y axis\n",
    "ax.invert_yaxis()  \n",
    "\n",
    "ax.set_frame_on(False) # turns off the boarder\n",
    "ax.grid(False) # turn off any grid lines\n",
    "\n",
    "\n",
    "# remove the axis ticks while keeping the labels\n",
    "for t in ax.xaxis.get_major_ticks():\n",
    "    t.tick1On = False\n",
    "    t.tick2On = False\n",
    "for t in ax.yaxis.get_major_ticks():\n",
    "    t.tick1On = False\n",
    "    t.tick2On = False\n",
    "    \n",
    "## ---  Colorbar Options ---\n",
    "# create the colorbar\n",
    "cbar = plt.colorbar(heatmap, #the heatmap\n",
    "                    orientation= 'vertical', # or 'horizontal', \n",
    "                    # fraction of main axis to use for colorbar \n",
    "                    fraction=0.1, \n",
    "                    pad=0.05, # distance from main plot\n",
    "                   )\n",
    "\n",
    "# Tick parameters for colorbar\n",
    "cbar.set_ticks([0.0, 0.5, 1.0])\n",
    "#cbar.set_ticklabels(['low', 'mid', 'high'])\n",
    "cbar.ax.tick_params(size=5, labelsize=15)\n",
    "\n",
    "# Label for the colorbar\n",
    "cbar.set_label('probability', \n",
    "               rotation=270, # label orientation\n",
    "               labelpad=30, # label distance from bar\n",
    "               size=15, # size of text\n",
    "              )\n",
    "\n",
    "# make boarderline much fainter\n",
    "cbar.outline.set_linewidth(0.1) \n",
    "plt.show()"
   ]
  },
  {
   "cell_type": "markdown",
   "metadata": {},
   "source": [
    "# 3-dimensions"
   ]
  },
  {
   "cell_type": "code",
   "execution_count": null,
   "metadata": {
    "collapsed": false
   },
   "outputs": [],
   "source": [
    "#We have to import an additional package to use 3D plotting\n",
    "from mpl_toolkits.mplot3d import Axes3D\n",
    "\n",
    "#We start the figure and when we add a subplot we must tell it to project it in 3D\n",
    "fig = plt.figure()\n",
    "ax = fig.add_subplot(111, projection='3d')\n",
    "\n",
    "#This is just a simple scatter of dots in 3 dimensions\n",
    "ax.scatter([i * rand.random() for i in x], \\\n",
    "           [i * rand.random() for i in y], \\\n",
    "           [i * rand.random() for i in z],\n",
    "           color='steelblue')\n",
    "\n",
    "#Labeling works the same, we just have a z-Axis now\n",
    "ax.set_xlabel('X')\n",
    "ax.set_ylabel('Y')\n",
    "ax.set_zlabel('Z')\n",
    "\n",
    "#The angle of the view is changed by playing with the elevation and azimuthal parameters\n",
    "#in the view_init function \n",
    "#ax.view_init(elev=20, azim=12)"
   ]
  },
  {
   "cell_type": "code",
   "execution_count": null,
   "metadata": {
    "collapsed": false
   },
   "outputs": [],
   "source": [
    "#This is a contour plot, for this we will just be getting test data\n",
    "from mpl_toolkits.mplot3d import axes3d\n",
    "\n",
    "#Start a new figure and specify that we want a 3d projection again\n",
    "fig = plt.figure()\n",
    "ax = fig.add_subplot(111, projection='3d')\n",
    "\n",
    "#We're just pulling some test data for a surface from this function\n",
    "#You can inspect one of the variables to see that it is a 2D array\n",
    "#Each array is a 120x120 matrix\n",
    "X, Y, Z = axes3d.get_test_data(0.05)\n",
    "\n",
    "#Try changing X\n",
    "#Hint: you can try to change it to [list(range(1, 121)) for x in range(120)]\n",
    "\n",
    "#The plot_wireframe function accepts the X, Y, and Z\n",
    "#The rstride, row stride, and cstride, column stride, control the steps between \n",
    "#plotted points on the wireframe\n",
    "ax.plot_wireframe(X, Y, Z, rstride=10, cstride=10)\n",
    "\n",
    "#Labeling\n",
    "ax.set_xlabel('X')\n",
    "ax.set_ylabel('Y')\n",
    "ax.set_zlabel('Z')"
   ]
  },
  {
   "cell_type": "code",
   "execution_count": null,
   "metadata": {
    "collapsed": false
   },
   "outputs": [],
   "source": [
    "from matplotlib.ticker import LinearLocator, FormatStrFormatter\n",
    "\n",
    "#We start the figure and add a subplot that has a 3d projection\n",
    "fig = plt.figure()\n",
    "ax = fig.add_subplot(111, projection='3d')\n",
    "\n",
    "#First we create a X and Y arrays, then a 2D grid of the 2\n",
    "X = np.arange(-5, 5, 0.25)\n",
    "Y = np.arange(-5, 5, 0.25)\n",
    "X, Y = np.meshgrid(X, Y)\n",
    "\n",
    "#Next We will just make a function that is the Euclidean distance from the origin\n",
    "#and then feed that function into a sine function so that the z-value and graph color\n",
    "#varies as a sine wave\n",
    "R = np.sqrt(X**2 + Y**2)\n",
    "Z = np.sin(R)\n",
    "\n",
    "#We plot using the plot_surface function, it has the same construction as\n",
    "#the previous 3D plotting functions\n",
    "surf = ax.plot_surface(X, Y, Z, \n",
    "                       rstride=1, #Changes the array row step size\n",
    "                       cstride=1, #Changes the column row step size,\n",
    "                       cmap=cm.coolwarm, #Sets the colormap\n",
    "                       linewidth=0) #Changes the linewidth)\n",
    "\n",
    "#We can set the z-limit in the same manner as the x- and y-limits\n",
    "ax.set_zlim(-1.01, 1.01)\n",
    "\n",
    "#We can control the number of ticks and how the tick labels are formatted \n",
    "#with the following two functions. \n",
    "ax.zaxis.set_major_locator(LinearLocator(10))\n",
    "ax.zaxis.set_major_formatter(FormatStrFormatter('%.02f'))\n",
    "\n",
    "#We add the colorbar using this function, we must give it the original plot\n",
    "#(so the graph knows what values the colors correspond to)\n",
    "#The shrink and aspect arguments are to help make the colorbar the same size\n",
    "#As the rotated z-axis\n",
    "fig.colorbar(surf, shrink=0.5, aspect=6)"
   ]
  },
  {
   "cell_type": "code",
   "execution_count": null,
   "metadata": {
    "collapsed": false
   },
   "outputs": [],
   "source": []
  }
 ],
 "metadata": {
  "kernelspec": {
   "display_name": "Python 3",
   "language": "python",
   "name": "python3"
  },
  "language_info": {
   "codemirror_mode": {
    "name": "ipython",
    "version": 3
   },
   "file_extension": ".py",
   "mimetype": "text/x-python",
   "name": "python",
   "nbconvert_exporter": "python",
   "pygments_lexer": "ipython3",
   "version": "3.4.3"
  }
 },
 "nbformat": 4,
 "nbformat_minor": 0
}
