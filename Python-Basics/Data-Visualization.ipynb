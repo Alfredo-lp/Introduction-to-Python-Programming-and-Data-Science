{
 "cells": [
  {
   "cell_type": "code",
   "execution_count": 2,
   "metadata": {
    "collapsed": false
   },
   "outputs": [
    {
     "data": {
      "text/html": [
       "<style>\n",
       "    @font-face {\n",
       "        font-family: \"Computer Modern\";\n",
       "        src: url('http://9dbb143991406a7c655e-aa5fcb0a5a4ec34cff238a2d56ca4144.r56.cf5.rackcdn.com/cmunss.otf');\n",
       "    }\n",
       "    @font-face {\n",
       "        font-family: \"Computer Modern\";\n",
       "        font-weight: bold;\n",
       "        src: url('http://9dbb143991406a7c655e-aa5fcb0a5a4ec34cff238a2d56ca4144.r56.cf5.rackcdn.com/cmunsx.otf');\n",
       "    }\n",
       "    @font-face {\n",
       "        font-family: \"Computer Modern\";\n",
       "        font-style: oblique;\n",
       "        src: url('http://9dbb143991406a7c655e-aa5fcb0a5a4ec34cff238a2d56ca4144.r56.cf5.rackcdn.com/cmunsi.otf');\n",
       "    }\n",
       "    @font-face {\n",
       "        font-family: \"Computer Modern\";\n",
       "        font-weight: bold;\n",
       "        font-style: oblique;\n",
       "        src: url('http://9dbb143991406a7c655e-aa5fcb0a5a4ec34cff238a2d56ca4144.r56.cf5.rackcdn.com/cmunso.otf');\n",
       "    }\n",
       "    h1 {\n",
       "        font-family: Helvetica, serif;\n",
       "    }\n",
       "    h4{\n",
       "        margin-top:12px;\n",
       "        margin-bottom: 3px;\n",
       "       }\n",
       "    div.text_cell_render{\n",
       "        font-family: Computer Modern, \"Helvetica Neue\", Arial, Helvetica, Geneva, sans-serif;\n",
       "        line-height: 145%;\n",
       "        font-size: 130%;\n",
       "        margin-left:auto;\n",
       "        margin-right:auto;\n",
       "    }\n",
       "    .CodeMirror{\n",
       "            font-family: \"Source Code Pro\", source-code-pro,Consolas, monospace;\n",
       "    }\n",
       "    .text_cell_render h5 {\n",
       "        font-weight: 300;\n",
       "        font-size: 22pt;\n",
       "        color: #4057A1;\n",
       "        font-style: italic;\n",
       "        margin-bottom: .5em;\n",
       "        margin-top: 0.5em;\n",
       "        display: block;\n",
       "    }\n",
       "    \n",
       "    .warning{\n",
       "        color: rgb( 240, 20, 20 )\n",
       "        }  \n",
       "</style>\n",
       "<script>\n",
       "    MathJax.Hub.Config({\n",
       "                        TeX: {\n",
       "                           extensions: [\"AMSmath.js\"]\n",
       "                           },\n",
       "                tex2jax: {\n",
       "                    inlineMath: [ ['$','$'], [\"\\\\(\",\"\\\\)\"] ],\n",
       "                    displayMath: [ ['$$','$$'], [\"\\\\[\",\"\\\\]\"] ]\n",
       "                },\n",
       "                displayAlign: 'center', // Change this to 'center' to center equations.\n",
       "                \"HTML-CSS\": {\n",
       "                    styles: {'.MathJax_Display': {\"margin\": 4}}\n",
       "                }\n",
       "        });\n",
       "</script>\n"
      ],
      "text/plain": [
       "<IPython.core.display.HTML object>"
      ]
     },
     "execution_count": 2,
     "metadata": {},
     "output_type": "execute_result"
    }
   ],
   "source": [
    "from IPython.core.display import HTML\n",
    "from IPython.lib.display import YouTubeVideo\n",
    "def css_styling():\n",
    "    styles = open(\"../styles/custom.css\", \"r\").read()\n",
    "    return HTML(styles)\n",
    "css_styling()"
   ]
  },
  {
   "cell_type": "markdown",
   "metadata": {},
   "source": [
    "# Data visualization\n",
    "\n",
    "Visualizing your data is a **key** component of data analysis, no matter how big or small your data is.  Our minds are hardwired to process visual information, in fact **one-third** of our brain is dedicated to image processing and **40% of all** nerve fibers connected to the brain come from the retina. Visualization is essentially a high-speed link to your cognitive systems.\n",
    "\n",
    "Let me show you a quick example."
   ]
  },
  {
   "cell_type": "markdown",
   "metadata": {},
   "source": [
    "## Traffic accidents\n",
    "\n",
    "Let's look at this image together, it plots the number of accidents per month against the time of day. Then tell me when accidents are likely to occur?\n",
    "\n",
    "<img src='../images/visualization_raw_chart.png'></img>"
   ]
  },
  {
   "cell_type": "markdown",
   "metadata": {},
   "source": [
    "Now let's try something different. This is the same chart, but now I've added a color scale. The individual numbers have a deeper shade of blue the more accidents that occur during that time period.\n",
    "\n",
    "Now tell me, when are accidents most likely to occur? How long did it take you to figure it out?\n",
    "\n",
    "<img src = '../images/visualization_heatmap.png'></img>"
   ]
  },
  {
   "cell_type": "markdown",
   "metadata": {},
   "source": [
    "# Effective visualizations make a difference\n",
    "\n",
    "Effective visualizations allow us to make accurate decisions quicker. More importantly they help us make **correct** decisions. When you make a visualization, you're actually trying to make a point. The entire point is to persuade your audience of some fact that you know to be true. \n",
    "\n",
    "Whether you accept this statement or not, it is what happens. If you don't construct your visualization in a way that informs your audience and allows them to make a correct decision they can easily reach a different conclusion. "
   ]
  },
  {
   "cell_type": "markdown",
   "metadata": {},
   "source": [
    "# Creating a poor visualization can be disastrous\n",
    "\n",
    "Literally, disastrous. \n",
    "\n",
    "Does everyone remember the 1986 Challenger shuttle launch? The Challenger was a NASA Space Shuttle that exploded upon take-off because the O-rings in the rockets cracked and allowed jet fuel to leak into the combustion chamber."
   ]
  },
  {
   "cell_type": "code",
   "execution_count": 3,
   "metadata": {
    "collapsed": false
   },
   "outputs": [
    {
     "data": {
      "text/html": [
       "\n",
       "        <iframe\n",
       "            width=\"400\"\n",
       "            height=\"300\"\n",
       "            src=\"https://www.youtube.com/embed/lQMuRbCaZ7E?t=7m10s\"\n",
       "            frameborder=\"0\"\n",
       "            allowfullscreen\n",
       "        ></iframe>\n",
       "        "
      ],
      "text/plain": [
       "<IPython.lib.display.YouTubeVideo at 0x104f254e0>"
      ]
     },
     "execution_count": 3,
     "metadata": {},
     "output_type": "execute_result"
    }
   ],
   "source": [
    "#Fast-forward to 7:10\n",
    "YouTubeVideo('lQMuRbCaZ7E?t=7m10s')"
   ]
  },
  {
   "cell_type": "markdown",
   "metadata": {},
   "source": [
    "## Why did the O-rings crack?\n",
    "\n",
    "There were rumblings at NASA prior to the Challenger launch that defects in the O-rings occurred at cold temperatures. This data was looked at by a large number of people, but this is how it was presented to senior management (the people actually tasked with making the decision of **whether it was safe or not** to launch the rocket).\n",
    "\n",
    "### When Challenger was launched the predicted temperature was 27 F.\n",
    "### Would you have not launched the shuttle based on this graph?\n",
    "\n",
    "<img src = '../images/challenger_original.png'></img>"
   ]
  },
  {
   "cell_type": "markdown",
   "metadata": {},
   "source": [
    "Here is that graph remade.\n",
    "\n",
    "### Now would you have not launched the shuttle?\n",
    "\n",
    "<img src='../images/challenger_remade.png'></img>"
   ]
  },
  {
   "cell_type": "markdown",
   "metadata": {},
   "source": [
    "# In NO way does this mean that you should lie with a graph\n",
    "\n",
    "Yes, your purpose is persuade. But that doesn't mean that you should be like Fox News\n",
    "\n",
    "<img src = '../images/fox_news.png'></img>\n",
    "\n",
    "Or any other major cable news network for that matter (they are all awful). The real start of a final graph is identifying the key point that you want to communicate and then figuring out what is the best way to communicate that.\n",
    "\n",
    "**Making a good graph is just like writing a good essay in that regard** (and here you thought that we would never invoke English composition in a programming class). \n",
    "\n",
    "From here on we will focus on the actual nuts and bolts of crafting a graph in Python, but you should keep these principles in mind. If you are interested more on the concepts and best practices of visualization you should read the books by [Edward Tufte](http://www.amazon.com/s/ref=nb_sb_noss_2?url=search-alias%3Daps&field-keywords=edward+tufte&rh=i%3Aaps%2Ck%3Aedward+tufte), he is considered to be one of the leading experts in this field. If you are looking for practical ways to create interactive visualizations on the web, it is my personal belief that you should look at the works of [Mike Bostock](http://bost.ocks.org/mike/) and [Scott Murray](http://alignedleft.com) that use [D3](http://d3js.org)."
   ]
  },
  {
   "cell_type": "markdown",
   "metadata": {},
   "source": [
    "# Plotting in Python\n",
    "\n",
    "A number of plotting packages have emerged for Python in the last 3 years. However, the largest, most complete package is `matplotlib`. `Matplotlib` was created in 2003 and is the oldest Python plotting library that has survived.\n",
    "\n",
    "However, that doesn't mean that it's always the best. If you are a biologist there is the `seaborn` library and if you don't care about your data being public there is a new service called `plot.ly` with a Python library.\n",
    "\n",
    "In any case, `matplotlib` covers the majority of situations to create graphs that users in the class will need. There are also the most stackoverflow answers for the library (which are honestly the actual documentation for it. Don't ever bother going to the actual matplotlib web page for a question), which help new users utilize its features. For these reasons we will cover it in the class."
   ]
  },
  {
   "cell_type": "markdown",
   "metadata": {},
   "source": [
    "## Matplotlib has every option you need\n",
    "### And in most cases too many options\n",
    "\n",
    "If you go poking around on-line you'll read about how `matplotlib` has both a `matlab` style plotting interface to convert engineers and an `object-oriented` interface. **Ignore all of that noise**. What it really means is that we can plot a graph very quickly with `matplotlib`. Let me show you."
   ]
  },
  {
   "cell_type": "code",
   "execution_count": 4,
   "metadata": {
    "collapsed": true
   },
   "outputs": [],
   "source": [
    "%matplotlib inline"
   ]
  },
  {
   "cell_type": "code",
   "execution_count": 5,
   "metadata": {
    "collapsed": true
   },
   "outputs": [],
   "source": [
    "import matplotlib.pyplot as plt"
   ]
  },
  {
   "cell_type": "code",
   "execution_count": 6,
   "metadata": {
    "collapsed": false
   },
   "outputs": [
    {
     "data": {
      "text/plain": [
       "[<matplotlib.lines.Line2D at 0x1065dca58>]"
      ]
     },
     "execution_count": 6,
     "metadata": {},
     "output_type": "execute_result"
    },
    {
     "data": {
      "image/png": "[encoded data removed]",
      "text/plain": [
       "<matplotlib.figure.Figure at 0x10657e1d0>"
      ]
     },
     "metadata": {},
     "output_type": "display_data"
    }
   ],
   "source": [
    "plt.plot([1, 2, 3, 4], [1, 2, 3, 4])"
   ]
  },
  {
   "cell_type": "markdown",
   "metadata": {},
   "source": [
    "**There! That's a plot.**\n",
    "\n",
    "This is that simple, instructive interface that they talk about online when they mention a `matlab` like interface.\n",
    "\n",
    "However, creating a plot like this limits our ability to modify it. In our examples we will use the more `object-oriented` interface. It may seem like it has a lot of cruft, but it greatly expands our power in tweaking the visualization.\n",
    "\n",
    "To create a graph this way we first create a `figure`"
   ]
  },
  {
   "cell_type": "code",
   "execution_count": 7,
   "metadata": {
    "collapsed": false
   },
   "outputs": [
    {
     "data": {
      "text/plain": [
       "<matplotlib.figure.Figure at 0x104f256a0>"
      ]
     },
     "metadata": {},
     "output_type": "display_data"
    }
   ],
   "source": [
    "fig = plt.figure()"
   ]
  },
  {
   "cell_type": "markdown",
   "metadata": {},
   "source": [
    "We can actually pass arguments to the figure, like changing its size."
   ]
  },
  {
   "cell_type": "code",
   "execution_count": 8,
   "metadata": {
    "collapsed": false
   },
   "outputs": [
    {
     "data": {
      "text/plain": [
       "<matplotlib.figure.Figure at 0x1065aa710>"
      ]
     },
     "metadata": {},
     "output_type": "display_data"
    }
   ],
   "source": [
    "fig = plt.figure(figsize = (10, 7))"
   ]
  },
  {
   "cell_type": "markdown",
   "metadata": {},
   "source": [
    "Those dimensions are actually in inches, the first one is the width and the other is the height.\n",
    "\n",
    "Now we have to create something to plot, that something is a set of `axes` inside a `subplot`. `subplot`s let us have multiple graphs inside a single plot. I'll show you it first though."
   ]
  },
  {
   "cell_type": "code",
   "execution_count": 9,
   "metadata": {
    "collapsed": true
   },
   "outputs": [],
   "source": [
    "ax = fig.add_subplot(1, 1, 1)"
   ]
  },
  {
   "cell_type": "markdown",
   "metadata": {},
   "source": [
    "And then plot it (I'm putting all of the commands together here)"
   ]
  },
  {
   "cell_type": "code",
   "execution_count": 10,
   "metadata": {
    "collapsed": false
   },
   "outputs": [
    {
     "data": {
      "text/plain": [
       "[<matplotlib.lines.Line2D at 0x1069b8400>]"
      ]
     },
     "execution_count": 10,
     "metadata": {},
     "output_type": "execute_result"
    },
    {
     "data": {
      "image/png": "[encoded data removed]",
      "text/plain": [
       "<matplotlib.figure.Figure at 0x1069b1b38>"
      ]
     },
     "metadata": {},
     "output_type": "display_data"
    }
   ],
   "source": [
    "fig = plt.figure(figsize = (10, 7))\n",
    "ax = fig.add_subplot(1, 1, 1)\n",
    "ax.plot([1, 2, 3, 4], [1, 2, 3, 4])"
   ]
  },
  {
   "cell_type": "markdown",
   "metadata": {},
   "source": [
    "When we specify subplots the first number is the number of rows of plots. The second number is the number of columns of plots. The third number is the specific plot that you wish to populate. This number goes from 1 to the maximum plot number (num_columns * num_rows). Hopefully this image will make it more clear\n",
    "\n",
    "<img src='../images/matplotlib_subplots.png'></img>"
   ]
  },
  {
   "cell_type": "markdown",
   "metadata": {},
   "source": [
    "And now let me demonstrate it"
   ]
  },
  {
   "cell_type": "code",
   "execution_count": 11,
   "metadata": {
    "collapsed": false
   },
   "outputs": [
    {
     "data": {
      "text/plain": [
       "[<matplotlib.lines.Line2D at 0x106dedba8>]"
      ]
     },
     "execution_count": 11,
     "metadata": {},
     "output_type": "execute_result"
    },
    {
     "data": {
      "image/png": "[encoded data removed]",
      "text/plain": [
       "<matplotlib.figure.Figure at 0x1069b83c8>"
      ]
     },
     "metadata": {},
     "output_type": "display_data"
    }
   ],
   "source": [
    "data = [1, 2, 3, 4]\n",
    "#STart the figure\n",
    "fig = plt.figure(figsize = (4, 8))\n",
    "#Create the first axis\n",
    "ax1 = fig.add_subplot(2, 1, 1)\n",
    "ax1.plot(data, data)\n",
    "#Create the second axis\n",
    "ax2 = fig.add_subplot(2, 1, 2)\n",
    "ax2.plot(data[:2], data[:2])"
   ]
  },
  {
   "cell_type": "markdown",
   "metadata": {},
   "source": [
    "Now let's just import a host of libraries that we will use throughout this exercise."
   ]
  },
  {
   "cell_type": "code",
   "execution_count": 12,
   "metadata": {
    "collapsed": false
   },
   "outputs": [],
   "source": [
    "import sys\n",
    "import numpy as np\n",
    "import random as rand \n",
    "import matplotlib as mpl\n",
    "import matplotlib.cm as cm"
   ]
  },
  {
   "cell_type": "markdown",
   "metadata": {},
   "source": [
    "And here I will create some fake data that I will use throughout to show some basic plots"
   ]
  },
  {
   "cell_type": "code",
   "execution_count": 13,
   "metadata": {
    "collapsed": false
   },
   "outputs": [],
   "source": [
    "x = range(5,100,5)\n",
    "y = [i**2 for i in x]\n",
    "z = [100*i for i in x]\n",
    "rv1 = [rand.random() for i in range(1000)]\n",
    "rv2 = [rand.random() for i in range(10000)]"
   ]
  },
  {
   "cell_type": "markdown",
   "metadata": {},
   "source": [
    "Now plot the `x` and `y` data as a simple graph like I've already shown you."
   ]
  },
  {
   "cell_type": "code",
   "execution_count": 14,
   "metadata": {
    "collapsed": false
   },
   "outputs": [
    {
     "data": {
      "text/plain": [
       "<matplotlib.figure.Figure at 0x1069b1630>"
      ]
     },
     "metadata": {},
     "output_type": "display_data"
    }
   ],
   "source": [
    "#Here, let me create the figure for you\n",
    "fig = plt.figure( figsize = (6, 4) )\n",
    "\n"
   ]
  },
  {
   "cell_type": "markdown",
   "metadata": {},
   "source": [
    "An import part of graphing is labelling axes and providing legends?  IT's actually pretty simple. \n",
    "\n",
    "Let's add a little bit to our simple graph."
   ]
  },
  {
   "cell_type": "code",
   "execution_count": 15,
   "metadata": {
    "collapsed": false
   },
   "outputs": [
    {
     "data": {
      "text/plain": [
       "<matplotlib.legend.Legend at 0x1061087b8>"
      ]
     },
     "execution_count": 15,
     "metadata": {},
     "output_type": "execute_result"
    },
    {
     "data": {
      "image/png": "[encoded data removed]",
      "text/plain": [
       "<matplotlib.figure.Figure at 0x106e4b7b8>"
      ]
     },
     "metadata": {},
     "output_type": "display_data"
    }
   ],
   "source": [
    "fig = plt.figure( figsize = (6, 4) )\n",
    "ax = fig.add_subplot(1,1,1)\n",
    "# We should add a label to our dataset that will go into a legend\n",
    "ax.plot(x, y, label = \"Quadratic\")\n",
    "# Now we can label the axes. Always label your axes! Who knows what is in the graph otherwise\n",
    "ax.set_xlabel(\"x\")\n",
    "ax.set_ylabel(\"f(x)\")\n",
    "# Display legend\n",
    "ax.legend()"
   ]
  },
  {
   "cell_type": "markdown",
   "metadata": {},
   "source": [
    "#### Ok, that's the basics. But how do we make it visually appealing?\n",
    "\n",
    "For that we'll need to start playing with the options. Let's start by changing the font size for the labels and the color of the plot."
   ]
  },
  {
   "cell_type": "code",
   "execution_count": 16,
   "metadata": {
    "collapsed": false
   },
   "outputs": [
    {
     "ename": "NameError",
     "evalue": "name 'helvetica_font' is not defined",
     "output_type": "error",
     "traceback": [
      "\u001b[0;31m---------------------------------------------------------------------------\u001b[0m",
      "\u001b[0;31mNameError\u001b[0m                                 Traceback (most recent call last)",
      "\u001b[0;32m<ipython-input-16-d07c138cb298>\u001b[0m in \u001b[0;36m<module>\u001b[0;34m()\u001b[0m\n\u001b[1;32m      9\u001b[0m \u001b[0;31m# Now we can label the axes. Always label your axes! Who knows what is in the graph otherwise\u001b[0m\u001b[0;34m\u001b[0m\u001b[0;34m\u001b[0m\u001b[0m\n\u001b[1;32m     10\u001b[0m \u001b[0mfont_size\u001b[0m \u001b[0;34m=\u001b[0m \u001b[0;36m15\u001b[0m\u001b[0;34m\u001b[0m\u001b[0m\n\u001b[0;32m---> 11\u001b[0;31m \u001b[0max\u001b[0m\u001b[0;34m.\u001b[0m\u001b[0mset_xlabel\u001b[0m\u001b[0;34m(\u001b[0m\u001b[0;34m\"x\"\u001b[0m\u001b[0;34m,\u001b[0m \u001b[0mfontsize\u001b[0m \u001b[0;34m=\u001b[0m \u001b[0;36m2\u001b[0m\u001b[0;34m*\u001b[0m\u001b[0mfont_size\u001b[0m\u001b[0;34m,\u001b[0m \u001b[0;34m**\u001b[0m\u001b[0mhelvetica_font\u001b[0m\u001b[0;34m)\u001b[0m\u001b[0;34m\u001b[0m\u001b[0m\n\u001b[0m\u001b[1;32m     12\u001b[0m \u001b[0max\u001b[0m\u001b[0;34m.\u001b[0m\u001b[0mset_ylabel\u001b[0m\u001b[0;34m(\u001b[0m\u001b[0;34m\"f(x)\"\u001b[0m\u001b[0;34m,\u001b[0m \u001b[0mfontsize\u001b[0m \u001b[0;34m=\u001b[0m \u001b[0;36m1.6\u001b[0m\u001b[0;34m*\u001b[0m\u001b[0mfont_size\u001b[0m\u001b[0;34m,\u001b[0m \u001b[0;34m**\u001b[0m\u001b[0mhelvetica_font\u001b[0m\u001b[0;34m)\u001b[0m\u001b[0;34m\u001b[0m\u001b[0m\n\u001b[1;32m     13\u001b[0m \u001b[0;31m# Display legend\u001b[0m\u001b[0;34m\u001b[0m\u001b[0;34m\u001b[0m\u001b[0m\n",
      "\u001b[0;31mNameError\u001b[0m: name 'helvetica_font' is not defined"
     ]
    },
    {
     "data": {
      "image/png": "[encoded data removed]",
      "text/plain": [
       "<matplotlib.figure.Figure at 0x1069b1860>"
      ]
     },
     "metadata": {},
     "output_type": "display_data"
    }
   ],
   "source": [
    "# Change the baseline font\n",
    "mpl.rcParams['font.family'] = 'sans-serif'\n",
    "mpl.rcParams['font.sans-serif'] = ['Arial']\n",
    "#Create the figure\n",
    "fig = plt.figure( figsize = (6, 4) )\n",
    "ax = fig.add_subplot(1,1,1)\n",
    "# We should add a label to our dataset that will go into a legend\n",
    "ax.plot(x, y, label = \"Quadratic\", color = 'steelblue')\n",
    "# Now we can label the axes. Always label your axes! Who knows what is in the graph otherwise\n",
    "font_size = 15\n",
    "ax.set_xlabel(\"x\", fontsize = 2*font_size, **helvetica_font)\n",
    "ax.set_ylabel(\"f(x)\", fontsize = 1.6*font_size, **helvetica_font)\n",
    "# Display legend\n",
    "ax.legend()"
   ]
  },
  {
   "cell_type": "markdown",
   "metadata": {},
   "source": [
    "Or rather simply use LaTeX (if you know what it is) to write text."
   ]
  },
  {
   "cell_type": "code",
   "execution_count": null,
   "metadata": {
    "collapsed": false
   },
   "outputs": [],
   "source": [
    "# Change the baseline font\n",
    "mpl.rcParams['font.family'] = 'sans-serif'\n",
    "mpl.rcParams['font.sans-serif'] = ['Arial']\n",
    "#Create the figure\n",
    "fig = plt.figure( figsize = (6, 4) )\n",
    "ax = fig.add_subplot(1,1,1)\n",
    "# We should add a label to our dataset that will go into a legend\n",
    "ax.plot(x, y, label = \"Quadratic\", color = 'steelblue')\n",
    "# Now we can label the axes. Always label your axes! Who knows what is in the graph otherwise\n",
    "font_size = 15\n",
    "ax.set_xlabel(\"$x$\", fontsize = 2*font_size, **helvetica_font)\n",
    "ax.set_ylabel(\"$f(x)$\", fontsize = 1.6*font_size, **helvetica_font)\n",
    "# Display legend\n",
    "ax.legend()"
   ]
  },
  {
   "cell_type": "markdown",
   "metadata": {},
   "source": [
    "And we should really move the legend box, it's blocking the line! And get rid of that silly legend box.\n",
    "\n",
    "Let's make the line **wider** too."
   ]
  },
  {
   "cell_type": "code",
   "execution_count": null,
   "metadata": {
    "collapsed": false
   },
   "outputs": [],
   "source": [
    "# Change the baseline font\n",
    "mpl.rcParams['font.family'] = 'sans-serif'\n",
    "mpl.rcParams['font.sans-serif'] = ['Arial']\n",
    "#Create the figure\n",
    "fig = plt.figure( figsize = (6, 4) )\n",
    "ax = fig.add_subplot(1,1,1)\n",
    "# We should add a label to our dataset that will go into a legend\n",
    "ax.plot(x, y, label = \"Quadratic\", color = 'steelblue', linewidth = 3)\n",
    "# Now we can label the axes. Always label your axes! Who knows what is in the graph otherwise\n",
    "font_size = 15\n",
    "ax.set_xlabel(\"$x$\", fontsize = 2*font_size, **helvetica_font)\n",
    "ax.set_ylabel(\"$f(x)$\", fontsize = 1.6*font_size, **helvetica_font)\n",
    "# Display legend\n",
    "ax.legend(loc='best', frameon=False, fontsize = font_size)"
   ]
  },
  {
   "cell_type": "markdown",
   "metadata": {},
   "source": [
    "If this was real data, we would maybe want to show the individual datapoints too. To put points on the line we need to add a marker. \n",
    "\n",
    "Matplotlib has a number of different marker styles, but I'll just use a circle since that is the most common.\n",
    "\n",
    "We should also add some text, let says that this is `Figure (A)` of a multi-part figure. We'll add `(A)` to teh plot."
   ]
  },
  {
   "cell_type": "code",
   "execution_count": null,
   "metadata": {
    "collapsed": false
   },
   "outputs": [],
   "source": [
    "# Change the baseline font\n",
    "mpl.rcParams['font.family'] = 'sans-serif'\n",
    "mpl.rcParams['font.sans-serif'] = ['Arial']\n",
    "#Create the figure\n",
    "fig = plt.figure( figsize = (6, 4) )\n",
    "ax = fig.add_subplot(1,1,1)\n",
    "# We should add a label to our dataset that will go into a legend\n",
    "ax.plot(x, y, label = \"Quadratic\", color = 'steelblue', linewidth = 3, marker = 'o', markersize = 10)\n",
    "# Now we can label the axes. Always label your axes! Who knows what is in the graph otherwise\n",
    "font_size = 15\n",
    "ax.set_xlabel(\"$x$\", fontsize = 2*font_size, **helvetica_font)\n",
    "ax.set_ylabel(\"$f(x)$\", fontsize = 1.6*font_size, **helvetica_font)\n",
    "# Display legend\n",
    "ax.legend(loc='best', frameon=False, fontsize = font_size, markerscale = 1.2)\n",
    "#Adding a label\n",
    "ax.text(90, 500, \"(A)\", fontsize = 1.2 * font_size)"
   ]
  },
  {
   "cell_type": "markdown",
   "metadata": {},
   "source": [
    "For a plot like this, we might also not want to have the full frame around the plot. We can remove that by changing the spines"
   ]
  },
  {
   "cell_type": "code",
   "execution_count": 17,
   "metadata": {
    "collapsed": false
   },
   "outputs": [
    {
     "ename": "NameError",
     "evalue": "name 'helvetica_font' is not defined",
     "output_type": "error",
     "traceback": [
      "\u001b[0;31m---------------------------------------------------------------------------\u001b[0m",
      "\u001b[0;31mNameError\u001b[0m                                 Traceback (most recent call last)",
      "\u001b[0;32m<ipython-input-17-e7f47d3ed511>\u001b[0m in \u001b[0;36m<module>\u001b[0;34m()\u001b[0m\n\u001b[1;32m      9\u001b[0m \u001b[0;31m# Now we can label the axes. Always label your axes! Who knows what is in the graph otherwise\u001b[0m\u001b[0;34m\u001b[0m\u001b[0;34m\u001b[0m\u001b[0m\n\u001b[1;32m     10\u001b[0m \u001b[0mfont_size\u001b[0m \u001b[0;34m=\u001b[0m \u001b[0;36m15\u001b[0m\u001b[0;34m\u001b[0m\u001b[0m\n\u001b[0;32m---> 11\u001b[0;31m \u001b[0max\u001b[0m\u001b[0;34m.\u001b[0m\u001b[0mset_xlabel\u001b[0m\u001b[0;34m(\u001b[0m\u001b[0;34m\"$x$\"\u001b[0m\u001b[0;34m,\u001b[0m \u001b[0mfontsize\u001b[0m \u001b[0;34m=\u001b[0m \u001b[0;36m2\u001b[0m\u001b[0;34m*\u001b[0m\u001b[0mfont_size\u001b[0m\u001b[0;34m,\u001b[0m \u001b[0;34m**\u001b[0m\u001b[0mhelvetica_font\u001b[0m\u001b[0;34m)\u001b[0m\u001b[0;34m\u001b[0m\u001b[0m\n\u001b[0m\u001b[1;32m     12\u001b[0m \u001b[0max\u001b[0m\u001b[0;34m.\u001b[0m\u001b[0mset_ylabel\u001b[0m\u001b[0;34m(\u001b[0m\u001b[0;34m\"$f(x)$\"\u001b[0m\u001b[0;34m,\u001b[0m \u001b[0mfontsize\u001b[0m \u001b[0;34m=\u001b[0m \u001b[0;36m1.6\u001b[0m\u001b[0;34m*\u001b[0m\u001b[0mfont_size\u001b[0m\u001b[0;34m,\u001b[0m \u001b[0;34m**\u001b[0m\u001b[0mhelvetica_font\u001b[0m\u001b[0;34m)\u001b[0m\u001b[0;34m\u001b[0m\u001b[0m\n\u001b[1;32m     13\u001b[0m \u001b[0;31m# Display legend\u001b[0m\u001b[0;34m\u001b[0m\u001b[0;34m\u001b[0m\u001b[0m\n",
      "\u001b[0;31mNameError\u001b[0m: name 'helvetica_font' is not defined"
     ]
    },
    {
     "data": {
      "image/png": "[encoded data removed]",
      "text/plain": [
       "<matplotlib.figure.Figure at 0x10711e128>"
      ]
     },
     "metadata": {},
     "output_type": "display_data"
    }
   ],
   "source": [
    "# Change the baseline font\n",
    "mpl.rcParams['font.family'] = 'sans-serif'\n",
    "mpl.rcParams['font.sans-serif'] = ['Arial']\n",
    "#Create the figure\n",
    "fig = plt.figure( figsize = (6, 4) )\n",
    "ax = fig.add_subplot(1,1,1)\n",
    "# We should add a label to our dataset that will go into a legend\n",
    "ax.plot(x, y, label = \"Quadratic\", color = 'steelblue', linewidth = 3, marker = 'o', markersize = 10)\n",
    "# Now we can label the axes. Always label your axes! Who knows what is in the graph otherwise\n",
    "font_size = 15\n",
    "ax.set_xlabel(\"$x$\", fontsize = 2*font_size, **helvetica_font)\n",
    "ax.set_ylabel(\"$f(x)$\", fontsize = 1.6*font_size, **helvetica_font)\n",
    "# Display legend\n",
    "ax.legend(loc='best', frameon=False, fontsize = font_size, markerscale = 1.2)\n",
    "#Adding a label\n",
    "ax.text(90, 500, \"(A)\", fontsize = 1.2 * font_size)\n",
    "#Turn off the spines\n",
    "for axis in ['bottom','left']:\n",
    "    ax.spines[axis].set_linewidth(2)\n",
    "    ax.spines[axis].set_position((\"axes\", -0.02))\n",
    "for axis in ['top','right']:\n",
    "    ax.spines[axis].set_visible(False)\n",
    "#We'll also need to turn off the ticks on the axes that we turned off\n",
    "ax.yaxis.set_ticks_position('left')\n",
    "ax.xaxis.set_ticks_position('bottom')"
   ]
  },
  {
   "cell_type": "markdown",
   "metadata": {},
   "source": [
    "But you know what's really bugging me now? The y-axis covers a great range, so much that it should be a log instead of linear scale"
   ]
  },
  {
   "cell_type": "code",
   "execution_count": 20,
   "metadata": {
    "collapsed": false
   },
   "outputs": [
    {
     "data": {
      "image/png": "[encoded data removed]",
      "text/plain": [
       "<matplotlib.figure.Figure at 0x107371940>"
      ]
     },
     "metadata": {},
     "output_type": "display_data"
    }
   ],
   "source": [
    "# Change the baseline font\n",
    "mpl.rcParams['font.family'] = 'sans-serif'\n",
    "mpl.rcParams['font.sans-serif'] = ['Arial']\n",
    "#Create the figure\n",
    "fig = plt.figure( figsize = (6, 4) )\n",
    "ax = fig.add_subplot(1,1,1)\n",
    "# We should add a label to our dataset that will go into a legend\n",
    "ax.plot(x, y, label = \"Quadratic\", color = 'steelblue', linewidth = 3, marker = 'o', markersize = 10)\n",
    "# Now we can label the axes. Always label your axes! Who knows what is in the graph otherwise\n",
    "font_size = 15\n",
    "ax.set_xlabel(\"$x$\", fontsize = 2*font_size)\n",
    "ax.set_ylabel(\"$f(x)$\", fontsize = 1.6*font_size)\n",
    "# Display legend\n",
    "ax.legend(loc='best', frameon=False, fontsize = font_size, markerscale = 1.2)\n",
    "#Adding a label\n",
    "ax.text(90, 15, \"(A)\", fontsize = 1.2 * font_size)\n",
    "#Turn off the spines\n",
    "for axis in ['bottom','left']:\n",
    "    ax.spines[axis].set_linewidth(2)\n",
    "    ax.spines[axis].set_position((\"axes\", -0.02))\n",
    "for axis in ['top','right']:\n",
    "    ax.spines[axis].set_visible(False)\n",
    "#We'll also need to turn off the ticks on the axes that we turned off\n",
    "ax.yaxis.set_ticks_position('left')\n",
    "ax.xaxis.set_ticks_position('bottom')\n",
    "#Change the y-scale to log\n",
    "ax.set_yscale('log')"
   ]
  },
  {
   "cell_type": "markdown",
   "metadata": {},
   "source": [
    "And of course we can save the figure. To do that we use the `plt` command and just say `savefig()`. The file extension that we give in the filename determines the type of image file. You can choose to save the image as a `jpg`, `png`, `eps`, or `pdf`."
   ]
  },
  {
   "cell_type": "code",
   "execution_count": 22,
   "metadata": {
    "collapsed": false
   },
   "outputs": [
    {
     "data": {
      "image/png": "[encoded data removed]",
      "text/plain": [
       "<matplotlib.figure.Figure at 0x1074ebef0>"
      ]
     },
     "metadata": {},
     "output_type": "display_data"
    }
   ],
   "source": [
    "# Change the baseline font\n",
    "mpl.rcParams['font.family'] = 'sans-serif'\n",
    "mpl.rcParams['font.sans-serif'] = ['Arial']\n",
    "#Create the figure\n",
    "fig = plt.figure( figsize = (6, 4) )\n",
    "ax = fig.add_subplot(1,1,1)\n",
    "# We should add a label to our dataset that will go into a legend\n",
    "ax.plot(x, y, label = \"Quadratic\", color = 'steelblue', linewidth = 3, marker = 'o', markersize = 10)\n",
    "# Now we can label the axes. Always label your axes! Who knows what is in the graph otherwise\n",
    "font_size = 15\n",
    "ax.set_xlabel(\"$x$\", fontsize = 2*font_size)\n",
    "ax.set_ylabel(\"$f(x)$\", fontsize = 1.6*font_size)\n",
    "# Display legend\n",
    "ax.legend(loc='best', frameon=False, fontsize = font_size, markerscale = 1.2)\n",
    "#Adding a label\n",
    "ax.text(90, 15, \"(A)\", fontsize = 1.2 * font_size)\n",
    "#Turn off the spines\n",
    "for axis in ['bottom','left']:\n",
    "    ax.spines[axis].set_linewidth(2)\n",
    "    ax.spines[axis].set_position((\"axes\", -0.02))\n",
    "for axis in ['top','right']:\n",
    "    ax.spines[axis].set_visible(False)\n",
    "#We'll also need to turn off the ticks on the axes that we turned off\n",
    "ax.yaxis.set_ticks_position('left')\n",
    "ax.xaxis.set_ticks_position('bottom')\n",
    "#Change the y-scale to log\n",
    "ax.set_yscale('log')\n",
    "#Save the figure\n",
    "plt.savefig('quadratic_logscale_half_frame.png')"
   ]
  },
  {
   "cell_type": "markdown",
   "metadata": {},
   "source": [
    "You see now that the number of options that you can possibly configure to make a graph look like **how you want** is **huge!**. There's way too much to go over in this lecture right now and have you retain it, so we're going to stop going over more and more options now. If you want to learn more about the intricacies of `matplotlib` I think that this is a good [tutorial](http://www.labri.fr/perso/nrougier/teaching/matplotlib/).\n",
    "\n",
    "## Sometimes you just want a decent looking graph quickly though\n",
    "\n",
    "I personally can't handle how the basic `matplotlib` graphs look like, even when I just am quickly exploring data. The way that I get around that is by using a relatively new addition to `matplotlib`, `styles`. There are a few (but should be more soon) pre-canned styles that look pretty okay. These are by no means *perfect publishable* figures, but they look decent enough to show a colleague quickly.\n",
    "\n",
    "You can actually change the default style in the entire notebook if you execute\n",
    "\n",
    "    plt.style.use('style_name')\n",
    "    \n",
    "But I don't want to change the style of every plot in the notebook. When you don't want to change the style globally, you can just write a graph like this:\n",
    "\n",
    "    with plt.style.context('style_name'):\n",
    "        #Your graph code here\n",
    "        \n",
    "That `with` statement basically says that all of the code inside that block should use that setting. Once we leave the `with` block the `with` statement is no longer applied.\n",
    "\n",
    "If you've used `R` then you probably know about `ggplot`, you can replicate its style like so:"
   ]
  },
  {
   "cell_type": "code",
   "execution_count": 23,
   "metadata": {
    "collapsed": false
   },
   "outputs": [
    {
     "data": {
      "image/png": "[encoded data removed]",
      "text/plain": [
       "<matplotlib.figure.Figure at 0x10740bd30>"
      ]
     },
     "metadata": {},
     "output_type": "display_data"
    }
   ],
   "source": [
    "with plt.style.context('ggplot'):\n",
    "    fig = plt.figure( figsize = (6, 4) )\n",
    "    ax = fig.add_subplot(1,1,1)\n",
    "    # We should add a label to our dataset that will go into a legend\n",
    "    ax.plot(x, y, label = \"Quadratic\")\n",
    "    # Now we can label the axes. Always label your axes! Who knows what is in the graph otherwise\n",
    "    ax.set_xlabel(\"x\")\n",
    "    ax.set_ylabel(\"f(x)\")\n",
    "    # Display legend\n",
    "    ax.legend()"
   ]
  },
  {
   "cell_type": "markdown",
   "metadata": {},
   "source": [
    "And if you're really into Nate Silver's work you can try a style similar to the one used at [fivethirtyeight](fivethirtyeight.com)."
   ]
  },
  {
   "cell_type": "code",
   "execution_count": 24,
   "metadata": {
    "collapsed": false
   },
   "outputs": [
    {
     "data": {
      "image/png": "[encoded data removed]",
      "text/plain": [
       "<matplotlib.figure.Figure at 0x1077d28d0>"
      ]
     },
     "metadata": {},
     "output_type": "display_data"
    }
   ],
   "source": [
    "with plt.style.context('fivethirtyeight'):\n",
    "    fig = plt.figure( figsize = (6, 4) )\n",
    "    ax = fig.add_subplot(1,1,1)\n",
    "    # We should add a label to our dataset that will go into a legend\n",
    "    ax.plot(x, y, label = \"Quadratic\")\n",
    "    # Now we can label the axes. Always label your axes! Who knows what is in the graph otherwise\n",
    "    ax.set_xlabel(\"x\")\n",
    "    ax.set_ylabel(\"f(x)\")\n",
    "    # Display legend\n",
    "    ax.legend()"
   ]
  },
  {
   "cell_type": "markdown",
   "metadata": {},
   "source": [
    "But my personal favorite is a a style called `bmh` that's about halfway between the two previous styles"
   ]
  },
  {
   "cell_type": "code",
   "execution_count": 25,
   "metadata": {
    "collapsed": false
   },
   "outputs": [
    {
     "data": {
      "image/png": "[encoded data removed]",
      "text/plain": [
       "<matplotlib.figure.Figure at 0x1077ca860>"
      ]
     },
     "metadata": {},
     "output_type": "display_data"
    }
   ],
   "source": [
    "with plt.style.context('bmh'):\n",
    "    fig = plt.figure( figsize = (6, 4) )\n",
    "    ax = fig.add_subplot(1,1,1)\n",
    "    # We should add a label to our dataset that will go into a legend\n",
    "    ax.plot(x, y, label = \"Quadratic\")\n",
    "    # Now we can label the axes. Always label your axes! Who knows what is in the graph otherwise\n",
    "    ax.set_xlabel(\"x\")\n",
    "    ax.set_ylabel(\"f(x)\")\n",
    "    # Display legend\n",
    "    ax.legend()"
   ]
  },
  {
   "cell_type": "markdown",
   "metadata": {},
   "source": [
    "Also, something to be aware of is that grey backgrounds typically don't print out very well unless you have a nice color printer!\n",
    "So typically we'll need to change the axis background color to white before we print. We can do that when we create the axes."
   ]
  },
  {
   "cell_type": "code",
   "execution_count": 27,
   "metadata": {
    "collapsed": false
   },
   "outputs": [
    {
     "data": {
      "image/png": "[encoded data removed]",
      "text/plain": [
       "<matplotlib.figure.Figure at 0x107692208>"
      ]
     },
     "metadata": {},
     "output_type": "display_data"
    }
   ],
   "source": [
    "with plt.style.context('bmh'):\n",
    "    fig = plt.figure( figsize = (6, 4) )\n",
    "    ax = fig.add_subplot(1,1,1, axisbg = 'white')\n",
    "    # We should add a label to our dataset that will go into a legend\n",
    "    ax.plot(x, y, label = \"Quadratic\")\n",
    "    # Now we can label the axes. Always label your axes! Who knows what is in the graph otherwise\n",
    "    ax.set_xlabel(\"x\")\n",
    "    ax.set_ylabel(\"f(x)\")\n",
    "    # Display legend\n",
    "    ax.legend(loc = 'best', frameon=False)"
   ]
  },
  {
   "cell_type": "markdown",
   "metadata": {},
   "source": [
    "# Now for all of these other plot types\n",
    "\n",
    "There is far more than just a line plot in matplotlib. We can make a `scatter`, `bar`, `histogram`, `heatmaps`, `box plots`, and `violin plots`. \n",
    "\n",
    "You can see some simple examples of all of these types at the Matplotlib lib [page](http://matplotlib.org/gallery.html).\n",
    "\n",
    "One of the most used types of plots is a [histogram](https://en.wikipedia.org/wiki/Histogram). This is the type of plot you use when you want to examine the distribution of a dataset.\n",
    "\n",
    "When would you want to look at a distribution? Well what about when you have a bunch of GPAs for the class students. It turns out that we have that GPA data!"
   ]
  },
  {
   "cell_type": "code",
   "execution_count": 37,
   "metadata": {
    "collapsed": false,
    "scrolled": false
   },
   "outputs": [
    {
     "data": {
      "text/plain": [
       "[3.27, 3.966, 3.25, 3.44, 3.62, 3.7, 3.7, 3.964, 3.46, 3.754]"
      ]
     },
     "execution_count": 37,
     "metadata": {},
     "output_type": "execute_result"
    }
   ],
   "source": [
    "def read_gpa_data(filepath):\n",
    "    '''\n",
    "    Reads in the gpa data file of undergraduate students\n",
    "    input:\n",
    "        filepath - str, filename\n",
    "    output:\n",
    "        gpas - list, float gpas\n",
    "    '''\n",
    "    data = [l.strip().split(',') for l in open(filepath).readlines()]\n",
    "    gpas = []\n",
    "    for gpa_line in data:\n",
    "        try:\n",
    "            fgpa = float(gpa_line[0])\n",
    "            if fgpa < 4.0:\n",
    "                gpas.append(fgpa)\n",
    "        except:\n",
    "            pass\n",
    "    return gpas\n",
    "        \n",
    "gpas = read_gpa_data('../Data/gpa_data.csv')\n",
    "gpas[:10]"
   ]
  },
  {
   "cell_type": "markdown",
   "metadata": {},
   "source": [
    "So now it doesn't make any sense at all to look at this as a line, we'll want to see how the GPA of our incoming freshman class is distributed. For that we use a histogram."
   ]
  },
  {
   "cell_type": "code",
   "execution_count": 41,
   "metadata": {
    "collapsed": false
   },
   "outputs": [
    {
     "data": {
      "text/plain": [
       "<matplotlib.text.Text at 0x10728c710>"
      ]
     },
     "execution_count": 41,
     "metadata": {},
     "output_type": "execute_result"
    },
    {
     "data": {
      "image/png": "[encoded data removed]",
      "text/plain": [
       "<matplotlib.figure.Figure at 0x107263e48>"
      ]
     },
     "metadata": {},
     "output_type": "display_data"
    }
   ],
   "source": [
    "fig = plt.figure( figsize = (6, 4.5))\n",
    "ax = fig.add_subplot(1, 1, 1)\n",
    "ax.hist(gpas, color = 'steelblue')\n",
    "ax.set_xlabel('GPA', fontsize = 1.6 * font_size)\n",
    "ax.set_ylabel('Count', fontsize = 1.6 * font_size)"
   ]
  },
  {
   "cell_type": "markdown",
   "metadata": {},
   "source": [
    "You just hand the numeric data directly to `matplotlib` and it will figure out how to bin it for you! That isn't always correct for your problem though, sometimes you'll need to change the number of bins and you can do that giving a different value to the `bins` keyword."
   ]
  },
  {
   "cell_type": "code",
   "execution_count": 42,
   "metadata": {
    "collapsed": false
   },
   "outputs": [
    {
     "data": {
      "text/plain": [
       "<matplotlib.text.Text at 0x107296a58>"
      ]
     },
     "execution_count": 42,
     "metadata": {},
     "output_type": "execute_result"
    },
    {
     "data": {
      "image/png": "[encoded data removed]",
      "text/plain": [
       "<matplotlib.figure.Figure at 0x107311dd8>"
      ]
     },
     "metadata": {},
     "output_type": "display_data"
    }
   ],
   "source": [
    "fig = plt.figure( figsize = (6, 4.5))\n",
    "ax = fig.add_subplot(1, 1, 1)\n",
    "ax.hist(gpas, bins = 20, color = 'steelblue')\n",
    "ax.set_xlabel('GPA', fontsize = 1.6 * font_size)\n",
    "ax.set_ylabel('Count', fontsize = 1.6 * font_size)"
   ]
  },
  {
   "cell_type": "markdown",
   "metadata": {},
   "source": [
    "You can also give it a custom list of bin sizes that you want it to use also."
   ]
  },
  {
   "cell_type": "code",
   "execution_count": 44,
   "metadata": {
    "collapsed": false
   },
   "outputs": [
    {
     "data": {
      "text/plain": [
       "<matplotlib.text.Text at 0x1074046d8>"
      ]
     },
     "execution_count": 44,
     "metadata": {},
     "output_type": "execute_result"
    },
    {
     "data": {
      "image/png": "[encoded data removed]",
      "text/plain": [
       "<matplotlib.figure.Figure at 0x10715d0f0>"
      ]
     },
     "metadata": {},
     "output_type": "display_data"
    }
   ],
   "source": [
    "fig = plt.figure( figsize = (6, 4.5))\n",
    "ax = fig.add_subplot(1, 1, 1)\n",
    "ax.hist(gpas, bins = [0, 2, 3, 3.2, 3.4, 3.5, 3.6, 3.7, 3.8, 4], color = 'steelblue')\n",
    "ax.set_xlabel('GPA', fontsize = 1.6 * font_size)\n",
    "ax.set_ylabel('Count', fontsize = 1.6 * font_size)"
   ]
  },
  {
   "cell_type": "markdown",
   "metadata": {},
   "source": [
    "You've noticed that what we've shown is just the count though. Many times people will want to look at the `probability distribution function (pdf)` or `probability mass function (pmf)`. When you plot the `pdf` or `pmf` it allows you to actually calculate the probability that a certain value on your x-axis will occur based on the graph. To make one of these plots we just need to give the `normed` parameter a `True` value when we create the histogram."
   ]
  },
  {
   "cell_type": "code",
   "execution_count": 45,
   "metadata": {
    "collapsed": false
   },
   "outputs": [
    {
     "data": {
      "text/plain": [
       "<matplotlib.text.Text at 0x1079d2908>"
      ]
     },
     "execution_count": 45,
     "metadata": {},
     "output_type": "execute_result"
    },
    {
     "data": {
      "image/png": "[encoded data removed]",
      "text/plain": [
       "<matplotlib.figure.Figure at 0x1072a21d0>"
      ]
     },
     "metadata": {},
     "output_type": "display_data"
    }
   ],
   "source": [
    "fig = plt.figure( figsize = (6, 4.5))\n",
    "ax = fig.add_subplot(1, 1, 1)\n",
    "ax.hist(gpas, bins = 20, normed = True, color = 'steelblue')\n",
    "ax.set_xlabel('GPA', fontsize = 1.6 * font_size)\n",
    "ax.set_ylabel('pdf', fontsize = 1.6 * font_size)"
   ]
  },
  {
   "cell_type": "markdown",
   "metadata": {},
   "source": [
    "# Bar charts\n",
    "Let's say that you had some data about the different spending habits of men and women at different locations."
   ]
  },
  {
   "cell_type": "code",
   "execution_count": 48,
   "metadata": {
    "collapsed": true
   },
   "outputs": [],
   "source": [
    "locations = ['bar', 'shoe store', 'grocery store', 'yoga', 'gym']\n",
    "men_spending = [100, 5, 80, 5, 60]\n",
    "women_spending = [10, 100, 75, 55, 10]"
   ]
  },
  {
   "cell_type": "markdown",
   "metadata": {},
   "source": [
    "And you wanted to create a bar chart to show the difference between these two groups. We can do that!"
   ]
  },
  {
   "cell_type": "code",
   "execution_count": 50,
   "metadata": {
    "collapsed": false
   },
   "outputs": [
    {
     "data": {
      "text/plain": [
       "<matplotlib.text.Text at 0x1076a10f0>"
      ]
     },
     "execution_count": 50,
     "metadata": {},
     "output_type": "execute_result"
    },
    {
     "data": {
      "image/png": "[encoded data removed]",
      "text/plain": [
       "<matplotlib.figure.Figure at 0x10767b390>"
      ]
     },
     "metadata": {},
     "output_type": "display_data"
    }
   ],
   "source": [
    "fig = plt.figure( figsize = (6, 4))\n",
    "ax = plt.subplot(1, 1, 1)\n",
    "#For a bar chart we need to create a dummy set of x-data.\n",
    "#It's easiest to just use the `range()` function on the number of groups\n",
    "num_categories = len(locations)\n",
    "x_positions = range(num_categories)\n",
    "#Now we can add the men\n",
    "ax.bar(x_positions, men_spending, label='Men')\n",
    "#Then the women\n",
    "ax.bar(x_positions, women_spending, label='Women')\n",
    "#Label it\n",
    "ax.set_ylabel('Spending (\\$)')"
   ]
  },
  {
   "cell_type": "markdown",
   "metadata": {},
   "source": [
    "**Woops!** The bars are right on top of each other!\n",
    "\n",
    "You'll need to **offset** each of the bars. If you set the **width** of the bars to the **offset** also, you know that the bars won't overlap."
   ]
  },
  {
   "cell_type": "code",
   "execution_count": 56,
   "metadata": {
    "collapsed": false
   },
   "outputs": [
    {
     "data": {
      "text/plain": [
       "<matplotlib.legend.Legend at 0x107e554a8>"
      ]
     },
     "execution_count": 56,
     "metadata": {},
     "output_type": "execute_result"
    },
    {
     "data": {
      "image/png": "[encoded data removed]",
      "text/plain": [
       "<matplotlib.figure.Figure at 0x1083435c0>"
      ]
     },
     "metadata": {},
     "output_type": "display_data"
    }
   ],
   "source": [
    "fig = plt.figure( figsize = (6, 4))\n",
    "ax = plt.subplot(1, 1, 1)\n",
    "\n",
    "#For a bar chart we need to create a dummy set of x-data.\n",
    "#It's easiest to just use the `range()` function on the number of groups\n",
    "num_categories = len(locations)\n",
    "x_positions = range(num_categories)\n",
    "offset = 0.35\n",
    "\n",
    "#Now we can add the men\n",
    "ax.bar(x_positions, men_spending, offset, label='Men', color='steelblue')\n",
    "#Then the women\n",
    "ax.bar([x_pos + offset for x_pos in x_positions], women_spending, offset, label='Women', color='pink')\n",
    "#Label it\n",
    "ax.set_ylabel('Spending (\\$)')\n",
    "plt.legend(loc = 'best')"
   ]
  },
  {
   "cell_type": "markdown",
   "metadata": {},
   "source": [
    "I really want to label the x-axis ticks too. We can do that by changing the positions of the ticklabels to include our offset."
   ]
  },
  {
   "cell_type": "code",
   "execution_count": 60,
   "metadata": {
    "collapsed": false
   },
   "outputs": [
    {
     "data": {
      "text/plain": [
       "[<matplotlib.text.Text at 0x108810358>,\n",
       " <matplotlib.text.Text at 0x108703550>,\n",
       " <matplotlib.text.Text at 0x108a1deb8>,\n",
       " <matplotlib.text.Text at 0x108a23908>,\n",
       " <matplotlib.text.Text at 0x108a25358>]"
      ]
     },
     "execution_count": 60,
     "metadata": {},
     "output_type": "execute_result"
    },
    {
     "data": {
      "image/png": "[encoded data removed]",
      "text/plain": [
       "<matplotlib.figure.Figure at 0x108793cc0>"
      ]
     },
     "metadata": {},
     "output_type": "display_data"
    }
   ],
   "source": [
    "fig = plt.figure( figsize = (6, 4))\n",
    "ax = plt.subplot(1, 1, 1)\n",
    "\n",
    "#For a bar chart we need to create a dummy set of x-data.\n",
    "#It's easiest to just use the `range()` function on the number of groups\n",
    "num_categories = len(locations)\n",
    "x_positions = range(num_categories)\n",
    "offset = 0.35\n",
    "\n",
    "#Now we can add the men\n",
    "ax.bar(x_positions, men_spending, offset, label='Men', color='steelblue')\n",
    "#Then the women\n",
    "ax.bar([x_pos + offset for x_pos in x_positions], women_spending, offset, label='Women', color='pink')\n",
    "#Label it\n",
    "ax.set_ylabel('Spending (\\$)', fontsize = 1.6 * font_size)\n",
    "plt.legend(loc = 'best')\n",
    "#Axis labels\n",
    "ax.set_xticks([x_pos + offset for x_pos in x_positions])\n",
    "ax.set_xticklabels( [label.capitalize() for label in locations], rotation=90, fontsize = 1.3 * font_size)"
   ]
  },
  {
   "cell_type": "markdown",
   "metadata": {},
   "source": [
    "# Scatter plots"
   ]
  },
  {
   "cell_type": "markdown",
   "metadata": {},
   "source": [
    "Maybe we want to look at this spending data as a scatter plot though. You'll have one axis be Men's spending and the other axis be women's spending."
   ]
  },
  {
   "cell_type": "code",
   "execution_count": 66,
   "metadata": {
    "collapsed": false
   },
   "outputs": [
    {
     "data": {
      "text/plain": [
       "<matplotlib.text.Text at 0x10900deb8>"
      ]
     },
     "execution_count": 66,
     "metadata": {},
     "output_type": "execute_result"
    },
    {
     "data": {
      "image/png": "[encoded data removed]",
      "text/plain": [
       "<matplotlib.figure.Figure at 0x108f524a8>"
      ]
     },
     "metadata": {},
     "output_type": "display_data"
    }
   ],
   "source": [
    "fig = plt.figure(figsize = (5,5))\n",
    "ax = fig.add_subplot(1, 1, 1)\n",
    "#We add in the x-data points and then the y-data points\n",
    "ax.scatter(men_spending, women_spending, color='orange')\n",
    "#Labels....\n",
    "ax.set_xlabel('Male Spending (\\$)', fontsize = 1.6 * font_size)\n",
    "ax.set_ylabel('Female Spending (\\$)', fontsize = 1.6 * font_size)"
   ]
  },
  {
   "cell_type": "markdown",
   "metadata": {},
   "source": [
    "Those points are a bit small.... Let's make them bigger"
   ]
  },
  {
   "cell_type": "code",
   "execution_count": 67,
   "metadata": {
    "collapsed": false
   },
   "outputs": [
    {
     "data": {
      "text/plain": [
       "<matplotlib.text.Text at 0x108feb8d0>"
      ]
     },
     "execution_count": 67,
     "metadata": {},
     "output_type": "execute_result"
    },
    {
     "data": {
      "image/png": "[encoded data removed]",
      "text/plain": [
       "<matplotlib.figure.Figure at 0x1090cf320>"
      ]
     },
     "metadata": {},
     "output_type": "display_data"
    }
   ],
   "source": [
    "fig = plt.figure(figsize = (5,5))\n",
    "ax = fig.add_subplot(1, 1, 1)\n",
    "#We add in the x-data points and then the y-data points\n",
    "ax.scatter(men_spending, women_spending, s=50, color='orange')\n",
    "#Labels....\n",
    "ax.set_xlabel('Male Spending (\\$)', fontsize = 1.6 * font_size)\n",
    "ax.set_ylabel('Female Spending (\\$)', fontsize = 1.6 * font_size)"
   ]
  },
  {
   "cell_type": "markdown",
   "metadata": {},
   "source": [
    "Why doesn't scatter take a `size` attribute and use `s` instead?\n",
    "\n",
    "Well, in a scatterplot we typically would use the `size` to encode a third variable. This means that `s` will actually take in a list of sizes and apply a size individually to a datapoint.\n",
    "\n",
    "Let's say that for each one of these categories, I had data that represented how big that market sector was in millions of dollars per year. We could show that with the size."
   ]
  },
  {
   "cell_type": "code",
   "execution_count": 70,
   "metadata": {
    "collapsed": false
   },
   "outputs": [
    {
     "data": {
      "text/plain": [
       "<matplotlib.text.Text at 0x108a53d68>"
      ]
     },
     "execution_count": 70,
     "metadata": {},
     "output_type": "execute_result"
    },
    {
     "data": {
      "image/png": "[encoded data removed]",
      "text/plain": [
       "<matplotlib.figure.Figure at 0x1090b42e8>"
      ]
     },
     "metadata": {},
     "output_type": "display_data"
    }
   ],
   "source": [
    "market_size = [500, 400, 800, 10, 20]\n",
    "#Figure code\n",
    "fig = plt.figure(figsize = (5,5))\n",
    "ax = fig.add_subplot(1, 1, 1)\n",
    "#We add in the x-data points and then the y-data points\n",
    "ax.scatter(men_spending, women_spending, s=[100, 200, 300, 400, 500], color='orange')\n",
    "#Labels....\n",
    "ax.set_xlabel('Male Spending (\\$)', fontsize = 1.6 * font_size)\n",
    "ax.set_ylabel('Female Spending (\\$)', fontsize = 1.6 * font_size)"
   ]
  },
  {
   "cell_type": "code",
   "execution_count": null,
   "metadata": {
    "collapsed": true
   },
   "outputs": [],
   "source": []
  },
  {
   "cell_type": "code",
   "execution_count": null,
   "metadata": {
    "collapsed": true
   },
   "outputs": [],
   "source": []
  },
  {
   "cell_type": "code",
   "execution_count": null,
   "metadata": {
    "collapsed": true
   },
   "outputs": [],
   "source": []
  },
  {
   "cell_type": "code",
   "execution_count": null,
   "metadata": {
    "collapsed": true
   },
   "outputs": [],
   "source": []
  }
 ],
 "metadata": {
  "kernelspec": {
   "display_name": "Python 3",
   "language": "python",
   "name": "python3"
  },
  "language_info": {
   "codemirror_mode": {
    "name": "ipython",
    "version": 3
   },
   "file_extension": ".py",
   "mimetype": "text/x-python",
   "name": "python",
   "nbconvert_exporter": "python",
   "pygments_lexer": "ipython3",
   "version": "3.4.3"
  }
 },
 "nbformat": 4,
 "nbformat_minor": 0
}
