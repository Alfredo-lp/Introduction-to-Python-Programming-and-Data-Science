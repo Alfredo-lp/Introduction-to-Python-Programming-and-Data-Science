{
 "cells": [
  {
   "cell_type": "markdown",
   "metadata": {},
   "source": [
    "# Programming and Errors\n",
    "\n",
    "Now that we've convered the basic variable types, we're ready to start writing some real programs. To do that we'll need to learn something about controlling the \"flow\" of a program. However, as we type more lines of code and instructions for the computer to carry out, the more likely it is that we will write errors!\n",
    "\n",
    "Already you've seen some errors as I tried to show you what can't be done, but now it's time to make this systematic. Just like there are different data types, there are also different error types. Having different error types is to help you more easily identify what has gone wrong in your code. We're just going to cover the basic ones now though.\n",
    "\n",
    "## Errors related to syntax\n",
    "\n",
    "Like all programming languages, Python needs you to write code a certain way so that it can understand your commands and translate them to the machine. This certain way is called its **syntax**. If you don't correctly follow it, such as not having matched parentheses, brackets, or quotations marks, this generates a `SyntaxError`."
   ]
  },
  {
   "cell_type": "code",
   "execution_count": null,
   "metadata": {
    "collapsed": false
   },
   "outputs": [],
   "source": [
    "sentence = 'I am a sentence"
   ]
  },
  {
   "cell_type": "markdown",
   "metadata": {},
   "source": [
    "This is the **exception** and the **traceback**. So let's tease these statements apart.\n",
    "\n",
    "`SyntaxError: EOL while scanning string literal`\n",
    "\n",
    "This is the type of error and it tells us, in its own language, what generated the error. We got a `SyntaxError` and that was because Python reached the end of the line (`EOL`) while it was scanning the string we started with `'` and it couldn't find the closing `'`.\n",
    "\n",
    "The first part is the **traceback**.\n",
    "\n",
    "`File \"<ipython-input-2-a6097ed4dc2e>\"`\n",
    "\n",
    "Tells us the file that the error occurred in. Since we are using an IPython notebook, this information isn't that useful but when you have your own scripts it can be helpful. Inside this file, the error happened at \n",
    "\n",
    "`line 1`\n",
    "\n",
    "`sentence = 'I am a sentence`\n",
    "\n",
    "This just tells us to look at the first line of the program and then shows us the line it had difficulty parsing. Now this information isn't always accurate, but Python does it's best to point out where the error happened. Depending upon the type of error, the real problem could be one line above or below where it points out that the error is occurring. Again, not perfect but much better than in many other languages.\n",
    "\n",
    "There is one more error related to syntax, it is called an `IndentationError`, but I'll give examples related to that when we get to controlling the flow of a program since we haven't seen why we need to indent any code yet."
   ]
  },
  {
   "cell_type": "markdown",
   "metadata": {},
   "source": [
    "## Errors related to variables\n",
    "\n",
    "Now another common form of error is a `TypeError`. This happens when we try to use a method that is for one data type on another data type that does not support it. Remember how sets were a unique collection of elements and we could not use additive or multiplicative operators with them? Well when we do:"
   ]
  },
  {
   "cell_type": "code",
   "execution_count": null,
   "metadata": {
    "collapsed": false
   },
   "outputs": [],
   "source": [
    "{8, 7, 2} * 2"
   ]
  },
  {
   "cell_type": "markdown",
   "metadata": {},
   "source": [
    "We get a type error. This would also happen if we tried to change an element of a `tuple` since it is **immutable**"
   ]
  },
  {
   "cell_type": "code",
   "execution_count": null,
   "metadata": {
    "collapsed": false
   },
   "outputs": [],
   "source": [
    "example_tuple = (0, 2, 'a')\n",
    "example_tuple[0] = 'b'"
   ]
  },
  {
   "cell_type": "markdown",
   "metadata": {},
   "source": [
    "If you get a `NameError`, that just means that you tried to use a variable that has not been created yet. So far I have yet to make a variable named `party` in this notebook so if I try to print it right now we will get a `NameError`."
   ]
  },
  {
   "cell_type": "code",
   "execution_count": null,
   "metadata": {
    "collapsed": false
   },
   "outputs": [],
   "source": [
    "print( party )"
   ]
  },
  {
   "cell_type": "markdown",
   "metadata": {},
   "source": [
    "An `IndexError` occurs when we try to access an element of a `tuple` or `list` by index when that index doesn't exist in the variable (i.e. we give an index that is larger than the length of the variable)"
   ]
  },
  {
   "cell_type": "code",
   "execution_count": null,
   "metadata": {
    "collapsed": false
   },
   "outputs": [],
   "source": [
    "example_list = [0, 1, 2]\n",
    "example_list[3]"
   ]
  },
  {
   "cell_type": "markdown",
   "metadata": {},
   "source": [
    "Analogously, if we try to access a `key` in a dictionary that it doesn't have we will get a `KeyError`."
   ]
  },
  {
   "cell_type": "code",
   "execution_count": null,
   "metadata": {
    "collapsed": false
   },
   "outputs": [],
   "source": [
    "example_dict = {'test' : 1}\n",
    "example_dict['party']"
   ]
  },
  {
   "cell_type": "markdown",
   "metadata": {},
   "source": [
    "Likewise, if we try to use some attribute of a variable that doesn't exist then we get an `AttributeError`. This can happen if we try to use a built-in function that doesn't exist for a variable. Going back to our `example_list` we'll try to use a built-in function that we doesnt' know exist."
   ]
  },
  {
   "cell_type": "code",
   "execution_count": null,
   "metadata": {
    "collapsed": false
   },
   "outputs": [],
   "source": [
    "example_list.party()"
   ]
  },
  {
   "cell_type": "markdown",
   "metadata": {},
   "source": [
    "Analogously, if we give the input to a function but it doesn't make sense, we will get a `ValueError`. This is the error we get when we try to remove a value from a `list` when it isn't in the `list` variable."
   ]
  },
  {
   "cell_type": "code",
   "execution_count": null,
   "metadata": {
    "collapsed": false
   },
   "outputs": [],
   "source": [
    "example_list"
   ]
  },
  {
   "cell_type": "code",
   "execution_count": null,
   "metadata": {
    "collapsed": false
   },
   "outputs": [],
   "source": [
    "example_list.remove(3)"
   ]
  },
  {
   "cell_type": "markdown",
   "metadata": {},
   "source": [
    "These are the errors that you are most likely to encounter in this and the following lessons. For the full list of exceptions and errors you can refer to the official Python documentation.\n",
    "\n",
    "Python Built-in Exceptions docs:\n",
    "https://docs.python.org/3.4/library/exceptions.html\n",
    "\n",
    "Python Error Handling docs:\n",
    "https://docs.python.org/3.4/tutorial/errors.html"
   ]
  },
  {
   "cell_type": "markdown",
   "metadata": {},
   "source": [
    "# Conditionals\n",
    "\n",
    "One of the most basic parts of a program is the ability to check and see if a condition has been reached and, if so, do something about it. In regular language we would typically express this as:\n",
    "\n",
    "\"If you are going to the store, then please buy milk?\"\n",
    "\n",
    "In Python we also use the word `if` to denote a conditional. So let's say that I want to write a program to ask people for their names and, if I find that the your are my friend Peter, say 'hello' back.\n",
    "\n",
    "First we'll start by listing the names that I know."
   ]
  },
  {
   "cell_type": "code",
   "execution_count": null,
   "metadata": {
    "collapsed": false
   },
   "outputs": [],
   "source": [
    "my_friend = 'Peter'"
   ]
  },
  {
   "cell_type": "markdown",
   "metadata": {},
   "source": [
    "Now I'll ask for your name. We can get input from a user with the `input()` function. When we use this function whatever the user types will be captured."
   ]
  },
  {
   "cell_type": "code",
   "execution_count": null,
   "metadata": {
    "collapsed": false
   },
   "outputs": [],
   "source": [
    "your_name = input(\"What is your name? \")"
   ]
  },
  {
   "cell_type": "markdown",
   "metadata": {},
   "source": [
    "Now I just need to check and see if you are Peter. To do that I'll see if `your_name` is the same as `my_friend`."
   ]
  },
  {
   "cell_type": "code",
   "execution_count": null,
   "metadata": {
    "collapsed": false
   },
   "outputs": [],
   "source": [
    "if my_friend == your_name:\n",
    "    print(\"Hi \" + my_friend + \"! It's good to see you again!\")"
   ]
  },
  {
   "cell_type": "markdown",
   "metadata": {},
   "source": [
    "If you aren't Peter, then you shouldn't see anything. I'll copy all of these lines into the cell below for you to play with now. This time when you execute the cell, just lie and say that you are \"Peter\". My program should say Hi to you!\n",
    "\n",
    "Now here you will notice that we indented the `print()` statement that is after the `if` statement. In Python we always indent a block of code that is a part of a condtion. Once we unindent the code, then those lines won't be a part of the `if` statement. If your indentation is wrong you will get an `IndentationError`."
   ]
  },
  {
   "cell_type": "code",
   "execution_count": null,
   "metadata": {
    "collapsed": false
   },
   "outputs": [],
   "source": [
    "my_friend = 'Peter'\n",
    "your_name = input(\"What is your name? \")\n",
    "if my_friend == your_name:\n",
    "    print(\"Hi \" + my_friend + \"! It's good to see you again!\")"
   ]
  },
  {
   "cell_type": "markdown",
   "metadata": {},
   "source": [
    "But what if I have more than one friend? (I know, I know, you don't think that's possible!)\n",
    "\n",
    "I could just store all of my friends' names in a list. I'll make that now."
   ]
  },
  {
   "cell_type": "code",
   "execution_count": null,
   "metadata": {
    "collapsed": false
   },
   "outputs": [],
   "source": [
    "friends_list = ['Peter', 'Samantha', 'Adam']"
   ]
  },
  {
   "cell_type": "markdown",
   "metadata": {},
   "source": [
    "Now I can ask for your name again but how do I check that your name is in the `friends_list`? I can't do\n",
    "\n",
    "`if your_name == friends_list`\n",
    "\n",
    "because those two variables aren't even the same data type, `your_name` is a `string` and `friends_list` is a `list`. If the two variables aren't even the same type there's no way they can be equal to each other!\n",
    "\n",
    "Instead we actually use some regular English language again, I just ask if `your_name` is `in` the `friends_list`."
   ]
  },
  {
   "cell_type": "code",
   "execution_count": null,
   "metadata": {
    "collapsed": false
   },
   "outputs": [],
   "source": [
    "your_name = input(\"What is your name? \")\n",
    "if your_name in friends_list:\n",
    "    print(\"Hi \" + your_name + \"! It's good to see you again!\")"
   ]
  },
  {
   "cell_type": "markdown",
   "metadata": {},
   "source": [
    "Notice how I changed the `print` statement to use the `your_name` variable? That's actually an important change, because if I continued to use the `my_friend` variable I would always say 'Hi' to Peter even when it was someone else. That would just be embarrassing.\n",
    "\n",
    "But that is an important lesson, lots of time we copy or reuse code. Always make sure to go back through it and make sure that it is all right for the current code you want to write."
   ]
  },
  {
   "cell_type": "markdown",
   "metadata": {},
   "source": [
    "Now we have the basics working, but it's a bit brusque of me to just say nothing to people that aren't my friends. It really should be more like `if` I see a friend say hello, `else` introduce myself."
   ]
  },
  {
   "cell_type": "code",
   "execution_count": null,
   "metadata": {
    "collapsed": false
   },
   "outputs": [],
   "source": [
    "your_name = input(\"What is your name? \")\n",
    "if your_name in friends_list:\n",
    "    print(\"Hi \" + your_name + \"! It's good to see you again!\")\n",
    "else:\n",
    "    print(\"Hi \" + your_name + \"! I'm Adam and it's nice to meet you\")"
   ]
  },
  {
   "cell_type": "markdown",
   "metadata": {},
   "source": [
    "Great! Except....what about when I run into someone that I know but I'm not just friends with. I'll look like a real idiot if I keep introducing myself to people I already know. If only there was some way to give a second condition...\n",
    "\n",
    "Luckily there is! We use the `elif` statement in Python (it stands for `else if`). We can have as many elif statements as we want, they just have to occur after an `if` statement and before an `else` statement.\n",
    "\n",
    "So let's clear up who my acquaintances are and write this code again."
   ]
  },
  {
   "cell_type": "code",
   "execution_count": null,
   "metadata": {
    "collapsed": false
   },
   "outputs": [],
   "source": [
    "acquaintance_list = ['Max', 'Janet', 'Ben']\n",
    "\n",
    "your_name = input(\"What is your name? \")\n",
    "if your_name in friends_list:\n",
    "    print(\"Hi \" + your_name + \"! It's good to see you again!\")\n",
    "elif your_name in acquaintance_list:\n",
    "    print(\"Hi \" + your_name + \". How about those business arrangements, huh?\")\n",
    "else:\n",
    "    print(\"Hi \" + your_name + \"! I'm Adam and it's nice to meet you\")"
   ]
  },
  {
   "cell_type": "markdown",
   "metadata": {},
   "source": [
    "## Handling exceptions\n",
    "\n",
    "But sometimes people won't always enter their name correctly, either on accident or just because they want to mess with you!\n",
    "\n",
    "Fortunately, Python makes it easy to check these errors! \n",
    "\n",
    "Let's use our `input()` function to ask for a number and then square it (but actually put in a name!)"
   ]
  },
  {
   "cell_type": "code",
   "execution_count": null,
   "metadata": {
    "collapsed": false
   },
   "outputs": [],
   "source": [
    "number_to_square = input(\"What number do you want to know the square of? \")\n",
    "\n",
    "print(\"Your number squared is \", number_to_square**2)"
   ]
  },
  {
   "cell_type": "markdown",
   "metadata": {},
   "source": [
    "To handle errors we just wrap code in a `try ... except ...` "
   ]
  },
  {
   "cell_type": "code",
   "execution_count": null,
   "metadata": {
    "collapsed": false
   },
   "outputs": [],
   "source": [
    "number_to_square = input(\"What number do you want to know the square of? \")\n",
    "try:\n",
    "    number_to_square = int(number_to_square)\n",
    "    print(\"Your number squared is \", number_to_square**2)\n",
    "except ValueError:\n",
    "    print(\"You didn't seem to put in a number!\")"
   ]
  },
  {
   "cell_type": "markdown",
   "metadata": {},
   "source": [
    "Now let's change our name introduction to check for a name"
   ]
  },
  {
   "cell_type": "code",
   "execution_count": null,
   "metadata": {
    "collapsed": false
   },
   "outputs": [],
   "source": [
    "#Change this example to check for a name\n",
    "\n",
    "your_name = input(\"What is your name? \")\n",
    "if your_name in friends_list:\n",
    "    print(\"Hi \" + your_name + \"! It's good to see you again!\")\n",
    "else:\n",
    "    print(\"Hi \" + your_name + \"! I'm Adam and it's nice to meet you\")"
   ]
  },
  {
   "cell_type": "markdown",
   "metadata": {},
   "source": [
    "Wonderful! Well that's the basics of checking for condtions. Now let's move on to the other important flow control aspect, loops."
   ]
  },
  {
   "cell_type": "markdown",
   "metadata": {},
   "source": [
    "# Loops\n",
    "## While loops\n",
    "\n",
    "A loop is used to repeat a block of commands multiple times. There are two ways to write a loop, one is a `for` loop and the other is a `while` loop. Typically, you use a `for` loop when you know how many times you want to loop, and a `while` loop when looping is based on a conditional that will be modified during the loop.\n",
    "\n",
    "A `while` loop is pretty simple, it's structure looks like:\n",
    "\n",
    "    while a_condition:\n",
    "        # do something\n",
    "        ...\n",
    "        \n",
    "and it continues until `a_condition` is false.\n",
    "\n",
    "So let's go back to our example where we ask someone about putting in a number to square. What if we wanted to keep asking them for a number until they actually gave us a number!\n",
    "\n",
    "Now we need to add something to this code..."
   ]
  },
  {
   "cell_type": "code",
   "execution_count": null,
   "metadata": {
    "collapsed": false
   },
   "outputs": [],
   "source": [
    "number_to_square = 'Intial test failure'\n",
    "while type(number_to_square) != int:\n",
    "    number_to_square = input(\"What number do you want to know the square of? \")\n",
    "    try:\n",
    "        number_to_square = int(number_to_square)\n",
    "        print(\"Your number squared is \", number_to_square**2)\n",
    "    except ValueError:\n",
    "        print(\"You didn't seem to put in a number!\")"
   ]
  },
  {
   "cell_type": "markdown",
   "metadata": {},
   "source": [
    "A `while` loop is great when you want to continue indefinitely until a single condition is met. Let's use a while loop to modify our previous code asking for a person's name. We will make sure that the name entered is only a string."
   ]
  },
  {
   "cell_type": "code",
   "execution_count": null,
   "metadata": {
    "collapsed": false
   },
   "outputs": [],
   "source": [
    "#Make this code check that the entered string is not a number\n",
    "#Keep asking for a name until a \"real\" one is given\n",
    "\n",
    "your_name = input(\"What is your name? \")\n",
    "if your_name in friends_list:\n",
    "    print(\"Hi \" + your_name + \"! It's good to see you again!\")\n",
    "elif your_name in acquaintance_list:\n",
    "    print(\"Hi \" + your_name + \". How about those business arrangements, huh?\")\n",
    "else:\n",
    "    print(\"Hi \" + your_name + \"! I'm Adam and it's nice to meet you\")\n",
    "    \n"
   ]
  },
  {
   "cell_type": "markdown",
   "metadata": {},
   "source": [
    "Now for a change of pace, I want you to write code that counts by 3s until 51"
   ]
  },
  {
   "cell_type": "code",
   "execution_count": null,
   "metadata": {
    "collapsed": false
   },
   "outputs": [],
   "source": [
    "#Write a script to count by 3s and print each number until 51\n",
    "\n",
    "\n",
    "\n"
   ]
  },
  {
   "cell_type": "markdown",
   "metadata": {},
   "source": [
    "## For loops\n",
    "\n",
    "A `for` loop lets us repeat a set of commands a defined number of times. The syntax for a `for` loop is just:\n",
    "\n",
    "    for item in sequence:\n",
    "        # do something with item\n",
    "        ...\n",
    "        \n",
    "`sequence` needs to be one of the collection data types (`list`, `tuple`, `set`, or `dict`) since those are the ones we've learned so far. Okay, so let's work through this a little bit more with an example.\n",
    "\n",
    "    for item in [0, 1, 2]:\n",
    "        print( item )\n",
    "        ....\n",
    "        \n",
    "The first time that we enter the loop `item` will be `0`, so it will print `0`.\n",
    "\n",
    "The second time we enter the loop `item` will be `1`, so it will print `1`\n",
    "\n",
    "The third (and last) time we enter the loop `item` will be `2`, so it will print `2`\n",
    "\n",
    "The key is that the `item` variable changes to the next item in the sequence.\n",
    "\n",
    "So let's actually print the contents of a list and prove this"
   ]
  },
  {
   "cell_type": "code",
   "execution_count": null,
   "metadata": {
    "collapsed": false
   },
   "outputs": [],
   "source": [
    "for item in [0, 1, 2]:\n",
    "    print( item )"
   ]
  },
  {
   "cell_type": "markdown",
   "metadata": {},
   "source": [
    "When we deal with numbers though, we don't need to specify all of the numbers if they are sequential. Instead we can use the `range()` function"
   ]
  },
  {
   "cell_type": "code",
   "execution_count": null,
   "metadata": {
    "collapsed": false
   },
   "outputs": [],
   "source": [
    "for item in range(3):\n",
    "    print( item )"
   ]
  },
  {
   "cell_type": "markdown",
   "metadata": {},
   "source": [
    "Now, I want to print all of the last names in this dictionary"
   ]
  },
  {
   "cell_type": "code",
   "execution_count": null,
   "metadata": {
    "collapsed": false
   },
   "outputs": [],
   "source": [
    "names_dict = {1 : {\"first_name\": \"Joe\", \"last_name\": \"Smith\"}, \n",
    "              2 : {\"first_name\": \"Mary\", \"last_name\": \"Smith\"},\n",
    "              3 : {\"first_name\": \"Pete\", \"last_name\": \"Smith\"}, \n",
    "              4 : {\"first_name\": \"Lily\", \"last_name\": \"Smith\"},\n",
    "              5 : {\"first_name\": \"Heinz\", \"last_name\": \"Maus\"}, \n",
    "              6 : {\"first_name\": \"Brigita\", \"last_name\": \"Maus\"},\n",
    "              7 : {\"first_name\": \"Juergen\", \"last_name\": \"Maus\"}, \n",
    "              8 : {\"first_name\": \"Jean\", \"last_name\": \"St. Croix\"},\n",
    "              9 : {\"first_name\": \"sophie\", \"last_name\": \"St. Croix\"}}"
   ]
  },
  {
   "cell_type": "code",
   "execution_count": null,
   "metadata": {
    "collapsed": false
   },
   "outputs": [],
   "source": []
  },
  {
   "cell_type": "markdown",
   "metadata": {},
   "source": [
    "Great! But now let's say that I want to create a new dictionary that has `last_name` as the key and the value is a `list` of all the first names that share a name."
   ]
  },
  {
   "cell_type": "code",
   "execution_count": null,
   "metadata": {
    "collapsed": false
   },
   "outputs": [],
   "source": [
    "#Create a new dictionary with Last Name as the key and the value being a list of first names\n",
    "\n",
    "\n"
   ]
  },
  {
   "cell_type": "markdown",
   "metadata": {},
   "source": [
    "Now I want you to iterate through this list and print the number of people with a given last name and then all of the first names."
   ]
  },
  {
   "cell_type": "code",
   "execution_count": null,
   "metadata": {
    "collapsed": false
   },
   "outputs": [],
   "source": [
    "#Print the last name, the number of people with that last name, and the first names\n",
    "\n",
    "\n"
   ]
  },
  {
   "cell_type": "markdown",
   "metadata": {},
   "source": [
    "# Exercises"
   ]
  },
  {
   "cell_type": "markdown",
   "metadata": {},
   "source": [
    "Now let's work with a numerical example. I want to print the next 20 numbers in the Fibonacci sequence. The formula to calculate a new Fibonacci number is\n",
    "\n",
    "$F_{n} = F_{n-1} + F_{n-2}$\n",
    "\n",
    "Hint: We'll probably want to use the `range()` function"
   ]
  },
  {
   "cell_type": "code",
   "execution_count": null,
   "metadata": {
    "collapsed": false
   },
   "outputs": [],
   "source": [
    "# Print the next 20 numbers in Fibonacci series\n",
    "fib_sequence = [1, 1, 2, 3, 5, 8]\n",
    "\n"
   ]
  },
  {
   "cell_type": "markdown",
   "metadata": {},
   "source": [
    "Now let's go one step further and calculate the next 10 rows in Pascal's Triangle.\n",
    "\n",
    "[Pascal's triangle][wp_pasc] is a 2-dimensional representation of the Fibonnacci sequence (sort of). A good explanation is this GIF from Wikipedia:\n",
    "\n",
    "[![Pascal's triangle, animated construction][gif]][wp_pasc_gif]\n",
    "\n",
    "[wp_pasc]: https://en.wikipedia.org/wiki/Pascal%27s_triangle\n",
    "[wp_pasc_gif]: https://en.wikipedia.org/wiki/File:PascalTriangleAnimated2.gif\n",
    "[gif]: ../images/PascalTriangleAnimated2.gif"
   ]
  },
  {
   "cell_type": "code",
   "execution_count": null,
   "metadata": {
    "collapsed": false
   },
   "outputs": [],
   "source": [
    "# Print the next 10 rows of Pascal's triangle\n",
    "rows = [ [1],\n",
    "         [1, 1],\n",
    "         [1, 2, 1],\n",
    "         [1, 3, 3, 1] ]\n",
    "\n",
    "\n"
   ]
  },
  {
   "cell_type": "code",
   "execution_count": null,
   "metadata": {
    "collapsed": false
   },
   "outputs": [],
   "source": [
    "from IPython.core.display import HTML\n",
    "\n",
    "def css_styling():\n",
    "    styles = open(\"../styles/custom.css\", \"r\").read()\n",
    "    return HTML(styles)\n",
    "css_styling()"
   ]
  },
  {
   "cell_type": "code",
   "execution_count": null,
   "metadata": {
    "collapsed": false
   },
   "outputs": [],
   "source": []
  }
 ],
 "metadata": {
  "kernelspec": {
   "display_name": "Python 3",
   "language": "python",
   "name": "python3"
  },
  "language_info": {
   "codemirror_mode": {
    "name": "ipython",
    "version": 3
   },
   "file_extension": ".py",
   "mimetype": "text/x-python",
   "name": "python",
   "nbconvert_exporter": "python",
   "pygments_lexer": "ipython3",
   "version": "3.4.3"
  }
 },
 "nbformat": 4,
 "nbformat_minor": 0
}
