{
 "metadata": {
  "name": "",
  "signature": "sha256:3d799a3625c75e297f0d9e606c2780a75ec533d2831fc6c5fd48e29d0a6191ab"
 },
 "nbformat": 3,
 "nbformat_minor": 0,
 "worksheets": [
  {
   "cells": [
    {
     "cell_type": "markdown",
     "metadata": {},
     "source": [
      "# Programming and Errors\n",
      "\n",
      "Now that we've convered the basic variable types, we're ready to start writing some real programs. To do that we'll need to learn something about controlling the \"flow\" of a program. However, as we type more lines of code and instructions for the computer to carry out, the more likely it is that we will write errors!\n",
      "\n",
      "Already you've seen some errors as I tried to show you what can't be done, but now it's time to make this systematic. Just like there are different data types, there are also different error types. Having different error types is to help you more easily identify what has gone wrong in your code. We're just going to cover the basic ones now though.\n",
      "\n",
      "##Errors related to syntax\n",
      "\n",
      "Like all programming languages Python needs you to write code a certain way so that it can understand your commands and translate them to the machine. This certain way is called its **syntax**. If you don't correctly write it, such as not having matched parentheses, brackets, or quotations marks this generates a `SyntaxError`."
     ]
    },
    {
     "cell_type": "code",
     "collapsed": false,
     "input": [
      "sentence = 'I am a sentence"
     ],
     "language": "python",
     "metadata": {},
     "outputs": [
      {
       "ename": "SyntaxError",
       "evalue": "EOL while scanning string literal (<ipython-input-2-a6097ed4dc2e>, line 1)",
       "output_type": "pyerr",
       "traceback": [
        "\u001b[0;36m  File \u001b[0;32m\"<ipython-input-2-a6097ed4dc2e>\"\u001b[0;36m, line \u001b[0;32m1\u001b[0m\n\u001b[0;31m    sentence = 'I am a sentence\u001b[0m\n\u001b[0m                               ^\u001b[0m\n\u001b[0;31mSyntaxError\u001b[0m\u001b[0;31m:\u001b[0m EOL while scanning string literal\n"
       ]
      }
     ],
     "prompt_number": 2
    },
    {
     "cell_type": "markdown",
     "metadata": {},
     "source": [
      "This is the `error` and the `traceback`. So let's tease these statements apart.\n",
      "\n",
      "`SyntaxError: EOL while scanning string literal`\n",
      "\n",
      "This is the type of error and it tells us, in its own language, what generated the error. We got a `SyntaxError` and that was because Python reached the end of the line (`EOL`) while it was scanning the string we started with `'` and it couldn't find the closing `'`.\n",
      "\n",
      "The first part is the `traceback`.\n",
      "\n",
      "`File \"<ipython-input-2-a6097ed4dc2e>\"`\n",
      "\n",
      "Tells us the file that the error occurred in. Since we are using an IPython notebook, this information isn't that useful but when you have your own scripts it can be helpful. Inside this file, the error happened at \n",
      "\n",
      "`line 1`\n",
      "\n",
      "`sentence = 'I am a sentence`\n",
      "\n",
      "This just tells us to look at the first line of the program and then shows us the line it had difficulty parsing. Now this information isn't always accurate, but Python does it's best to point out where the error happened. Depending upon the type of error, the real problem could be one line above or below where it points out that the error is occurring. Again, not perfect but much better than in many other languages.\n",
      "\n",
      "There is one more error related to syntax, it is called an `IndentationError`, but I'll give examples related to that when we get to controlling the flow of a program since we haven't seen why we need to indent any code yet."
     ]
    },
    {
     "cell_type": "markdown",
     "metadata": {},
     "source": [
      "##Errors related to variables\n",
      "\n",
      "Now another common form of error is a `TypeError`. This happens when we try to use a method that is for one data type on another data type that does not support it. Remember how sets were a unique collection of elements and we could not use additive or multiplicative operators with them? Well when we do:"
     ]
    },
    {
     "cell_type": "code",
     "collapsed": false,
     "input": [
      "{8, 7, 2} * 2"
     ],
     "language": "python",
     "metadata": {},
     "outputs": [
      {
       "ename": "TypeError",
       "evalue": "unsupported operand type(s) for *: 'set' and 'int'",
       "output_type": "pyerr",
       "traceback": [
        "\u001b[0;31m---------------------------------------------------------------------------\u001b[0m\n\u001b[0;31mTypeError\u001b[0m                                 Traceback (most recent call last)",
        "\u001b[0;32m<ipython-input-4-f7f53dd68d6c>\u001b[0m in \u001b[0;36m<module>\u001b[0;34m()\u001b[0m\n\u001b[0;32m----> 1\u001b[0;31m \u001b[0;34m{\u001b[0m\u001b[0;36m8\u001b[0m\u001b[0;34m,\u001b[0m \u001b[0;36m7\u001b[0m\u001b[0;34m,\u001b[0m \u001b[0;36m2\u001b[0m\u001b[0;34m}\u001b[0m \u001b[0;34m*\u001b[0m \u001b[0;36m2\u001b[0m\u001b[0;34m\u001b[0m\u001b[0m\n\u001b[0m",
        "\u001b[0;31mTypeError\u001b[0m: unsupported operand type(s) for *: 'set' and 'int'"
       ]
      }
     ],
     "prompt_number": 4
    },
    {
     "cell_type": "markdown",
     "metadata": {},
     "source": [
      "We get a type error. This would also happen if we tried to change an element of a `tuple` since it is **immutable**"
     ]
    },
    {
     "cell_type": "code",
     "collapsed": false,
     "input": [
      "example_tuple = (0, 2, 'a')\n",
      "example_tuple[0] = 'b'"
     ],
     "language": "python",
     "metadata": {},
     "outputs": [
      {
       "ename": "TypeError",
       "evalue": "'tuple' object does not support item assignment",
       "output_type": "pyerr",
       "traceback": [
        "\u001b[0;31m---------------------------------------------------------------------------\u001b[0m\n\u001b[0;31mTypeError\u001b[0m                                 Traceback (most recent call last)",
        "\u001b[0;32m<ipython-input-5-313dd6aa707b>\u001b[0m in \u001b[0;36m<module>\u001b[0;34m()\u001b[0m\n\u001b[1;32m      1\u001b[0m \u001b[0mexample_tuple\u001b[0m \u001b[0;34m=\u001b[0m \u001b[0;34m(\u001b[0m\u001b[0;36m0\u001b[0m\u001b[0;34m,\u001b[0m \u001b[0;36m2\u001b[0m\u001b[0;34m,\u001b[0m \u001b[0;34m'a'\u001b[0m\u001b[0;34m)\u001b[0m\u001b[0;34m\u001b[0m\u001b[0m\n\u001b[0;32m----> 2\u001b[0;31m \u001b[0mexample_tuple\u001b[0m\u001b[0;34m[\u001b[0m\u001b[0;36m0\u001b[0m\u001b[0;34m]\u001b[0m \u001b[0;34m=\u001b[0m \u001b[0;34m'b'\u001b[0m\u001b[0;34m\u001b[0m\u001b[0m\n\u001b[0m",
        "\u001b[0;31mTypeError\u001b[0m: 'tuple' object does not support item assignment"
       ]
      }
     ],
     "prompt_number": 5
    },
    {
     "cell_type": "markdown",
     "metadata": {},
     "source": [
      "If you get a `NameError`, that just means that you tried to use a variable that has not been created yet. So far I have yet to make a variable named `party` in this notebook so if I try to print it right now we will get a `NameError`."
     ]
    },
    {
     "cell_type": "code",
     "collapsed": false,
     "input": [
      "print( party )"
     ],
     "language": "python",
     "metadata": {},
     "outputs": [
      {
       "ename": "NameError",
       "evalue": "name 'party' is not defined",
       "output_type": "pyerr",
       "traceback": [
        "\u001b[0;31m---------------------------------------------------------------------------\u001b[0m\n\u001b[0;31mNameError\u001b[0m                                 Traceback (most recent call last)",
        "\u001b[0;32m<ipython-input-6-c209321df114>\u001b[0m in \u001b[0;36m<module>\u001b[0;34m()\u001b[0m\n\u001b[0;32m----> 1\u001b[0;31m \u001b[0mprint\u001b[0m\u001b[0;34m(\u001b[0m \u001b[0mparty\u001b[0m \u001b[0;34m)\u001b[0m\u001b[0;34m\u001b[0m\u001b[0m\n\u001b[0m",
        "\u001b[0;31mNameError\u001b[0m: name 'party' is not defined"
       ]
      }
     ],
     "prompt_number": 6
    },
    {
     "cell_type": "markdown",
     "metadata": {},
     "source": [
      "An `IndexError` occurs when we try to access an element of a `tuple` or `list` by index when that index doesn't exist in the variable (i.e. we give an index that is larger than the length of the variable)"
     ]
    },
    {
     "cell_type": "code",
     "collapsed": false,
     "input": [
      "example_list = [0, 1, 2]\n",
      "example_list[3]"
     ],
     "language": "python",
     "metadata": {},
     "outputs": [
      {
       "ename": "IndexError",
       "evalue": "list index out of range",
       "output_type": "pyerr",
       "traceback": [
        "\u001b[0;31m---------------------------------------------------------------------------\u001b[0m\n\u001b[0;31mIndexError\u001b[0m                                Traceback (most recent call last)",
        "\u001b[0;32m<ipython-input-7-834d0622951e>\u001b[0m in \u001b[0;36m<module>\u001b[0;34m()\u001b[0m\n\u001b[1;32m      1\u001b[0m \u001b[0mexample_list\u001b[0m \u001b[0;34m=\u001b[0m \u001b[0;34m[\u001b[0m\u001b[0;36m0\u001b[0m\u001b[0;34m,\u001b[0m \u001b[0;36m1\u001b[0m\u001b[0;34m,\u001b[0m \u001b[0;36m2\u001b[0m\u001b[0;34m]\u001b[0m\u001b[0;34m\u001b[0m\u001b[0m\n\u001b[0;32m----> 2\u001b[0;31m \u001b[0mexample_list\u001b[0m\u001b[0;34m[\u001b[0m\u001b[0;36m3\u001b[0m\u001b[0;34m]\u001b[0m\u001b[0;34m\u001b[0m\u001b[0m\n\u001b[0m",
        "\u001b[0;31mIndexError\u001b[0m: list index out of range"
       ]
      }
     ],
     "prompt_number": 7
    },
    {
     "cell_type": "markdown",
     "metadata": {},
     "source": [
      "Analogously, if we try to access a `key` in a dictionary that it doesn't have we will get a `KeyError`."
     ]
    },
    {
     "cell_type": "code",
     "collapsed": false,
     "input": [
      "example_dict = {'test' : 1}\n",
      "example_dict['party']"
     ],
     "language": "python",
     "metadata": {},
     "outputs": [
      {
       "ename": "KeyError",
       "evalue": "'party'",
       "output_type": "pyerr",
       "traceback": [
        "\u001b[0;31m---------------------------------------------------------------------------\u001b[0m\n\u001b[0;31mKeyError\u001b[0m                                  Traceback (most recent call last)",
        "\u001b[0;32m<ipython-input-8-6fdd4b0c7092>\u001b[0m in \u001b[0;36m<module>\u001b[0;34m()\u001b[0m\n\u001b[1;32m      1\u001b[0m \u001b[0mexample_dict\u001b[0m \u001b[0;34m=\u001b[0m \u001b[0;34m{\u001b[0m\u001b[0;34m'test'\u001b[0m \u001b[0;34m:\u001b[0m \u001b[0;36m1\u001b[0m\u001b[0;34m}\u001b[0m\u001b[0;34m\u001b[0m\u001b[0m\n\u001b[0;32m----> 2\u001b[0;31m \u001b[0mexample_dict\u001b[0m\u001b[0;34m[\u001b[0m\u001b[0;34m'party'\u001b[0m\u001b[0;34m]\u001b[0m\u001b[0;34m\u001b[0m\u001b[0m\n\u001b[0m",
        "\u001b[0;31mKeyError\u001b[0m: 'party'"
       ]
      }
     ],
     "prompt_number": 8
    },
    {
     "cell_type": "markdown",
     "metadata": {},
     "source": [
      "Likewise, if we try to use some attribute of a variable that doesn't exist then we get an `AttributeError`. This can happen if we try to use a built-in function that doesn't exist for a variable. Going back to our `example_list` we'll try to use a built-in function that we doesnt' know exist."
     ]
    },
    {
     "cell_type": "code",
     "collapsed": false,
     "input": [
      "example_list.party()"
     ],
     "language": "python",
     "metadata": {},
     "outputs": [
      {
       "ename": "AttributeError",
       "evalue": "'list' object has no attribute 'party'",
       "output_type": "pyerr",
       "traceback": [
        "\u001b[0;31m---------------------------------------------------------------------------\u001b[0m\n\u001b[0;31mAttributeError\u001b[0m                            Traceback (most recent call last)",
        "\u001b[0;32m<ipython-input-10-f9767f29680f>\u001b[0m in \u001b[0;36m<module>\u001b[0;34m()\u001b[0m\n\u001b[0;32m----> 1\u001b[0;31m \u001b[0mexample_list\u001b[0m\u001b[0;34m.\u001b[0m\u001b[0mparty\u001b[0m\u001b[0;34m(\u001b[0m\u001b[0;34m)\u001b[0m\u001b[0;34m\u001b[0m\u001b[0m\n\u001b[0m",
        "\u001b[0;31mAttributeError\u001b[0m: 'list' object has no attribute 'party'"
       ]
      }
     ],
     "prompt_number": 10
    },
    {
     "cell_type": "markdown",
     "metadata": {},
     "source": [
      "Analogously, if we give the input to a function but it doesn't make sense, we will get a `ValueError`. This is the error we get when we try to remove a value from a `list` when it isn't in the `list` variable."
     ]
    },
    {
     "cell_type": "code",
     "collapsed": false,
     "input": [
      "example_list"
     ],
     "language": "python",
     "metadata": {},
     "outputs": [
      {
       "metadata": {},
       "output_type": "pyout",
       "prompt_number": 14,
       "text": [
        "[0, 1, 2]"
       ]
      }
     ],
     "prompt_number": 14
    },
    {
     "cell_type": "code",
     "collapsed": false,
     "input": [
      "example_list.remove(3)"
     ],
     "language": "python",
     "metadata": {},
     "outputs": [
      {
       "ename": "ValueError",
       "evalue": "list.remove(x): x not in list",
       "output_type": "pyerr",
       "traceback": [
        "\u001b[0;31m---------------------------------------------------------------------------\u001b[0m\n\u001b[0;31mValueError\u001b[0m                                Traceback (most recent call last)",
        "\u001b[0;32m<ipython-input-15-3c065eb36afb>\u001b[0m in \u001b[0;36m<module>\u001b[0;34m()\u001b[0m\n\u001b[0;32m----> 1\u001b[0;31m \u001b[0mexample_list\u001b[0m\u001b[0;34m.\u001b[0m\u001b[0mremove\u001b[0m\u001b[0;34m(\u001b[0m\u001b[0;36m3\u001b[0m\u001b[0;34m)\u001b[0m\u001b[0;34m\u001b[0m\u001b[0m\n\u001b[0m",
        "\u001b[0;31mValueError\u001b[0m: list.remove(x): x not in list"
       ]
      }
     ],
     "prompt_number": 15
    },
    {
     "cell_type": "markdown",
     "metadata": {},
     "source": [
      "These are the errors that you are most likely to encounter in this and the following lessons. For the full list of exceptions and errors you can refer to the official Python documentation.\n",
      "\n",
      "Python Built-in Exceptions docs:\n",
      "https://docs.python.org/3.4/library/exceptions.html\n",
      "\n",
      "Python Error Handling docs:\n",
      "https://docs.python.org/3.4/tutorial/errors.html"
     ]
    },
    {
     "cell_type": "markdown",
     "metadata": {},
     "source": [
      "#Conditionals\n",
      "\n",
      "One of the most basic parts of a program is the ability to check and see if a condition has been reached and, if so, do something about it. In regular language we would typically express this as:\n",
      "\n",
      "\"If you are going to the store then can you please buy milk?\"\n",
      "\n",
      "In Python we also use the word `if` to denote a conditional. So let's say that I want to write a program to ask people for their names and, if I find that the your are my friend Peter, say 'hello' back.\n",
      "\n",
      "First we'll start by listing the names that I know."
     ]
    },
    {
     "cell_type": "code",
     "collapsed": false,
     "input": [
      "my_friend = 'Peter'"
     ],
     "language": "python",
     "metadata": {},
     "outputs": [],
     "prompt_number": 25
    },
    {
     "cell_type": "markdown",
     "metadata": {},
     "source": [
      "Now I'll ask for your name. We can get input from a user with the `input()` function. When we use this function whatever the user types will be captured."
     ]
    },
    {
     "cell_type": "code",
     "collapsed": false,
     "input": [
      "your_name = input(\"What is your name? \")"
     ],
     "language": "python",
     "metadata": {},
     "outputs": [
      {
       "name": "stdout",
       "output_type": "stream",
       "stream": "stdout",
       "text": [
        "What is your name? Joan\n"
       ]
      }
     ],
     "prompt_number": 24
    },
    {
     "cell_type": "markdown",
     "metadata": {},
     "source": [
      "Now I just need to check and see if you are Peter. To do that I'll see if `your_name` is the same as `my_friend`."
     ]
    },
    {
     "cell_type": "code",
     "collapsed": false,
     "input": [
      "if my_friend == your_name:\n",
      "    print(\"Hi \" + my_friend + \"! It's good to see you again!\")"
     ],
     "language": "python",
     "metadata": {},
     "outputs": [],
     "prompt_number": 26
    },
    {
     "cell_type": "markdown",
     "metadata": {},
     "source": [
      "If you aren't Peter, then you shouldn't see anything. I'll copy all of these lines into the cell below for you to play with now. This time when you execute the cell, just lie and say that you are \"Peter\". My program should say Hi to you!\n",
      "\n",
      "Now here you will notice that we indented the `print()` statement that is after the `if` statement. In Python we always indent a block of code that is a part of a condtion. Once we unindent the code, then those lines won't be a part of the `if` statement. If your indentation is wrong you will get an `IndentationError`."
     ]
    },
    {
     "cell_type": "code",
     "collapsed": false,
     "input": [
      "my_friend = 'Peter'\n",
      "your_name = input(\"What is your name? \")\n",
      "if my_friend == your_name:\n",
      "    print(\"Hi \" + my_friend + \"! It's good to see you again!\")"
     ],
     "language": "python",
     "metadata": {},
     "outputs": [
      {
       "name": "stdout",
       "output_type": "stream",
       "stream": "stdout",
       "text": [
        "What is your name? Peter\n"
       ]
      },
      {
       "output_type": "stream",
       "stream": "stdout",
       "text": [
        "Hi Peter! It's good to see you again!\n"
       ]
      }
     ],
     "prompt_number": 27
    },
    {
     "cell_type": "markdown",
     "metadata": {},
     "source": [
      "But what if I have more than one friend? (I know, I know, you don't think that's possible!)\n",
      "\n",
      "I could just store all of my friends' names in a list. I'll make that now."
     ]
    },
    {
     "cell_type": "code",
     "collapsed": false,
     "input": [
      "friends_list = ['Peter', 'Samantha', 'Adam']"
     ],
     "language": "python",
     "metadata": {},
     "outputs": [],
     "prompt_number": 28
    },
    {
     "cell_type": "markdown",
     "metadata": {},
     "source": [
      "Now I can ask for your name again but how do I check that your name is in the `friends_list`? I can't do\n",
      "\n",
      "`if your_name == friends_list`\n",
      "\n",
      "because those two variables aren't even the same data type, `your_name` is a `string` and `friends_list` is a `list`. If the two variables aren't even the same type there's no way they can be equal to each other!\n",
      "\n",
      "Instead we actually use some regular English language again, I just ask if `your_name` is `in` the `friends_list`."
     ]
    },
    {
     "cell_type": "code",
     "collapsed": false,
     "input": [
      "your_name = input(\"What is your name? \")\n",
      "if your_name in friends_list:\n",
      "    print(\"Hi \" + your_name + \"! It's good to see you again!\")"
     ],
     "language": "python",
     "metadata": {},
     "outputs": [
      {
       "name": "stdout",
       "output_type": "stream",
       "stream": "stdout",
       "text": [
        "What is your name? Samantha\n"
       ]
      },
      {
       "output_type": "stream",
       "stream": "stdout",
       "text": [
        "Hi Samantha! It's good to see you again!\n"
       ]
      }
     ],
     "prompt_number": 30
    },
    {
     "cell_type": "markdown",
     "metadata": {},
     "source": [
      "Notice how I changed the `print` statement to use the `your_name` variable? That's actually an important change, because if I continued to use the `my_friend` variable I would always say 'Hi' to Peter even when it was someone else. That would just be embarrassing.\n",
      "\n",
      "But that is an important lesson, lots of time we copy or reuse code. Always make sure to go back through it and make sure that it is all right for the current code you want to write."
     ]
    },
    {
     "cell_type": "markdown",
     "metadata": {},
     "source": [
      "Now we have the basics working, but it's a bit brusque of me to just say nothing to people that aren't my friends. It really should be more like `if` I see a friend say hello, `else` introduce myself."
     ]
    },
    {
     "cell_type": "code",
     "collapsed": false,
     "input": [
      "your_name = input(\"What is your name? \")\n",
      "if your_name in friends_list:\n",
      "    print(\"Hi \" + your_name + \"! It's good to see you again!\")\n",
      "else:\n",
      "    print(\"Hi \" + your_name + \"! I'm Adam and it's nice to meet you\")"
     ],
     "language": "python",
     "metadata": {},
     "outputs": [
      {
       "name": "stdout",
       "output_type": "stream",
       "stream": "stdout",
       "text": [
        "What is your name? Jackson\n"
       ]
      },
      {
       "output_type": "stream",
       "stream": "stdout",
       "text": [
        "Hi Jackson! I'm Adam and it's nice to meet you\n"
       ]
      }
     ],
     "prompt_number": 31
    },
    {
     "cell_type": "markdown",
     "metadata": {},
     "source": [
      "Great! Except....what about when I run into someone that I know but I'm not just friends with. I'll look like a real idiot if I keep introducing myself to people I already know. If only there was some way to give a second condition...\n",
      "\n",
      "Luckily there is! We use the `elif` statement in Python (it stands for `else if`). We can have as many elif statements as we want, they just have to occur after an `if` statement and before an `else` statement.\n",
      "\n",
      "So let's clear up who my acquaintances are and write this code again."
     ]
    },
    {
     "cell_type": "code",
     "collapsed": false,
     "input": [
      "acquaintance_list = ['Max', 'Janet', 'Ben']\n",
      "\n",
      "your_name = input(\"What is your name? \")\n",
      "if your_name in friends_list:\n",
      "    print(\"Hi \" + your_name + \"! It's good to see you again!\")\n",
      "elif your_name in acquaintance_list:\n",
      "    print(\"Hi \" + your_name + \". How about those business arrangements, huh?\")\n",
      "else:\n",
      "    print(\"Hi \" + your_name + \"! I'm Adam and it's nice to meet you\")"
     ],
     "language": "python",
     "metadata": {},
     "outputs": [
      {
       "name": "stdout",
       "output_type": "stream",
       "stream": "stdout",
       "text": [
        "What is your name? Bennifer\n"
       ]
      },
      {
       "output_type": "stream",
       "stream": "stdout",
       "text": [
        "Hi Bennifer! I'm Adam and it's nice to meet you\n"
       ]
      }
     ],
     "prompt_number": 34
    },
    {
     "cell_type": "markdown",
     "metadata": {},
     "source": [
      "Wonderful! Well that's the basics of checking for condtions. Now let's move on to the other important flow control aspect, loops."
     ]
    },
    {
     "cell_type": "markdown",
     "metadata": {},
     "source": [
      "#Loops\n",
      "\n",
      "A loop is used to repeat a block of commands multiple times. There are two ways to write a loop, one is a `for` loop and the other is a `while` loop. We'll start by going over how to do a `for` loop.\n",
      "\n",
      "A `for` loop lets us repeat a set of commands a defined number of times. The syntax for a `for` loop is just:\n",
      "\n",
      "    for item in sequence:\n",
      "        command one\n",
      "        command two\n",
      "        ...\n",
      "        \n",
      "`sequence` needs to be one of the collection data types (`list`, `tuple`, `set`, or `dict`) since those are the ones we've learned so far. Okay, so let's work through this a little bit more with an example.\n",
      "\n",
      "    for item in [0, 1, 2]:\n",
      "        command one\n",
      "        ....\n",
      "        \n"
     ]
    },
    {
     "cell_type": "code",
     "collapsed": false,
     "input": [],
     "language": "python",
     "metadata": {},
     "outputs": []
    },
    {
     "cell_type": "code",
     "collapsed": false,
     "input": [],
     "language": "python",
     "metadata": {},
     "outputs": []
    },
    {
     "cell_type": "code",
     "collapsed": false,
     "input": [],
     "language": "python",
     "metadata": {},
     "outputs": []
    },
    {
     "cell_type": "code",
     "collapsed": false,
     "input": [],
     "language": "python",
     "metadata": {},
     "outputs": []
    },
    {
     "cell_type": "code",
     "collapsed": false,
     "input": [],
     "language": "python",
     "metadata": {},
     "outputs": []
    },
    {
     "cell_type": "code",
     "collapsed": false,
     "input": [],
     "language": "python",
     "metadata": {},
     "outputs": []
    },
    {
     "cell_type": "code",
     "collapsed": false,
     "input": [
      "for i in {1, 2, 3}:\n",
      "    print(i)"
     ],
     "language": "python",
     "metadata": {},
     "outputs": [
      {
       "output_type": "stream",
       "stream": "stdout",
       "text": [
        "1\n",
        "2\n",
        "3\n"
       ]
      }
     ],
     "prompt_number": 35
    },
    {
     "cell_type": "heading",
     "level": 1,
     "metadata": {},
     "source": [
      "Loops"
     ]
    },
    {
     "cell_type": "heading",
     "level": 3,
     "metadata": {},
     "source": [
      "Loops are used to repeat a set of commands a pre-defined number of times."
     ]
    },
    {
     "cell_type": "markdown",
     "metadata": {},
     "source": [
      "The first case we will study is the **for** loop. The syntax is: \n",
      "\n",
      "    for item in list:\n",
      "\n",
      "        set of commands\n",
      "\n",
      "First, we are going to print the contents of a list one by one."
     ]
    },
    {
     "cell_type": "code",
     "collapsed": false,
     "input": [
      "a_list = [1, 2, 3, 4, 5]\n",
      "\n",
      "#Is this clear?"
     ],
     "language": "python",
     "metadata": {},
     "outputs": []
    },
    {
     "cell_type": "markdown",
     "metadata": {},
     "source": [
      "Next, we will print the contents of a dictionary mapped to the key \"last_name\"."
     ]
    },
    {
     "cell_type": "code",
     "collapsed": false,
     "input": [
      "a_dict = {1: {\"first_name\": \"Joe\", \"last_name\": \"Smith\"}, 2:{\"first_name\": \"Mary\", \"last_name\": \"Smith\"},\n",
      "          3: {\"first_name\": \"Pete\", \"last_name\": \"Smith\"}, 4:{\"first_name\": \"Lily\", \"last_name\": \"Smith\"},\n",
      "          5: {\"first_name\": \"Heinz\", \"last_name\": \"Maus\"}, 6:{\"first_name\": \"Brigita\", \"last_name\": \"Maus\"},\n",
      "          7: {\"first_name\": \"Juergen\", \"last_name\": \"Maus\"}, 8:{\"first_name\": \"Jean\", \"last_name\": \"St. Croix\"},\n",
      "          9: {\"first_name\": \"sophie\", \"last_name\": \"St. Croix\"}}\n",
      "\n",
      "#Is this clear?"
     ],
     "language": "python",
     "metadata": {},
     "outputs": []
    },
    {
     "cell_type": "markdown",
     "metadata": {},
     "source": [
      "The other way to implement a loop in Python is using a **while** loop.  The syntax is:\n",
      "\n",
      "    while (conditions is true):\n",
      "    \n",
      "            set of commands\n",
      "            \n",
      "In the following example, we will use the while loop to sum all integers smaller than 10."
     ]
    },
    {
     "cell_type": "code",
     "collapsed": false,
     "input": [],
     "language": "python",
     "metadata": {},
     "outputs": []
    },
    {
     "cell_type": "markdown",
     "metadata": {},
     "source": [
      "The next cells contain exercises for you to complete."
     ]
    },
    {
     "cell_type": "code",
     "collapsed": false,
     "input": [
      "# Count by 3s until 51"
     ],
     "language": "python",
     "metadata": {},
     "outputs": []
    },
    {
     "cell_type": "code",
     "collapsed": false,
     "input": [
      "# Print the next 20 numbers in Fibonacci series\n",
      "# (1, 1, 2, 3, 5, 8, ... )"
     ],
     "language": "python",
     "metadata": {},
     "outputs": []
    },
    {
     "cell_type": "code",
     "collapsed": false,
     "input": [
      "# Print the next 10 rows of Pascal's triangle\n",
      "# 1\n",
      "# 1 1\n",
      "# 1 2 1 \n",
      "# 1 3 3 1 \n",
      "# ..."
     ],
     "language": "python",
     "metadata": {},
     "outputs": []
    },
    {
     "cell_type": "code",
     "collapsed": false,
     "input": [
      "# Take a_dict from above and print a line for each last name, \n",
      "# followed by the number of individuals with that last name and their first names"
     ],
     "language": "python",
     "metadata": {},
     "outputs": []
    },
    {
     "cell_type": "heading",
     "level": 1,
     "metadata": {},
     "source": [
      "Handling exceptions"
     ]
    },
    {
     "cell_type": "heading",
     "level": 3,
     "metadata": {},
     "source": [
      "Python encourages the identification of errors prior to their occurrence so that the code can continue its execution or can terminate gracefully."
     ]
    },
    {
     "cell_type": "markdown",
     "metadata": {},
     "source": [
      "To check for an error one use the command **try**. Its syntax is as follows:\n",
      "\n",
      "    try:\n",
      "\n",
      "        set of commands 1\n",
      "\n",
      "    except error_type_1 as e:\n",
      "    \n",
      "        set of commands 2\n",
      "        \n",
      "    except error_type_2:\n",
      "    \n",
      "        set of commands 3\n",
      "        \n",
      "    else:\n",
      "    \n",
      "        set of commands 4"
     ]
    },
    {
     "cell_type": "code",
     "collapsed": false,
     "input": [
      "one_number = float( input(\"Enter a number:\\t\") )\n",
      "another_number = float( input(\"Enter another number:\\t\"))\n",
      "\n",
      "try:\n",
      "    print()\n",
      "    print(one_number / another_number)\n",
      "except ZeroDivisionError as e:\n",
      "    print(\"I guess your 'another number' was zero because I got a \\'{0}\\' error.\".format(e))\n",
      "    \n",
      "#Is this clear?"
     ],
     "language": "python",
     "metadata": {},
     "outputs": []
    },
    {
     "cell_type": "code",
     "collapsed": false,
     "input": [
      "with open(\"../Data/gpa_data.csv\", \"r\") as data:\n",
      "    all_lines = data.readlines()\n",
      "\n",
      "gpa_list = []\n",
      "for line in all_lines[1:]:\n",
      "    gpa_list.append( line.strip().split(\",\") )\n",
      "        \n",
      "print(gpa_list[3])"
     ],
     "language": "python",
     "metadata": {},
     "outputs": []
    },
    {
     "cell_type": "markdown",
     "metadata": {},
     "source": [
      "#Exercises"
     ]
    },
    {
     "cell_type": "markdown",
     "metadata": {},
     "source": [
      "Exercises completed!"
     ]
    },
    {
     "cell_type": "code",
     "collapsed": false,
     "input": [
      "from IPython.core.display import HTML\n",
      "\n",
      "def css_styling():\n",
      "    styles = open(\"../styles/custom.css\", \"r\").read()\n",
      "    return HTML(styles)\n",
      "css_styling()"
     ],
     "language": "python",
     "metadata": {},
     "outputs": [
      {
       "html": [
        "<style>\n",
        "    @font-face {\n",
        "        font-family: \"Computer Modern\";\n",
        "        src: url('http://9dbb143991406a7c655e-aa5fcb0a5a4ec34cff238a2d56ca4144.r56.cf5.rackcdn.com/cmunss.otf');\n",
        "    }\n",
        "    @font-face {\n",
        "        font-family: \"Computer Modern\";\n",
        "        font-weight: bold;\n",
        "        src: url('http://9dbb143991406a7c655e-aa5fcb0a5a4ec34cff238a2d56ca4144.r56.cf5.rackcdn.com/cmunsx.otf');\n",
        "    }\n",
        "    @font-face {\n",
        "        font-family: \"Computer Modern\";\n",
        "        font-style: oblique;\n",
        "        src: url('http://9dbb143991406a7c655e-aa5fcb0a5a4ec34cff238a2d56ca4144.r56.cf5.rackcdn.com/cmunsi.otf');\n",
        "    }\n",
        "    @font-face {\n",
        "        font-family: \"Computer Modern\";\n",
        "        font-weight: bold;\n",
        "        font-style: oblique;\n",
        "        src: url('http://9dbb143991406a7c655e-aa5fcb0a5a4ec34cff238a2d56ca4144.r56.cf5.rackcdn.com/cmunso.otf');\n",
        "    }\n",
        "    div.cell{\n",
        "        width:800px;\n",
        "        margin-left:16% !important;\n",
        "        margin-right:auto;\n",
        "    }\n",
        "    h1 {\n",
        "        font-family: Helvetica, serif;\n",
        "    }\n",
        "    h4{\n",
        "        margin-top:12px;\n",
        "        margin-bottom: 3px;\n",
        "       }\n",
        "    div.text_cell_render{\n",
        "        font-family: Computer Modern, \"Helvetica Neue\", Arial, Helvetica, Geneva, sans-serif;\n",
        "        line-height: 145%;\n",
        "        font-size: 130%;\n",
        "        width:800px;\n",
        "        margin-left:auto;\n",
        "        margin-right:auto;\n",
        "    }\n",
        "    .CodeMirror{\n",
        "            font-family: \"Source Code Pro\", source-code-pro,Consolas, monospace;\n",
        "    }\n",
        "    .prompt{\n",
        "        display: None;\n",
        "    }\n",
        "    .text_cell_render h5 {\n",
        "        font-weight: 300;\n",
        "        font-size: 22pt;\n",
        "        color: #4057A1;\n",
        "        font-style: italic;\n",
        "        margin-bottom: .5em;\n",
        "        margin-top: 0.5em;\n",
        "        display: block;\n",
        "    }\n",
        "    \n",
        "    .warning{\n",
        "        color: rgb( 240, 20, 20 )\n",
        "        }  \n",
        "</style>\n",
        "<script>\n",
        "    MathJax.Hub.Config({\n",
        "                        TeX: {\n",
        "                           extensions: [\"AMSmath.js\"]\n",
        "                           },\n",
        "                tex2jax: {\n",
        "                    inlineMath: [ ['$','$'], [\"\\\\(\",\"\\\\)\"] ],\n",
        "                    displayMath: [ ['$$','$$'], [\"\\\\[\",\"\\\\]\"] ]\n",
        "                },\n",
        "                displayAlign: 'center', // Change this to 'center' to center equations.\n",
        "                \"HTML-CSS\": {\n",
        "                    styles: {'.MathJax_Display': {\"margin\": 4}}\n",
        "                }\n",
        "        });\n",
        "</script>\n"
       ],
       "metadata": {},
       "output_type": "pyout",
       "prompt_number": 1,
       "text": [
        "<IPython.core.display.HTML at 0x106e2e390>"
       ]
      }
     ],
     "prompt_number": 1
    },
    {
     "cell_type": "code",
     "collapsed": false,
     "input": [],
     "language": "python",
     "metadata": {},
     "outputs": []
    }
   ],
   "metadata": {}
  }
 ]
}