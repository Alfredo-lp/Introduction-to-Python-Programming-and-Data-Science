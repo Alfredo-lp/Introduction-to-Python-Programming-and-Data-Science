{
 "metadata": {
  "name": "",
  "signature": "sha256:958e22079b3c914d28d8ec87448f31e16757d7826f0be79d508dd8c2af398796"
 },
 "nbformat": 3,
 "nbformat_minor": 0,
 "worksheets": [
  {
   "cells": [
    {
     "cell_type": "heading",
     "level": 1,
     "metadata": {},
     "source": [
      "The nature of code development"
     ]
    },
    {
     "cell_type": "markdown",
     "metadata": {},
     "source": [
      "  "
     ]
    },
    {
     "cell_type": "markdown",
     "metadata": {},
     "source": [
      "Before Python executes your source, it parses raw text (\u201csource code\u201d) into logical elements it can understand (\u201cbyte code\u201d).\n",
      " \n",
      "Like all programming languages, Python has a specific syntax you must follow so that it can understand your code.\n",
      "\n",
      "While you are writing code, the most common type of error you will generate is a so-called **SyntaxError**. These errors occur because you mismatched some brackets or quotation marks, forgot colons, or indented code incorrectly.  The latter actually generates its own error: **IndentationError**."
     ]
    },
    {
     "cell_type": "markdown",
     "metadata": {},
     "source": [
      "  "
     ]
    },
    {
     "cell_type": "markdown",
     "metadata": {},
     "source": [
      "Another common type of error occurs when your code attempts to access something that is not there. There are 4 such types of errors.\n",
      "\n",
      "**IndexError** means that you tried to access an item in a list of tuple using an index that is out of bounds.\n",
      "\n",
      "**KeyError** means that you tried to access an item in a set of dictionary using an undefined key.\n",
      "\n",
      "**NameError** means that you tried to access an object (data, function, package) that has not yet been defined.\n",
      "\n",
      "**AttributeError** means that you tried to acess an attribute of an object that is not defined. Note that for this error to occur the object for which you are trying to access the attribute must is defined!"
     ]
    },
    {
     "cell_type": "markdown",
     "metadata": {},
     "source": [
      "  "
     ]
    },
    {
     "cell_type": "markdown",
     "metadata": {},
     "source": [
      "The subtlest errors occurs when you are have a wrong idea about the type of an object and try to perform an operation that is not allowed.  **If you are lucky**, you will get an error and will be able to correct your code. There are 3 types of errors that indicate this problem.\n",
      "\n",
      "**ZeroDivisionError** means that you are attempted to divide two number and that the denominator is zero or is interpreted as zero.\n",
      "\n",
      "**TypeError** means that you attempted to perform an operation that is not allowed for the object type being operated upon.\n",
      "\n",
      "**ValueError** means that a function took as input a value on which it cannot execute the operations."
     ]
    },
    {
     "cell_type": "markdown",
     "metadata": {},
     "source": [
      "  \n"
     ]
    },
    {
     "cell_type": "markdown",
     "metadata": {},
     "source": [
      "Python Built-in Exceptions docs:\n",
      "https://docs.python.org/3.4/library/exceptions.html\n",
      "\n",
      "Python Error Handling docs:\n",
      "https://docs.python.org/3.4/tutorial/errors.html"
     ]
    },
    {
     "cell_type": "markdown",
     "metadata": {},
     "source": [
      "  "
     ]
    },
    {
     "cell_type": "heading",
     "level": 2,
     "metadata": {},
     "source": [
      "Interpreting error messages"
     ]
    },
    {
     "cell_type": "code",
     "collapsed": false,
     "input": [
      "a = (2 + 2]"
     ],
     "language": "python",
     "metadata": {},
     "outputs": []
    },
    {
     "cell_type": "code",
     "collapsed": false,
     "input": [
      "b"
     ],
     "language": "python",
     "metadata": {},
     "outputs": []
    },
    {
     "cell_type": "code",
     "collapsed": false,
     "input": [
      "c = 4\n",
      "d = 1 - 1\n",
      "\n",
      "c / d"
     ],
     "language": "python",
     "metadata": {},
     "outputs": []
    },
    {
     "cell_type": "code",
     "collapsed": false,
     "input": [
      "a_list = [\"Hello\", \"World\"]\n",
      "\n",
      "a_list[3]"
     ],
     "language": "python",
     "metadata": {},
     "outputs": []
    },
    {
     "cell_type": "code",
     "collapsed": false,
     "input": [
      "a_dict = {1: \"Hello\", 2: \"World\"}\n",
      "\n",
      "a_dict[3]"
     ],
     "language": "python",
     "metadata": {},
     "outputs": []
    },
    {
     "cell_type": "code",
     "collapsed": false,
     "input": [
      "a_dict[1] * c"
     ],
     "language": "python",
     "metadata": {},
     "outputs": []
    },
    {
     "cell_type": "code",
     "collapsed": false,
     "input": [
      "e = \"five\"\n",
      "\n",
      "int(e)"
     ],
     "language": "python",
     "metadata": {},
     "outputs": []
    },
    {
     "cell_type": "code",
     "collapsed": false,
     "input": [
      "a_tuple = (1, 2)\n",
      "\n",
      "a_tuple.add(3)"
     ],
     "language": "python",
     "metadata": {},
     "outputs": []
    },
    {
     "cell_type": "code",
     "collapsed": false,
     "input": [
      "# create socrative quizzes for examples in the next cells (Allow for multiple answers since there will be multiple errors)\n",
      "\n",
      "38*[6**2] / root"
     ],
     "language": "python",
     "metadata": {},
     "outputs": []
    },
    {
     "cell_type": "code",
     "collapsed": false,
     "input": [
      "a = True\n",
      "b = False\n",
      "\n",
      "a / b"
     ],
     "language": "python",
     "metadata": {},
     "outputs": []
    },
    {
     "cell_type": "code",
     "collapsed": false,
     "input": [
      "a_tuple(2)"
     ],
     "language": "python",
     "metadata": {},
     "outputs": []
    },
    {
     "cell_type": "code",
     "collapsed": false,
     "input": [
      "a_dict['1']"
     ],
     "language": "python",
     "metadata": {},
     "outputs": []
    },
    {
     "cell_type": "code",
     "collapsed": false,
     "input": [],
     "language": "python",
     "metadata": {},
     "outputs": []
    },
    {
     "cell_type": "code",
     "collapsed": false,
     "input": [
      "int('5.3')"
     ],
     "language": "python",
     "metadata": {},
     "outputs": []
    },
    {
     "cell_type": "heading",
     "level": 1,
     "metadata": {},
     "source": [
      "Loops"
     ]
    },
    {
     "cell_type": "heading",
     "level": 3,
     "metadata": {},
     "source": [
      "Loops are used to repeat a set of commands a pre-defined number of times."
     ]
    },
    {
     "cell_type": "markdown",
     "metadata": {},
     "source": [
      "The first case we will study is the **for** loop. The syntax is: \n",
      "\n",
      "    for item in list:\n",
      "\n",
      "        set of commands\n",
      "\n",
      "First, we are going to print the contents of a list one by one."
     ]
    },
    {
     "cell_type": "code",
     "collapsed": false,
     "input": [
      "a_list = [1, 2, 3, 4, 5]\n",
      "\n",
      "#Is this clear?"
     ],
     "language": "python",
     "metadata": {},
     "outputs": []
    },
    {
     "cell_type": "markdown",
     "metadata": {},
     "source": [
      "Next, we will print the contents of a dictionary mapped to the key \"last_name\"."
     ]
    },
    {
     "cell_type": "code",
     "collapsed": false,
     "input": [
      "a_dict = {1: {\"first_name\": \"Joe\", \"last_name\": \"Smith\"}, 2:{\"first_name\": \"Mary\", \"last_name\": \"Smith\"},\n",
      "          3: {\"first_name\": \"Pete\", \"last_name\": \"Smith\"}, 4:{\"first_name\": \"Lily\", \"last_name\": \"Smith\"},\n",
      "          5: {\"first_name\": \"Heinz\", \"last_name\": \"Maus\"}, 6:{\"first_name\": \"Brigita\", \"last_name\": \"Maus\"},\n",
      "          7: {\"first_name\": \"Juergen\", \"last_name\": \"Maus\"}, 8:{\"first_name\": \"Jean\", \"last_name\": \"St. Croix\"},\n",
      "          9: {\"first_name\": \"sophie\", \"last_name\": \"St. Croix\"}}\n",
      "\n",
      "#Is this clear?"
     ],
     "language": "python",
     "metadata": {},
     "outputs": []
    },
    {
     "cell_type": "markdown",
     "metadata": {},
     "source": [
      "The other way to implement a loop in Python is using a **while** loop.  The syntax is:\n",
      "\n",
      "    while (conditions is true):\n",
      "    \n",
      "            set of commands\n",
      "            \n",
      "In the following example, we will use the while loop to sum all integers smaller than 10."
     ]
    },
    {
     "cell_type": "code",
     "collapsed": false,
     "input": [],
     "language": "python",
     "metadata": {},
     "outputs": []
    },
    {
     "cell_type": "markdown",
     "metadata": {},
     "source": [
      "The next cells contain exercises for you to complete."
     ]
    },
    {
     "cell_type": "code",
     "collapsed": false,
     "input": [
      "# Count by 3s until 51"
     ],
     "language": "python",
     "metadata": {},
     "outputs": []
    },
    {
     "cell_type": "code",
     "collapsed": false,
     "input": [
      "# Print the next 20 numbers in Fibonacci series\n",
      "# (1, 1, 2, 3, 5, 8, ... )"
     ],
     "language": "python",
     "metadata": {},
     "outputs": []
    },
    {
     "cell_type": "code",
     "collapsed": false,
     "input": [
      "# Print the next 10 rows of Pascal's triangle\n",
      "# 1\n",
      "# 1 1\n",
      "# 1 2 1 \n",
      "# 1 3 3 1 \n",
      "# ..."
     ],
     "language": "python",
     "metadata": {},
     "outputs": []
    },
    {
     "cell_type": "code",
     "collapsed": false,
     "input": [
      "# Take a_dict from above and print a line for each last name, \n",
      "# followed by the number of individuals with that last name and their first names"
     ],
     "language": "python",
     "metadata": {},
     "outputs": []
    },
    {
     "cell_type": "heading",
     "level": 1,
     "metadata": {},
     "source": [
      "Conditions"
     ]
    },
    {
     "cell_type": "heading",
     "level": 3,
     "metadata": {},
     "source": [
      "Conditions are used to fork execution of our code base on the properties of some data."
     ]
    },
    {
     "cell_type": "markdown",
     "metadata": {},
     "source": [
      "The syntax in Python for checking conditions is:\n",
      "\n",
      "    if (condition 1 is true):\n",
      "    \n",
      "        set of commands 1\n",
      "        \n",
      "    elif (condition 2 is true):\n",
      "    \n",
      "        set of commands 2\n",
      "        \n",
      "    elif (condition 3 is true):\n",
      "    \n",
      "        set of commands 3\n",
      "        \n",
      "    else:\n",
      "    \n",
      "        set of commands 4\n"
     ]
    },
    {
     "cell_type": "code",
     "collapsed": false,
     "input": [
      "# Example of simple condition\n",
      "a = int( input(\"Enter an integer:\\t\") )\n",
      "\n",
      "if (not a % 2):    \n",
      "    print(\"{0} is even.\".format(a))\n",
      "else:\n",
      "    print(\"{0} is odd.\".format(a))\n",
      "    \n",
      "#Is this clear?"
     ],
     "language": "python",
     "metadata": {},
     "outputs": []
    },
    {
     "cell_type": "code",
     "collapsed": false,
     "input": [
      "# A more complex condition\n",
      "score = float( input(\"Enter your score [0-10]:\\t\") )\n",
      "baseline = 5\n",
      "\n",
      "if (score > baseline):\n",
      "    print(\"\\nGood job! You advance to the next level.\")\n",
      "elif (score < baseline):\n",
      "    print(\"\\nBad news! You move down to the previous level.\")\n",
      "#else:\n",
      "elif (score == baseline):\n",
      "    print(\"\\nYou must repeat this level.\")\n",
      "\n",
      "#Is this clear?"
     ],
     "language": "python",
     "metadata": {},
     "outputs": []
    },
    {
     "cell_type": "code",
     "collapsed": false,
     "input": [
      "# Modify the code above so that float scores are rounded to the closest integer, \n",
      "# but so that only scores between 4.7 and 5.3 have to repeat the level \n",
      "# (Note that this descrition is ambiguous and you must figure out what I actually mean!)"
     ],
     "language": "python",
     "metadata": {},
     "outputs": []
    },
    {
     "cell_type": "code",
     "collapsed": false,
     "input": [],
     "language": "python",
     "metadata": {},
     "outputs": []
    },
    {
     "cell_type": "heading",
     "level": 3,
     "metadata": {},
     "source": [
      "As code gets more complex the chances of errors creeping in and becoming more complex also increases."
     ]
    },
    {
     "cell_type": "markdown",
     "metadata": {},
     "source": [
      "The code below has several mistakes. We are now going to correct it."
     ]
    },
    {
     "cell_type": "code",
     "collapsed": false,
     "input": [
      "for event in range(N_events):\n",
      "    for throw in range(N_throws, 1.2)\n",
      "        if die_throw() != '1':\n",
      "            count += 1\n",
      "           break\n",
      "\n",
      "print(\"We got the outcome we were checking for {0:f.4}% of the time.\".format(100*(1 - count/N_events))"
     ],
     "language": "python",
     "metadata": {},
     "outputs": []
    },
    {
     "cell_type": "heading",
     "level": 1,
     "metadata": {},
     "source": [
      "Handling exceptions"
     ]
    },
    {
     "cell_type": "heading",
     "level": 3,
     "metadata": {},
     "source": [
      "Python encourages the identification of errors prior to their occurrence so that the code can continue its execution or can terminate gracefully."
     ]
    },
    {
     "cell_type": "markdown",
     "metadata": {},
     "source": [
      "To check for an error one use the command **try**. Its syntax is as follows:\n",
      "\n",
      "    try:\n",
      "\n",
      "        set of commands 1\n",
      "\n",
      "    except error_type_1 as e:\n",
      "    \n",
      "        set of commands 2\n",
      "        \n",
      "    except error_type_2:\n",
      "    \n",
      "        set of commands 3\n",
      "        \n",
      "    else:\n",
      "    \n",
      "        set of commands 4"
     ]
    },
    {
     "cell_type": "code",
     "collapsed": false,
     "input": [
      "one_number = float( input(\"Enter a number:\\t\") )\n",
      "another_number = float( input(\"Enter another number:\\t\"))\n",
      "\n",
      "try:\n",
      "    print()\n",
      "    print(one_number / another_number)\n",
      "except ZeroDivisionError as e:\n",
      "    print(\"I guess your 'another number' was zero because I got a \\'{0}\\' error.\".format(e))\n",
      "    \n",
      "#Is this clear?"
     ],
     "language": "python",
     "metadata": {},
     "outputs": []
    },
    {
     "cell_type": "code",
     "collapsed": false,
     "input": [
      "with open(\"../Data/gpa_data.csv\", \"r\") as data:\n",
      "    all_lines = data.readlines()\n",
      "\n",
      "gpa_list = []\n",
      "for line in all_lines[1:]:\n",
      "    gpa_list.append( line.strip().split(\",\") )\n",
      "        \n",
      "print(gpa_list[3])"
     ],
     "language": "python",
     "metadata": {},
     "outputs": []
    },
    {
     "cell_type": "code",
     "collapsed": false,
     "input": [
      "# Take gpa_list is a list of 2-item lists. The first item is the reported gpa and \n",
      "# the second item is the reported maximum gpa.\n",
      "#\n",
      "# Not all reported data is in the same format or even correct. Write code that \n",
      "# does not crash and creates a list with all gpa's in a 4.0 scale.\n"
     ],
     "language": "python",
     "metadata": {},
     "outputs": []
    }
   ],
   "metadata": {}
  }
 ]
}