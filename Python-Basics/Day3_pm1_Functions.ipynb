{
 "cells": [
  {
   "cell_type": "code",
   "execution_count": null,
   "metadata": {
    "collapsed": false
   },
   "outputs": [],
   "source": [
    "from IPython.core.display import HTML\n",
    "def css_styling():\n",
    "    styles = open(\"../styles/custom.css\", \"r\").read()\n",
    "    return HTML(styles)\n",
    "css_styling()"
   ]
  },
  {
   "cell_type": "code",
   "execution_count": null,
   "metadata": {
    "collapsed": true
   },
   "outputs": [],
   "source": [
    "# Write your imports here, so you can easily find and run them\n",
    "\n",
    "import glob\n",
    "import datetime"
   ]
  },
  {
   "cell_type": "markdown",
   "metadata": {},
   "source": [
    "# Writing modular code is good!\n",
    "\n",
    "**Functions** are the workhorses of modular programming in Python! So, what's a function?\n",
    "\n",
    "You were actually exposed to functions when filled in your answers to the homework questions **inside** of a function. So whenever you see this syntax:\n",
    "\n",
    ">    def function_name():\n",
    ">\n",
    ">        statements\n",
    ">\n",
    ">        return something\n",
    "        \n",
    "that block of code is a function. \n",
    "\n",
    "Functions help us avoid repeting the same set of statements everytime we want to repeat a task. Functions increase code readibility. Functions make code revision and updating easier (you do not have to re-do revisions in all the places of your code where the task is needed. Functions make testing of your code easier and more reliable.\n",
    "\n",
    "\n",
    "In order to execute the code in a function, you refer to it by its name `function_name()`. If you do not \"call\" your function in your code, then it is nevers executed.  However, the Python interpreter will still check its code for synthax errors.\n"
   ]
  },
  {
   "cell_type": "code",
   "execution_count": null,
   "metadata": {
    "collapsed": true
   },
   "outputs": [],
   "source": [
    "# Let's write a really simple function -- a function that writes \"hello\".\n",
    "\n",
    "def say_hello():\n",
    "    '''\n",
    "    Print the word \"Hello\"\n",
    "    input:\n",
    "        - None\n",
    "    output:\n",
    "        - None\n",
    "    '''\n",
    "    print('Hello!')"
   ]
  },
  {
   "cell_type": "markdown",
   "metadata": {},
   "source": [
    "You just wrote a simple function! Notice that after writing it nothing was printed. That is because you didn't *call* the function, You only defined it so Python will know what on earth you're talking about should you so choose to write `say_hello` anywhere.\n",
    "\n",
    "You *call* a function just by writing its name along with the parentheses:"
   ]
  },
  {
   "cell_type": "code",
   "execution_count": null,
   "metadata": {
    "collapsed": false
   },
   "outputs": [],
   "source": [
    "say_hello()"
   ]
  },
  {
   "cell_type": "markdown",
   "metadata": {},
   "source": [
    "There you go!\n",
    "\n",
    "Now let's diagram the basic parts of the syntax to give you an idea of what we are dealing with.\n",
    "\n",
    "<img src = '../images/function_annotation.png'></img>\n",
    "\n",
    "Here I allude to function inputs. Functions take in *variables* inside the parentheses. Those variables and variable names are then only used inside the function. This creates a little world inside the function.\n",
    "\n",
    "You've already been using functions and inputs, you just didn't know it yet. Does that syntax `say_hello()` look familiar to anything that you know?\n",
    "\n",
    "How about:"
   ]
  },
  {
   "cell_type": "code",
   "execution_count": null,
   "metadata": {
    "collapsed": false
   },
   "outputs": [],
   "source": [
    "print('Hello')"
   ]
  },
  {
   "cell_type": "markdown",
   "metadata": {},
   "source": [
    "`print` is what is called a **built-in** function. Given whatever input you tell it, the `print` function prints that input to the screen. What happens if you do not provide an input?"
   ]
  },
  {
   "cell_type": "code",
   "execution_count": null,
   "metadata": {
    "collapsed": false
   },
   "outputs": [],
   "source": [
    "print()"
   ]
  },
  {
   "cell_type": "markdown",
   "metadata": {},
   "source": [
    "Let's look at inputs more in depth. You'll start by write a `say_anything_twice()` function. It'll take any text and multiply it by 2 (have to say it twice!). It will then return that new string as an output. First we'll define it, then we'll call it:"
   ]
  },
  {
   "cell_type": "code",
   "execution_count": 1,
   "metadata": {
    "collapsed": false
   },
   "outputs": [],
   "source": [
    "def say_anything_twice(anything):\n",
    "    '''\n",
    "    Multiplies a string by 2\n",
    "    input:\n",
    "        anything - str\n",
    "    output:\n",
    "        anything_twice - str\n",
    "    '''\n",
    "    anything_twice = anything * 2\n",
    "    return anything_twice"
   ]
  },
  {
   "cell_type": "code",
   "execution_count": 2,
   "metadata": {
    "collapsed": false
   },
   "outputs": [
    {
     "data": {
      "text/plain": [
       "'hellohello'"
      ]
     },
     "execution_count": 2,
     "metadata": {},
     "output_type": "execute_result"
    }
   ],
   "source": [
    "say_anything_twice('hello')"
   ]
  },
  {
   "cell_type": "markdown",
   "metadata": {},
   "source": [
    "**What's actually going on here?** \n",
    "\n",
    "The function took the string 'hello' as an input and assigned it **internally** to the variable `anything`. It then performed an operation on `anything` (in this case it multiplied it by 2) and assigned that value to a new variable called `anything_twice`. Finally, it **returned** `anything_twice`:\n",
    "    \n",
    ">    return anything_twice\n",
    "\n",
    "This statement returns the result of the functions operations to the place in the your code where the functions was called.\n",
    "\n",
    "The beauty of funtions, though not of this particular function which pretty much executes a single statement, is that we can call it on any string input without having to re-write a lot of code."
   ]
  },
  {
   "cell_type": "code",
   "execution_count": null,
   "metadata": {
    "collapsed": false
   },
   "outputs": [],
   "source": [
    "print(say_anything_twice('hello again'))\n",
    "print(say_anything_twice('goodbye'))"
   ]
  },
  {
   "cell_type": "markdown",
   "metadata": {},
   "source": [
    "Typically, you assign the output of a function to a variable:"
   ]
  },
  {
   "cell_type": "code",
   "execution_count": null,
   "metadata": {
    "collapsed": true
   },
   "outputs": [],
   "source": [
    "answer = say_anything_twice('banana')"
   ]
  },
  {
   "cell_type": "code",
   "execution_count": null,
   "metadata": {
    "collapsed": false
   },
   "outputs": [],
   "source": [
    "print(answer)"
   ]
  },
  {
   "cell_type": "markdown",
   "metadata": {},
   "source": [
    "**It is important to be aware that variables defined inside a function are not available outside.**  "
   ]
  },
  {
   "cell_type": "code",
   "execution_count": null,
   "metadata": {
    "collapsed": false
   },
   "outputs": [],
   "source": [
    "anything_twice"
   ]
  },
  {
   "cell_type": "markdown",
   "metadata": {},
   "source": [
    "If you try to use a function variable outside of a function, Python will interrupt execution of your code and return a  `NameError` exception. This is because variables defined inside a function only exist *inside* the function.  They are created when the function is called and deleted when the function's executions is ended. \n",
    "\n",
    "This is actually a wonderful property.  If means that we do not need to keep inventing new variable names.  However, functions _can_ and do use variables that are created outside of any function (this is called a `global` variable).\n",
    "\n",
    "The local validity of variable names inside functions is an example of a **namespace**. \n",
    "\n",
    "##Namespaces\n",
    "\n",
    "Generally speaking, a namespace (sometimes also called a context) is a naming system for making names unique to avoid ambiguity. A (not very good) namespacing system used in daily life is the naming of people with a firstname and a surname. A much better namespacing system is the  directory structure of file systems. The same file name can be used in different directories, the files can be uniquely accessed via the pathnames. \n",
    "\n",
    "Many programming languages use namespaces or contexts for identifiers. An identifier defined in a namespace is associated with that namespace. This way, the same identifier can be independently defined in multiple namespaces. (Like the same file names in different directories) \n"
   ]
  },
  {
   "cell_type": "code",
   "execution_count": null,
   "metadata": {
    "collapsed": false
   },
   "outputs": [],
   "source": [
    "special_text = 'This is special text'\n",
    "\n",
    "def special_text_twice(anything):\n",
    "    '''\n",
    "    Multiplies a string by 2\n",
    "    input:\n",
    "        anything - str\n",
    "    output:\n",
    "        anything_twice - str\n",
    "    '''\n",
    "    anything_twice = special_text * 2\n",
    "    return anything_twice"
   ]
  },
  {
   "cell_type": "code",
   "execution_count": null,
   "metadata": {
    "collapsed": false
   },
   "outputs": [],
   "source": [
    "special_text_twice('hello')"
   ]
  },
  {
   "cell_type": "markdown",
   "metadata": {},
   "source": [
    "What just happened there? We gave our function the string 'hello', and the function called that string `anything`. However, look at the actual code inside of the function, we never used `anything`. Instead we used our global variable `special_text` to create a function that does the same thing no matter what you give it. Pretty boring:\n",
    "\n"
   ]
  },
  {
   "cell_type": "code",
   "execution_count": null,
   "metadata": {
    "collapsed": false
   },
   "outputs": [],
   "source": [
    "print(special_text_twice('Awesome input text!'))\n",
    "print(special_text_twice('Even awesomer input text!'))\n",
    "print(special_text_twice('The most awesome input text!'))"
   ]
  },
  {
   "cell_type": "markdown",
   "metadata": {},
   "source": [
    "I tell you about global variables so you know, but **relying on `global` variables in functions is not a good practice.**\n",
    "\n",
    "So try not to do it!\n",
    "\n",
    "If you were curious, we call variables *inside* the function `local` variables."
   ]
  },
  {
   "cell_type": "markdown",
   "metadata": {},
   "source": [
    "## So how do we use functions?\n",
    "\n",
    "A simple example is one thing, but it can be hard to figure out how we use functions in **real** code. To make this clear, let's go back to your administrative job and work with the `Roster` data.\n",
    "\n",
    "There are 800 student data files in the `Data/Roster` folder that need to be parsed. Previously we put all of this code into a `for` loop, which easily went through every single file in turn. However, if you want to do anything else when you parse the file, like calculate the height, many modifications would need to be made to the `for` loop.\n",
    "\n",
    "Continually adding these small changes will make the amount of code in the `for` loop grow quite a bit, making it more and more unreadable. When something is unreadable it's hard to quickly understand how a specific value is calculated or what values are used. This means that when you need to make a change it takes you **a lot** more time to re-acquaint yourself with the code and implement even simple additions.\n",
    "\n",
    "Also, when you add more code, you add more variables. These variables are flying around all over our code, making tracking the flow difficult. What's even **worse** is that you become far more likely to modify a variable in a way that makes another line of code **fail** (everyone shakes their head no, but everyone does it!).\n",
    "\n",
    "Lastly, some pieces of code that we need might be re-usable! Over the course of the next year I might need to calculate someones height in inches a few different times. Sometimes my data might be like it is in `Data/Roster` but maybe other times I'm reading height off a spreadsheet. Rather than write the same code multiple times I could just write something that takes height in feet and inches and returns only height in inches. That piece of code would work for that small specific task no matter what file types I'm reading.\n",
    "\n",
    "**Functions** help us solve these types of problems. "
   ]
  },
  {
   "cell_type": "markdown",
   "metadata": {},
   "source": [
    "## Writing a function\n",
    "\n",
    "When we write a function, we extract just a small, *specific* part of our overall program and write it as its own little piece of code. With a clear name it becomes easy to identify what the function does, increasing readability. \n",
    "\n",
    "Furthermore, if we need to change how something is calculated (say that new roster files have the height in centimeters instead of inches), we'll know **right away** where the code we need to modify is located. We'll also know that we **don't need to change it** anywhere else. \n",
    "\n",
    "So right away we can reimagine our initial code to read the `Roster` files as \n",
    "    \n",
    "    #Here we write a function to grab all of the roster filenames\n",
    "    data_files = find_student_records(directory)\n",
    "    #Now we iterate through each filename\n",
    "    for each file in data_files:\n",
    "        #Next we parse the file\n",
    "        data = parse_student_record(file)\n",
    "        #We simply calculate the code outside of the for loop\n",
    "        age = calculate_age(data)\n",
    "            \n",
    "Make sense now?\n",
    "\n",
    "Now before you start programming it's best to actually sketch out the function."
   ]
  },
  {
   "cell_type": "markdown",
   "metadata": {},
   "source": [
    "## Sketching out a function\n",
    "\n",
    "There are three basic questions that help you sketch a function:\n",
    "\n",
    "* What does this function do?\n",
    "* What inputs does this function need to do that?\n",
    "* What value(s) does the function return?\n",
    "\n",
    "After you answer these three questions, you will then know the bounds on what code you can write inside that function.\n",
    "\n",
    "These questions may seem like a simple exercise, but this information is actually the **same** information that you should be writing in your docstring. That way you can easily identify at any time what a function **does**, what value it **needs to run**, and what value it **returns**.\n",
    "\n",
    "Let's start by doing this with our `find_student_records` function.\n",
    "\n",
    "### What task is the function accomplishing?\n",
    "\n",
    "This function returns all of the filenames with the 'txt' extension in a given directory.\n",
    "\n",
    "### What inputs does the function require?\n",
    "\n",
    "The functions needs to be given a directory and, potentially, an extension type.\n",
    "\n",
    "### How should the information returned be formatted?\n",
    "\n",
    "Since we will likely want to iterate through the file names, the output should be formatted as a collection. A list is a flexible option.\n",
    "\n",
    "Let's implement these ideas!"
   ]
  },
  {
   "cell_type": "code",
   "execution_count": null,
   "metadata": {
    "collapsed": false
   },
   "outputs": [],
   "source": [
    "def find_student_records(directory):\n",
    "    \"\"\"\n",
    "    Return all roster filenames in a directory\n",
    "    input:\n",
    "        directory - str, Directory that contains the roster files\n",
    "    output:\n",
    "        filenames - list, List of roster filenames in directory\n",
    "    \"\"\"\n",
    "    return filenames"
   ]
  },
  {
   "cell_type": "markdown",
   "metadata": {},
   "source": [
    "Now you should sketch the function to `parse_student_record()`"
   ]
  },
  {
   "cell_type": "code",
   "execution_count": null,
   "metadata": {
    "collapsed": false
   },
   "outputs": [],
   "source": [
    "def parse_student_record( ):\n",
    "    \"\"\"\n",
    "    \n",
    "    \"\"\"\n",
    "    return"
   ]
  },
  {
   "cell_type": "markdown",
   "metadata": {},
   "source": [
    "And our last function to sketch is the `calculate_age()` function. "
   ]
  },
  {
   "cell_type": "code",
   "execution_count": null,
   "metadata": {
    "collapsed": false
   },
   "outputs": [],
   "source": [
    "def calculate_age( ):\n",
    "    \"\"\"\n",
    "    \n",
    "    \"\"\"\n",
    "    return"
   ]
  },
  {
   "cell_type": "markdown",
   "metadata": {},
   "source": [
    "## Now let's build up to a function\n",
    "\n",
    "With separate functions, it can be easy to develop and test each one without having to process the entire data set every time. Lets start by finding all the records.\n",
    "\n",
    "The easiest way to do this is to just write the code outside of a function first and then wrap a function around it. You will use `glob` to get all of the filenames, so I've already imported it at the top of the notebook.\n",
    "\n",
    "Just write the simple `glob` statement like in the last notebook"
   ]
  },
  {
   "cell_type": "code",
   "execution_count": null,
   "metadata": {
    "collapsed": false,
    "scrolled": true
   },
   "outputs": [],
   "source": [
    "glob.glob('../Data/Roster/*.txt')"
   ]
  },
  {
   "cell_type": "markdown",
   "metadata": {},
   "source": [
    "Now separate the inputs and outputs. Your **input** should be the directory and your **output** should be filenames."
   ]
  },
  {
   "cell_type": "code",
   "execution_count": null,
   "metadata": {
    "collapsed": false
   },
   "outputs": [],
   "source": [
    "directory = '../Data/Roster'\n",
    "\n",
    "filenames = # ...\n",
    "\n",
    "filenames[:5]"
   ]
  },
  {
   "cell_type": "markdown",
   "metadata": {},
   "source": [
    "Now just wrap the code that we've written into a function"
   ]
  },
  {
   "cell_type": "code",
   "execution_count": null,
   "metadata": {
    "collapsed": false
   },
   "outputs": [],
   "source": [
    "def find_student_records(directory):\n",
    "    \"\"\"\n",
    "    Return all roster filenames in a directory\n",
    "    input:\n",
    "        directory - str, Directory that contains the roster files\n",
    "    output:\n",
    "        filenames - list, List of roster filenames in directory\n",
    "    \"\"\"\n",
    "    # Statements here!\n",
    "    \n",
    "    return filenames"
   ]
  },
  {
   "cell_type": "markdown",
   "metadata": {},
   "source": [
    "When you execute the function with the directory string you should get back the same five filenames."
   ]
  },
  {
   "cell_type": "code",
   "execution_count": null,
   "metadata": {
    "collapsed": false
   },
   "outputs": [],
   "source": [
    "find_student_records('../Data/Roster/')[:5]"
   ]
  },
  {
   "cell_type": "markdown",
   "metadata": {},
   "source": [
    "Now that we have a way to find all the records: the `find_student_records` function, the next piece of the puzzle we laid out in our pseudocode is a function to read an individual record. Recall that the records looked like the following:\n",
    "\n",
    "    #This is a file that holds important personal information that should not be shared. \n",
    "    #You are being watched.\n",
    "\n",
    "\n",
    "\n",
    "    Name:\tBuzz M. Baker\n",
    "    Date of Birth:\t4/20/87\n",
    "    Email Address:\tbuzz.baker@northwestern.edu\n",
    "    Department:\tEngineering\n",
    "    Height:\t5ft,3in\n",
    "    Weight:\t194lbs\n",
    "    Favorite Color:\tPink\n",
    "    Favorite Animal:\tSnake\n",
    "    Zodiac Sign:\tApril\n"
   ]
  },
  {
   "cell_type": "markdown",
   "metadata": {},
   "source": [
    "### Sketching it out"
   ]
  },
  {
   "cell_type": "code",
   "execution_count": null,
   "metadata": {
    "collapsed": false
   },
   "outputs": [],
   "source": [
    "path = '../Data/Roster/Agatha_Bailey_798.txt'\n",
    "\n",
    "# create something to hold the data\n",
    "# open the file\n",
    "    # for each line in the file\n",
    "        # ignore comment lines (those that start with \"#\")\n",
    "\n",
    "        # Exercise parts\n",
    "        # --------------\n",
    "        # split the line\n",
    "        # make sure the line has the correct number of parts\n",
    "        # clean up the parts (strip whitespace)\n",
    "        # store data in the 'data holder'"
   ]
  },
  {
   "cell_type": "markdown",
   "metadata": {},
   "source": [
    "### Turn it into a function"
   ]
  },
  {
   "cell_type": "code",
   "execution_count": 3,
   "metadata": {
    "collapsed": true
   },
   "outputs": [],
   "source": [
    "def parse_student_record(filename):\n",
    "    '''\n",
    "    Parses a student record file into a dictionary\n",
    "    input:\n",
    "        filename - str, path to the file\n",
    "    output:\n",
    "        data - dict, student attribute data\n",
    "    '''\n",
    "    # Statements here!\n",
    "    \n",
    "    return data\n"
   ]
  },
  {
   "cell_type": "code",
   "execution_count": null,
   "metadata": {
    "collapsed": true
   },
   "outputs": [],
   "source": [
    "parse_student_record('../Data/Roster/Agatha_Lee_11.txt')"
   ]
  },
  {
   "cell_type": "code",
   "execution_count": null,
   "metadata": {
    "collapsed": true
   },
   "outputs": [],
   "source": [
    "parse_student_record('../Data/Roster/Buzz_Baker_618.txt')"
   ]
  },
  {
   "cell_type": "markdown",
   "metadata": {},
   "source": [
    "Now we can parse all of the files!"
   ]
  },
  {
   "cell_type": "code",
   "execution_count": null,
   "metadata": {
    "collapsed": false
   },
   "outputs": [],
   "source": [
    "filenames = find_student_records('../Data/Roster/')\n",
    "a_filename = filenames[0]\n",
    "a_filename"
   ]
  },
  {
   "cell_type": "code",
   "execution_count": null,
   "metadata": {
    "collapsed": false
   },
   "outputs": [],
   "source": [
    "parse_student_record(a_filename)"
   ]
  },
  {
   "cell_type": "markdown",
   "metadata": {},
   "source": [
    "Now take the code you originally wrote to calculate someone's age from the `File IO` notebook and turn it into a function."
   ]
  },
  {
   "cell_type": "code",
   "execution_count": null,
   "metadata": {
    "collapsed": true
   },
   "outputs": [],
   "source": [
    "def calculate_age( ):\n",
    "    \"\"\"\n",
    "    \n",
    "    \"\"\"\n",
    "    return"
   ]
  },
  {
   "cell_type": "code",
   "execution_count": 2,
   "metadata": {
    "collapsed": false
   },
   "outputs": [],
   "source": [
    "#Input is Month, Day, Year\n",
    "calculate_age(3, 7, 1986)"
   ]
  },
  {
   "cell_type": "markdown",
   "metadata": {
    "collapsed": true
   },
   "source": [
    "Great! But one thing is that our calculate age function takes in a birth month, day, and year and then calculates the age given the current year.\n",
    "\n",
    "Our input data is actually a `string` of the format `M/D/YY`. Turning a `string` into numerals of birth month, day, and year doesn't sound like it's a part of the mission in a function named `calculate_age()`.\n",
    "\n",
    "So let's make another function called `clean_dob()` that will transform this string into the birth month, day, and year."
   ]
  },
  {
   "cell_type": "code",
   "execution_count": null,
   "metadata": {
    "collapsed": true
   },
   "outputs": [],
   "source": [
    "def clean_dob(dob_string):\n",
    "    '''\n",
    "    Takes a date string of \"M/D/YY\" and converts it to the month, day, and year parts as integers\n",
    "    Returns those integer dates in a dictionary.\n",
    "    input:\n",
    "        * dob_string - str, birthday string of form \"M/D/YY\"\n",
    "    output:\n",
    "        * dob - liist, [\"month\", \"day\", \"year\"]\n",
    "    '''\n",
    "    \n",
    "    return dob"
   ]
  },
  {
   "cell_type": "code",
   "execution_count": null,
   "metadata": {
    "collapsed": true
   },
   "outputs": [],
   "source": [
    "clean_dob('8/7/1985')"
   ]
  },
  {
   "cell_type": "markdown",
   "metadata": {},
   "source": [
    "Now let's add this cleaning function back to our `parse_student_record()` function.\n",
    "\n",
    "Copy the above code "
   ]
  },
  {
   "cell_type": "code",
   "execution_count": null,
   "metadata": {
    "collapsed": true
   },
   "outputs": [],
   "source": [
    "def parse_student_record(filename):\n",
    "    '''\n",
    "    Parses a student record file into a dictionary\n",
    "    input:\n",
    "        filename - str, path to the file\n",
    "    output:\n",
    "        data - list, student attribute data\n",
    "    '''\n",
    "    #Copy our code from above\n",
    "    \n",
    "    data = ['Date of Birth', clean_dob(data['Date of Birth']) ]\n",
    "    \n",
    "    return data"
   ]
  },
  {
   "cell_type": "code",
   "execution_count": null,
   "metadata": {
    "collapsed": true
   },
   "outputs": [],
   "source": [
    "buzz_baker = parse_student_record('../Data/Roster/Buzz_Baker_618.txt')\n",
    "\n",
    "for value_set in buzz_baker:\n",
    "    if value_set[0] == 'Date of Birth':\n",
    "        #Check to make sure that the month is correct\n",
    "        if value_set[1][0] == 4:\n",
    "            print(\"Success! You are a rock star!\")"
   ]
  },
  {
   "cell_type": "markdown",
   "metadata": {},
   "source": [
    "## Exercise\n",
    "\n",
    "Find the number of records of people born in 1975:"
   ]
  },
  {
   "cell_type": "code",
   "execution_count": null,
   "metadata": {
    "collapsed": false
   },
   "outputs": [],
   "source": [
    "#This is your list of people born in 1975\n",
    "born_in_1975 = []\n",
    "#This is your file location\n",
    "data_dir = '../Data/Roster'\n",
    "#First you need to get all of the student files\n",
    "data_files = find_student_records(data_dir)\n",
    "#Now go through each file\n",
    "for filename in data_files:\n",
    "    #First we parse the student record into the dictionary\n",
    "    data = parse_student_record(filename)\n",
    "    #Now what field will let us check if a person is born in 1975?\n",
    "    if ________ == 1975:\n",
    "        #If you want to keep track of a person in 1975\n",
    "        #You should keep track of it outside of this for loop\n",
    "        #Remember that we lose anything inside the for loop once the loop finishes\n",
    "        #So where could you possibly store someone's data that is born in 1975...\n",
    "        #hmmm....................\n",
    "        \n",
    "#Now I wanted to know the number of people born in 1975\n",
    "#What was that number\n",
    "        "
   ]
  },
  {
   "cell_type": "markdown",
   "metadata": {},
   "source": [
    "Excellent! But how many of those people born in 1975 were also born in March?"
   ]
  },
  {
   "cell_type": "code",
   "execution_count": null,
   "metadata": {
    "collapsed": false
   },
   "outputs": [],
   "source": [
    "born_in_march = []\n",
    "#I'll help you out here, you should iterate through the list of people born in 1975\n",
    "for person in born_in_1975:\n",
    "    #I'll let you figure out this part here\n",
    "    \n",
    "#Don't forget to tell me your answer!!!!\n",
    "len(born_in_march)"
   ]
  }
 ],
 "metadata": {
  "anaconda-cloud": {},
  "kernelspec": {
   "display_name": "Python [Root]",
   "language": "python",
   "name": "Python [Root]"
  },
  "language_info": {
   "codemirror_mode": {
    "name": "ipython",
    "version": 3
   },
   "file_extension": ".py",
   "mimetype": "text/x-python",
   "name": "python",
   "nbconvert_exporter": "python",
   "pygments_lexer": "ipython3",
   "version": "3.5.1"
  }
 },
 "nbformat": 4,
 "nbformat_minor": 0
}
