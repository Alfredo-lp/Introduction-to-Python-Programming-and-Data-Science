{
 "cells": [
  {
   "cell_type": "code",
   "execution_count": 28,
   "metadata": {
    "collapsed": true
   },
   "outputs": [],
   "source": [
    "# Write your imports here, so you can easily find and run them\n",
    "\n",
    "from glob import glob"
   ]
  },
  {
   "cell_type": "code",
   "execution_count": 29,
   "metadata": {
    "collapsed": false
   },
   "outputs": [],
   "source": [
    "##################################################################################\n",
    "def find_student_records( directory, extension = 'txt' ):\n",
    "    \"\"\"\n",
    "    Return all roster filenames with specified 'extension' in a 'directory'\n",
    "    input:\n",
    "        directory - str, Directory that contains the roster files\n",
    "        extension - str, defaults to 'txt'\n",
    "    output:\n",
    "        filenames - list, List of roster filenames in directory\n",
    "    \"\"\"\n",
    "\n",
    "    filenames = glob( directory + '/*' + extension )\n",
    "\n",
    "    return filenames\n",
    "\n",
    "assert find_student_records('../Data/Roster')[0] == '../Data/Roster/Agatha_Bailey_798.txt'\n",
    "assert find_student_records('../Data/Roster')[1] == '../Data/Roster/Agatha_Brooks_78.txt'\n",
    "\n"
   ]
  },
  {
   "cell_type": "code",
   "execution_count": 30,
   "metadata": {
    "collapsed": true
   },
   "outputs": [],
   "source": [
    "##################################################################################\n",
    "def clean_dob(dob_string):\n",
    "    '''\n",
    "    Takes a date string of \"M/D/YY\" or \"M/D/YYYY\" and converts it to the month, day, and year parts as integers\n",
    "    Returns those integer dates in a dictionary.\n",
    "    input:\n",
    "        * dob_string - str, birthday string of form \"M/D/YY\" or \"M/D/YYYY\"\n",
    "    output:\n",
    "        * dob - dictionary with keys day, month, and year\n",
    "    '''\n",
    "    date_dict = {}\n",
    "    temp_date = dob_string.split('/')\n",
    "    \n",
    "    # Remember date is ordered as month, day, year\n",
    "    date_dict['month'] = int( temp_date[0] )\n",
    "    date_dict['day'] = int(temp_date[1])\n",
    "    if len(temp_date[2]) == 2:\n",
    "        date_dict['year'] = 1900 + int( temp_date[2] )\n",
    "    elif len(temp_date[2]) == 4:\n",
    "        date_dict['year'] = int( temp_date[2] )\n",
    "    else:\n",
    "        return 'There is a problem with input in clean_dob'\n",
    "    \n",
    "    return date_dict\n",
    "\n",
    "assert clean_dob('07/12/68')['day'] == 12\n",
    "assert clean_dob('7/12/68')['month'] == 7\n",
    "assert clean_dob('07/12/1968')['year'] == 1968\n",
    "assert clean_dob('7/12/118') == 'There is a problem with input in clean_dob'"
   ]
  },
  {
   "cell_type": "code",
   "execution_count": 31,
   "metadata": {
    "collapsed": false
   },
   "outputs": [],
   "source": [
    "##################################################################################\n",
    "def calculate_age( birth_date, current_date ):\n",
    "    \"\"\"\n",
    "    Calculates age on current_date of individual born on birth_date \n",
    "    input:\n",
    "        * birth_date - dictionary with keys day, month, year\n",
    "        * current_date - dictionary with keys day, month, year\n",
    "    output:\n",
    "        * age - integer\n",
    "    \"\"\"\n",
    "    possible_age = current_date['year'] - birth_date['year']\n",
    "    \n",
    "    if current_date['month'] < birth_date['month']:\n",
    "        age = possible_age - 1\n",
    "    \n",
    "    elif current_date['month'] == birth_date['month']:\n",
    "        if current_date['day'] < birth_date['day']:\n",
    "            age = possible_age - 1\n",
    "        else:\n",
    "            age = possible_age\n",
    "    \n",
    "    else:\n",
    "        age  = possible_age\n",
    "            \n",
    "    return age\n",
    "\n",
    "assert calculate_age( clean_dob('7/12/68'), clean_dob('9/10/2015') ) == 47\n",
    "assert calculate_age( clean_dob('7/12/1968'), clean_dob('9/10/2015') ) == 47\n",
    "assert calculate_age( clean_dob('7/12/1868'), clean_dob('9/10/2015') ) == 147"
   ]
  },
  {
   "cell_type": "code",
   "execution_count": 45,
   "metadata": {
    "collapsed": false
   },
   "outputs": [
    {
     "name": "stdout",
     "output_type": "stream",
     "text": [
      "{'Weight': 220, 'Email Address': 'agatha.bailey@northwestern.edu', 'Department': 'Engineering', 'Height': '6ft,0in', 'Name': 'Agatha A. Bailey', 'Date of Birth': {'year': 1975, 'day': 10, 'month': 1}, 'Favorite Color': 'Lime', 'Zodiac Sign': 'January', 'Favorite Animal': 'Turtle'}\n"
     ]
    }
   ],
   "source": [
    "##################################################################################\n",
    "def parse_student_record(filename):\n",
    "    '''\n",
    "    Parses a student record file into a dictionary\n",
    "    input:\n",
    "        filename - str, path to the file\n",
    "    output:\n",
    "        data - dict, student attribute data\n",
    "    '''\n",
    "\n",
    "    data = {}\n",
    "    input_file = open(filename)\n",
    "    \n",
    "    lines = input_file.readlines()\n",
    "\n",
    "    for line in lines:\n",
    "        split_line =  line.strip('\\n').split(':\\t')\n",
    "\n",
    "        # make sure the line has the correct number of parts\n",
    "        if len(split_line) == 2:\n",
    "            # Let's clean the data\n",
    "            if split_line[0] == 'Date of Birth':\n",
    "                data[split_line[0]] = clean_dob( split_line[1] )  \n",
    "            elif split_line[0] == 'Weight':\n",
    "                data[split_line[0]] = clean_weight( split_line[1] )\n",
    "            else:\n",
    "                data[split_line[0]] = split_line[1]\n",
    "\n",
    "    return data\n",
    "\n",
    "\n",
    "print(parse_student_record('../Data/Roster/Agatha_Bailey_798.txt'))"
   ]
  },
  {
   "cell_type": "code",
   "execution_count": 41,
   "metadata": {
    "collapsed": false
   },
   "outputs": [],
   "source": [
    "def clean_weight(word):\n",
    "    '''\n",
    "    This functions takes a string formatted as nnnlbs and returns \n",
    "    the weight in pounds as an integer.\n",
    "    input:\n",
    "        * word - str \n",
    "    output:\n",
    "        * weight - int\n",
    "    '''\n",
    "    weight = int( word.strip('lbs') )\n",
    "    \n",
    "    return weight\n",
    "    \n",
    "assert clean_weight('55lbs') == 55\n",
    "assert clean_weight('25 lbs') == 25"
   ]
  }
 ],
 "metadata": {
  "kernelspec": {
   "display_name": "Python 3",
   "language": "python",
   "name": "python3"
  },
  "language_info": {
   "codemirror_mode": {
    "name": "ipython",
    "version": 3
   },
   "file_extension": ".py",
   "mimetype": "text/x-python",
   "name": "python",
   "nbconvert_exporter": "python",
   "pygments_lexer": "ipython3",
   "version": "3.4.3"
  }
 },
 "nbformat": 4,
 "nbformat_minor": 0
}
