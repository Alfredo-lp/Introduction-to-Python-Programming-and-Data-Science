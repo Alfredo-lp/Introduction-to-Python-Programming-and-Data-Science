{
 "cells": [
  {
   "cell_type": "code",
   "execution_count": 1,
   "metadata": {
    "collapsed": false
   },
   "outputs": [
    {
     "data": {
      "text/html": [
       "<style>\n",
       "    @font-face {\n",
       "        font-family: \"Computer Modern\";\n",
       "        src: url('http://9dbb143991406a7c655e-aa5fcb0a5a4ec34cff238a2d56ca4144.r56.cf5.rackcdn.com/cmunss.otf');\n",
       "    }\n",
       "    @font-face {\n",
       "        font-family: \"Computer Modern\";\n",
       "        font-weight: bold;\n",
       "        src: url('http://9dbb143991406a7c655e-aa5fcb0a5a4ec34cff238a2d56ca4144.r56.cf5.rackcdn.com/cmunsx.otf');\n",
       "    }\n",
       "    @font-face {\n",
       "        font-family: \"Computer Modern\";\n",
       "        font-style: oblique;\n",
       "        src: url('http://9dbb143991406a7c655e-aa5fcb0a5a4ec34cff238a2d56ca4144.r56.cf5.rackcdn.com/cmunsi.otf');\n",
       "    }\n",
       "    @font-face {\n",
       "        font-family: \"Computer Modern\";\n",
       "        font-weight: bold;\n",
       "        font-style: oblique;\n",
       "        src: url('http://9dbb143991406a7c655e-aa5fcb0a5a4ec34cff238a2d56ca4144.r56.cf5.rackcdn.com/cmunso.otf');\n",
       "    }\n",
       "    h1 {\n",
       "        font-family: Helvetica, serif;\n",
       "    }\n",
       "    h4{\n",
       "        margin-top:12px;\n",
       "        margin-bottom: 3px;\n",
       "       }\n",
       "    div.text_cell_render{\n",
       "        font-family: Computer Modern, \"Helvetica Neue\", Arial, Helvetica, Geneva, sans-serif;\n",
       "        line-height: 145%;\n",
       "        font-size: 130%;\n",
       "        margin-left:auto;\n",
       "        margin-right:auto;\n",
       "    }\n",
       "    .CodeMirror{\n",
       "            font-family: \"Source Code Pro\", source-code-pro,Consolas, monospace;\n",
       "    }\n",
       "    .text_cell_render h5 {\n",
       "        font-weight: 300;\n",
       "        font-size: 22pt;\n",
       "        color: #4057A1;\n",
       "        font-style: italic;\n",
       "        margin-bottom: .5em;\n",
       "        margin-top: 0.5em;\n",
       "        display: block;\n",
       "    }\n",
       "    \n",
       "    .warning{\n",
       "        color: rgb( 240, 20, 20 )\n",
       "        }  \n",
       "</style>\n",
       "<script>\n",
       "    MathJax.Hub.Config({\n",
       "                        TeX: {\n",
       "                           extensions: [\"AMSmath.js\"]\n",
       "                           },\n",
       "                tex2jax: {\n",
       "                    inlineMath: [ ['$','$'], [\"\\\\(\",\"\\\\)\"] ],\n",
       "                    displayMath: [ ['$$','$$'], [\"\\\\[\",\"\\\\]\"] ]\n",
       "                },\n",
       "                displayAlign: 'center', // Change this to 'center' to center equations.\n",
       "                \"HTML-CSS\": {\n",
       "                    styles: {'.MathJax_Display': {\"margin\": 4}}\n",
       "                }\n",
       "        });\n",
       "</script>\n"
      ],
      "text/plain": [
       "<IPython.core.display.HTML object>"
      ]
     },
     "execution_count": 1,
     "metadata": {},
     "output_type": "execute_result"
    }
   ],
   "source": [
    "from IPython.core.display import HTML\n",
    "def css_styling():\n",
    "    styles = open(\"../styles/custom.css\", \"r\").read()\n",
    "    return HTML(styles)\n",
    "css_styling()"
   ]
  },
  {
   "cell_type": "code",
   "execution_count": 2,
   "metadata": {
    "collapsed": true
   },
   "outputs": [],
   "source": [
    "# Write your imports here, so you can easily find and run them\n",
    "\n",
    "import glob\n",
    "import datetime"
   ]
  },
  {
   "cell_type": "markdown",
   "metadata": {},
   "source": [
    "# Writing modular code is good!\n",
    "\n",
    "**Functions** are the workhorses of modular programming in Python! So, what's a function?\n",
    "\n",
    "You were actually exposed to functions when filled in your answers to the homework questions **inside** of a function. So whenever you see this syntax:\n",
    "\n",
    ">    def function_name():\n",
    ">\n",
    ">        statements\n",
    ">\n",
    ">        return something\n",
    "        \n",
    "that block of code is a function. \n",
    "\n",
    "Functions help us avoid repeting the same set of statements everytime we want to repeat a task. Functions increase code readibility. Functions make code revision and updating easier (you do not have to re-do revisions in all the places of your code where the task is needed. Functions make testing of your code easier and more reliable.\n",
    "\n",
    "\n",
    "In order to execute the code in a function, you refer to it by its name `function_name()`. If you do not \"call\" your function in your code, then it is nevers executed.  However, the Python interpreter will still check its code for synthax errors.\n"
   ]
  },
  {
   "cell_type": "code",
   "execution_count": 15,
   "metadata": {
    "collapsed": true
   },
   "outputs": [],
   "source": [
    "# Let's write a really simple function -- a function that writes \"hello\".\n",
    "\n",
    "def say_hello():\n",
    "    '''\n",
    "    Print the word \"Hello\"\n",
    "    input:\n",
    "        - None\n",
    "    output:\n",
    "        - None\n",
    "    '''\n",
    "    return 'Hello!'"
   ]
  },
  {
   "cell_type": "code",
   "execution_count": 16,
   "metadata": {
    "collapsed": false
   },
   "outputs": [
    {
     "data": {
      "text/plain": [
       "'Hello!'"
      ]
     },
     "execution_count": 16,
     "metadata": {},
     "output_type": "execute_result"
    }
   ],
   "source": [
    "say_hello()"
   ]
  },
  {
   "cell_type": "code",
   "execution_count": 17,
   "metadata": {
    "collapsed": true
   },
   "outputs": [],
   "source": [
    "third_answer = say_hello()"
   ]
  },
  {
   "cell_type": "code",
   "execution_count": 18,
   "metadata": {
    "collapsed": false
   },
   "outputs": [
    {
     "data": {
      "text/plain": [
       "'Hello!'"
      ]
     },
     "execution_count": 18,
     "metadata": {},
     "output_type": "execute_result"
    }
   ],
   "source": [
    "third_answer "
   ]
  },
  {
   "cell_type": "markdown",
   "metadata": {},
   "source": [
    "You just wrote a simple function! Notice that after writing it nothing was printed. That is because you didn't *call* the function, You only defined it so Python will know what on earth you're talking about should you so choose to write `say_hello` anywhere.\n",
    "\n",
    "You *call* a function just by writing its name along with the parentheses:"
   ]
  },
  {
   "cell_type": "code",
   "execution_count": 5,
   "metadata": {
    "collapsed": false
   },
   "outputs": [
    {
     "name": "stdout",
     "output_type": "stream",
     "text": [
      "Hello!\n"
     ]
    }
   ],
   "source": [
    "say_hello()"
   ]
  },
  {
   "cell_type": "markdown",
   "metadata": {},
   "source": [
    "There you go!\n",
    "\n",
    "Now let's diagram the basic parts of the syntax to give you an idea of what we are dealing with.\n",
    "\n",
    "<img src = '../images/function_annotation.png'></img>\n",
    "\n",
    "Here I allude to function inputs. Functions take in *variables* inside the parentheses. Those variables and variable names are then only used inside the function. This creates a little world inside the function.\n",
    "\n",
    "You've already been using functions and inputs, you just didn't know it yet. Does that syntax `say_hello()` look familiar to anything that you know?\n",
    "\n",
    "How about:"
   ]
  },
  {
   "cell_type": "code",
   "execution_count": 6,
   "metadata": {
    "collapsed": false
   },
   "outputs": [
    {
     "name": "stdout",
     "output_type": "stream",
     "text": [
      "Hello\n"
     ]
    }
   ],
   "source": [
    "print('Hello')"
   ]
  },
  {
   "cell_type": "markdown",
   "metadata": {},
   "source": [
    "`print` is what is called a **built-in** function. Given whatever input you tell it, the `print` function prints that input to the screen. What happens if you do not provide an input?"
   ]
  },
  {
   "cell_type": "code",
   "execution_count": 7,
   "metadata": {
    "collapsed": false
   },
   "outputs": [
    {
     "name": "stdout",
     "output_type": "stream",
     "text": [
      "\n"
     ]
    }
   ],
   "source": [
    "print()"
   ]
  },
  {
   "cell_type": "markdown",
   "metadata": {},
   "source": [
    "Let's look at inputs more in depth. You'll start by write a `say_anything_twice()` function. It'll take any text and multiply it by 2 (have to say it twice!). It will then return that new string as an output. First we'll define it, then we'll call it:"
   ]
  },
  {
   "cell_type": "code",
   "execution_count": 8,
   "metadata": {
    "collapsed": false
   },
   "outputs": [],
   "source": [
    "def say_anything_twice(anything):\n",
    "    '''\n",
    "    Multiplies a string by 2\n",
    "    input:\n",
    "        anything - str\n",
    "    output:\n",
    "        anything_twice - str\n",
    "    '''\n",
    "    anything_twice = anything * 2\n",
    "    return anything_twice"
   ]
  },
  {
   "cell_type": "code",
   "execution_count": 9,
   "metadata": {
    "collapsed": false
   },
   "outputs": [
    {
     "data": {
      "text/plain": [
       "'hellohello'"
      ]
     },
     "execution_count": 9,
     "metadata": {},
     "output_type": "execute_result"
    }
   ],
   "source": [
    "say_anything_twice('hello')"
   ]
  },
  {
   "cell_type": "markdown",
   "metadata": {},
   "source": [
    "**What's actually going on here?** \n",
    "\n",
    "The function took the string 'hello' as an input and assigned it **internally** to the variable `anything`. It then performed an operation on `anything` (in this case it multiplied it by 2) and assigned that value to a new variable called `anything_twice`. Finally, it **returned** `anything_twice`:\n",
    "    \n",
    ">    return anything_twice\n",
    "\n",
    "This statement returns the result of the functions operations to the place in the your code where the functions was called.\n",
    "\n",
    "The beauty of funtions, though not of this particular function which pretty much executes a single statement, is that we can call it on any string input without having to re-write a lot of code."
   ]
  },
  {
   "cell_type": "code",
   "execution_count": 10,
   "metadata": {
    "collapsed": false
   },
   "outputs": [
    {
     "name": "stdout",
     "output_type": "stream",
     "text": [
      "hello againhello again\n",
      "goodbyegoodbye\n"
     ]
    }
   ],
   "source": [
    "print(say_anything_twice('hello again'))\n",
    "print(say_anything_twice('goodbye'))"
   ]
  },
  {
   "cell_type": "markdown",
   "metadata": {},
   "source": [
    "Typically, you assign the output of a function to a variable:"
   ]
  },
  {
   "cell_type": "code",
   "execution_count": 11,
   "metadata": {
    "collapsed": true
   },
   "outputs": [],
   "source": [
    "answer = say_anything_twice('banana')"
   ]
  },
  {
   "cell_type": "code",
   "execution_count": 12,
   "metadata": {
    "collapsed": false
   },
   "outputs": [
    {
     "name": "stdout",
     "output_type": "stream",
     "text": [
      "bananabanana\n"
     ]
    }
   ],
   "source": [
    "print(answer)"
   ]
  },
  {
   "cell_type": "code",
   "execution_count": 13,
   "metadata": {
    "collapsed": false
   },
   "outputs": [
    {
     "name": "stdout",
     "output_type": "stream",
     "text": [
      "Hello!\n"
     ]
    }
   ],
   "source": [
    "second_answer = say_hello()"
   ]
  },
  {
   "cell_type": "code",
   "execution_count": 14,
   "metadata": {
    "collapsed": false
   },
   "outputs": [
    {
     "name": "stdout",
     "output_type": "stream",
     "text": [
      "None\n"
     ]
    }
   ],
   "source": [
    "print( second_answer )"
   ]
  },
  {
   "cell_type": "markdown",
   "metadata": {},
   "source": [
    "**It is important to be aware that variables defined inside a function are not available outside.**  "
   ]
  },
  {
   "cell_type": "code",
   "execution_count": 19,
   "metadata": {
    "collapsed": false
   },
   "outputs": [
    {
     "ename": "NameError",
     "evalue": "name 'anything_twice' is not defined",
     "output_type": "error",
     "traceback": [
      "\u001b[0;31m---------------------------------------------------------------------------\u001b[0m",
      "\u001b[0;31mNameError\u001b[0m                                 Traceback (most recent call last)",
      "\u001b[0;32m<ipython-input-19-a540008029e8>\u001b[0m in \u001b[0;36m<module>\u001b[0;34m()\u001b[0m\n\u001b[0;32m----> 1\u001b[0;31m \u001b[0manything_twice\u001b[0m\u001b[0;34m\u001b[0m\u001b[0m\n\u001b[0m",
      "\u001b[0;31mNameError\u001b[0m: name 'anything_twice' is not defined"
     ]
    }
   ],
   "source": [
    "anything_twice"
   ]
  },
  {
   "cell_type": "code",
   "execution_count": 21,
   "metadata": {
    "collapsed": false
   },
   "outputs": [
    {
     "name": "stdout",
     "output_type": "stream",
     "text": [
      "good question. good question. good question. \n"
     ]
    }
   ],
   "source": [
    "def simple_function(simple_text):\n",
    "    '''\n",
    "    simple function\n",
    "    '''\n",
    "    print( simple_text * 3 )\n",
    "\n",
    "simple_function('good question. ')"
   ]
  },
  {
   "cell_type": "code",
   "execution_count": null,
   "metadata": {
    "collapsed": true
   },
   "outputs": [],
   "source": []
  },
  {
   "cell_type": "markdown",
   "metadata": {},
   "source": [
    "If you try to use a function variable outside of a function, Python will interrupt execution of your code and return a  `NameError` exception. This is because variables defined inside a function only exist *inside* the function.  They are created when the function is called and deleted when the function's executions is ended. \n",
    "\n",
    "This is actually a wonderful property.  If means that we do not need to keep inventing new variable names.  However, functions _can_ and do use variables that are created outside of any function (this is called a `global` variable).\n",
    "\n",
    "The local validity of variable names inside functions is an example of a **namespace**. \n",
    "\n",
    "##Namespaces\n",
    "\n",
    "Generally speaking, a namespace (sometimes also called a context) is a naming system for making names unique to avoid ambiguity. A (not very good) namespacing system used in daily life is the naming of people with a firstname and a surname. A much better namespacing system is the  directory structure of file systems. The same file name can be used in different directories, the files can be uniquely accessed via the pathnames. \n",
    "\n",
    "Many programming languages use namespaces or contexts for identifiers. An identifier defined in a namespace is associated with that namespace. This way, the same identifier can be independently defined in multiple namespaces. (Like the same file names in different directories) \n"
   ]
  },
  {
   "cell_type": "code",
   "execution_count": 25,
   "metadata": {
    "collapsed": false
   },
   "outputs": [],
   "source": [
    "special_text = 'This is special'\n",
    "\n",
    "def special_text_twice(anything):\n",
    "    '''\n",
    "    Multiplies a string by 2\n",
    "    input:\n",
    "        anything - str\n",
    "    output:\n",
    "        anything_twice - str\n",
    "    '''\n",
    "    anything_twice = special_text * 2\n",
    "    return anything_twice"
   ]
  },
  {
   "cell_type": "code",
   "execution_count": 26,
   "metadata": {
    "collapsed": false
   },
   "outputs": [
    {
     "data": {
      "text/plain": [
       "'This is specialThis is special'"
      ]
     },
     "execution_count": 26,
     "metadata": {},
     "output_type": "execute_result"
    }
   ],
   "source": [
    "special_text_twice('hello')"
   ]
  },
  {
   "cell_type": "markdown",
   "metadata": {},
   "source": [
    "What just happened there? We gave our function the string 'hello', and the function called that string `anything`. However, look at the actual code inside of the function, we never used `anything`. Instead we used our global variable `special_text` to create a function that does the same thing no matter what you give it. Pretty boring:\n",
    "\n"
   ]
  },
  {
   "cell_type": "code",
   "execution_count": 24,
   "metadata": {
    "collapsed": false
   },
   "outputs": [
    {
     "name": "stdout",
     "output_type": "stream",
     "text": [
      "This is special textThis is special text\n",
      "This is special textThis is special text\n",
      "This is special textThis is special text\n"
     ]
    }
   ],
   "source": [
    "print(special_text_twice('Awesome input text!'))\n",
    "print(special_text_twice('Even awesomer input text!'))\n",
    "print(special_text_twice('The most awesome input text!'))"
   ]
  },
  {
   "cell_type": "markdown",
   "metadata": {},
   "source": [
    "I tell you about global variables so you know, but **relying on `global` variables in functions is not a good practice.**\n",
    "\n",
    "So try not to do it!\n",
    "\n",
    "If you were curious, we call variables *inside* the function `local` variables."
   ]
  },
  {
   "cell_type": "markdown",
   "metadata": {},
   "source": [
    "## So how do we use functions?\n",
    "\n",
    "A simple example is one thing, but it can be hard to figure out how we use functions in **real** code. To make this clear, let's go back to your administrative job and work with the `Roster` data.\n",
    "\n",
    "There are 800 student data files in the `Data/Roster` folder that need to be parsed. Previously we put all of this code into a `for` loop, which easily went through every single file in turn. However, if you want to do anything else when you parse the file, like calculate the height, many modifications would need to be made to the `for` loop.\n",
    "\n",
    "Continually adding these small changes will make the amount of code in the `for` loop grow quite a bit, making it more and more unreadable. When something is unreadable it's hard to quickly understand how a specific value is calculated or what values are used. This means that when you need to make a change it takes you **a lot** more time to re-acquaint yourself with the code and implement even simple additions.\n",
    "\n",
    "Also, when you add more code, you add more variables. These variables are flying around all over our code, making tracking the flow difficult. What's even **worse** is that you become far more likely to modify a variable in a way that makes another line of code **fail** (everyone shakes their head no, but everyone does it!).\n",
    "\n",
    "Lastly, some pieces of code that we need might be re-usable! Over the course of the next year I might need to calculate someones height in inches a few different times. Sometimes my data might be like it is in `Data/Roster` but maybe other times I'm reading height off a spreadsheet. Rather than write the same code multiple times I could just write something that takes height in feet and inches and returns only height in inches. That piece of code would work for that small specific task no matter what file types I'm reading.\n",
    "\n",
    "**Functions** help us solve these types of problems. "
   ]
  },
  {
   "cell_type": "markdown",
   "metadata": {},
   "source": [
    "## Writing a function\n",
    "\n",
    "When we write a function, we extract just a small, *specific* part of our overall program and write it as its own little piece of code. With a clear name it becomes easy to identify what the function does, increasing readability. \n",
    "\n",
    "Furthermore, if we need to change how something is calculated (say that new roster files have the height in centimeters instead of inches), we'll know **right away** where the code we need to modify is located. We'll also know that we **don't need to change it** anywhere else. \n",
    "\n",
    "So right away we can reimagine our initial code to read the `Roster` files as \n",
    "    \n",
    "    #Here we write a function to grab all of the roster filenames\n",
    "    data_files = find_student_records(directory)\n",
    "    #Now we iterate through each filename\n",
    "    for each file in data_files:\n",
    "        #Next we parse the file\n",
    "        data = parse_student_record(file)\n",
    "        #We simply calculate the code outside of the for loop\n",
    "        age = calculate_age(data)\n",
    "            \n",
    "Make sense now?\n",
    "\n",
    "Now before you start programming it's best to actually sketch out the function."
   ]
  },
  {
   "cell_type": "markdown",
   "metadata": {},
   "source": [
    "## Sketching out a function\n",
    "\n",
    "There are three basic questions that help you sketch a function:\n",
    "\n",
    "* What does this function do?\n",
    "* What inputs does this function need to do that?\n",
    "* What value(s) does the function return?\n",
    "\n",
    "After you answer these three questions, you will then know the bounds on what code you can write inside that function.\n",
    "\n",
    "These questions may seem like a simple exercise, but this information is actually the **same** information that you should be writing in your docstring. That way you can easily identify at any time what a function **does**, what value it **needs to run**, and what value it **returns**.\n",
    "\n",
    "Let's start by doing this with our `find_student_records` function.\n",
    "\n",
    "### What task is the function accomplishing?\n",
    "\n",
    "This function returns all of the filenames with the 'txt' extension in a given directory.\n",
    "\n",
    "### What inputs does the function require?\n",
    "\n",
    "The functions needs to be given a directory and, potentially, an extension type.\n",
    "\n",
    "### How should the information returned be formatted?\n",
    "\n",
    "Since we will likely want to iterate through the file names, the output should be formatted as a collection. A list is a flexible option.\n",
    "\n",
    "Let's implement these ideas!"
   ]
  },
  {
   "cell_type": "code",
   "execution_count": null,
   "metadata": {
    "collapsed": false
   },
   "outputs": [],
   "source": [
    "def find_student_records(directory):\n",
    "    \"\"\"\n",
    "    Return all roster filenames in a directory\n",
    "    input:\n",
    "        directory - str, Directory that contains the roster files\n",
    "    output:\n",
    "        filenames - list, List of roster filenames in directory\n",
    "    \"\"\"\n",
    "    return filenames"
   ]
  },
  {
   "cell_type": "markdown",
   "metadata": {},
   "source": [
    "Now you should sketch the function to `parse_student_record()`"
   ]
  },
  {
   "cell_type": "code",
   "execution_count": null,
   "metadata": {
    "collapsed": false
   },
   "outputs": [],
   "source": [
    "def parse_student_record(filename):\n",
    "    \"\"\"\n",
    "    Breaks up the record contents into individual fields\n",
    "    input:\n",
    "        filename - str, name of the file\n",
    "    output:\n",
    "        data - dict, a single persons data\n",
    "    \"\"\"\n",
    "    return data"
   ]
  },
  {
   "cell_type": "markdown",
   "metadata": {},
   "source": [
    "And our last function to sketch is the `calculate_age()` function. "
   ]
  },
  {
   "cell_type": "code",
   "execution_count": 27,
   "metadata": {
    "collapsed": false
   },
   "outputs": [],
   "source": [
    "def calculate_age(birth_day, birth_month, birth_year):\n",
    "    \"\"\"\n",
    "    Calculate the age of a person\n",
    "    input:\n",
    "        birth_day - int, day of birth\n",
    "        birth_month - int, month of birth\n",
    "        birth_year - int, year of birth\n",
    "    output: \n",
    "        age - int, age of person\n",
    "    \"\"\"\n",
    "    return age"
   ]
  },
  {
   "cell_type": "markdown",
   "metadata": {},
   "source": [
    "## Now let's build up to a function\n",
    "\n",
    "With separate functions, it can be easy to develop and test each one without having to process the entire data set every time. Lets start by finding all the records.\n",
    "\n",
    "The easiest way to do this is to just write the code outside of a function first and then wrap a function around it. You will use `glob` to get all of the filenames, so I've already imported it at the top of the notebook.\n",
    "\n",
    "Just write the simple `glob` statement like in the last notebook"
   ]
  },
  {
   "cell_type": "code",
   "execution_count": 28,
   "metadata": {
    "collapsed": true
   },
   "outputs": [
    {
     "data": {
      "text/plain": [
       "['../Data/Roster/Agatha_Bailey_798.txt',\n",
       " '../Data/Roster/Agatha_Brooks_78.txt',\n",
       " '../Data/Roster/Agatha_Campbell_372.txt',\n",
       " '../Data/Roster/Agatha_Carter_359.txt',\n",
       " '../Data/Roster/Agatha_Green_150.txt',\n",
       " '../Data/Roster/Agatha_Green_99.txt',\n",
       " '../Data/Roster/Agatha_Griffin_495.txt',\n",
       " '../Data/Roster/Agatha_Hall_651.txt',\n",
       " '../Data/Roster/Agatha_Jackson_454.txt',\n",
       " '../Data/Roster/Agatha_Jackson_560.txt',\n",
       " '../Data/Roster/Agatha_Jones_573.txt',\n",
       " '../Data/Roster/Agatha_Jones_652.txt',\n",
       " '../Data/Roster/Agatha_Lee_11.txt',\n",
       " '../Data/Roster/Agatha_Lewis_683.txt',\n",
       " '../Data/Roster/Agatha_Long_483.txt',\n",
       " '../Data/Roster/Agatha_Lopez_399.txt',\n",
       " '../Data/Roster/Agatha_Moore_642.txt',\n",
       " '../Data/Roster/Agatha_Murphy_130.txt',\n",
       " '../Data/Roster/Agatha_Nelson_686.txt',\n",
       " '../Data/Roster/Agatha_Nelson_793.txt',\n",
       " '../Data/Roster/Agatha_Perez_387.txt',\n",
       " '../Data/Roster/Agatha_Perez_717.txt',\n",
       " '../Data/Roster/Agatha_Perry_345.txt',\n",
       " '../Data/Roster/Agatha_Peterson_65.txt',\n",
       " '../Data/Roster/Agatha_Phillips_38.txt',\n",
       " '../Data/Roster/Agatha_Russell_300.txt',\n",
       " '../Data/Roster/Agatha_Sanders_385.txt',\n",
       " '../Data/Roster/Agatha_Smith_274.txt',\n",
       " '../Data/Roster/Agatha_Smith_465.txt',\n",
       " '../Data/Roster/Agatha_Stewart_759.txt',\n",
       " '../Data/Roster/Agatha_Thomas_284.txt',\n",
       " '../Data/Roster/Agatha_Thomas_657.txt',\n",
       " '../Data/Roster/Agatha_williams_341.txt',\n",
       " '../Data/Roster/Agatha_Wood_552.txt',\n",
       " '../Data/Roster/Agatha_Wright_505.txt',\n",
       " '../Data/Roster/Agatha_Young_124.txt',\n",
       " '../Data/Roster/Agatha_Young_172.txt',\n",
       " '../Data/Roster/Annabelle_Alexander_423.txt',\n",
       " '../Data/Roster/Annabelle_Bailey_28.txt',\n",
       " '../Data/Roster/Annabelle_Bailey_401.txt',\n",
       " '../Data/Roster/Annabelle_Brown_133.txt',\n",
       " '../Data/Roster/Annabelle_Collins_794.txt',\n",
       " '../Data/Roster/Annabelle_Flores_381.txt',\n",
       " '../Data/Roster/Annabelle_Foster_621.txt',\n",
       " '../Data/Roster/Annabelle_Green_797.txt',\n",
       " '../Data/Roster/Annabelle_Jackson_452.txt',\n",
       " '../Data/Roster/Annabelle_James_306.txt',\n",
       " '../Data/Roster/Annabelle_Johnson_208.txt',\n",
       " '../Data/Roster/Annabelle_Jones_125.txt',\n",
       " '../Data/Roster/Annabelle_Kelly_442.txt',\n",
       " '../Data/Roster/Annabelle_Mitchell_256.txt',\n",
       " '../Data/Roster/Annabelle_Mitchell_346.txt',\n",
       " '../Data/Roster/Annabelle_Morris_40.txt',\n",
       " '../Data/Roster/Annabelle_Ramirez_727.txt',\n",
       " '../Data/Roster/Annabelle_Rivera_472.txt',\n",
       " '../Data/Roster/Annabelle_Roberts_755.txt',\n",
       " '../Data/Roster/Annabelle_Robinson_248.txt',\n",
       " '../Data/Roster/Annabelle_Ross_275.txt',\n",
       " '../Data/Roster/Annabelle_Simmons_733.txt',\n",
       " '../Data/Roster/Annabelle_Smith_263.txt',\n",
       " '../Data/Roster/Annabelle_Thomas_113.txt',\n",
       " '../Data/Roster/Annabelle_Thomas_741.txt',\n",
       " '../Data/Roster/Annabelle_Torres_159.txt',\n",
       " '../Data/Roster/Annabelle_Torres_654.txt',\n",
       " '../Data/Roster/Annabelle_Washington_8.txt',\n",
       " '../Data/Roster/Annabelle_Watson_342.txt',\n",
       " '../Data/Roster/Annabelle_Wilson_367.txt',\n",
       " '../Data/Roster/Annabelle_Wood_380.txt',\n",
       " '../Data/Roster/Annabelle_Wood_74.txt',\n",
       " '../Data/Roster/Betty_Bailey_18.txt',\n",
       " '../Data/Roster/Betty_Barnes_178.txt',\n",
       " '../Data/Roster/Betty_Bell_614.txt',\n",
       " '../Data/Roster/Betty_Bennett_710.txt',\n",
       " '../Data/Roster/Betty_Brooks_698.txt',\n",
       " '../Data/Roster/Betty_Campbell_522.txt',\n",
       " '../Data/Roster/Betty_Coleman_290.txt',\n",
       " '../Data/Roster/Betty_Cook_146.txt',\n",
       " '../Data/Roster/Betty_Davis_23.txt',\n",
       " '../Data/Roster/Betty_Diaz_537.txt',\n",
       " '../Data/Roster/Betty_Evans_393.txt',\n",
       " '../Data/Roster/Betty_Gonzalez_787.txt',\n",
       " '../Data/Roster/Betty_Hall_513.txt',\n",
       " '../Data/Roster/Betty_Harris_143.txt',\n",
       " '../Data/Roster/Betty_Henderson_795.txt',\n",
       " '../Data/Roster/Betty_Kelly_382.txt',\n",
       " '../Data/Roster/Betty_King_6.txt',\n",
       " '../Data/Roster/Betty_Lee_312.txt',\n",
       " '../Data/Roster/Betty_Lee_512.txt',\n",
       " '../Data/Roster/Betty_Morris_603.txt',\n",
       " '../Data/Roster/Betty_Murphy_210.txt',\n",
       " '../Data/Roster/Betty_Murphy_404.txt',\n",
       " '../Data/Roster/Betty_Parker_241.txt',\n",
       " '../Data/Roster/Betty_Perez_626.txt',\n",
       " '../Data/Roster/Betty_Peterson_587.txt',\n",
       " '../Data/Roster/Betty_Powell_288.txt',\n",
       " '../Data/Roster/Betty_Reed_62.txt',\n",
       " '../Data/Roster/Betty_Robinson_277.txt',\n",
       " '../Data/Roster/Betty_Rodriguez_338.txt',\n",
       " '../Data/Roster/Betty_Rogers_684.txt',\n",
       " '../Data/Roster/Betty_Sanchez_266.txt',\n",
       " '../Data/Roster/Betty_Simmons_182.txt',\n",
       " '../Data/Roster/Betty_Walker_575.txt',\n",
       " '../Data/Roster/Betty_Watson_500.txt',\n",
       " '../Data/Roster/Betty_Watson_673.txt',\n",
       " '../Data/Roster/Betty_williams_301.txt',\n",
       " '../Data/Roster/Betty_Wood_541.txt',\n",
       " '../Data/Roster/Buzz_Adams_457.txt',\n",
       " '../Data/Roster/Buzz_Alexander_754.txt',\n",
       " '../Data/Roster/Buzz_Allen_634.txt',\n",
       " '../Data/Roster/Buzz_Allen_77.txt',\n",
       " '../Data/Roster/Buzz_Baker_565.txt',\n",
       " '../Data/Roster/Buzz_Baker_618.txt',\n",
       " '../Data/Roster/Buzz_Bell_235.txt',\n",
       " '../Data/Roster/Buzz_Campbell_353.txt',\n",
       " '../Data/Roster/Buzz_Carter_497.txt',\n",
       " '../Data/Roster/Buzz_Cox_80.txt',\n",
       " '../Data/Roster/Buzz_Davis_713.txt',\n",
       " '../Data/Roster/Buzz_Gonzalez_747.txt',\n",
       " '../Data/Roster/Buzz_Gray_770.txt',\n",
       " '../Data/Roster/Buzz_Green_76.txt',\n",
       " '../Data/Roster/Buzz_Griffin_694.txt',\n",
       " '../Data/Roster/Buzz_Hayes_75.txt',\n",
       " '../Data/Roster/Buzz_Hayes_758.txt',\n",
       " '../Data/Roster/Buzz_Henderson_562.txt',\n",
       " '../Data/Roster/Buzz_James_416.txt',\n",
       " '../Data/Roster/Buzz_Kelly_295.txt',\n",
       " '../Data/Roster/Buzz_King_311.txt',\n",
       " '../Data/Roster/Buzz_King_534.txt',\n",
       " '../Data/Roster/Buzz_Miller_173.txt',\n",
       " '../Data/Roster/Buzz_Mitchell_407.txt',\n",
       " '../Data/Roster/Buzz_Moore_478.txt',\n",
       " '../Data/Roster/Buzz_Parker_340.txt',\n",
       " '../Data/Roster/Buzz_Perry_503.txt',\n",
       " '../Data/Roster/Buzz_Peterson_768.txt',\n",
       " '../Data/Roster/Buzz_Roberts_289.txt',\n",
       " '../Data/Roster/Buzz_Robinson_148.txt',\n",
       " '../Data/Roster/Buzz_Rodriguez_358.txt',\n",
       " '../Data/Roster/Buzz_Sanders_662.txt',\n",
       " '../Data/Roster/Buzz_Taylor_200.txt',\n",
       " '../Data/Roster/Buzz_Torres_598.txt',\n",
       " '../Data/Roster/Buzz_Washington_485.txt',\n",
       " '../Data/Roster/Buzz_Wilson_318.txt',\n",
       " '../Data/Roster/Buzz_Wilson_641.txt',\n",
       " '../Data/Roster/Buzz_Wright_187.txt',\n",
       " '../Data/Roster/Buzz_Wright_329.txt',\n",
       " '../Data/Roster/Ernest_Adams_556.txt',\n",
       " '../Data/Roster/Ernest_Anderson_697.txt',\n",
       " '../Data/Roster/Ernest_Barnes_90.txt',\n",
       " '../Data/Roster/Ernest_Bell_50.txt',\n",
       " '../Data/Roster/Ernest_Clark_771.txt',\n",
       " '../Data/Roster/Ernest_Evans_425.txt',\n",
       " '../Data/Roster/Ernest_Flores_688.txt',\n",
       " '../Data/Roster/Ernest_Griffin_695.txt',\n",
       " '../Data/Roster/Ernest_Harris_750.txt',\n",
       " '../Data/Roster/Ernest_Henderson_308.txt',\n",
       " '../Data/Roster/Ernest_Henderson_728.txt',\n",
       " '../Data/Roster/Ernest_Hughes_222.txt',\n",
       " '../Data/Roster/Ernest_Johnson_281.txt',\n",
       " '../Data/Roster/Ernest_Johnson_658.txt',\n",
       " '../Data/Roster/Ernest_King_139.txt',\n",
       " '../Data/Roster/Ernest_King_162.txt',\n",
       " '../Data/Roster/Ernest_King_540.txt',\n",
       " '../Data/Roster/Ernest_Mitchell_783.txt',\n",
       " '../Data/Roster/Ernest_Murphy_169.txt',\n",
       " '../Data/Roster/Ernest_Nelson_111.txt',\n",
       " '../Data/Roster/Ernest_Perez_624.txt',\n",
       " '../Data/Roster/Ernest_Powell_239.txt',\n",
       " '../Data/Roster/Ernest_Price_41.txt',\n",
       " '../Data/Roster/Ernest_Russell_623.txt',\n",
       " '../Data/Roster/Ernest_Simmons_243.txt',\n",
       " '../Data/Roster/Ernest_Washington_349.txt',\n",
       " '../Data/Roster/Ernest_Wilson_71.txt',\n",
       " '../Data/Roster/Ernest_Wood_73.txt',\n",
       " '../Data/Roster/Ernest_Wood_735.txt',\n",
       " '../Data/Roster/Ernest_Wright_278.txt',\n",
       " '../Data/Roster/Ernest_Young_578.txt',\n",
       " '../Data/Roster/Eustace_Bailey_555.txt',\n",
       " '../Data/Roster/Eustace_Bennett_7.txt',\n",
       " '../Data/Roster/Eustace_Cook_350.txt',\n",
       " '../Data/Roster/Eustace_Edwards_441.txt',\n",
       " '../Data/Roster/Eustace_Edwards_445.txt',\n",
       " '../Data/Roster/Eustace_Edwards_515.txt',\n",
       " '../Data/Roster/Eustace_Edwards_656.txt',\n",
       " '../Data/Roster/Eustace_Evans_164.txt',\n",
       " '../Data/Roster/Eustace_Foster_58.txt',\n",
       " '../Data/Roster/Eustace_Garcia_550.txt',\n",
       " '../Data/Roster/Eustace_Green_291.txt',\n",
       " '../Data/Roster/Eustace_Griffin_326.txt',\n",
       " '../Data/Roster/Eustace_Hall_481.txt',\n",
       " '../Data/Roster/Eustace_Hernandez_242.txt',\n",
       " '../Data/Roster/Eustace_Hernandez_436.txt',\n",
       " '../Data/Roster/Eustace_Hughes_458.txt',\n",
       " '../Data/Roster/Eustace_Jenkins_114.txt',\n",
       " '../Data/Roster/Eustace_Jenkins_175.txt',\n",
       " '../Data/Roster/Eustace_Jenkins_297.txt',\n",
       " '../Data/Roster/Eustace_Johnson_227.txt',\n",
       " '../Data/Roster/Eustace_Jones_487.txt',\n",
       " '../Data/Roster/Eustace_King_474.txt',\n",
       " '../Data/Roster/Eustace_Lee_157.txt',\n",
       " '../Data/Roster/Eustace_Lee_646.txt',\n",
       " '../Data/Roster/Eustace_Long_15.txt',\n",
       " '../Data/Roster/Eustace_Long_4.txt',\n",
       " '../Data/Roster/Eustace_Martin_184.txt',\n",
       " '../Data/Roster/Eustace_Morris_484.txt',\n",
       " '../Data/Roster/Eustace_Morris_631.txt',\n",
       " '../Data/Roster/Eustace_Parker_627.txt',\n",
       " '../Data/Roster/Eustace_Perry_0.txt',\n",
       " '../Data/Roster/Eustace_Peterson_477.txt',\n",
       " '../Data/Roster/Eustace_Peterson_594.txt',\n",
       " '../Data/Roster/Eustace_Powell_413.txt',\n",
       " '../Data/Roster/Eustace_Reed_330.txt',\n",
       " '../Data/Roster/Eustace_Rodriguez_19.txt',\n",
       " '../Data/Roster/Eustace_Rogers_743.txt',\n",
       " '../Data/Roster/Eustace_Ross_533.txt',\n",
       " '../Data/Roster/Eustace_Russell_402.txt',\n",
       " '../Data/Roster/Eustace_Sanders_26.txt',\n",
       " '../Data/Roster/Eustace_Scoot_228.txt',\n",
       " '../Data/Roster/Eustace_Scoot_488.txt',\n",
       " '../Data/Roster/Eustace_Simmons_529.txt',\n",
       " '../Data/Roster/Eustace_Smith_285.txt',\n",
       " '../Data/Roster/Eustace_Taylor_160.txt',\n",
       " '../Data/Roster/Eustace_Taylor_384.txt',\n",
       " '../Data/Roster/Eustace_Thompson_132.txt',\n",
       " '../Data/Roster/Eustace_Thompson_518.txt',\n",
       " '../Data/Roster/Eustace_Turner_163.txt',\n",
       " '../Data/Roster/Eustace_Ward_105.txt',\n",
       " '../Data/Roster/Eustace_Wilson_144.txt',\n",
       " '../Data/Roster/Eustace_Wright_731.txt',\n",
       " '../Data/Roster/Eustace_Young_676.txt',\n",
       " '../Data/Roster/Ezekiel_Adams_298.txt',\n",
       " '../Data/Roster/Ezekiel_Allen_16.txt',\n",
       " '../Data/Roster/Ezekiel_Bailey_486.txt',\n",
       " '../Data/Roster/Ezekiel_Barnes_620.txt',\n",
       " '../Data/Roster/Ezekiel_Bryant_644.txt',\n",
       " '../Data/Roster/Ezekiel_Cook_665.txt',\n",
       " '../Data/Roster/Ezekiel_Cox_586.txt',\n",
       " '../Data/Roster/Ezekiel_Cox_86.txt',\n",
       " '../Data/Roster/Ezekiel_Edwards_177.txt',\n",
       " '../Data/Roster/Ezekiel_Garcia_681.txt',\n",
       " '../Data/Roster/Ezekiel_Garcia_702.txt',\n",
       " '../Data/Roster/Ezekiel_Gonzalez_176.txt',\n",
       " '../Data/Roster/Ezekiel_Gonzalez_46.txt',\n",
       " '../Data/Roster/Ezekiel_Gonzalez_498.txt',\n",
       " '../Data/Roster/Ezekiel_Gray_53.txt',\n",
       " '../Data/Roster/Ezekiel_Hall_253.txt',\n",
       " '../Data/Roster/Ezekiel_Hall_268.txt',\n",
       " '../Data/Roster/Ezekiel_Hayes_668.txt',\n",
       " '../Data/Roster/Ezekiel_Henderson_514.txt',\n",
       " '../Data/Roster/Ezekiel_Hernandez_152.txt',\n",
       " '../Data/Roster/Ezekiel_James_796.txt',\n",
       " '../Data/Roster/Ezekiel_Lee_225.txt',\n",
       " '../Data/Roster/Ezekiel_Martin_524.txt',\n",
       " '../Data/Roster/Ezekiel_Martin_700.txt',\n",
       " '../Data/Roster/Ezekiel_Miller_502.txt',\n",
       " '../Data/Roster/Ezekiel_Moore_429.txt',\n",
       " '../Data/Roster/Ezekiel_Perez_59.txt',\n",
       " '../Data/Roster/Ezekiel_Price_366.txt',\n",
       " '../Data/Roster/Ezekiel_Price_671.txt',\n",
       " '../Data/Roster/Ezekiel_Ramirez_107.txt',\n",
       " '../Data/Roster/Ezekiel_Roberts_250.txt',\n",
       " '../Data/Roster/Ezekiel_Robinson_431.txt',\n",
       " '../Data/Roster/Ezekiel_Rodriguez_675.txt',\n",
       " '../Data/Roster/Ezekiel_Rogers_420.txt',\n",
       " '../Data/Roster/Ezekiel_Russell_476.txt',\n",
       " '../Data/Roster/Ezekiel_Sanchez_337.txt',\n",
       " '../Data/Roster/Ezekiel_Scoot_30.txt',\n",
       " '../Data/Roster/Ezekiel_Thompson_334.txt',\n",
       " '../Data/Roster/Ezekiel_Washington_456.txt',\n",
       " '../Data/Roster/Ezekiel_Watson_625.txt',\n",
       " '../Data/Roster/Ezekiel_williams_145.txt',\n",
       " '../Data/Roster/Ezekiel_Wright_591.txt',\n",
       " '../Data/Roster/Howard_Barnes_568.txt',\n",
       " '../Data/Roster/Howard_Butler_115.txt',\n",
       " '../Data/Roster/Howard_Carter_547.txt',\n",
       " '../Data/Roster/Howard_Carter_619.txt',\n",
       " '../Data/Roster/Howard_Coleman_669.txt',\n",
       " '../Data/Roster/Howard_Collins_332.txt',\n",
       " '../Data/Roster/Howard_Cooper_55.txt',\n",
       " '../Data/Roster/Howard_Diaz_234.txt',\n",
       " '../Data/Roster/Howard_Edwards_461.txt',\n",
       " '../Data/Roster/Howard_Foster_375.txt',\n",
       " '../Data/Roster/Howard_Foster_376.txt',\n",
       " '../Data/Roster/Howard_Jackson_617.txt',\n",
       " '../Data/Roster/Howard_Jackson_622.txt',\n",
       " '../Data/Roster/Howard_Kelly_516.txt',\n",
       " '../Data/Roster/Howard_Kelly_639.txt',\n",
       " '../Data/Roster/Howard_Lee_398.txt',\n",
       " '../Data/Roster/Howard_Lewis_782.txt',\n",
       " '../Data/Roster/Howard_Martin_691.txt',\n",
       " '../Data/Roster/Howard_Morris_405.txt',\n",
       " '../Data/Roster/Howard_Morris_566.txt',\n",
       " '../Data/Roster/Howard_Murphy_605.txt',\n",
       " '../Data/Roster/Howard_Nelson_304.txt',\n",
       " '../Data/Roster/Howard_Nelson_601.txt',\n",
       " '../Data/Roster/Howard_Nelson_738.txt',\n",
       " '../Data/Roster/Howard_Patterson_449.txt',\n",
       " '../Data/Roster/Howard_Powell_509.txt',\n",
       " '../Data/Roster/Howard_Ramirez_118.txt',\n",
       " '../Data/Roster/Howard_Ramirez_369.txt',\n",
       " '../Data/Roster/Howard_Rivera_539.txt',\n",
       " '../Data/Roster/Howard_Ross_577.txt',\n",
       " '../Data/Roster/Howard_Ross_608.txt',\n",
       " '../Data/Roster/Howard_Sanchez_168.txt',\n",
       " '../Data/Roster/Howard_Sanders_292.txt',\n",
       " '../Data/Roster/Howard_Sanders_5.txt',\n",
       " '../Data/Roster/Howard_Scoot_121.txt',\n",
       " '../Data/Roster/Howard_Simmons_576.txt',\n",
       " '../Data/Roster/Howard_Stewart_1.txt',\n",
       " '../Data/Roster/Howard_Ward_354.txt',\n",
       " '../Data/Roster/Howard_Watson_137.txt',\n",
       " '../Data/Roster/Lorelei_Anderson_479.txt',\n",
       " '../Data/Roster/Lorelei_Barnes_333.txt',\n",
       " '../Data/Roster/Lorelei_Bell_450.txt',\n",
       " '../Data/Roster/Lorelei_Brown_245.txt',\n",
       " '../Data/Roster/Lorelei_Carter_427.txt',\n",
       " '../Data/Roster/Lorelei_Carter_599.txt',\n",
       " '../Data/Roster/Lorelei_Clark_432.txt',\n",
       " '../Data/Roster/Lorelei_Cox_670.txt',\n",
       " '../Data/Roster/Lorelei_Cox_82.txt',\n",
       " '../Data/Roster/Lorelei_Evans_677.txt',\n",
       " '../Data/Roster/Lorelei_Garcia_742.txt',\n",
       " '../Data/Roster/Lorelei_Griffin_666.txt',\n",
       " '../Data/Roster/Lorelei_Harris_126.txt',\n",
       " '../Data/Roster/Lorelei_Harris_197.txt',\n",
       " '../Data/Roster/Lorelei_James_418.txt',\n",
       " '../Data/Roster/Lorelei_James_596.txt',\n",
       " '../Data/Roster/Lorelei_Jones_777.txt',\n",
       " '../Data/Roster/Lorelei_Lee_412.txt',\n",
       " '../Data/Roster/Lorelei_Martinez_171.txt',\n",
       " '../Data/Roster/Lorelei_Martinez_271.txt',\n",
       " '../Data/Roster/Lorelei_Miller_49.txt',\n",
       " '../Data/Roster/Lorelei_Morris_597.txt',\n",
       " '../Data/Roster/Lorelei_Parker_680.txt',\n",
       " '../Data/Roster/Lorelei_Phillips_600.txt',\n",
       " '../Data/Roster/Lorelei_Reed_339.txt',\n",
       " '../Data/Roster/Lorelei_Reed_660.txt',\n",
       " '../Data/Roster/Lorelei_Richardson_763.txt',\n",
       " '../Data/Roster/Lorelei_Rodriguez_226.txt',\n",
       " '../Data/Roster/Lorelei_Sanders_218.txt',\n",
       " '../Data/Roster/Lorelei_Scoot_45.txt',\n",
       " '../Data/Roster/Lorelei_Scoot_585.txt',\n",
       " '../Data/Roster/Lorelei_Thomas_730.txt',\n",
       " '../Data/Roster/Lorelei_Thompson_581.txt',\n",
       " '../Data/Roster/Lorelei_Turner_328.txt',\n",
       " '../Data/Roster/Lorelei_williams_221.txt',\n",
       " '../Data/Roster/Lorelei_Wright_310.txt',\n",
       " '../Data/Roster/Lorelei_Young_444.txt',\n",
       " '../Data/Roster/Lorelei_Young_780.txt',\n",
       " '../Data/Roster/Marjorie_Alexander_395.txt',\n",
       " '../Data/Roster/Marjorie_Alexander_723.txt',\n",
       " '../Data/Roster/Marjorie_Bailey_772.txt',\n",
       " '../Data/Roster/Marjorie_Baker_122.txt',\n",
       " '../Data/Roster/Marjorie_Baker_752.txt',\n",
       " '../Data/Roster/Marjorie_Barnes_538.txt',\n",
       " '../Data/Roster/Marjorie_Brown_347.txt',\n",
       " '../Data/Roster/Marjorie_Bryant_29.txt',\n",
       " '../Data/Roster/Marjorie_Carter_149.txt',\n",
       " '../Data/Roster/Marjorie_Coleman_788.txt',\n",
       " '../Data/Roster/Marjorie_Collins_564.txt',\n",
       " '../Data/Roster/Marjorie_Davis_344.txt',\n",
       " '../Data/Roster/Marjorie_Diaz_215.txt',\n",
       " '../Data/Roster/Marjorie_Flores_307.txt',\n",
       " '../Data/Roster/Marjorie_Griffin_493.txt',\n",
       " '../Data/Roster/Marjorie_Hayes_696.txt',\n",
       " '../Data/Roster/Marjorie_Henderson_629.txt',\n",
       " '../Data/Roster/Marjorie_Hernandez_546.txt',\n",
       " '../Data/Roster/Marjorie_Hughes_25.txt',\n",
       " '../Data/Roster/Marjorie_James_170.txt',\n",
       " '../Data/Roster/Marjorie_Jenkins_89.txt',\n",
       " '../Data/Roster/Marjorie_Kelly_294.txt',\n",
       " '../Data/Roster/Marjorie_Lee_559.txt',\n",
       " '../Data/Roster/Marjorie_Moore_209.txt',\n",
       " '../Data/Roster/Marjorie_Moore_325.txt',\n",
       " '../Data/Roster/Marjorie_Morris_247.txt',\n",
       " '../Data/Roster/Marjorie_Patterson_60.txt',\n",
       " '../Data/Roster/Marjorie_Ramirez_181.txt',\n",
       " '../Data/Roster/Marjorie_Ramirez_775.txt',\n",
       " '../Data/Roster/Marjorie_Reed_584.txt',\n",
       " '../Data/Roster/Marjorie_Robinson_471.txt',\n",
       " '../Data/Roster/Marjorie_Rodriguez_237.txt',\n",
       " '../Data/Roster/Marjorie_Sanchez_201.txt',\n",
       " '../Data/Roster/Marjorie_Taylor_20.txt',\n",
       " '../Data/Roster/Marjorie_Thomas_116.txt',\n",
       " '../Data/Roster/Marjorie_Turner_361.txt',\n",
       " '../Data/Roster/Marjorie_Washington_438.txt',\n",
       " '../Data/Roster/Marjorie_White_628.txt',\n",
       " '../Data/Roster/Marjorie_williams_779.txt',\n",
       " '../Data/Roster/Matthias_Baker_386.txt',\n",
       " '../Data/Roster/Matthias_Bell_563.txt',\n",
       " '../Data/Roster/Matthias_Brown_64.txt',\n",
       " '../Data/Roster/Matthias_Collins_703.txt',\n",
       " '../Data/Roster/Matthias_Cooper_549.txt',\n",
       " '../Data/Roster/Matthias_Davis_536.txt',\n",
       " '../Data/Roster/Matthias_Edwards_296.txt',\n",
       " '../Data/Roster/Matthias_Evans_440.txt',\n",
       " '../Data/Roster/Matthias_Foster_446.txt',\n",
       " '../Data/Roster/Matthias_Gonzalez_102.txt',\n",
       " '../Data/Roster/Matthias_Hayes_740.txt',\n",
       " '../Data/Roster/Matthias_Hernandez_183.txt',\n",
       " '../Data/Roster/Matthias_Hill_532.txt',\n",
       " '../Data/Roster/Matthias_Hughes_151.txt',\n",
       " '../Data/Roster/Matthias_Johnson_572.txt',\n",
       " '../Data/Roster/Matthias_Johnson_84.txt',\n",
       " '../Data/Roster/Matthias_Lee_643.txt',\n",
       " '../Data/Roster/Matthias_Lewis_283.txt',\n",
       " '../Data/Roster/Matthias_Lopez_317.txt',\n",
       " '../Data/Roster/Matthias_Lopez_490.txt',\n",
       " '../Data/Roster/Matthias_Morris_22.txt',\n",
       " '../Data/Roster/Matthias_Nelson_232.txt',\n",
       " '../Data/Roster/Matthias_Perez_437.txt',\n",
       " '../Data/Roster/Matthias_Perez_511.txt',\n",
       " '../Data/Roster/Matthias_Perry_786.txt',\n",
       " '../Data/Roster/Matthias_Phillips_351.txt',\n",
       " '../Data/Roster/Matthias_Ramirez_447.txt',\n",
       " '../Data/Roster/Matthias_Richardson_320.txt',\n",
       " '../Data/Roster/Matthias_Robinson_791.txt',\n",
       " '../Data/Roster/Matthias_Scoot_336.txt',\n",
       " '../Data/Roster/Matthias_Scoot_789.txt',\n",
       " '../Data/Roster/Matthias_Stewart_357.txt',\n",
       " '../Data/Roster/Matthias_Thomas_219.txt',\n",
       " '../Data/Roster/Matthias_Thompson_508.txt',\n",
       " '../Data/Roster/Matthias_Turner_128.txt',\n",
       " '../Data/Roster/Matthias_Watson_101.txt',\n",
       " '../Data/Roster/Matthias_Wood_451.txt',\n",
       " '../Data/Roster/Matthias_Wood_57.txt',\n",
       " '../Data/Roster/May-Sue_Anderson_93.txt',\n",
       " '../Data/Roster/May-Sue_Bennett_12.txt',\n",
       " '../Data/Roster/May-Sue_Bennett_186.txt',\n",
       " '../Data/Roster/May-Sue_Butler_396.txt',\n",
       " '../Data/Roster/May-Sue_Clark_784.txt',\n",
       " '../Data/Roster/May-Sue_Coleman_647.txt',\n",
       " '../Data/Roster/May-Sue_Collins_91.txt',\n",
       " '../Data/Roster/May-Sue_Cooper_54.txt',\n",
       " '../Data/Roster/May-Sue_Cooper_96.txt',\n",
       " '../Data/Roster/May-Sue_Diaz_739.txt',\n",
       " '../Data/Roster/May-Sue_Evans_303.txt',\n",
       " '../Data/Roster/May-Sue_Flores_464.txt',\n",
       " '../Data/Roster/May-Sue_Foster_370.txt',\n",
       " '../Data/Roster/May-Sue_Garcia_166.txt',\n",
       " '../Data/Roster/May-Sue_Gray_352.txt',\n",
       " '../Data/Roster/May-Sue_Griffin_589.txt',\n",
       " '../Data/Roster/May-Sue_Hayes_203.txt',\n",
       " '../Data/Roster/May-Sue_Henderson_273.txt',\n",
       " '../Data/Roster/May-Sue_Hughes_70.txt',\n",
       " '../Data/Roster/May-Sue_Jenkins_140.txt',\n",
       " '../Data/Roster/May-Sue_Jenkins_542.txt',\n",
       " '../Data/Roster/May-Sue_Johnson_462.txt',\n",
       " '../Data/Roster/May-Sue_Kelly_174.txt',\n",
       " '../Data/Roster/May-Sue_Kelly_720.txt',\n",
       " '../Data/Roster/May-Sue_Kelly_745.txt',\n",
       " '../Data/Roster/May-Sue_King_374.txt',\n",
       " '../Data/Roster/May-Sue_Miller_131.txt',\n",
       " '../Data/Roster/May-Sue_Morgan_272.txt',\n",
       " '../Data/Roster/May-Sue_Murphy_194.txt',\n",
       " '../Data/Roster/May-Sue_Murphy_716.txt',\n",
       " '../Data/Roster/May-Sue_Perry_705.txt',\n",
       " '../Data/Roster/May-Sue_Perry_79.txt',\n",
       " '../Data/Roster/May-Sue_Powell_161.txt',\n",
       " '../Data/Roster/May-Sue_Rivera_88.txt',\n",
       " '../Data/Roster/May-Sue_Robinson_42.txt',\n",
       " '../Data/Roster/May-Sue_Rogers_67.txt',\n",
       " '../Data/Roster/May-Sue_Sanders_238.txt',\n",
       " '../Data/Roster/May-Sue_Simmons_414.txt',\n",
       " '../Data/Roster/May-Sue_Stewart_708.txt',\n",
       " '../Data/Roster/May-Sue_Thomas_138.txt',\n",
       " '../Data/Roster/May-Sue_Thompson_9.txt',\n",
       " '../Data/Roster/May-Sue_Torres_531.txt',\n",
       " '../Data/Roster/May-Sue_Turner_322.txt',\n",
       " '../Data/Roster/May-Sue_Ward_406.txt',\n",
       " '../Data/Roster/May-Sue_Washington_109.txt',\n",
       " '../Data/Roster/May-Sue_Watson_510.txt',\n",
       " '../Data/Roster/May-Sue_White_195.txt',\n",
       " '../Data/Roster/May-Sue_Wilson_718.txt',\n",
       " '../Data/Roster/May-Sue_Wright_343.txt',\n",
       " '../Data/Roster/Montgomery_Alexander_397.txt',\n",
       " '../Data/Roster/Montgomery_Bailey_753.txt',\n",
       " '../Data/Roster/Montgomery_Barnes_765.txt',\n",
       " '../Data/Roster/Montgomery_Bryant_792.txt',\n",
       " '../Data/Roster/Montgomery_Campbell_61.txt',\n",
       " '../Data/Roster/Montgomery_Carter_363.txt',\n",
       " '../Data/Roster/Montgomery_Foster_193.txt',\n",
       " '../Data/Roster/Montgomery_Foster_448.txt',\n",
       " '../Data/Roster/Montgomery_Garcia_123.txt',\n",
       " '../Data/Roster/Montgomery_Griffin_604.txt',\n",
       " '../Data/Roster/Montgomery_Hayes_196.txt',\n",
       " '../Data/Roster/Montgomery_Johnson_615.txt',\n",
       " '../Data/Roster/Montgomery_King_590.txt',\n",
       " '../Data/Roster/Montgomery_Lewis_410.txt',\n",
       " '../Data/Roster/Montgomery_Lewis_521.txt',\n",
       " '../Data/Roster/Montgomery_Lopez_68.txt',\n",
       " '../Data/Roster/Montgomery_Martinez_165.txt',\n",
       " '../Data/Roster/Montgomery_Morgan_391.txt',\n",
       " '../Data/Roster/Montgomery_Morgan_650.txt',\n",
       " '../Data/Roster/Montgomery_Murphy_433.txt',\n",
       " '../Data/Roster/Montgomery_Phillips_749.txt',\n",
       " '../Data/Roster/Montgomery_Russell_110.txt',\n",
       " '../Data/Roster/Montgomery_Russell_494.txt',\n",
       " '../Data/Roster/Montgomery_Scoot_179.txt',\n",
       " '../Data/Roster/Montgomery_Scoot_610.txt',\n",
       " '../Data/Roster/Montgomery_Ward_421.txt',\n",
       " '../Data/Roster/Montgomery_Ward_467.txt',\n",
       " '../Data/Roster/Montgomery_White_453.txt',\n",
       " '../Data/Roster/Montgomery_Wright_119.txt',\n",
       " '../Data/Roster/Montgomery_Wright_92.txt',\n",
       " '../Data/Roster/Montgomery_Young_362.txt',\n",
       " '../Data/Roster/Orville_Alexander_127.txt',\n",
       " '../Data/Roster/Orville_Allen_390.txt',\n",
       " '../Data/Roster/Orville_Bailey_254.txt',\n",
       " '../Data/Roster/Orville_Barnes_726.txt',\n",
       " '../Data/Roster/Orville_Bell_473.txt',\n",
       " '../Data/Roster/Orville_Bennett_83.txt',\n",
       " '../Data/Roster/Orville_Brown_411.txt',\n",
       " '../Data/Roster/Orville_Butler_81.txt',\n",
       " '../Data/Roster/Orville_Coleman_327.txt',\n",
       " '../Data/Roster/Orville_Coleman_463.txt',\n",
       " '../Data/Roster/Orville_Coleman_582.txt',\n",
       " '../Data/Roster/Orville_Coleman_593.txt',\n",
       " '../Data/Roster/Orville_Coleman_633.txt',\n",
       " '../Data/Roster/Orville_Cox_664.txt',\n",
       " '../Data/Roster/Orville_Davis_189.txt',\n",
       " '../Data/Roster/Orville_Garcia_679.txt',\n",
       " '../Data/Roster/Orville_Gonzalez_428.txt',\n",
       " '../Data/Roster/Orville_Green_192.txt',\n",
       " '../Data/Roster/Orville_Hall_579.txt',\n",
       " '../Data/Roster/Orville_Hughes_466.txt',\n",
       " '../Data/Roster/Orville_Jackson_764.txt',\n",
       " '../Data/Roster/Orville_Johnson_460.txt',\n",
       " '../Data/Roster/Orville_King_233.txt',\n",
       " '../Data/Roster/Orville_Lee_3.txt',\n",
       " '../Data/Roster/Orville_Lee_408.txt',\n",
       " '../Data/Roster/Orville_Martinez_785.txt',\n",
       " '../Data/Roster/Orville_Miller_482.txt',\n",
       " '../Data/Roster/Orville_Miller_689.txt',\n",
       " '../Data/Roster/Orville_Miller_767.txt',\n",
       " '../Data/Roster/Orville_Mitchell_31.txt',\n",
       " '../Data/Roster/Orville_Morris_504.txt',\n",
       " '../Data/Roster/Orville_Nelson_316.txt',\n",
       " '../Data/Roster/Orville_Parker_259.txt',\n",
       " '../Data/Roster/Orville_Perez_10.txt',\n",
       " '../Data/Roster/Orville_Perry_721.txt',\n",
       " '../Data/Roster/Orville_Powell_409.txt',\n",
       " '../Data/Roster/Orville_Price_751.txt',\n",
       " '../Data/Roster/Orville_Ramirez_198.txt',\n",
       " '../Data/Roster/Orville_Richardson_309.txt',\n",
       " '../Data/Roster/Orville_Roberts_293.txt',\n",
       " '../Data/Roster/Orville_Rodriguez_419.txt',\n",
       " '../Data/Roster/Orville_Walker_335.txt',\n",
       " '../Data/Roster/Orville_Walker_724.txt',\n",
       " '../Data/Roster/Orville_Washington_205.txt',\n",
       " '../Data/Roster/Orville_Watson_526.txt',\n",
       " '../Data/Roster/Orville_Watson_97.txt',\n",
       " '../Data/Roster/Orville_White_212.txt',\n",
       " '../Data/Roster/Orville_williams_570.txt',\n",
       " '../Data/Roster/Tabitha_Adams_364.txt',\n",
       " '../Data/Roster/Tabitha_Adams_388.txt',\n",
       " '../Data/Roster/Tabitha_Alexander_135.txt',\n",
       " '../Data/Roster/Tabitha_Alexander_561.txt',\n",
       " '../Data/Roster/Tabitha_Allen_180.txt',\n",
       " '../Data/Roster/Tabitha_Bailey_368.txt',\n",
       " '../Data/Roster/Tabitha_Bailey_470.txt',\n",
       " '../Data/Roster/Tabitha_Baker_257.txt',\n",
       " '../Data/Roster/Tabitha_Bennett_435.txt',\n",
       " '../Data/Roster/Tabitha_Bryant_156.txt',\n",
       " '../Data/Roster/Tabitha_Campbell_48.txt',\n",
       " '../Data/Roster/Tabitha_Carter_773.txt',\n",
       " '../Data/Roster/Tabitha_Cooper_302.txt',\n",
       " '../Data/Roster/Tabitha_Cox_748.txt',\n",
       " '../Data/Roster/Tabitha_Cox_98.txt',\n",
       " '../Data/Roster/Tabitha_Davis_613.txt',\n",
       " '../Data/Roster/Tabitha_Diaz_480.txt',\n",
       " '../Data/Roster/Tabitha_Green_530.txt',\n",
       " '../Data/Roster/Tabitha_Griffin_637.txt',\n",
       " '../Data/Roster/Tabitha_Hayes_155.txt',\n",
       " '../Data/Roster/Tabitha_Hill_422.txt',\n",
       " '../Data/Roster/Tabitha_Hughes_120.txt',\n",
       " '../Data/Roster/Tabitha_James_667.txt',\n",
       " '../Data/Roster/Tabitha_Jones_141.txt',\n",
       " '../Data/Roster/Tabitha_Jones_211.txt',\n",
       " '../Data/Roster/Tabitha_Long_663.txt',\n",
       " '../Data/Roster/Tabitha_Martin_595.txt',\n",
       " '../Data/Roster/Tabitha_Morris_762.txt',\n",
       " '../Data/Roster/Tabitha_Perry_761.txt',\n",
       " '../Data/Roster/Tabitha_Price_661.txt',\n",
       " '../Data/Roster/Tabitha_Richardson_756.txt',\n",
       " '../Data/Roster/Tabitha_Robinson_583.txt',\n",
       " '../Data/Roster/Tabitha_Rodriguez_204.txt',\n",
       " '../Data/Roster/Tabitha_Rogers_469.txt',\n",
       " '../Data/Roster/Tabitha_Ross_630.txt',\n",
       " '../Data/Roster/Tabitha_Ross_736.txt',\n",
       " '../Data/Roster/Tabitha_Sanders_190.txt',\n",
       " '../Data/Roster/Tabitha_Torres_167.txt',\n",
       " '../Data/Roster/Tabitha_Walker_17.txt',\n",
       " '../Data/Roster/Tabitha_Ward_392.txt',\n",
       " '../Data/Roster/Tabitha_Ward_543.txt',\n",
       " '../Data/Roster/Tabitha_Ward_757.txt',\n",
       " '../Data/Roster/Tabitha_Watson_313.txt',\n",
       " '../Data/Roster/Tabitha_williams_635.txt',\n",
       " '../Data/Roster/Tabitha_Wilson_14.txt',\n",
       " '../Data/Roster/Tabitha_Wright_520.txt',\n",
       " '../Data/Roster/Trip_Baker_383.txt',\n",
       " '../Data/Roster/Trip_Bell_711.txt',\n",
       " '../Data/Roster/Trip_Bennett_34.txt',\n",
       " '../Data/Roster/Trip_Brooks_207.txt',\n",
       " '../Data/Roster/Trip_Campbell_496.txt',\n",
       " '../Data/Roster/Trip_Carter_632.txt',\n",
       " '../Data/Roster/Trip_Coleman_468.txt',\n",
       " '../Data/Roster/Trip_Collins_255.txt',\n",
       " '../Data/Roster/Trip_Edwards_2.txt',\n",
       " '../Data/Roster/Trip_Foster_153.txt',\n",
       " '../Data/Roster/Trip_Gonzalez_36.txt',\n",
       " '../Data/Roster/Trip_Griffin_319.txt',\n",
       " '../Data/Roster/Trip_Griffin_774.txt',\n",
       " '../Data/Roster/Trip_Hayes_185.txt',\n",
       " '../Data/Roster/Trip_Hayes_32.txt',\n",
       " '../Data/Roster/Trip_Henderson_499.txt',\n",
       " '../Data/Roster/Trip_Hernandez_400.txt',\n",
       " '../Data/Roster/Trip_Hill_638.txt',\n",
       " '../Data/Roster/Trip_Jenkins_286.txt',\n",
       " '../Data/Roster/Trip_Jenkins_44.txt',\n",
       " '../Data/Roster/Trip_Johnson_707.txt',\n",
       " '../Data/Roster/Trip_Jones_69.txt',\n",
       " '../Data/Roster/Trip_Kelly_230.txt',\n",
       " '../Data/Roster/Trip_Lopez_501.txt',\n",
       " '../Data/Roster/Trip_Lopez_527.txt',\n",
       " '../Data/Roster/Trip_Martin_24.txt',\n",
       " '../Data/Roster/Trip_Martinez_158.txt',\n",
       " '../Data/Roster/Trip_Martinez_545.txt',\n",
       " '../Data/Roster/Trip_Martinez_678.txt',\n",
       " '../Data/Roster/Trip_Miller_35.txt',\n",
       " '../Data/Roster/Trip_Perry_276.txt',\n",
       " '../Data/Roster/Trip_Peterson_214.txt',\n",
       " '../Data/Roster/Trip_Powell_217.txt',\n",
       " '../Data/Roster/Trip_Reed_348.txt',\n",
       " '../Data/Roster/Trip_Robinson_371.txt',\n",
       " '../Data/Roster/Trip_Rogers_265.txt',\n",
       " '../Data/Roster/Trip_Rogers_321.txt',\n",
       " '../Data/Roster/Trip_Sanchez_377.txt',\n",
       " '../Data/Roster/Trip_Sanchez_712.txt',\n",
       " '../Data/Roster/Trip_Thomas_191.txt',\n",
       " '../Data/Roster/Trip_Thomas_223.txt',\n",
       " '../Data/Roster/Trip_Thompson_202.txt',\n",
       " '../Data/Roster/Trip_Thompson_776.txt',\n",
       " '../Data/Roster/Trip_Walker_360.txt',\n",
       " '../Data/Roster/Trip_Washington_213.txt',\n",
       " '../Data/Roster/Trip_Watson_261.txt',\n",
       " '../Data/Roster/Trip_Wood_231.txt',\n",
       " '../Data/Roster/Victoria_Brooks_51.txt',\n",
       " '../Data/Roster/Victoria_Brown_424.txt',\n",
       " '../Data/Roster/Victoria_Brown_709.txt',\n",
       " '../Data/Roster/Victoria_Campbell_506.txt',\n",
       " '../Data/Roster/Victoria_Collins_279.txt',\n",
       " '../Data/Roster/Victoria_Cox_33.txt',\n",
       " '../Data/Roster/Victoria_Evans_417.txt',\n",
       " '../Data/Roster/Victoria_Garcia_27.txt',\n",
       " '../Data/Roster/Victoria_Gray_704.txt',\n",
       " '../Data/Roster/Victoria_Green_136.txt',\n",
       " '../Data/Roster/Victoria_Hayes_606.txt',\n",
       " '../Data/Roster/Victoria_Jenkins_715.txt',\n",
       " '../Data/Roster/Victoria_Kelly_719.txt',\n",
       " '../Data/Roster/Victoria_Moore_699.txt',\n",
       " '../Data/Roster/Victoria_Morgan_236.txt',\n",
       " '../Data/Roster/Victoria_Powell_725.txt',\n",
       " '../Data/Roster/Victoria_Rivera_574.txt',\n",
       " '../Data/Roster/Victoria_Roberts_616.txt',\n",
       " '../Data/Roster/Victoria_Rodriguez_525.txt',\n",
       " '../Data/Roster/Victoria_Ross_528.txt',\n",
       " '../Data/Roster/Victoria_Ross_732.txt',\n",
       " '../Data/Roster/Victoria_Russell_72.txt',\n",
       " '../Data/Roster/Victoria_Scoot_737.txt',\n",
       " '../Data/Roster/Victoria_Simmons_580.txt',\n",
       " '../Data/Roster/Victoria_Stewart_154.txt',\n",
       " '../Data/Roster/Victoria_Torres_523.txt',\n",
       " '../Data/Roster/Victoria_Walker_443.txt',\n",
       " '../Data/Roster/Victoria_Watson_315.txt',\n",
       " '../Data/Roster/Victoria_White_21.txt',\n",
       " '../Data/Roster/Victoria_Wright_519.txt',\n",
       " '../Data/Roster/Wallace_Anderson_147.txt',\n",
       " '../Data/Roster/Wallace_Bailey_492.txt',\n",
       " '../Data/Roster/Wallace_Baker_94.txt',\n",
       " '../Data/Roster/Wallace_Brooks_649.txt',\n",
       " '../Data/Roster/Wallace_Carter_557.txt',\n",
       " '../Data/Roster/Wallace_Cox_129.txt',\n",
       " '../Data/Roster/Wallace_Cox_356.txt',\n",
       " '../Data/Roster/Wallace_Cox_588.txt',\n",
       " '../Data/Roster/Wallace_Davis_544.txt',\n",
       " '../Data/Roster/Wallace_Evans_314.txt',\n",
       " '../Data/Roster/Wallace_Evans_653.txt',\n",
       " '../Data/Roster/Wallace_Flores_551.txt',\n",
       " '../Data/Roster/Wallace_Flores_692.txt',\n",
       " '../Data/Roster/Wallace_Gray_790.txt',\n",
       " '../Data/Roster/Wallace_Green_100.txt',\n",
       " '../Data/Roster/Wallace_Green_258.txt',\n",
       " '../Data/Roster/Wallace_Henderson_403.txt',\n",
       " '../Data/Roster/Wallace_James_554.txt',\n",
       " '../Data/Roster/Wallace_Long_378.txt',\n",
       " '../Data/Roster/Wallace_Moore_355.txt',\n",
       " '../Data/Roster/Wallace_Morgan_104.txt',\n",
       " '../Data/Roster/Wallace_Morgan_517.txt',\n",
       " '../Data/Roster/Wallace_Morris_264.txt',\n",
       " '../Data/Roster/Wallace_Nelson_553.txt',\n",
       " '../Data/Roster/Wallace_Perez_491.txt',\n",
       " '../Data/Roster/Wallace_Perry_760.txt',\n",
       " '../Data/Roster/Wallace_Peterson_766.txt',\n",
       " '../Data/Roster/Wallace_Ramirez_648.txt',\n",
       " '../Data/Roster/Wallace_Ramirez_685.txt',\n",
       " '../Data/Roster/Wallace_Simmons_270.txt',\n",
       " '../Data/Roster/Wallace_Stewart_489.txt',\n",
       " '../Data/Roster/Wallace_Stewart_52.txt',\n",
       " '../Data/Roster/Wallace_Taylor_475.txt',\n",
       " '../Data/Roster/Wallace_Turner_459.txt',\n",
       " '../Data/Roster/Wallace_Watson_287.txt',\n",
       " '../Data/Roster/Wallace_Watson_394.txt',\n",
       " '../Data/Roster/Wallace_White_252.txt',\n",
       " '../Data/Roster/Wallace_White_507.txt',\n",
       " '../Data/Roster/Wallace_Young_430.txt',\n",
       " '../Data/Roster/Yvonne_Adams_571.txt',\n",
       " '../Data/Roster/Yvonne_Allen_687.txt',\n",
       " '../Data/Roster/Yvonne_Bailey_373.txt',\n",
       " '../Data/Roster/Yvonne_Bailey_655.txt',\n",
       " '../Data/Roster/Yvonne_Bell_95.txt',\n",
       " '../Data/Roster/Yvonne_Bennett_108.txt',\n",
       " '../Data/Roster/Yvonne_Brooks_244.txt',\n",
       " '../Data/Roster/Yvonne_Brooks_269.txt',\n",
       " '../Data/Roster/Yvonne_Bryant_305.txt',\n",
       " '../Data/Roster/Yvonne_Butler_729.txt',\n",
       " '../Data/Roster/Yvonne_Carter_251.txt',\n",
       " '../Data/Roster/Yvonne_Cook_548.txt',\n",
       " '../Data/Roster/Yvonne_Cooper_106.txt',\n",
       " '../Data/Roster/Yvonne_Garcia_645.txt',\n",
       " '../Data/Roster/Yvonne_Garcia_659.txt',\n",
       " '../Data/Roster/Yvonne_Hall_415.txt',\n",
       " '../Data/Roster/Yvonne_Hayes_142.txt',\n",
       " '../Data/Roster/Yvonne_Hernandez_612.txt',\n",
       " '../Data/Roster/Yvonne_Hughes_267.txt',\n",
       " '../Data/Roster/Yvonne_Jones_365.txt',\n",
       " '../Data/Roster/Yvonne_Jones_607.txt',\n",
       " '../Data/Roster/Yvonne_Long_706.txt',\n",
       " '../Data/Roster/Yvonne_Lopez_324.txt',\n",
       " '../Data/Roster/Yvonne_Miller_693.txt',\n",
       " '../Data/Roster/Yvonne_Nelson_246.txt',\n",
       " '../Data/Roster/Yvonne_Nelson_734.txt',\n",
       " '../Data/Roster/Yvonne_Perry_282.txt',\n",
       " '../Data/Roster/Yvonne_Peterson_56.txt',\n",
       " '../Data/Roster/Yvonne_Phillips_602.txt',\n",
       " '../Data/Roster/Yvonne_Reed_674.txt',\n",
       " '../Data/Roster/Yvonne_Richardson_439.txt',\n",
       " '../Data/Roster/Yvonne_Rivera_389.txt',\n",
       " '../Data/Roster/Yvonne_Roberts_722.txt',\n",
       " '../Data/Roster/Yvonne_Rodriguez_746.txt',\n",
       " '../Data/Roster/Yvonne_Rogers_216.txt',\n",
       " '../Data/Roster/Yvonne_Stewart_426.txt',\n",
       " '../Data/Roster/Yvonne_Thomas_262.txt',\n",
       " '../Data/Roster/Yvonne_Wright_47.txt',\n",
       " '../Data/Roster/Zelda_Alexander_799.txt',\n",
       " '../Data/Roster/Zelda_Allen_769.txt',\n",
       " '../Data/Roster/Zelda_Baker_206.txt',\n",
       " '../Data/Roster/Zelda_Brooks_229.txt',\n",
       " '../Data/Roster/Zelda_Brooks_323.txt',\n",
       " '../Data/Roster/Zelda_Brown_609.txt',\n",
       " '../Data/Roster/Zelda_Clark_240.txt',\n",
       " '../Data/Roster/Zelda_Collins_39.txt',\n",
       " '../Data/Roster/Zelda_Cook_701.txt',\n",
       " '../Data/Roster/Zelda_Davis_13.txt',\n",
       " '../Data/Roster/Zelda_Davis_611.txt',\n",
       " '../Data/Roster/Zelda_Diaz_37.txt',\n",
       " '../Data/Roster/Zelda_Diaz_87.txt',\n",
       " '../Data/Roster/Zelda_Evans_640.txt',\n",
       " '../Data/Roster/Zelda_Gray_112.txt',\n",
       " '../Data/Roster/Zelda_Gray_260.txt',\n",
       " '../Data/Roster/Zelda_Hughes_455.txt',\n",
       " '../Data/Roster/Zelda_Jackson_682.txt',\n",
       " '../Data/Roster/Zelda_James_43.txt',\n",
       " '../Data/Roster/Zelda_Jenkins_569.txt',\n",
       " '../Data/Roster/Zelda_Jones_714.txt',\n",
       " '../Data/Roster/Zelda_Kelly_220.txt',\n",
       " '../Data/Roster/Zelda_Long_744.txt',\n",
       " '../Data/Roster/Zelda_Mitchell_592.txt',\n",
       " '../Data/Roster/Zelda_Nelson_249.txt',\n",
       " '../Data/Roster/Zelda_Nelson_63.txt',\n",
       " '../Data/Roster/Zelda_Perry_672.txt',\n",
       " '../Data/Roster/Zelda_Perry_781.txt',\n",
       " '../Data/Roster/Zelda_Reed_66.txt',\n",
       " '../Data/Roster/Zelda_Rivera_535.txt',\n",
       " '../Data/Roster/Zelda_Roberts_134.txt',\n",
       " '../Data/Roster/Zelda_Russell_567.txt',\n",
       " '../Data/Roster/Zelda_Sanchez_558.txt',\n",
       " '../Data/Roster/Zelda_Sanchez_690.txt',\n",
       " '../Data/Roster/Zelda_Simmons_379.txt',\n",
       " '../Data/Roster/Zelda_Simmons_778.txt',\n",
       " '../Data/Roster/Zelda_Smith_85.txt',\n",
       " '../Data/Roster/Zelda_Thomas_117.txt',\n",
       " '../Data/Roster/Zelda_Thomas_199.txt',\n",
       " '../Data/Roster/Zelda_Thomas_331.txt',\n",
       " '../Data/Roster/Zelda_Thompson_103.txt',\n",
       " '../Data/Roster/Zelda_Thompson_224.txt',\n",
       " '../Data/Roster/Zelda_Torres_299.txt',\n",
       " '../Data/Roster/Zelda_Watson_434.txt',\n",
       " '../Data/Roster/Zelda_williams_280.txt',\n",
       " '../Data/Roster/Zelda_Wright_188.txt',\n",
       " '../Data/Roster/Zelda_Wright_636.txt']"
      ]
     },
     "execution_count": 28,
     "metadata": {},
     "output_type": "execute_result"
    }
   ],
   "source": [
    "import glob\n",
    "glob.glob('../Data/Roster/*.txt')"
   ]
  },
  {
   "cell_type": "markdown",
   "metadata": {},
   "source": [
    "Now separate the inputs and outputs. Your **input** should be the directory and your **output** should be filenames."
   ]
  },
  {
   "cell_type": "code",
   "execution_count": 30,
   "metadata": {
    "collapsed": false
   },
   "outputs": [
    {
     "data": {
      "text/plain": [
       "['../Data/Roster/Agatha_Bailey_798.txt',\n",
       " '../Data/Roster/Agatha_Brooks_78.txt',\n",
       " '../Data/Roster/Agatha_Campbell_372.txt',\n",
       " '../Data/Roster/Agatha_Carter_359.txt',\n",
       " '../Data/Roster/Agatha_Green_150.txt']"
      ]
     },
     "execution_count": 30,
     "metadata": {},
     "output_type": "execute_result"
    }
   ],
   "source": [
    "directory = '../Data/Roster'\n",
    "\n",
    "filenames = glob.glob(directory + '/*txt')\n",
    "\n",
    "filenames[:5]"
   ]
  },
  {
   "cell_type": "markdown",
   "metadata": {},
   "source": [
    "Now just wrap the code that we've written into a function"
   ]
  },
  {
   "cell_type": "code",
   "execution_count": 31,
   "metadata": {
    "collapsed": false
   },
   "outputs": [],
   "source": [
    "def find_student_records(directory):\n",
    "    \"\"\"\n",
    "    Return all roster filenames in a directory\n",
    "    input:\n",
    "        directory - str, Directory that contains the roster files\n",
    "    output:\n",
    "        filenames - list, List of roster filenames in directory\n",
    "    \"\"\"\n",
    "    # Statements here!\n",
    "    filenames = glob.glob(directory + '/*txt')\n",
    "    return filenames"
   ]
  },
  {
   "cell_type": "markdown",
   "metadata": {},
   "source": [
    "When you execute the function with the directory string you should get back the same five filenames."
   ]
  },
  {
   "cell_type": "code",
   "execution_count": 32,
   "metadata": {
    "collapsed": false
   },
   "outputs": [
    {
     "data": {
      "text/plain": [
       "['../Data/Roster/Agatha_Bailey_798.txt',\n",
       " '../Data/Roster/Agatha_Brooks_78.txt',\n",
       " '../Data/Roster/Agatha_Campbell_372.txt',\n",
       " '../Data/Roster/Agatha_Carter_359.txt',\n",
       " '../Data/Roster/Agatha_Green_150.txt']"
      ]
     },
     "execution_count": 32,
     "metadata": {},
     "output_type": "execute_result"
    }
   ],
   "source": [
    "find_student_records('../Data/Roster/')[:5]"
   ]
  },
  {
   "cell_type": "markdown",
   "metadata": {},
   "source": [
    "Now that we have a way to find all the records: the `find_student_records` function, the next piece of the puzzle we laid out in our pseudocode is a function to read an individual record. Recall that the records looked like the following:\n",
    "\n",
    "    #This is a file that holds important personal information that should not be shared. \n",
    "    #You are being watched.\n",
    "\n",
    "\n",
    "\n",
    "    Name:\tBuzz M. Baker\n",
    "    Date of Birth:\t4/20/87\n",
    "    Email Address:\tbuzz.baker@northwestern.edu\n",
    "    Department:\tEngineering\n",
    "    Height:\t5ft,3in\n",
    "    Weight:\t194lbs\n",
    "    Favorite Color:\tPink\n",
    "    Favorite Animal:\tSnake\n",
    "    Zodiac Sign:\tApril\n"
   ]
  },
  {
   "cell_type": "markdown",
   "metadata": {},
   "source": [
    "### Processing the data file\n",
    "\n",
    "**Question**: What is the best data type to represent the student's data?\n",
    "\n",
    "1. string\n",
    "2. list\n",
    "3. dictionary\n",
    "4. set\n",
    "5. tuple"
   ]
  },
  {
   "cell_type": "markdown",
   "metadata": {},
   "source": [
    "### Sketching it out"
   ]
  },
  {
   "cell_type": "code",
   "execution_count": 41,
   "metadata": {
    "collapsed": false
   },
   "outputs": [
    {
     "name": "stdout",
     "output_type": "stream",
     "text": [
      "{'Zodiac Sign': 'January', 'Date of Birth': '1/10/75', 'Name': 'Agatha A. Bailey', 'Email Address': 'agatha.bailey@northwestern.edu', 'Weight': '220lbs', 'Department': 'Engineering', 'Height': '6ft,0in', 'Favorite Color': 'Lime', 'Favorite Animal': 'Turtle'}\n"
     ]
    }
   ],
   "source": [
    "path = '../Data/Roster/Agatha_Bailey_798.txt'\n",
    "\n",
    "# create something to hold the data\n",
    "data = {}\n",
    "# open the file\n",
    "input_file = open(path)\n",
    "lines = input_file.readlines()\n",
    "# for each line in the file\n",
    "for line in lines:\n",
    "    # ignore comment lines (those that start with \"#\")\n",
    "    if '#' not in line:\n",
    "        #print(line)\n",
    "        # Exercise parts\n",
    "        # --------------\n",
    "        # split the line\n",
    "        #print( line.strip('\\n').split(':\\t') )\n",
    "        split_line =  line.strip('\\n').split(':\\t')\n",
    "        # make sure the line has the correct number of parts\n",
    "        if len(split_line) == 2:\n",
    "            # store data in the 'data' variable\n",
    "            data[split_line[0]] = split_line[1]\n",
    "            \n",
    "print(data)"
   ]
  },
  {
   "cell_type": "markdown",
   "metadata": {},
   "source": [
    "### Turn it into a function"
   ]
  },
  {
   "cell_type": "code",
   "execution_count": 42,
   "metadata": {
    "collapsed": true
   },
   "outputs": [],
   "source": [
    "def parse_student_record(filename):\n",
    "    '''\n",
    "    Parses a student record file into a dictionary\n",
    "    input:\n",
    "        filename - str, path to the file\n",
    "    output:\n",
    "        data - dict, student attribute data\n",
    "    '''\n",
    "    # Statements here!\n",
    "    # create something to hold the data\n",
    "    data = {}\n",
    "    # open the file\n",
    "    input_file = open(filename)\n",
    "    lines = input_file.readlines()\n",
    "    # for each line in the file\n",
    "    for line in lines:\n",
    "        # ignore comment lines (those that start with \"#\")\n",
    "        if '#' not in line:\n",
    "            #print(line)\n",
    "            # Exercise parts\n",
    "            # --------------\n",
    "            # split the line\n",
    "            #print( line.strip('\\n').split(':\\t') )\n",
    "            split_line =  line.strip('\\n').split(':\\t')\n",
    "            # make sure the line has the correct number of parts\n",
    "            if len(split_line) == 2:\n",
    "                # store data in the 'data' variable\n",
    "                data[split_line[0]] = split_line[1]\n",
    "    return data\n"
   ]
  },
  {
   "cell_type": "code",
   "execution_count": 47,
   "metadata": {
    "collapsed": false
   },
   "outputs": [
    {
     "data": {
      "text/plain": [
       "{'Date of Birth': '8/21/93',\n",
       " 'Department': 'Chemistry',\n",
       " 'Email Address': 'agatha.lee@northwestern.edu',\n",
       " 'Favorite Animal': 'Dog',\n",
       " 'Favorite Color': 'Red',\n",
       " 'Height': '5ft,7in',\n",
       " 'Name': 'Agatha I. Lee',\n",
       " 'Weight': '162lbs',\n",
       " 'Zodiac Sign': 'August'}"
      ]
     },
     "execution_count": 47,
     "metadata": {},
     "output_type": "execute_result"
    }
   ],
   "source": [
    "parse_student_record('../Data/Roster/Agatha_Lee_11.txt')"
   ]
  },
  {
   "cell_type": "code",
   "execution_count": 48,
   "metadata": {
    "collapsed": false
   },
   "outputs": [
    {
     "data": {
      "text/plain": [
       "{'Date of Birth': '4/20/87',\n",
       " 'Department': 'Engineering',\n",
       " 'Email Address': 'buzz.baker@northwestern.edu',\n",
       " 'Favorite Animal': 'Snake',\n",
       " 'Favorite Color': 'Pink',\n",
       " 'Height': '5ft,3in',\n",
       " 'Name': 'Buzz M. Baker',\n",
       " 'Weight': '194lbs',\n",
       " 'Zodiac Sign': 'April'}"
      ]
     },
     "execution_count": 48,
     "metadata": {},
     "output_type": "execute_result"
    }
   ],
   "source": [
    "parse_student_record('../Data/Roster/Buzz_Baker_618.txt')"
   ]
  },
  {
   "cell_type": "markdown",
   "metadata": {},
   "source": [
    "Now we can parse all of the files!"
   ]
  },
  {
   "cell_type": "code",
   "execution_count": 49,
   "metadata": {
    "collapsed": false
   },
   "outputs": [
    {
     "data": {
      "text/plain": [
       "'../Data/Roster/Agatha_Bailey_798.txt'"
      ]
     },
     "execution_count": 49,
     "metadata": {},
     "output_type": "execute_result"
    }
   ],
   "source": [
    "filenames = find_student_records('../Data/Roster/')\n",
    "a_filename = filenames[0]\n",
    "a_filename"
   ]
  },
  {
   "cell_type": "code",
   "execution_count": 50,
   "metadata": {
    "collapsed": false
   },
   "outputs": [
    {
     "data": {
      "text/plain": [
       "{'Date of Birth': '1/10/75',\n",
       " 'Department': 'Engineering',\n",
       " 'Email Address': 'agatha.bailey@northwestern.edu',\n",
       " 'Favorite Animal': 'Turtle',\n",
       " 'Favorite Color': 'Lime',\n",
       " 'Height': '6ft,0in',\n",
       " 'Name': 'Agatha A. Bailey',\n",
       " 'Weight': '220lbs',\n",
       " 'Zodiac Sign': 'January'}"
      ]
     },
     "execution_count": 50,
     "metadata": {},
     "output_type": "execute_result"
    }
   ],
   "source": [
    "parse_student_record(a_filename)"
   ]
  },
  {
   "cell_type": "markdown",
   "metadata": {},
   "source": [
    "Now take the code you originally wrote to calculate someone's age from the `File IO` notebook and turn it into a function."
   ]
  },
  {
   "cell_type": "code",
   "execution_count": 2,
   "metadata": {
    "collapsed": false
   },
   "outputs": [],
   "source": [
    "def calculate_age( birth_day, birth_month, birth_year, \n",
    "                   current_day, current_month, current_year ):\n",
    "    \"\"\"\n",
    "    \n",
    "    \"\"\"\n",
    "    possible_age = current_year - birth_year\n",
    "    if current_month < birth_month:\n",
    "        age = possible_age - 1\n",
    "    elif current_month == birth_month:\n",
    "        if current_day < birth_day:\n",
    "            age = possible_age - 1\n",
    "        else:\n",
    "            age = possible_age\n",
    "    else:\n",
    "        age  = possible_age\n",
    "            \n",
    "    return age"
   ]
  },
  {
   "cell_type": "code",
   "execution_count": 3,
   "metadata": {
    "collapsed": false
   },
   "outputs": [
    {
     "data": {
      "text/plain": [
       "47"
      ]
     },
     "execution_count": 3,
     "metadata": {},
     "output_type": "execute_result"
    }
   ],
   "source": [
    "calculate_age(12, 7, 1968, 10, 9, 2015)"
   ]
  },
  {
   "cell_type": "markdown",
   "metadata": {
    "collapsed": true
   },
   "source": [
    "Great! But one thing is that our calculate age function takes in a birth month, day, and year and then calculates the age given the current year.\n",
    "\n",
    "Our input data is actually a `string` of the format `M/D/YY`. Turning a `string` into numerals of birth month, day, and year doesn't sound like it's a part of the mission in a function named `calculate_age()`.\n",
    "\n",
    "So let's make another function called `clean_dob()` that will transform this string into the birth month, day, and year."
   ]
  },
  {
   "cell_type": "code",
   "execution_count": 4,
   "metadata": {
    "collapsed": true
   },
   "outputs": [],
   "source": [
    "def clean_dob(dob_string):\n",
    "    '''\n",
    "    Takes a date string of \"M/D/YY\" and converts it to the month, day, and year parts as integers\n",
    "    Returns those integer dates in a dictionary.\n",
    "    input:\n",
    "        * dob_string - str, birthday string of form \"M/D/YY\"\n",
    "    output:\n",
    "        * dob - tuple with day, month, year\n",
    "    '''\n",
    "    temp_date = dob_string.split('/')\n",
    "    day = int(temp_date[1])\n",
    "    month = int( temp_date[0] )\n",
    "    year = 1900 + int( temp_date[2] )\n",
    "    \n",
    "    return day, month, year"
   ]
  },
  {
   "cell_type": "code",
   "execution_count": 6,
   "metadata": {
    "collapsed": false
   },
   "outputs": [
    {
     "data": {
      "text/plain": [
       "(7, 8, 1985)"
      ]
     },
     "execution_count": 6,
     "metadata": {},
     "output_type": "execute_result"
    }
   ],
   "source": [
    "clean_dob('8/7/85')"
   ]
  },
  {
   "cell_type": "markdown",
   "metadata": {},
   "source": [
    "Now let's add this cleaning function back to our `parse_student_record()` function.\n",
    "\n",
    "Copy the above code "
   ]
  },
  {
   "cell_type": "code",
   "execution_count": null,
   "metadata": {
    "collapsed": true
   },
   "outputs": [],
   "source": [
    "def parse_student_record(filename):\n",
    "    '''\n",
    "    Parses a student record file into a dictionary\n",
    "    input:\n",
    "        filename - str, path to the file\n",
    "    output:\n",
    "        data - dict, student attribute data\n",
    "    '''\n",
    "    #Copy our code from above\n",
    "    \n",
    "    data['Date of Birth'] = clean_dob(data['Date of Birth'])\n",
    "    \n",
    "    return data"
   ]
  },
  {
   "cell_type": "code",
   "execution_count": null,
   "metadata": {
    "collapsed": true
   },
   "outputs": [],
   "source": [
    "buzz_baker = parse_student_record('../Data/Roster/Buzz_Baker_618.txt')\n",
    "\n",
    "if buzz_baker['Date of Birth']['month'] == 4:\n",
    "    print(\"Success! You are a rock star!\")"
   ]
  },
  {
   "cell_type": "markdown",
   "metadata": {},
   "source": [
    "##Exercise\n",
    "\n",
    "Find the number of records of people born in 1975:"
   ]
  },
  {
   "cell_type": "code",
   "execution_count": null,
   "metadata": {
    "collapsed": false
   },
   "outputs": [],
   "source": [
    "#This is your list of people born in 1975\n",
    "born_in_1975 = []\n",
    "#This is your file location\n",
    "data_dir = '../Data/Roster'\n",
    "#First you need to get all of the student files\n",
    "data_files = find_student_records(data_dir)\n",
    "#Now go through each file\n",
    "for filename in data_files:\n",
    "    #First we parse the student record into the dictionary\n",
    "    data = parse_student_record(filename)\n",
    "    #Now what field will let us check if a person is born in 1975?\n",
    "    if ________ == 1975:\n",
    "        #If you want to keep track of a person in 1975\n",
    "        #You should keep track of it outside of this for loop\n",
    "        #Remember that we lose anything inside the for loop once the loop finishes\n",
    "        #So where could you possibly store someone's data that is born in 1975...\n",
    "        #hmmm....................\n",
    "        \n",
    "#Now I wanted to know the number of people born in 1975\n",
    "#What was that number\n",
    "        "
   ]
  },
  {
   "cell_type": "markdown",
   "metadata": {},
   "source": [
    "Excellent! But how many of those people born in 1975 were also born in March?"
   ]
  },
  {
   "cell_type": "code",
   "execution_count": null,
   "metadata": {
    "collapsed": false
   },
   "outputs": [],
   "source": [
    "born_in_march = []\n",
    "#I'll help you out here, you should iterate through the list of people born in 1975\n",
    "for person in born_in_1975:\n",
    "    #I'll let you figure out this part here\n",
    "    \n",
    "#Don't forget to tell me your answer!!!!\n",
    "len(born_in_march)"
   ]
  }
 ],
 "metadata": {
  "kernelspec": {
   "display_name": "Python 3",
   "language": "python",
   "name": "python3"
  },
  "language_info": {
   "codemirror_mode": {
    "name": "ipython",
    "version": 3
   },
   "file_extension": ".py",
   "mimetype": "text/x-python",
   "name": "python",
   "nbconvert_exporter": "python",
   "pygments_lexer": "ipython3",
   "version": "3.4.3"
  }
 },
 "nbformat": 4,
 "nbformat_minor": 0
}
