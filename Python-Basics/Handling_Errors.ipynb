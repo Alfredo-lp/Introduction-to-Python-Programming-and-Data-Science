{
 "cells": [
  {
   "cell_type": "code",
   "execution_count": 1,
   "metadata": {
    "collapsed": false
   },
   "outputs": [
    {
     "data": {
      "text/html": [
       "<style>\n",
       "    @font-face {\n",
       "        font-family: \"Computer Modern\";\n",
       "        src: url('http://9dbb143991406a7c655e-aa5fcb0a5a4ec34cff238a2d56ca4144.r56.cf5.rackcdn.com/cmunss.otf');\n",
       "    }\n",
       "    @font-face {\n",
       "        font-family: \"Computer Modern\";\n",
       "        font-weight: bold;\n",
       "        src: url('http://9dbb143991406a7c655e-aa5fcb0a5a4ec34cff238a2d56ca4144.r56.cf5.rackcdn.com/cmunsx.otf');\n",
       "    }\n",
       "    @font-face {\n",
       "        font-family: \"Computer Modern\";\n",
       "        font-style: oblique;\n",
       "        src: url('http://9dbb143991406a7c655e-aa5fcb0a5a4ec34cff238a2d56ca4144.r56.cf5.rackcdn.com/cmunsi.otf');\n",
       "    }\n",
       "    @font-face {\n",
       "        font-family: \"Computer Modern\";\n",
       "        font-weight: bold;\n",
       "        font-style: oblique;\n",
       "        src: url('http://9dbb143991406a7c655e-aa5fcb0a5a4ec34cff238a2d56ca4144.r56.cf5.rackcdn.com/cmunso.otf');\n",
       "    }\n",
       "    h1 {\n",
       "        font-family: Helvetica, serif;\n",
       "    }\n",
       "    h4{\n",
       "        margin-top:12px;\n",
       "        margin-bottom: 3px;\n",
       "       }\n",
       "    div.text_cell_render{\n",
       "        font-family: Computer Modern, \"Helvetica Neue\", Arial, Helvetica, Geneva, sans-serif;\n",
       "        line-height: 145%;\n",
       "        font-size: 130%;\n",
       "        margin-left:auto;\n",
       "        margin-right:auto;\n",
       "    }\n",
       "    .CodeMirror{\n",
       "            font-family: \"Source Code Pro\", source-code-pro,Consolas, monospace;\n",
       "    }\n",
       "    .text_cell_render h5 {\n",
       "        font-weight: 300;\n",
       "        font-size: 22pt;\n",
       "        color: #4057A1;\n",
       "        font-style: italic;\n",
       "        margin-bottom: .5em;\n",
       "        margin-top: 0.5em;\n",
       "        display: block;\n",
       "    }\n",
       "    \n",
       "    .warning{\n",
       "        color: rgb( 240, 20, 20 )\n",
       "        }  \n",
       "</style>\n",
       "<script>\n",
       "    MathJax.Hub.Config({\n",
       "                        TeX: {\n",
       "                           extensions: [\"AMSmath.js\"]\n",
       "                           },\n",
       "                tex2jax: {\n",
       "                    inlineMath: [ ['$','$'], [\"\\\\(\",\"\\\\)\"] ],\n",
       "                    displayMath: [ ['$$','$$'], [\"\\\\[\",\"\\\\]\"] ]\n",
       "                },\n",
       "                displayAlign: 'center', // Change this to 'center' to center equations.\n",
       "                \"HTML-CSS\": {\n",
       "                    styles: {'.MathJax_Display': {\"margin\": 4}}\n",
       "                }\n",
       "        });\n",
       "</script>\n"
      ],
      "text/plain": [
       "<IPython.core.display.HTML object>"
      ]
     },
     "execution_count": 1,
     "metadata": {},
     "output_type": "execute_result"
    }
   ],
   "source": [
    "from IPython.core.display import HTML\n",
    "\n",
    "def css_styling():\n",
    "    styles = open(\"../styles/custom.css\", \"r\").read()\n",
    "    return HTML(styles)\n",
    "css_styling()"
   ]
  },
  {
   "cell_type": "markdown",
   "metadata": {},
   "source": [
    "# Synopsis\n",
    "\n",
    "In this unit we will learn that:\n",
    "\n",
    "1. **Programming errors** are inevitable as you develop code.\n",
    "\n",
    "    1. Syntax errors are easy to find (the code does not run or crashes) \n",
    "    \n",
    "    2. Calculation and variable type errors are easy to find (the code crashes)\n",
    "    \n",
    "    3. Logical errors can be extremely hard to identify (the code may run and the results may appear plausible)\n",
    "    \n",
    "2. **Errors messages** can be extremely helpful in finding and correcting syntax errors and calculation or variable type errors.\n",
    "\n",
    "3. **Error handling** code can exit graciously when a calculation or variable type errors occurs.\n",
    "\n",
    "4. **Unit testing** is essential in order to avoid logical errors. \n",
    "\n",
    "\n",
    "\n",
    "\n"
   ]
  },
  {
   "cell_type": "markdown",
   "metadata": {},
   "source": [
    "+++"
   ]
  },
  {
   "cell_type": "markdown",
   "metadata": {},
   "source": [
    "# Programming and Errors\n",
    "\n",
    "As as programs grow in complexity and the number of lines of code and instructions for the computer to carry out grow, the more likely it is that our code will have errors. Already you've seen some errors as we've learned what can and can't be done, but now it's time look at errors in a more systematic manner. \n",
    "\n",
    "Just like there are different data types, there are also different error types. Having different error types helps us to more easily identify what has gone wrong in our code. \n",
    "\n",
    "## Syntax errors\n",
    "\n",
    "Like all programming languages, Python needs you to write code a **syntaxically correct manner** so that it can understand your commands and translate them to the machine. If you don't follow the correct syntax in your code, such as not having matched parentheses, brackets, or quotations marks, your code will generate a `SyntaxError`."
   ]
  },
  {
   "cell_type": "code",
   "execution_count": 2,
   "metadata": {
    "collapsed": false
   },
   "outputs": [
    {
     "ename": "SyntaxError",
     "evalue": "EOL while scanning string literal (<ipython-input-2-ef3271d12295>, line 2)",
     "output_type": "error",
     "traceback": [
      "\u001b[0;36m  File \u001b[0;32m\"<ipython-input-2-ef3271d12295>\"\u001b[0;36m, line \u001b[0;32m2\u001b[0m\n\u001b[0;31m    sentence = 'I am a sentence\u001b[0m\n\u001b[0m                               ^\u001b[0m\n\u001b[0;31mSyntaxError\u001b[0m\u001b[0;31m:\u001b[0m EOL while scanning string literal\n"
     ]
    }
   ],
   "source": [
    "value = 3\n",
    "sentence = 'I am a sentence\n",
    "print(value)"
   ]
  },
  {
   "cell_type": "markdown",
   "metadata": {},
   "source": [
    "What you're seeing above is the **exception** and the **traceback**. The first part is the **traceback**.\n",
    "\n",
    "`File \"<ipython-input-2-a6097ed4dc2e>\"`\n",
    "\n",
    "It tells us the \"file\" that the compiler was processing when the error occurred. Since we are using an IPython notebook and are not calling any functions defined in external files, this line is not providing any additional information to us.\n",
    "\n",
    "We then learn that the error occurred at \n",
    "\n",
    "`line 2`\n",
    "\n",
    "and that the parsing problem occurred at \n",
    "\n",
    "`sentence = 'I am a sentence`\n",
    "\n",
    "**Be aware that this information isn't always accurate**. Depending upon the type of error and the complexity of the line of code, the actual error could be above or below where it points out that the error is occurring.\n",
    "\n",
    "The second part is the **exception**. \n",
    "\n",
    "`SyntaxError: EOL while scanning string literal`\n",
    "\n",
    "It tells us what issue generated the error. In this case, we have a `SyntaxError` because Python reached the end of the line (`EOL`) while it was scanning the string we started with `'` and it couldn't find the closing `'`.\n"
   ]
  },
  {
   "cell_type": "code",
   "execution_count": 3,
   "metadata": {
    "collapsed": false
   },
   "outputs": [
    {
     "ename": "IndentationError",
     "evalue": "unexpected indent (<ipython-input-3-b88cfcc616e0>, line 3)",
     "output_type": "error",
     "traceback": [
      "\u001b[0;36m  File \u001b[0;32m\"<ipython-input-3-b88cfcc616e0>\"\u001b[0;36m, line \u001b[0;32m3\u001b[0m\n\u001b[0;31m    print(i, j)\u001b[0m\n\u001b[0m    ^\u001b[0m\n\u001b[0;31mIndentationError\u001b[0m\u001b[0;31m:\u001b[0m unexpected indent\n"
     ]
    }
   ],
   "source": [
    "for i in range(3):\n",
    "    j = i * 2\n",
    "      print(i, j)\n",
    "    "
   ]
  },
  {
   "cell_type": "markdown",
   "metadata": {},
   "source": [
    "In this example, we see an `IndentationError`. The beginning of the line\n",
    "\n",
    "`print(i, j)`\n",
    "\n",
    "should be aligned vertically with the beginning of the line\n",
    "\n",
    "`j = i * 2`\n",
    "\n",
    "but it is not. \n"
   ]
  },
  {
   "cell_type": "markdown",
   "metadata": {},
   "source": [
    "+++"
   ]
  },
  {
   "cell_type": "markdown",
   "metadata": {},
   "source": [
    "## Type errors\n",
    "\n",
    "Now another common form of error is a `TypeError`. This happens when we try to use a method that is for one data type on another data type that does not support it. Remember how strings cannot be subtracted or divided? "
   ]
  },
  {
   "cell_type": "code",
   "execution_count": 4,
   "metadata": {
    "collapsed": false
   },
   "outputs": [
    {
     "name": "stdout",
     "output_type": "stream",
     "text": [
      "catdog\n"
     ]
    },
    {
     "ename": "TypeError",
     "evalue": "unsupported operand type(s) for -: 'str' and 'str'",
     "output_type": "error",
     "traceback": [
      "\u001b[0;31m---------------------------------------------------------------------------\u001b[0m",
      "\u001b[0;31mTypeError\u001b[0m                                 Traceback (most recent call last)",
      "\u001b[0;32m<ipython-input-4-1dc9f26ae5a0>\u001b[0m in \u001b[0;36m<module>\u001b[0;34m()\u001b[0m\n\u001b[1;32m      1\u001b[0m \u001b[0mnew_string\u001b[0m \u001b[0;34m=\u001b[0m \u001b[0;34m'cat'\u001b[0m \u001b[0;34m+\u001b[0m \u001b[0;34m'dog'\u001b[0m\u001b[0;34m\u001b[0m\u001b[0m\n\u001b[1;32m      2\u001b[0m \u001b[0mprint\u001b[0m\u001b[0;34m(\u001b[0m\u001b[0mnew_string\u001b[0m\u001b[0;34m)\u001b[0m\u001b[0;34m\u001b[0m\u001b[0m\n\u001b[0;32m----> 3\u001b[0;31m \u001b[0mnew_string\u001b[0m \u001b[0;34m=\u001b[0m \u001b[0;34m'cat'\u001b[0m \u001b[0;34m-\u001b[0m \u001b[0;34m'dog'\u001b[0m\u001b[0;34m\u001b[0m\u001b[0m\n\u001b[0m\u001b[1;32m      4\u001b[0m \u001b[0mprint\u001b[0m\u001b[0;34m(\u001b[0m\u001b[0mnew_string\u001b[0m\u001b[0;34m)\u001b[0m\u001b[0;34m\u001b[0m\u001b[0m\n",
      "\u001b[0;31mTypeError\u001b[0m: unsupported operand type(s) for -: 'str' and 'str'"
     ]
    }
   ],
   "source": [
    "new_string = 'cat' + 'dog'\n",
    "print(new_string)\n",
    "new_string = 'cat' - 'dog'\n",
    "print(new_string)"
   ]
  },
  {
   "cell_type": "markdown",
   "metadata": {},
   "source": [
    "As you can see, the Python interpreter correctly executed the first two lines of our code and printed\n",
    "\n",
    "`catdog`\n",
    "\n",
    "Also, as expected, Python tells the line the error occurred on. Python does not have a rule for how to subtract strings, so it lets us know that the operation `-` is not supported and informs us that this is a `TypeError`."
   ]
  },
  {
   "cell_type": "code",
   "execution_count": 5,
   "metadata": {
    "collapsed": false
   },
   "outputs": [
    {
     "name": "stdout",
     "output_type": "stream",
     "text": [
      "catcatcat\n"
     ]
    },
    {
     "ename": "TypeError",
     "evalue": "Can't convert 'int' object to str implicitly",
     "output_type": "error",
     "traceback": [
      "\u001b[0;31m---------------------------------------------------------------------------\u001b[0m",
      "\u001b[0;31mTypeError\u001b[0m                                 Traceback (most recent call last)",
      "\u001b[0;32m<ipython-input-5-4d44291ae6cb>\u001b[0m in \u001b[0;36m<module>\u001b[0;34m()\u001b[0m\n\u001b[1;32m      2\u001b[0m \u001b[0mprint\u001b[0m\u001b[0;34m(\u001b[0m\u001b[0mnew_string\u001b[0m\u001b[0;34m)\u001b[0m\u001b[0;34m\u001b[0m\u001b[0m\n\u001b[1;32m      3\u001b[0m \u001b[0;34m\u001b[0m\u001b[0m\n\u001b[0;32m----> 4\u001b[0;31m \u001b[0mnew_string\u001b[0m \u001b[0;34m=\u001b[0m \u001b[0;34m'cat'\u001b[0m \u001b[0;34m+\u001b[0m \u001b[0;36m3\u001b[0m\u001b[0;34m\u001b[0m\u001b[0m\n\u001b[0m\u001b[1;32m      5\u001b[0m \u001b[0mprint\u001b[0m\u001b[0;34m(\u001b[0m\u001b[0mnew_string\u001b[0m\u001b[0;34m)\u001b[0m\u001b[0;34m\u001b[0m\u001b[0m\n\u001b[1;32m      6\u001b[0m \u001b[0;34m\u001b[0m\u001b[0m\n",
      "\u001b[0;31mTypeError\u001b[0m: Can't convert 'int' object to str implicitly"
     ]
    }
   ],
   "source": [
    "new_string = 'cat' * 3\n",
    "print(new_string)\n",
    "\n",
    "new_string = 'cat' + 3\n",
    "print(new_string)\n",
    "\n",
    "new_string = 'cat' / 3\n",
    "print(new_string)"
   ]
  },
  {
   "cell_type": "markdown",
   "metadata": {},
   "source": [
    "\n",
    "We see that there is a `TypeError` in line 4.  Why don't you correct it and see what happens next?"
   ]
  },
  {
   "cell_type": "code",
   "execution_count": 12,
   "metadata": {
    "collapsed": false
   },
   "outputs": [],
   "source": [
    "example_list = [0, 2, 'a']\n",
    "example_list[0] = 'b'"
   ]
  },
  {
   "cell_type": "markdown",
   "metadata": {},
   "source": [
    "**Remember:** The type of data you're working with really matters, and that's what `TypeError`'s are all about. A valid operation for a `list` might not work for a `tuple` and Python will try to remind you of that fact."
   ]
  },
  {
   "cell_type": "markdown",
   "metadata": {},
   "source": [
    "## Name errors\n",
    "\n",
    "Variables in Python must be initialized before they can be used.  If you try to use a variable prior to initialization, you will get a `NameError`. For example, imagine we try to use the new vairable `party`"
   ]
  },
  {
   "cell_type": "code",
   "execution_count": 6,
   "metadata": {
    "collapsed": false
   },
   "outputs": [
    {
     "ename": "NameError",
     "evalue": "name 'party' is not defined",
     "output_type": "error",
     "traceback": [
      "\u001b[0;31m---------------------------------------------------------------------------\u001b[0m",
      "\u001b[0;31mNameError\u001b[0m                                 Traceback (most recent call last)",
      "\u001b[0;32m<ipython-input-6-c209321df114>\u001b[0m in \u001b[0;36m<module>\u001b[0;34m()\u001b[0m\n\u001b[0;32m----> 1\u001b[0;31m \u001b[0mprint\u001b[0m\u001b[0;34m(\u001b[0m \u001b[0mparty\u001b[0m \u001b[0;34m)\u001b[0m\u001b[0;34m\u001b[0m\u001b[0m\n\u001b[0m",
      "\u001b[0;31mNameError\u001b[0m: name 'party' is not defined"
     ]
    }
   ],
   "source": [
    "print( party )"
   ]
  },
  {
   "cell_type": "markdown",
   "metadata": {},
   "source": [
    "## Index errors\n",
    "\n",
    "\n",
    "As you will remember, specific characters in a string can be accessed using an `index`. The index ranges from 0 to the length of the string minus one.  If we try to access a character in a string by and index, and that index doesn't exist in the variable, the Python interpreter returns an `IndexError`."
   ]
  },
  {
   "cell_type": "code",
   "execution_count": 7,
   "metadata": {
    "collapsed": false
   },
   "outputs": [
    {
     "name": "stdout",
     "output_type": "stream",
     "text": [
      "c\n"
     ]
    },
    {
     "ename": "IndexError",
     "evalue": "string index out of range",
     "output_type": "error",
     "traceback": [
      "\u001b[0;31m---------------------------------------------------------------------------\u001b[0m",
      "\u001b[0;31mIndexError\u001b[0m                                Traceback (most recent call last)",
      "\u001b[0;32m<ipython-input-7-ab8c742c83e9>\u001b[0m in \u001b[0;36m<module>\u001b[0;34m()\u001b[0m\n\u001b[1;32m      1\u001b[0m \u001b[0mexample_string\u001b[0m \u001b[0;34m=\u001b[0m \u001b[0;34m'abcdefg'\u001b[0m\u001b[0;34m\u001b[0m\u001b[0m\n\u001b[1;32m      2\u001b[0m \u001b[0mprint\u001b[0m\u001b[0;34m(\u001b[0m \u001b[0mexample_string\u001b[0m\u001b[0;34m[\u001b[0m\u001b[0;36m2\u001b[0m\u001b[0;34m]\u001b[0m \u001b[0;34m)\u001b[0m\u001b[0;34m\u001b[0m\u001b[0m\n\u001b[0;32m----> 3\u001b[0;31m \u001b[0mprint\u001b[0m\u001b[0;34m(\u001b[0m \u001b[0mexample_string\u001b[0m\u001b[0;34m[\u001b[0m\u001b[0;36m12\u001b[0m\u001b[0;34m]\u001b[0m \u001b[0;34m)\u001b[0m\u001b[0;34m\u001b[0m\u001b[0m\n\u001b[0m",
      "\u001b[0;31mIndexError\u001b[0m: string index out of range"
     ]
    }
   ],
   "source": [
    "example_string = 'abcdefg'\n",
    "print( example_string[2] ) \n",
    "print( example_string[12] ) "
   ]
  },
  {
   "cell_type": "markdown",
   "metadata": {},
   "source": [
    "A similar type of error is a `KeyError` which can occur when dealing with a very powerful data type we will describe later;   dictionaries. \n",
    "\n",
    "## Attribute errors\n",
    "\n"
   ]
  },
  {
   "cell_type": "markdown",
   "metadata": {},
   "source": [
    "We just performed the coding equivalent of asking Merriam Webster to give us the definition of 'itpobihaceiopagbbfadgaga'. \n",
    "\n",
    "Likewise, if we try to use some attribute of a variable that doesn't exist then we get an `AttributeError`. This can happen if we try to use a built-in function that doesn't exist for a variable. Going back to our `example_list` we'll try to use a built-in function that we know doesn't exist."
   ]
  },
  {
   "cell_type": "code",
   "execution_count": 16,
   "metadata": {
    "collapsed": false
   },
   "outputs": [
    {
     "ename": "AttributeError",
     "evalue": "'list' object has no attribute 'party'",
     "output_type": "error",
     "traceback": [
      "\u001b[0;31m---------------------------------------------------------------------------\u001b[0m",
      "\u001b[0;31mAttributeError\u001b[0m                            Traceback (most recent call last)",
      "\u001b[0;32m<ipython-input-16-f9767f29680f>\u001b[0m in \u001b[0;36m<module>\u001b[0;34m()\u001b[0m\n\u001b[0;32m----> 1\u001b[0;31m \u001b[0mexample_list\u001b[0m\u001b[0;34m.\u001b[0m\u001b[0mparty\u001b[0m\u001b[0;34m(\u001b[0m\u001b[0;34m)\u001b[0m\u001b[0;34m\u001b[0m\u001b[0m\n\u001b[0m",
      "\u001b[0;31mAttributeError\u001b[0m: 'list' object has no attribute 'party'"
     ]
    }
   ],
   "source": [
    "example_list.party()"
   ]
  },
  {
   "cell_type": "markdown",
   "metadata": {},
   "source": [
    "We asked it to take `example_list` and make it party. Without ever telling it, \"Hey Python, you know how lists party? They party by tripling in size\"\n",
    "\n",
    "Analogously, if we give the input to a function but it doesn't make sense, we will get a `ValueError`. This is the error we get when we try to remove a value from a `list` when it isn't in the `list` variable."
   ]
  },
  {
   "cell_type": "code",
   "execution_count": 17,
   "metadata": {
    "collapsed": false
   },
   "outputs": [
    {
     "data": {
      "text/plain": [
       "['a', 'b', 'c']"
      ]
     },
     "execution_count": 17,
     "metadata": {},
     "output_type": "execute_result"
    }
   ],
   "source": [
    "example_list"
   ]
  },
  {
   "cell_type": "code",
   "execution_count": 18,
   "metadata": {
    "collapsed": false
   },
   "outputs": [
    {
     "ename": "ValueError",
     "evalue": "list.remove(x): x not in list",
     "output_type": "error",
     "traceback": [
      "\u001b[0;31m---------------------------------------------------------------------------\u001b[0m",
      "\u001b[0;31mValueError\u001b[0m                                Traceback (most recent call last)",
      "\u001b[0;32m<ipython-input-18-e30015d5a5e6>\u001b[0m in \u001b[0;36m<module>\u001b[0;34m()\u001b[0m\n\u001b[0;32m----> 1\u001b[0;31m \u001b[0mexample_list\u001b[0m\u001b[0;34m.\u001b[0m\u001b[0mremove\u001b[0m\u001b[0;34m(\u001b[0m\u001b[0;34m'd'\u001b[0m\u001b[0;34m)\u001b[0m\u001b[0;34m\u001b[0m\u001b[0m\n\u001b[0m",
      "\u001b[0;31mValueError\u001b[0m: list.remove(x): x not in list"
     ]
    }
   ],
   "source": [
    "example_list.remove('d')"
   ]
  },
  {
   "cell_type": "markdown",
   "metadata": {},
   "source": [
    "By contrast, Python is perfectly happy to remove 'b':"
   ]
  },
  {
   "cell_type": "code",
   "execution_count": 19,
   "metadata": {
    "collapsed": false
   },
   "outputs": [
    {
     "data": {
      "text/plain": [
       "['a', 'c']"
      ]
     },
     "execution_count": 19,
     "metadata": {},
     "output_type": "execute_result"
    }
   ],
   "source": [
    "example_list.remove('b')\n",
    "example_list"
   ]
  },
  {
   "cell_type": "markdown",
   "metadata": {},
   "source": [
    "These are the errors that you are most likely to encounter in this and the following lessons (and as long as you continue to program!). For the full list of exceptions and errors you can refer to the official Python documentation.\n",
    "\n",
    "Python Built-in Exceptions docs:\n",
    "https://docs.python.org/3.4/library/exceptions.html\n",
    "\n",
    "Python Error Handling docs:\n",
    "https://docs.python.org/3.4/tutorial/errors.html\n",
    "\n",
    "The important thing to remember is to look at the error message. It takes a little bit of practice but pretty soon you'll be able to see that Python is trying its hardest to tell you exactly where and why you made a mistake."
   ]
  },
  {
   "cell_type": "markdown",
   "metadata": {},
   "source": [
    "## Handling exceptions\n",
    "\n",
    "But sometimes people won't always enter their name correctly, either on accident or just because they want to mess with you!\n",
    "\n",
    "Fortunately, Python makes it easy to check these errors! \n",
    "\n",
    "Let's use our `input()` function to ask for a number and then square it (but actually put in a name!)"
   ]
  },
  {
   "cell_type": "code",
   "execution_count": 28,
   "metadata": {
    "collapsed": false
   },
   "outputs": [
    {
     "name": "stdout",
     "output_type": "stream",
     "text": [
      "What number do you want to know the square of? 3\n"
     ]
    },
    {
     "ename": "TypeError",
     "evalue": "unsupported operand type(s) for ** or pow(): 'str' and 'int'",
     "output_type": "error",
     "traceback": [
      "\u001b[0;31m---------------------------------------------------------------------------\u001b[0m",
      "\u001b[0;31mTypeError\u001b[0m                                 Traceback (most recent call last)",
      "\u001b[0;32m<ipython-input-28-fe7c350612db>\u001b[0m in \u001b[0;36m<module>\u001b[0;34m()\u001b[0m\n\u001b[1;32m      1\u001b[0m \u001b[0mnumber_to_square\u001b[0m \u001b[0;34m=\u001b[0m \u001b[0minput\u001b[0m\u001b[0;34m(\u001b[0m\u001b[0;34m\"What number do you want to know the square of? \"\u001b[0m\u001b[0;34m)\u001b[0m\u001b[0;34m\u001b[0m\u001b[0m\n\u001b[1;32m      2\u001b[0m \u001b[0;34m\u001b[0m\u001b[0m\n\u001b[0;32m----> 3\u001b[0;31m \u001b[0mprint\u001b[0m\u001b[0;34m(\u001b[0m\u001b[0;34m\"Your number squared is \"\u001b[0m\u001b[0;34m,\u001b[0m \u001b[0mnumber_to_square\u001b[0m\u001b[0;34m**\u001b[0m\u001b[0;36m2\u001b[0m\u001b[0;34m)\u001b[0m\u001b[0;34m\u001b[0m\u001b[0m\n\u001b[0m",
      "\u001b[0;31mTypeError\u001b[0m: unsupported operand type(s) for ** or pow(): 'str' and 'int'"
     ]
    }
   ],
   "source": [
    "number_to_square = input(\"What number do you want to know the square of? \")\n",
    "\n",
    "print(\"Your number squared is \", number_to_square**2)"
   ]
  },
  {
   "cell_type": "markdown",
   "metadata": {},
   "source": [
    "Even though we might have typed a number above. Python thinks of that number as a `string` unless we tell it otherwise. Then it tries to raise a `string` to the second power (giving us a `TypeError` because what would a string raised to the second power look like?) To handle errors we just wrap code in a `try ... except ...` "
   ]
  },
  {
   "cell_type": "code",
   "execution_count": 29,
   "metadata": {
    "collapsed": false
   },
   "outputs": [
    {
     "name": "stdout",
     "output_type": "stream",
     "text": [
      "What number do you want to know the square of? 4\n",
      "Your number squared is  16\n"
     ]
    }
   ],
   "source": [
    "number_to_square = input(\"What number do you want to know the square of? \")\n",
    "try:\n",
    "    number_to_square = int(number_to_square)\n",
    "    print(\"Your number squared is \", number_to_square**2)\n",
    "except ValueError:\n",
    "    print(\"You didn't seem to put in a number!\")"
   ]
  },
  {
   "cell_type": "markdown",
   "metadata": {},
   "source": [
    "Again, make sure to run that code a few different times! (Try giving it 5, 'avocado', and [4, 'd'] to test some different data types!)\n",
    "\n",
    "Now let's change our name introduction to check for a name"
   ]
  },
  {
   "cell_type": "code",
   "execution_count": 30,
   "metadata": {
    "collapsed": false
   },
   "outputs": [
    {
     "name": "stdout",
     "output_type": "stream",
     "text": [
      "What is your name? Luis\n",
      "Hi Luis! I'm Adam and it's nice to meet you\n"
     ]
    }
   ],
   "source": [
    "#Change this example to check for a name\n",
    "\n",
    "your_name = input(\"What is your name? \")\n",
    "if your_name in friends_list:\n",
    "    print(\"Hi \" + your_name + \"! It's good to see you again!\")\n",
    "else:\n",
    "    print(\"Hi \" + your_name + \"! I'm Adam and it's nice to meet you\")"
   ]
  },
  {
   "cell_type": "markdown",
   "metadata": {},
   "source": [
    "Wonderful! Well that's the basics of checking for condtions. Now let's move on to the other important flow control aspect, loops."
   ]
  },
  {
   "cell_type": "code",
   "execution_count": null,
   "metadata": {
    "collapsed": false
   },
   "outputs": [],
   "source": [
    "#Print the last name, the number of people with that last name, and the first names\n",
    "\n",
    "\n"
   ]
  },
  {
   "cell_type": "markdown",
   "metadata": {},
   "source": [
    "# Advanced exercises"
   ]
  },
  {
   "cell_type": "markdown",
   "metadata": {},
   "source": [
    "Now let's work with a numerical example. I want to print the next 20 numbers in the Fibonacci sequence. The formula to calculate a new Fibonacci number is\n",
    "\n",
    "$F_{n} = F_{n-1} + F_{n-2}$\n",
    "\n",
    "Hint: We'll probably want to use the `range()` function"
   ]
  },
  {
   "cell_type": "code",
   "execution_count": null,
   "metadata": {
    "collapsed": false
   },
   "outputs": [],
   "source": [
    "# Print the next 20 numbers in Fibonacci series\n",
    "fib_sequence = [1, 1, 2, 3, 5, 8]\n",
    "\n"
   ]
  },
  {
   "cell_type": "markdown",
   "metadata": {},
   "source": [
    "Now let's go one step further and calculate the next 10 rows in Pascal's Triangle.\n",
    "\n",
    "[Pascal's triangle](https://en.wikipedia.org/wiki/Pascal%27s_triangle) is a 2-dimensional representation of the Fibonnacci sequence (sort of). A good explanation is this GIF from Wikipedia:\n",
    "\n",
    "<img src = '../images/PascalTriangleAnimated2.gif'></img>\n",
    "\n",
    "[wp_pasc]: https://en.wikipedia.org/wiki/Pascal%27s_triangle\n",
    "[wp_pasc_gif]: https://en.wikipedia.org/wiki/File:PascalTriangleAnimated2.gif\n",
    "[gif]: ../images/PascalTriangleAnimated2.gif"
   ]
  },
  {
   "cell_type": "code",
   "execution_count": null,
   "metadata": {
    "collapsed": false
   },
   "outputs": [],
   "source": [
    "# Print the next 10 rows of Pascal's triangle\n",
    "rows = [ [1],\n",
    "         [1, 1],\n",
    "         [1, 2, 1],\n",
    "         [1, 3, 3, 1] ]\n",
    "\n",
    "\n"
   ]
  }
 ],
 "metadata": {
  "kernelspec": {
   "display_name": "Python 3",
   "language": "python",
   "name": "python3"
  },
  "language_info": {
   "codemirror_mode": {
    "name": "ipython",
    "version": 3
   },
   "file_extension": ".py",
   "mimetype": "text/x-python",
   "name": "python",
   "nbconvert_exporter": "python",
   "pygments_lexer": "ipython3",
   "version": "3.4.3"
  }
 },
 "nbformat": 4,
 "nbformat_minor": 0
}
