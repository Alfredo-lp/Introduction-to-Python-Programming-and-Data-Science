{
 "metadata": {
  "name": "",
  "signature": "sha256:ad4ad1040fcb38aa6a11dda4b894e71e7c605a063925c7a63dc8f514f406b1e1"
 },
 "nbformat": 3,
 "nbformat_minor": 0,
 "worksheets": [
  {
   "cells": [
    {
     "cell_type": "heading",
     "level": 1,
     "metadata": {},
     "source": [
      "Review"
     ]
    },
    {
     "cell_type": "markdown",
     "metadata": {},
     "source": [
      "  "
     ]
    },
    {
     "cell_type": "markdown",
     "metadata": {},
     "source": [
      "Yesterday, we introduced several foundational skills for programming.  This morning, we want to review some of those skills."
     ]
    },
    {
     "cell_type": "code",
     "collapsed": false,
     "input": [
      "sentence_pt = \"Eu falo Portugu\u00eas muito bem.\"\n",
      "sentence_en = \"I speak Portuguese very well.\"\n",
      "sentence_fr = \"Je parle Portugais tr\u00e8s bien.\"\n",
      "sentence_de = \"Ich spreche Portugiesisch sehr gut.\"\n",
      "sentence_es = \"Hablo portugu\u00e9s muy bien\""
     ],
     "language": "python",
     "metadata": {},
     "outputs": []
    },
    {
     "cell_type": "markdown",
     "metadata": {},
     "source": [
      "Create a dictionary named *sentences* where a key is the name of a language, and the value is a list. Initialize each list with a sentence in the corresponding language."
     ]
    },
    {
     "cell_type": "code",
     "collapsed": false,
     "input": [],
     "language": "python",
     "metadata": {},
     "outputs": []
    },
    {
     "cell_type": "markdown",
     "metadata": {},
     "source": [
      "Create a dictionary named *words* where the key is the name of a language, and the value is a list. Use a loop and information from the dictionary *sentences*."
     ]
    },
    {
     "cell_type": "code",
     "collapsed": false,
     "input": [],
     "language": "python",
     "metadata": {},
     "outputs": []
    },
    {
     "cell_type": "markdown",
     "metadata": {},
     "source": [
      "Break each sentence into words and add them into the lists in the dictionary *words*. Use loops and string operations. "
     ]
    },
    {
     "cell_type": "code",
     "collapsed": false,
     "input": [],
     "language": "python",
     "metadata": {},
     "outputs": []
    },
    {
     "cell_type": "markdown",
     "metadata": {},
     "source": [
      "Find the shortest word in the contents of the dictionary *words*."
     ]
    },
    {
     "cell_type": "code",
     "collapsed": false,
     "input": [],
     "language": "python",
     "metadata": {},
     "outputs": []
    },
    {
     "cell_type": "markdown",
     "metadata": {},
     "source": [
      "Find the longest word in the contents of the dictionary *words*."
     ]
    },
    {
     "cell_type": "code",
     "collapsed": false,
     "input": [],
     "language": "python",
     "metadata": {},
     "outputs": []
    }
   ],
   "metadata": {}
  }
 ]
}