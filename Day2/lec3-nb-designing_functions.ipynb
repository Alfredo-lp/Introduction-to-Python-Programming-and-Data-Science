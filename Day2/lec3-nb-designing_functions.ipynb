{
 "metadata": {
  "kernelspec": {
   "display_name": "Python 3",
   "language": "python",
   "name": "python3"
  },
  "language_info": {
   "codemirror_mode": {
    "name": "ipython",
    "version": 3
   },
   "file_extension": ".py",
   "mimetype": "text/x-python",
   "name": "python",
   "nbconvert_exporter": "python",
   "pygments_lexer": "ipython3",
   "version": "3.4.2"
  },
  "name": "",
  "signature": "sha256:259616d30774e7007ec94f3de54a512e51e7065e724813624f5f4e4c2c055a06"
 },
 "nbformat": 3,
 "nbformat_minor": 0,
 "worksheets": [
  {
   "cells": [
    {
     "cell_type": "code",
     "collapsed": true,
     "input": [
      "# add imports here\n"
     ],
     "language": "python",
     "metadata": {},
     "outputs": []
    },
    {
     "cell_type": "markdown",
     "metadata": {},
     "source": [
      "# Designing Functions: Build Hierarchically\n",
      "\n",
      "We have 800 data files to go through in `Data/Roster`. We could put all the code into a `for` loop which can easily rip through every single file in-turn, but if we ever want to do anything else (e.g. get the height), major modifications would need to be made. What's more, we have dozens of variables flying around, so tracking program flow can be difficult (e.g. \"where did that object get set\", \"where is it being modified\"). \n",
      "\n",
      "Also, if our data source changes (e.g. to a CSV or database), we would need to carefully replace the code that loads the data. If it's not compartmentalized into a function, it might be easy to overlook some of the variables used or created.\n",
      "\n",
      "Functions can help.\n",
      "\n",
      "Let's rough out a program in pseudocode to help us find insurance liabilities."
     ]
    },
    {
     "cell_type": "code",
     "collapsed": false,
     "input": [
      "# data_files = find_student_records(directory)\n",
      "\n",
      "# for each file in data_files:\n",
      "    # data = parse_student_record(file)\n",
      "    \n",
      "    # age = calculate_age(data)\n",
      "    \n",
      "    # if age < threshold:\n",
      "        # remember the person"
     ],
     "language": "python",
     "metadata": {},
     "outputs": []
    },
    {
     "cell_type": "markdown",
     "metadata": {},
     "source": [
      "# 1. Sketching out the functions \n",
      "\n",
      "What are the inputs and outputs of the functions that we expect?"
     ]
    },
    {
     "cell_type": "code",
     "collapsed": false,
     "input": [
      "def find_student_records(directory):\n",
      "    \"\"\"Finds all the data filenames in a directory\"\"\"\n",
      "    return paths"
     ],
     "language": "python",
     "metadata": {},
     "outputs": []
    },
    {
     "cell_type": "code",
     "collapsed": false,
     "input": [
      "def parse_student_record(path):\n",
      "    \"\"\"Loads the data in the file\"\"\"\n",
      "    return data"
     ],
     "language": "python",
     "metadata": {},
     "outputs": []
    },
    {
     "cell_type": "code",
     "collapsed": false,
     "input": [
      "def calculate_age(dob):\n",
      "    \"\"\"Find our how old someone is in years\"\"\"\n",
      "    return age"
     ],
     "language": "python",
     "metadata": {},
     "outputs": []
    },
    {
     "cell_type": "markdown",
     "metadata": {},
     "source": [
      "# 2. `find_student_records` - Finding the records\n",
      "\n",
      "With separate functions, it can be easy to develop and test each one without having to process the entire data set every time. Lets start by finding all the records.\n",
      "\n",
      "> **Note:** We're going to keep all the `import`s together at the top of the notebook. \n",
      "> This reduces the chance we'll forget one of we move code around.\n",
      "\n",
      "### Step 1. Do a flat (no functions) prototype\n",
      "\n",
      "We're using `glob`, so add it up at the top of the notebook."
     ]
    },
    {
     "cell_type": "code",
     "collapsed": false,
     "input": [
      "glob.glob('../Data/Roster/*.txt')"
     ],
     "language": "python",
     "metadata": {},
     "outputs": []
    },
    {
     "cell_type": "markdown",
     "metadata": {},
     "source": [
      "### Step 2. Separate the inputs and outputs"
     ]
    },
    {
     "cell_type": "code",
     "collapsed": false,
     "input": [
      "directory = '../Data/Roster'\n",
      "\n",
      "paths = # ...\n",
      "\n",
      "paths[:5]"
     ],
     "language": "python",
     "metadata": {},
     "outputs": []
    },
    {
     "cell_type": "markdown",
     "metadata": {},
     "source": [
      "### Step 3. Wrap it in a function"
     ]
    },
    {
     "cell_type": "code",
     "collapsed": false,
     "input": [
      "def find_student_records(directory):\n",
      "    \"\"\"Find all the student records in the specified directory.\"\"\"\n",
      "    # ...\n",
      "    return paths"
     ],
     "language": "python",
     "metadata": {},
     "outputs": []
    },
    {
     "cell_type": "code",
     "collapsed": false,
     "input": [
      "find_student_records('../Data/Roster/')[:5]"
     ],
     "language": "python",
     "metadata": {},
     "outputs": []
    },
    {
     "cell_type": "markdown",
     "metadata": {},
     "source": [
      "### Extra! Avoiding arbitrary limitations: Optional arguments\n",
      "The extension of the files is arbitrary, so rather than have some arbitrary value hard-coded into the function, we can make it an optional argument by adding a `=<default_value>` after the argument or annotation"
     ]
    },
    {
     "cell_type": "code",
     "collapsed": false,
     "input": [
      "def find_student_records(directory, extension='txt'):\n",
      "    \"\"\"\n",
      "    Find all the student records in the specified directory. Specifying extension\n",
      "    is optional; defaults to \"txt\"\n",
      "    \n",
      "    Returns a list.\n",
      "    \"\"\"\n",
      "    paths = glob.glob(directory + '/*.txt')\n",
      "    return paths"
     ],
     "language": "python",
     "metadata": {},
     "outputs": []
    },
    {
     "cell_type": "markdown",
     "metadata": {},
     "source": [
      "If we call it just as before, it gives the same result:"
     ]
    },
    {
     "cell_type": "code",
     "collapsed": false,
     "input": [
      "find_student_records('../Data/Roster')[:5]"
     ],
     "language": "python",
     "metadata": {},
     "outputs": []
    },
    {
     "cell_type": "markdown",
     "metadata": {},
     "source": [
      "But now, we have the option to explicitly specify the extension. Lets look somewhere else for some other type of files (`txt`'s are the only thing in the `Roster` directory):"
     ]
    },
    {
     "cell_type": "code",
     "collapsed": false,
     "input": [
      "find_student_records('../Data', extension='csv')"
     ],
     "language": "python",
     "metadata": {},
     "outputs": []
    },
    {
     "cell_type": "markdown",
     "metadata": {},
     "source": [
      "# 3. `parse_student_record` - Reading an individual record\n",
      "\n",
      "Now that we have a way to find all the records: the `find_student_records` function, the next piece of the puzzle we laid out in our pseudocode is a function to read an individual record. Recall that the records looked like the following:\n",
      "\n",
      "    #This is a file that holds important personal information that should not be shared. You are being watched.\n",
      "\n",
      "\n",
      "\n",
      "    Name:\tBuzz M. Baker\n",
      "    Date of Birth:\t4/20/87\n",
      "    Email Address:\tbuzz.baker@northwestern.edu\n",
      "    Department:\tEngineering\n",
      "    Height:\t5ft,3in\n",
      "    Weight:\t194lbs\n",
      "    Favorite Color:\tPink\n",
      "    Favorite Animal:\tSnake\n",
      "    Zodiac Sign:\tApril\n"
     ]
    },
    {
     "cell_type": "markdown",
     "metadata": {},
     "source": [
      "### Processing the data file\n",
      "\n",
      "**Socrative:** What is the best data type to represent the student's data?\n",
      "\n",
      "1. string\n",
      "2. list\n",
      "3. dictionary\n",
      "4. set\n",
      "5. tuple"
     ]
    },
    {
     "cell_type": "markdown",
     "metadata": {},
     "source": [
      "### Roughing it out"
     ]
    },
    {
     "cell_type": "code",
     "collapsed": false,
     "input": [
      "path = '../Data/Roster/Agatha_Bailey_798.txt'\n",
      "\n",
      "# create something to hold the data\n",
      "\n",
      "# open the file\n",
      "    # for each line in the file\n",
      "        # ignore comment lines (those that start with \"#\")\n",
      "\n",
      "        # Exercise parts\n",
      "        # --------------\n",
      "        # split the line\n",
      "        # make sure the line has the correct number of parts\n",
      "        # clean up the parts (strip whitespace) and store them"
     ],
     "language": "python",
     "metadata": {},
     "outputs": []
    },
    {
     "cell_type": "markdown",
     "metadata": {},
     "source": [
      "### Turn it into a function"
     ]
    },
    {
     "cell_type": "code",
     "collapsed": true,
     "input": [
      "def parse_student_record(path: 'data file location') -> 'dict':\n",
      "    \"\"\"Load a data file\"\"\"\n",
      "    # create something to hold the data\n",
      "    data = {}\n",
      "\n",
      "    with open(path) as file:\n",
      "        for line in file:\n",
      "            # ignore comment lines (those that start with \"#\")\n",
      "            if line.startswith('#'):\n",
      "                continue\n",
      "\n",
      "            # split the line\n",
      "            parts = line.split(':')\n",
      "\n",
      "            # make sure the line has the correct number of parts\n",
      "            if len(parts) != 2:\n",
      "                continue\n",
      "\n",
      "            # clean up the parts (strip whitespace) and store them\n",
      "            key, value = parts\n",
      "            key = key.strip()\n",
      "            value = value.strip()\n",
      "\n",
      "            data[key] = value\n",
      "    return data\n",
      "\n",
      "# validators\n",
      "assert parse_student_record('../Data/Roster/Agatha_Lee_11.txt')['Favorite Animal'] == 'Dog'\n",
      "assert parse_student_record('../Data/Roster/Buzz_Baker_618.txt')['Department'] == 'Engineering'"
     ],
     "language": "python",
     "metadata": {},
     "outputs": []
    },
    {
     "cell_type": "code",
     "collapsed": false,
     "input": [
      "data_files = find_student_records('../Data/Roster/')\n",
      "some_file = data_files[0]\n",
      "some_file"
     ],
     "language": "python",
     "metadata": {},
     "outputs": []
    },
    {
     "cell_type": "code",
     "collapsed": false,
     "input": [
      "parse_student_record(some_file)"
     ],
     "language": "python",
     "metadata": {},
     "outputs": []
    },
    {
     "cell_type": "markdown",
     "metadata": {},
     "source": [
      "# 4. Discovering there's more to do: Data Cleaning\n",
      "\n",
      "**Socrative**: How many fields are storing numeric data as strings and could be improved by using a better data type?\n",
      "\n",
      "1. 1\n",
      "2. 2\n",
      "3. 3\n",
      "4. 4\n",
      "5. 5\n"
     ]
    },
    {
     "cell_type": "markdown",
     "metadata": {},
     "source": [
      "## Exercise: Clean up the Date of Birth field.\n",
      "\n",
      "First get some code working..."
     ]
    },
    {
     "cell_type": "code",
     "collapsed": false,
     "input": [
      "dob = '7/12/68'\n",
      "\n",
      "# ... code ...\n",
      "\n",
      "assert type(dob) == datetime.datetime\n",
      "assert dob.year == 1968\n",
      "assert dob.month == 7"
     ],
     "language": "python",
     "metadata": {},
     "outputs": []
    },
    {
     "cell_type": "code",
     "collapsed": true,
     "input": [
      "def clean_dob(dob: \"string of form M/D/YY\") -> \"datetime object\":\n",
      "    # your code from above\n",
      "    \n",
      "    return dob\n",
      "\n",
      "assert type(clean_dob('1/1/11')) == datetime.datetime\n",
      "assert clean_dob('1/1/03').year == 2003\n",
      "assert clean_dob('1/1/83').year == 1983\n",
      "assert clean_dob('2/4/00').month == 2\n",
      "assert clean_dob('3/5/84').day == 5"
     ],
     "language": "python",
     "metadata": {},
     "outputs": []
    },
    {
     "cell_type": "markdown",
     "metadata": {},
     "source": [
      "### Where to call it?\n",
      "\n",
      "We could either call the `clean_dob` function on the value returned from the `parse_student_record` function or do it inside. Why make the caller clean up later?"
     ]
    },
    {
     "cell_type": "code",
     "collapsed": true,
     "input": [
      "# adding clean functions\n",
      "def parse_student_record(path: \"pathlib object\") -> \"dict\":\n",
      "    # COPY CODE FROM ABOVE\n",
      "    \n",
      "    data['Date of Birth'] = clean_dob(data['Date of Birth'])\n",
      "    \n",
      "    return data\n",
      "\n",
      "assert parse_student_record('../Data/Roster/Buzz_Baker_618.txt')['Date of Birth'].month == 4"
     ],
     "language": "python",
     "metadata": {},
     "outputs": []
    },
    {
     "cell_type": "markdown",
     "metadata": {},
     "source": [
      "# Sidebar: Partial Assembly\n",
      "\n",
      "We have a couple functions squared away, lets start assembling them and see if they work well together. Fixing little errors or incompatibilities early is easier as we remember how we made everything. Let's try to grab everyone who was born in 1975."
     ]
    },
    {
     "cell_type": "code",
     "collapsed": false,
     "input": [
      "data_dir = '../Data/Roster'\n",
      "\n",
      "# data_files = find_student_records(data_dir)\n",
      "\n",
      "# for each file in data_files:\n",
      "    # data = parse_student_record(file)\n",
      "    \n",
      "    # age = calculate_age(date of birth)\n",
      "    \n",
      "    # if born in 1975:\n",
      "        # remember the person\n",
      "        "
     ],
     "language": "python",
     "metadata": {},
     "outputs": []
    },
    {
     "cell_type": "markdown",
     "metadata": {},
     "source": [
      "**Socrative**: How many people were born in March?\n",
      "1. 24\n",
      "2. 49\n",
      "3. 53\n",
      "4. 69\n",
      "5. 75"
     ]
    },
    {
     "cell_type": "code",
     "collapsed": false,
     "input": [
      "# ...code...\n",
      "\n",
      "len(born_in_march)"
     ],
     "language": "python",
     "metadata": {},
     "outputs": []
    },
    {
     "cell_type": "markdown",
     "metadata": {},
     "source": [
      "# 5. `calculate_age` - Turning the age algorithm developed earlier into a function\n",
      "\n",
      "Your function may have looked something like this:\n",
      "\n",
      "    currentDay = 3\n",
      "    currentMonth = 3\n",
      "    currentYear = 2014\n",
      "\n",
      "    bornDay = 3\n",
      "    bornMonth = 3\n",
      "    bornYear = 1984\n",
      "\n",
      "    correction = 0\n",
      "    if currentMonth < bornMonth:\n",
      "        correction = 1\n",
      "    elif currentMonth == bornMonth and currentDay < bornDay:\n",
      "        correction = 1\n",
      "    \n",
      "    age = currentYear - bornYear - correction\n",
      "\n",
      "Lets adapt that into a function."
     ]
    },
    {
     "cell_type": "code",
     "collapsed": false,
     "input": [
      "def calculate_age(dob: \"datetime object\", today: \"datetime object\"=None):\n",
      "    \"\"\"Calculate the age of someone born on 'dob' on date 'today' (today if not specified)\"\"\"\n",
      "    if today is None:\n",
      "        today = datetime.datetime.today()\n",
      "    \n",
      "    ## your algorithm, adapted for datetime objects\n",
      "    \n",
      "    return age\n",
      "\n",
      "calculate_age(datetime.datetime(1985, 4, 4))"
     ],
     "language": "python",
     "metadata": {},
     "outputs": []
    },
    {
     "cell_type": "code",
     "collapsed": false,
     "input": [
      "# test suite\n",
      "assert calculate_age(datetime.datetime(2000, 1, 1), datetime.datetime(2001, 1, 1)) == 1\n",
      "assert calculate_age(datetime.datetime(1000, 1, 1), datetime.datetime(2000, 1, 1)) == 1000\n",
      "assert calculate_age(datetime.datetime(2000, 1, 1), datetime.datetime(2010, 1, 1)) == 10\n",
      "assert calculate_age(datetime.datetime(2000, 1, 31), datetime.datetime(2011, 1, 1)) == 10\n",
      "assert calculate_age(datetime.datetime(2000, 6, 1), datetime.datetime(2011, 1, 1)) == 10"
     ],
     "language": "python",
     "metadata": {},
     "outputs": []
    },
    {
     "cell_type": "markdown",
     "metadata": {},
     "source": [
      "# 6. Completing the Project\n",
      "\n",
      "Now that we have a function to calculate age, we can implement the final part of our pseudocode and check the age"
     ]
    },
    {
     "cell_type": "code",
     "collapsed": false,
     "input": [
      "datafiles = find_student_records('../Data/Roster/')\n",
      "\n",
      "youths = []\n",
      "for file in datafiles:\n",
      "    data = parse_student_record(file)\n",
      "    \n",
      "    age = calculate_age(data['Date of Birth'])\n",
      "    if age < 25:\n",
      "        youths.append(data)\n",
      "        \n",
      "print(len(youths))\n",
      "youths[:2]"
     ],
     "language": "python",
     "metadata": {
      "scrolled": false
     },
     "outputs": []
    },
    {
     "cell_type": "markdown",
     "metadata": {},
     "source": [
      "# 7. More cleaning, more analysis\n",
      "\n",
      "## Who's the tallest?"
     ]
    },
    {
     "cell_type": "code",
     "collapsed": true,
     "input": [
      "def clean_height(height):\n",
      "    \"\"\"Convert a foot/inches string (e.g. Xft,Yin) into a number\"\"\"\n",
      "    \n",
      "    return height_in_inches"
     ],
     "language": "python",
     "metadata": {},
     "outputs": []
    },
    {
     "cell_type": "code",
     "collapsed": false,
     "input": [],
     "language": "python",
     "metadata": {},
     "outputs": []
    },
    {
     "cell_type": "code",
     "collapsed": false,
     "input": [],
     "language": "python",
     "metadata": {},
     "outputs": []
    },
    {
     "cell_type": "code",
     "collapsed": false,
     "input": [],
     "language": "python",
     "metadata": {},
     "outputs": []
    },
    {
     "cell_type": "markdown",
     "metadata": {},
     "source": [
      "# 8. Back of the Book\n",
      "\n",
      "Not just the odd problems."
     ]
    },
    {
     "cell_type": "markdown",
     "metadata": {},
     "source": [
      "    import glob\n",
      "    import datetime\n",
      "    import re\n",
      "\n",
      "    def find_student_records(directory, extension=\"txt\"):\n",
      "        \"\"\"\n",
      "        Find all the student records in the specified directory. Specifying extension\n",
      "        is optional; defaults to \"txt\"\n",
      "\n",
      "        Returns an iterator.\n",
      "        \"\"\"\n",
      "        paths = glob.iglob(directory + '/*.' + extension)\n",
      "        return paths\n",
      "\n",
      "    def calculate_age(dob: \"datetime object\", today: \"datetime object\"=None) -> int:\n",
      "        \"\"\"Calculate the age of someone born on 'dob' on date 'today' (today if not specified)\"\"\"\n",
      "        if today is None:\n",
      "            today = datetime.datetime.today()\n",
      "\n",
      "        correction = 0\n",
      "        if today.month < dob.month:\n",
      "            correction = 1\n",
      "        elif today.month == dob.month and today.day < dob.day:\n",
      "            correction = 1\n",
      "\n",
      "        age = today.year - dob.year - correction\n",
      "\n",
      "        return age\n",
      "\n",
      "    def clean_dob(dob: \"string of form M/D/YY\") -> datetime.datetime:\n",
      "        month, day, year = dob.split('/')\n",
      "\n",
      "        month = int(month)\n",
      "        day = int(day)\n",
      "        year = int(year)\n",
      "\n",
      "        year += 1900\n",
      "        if year < 1920:\n",
      "            year += 100\n",
      "\n",
      "        dob = datetime.datetime(year=year, month=month, day=day)\n",
      "\n",
      "        return dob\n",
      "\n",
      "    def clean_height(height: \"string with format Xft,Y.ZZin\") -> float:\n",
      "        feet, inches = (float(x) for x in re.findall('[0-9.]+', height))\n",
      "        return 12 * feet + inches\n",
      "\n",
      "    def clean_weight(weight: \"string with format 123lbs\") -> float:\n",
      "        return float(re.findall('[0-9.]+', weight)[0])\n",
      "\n",
      "    def parse_student_record(path: \"pathlib object\") -> dict:\n",
      "        \"\"\"Load a data file\"\"\"\n",
      "        data = {}\n",
      "\n",
      "        with open(path) as file:\n",
      "            for line in file:\n",
      "                # ignore comment lines (those that start with \"#\")\n",
      "                if line.startswith('#'):\n",
      "                    continue\n",
      "\n",
      "                # split the line\n",
      "                parts = line.split(':')\n",
      "\n",
      "                # make sure the line has the correct number of parts\n",
      "                if len(parts) != 2:\n",
      "                    continue\n",
      "\n",
      "                # clean up the parts (strip whitespace) and store them\n",
      "                key, value = parts\n",
      "                key = key.strip()\n",
      "                value = value.strip()\n",
      "\n",
      "                data[key] = value\n",
      "\n",
      "        data['Date of Birth'] = clean_dob(data['Date of Birth'])\n",
      "        data['Weight'] = clean_weight(data['Weight'])\n",
      "        data['Height'] = clean_height(data['Height'])\n",
      "\n",
      "        return data\n",
      "\n",
      "    THRESHOLD = 25\n",
      "\n",
      "    data_dir = \"../Data/Roster\"\n",
      "\n",
      "    # list comprehensions and generators can be used for some efficiency and brevity.\n",
      "    records = [parse_student_record(f) for f in find_student_records(data_dir)]\n",
      "    n_march = sum(1 for r in records if r['Date of Birth'].month == 3)\n",
      "    n_youths = sum(1 for r in records if calculate_age(r['Date of Birth']) < THRESHOLD)\n",
      "    tallest = max(records, key=lambda r: r['Height'])\n",
      "\n",
      "    # longer method\n",
      "    n_march = 0\n",
      "    n_youths = 0\n",
      "    tallest = {'Height': 0}\n",
      "    for f in find_student_records(data_dir):\n",
      "        data = parse_student_record(f)\n",
      "        if data['Date of Birth'].month == 3:\n",
      "            n_march += 1\n",
      "        if calculate_age(data['Date of Birth']) < THRESHOLD:\n",
      "            n_youths += 1\n",
      "        if data['Height'] > tallest['Height']:\n",
      "            tallest = data\n",
      "\n",
      "    print('{} people born in March.'.format(n_march))\n",
      "    print('{} people younger than {}.'.format(n_youths, THRESHOLD))\n",
      "    print('{} is the tallest ({:.1f} inches or {:.0f} cm).'.format(\n",
      "        tallest['Name'], tallest['Height'], tallest['Height'] * 2.54))"
     ]
    },
    {
     "cell_type": "code",
     "collapsed": false,
     "input": [],
     "language": "python",
     "metadata": {},
     "outputs": []
    }
   ],
   "metadata": {}
  }
 ]
}