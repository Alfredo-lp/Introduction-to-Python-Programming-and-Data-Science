{
 "metadata": {
  "name": "",
  "signature": "sha256:88764736ed3eae8dc4dc963925f513c65b1e2a02c5bde22639737c75642c5f28"
 },
 "nbformat": 3,
 "nbformat_minor": 0,
 "worksheets": [
  {
   "cells": [
    {
     "cell_type": "heading",
     "level": 1,
     "metadata": {},
     "source": [
      "Statistics II"
     ]
    },
    {
     "cell_type": "heading",
     "level": 2,
     "metadata": {},
     "source": [
      "Inferential statistics"
     ]
    },
    {
     "cell_type": "markdown",
     "metadata": {},
     "source": [
      "The goal of descriptive statistics is to gain sufficient insight into our data to enable us to develop hypotheses about what process generated the data. These hypotheses are called **null models**. \n",
      "\n",
      "The process can be a physical model, which may or may not predict the value of the parameters necessary to describe the statistical properties of the data. The process can also be a statistical model.\n",
      "\n",
      "Using inferential statistics, one determines whether a given null hypothesis is consistent with the data."
     ]
    },
    {
     "cell_type": "code",
     "collapsed": false,
     "input": [
      "import matplotlib.pyplot as plt\n",
      "import math\n",
      "import numpy as np\n",
      "import scipy.stats as stat"
     ],
     "language": "python",
     "metadata": {},
     "outputs": []
    },
    {
     "cell_type": "code",
     "collapsed": false,
     "input": [
      "# As you saw previously, this data has lots of mistakes.  For simplicity, here we are only going to consider\n",
      "# data that has no issues and for which the maximum GPA is 4.0.\n",
      "\n",
      "from path import Path\n",
      "\n",
      "folder = Path('/Users/amaral/Desktop/BoxSync/Intro_Data_Science/')\n",
      "folder.chdir()\n",
      "\n",
      "with open('Data/gpa_data.csv', \"r\") as data_file:\n",
      "    all_lines = data_file.readlines()\n",
      "\n",
      "gpa_list = []\n",
      "for line in all_lines[1:]:\n",
      "    gpa_list.append( line.strip().split(\",\") )\n",
      "    \n",
      "gpa = []\n",
      "for x in gpa_list[1:]:\n",
      "    try:\n",
      "        if (float(x[1]) == 4.):\n",
      "            try:\n",
      "                gpa.append(float(x[0]))\n",
      "            except:\n",
      "                pass\n",
      "    except:\n",
      "        pass\n",
      "    \n",
      "def half_frame(sub, xaxis_label, yaxis_label, font_size = 15, padding = -0.02):\n",
      "    \"\"\"Formats frame, axes, and ticks for matplotlib made graphic with half frame.\"\"\"\n",
      "\n",
      "    # Format graph frame and tick marks\n",
      "    sub.yaxis.set_ticks_position('left')\n",
      "    sub.xaxis.set_ticks_position('bottom')\n",
      "    sub.tick_params(axis = 'both', which = 'major', length = 7, width = 2, direction = 'out', pad = 10,\n",
      "                    labelsize = font_size)\n",
      "    sub.tick_params(axis = 'both', which = 'minor', length = 5, width = 2, direction = 'out', labelsize = 10)\n",
      "    for axis in ['bottom','left']:\n",
      "        sub.spines[axis].set_linewidth(2)\n",
      "        sub.spines[axis].set_position((\"axes\", padding))\n",
      "    for axis in ['top','right']:\n",
      "        sub.spines[axis].set_visible(False)\n",
      "\n",
      "    # Format axes\n",
      "    sub.set_xlabel(xaxis_label, fontsize = 1.6 * font_size)\n",
      "    sub.set_ylabel(yaxis_label, fontsize = 1.6 * font_size)"
     ],
     "language": "python",
     "metadata": {},
     "outputs": []
    },
    {
     "cell_type": "code",
     "collapsed": false,
     "input": [
      "fig = plt.figure( figsize = (6, 4.5) )\n",
      "sub1 = fig.add_subplot(1,1,1)\n",
      "my_font_size = 15\n",
      "half_frame(sub1, \"GPA\", \"Probability density\", font_size = my_font_size)\n",
      "\n",
      "# Calculate and plot histogram\n",
      "sub1.hist(gpa, 25, normed = 1, rwidth = 0.75, color = \"g\", alpha = 0.5, histtype = \"bar\", \n",
      "          label = \"data\", cumulative = False)\n",
      "\n",
      "## Gaussian null models\n",
      "mu = np.mean(gpa)\n",
      "sigma = np.std(gpa)\n",
      "x3 = np.linspace(stat.norm.ppf(0.0001, loc = mu, scale = sigma), \n",
      "                 min(4, stat.norm.ppf(0.9999, loc = mu, scale = sigma)), \n",
      "                 100)\n",
      "rv3 = stat.norm(loc = mu, scale = sigma)\n",
      "rv4 = stat.norm(loc = float(stat.mode(gpa)[0]) - 0.1, \n",
      "                scale = sigma)\n",
      "\n",
      "sub1.plot(x3, rv3.pdf(x3), color = \"b\", lw = 2, label= \"Gaussian\")\n",
      "sub1.plot(x3, rv4.pdf(x3), color = \"r\", lw = 2, label= \"Gaussian\")\n",
      "\n",
      "# Format legend\n",
      "sub1.legend(loc = \"best\", frameon = False, markerscale = 1.8, fontsize = my_font_size)\n",
      "\n",
      "plt.show()"
     ],
     "language": "python",
     "metadata": {},
     "outputs": []
    },
    {
     "cell_type": "code",
     "collapsed": false,
     "input": [
      "mu_f, std_f = stat.norm.fit(gpa)\n",
      "print(mu_f,std_f)"
     ],
     "language": "python",
     "metadata": {},
     "outputs": []
    },
    {
     "cell_type": "code",
     "collapsed": false,
     "input": [
      "fig = plt.figure( figsize = (6, 4.5) )\n",
      "sub1 = fig.add_subplot(1,1,1)\n",
      "my_font_size = 15\n",
      "half_frame(sub1, \"GPA\", \"Probability density\", font_size = my_font_size)\n",
      "\n",
      "# Calculate and plot histogram\n",
      "sub1.hist(gpa, 25, normed = 1, rwidth = 0.75, color = \"g\", alpha = 0.5, histtype = \"bar\", \n",
      "          label = \"data\", cumulative = False)\n",
      "\n",
      "## Gaussian null models\n",
      "mu = mu_f\n",
      "sigma = std_f\n",
      "x3 = np.linspace(stat.norm.ppf(0.0001, loc = mu, scale = sigma), \n",
      "                 min(4, stat.norm.ppf(0.9999, loc = mu, scale = sigma)), \n",
      "                 100)\n",
      "rv3 = stat.norm(loc = mu, scale = sigma)\n",
      "\n",
      "sub1.plot(x3, rv3.pdf(x3), color = \"b\", lw = 2, label= \"Gaussian\")\n",
      "\n",
      "# Format legend\n",
      "sub1.legend(loc = \"best\", frameon = False, markerscale = 1.8, fontsize = my_font_size)\n",
      "\n",
      "plt.show()"
     ],
     "language": "python",
     "metadata": {},
     "outputs": []
    },
    {
     "cell_type": "code",
     "collapsed": false,
     "input": [],
     "language": "python",
     "metadata": {},
     "outputs": []
    }
   ],
   "metadata": {}
  }
 ]
}