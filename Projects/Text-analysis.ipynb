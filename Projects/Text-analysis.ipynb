{
 "cells": [
  {
   "cell_type": "markdown",
   "metadata": {},
   "source": [
    "#Text analysis\n",
    "A lot of people's projects involve text. Whether it's extracting numerical data from text, or dealing with text directly, string manipulation is essential for any number of data analysis projects. \n",
    "\n",
    "Here, we're going to take a walk over to the humanities and see if we can learn anything new about everyones favorite author... William Shakespeare. If we all had to learn it, so should a computer right?\n",
    "\n",
    "1. Should _Othello_ really be called _Iago_?\n",
    "\n",
    "2. Can a computer learn the difference between a comedy and a tragedy?\n",
    "\n",
    "3. Who is the most verbose Shakespearean character?\n",
    "\n",
    "4. Who has the largest vocabulary? \n",
    "\n",
    "5. Did the complexity of Shakespeare's vocabulary change over time?\n",
    "\n",
    "6. Which is Shakespeares most feminist play?\n",
    "\n",
    "We could think of any number of quantitative questions to pursue, each requiring slightly different skills and analytical depth. But let's start with something easy and build our way up. \n",
    "\n",
    "First things first... **ALWAYS LOOK AT YOUR DATA**. Now is the time to open `'../Data/Shakespeare.txt'` and get a sense for the file formatting. (You can do this quickly by just clicking: [Shapespeare.txt](../Data/Shakespeare.txt)). \n",
    "\n",
    "Let's do a brief refresher on some text parsing basics which will give us an excuse to spoil Hamlet for you. "
   ]
  },
  {
   "cell_type": "code",
   "execution_count": 145,
   "metadata": {
    "collapsed": true
   },
   "outputs": [],
   "source": [
    "spoiler_alert = [\"O, I die, Horatio!\\n\",\n",
    "    \"The potent poison quite o'ercrows my spirit.\\n\",\n",
    "    \"I cannot live to hear the news from England,\\n\",\n",
    "    \"     But I do prophesy th' election lights\\n\",\n",
    "    \"On Fortinbras. He has my dying voice.\\n\",\n",
    "    \"So tell him, with th' occurrents, more and less,\\n\",\n",
    "    \"\\n\"             \n",
    "    \"Which have solicited- the rest is silence.             Dies.\\n\"]"
   ]
  },
  {
   "cell_type": "markdown",
   "metadata": {},
   "source": [
    "Of course, we can iterate through the lines to see what's in `spoiler_alert`"
   ]
  },
  {
   "cell_type": "code",
   "execution_count": 146,
   "metadata": {
    "collapsed": false
   },
   "outputs": [
    {
     "name": "stdout",
     "output_type": "stream",
     "text": [
      "O, I die, Horatio!\n",
      "\n",
      "The potent poison quite o'ercrows my spirit.\n",
      "\n",
      "I cannot live to hear the news from England,\n",
      "\n",
      "     But I do prophesy th' election lights\n",
      "\n",
      "On Fortinbras. He has my dying voice.\n",
      "\n",
      "So tell him, with th' occurrents, more and less,\n",
      "\n",
      "\n",
      "Which have solicited- the rest is silence.             Dies.\n",
      "\n"
     ]
    }
   ],
   "source": [
    "for line in spoiler_alert:\n",
    "    print(line)"
   ]
  },
  {
   "cell_type": "markdown",
   "metadata": {},
   "source": [
    "Remember, `\\n` is a new line character and as such isn't actually shown on the screen. It's still there, `print` just interprets it to say `new line` which is why we have a double spacing going on here. "
   ]
  },
  {
   "cell_type": "code",
   "execution_count": 147,
   "metadata": {
    "collapsed": false
   },
   "outputs": [
    {
     "name": "stdout",
     "output_type": "stream",
     "text": [
      "O, I die, Horatio!\n",
      "The potent poison quite o'ercrows my spirit.\n",
      "I cannot live to hear the news from England,\n",
      "     But I do prophesy th' election lights\n",
      "On Fortinbras. He has my dying voice.\n",
      "So tell him, with th' occurrents, more and less,\n",
      "Which have solicited- the rest is silence.             Dies.\n"
     ]
    }
   ],
   "source": [
    "for line in spoiler_alert:\n",
    "    print(line.strip('\\n'))"
   ]
  },
  {
   "cell_type": "markdown",
   "metadata": {},
   "source": [
    "Now the `\\n` is really gone, and our text isn't double spaced. But remember, the way we are doing this it is only removing the `\\n` in order to print it. We aren't actually changing the list spoiler_alert by removing the `\\n`'s in the file. Thus:"
   ]
  },
  {
   "cell_type": "code",
   "execution_count": 148,
   "metadata": {
    "collapsed": false
   },
   "outputs": [
    {
     "name": "stdout",
     "output_type": "stream",
     "text": [
      "O, I die, Horatio!\n",
      "\n",
      "The potent poison quite o'ercrows my spirit.\n",
      "\n",
      "I cannot live to hear the news from England,\n",
      "\n",
      "     But I do prophesy th' election lights\n",
      "\n",
      "On Fortinbras. He has my dying voice.\n",
      "\n",
      "So tell him, with th' occurrents, more and less,\n",
      "\n",
      "\n",
      "Which have solicited- the rest is silence.             Dies.\n",
      "\n"
     ]
    }
   ],
   "source": [
    "for line in spoiler_alert:\n",
    "    print(line)"
   ]
  },
  {
   "cell_type": "markdown",
   "metadata": {},
   "source": [
    "The `\\n` characters are still there! That's okay for now, I just wanted to remind you of this little fact. \n",
    "\n",
    "Another handy thing that we may or may not have covered by now is `enumerate`. Suppose I wanted to know the line numbers of everything? It's pretty trivial with this small little list but we won't always work with small little lists. For this, `enumerate` is a lifesaver. Let's see it in action:"
   ]
  },
  {
   "cell_type": "code",
   "execution_count": 149,
   "metadata": {
    "collapsed": false
   },
   "outputs": [
    {
     "name": "stdout",
     "output_type": "stream",
     "text": [
      "(0, 'O, I die, Horatio!\\n')\n",
      "(1, \"The potent poison quite o'ercrows my spirit.\\n\")\n",
      "(2, 'I cannot live to hear the news from England,\\n')\n",
      "(3, \"     But I do prophesy th' election lights\\n\")\n",
      "(4, 'On Fortinbras. He has my dying voice.\\n')\n",
      "(5, \"So tell him, with th' occurrents, more and less,\\n\")\n",
      "(6, '\\nWhich have solicited- the rest is silence.             Dies.\\n')\n"
     ]
    }
   ],
   "source": [
    "for line in enumerate(spoiler_alert):\n",
    "    print(line)"
   ]
  },
  {
   "cell_type": "markdown",
   "metadata": {},
   "source": [
    "`enumerate` took our list and made it a list of tuples! The first thing in each tuple was the index within the list, and the second item is the actual item as it resides in the list. This may come in handy later, but for now treat it as a brief aside."
   ]
  },
  {
   "cell_type": "markdown",
   "metadata": {},
   "source": [
    "So `string.strip('\\n')` removed the `\\n` characters. But there is still that weird spacing before \"But I do prophesy...\". \n",
    "\n",
    "We can just say `string.strip()` and by default it will remove _all_ white space which includes `\\t` (tab) `\\n` (new line) and '' (spaces) from both the right _and_ left ends"
   ]
  },
  {
   "cell_type": "code",
   "execution_count": 150,
   "metadata": {
    "collapsed": false
   },
   "outputs": [
    {
     "name": "stdout",
     "output_type": "stream",
     "text": [
      "O, I die, Horatio!\n",
      "The potent poison quite o'ercrows my spirit.\n",
      "I cannot live to hear the news from England,\n",
      "But I do prophesy th' election lights\n",
      "On Fortinbras. He has my dying voice.\n",
      "So tell him, with th' occurrents, more and less,\n",
      "Which have solicited- the rest is silence.             Dies.\n"
     ]
    }
   ],
   "source": [
    "for line in spoiler_alert:\n",
    "    print(line.strip())"
   ]
  },
  {
   "cell_type": "markdown",
   "metadata": {},
   "source": [
    "Remember, this doesn't remove anything from the center. There is still a ton of space before 'Dies', for instance. `strip()` will only remove from the ends. Not a problem for us but something else to remember. \n",
    "\n",
    "Let's do a little searching:"
   ]
  },
  {
   "cell_type": "code",
   "execution_count": 151,
   "metadata": {
    "collapsed": false
   },
   "outputs": [
    {
     "name": "stdout",
     "output_type": "stream",
     "text": [
      "The potent poison quite o'ercrows my spirit.\n",
      "\n"
     ]
    }
   ],
   "source": [
    "for line in spoiler_alert:\n",
    "    if 'The' in line:\n",
    "        print(line)"
   ]
  },
  {
   "cell_type": "markdown",
   "metadata": {},
   "source": [
    "Why isn't line 3 (\"I cannot live...\") or 6 (\"Which have solicited...\") printed to the screen?\n",
    "\n",
    "Capitalization counts!"
   ]
  },
  {
   "cell_type": "code",
   "execution_count": 152,
   "metadata": {
    "collapsed": false
   },
   "outputs": [
    {
     "name": "stdout",
     "output_type": "stream",
     "text": [
      "I cannot live to hear the news from England,\n",
      "\n",
      "\n",
      "Which have solicited- the rest is silence.             Dies.\n",
      "\n"
     ]
    }
   ],
   "source": [
    "for line in spoiler_alert:\n",
    "    if 'the' in line:\n",
    "        print(line)"
   ]
  },
  {
   "cell_type": "markdown",
   "metadata": {},
   "source": [
    "Maybe we don't care about capitalization, and just want to know if 'the' appears anywhere within the line. We can convert the line to all lowercase!"
   ]
  },
  {
   "cell_type": "code",
   "execution_count": 153,
   "metadata": {
    "collapsed": false
   },
   "outputs": [
    {
     "name": "stdout",
     "output_type": "stream",
     "text": [
      "The potent poison quite o'ercrows my spirit.\n",
      "\n",
      "I cannot live to hear the news from England,\n",
      "\n",
      "\n",
      "Which have solicited- the rest is silence.             Dies.\n",
      "\n"
     ]
    }
   ],
   "source": [
    "for line in spoiler_alert:\n",
    "    if 'the' in line.lower():\n",
    "        print(line)"
   ]
  },
  {
   "cell_type": "markdown",
   "metadata": {},
   "source": [
    "The same works for uppercase:"
   ]
  },
  {
   "cell_type": "code",
   "execution_count": 154,
   "metadata": {
    "collapsed": true
   },
   "outputs": [],
   "source": [
    "for line in spoiler_alert:\n",
    "    if 'the' in line.upper():\n",
    "        print(line)"
   ]
  },
  {
   "cell_type": "markdown",
   "metadata": {},
   "source": [
    "We didn't find anything here because we made the lines uppercase, therefore `the` never appears in any of them. We might have meant to say:"
   ]
  },
  {
   "cell_type": "code",
   "execution_count": 155,
   "metadata": {
    "collapsed": false
   },
   "outputs": [
    {
     "name": "stdout",
     "output_type": "stream",
     "text": [
      "The potent poison quite o'ercrows my spirit.\n",
      "\n",
      "I cannot live to hear the news from England,\n",
      "\n",
      "\n",
      "Which have solicited- the rest is silence.             Dies.\n",
      "\n"
     ]
    }
   ],
   "source": [
    "for line in spoiler_alert:\n",
    "    if 'THE' in line.upper():\n",
    "        print(line)"
   ]
  },
  {
   "cell_type": "markdown",
   "metadata": {},
   "source": [
    "Again we found all three lines!\n",
    "\n",
    "Is that the only way to find something in a line? Of course not! Programming wouldn't be fun if there weren't 1000 ways to do the same thing. "
   ]
  },
  {
   "cell_type": "code",
   "execution_count": 156,
   "metadata": {
    "collapsed": false
   },
   "outputs": [
    {
     "name": "stdout",
     "output_type": "stream",
     "text": [
      "I cannot live to hear the news from England, 22\n",
      "Which have solicited- the rest is silence.             Dies. 23\n"
     ]
    }
   ],
   "source": [
    "for line in spoiler_alert:\n",
    "    if line.find('the') != -1:\n",
    "        print(line.strip(), line.find('the'))"
   ]
  },
  {
   "cell_type": "markdown",
   "metadata": {},
   "source": [
    "`find` doesn't just tell us if the text appears in the string. It tells us exactly where the text appears in the line. And if it doesn't find 'the' it just returns -1. \n",
    "\n",
    "`index` works similarly:"
   ]
  },
  {
   "cell_type": "code",
   "execution_count": 157,
   "metadata": {
    "collapsed": false
   },
   "outputs": [
    {
     "ename": "ValueError",
     "evalue": "substring not found",
     "output_type": "error",
     "traceback": [
      "\u001b[0;31m---------------------------------------------------------------------------\u001b[0m",
      "\u001b[0;31mValueError\u001b[0m                                Traceback (most recent call last)",
      "\u001b[0;32m<ipython-input-157-e8886990d643>\u001b[0m in \u001b[0;36m<module>\u001b[0;34m()\u001b[0m\n\u001b[1;32m      1\u001b[0m \u001b[0;32mfor\u001b[0m \u001b[0mline\u001b[0m \u001b[0;32min\u001b[0m \u001b[0mspoiler_alert\u001b[0m\u001b[0;34m:\u001b[0m\u001b[0;34m\u001b[0m\u001b[0m\n\u001b[0;32m----> 2\u001b[0;31m     \u001b[0;32mif\u001b[0m \u001b[0mline\u001b[0m\u001b[0;34m.\u001b[0m\u001b[0mindex\u001b[0m\u001b[0;34m(\u001b[0m\u001b[0;34m'the'\u001b[0m\u001b[0;34m)\u001b[0m \u001b[0;34m!=\u001b[0m \u001b[0;34m-\u001b[0m\u001b[0;36m1\u001b[0m\u001b[0;34m:\u001b[0m\u001b[0;34m\u001b[0m\u001b[0m\n\u001b[0m\u001b[1;32m      3\u001b[0m         \u001b[0mprint\u001b[0m\u001b[0;34m(\u001b[0m\u001b[0mline\u001b[0m\u001b[0;34m.\u001b[0m\u001b[0mstrip\u001b[0m\u001b[0;34m(\u001b[0m\u001b[0;34m)\u001b[0m\u001b[0;34m,\u001b[0m \u001b[0mline\u001b[0m\u001b[0;34m.\u001b[0m\u001b[0mfind\u001b[0m\u001b[0;34m(\u001b[0m\u001b[0;34m'the'\u001b[0m\u001b[0;34m)\u001b[0m\u001b[0;34m)\u001b[0m\u001b[0;34m\u001b[0m\u001b[0m\n",
      "\u001b[0;31mValueError\u001b[0m: substring not found"
     ]
    }
   ],
   "source": [
    "for line in spoiler_alert:\n",
    "    if line.index('the') != -1:\n",
    "        print(line.strip(), line.find('the'))"
   ]
  },
  {
   "cell_type": "markdown",
   "metadata": {},
   "source": [
    "Except for the fact that when you use `index`, if the string isn't found it raises an error. So we need to do something slightly different. Remember our old friend try/except?"
   ]
  },
  {
   "cell_type": "code",
   "execution_count": 158,
   "metadata": {
    "collapsed": false
   },
   "outputs": [
    {
     "name": "stdout",
     "output_type": "stream",
     "text": [
      "I cannot live to hear the news from England, 22\n",
      "Which have solicited- the rest is silence.             Dies. 23\n"
     ]
    }
   ],
   "source": [
    "for line in spoiler_alert:\n",
    "    try:\n",
    "        print(line.strip(), line.index('the'))\n",
    "    except:\n",
    "        pass"
   ]
  },
  {
   "cell_type": "markdown",
   "metadata": {},
   "source": [
    "Alright, so we know how to search for things inside of strings. Remember, it's pretty easy to find the line number where things occurred by using `enumerate`:"
   ]
  },
  {
   "cell_type": "code",
   "execution_count": 159,
   "metadata": {
    "collapsed": false
   },
   "outputs": [
    {
     "name": "stdout",
     "output_type": "stream",
     "text": [
      "1\n",
      "2\n",
      "6\n"
     ]
    }
   ],
   "source": [
    "for line in enumerate(spoiler_alert):\n",
    "    if 'the' in line[1].lower(): #We have to look in the string, which is index one in the enumerate tuple\n",
    "        print(line[0])"
   ]
  },
  {
   "cell_type": "markdown",
   "metadata": {},
   "source": [
    "So 'the' in some form or another appears on lines 1, 2, and 6. This might be useful information for you to have at some point. \n",
    "\n",
    "Let's get a refresher on splitting strings up a bit. Maybe we actually just want to look at the words in each line as a list rather than working with the entire line as a string:"
   ]
  },
  {
   "cell_type": "code",
   "execution_count": 160,
   "metadata": {
    "collapsed": false
   },
   "outputs": [
    {
     "name": "stdout",
     "output_type": "stream",
     "text": [
      "['O', ' I die', ' Horatio!\\n']\n",
      "[\"The potent poison quite o'ercrows my spirit.\\n\"]\n",
      "['I cannot live to hear the news from England', '\\n']\n",
      "[\"     But I do prophesy th' election lights\\n\"]\n",
      "['On Fortinbras. He has my dying voice.\\n']\n",
      "['So tell him', \" with th' occurrents\", ' more and less', '\\n']\n",
      "['\\nWhich have solicited- the rest is silence.             Dies.\\n']\n"
     ]
    }
   ],
   "source": [
    "for line in spoiler_alert:\n",
    "        print(line.split(','))"
   ]
  },
  {
   "cell_type": "markdown",
   "metadata": {},
   "source": [
    "Here we split up each line and made it a list according to where the commas occurr. If there were no commas, then the line just became a list with a single element. If there were commas, the string was split into separate strings based on the position of those commas. Notice that the commas themselves are gone! \n",
    "\n",
    "We could also split them up based on spaces to isolate single words:"
   ]
  },
  {
   "cell_type": "code",
   "execution_count": 161,
   "metadata": {
    "collapsed": false
   },
   "outputs": [
    {
     "name": "stdout",
     "output_type": "stream",
     "text": [
      "['O,', 'I', 'die,', 'Horatio!\\n']\n",
      "['The', 'potent', 'poison', 'quite', \"o'ercrows\", 'my', 'spirit.\\n']\n",
      "['I', 'cannot', 'live', 'to', 'hear', 'the', 'news', 'from', 'England,\\n']\n",
      "['', '', '', '', '', 'But', 'I', 'do', 'prophesy', \"th'\", 'election', 'lights\\n']\n",
      "['On', 'Fortinbras.', 'He', 'has', 'my', 'dying', 'voice.\\n']\n",
      "['So', 'tell', 'him,', 'with', \"th'\", 'occurrents,', 'more', 'and', 'less,\\n']\n",
      "['\\nWhich', 'have', 'solicited-', 'the', 'rest', 'is', 'silence.', '', '', '', '', '', '', '', '', '', '', '', '', 'Dies.\\n']\n"
     ]
    }
   ],
   "source": [
    "for line in spoiler_alert:\n",
    "        print(line.split(' '))"
   ]
  },
  {
   "cell_type": "markdown",
   "metadata": {},
   "source": [
    "The last word in each line still has that pesky '`\\n`' so lets put some commands together:"
   ]
  },
  {
   "cell_type": "code",
   "execution_count": 162,
   "metadata": {
    "collapsed": false
   },
   "outputs": [
    {
     "name": "stdout",
     "output_type": "stream",
     "text": [
      "['O,', 'I', 'die,', 'Horatio!']\n",
      "['The', 'potent', 'poison', 'quite', \"o'ercrows\", 'my', 'spirit.']\n",
      "['I', 'cannot', 'live', 'to', 'hear', 'the', 'news', 'from', 'England,']\n",
      "['But', 'I', 'do', 'prophesy', \"th'\", 'election', 'lights']\n",
      "['On', 'Fortinbras.', 'He', 'has', 'my', 'dying', 'voice.']\n",
      "['So', 'tell', 'him,', 'with', \"th'\", 'occurrents,', 'more', 'and', 'less,']\n",
      "['Which', 'have', 'solicited-', 'the', 'rest', 'is', 'silence.', '', '', '', '', '', '', '', '', '', '', '', '', 'Dies.']\n"
     ]
    }
   ],
   "source": [
    "for line in spoiler_alert:\n",
    "        print(line.strip().split(' '))"
   ]
  },
  {
   "cell_type": "markdown",
   "metadata": {},
   "source": [
    "The operations were performed in order. First we stripped white space off the left and right sides of the string. Then, whatever that created was split into a list based on spaces. Now we have a list of words for each line, but what if we wanted a list of words for the entire text?"
   ]
  },
  {
   "cell_type": "code",
   "execution_count": 163,
   "metadata": {
    "collapsed": false
   },
   "outputs": [
    {
     "name": "stdout",
     "output_type": "stream",
     "text": [
      "['O,', 'I', 'die,', 'Horatio!', 'The', 'potent', 'poison', 'quite', \"o'ercrows\", 'my', 'spirit.', 'I', 'cannot', 'live', 'to', 'hear', 'the', 'news', 'from', 'England,', 'But', 'I', 'do', 'prophesy', \"th'\", 'election', 'lights', 'On', 'Fortinbras.', 'He', 'has', 'my', 'dying', 'voice.', 'So', 'tell', 'him,', 'with', \"th'\", 'occurrents,', 'more', 'and', 'less,', 'Which', 'have', 'solicited-', 'the', 'rest', 'is', 'silence.', '', '', '', '', '', '', '', '', '', '', '', '', 'Dies.']\n"
     ]
    }
   ],
   "source": [
    "total_list = []\n",
    "for line in spoiler_alert:\n",
    "    line_as_list = line.strip().split(' ')\n",
    "    for word in line_as_list:\n",
    "        total_list.append(word)\n",
    "print(total_list)"
   ]
  },
  {
   "cell_type": "markdown",
   "metadata": {},
   "source": [
    "This isn't so bad, but there are still some weird things in here that we probably don't want. For instance all of those empty strings that precede 'Dies'. Or maybe some of the punctuation. "
   ]
  },
  {
   "cell_type": "code",
   "execution_count": 164,
   "metadata": {
    "collapsed": false
   },
   "outputs": [
    {
     "name": "stdout",
     "output_type": "stream",
     "text": [
      "['O,', 'I', 'die,', 'Horatio', 'The', 'potent', 'poison', 'quite', \"o'ercrows\", 'my', 'spirit.', 'I', 'cannot', 'live', 'to', 'hear', 'the', 'news', 'from', 'England,', 'But', 'I', 'do', 'prophesy', \"th'\", 'election', 'lights', 'On', 'Fortinbras.', 'He', 'has', 'my', 'dying', 'voice.', 'So', 'tell', 'him,', 'with', \"th'\", 'occurrents,', 'more', 'and', 'less,', 'Which', 'have', 'solicited-', 'the', 'rest', 'is', 'silence.', '', '', '', '', '', '', '', '', '', '', '', '', 'Dies.']\n"
     ]
    }
   ],
   "source": [
    "total_list = []\n",
    "for line in spoiler_alert:\n",
    "    line_as_list = line.strip().split(' ')\n",
    "    for word in line_as_list:\n",
    "        total_list.append(word.rstrip('!'))\n",
    "print(total_list)"
   ]
  },
  {
   "cell_type": "markdown",
   "metadata": {},
   "source": [
    "Here we're stripping (from the right side only) the exclamation marks. But we might also want to strip the periods, colons, semi-colons, and question marks. We can just lump all these guys into rstrip:"
   ]
  },
  {
   "cell_type": "code",
   "execution_count": 165,
   "metadata": {
    "collapsed": false
   },
   "outputs": [
    {
     "name": "stdout",
     "output_type": "stream",
     "text": [
      "['O,', 'I', 'die,', 'Horatio', 'The', 'potent', 'poison', 'quite', \"o'ercrows\", 'my', 'spirit', 'I', 'cannot', 'live', 'to', 'hear', 'the', 'news', 'from', 'England,', 'But', 'I', 'do', 'prophesy', \"th'\", 'election', 'lights', 'On', 'Fortinbras', 'He', 'has', 'my', 'dying', 'voice', 'So', 'tell', 'him,', 'with', \"th'\", 'occurrents,', 'more', 'and', 'less,', 'Which', 'have', 'solicited', 'the', 'rest', 'is', 'silence', '', '', '', '', '', '', '', '', '', '', '', '', 'Dies']\n"
     ]
    }
   ],
   "source": [
    "total_list = []\n",
    "for line in spoiler_alert:\n",
    "    line_as_list = line.strip().split(' ')\n",
    "    for word in line_as_list:\n",
    "        total_list.append(word.rstrip('!?.-;:'))\n",
    "print(total_list)"
   ]
  },
  {
   "cell_type": "markdown",
   "metadata": {},
   "source": [
    "We'll still have `'`s but maybe we want to keep them? Also how do we feel about hyphenated words? Our current practice will keep `well-known` as one long word. Perhaps we are okay with that, and perhaps not. It's a limitation to be aware of.\n",
    "\n",
    "Let's wrap this up with a few little changes"
   ]
  },
  {
   "cell_type": "code",
   "execution_count": 166,
   "metadata": {
    "collapsed": false
   },
   "outputs": [
    {
     "name": "stdout",
     "output_type": "stream",
     "text": [
      "['o,', 'i', 'die,', 'horatio', 'the', 'potent', 'poison', 'quite', \"o'ercrows\", 'my', 'spirit', 'i', 'cannot', 'live', 'to', 'hear', 'the', 'news', 'from', 'england,', 'but', 'i', 'do', 'prophesy', \"th'\", 'election', 'lights', 'on', 'fortinbras', 'he', 'has', 'my', 'dying', 'voice', 'so', 'tell', 'him,', 'with', \"th'\", 'occurrents,', 'more', 'and', 'less,', 'which', 'have', 'solicited', 'the', 'rest', 'is', 'silence', 'dies']\n"
     ]
    }
   ],
   "source": [
    "total_list = []\n",
    "for line in spoiler_alert:\n",
    "    line_as_list = line.strip().split(' ')\n",
    "    for word in line_as_list:\n",
    "        if len(word) > 0:\n",
    "            total_list.append(word.rstrip('!?.-;:').lower())\n",
    "print(total_list)"
   ]
  },
  {
   "cell_type": "markdown",
   "metadata": {},
   "source": [
    "Now we can at least get word counts. For which we'll rely on Counter:"
   ]
  },
  {
   "cell_type": "code",
   "execution_count": 167,
   "metadata": {
    "collapsed": false
   },
   "outputs": [
    {
     "data": {
      "text/plain": [
       "Counter({'i': 3, 'the': 3, 'my': 2, \"th'\": 2, 'with': 1, 'dying': 1, 'cannot': 1, 'spirit': 1, 'do': 1, 'hear': 1, 'and': 1, 'quite': 1, 'prophesy': 1, 'silence': 1, 'to': 1, 'die,': 1, 'but': 1, 'voice': 1, 'election': 1, 'tell': 1, 'live': 1, 'fortinbras': 1, 'have': 1, 'less,': 1, 'so': 1, 'more': 1, 'which': 1, 'horatio': 1, 'occurrents,': 1, 'poison': 1, 'potent': 1, 'rest': 1, 'o,': 1, 'him,': 1, 'lights': 1, 'on': 1, 'he': 1, 'england,': 1, 'dies': 1, 'from': 1, 'is': 1, 'solicited': 1, 'news': 1, \"o'ercrows\": 1, 'has': 1})"
      ]
     },
     "execution_count": 167,
     "metadata": {},
     "output_type": "execute_result"
    }
   ],
   "source": [
    "from collections import Counter\n",
    "Counter(total_list)"
   ]
  },
  {
   "cell_type": "markdown",
   "metadata": {},
   "source": [
    "#Back to Shakespeare.txt\n",
    "\n",
    "So we were able to get a dictionary of all the word counts in our little sample text. Of course, we're not working with a sample text. Our text is gigantic and contains a lot of stuff we don't need. So let's get serious and move on to some big(-ger) data. We need to start by reading in the file using python:"
   ]
  },
  {
   "cell_type": "code",
   "execution_count": 168,
   "metadata": {
    "collapsed": true
   },
   "outputs": [],
   "source": [
    "complete_works = open('../Data/Shakespeare.txt').readlines()"
   ]
  },
  {
   "cell_type": "markdown",
   "metadata": {},
   "source": [
    "For the next few tasks, I'm only interested  in 'Othello'. So look at where Othello begins in the file: how are we going to extract Othello and _only_ Othello from this large list of lines? How do _we_ know when Othello begins and ends?\n",
    "\n",
    "**Exercise:** Iterate through `complete_works` and add only the lines relevant to 'Othello' to the new list `othello_lines`. (remember CAPITALIZATION counts!)"
   ]
  },
  {
   "cell_type": "code",
   "execution_count": 169,
   "metadata": {
    "collapsed": false
   },
   "outputs": [],
   "source": [
    "othello_lines = []\n",
    "###Place your code here\n",
    "\n",
    "###Answer\n",
    "othello = False\n",
    "for line in complete_works:\n",
    "    if 'THE TRAGEDY OF OTHELLO' in line:\n",
    "        othello = True\n",
    "    if othello == True:\n",
    "        othello_lines.append(line)\n",
    "        if 'THE END' in line:\n",
    "            othello = False"
   ]
  },
  {
   "cell_type": "markdown",
   "metadata": {},
   "source": [
    "Before moving on, always make sure you really have what you _think_ you have. "
   ]
  },
  {
   "cell_type": "code",
   "execution_count": 170,
   "metadata": {
    "collapsed": false
   },
   "outputs": [
    {
     "name": "stdout",
     "output_type": "stream",
     "text": [
      "['THE TRAGEDY OF OTHELLO, MOOR OF VENICE\\n', '\\n', 'by William Shakespeare\\n', '\\n', '\\n', '\\n', 'Dramatis Personae\\n', '\\n', '  OTHELLO, the Moor, general of the Venetian forces\\n', '  DESDEMONA, his wife\\n', '  IAGO, ensign to Othello\\n', '  EMILIA, his wife, lady-in-waiting to Desdemona\\n', '  CASSIO, lieutenant to Othello\\n', '  THE DUKE OF VENICE\\n', '  BRABANTIO, Venetian Senator, father of Desdemona\\n', '  GRATIANO, nobleman of Venice, brother of Brabantio\\n', '  LODOVICO, nobleman of Venice, kinsman of Brabantio\\n', '  RODERIGO, rejected suitor of Desdemona\\n', '  BIANCA, mistress of Cassio\\n', '  MONTANO, a Cypriot official\\n']\n",
      "**************\n",
      "[\"  GRATIANO.                  All that's spoke is marr'd.\\n\", \"  OTHELLO. I kiss'd thee ere I kill'd thee. No way but this,\\n\", '    Killing myself, to die upon a kiss.\\n', '                                          Falls on the bed, and dies.\\n', '  CASSIO. This did I fear, but thought he had no weapon;\\n', '    For he was great of heart.\\n', '  LODOVICO.         [To Iago.] O Spartan dog,\\n', '    More fell than anguish, hunger, or the sea!\\n', '    Look on the tragic loading of this bed;\\n', '    This is thy work. The object poisons sight;\\n', '    Let it be hid. Gratiano, keep the house,\\n', '    And seize upon the fortunes of the Moor,\\n', '    For they succeed on you. To you, Lord Governor,\\n', '    Remains the censure of this hellish villain,\\n', '    The time, the place, the torture. O, enforce it!\\n', '    Myself will straight aboard, and to the state\\n', '    This heavy act with heavy heart relate.                   Exeunt.\\n', '\\n', '\\n', 'THE END\\n']\n"
     ]
    }
   ],
   "source": [
    "print(othello_lines[0:20])\n",
    "print('**************')\n",
    "print(othello_lines[-20:])"
   ]
  },
  {
   "cell_type": "markdown",
   "metadata": {},
   "source": [
    "#Dialogue\n",
    "So we should all have a line-by-line reading of Othello. Now what? Well, your choice here is going to depend a lot on what you want to analyze! I'm particularly interested in knowing whether Othello or Iago is smarter. Specifically, what is the size of their vocabulary? And how does it compare to that of other characters?\n",
    "\n",
    "First off, since we only care about OTHELLO and IAGO, maybe it's not worth our time trying to extract the character list. If we want to compare the vocabulary of other characters, we'll have to do this but for now let's just worry about OTHELLO and IAGO. The fact that they are capitalized makes things nice and easy for us (their names _probably_ aren't capialized when they are referred to in dialogue from other characters. Can we be sure? No. As a rough approximation? Sure.).\n",
    "```\n",
    "\"  CHARACTER. blahblahblah\n",
    "     blahblahblah\"\n",
    "```\n",
    "Two things jump out at me. How about you?\n",
    "\n",
    "1. Before a character speaks there are always (usually?) *2* spaces, followed by the character in all capital letters, followed by a period. \n",
    "2. It also looks like some speeches are longer than a single line, but those speeches have 4 spaces(!). We'll make note of that for later."
   ]
  },
  {
   "cell_type": "code",
   "execution_count": 171,
   "metadata": {
    "collapsed": false,
    "scrolled": true
   },
   "outputs": [
    {
     "name": "stdout",
     "output_type": "stream",
     "text": [
      "  LODOVICO. Where is this rash and most unfortunate man?\n",
      "  OTHELLO. That's he that was Othello. Here I am.\n",
      "  LODOVICO. Where is that viper? Bring the villain forth.\n",
      "  OTHELLO. I look down towards his feet; but that's a fable.\n",
      "    If that thou be'st a devil, I cannot kill thee.      Wounds Iago.\n",
      "  LODOVICO. Wrench his sword from him.\n",
      "  IAGO.                                I bleed, sir, but not kill'd.\n",
      "  OTHELLO. I am not sorry neither. I'ld have thee live,\n",
      "    For, in my sense, 'tis happiness to die.\n",
      "  LODOVICO. O thou Othello, that wert once so good,\n",
      "    Fall'n in the practice of a damned slave,\n",
      "    What shall be said to thee?\n",
      "  OTHELLO.                      Why, anything;\n",
      "    An honorable murtherer, if you will,\n",
      "    For nought did I in hate, but all in honor.\n",
      "  LODOVICO. This wretch hath part confess'd his villainy.\n",
      "    Did you and he consent in Cassio's death?\n",
      "  OTHELLO. Ay.\n"
     ]
    }
   ],
   "source": [
    "sample_text = othello_lines[3792:3810]\n",
    "for line in sample_text:\n",
    "    print(line.rstrip())"
   ]
  },
  {
   "cell_type": "markdown",
   "metadata": {},
   "source": [
    "**Exercise:** Given the sample_text above, make a list of all words spoken by Lodovico"
   ]
  },
  {
   "cell_type": "code",
   "execution_count": 172,
   "metadata": {
    "collapsed": false
   },
   "outputs": [],
   "source": [
    "lodovico_list = []\n",
    "\n",
    "###Place your code here\n",
    "\n",
    "\n",
    "###Answer\n",
    "lodovico_speaking = False\n",
    "for line in sample_text:\n",
    "    if 'LODOVICO.' in line:\n",
    "        lodovico_speaking = True\n",
    "        listy = line.strip().split(' ')\n",
    "        for word in listy:\n",
    "            if len(word) > 0:\n",
    "                lodovico_list.append(word)\n",
    "    elif lodovico_speaking == True:\n",
    "        if line[:4] == '    ':\n",
    "            listy = line.strip().split(' ')\n",
    "            for word in listy:\n",
    "                if len(word) > 0:\n",
    "                    lodovico_list.append(word)\n",
    "        else:\n",
    "            lodovico_speaking = False\n",
    "    else:\n",
    "        pass"
   ]
  },
  {
   "cell_type": "code",
   "execution_count": 173,
   "metadata": {
    "collapsed": false
   },
   "outputs": [
    {
     "name": "stdout",
     "output_type": "stream",
     "text": [
      "['LODOVICO.', 'Where', 'is', 'this', 'rash', 'and', 'most', 'unfortunate', 'man?', 'LODOVICO.', 'Where', 'is', 'that', 'viper?', 'Bring', 'the', 'villain', 'forth.', 'LODOVICO.', 'Wrench', 'his', 'sword', 'from', 'him.', 'LODOVICO.', 'O', 'thou', 'Othello,', 'that', 'wert', 'once', 'so', 'good,', \"Fall'n\", 'in', 'the', 'practice', 'of', 'a', 'damned', 'slave,', 'What', 'shall', 'be', 'said', 'to', 'thee?', 'LODOVICO.', 'This', 'wretch', 'hath', 'part', \"confess'd\", 'his', 'villainy.', 'Did', 'you', 'and', 'he', 'consent', 'in', \"Cassio's\", 'death?']\n"
     ]
    }
   ],
   "source": [
    "print(lodovico_list)"
   ]
  },
  {
   "cell_type": "markdown",
   "metadata": {},
   "source": [
    "The code that we wrote above should (might?) be generalizable. But who knows. We'll have to check slowly."
   ]
  },
  {
   "cell_type": "code",
   "execution_count": 174,
   "metadata": {
    "collapsed": false,
    "scrolled": false
   },
   "outputs": [
    {
     "name": "stdout",
     "output_type": "stream",
     "text": [
      "  OTHELLO. 'Tis better as it is.\n",
      "\n",
      "  OTHELLO.               Let him do his spite.\n",
      "\n",
      "  OTHELLO.               Not I; I must be found.\n",
      "\n",
      "  OTHELLO. The servants of the Duke? And my lieutenant?\n",
      "\n",
      "  OTHELLO.               What is the matter, think you?\n",
      "\n",
      "  OTHELLO.             'Tis well I am found by you.\n",
      "\n",
      "  OTHELLO.                                     Have with you.\n",
      "\n",
      "  OTHELLO.                  Holla! Stand there!\n",
      "\n",
      "  OTHELLO. Keep up your bright swords, for the dew will rust them.\n",
      "\n",
      "  OTHELLO.                   Hold your hands,\n",
      "\n",
      "  OTHELLO.               What if I do obey?\n",
      "\n",
      "  OTHELLO. Most potent, grave, and reverend signiors,\n",
      "\n",
      "##########\n",
      "  OTHELLO. I look down towards his feet; but that's a fable.\n",
      "\n",
      "  OTHELLO. I am not sorry neither. I'ld have thee live,\n",
      "\n",
      "  OTHELLO.                      Why, anything;\n",
      "\n",
      "  OTHELLO. Ay.\n",
      "\n",
      "  OTHELLO. I do believe it, and I ask your pardon.\n",
      "\n",
      "  OTHELLO. Well, thou dost best.\n",
      "\n",
      "  OTHELLO. O villain!\n",
      "\n",
      "  OTHELLO.                     O the pernicious caitiff!\n",
      "\n",
      "  OTHELLO.                       O fool! fool! fool!\n",
      "\n",
      "  OTHELLO. Soft you; a word or two before you go.\n",
      "\n",
      "  OTHELLO. I kiss'd thee ere I kill'd thee. No way but this,\n",
      "\n"
     ]
    }
   ],
   "source": [
    "for line in othello_lines[:500]: #No reason to work with the full text while we're still learning\n",
    "    if 'OTHELLO.' in line:\n",
    "        print(line)\n",
    "print('##########')\n",
    "\n",
    "for line in othello_lines[-100:]: #No reason to work with the full text while we're still learning\n",
    "    if 'OTHELLO.' in line:\n",
    "        print(line)"
   ]
  },
  {
   "cell_type": "markdown",
   "metadata": {},
   "source": [
    "Looks good to me. Of course, this is only finding the first line that Othello speaks. Not any of his other lines. \n",
    "\n",
    "Let's go ahead and run our code on Othello and Iago to see who has a more complex vocabulary!"
   ]
  },
  {
   "cell_type": "code",
   "execution_count": 175,
   "metadata": {
    "collapsed": false
   },
   "outputs": [
    {
     "name": "stdout",
     "output_type": "stream",
     "text": [
      "Counter({'IAGO.': 272, 'I': 232, 'the': 200, 'and': 184, 'to': 159, 'a': 128, 'of': 127, 'you': 118, 'in': 109, 'my': 85, 'that': 81, 'not': 78, 'be': 75, 'is': 74, 'his': 71, 'your': 68, 'with': 67, 'And': 62, 'he': 58, 'her': 57, 'for': 56, 'it': 55, 'this': 54, 'do': 52, 'have': 51, 'him': 47, 'as': 46, 'will': 44, 'are': 44, 'me': 40, 'but': 38, 'by': 36, 'shall': 34, 'she': 31, 'so': 31, 'To': 30, 'But': 30, 'That': 28, 'Cassio': 28, 'If': 25, 'am': 24, 'would': 24, 'what': 24, 'or': 23, 'The': 22, 'You': 22, 'love': 22, 'if': 22, 'may': 21, 'on': 21, 'thy': 21, 'hath': 21, 'As': 20, 'from': 20, 'at': 20, 'see': 20, 'It': 20, 'must': 19, \"'tis\": 19, 'such': 19, 'For': 19, 'What': 19, 'out': 19, 'their': 19, 'they': 19, 'an': 18, 'She': 18, 'thou': 18, 'He': 18, 'you.': 18, 'go': 18, 'some': 17, 'all': 17, 'more': 17, 'was': 17, 'had': 17, 'My': 16, 'yet': 16, 'no': 16, \"I'll\": 16, 'good': 15, 'sir,': 15, 'you,': 15, 'think': 15, 'which': 15, 'most': 15, 'Do': 15, 'him,': 15, 'than': 14, 'our': 14, 'O': 14, 'put': 14, 'upon': 14, 'never': 14, 'How': 13, 'know': 13, 'now': 13, 'did': 13, 'O,': 13, 'Why,': 13, 'Cassio,': 12, 'lord,': 12, 'make': 12, 'very': 12, 'give': 12, 'him.': 12, 'Moor': 12, 'one': 12, 'In': 11, 'when': 11, 'own': 11, 'how': 11, 'into': 10, 'Will': 10, 'thee': 10, 'let': 10, 'honest': 10, 'then': 10, 'we': 10, 'Nay,': 10, 'What,': 10, 'yourself': 10, 'should': 10, 'here': 10, 'Though': 9, 'take': 9, 'me.': 9, 'up': 9, 'A': 9, 'them': 9, 'Come,': 9, \"'Tis\": 9, 'even': 9, 'speak': 9, 'like': 9, 'With': 9, 'Or': 9, 'much': 9, 'say': 9, 'well': 9, 'her.': 9, 'were': 9, 'there': 9, 'now,': 9, 'find': 8, 'Cassio.': 8, 'Which': 8, 'her,': 8, 'Desdemona': 8, 'cannot': 8, 'When': 8, 'And,': 8, 'too': 8, 'ever': 8, 'any': 8, 'night': 8, 'fair': 8, 'being': 7, 'us': 7, 'might': 7, 'seen': 7, 'hear': 7, 'Ay,': 7, 'so,': 7, 'again': 7, 'Yet': 7, 'can': 7, 'without': 7, 'Is': 7, 'tonight': 7, 'great': 7, 'could': 7, 'nor': 7, 'little': 7, 'other': 7, 'it.': 7, 'look': 6, 'No,': 6, 'these': 6, 'men': 6, 'nothing': 6, 'Who': 6, 'been': 6, 'fall': 6, 'stand': 6, 'heart': 6, 'noble': 6, 'Let': 6, 'indeed': 6, 'you?': 6, 'pray': 6, 'time': 6, 'Go': 6, 'cry': 6, 'where': 6, 'money': 6, 'better': 6, 'against': 6, 'Moor,': 6, 'many': 6, 'Now,': 6, 'comes': 6, 'fear': 6, 'thought': 6, 'me,': 6, 'Michael': 5, 'found': 5, 'lord?': 5, 'Exit.': 5, 'Roderigo,': 5, 'thus': 5, 'lieutenant,': 5, 'first': 5, 'come': 5, 'fellow': 5, 'reason': 5, 'Good': 5, 'Thieves!': 5, 'man.': 5, 'makes': 5, 'man': 5, 'he,': 5, 'long': 5, 'Are': 5, 'time,': 5, 'dare': 5, 'They': 5, 'This': 5, 'mark': 5, \"he's\": 5, 'Roderigo.': 5, 'on,': 5, 'things': 5, 'sure': 5, 'Marry,': 5, 'show': 5, 'wife': 5, 'From': 5, 'free': 5, 'heaven': 5, 'made': 5, 'not,': 5, 'foolish': 5, 'those': 5, 'bear': 5, 'poor': 5, 'foul': 5, 'it,': 5, \"that's\": 5, 'set': 5, 'wife.': 5, 'tell': 5, 'Exit': 5, 'Would': 4, 'ho!': 4, 'love,': 4, 'wrong': 4, 'Have': 4, 'does': 4, 'Thou': 4, 'May': 4, 'man!': 4, 'Moor.': 4, 'get': 4, 'Well,': 4, 'done': 4, 'then,': 4, 'tongue': 4, 'second': 4, \"Cassio's\": 4, 'Come': 4, 'Not': 4, 'sleep.': 4, 'watch': 4, 'hold': 4, 'At': 4, 'money.': 4, 'eye': 4, 'friend': 4, 'that,': 4, 'cause': 4, 'say,': 4, 'Faith,': 4, \"Othello's\": 4, 'dear': 4, 'in.': 4, 'after': 4, 'act': 4, 'lost': 4, 'action': 4, 'oft': 4, 'has': 4, 'following': 4, 'Sir,': 4, 'not.': 4, 'that.': 4, 'There': 4, 'By': 4, 'though': 4, 'bed': 4, 'Even': 4, 'soul': 4, 'place,': 4, 'almost': 4, 'blood': 4, \"There's\": 4, 'between': 4, 'Did': 4, 'strong': 4, 'He,': 4, 'Look': 4, 'So': 4, 'But,': 4, 'No': 4, 'Our': 3, 'rather': 3, 'Exeunt.': 3, 'Now': 3, 'none': 3, 'Out': 3, 'so?': 3, 'cast': 3, \"you'll\": 3, 'brought': 3, 'making': 3, 'quiet': 3, 'More': 3, 'duty,': 3, 'wit,': 3, 'now.': 3, \"there's\": 3, 'hand,': 3, 'then?': 3, 'Nor': 3, 'general': 3, 'thus,': 3, 'bring': 3, 'thing': 3, 'natures': 3, 'knave,': 3, 'fools': 3, 'wit': 3, 'near': 3, 'wish': 3, 'perceive': 3, 'young': 3, 'well.': 3, 'nature': 3, 'Than': 3, 'just': 3, 'all.': 3, 'handkerchief-': 3, 'business': 3, 'best': 3, 'them,': 3, 'honesty': 3, 'country': 3, 'honor': 3, 'prove': 3, \"Is't\": 3, 'eyes': 3, 'home.': 3, 'lord': 3, 'you;': 3, 'sir-': 3, '[Aside.]': 3, 'bound': 3, 'nothing;': 3, 'knew': 3, 'charge': 3, 'content': 3, 'well;': 3, '[To': 3, 'Venice': 3, 'before.': 3, 'woman': 3, 'Desdemona,': 3, 'Be': 3, 'meet': 3, 'follow': 3, 'know.': 3, 'worthy': 3, 'shalt': 3, 'beseech': 3, 'will,': 3, 'so.': 3, 'change': 3, \"you're\": 3, \"o'\": 3, 'either': 3, 'leave': 3, 'Your': 3, 'purse.': 3, 'Roderigo!': 3, 'heard': 3, 'know,': 3, 'well,': 3, 'goes': 3, 'unless': 3, 'angry?': 3, 'hate': 3, 'that?': 3, 'seem': 3, 'forever.': 3, 'hard': 3, 'These': 3, 'therefore': 3, 'pardon': 3, 'indeed.': 3, 'there?': 3, 'double': 3, 'hurt': 3, 'kind': 3, 'directly': 3, 'told': 3, 'lay': 3, 'doth': 3, 'Cyprus': 3, 'yet,': 3, 'came': 3, 'draw': 3, 'Thus': 3, 'play': 3, 'knows': 3, 'suspect': 3, 'apt': 3, 'bloody': 3, 'to,': 3, 'mistress,': 3, 'loves': 3, 'on.': 3, \"He's\": 3, 'every': 3, 'hers,': 3, 'loved': 3, 'fool': 3, 'thine': 3, 'hast': 3, 'true,': 3, 'shake': 3, 'Roderigo?': 3, 'full': 3, 'Her': 3, 'light.': 2, 'sweet': 2, 'We': 2, 'place.': 2, 'manners,': 2, 'Yet,': 2, 'native': 2, 'years,': 2, 'watch.': 2, 'hear,': 2, 'ten': 2, 'love?': 2, 'Something': 2, 'again?': 2, \"Here's\": 2, 'oft,': 2, 'One': 2, 'Cannot': 2, 'whereof': 2, 'man;': 2, 'enjoy': 2, 'changes': 2, 'jealousy!': 2, 'already': 2, 'matter,': 2, 'did.': 2, 'office.': 2, 'pleasure,': 2, 'thoughts.': 2, 'lieutenant;': 2, 'another': 2, 'win': 2, 'gentle': 2, 'gold': 2, 'stay': 2, 'devise': 2, 'Away,': 2, 'Alas,': 2, 'speaks': 2, 'fool,': 2, 'surely': 2, 'grow': 2, 'madness.': 2, 'fetch': 2, 'worse': 2, 'on?': 2, 'Behold': 2, 'Know': 2, 'folly': 2, 'list': 2, 'way,': 2, 'work': 2, 'world': 2, 'again,': 2, \"What's\": 2, 'jealous': 2, 'vile': 2, 'Montano-': 2, 'time.': 2, 'art': 2, 'daughter': 2, 'wine,': 2, 'villain': 2, 'Lieutenant-': 2, 'serve': 2, \"That's\": 2, 'devils': 2, 'devil': 2, \"ne'er\": 2, 'Who,': 2, 'Cassio?': 2, 'thyself': 2, 'enough.': 2, 'kill': 2, 'Bade': 2, 'soul,': 2, 'ho!-': 2, 'lieutenant': 2, 'handkerchief?': 2, 'After': 2, 'Roderigo': 2, 'gives': 2, 'said,': 2, 'sure.': 2, 'him;': 2, 'Arise,': 2, 'laid': 2, 'puts': 2, 'putting': 2, 'leave.': 2, 'white': 2, 'way.': 2, 'monstrous': 2, 'coming.': 2, 'importune': 2, 'suit': 2, 'strike': 2, 'lord!': 2, 'drink': 2, 'lips': 2, 'angry.': 2, 'city,': 2, 'next': 2, 'true': 2, 'forbid!': 2, 'whom': 2, 'All': 2, 'general.': 2, 'Help,': 2, 'Murther!': 2, 'kiss': 2, 'led': 2, 'here,': 2, 'goodness': 2, 'live': 2, 'lady?': 2, 'lieutenant!': 2, 'used.': 2, 'he.': 2, 'Look,': 2, 'again.': 2, 'fellows': 2, 'hand?': 2, \"God's\": 2, 'Here,': 2, 'believe': 2, 'See': 2, 'Roderigo.]': 2, 'suspicion': 2, 'see,': 2, 'so!': 2, 'mere': 2, 'lady,': 2, 'thee;': 2, 'free,': 2, 'desires': 2, 'wise;': 2, 'good,': 2, 'fit': 2, 'Emilia.': 2, \"'Zounds,\": 2, 'out,': 2, 'be,': 2, 'gallants': 2, 'him?': 2, 'entreat': 2, 'since': 2, 'small': 2, 'Lend': 2, 'lieutenant.': 2, 'sir.': 2, 'lady': 2, 'tribe': 2, 'be.': 2, 'Drown': 2, 'air': 2, 'himself': 2, 'till': 2, 'sith': 2, 'warrant': 2, 'sin,': 2, 'speech': 2, 'lose': 2, 'turn': 2, 'hand;': 2, 'call': 2, 'drunk': 2, \"Who's\": 2, 'name': 2, 'offense': 2, 'part': 2, 'Of': 2, 'for,': 2, 'spoke': 2, 'Keep': 2, 'why,': 2, 'Myself': 2, 'given': 2, 'way': 2, 'too,': 2, 'beast': 2, 'me;': 2, 'close': 2, 'plague': 2, 'service': 2, 'wine': 2, 'observe': 2, 'Lodovico': 2, 'wise,': 2, 'delicate': 2, 'Sometimes': 2, 'is,': 2, 'trash': 2, 'Emilia,': 2, 'chair,': 2, 'fingers': 2, 'demonstrate': 2, 'mock': 2, 'am.': 2, 'purse;': 2, 'loose': 2, 'raging': 2, 'lord-': 2, 'marry': 2, 'command,': 2, 'Some': 2, 'away': 2, 'matter': 2, 'protest,': 2, 'man,': 2, 'says': 2, 'farewell.': 2, 'Bianca.]': 2, \"do't.\": 2, 'place': 2, 'occasion': 2, 'course': 2, 'will.': 2, 'sometimes': 2, 'loving': 2, 'still': 2, 'wisdom': 2, \"have't.\": 2, 'Didst': 2, 'comes.': 2, 'all,': 2, 'Those': 2, 'Hold,': 2, 'said': 2, 'God': 2, 'salt': 2, 'stands': 2, 'Desdemona;': 2, 'pranks': 2, 'fain': 2, 'worth': 2, 'crying': 2, 'help': 2, 'to.': 2, 'Venice,': 2, 'come.': 2, 'seeming,': 2, 'father,': 2, 'ones': 2, 'I,': 2, '[Aside': 2, 'and,': 2, 'one,': 2, 'face': 2, 'strain': 2, 'betwixt': 2, 'grows': 2, \"He'll\": 2, 'each': 2, 'Three': 2, 'Against': 2, 'familiar': 2, 'this,': 2, 'fortune': 2, 'proofs': 2, 'do.': 2, 'old': 2, 'rise.': 2, 'virtue': 2, 'glad': 2, 'joy': 2, 'say;': 2, 'prologue': 2, 'Villainous': 2, 'think,': 2, 'Here': 2, 'black': 2, 'good.': 2, 'high': 2, 'Cyprus,': 2, 'steals': 2, 'Make': 2, 'gave': 2, 'defend': 2, 'thank': 2, 'thoughts': 2, 'hell,': 2, 'cuckold': 2, 'choice.': 2, 'sense': 2, 'else': 2, 'populous': 2, 'nature,': 2, 'present': 2, 'further': 2, 'town': 2, \"She's\": 2, 'strongly': 2, 'Why': 2, 'Othello': 2, 'conscience': 2, 'awhile,': 2, 'build': 2, 'Cassio;': 2, 'lives': 2, 'frail': 2, 'who': 2, 'Blest': 2, 'hither.': 2, 'yet.': 2, \"is't\": 2, 'holds': 2, 'right.': 2, \"general's\": 2, 'wanton': 2, 'revenge': 2, 'purse': 2, 'slain': 2, 'times': 2, 'her;': 2, 'lies': 2, 'then.': 2, 'Wear': 2, 'this.': 2, 'civil': 2, 'drinks': 2, 'note,': 2, 'Comes': 2, 'necessity': 2, 'say!': 2, 'mean': 2, 'this?': 2, 'it;': 2, 'elements': 2, 'lord;': 2, 'Signior': 2, 'lead': 2, 'me!': 2, 'Were': 2, 'jealousy': 2, 'recover': 2, 'framed': 2, 'you-': 2, 'received': 2, 'knave': 2, 'apart,': 2, 'island.': 2, 'Very': 2, 'rise': 2, 'Moor;': 2, 'way;': 2, 'raised': 2, 'lust': 2, 'loud,': 2, 'notable': 2, 'takes': 2, 'sport': 2, 'myself': 2, \"he'll\": 2, 'go,': 2, 'mine': 2, 'terms': 2, 'Mark': 1, 'desire': 1, 'me-': 1, 'means.': 1, 'Janus,': 1, 'unknown.': 1, 'pictures': 1, 'excellent': 1, 'father': 1, 'laughter.': 1, 'lieutenantry,': 1, 'friends.': 1, 'us.': 1, 'planet': 1, \"topp'd?\": 1, 'something.': 1, 'Turk:': 1, 'Lives,': 1, 'whereinto': 1, 'secure.': 1, 'devoted': 1, 'impossible.': 1, 'music,': 1, 'speaks,': 1, 'subtle': 1, 'Watch': 1, 'conduct': 1, 'do;': 1, 'us,': 1, 'patience': 1, 'quickly': 1, 'flag': 1, 'least': 1, 'Friends': 1, 'freely,': 1, 'murtherous': 1, 'delight,': 1, 'sit': 1, 'embraced': 1, 'bed,': 1, 'her?': 1, 'fineless': 1, 'changeable': 1, \"stuff'd\": 1, 'Hold': 1, 'howbeit': 1, 'gnaw': 1, 'Cry,': 1, 'save': 1, 'clyster-pipes': 1, 'yell': 1, 'disclose': 1, 'endure': 1, 'grant,': 1, 'peevish': 1, 'mangled': 1, 'Moor-': 1, 'visages': 1, 'law,': 1, 'credulous': 1, 'be:': 1, \"let's\": 1, 'finder': 1, 'plant': 1, 'degree': 1, 'Iago.': 1, 'suit,': 1, 'make,': 1, 'Lechery,': 1, 'foams': 1, 'go.': 1, 'asses': 1, 'corrigible': 1, 'Brabantio.': 1, \"damn'd\": 1, 'sense,': 1, 'this:': 1, 'did-': 1, 'slain,': 1, 'debitor': 1, 'discreet': 1, 'sworn': 1, 'done;': 1, 'judgement': 1, 'change,': 1, 'Methinks': 1, 'weep,': 1, 'baptism,': 1, 'treachery': 1, 'continues.': 1, 'seem;': 1, 'off.': 1, 'violence': 1, 'prizes': 1, 'Was': 1, 'many,': 1, 'carefully': 1, 'General,': 1, 'profit': 1, 'dwell,': 1, 'quick': 1, 'after-': 1, 'mutiny,': 1, 'pregnant': 1, 'thyself!': 1, 'uncapable': 1, 'anew,': 1, 'judgement.': 1, 'slipper': 1, 'tainting': 1, 'instructed.': 1, 'overthrow': 1, 'thyself,': 1, 'motions,': 1, 'Witness,': 1, 'gyve': 1, 'awhile': 1, 'see-': 1, 'abode': 1, 'offended,': 1, 'affair.': 1, 'thinks': 1, 'preposterous': 1, 'quite.': 1, 'scion.': 1, 'Soliciting': 1, 'damn': 1, 'palace': 1, 'spleen,': 1, 'conclusions.': 1, 'ugly;': 1, 'met': 1, 'occasions,': 1, 'first.': 1, 'unsuiting': 1, 'bags!': 1, 'industry,': 1, 'mend': 1, 'awhile.': 1, \"wi'\": 1, 'themselves': 1, 'complete': 1, 'over': 1, 'stay,': 1, 'woman,': 1, 'doubts,': 1, 'Pleasure': 1, 'thought;': 1, 'Florentine': 1, 'quarter,': 1, 'stirs.': 1, 'door': 1, 'Convinced': 1, 'ruled': 1, 'His': 1, \"dash'd\": 1, 'bondage': 1, 'presently': 1, 'devil,': 1, 'mark,': 1, 'disrelish': 1, 'Content': 1, 'ranks': 1, 'kisses': 1, 'throw': 1, 'whisper.': 1, 'pottle': 1, \"'scaped;\": 1, 'offense.': 1, 'already.': 1, 'handkerchief': 1, 'coldness': 1, 'own!': 1, 'Exclaim': 1, 'thinking,': 1, 'hear?': 1, 'figure': 1, 'proper': 1, 'vicious': 1, 'cup;': 1, 'no;': 1, 'request;': 1, 'green-eyed': 1, 'God,': 1, 'evil-': 1, 'canst.': 1, 'requisites': 1, 'secure': 1, 'Stay': 1, 'Trumpets': 1, 'breast': 1, 'mars': 1, 'fresh': 1, 'impediment': 1, 'seel': 1, 'prating?': 1, 'persuade': 1, 'letter': 1, 'shows,': 1, 'Heaven': 1, 'say.': 1, 'How,': 1, 'eaten': 1, 'land': 1, 'execute': 1, 'friend;': 1, 'imperfectly': 1, 'vehement': 1, 'help,': 1, 'beat': 1, 'enriches': 1, \"She'll\": 1, 'Traverse,': 1, 'now!': 1, 'may,': 1, 'Witness': 1, 'busy': 1, 'determinate': 1, 'excess': 1, 'forget': 1, 'obey': 1, 'business;': 1, 'arm': 1, 'bulk;': 1, 'injury.': 1, 'lo,': 1, 'accident;': 1, 'duty?': 1, 'position': 1, 'dotes': 1, 'tedious': 1, 'wronger;': 1, 'far': 1, 'epilepsy.': 1, 'Jove.': 1, 'treacherous': 1, \"Duke's.\": 1, 'You,': 1, 'Whom': 1, 'to-': 1, 'Speak': 1, 'fears-': 1, 'mediators;': 1, 'Till': 1, 'content;': 1, 'pardon;': 1, 'heavenly': 1, \"honesty's\": 1, 'Doth': 1, 'cry?': 1, 'bell,': 1, 'aim': 1, 'Preferment': 1, 'lips;': 1, 'wrong?': 1, 'fool;': 1, 'believe,': 1, \"fig's-end!\": 1, 'facility': 1, 'mad?': 1, \"gain'd\": 1, 'garb': 1, 'Touch': 1, 'accountant': 1, 'hard,': 1, 'fly;': 1, 'qualification': 1, 'hip,': 1, 'fashion': 1, 'Must': 1, '[Exit': 1, 'faults': 1, 'yours.': 1, \"i'\": 1, 'reproach.': 1, 'First,': 1, 'bind': 1, 'gone': 1, 'Horribly': 1, 'No-': 1, 'filled.': 1, 'Stabs': 1, 'warlike': 1, 'remedy.': 1, 'circumstances,': 1, 'strangle': 1, 'remorse,': 1, 'seals': 1, 'speed!': 1, 'gentleman!': 1, 'Saints': 1, 'waste.': 1, 'minutes': 1, 'how,': 1, 'consider': 1, 'service!': 1, 'troubled': 1, 'Dane': 1, 'execution': 1, 'above,': 1, 'Hollander': 1, 'supersubtle': 1, 'have,': 1, 'private?': 1, \"to't,\": 1, 'citadel.': 1, \"cashier'd.\": 1, 'silent': 1, 'head?': 1, 'sheets!': 1, 'prize,': 1, 'answerable': 1, 'wisdom,': 1, 'suitors': 1, 'imperious': 1, 'Trifles': 1, 'mines': 1, 'works': 1, 'revels,': 1, 'gardeners;': 1, 'common': 1, 'bookish': 1, 'sanctimony': 1, 'coats': 1, 'thoughts,': 1, 'gentlemen-': 1, 'Patience,': 1, 'affright': 1, 'fit;': 1, 'tail;': 1, 'dotes,': 1, 'disposition,': 1, 'tuned': 1, 'stare,': 1, 'vice?': 1, 'net': 1, \"wife's-\": 1, 'riches': 1, 'prosperity.': 1, \"lock'd?\": 1, 'followed': 1, 'nephews': 1, 'eminently': 1, 'pale?': 1, 'conceits,': 1, 'finger': 1, 'daughter,': 1, 'splinter;': 1, 'knowing': 1, 'iniquity': 1, \"'scuse\": 1, 'incense': 1, 'favor': 1, 'Call': 1, 'service.': 1, 'citadel,': 1, 'moved;': 1, 'pegs': 1, '[Going.]': 1, 'change.': 1, 'England!': 1, 'hyssop': 1, 'shall-': 1, 'tilting': 1, 'constant,': 1, 'say-': 1, 'evil?': 1, 'brace': 1, 'thigh,': 1, 'Christian': 1, 'work!': 1, 'meditations': 1, \"one's\": 1, 'face;': 1, '(A': 1, 'complement': 1, 'brother?': 1, 'For,': 1, 'thicken': 1, 'canst': 1, 'tricks': 1, 'ere': 1, 'mistress.': 1, 'vice!': 1, 'cannot,': 1, 'form': 1, 'sails': 1, 'undertaker.': 1, 'cup': 1, \"mistress'\": 1, 'does?': 1, 'cousins,': 1, 'confess': 1, 'delight': 1, 'gentlemen;': 1, 'Probal': 1, 'chair!': 1, 'bride': 1, 'oath,': 1, 'seen;': 1, 'blame;': 1, 'whore.': 1, 'are-': 1, 'gibes,': 1, 'thing-': 1, 'abhor': 1, 'kinsmen,': 1, 'fortune,': 1, 'them.': 1, 'possible?': 1, 'surety.': 1, 'nought': 1, 'evermore': 1, 'better.': 1, 'honesty,': 1, 'his,': 1, 'chair.': 1, 'round': 1, 'anon': 1, 'expend': 1, 'mood,': 1, 'watches': 1, 'lusts;': 1, 'critical.': 1, 'presently;': 1, 'report.': 1, 'tells': 1, 'wits': 1, 'Virtue?': 1, 'creature!\"': 1, 'dotage': 1, 'fell': 1, 'manhood,': 1, 'sequestration-': 1, 'thou,': 1, 'compass': 1, 'sir': 1, 'world,': 1, 'knavery-': 1, \"happ'd!\": 1, 'apt,': 1, 'freely': 1, 'hell': 1, 'blest,': 1, 'retires.': 1, 'authority': 1, 'negligence,': 1, 'poise': 1, 'cities.': 1, \"Moorship's\": 1, 'ripe.': 1, 'pass.': 1, 'having,': 1, 'epithets': 1, 'husband.': 1, 'lieutenant?': 1, 'goats,': 1, 'hours': 1, 'leg': 1, 'Live': 1, 'color.': 1, 'withdraw?': 1, 'weep': 1, 'steal': 1, 'madam.': 1, 'withdraw': 1, 'suppose': 1, 'broken': 1, 'feeds': 1, 'Give': 1, 'stead': 1, 'Farewell.': 1, 'madam?': 1, 'scattering': 1, 'soul;': 1, \"keep't\": 1, 'smell': 1, 'cries': 1, 'grosser': 1, 'as,': 1, 'beguiled': 1, 'balance': 1, \"on't.\": 1, 'wind': 1, 'engines': 1, 'expectation': 1, 'sect': 1, \"Be't\": 1, 'dull': 1, 'suit.': 1, 'cats': 1, 'hour': 1, 'meaning': 1, 'isle,': 1, 'odd': 1, 'fast': 1, 'proof.': 1, 'hell!': 1, 'you!': 1, 'valiant-': 1, 'deceive': 1, \"master's\": 1, 'ourselves': 1, 'parley': 1, 'fortune.': 1, 'Kneels.': 1, 'Quick,': 1, 'dames': 1, \"Off-capp'd\": 1, 'short.': 1, 'warrant.': 1, 'conclusion,': 1, 'provocation.': 1, 'affect': 1, 'pox': 1, 'whether': 1, 'streets,': 1, 'Reputation': 1, 'advantage': 1, 'benefit': 1, 'safe.': 1, 'flies.': 1, 'worst!': 1, 'chose': 1, 'place;': 1, 'apprehensions': 1, 'web': 1, 'thoughts?': 1, 'supply': 1, 'come;': 1, 'court': 1, 'most.': 1, 'mine,': 1, 'has!': 1, 'grievously?': 1, 'lusty': 1, 'ashore.': 1, 'contrary?': 1, \"pluck'd\": 1, 'affairs;': 1, \"Prick'd\": 1, 'loving,': 1, 'courage,': 1, 'easy': 1, 'enmesh': 1, 'master': 1, 'more,': 1, 'vow': 1, 'kissed': 1, 'something,': 1, 'propose': 1, 'strumpet!': 1, 'plain': 1, 'within': 1, 'beauty': 1, 'open': 1, 'hold!': 1, '[A': 1, 'winter': 1, \"robb'd!\": 1, 'carnal': 1, 'swelling': 1, 'housewives': 1, 'meat': 1, 'ancient.': 1, 'off': 1, 'Never': 1, 'Gratiano?': 1, 'Should': 1, 'appetite,': 1, 'mettle': 1, 'use': 1, 'much;': 1, 'pudding!': 1, 'happiness': 1, 'fond': 1, 'damned': 1, 'magnifico': 1, 'carack;': 1, 'tomorrow.': 1, 'chaste!': 1, 'naming,': 1, 'rich': 1, 'Any': 1, 'symbols': 1, 'credit.': 1, 'provender,': 1, 'gay,': 1, 'Despise': 1, 'fortunes': 1, 'Iago': 1, 'advantages,': 1, 'renounce': 1, 'Venice.': 1, 'wound;': 1, 'sated': 1, 'strawberries': 1, \"follow'd.\": 1, 'pursue,': 1, 'regard,': 1, 'pains,': 1, 'ho,': 1, 'Burn': 1, 'act,': 1, 'contrived': 1, 'thousands;': 1, 'That,': 1, 'wife;': 1, 'thee.': 1, '\"O': 1, 'thrust,': 1, 'Seek': 1, 'labors,': 1, 'heave': 1, 'too.': 1, 'smile': 1, 'profit.': 1, 'live.': 1, 'before': 1, 'bell': 1, 'poisonous': 1, 'wight,': 1, 'prime': 1, \"for't!\": 1, 'Montano': 1, 'Caesar': 1, 'Go,': 1, 'Abuse': 1, 'palm;': 1, 'displanting': 1, 'scan': 1, 'confirmations': 1, 'about,': 1, 'sensuality,': 1, 'history': 1, 'grief-': 1, 'itself-': 1, 'Dangerous': 1, 'censure': 1, 'black,': 1, 'choler,': 1, 'favorably': 1, 'moment': 1, 'trumpet.': 1, 'coloquintida.': 1, 'perchance': 1, 'spied': 1, 'at.': 1, 'contaminated.': 1, 'point,': 1, 'needs': 1, 'drowning.': 1, 'Many': 1, 'come,': 1, 'burst,': 1, 'parlors,': 1, 'pitch,': 1, 'mercy.': 1, 'abed,': 1, 'reach': 1, 'bestows': 1, 'amiss;': 1, 'advice': 1, 'bold,': 1, 'satisfied,': 1, 'clip': 1, 'purposes,': 1, 'within.]': 1, 'Filth,': 1, 'pestilent': 1, 'other.': 1, 'attending': 1, 'bumbast': 1, 'thus.': 1, 'Kill': 1, 'labor.': 1, 'am,': 1, 'sounds': 1, 'erring': 1, 'lust;': 1, 'events': 1, 'entertainment': 1, 'daws': 1, 'blame.': 1, 'within,': 1, 'bless': 1, 'duteous': 1, \"lay't\": 1, 'seems': 1, 'ewe.': 1, 'glorious': 1, 'displeasure': 1, 'four': 1, 'office;': 1, 'seven': 1, 'theoric,': 1, 'Othello!': 1, \"help'd\": 1, \"bestow't\": 1, 'deserving': 1, 'distract': 1, 'practicing': 1, 'to;': 1, 'confess,': 1, 'grapes.': 1, 'breast,': 1, 'prated': 1, 'lawful': 1, 'injuries,': 1, 'charm': 1, 'heaven!': 1, 'wherein': 1, 'ass': 1, 'bloody.': 1, 'brief-': 1, 'sow': 1, 'please,': 1, 'recovered?': 1, \"Knavery's\": 1, 'knowledge': 1, 'revenge,': 1, 'pate': 1, 'twelve': 1, 'affection?': 1, 'dark': 1, 'custody.': 1, 'purse-': 1, 'wound': 1, 'curse': 1, 'pottle-deep;': 1, 'arch-mock,': 1, \"world's\": 1, 'souls,': 1, 'power': 1, 'house,': 1, 'blossom': 1, 'base': 1, 'Potations': 1, 'savage': 1, 'fright.': 1, 'match': 1, 'Confine': 1, 'squadron': 1, 'youth;': 1, 'say?': 1, \"Puff'd\": 1, 'nightcap': 1, 'Plague': 1, 'door;': 1, 'hurt,': 1, 'incorporate': 1, 'personal': 1, 'after,': 1, \"kill'd.\": 1, 'word.': 1, 'bare,': 1, 'firm': 1, 'be?': 1, 'heart,': 1, 'lip': 1, 'lie': 1, 'Foh,': 1, 'About': 1, 'promised.': 1, 'whiles': 1, 'false': 1, 'mark!-': 1, 'pleads': 1, 'satisfaction': 1, 'forgot': 1, 'Hark,': 1, 'as-': 1, 'subdue': 1, 'severe': 1, 'self-bounty': 1, 'direct': 1, 'sense?': 1, 'choose': 1, 'granted-': 1, 'refrain': 1, 'throwing': 1, 'Alas': 1, 'instant': 1, \"deliver'd.\": 1, '[Returning.]': 1, 'myself.': 1, \"trimm'd\": 1, 'patent': 1, 'officer.\"': 1, 'hanged': 1, 'peck': 1, 'away,': 1, 'keep': 1, 'senator.': 1, 'said:': 1, 'judge': 1, 'brains.': 1, 'are.': 1, 'knit': 1, 'Barbary': 1, 'wary,': 1, 'supervisor,': 1, 'thyme,': 1, 'garter.': 1, \"wrong'd\": 1, 'telling': 1, 'name,': 1, 'fruitful': 1, 'begin': 1, 'safety': 1, 'wife!': 1, 'Othello.': 1, 'shame!': 1, 'lingered': 1, 'party': 1, 'entreats': 1, 'use,': 1, 'spy': 1, 'drown': 1, 'profit,': 1, 'heartily': 1, 'shifted': 1, 'play,': 1, 'ay,': 1, 'eye?': 1, 'unswear.': 1, 'yoked': 1, 'harm.': 1, 'Proclaim': 1, 'state,': 1, 'sulphur.': 1, 'tonight.': 1, 'villain!': 1, 'citizens': 1, 'how?': 1, 'determined': 1, 'usurped': 1, 'on;': 1, 'if-': 1, 'morning;': 1, 'division': 1, 'borne': 1, 'men,': 1, \"calm'd\": 1, \"tell's\": 1, 'Ply': 1, 'thereto': 1, 'supper!': 1, 'beer.': 1, 'grievance': 1, 'necessaries': 1, 'wench;': 1, 'coursers': 1, 'bearded': 1, 'field,': 1, 'hand': 1, 'devil?': 1, 'Fled': 1, 'laughed': 1, 'gown;': 1, 'dire': 1, 'loses': 1, 'Dane,': 1, 'mass,': 1, 'womb': 1, 'midnight.': 1, 'husband': 1, 'what.': 1, 'frieze;': 1, 'shorter': 1, 'villains': 1, 'villains!': 1, 'nettles': 1, 'Ere': 1, 'converse': 1, 'bleed,': 1, 'condition': 1, \"'Zounds!\": 1, 'impossible': 1, 'delay.': 1, 'two': 1, 'bed;': 1, \"wife's\": 1, 'near:': 1, 'proud,': 1, 'voice': 1, 'device': 1, 'reward': 1, 'hearts': 1, 'Hold!': 1, 'ever.': 1, 'blackness': 1, '\"I': 1, 'monkeys,': 1, 'lips?': 1, 'direction.': 1, 'poor.': 1, \"'Twas\": 1, 'monster,': 1, 'thieves?': 1, 'counter-caster,': 1, \"o'erwhelmed\": 1, 'obsequious': 1, 'gall': 1, 'list.': 1, 'dead.': 1, 'women': 1, 'sport,': 1, 'behind': 1, 'summon': 1, 'grandsire': 1, 'heaven,': 1, 'life,': 1, 'out-': 1, 'bound,': 1, 'potting.': 1, 'Because': 1, 'chides': 1, 'acquainted': 1, 'egregiously': 1, 'marrying': 1, 'climate': 1, 'weak': 1, 'swords,': 1, 'Two': 1, 'down': 1, 'blab-': 1, 'Over': 1, 'tenderness': 1, 'pride': 1, 'fruit': 1, 'invention': 1, 'peradventure': 1, 'inwards,': 1, 'lies.': 1, 'ram': 1, 'abroad': 1, 'beguile': 1, 'Every': 1, 'suspicion.': 1, 'bread': 1, 'help!\"': 1, 'suspected-': 1, 'drowning,': 1, 'soldier': 1, 'ever-burning': 1, 'hands,': 1, 'state': 1, 'Stood': 1, 'violent': 1, 'writ;': 1, 'courtesy!': 1, 'man?': 1, 'pride,': 1, 'infirmity': 1, 'Demand': 1, 'murther?': 1, 'alarum': 1, 'set,': 1, 'importunate': 1, 'truth,': 1, 'has.': 1, 'function.': 1, 'Moor!': 1, 'dream.': 1, 'knaves.': 1, 'dead,': 1, '\"Cursed': 1, 'taken': 1, 'learned': 1, 'Before': 1, 'unbitted': 1, 'billeted.': 1, 'commencement,': 1, 'extern,': 1, \"rubb'd\": 1, 'Wears': 1, 'mutiny.': 1, 'us;': 1, 'villainous!': 1, 'luscious': 1, 'Note': 1, 'Venetian': 1, 'purpose,': 1, 'tonight;': 1, 'Ho!': 1, 'mutter': 1, 'beauties-': 1, '\"Help,': 1, 'wildcats': 1, 'men),': 1, 'scarce': 1, 'thither': 1, 'thee,': 1, 'intend': 1, 'leets': 1, 'Damn': 1, 'head': 1, 'heir': 1, \"dress'd.\": 1, 'looked': 1, 'continue': 1, 'sleeps': 1, 'done:': 1, 'Devesting': 1, 'cure.': 1, 'napkin,': 1, 'instruct': 1, 'kitchens,': 1, 'pure,': 1, 'abroad,': 1, 'fix': 1, 'suspects,': 1, 'peculiar.': 1, 'couch,': 1, 'sign': 1, 'knaves': 1, 'lawful?': 1, 'gender': 1, 'iniquity,': 1, \"You'ld\": 1, 'respect,': 1, 'sincerity': 1, 'repute': 1, 'back-': 1, 'whore!': 1, 'ecstasy;': 1, 'So.': 1, 'beds': 1, 'masters!-': 1, 'Can': 1, 'one.': 1, 'circumstance': 1, 'fears': 1, 'unnatural.': 1, 'honest.': 1, 'best,': 1, 'thinly.': 1, 'horse;': 1, \"belee'd\": 1, 'false.': 1, 'heir.': 1, 'himself.': 1, 'hunting,': 1, 'side': 1, 'dog': 1, 'nose': 1, 'profess': 1, 'distaste,': 1, 'Breaks': 1, 'tongue.': 1, 'stands,': 1, 'compassing': 1, 'acerb': 1, 'harlotry,': 1, 'cradle.': 1, 'depends': 1, 'Gentlemen': 1, 'going': 1, 'breeds': 1, \"were't\": 1, 'sudden': 1, 'mouth': 1, 'law-days,': 1, 'intrude': 1, 'speech,': 1, 'Brabantio!': 1, 'guard.': 1, 'grace!': 1, 'price,': 1, 'spirits.': 1, 'valor,': 1, 'guiltiness': 1, 'Where,': 1, 'election;': 1, 'offense,': 1, \"'Sblood,\": 1, 'Where': 1, 'hearted;': 1, 'Shapes': 1, \"body's\": 1, 'rich,': 1, \"fluster'd\": 1, 'holy': 1, 'means': 1, 'stuff': 1, 'Think': 1, 'barbarian': 1, 'scurvy': 1, 'comes!': 1, 'sups': 1, 'wills-': 1, 'grounds': 1, 'honor.': 1, 'fills': 1, 'none,': 1, '\"Now': 1, 'matches': 1, 'bliss': 1, \"be'st\": 1, 'wight': 1, 'shows': 1, 'bell?-': 1, 'encave': 1, 'faith': 1, 'Fie,': 1, 'me?': 1, 'unsure': 1, 'supplied': 1, 'bodies': 1, 'repeals': 1, 'gorge,': 1, 'gentlemen,': 1, 'food': 1, 'strange': 1, 'chance': 1, 'practice': 1, 'useth': 1, 'health': 1, 'exercise,': 1, 'Sagittary': 1, 'guiltless,': 1, 'livest': 1, 'witchcraft-': 1, 'counterfeit': 1, 'mutualities': 1, 'hen,': 1, 'housewifery,': 1, 'sorry': 1, 'love.': 1, 'Lodovico?': 1, 'sword?': 1, 'masterly': 1, 'Nonsuits': 1, 'jewel': 1, 'them-': 1, 'creature': 1, \"know'st\": 1, 'blessed': 1, 'Bianca,': 1, 'early': 1, 'shirt.': 1, 'Another': 1, 'Men': 1, 'hide': 1, 'die.': 1, 'perdurable': 1, 'merit': 1, 'sport.': 1, 'depute': 1, 'haply': 1, 'blow': 1, 'Almain;': 1, 'joy,': 1, 'chronicle': 1, 'today': 1, \"cod's\": 1, 'swift': 1, 'guess,': 1, 'affined': 1, 'blind': 1, 'courtship.': 1, 'wills': 1, \"kiss'd;\": 1, 'trick': 1, 'nobility': 1, 'session': 1, 'unwitted': 1, \"Does't\": 1, 'Ha!': 1, 'Long': 1, 'swear': 1, 'defective': 1, 'witchcraft,': 1, 'Kind': 1, \"Bianco's\": 1, 'true.': 1, 'doting': 1, 'sign.': 1, 'wear': 1, 'forth': 1, 'shortly': 1, 'fire': 1, 'loves\";': 1, 'fed;': 1, 'enough;': 1, 'courses': 1, 'move': 1, 'herbs': 1, 'Abhor': 1, 'possible,': 1, 'judgement,': 1, 'dwell': 1, 'peculiar': 1, 'Had': 1, 'proposed': 1, 'pause.': 1, 'godliness': 1, 'Spotted': 1, 'isle.': 1, 'gentlemen.': 1, 'lodging.': 1, 'more.': 1, 'vexation': 1, 'plume': 1, 'lads': 1, 'besides,': 1, 'patient': 1, 'humanity': 1, 'thrive': 1, 'diet': 1, 'heaven.': 1, 'Take': 1, 'appeared,': 1, 'no.': 1, 'none-': 1, 'supper-time,': 1, 'poison:': 1, 'drunkards,': 1, 'kissed!': 1, 'slave!': 1, \"to't\": 1, 'germans.': 1, 'ever,': 1, 'tupping': 1, 'defeat': 1, 'degrees?': 1, 'trade': 1, 'rings': 1, 'weep.': 1, 'once': 1, 'further;': 1, 'selling': 1, 'case': 1, 'Drink,': 1, 'retell': 1, 'spirits,': 1, 'pour': 1, 'Well': 1, 'wary': 1, \"'mongst\": 1, 'ensnare': 1, 'power,': 1, 'themselves,': 1, 'strip': 1, 'taste': 1, 'monster.': 1, \"where's\": 1, 'is.': 1, 'behind;': 1, 'stamp': 1, 'chide': 1, 'injury,': 1, 'conceits': 1, 'cried?': 1, 'unfold': 1, 'birdlime': 1, 'humane': 1, 'excuse': 1, 'importunity;': 1, 'voluntary': 1, 'while,': 1, 'course.': 1, 'contemplation,': 1, 'may\";': 1, 'permission': 1, 'Pish!': 1, 'married?': 1, 'palm': 1, 'obscure': 1, 'forms,': 1, 'professed': 1, 'lodging': 1, 'surgeon.': 1, 'recoiling': 1, 'now-': 1, 'along': 1, 'scorns,': 1, \"turn'd\": 1, 'uncleanly': 1, 'denote': 1, 'Honest,': 1, 'alone?': 1, 'shame,': 1, 'tenderly': 1, 'bragging': 1, 'voluble;': 1, 'Mauritania,': 1, 'nigh,': 1, 'poison': 1, 'humor:': 1, 'matter?': 1, 'absolute': 1, \"supp'd\": 1, 'weed': 1, '(For': 1, 'friend-': 1, 'repair': 1, 'gain.': 1, 'approve': 1, 'marshal': 1, 'bid': 1, 'half': 1, 'measure': 1, '[Snatching': 1, 'Duke.': 1, 'baseness': 1, 'opposition': 1, 'humbly': 1, 'before;': 1, 'policy': 1, 'harm?': 1, 'Beshrew': 1, 'within.': 1, 'sheets': 1, 'fly': 1, 'clothes.': 1, 'lust,': 1, 'Distinctly': 1, 'flowing': 1, 'souls.': 1, 'Receive': 1, 'dark!': 1, 'patience!': 1, 'him:': 1, 'spirit.': 1, 'boat': 1, 'beloved,': 1, 'odds;': 1, 'life.': 1, 'fill': 1, 'abuse': 1, 'especial': 1, 'rage': 1, 'fled': 1, 'stand.': 1, 'caught,': 1, 'judge,': 1, 'enforce': 1, 'sun,': 1, 'creditor.': 1, 'bad': 1, 'rock': 1, 'brother.': 1, 'unproper': 1, 'restitution': 1, 'stronger': 1, 'seat;': 1, 'forms': 1, 'satisfied?': 1, 'thence,': 1, 'Hell': 1, 'tale.': 1, \"bobb'd\": 1, 'question': 1, 'how?-': 1, 'Besides,': 1, 'cure': 1, 'unjustly.': 1, 'itself': 1, 'toged': 1, 'not?': 1, 'elements.': 1, 'blown': 1, 'true;': 1, 'spite': 1, 'speak,': 1, 'sleep': 1, 'end.': 1, 'day!': 1, 'ear': 1, 'difficulty,': 1, 'passion;': 1, 'whoring.': 1, 'filches': 1, 'lion.': 1, 'kind,': 1, 'Directly': 1, 'drunk;': 1, 'prospect.': 1, 'trash;': 1, 'stream.': 1, 'Adieu.': 1, 'perhaps': 1, 'requested.': 1, 'easily': 1, 'Tell': 1, 'Work': 1, 'work.': 1, 'hot': 1, 'breaths': 1, 'night,': 1, 'herself': 1, 'lords': 1, 'often,': 1, 'arise!': 1, 'fasten': 1, 'pale,': 1, 'myself;': 1, 'forbear;': 1, 'known.': 1, 'truly': 1, 'loveliness': 1, 'Poor': 1, 'beware,': 1, 'knee-crooking': 1, 'spinster;': 1, 'thinking.': 1, 'rings.': 1, 'wilt': 1, 'potent': 1, 'repent': 1, 'blackest': 1, 'slip.': 1, 'Sue': 1, 'mistress-': 1, 'minister.': 1, 'profitably': 1, 'daily': 1, 'nightly': 1, 'Utter': 1, 'dog.': 1, 'inclining': 1, 'delivered.': 1, 'Meet': 1, 'anger': 1, 'dream,': 1, 'vice': 1, 'duty': 1, 'Provoke': 1, 'masters': 1, 'game.': 1, 'wills.': 1, 'English.': 1, 'may.': 1, 'cool': 1, 'false;': 1, 'Moors': 1, 'handsome,': 1, 'wars,': 1, 'got': 1, 'Evades': 1, 'oak-': 1, 'it?': 1, 'jump': 1, 'indeed!': 1, 'pity': 1, 'England,': 1, 'dead': 1, 'malice;': 1, 'sleeve': 1, 'housewife': 1, 'yes,': 1, 'went': 1, 'offend,': 1, 'mind': 1, 'honorable': 1, 'toughness;': 1, 'slave': 1, 'cables': 1, 'journey': 1, \"cashier'd\": 1, \"Let's\": 1, 'aught': 1, 'suggest': 1, 'horologe': 1, 'Mere': 1, 'roots,': 1, 'please': 1, 'messengers': 1, 'ignorance': 1, 'discipline,': 1, 'signior;': 1, 'rank': 1, 'body,': 1, 'mouth,': 1, 'covered': 1, 'Whose': 1, 'fertile': 1, 'punishment': 1, 'bold': 1, 'Steps': 1, 'in.]': 1, 'forget.': 1, 'changed.': 1, 'do,': 1, 'Therefore,': 1, \"I'faith,\": 1, 'guilty-like,': 1, 'crack': 1, 'Awake!': 1, 'already,': 1, 'arithmetician,': 1, 'fair,': 1, 'married.': 1, 'sake!': 1, 'drowned': 1, \"to't.\": 1, 'deserving.': 1, \"enfetter'd\": 1, 'Shall': 1, 'Robs': 1, 'touch': 1, 'tongues': 1, 'cut': 1, 'complexion,': 1, 'whose': 1, 'rash': 1, 'may;': 1, 'moraler.': 1, 'ladyship': 1, 'trace': 1, \"strumpet's\": 1, \"leave't\": 1, 'index': 1, 'lately': 1, 'war': 1, 'wretched': 1, 'mistress?': 1, 'silly': 1, 'brains': 1, 'vice;': 1, 'credit': 1, 'living': 1, 'essence': 1, 'Hast': 1, 'calls': 1, 'hence': 1, 'devilish': 1, 'tooth,': 1, \"other's\": 1, 'failing': 1, \"what's\": 1, \"on't;\": 1, 'harbor.': 1, \"in't\": 1, 'together.': 1, 'Rhodes,': 1, 'countryman': 1, 'lack': 1, 'Cyprus.': 1, 'joint': 1, 'chair': 1, 'them;': 1, 'husbands;': 1, 'guinea': 1, 'anon.': 1, 'beard.': 1, 'puppies.': 1, 'removing': 1, 'fleers,': 1, 'want': 1, 'equinox,': 1, 'tale': 1, 'sympathy': 1, 'Whether': 1, \"seem'd\": 1, 'free.': 1, 'noise?': 1, 'malice': 1, 'knave!': 1, 'satiety': 1, 'happiness!': 1, \"leap'd\": 1, 'accidents': 1, 'Dull': 1, 'unmake,': 1, 'unforced': 1, 'foot,': 1, 'proof': 1, 'prattle': 1, 'clink': 1, 'drunk.': 1, 'Divinity': 1, 'snorting': 1, 'Diablo,': 1, 'Put': 1, \"say'st\": 1, 'dost,': 1, 'when,': 1, 'fit.': 1, 'door.': 1, 'Patience': 1, 'fate': 1, 'hand.': 1, 'peace.': 1, 'region': 1, 'fruits': 1, 'faith,': 1, 'inflame': 1, 'offend': 1, 'hidden': 1, 'purpose': 1, 'proofs.': 1, 'indeed,': 1, 'conveniences,': 1, 'heart?': 1, 'he?': 1, 'beard': 1, 'abused,': 1, \"engender'd.\": 1, 'observance.': 1, 'together,': 1, 'Outran': 1, 'disposition': 1, 'green': 1, 'far,': 1, 'war,': 1, 'peace': 1, 'not;': 1, 'locusts,': 1, 'Welcome': 1, 'Retire': 1, 'vomit': 1, 'gifts': 1, 'sure,': 1, 'jewels': 1, 'quarrel': 1, 'masters,': 1, '\"Sweet': 1, 'list,': 1, 'birth': 1, 'help.': 1, 'cable.': 1, 'honors': 1, 'accent': 1, 'fantastical': 1, 'offenseless': 1, 'divorce': 1, 'affection,': 1, 'fate,': 1, 'beginning': 1, 'rapier': 1, 'creature,': 1, 'whilst': 1, 'quick;': 1, 'lights': 1, 'Think,': 1, 'restraint': 1, 'provoking': 1, 'use.': 1, 'battle': 1, \"Where's\": 1, 'both': 1, 'franker': 1, 'repent.': 1, 'god': 1, 'smooth': 1, 'dealt': 1, 'acknown': 1, 'her-': 1, 'merely': 1, 'gentle.': 1, 'Plies': 1, 'imputation': 1, 'Awake': 1, 'thought,': 1, 'clime,': 1, 'fig!': 1, 'clamor-': 1, 'speech.': 1, 'caroused': 1, 'Lay': 1, 'Rouse': 1, 'Lest': 1, \"embark'd\": 1, \"father's\": 1, 'effect': 1, 'provide': 1, 'person': 1, 'conjunctive': 1, 'Players': 1, 'return': 1, 'friends!': 1, 'looks,': 1, 'mortal': 1, 'Seeing': 1, 'reason.': 1, \"woo'd\": 1, 'fathom': 1, 'parallel': 1, 'Whip': 1, 'term': 1, 'Lead': 1, 'Yours,': 1, 'naked': 1, 'ruffians,': 1, 'satisfied.': 1, 'error': 1, 'gone.': 1, 'honest,': 1, 'outward': 1, 'seeming': 1, 'larger': 1, 'exception;': 1, 'stings,': 1, 'cannon,': 1, 'Am': 1, 'parts': 1, 'none!': 1, 'I-': 1, 'chaste': 1, 'air.': 1, 'bolster': 1, 'dilatory': 1, 'partly': 1, 'heathen,': 1, 'Others': 1, 'German,': 1, 'hereafter.': 1, 'wise': 1, 'boarded': 1, 'Gratiano.]': 1, 'young,': 1, 'elbow.': 1, 'amazed': 1, 'heal': 1, 'venial': 1, 'noise': 1, 'fairness': 1, 'suckle': 1, \"fall'n\": 1, 'sup': 1, 'bodily': 1, 'gripe': 1, 'send': 1, 'general!': 1, 'stroke': 1, 'notice,': 1, 'timorous': 1, 'Muse': 1, 'old,': 1, 'lettuce,': 1, 'forbear': 1, 'in,': 1, 'shamed': 1, 'hence;': 1, 'Wherein': 1, 'instruments': 1, 'undo': 1, 'abused.': 1, 'ability,': 1, 'other,': 1, 'world!': 1, 'Hath': 1, 'pleasure;': 1, '\"Certes,\"': 1, 'strives': 1, \"is't,\": 1, 'it!': 1, 'go?': 1, 'Confess': 1, 'hold,': 1, 'Whilst': 1, 'knocking': 1, 'homage.': 1, 'passion': 1, 'lethargy': 1, 'consequence': 1, 'neglected': 1, 'reputation.': 1, \"anger'd,\": 1, 'liest!': 1, 'men;': 1, 'confused:': 1, \"lack'd\": 1, 'gradation,': 1, 'souls': 1, 'success': 1, 'ear,': 1, 'doors,': 1, \"on't\": 1, 'loser.': 1, 'Nothing,': 1, \"stol'n\": 1, 'with.': 1, \"o'er\": 1, 'Stand': 1, 'conscionable': 1, 'drowning': 1, 'mineral': 1, 'Forsooth,': 1, 'advised,': 1, 'Cried,': 1, 'indignity,': 1, 'minds': 1, 'assured,': 1, 'baboon.': 1, 'quat': 1, 'consuls': 1, 'swag-bellied': 1, 'legs': 1, 'satisfaction,': 1, 'ways': 1, 'nobody.': 1, 'patience,': 1, 'Exeunt': 1, 'not-': 1, 'greater': 1, 'cope': 1, 'gross': 1, 'search,': 1, 'Buys': 1, 'trust': 1, 'profane': 1, 'kindness.': 1, 'millions': 1, 'wring': 1, 'hope': 1, 'compel': 1, 'alive': 1, 'gentleman': 1, 'assured': 1, 'meat.': 1, 'grossly': 1, 'soldiership.': 1, 'Save': 1, 'good?': 1, 'nothing,': 1, 'beds.': 1, 'resolution.': 1, 'sword,': 1, 'captain,': 1, 'distance,': 1, 'were!': 1, 'An': 1, 'Nine': 1, 'position-': 1, 'immediate': 1, 'grant': 1, 'hears': 1, 'commission': 1, \"'twas\": 1, 'sick': 1, 'paddle': 1, 'degree,': 1, 'idleness': 1, 'meet,': 1, 'that;': 1, 'large': 1, 'Whereto': 1, 'happily': 1, 'undone,': 1, 'gesture.': 1, 'reputation': 1, 'idle': 1, 'were-': 1, 'clean': 1, 'hark!': 1, \"enter'd\": 1, 'slaves': 1, 'thereunto,': 1, 'gentlemen?': 1, 'peril.': 1, 'poisons,': 1, 'backs.': 1, 'denotement': 1, 'prefer': 1, 'death': 1, 'else.': 1, 'at:': 1, 'However': 1, 'Farewell,': 1, \"'twixt\": 1, \"yerk'd\": 1, 'gardens,': 1, 'Foul': 1, 'abuses,': 1, 'issues': 1, 'villain?': 1, 'gone,': 1, 'must;': 1, 'ribs.': 1, 'rank,': 1, '(As': 1, 'poison,': 1, 'trouble': 1, 'hath,': 1, 'meantime,': 1, 'gennets': 1, 'too),': 1, 'thyself?': 1, 'main': 1, 'dispose': 1, 'no?': 1, '[Trumpet': 1, 'produced-': 1, 'yesterday.': 1, 'removed,': 1, 'On': 1, 'Lie-': 1, 'course,': 1, 'clock.': 1, 'tends-': 1, 'light': 1, 'ago,': 1, 'conclusion.': 1, 'pestilence': 1, 'fear,': 1, 'while': 1, 'well?': 1, 'wars;': 1, 'straight': 1, \"It's\": 1, 'gape': 1, 'Much': 1, 'murther.': 1, 'content.': 1, 'less': 1, 'Hollander-': 1, 'Light,': 1, 'stope': 1, 'friend,': 1, 'intent.': 1, 'speaking': 1, 'three': 1, 'Prithee,': 1, 'grew': 1, 'life': 1, 'wife)': 1, 'lined': 1, 'loves!': 1, 'sterile': 1, 'myself,': 1, 'flock': 1, 'it.]': 1, 'this;': 1, 'sweats': 1, 'As,': 1, 'imposition;': 1, 'villains.': 1, 'am-': 1, 'graces.': 1, 'after.': 1, 'neigh': 1, 'befallen;': 1, 'fouler.': 1, 'certain': 1, 'manured': 1, 'moved.': 1, 'attempt,': 1, 'required': 1, \"salmon's\": 1, \"hear't\": 1, 'opinion': 1, 'service,': 1, 'wholesome': 1, 'Moor!\"': 1, 'ass,': 1, 'purpose;': 1, 'Indeed!': 1, 'gentlemen!': 1, 'wipe': 1, 'Do,': 1, \"nature's\": 1, 'medicine,': 1, 'Swords': 1, 'man-': 1, 'disproportion,': 1, 'him.]': 1, 'cups,': 1, \"if't\": 1, 'redeemed': 1, 'doors': 1, 'appetite': 1, 'sins': 1, 'check,': 1, 'favor,': 1, \"even'd\": 1, 'snipe': 1, 'town!': 1, 'truth': 1, 'counsel': 1, 'under': 1, 'plucks': 1, 'breathe': 1, 'mind,': 1, 'distinguish': 1, 'alas!': 1, 'for.': 1, 'wolves': 1, 'scale': 1, 'groom': 1, 'satisfaction?': 1, 'hence!': 1, 'beaten': 1, 'loud': 1, 'potential': 1, 'gastness': 1, \"sigh'd\": 1, 'goodly': 1, 'hour,': 1, 'Bells': 1, 'run': 1, 'dream': 1, 'about': 1, \"fiend's\": 1, 'straight.': 1, 'remain,': 1, 'general?': 1, \"return'd\": 1, 'dost': 1, 'fordoes': 1})\n",
      "#######\n",
      "Counter({'OTHELLO.': 274, 'I': 190, 'the': 164, 'and': 142, 'of': 118, 'my': 111, 'to': 103, 'a': 79, 'And': 60, 'that': 56, 'not': 55, 'me': 54, 'in': 53, 'is': 48, 'you': 48, 'it': 47, 'her': 46, 'with': 44, 'thou': 43, 'have': 40, 'be': 39, 'thy': 38, 'she': 36, 'That': 35, 'your': 34, 'To': 30, 'this': 30, 'for': 29, 'do': 29, 'but': 28, 'The': 27, 'as': 26, 'he': 26, 'O': 26, 'What': 24, 'will': 24, 'his': 23, 'O,': 21, 'had': 19, 'on': 18, 'If': 17, 'would': 17, 'was': 17, 'all': 17, 'did': 16, 'But': 16, 'shall': 16, 'Iago,': 16, 'at': 15, 'thee': 15, \"'Tis\": 15, 'love': 15, 'A': 15, 'For': 15, 'It': 15, 'dost': 15, 'She': 14, 'by': 14, 'come': 14, 'My': 14, 'yet': 14, 'am': 14, 'me,': 14, 'from': 14, 'it.': 13, 'so': 13, 'it,': 13, 'Of': 13, 'him': 12, 'or': 12, 'good': 12, 'are': 12, 'such': 12, \"I'll\": 12, 'more': 12, 'think': 11, 'some': 11, 'let': 11, 'heaven,': 11, 'art': 11, 'say': 11, 'Let': 11, 'upon': 11, 'should': 11, 'This': 11, 'Thou': 10, 'As': 10, 'heaven': 10, 'speak': 10, 'her.': 10, 'make': 10, 'what': 10, 'they': 10, 'very': 10, 'hath': 10, 'look': 9, 'must': 9, 'when': 9, 'most': 9, 'Ay,': 9, 'you,': 9, 'Cassio': 9, 'Iago': 9, 'were': 9, 'thee.': 9, 'if': 9, 'know': 9, 'With': 8, 'you.': 8, \"'tis\": 8, 'How': 8, 'In': 8, 'see': 8, 'gave': 8, 'no': 8, 'Not': 8, 'He': 8, 'Come,': 8, 'out': 8, 'sweet': 7, 'When': 7, 'these': 7, 'love,': 7, 'now': 7, 'great': 7, 'No,': 7, 'which': 7, 'than': 7, 'soul': 7, 'how': 7, 'can': 7, 'By': 7, 'O!': 7, 'one': 7, 'there': 7, 'go': 7, 'her,': 7, 'me.': 7, 'like': 7, 'here': 7, 'Nay,': 7, 'Where': 6, 'found': 6, \"'twas\": 6, 'once': 6, 'world': 6, 'been': 6, 'an': 6, 'Nor': 6, 'too': 6, 'well': 6, 'Are': 6, 'we': 6, 'fair': 6, 'loved': 6, 'mine': 6, 'Shall': 6, 'little': 5, 'being': 5, 'Iago.': 5, 'Desdemona,': 5, 'Now': 5, 'handkerchief': 5, 'her!': 5, 'up': 5, 'so,': 5, 'handkerchief!': 5, 'Do': 5, 'their': 5, 'Give': 5, 'Emilia.': 5, 'whose': 5, 'Iago?': 5, 'comes': 5, 'before': 5, 'So': 5, 'Is': 5, 'against': 5, 'Why,': 5, 'much': 5, 'Exeunt': 5, \"that's\": 5, 'could': 5, 'this,': 5, 'cannot': 5, 'thee,': 5, 'Than': 5, 'best': 5, 'honest.': 5, 'me;': 5, 'give': 4, 'put': 4, 'Ha!': 4, 'Exit.': 4, 'woman!': 4, 'away': 4, 'thus': 4, 'men': 4, 'wife': 4, 'better': 4, 'nothing': 4, 'Or': 4, 'kill': 4, 'From': 4, \"That's\": 4, \"ne'er\": 4, 'Dost': 4, 'confess': 4, 'own': 4, 'Should': 4, 'them': 4, 'course': 4, 'therefore': 4, 'Farewell': 4, 'more;': 4, 'free': 4, 'Cassio.': 4, 'Yet': 4, 'more,': 4, 'not,': 4, 'seen': 4, 'made': 4, 'hand.': 4, 'Even': 4, 'blood,': 4, 'knows': 4, 'then': 4, 'else': 4, \"I'ld\": 4, 'matter,': 4, 'heart,': 4, 'false': 4, 'prove': 4, 'honest': 4, 'done,': 4, 'now,': 4, 'all.': 4, 'dear': 4, 'this?': 4, 'Thy': 4, 'down': 4, 'life': 4, 'even': 4, 'Exit': 4, 'Why': 4, 'sure': 4, 'dog': 3, 'father': 3, 'An': 3, 'weep,': 3, 'Who': 3, 'say,': 3, 'You': 3, 'take': 3, 'Therefore': 3, 'me?': 3, 'Be': 3, 'Was': 3, 'Have': 3, 'there,': 3, 'so.': 3, 'another': 3, 'mean': 3, 'Make': 3, 'set': 3, 'sir,': 3, 'where': 3, 'after': 3, 'is.': 3, 'thousand': 3, 'May': 3, 'answer': 3, 'Yes,': 3, 'heard': 3, 'wars': 3, 'our': 3, 'hear': 3, 'fool!': 3, 'hand,': 3, 'hadst': 3, 'saw': 3, 'well,': 3, 'Well,': 3, 'Falls': 3, 'that?': 3, 'Good': 3, 'handkerchief.': 3, 'them.': 3, 'those': 3, 'soul,': 3, 'husband.': 3, 'heart': 3, 'Most': 3, 'hell!': 3, \"man's\": 3, 'old': 3, 'night.': 3, 'strumpet!': 3, 'told': 3, 'black': 3, 'Sir,': 3, 'What,': 3, 'prithee,': 3, 'by.': 3, 'now?': 3, 'One': 3, 'Get': 3, 'young': 3, 'Here': 3, 'stops': 3, 'doubt': 3, 'draw': 3, \"Cassio's\": 3, 'business': 3, 'bear': 3, 'Iago!': 3, 'again.': 3, 'Michael,': 3, 'sense': 3, 'us': 3, 'first': 3, 'honesty': 3, \"She's\": 3, 'tonight,': 3, 'spend': 3, 'Which': 3, 'lie': 3, 'who': 3, 'him,': 3, \"she's\": 3, 'Hath': 3, \"Is't\": 3, 'Honest': 3, 'man': 3, 'keep': 3, 'deny': 3, 'foul': 3, 'revenge': 3, 'Upon': 3, 'pity': 3, 'nor': 3, 'Now,': 3, 'present': 3, 'Whose': 3, 'hearts': 3, 'Had': 3, 'wife.': 3, 'turn': 3, 'tell': 3, 'head': 3, 'light': 3, 'thine': 3, 'Did': 3, 'Desdemona.': 3, 'Look': 3, 'name': 3, 'dead,': 3, 'fear': 3, 'Desdemona': 3, 'bed': 3, 'never': 3, 'earth': 3, 'thought': 3, 'about': 3, 'doth': 3, 'well;': 3, \"she'll\": 3, 'cunning': 2, 'ask': 2, 'We': 2, 'hint': 2, 'place.': 2, 'office': 2, 'hardness': 2, 'Their': 2, 'married': 2, 'sir?': 2, 'charms,': 2, 'Yet,': 2, 'Though': 2, 'into': 2, 'means': 2, 'Think': 2, 'bed.': 2, 'husband': 2, 'is,': 2, 'go.': 2, 'new': 2, 'not.': 2, 'sword': 2, 'fetch': 2, 'fate': 2, 'story': 2, 'meet': 2, 'sorry': 2, 'begins': 2, 'command': 2, 'state,': 2, 'perfect': 2, 'in,': 2, 'damn': 2, 'die.': 2, 'used': 2, 'laughs': 2, \"Othello's\": 2, 'blow': 2, 'sweet,': 2, 'field,': 2, 'devil,': 2, 'cry': 2, 'swear': 2, 'beseech': 2, 'kisses': 2, 'Will': 2, 'cruel': 2, 'thoughts.': 2, \"ta'en\": 2, 'certain.': 2, 'wont': 2, 'Desdemona?': 2, 'best.': 2, 'Some': 2, 'what?': 2, 'fresh': 2, 'kiss.': 2, 'more.': 2, 'heaven.': 2, 'hills': 2, \"o'\": 2, 'current': 2, 'gone.': 2, 'hand': 2, 'only': 2, 'leave': 2, 'shut': 2, 'Your': 2, 'years': 2, 'place': 2, 'Till': 2, 'but,': 2, 'stirs': 2, 'lives!': 2, 'moon': 2, 'please': 2, 'here.': 2, 'whole': 2, 'obedient,': 2, 'obey': 2, \"turn'd\": 2, 'wife,': 2, 'still': 2, 'other': 2, 'bade': 2, 'again,': 2, 'now.': 2, 'way': 2, 'mean?': 2, 'Excellent': 2, 'may': 2, 'tears': 2, 'time.': 2, 'mine.': 2, 'know,': 2, 'approved': 2, \"there's\": 2, 'patience;': 2, 'Desdemona;': 2, 'Desdemon!': 2, 'then?': 2, 'life.': 2, 'guard': 2, 'liberal': 2, 'mad.': 2, 'lies': 2, 'Lie': 2, 'worst': 2, 'Or,': 2, 'words.': 2, 'Would': 2, 'true;': 2, 'speak,': 2, 'Kisses': 2, 'ear': 2, 'eyes,': 2, 'breath,': 2, 'No': 2, 'devil': 2, 'hearts.': 2, 'gentle': 2, 'teach': 2, 'sun': 2, 'wife?': 2, 'night,': 2, 'forgot': 2, 'truly': 2, 'then,': 2, 'Peace,': 2, 'bring': 2, 'nose': 2, 'noise': 2, 'took': 2, 'beneath': 2, 'committed?': 2, 'Attendants.': 2, 'heed': 2, 'lady.': 2, 'face.': 2, 'again': 2, 'he.': 2, 'mistress,': 2, 'light,': 2, 'Leave': 2, 'honorable': 2, 'Montano,': 2, 'each': 2, 'These': 2, 'aught': 2, 'ourselves': 2, 'utmost': 2, 'word': 2, 'indeed.': 2, 'royal': 2, 'death.': 2, 'weak': 2, 'So,': 2, 'devil!': 2, 'virtue': 2, 'grave': 2, \"kill'd?\": 2, 'together.': 2, 'Cyprus.': 2, 'side,': 2, 'sold': 2, 'Othello.': 2, 'noble': 2, 'thou?': 2, 'waked': 2, 'next': 2, 'Like': 2, 'mind': 2, 'All': 2, 'Put': 2, 'youth': 2, 'keeps': 2, 'find': 2, 'Away!': 2, 'devil.': 2, 'needs': 2, 'though': 2, 'times': 2, 'makest': 2, 'thus.': 2, 'Still': 2, 'just': 2, 'live': 2, 'just,': 2, \"is't\": 2, 'deeds.': 2, 'thoughts': 2, 'almost': 2, \"What's\": 2, 'drop': 2, 'you?': 2, 'wife!': 2, 'due': 2, 'that.': 2, 'true,': 2, 'deeds': 2, 'pitiful,': 2, 'dead?': 2, 'soft': 2, 'Heaven': 2, 'honest,': 2, 'Othello': 2, \"wish'd\": 2, 'base': 2, 'pray': 2, 'Cassio,': 2, 'lips.': 2, 'monster': 2, 'honor': 2, 'lost': 2, 'send': 2, 'Wherein': 2, 'myself.': 2, 'why': 2, 'Then': 2, 'sight!': 2, 'passion': 2, \"know't\": 2, 'bed,': 2, \"o'er\": 2, 'didst': 2, 'house': 2, 'balmy': 2, 'away!': 2, 'ay,': 2, 'believe': 2, 'horrible': 2, 'her;': 2, 'tonight.': 2, 'possible?': 2, 'villain!': 2, 'trumpet': 2, \"'Twas\": 2, 'till': 2, 'every': 2, \"kill'd\": 2, 'nothing,': 2, 'I.': 2, 'nine': 2, 'speech,': 2, 'way?': 2, 'days': 2, 'blood': 2, 'night': 2, 'on,': 2, 'two': 2, 'hold': 2, 'Set': 2, 'soul.': 2, 'handkerchief,': 2, 'vain': 2, 'They': 2, 'act': 2, 'gone!': 2, 'On': 2, 'hands,': 2, 'state': 2, 'friend,': 2, 'call': 2, 'die,': 2, 'cause,': 2, 'doubt,': 2, 'hast': 2, 'good.': 2, 'heads': 2, 'delicate': 2, 'Farewell,': 2, 'Ay.': 2, 'words': 2, 'Go': 2, 'content': 2, 'straight.': 2, 'But,': 2, 'Her': 2, 'hollow': 2, 'too.': 2, 'that,': 2, 'done': 2, 'monstrous!': 2, 'plague': 2, 'goodly': 1, 'harsh.': 1, 'war!': 1, 'foregone': 1, 'pain.': 1, 'dine': 1, \"pray'd\": 1, 'forth.': 1, 'alive.': 1, 'hate,': 1, 'quench': 1, 'intentively.': 1, 'How?': 1, 'match.': 1, 'hither;': 1, \"sea's\": 1, 'Turks': 1, 'blotted;': 1, 'recognizance': 1, 'Mistress!': 1, 'wise?': 1, 'something.': 1, 'restore,': 1, 'folly,': 1, 'Venice': 1, 'home;': 1, 'Strumpet,': 1, 'trump,': 1, 'earth,': 1, 'bare': 1, 'hang': 1, 'subtle': 1, 'apart;': 1, 'vengeance,': 1, 'voice.]': 1, 'estimation!': 1, 'conduct': 1, 'wasted,': 1, 'mandate,': 1, \"kiss'd\": 1, 'uncle;': 1, 'quite': 1, \"'Twere\": 1, 'abandon': 1, 'least': 1, 'lust?': 1, 'cause': 1, 'heart;': 1, 'Which,': 1, 'wide': 1, 'done.': 1, 'needle,': 1, 'moving?': 1, 'gladly': 1, 'lovely': 1, 'broil': 1, 'fatal.': 1, 'neither,': 1, 'offense,': 1, 'purchase': 1, \"he's\": 1, 'Rude': 1, \"said'st-\": 1, 'neighing': 1, 'her?': 1, 'bloody.': 1, 'merits': 1, 'admirable': 1, 'thunder?': 1, '(dost': 1, 'hear,': 1, 'argues': 1, 'And,': 1, 'mercy': 1, 'public': 1, 'circumcised': 1, \"soul's\": 1, 'ho!': 1, 'gravity': 1, 'fate.': 1, \"others'\": 1, 'smock!': 1, 'moist,': 1, \"thank'd\": 1, 'fond': 1, 'lady;': 1, 'at!': 1, 'discarded': 1, 'extremity.': 1, 'bright': 1, 'Cough,': 1, 'arm,': 1, 'imminent': 1, 'Away': 1, 'ere': 1, 'peace;': 1, 'Pioners': 1, 'shows': 1, 'moist.': 1, 'well-painted': 1, 'caitiff!': 1, 'prove;': 1, 'medicinal': 1, 'little.': 1, 'worth.': 1, 'bay': 1, 'oft.': 1, 'Went': 1, 'weep;': 1, 'sword.': 1, 'turn.': 1, 'Christian': 1, 'home.': 1, 'toad,': 1, 'Turk': 1, 'brawl': 1, 'heed,': 1, 'sir-': 1, 'noted,': 1, 'cistern': 1, 'up.': 1, \"'twill\": 1, 'confessions-': 1, 'fan,': 1, \"pass'd.\": 1, 'upon?': 1, 'true': 1, 'incline;': 1, 'invited': 1, 'spake:': 1, 'lock': 1, 'judgement': 1, 'strife.': 1, 'whiter': 1, 'Methinks': 1, \"Perplex'd\": 1, '[To': 1, 'disports': 1, 'complaints.': 1, 'puny': 1, 'Devil!': 1, 'echoes': 1, 'chuck?': 1, 'Due': 1, 'malignant': 1, 'Send': 1, 'promise,': 1, 'Roderigo.': 1, 'Ottomites.': 1, 'ocular': 1, 'love.': 1, 'condition': 1, 'Cuckold': 1, 'year,': 1, 'tranquil': 1, 'it:': 1, 'witness': 1, 'pleasures.': 1, 'jealous,': 1, 'proof,': 1, 'so?': 1, 'think?': 1, 'beast.': 1, 'creature': 1, 'rush': 1, \"Ne'er\": 1, 'ariseth': 1, 'man;': 1, 'without': 1, 'domestic': 1, 'good?': 1, 'Repair': 1, 'hairs': 1, 'mortal': 1, 'dost;': 1, 'officer': 1, 'mock': 1, 'ours,': 1, 'Greater': 1, 'changes': 1, 'stifles': 1, 'forever': 1, 'end,': 1, 'again;': 1, 'follow': 1, 'jealousy!': 1, 'attended.': 1, 'letters': 1, 'strive-': 1, 'pernicious': 1, 'born!': 1, 'met': 1, 'shed': 1, 'thought.': 1, 'said?': 1, 'castigation,': 1, 'low': 1, \"pass'd,\": 1, 'earliest': 1, 'Ancient,': 1, 'did.': 1, 'Grace': 1, 'commoner!': 1, 'sticks': 1, 'pains': 1, 'dote': 1, 'alacrity': 1, 'dying': 1, 'shoulders.': 1, 'rule.': 1, 'themselves': 1, 'Silence': 1, 'stare': 1, 'swift': 1, 'teem': 1, 'confess.': 1, 'Confess?': 1, 'through,': 1, 'lift': 1, 'chuck,': 1, 'plays,': 1, 'Impudent': 1, \"waken'd\": 1, 'fashion,': 1, 'patience,': 1, 'plenteous': 1, 'dries': 1, \"think'st\": 1, 'precious': 1, 'they?': 1, \"smell'st\": 1, 'Wash': 1, 'triumph,': 1, 'all-': 1, 'Uncle,': 1, 'skin': 1, 'that-': 1, 'will,': 1, 'give,': 1, 'me!': 1, 'safety!': 1, 'true.': 1, 'unfolds.': 1, 'eye;': 1, 'moving': 1, 'besort': 1, 'Speak': 1, 'Whereon,': 1, 'Bid': 1, 'outsport': 1, 'belie': 1, 'hanged': 1, 'merry;': 1, 'mouth': 1, 'Given': 1, 'engage': 1, 'base;': 1, 'enough;': 1, 'beauty': 1, 'Damn': 1, 'proper': 1, 'furnish': 1, 'Lest,': 1, 'steed': 1, 'entreat': 1, 'fire,': 1, 'Drop': 1, 'gets': 1, 'deadly': 1, 'Pale': 1, 'minister,': 1, 'already!': 1, 'honor,': 1, 'daughter.': 1, 'carve': 1, 'stone': 1, 'coffers.': 1, \"were't\": 1, 'relume.': 1, 'acquaintance': 1, 'then;': 1, 'late.': 1, 'winks;': 1, 'Fire': 1, 'naked': 1, 'Handkerchief?': 1, 'tented': 1, 'does': 1, 'back': 1, 'Honest?': 1, 'times.': 1, 'did,': 1, 'news?': 1, 'seel': 1, 'pertains': 1, 'tongues!': 1, 'out-tongue': 1, 'spirit,': 1, 'Farewell!': 1, 'chrysolite,': 1, 'persuade': 1, 'besides,': 1, 'conspire': 1, 'plumed': 1, 'ebb': 1, 'fife,': 1, 'thrive': 1, 'shames': 1, 'motion.': 1, 'Take': 1, 'magic-': 1, \"lust's\": 1, 'collied,': 1, 'secrets.': 1, 'circumscription': 1, 'relate,': 1, 'tree.': 1, 'harm!': 1, 'comes:': 1, 'No.': 1, 'happy': 1, 'in!': 1, 'dissemble!': 1, 'loathed': 1, \"to't\": 1, 'gavest': 1, 'chop': 1, \"on't;\": 1, 'cause.': 1, 'More': 1, 'stomach': 1, 'either': 1, \"lust-stain'd\": 1, 'laboring': 1, 'matter': 1, 'invest': 1, 'murther,': 1, 'gift.': 1, \"ice-brook's\": 1, 'subdued': 1, 'savageness': 1, 'breeding.': 1, 'scar': 1, 'compasses,': 1, 'him.': 1, 'Hot,': 1, 'house,': 1, 'fear.': 1, 'grow': 1, 'Nature': 1, \"travels'\": 1, 'monstrous.': 1, 'Into': 1, 'says': 1, 'arm': 1, 'possession': 1, 'villainous': 1, 'mind.': 1, 'dilate,': 1, 'former': 1, \"maiden's\": 1, 'liberty,': 1, 'Being': 1, 'discourse;': 1, \"occupation's\": 1, 'story.': 1, 'accumulate;': 1, 'citadel;': 1, 'hour,': 1, 'Never': 1, 'worthiness': 1, 'spirit.': 1, 'mind!': 1, 'traduced': 1, 'speak-': 1, 'mystery,': 1, 'monumental': 1, 'working': 1, 'Proceed': 1, 'walk,': 1, 'manage': 1, 'smallest': 1, 'am;': 1, 'farewell.': 1, 'Soft': 1, 'happy;': 1, 'pleases,': 1, \"feather'd\": 1, 'Chaos': 1, 'conjuration,': 1, 'contract': 1, 'conception': 1, 'parted': 1, 'flood': 1, 'I;': 1, 'prayer': 1, 'brimful': 1, 'content;': 1, 'thence!': 1, \"garner'd\": 1, 'hear?)': 1, 'fiends': 1, 'heat': 1, 'satisfaction;': 1, 'Committed?': 1, 'rule,': 1, 'disembark': 1, 'yes,': 1, 'oath': 1, 'Avaunt!': 1, 'Crying,': 1, 'Pish!': 1, 'sweeter': 1, 'unshunnable,': 1, 'bark': 1, 'breed': 1, \"Jove's\": 1, 'accommodation': 1, 'guides': 1, 'speculative': 1, 'fortune': 1, 'officed': 1, 'Bring': 1, 'neither.': 1, 'Must': 1, 'chaste': 1, 'might': 1, 'strange;': 1, 'Strikes': 1, 'shakes': 1, \"i'\": 1, 'fancies.': 1, 'relief': 1, 'any': 1, '\"whore\"': 1, 'captivity': 1, 'alone': 1, 'quicken': 1, 'order': 1, 'flaming': 1, 'snow': 1, 'fight,': 1, 'whistle': 1, 'moon;': 1, 'Goats': 1, 'shame,': 1, \"Desdemona's\": 1, 'ever': 1, 'jealous': 1, 'Stabs': 1, \"began't?\": 1, 'amen.': 1, 'big': 1, 'scant': 1, 'whore': 1, 'stillness': 1, 'vile': 1, 'Anthropophagi,': 1, 'Solicit': 1, 'Cyprus;': 1, 'absolute': 1, 'veritable;': 1, 'givest': 1, 'arms': 1, 'thigh.': 1, 'gratify': 1, 'offends': 1, 'invention-': 1, \"here's\": 1, 'honesty?': 1, 'affairs': 1, 'bid': 1, 'antique': 1, 'shown.': 1, 'Desdemona!': 1, \"robb'd,\": 1, 'messes.': 1, 'instruction.': 1, 'know-': 1, 'light;': 1, 'pitiful.': 1, 'grave,': 1, 'hell;': 1, 'Duke': 1, \"damn'd\": 1, 'have,': 1, 'strong': 1, 'content!': 1, 'citadel.': 1, \"double-damn'd;\": 1, 'isle': 1, 'custom;': 1, 'iteration,': 1, 'condition!': 1, 'Hold,': 1, 'said': 1, 'knot': 1, 'flies': 1, 'streams,': 1, 'nought': 1, 'forges': 1, \"murther'd?\": 1, 'pray;': 1, 'tremble': 1, 'last.': 1, 'returned': 1, 'poverty': 1, 'ensue;': 1, 'night-brawler?': 1, \"suffer'd.\": 1, 'human': 1, 'pace,': 1, 'this.': 1, 'thoughts,': 1, 'loathe': 1, 'insolent': 1, 'cheeks,': 1, 'grant': 1, 'niece,': 1, 'lord?': 1, \"aspics'\": 1, 'antres': 1, 'chances,': 1, 'memory,': 1, 'extenuate,': 1, 'banner,': 1, 'rage': 1, 'up;': 1, 'ears': 1, 'curtains': 1, 'sooner,': 1, 'compulsive': 1, 'break': 1, 'thyself;': 1, \"dismay'd?\": 1, 'worth': 1, 'tempts': 1, 'ye': 1, 'captains': 1, 'hideous': 1, 'Haply,': 1, \"All's\": 1, 'amiable': 1, 'eyes;': 1, 'same?': 1, 'signiors,': 1, 'Naked': 1, 'remove': 1, \"'tween\": 1, 'calms,': 1, 'Conserved': 1, 'opinion': 1, 'yours,': 1, 'gender': 1, 'action': 1, \"to't:\": 1, 'kinds': 1, 'daughter,': 1, 'spotted.': 1, 'portance': 1, 'thence,': 1, 'manifest': 1, 'lives,': 1, 'choke': 1, 'entire': 1, 'understand': 1, 'sustain': 1, 'horrors': 1, 'musician.': 1, 'fright': 1, 'remorse;': 1, 'grounds': 1, 'through': 1, 'castle.': 1, 'itself': 1, 'learned': 1, 'marry?': 1, 'You,': 1, 'blown': 1, 'camp,': 1, \"drown'd.\": 1, 'rather': 1, \"hell's\": 1, 'endure': 1, 'burning': 1, 'to.': 1, 'still!': 1, 'found.': 1, 'yond?': 1, 'works;': 1, 'Cassio!\"': 1, 'this-': 1, 'husband,': 1, 'honor.': 1, 'reason': 1, 'thousand,': 1, 'oft': 1, 'offending': 1, 'cords': 1, 'rightly.': 1, 'Hum!': 1, 'compt,': 1, 'For,': 1, 'exhibition,': 1, 'closet': 1, 'canst': 1, 'tricks': 1, 'matters': 1, 'devils': 1, 'come.': 1, 'finger': 1, 'idle,': 1, 'general': 1, 'bosom,': 1, 'out.': 1, 'labor-': 1, 'eternal': 1, 'thus,': 1, 'catch': 1, 'sent': 1, 'work;': 1, \"be'st\": 1, 'amongst': 1, 'tale': 1, \"saw't\": 1, 'affliction,': 1, 'Indian,': 1, 'excelling': 1, \"She'ld\": 1, 'pearl': 1, 'sea-mark': 1, 'fall': 1, 'history;': 1, 'whore.': 1, 'herself': 1, 'slander': 1, '[Raises': 1, 'rheum': 1, 'isle?': 1, 'magic': 1, 'one,': 1, 'hates': 1, 'dreadful': 1, 'will;': 1, 'darling': 1, 'conveyance': 1, 'smote': 1, \"lose't\": 1, 'mother': 1, 'protectress': 1, 'silk,': 1, 'known.': 1, 'honesty,': 1, \"hush'd\": 1, 'resolved.': 1, 'pomp,': 1, 'charge?': 1, 'thee!': 1, 'round': 1, 'insupportable!': 1, 'Vouch': 1, 'extreme;': 1, 'Making': 1, 'fire!': 1, 'mood,': 1, 'threw': 1, 'spirit-stirring': 1, 'clamors': 1, 'rest.': 1, 'tells': 1, 'fraught,': 1, 'began,': 1, 'disloyal.': 1, 'dispatch.': 1, \"Steep'd\": 1, 'repent': 1, 'ha,': 1, \"people's\": 1, \"look'st\": 1, \"Think'st\": 1, 'poor,': 1, \"woman's\": 1, \"like'st\": 1, 'No!': 1, 'Boding': 1, 'forty': 1, 'capable': 1, 'liar': 1, 'love:': 1, 'seriously': 1, 'obey?': 1, 'cinders': 1, \"ill-starr'd\": 1, 'sins.': 1, 'shrewd': 1, 'defunct-': 1, 'world,': 1, 'alteration.': 1, 'flinty': 1, 'while': 1, 'dangers': 1, 'freely': 1, 'nay,': 1, 'distressful': 1, 'wonder': 1, 'give;': 1, 'runs': 1, 'said.': 1, 'retires.': 1, 'warrior!': 1, 'sulphur!': 1, 'look!': 1, 'Rough': 1, 'body': 1, 'amazed;': 1, 'point': 1, 'Justice': 1, 'woman?': 1, \"see't?\": 1, \"They're\": 1, 'heavenly': 1, 'live,': 1, 'master': 1, 'chamberers': 1, 'trust.': 1, 'devils,': 1, 'Honey,': 1, 'good,': 1, 'justly': 1, 'minx!': 1, 'obedient.': 1, 'perish,': 1, 'lieutenant?': 1, 'Amen,': 1, 'hours': 1, 'slime': 1, 'grows': 1, 'committed.': 1, 'Duke?': 1, 'nature': 1, 'Much': 1, 'left': 1, 'read': 1, 'sieges,': 1, 'men.': 1, 'fury': 1, 'Sea,': 1, 'spirits': 1, 'care': 1, 'jot,': 1, 'it?': 1, 'Albeit': 1, 'bawdy': 1, 'feeds': 1, 'Exchange': 1, 'inference.': 1, 'dead': 1, 'tears;': 1, 'hanged,': 1, 'advantage.': 1, 'affects': 1, 'After': 1, 'Hellespont,': 1, 'control': 1, 'went': 1, 'prey': 1, 'discords': 1, 'proud': 1, 'farewell,': 1, 'Cold,': 1, 'gives': 1, 'brief;': 1, 'distracted.': 1, 'dread': 1, 'wind': 1, 'said,': 1, 'winds!': 1, 'will.': 1, 'him?': 1, 'slave': 1, 'write': 1, 'unprovide': 1, 'Holds': 1, 'avaunt!': 1, 'damnation!': 1, 'denoted': 1, \"Let's\": 1, 'pardon': 1, 'bending': 1, 'pattern': 1, 'shambles,': 1, 'proof.': 1, 'doubtless': 1, 'Whereof': 1, 'Does': 1, 'fail': 1, 'reads.': 1, 'butt': 1, 'dilations,': 1, 'eat,': 1, 'up,': 1, 'messengers': 1, 'falls': 1, 'heraldry': 1, 'honest?': 1, 'O-': 1, 'goat': 1, 'Arise,': 1, 'Both': 1, 'body,': 1, 'fortune.': 1, 'masters;': 1, 'Kneels.': 1, 'hunt': 1, 'wive,': 1, 'Show': 1, \"weapon'd;\": 1, 'well.': 1, 'attendant': 1, 'voice': 1, 'withdraw,': 1, 'puts': 1, 'do,': 1, 'wakes.': 1, 'seize': 1, 'fable.': 1, 'forfend!': 1, 'Wounds': 1, 'breath': 1, \"o'er.\": 1, 'simple': 1, 'trees': 1, 'perceive,': 1, 'stones': 1, 'forever.': 1, 'drops': 1, 'mystery;': 1, 'girl?': 1, 'comforts.': 1, 'brimstone!': 1, 'bound': 1, 'fair,': 1, \"stol'n,\": 1, \"harm'd\": 1, 'lewd': 1, 'triumph?': 1, 'grace': 1, 'reverend': 1, 'revenge.': 1, 'friends:': 1, 'feels': 1, 'Keep': 1, 'in?': 1, 'am.': 1, 'expostulate': 1, 'way.': 1, 'wind,': 1, 'importunes': 1, \"confess'd\": 1, 'there?': 1, 'subdue': 1, 'web': 1, 'wretch!': 1, 'afraid,': 1, 'spake': 1, 'runs,': 1, 'moons': 1, 'fated': 1, 'court': 1, 'suspicions?': 1, 'depth': 1, 'stars!': 1, 'slept': 1, 'earnest': 1, 'day': 1, \"see't;\": 1, 'touch': 1, 'prompter.': 1, 'agnize': 1, 'wench!': 1, 'joy.': 1, 'withal-': 1, 'icy': 1, 'Propontic': 1, 'book,': 1, 'counterfeit,': 1, 'worms': 1, 'make!': 1, 'anything;': 1, 'whore,': 1, 'weapon;': 1, \"cunning'st\": 1, 'withal.': 1, \"rose-lipp'd\": 1, \"Discern'st\": 1, 'fixed': 1, 'hurts': 1, 'parts,': 1, 'sing': 1, 'troop': 1, 'strike': 1, 'war': 1, 'Poison': 1, 'kneel': 1, 'hands;': 1, 'pith,': 1, '\"This': 1, 'Olympus-high,': 1, 'fountain': 1, 'scorn': 1, 'mince': 1, 'stir,': 1, 'faith!': 1, 'Noses,': 1, 'glad': 1, 'within': 1, 'living': 1, 'came': 1, 'levels': 1, '[A': 1, 'hence': 1, 'stranger': 1, 'works': 1, 'turned': 1, 'scored': 1, 'happiness': 1, 'slave!': 1, 'housewives': 1, 'hither.': 1, 'retiring': 1, 'here;': 1, 'heartstrings,': 1, 'off': 1, 'bounteous': 1, 'corner': 1, 'wish': 1, 'helm,': 1, 'unused': 1, 'Cupid': 1, \"do't.\": 1, 'body?': 1, 'eye': 1, 'letter,': 1, 'unauthorized': 1, 'nothing.': 1, 'Killing': 1, 'heavenly,': 1, 'affrighted': 1, 'try': 1, 'them;': 1, 'Sagittary,': 1, 'walking': 1, 'promulgate-': 1, 'yond': 1, 'censure.': 1, 'damned': 1, 'marriage,': 1, 'pain': 1, 'chamber;': 1, 'dead.': 1, 'fasting,': 1, 'this;': 1, 'rich': 1, 'confine': 1, 'reverence': 1, \"Fetch't,\": 1, 'last;': 1, 'ear-piercing': 1, 'Beat': 1, 'boast!': 1, 'cursed': 1, 'blest': 1, 'water.': 1, 'perjury;': 1, 'strumpet?': 1, 'frank': 1, 'Venice.': 1, 'beckons': 1, 'Certain,': 1, 'Without': 1, 'sail.': 1, 'Minion,': 1, 'town,': 1, 'gone?': 1, 'challenge': 1, 'gone': 1, 'therewith': 1, 'deliver': 1, 'die': 1, 'jealousy,': 1, 'liquid': 1, 'Would?': 1, 'Egyptian': 1, 'acceptance': 1, 'accidents': 1, 'head,': 1, 'rust': 1, 'commonly': 1, 'sequester': 1, 'comply': 1, 'ruminate,': 1, 'Perdition': 1, 'Not?': 1, 'much-': 1, 'cue': 1, 'add': 1, 'hopes,': 1, 'brawl.': 1, 'prattle': 1, 'Spain,': 1, 'services,': 1, 'whom': 1, 'Out': 1, '\"O': 1, 'gloves,': 1, 'climb': 1, 'pleased': 1, 'unlucky': 1, 'crave': 1, 'linger': 1, 'sink': 1, 'Othello,': 1, 'skillful': 1, 'infected': 1, 'live.': 1, 'bethink': 1, 'whore?': 1, 'observe.': 1, 'welcome,': 1, \"sew'd\": 1, 'vices': 1, 'rocks,': 1, 'anon.': 1, \"weigh'st\": 1, 'Montano': 1, 'dead!': 1, 'raven': 1, 'dew': 1, 'Pontic': 1, 'worldly': 1, 'Swallow': 1, 'voices.': 1, 'death!': 1, 'after.': 1, \"friend's\": 1, 'smooth': 1, 'diest.': 1, 'alas,': 1, 'pliant': 1, 'dearest': 1, 'mighty': 1, 'fruits': 1, 'father.': 1, 'powers!': 1, 'faith,': 1, 'charmer,': 1, 'yourself': 1, 'itself-': 1, 'perjured': 1, 'proceed': 1, 'gum.': 1, 'Never,': 1, 'indeed': 1, 'kiss': 1, 'fortification,': 1, 'moment': 1, \"Dian's\": 1, 'Handkerchief-': 1, 'wild,': 1, 'Cannot': 1, 'Down,': 1, 'sings,': 1, 'engines,': 1, 'deserts': 1, 'burn': 1, 'come,': 1, 'yet,': 1, 'dullness': 1, 'strikes': 1, 'together,': 1, 'goodness': 1, 'wooing,': 1, 'vital': 1, 'disposition': 1, 'war,': 1, 'dies': 1, 'hate!': 1, 'satisfied,': 1, \"stopp'd.\": 1, \"murther's\": 1, 'within.]': 1, 'high': 1, 'stroke': 1, 'officer!': 1, 'title,': 1, 'not;': 1, 'lips,': 1, 'hands': 1, 'away;': 1, 'am,': 1, '[Advancing.]': 1, 'erring': 1, 'brave': 1, 'beg': 1, 'forbid': 1, 'demerits': 1, 'having': 1, 'signiory,': 1, 'sword!': 1, 'Turks,': 1, 'blame.': 1, \"turban'd\": 1, 'masters,': 1, 'Blow': 1, 'uses.': 1, 'Turn': 1, 'nearer': 1, 'ask?': 1, 'seas': 1, 'defend': 1, 'Tomorrow': 1, 'glorious': 1, 'haggard,': 1, 'death': 1, \"pluck'd\": 1, 'you;': 1, 'Ottomites?': 1, 'disloyal': 1, 'smell': 1, 'seven': 1, 'draw.': 1, 'lights': 1, 'herself,': 1, 'mine?': 1, 'Think,': 1, 'creature.': 1, 'Assays': 1, '[Reads.]': 1, 'shrill': 1, 'used.': 1, 'battle;': 1, 'Prerogatived': 1, 'quicken.': 1, 'fruitfulness': 1, \"father's\": 1, 'both': 1, 'haste': 1, 'toads': 1, 'battles,': 1, 'virtuously': 1, 'to;': 1, 'hell,': 1, 'begrimed': 1, 'weapon': 1, 'natural': 1, 'breast,': 1, 'adversities': 1, 'Emilia.]': 1, 'Fetch': 1, 'visage,': 1, 'here,': 1, 'rot,': 1, 'swore,': 1, 'steel': 1, 'disastrous': 1, 'heart.': 1, 'Made': 1, 'mummy': 1, 'quarries,': 1, 'qualities,': 1, 'thought,': 1, 'heaven!': 1, 'hinge': 1, 'unbonneted': 1, 'growth': 1, 'propriety.': 1, 'revolt;': 1, 'nature,': 1, 'something': 1, 'Took': 1, 'service,': 1, 'Hence,': 1, 'assault': 1, 'tribe;': 1, 'napkin': 1, 'Soft,': 1, 'off.': 1, 'whisper?': 1, 'palate': 1, 'pieces.': 1, 'return': 1, 'made,': 1, 'Succeeds': 1, 'temper-': 1, 'misgives.': 1, 'laugh': 1, 'dies.': 1, 'demand': 1, 'sentence': 1, 'knives,': 1, 'fault.': 1, 'curse': 1, 'town': 1, \"soldiers'\": 1, 'Venetian': 1, 'weapons.': 1, 'betray': 1, 'like?': 1, 'Whip': 1, 'committed!': 1, 'born': 1, 'Lead': 1, 'tears.': 1, 'perdition': 1, 'were;': 1, \"know't.\": 1, 'souls,': 1, 'Entirely': 1, 'Amen': 1, 'conceit.': 1, 'quarrel,': 1, 'dealings.': 1, 'cold,': 1, 'instruments,': 1, \"confess'd.\": 1, 'surgeon.': 1, 'toys': 1, 'stop,': 1, 'senators,': 1, 'Patience,': 1, 'Matching': 1, 'article': 1, 'unprepared': 1, 'humbly': 1, 'walk.': 1, 'gift': 1, 'parts': 1, 'drugs,': 1, 'Indeed?': 1, 'kept': 1, 'bell;': 1, 'summer': 1, 'hearted': 1, 'process-': 1, 'makes': 1, 'seem.': 1, 'began': 1, 'front': 1, 'say?': 1, 'What!': 1, 'top': 1, 'impediments': 1, \"sorrow's\": 1, 'Desdemona-': 1, 'Cassio;': 1, \"unvarnish'd\": 1, 'melting': 1, 'barbarous': 1, 'fate?': 1, 'anything?': 1, 'Death': 1, '[Rises.]': 1, 'win.': 1, 'door;': 1, \"give't\": 1, 'creatures': 1, 'bloody': 1, 'Ha,': 1, \"thou'rt\": 1, 'letters,': 1, 'hour': 1, 'there;': 1, 'consent,': 1, 'word.': 1, 'hers': 1, 'will-\"': 1, 'sup': 1, \"kill'd!\": 1, 'prophetic': 1, 'light.': 1, 'tyrant': 1, 'wise;': 1, 'direction,': 1, 'greedy': 1, 'wherefore?': 1, 'respect.': 1, 'denies': 1, 'thing': 1, 'What?': 1, 'back,': 1, 'wisest': 1, 'Roast': 1, 'Too': 1, 'unblest': 1, 'groan': 1, \"rain'd\": 1, 'intend': 1, 'throne': 1, 'ran': 1, 'nothing?': 1, 'Speak:': 1, \"years'\": 1, 'gulfs': 1, 'Well.': 1, 'demi-devil': 1, 'fit': 1, 'sores': 1, 'tyrannous': 1, 'ears,': 1, 'bear.': 1, 'key': 1, 'fast': 1, \"Weep'st\": 1, 'vow': 1, 'instant': 1, 'cursed,': 1, 'jot.': 1, 'pilot,': 1, 'probation': 1, 'procreants': 1, 'blood!': 1, 'sweating': 1, 'hair-breadth': 1, 'attend': 1, 'go?': 1, 'virtuous.': 1, 'away,': 1, 'Saint': 1, 'yawn': 1, 'humble': 1, 'chastity.': 1, \"'Zounds,\": 1, 'duck': 1, 'That?': 1, 'won': 1, 'throat': 1, 'gracious': 1, 'fine': 1, 'prayer,': 1, 'tempt': 1, \"wrong'd\": 1, 'Very': 1, 'eyes': 1, 'sacred': 1, 'Out,': 1, 'name,': 1, 'story,': 1, 'Aleppo': 1, 'imports': 1, 'wondrous': 1, 'safer': 1, 'quality,': 1, 'salt': 1, 'friend': 1, 'stop.': 1, 'Roderigo': 1, 'Pray,': 1, 'skillet': 1, 'often': 1, 'filthy': 1, 'known': 1, 'misery!': 1, \"stol'n\": 1, 'sibyl,': 1, 'wanton': 1, 'hies.': 1, 'akilling.': 1, 'since': 1, 'Stand': 1, 'Devour': 1, 'Unlocks': 1, \"reach'd.\": 1, 'purse': 1, \"light-wing'd\": 1, 'rout': 1, 'government.': 1, 'loves': 1, 'vale': 1, 'between': 1, 'comfort': 1, 'foul!': 1, 'malice.': 1, 'horned': 1, 'lieutenant.': 1, 'heart!': 1, 'conversation': 1, 'enough': 1, 'sir.': 1, \"twinn'd\": 1, \"wife's?\": 1, 'function,': 1, \"horror's\": 1, 'thence': 1, 'justice': 1, 'boyish': 1, 'there!': 1, 'Within': 1, 'Cannibals': 1, 'slavery,': 1, 'lady': 1, 'Promethean': 1, 'murtherer,': 1, 'sense,': 1, 'marble': 1, \"profit's\": 1, 'sacrifice.': 1, 'woe': 1, 'criedst,': 1, 'hot,': 1, 'Behold,': 1, 'birth,': 1, \"lady's\": 1, 'swords,': 1, 'tears,': 1, 'year': 1, 'vast': 1, 'ebb,': 1, 'on;': 1, 'foe': 1, 'exsufflicate': 1, 'damnation': 1, \"question'd\": 1, 'forked': 1, 'modesty,': 1, 'slumbers': 1, 'exercise': 1, 'surmises,': 1, 'tempest': 1, 'feet;': 1, 'Worthy': 1, 'once,': 1, 'Peter,': 1, 'do.': 1, 'blowing.': 1, 'door.': 1, 'life!': 1, 'Precious': 1, \"'scapes\": 1, 'custom,': 1, 'dyed': 1, 'rack.': 1, 'grim': 1, 'corrupt': 1, 'pause.': 1, 'ones:': 1, 'Lend': 1, 'plucked': 1, 'woo': 1, 'rude': 1, 'himself.': 1, 'passing': 1, 'forgot?': 1, 'requires': 1, 'aches': 1, 'phrase': 1, 'ambition': 1, 'jesses': 1, 'pledge': 1, 'heard,': 1, 'alabaster.': 1, 'stone;': 1, 'cherubin,': 1, 'tear': 1, 'abused,': 1, 'potent,': 1, 'indign': 1, 'chamber.': 1, 'snatch': 1, 'destiny': 1, 'shadowing': 1, 'gentlemen,': 1, 'extent,': 1, 'hypocrisy': 1, 'complexion': 1, 'reputation': 1, 'wit': 1, 'mask,': 1, 'presently:': 1, 'News,': 1, 'Swear': 1, 'doubt;': 1, 'drum,': 1, 'pray,': 1, 'breach,': 1, 'knew': 1, 'forehead': 1, 'company,': 1, 'vapor': 1, 'immortal': 1, '\"hem,\"': 1, 'pardon.': 1, 'crown': 1, 'servants': 1, 'life;': 1, 'sin,': 1, 'Say': 1, 'observing,': 1, 'Villain,': 1, 'frights': 1, 'joy!': 1, 'exceeding': 1, 'unknown': 1, 'else.': 1, \"journey's\": 1, 'time': 1, 'faintly': 1, 'torture': 1, 'first,': 1, 'civil;': 1, 'monkeys!': 1, \"soldier's\": 1, 'business,': 1, 'report,': 1, 'speech': 1, 'forthwith.': 1, 'wrought,': 1, 'serious': 1, 'lose': 1, 'throw': 1, 'rose,': 1, 'all,': 1, 'Concerning': 1, 'greatest': 1, 'siege,': 1, 'lead': 1, 'greet': 1, 'poison,': 1, \"robb'd\": 1, 'trance.': 1, 'witchcraft': 1, 'down.': 1, 'instant;': 1, 'slow': 1, 'merciful;': 1, 'feats': 1, 'instrument': 1, 'reference': 1, 'Opens': 1, 'walk': 1, 'amorous': 1, 'hurts,': 1, 'heat-': 1, 'abused': 1, 'outlive': 1, 'Were': 1, 'Forth': 1, 'do?': 1, 'sweeting;': 1, 'Unreconciled': 1, \"emperor's\": 1, 'taint': 1, 'commanded': 1, 'loop': 1, 'anybody': 1, 'Yield': 1, 'spite.': 1, 'towards': 1, 'meets,': 1, 'beguile': 1, 'conclusion.': 1, 'wanting': 1, 'shouldst': 1, 'much.': 1, 'Dismiss': 1, 'fear,': 1, 'inclining': 1, 'discretion.': 1, 'masters?': 1, 'Arabian': 1, 'word?': 1, 'brain': 1, 'Roman?': 1, 'violent': 1, 'devout,': 1, '[Aside.]': 1, 'less': 1, 'valiant': 1, 'lest': 1, 'He,': 1, 'disarms': 1, 'Once': 1, 'brow': 1, 'twenty': 1, 'speaking': 1, 'three': 1, 'heavy': 1, 'easily': 1, 'knave': 1, 'pilgrimage': 1, 'Prithee,': 1, 'wrong!': 1, 'couch': 1, 'strange.': 1, \"fellow's\": 1, 'things': 1, 'deathbed.': 1, 'myself,': 1, 'passion!-': 1, 'trust,': 1, 'teachest': 1, 'moon,': 1, 'first.': 1, \"number'd\": 1, 'paper,': 1, 'dream.': 1, 'tasted': 1, \"Who's\": 1, 'fulsome!': 1, 'Swell,': 1, 'gesture': 1, \"'Twould\": 1, 'taken': 1, 'thrice-driven': 1, 'little;': 1, 'undertake': 1, 'parcels': 1, 'grieving,': 1, 'needful': 1, 'Richer': 1, 'suffocating': 1, 'hundred': 1, 'signior,': 1, 'Senate.': 1, 'woman;': 1, 'thinkings,': 1, 'Grace,': 1, 'hour!': 1, 'duties': 1, 'come!': 1, 'hell.': 1, 'mouths': 1, 'moved.': 1, 'opposite': 1, 'Each': 1, 'years-': 1, 'hurl': 1, 'appetite,': 1, 'Look,': 1, 'unmoving': 1, 'eclipse': 1, 'chose': 1, 'silence': 1, 'wrath!': 1, 'Hold': 1, 'Hang': 1, 'assign': 1, 'gate': 1, 'newly': 1, 'Holla!': 1, 'grim.': 1, 'fortunes,': 1, 'boasting': 1, 'face?': 1, 'turn,': 1, 'virtue!': 1, 'throats': 1, 'Indeed!': 1, 'people.': 1, 'ensnared': 1, 'charge': 1, 'Man': 1, 'thanks,': 1, 'dungeon,': 1, 'scarce': 1, 'passion,': 1, 'murther': 1, 'mother.': 1, 'wisely': 1, '\"Indeed!\"': 1, 'whore;': 1, 'wither;': 1, 'desired': 1, 'figure': 1, 'Sweet': 1, 'whence': 1, 'error': 1, 'shame': 1, 'Fear': 1, 'winds': 1, 'rebels.': 1, 'strange,': 1, 'ancient;': 1, \"'s\": 1, 'dispatch,': 1, 'counsel': 1, 'too,': 1, 'Good,': 1, 'globe': 1, 'declined': 1, 'satisfied!': 1, 'dances': 1, 'stabs': 1, 'crocodile.': 1, 'huge': 1, 'one;': 1, 'myself': 1, 'rebuke.': 1, \"e'er\": 1, 'full': 1, 'redemption': 1, 'lost?': 1, 'tasks.': 1, 'grave.': 1, \"for't.\": 1, 'charged': 1, 'stay;': 1, 'appetites!': 1, 'sighs;': 1, 'serve': 1, 'token': 1, 'grace,': 1, 'alone.': 1, 'Pride,': 1, 'crime': 1, 'prompt': 1, 'steep-down': 1, \"hallow'd\": 1, 'friends!': 1, 'yours': 1, 'proceeding': 1, 'one.': 1, 'circumstance': 1, 'whipster': 1, 'weed,': 1, 'bawd': 1, 'unlace': 1, 'Sees': 1, 'here?': 1, 'close': 1, \"stopp'd;\": 1, 'private': 1, 'tune,': 1, 'proof;': 1, 'unhoused': 1, 'bounteous,': 1})\n"
     ]
    }
   ],
   "source": [
    "iago_list = []\n",
    "othello_list = []\n",
    "###Place your code here\n",
    "\n",
    "\n",
    "###Answer\n",
    "iago_speaking = False\n",
    "othello_speaking = False\n",
    "\n",
    "for line in othello_lines:\n",
    "    if 'IAGO.' in line:\n",
    "        iago_speaking = True\n",
    "        listy = line.strip().split(' ')\n",
    "        for word in listy:\n",
    "            if len(word) > 0:\n",
    "                iago_list.append(word)\n",
    "    elif iago_speaking == True:\n",
    "        if line[:4] == '    ':\n",
    "            listy = line.strip().split(' ')\n",
    "            for word in listy:\n",
    "                if len(word) > 0:\n",
    "                    iago_list.append(word)\n",
    "        else:\n",
    "            iago_speaking = False\n",
    "    else:\n",
    "        pass\n",
    "    \n",
    "    if 'OTHELLO.' in line:\n",
    "        othello_speaking = True\n",
    "        listy = line.strip().split(' ')\n",
    "        for word in listy:\n",
    "            if len(word) > 0:\n",
    "                othello_list.append(word)\n",
    "    elif othello_speaking == True:\n",
    "        if line[:4] == '    ':\n",
    "            listy = line.strip().split(' ')\n",
    "            for word in listy:\n",
    "                if len(word) > 0:\n",
    "                    othello_list.append(word)\n",
    "        else:\n",
    "            othello_speaking = False\n",
    "    else:\n",
    "        pass\n",
    "    \n",
    "    \n",
    "print(Counter(iago_list))\n",
    "print('#######')\n",
    "print(Counter(othello_list))\n",
    "\n"
   ]
  },
  {
   "cell_type": "markdown",
   "metadata": {},
   "source": [
    "**Exercise:** Our first step towards analyzing Othello was to extract out the Othello specific text from the complete works file, which we did in a pretty arbitrary way to make our lives easier. How would you do it in an automated fashion? Specifically, read the following file and return a _list_ containing the names of every play within the file. "
   ]
  },
  {
   "cell_type": "code",
   "execution_count": 176,
   "metadata": {
    "collapsed": true
   },
   "outputs": [],
   "source": [
    "complete_works = open('../Data/Shakespeare.txt').readlines()\n",
    "play_list = []\n",
    "###Your code here\n"
   ]
  },
  {
   "cell_type": "markdown",
   "metadata": {},
   "source": [
    "**Exercise:** How well does the code that we wrote above work on Hamlet? Romeo and Juliet? Who has the biggest vocabulary in all of Shakespeare?"
   ]
  },
  {
   "cell_type": "code",
   "execution_count": null,
   "metadata": {
    "collapsed": true
   },
   "outputs": [],
   "source": []
  }
 ],
 "metadata": {
  "kernelspec": {
   "display_name": "Python 3",
   "language": "python",
   "name": "python3"
  },
  "language_info": {
   "codemirror_mode": {
    "name": "ipython",
    "version": 3
   },
   "file_extension": ".py",
   "mimetype": "text/x-python",
   "name": "python",
   "nbconvert_exporter": "python",
   "pygments_lexer": "ipython3",
   "version": "3.4.3"
  }
 },
 "nbformat": 4,
 "nbformat_minor": 0
}
