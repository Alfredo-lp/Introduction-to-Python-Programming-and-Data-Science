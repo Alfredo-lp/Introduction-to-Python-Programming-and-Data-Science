{
 "cells": [
  {
   "cell_type": "markdown",
   "metadata": {},
   "source": [
    "#Text analysis\n",
    "Whether it's extracting numerical data from text, or dealing with text directly, the ability to manipulate text in the form of strings is essential for any number of data science projects. \n",
    "\n",
    "Here, we're going to take a walk over to the humanities and see if we can learn anything new about everyones favorite author... William Shakespeare (if we all had to learn it, so should a computer right?)\n",
    "\n",
    "1. Should \"Othello\" really be called \"Iago\"?\n",
    "\n",
    "2. Can a computer learn the difference between a comedy and a tragedy?\n",
    "\n",
    "3. Who is the most verbose Shakespearean character?\n",
    "\n",
    "4. Who has the largest vocabulary? \n",
    "\n",
    "5. Did the complexity of Shakespeare's vocabulary change over time?\n",
    "\n",
    "6. Which is Shakespeares most feminist play?\n",
    "\n",
    "We could think of any number of quantitative questions to pursue, each requiring slightly different skills and analytical depth. But we'll start with something easy and build our way up. And by the end you should have the skills to answer some of the above questions. \n",
    "\n",
    "#The Data\n",
    "Where are we going to get data from? [Project Gutenberg]('http://www.gutenberg.org') has 1000's of different post-copyright books freely available in the form of easy-to-use `.txt` files. Luckily for us, this includes the complete works of William Shakespeare which we've pre-downloaded for you.\n",
    "\n",
    "First things first, **ALWAYS LOOK AT YOUR DATA**. Now is the time to open `'../Data/Shakespeare.txt'` and get a sense for the file formatting. (You can do this quickly by just clicking: [Shapespeare.txt](../Data/Shakespeare.txt)).\n",
    "\n",
    "1. How are different plays separated from one another?\n",
    "2. How is dialogue formatted?\n",
    "3. What extraneous information might we want to ignore?\n",
    "4. How \"well behaved\" is our dataset? (i.e. is the formatting general or unique for different plays?)\n",
    "\n",
    "These are all important questions that we can only infer from qualitative visual exploration. \n",
    "\n",
    "#Text parsing review\n",
    "Before we dive into this large file, let's do a brief refresher on some text parsing basics which will give us an excuse to spoil Hamlet for you. "
   ]
  },
  {
   "cell_type": "code",
   "execution_count": 1,
   "metadata": {
    "collapsed": true
   },
   "outputs": [],
   "source": [
    "spoiler_alert = [\"O, I die, Horatio!\\n\",\n",
    "    \"The potent poison quite o'ercrows my spirit.\\n\",\n",
    "    \"I cannot live to hear the news from England,\\n\",\n",
    "    \"     But I do prophesy th' election lights\\n\",\n",
    "    \"On Fortinbras. He has my dying voice.\\n\",\n",
    "    \"So tell him, with th' occurrents, more and less,\\n\",\n",
    "    \"\\n\",             \n",
    "    \"Which have solicited- the rest is silence.             Dies.\\n\"]"
   ]
  },
  {
   "cell_type": "markdown",
   "metadata": {},
   "source": [
    "If we didn't know what was in `spoiler_alert`, we would have to iterate through the lines to see what the data looks like:"
   ]
  },
  {
   "cell_type": "code",
   "execution_count": 2,
   "metadata": {
    "collapsed": false
   },
   "outputs": [
    {
     "name": "stdout",
     "output_type": "stream",
     "text": [
      "O, I die, Horatio!\n",
      "\n",
      "The potent poison quite o'ercrows my spirit.\n",
      "\n",
      "I cannot live to hear the news from England,\n",
      "\n",
      "     But I do prophesy th' election lights\n",
      "\n",
      "On Fortinbras. He has my dying voice.\n",
      "\n",
      "So tell him, with th' occurrents, more and less,\n",
      "\n",
      "\n",
      "\n",
      "Which have solicited- the rest is silence.             Dies.\n",
      "\n"
     ]
    }
   ],
   "source": [
    "for line in spoiler_alert:\n",
    "    print(line)"
   ]
  },
  {
   "cell_type": "markdown",
   "metadata": {},
   "source": [
    "##Removing extraneous characters\n",
    "Remember, `\\n` is a new line character and as such it isn't actually shown on the screen. It is still there, the `print` function just interprets it to say `new line` which is why we have a double spacing going on here (one line is put in from the `for` loop, another is added for each `\\n`).\n",
    "\n",
    "We can get rid of it easily enough though:"
   ]
  },
  {
   "cell_type": "code",
   "execution_count": 3,
   "metadata": {
    "collapsed": false
   },
   "outputs": [
    {
     "name": "stdout",
     "output_type": "stream",
     "text": [
      "O, I die, Horatio!\n",
      "The potent poison quite o'ercrows my spirit.\n",
      "I cannot live to hear the news from England,\n",
      "     But I do prophesy th' election lights\n",
      "On Fortinbras. He has my dying voice.\n",
      "So tell him, with th' occurrents, more and less,\n",
      "\n",
      "Which have solicited- the rest is silence.             Dies.\n"
     ]
    }
   ],
   "source": [
    "for line in spoiler_alert:\n",
    "    print(line.strip('\\n'))"
   ]
  },
  {
   "cell_type": "markdown",
   "metadata": {},
   "source": [
    "Now the `\\n` is really gone, and our text isn't double spaced. But remember, we're not actually changing `spoiler_alert`. We're only removing the `\\n` temporarily for each line in order to print it. Thus:"
   ]
  },
  {
   "cell_type": "code",
   "execution_count": 4,
   "metadata": {
    "collapsed": false
   },
   "outputs": [
    {
     "name": "stdout",
     "output_type": "stream",
     "text": [
      "O, I die, Horatio!\n",
      "\n",
      "The potent poison quite o'ercrows my spirit.\n",
      "\n",
      "I cannot live to hear the news from England,\n",
      "\n",
      "     But I do prophesy th' election lights\n",
      "\n",
      "On Fortinbras. He has my dying voice.\n",
      "\n",
      "So tell him, with th' occurrents, more and less,\n",
      "\n",
      "\n",
      "\n",
      "Which have solicited- the rest is silence.             Dies.\n",
      "\n"
     ]
    }
   ],
   "source": [
    "for line in spoiler_alert:\n",
    "    print(line)"
   ]
  },
  {
   "cell_type": "markdown",
   "metadata": {},
   "source": [
    "The `\\n` characters are still there! That's okay for now, I just wanted to remind you of this crucial little fact about working with `for` loops.\n",
    "\n",
    "So `str.strip('\\n')` removed the `\\n` characters. But there was still that weird spacing before \"But I do prophesy...\". \n",
    "\n",
    "We can just say `str.strip()` and by default it will remove _all_ white space which includes `\\t` (tab) `\\n` (new line) and '' (spaces) from both the right _and_ left ends (`str.lstrip()` and `str.rstrip()` remove characters from only one end at a time):"
   ]
  },
  {
   "cell_type": "code",
   "execution_count": 7,
   "metadata": {
    "collapsed": false
   },
   "outputs": [
    {
     "name": "stdout",
     "output_type": "stream",
     "text": [
      "O, I die, Horatio!\n",
      "The potent poison quite o'ercrows my spirit.\n",
      "I cannot live to hear the news from England,\n",
      "But I do prophesy th' election lights\n",
      "On Fortinbras. He has my dying voice.\n",
      "So tell him, with th' occurrents, more and less,\n",
      "\n",
      "Which have solicited- the rest is silence.             Dies.\n"
     ]
    }
   ],
   "source": [
    "for line in spoiler_alert:\n",
    "    print(line.strip())"
   ]
  },
  {
   "cell_type": "markdown",
   "metadata": {},
   "source": [
    "Remember, this doesn't remove anything from the center of a line. There is still a ton of space before 'Dies', for instance. `strip()` will only remove from the ends. Not a problem for us but something else to remember. \n",
    "\n",
    "##Getting line (index) numbers\n",
    "Another handy thing that we may or may not have covered by now is `enumerate`. Suppose I wanted to know the line numbers: it's pretty trivial with this small little list but we won't always work with small lists. For this, `enumerate` is a lifesaver. Let's see it in action:"
   ]
  },
  {
   "cell_type": "code",
   "execution_count": 8,
   "metadata": {
    "collapsed": false
   },
   "outputs": [
    {
     "name": "stdout",
     "output_type": "stream",
     "text": [
      "(0, 'O, I die, Horatio!\\n')\n",
      "(1, \"The potent poison quite o'ercrows my spirit.\\n\")\n",
      "(2, 'I cannot live to hear the news from England,\\n')\n",
      "(3, \"     But I do prophesy th' election lights\\n\")\n",
      "(4, 'On Fortinbras. He has my dying voice.\\n')\n",
      "(5, \"So tell him, with th' occurrents, more and less,\\n\")\n",
      "(6, '\\n')\n",
      "(7, 'Which have solicited- the rest is silence.             Dies.\\n')\n"
     ]
    }
   ],
   "source": [
    "for line in enumerate(spoiler_alert):\n",
    "    print(line)"
   ]
  },
  {
   "cell_type": "markdown",
   "metadata": {},
   "source": [
    "`enumerate` took our list `spoiler_alert` which was a list of strings and made it a list of tuples! The **first** item in each tuple was the index within the original list `spoiler_alert`, and the **second** item is the actual string. This may come in handy later, but for now treat it as a brief aside that we'll come back to."
   ]
  },
  {
   "cell_type": "markdown",
   "metadata": {},
   "source": [
    "##Searching in text\n",
    "Let's do a little searching:"
   ]
  },
  {
   "cell_type": "code",
   "execution_count": 9,
   "metadata": {
    "collapsed": false
   },
   "outputs": [
    {
     "name": "stdout",
     "output_type": "stream",
     "text": [
      "The potent poison quite o'ercrows my spirit.\n",
      "\n"
     ]
    }
   ],
   "source": [
    "for line in spoiler_alert:\n",
    "    if 'The' in line:\n",
    "        print(line)"
   ]
  },
  {
   "cell_type": "markdown",
   "metadata": {},
   "source": [
    "Why isn't line 2 (\"I cannot live...\") or 7 (\"Which have solicited...\") printed to the screen?\n",
    "\n",
    "**Capitalization matters!**"
   ]
  },
  {
   "cell_type": "code",
   "execution_count": 11,
   "metadata": {
    "collapsed": false
   },
   "outputs": [
    {
     "name": "stdout",
     "output_type": "stream",
     "text": [
      "I cannot live to hear the news from England,\n",
      "\n",
      "Which have solicited- the rest is silence.             Dies.\n",
      "\n"
     ]
    }
   ],
   "source": [
    "for line in spoiler_alert:\n",
    "    if 'the' in line:\n",
    "        print(line)"
   ]
  },
  {
   "cell_type": "markdown",
   "metadata": {},
   "source": [
    "Now we were able to grab line 2 and 7, but we missed line 1!\n",
    "\n",
    "Maybe we don't care about capitalization, and just want to know if 'the' appears anywhere within the line. We'll have to somehow standardize things, which we can do by converting the line to all lowercase before searching it:"
   ]
  },
  {
   "cell_type": "code",
   "execution_count": 12,
   "metadata": {
    "collapsed": false
   },
   "outputs": [
    {
     "name": "stdout",
     "output_type": "stream",
     "text": [
      "The potent poison quite o'ercrows my spirit.\n",
      "\n",
      "I cannot live to hear the news from England,\n",
      "\n",
      "Which have solicited- the rest is silence.             Dies.\n",
      "\n"
     ]
    }
   ],
   "source": [
    "for line in spoiler_alert:\n",
    "    if 'the' in line.lower():\n",
    "        print(line)"
   ]
  },
  {
   "cell_type": "markdown",
   "metadata": {},
   "source": [
    "The same works for uppercase:"
   ]
  },
  {
   "cell_type": "code",
   "execution_count": 13,
   "metadata": {
    "collapsed": true
   },
   "outputs": [],
   "source": [
    "for line in spoiler_alert:\n",
    "    if 'the' in line.upper():\n",
    "        print(line)"
   ]
  },
  {
   "cell_type": "markdown",
   "metadata": {},
   "source": [
    "We didn't find anything here? Why not? \n",
    "\n",
    "Because we temporarily made the lines uppercase, therefore `the` never appears in any of them! We might have meant to say:"
   ]
  },
  {
   "cell_type": "code",
   "execution_count": 14,
   "metadata": {
    "collapsed": false
   },
   "outputs": [
    {
     "name": "stdout",
     "output_type": "stream",
     "text": [
      "The potent poison quite o'ercrows my spirit.\n",
      "\n",
      "I cannot live to hear the news from England,\n",
      "\n",
      "Which have solicited- the rest is silence.             Dies.\n",
      "\n"
     ]
    }
   ],
   "source": [
    "for line in spoiler_alert:\n",
    "    if 'THE' in line.upper():\n",
    "        print(line)"
   ]
  },
  {
   "cell_type": "markdown",
   "metadata": {},
   "source": [
    "Is that the only way to find something in a line? Of course not! Programming wouldn't be fun if there weren't 1000 ways to do the same thing. "
   ]
  },
  {
   "cell_type": "code",
   "execution_count": 15,
   "metadata": {
    "collapsed": false
   },
   "outputs": [
    {
     "name": "stdout",
     "output_type": "stream",
     "text": [
      "I cannot live to hear the news from England, 22\n",
      "Which have solicited- the rest is silence.             Dies. 22\n"
     ]
    }
   ],
   "source": [
    "for line in spoiler_alert:\n",
    "    if line.find('the') != -1:\n",
    "        print(line.strip(), line.find('the'))"
   ]
  },
  {
   "cell_type": "markdown",
   "metadata": {},
   "source": [
    "`find` doesn't just tell us if the text appears in the string. It tells us exactly where the text appears in the line (indexing from 0). And if it doesn't find our search query it will returns -1. In addition, these methods can be combined in linear chains:"
   ]
  },
  {
   "cell_type": "code",
   "execution_count": 16,
   "metadata": {
    "collapsed": false
   },
   "outputs": [
    {
     "name": "stdout",
     "output_type": "stream",
     "text": [
      "The potent poison quite o'ercrows my spirit. 0\n",
      "I cannot live to hear the news from England, 22\n",
      "Which have solicited- the rest is silence.             Dies. 22\n"
     ]
    }
   ],
   "source": [
    "for line in spoiler_alert:\n",
    "    if line.lower().find('the') != -1: #Now we're lowercasing the line first before searching\n",
    "        print(line.strip(), line.lower().find('the'))"
   ]
  },
  {
   "cell_type": "markdown",
   "metadata": {},
   "source": [
    "`index` works similarly to `find`:"
   ]
  },
  {
   "cell_type": "code",
   "execution_count": 17,
   "metadata": {
    "collapsed": false
   },
   "outputs": [
    {
     "ename": "ValueError",
     "evalue": "substring not found",
     "output_type": "error",
     "traceback": [
      "\u001b[0;31m---------------------------------------------------------------------------\u001b[0m",
      "\u001b[0;31mValueError\u001b[0m                                Traceback (most recent call last)",
      "\u001b[0;32m<ipython-input-17-e8886990d643>\u001b[0m in \u001b[0;36m<module>\u001b[0;34m()\u001b[0m\n\u001b[1;32m      1\u001b[0m \u001b[0;32mfor\u001b[0m \u001b[0mline\u001b[0m \u001b[0;32min\u001b[0m \u001b[0mspoiler_alert\u001b[0m\u001b[0;34m:\u001b[0m\u001b[0;34m\u001b[0m\u001b[0m\n\u001b[0;32m----> 2\u001b[0;31m     \u001b[0;32mif\u001b[0m \u001b[0mline\u001b[0m\u001b[0;34m.\u001b[0m\u001b[0mindex\u001b[0m\u001b[0;34m(\u001b[0m\u001b[0;34m'the'\u001b[0m\u001b[0;34m)\u001b[0m \u001b[0;34m!=\u001b[0m \u001b[0;34m-\u001b[0m\u001b[0;36m1\u001b[0m\u001b[0;34m:\u001b[0m\u001b[0;34m\u001b[0m\u001b[0m\n\u001b[0m\u001b[1;32m      3\u001b[0m         \u001b[0mprint\u001b[0m\u001b[0;34m(\u001b[0m\u001b[0mline\u001b[0m\u001b[0;34m.\u001b[0m\u001b[0mstrip\u001b[0m\u001b[0;34m(\u001b[0m\u001b[0;34m)\u001b[0m\u001b[0;34m,\u001b[0m \u001b[0mline\u001b[0m\u001b[0;34m.\u001b[0m\u001b[0mfind\u001b[0m\u001b[0;34m(\u001b[0m\u001b[0;34m'the'\u001b[0m\u001b[0;34m)\u001b[0m\u001b[0;34m)\u001b[0m\u001b[0;34m\u001b[0m\u001b[0m\n",
      "\u001b[0;31mValueError\u001b[0m: substring not found"
     ]
    }
   ],
   "source": [
    "for line in spoiler_alert:\n",
    "    if line.index('the') != -1:\n",
    "        print(line.strip(), line.find('the'))"
   ]
  },
  {
   "cell_type": "markdown",
   "metadata": {},
   "source": [
    "Except of course that this should have given us a `ValueError`. Why?\n",
    "\n",
    "Well, when you use `index`, if the string isn't found it raises an error rather than returning `-1`. So we need to do something slightly different. Remember our old friend try/except?"
   ]
  },
  {
   "cell_type": "code",
   "execution_count": 21,
   "metadata": {
    "collapsed": false
   },
   "outputs": [
    {
     "name": "stdout",
     "output_type": "stream",
     "text": [
      "The potent poison quite o'ercrows my spirit. 0\n",
      "I cannot live to hear the news from England, 22\n",
      "Which have solicited- the rest is silence.             Dies. 22\n"
     ]
    }
   ],
   "source": [
    "for line in spoiler_alert:\n",
    "    try:\n",
    "        print(line.strip(), line.lower().index('the'))\n",
    "    except ValueError:\n",
    "        pass"
   ]
  },
  {
   "cell_type": "markdown",
   "metadata": {},
   "source": [
    "Alright, so we know how to search for substrings inside of strings. And we learned a few different ways. In all cases capitalization really matters, and there are slight differences to each way that you need to keep in mind. \n",
    "\n",
    "Remember, it's pretty easy to find the line number where things occurred by using `enumerate`:"
   ]
  },
  {
   "cell_type": "code",
   "execution_count": 24,
   "metadata": {
    "collapsed": false
   },
   "outputs": [
    {
     "name": "stdout",
     "output_type": "stream",
     "text": [
      "Line number:  1 **** Line:  The potent poison quite o'ercrows my spirit.\n",
      "\n",
      "Line number:  2 **** Line:  I cannot live to hear the news from England,\n",
      "\n",
      "Line number:  7 **** Line:  Which have solicited- the rest is silence.             Dies.\n",
      "\n"
     ]
    }
   ],
   "source": [
    "for line in enumerate(spoiler_alert):\n",
    "    if 'the' in line[1].lower(): #We have to look in the string, which is index one in the enumerate tuple\n",
    "        print('Line number: ', line[0], '**** Line: ', line[1])#And only print the line number line[1] is the full line"
   ]
  },
  {
   "cell_type": "markdown",
   "metadata": {},
   "source": [
    "So now we know that 'the' in appears on lines 1, 2, and 7. This might be useful information for you to have at some point. For instance, what if I only wanted the lines between where the first 'my' occur and the last? How would I do this?\n",
    "\n",
    "**Exercise:** Use your favorite method to find lines containing the word 'my'. Next append all lines _between_ (and including!) the lines containing the substring 'my' to their own list."
   ]
  },
  {
   "cell_type": "code",
   "execution_count": 26,
   "metadata": {
    "collapsed": false
   },
   "outputs": [
    {
     "name": "stdout",
     "output_type": "stream",
     "text": [
      "[\"The potent poison quite o'ercrows my spirit.\\n\", 'I cannot live to hear the news from England,\\n', \"     But I do prophesy th' election lights\\n\", 'On Fortinbras. He has my dying voice.\\n']\n"
     ]
    }
   ],
   "source": [
    "lines_of_interest = []\n",
    "\n",
    "###Place your code here\n",
    "\n",
    "\n",
    "\n",
    "###Answer\n",
    "lines_with_my = []\n",
    "for line in enumerate(spoiler_alert):\n",
    "    if \"my\" in line[1].lower():\n",
    "        lines_with_my.append(line[0])\n",
    "lines_of_interest = spoiler_alert[min(lines_with_my):max(lines_with_my)+1] \n",
    "print(lines_of_interest)"
   ]
  },
  {
   "cell_type": "markdown",
   "metadata": {},
   "source": [
    "\n",
    "#Splitting strings\n",
    "Let's get a refresher on splitting strings up a bit. Maybe we actually just want to look at the words in each line as a list rather than working with the entire line as a string:"
   ]
  },
  {
   "cell_type": "code",
   "execution_count": 27,
   "metadata": {
    "collapsed": false
   },
   "outputs": [
    {
     "name": "stdout",
     "output_type": "stream",
     "text": [
      "['O', ' I die', ' Horatio!\\n']\n",
      "[\"The potent poison quite o'ercrows my spirit.\\n\"]\n",
      "['I cannot live to hear the news from England', '\\n']\n",
      "[\"     But I do prophesy th' election lights\\n\"]\n",
      "['On Fortinbras. He has my dying voice.\\n']\n",
      "['So tell him', \" with th' occurrents\", ' more and less', '\\n']\n",
      "['\\n']\n",
      "['Which have solicited- the rest is silence.             Dies.\\n']\n"
     ]
    }
   ],
   "source": [
    "for line in spoiler_alert:\n",
    "        print(line.split(','))"
   ]
  },
  {
   "cell_type": "markdown",
   "metadata": {},
   "source": [
    "Here we split up each line and made it a list according to where the commas occurr. If there were no commas, then the line just became a list with a single element. If there were commas, the string was split into separate strings based on the position of those commas (Notice that the commas themselves are gone!).\n",
    "\n",
    "We could also split our lines up based on spaces to isolate single words (kind of):"
   ]
  },
  {
   "cell_type": "code",
   "execution_count": 28,
   "metadata": {
    "collapsed": false
   },
   "outputs": [
    {
     "name": "stdout",
     "output_type": "stream",
     "text": [
      "['O,', 'I', 'die,', 'Horatio!\\n']\n",
      "['The', 'potent', 'poison', 'quite', \"o'ercrows\", 'my', 'spirit.\\n']\n",
      "['I', 'cannot', 'live', 'to', 'hear', 'the', 'news', 'from', 'England,\\n']\n",
      "['', '', '', '', '', 'But', 'I', 'do', 'prophesy', \"th'\", 'election', 'lights\\n']\n",
      "['On', 'Fortinbras.', 'He', 'has', 'my', 'dying', 'voice.\\n']\n",
      "['So', 'tell', 'him,', 'with', \"th'\", 'occurrents,', 'more', 'and', 'less,\\n']\n",
      "['\\n']\n",
      "['Which', 'have', 'solicited-', 'the', 'rest', 'is', 'silence.', '', '', '', '', '', '', '', '', '', '', '', '', 'Dies.\\n']\n"
     ]
    }
   ],
   "source": [
    "for line in spoiler_alert:\n",
    "        print(line.split(' '))"
   ]
  },
  {
   "cell_type": "markdown",
   "metadata": {},
   "source": [
    "I said _kind of_ because it looks like most of these are single words but it's not perfect. The last word in each line still has that pesky '`\\n`' so lets combine commands to get rid of that:"
   ]
  },
  {
   "cell_type": "code",
   "execution_count": 29,
   "metadata": {
    "collapsed": false
   },
   "outputs": [
    {
     "name": "stdout",
     "output_type": "stream",
     "text": [
      "['O,', 'I', 'die,', 'Horatio!']\n",
      "['The', 'potent', 'poison', 'quite', \"o'ercrows\", 'my', 'spirit.']\n",
      "['I', 'cannot', 'live', 'to', 'hear', 'the', 'news', 'from', 'England,']\n",
      "['But', 'I', 'do', 'prophesy', \"th'\", 'election', 'lights']\n",
      "['On', 'Fortinbras.', 'He', 'has', 'my', 'dying', 'voice.']\n",
      "['So', 'tell', 'him,', 'with', \"th'\", 'occurrents,', 'more', 'and', 'less,']\n",
      "['']\n",
      "['Which', 'have', 'solicited-', 'the', 'rest', 'is', 'silence.', '', '', '', '', '', '', '', '', '', '', '', '', 'Dies.']\n"
     ]
    }
   ],
   "source": [
    "for line in spoiler_alert:\n",
    "        print(line.strip().split(' '))"
   ]
  },
  {
   "cell_type": "markdown",
   "metadata": {},
   "source": [
    "The operations were performed in order. First we stripped white space off the left and right sides of the string. Then, whatever that created was split into a list based on spaces. Now we have a list of words for each line that looks slightly better than before (still errors but we'll come back to that), but what if we wanted a list of words for the entire text rahter than each line?"
   ]
  },
  {
   "cell_type": "code",
   "execution_count": 30,
   "metadata": {
    "collapsed": false
   },
   "outputs": [
    {
     "name": "stdout",
     "output_type": "stream",
     "text": [
      "['O,', 'I', 'die,', 'Horatio!', 'The', 'potent', 'poison', 'quite', \"o'ercrows\", 'my', 'spirit.', 'I', 'cannot', 'live', 'to', 'hear', 'the', 'news', 'from', 'England,', 'But', 'I', 'do', 'prophesy', \"th'\", 'election', 'lights', 'On', 'Fortinbras.', 'He', 'has', 'my', 'dying', 'voice.', 'So', 'tell', 'him,', 'with', \"th'\", 'occurrents,', 'more', 'and', 'less,', '', 'Which', 'have', 'solicited-', 'the', 'rest', 'is', 'silence.', '', '', '', '', '', '', '', '', '', '', '', '', 'Dies.']\n"
     ]
    }
   ],
   "source": [
    "total_list = []\n",
    "for line in spoiler_alert:\n",
    "    line_as_list = line.strip().split(' ')\n",
    "    for word in line_as_list:\n",
    "        total_list.append(word)\n",
    "print(total_list)"
   ]
  },
  {
   "cell_type": "markdown",
   "metadata": {},
   "source": [
    "This isn't so bad, but as we mentioned there are still some weird things in here that we probably don't want. For instance all of those empty strings that precede 'Dies'. Or maybe some of the punctuation like exclamation points and the like.  "
   ]
  },
  {
   "cell_type": "code",
   "execution_count": null,
   "metadata": {
    "collapsed": false
   },
   "outputs": [],
   "source": [
    "total_list = []\n",
    "for line in spoiler_alert:\n",
    "    line_as_list = line.strip().split(' ')\n",
    "    for word in line_as_list:\n",
    "        total_list.append(word.rstrip('!'))\n",
    "print(total_list)"
   ]
  },
  {
   "cell_type": "markdown",
   "metadata": {},
   "source": [
    "Here we're stripping (from the right side only) the exclamation marks. But we might also want to strip the periods, colons, semi-colons, hyphens and question marks (anything else that might appear that we want to account for?). We can just lump all these guys into `strip` and run `strip` for each word. If it doesn't find anything, it just doesn't do anything but if there is a question mark it'll remove it:"
   ]
  },
  {
   "cell_type": "code",
   "execution_count": null,
   "metadata": {
    "collapsed": false
   },
   "outputs": [],
   "source": [
    "total_list = []\n",
    "for line in spoiler_alert:\n",
    "    line_as_list = line.strip().split(' ')\n",
    "    for word in line_as_list:\n",
    "        total_list.append(word.rstrip('!?.-;:'))\n",
    "print(total_list)"
   ]
  },
  {
   "cell_type": "markdown",
   "metadata": {},
   "source": [
    "We'll still have `'`s but maybe we want to keep them? Also how do we feel about hyphenated words? Our current practice would keep strings like 'well-known' as one long word. Perhaps we are okay with that, and perhaps not. It's a limitation to be aware of.\n",
    "\n",
    "Let's wrap this up with a few little changes:"
   ]
  },
  {
   "cell_type": "code",
   "execution_count": null,
   "metadata": {
    "collapsed": false
   },
   "outputs": [],
   "source": [
    "total_list = []\n",
    "for line in spoiler_alert:\n",
    "    line_as_list = line.strip().split(' ')\n",
    "    for word in line_as_list:\n",
    "        if len(word) > 0:#This will make sure the string has something in it\n",
    "            total_list.append(word.rstrip('!?.,-;:').lower())\n",
    "print(total_list)"
   ]
  },
  {
   "cell_type": "markdown",
   "metadata": {},
   "source": [
    "Now everything is lowercase so that 'The' and 'the' will be recognized as the same word, and we removed punctuation and all those pesky spaces/empty strings. Finally, we can get word counts, for which we'll rely on Counter:"
   ]
  },
  {
   "cell_type": "code",
   "execution_count": null,
   "metadata": {
    "collapsed": false
   },
   "outputs": [],
   "source": [
    "from collections import Counter\n",
    "Counter(total_list)"
   ]
  },
  {
   "cell_type": "markdown",
   "metadata": {},
   "source": [
    "#Back to Shakespeare.txt\n",
    "\n",
    "So we were able to get a dictionary of all the word counts in our little sample text. Of course, we're not working with a tiny sample text. Our text is gigantic and contains a lot of stuff we don't need. So let's get serious and move on to some big(-ger) data. We need to start by reading in the file using python:"
   ]
  },
  {
   "cell_type": "code",
   "execution_count": null,
   "metadata": {
    "collapsed": true
   },
   "outputs": [],
   "source": [
    "complete_works = open('../Data/Shakespeare.txt').readlines()"
   ]
  },
  {
   "cell_type": "markdown",
   "metadata": {},
   "source": [
    "For the next few tasks, I'm only interested  in 'Othello'. So look at where Othello begins in the file: how are we going to extract Othello and _only_ Othello from this large list of lines? How do _we_ know when Othello begins and ends?\n",
    "\n",
    "**Exercise:** Iterate through `complete_works` and add only the lines relevant to 'Othello' to the new list `othello_lines` (hint: there might be a string that differentiates Othello from other plays. And there might be another string that signifies the end of a play. How can you use search to find those lines and get the ones you want?)."
   ]
  },
  {
   "cell_type": "code",
   "execution_count": null,
   "metadata": {
    "collapsed": false
   },
   "outputs": [],
   "source": [
    "othello_lines = []\n",
    "###Place your code here\n",
    "\n",
    "###Answer\n",
    "# beginning = 0\n",
    "# ends = []\n",
    "# for line in enumerate(complete_works):\n",
    "#     if 'THE TRAGEDY OF OTHELLO' in line[1]:\n",
    "#         beginning = line[0]\n",
    "#     if 'THE END' in line[1]:\n",
    "#         ends.append(line[0])\n",
    "# for end in ends:\n",
    "#     if end > beginning:\n",
    "#         break\n",
    "# print(beginning)\n",
    "# print(end)\n",
    "# print(ends)\n",
    "# othello_lines = complete_works[beginning:end+1]\n",
    "\n",
    "\n",
    "othello = False\n",
    "for line in complete_works:\n",
    "    if 'THE TRAGEDY OF OTHELLO' in line:\n",
    "        othello = True\n",
    "    if othello == True:\n",
    "        othello_lines.append(line)\n",
    "        if 'THE END' in line:\n",
    "            othello = False"
   ]
  },
  {
   "cell_type": "markdown",
   "metadata": {},
   "source": [
    "Before moving on, **always** make sure you really have what you _think_ you have. "
   ]
  },
  {
   "cell_type": "code",
   "execution_count": null,
   "metadata": {
    "collapsed": false
   },
   "outputs": [],
   "source": [
    "print(othello_lines[0:20])\n",
    "print('**************')\n",
    "print(othello_lines[-20:])"
   ]
  },
  {
   "cell_type": "markdown",
   "metadata": {},
   "source": [
    "#Dialogue\n",
    "So we should all have a line-by-line reading of Othello. Now what? Well, your choice here is going to depend a lot on what you want to analyze! I'm particularly interested in knowing how many total and _unique_ words Othello speaks. With that information, we could then apply similar analysis to see which character speaks the most, or who has the biggest vocabulary. \n",
    "\n",
    "First off, since we only care about Othello, maybe it's not worth our time trying to extract the character list. If we want to compare the vocabulary of other characters, we'll have to do this but for now let's just worry about Othello. The fact that Othello is capitalized when he speaks makes things nice and easy for us (aside: his name _probably_ isn't capialized when he is referred to in dialogue from other characters. Can we be sure? No. As a rough approximation? Sure).\n",
    "\n",
    "```\n",
    "\"  CHARACTER. blahblahblah\n",
    "     blahblahblah\"\n",
    "```\n",
    "\n",
    "Two things jump out at me. How about you?\n",
    "\n",
    "1. Before a character speaks there are always (usually?) *2* spaces, followed by the character in all capital letters, followed by a period. \n",
    "2. It also looks like some speeches are longer than a single line, but those speeches have 4 spaces(!). We'll make note of that for later."
   ]
  },
  {
   "cell_type": "code",
   "execution_count": null,
   "metadata": {
    "collapsed": false,
    "scrolled": true
   },
   "outputs": [],
   "source": [
    "sample_text = othello_lines[3792:3809]\n",
    "for line in sample_text:\n",
    "    print(line.rstrip())"
   ]
  },
  {
   "cell_type": "markdown",
   "metadata": {},
   "source": [
    "**Exercise:** Given the sample_text above, make a list of all words spoken by Othello"
   ]
  },
  {
   "cell_type": "code",
   "execution_count": null,
   "metadata": {
    "collapsed": false
   },
   "outputs": [],
   "source": [
    "othellos_dialogue = []\n",
    "\n",
    "###Place your code here\n",
    "\n",
    "\n",
    "###Answer\n",
    "othello_speaking = False\n",
    "for line in sample_text:\n",
    "    if 'OTHELLO.' in line:\n",
    "        othello_speaking = True\n",
    "        listy = line.strip().split(' ')\n",
    "        for word in listy:\n",
    "            if len(word) > 0:\n",
    "                othellos_dialogue.append(word)\n",
    "    elif othello_speaking == True:\n",
    "        if line[:4] == '    ': #Four spaces!\n",
    "            listy = line.strip().split(' ')\n",
    "            for word in listy:\n",
    "                if len(word) > 0:\n",
    "                    othellos_dialogue.append(word)\n",
    "        else:\n",
    "            othello_speaking = False\n",
    "    else:\n",
    "        pass"
   ]
  },
  {
   "cell_type": "code",
   "execution_count": null,
   "metadata": {
    "collapsed": false
   },
   "outputs": [],
   "source": [
    "print(othellos_dialogue)"
   ]
  },
  {
   "cell_type": "markdown",
   "metadata": {},
   "source": [
    "The code that we wrote above should (might?) be generalizable. But who knows. We'll have to check slowly."
   ]
  },
  {
   "cell_type": "code",
   "execution_count": null,
   "metadata": {
    "collapsed": false,
    "scrolled": false
   },
   "outputs": [],
   "source": [
    "for line in othello_lines[:500]: #No reason to work with the full text while we're still learning\n",
    "    if 'OTHELLO.' in line:\n",
    "        print(line)\n",
    "        \n",
    "print('##########')\n",
    "\n",
    "for line in othello_lines[-100:]: #No reason to work with the full text while we're still learning\n",
    "    if 'OTHELLO.' in line:\n",
    "        print(line)"
   ]
  },
  {
   "cell_type": "markdown",
   "metadata": {},
   "source": [
    "Looks good to me. Of course, this is only finding the first line that Othello speaks. Not any of his other lines. \n",
    "\n",
    "Let's go ahead and run our code on Othello and see how complex his vocabulary is!"
   ]
  },
  {
   "cell_type": "code",
   "execution_count": null,
   "metadata": {
    "collapsed": false
   },
   "outputs": [],
   "source": [
    "othellos_dialogue = []\n",
    "###Place your code here\n",
    "\n",
    "\n",
    "###Answer\n",
    "othello_speaking = False\n",
    "\n",
    "for line in othello_lines:\n",
    "    if 'OTHELLO.' in line:\n",
    "        othello_speaking = True\n",
    "        listy = line.strip().lower().split(' ')\n",
    "        for word in listy:\n",
    "            if len(word) > 0:\n",
    "                othellos_dialogue.append(word.strip('.!?;:-,'))\n",
    "    elif othello_speaking == True:\n",
    "        if line[:4] == '    ':\n",
    "            listy = line.strip().lower().split(' ')\n",
    "            for word in listy:\n",
    "                if len(word) > 0:\n",
    "                    othellos_dialogue.append(word.strip('.!?;:-,'))\n",
    "        else:\n",
    "            othello_speaking = False\n",
    "    else:\n",
    "        pass\n",
    "    \n",
    "print(Counter(othellos_dialogue))"
   ]
  },
  {
   "cell_type": "markdown",
   "metadata": {},
   "source": [
    "**Exercise:** How does Othello's word usage compare with Iago's? Who speaks more in this play? Who has a larger vocabulary?"
   ]
  },
  {
   "cell_type": "code",
   "execution_count": null,
   "metadata": {
    "collapsed": true
   },
   "outputs": [],
   "source": [
    "###Place your code here\n",
    "\n"
   ]
  },
  {
   "cell_type": "markdown",
   "metadata": {},
   "source": [
    "#Additional exercises for those who are interested\n",
    "\n",
    "**Exercise:** A common way to summarize the complexity of text is by calculating the [entropy]('WIKIPEDIA ENTROPY INFORMATION THEORY LINK') of a given text. Write a function to compare the entropy of Iago and and Othello's speech. "
   ]
  },
  {
   "cell_type": "code",
   "execution_count": null,
   "metadata": {
    "collapsed": true
   },
   "outputs": [],
   "source": [
    "###Place your code here\n",
    "\n"
   ]
  },
  {
   "cell_type": "markdown",
   "metadata": {},
   "source": [
    "**Exercise:** This has all been very text-based without much graphical analysis. Can you plot a histogram of word frequencies? How about a Cumulative Distribution Frequency plot? Does Othello's speech follow [Zipf's law](WIKIPEDIA ZIPF LAW)?"
   ]
  },
  {
   "cell_type": "code",
   "execution_count": null,
   "metadata": {
    "collapsed": true
   },
   "outputs": [],
   "source": [
    "###Place your code here\n",
    "\n"
   ]
  },
  {
   "cell_type": "markdown",
   "metadata": {},
   "source": [
    "**Exercise:** Our first step towards analyzing Othello was to extract out the Othello specific text from the complete works file, which we did in a pretty arbitrary way to make our lives easier. How would you do it in an automated fashion? Specifically, read the following file and return a _list_ of _tuples_ containing the (year,name) of every play within the file. "
   ]
  },
  {
   "cell_type": "code",
   "execution_count": null,
   "metadata": {
    "collapsed": true
   },
   "outputs": [],
   "source": [
    "complete_works = open('../Data/Shakespeare.txt').readlines()\n",
    "play_list = []\n",
    "###Place your code here"
   ]
  },
  {
   "cell_type": "markdown",
   "metadata": {},
   "source": [
    "**Exercise:** How well does the code that we wrote above work on Hamlet? Romeo and Juliet? Who has the biggest vocabulary in all of Shakespeare?"
   ]
  },
  {
   "cell_type": "code",
   "execution_count": null,
   "metadata": {
    "collapsed": true
   },
   "outputs": [],
   "source": [
    "###Place your code here"
   ]
  },
  {
   "cell_type": "code",
   "execution_count": null,
   "metadata": {
    "collapsed": true
   },
   "outputs": [],
   "source": []
  }
 ],
 "metadata": {
  "kernelspec": {
   "display_name": "Python 3",
   "language": "python",
   "name": "python3"
  },
  "language_info": {
   "codemirror_mode": {
    "name": "ipython",
    "version": 3
   },
   "file_extension": ".py",
   "mimetype": "text/x-python",
   "name": "python",
   "nbconvert_exporter": "python",
   "pygments_lexer": "ipython3",
   "version": "3.4.3"
  }
 },
 "nbformat": 4,
 "nbformat_minor": 0
}
