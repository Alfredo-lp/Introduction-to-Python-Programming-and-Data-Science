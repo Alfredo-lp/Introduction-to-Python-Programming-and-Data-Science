{
 "cells": [
  {
   "cell_type": "markdown",
   "metadata": {},
   "source": [
    "#Text analysis\n",
    "A lot of people's projects involve text. Whether it's extracting numerical data from text, or dealing with text directly, string manipulation is essential for any number of data analysis projects. \n",
    "\n",
    "Here, we're going to take a walk over to the humanities and see if we can learn anything new about everyones favorite author... William Shakespeare. If we all had to learn it, so should a computer right?\n",
    "\n",
    "1. Should _Othello_ really be called _Iago_?\n",
    "\n",
    "2. Can a computer learn the difference between a comedy and a tragedy?\n",
    "\n",
    "3. Who is the most verbose Shakespearean character?\n",
    "\n",
    "4. Who has the largest vocabulary? \n",
    "\n",
    "5. Did the complexity of Shakespeare's vocabulary change over time?\n",
    "\n",
    "6. Which is Shakespeares most feminist play?\n",
    "\n",
    "We could think of any number of quantitative questions to pursue, each requiring slightly different skills and analytical depth. But let's start with something easy and build our way up. \n",
    "\n",
    "First things first... **ALWAYS LOOK AT YOUR DATA**. Now is the time to open `'../Data/Shakespeare.txt'` and get a sense for the file formatting. (You can do this quickly by just clicking: [Shapespeare.txt](../Data/Shakespeare.txt)). \n",
    "\n",
    "For this first part, I'm interested only in 'Othello'. So look at where Othello begins in the file: how are we going to extract Othello and only Othello?\n",
    "\n",
    "Let's start by reading in the file using python:"
   ]
  },
  {
   "cell_type": "code",
   "execution_count": 1,
   "metadata": {
    "collapsed": true
   },
   "outputs": [],
   "source": [
    "complete_works = open('../Data/Shakespeare.txt').readlines()"
   ]
  },
  {
   "cell_type": "markdown",
   "metadata": {},
   "source": [
    "This is pretty big, and has a lot of stuff we don't want if all we care about is Hamlet.\n",
    "\n",
    "**Exercise:** Write code to extract from `complete_works` only the lines pertaining to Hamlet."
   ]
  },
  {
   "cell_type": "code",
   "execution_count": 2,
   "metadata": {
    "collapsed": false
   },
   "outputs": [],
   "source": [
    "othello_lines = []\n",
    "###Place your code here\n",
    "\n",
    "###Answer\n",
    "othello = False\n",
    "for line in complete_works:\n",
    "    if 'THE TRAGEDY OF OTHELLO' in line:\n",
    "        othello = True\n",
    "    if othello == True:\n",
    "        othello_lines.append(line)\n",
    "        if 'THE END' in line:\n",
    "            othello = False"
   ]
  },
  {
   "cell_type": "markdown",
   "metadata": {},
   "source": [
    "Before moving on, always make sure you really have what you _think_ you have. "
   ]
  },
  {
   "cell_type": "code",
   "execution_count": 3,
   "metadata": {
    "collapsed": false
   },
   "outputs": [
    {
     "name": "stdout",
     "output_type": "stream",
     "text": [
      "['THE TRAGEDY OF OTHELLO, MOOR OF VENICE\\n', '\\n', 'by William Shakespeare\\n', '\\n', '\\n', '\\n', 'Dramatis Personae\\n', '\\n', '  OTHELLO, the Moor, general of the Venetian forces\\n', '  DESDEMONA, his wife\\n', '  IAGO, ensign to Othello\\n', '  EMILIA, his wife, lady-in-waiting to Desdemona\\n', '  CASSIO, lieutenant to Othello\\n', '  THE DUKE OF VENICE\\n', '  BRABANTIO, Venetian Senator, father of Desdemona\\n', '  GRATIANO, nobleman of Venice, brother of Brabantio\\n', '  LODOVICO, nobleman of Venice, kinsman of Brabantio\\n', '  RODERIGO, rejected suitor of Desdemona\\n', '  BIANCA, mistress of Cassio\\n', '  MONTANO, a Cypriot official\\n']\n",
      "**************\n",
      "[\"  GRATIANO.                  All that's spoke is marr'd.\\n\", \"  OTHELLO. I kiss'd thee ere I kill'd thee. No way but this,\\n\", '    Killing myself, to die upon a kiss.\\n', '                                          Falls on the bed, and dies.\\n', '  CASSIO. This did I fear, but thought he had no weapon;\\n', '    For he was great of heart.\\n', '  LODOVICO.         [To Iago.] O Spartan dog,\\n', '    More fell than anguish, hunger, or the sea!\\n', '    Look on the tragic loading of this bed;\\n', '    This is thy work. The object poisons sight;\\n', '    Let it be hid. Gratiano, keep the house,\\n', '    And seize upon the fortunes of the Moor,\\n', '    For they succeed on you. To you, Lord Governor,\\n', '    Remains the censure of this hellish villain,\\n', '    The time, the place, the torture. O, enforce it!\\n', '    Myself will straight aboard, and to the state\\n', '    This heavy act with heavy heart relate.                   Exeunt.\\n', '\\n', '\\n', 'THE END\\n']\n"
     ]
    }
   ],
   "source": [
    "print(othello_lines[0:20])\n",
    "print('**************')\n",
    "print(othello_lines[-20:])"
   ]
  },
  {
   "cell_type": "markdown",
   "metadata": {},
   "source": [
    "#Characters\n",
    "So we should all have a line-by-line reading of Hamlet. Now what? Well, you choice here is going to depend a lot on what you want to analyze! I'm particularly interested in knowing whether Othello or Iago is smarter. Specifically, what is the size of their vocabulary? And how does it compare to other characters?\n",
    "\n",
    "To answer this question, we'll need a list of characters.\n",
    "\n",
    "**Exercise:** Write code to extract all of the named characters as a list (hint: [Dramatis Personae](https://en.wikipedia.org/wiki/Dramatis_person%C3%A6))"
   ]
  },
  {
   "cell_type": "code",
   "execution_count": 4,
   "metadata": {
    "collapsed": false
   },
   "outputs": [],
   "source": [
    "character_list = []\n",
    "###Place your code here\n",
    "\n",
    "\n",
    "###Answer\n",
    "character_list = []\n",
    "region_of_interest = False\n",
    "for line in othello_lines:\n",
    "    if 'Dramatis Personae' in line:\n",
    "        region_of_interest = True\n",
    "    if region_of_interest == True:\n",
    "        if len(line.strip()) > 0:\n",
    "            if 'ELECTRONIC' in line:\n",
    "                region_of_interest = False\n",
    "                continue\n",
    "            else:\n",
    "                character_list.append(line.strip())\n",
    "character_list = character_list[1:]"
   ]
  },
  {
   "cell_type": "markdown",
   "metadata": {},
   "source": [
    "How do we look?"
   ]
  },
  {
   "cell_type": "code",
   "execution_count": 5,
   "metadata": {
    "collapsed": false,
    "scrolled": true
   },
   "outputs": [
    {
     "name": "stdout",
     "output_type": "stream",
     "text": [
      "['OTHELLO, the Moor, general of the Venetian forces', 'DESDEMONA, his wife', 'IAGO, ensign to Othello', 'EMILIA, his wife, lady-in-waiting to Desdemona', 'CASSIO, lieutenant to Othello', 'THE DUKE OF VENICE', 'BRABANTIO, Venetian Senator, father of Desdemona', 'GRATIANO, nobleman of Venice, brother of Brabantio', 'LODOVICO, nobleman of Venice, kinsman of Brabantio', 'RODERIGO, rejected suitor of Desdemona', 'BIANCA, mistress of Cassio', 'MONTANO, a Cypriot official', 'A Clown in service to Othello', 'Senators, Sailors, Messengers, Officers, Gentlemen, Musicians, and', 'Attendants']\n"
     ]
    }
   ],
   "source": [
    "print(character_list)"
   ]
  },
  {
   "cell_type": "markdown",
   "metadata": {},
   "source": [
    "#Dialogue\n",
    "Okay so we have a list of characters. Now we want to know who says what. Ths is going to take a little bit of work. Because this is a play, things are formatted pretty well! But not perfectly... not all of the text is spoken and we don't really care about stage directions or Scene numbers or all manner of other stuff that could gunk up or analysis. However, because we looked at our data, it appears that all spoken text follows a similar format:\n",
    "```\n",
    "\"  CHARACTER. blahblahblah\n",
    "     blahblahblah\"\n",
    "```\n",
    "Two things jump out at me. How about you?\n",
    "\n",
    "1. Before a character speaks there are always (usually?) *2* spaces, followed by the character in all capital letters, followed by a period. \n",
    "2. It also looks like some speeches are longer than a single line, but those speeches have 4 spaces(!). We'll make note of that for later."
   ]
  },
  {
   "cell_type": "code",
   "execution_count": 20,
   "metadata": {
    "collapsed": false,
    "scrolled": true
   },
   "outputs": [
    {
     "name": "stdout",
     "output_type": "stream",
     "text": [
      "  OTHELLO. O villain!\n",
      "\n",
      "  CASSIO.             Most heathenish and most gross!\n",
      "\n",
      "  LODOVICO. Now here's another discontented paper,\n",
      "\n",
      "    Found in his pocket too; and this, it seems,\n",
      "\n",
      "    Roderigo meant to have sent this damned villain;\n",
      "\n",
      "    But that, belike, Iago in the interim\n",
      "\n",
      "    Came in and satisfied him.\n",
      "\n",
      "  OTHELLO.                     O the pernicious caitiff!\n",
      "\n",
      "    How came you, Cassio, by that handkerchief\n",
      "\n",
      "    That was my wife's?\n",
      "\n",
      "  CASSIO.               I found it in my chamber;\n",
      "\n",
      "    And he himself confess'd but even now\n",
      "\n",
      "    That there he dropp'd it for a special purpose\n",
      "\n",
      "    Which wrought to his desire.\n",
      "\n",
      "  OTHELLO.                       O fool! fool! fool!\n",
      "\n",
      "  CASSIO. There is besides in Roderigo's letter,\n",
      "\n",
      "    How he upbraids Iago, that he made him\n",
      "\n",
      "    Brave me upon the watch, whereon it came\n",
      "\n",
      "    That I was cast. And even but now he spake\n",
      "\n",
      "    After long seeming dead, Iago hurt him,\n",
      "\n",
      "    Iago set him on.\n",
      "\n",
      "  LODOVICO. You must forsake this room, and go with us.\n",
      "\n",
      "    Your power and your command is taken off,\n",
      "\n",
      "    And Cassio rules in Cyprus. For this slave,\n",
      "\n",
      "    If there be any cunning cruelty\n",
      "\n",
      "    That can torment him much and hold him long,\n",
      "\n",
      "    It shall be his. You shall close prisoner rest,\n",
      "\n",
      "    Till that the nature of your fault be known\n",
      "\n",
      "    To the Venetian state. Come, bring away.\n",
      "\n",
      "  OTHELLO. Soft you; a word or two before you go.\n",
      "\n",
      "    I have done the state some service, and they know't.\n",
      "\n",
      "    No more of that. I pray you, in your letters,\n",
      "\n",
      "    When you shall these unlucky deeds relate,\n",
      "\n",
      "    Speak of me as I am; nothing extenuate,\n",
      "\n",
      "    Nor set down aught in malice. Then must you speak\n",
      "\n",
      "    Of one that loved not wisely but too well;\n",
      "\n",
      "    Of one not easily jealous, but, being wrought,\n",
      "\n",
      "    Perplex'd in the extreme; of one whose hand,\n",
      "\n",
      "    Like the base Indian, threw a pearl away\n",
      "\n",
      "    Richer than all his tribe; of one whose subdued eyes,\n",
      "\n",
      "    Albeit unused to the melting mood,\n",
      "\n",
      "    Drop tears as fast as the Arabian trees\n",
      "\n",
      "    Their medicinal gum. Set you down this;\n",
      "\n",
      "    And say besides, that in Aleppo once,\n",
      "\n",
      "    Where a malignant and a turban'd Turk\n",
      "\n",
      "    Beat a Venetian and traduced the state,\n",
      "\n",
      "    I took by the throat the circumcised dog\n",
      "\n",
      "    And smote him, thus.                               Stabs himself.\n",
      "\n",
      "  LODOVICO. O bloody period!\n",
      "\n",
      "  GRATIANO.                  All that's spoke is marr'd.\n",
      "\n",
      "  OTHELLO. I kiss'd thee ere I kill'd thee. No way but this,\n",
      "\n",
      "    Killing myself, to die upon a kiss.\n",
      "\n",
      "                                          Falls on the bed, and dies.\n",
      "\n",
      "  CASSIO. This did I fear, but thought he had no weapon;\n",
      "\n",
      "    For he was great of heart.\n",
      "\n",
      "  LODOVICO.         [To Iago.] O Spartan dog,\n",
      "\n",
      "    More fell than anguish, hunger, or the sea!\n",
      "\n",
      "    Look on the tragic loading of this bed;\n",
      "\n",
      "    This is thy work. The object poisons sight;\n",
      "\n",
      "    Let it be hid. Gratiano, keep the house,\n",
      "\n",
      "    And seize upon the fortunes of the Moor,\n",
      "\n",
      "    For they succeed on you. To you, Lord Governor,\n",
      "\n",
      "    Remains the censure of this hellish villain,\n",
      "\n",
      "    The time, the place, the torture. O, enforce it!\n",
      "\n",
      "    Myself will straight aboard, and to the state\n",
      "\n",
      "    This heavy act with heavy heart relate.                   Exeunt.\n",
      "\n"
     ]
    }
   ],
   "source": [
    "sample_text = othello_lines[3825:3891]\n",
    "for line in sample_text:\n",
    "    print(line)"
   ]
  },
  {
   "cell_type": "markdown",
   "metadata": {},
   "source": [
    "**Exercise:** Given the sample_text above. Assign each word of dialogue to a character in the form of a dictionary."
   ]
  },
  {
   "cell_type": "code",
   "execution_count": 47,
   "metadata": {
    "collapsed": false
   },
   "outputs": [],
   "source": [
    "dialogue_dictionary = {}\n",
    "character = ''\n",
    "\n",
    "###Place your code here\n",
    "for line in sample_text:\n",
    "    if line[:2] == '  ':\n",
    "        if line[2:4] != '  ':\n",
    "            character = line.strip().split('.')[0]\n",
    "            try:\n",
    "                dialogue_dictionary[character].append(line.strip(character+'.').strip())\n",
    "            except:\n",
    "                dialogue_dictionary[character] = [line.strip(character+'.').strip()]\n",
    "        else:\n",
    "            dialogue_dictionary[character].append(line.strip(character+'.').strip())\n",
    "     "
   ]
  },
  {
   "cell_type": "code",
   "execution_count": 48,
   "metadata": {
    "collapsed": false
   },
   "outputs": [
    {
     "data": {
      "text/plain": [
       "{'CASSIO': ['CASSIO.             Most heathenish and most gross!',\n",
       "  'CASSIO.               I found it in my chamber;',\n",
       "  \"And he himself confess'd but even now\",\n",
       "  \"That there he dropp'd it for a special purpose\",\n",
       "  'Which wrought to his desire.',\n",
       "  \"CASSIO. There is besides in Roderigo's letter,\",\n",
       "  'How he upbraids Iago, that he made him',\n",
       "  'Brave me upon the watch, whereon it came',\n",
       "  'That I was cast. And even but now he spake',\n",
       "  'After long seeming dead, Iago hurt him,',\n",
       "  'Iago set him on.',\n",
       "  'CASSIO. This did I fear, but thought he had no weapon;',\n",
       "  'For he was great of heart.'],\n",
       " 'GRATIANO': [\"GRATIANO.                  All that's spoke is marr'd.\"],\n",
       " 'LODOVICO': [\"LODOVICO. Now here's another discontented paper,\",\n",
       "  'Found in his pocket too; and this, it seems,',\n",
       "  'Roderigo meant to have sent this damned villain;',\n",
       "  'But that, belike, Iago in the interim',\n",
       "  'Came in and satisfied him.',\n",
       "  'LODOVICO. You must forsake this room, and go with us.',\n",
       "  'Your power and your command is taken off,',\n",
       "  'And Cassio rules in Cyprus. For this slave,',\n",
       "  'If there be any cunning cruelty',\n",
       "  'That can torment him much and hold him long,',\n",
       "  'It shall be his. You shall close prisoner rest,',\n",
       "  'Till that the nature of your fault be known',\n",
       "  'To the Venetian state. Come, bring away.',\n",
       "  'LODOVICO. O bloody period!',\n",
       "  'LODOVICO.         [To Iago.] O Spartan dog,',\n",
       "  'More fell than anguish, hunger, or the sea!',\n",
       "  'Look on the tragic loading of this bed;',\n",
       "  'This is thy work. The object poisons sight;',\n",
       "  'Let it be hid. Gratiano, keep the house,',\n",
       "  'And seize upon the fortunes of the Moor,',\n",
       "  'For they succeed on you. To you, Lord Governor,',\n",
       "  'Remains the censure of this hellish villain,',\n",
       "  'The time, the place, the torture. O, enforce it!',\n",
       "  'Myself will straight aboard, and to the state',\n",
       "  'This heavy act with heavy heart relate.                   Exeunt.'],\n",
       " 'OTHELLO': ['OTHELLO. O villain!',\n",
       "  'OTHELLO.                     O the pernicious caitiff!',\n",
       "  'How came you, Cassio, by that handkerchief',\n",
       "  \"That was my wife's?\",\n",
       "  'OTHELLO.                       O fool! fool! fool!',\n",
       "  'OTHELLO. Soft you; a word or two before you go.',\n",
       "  \"I have done the state some service, and they know't.\",\n",
       "  'No more of that. I pray you, in your letters,',\n",
       "  'When you shall these unlucky deeds relate,',\n",
       "  'Speak of me as I am; nothing extenuate,',\n",
       "  'Nor set down aught in malice. Then must you speak',\n",
       "  'Of one that loved not wisely but too well;',\n",
       "  'Of one not easily jealous, but, being wrought,',\n",
       "  \"Perplex'd in the extreme; of one whose hand,\",\n",
       "  'Like the base Indian, threw a pearl away',\n",
       "  'Richer than all his tribe; of one whose subdued eyes,',\n",
       "  'Albeit unused to the melting mood,',\n",
       "  'Drop tears as fast as the Arabian trees',\n",
       "  'Their medicinal gum. Set you down this;',\n",
       "  'And say besides, that in Aleppo once,',\n",
       "  \"Where a malignant and a turban'd Turk\",\n",
       "  'Beat a Venetian and traduced the state,',\n",
       "  'I took by the throat the circumcised dog',\n",
       "  'And smote him, thus.                               Stabs himself.',\n",
       "  \"OTHELLO. I kiss'd thee ere I kill'd thee. No way but this,\",\n",
       "  'Killing myself, to die upon a kiss.',\n",
       "  'Falls on the bed, and dies.']}"
      ]
     },
     "execution_count": 48,
     "metadata": {},
     "output_type": "execute_result"
    }
   ],
   "source": [
    "dialogue_dictionary"
   ]
  },
  {
   "cell_type": "markdown",
   "metadata": {},
   "source": [
    "The code that we wrote above should (might?) be generalizable. But who knows. We'll have to check slowly"
   ]
  },
  {
   "cell_type": "markdown",
   "metadata": {},
   "source": [
    "Let's first check whether our method of identifying the speaker works on the whole play:"
   ]
  },
  {
   "cell_type": "code",
   "execution_count": 51,
   "metadata": {
    "collapsed": false,
    "scrolled": false
   },
   "outputs": [
    {
     "name": "stdout",
     "output_type": "stream",
     "text": [
      "  OTHELLO, the Moor, general of the Venetian forces\n",
      "\n",
      "  DESDEMONA, his wife\n",
      "\n",
      "  IAGO, ensign to Othello\n",
      "\n",
      "  EMILIA, his wife, lady-in-waiting to Desdemona\n",
      "\n",
      "  CASSIO, lieutenant to Othello\n",
      "\n",
      "  THE DUKE OF VENICE\n",
      "\n",
      "  BRABANTIO, Venetian Senator, father of Desdemona\n",
      "\n",
      "  GRATIANO, nobleman of Venice, brother of Brabantio\n",
      "\n",
      "  LODOVICO, nobleman of Venice, kinsman of Brabantio\n",
      "\n",
      "  RODERIGO, rejected suitor of Desdemona\n",
      "\n",
      "  BIANCA, mistress of Cassio\n",
      "\n",
      "  MONTANO, a Cypriot official\n",
      "\n",
      "  A Clown in service to Othello\n",
      "\n",
      "  Senators, Sailors, Messengers, Officers, Gentlemen, Musicians, and\n",
      "\n",
      "    Attendants\n",
      "\n",
      "  RODERIGO. Tush, never tell me! I take it much unkindly\n",
      "\n",
      "    That thou, Iago, who hast had my purse\n",
      "\n",
      "    As if the strings were thine, shouldst know of this.\n",
      "\n",
      "  IAGO. 'Sblood, but you will not hear me.\n",
      "\n",
      "    If ever I did dream of such a matter,\n",
      "\n",
      "    Abhor me.\n",
      "\n",
      "  RODERIGO. Thou told'st me thou didst hold him in thy hate.\n",
      "\n",
      "  IAGO. Despise me, if I do not. Three great ones of the city,\n",
      "\n",
      "    In personal suit to make me his lieutenant,\n",
      "\n",
      "    Off-capp'd to him; and, by the faith of man,\n",
      "\n",
      "    I know my price, I am worth no worse a place.\n",
      "\n",
      "    But he, as loving his own pride and purposes,\n",
      "\n",
      "    Evades them, with a bumbast circumstance\n",
      "\n",
      "    Horribly stuff'd with epithets of war,\n",
      "\n",
      "    And, in conclusion,\n",
      "\n",
      "    Nonsuits my mediators; for, \"Certes,\" says he,\n",
      "\n",
      "    \"I have already chose my officer.\"\n",
      "\n",
      "    And what was he?\n",
      "\n",
      "    Forsooth, a great arithmetician,\n",
      "\n",
      "    One Michael Cassio, a Florentine\n",
      "\n",
      "    (A fellow almost damn'd in a fair wife)\n",
      "\n",
      "    That never set a squadron in the field,\n",
      "\n",
      "    Nor the division of a battle knows\n",
      "\n",
      "    More than a spinster; unless the bookish theoric,\n",
      "\n",
      "    Wherein the toged consuls can propose\n",
      "\n",
      "    As masterly as he. Mere prattle without practice\n",
      "\n",
      "    Is all his soldiership. But he, sir, had the election;\n",
      "\n",
      "    And I, of whom his eyes had seen the proof\n",
      "\n",
      "    At Rhodes, at Cyprus, and on other grounds\n",
      "\n",
      "    Christian and heathen, must be belee'd and calm'd\n",
      "\n",
      "    By debitor and creditor. This counter-caster,\n",
      "\n",
      "    He, in good time, must his lieutenant be,\n",
      "\n",
      "    And I- God bless the mark!- his Moorship's ancient.\n",
      "\n",
      "  RODERIGO. By heaven, I rather would have been his hangman.\n",
      "\n",
      "  IAGO. Why, there's no remedy. 'Tis the curse of service,\n",
      "\n",
      "    Preferment goes by letter and affection,\n",
      "\n",
      "    And not by old gradation, where each second\n",
      "\n",
      "    Stood heir to the first. Now, sir, be judge yourself\n",
      "\n",
      "    Whether I in any just term am affined\n",
      "\n",
      "    To love the Moor.\n",
      "\n",
      "  RODERIGO.           I would not follow him then.\n",
      "\n",
      "  IAGO. O, sir, content you.\n",
      "\n",
      "    I follow him to serve my turn upon him:\n",
      "\n",
      "    We cannot all be masters, nor all masters\n",
      "\n",
      "    Cannot be truly follow'd. You shall mark\n",
      "\n",
      "    Many a duteous and knee-crooking knave,\n",
      "\n",
      "    That doting on his own obsequious bondage\n",
      "\n",
      "    Wears out his time, much like his master's ass,\n",
      "\n",
      "    For nought but provender, and when he's old, cashier'd.\n",
      "\n",
      "    Whip me such honest knaves. Others there are\n",
      "\n",
      "    Who, trimm'd in forms and visages of duty,\n",
      "\n",
      "    Keep yet their hearts attending on themselves,\n",
      "\n",
      "    And throwing but shows of service on their lords\n",
      "\n",
      "    Do well thrive by them; and when they have lined their coats\n",
      "\n",
      "    Do themselves homage. These fellows have some soul,\n",
      "\n"
     ]
    }
   ],
   "source": [
    "for line in othello_lines[:100]: #No reason to work with the full text while we're still learning\n",
    "    if line[:2] == '  ':\n",
    "        print(line)"
   ]
  },
  {
   "cell_type": "markdown",
   "metadata": {},
   "source": [
    "As fun as all of that is, it's mostly irrelevant. The whole beginning is just our Dramatus personae, so let's figure out where we really need to start paying attention:"
   ]
  },
  {
   "cell_type": "code",
   "execution_count": 7,
   "metadata": {
    "collapsed": false
   },
   "outputs": [
    {
     "name": "stdout",
     "output_type": "stream",
     "text": [
      "(0, 'THE TRAGEDY OF OTHELLO, MOOR OF VENICE\\n')\n",
      "(1, '\\n')\n",
      "(2, 'by William Shakespeare\\n')\n",
      "(3, '\\n')\n",
      "(4, '\\n')\n",
      "(5, '\\n')\n",
      "(6, 'Dramatis Personae\\n')\n",
      "(7, '\\n')\n",
      "(8, '  OTHELLO, the Moor, general of the Venetian forces\\n')\n",
      "(9, '  DESDEMONA, his wife\\n')\n",
      "(10, '  IAGO, ensign to Othello\\n')\n",
      "(11, '  EMILIA, his wife, lady-in-waiting to Desdemona\\n')\n",
      "(12, '  CASSIO, lieutenant to Othello\\n')\n",
      "(13, '  THE DUKE OF VENICE\\n')\n",
      "(14, '  BRABANTIO, Venetian Senator, father of Desdemona\\n')\n",
      "(15, '  GRATIANO, nobleman of Venice, brother of Brabantio\\n')\n",
      "(16, '  LODOVICO, nobleman of Venice, kinsman of Brabantio\\n')\n",
      "(17, '  RODERIGO, rejected suitor of Desdemona\\n')\n",
      "(18, '  BIANCA, mistress of Cassio\\n')\n",
      "(19, '  MONTANO, a Cypriot official\\n')\n",
      "(20, '  A Clown in service to Othello\\n')\n",
      "(21, '  Senators, Sailors, Messengers, Officers, Gentlemen, Musicians, and\\n')\n",
      "(22, '    Attendants\\n')\n",
      "(23, '\\n')\n",
      "(24, '\\n')\n",
      "(25, '\\n')\n",
      "(26, '\\n')\n",
      "(27, '<<THIS ELECTRONIC VERSION OF THE COMPLETE WORKS OF WILLIAM\\n')\n",
      "(28, 'SHAKESPEARE IS COPYRIGHT 1990-1993 BY WORLD LIBRARY, INC., AND IS\\n')\n",
      "(29, 'PROVIDED BY PROJECT GUTENBERG ETEXT OF ILLINOIS BENEDICTINE COLLEGE\\n')\n",
      "(30, 'WITH PERMISSION.  ELECTRONIC AND MACHINE READABLE COPIES MAY BE\\n')\n",
      "(31, 'DISTRIBUTED SO LONG AS SUCH COPIES (1) ARE FOR YOUR OR OTHERS\\n')\n",
      "(32, 'PERSONAL USE ONLY, AND (2) ARE NOT DISTRIBUTED OR USED\\n')\n",
      "(33, 'COMMERCIALLY.  PROHIBITED COMMERCIAL DISTRIBUTION INCLUDES BY ANY\\n')\n",
      "(34, 'SERVICE THAT CHARGES FOR DOWNLOAD TIME OR FOR MEMBERSHIP.>>\\n')\n",
      "(35, '\\n')\n",
      "(36, '\\n')\n",
      "(37, '\\n')\n",
      "(38, 'SCENE: Venice and Cyprus\\n')\n",
      "(39, '\\n')\n",
      "(40, 'ACT I. SCENE I.\\n')\n",
      "(41, 'Venice. A street.\\n')\n",
      "(42, '\\n')\n",
      "(43, 'Enter Roderigo and Iago.\\n')\n",
      "(44, '\\n')\n",
      "(45, '  RODERIGO. Tush, never tell me! I take it much unkindly\\n')\n",
      "(46, '    That thou, Iago, who hast had my purse\\n')\n",
      "(47, '    As if the strings were thine, shouldst know of this.\\n')\n",
      "(48, \"  IAGO. 'Sblood, but you will not hear me.\\n\")\n",
      "(49, '    If ever I did dream of such a matter,\\n')\n",
      "(50, '    Abhor me.\\n')\n",
      "(51, \"  RODERIGO. Thou told'st me thou didst hold him in thy hate.\\n\")\n",
      "(52, '  IAGO. Despise me, if I do not. Three great ones of the city,\\n')\n",
      "(53, '    In personal suit to make me his lieutenant,\\n')\n",
      "(54, \"    Off-capp'd to him; and, by the faith of man,\\n\")\n",
      "(55, '    I know my price, I am worth no worse a place.\\n')\n",
      "(56, '    But he, as loving his own pride and purposes,\\n')\n",
      "(57, '    Evades them, with a bumbast circumstance\\n')\n",
      "(58, \"    Horribly stuff'd with epithets of war,\\n\")\n",
      "(59, '    And, in conclusion,\\n')\n",
      "(60, '    Nonsuits my mediators; for, \"Certes,\" says he,\\n')\n",
      "(61, '    \"I have already chose my officer.\"\\n')\n",
      "(62, '    And what was he?\\n')\n",
      "(63, '    Forsooth, a great arithmetician,\\n')\n",
      "(64, '    One Michael Cassio, a Florentine\\n')\n",
      "(65, \"    (A fellow almost damn'd in a fair wife)\\n\")\n",
      "(66, '    That never set a squadron in the field,\\n')\n",
      "(67, '    Nor the division of a battle knows\\n')\n",
      "(68, '    More than a spinster; unless the bookish theoric,\\n')\n",
      "(69, '    Wherein the toged consuls can propose\\n')\n",
      "(70, '    As masterly as he. Mere prattle without practice\\n')\n",
      "(71, '    Is all his soldiership. But he, sir, had the election;\\n')\n",
      "(72, '    And I, of whom his eyes had seen the proof\\n')\n",
      "(73, '    At Rhodes, at Cyprus, and on other grounds\\n')\n",
      "(74, \"    Christian and heathen, must be belee'd and calm'd\\n\")\n",
      "(75, '    By debitor and creditor. This counter-caster,\\n')\n",
      "(76, '    He, in good time, must his lieutenant be,\\n')\n",
      "(77, \"    And I- God bless the mark!- his Moorship's ancient.\\n\")\n",
      "(78, '  RODERIGO. By heaven, I rather would have been his hangman.\\n')\n",
      "(79, \"  IAGO. Why, there's no remedy. 'Tis the curse of service,\\n\")\n",
      "(80, '    Preferment goes by letter and affection,\\n')\n",
      "(81, '    And not by old gradation, where each second\\n')\n",
      "(82, '    Stood heir to the first. Now, sir, be judge yourself\\n')\n",
      "(83, '    Whether I in any just term am affined\\n')\n",
      "(84, '    To love the Moor.\\n')\n",
      "(85, '  RODERIGO.           I would not follow him then.\\n')\n",
      "(86, '  IAGO. O, sir, content you.\\n')\n",
      "(87, '    I follow him to serve my turn upon him:\\n')\n",
      "(88, '    We cannot all be masters, nor all masters\\n')\n",
      "(89, \"    Cannot be truly follow'd. You shall mark\\n\")\n",
      "(90, '    Many a duteous and knee-crooking knave,\\n')\n",
      "(91, '    That doting on his own obsequious bondage\\n')\n",
      "(92, \"    Wears out his time, much like his master's ass,\\n\")\n",
      "(93, \"    For nought but provender, and when he's old, cashier'd.\\n\")\n",
      "(94, '    Whip me such honest knaves. Others there are\\n')\n",
      "(95, \"    Who, trimm'd in forms and visages of duty,\\n\")\n",
      "(96, '    Keep yet their hearts attending on themselves,\\n')\n",
      "(97, '    And throwing but shows of service on their lords\\n')\n",
      "(98, '    Do well thrive by them; and when they have lined their coats\\n')\n",
      "(99, '    Do themselves homage. These fellows have some soul,\\n')\n"
     ]
    }
   ],
   "source": [
    "for line in enumerate(othello_lines[:100]):\n",
    "    print(line)"
   ]
  },
  {
   "cell_type": "markdown",
   "metadata": {},
   "source": [
    "Looks like the real play doesn't start until line 38. So we'll start there from now on. "
   ]
  },
  {
   "cell_type": "code",
   "execution_count": 8,
   "metadata": {
    "collapsed": false
   },
   "outputs": [
    {
     "name": "stdout",
     "output_type": "stream",
     "text": [
      "  RODERIGO. Tush, never tell me! I take it much unkindly\n",
      "\n",
      "    That thou, Iago, who hast had my purse\n",
      "\n",
      "    As if the strings were thine, shouldst know of this.\n",
      "\n",
      "  IAGO. 'Sblood, but you will not hear me.\n",
      "\n",
      "    If ever I did dream of such a matter,\n",
      "\n",
      "    Abhor me.\n",
      "\n",
      "  RODERIGO. Thou told'st me thou didst hold him in thy hate.\n",
      "\n",
      "  IAGO. Despise me, if I do not. Three great ones of the city,\n",
      "\n",
      "    In personal suit to make me his lieutenant,\n",
      "\n",
      "    Off-capp'd to him; and, by the faith of man,\n",
      "\n",
      "    I know my price, I am worth no worse a place.\n",
      "\n",
      "    But he, as loving his own pride and purposes,\n",
      "\n",
      "    Evades them, with a bumbast circumstance\n",
      "\n",
      "    Horribly stuff'd with epithets of war,\n",
      "\n",
      "    And, in conclusion,\n",
      "\n",
      "    Nonsuits my mediators; for, \"Certes,\" says he,\n",
      "\n",
      "    \"I have already chose my officer.\"\n",
      "\n",
      "    And what was he?\n",
      "\n",
      "    Forsooth, a great arithmetician,\n",
      "\n",
      "    One Michael Cassio, a Florentine\n",
      "\n",
      "    (A fellow almost damn'd in a fair wife)\n",
      "\n",
      "    That never set a squadron in the field,\n",
      "\n",
      "    Nor the division of a battle knows\n",
      "\n",
      "    More than a spinster; unless the bookish theoric,\n",
      "\n",
      "    Wherein the toged consuls can propose\n",
      "\n",
      "    As masterly as he. Mere prattle without practice\n",
      "\n",
      "    Is all his soldiership. But he, sir, had the election;\n",
      "\n",
      "    And I, of whom his eyes had seen the proof\n",
      "\n",
      "    At Rhodes, at Cyprus, and on other grounds\n",
      "\n",
      "    Christian and heathen, must be belee'd and calm'd\n",
      "\n",
      "    By debitor and creditor. This counter-caster,\n",
      "\n",
      "    He, in good time, must his lieutenant be,\n",
      "\n",
      "    And I- God bless the mark!- his Moorship's ancient.\n",
      "\n",
      "  RODERIGO. By heaven, I rather would have been his hangman.\n",
      "\n",
      "  IAGO. Why, there's no remedy. 'Tis the curse of service,\n",
      "\n",
      "    Preferment goes by letter and affection,\n",
      "\n",
      "    And not by old gradation, where each second\n",
      "\n",
      "    Stood heir to the first. Now, sir, be judge yourself\n",
      "\n",
      "    Whether I in any just term am affined\n",
      "\n",
      "    To love the Moor.\n",
      "\n",
      "  RODERIGO.           I would not follow him then.\n",
      "\n",
      "  IAGO. O, sir, content you.\n",
      "\n",
      "    I follow him to serve my turn upon him:\n",
      "\n",
      "    We cannot all be masters, nor all masters\n",
      "\n",
      "    Cannot be truly follow'd. You shall mark\n",
      "\n",
      "    Many a duteous and knee-crooking knave,\n",
      "\n",
      "    That doting on his own obsequious bondage\n",
      "\n",
      "    Wears out his time, much like his master's ass,\n",
      "\n",
      "    For nought but provender, and when he's old, cashier'd.\n",
      "\n",
      "    Whip me such honest knaves. Others there are\n",
      "\n",
      "    Who, trimm'd in forms and visages of duty,\n",
      "\n",
      "    Keep yet their hearts attending on themselves,\n",
      "\n",
      "    And throwing but shows of service on their lords\n",
      "\n",
      "    Do well thrive by them; and when they have lined their coats\n",
      "\n",
      "    Do themselves homage. These fellows have some soul,\n",
      "\n"
     ]
    }
   ],
   "source": [
    "for line in othello_lines[38:100]:\n",
    "    if line[:2] == '  ':\n",
    "        print(line)"
   ]
  },
  {
   "cell_type": "markdown",
   "metadata": {},
   "source": [
    "That's not so bad, but there is still a lot that we need to exclude. Remember, dialogue looks like it has two, and only two, spaces:"
   ]
  },
  {
   "cell_type": "code",
   "execution_count": 11,
   "metadata": {
    "collapsed": false
   },
   "outputs": [
    {
     "name": "stdout",
     "output_type": "stream",
     "text": [
      "  RODERIGO. Tush, never tell me! I take it much unkindly\n",
      "\n",
      "  IAGO. 'Sblood, but you will not hear me.\n",
      "\n",
      "  RODERIGO. Thou told'st me thou didst hold him in thy hate.\n",
      "\n",
      "  IAGO. Despise me, if I do not. Three great ones of the city,\n",
      "\n",
      "  RODERIGO. By heaven, I rather would have been his hangman.\n",
      "\n",
      "  IAGO. Why, there's no remedy. 'Tis the curse of service,\n",
      "\n",
      "  RODERIGO.           I would not follow him then.\n",
      "\n",
      "  IAGO. O, sir, content you.\n",
      "\n"
     ]
    }
   ],
   "source": [
    "for line in othello_lines[38:100]:\n",
    "    if line[:2] == '  ':\n",
    "        if line[2:4] != '  ':\n",
    "            print(line)"
   ]
  },
  {
   "cell_type": "markdown",
   "metadata": {},
   "source": [
    "We're getting better. Much better. Time to start compiling a list of characters for our little subset."
   ]
  },
  {
   "cell_type": "code",
   "execution_count": 12,
   "metadata": {
    "collapsed": false
   },
   "outputs": [],
   "source": [
    "abbrev_characters = []\n",
    "for line in othello_lines[38:100]:\n",
    "    if line[:2] == '  ':\n",
    "        if line[2:4] != '  ':\n",
    "            temp_character = line.split('.')[0].strip()\n",
    "            abbrev_characters.append(temp_character)"
   ]
  },
  {
   "cell_type": "code",
   "execution_count": 13,
   "metadata": {
    "collapsed": false
   },
   "outputs": [
    {
     "name": "stdout",
     "output_type": "stream",
     "text": [
      "8\n",
      "['RODERIGO', 'IAGO', 'RODERIGO', 'IAGO', 'RODERIGO', 'IAGO', 'RODERIGO', 'IAGO']\n",
      "{'IAGO', 'RODERIGO'}\n"
     ]
    }
   ],
   "source": [
    "print(len(abbrev_characters))\n",
    "print(abbrev_characters)\n",
    "print(set(abbrev_characters))"
   ]
  },
  {
   "cell_type": "markdown",
   "metadata": {},
   "source": [
    "Looks good to me. Let's see how we do on the whole shebang. "
   ]
  },
  {
   "cell_type": "code",
   "execution_count": 14,
   "metadata": {
    "collapsed": true
   },
   "outputs": [],
   "source": [
    "abbrev_characters = []\n",
    "for line in othello_lines[38:]:\n",
    "    if line[:2] == '  ':\n",
    "        if line[2:4] != '  ':\n",
    "            temp_character = line.split('.')[0].strip()\n",
    "            abbrev_characters.append(temp_character)"
   ]
  },
  {
   "cell_type": "markdown",
   "metadata": {},
   "source": [
    "This is probably pretty big because we're double counting characters. But remember, we can look at only the unique items pretty easily. "
   ]
  },
  {
   "cell_type": "code",
   "execution_count": 15,
   "metadata": {
    "collapsed": false
   },
   "outputs": [
    {
     "name": "stdout",
     "output_type": "stream",
     "text": [
      "1183\n",
      "{'FIRST MUSICIAN', 'Retires', 'SECOND GENTLEMAN', 'Faints', 'Exeunt', 'MESSENGER', 'FOURTH GENTLEMAN', 'LODOVICO', 'RODERIGO', 'THIRD GENTLEMAN', 'BIANCA', 'FIRST GENTLEMAN', 'MONTANO', 'FIRST OFFICER', 'IAGO', 'EMILIA', 'DESDEMONA', 'DUKE', 'CASSIO', 'SECOND SENATOR', 'GENTLEMEN', 'OTHELLO', 'GRATIANO', 'BRABANTIO', 'SAILOR', 'FIRST SENATOR', 'ALL', 'HERALD', 'CLOWN'}\n"
     ]
    }
   ],
   "source": [
    "print(len(abbrev_characters))\n",
    "print(set(abbrev_characters))"
   ]
  },
  {
   "cell_type": "markdown",
   "metadata": {},
   "source": [
    "That looks pretty good, but the capital letter thing gives us a little more information that might be relevant. "
   ]
  },
  {
   "cell_type": "code",
   "execution_count": 16,
   "metadata": {
    "collapsed": true
   },
   "outputs": [],
   "source": [
    "abbrev_characters = []\n",
    "for line in othello_lines[38:]:\n",
    "    if line[:2] == '  ':\n",
    "        if line[2:4] != '  ': \n",
    "            temp_character = line.split('.')[0].strip()\n",
    "            if temp_character.upper() == temp_character:\n",
    "                abbrev_characters.append(temp_character)"
   ]
  },
  {
   "cell_type": "code",
   "execution_count": 17,
   "metadata": {
    "collapsed": false
   },
   "outputs": [
    {
     "name": "stdout",
     "output_type": "stream",
     "text": [
      "{'CLOWN', 'SECOND GENTLEMAN', 'MESSENGER', 'FOURTH GENTLEMAN', 'LODOVICO', 'RODERIGO', 'THIRD GENTLEMAN', 'BIANCA', 'FIRST GENTLEMAN', 'MONTANO', 'FIRST OFFICER', 'IAGO', 'EMILIA', 'DESDEMONA', 'DUKE', 'CASSIO', 'SECOND SENATOR', 'GENTLEMEN', 'OTHELLO', 'GRATIANO', 'BRABANTIO', 'SAILOR', 'FIRST SENATOR', 'ALL', 'HERALD', 'FIRST MUSICIAN'}\n",
      "26\n",
      "15\n"
     ]
    }
   ],
   "source": [
    "print(set(abbrev_characters))\n",
    "print(len(set(abbrev_characters)))\n",
    "print(len(character_list))"
   ]
  },
  {
   "cell_type": "markdown",
   "metadata": {},
   "source": [
    "Probably (certainly) not perfect, but good enough to move on. Let's not lose sight of the prize. We want to extract the dialogue for each character!"
   ]
  },
  {
   "cell_type": "code",
   "execution_count": 138,
   "metadata": {
    "collapsed": true
   },
   "outputs": [],
   "source": [
    "\n",
    "\n"
   ]
  },
  {
   "cell_type": "markdown",
   "metadata": {},
   "source": [
    "**Exercise:** Our first step towards analyzing Othello was to extract out the Othello specific text from the complete works file, which we did in a pretty arbitrary way to make our lives easier. How would you do it in an automated fashion? Specifically, read the following file and return a _list_ containing the names of every play within the file. "
   ]
  },
  {
   "cell_type": "code",
   "execution_count": null,
   "metadata": {
    "collapsed": true
   },
   "outputs": [],
   "source": [
    "complete_works = open('../Data/Shakespeare.txt').readlines()\n",
    "play_list = []\n",
    "###Your code here\n"
   ]
  },
  {
   "cell_type": "markdown",
   "metadata": {},
   "source": [
    "**Exercise:** How well does the code that we wrote above work on Hamlet? Romeo and Juliet?"
   ]
  }
 ],
 "metadata": {
  "kernelspec": {
   "display_name": "Python 3",
   "language": "python",
   "name": "python3"
  },
  "language_info": {
   "codemirror_mode": {
    "name": "ipython",
    "version": 3
   },
   "file_extension": ".py",
   "mimetype": "text/x-python",
   "name": "python",
   "nbconvert_exporter": "python",
   "pygments_lexer": "ipython3",
   "version": "3.4.3"
  }
 },
 "nbformat": 4,
 "nbformat_minor": 0
}
