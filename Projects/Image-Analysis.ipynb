{
 "cells": [
  {
   "cell_type": "code",
   "execution_count": 1,
   "metadata": {
    "collapsed": true
   },
   "outputs": [],
   "source": [
    "%matplotlib inline"
   ]
  },
  {
   "cell_type": "code",
   "execution_count": 23,
   "metadata": {
    "collapsed": true
   },
   "outputs": [],
   "source": [
    "import pandas as pd\n",
    "import numpy as np\n",
    "import matplotlib.pyplot as plt\n",
    "import matplotlib as mpl\n",
    "import glob\n",
    "\n",
    "#mpl.rc('text', usetex=False)"
   ]
  },
  {
   "cell_type": "code",
   "execution_count": 4,
   "metadata": {
    "collapsed": false
   },
   "outputs": [
    {
     "name": "stdout",
     "output_type": "stream",
     "text": [
      "\u001b[34mCollege-Majors\u001b[m\u001b[m/                      bird.png                             gpa_data.csv\r\n",
      "\u001b[34mEmails\u001b[m\u001b[m/                              color_bird.png                       individual_physical_attributes.csv\r\n",
      "\u001b[34mLyrics\u001b[m\u001b[m/                              credit_delinquency.csv               individual_physical_attributes.xlsx\r\n",
      "\u001b[34mNew-Roster\u001b[m\u001b[m/                          die_series.dat                       pandas_test_data.csv\r\n",
      "\u001b[34mRoster\u001b[m\u001b[m/                              exceldata.xlsx                       smiley.gif\r\n",
      "TA_ages.json                         gauss.dat\r\n",
      "aapl_stock_price.csv                 gauss_too.dat\r\n"
     ]
    }
   ],
   "source": [
    "ls ../Data/"
   ]
  },
  {
   "cell_type": "code",
   "execution_count": 175,
   "metadata": {
    "collapsed": true
   },
   "outputs": [],
   "source": [
    "images = glob.glob('../Data/Paintings/*.jpg')"
   ]
  },
  {
   "cell_type": "code",
   "execution_count": 177,
   "metadata": {
    "collapsed": false
   },
   "outputs": [
    {
     "ename": "TypeError",
     "evalue": "Image data can not convert to float",
     "output_type": "error",
     "traceback": [
      "\u001b[0;31m---------------------------------------------------------------------------\u001b[0m",
      "\u001b[0;31mTypeError\u001b[0m                                 Traceback (most recent call last)",
      "\u001b[0;32m<ipython-input-177-b1f7f57c7c8f>\u001b[0m in \u001b[0;36m<module>\u001b[0;34m()\u001b[0m\n\u001b[0;32m----> 1\u001b[0;31m \u001b[0mplt\u001b[0m\u001b[0;34m.\u001b[0m\u001b[0mimshow\u001b[0m\u001b[0;34m(\u001b[0m\u001b[0mimages\u001b[0m\u001b[0;34m[\u001b[0m\u001b[0;36m0\u001b[0m\u001b[0;34m]\u001b[0m\u001b[0;34m)\u001b[0m\u001b[0;34m\u001b[0m\u001b[0m\n\u001b[0m",
      "\u001b[0;32m/Users/peterwinter/.pyenv/versions/anaconda3-2.3.0/lib/python3.4/site-packages/matplotlib/pyplot.py\u001b[0m in \u001b[0;36mimshow\u001b[0;34m(X, cmap, norm, aspect, interpolation, alpha, vmin, vmax, origin, extent, shape, filternorm, filterrad, imlim, resample, url, hold, **kwargs)\u001b[0m\n\u001b[1;32m   2959\u001b[0m                         \u001b[0mvmax\u001b[0m\u001b[0;34m=\u001b[0m\u001b[0mvmax\u001b[0m\u001b[0;34m,\u001b[0m \u001b[0morigin\u001b[0m\u001b[0;34m=\u001b[0m\u001b[0morigin\u001b[0m\u001b[0;34m,\u001b[0m \u001b[0mextent\u001b[0m\u001b[0;34m=\u001b[0m\u001b[0mextent\u001b[0m\u001b[0;34m,\u001b[0m \u001b[0mshape\u001b[0m\u001b[0;34m=\u001b[0m\u001b[0mshape\u001b[0m\u001b[0;34m,\u001b[0m\u001b[0;34m\u001b[0m\u001b[0m\n\u001b[1;32m   2960\u001b[0m                         \u001b[0mfilternorm\u001b[0m\u001b[0;34m=\u001b[0m\u001b[0mfilternorm\u001b[0m\u001b[0;34m,\u001b[0m \u001b[0mfilterrad\u001b[0m\u001b[0;34m=\u001b[0m\u001b[0mfilterrad\u001b[0m\u001b[0;34m,\u001b[0m\u001b[0;34m\u001b[0m\u001b[0m\n\u001b[0;32m-> 2961\u001b[0;31m                         imlim=imlim, resample=resample, url=url, **kwargs)\n\u001b[0m\u001b[1;32m   2962\u001b[0m         \u001b[0mdraw_if_interactive\u001b[0m\u001b[0;34m(\u001b[0m\u001b[0;34m)\u001b[0m\u001b[0;34m\u001b[0m\u001b[0m\n\u001b[1;32m   2963\u001b[0m     \u001b[0;32mfinally\u001b[0m\u001b[0;34m:\u001b[0m\u001b[0;34m\u001b[0m\u001b[0m\n",
      "\u001b[0;32m/Users/peterwinter/.pyenv/versions/anaconda3-2.3.0/lib/python3.4/site-packages/matplotlib/axes/_axes.py\u001b[0m in \u001b[0;36mimshow\u001b[0;34m(self, X, cmap, norm, aspect, interpolation, alpha, vmin, vmax, origin, extent, shape, filternorm, filterrad, imlim, resample, url, **kwargs)\u001b[0m\n\u001b[1;32m   4642\u001b[0m                        filterrad=filterrad, resample=resample, **kwargs)\n\u001b[1;32m   4643\u001b[0m \u001b[0;34m\u001b[0m\u001b[0m\n\u001b[0;32m-> 4644\u001b[0;31m         \u001b[0mim\u001b[0m\u001b[0;34m.\u001b[0m\u001b[0mset_data\u001b[0m\u001b[0;34m(\u001b[0m\u001b[0mX\u001b[0m\u001b[0;34m)\u001b[0m\u001b[0;34m\u001b[0m\u001b[0m\n\u001b[0m\u001b[1;32m   4645\u001b[0m         \u001b[0mim\u001b[0m\u001b[0;34m.\u001b[0m\u001b[0mset_alpha\u001b[0m\u001b[0;34m(\u001b[0m\u001b[0malpha\u001b[0m\u001b[0;34m)\u001b[0m\u001b[0;34m\u001b[0m\u001b[0m\n\u001b[1;32m   4646\u001b[0m         \u001b[0;32mif\u001b[0m \u001b[0mim\u001b[0m\u001b[0;34m.\u001b[0m\u001b[0mget_clip_path\u001b[0m\u001b[0;34m(\u001b[0m\u001b[0;34m)\u001b[0m \u001b[0;32mis\u001b[0m \u001b[0;32mNone\u001b[0m\u001b[0;34m:\u001b[0m\u001b[0;34m\u001b[0m\u001b[0m\n",
      "\u001b[0;32m/Users/peterwinter/.pyenv/versions/anaconda3-2.3.0/lib/python3.4/site-packages/matplotlib/image.py\u001b[0m in \u001b[0;36mset_data\u001b[0;34m(self, A)\u001b[0m\n\u001b[1;32m    432\u001b[0m         if (self._A.dtype != np.uint8 and\n\u001b[1;32m    433\u001b[0m             not np.can_cast(self._A.dtype, np.float)):\n\u001b[0;32m--> 434\u001b[0;31m             \u001b[0;32mraise\u001b[0m \u001b[0mTypeError\u001b[0m\u001b[0;34m(\u001b[0m\u001b[0;34m\"Image data can not convert to float\"\u001b[0m\u001b[0;34m)\u001b[0m\u001b[0;34m\u001b[0m\u001b[0m\n\u001b[0m\u001b[1;32m    435\u001b[0m \u001b[0;34m\u001b[0m\u001b[0m\n\u001b[1;32m    436\u001b[0m         if (self._A.ndim not in (2, 3) or\n",
      "\u001b[0;31mTypeError\u001b[0m: Image data can not convert to float"
     ]
    },
    {
     "data": {
      "image/png": "[encoded data removed]",
      "text/plain": [
       "<matplotlib.figure.Figure at 0x10ddb4438>"
      ]
     },
     "metadata": {},
     "output_type": "display_data"
    }
   ],
   "source": [
    "images[0]"
   ]
  },
  {
   "cell_type": "markdown",
   "metadata": {},
   "source": [
    "## Script used for Scraping Picasso Paintings\n",
    "### Remove later"
   ]
  },
  {
   "cell_type": "code",
   "execution_count": 171,
   "metadata": {
    "collapsed": false
   },
   "outputs": [],
   "source": [
    "import re\n",
    "\n",
    "import requests\n",
    "\n",
    "# Beautiful Soup version 4.x\n",
    "import bs4\n",
    "import urllib\n",
    "# ipython notebook-specific library to display images and other media inline\n",
    "from IPython.display import display, Image\n",
    "\n",
    "# ipython notebook-specific library to render HTML code\n",
    "from IPython.display import HTML"
   ]
  },
  {
   "cell_type": "code",
   "execution_count": 167,
   "metadata": {
    "collapsed": false,
    "scrolled": true
   },
   "outputs": [
    {
     "name": "stdout",
     "output_type": "stream",
     "text": [
      "15 links\n",
      "['/P/picasso/picasso164.html', '/P/picasso/picasso169.html', '/P/picasso/picasso70.html', '/P/picasso/picasso165.html', '/P/picasso/picasso167.html', '/P/picasso/picasso162.html', '/P/picasso/picasso212.html', '/P/picasso/picasso208.html', '/P/picasso/picasso170.html', '/P/picasso/picasso213.html', '/P/picasso/picasso65.html', '/P/picasso/picasso163.html', '/P/picasso/picasso64.html', '/P/picasso/picasso168.html', '/P/picasso/picasso216.html']\n",
      "/P/picasso/picasso164.html\n",
      "http://www.abcgallery.com//P/picasso/picasso164.JPG\n",
      " Oil-Jacqueline_de_Vauvenargues.-1.jpg\n",
      "/Users/peterwinter/Code/bootcamp/Data/Paintings/ Oil-Jacqueline_de_Vauvenargues.-1.jpg\n",
      "/P/picasso/picasso164.html done\n",
      "/P/picasso/picasso169.html\n",
      "http://www.abcgallery.com//P/picasso/picasso169.JPG\n",
      "1960-Portrait_of_a_Sitting_Woman.-2.jpg\n",
      "/Users/peterwinter/Code/bootcamp/Data/Paintings/1960-Portrait_of_a_Sitting_Woman.-2.jpg\n",
      "/P/picasso/picasso169.html done\n",
      "/P/picasso/picasso70.html\n",
      "http://www.abcgallery.com//P/picasso/picasso70.JPG\n",
      "1972-Self-Portrait.-3.jpg\n",
      "/Users/peterwinter/Code/bootcamp/Data/Paintings/1972-Self-Portrait.-3.jpg\n",
      "/P/picasso/picasso70.html done\n",
      "/P/picasso/picasso165.html\n",
      "http://www.abcgallery.com//P/picasso/picasso165.JPG\n",
      "Oil -Vauvenargues.-4.jpg\n",
      "/Users/peterwinter/Code/bootcamp/Data/Paintings/Oil -Vauvenargues.-4.jpg\n",
      "/P/picasso/picasso165.html done\n",
      "/P/picasso/picasso167.html\n",
      "http://www.abcgallery.com//P/picasso/picasso167.JPG\n",
      " Oil-Lunch_on_the_Grass.-5.jpg\n",
      "/Users/peterwinter/Code/bootcamp/Data/Paintings/ Oil-Lunch_on_the_Grass.-5.jpg\n",
      "/P/picasso/picasso167.html done\n",
      "/P/picasso/picasso162.html\n",
      "http://www.abcgallery.com//P/picasso/picasso162.JPG\n",
      "1960-Nude_Queen_of_the_Amazons__with_Servant.-6.jpg\n",
      "/Users/peterwinter/Code/bootcamp/Data/Paintings/1960-Nude_Queen_of_the_Amazons__with_Servant.-6.jpg\n",
      "/P/picasso/picasso162.html done\n",
      "/P/picasso/picasso212.html\n",
      "http://www.abcgallery.com//P/picasso/picasso212.JPG\n",
      "1961-Luncheon_on_the_Grass._After_Manet.-7.jpg\n",
      "/Users/peterwinter/Code/bootcamp/Data/Paintings/1961-Luncheon_on_the_Grass._After_Manet.-7.jpg\n",
      "/P/picasso/picasso212.html done\n",
      "/P/picasso/picasso208.html\n",
      "http://www.abcgallery.com//P/picasso/picasso208.JPG\n",
      "1968-Cavalier_with_Pipe.-8.jpg\n",
      "/Users/peterwinter/Code/bootcamp/Data/Paintings/1968-Cavalier_with_Pipe.-8.jpg\n",
      "/P/picasso/picasso208.html done\n",
      "/P/picasso/picasso170.html\n",
      "http://www.abcgallery.com//P/picasso/picasso170.JPG\n",
      "1971-Portrait_of_Man_in_a_Hat.-9.jpg\n",
      "/Users/peterwinter/Code/bootcamp/Data/Paintings/1971-Portrait_of_Man_in_a_Hat.-9.jpg\n",
      "/P/picasso/picasso170.html done\n",
      "/P/picasso/picasso213.html\n",
      "http://www.abcgallery.com//P/picasso/picasso213.JPG\n",
      "1968-Female_Nude_and_Smoker.-10.jpg\n",
      "/Users/peterwinter/Code/bootcamp/Data/Paintings/1968-Female_Nude_and_Smoker.-10.jpg\n",
      "/P/picasso/picasso213.html done\n",
      "/P/picasso/picasso65.html\n",
      "http://www.abcgallery.com//P/picasso/picasso65.JPG\n",
      "1962-The_Rape_of_the_Sabine_Women.-11.jpg\n",
      "/Users/peterwinter/Code/bootcamp/Data/Paintings/1962-The_Rape_of_the_Sabine_Women.-11.jpg\n",
      "/P/picasso/picasso65.html done\n",
      "/P/picasso/picasso163.html\n",
      "http://www.abcgallery.com//P/picasso/picasso163.JPG\n",
      "1960-Jacqueline.-12.jpg\n",
      "/Users/peterwinter/Code/bootcamp/Data/Paintings/1960-Jacqueline.-12.jpg\n",
      "/P/picasso/picasso163.html done\n",
      "/P/picasso/picasso64.html\n",
      "http://www.abcgallery.com//P/picasso/picasso64.JPG\n",
      "1969-The_Kiss.-13.jpg\n",
      "/Users/peterwinter/Code/bootcamp/Data/Paintings/1969-The_Kiss.-13.jpg\n",
      "/P/picasso/picasso64.html done\n",
      "/P/picasso/picasso168.html\n",
      "http://www.abcgallery.com//P/picasso/picasso168.JPG\n",
      "Oil -El_Bobo.-14.jpg\n",
      "/Users/peterwinter/Code/bootcamp/Data/Paintings/Oil -El_Bobo.-14.jpg\n",
      "/P/picasso/picasso168.html done\n",
      "/P/picasso/picasso216.html\n",
      "http://www.abcgallery.com//P/picasso/picasso216.JPG\n",
      "1969-Rembrandt_Figure_and_Eros.-15.jpg\n",
      "/Users/peterwinter/Code/bootcamp/Data/Paintings/1969-Rembrandt_Figure_and_Eros.-15.jpg\n",
      "/P/picasso/picasso216.html done\n",
      "[]\n"
     ]
    }
   ],
   "source": [
    "def grab_img(extn, i=0):\n",
    "    base_page = 'http://www.abcgallery.com/'\n",
    "    savedir = '/Users/peterwinter/Code/bootcamp/Data/Paintings/'\n",
    "    \n",
    "    r2 = requests.get(base_page + extn)\n",
    "    soup2 = bs4.BeautifulSoup(r2.content)\n",
    "    \n",
    "    # grab info\n",
    "    p = soup2.find('p').text\n",
    "    author, title, description = p.split('\\n')\n",
    "    year = description[:4]\n",
    "    \n",
    "\n",
    "    \n",
    "    extn2 = extn.replace('html', 'JPG')\n",
    "    print(base_page + extn2)\n",
    "    r = requests.get(base_page + extn2, stream=True)\n",
    "    \n",
    "    title = title.strip().replace(' ', '_')\n",
    "    savename = '{y}-{t}-{i}.jpg'.format(y=year, t=title, i=i)\n",
    "    i = i+1\n",
    "    print(savename)\n",
    "    path = savedir + savename\n",
    "    path = path.replace('..', '.')\n",
    "    print(path)\n",
    "    \n",
    "    if r.status_code == 200:\n",
    "        with open(path, 'wb') as f:\n",
    "            r.raw.decode_content = True\n",
    "            shutil.copyfileobj(r.raw, f)    \n",
    "    else:\n",
    "        print(r.status_code)\n",
    "    return i\n",
    "\n",
    "# extn = 'P/picasso/picasso72.html'\n",
    "# grab_img(extn)\n",
    "# #data = grab_img\n",
    "\n",
    "def download_all_links(links):\n",
    "    missing_links = []\n",
    "    links_to_do = list(set(links) - set(done_links))\n",
    "    i = 0\n",
    "    for link in links_to_do:\n",
    "        print(link)\n",
    "        i += 1\n",
    "        try:\n",
    "            grab_img(extn=link, i=i)\n",
    "            done_links.append(link)\n",
    "            print(link, 'done')\n",
    "        except:\n",
    "            print('missed:\\n', link)\n",
    "            missing_links.append(link)\n",
    "    return missing_links\n",
    "\n",
    "def grab_page(page):\n",
    "    r = requests.get(page)\n",
    "    soup = bs4.BeautifulSoup(r.content)\n",
    "\n",
    "    links = soup.findAll('a')\n",
    "    #print(links)\n",
    "    paintings = []\n",
    "    for l in links:\n",
    "        attrs = l.attrs\n",
    "        if 'title' in attrs:\n",
    "            title = attrs['title']\n",
    "            if 'Pablo Picasso.' in title:\n",
    "                title = title.split('Pablo Picasso.')[1].strip()\n",
    "                paintings.append({'href':attrs['href'], 'title':title})\n",
    "    link_df = pd.DataFrame(paintings)\n",
    "    links = list(set(list(link_df['href'])))\n",
    "    print(len(links), 'links')\n",
    "    print(links)\n",
    "    done_links = [] #'P/picasso/picasso72.html']\n",
    "    missing = download_all_links(links)\n",
    "    print(missing)\n",
    "    \n",
    "page = 'http://www.abcgallery.com/P/picasso/picasso-8.html'\n",
    "grab_page(page)"
   ]
  }
 ],
 "metadata": {
  "kernelspec": {
   "display_name": "Python 3",
   "language": "python",
   "name": "python3"
  },
  "language_info": {
   "codemirror_mode": {
    "name": "ipython",
    "version": 3
   },
   "file_extension": ".py",
   "mimetype": "text/x-python",
   "name": "python",
   "nbconvert_exporter": "python",
   "pygments_lexer": "ipython3",
   "version": "3.4.3"
  }
 },
 "nbformat": 4,
 "nbformat_minor": 0
}
