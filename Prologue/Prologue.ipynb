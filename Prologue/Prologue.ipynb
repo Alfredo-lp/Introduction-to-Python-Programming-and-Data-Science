{
 "cells": [
  {
   "cell_type": "markdown",
   "metadata": {},
   "source": [
    "#Introduction to Python Programming and Data Science\n",
    "\n",
    "##First of all, Welcome!\n",
    "\n",
    "Learning how to program and conduct data analysis is an invaluable skill to have in our current knowledge-based economy. However, taking those first steps can be difficult and this tutorial aims to provide novices with the foundational knowledge and skills necessary to pursue data analysis and programming. As we go, don't forget to congratulate yourself for taking the first step!"
   ]
  },
  {
   "cell_type": "markdown",
   "metadata": {},
   "source": [
    "##So why are you doing making this guide when *blank* resource exists?\n",
    "\n",
    "Currently, there are a number of tools and websites that are directed at helping people learn the basics of programming in a specific language. Some of these are (in no particular order):\n",
    "\n",
    "* [Code Academy](http://www.codecademy.com)\n",
    "* [Treehouse](https://teamtreehouse.com)\n",
    "* and many more which are listed helpfully by [Inc.](http://www.inc.com/larry-kim/9-places-you-can-learn-how-to-code-for-free.html)\n",
    "\n",
    "There are a number of different teaching models and some approaches work better for some individuals than others. Personally, I think that many of the listed sites (such as Code Academy) are an excellent **supplemental** resource to the guide that we are providing.\n",
    "\n",
    "However, we've made this course for three primary reasons:\n",
    "\n",
    "1. **Programming in a web browser isn't your computer.** As researchers we take on new students regularly and we found that while students would spend many hours learning how to program through an online program they struggled to transition to programming outside of the special environment that these sites provide. Unfortunately, this is where real programming and data analysis happens: your computer with your data. We've designed this course to help students understand the basics of the Internet Machines that we use everyday and how to use their own computers to write and execute programs.\n",
    "\n",
    "2. **Most tutorials teach only programming or data analysis and assume that students have knowledge of one or the other.** We wanted to create a single tutorial, that had a roughly linear track so that students could follow along from beginning to end. We hope that through building on the same initial examples throughout the course that your understanding of how to program, and more specifically that there's multiple ways to approach the same problem, will be greatly improved.\n",
    "\n",
    "3. **Reinventing the wheel is cool.** Enough said, right? But really we wanted to create a course that was open source and freely available for others to use and improve so that everyone can benefit. Didn't know that you could use these tutorials to host your own bootcamp? You can! Just check the [License](../LICENSE.md) requirements.\n",
    "   \n",
    "These course materials are primarily used in our bootcamps at Northwestern University but we hope that they help in your self-directed learning."
   ]
  },
  {
   "cell_type": "markdown",
   "metadata": {},
   "source": [
    "#Installation and Preparation\n",
    "\n",
    "We will need to install Python to so that you can work with the class. If you're viewing this notebook on your computer then you've already done that. Congratulations!!\n",
    "\n",
    "If you're instead viewing this notebook at Github or through nbviewer website, then you'll need to install Python to use the downloaded course materials. For this course we decided to use Python version 3.4, which is a relatively current version. There are some differences between Python version 3 and Python version 2, so it is **extremely** important that you have the correct version downloaded.\n",
    "\n",
    "For this course we will use the Anaconda distribution of Python 3.4. Anaconda helpfully installs not only Python, but also a number of additional packages that we will use in this course and are a great boon to productivity.\n",
    "\n",
    "We have a YouTube video that details the installation on Windows 8"
   ]
  },
  {
   "cell_type": "code",
   "execution_count": 2,
   "metadata": {
    "collapsed": false
   },
   "outputs": [
    {
     "ename": "NameError",
     "evalue": "name 'YouTubeVideo' is not defined",
     "output_type": "error",
     "traceback": [
      "\u001b[1;31m---------------------------------------------------------------------------\u001b[0m",
      "\u001b[1;31mNameError\u001b[0m                                 Traceback (most recent call last)",
      "\u001b[1;32m<ipython-input-2-7704f1e46879>\u001b[0m in \u001b[0;36m<module>\u001b[1;34m()\u001b[0m\n\u001b[1;32m----> 1\u001b[1;33m \u001b[0mYouTubeVideo\u001b[0m\u001b[1;33m(\u001b[0m\u001b[1;34m'w16iUU6IA5E'\u001b[0m\u001b[1;33m)\u001b[0m\u001b[1;33m\u001b[0m\u001b[0m\n\u001b[0m",
      "\u001b[1;31mNameError\u001b[0m: name 'YouTubeVideo' is not defined"
     ]
    }
   ],
   "source": [
    "YouTubeVideo('w16iUU6IA5E')"
   ]
  },
  {
   "cell_type": "markdown",
   "metadata": {},
   "source": [
    "We also have a YouTube video that details installation on OS X 10.10"
   ]
  },
  {
   "cell_type": "code",
   "execution_count": null,
   "metadata": {
    "collapsed": false
   },
   "outputs": [],
   "source": [
    "YouTubeVideo('UQhOyZXHkxI')"
   ]
  },
  {
   "cell_type": "markdown",
   "metadata": {},
   "source": [
    "#Course Syllabus\n",
    "\n",
    "This course is broken up into several modules with each module having a set of IPython notebooks to help teach concepts.\n",
    "\n",
    "\n",
    "\n",
    "##Basics (Day 1)\n",
    "0. [IPython Notebook Introduction](../Python-Basics/IPython-Notebook-Introduction.ipynb)\n",
    "1. [Basic Data Types](../Python-Basics/Data-Types.ipynb)\n",
    "2. [Collection Types](../Python-Basics/Collection-Types.ipynb)\n",
    "3. [Flow Control and Errors](../Python-Basics/Flow-Control.ipynb)\n",
    "4. [Section Review](../Python-Basics/Day1-Review.ipynb)\n",
    "5. [Day 1 Homework](../Homeworks/Day1-Homework.ipynb)\n",
    "\n",
    "\n",
    "##Files and Functions (Day 2)\n",
    "3. [File I/O](../Python-Basics/File-IO.ipynb)\n",
    "1. [Functions](../Advanced-Programming/Functions.ipynb)\n",
    "4. [Review](../Advanced-Programming/Day2-Review.ipynb)\n",
    "4. [Day 2 Homework](../Homeworks/Day2-Homework.ipynb)\n",
    "\n",
    "##Imports, Plots, and Bringing it together (Day 3)\n",
    "4. [The Python Standard Library](../Python-Basics/Standard-Library.ipynb)\n",
    "5. [Data Visualization](../Python-Basics/Data-Visualization.ipynb)\n",
    "6. [Programming Review](../Python-Basics/Day3-Concepts-Review.ipynb)\n",
    "6. [Day 3 Homework](../Homeworks/Day3-Homework.ipynb)\n",
    "\n",
    "##Mini-Project and Image Analysis (Day 4)\n",
    "1. [Mini-Project](../Python-Basics/Day4-Mini-Project.ipynb)\n",
    "2. [Image Analysis](../Projects/Image-Analysis.ipynb)\n",
    "3. [Day 4 Homework](../Homeworks/Day4-Homework.ipynb)\n",
    "\n",
    "##Web Scraping (Day 5)\n",
    "1. [Web scraping](../Special-Topics/Web-Scraping.ipynb)\n",
    "2. [Day 5 Homework](../Homeworks/Day5-Homework.ipynb)\n",
    "\n",
    "##Textual Analysis (Day 6)\n",
    "2. [Regular expressions](../Special-Topics/Regular-Expressions.ipynb)\n",
    "3. [re Exercise](../Special-Topics/Regular-Expressions-Exercises.ipynb)\n",
    "4. [Day 6 Homework](../Homeworks/Day6-Homework.ipynb)\n",
    "\n",
    "##Structured Data Analysis (Day 7)\n",
    "1. [Pandas Introduction](../Special-Topics/Pandas.ipynb)\n",
    "2. [Data Analysis in Pandas](../Special-Topics/Regressions.ipynb)\n",
    "2. [Dates, Rates, and Gains. Oh my!](../Special-Topics/Datetime-With-Stocks.ipynb)\n",
    "3. [Day 7 Homework](../Homeworks/Day7-Homework.ipynb)"
   ]
  },
  {
   "cell_type": "markdown",
   "metadata": {},
   "source": [
    "#Additional Course Modules\n",
    "\n",
    "These are additional modules that we have coded while we have developed the bootcamp. Many are in a rough shape and lean heavily on in-class instruction but we include them for those thirsty to look at additional topics.\n",
    "\n",
    "##Advanced Programming\n",
    "2. [Algorithms](../Advanced-Programming/Algorithms.ipynb)\n",
    "3. [Classes](../Advanced-Programming/Classes.ipynb)\n",
    "\n",
    "##Statistical Programming\n",
    "1. [Descriptive Statistics](../Statistical-Programming/Descriptive-Statistics.ipynb)\n",
    "2. [Inferential Statistics](../Statistical-Programming/Inferential-Statistics.ipynb)\n",
    "3. [Monte Carlo Methods](../Statistical-Programming/Monte-Carlo-Methods.ipynb)\n",
    "\n",
    "##Special Topics\n",
    "* [Matrices and numerical computation (NumPy)](../Special-Topics/Numpy.ipynb)\n",
    "* [Structured data analysis (Pandas)](../Special-Topics/Pandas.ipynb)\n",
    "* [Network analysis (NetworkX)](../Special-Topics/NetworkX.ipynb)\n",
    "\n",
    "* [Machine Learning (Scikit-Learn)](../Special-Topics/Scikit-Learn.ipynb)\n",
    "* [Linear Regression (Statsmodels)](../Special-Topics/Statsmodels.ipynb)\n",
    "\n",
    "##Projects\n",
    "* [Textual analysis of emails from Jeb Bush](../Projects/Emails.ipynb)\n",
    "* [Analysis of song lyrics](../Projects/Lyrics.ipynb)\n",
    "* [Credit Delinquency](../Projects/Credit-Delinquency.ipynb)"
   ]
  },
  {
   "cell_type": "code",
   "execution_count": 1,
   "metadata": {
    "collapsed": false
   },
   "outputs": [
    {
     "data": {
      "text/html": [
       "<style>\n",
       "    @font-face {\n",
       "        font-family: \"Computer Modern\";\n",
       "        src: url('http://9dbb143991406a7c655e-aa5fcb0a5a4ec34cff238a2d56ca4144.r56.cf5.rackcdn.com/cmunss.otf');\n",
       "    }\n",
       "    @font-face {\n",
       "        font-family: \"Computer Modern\";\n",
       "        font-weight: bold;\n",
       "        src: url('http://9dbb143991406a7c655e-aa5fcb0a5a4ec34cff238a2d56ca4144.r56.cf5.rackcdn.com/cmunsx.otf');\n",
       "    }\n",
       "    @font-face {\n",
       "        font-family: \"Computer Modern\";\n",
       "        font-style: oblique;\n",
       "        src: url('http://9dbb143991406a7c655e-aa5fcb0a5a4ec34cff238a2d56ca4144.r56.cf5.rackcdn.com/cmunsi.otf');\n",
       "    }\n",
       "    @font-face {\n",
       "        font-family: \"Computer Modern\";\n",
       "        font-weight: bold;\n",
       "        font-style: oblique;\n",
       "        src: url('http://9dbb143991406a7c655e-aa5fcb0a5a4ec34cff238a2d56ca4144.r56.cf5.rackcdn.com/cmunso.otf');\n",
       "    }\n",
       "    div.cell{\n",
       "        width:800px;\n",
       "        margin-left:16% !important;\n",
       "        margin-right:auto;\n",
       "    }\n",
       "    h1 {\n",
       "        font-family: Helvetica, serif;\n",
       "    }\n",
       "    h4{\n",
       "        margin-top:12px;\n",
       "        margin-bottom: 3px;\n",
       "       }\n",
       "    div.text_cell_render{\n",
       "        font-family: Computer Modern, \"Helvetica Neue\", Arial, Helvetica, Geneva, sans-serif;\n",
       "        line-height: 145%;\n",
       "        font-size: 130%;\n",
       "        width:800px;\n",
       "        margin-left:auto;\n",
       "        margin-right:auto;\n",
       "    }\n",
       "    .CodeMirror{\n",
       "            font-family: \"Source Code Pro\", source-code-pro,Consolas, monospace;\n",
       "    }\n",
       "    .text_cell_render h5 {\n",
       "        font-weight: 300;\n",
       "        font-size: 22pt;\n",
       "        color: #4057A1;\n",
       "        font-style: italic;\n",
       "        margin-bottom: .5em;\n",
       "        margin-top: 0.5em;\n",
       "        display: block;\n",
       "    }\n",
       "    \n",
       "    .warning{\n",
       "        color: rgb( 240, 20, 20 )\n",
       "        }  \n",
       "</style>\n",
       "<script>\n",
       "    MathJax.Hub.Config({\n",
       "                        TeX: {\n",
       "                           extensions: [\"AMSmath.js\"]\n",
       "                           },\n",
       "                tex2jax: {\n",
       "                    inlineMath: [ ['$','$'], [\"\\\\(\",\"\\\\)\"] ],\n",
       "                    displayMath: [ ['$$','$$'], [\"\\\\[\",\"\\\\]\"] ]\n",
       "                },\n",
       "                displayAlign: 'center', // Change this to 'center' to center equations.\n",
       "                \"HTML-CSS\": {\n",
       "                    styles: {'.MathJax_Display': {\"margin\": 4}}\n",
       "                }\n",
       "        });\n",
       "</script>\n"
      ],
      "text/plain": [
       "<IPython.core.display.HTML object>"
      ]
     },
     "execution_count": 1,
     "metadata": {},
     "output_type": "execute_result"
    }
   ],
   "source": [
    "from IPython.core.display import HTML\n",
    "from IPython.lib.display import YouTubeVideo\n",
    "\n",
    "\n",
    "def css_styling():\n",
    "    styles = open(\"../styles/custom.css\", \"r\").read()\n",
    "    return HTML(styles)\n",
    "css_styling()"
   ]
  },
  {
   "cell_type": "code",
   "execution_count": null,
   "metadata": {
    "collapsed": false
   },
   "outputs": [],
   "source": []
  }
 ],
 "metadata": {
  "kernelspec": {
   "display_name": "Python 3",
   "language": "python",
   "name": "python3"
  },
  "language_info": {
   "codemirror_mode": {
    "name": "ipython",
    "version": 3
   },
   "file_extension": ".py",
   "mimetype": "text/x-python",
   "name": "python",
   "nbconvert_exporter": "python",
   "pygments_lexer": "ipython3",
   "version": "3.4.3"
  }
 },
 "nbformat": 4,
 "nbformat_minor": 0
}
