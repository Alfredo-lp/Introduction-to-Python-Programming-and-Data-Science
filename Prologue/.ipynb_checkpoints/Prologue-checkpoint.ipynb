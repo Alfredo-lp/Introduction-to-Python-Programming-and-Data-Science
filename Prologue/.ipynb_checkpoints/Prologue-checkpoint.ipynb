{
 "metadata": {
  "name": "",
  "signature": "sha256:adaa8948f4c7029fb8966211ba24a82761c7410c1599bb6b77bd859aa8826a92"
 },
 "nbformat": 3,
 "nbformat_minor": 0,
 "worksheets": [
  {
   "cells": [
    {
     "cell_type": "markdown",
     "metadata": {},
     "source": [
      "#Introduction to Python Programming and Data Science\n",
      "\n",
      "##First of all, Welcome!\n",
      "\n",
      "Learning how to program and conduct data analysis is an invaluable skill to have in our current knowledge-based economy. However, taking those first steps can be difficult and this tutorial aims to provide novices with the foundational knowledge and skills necessary to pursue data analysis and programming. As we go, don't forget to congratulate yourself for taking the first step!"
     ]
    },
    {
     "cell_type": "markdown",
     "metadata": {},
     "source": [
      "##So why are you doing making this guide when *blank* resource exists?\n",
      "\n",
      "Currently, there are a number of tools and websites that are directed at helping people learn the basics of programming in a specific language. Some of these are (in no particular order):\n",
      "\n",
      "* [Code Academy](http://www.codecademy.com)\n",
      "* [Treehouse](https://teamtreehouse.com)\n",
      "* and many more which are listed helpfully by [Inc.](http://www.inc.com/larry-kim/9-places-you-can-learn-how-to-code-for-free.html)\n",
      "\n",
      "There are a number of different teaching models and some approaches work better for some individuals than others. Personally, I think that many of the listed sites (such as Code Academy) are an excellent **supplemental** resource to the guide that we are providing.\n",
      "\n",
      "However, we've made this course for three primary reasons:\n",
      "\n",
      "1. **Programming in a web browser isn't your computer.** As researchers we take on new students regularly and we found that while students would spend many hours learning how to program through an online program they struggled to transition to programming outside of the web browser. Unfortunately, this is where real programming and data analysis happens: your computer with your data. We've designed this course to help students understand the basics of the Internet Machines that we use everyday and how to use their own computers to write and execute programs.\n",
      "\n",
      "2. **Most tutorials teach only programming or data analysis and assume that students have knowledge of one or the other.** We wanted to create a single tutorial, that had a roughly linear track so that students could follow along from beginning to end. We hope that through building on the same initial examples throughout the course that your understanding of how to program, and more specifically that there's multiple ways to approach the same problem, will be greatly improved.\n",
      "\n",
      "3. **Reinventing the wheel is cool.** Enough said, right? But really we wanted to create a course that was open source and freely available for others to use and improve so that everyone can benefit. Didn't know that you could use these tutorials to host your own bootcamp? You can! Just check the [License](../LICENSE.md) requirements.\n",
      "   \n",
      "These course materials are primarily used as the course material in our bootcamps at Northwestern University but we hope that they help in your self-directed learning."
     ]
    },
    {
     "cell_type": "markdown",
     "metadata": {},
     "source": [
      "##Why Python?\n",
      "\n",
      "Because we love it :) and this:\n",
      "\n",
      "![xkcd](http://imgs.xkcd.com/comics/python.png)\n",
      "\n",
      "But more seriously, there are a number of languages that you can pick to learn. The first one is important because you really just want to get over the hump of learning how to program for the first time. Once you learn one language well, it becomes much easier to learn others and expand too!\n",
      "\n",
      "We chose Python primarily because:\n",
      "\n",
      "* It's an extremely readable langauge, making it easier for beginners to debug.\n",
      "* It's syntactically pretty simple, this means that you can focus less on learning punctuation and syntax and more on the code *meaning*.\n",
      "* It's a full programming language. Once we enter into the realm of data science and analysis many of you will ask why we don't use a statistical programming language. The reason is that not everyone needs to data analysis and there are a number of uses for a programming language (such as moving and renaming files that an experimental instrument generates) that students may encounter. Python is excellent as *programming glue* and making a single pipeline out of separate software packages.\n",
      "\n",
      "There also other benefits, like its rapid adoption in the workplace and its robust community of additional packages, but those three really stand out for beginners.\n",
      "\n",
      "\n",
      "For a bit more of an explanation on why we want to use Python you can view this slideshow."
     ]
    },
    {
     "cell_type": "code",
     "collapsed": false,
     "input": [
      "HTML(data='<iframe src=\"https://www.slideshare.net/slideshow/embed_code/key/xkJzW3HnhojF5H\" width=\"800\" height=\"600\" frameborder=\"0\" marginwidth=\"0\" marginheight=\"0\" scrolling=\"no\"></iframe>')"
     ],
     "language": "python",
     "metadata": {},
     "outputs": [
      {
       "html": [
        "<iframe src=\"https://www.slideshare.net/slideshow/embed_code/key/xkJzW3HnhojF5H\" width=\"800\" height=\"600\" frameborder=\"0\" marginwidth=\"0\" marginheight=\"0\" scrolling=\"no\"></iframe>"
       ],
       "metadata": {},
       "output_type": "pyout",
       "prompt_number": 4,
       "text": [
        "<IPython.core.display.HTML at 0x103803828>"
       ]
      }
     ],
     "prompt_number": 4
    },
    {
     "cell_type": "markdown",
     "metadata": {},
     "source": [
      "#Course Syllabus\n",
      "\n",
      "This course is broken up into several modules with each module having a set of IPython notebooks to help teach concepts.\n",
      "\n",
      "##Computer Basics\n",
      "1. A history of computation\n",
      "2. The basics of the filesystem\n",
      "3. IPython Notebook Introduction\n",
      "4. The basics of `bash` in IPython notebooks\n",
      "\n",
      "##Python Basics \n",
      "1. Data Types\n",
      "2. Flow Control\n",
      "3. File I/O\n",
      "4. The Python Standard Library\n",
      "5. Data Visualization\n",
      "6. Classes\n",
      "\n",
      "##Statistical Programming\n",
      "1. Introduction to Descriptive Statistics\n",
      "2. Inferential Statistics\n",
      "3. Monte Carlo Methods\n",
      "\n",
      "##Special Topics\n",
      "1. Matrices and numerical computation (NumPy)\n",
      "2. Handling structured data (Pandas)\n",
      "3. Network analysis (NetworkX)\n",
      "4. Web scraping (BeautifulSoup)\n",
      "\n",
      "##Projects\n",
      "1. Textual analysis of emails from Jeb Bush\n",
      "2. Analysis of song lyrics\n",
      "3. How do demographic attributes affect weight-loss?"
     ]
    },
    {
     "cell_type": "code",
     "collapsed": false,
     "input": [],
     "language": "python",
     "metadata": {},
     "outputs": []
    },
    {
     "cell_type": "code",
     "collapsed": false,
     "input": [
      "from IPython.core.display import HTML\n",
      "\n",
      "\n",
      "def css_styling():\n",
      "    styles = open(\"../styles/custom.css\", \"r\").read()\n",
      "    return HTML(styles)\n",
      "css_styling()"
     ],
     "language": "python",
     "metadata": {},
     "outputs": [
      {
       "html": [
        "<style>\n",
        "    @font-face {\n",
        "        font-family: \"Computer Modern\";\n",
        "        src: url('http://9dbb143991406a7c655e-aa5fcb0a5a4ec34cff238a2d56ca4144.r56.cf5.rackcdn.com/cmunss.otf');\n",
        "    }\n",
        "    @font-face {\n",
        "        font-family: \"Computer Modern\";\n",
        "        font-weight: bold;\n",
        "        src: url('http://9dbb143991406a7c655e-aa5fcb0a5a4ec34cff238a2d56ca4144.r56.cf5.rackcdn.com/cmunsx.otf');\n",
        "    }\n",
        "    @font-face {\n",
        "        font-family: \"Computer Modern\";\n",
        "        font-style: oblique;\n",
        "        src: url('http://9dbb143991406a7c655e-aa5fcb0a5a4ec34cff238a2d56ca4144.r56.cf5.rackcdn.com/cmunsi.otf');\n",
        "    }\n",
        "    @font-face {\n",
        "        font-family: \"Computer Modern\";\n",
        "        font-weight: bold;\n",
        "        font-style: oblique;\n",
        "        src: url('http://9dbb143991406a7c655e-aa5fcb0a5a4ec34cff238a2d56ca4144.r56.cf5.rackcdn.com/cmunso.otf');\n",
        "    }\n",
        "    div.cell{\n",
        "        width:800px;\n",
        "        margin-left:16% !important;\n",
        "        margin-right:auto;\n",
        "    }\n",
        "    h1 {\n",
        "        font-family: Helvetica, serif;\n",
        "    }\n",
        "    h4{\n",
        "        margin-top:12px;\n",
        "        margin-bottom: 3px;\n",
        "       }\n",
        "    div.text_cell_render{\n",
        "        font-family: Computer Modern, \"Helvetica Neue\", Arial, Helvetica, Geneva, sans-serif;\n",
        "        line-height: 145%;\n",
        "        font-size: 130%;\n",
        "        width:800px;\n",
        "        margin-left:auto;\n",
        "        margin-right:auto;\n",
        "    }\n",
        "    .CodeMirror{\n",
        "            font-family: \"Source Code Pro\", source-code-pro,Consolas, monospace;\n",
        "    }\n",
        "    .prompt{\n",
        "        display: None;\n",
        "    }\n",
        "    .text_cell_render h5 {\n",
        "        font-weight: 300;\n",
        "        font-size: 22pt;\n",
        "        color: #4057A1;\n",
        "        font-style: italic;\n",
        "        margin-bottom: .5em;\n",
        "        margin-top: 0.5em;\n",
        "        display: block;\n",
        "    }\n",
        "    \n",
        "    .warning{\n",
        "        color: rgb( 240, 20, 20 )\n",
        "        }  \n",
        "</style>\n",
        "<script>\n",
        "    MathJax.Hub.Config({\n",
        "                        TeX: {\n",
        "                           extensions: [\"AMSmath.js\"]\n",
        "                           },\n",
        "                tex2jax: {\n",
        "                    inlineMath: [ ['$','$'], [\"\\\\(\",\"\\\\)\"] ],\n",
        "                    displayMath: [ ['$$','$$'], [\"\\\\[\",\"\\\\]\"] ]\n",
        "                },\n",
        "                displayAlign: 'center', // Change this to 'center' to center equations.\n",
        "                \"HTML-CSS\": {\n",
        "                    styles: {'.MathJax_Display': {\"margin\": 4}}\n",
        "                }\n",
        "        });\n",
        "</script>\n"
       ],
       "metadata": {},
       "output_type": "pyout",
       "prompt_number": 1,
       "text": [
        "<IPython.core.display.HTML at 0x1037f6550>"
       ]
      }
     ],
     "prompt_number": 1
    }
   ],
   "metadata": {}
  }
 ]
}